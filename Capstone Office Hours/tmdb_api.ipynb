{
 "cells": [
  {
   "cell_type": "markdown",
   "metadata": {},
   "source": [
    "# Extracting Movies with tmbd api\n"
   ]
  },
  {
   "cell_type": "markdown",
   "metadata": {
    "ExecuteTime": {
     "end_time": "2020-05-30T18:16:30.192199Z",
     "start_time": "2020-05-30T18:16:30.189768Z"
    }
   },
   "source": [
    "## References"
   ]
  },
  {
   "cell_type": "markdown",
   "metadata": {},
   "source": [
    "- Getting Started \n",
    "    - https://developers.themoviedb.org/3/getting-started/introduction"
   ]
  },
  {
   "cell_type": "markdown",
   "metadata": {},
   "source": [
    "- API info saved in ~/.secret/tmdg_api.json\n",
    "    - https://www.themoviedb.org/settings/api\n",
    "```python\n",
    "f\"https://api.themoviedb.org/3/movie/76341?api_key={api_key}\"\n",
    "```\n",
    "\n",
    "- How to authenticate?\n",
    "    - [Authentification](https://developers.themoviedb.org/3/getting-started/authentication)\n",
    "    - [Create auth token](https://developers.themoviedb.org/3/authentication/create-request-token)"
   ]
  },
  {
   "cell_type": "code",
   "execution_count": 37,
   "metadata": {
    "ExecuteTime": {
     "end_time": "2020-06-30T23:40:20.261330Z",
     "start_time": "2020-06-30T23:40:20.259010Z"
    }
   },
   "outputs": [],
   "source": [
    "import json\n",
    "import pandas as pd\n",
    "import requests\n",
    "\n"
   ]
  },
  {
   "cell_type": "code",
   "execution_count": 38,
   "metadata": {
    "ExecuteTime": {
     "end_time": "2020-06-30T23:40:20.818843Z",
     "start_time": "2020-06-30T23:40:20.816873Z"
    }
   },
   "outputs": [],
   "source": [
    "# df = pd.read_csv('movies_combined_tmdb_id_for_api.csv')\n",
    "# df"
   ]
  },
  {
   "cell_type": "code",
   "execution_count": 40,
   "metadata": {
    "ExecuteTime": {
     "end_time": "2020-06-30T23:40:27.936627Z",
     "start_time": "2020-06-30T23:40:27.828367Z"
    }
   },
   "outputs": [
    {
     "data": {
      "text/html": [
       "<div>\n",
       "<style scoped>\n",
       "    .dataframe tbody tr th:only-of-type {\n",
       "        vertical-align: middle;\n",
       "    }\n",
       "\n",
       "    .dataframe tbody tr th {\n",
       "        vertical-align: top;\n",
       "    }\n",
       "\n",
       "    .dataframe thead th {\n",
       "        text-align: right;\n",
       "    }\n",
       "</style>\n",
       "<table border=\"1\" class=\"dataframe\">\n",
       "  <thead>\n",
       "    <tr style=\"text-align: right;\">\n",
       "      <th></th>\n",
       "      <th>genre_ids</th>\n",
       "      <th>id</th>\n",
       "      <th>original_language</th>\n",
       "      <th>original_title</th>\n",
       "      <th>popularity</th>\n",
       "      <th>release_date</th>\n",
       "      <th>title</th>\n",
       "      <th>vote_average</th>\n",
       "      <th>vote_count</th>\n",
       "    </tr>\n",
       "  </thead>\n",
       "  <tbody>\n",
       "    <tr>\n",
       "      <td>0</td>\n",
       "      <td>[12, 14, 10751]</td>\n",
       "      <td>12444</td>\n",
       "      <td>en</td>\n",
       "      <td>Harry Potter and the Deathly Hallows: Part 1</td>\n",
       "      <td>33.533</td>\n",
       "      <td>2010-11-19</td>\n",
       "      <td>Harry Potter and the Deathly Hallows: Part 1</td>\n",
       "      <td>7.7</td>\n",
       "      <td>10788</td>\n",
       "    </tr>\n",
       "    <tr>\n",
       "      <td>1</td>\n",
       "      <td>[14, 12, 16, 10751]</td>\n",
       "      <td>10191</td>\n",
       "      <td>en</td>\n",
       "      <td>How to Train Your Dragon</td>\n",
       "      <td>28.734</td>\n",
       "      <td>2010-03-26</td>\n",
       "      <td>How to Train Your Dragon</td>\n",
       "      <td>7.7</td>\n",
       "      <td>7610</td>\n",
       "    </tr>\n",
       "    <tr>\n",
       "      <td>2</td>\n",
       "      <td>[12, 28, 878]</td>\n",
       "      <td>10138</td>\n",
       "      <td>en</td>\n",
       "      <td>Iron Man 2</td>\n",
       "      <td>28.515</td>\n",
       "      <td>2010-05-07</td>\n",
       "      <td>Iron Man 2</td>\n",
       "      <td>6.8</td>\n",
       "      <td>12368</td>\n",
       "    </tr>\n",
       "    <tr>\n",
       "      <td>3</td>\n",
       "      <td>[16, 35, 10751]</td>\n",
       "      <td>862</td>\n",
       "      <td>en</td>\n",
       "      <td>Toy Story</td>\n",
       "      <td>28.005</td>\n",
       "      <td>1995-11-22</td>\n",
       "      <td>Toy Story</td>\n",
       "      <td>7.9</td>\n",
       "      <td>10174</td>\n",
       "    </tr>\n",
       "    <tr>\n",
       "      <td>4</td>\n",
       "      <td>[28, 878, 12]</td>\n",
       "      <td>27205</td>\n",
       "      <td>en</td>\n",
       "      <td>Inception</td>\n",
       "      <td>27.920</td>\n",
       "      <td>2010-07-16</td>\n",
       "      <td>Inception</td>\n",
       "      <td>8.3</td>\n",
       "      <td>22186</td>\n",
       "    </tr>\n",
       "    <tr>\n",
       "      <td>...</td>\n",
       "      <td>...</td>\n",
       "      <td>...</td>\n",
       "      <td>...</td>\n",
       "      <td>...</td>\n",
       "      <td>...</td>\n",
       "      <td>...</td>\n",
       "      <td>...</td>\n",
       "      <td>...</td>\n",
       "      <td>...</td>\n",
       "    </tr>\n",
       "    <tr>\n",
       "      <td>26512</td>\n",
       "      <td>[27, 18]</td>\n",
       "      <td>488143</td>\n",
       "      <td>en</td>\n",
       "      <td>Laboratory Conditions</td>\n",
       "      <td>0.600</td>\n",
       "      <td>2018-10-13</td>\n",
       "      <td>Laboratory Conditions</td>\n",
       "      <td>0.0</td>\n",
       "      <td>1</td>\n",
       "    </tr>\n",
       "    <tr>\n",
       "      <td>26513</td>\n",
       "      <td>[18, 53]</td>\n",
       "      <td>485975</td>\n",
       "      <td>en</td>\n",
       "      <td>_EXHIBIT_84xxx_</td>\n",
       "      <td>0.600</td>\n",
       "      <td>2018-05-01</td>\n",
       "      <td>_EXHIBIT_84xxx_</td>\n",
       "      <td>0.0</td>\n",
       "      <td>1</td>\n",
       "    </tr>\n",
       "    <tr>\n",
       "      <td>26514</td>\n",
       "      <td>[14, 28, 12]</td>\n",
       "      <td>381231</td>\n",
       "      <td>en</td>\n",
       "      <td>The Last One</td>\n",
       "      <td>0.600</td>\n",
       "      <td>2018-10-01</td>\n",
       "      <td>The Last One</td>\n",
       "      <td>0.0</td>\n",
       "      <td>1</td>\n",
       "    </tr>\n",
       "    <tr>\n",
       "      <td>26515</td>\n",
       "      <td>[10751, 12, 28]</td>\n",
       "      <td>366854</td>\n",
       "      <td>en</td>\n",
       "      <td>Trailer Made</td>\n",
       "      <td>0.600</td>\n",
       "      <td>2018-06-22</td>\n",
       "      <td>Trailer Made</td>\n",
       "      <td>0.0</td>\n",
       "      <td>1</td>\n",
       "    </tr>\n",
       "    <tr>\n",
       "      <td>26516</td>\n",
       "      <td>[53, 27]</td>\n",
       "      <td>309885</td>\n",
       "      <td>en</td>\n",
       "      <td>The Church</td>\n",
       "      <td>0.600</td>\n",
       "      <td>2018-10-05</td>\n",
       "      <td>The Church</td>\n",
       "      <td>0.0</td>\n",
       "      <td>1</td>\n",
       "    </tr>\n",
       "  </tbody>\n",
       "</table>\n",
       "<p>26517 rows × 9 columns</p>\n",
       "</div>"
      ],
      "text/plain": [
       "                 genre_ids      id original_language  \\\n",
       "0          [12, 14, 10751]   12444                en   \n",
       "1      [14, 12, 16, 10751]   10191                en   \n",
       "2            [12, 28, 878]   10138                en   \n",
       "3          [16, 35, 10751]     862                en   \n",
       "4            [28, 878, 12]   27205                en   \n",
       "...                    ...     ...               ...   \n",
       "26512             [27, 18]  488143                en   \n",
       "26513             [18, 53]  485975                en   \n",
       "26514         [14, 28, 12]  381231                en   \n",
       "26515      [10751, 12, 28]  366854                en   \n",
       "26516             [53, 27]  309885                en   \n",
       "\n",
       "                                     original_title  popularity release_date  \\\n",
       "0      Harry Potter and the Deathly Hallows: Part 1      33.533   2010-11-19   \n",
       "1                          How to Train Your Dragon      28.734   2010-03-26   \n",
       "2                                        Iron Man 2      28.515   2010-05-07   \n",
       "3                                         Toy Story      28.005   1995-11-22   \n",
       "4                                         Inception      27.920   2010-07-16   \n",
       "...                                             ...         ...          ...   \n",
       "26512                         Laboratory Conditions       0.600   2018-10-13   \n",
       "26513                               _EXHIBIT_84xxx_       0.600   2018-05-01   \n",
       "26514                                  The Last One       0.600   2018-10-01   \n",
       "26515                                  Trailer Made       0.600   2018-06-22   \n",
       "26516                                    The Church       0.600   2018-10-05   \n",
       "\n",
       "                                              title  vote_average  vote_count  \n",
       "0      Harry Potter and the Deathly Hallows: Part 1           7.7       10788  \n",
       "1                          How to Train Your Dragon           7.7        7610  \n",
       "2                                        Iron Man 2           6.8       12368  \n",
       "3                                         Toy Story           7.9       10174  \n",
       "4                                         Inception           8.3       22186  \n",
       "...                                             ...           ...         ...  \n",
       "26512                         Laboratory Conditions           0.0           1  \n",
       "26513                               _EXHIBIT_84xxx_           0.0           1  \n",
       "26514                                  The Last One           0.0           1  \n",
       "26515                                  Trailer Made           0.0           1  \n",
       "26516                                    The Church           0.0           1  \n",
       "\n",
       "[26517 rows x 9 columns]"
      ]
     },
     "execution_count": 40,
     "metadata": {},
     "output_type": "execute_result"
    }
   ],
   "source": [
    "import os,glob\n",
    "dftm = pd.read_csv('tmdb.movies.csv.gz',index_col=0)\n",
    "dftm"
   ]
  },
  {
   "cell_type": "code",
   "execution_count": null,
   "metadata": {},
   "outputs": [],
   "source": []
  },
  {
   "cell_type": "code",
   "execution_count": 41,
   "metadata": {
    "ExecuteTime": {
     "end_time": "2020-06-30T23:42:28.707547Z",
     "start_time": "2020-06-30T23:42:28.665413Z"
    }
   },
   "outputs": [
    {
     "name": "stderr",
     "output_type": "stream",
     "text": [
      "/opt/anaconda3/envs/learn-env/lib/python3.6/site-packages/ipykernel_launcher.py:2: SettingWithCopyWarning: \n",
      "A value is trying to be set on a copy of a slice from a DataFrame.\n",
      "Try using .loc[row_indexer,col_indexer] = value instead\n",
      "\n",
      "See the caveats in the documentation: http://pandas.pydata.org/pandas-docs/stable/user_guide/indexing.html#returning-a-view-versus-a-copy\n",
      "  \n"
     ]
    },
    {
     "data": {
      "text/html": [
       "<div>\n",
       "<style scoped>\n",
       "    .dataframe tbody tr th:only-of-type {\n",
       "        vertical-align: middle;\n",
       "    }\n",
       "\n",
       "    .dataframe tbody tr th {\n",
       "        vertical-align: top;\n",
       "    }\n",
       "\n",
       "    .dataframe thead th {\n",
       "        text-align: right;\n",
       "    }\n",
       "</style>\n",
       "<table border=\"1\" class=\"dataframe\">\n",
       "  <thead>\n",
       "    <tr style=\"text-align: right;\">\n",
       "      <th></th>\n",
       "      <th>genre_ids</th>\n",
       "      <th>id</th>\n",
       "      <th>original_language</th>\n",
       "      <th>original_title</th>\n",
       "      <th>popularity</th>\n",
       "      <th>release_date</th>\n",
       "      <th>title</th>\n",
       "      <th>vote_average</th>\n",
       "      <th>vote_count</th>\n",
       "    </tr>\n",
       "  </thead>\n",
       "  <tbody>\n",
       "    <tr>\n",
       "      <td>0</td>\n",
       "      <td>[12, 14, 10751]</td>\n",
       "      <td>12444</td>\n",
       "      <td>en</td>\n",
       "      <td>Harry Potter and the Deathly Hallows: Part 1</td>\n",
       "      <td>33.533</td>\n",
       "      <td>2010-11-19</td>\n",
       "      <td>Harry Potter and the Deathly Hallows: Part 1</td>\n",
       "      <td>7.7</td>\n",
       "      <td>10788</td>\n",
       "    </tr>\n",
       "    <tr>\n",
       "      <td>1</td>\n",
       "      <td>[14, 12, 16, 10751]</td>\n",
       "      <td>10191</td>\n",
       "      <td>en</td>\n",
       "      <td>How to Train Your Dragon</td>\n",
       "      <td>28.734</td>\n",
       "      <td>2010-03-26</td>\n",
       "      <td>How to Train Your Dragon</td>\n",
       "      <td>7.7</td>\n",
       "      <td>7610</td>\n",
       "    </tr>\n",
       "    <tr>\n",
       "      <td>2</td>\n",
       "      <td>[12, 28, 878]</td>\n",
       "      <td>10138</td>\n",
       "      <td>en</td>\n",
       "      <td>Iron Man 2</td>\n",
       "      <td>28.515</td>\n",
       "      <td>2010-05-07</td>\n",
       "      <td>Iron Man 2</td>\n",
       "      <td>6.8</td>\n",
       "      <td>12368</td>\n",
       "    </tr>\n",
       "    <tr>\n",
       "      <td>3</td>\n",
       "      <td>[16, 35, 10751]</td>\n",
       "      <td>862</td>\n",
       "      <td>en</td>\n",
       "      <td>Toy Story</td>\n",
       "      <td>28.005</td>\n",
       "      <td>1995-11-22</td>\n",
       "      <td>Toy Story</td>\n",
       "      <td>7.9</td>\n",
       "      <td>10174</td>\n",
       "    </tr>\n",
       "    <tr>\n",
       "      <td>4</td>\n",
       "      <td>[28, 878, 12]</td>\n",
       "      <td>27205</td>\n",
       "      <td>en</td>\n",
       "      <td>Inception</td>\n",
       "      <td>27.920</td>\n",
       "      <td>2010-07-16</td>\n",
       "      <td>Inception</td>\n",
       "      <td>8.3</td>\n",
       "      <td>22186</td>\n",
       "    </tr>\n",
       "    <tr>\n",
       "      <td>...</td>\n",
       "      <td>...</td>\n",
       "      <td>...</td>\n",
       "      <td>...</td>\n",
       "      <td>...</td>\n",
       "      <td>...</td>\n",
       "      <td>...</td>\n",
       "      <td>...</td>\n",
       "      <td>...</td>\n",
       "      <td>...</td>\n",
       "    </tr>\n",
       "    <tr>\n",
       "      <td>26512</td>\n",
       "      <td>[27, 18]</td>\n",
       "      <td>488143</td>\n",
       "      <td>en</td>\n",
       "      <td>Laboratory Conditions</td>\n",
       "      <td>0.600</td>\n",
       "      <td>2018-10-13</td>\n",
       "      <td>Laboratory Conditions</td>\n",
       "      <td>0.0</td>\n",
       "      <td>1</td>\n",
       "    </tr>\n",
       "    <tr>\n",
       "      <td>26513</td>\n",
       "      <td>[18, 53]</td>\n",
       "      <td>485975</td>\n",
       "      <td>en</td>\n",
       "      <td>_EXHIBIT_84xxx_</td>\n",
       "      <td>0.600</td>\n",
       "      <td>2018-05-01</td>\n",
       "      <td>_EXHIBIT_84xxx_</td>\n",
       "      <td>0.0</td>\n",
       "      <td>1</td>\n",
       "    </tr>\n",
       "    <tr>\n",
       "      <td>26514</td>\n",
       "      <td>[14, 28, 12]</td>\n",
       "      <td>381231</td>\n",
       "      <td>en</td>\n",
       "      <td>The Last One</td>\n",
       "      <td>0.600</td>\n",
       "      <td>2018-10-01</td>\n",
       "      <td>The Last One</td>\n",
       "      <td>0.0</td>\n",
       "      <td>1</td>\n",
       "    </tr>\n",
       "    <tr>\n",
       "      <td>26515</td>\n",
       "      <td>[10751, 12, 28]</td>\n",
       "      <td>366854</td>\n",
       "      <td>en</td>\n",
       "      <td>Trailer Made</td>\n",
       "      <td>0.600</td>\n",
       "      <td>2018-06-22</td>\n",
       "      <td>Trailer Made</td>\n",
       "      <td>0.0</td>\n",
       "      <td>1</td>\n",
       "    </tr>\n",
       "    <tr>\n",
       "      <td>26516</td>\n",
       "      <td>[53, 27]</td>\n",
       "      <td>309885</td>\n",
       "      <td>en</td>\n",
       "      <td>The Church</td>\n",
       "      <td>0.600</td>\n",
       "      <td>2018-10-05</td>\n",
       "      <td>The Church</td>\n",
       "      <td>0.0</td>\n",
       "      <td>1</td>\n",
       "    </tr>\n",
       "  </tbody>\n",
       "</table>\n",
       "<p>23291 rows × 9 columns</p>\n",
       "</div>"
      ],
      "text/plain": [
       "                 genre_ids      id original_language  \\\n",
       "0          [12, 14, 10751]   12444                en   \n",
       "1      [14, 12, 16, 10751]   10191                en   \n",
       "2            [12, 28, 878]   10138                en   \n",
       "3          [16, 35, 10751]     862                en   \n",
       "4            [28, 878, 12]   27205                en   \n",
       "...                    ...     ...               ...   \n",
       "26512             [27, 18]  488143                en   \n",
       "26513             [18, 53]  485975                en   \n",
       "26514         [14, 28, 12]  381231                en   \n",
       "26515      [10751, 12, 28]  366854                en   \n",
       "26516             [53, 27]  309885                en   \n",
       "\n",
       "                                     original_title  popularity release_date  \\\n",
       "0      Harry Potter and the Deathly Hallows: Part 1      33.533   2010-11-19   \n",
       "1                          How to Train Your Dragon      28.734   2010-03-26   \n",
       "2                                        Iron Man 2      28.515   2010-05-07   \n",
       "3                                         Toy Story      28.005   1995-11-22   \n",
       "4                                         Inception      27.920   2010-07-16   \n",
       "...                                             ...         ...          ...   \n",
       "26512                         Laboratory Conditions       0.600   2018-10-13   \n",
       "26513                               _EXHIBIT_84xxx_       0.600   2018-05-01   \n",
       "26514                                  The Last One       0.600   2018-10-01   \n",
       "26515                                  Trailer Made       0.600   2018-06-22   \n",
       "26516                                    The Church       0.600   2018-10-05   \n",
       "\n",
       "                                              title  vote_average  vote_count  \n",
       "0      Harry Potter and the Deathly Hallows: Part 1           7.7       10788  \n",
       "1                          How to Train Your Dragon           7.7        7610  \n",
       "2                                        Iron Man 2           6.8       12368  \n",
       "3                                         Toy Story           7.9       10174  \n",
       "4                                         Inception           8.3       22186  \n",
       "...                                             ...           ...         ...  \n",
       "26512                         Laboratory Conditions           0.0           1  \n",
       "26513                               _EXHIBIT_84xxx_           0.0           1  \n",
       "26514                                  The Last One           0.0           1  \n",
       "26515                                  Trailer Made           0.0           1  \n",
       "26516                                    The Church           0.0           1  \n",
       "\n",
       "[23291 rows x 9 columns]"
      ]
     },
     "execution_count": 41,
     "metadata": {},
     "output_type": "execute_result"
    }
   ],
   "source": [
    "dftm = dftm.loc[dftm['original_language']=='en']\n",
    "dftm['release_date'] = pd.to_datetime(dftm['release_date'])\n",
    "dftm"
   ]
  },
  {
   "cell_type": "code",
   "execution_count": 42,
   "metadata": {
    "ExecuteTime": {
     "end_time": "2020-06-30T23:42:30.632873Z",
     "start_time": "2020-06-30T23:42:30.602065Z"
    }
   },
   "outputs": [
    {
     "data": {
      "text/html": [
       "<div>\n",
       "<style scoped>\n",
       "    .dataframe tbody tr th:only-of-type {\n",
       "        vertical-align: middle;\n",
       "    }\n",
       "\n",
       "    .dataframe tbody tr th {\n",
       "        vertical-align: top;\n",
       "    }\n",
       "\n",
       "    .dataframe thead th {\n",
       "        text-align: right;\n",
       "    }\n",
       "</style>\n",
       "<table border=\"1\" class=\"dataframe\">\n",
       "  <thead>\n",
       "    <tr style=\"text-align: right;\">\n",
       "      <th></th>\n",
       "      <th>genre_ids</th>\n",
       "      <th>id</th>\n",
       "      <th>original_language</th>\n",
       "      <th>original_title</th>\n",
       "      <th>popularity</th>\n",
       "      <th>title</th>\n",
       "      <th>vote_average</th>\n",
       "      <th>vote_count</th>\n",
       "    </tr>\n",
       "    <tr>\n",
       "      <th>release_date</th>\n",
       "      <th></th>\n",
       "      <th></th>\n",
       "      <th></th>\n",
       "      <th></th>\n",
       "      <th></th>\n",
       "      <th></th>\n",
       "      <th></th>\n",
       "      <th></th>\n",
       "    </tr>\n",
       "  </thead>\n",
       "  <tbody>\n",
       "    <tr>\n",
       "      <td>2010-01-01</td>\n",
       "      <td>[]</td>\n",
       "      <td>433335</td>\n",
       "      <td>en</td>\n",
       "      <td>Servants of Mercy</td>\n",
       "      <td>0.624</td>\n",
       "      <td>Servants of Mercy</td>\n",
       "      <td>8.0</td>\n",
       "      <td>1</td>\n",
       "    </tr>\n",
       "    <tr>\n",
       "      <td>2010-01-01</td>\n",
       "      <td>[28, 878]</td>\n",
       "      <td>100689</td>\n",
       "      <td>en</td>\n",
       "      <td>Swine</td>\n",
       "      <td>0.624</td>\n",
       "      <td>Swine</td>\n",
       "      <td>6.0</td>\n",
       "      <td>1</td>\n",
       "    </tr>\n",
       "    <tr>\n",
       "      <td>2010-01-01</td>\n",
       "      <td>[35]</td>\n",
       "      <td>59982</td>\n",
       "      <td>en</td>\n",
       "      <td>Meeting Spencer</td>\n",
       "      <td>0.624</td>\n",
       "      <td>Meeting Spencer</td>\n",
       "      <td>6.0</td>\n",
       "      <td>1</td>\n",
       "    </tr>\n",
       "    <tr>\n",
       "      <td>2010-01-01</td>\n",
       "      <td>[]</td>\n",
       "      <td>141991</td>\n",
       "      <td>en</td>\n",
       "      <td>My Eyes Won't Dry 3 - Tubular Addiction</td>\n",
       "      <td>0.600</td>\n",
       "      <td>My Eyes Won't Dry 3 - Tubular Addiction</td>\n",
       "      <td>8.5</td>\n",
       "      <td>1</td>\n",
       "    </tr>\n",
       "    <tr>\n",
       "      <td>2010-01-01</td>\n",
       "      <td>[35]</td>\n",
       "      <td>144907</td>\n",
       "      <td>en</td>\n",
       "      <td>Tetherball: The Movie</td>\n",
       "      <td>0.624</td>\n",
       "      <td>Tetherball: The Movie</td>\n",
       "      <td>5.0</td>\n",
       "      <td>1</td>\n",
       "    </tr>\n",
       "    <tr>\n",
       "      <td>...</td>\n",
       "      <td>...</td>\n",
       "      <td>...</td>\n",
       "      <td>...</td>\n",
       "      <td>...</td>\n",
       "      <td>...</td>\n",
       "      <td>...</td>\n",
       "      <td>...</td>\n",
       "      <td>...</td>\n",
       "    </tr>\n",
       "    <tr>\n",
       "      <td>2019-05-17</td>\n",
       "      <td>[18]</td>\n",
       "      <td>481880</td>\n",
       "      <td>en</td>\n",
       "      <td>Trial by Fire</td>\n",
       "      <td>4.480</td>\n",
       "      <td>Trial by Fire</td>\n",
       "      <td>7.0</td>\n",
       "      <td>3</td>\n",
       "    </tr>\n",
       "    <tr>\n",
       "      <td>2019-05-17</td>\n",
       "      <td>[18, 9648, 53]</td>\n",
       "      <td>411144</td>\n",
       "      <td>en</td>\n",
       "      <td>We Have Always Lived in the Castle</td>\n",
       "      <td>14.028</td>\n",
       "      <td>We Have Always Lived in the Castle</td>\n",
       "      <td>5.2</td>\n",
       "      <td>24</td>\n",
       "    </tr>\n",
       "    <tr>\n",
       "      <td>2019-06-28</td>\n",
       "      <td>[99]</td>\n",
       "      <td>541577</td>\n",
       "      <td>en</td>\n",
       "      <td>This Changes Everything</td>\n",
       "      <td>3.955</td>\n",
       "      <td>This Changes Everything</td>\n",
       "      <td>0.0</td>\n",
       "      <td>1</td>\n",
       "    </tr>\n",
       "    <tr>\n",
       "      <td>2019-06-28</td>\n",
       "      <td>[10749, 18]</td>\n",
       "      <td>428836</td>\n",
       "      <td>en</td>\n",
       "      <td>Ophelia</td>\n",
       "      <td>8.715</td>\n",
       "      <td>Ophelia</td>\n",
       "      <td>0.0</td>\n",
       "      <td>4</td>\n",
       "    </tr>\n",
       "    <tr>\n",
       "      <td>2020-12-25</td>\n",
       "      <td>[27, 80, 80, 80, 80, 80, 80]</td>\n",
       "      <td>570704</td>\n",
       "      <td>en</td>\n",
       "      <td>Murdery Christmas</td>\n",
       "      <td>0.840</td>\n",
       "      <td>Murdery Christmas</td>\n",
       "      <td>0.0</td>\n",
       "      <td>1</td>\n",
       "    </tr>\n",
       "  </tbody>\n",
       "</table>\n",
       "<p>23106 rows × 8 columns</p>\n",
       "</div>"
      ],
      "text/plain": [
       "                                 genre_ids      id original_language  \\\n",
       "release_date                                                           \n",
       "2010-01-01                              []  433335                en   \n",
       "2010-01-01                       [28, 878]  100689                en   \n",
       "2010-01-01                            [35]   59982                en   \n",
       "2010-01-01                              []  141991                en   \n",
       "2010-01-01                            [35]  144907                en   \n",
       "...                                    ...     ...               ...   \n",
       "2019-05-17                            [18]  481880                en   \n",
       "2019-05-17                  [18, 9648, 53]  411144                en   \n",
       "2019-06-28                            [99]  541577                en   \n",
       "2019-06-28                     [10749, 18]  428836                en   \n",
       "2020-12-25    [27, 80, 80, 80, 80, 80, 80]  570704                en   \n",
       "\n",
       "                                       original_title  popularity  \\\n",
       "release_date                                                        \n",
       "2010-01-01                          Servants of Mercy       0.624   \n",
       "2010-01-01                                      Swine       0.624   \n",
       "2010-01-01                            Meeting Spencer       0.624   \n",
       "2010-01-01    My Eyes Won't Dry 3 - Tubular Addiction       0.600   \n",
       "2010-01-01                      Tetherball: The Movie       0.624   \n",
       "...                                               ...         ...   \n",
       "2019-05-17                              Trial by Fire       4.480   \n",
       "2019-05-17         We Have Always Lived in the Castle      14.028   \n",
       "2019-06-28                    This Changes Everything       3.955   \n",
       "2019-06-28                                    Ophelia       8.715   \n",
       "2020-12-25                          Murdery Christmas       0.840   \n",
       "\n",
       "                                                title  vote_average  \\\n",
       "release_date                                                          \n",
       "2010-01-01                          Servants of Mercy           8.0   \n",
       "2010-01-01                                      Swine           6.0   \n",
       "2010-01-01                            Meeting Spencer           6.0   \n",
       "2010-01-01    My Eyes Won't Dry 3 - Tubular Addiction           8.5   \n",
       "2010-01-01                      Tetherball: The Movie           5.0   \n",
       "...                                               ...           ...   \n",
       "2019-05-17                              Trial by Fire           7.0   \n",
       "2019-05-17         We Have Always Lived in the Castle           5.2   \n",
       "2019-06-28                    This Changes Everything           0.0   \n",
       "2019-06-28                                    Ophelia           0.0   \n",
       "2020-12-25                          Murdery Christmas           0.0   \n",
       "\n",
       "              vote_count  \n",
       "release_date              \n",
       "2010-01-01             1  \n",
       "2010-01-01             1  \n",
       "2010-01-01             1  \n",
       "2010-01-01             1  \n",
       "2010-01-01             1  \n",
       "...                  ...  \n",
       "2019-05-17             3  \n",
       "2019-05-17            24  \n",
       "2019-06-28             1  \n",
       "2019-06-28             4  \n",
       "2020-12-25             1  \n",
       "\n",
       "[23106 rows x 8 columns]"
      ]
     },
     "execution_count": 42,
     "metadata": {},
     "output_type": "execute_result"
    }
   ],
   "source": [
    "dftm = dftm.set_index('release_date').sort_index()#.index\n",
    "dftm = dftm.loc['2010':]\n",
    "dftm"
   ]
  },
  {
   "cell_type": "code",
   "execution_count": null,
   "metadata": {},
   "outputs": [],
   "source": []
  },
  {
   "cell_type": "code",
   "execution_count": null,
   "metadata": {},
   "outputs": [],
   "source": []
  },
  {
   "cell_type": "code",
   "execution_count": null,
   "metadata": {},
   "outputs": [],
   "source": []
  },
  {
   "cell_type": "code",
   "execution_count": null,
   "metadata": {},
   "outputs": [],
   "source": []
  },
  {
   "cell_type": "code",
   "execution_count": null,
   "metadata": {},
   "outputs": [],
   "source": []
  },
  {
   "cell_type": "markdown",
   "metadata": {},
   "source": [
    "### API Authentification\n",
    "- Two options\n",
    "    - Api Key ( v3)\n",
    "    - Bearer Token (v4 - better?)"
   ]
  },
  {
   "cell_type": "code",
   "execution_count": 43,
   "metadata": {
    "ExecuteTime": {
     "end_time": "2020-06-30T23:44:23.040423Z",
     "start_time": "2020-06-30T23:44:23.037221Z"
    }
   },
   "outputs": [],
   "source": [
    "with open('/Users/jamesirving/.secret/tmdb_api.json') as f:\n",
    "    api_info = json.load(f)\n",
    "api_key = api_info['api-key']"
   ]
  },
  {
   "cell_type": "code",
   "execution_count": 46,
   "metadata": {
    "ExecuteTime": {
     "end_time": "2020-06-30T23:45:09.610034Z",
     "start_time": "2020-06-30T23:45:09.605575Z"
    }
   },
   "outputs": [
    {
     "data": {
      "text/plain": [
       "genre_ids                           []\n",
       "id                              433335\n",
       "original_language                   en\n",
       "original_title       Servants of Mercy\n",
       "popularity                       0.624\n",
       "title                Servants of Mercy\n",
       "vote_average                         8\n",
       "vote_count                           1\n",
       "Name: 2010-01-01 00:00:00, dtype: object"
      ]
     },
     "execution_count": 46,
     "metadata": {},
     "output_type": "execute_result"
    }
   ],
   "source": [
    "dftm.iloc[0]#'id']"
   ]
  },
  {
   "cell_type": "code",
   "execution_count": 49,
   "metadata": {
    "ExecuteTime": {
     "end_time": "2020-06-30T23:47:15.535820Z",
     "start_time": "2020-06-30T23:47:15.376186Z"
    }
   },
   "outputs": [
    {
     "data": {
      "text/plain": [
       "{'adult': False,\n",
       " 'backdrop_path': None,\n",
       " 'belongs_to_collection': None,\n",
       " 'budget': 0,\n",
       " 'genres': [],\n",
       " 'homepage': '',\n",
       " 'id': 433335,\n",
       " 'imdb_id': None,\n",
       " 'original_language': 'en',\n",
       " 'original_title': 'Servants of Mercy',\n",
       " 'overview': 'Fern Silva’s Servants of Mercy (Portugal/USA, 2010, 14m), presents a variation on portrait film, subtly showing the redevelopment and changes of Portuguese landscape and society through the prism of his families old household helper, a remainder of Portugal’s older bourgeois traditions. Fernando Pessoa’s famous poem of exile “Oh Sea, how much of your salt is from the tears of Portugal” can be heard song on the soundtrack, reflecting the gulf between the past and the present and the countries unique place on the edge of Europe. -George Clark, APEngine',\n",
       " 'popularity': 0.6,\n",
       " 'poster_path': None,\n",
       " 'production_companies': [],\n",
       " 'production_countries': [],\n",
       " 'release_date': '2010-01-01',\n",
       " 'revenue': 0,\n",
       " 'runtime': 14,\n",
       " 'spoken_languages': [],\n",
       " 'status': 'Released',\n",
       " 'tagline': '',\n",
       " 'title': 'Servants of Mercy',\n",
       " 'video': False,\n",
       " 'vote_average': 8.0,\n",
       " 'vote_count': 1}"
      ]
     },
     "execution_count": 49,
     "metadata": {},
     "output_type": "execute_result"
    }
   ],
   "source": [
    "import requests\n",
    "movie_id = dftm.iloc[0]['id']\n",
    "\n",
    "def get_movie(movie_id):\n",
    "    url = f\"https://api.themoviedb.org/3/movie/{movie_id}?api_key={api_key}&language=en-US\"\n",
    "    response = requests.get(url)\n",
    "    if response.status_code == 200:\n",
    "        return response.json()\n",
    "    else:\n",
    "        return {}\n",
    "    \n",
    "get_movie(movie_id)"
   ]
  },
  {
   "cell_type": "code",
   "execution_count": 56,
   "metadata": {
    "ExecuteTime": {
     "end_time": "2020-06-30T23:54:47.473948Z",
     "start_time": "2020-06-30T23:54:42.306432Z"
    }
   },
   "outputs": [
    {
     "name": "stdout",
     "output_type": "stream",
     "text": [
      "433335\n",
      "100689\n",
      "59982\n",
      "141991\n",
      "144907\n"
     ]
    }
   ],
   "source": [
    "from time import sleep\n",
    "import numpy as np\n",
    "\n",
    "sleeps=[0.7,0.9,1.1,1.3]\n",
    "\n",
    "\n",
    "movie_list= []\n",
    "\n",
    "for movie_id in dftm['id'][:5]:\n",
    "    sleep_time = np.random.choice(sleeps)\n",
    "    sleep(sleep_time)\n",
    "    print(movie_id)\n",
    "    movie_list.append(get_movie(movie_id))"
   ]
  },
  {
   "cell_type": "code",
   "execution_count": 53,
   "metadata": {
    "ExecuteTime": {
     "end_time": "2020-06-30T23:47:47.082263Z",
     "start_time": "2020-06-30T23:47:47.049085Z"
    }
   },
   "outputs": [
    {
     "data": {
      "text/html": [
       "<div>\n",
       "<style scoped>\n",
       "    .dataframe tbody tr th:only-of-type {\n",
       "        vertical-align: middle;\n",
       "    }\n",
       "\n",
       "    .dataframe tbody tr th {\n",
       "        vertical-align: top;\n",
       "    }\n",
       "\n",
       "    .dataframe thead th {\n",
       "        text-align: right;\n",
       "    }\n",
       "</style>\n",
       "<table border=\"1\" class=\"dataframe\">\n",
       "  <thead>\n",
       "    <tr style=\"text-align: right;\">\n",
       "      <th></th>\n",
       "      <th>adult</th>\n",
       "      <th>backdrop_path</th>\n",
       "      <th>belongs_to_collection</th>\n",
       "      <th>budget</th>\n",
       "      <th>genres</th>\n",
       "      <th>homepage</th>\n",
       "      <th>id</th>\n",
       "      <th>imdb_id</th>\n",
       "      <th>original_language</th>\n",
       "      <th>original_title</th>\n",
       "      <th>...</th>\n",
       "      <th>release_date</th>\n",
       "      <th>revenue</th>\n",
       "      <th>runtime</th>\n",
       "      <th>spoken_languages</th>\n",
       "      <th>status</th>\n",
       "      <th>tagline</th>\n",
       "      <th>title</th>\n",
       "      <th>video</th>\n",
       "      <th>vote_average</th>\n",
       "      <th>vote_count</th>\n",
       "    </tr>\n",
       "  </thead>\n",
       "  <tbody>\n",
       "    <tr>\n",
       "      <td>0</td>\n",
       "      <td>False</td>\n",
       "      <td>None</td>\n",
       "      <td>None</td>\n",
       "      <td>0</td>\n",
       "      <td>[]</td>\n",
       "      <td></td>\n",
       "      <td>433335</td>\n",
       "      <td>None</td>\n",
       "      <td>en</td>\n",
       "      <td>Servants of Mercy</td>\n",
       "      <td>...</td>\n",
       "      <td>2010-01-01</td>\n",
       "      <td>0</td>\n",
       "      <td>14</td>\n",
       "      <td>[]</td>\n",
       "      <td>Released</td>\n",
       "      <td></td>\n",
       "      <td>Servants of Mercy</td>\n",
       "      <td>False</td>\n",
       "      <td>8.0</td>\n",
       "      <td>1</td>\n",
       "    </tr>\n",
       "    <tr>\n",
       "      <td>1</td>\n",
       "      <td>False</td>\n",
       "      <td>None</td>\n",
       "      <td>None</td>\n",
       "      <td>15000</td>\n",
       "      <td>[{'id': 28, 'name': 'Action'}, {'id': 878, 'na...</td>\n",
       "      <td>http://www.swinemovie.com/</td>\n",
       "      <td>100689</td>\n",
       "      <td>tt1548021</td>\n",
       "      <td>en</td>\n",
       "      <td>Swine</td>\n",
       "      <td>...</td>\n",
       "      <td>2010-01-01</td>\n",
       "      <td>0</td>\n",
       "      <td>12</td>\n",
       "      <td>[{'iso_639_1': 'en', 'name': 'English'}]</td>\n",
       "      <td>Released</td>\n",
       "      <td></td>\n",
       "      <td>Swine</td>\n",
       "      <td>False</td>\n",
       "      <td>6.0</td>\n",
       "      <td>1</td>\n",
       "    </tr>\n",
       "    <tr>\n",
       "      <td>2</td>\n",
       "      <td>False</td>\n",
       "      <td>None</td>\n",
       "      <td>None</td>\n",
       "      <td>0</td>\n",
       "      <td>[{'id': 35, 'name': 'Comedy'}]</td>\n",
       "      <td>http://www.meetingspencer.com/</td>\n",
       "      <td>59982</td>\n",
       "      <td>tt1486186</td>\n",
       "      <td>en</td>\n",
       "      <td>Meeting Spencer</td>\n",
       "      <td>...</td>\n",
       "      <td>2010-01-01</td>\n",
       "      <td>0</td>\n",
       "      <td>0</td>\n",
       "      <td>[{'iso_639_1': 'en', 'name': 'English'}]</td>\n",
       "      <td>Released</td>\n",
       "      <td>One crazy night can change everything...</td>\n",
       "      <td>Meeting Spencer</td>\n",
       "      <td>False</td>\n",
       "      <td>6.0</td>\n",
       "      <td>1</td>\n",
       "    </tr>\n",
       "    <tr>\n",
       "      <td>3</td>\n",
       "      <td>False</td>\n",
       "      <td>None</td>\n",
       "      <td>None</td>\n",
       "      <td>0</td>\n",
       "      <td>[]</td>\n",
       "      <td></td>\n",
       "      <td>141991</td>\n",
       "      <td></td>\n",
       "      <td>en</td>\n",
       "      <td>My Eyes Won't Dry 3 - Tubular Addiction</td>\n",
       "      <td>...</td>\n",
       "      <td>2010-01-01</td>\n",
       "      <td>0</td>\n",
       "      <td>0</td>\n",
       "      <td>[]</td>\n",
       "      <td>Released</td>\n",
       "      <td></td>\n",
       "      <td>My Eyes Won't Dry 3 - Tubular Addiction</td>\n",
       "      <td>False</td>\n",
       "      <td>8.5</td>\n",
       "      <td>1</td>\n",
       "    </tr>\n",
       "    <tr>\n",
       "      <td>4</td>\n",
       "      <td>False</td>\n",
       "      <td>None</td>\n",
       "      <td>None</td>\n",
       "      <td>0</td>\n",
       "      <td>[{'id': 35, 'name': 'Comedy'}]</td>\n",
       "      <td></td>\n",
       "      <td>144907</td>\n",
       "      <td>tt1705787</td>\n",
       "      <td>en</td>\n",
       "      <td>Tetherball: The Movie</td>\n",
       "      <td>...</td>\n",
       "      <td>2010-01-01</td>\n",
       "      <td>0</td>\n",
       "      <td>0</td>\n",
       "      <td>[{'iso_639_1': 'en', 'name': 'English'}]</td>\n",
       "      <td>Released</td>\n",
       "      <td>Grab Your Pole</td>\n",
       "      <td>Tetherball: The Movie</td>\n",
       "      <td>False</td>\n",
       "      <td>5.0</td>\n",
       "      <td>1</td>\n",
       "    </tr>\n",
       "  </tbody>\n",
       "</table>\n",
       "<p>5 rows × 25 columns</p>\n",
       "</div>"
      ],
      "text/plain": [
       "   adult backdrop_path belongs_to_collection  budget  \\\n",
       "0  False          None                  None       0   \n",
       "1  False          None                  None   15000   \n",
       "2  False          None                  None       0   \n",
       "3  False          None                  None       0   \n",
       "4  False          None                  None       0   \n",
       "\n",
       "                                              genres  \\\n",
       "0                                                 []   \n",
       "1  [{'id': 28, 'name': 'Action'}, {'id': 878, 'na...   \n",
       "2                     [{'id': 35, 'name': 'Comedy'}]   \n",
       "3                                                 []   \n",
       "4                     [{'id': 35, 'name': 'Comedy'}]   \n",
       "\n",
       "                         homepage      id    imdb_id original_language  \\\n",
       "0                                  433335       None                en   \n",
       "1      http://www.swinemovie.com/  100689  tt1548021                en   \n",
       "2  http://www.meetingspencer.com/   59982  tt1486186                en   \n",
       "3                                  141991                           en   \n",
       "4                                  144907  tt1705787                en   \n",
       "\n",
       "                            original_title  ... release_date  revenue runtime  \\\n",
       "0                        Servants of Mercy  ...   2010-01-01        0      14   \n",
       "1                                    Swine  ...   2010-01-01        0      12   \n",
       "2                          Meeting Spencer  ...   2010-01-01        0       0   \n",
       "3  My Eyes Won't Dry 3 - Tubular Addiction  ...   2010-01-01        0       0   \n",
       "4                    Tetherball: The Movie  ...   2010-01-01        0       0   \n",
       "\n",
       "                           spoken_languages    status  \\\n",
       "0                                        []  Released   \n",
       "1  [{'iso_639_1': 'en', 'name': 'English'}]  Released   \n",
       "2  [{'iso_639_1': 'en', 'name': 'English'}]  Released   \n",
       "3                                        []  Released   \n",
       "4  [{'iso_639_1': 'en', 'name': 'English'}]  Released   \n",
       "\n",
       "                                    tagline  \\\n",
       "0                                             \n",
       "1                                             \n",
       "2  One crazy night can change everything...   \n",
       "3                                             \n",
       "4                            Grab Your Pole   \n",
       "\n",
       "                                     title  video vote_average vote_count  \n",
       "0                        Servants of Mercy  False          8.0          1  \n",
       "1                                    Swine  False          6.0          1  \n",
       "2                          Meeting Spencer  False          6.0          1  \n",
       "3  My Eyes Won't Dry 3 - Tubular Addiction  False          8.5          1  \n",
       "4                    Tetherball: The Movie  False          5.0          1  \n",
       "\n",
       "[5 rows x 25 columns]"
      ]
     },
     "execution_count": 53,
     "metadata": {},
     "output_type": "execute_result"
    }
   ],
   "source": [
    "pd.DataFrame.from_records(movie_list)"
   ]
  },
  {
   "cell_type": "code",
   "execution_count": 8,
   "metadata": {
    "ExecuteTime": {
     "end_time": "2020-06-30T22:21:18.770536Z",
     "start_time": "2020-06-30T22:21:18.768314Z"
    }
   },
   "outputs": [],
   "source": [
    "base_url = f\"https://api.themoviedb.org/3/movie/76341?api_key={api_key}\"\n",
    "# base_url"
   ]
  },
  {
   "cell_type": "code",
   "execution_count": 9,
   "metadata": {
    "ExecuteTime": {
     "end_time": "2020-06-30T22:21:19.493723Z",
     "start_time": "2020-06-30T22:21:19.490659Z"
    }
   },
   "outputs": [],
   "source": [
    "import requests\n",
    "## get session id\n",
    "def get_session_id():\n",
    "    token_url = f\"https://api.themoviedb.org/3/authentication/token/new?api_key={api_key}\"\n",
    "    response = requests.get(token_url)\n",
    "    display(response)\n",
    "    return response.json()"
   ]
  },
  {
   "cell_type": "code",
   "execution_count": 10,
   "metadata": {
    "ExecuteTime": {
     "end_time": "2020-06-30T22:21:20.466756Z",
     "start_time": "2020-06-30T22:21:20.243489Z"
    }
   },
   "outputs": [
    {
     "data": {
      "text/plain": [
       "<Response [200]>"
      ]
     },
     "metadata": {},
     "output_type": "display_data"
    },
    {
     "data": {
      "text/plain": [
       "dict_keys(['success', 'expires_at', 'request_token'])"
      ]
     },
     "execution_count": 10,
     "metadata": {},
     "output_type": "execute_result"
    }
   ],
   "source": [
    "sid = get_session_id()\n",
    "sid.keys()"
   ]
  },
  {
   "cell_type": "code",
   "execution_count": 11,
   "metadata": {
    "ExecuteTime": {
     "end_time": "2020-06-30T22:21:21.054284Z",
     "start_time": "2020-06-30T22:21:21.051960Z"
    }
   },
   "outputs": [],
   "source": [
    "sid_token = sid['request_token'];"
   ]
  },
  {
   "cell_type": "code",
   "execution_count": 12,
   "metadata": {
    "ExecuteTime": {
     "end_time": "2020-06-30T22:21:21.728870Z",
     "start_time": "2020-06-30T22:21:21.726397Z"
    }
   },
   "outputs": [],
   "source": [
    "#?f\"Authorization: Bearer {access_token}\"\n",
    "\n",
    "# def get_bearer_token(sid=None):\n",
    "#     \"\"\"https://developers.themoviedb.org/3/authentication/how-do-i-generate-a-session-id\n",
    "#     1. Create a new \n",
    "#     2. Get the user to authorize the request token\n",
    "#     3. Create a new  with the athorized request token\"\"\"\n",
    "#     if sid is None:\n",
    "#         sid = get_session_id()\n",
    "        \n",
    "#     if isinstance(sid,dict):\n",
    "#         token = sid['request_token']\n",
    "#     elif isintance(sid,str):\n",
    "#         token = sid\n",
    "        \n",
    "#     header = f\"Authorization: Bearer {token}\"\n",
    "#     requests.get(url = , headers=header )\n",
    "        \n",
    "# auth_url - f\"https://www.themoviedb.org/authenticate/{REQUEST_TOKEN}\"\n"
   ]
  },
  {
   "cell_type": "code",
   "execution_count": 17,
   "metadata": {
    "ExecuteTime": {
     "end_time": "2020-06-30T22:22:19.698498Z",
     "start_time": "2020-06-30T22:22:19.694184Z"
    }
   },
   "outputs": [
    {
     "data": {
      "text/plain": [
       "release_date\n",
       "2010-01-01    433335\n",
       "2010-01-01    100689\n",
       "2010-01-01     59982\n",
       "2010-01-01    141991\n",
       "Name: id, dtype: int64"
      ]
     },
     "execution_count": 17,
     "metadata": {},
     "output_type": "execute_result"
    }
   ],
   "source": [
    "dftm['id'][:4]"
   ]
  },
  {
   "cell_type": "code",
   "execution_count": 33,
   "metadata": {
    "ExecuteTime": {
     "end_time": "2020-06-30T22:24:20.071941Z",
     "start_time": "2020-06-30T22:24:19.614511Z"
    }
   },
   "outputs": [],
   "source": [
    "responses = []\n",
    "for movie_id in dftm['id'][:4]:\n",
    "    movie_url = f\"https://api.themoviedb.org/3/movie/{movie_id}?api_key={api_key}&language=en-US\"\n",
    "    responses.append(requests.get(movie_url).json())"
   ]
  },
  {
   "cell_type": "code",
   "execution_count": 35,
   "metadata": {
    "ExecuteTime": {
     "end_time": "2020-06-30T22:24:23.307068Z",
     "start_time": "2020-06-30T22:24:23.303277Z"
    }
   },
   "outputs": [
    {
     "data": {
      "text/plain": [
       "{'adult': False,\n",
       " 'backdrop_path': None,\n",
       " 'belongs_to_collection': None,\n",
       " 'budget': 0,\n",
       " 'genres': [],\n",
       " 'homepage': '',\n",
       " 'id': 433335,\n",
       " 'imdb_id': None,\n",
       " 'original_language': 'en',\n",
       " 'original_title': 'Servants of Mercy',\n",
       " 'overview': 'Fern Silva’s Servants of Mercy (Portugal/USA, 2010, 14m), presents a variation on portrait film, subtly showing the redevelopment and changes of Portuguese landscape and society through the prism of his families old household helper, a remainder of Portugal’s older bourgeois traditions. Fernando Pessoa’s famous poem of exile “Oh Sea, how much of your salt is from the tears of Portugal” can be heard song on the soundtrack, reflecting the gulf between the past and the present and the countries unique place on the edge of Europe. -George Clark, APEngine',\n",
       " 'popularity': 0.6,\n",
       " 'poster_path': None,\n",
       " 'production_companies': [],\n",
       " 'production_countries': [],\n",
       " 'release_date': '2010-01-01',\n",
       " 'revenue': 0,\n",
       " 'runtime': 14,\n",
       " 'spoken_languages': [],\n",
       " 'status': 'Released',\n",
       " 'tagline': '',\n",
       " 'title': 'Servants of Mercy',\n",
       " 'video': False,\n",
       " 'vote_average': 8.0,\n",
       " 'vote_count': 1}"
      ]
     },
     "execution_count": 35,
     "metadata": {},
     "output_type": "execute_result"
    }
   ],
   "source": [
    "responses[0]#.json()#.keys()"
   ]
  },
  {
   "cell_type": "code",
   "execution_count": 36,
   "metadata": {
    "ExecuteTime": {
     "end_time": "2020-06-30T22:24:32.274670Z",
     "start_time": "2020-06-30T22:24:32.245246Z"
    }
   },
   "outputs": [
    {
     "data": {
      "text/html": [
       "<div>\n",
       "<style scoped>\n",
       "    .dataframe tbody tr th:only-of-type {\n",
       "        vertical-align: middle;\n",
       "    }\n",
       "\n",
       "    .dataframe tbody tr th {\n",
       "        vertical-align: top;\n",
       "    }\n",
       "\n",
       "    .dataframe thead th {\n",
       "        text-align: right;\n",
       "    }\n",
       "</style>\n",
       "<table border=\"1\" class=\"dataframe\">\n",
       "  <thead>\n",
       "    <tr style=\"text-align: right;\">\n",
       "      <th></th>\n",
       "      <th>adult</th>\n",
       "      <th>backdrop_path</th>\n",
       "      <th>belongs_to_collection</th>\n",
       "      <th>budget</th>\n",
       "      <th>genres</th>\n",
       "      <th>homepage</th>\n",
       "      <th>id</th>\n",
       "      <th>imdb_id</th>\n",
       "      <th>original_language</th>\n",
       "      <th>original_title</th>\n",
       "      <th>...</th>\n",
       "      <th>release_date</th>\n",
       "      <th>revenue</th>\n",
       "      <th>runtime</th>\n",
       "      <th>spoken_languages</th>\n",
       "      <th>status</th>\n",
       "      <th>tagline</th>\n",
       "      <th>title</th>\n",
       "      <th>video</th>\n",
       "      <th>vote_average</th>\n",
       "      <th>vote_count</th>\n",
       "    </tr>\n",
       "  </thead>\n",
       "  <tbody>\n",
       "    <tr>\n",
       "      <td>0</td>\n",
       "      <td>False</td>\n",
       "      <td>None</td>\n",
       "      <td>None</td>\n",
       "      <td>0</td>\n",
       "      <td>[]</td>\n",
       "      <td></td>\n",
       "      <td>433335</td>\n",
       "      <td>None</td>\n",
       "      <td>en</td>\n",
       "      <td>Servants of Mercy</td>\n",
       "      <td>...</td>\n",
       "      <td>2010-01-01</td>\n",
       "      <td>0</td>\n",
       "      <td>14</td>\n",
       "      <td>[]</td>\n",
       "      <td>Released</td>\n",
       "      <td></td>\n",
       "      <td>Servants of Mercy</td>\n",
       "      <td>False</td>\n",
       "      <td>8.0</td>\n",
       "      <td>1</td>\n",
       "    </tr>\n",
       "    <tr>\n",
       "      <td>1</td>\n",
       "      <td>False</td>\n",
       "      <td>None</td>\n",
       "      <td>None</td>\n",
       "      <td>15000</td>\n",
       "      <td>[{'id': 28, 'name': 'Action'}, {'id': 878, 'na...</td>\n",
       "      <td>http://www.swinemovie.com/</td>\n",
       "      <td>100689</td>\n",
       "      <td>tt1548021</td>\n",
       "      <td>en</td>\n",
       "      <td>Swine</td>\n",
       "      <td>...</td>\n",
       "      <td>2010-01-01</td>\n",
       "      <td>0</td>\n",
       "      <td>12</td>\n",
       "      <td>[{'iso_639_1': 'en', 'name': 'English'}]</td>\n",
       "      <td>Released</td>\n",
       "      <td></td>\n",
       "      <td>Swine</td>\n",
       "      <td>False</td>\n",
       "      <td>6.0</td>\n",
       "      <td>1</td>\n",
       "    </tr>\n",
       "    <tr>\n",
       "      <td>2</td>\n",
       "      <td>False</td>\n",
       "      <td>None</td>\n",
       "      <td>None</td>\n",
       "      <td>0</td>\n",
       "      <td>[{'id': 35, 'name': 'Comedy'}]</td>\n",
       "      <td>http://www.meetingspencer.com/</td>\n",
       "      <td>59982</td>\n",
       "      <td>tt1486186</td>\n",
       "      <td>en</td>\n",
       "      <td>Meeting Spencer</td>\n",
       "      <td>...</td>\n",
       "      <td>2010-01-01</td>\n",
       "      <td>0</td>\n",
       "      <td>0</td>\n",
       "      <td>[{'iso_639_1': 'en', 'name': 'English'}]</td>\n",
       "      <td>Released</td>\n",
       "      <td>One crazy night can change everything...</td>\n",
       "      <td>Meeting Spencer</td>\n",
       "      <td>False</td>\n",
       "      <td>6.0</td>\n",
       "      <td>1</td>\n",
       "    </tr>\n",
       "    <tr>\n",
       "      <td>3</td>\n",
       "      <td>False</td>\n",
       "      <td>None</td>\n",
       "      <td>None</td>\n",
       "      <td>0</td>\n",
       "      <td>[]</td>\n",
       "      <td></td>\n",
       "      <td>141991</td>\n",
       "      <td></td>\n",
       "      <td>en</td>\n",
       "      <td>My Eyes Won't Dry 3 - Tubular Addiction</td>\n",
       "      <td>...</td>\n",
       "      <td>2010-01-01</td>\n",
       "      <td>0</td>\n",
       "      <td>0</td>\n",
       "      <td>[]</td>\n",
       "      <td>Released</td>\n",
       "      <td></td>\n",
       "      <td>My Eyes Won't Dry 3 - Tubular Addiction</td>\n",
       "      <td>False</td>\n",
       "      <td>8.5</td>\n",
       "      <td>1</td>\n",
       "    </tr>\n",
       "  </tbody>\n",
       "</table>\n",
       "<p>4 rows × 25 columns</p>\n",
       "</div>"
      ],
      "text/plain": [
       "   adult backdrop_path belongs_to_collection  budget  \\\n",
       "0  False          None                  None       0   \n",
       "1  False          None                  None   15000   \n",
       "2  False          None                  None       0   \n",
       "3  False          None                  None       0   \n",
       "\n",
       "                                              genres  \\\n",
       "0                                                 []   \n",
       "1  [{'id': 28, 'name': 'Action'}, {'id': 878, 'na...   \n",
       "2                     [{'id': 35, 'name': 'Comedy'}]   \n",
       "3                                                 []   \n",
       "\n",
       "                         homepage      id    imdb_id original_language  \\\n",
       "0                                  433335       None                en   \n",
       "1      http://www.swinemovie.com/  100689  tt1548021                en   \n",
       "2  http://www.meetingspencer.com/   59982  tt1486186                en   \n",
       "3                                  141991                           en   \n",
       "\n",
       "                            original_title  ... release_date  revenue runtime  \\\n",
       "0                        Servants of Mercy  ...   2010-01-01        0      14   \n",
       "1                                    Swine  ...   2010-01-01        0      12   \n",
       "2                          Meeting Spencer  ...   2010-01-01        0       0   \n",
       "3  My Eyes Won't Dry 3 - Tubular Addiction  ...   2010-01-01        0       0   \n",
       "\n",
       "                           spoken_languages    status  \\\n",
       "0                                        []  Released   \n",
       "1  [{'iso_639_1': 'en', 'name': 'English'}]  Released   \n",
       "2  [{'iso_639_1': 'en', 'name': 'English'}]  Released   \n",
       "3                                        []  Released   \n",
       "\n",
       "                                    tagline  \\\n",
       "0                                             \n",
       "1                                             \n",
       "2  One crazy night can change everything...   \n",
       "3                                             \n",
       "\n",
       "                                     title  video vote_average vote_count  \n",
       "0                        Servants of Mercy  False          8.0          1  \n",
       "1                                    Swine  False          6.0          1  \n",
       "2                          Meeting Spencer  False          6.0          1  \n",
       "3  My Eyes Won't Dry 3 - Tubular Addiction  False          8.5          1  \n",
       "\n",
       "[4 rows x 25 columns]"
      ]
     },
     "execution_count": 36,
     "metadata": {},
     "output_type": "execute_result"
    }
   ],
   "source": [
    "pd.DataFrame.from_records(responses)"
   ]
  },
  {
   "cell_type": "markdown",
   "metadata": {
    "ExecuteTime": {
     "end_time": "2020-06-04T00:42:40.169218Z",
     "start_time": "2020-06-04T00:42:40.164745Z"
    }
   },
   "source": [
    "df['tmdb_id']"
   ]
  },
  {
   "cell_type": "markdown",
   "metadata": {},
   "source": [
    "### Make DF"
   ]
  },
  {
   "cell_type": "code",
   "execution_count": null,
   "metadata": {
    "ExecuteTime": {
     "end_time": "2020-06-04T03:42:41.909923Z",
     "start_time": "2020-06-04T03:42:40.524Z"
    }
   },
   "outputs": [],
   "source": [
    "DF = pd.merge(df,dftm,left_on='tmdb_id',right_on='id',how='inner')\n",
    "DF"
   ]
  },
  {
   "cell_type": "code",
   "execution_count": null,
   "metadata": {
    "ExecuteTime": {
     "end_time": "2020-06-04T03:42:41.910696Z",
     "start_time": "2020-06-04T03:42:40.527Z"
    }
   },
   "outputs": [],
   "source": [
    "DF.info()"
   ]
  },
  {
   "cell_type": "code",
   "execution_count": null,
   "metadata": {
    "ExecuteTime": {
     "end_time": "2020-06-04T03:42:41.911465Z",
     "start_time": "2020-06-04T03:42:40.530Z"
    }
   },
   "outputs": [],
   "source": [
    "dftm['id']"
   ]
  },
  {
   "cell_type": "code",
   "execution_count": null,
   "metadata": {
    "ExecuteTime": {
     "end_time": "2020-06-04T03:42:41.912621Z",
     "start_time": "2020-06-04T03:42:40.533Z"
    }
   },
   "outputs": [],
   "source": [
    "movie_id = dftm['id'][0]\n",
    "print(dftm.iloc[0])\n",
    "print(movie_id)"
   ]
  },
  {
   "cell_type": "code",
   "execution_count": null,
   "metadata": {
    "ExecuteTime": {
     "end_time": "2020-06-04T03:42:41.913309Z",
     "start_time": "2020-06-04T03:42:40.537Z"
    }
   },
   "outputs": [],
   "source": [
    "movie_id = DF['tmdb_id'][0]\n",
    "movie_id"
   ]
  },
  {
   "cell_type": "code",
   "execution_count": null,
   "metadata": {
    "ExecuteTime": {
     "end_time": "2020-06-04T03:42:41.915091Z",
     "start_time": "2020-06-04T03:42:40.543Z"
    }
   },
   "outputs": [],
   "source": [
    "response = requests.get(movie_url)\n",
    "response"
   ]
  },
  {
   "cell_type": "code",
   "execution_count": null,
   "metadata": {
    "ExecuteTime": {
     "end_time": "2020-06-04T03:42:41.916070Z",
     "start_time": "2020-06-04T03:42:40.546Z"
    }
   },
   "outputs": [],
   "source": [
    "response.json().keys()"
   ]
  },
  {
   "cell_type": "code",
   "execution_count": null,
   "metadata": {
    "ExecuteTime": {
     "end_time": "2020-06-04T03:42:41.916777Z",
     "start_time": "2020-06-04T03:42:40.549Z"
    }
   },
   "outputs": [],
   "source": [
    "test_ids = DF['tmdb_id'].iloc[:4]\n",
    "test_ids"
   ]
  },
  {
   "cell_type": "code",
   "execution_count": null,
   "metadata": {
    "ExecuteTime": {
     "end_time": "2020-06-04T03:42:41.917643Z",
     "start_time": "2020-06-04T03:42:40.552Z"
    }
   },
   "outputs": [],
   "source": [
    "DF.head()"
   ]
  },
  {
   "cell_type": "code",
   "execution_count": null,
   "metadata": {
    "ExecuteTime": {
     "end_time": "2020-06-04T03:42:41.918716Z",
     "start_time": "2020-06-04T03:42:40.555Z"
    }
   },
   "outputs": [],
   "source": [
    "movie_id = test_ids[0]\n",
    "movie_url = f\"https://api.themoviedb.org/3/movie/{movie_id}?api_key={api_key}&language=en-US\"\n",
    "response = requests.get(movie_url)"
   ]
  },
  {
   "cell_type": "code",
   "execution_count": null,
   "metadata": {
    "ExecuteTime": {
     "end_time": "2020-06-04T03:42:41.919912Z",
     "start_time": "2020-06-04T03:42:40.558Z"
    }
   },
   "outputs": [],
   "source": [
    "response.json()"
   ]
  },
  {
   "cell_type": "code",
   "execution_count": null,
   "metadata": {
    "ExecuteTime": {
     "end_time": "2020-06-04T03:42:41.920866Z",
     "start_time": "2020-06-04T03:42:40.560Z"
    }
   },
   "outputs": [],
   "source": [
    "def get_movie_data(movie_id):\n",
    "    \"\"\"Returns specific keys of interest by tmbd movie_id\"\"\"\n",
    "    movie_url = f\"https://api.themoviedb.org/3/movie/{movie_id}?api_key={api_key}&language=en-US\"\n",
    "    response = requests.get(movie_url)\n",
    "\n",
    "    keys_of_interest = ['id','imdb_id','title','budget','release_date',\n",
    "                        'revenue','runtime', 'original_language',\n",
    "                        'original_title', ('spoken_languages','name'),\n",
    "                        'vote_average','vote_count', \n",
    "                        'genres','poster_path','production_companies']\n",
    "    data ={}\n",
    "    for key in keys_of_interest:\n",
    "        \n",
    "        if isinstance(key,tuple):\n",
    "            key=key[0]\n",
    "            subkey = key[1]\n",
    "            \n",
    "            val = response.json()[key]\n",
    "\n",
    "        else:\n",
    "            val = response.json()[key]\n",
    "        data[key] = val\n",
    "    return data"
   ]
  },
  {
   "cell_type": "code",
   "execution_count": null,
   "metadata": {
    "ExecuteTime": {
     "end_time": "2020-06-04T03:42:41.921745Z",
     "start_time": "2020-06-04T03:42:40.563Z"
    },
    "scrolled": true
   },
   "outputs": [],
   "source": [
    "get_movie_data(test_ids[0])"
   ]
  },
  {
   "cell_type": "markdown",
   "metadata": {},
   "source": [
    "## [BOOKMARK] Rated Movies\n",
    "- **https://www.themoviedb.org/talk/57f7aa18925141763600106e?language=en-US**\n",
    "- \n",
    "https://developers.themoviedb.org/3/movies/get-movie-details"
   ]
  },
  {
   "cell_type": "code",
   "execution_count": null,
   "metadata": {
    "ExecuteTime": {
     "end_time": "2020-06-04T03:01:29.562758Z",
     "start_time": "2020-06-04T03:01:29.560445Z"
    }
   },
   "outputs": [],
   "source": []
  },
  {
   "cell_type": "code",
   "execution_count": null,
   "metadata": {
    "ExecuteTime": {
     "end_time": "2020-06-04T03:42:41.922633Z",
     "start_time": "2020-06-04T03:42:40.567Z"
    }
   },
   "outputs": [],
   "source": [
    "import numpy as np\n",
    "\n",
    "## Get records for test_ids\n",
    "import time \n",
    "sleep_times = np.linspace(0.5,1.2,5)\n",
    "sleep_times"
   ]
  },
  {
   "cell_type": "code",
   "execution_count": null,
   "metadata": {
    "ExecuteTime": {
     "end_time": "2020-06-04T03:42:41.923696Z",
     "start_time": "2020-06-04T03:42:40.570Z"
    }
   },
   "outputs": [],
   "source": [
    "DF['tmdb_id']"
   ]
  },
  {
   "cell_type": "code",
   "execution_count": null,
   "metadata": {
    "ExecuteTime": {
     "end_time": "2020-06-04T03:42:41.924688Z",
     "start_time": "2020-06-04T03:42:40.573Z"
    }
   },
   "outputs": [],
   "source": [
    "from tqdm import trange,tqdm\n",
    "# tqdm()"
   ]
  },
  {
   "cell_type": "code",
   "execution_count": null,
   "metadata": {
    "ExecuteTime": {
     "end_time": "2020-06-04T03:42:41.925524Z",
     "start_time": "2020-06-04T03:42:40.575Z"
    }
   },
   "outputs": [],
   "source": [
    "indices = range(0,len(dftm['id']))\n",
    "indices"
   ]
  },
  {
   "cell_type": "markdown",
   "metadata": {},
   "source": [
    "## Extraction Loop"
   ]
  },
  {
   "cell_type": "code",
   "execution_count": null,
   "metadata": {
    "ExecuteTime": {
     "end_time": "2020-06-04T03:42:41.926421Z",
     "start_time": "2020-06-04T03:42:40.578Z"
    }
   },
   "outputs": [],
   "source": [
    "## Extracting IDs\n",
    "really_run_it = input('Are you SURE you want to run this? It took 35 mins')\n",
    "\n",
    "if really_run_it:\n",
    "    records = []\n",
    "\n",
    "    for i in trange(len(DF['id'])):\n",
    "        id_ = DF['id'][i]\n",
    "        time.sleep(np.random.choice(sleep_times))\n",
    "\n",
    "        try:\n",
    "            records.append(get_movie_data(id_))\n",
    "        except:\n",
    "            print(f\"Error retrieving {id_}\")\n",
    "            \n",
    "        if i%500==0:\n",
    "            try:\n",
    "                results = pd.DataFrame.from_records(records)\n",
    "                results.to_csv(f\"tmdb_extract_{i}_of_{len(DF['id'])}.csv\")\n",
    "            except:\n",
    "                print(f'ERROR SAVING OUTPUT ON ID#{i}')\n",
    "    full_results = pd.DataFrame.from_records(records)\n",
    "    full_results.to_csv('full_extract_tmdb.csv')\n",
    "                            \n",
    "                               "
   ]
  },
  {
   "cell_type": "markdown",
   "metadata": {},
   "source": [
    "# BOOKMARK 06/03"
   ]
  },
  {
   "cell_type": "code",
   "execution_count": null,
   "metadata": {
    "ExecuteTime": {
     "end_time": "2020-06-04T03:42:41.927346Z",
     "start_time": "2020-06-04T03:42:40.582Z"
    }
   },
   "outputs": [],
   "source": [
    "full_results = pd.DataFrame.from_records(records)\n",
    "# full_results.to_csv('example_extract_tmdb.csv')\n",
    "full_results"
   ]
  },
  {
   "cell_type": "code",
   "execution_count": null,
   "metadata": {
    "ExecuteTime": {
     "end_time": "2020-06-04T03:42:41.928268Z",
     "start_time": "2020-06-04T03:42:40.585Z"
    }
   },
   "outputs": [],
   "source": [
    "full_results"
   ]
  },
  {
   "cell_type": "code",
   "execution_count": null,
   "metadata": {
    "ExecuteTime": {
     "end_time": "2020-06-04T03:42:41.929094Z",
     "start_time": "2020-06-04T03:42:40.588Z"
    }
   },
   "outputs": [],
   "source": [
    "def unnest_cell(cell,key):\n",
    "    output=[]\n",
    "    for item in cell:\n",
    "        output.append(item[key])\n",
    "    return output"
   ]
  },
  {
   "cell_type": "code",
   "execution_count": null,
   "metadata": {
    "ExecuteTime": {
     "end_time": "2020-06-04T03:42:41.930154Z",
     "start_time": "2020-06-04T03:42:40.591Z"
    }
   },
   "outputs": [],
   "source": [
    "results=full_results.copy()\n",
    "cols_to_explode={'genres':['id','name'],\n",
    "                'spoken_languages':['name'],\n",
    "                'production_companies':['id','name','origin_country']}\n",
    "\n",
    "for col,keys in cols_to_explode.items():\n",
    "    for key in keys:\n",
    "        results[col+'_'+key] = results[col].apply(lambda x: unnest_cell(x,key))\n",
    "    results.drop(col,axis=1,inplace=True)\n",
    "results"
   ]
  },
  {
   "cell_type": "code",
   "execution_count": null,
   "metadata": {
    "ExecuteTime": {
     "end_time": "2020-06-04T03:42:41.930974Z",
     "start_time": "2020-06-04T03:42:40.593Z"
    }
   },
   "outputs": [],
   "source": [
    "results.to_csv('api_results_060320.csv',index=False)"
   ]
  },
  {
   "cell_type": "code",
   "execution_count": null,
   "metadata": {
    "ExecuteTime": {
     "end_time": "2020-06-04T03:42:41.932146Z",
     "start_time": "2020-06-04T03:42:40.596Z"
    }
   },
   "outputs": [],
   "source": [
    "# i=1260\n",
    "# results.to_csv(f\"tmdb_extract_{i}_of_{len(dftm['id'])}.csv\")"
   ]
  },
  {
   "cell_type": "code",
   "execution_count": null,
   "metadata": {
    "ExecuteTime": {
     "end_time": "2020-06-04T03:42:41.933386Z",
     "start_time": "2020-06-04T03:42:40.598Z"
    }
   },
   "outputs": [],
   "source": [
    "# results.to_csv('cleaned_results_example.csv')"
   ]
  },
  {
   "cell_type": "code",
   "execution_count": null,
   "metadata": {
    "ExecuteTime": {
     "end_time": "2020-06-04T03:42:41.934505Z",
     "start_time": "2020-06-04T03:42:40.601Z"
    }
   },
   "outputs": [],
   "source": [
    "results"
   ]
  },
  {
   "cell_type": "code",
   "execution_count": null,
   "metadata": {
    "ExecuteTime": {
     "end_time": "2020-06-04T03:42:41.935412Z",
     "start_time": "2020-06-04T03:42:40.604Z"
    }
   },
   "outputs": [],
   "source": [
    "results.info()"
   ]
  },
  {
   "cell_type": "code",
   "execution_count": null,
   "metadata": {},
   "outputs": [],
   "source": []
  },
  {
   "cell_type": "code",
   "execution_count": null,
   "metadata": {
    "ExecuteTime": {
     "end_time": "2020-06-04T03:42:41.936372Z",
     "start_time": "2020-06-04T03:42:40.608Z"
    }
   },
   "outputs": [],
   "source": [
    "results['production_companies'][0]"
   ]
  },
  {
   "cell_type": "code",
   "execution_count": null,
   "metadata": {},
   "outputs": [],
   "source": []
  },
  {
   "cell_type": "code",
   "execution_count": null,
   "metadata": {},
   "outputs": [],
   "source": []
  },
  {
   "cell_type": "markdown",
   "metadata": {},
   "source": [
    "# [i/o] BOOKMARK 0603-Ratings"
   ]
  },
  {
   "cell_type": "code",
   "execution_count": 15,
   "metadata": {
    "ExecuteTime": {
     "end_time": "2020-06-04T03:42:55.994973Z",
     "start_time": "2020-06-04T03:42:55.962445Z"
    }
   },
   "outputs": [
    {
     "data": {
      "text/html": [
       "<div>\n",
       "<style scoped>\n",
       "    .dataframe tbody tr th:only-of-type {\n",
       "        vertical-align: middle;\n",
       "    }\n",
       "\n",
       "    .dataframe tbody tr th {\n",
       "        vertical-align: top;\n",
       "    }\n",
       "\n",
       "    .dataframe thead th {\n",
       "        text-align: right;\n",
       "    }\n",
       "</style>\n",
       "<table border=\"1\" class=\"dataframe\">\n",
       "  <thead>\n",
       "    <tr style=\"text-align: right;\">\n",
       "      <th></th>\n",
       "      <th>id</th>\n",
       "      <th>imdb_id</th>\n",
       "      <th>title</th>\n",
       "      <th>budget</th>\n",
       "      <th>release_date</th>\n",
       "      <th>revenue</th>\n",
       "      <th>runtime</th>\n",
       "      <th>original_language</th>\n",
       "      <th>original_title</th>\n",
       "      <th>vote_average</th>\n",
       "      <th>vote_count</th>\n",
       "      <th>poster_path</th>\n",
       "      <th>genres_id</th>\n",
       "      <th>genres_name</th>\n",
       "      <th>spoken_languages_name</th>\n",
       "      <th>production_companies_id</th>\n",
       "      <th>production_companies_name</th>\n",
       "      <th>production_companies_origin_country</th>\n",
       "    </tr>\n",
       "  </thead>\n",
       "  <tbody>\n",
       "    <tr>\n",
       "      <td>0</td>\n",
       "      <td>116977</td>\n",
       "      <td>tt0249516</td>\n",
       "      <td>Foodfight!</td>\n",
       "      <td>65000000</td>\n",
       "      <td>2012-06-15</td>\n",
       "      <td>73706</td>\n",
       "      <td>87.0</td>\n",
       "      <td>en</td>\n",
       "      <td>Foodfight!</td>\n",
       "      <td>1.7</td>\n",
       "      <td>76</td>\n",
       "      <td>/R1zn75Yz4wpdd85byqhP7mT6No.jpg</td>\n",
       "      <td>[16, 28, 35, 10751]</td>\n",
       "      <td>['Animation', 'Action', 'Comedy', 'Family']</td>\n",
       "      <td>['English']</td>\n",
       "      <td>[4174, 1632, 133802, 133803, 133804]</td>\n",
       "      <td>['Threshold Entertainment', 'Lionsgate', 'C47 ...</td>\n",
       "      <td>['', 'US', '', '', '']</td>\n",
       "    </tr>\n",
       "    <tr>\n",
       "      <td>1</td>\n",
       "      <td>308024</td>\n",
       "      <td>tt3844362</td>\n",
       "      <td>The Overnight</td>\n",
       "      <td>0</td>\n",
       "      <td>2015-06-19</td>\n",
       "      <td>1100000</td>\n",
       "      <td>80.0</td>\n",
       "      <td>en</td>\n",
       "      <td>The Overnight</td>\n",
       "      <td>6.0</td>\n",
       "      <td>222</td>\n",
       "      <td>/65L466UR3h1jw8mTJhGmMZlj0eT.jpg</td>\n",
       "      <td>[9648, 35]</td>\n",
       "      <td>['Mystery', 'Comedy']</td>\n",
       "      <td>['English', 'Français']</td>\n",
       "      <td>[1974, 63631]</td>\n",
       "      <td>['Duplass Brothers Productions', \"Gettin' Rad ...</td>\n",
       "      <td>['US', '']</td>\n",
       "    </tr>\n",
       "    <tr>\n",
       "      <td>2</td>\n",
       "      <td>308024</td>\n",
       "      <td>tt3844362</td>\n",
       "      <td>The Overnight</td>\n",
       "      <td>0</td>\n",
       "      <td>2015-06-19</td>\n",
       "      <td>1100000</td>\n",
       "      <td>80.0</td>\n",
       "      <td>en</td>\n",
       "      <td>The Overnight</td>\n",
       "      <td>6.0</td>\n",
       "      <td>222</td>\n",
       "      <td>/65L466UR3h1jw8mTJhGmMZlj0eT.jpg</td>\n",
       "      <td>[9648, 35]</td>\n",
       "      <td>['Mystery', 'Comedy']</td>\n",
       "      <td>['English', 'Français']</td>\n",
       "      <td>[1974, 63631]</td>\n",
       "      <td>['Duplass Brothers Productions', \"Gettin' Rad ...</td>\n",
       "      <td>['US', '']</td>\n",
       "    </tr>\n",
       "    <tr>\n",
       "      <td>3</td>\n",
       "      <td>83770</td>\n",
       "      <td>tt0337692</td>\n",
       "      <td>On the Road</td>\n",
       "      <td>25000000</td>\n",
       "      <td>2012-05-22</td>\n",
       "      <td>8784318</td>\n",
       "      <td>137.0</td>\n",
       "      <td>en</td>\n",
       "      <td>On the Road</td>\n",
       "      <td>5.6</td>\n",
       "      <td>600</td>\n",
       "      <td>/k7LQteD02p3VHixbS6NXHkFdFwT.jpg</td>\n",
       "      <td>[12, 18]</td>\n",
       "      <td>['Adventure', 'Drama']</td>\n",
       "      <td>['English', 'Français']</td>\n",
       "      <td>[8372, 70, 79077, 614, 83, 10611, 346, 21914, ...</td>\n",
       "      <td>['SPAD Films', 'American Zoetrope', 'Jerry Lei...</td>\n",
       "      <td>['', 'US', '', '', 'FR', 'FR', 'BR', 'AR', 'CA...</td>\n",
       "    </tr>\n",
       "    <tr>\n",
       "      <td>4</td>\n",
       "      <td>83770</td>\n",
       "      <td>tt0337692</td>\n",
       "      <td>On the Road</td>\n",
       "      <td>25000000</td>\n",
       "      <td>2012-05-22</td>\n",
       "      <td>8784318</td>\n",
       "      <td>137.0</td>\n",
       "      <td>en</td>\n",
       "      <td>On the Road</td>\n",
       "      <td>5.6</td>\n",
       "      <td>600</td>\n",
       "      <td>/k7LQteD02p3VHixbS6NXHkFdFwT.jpg</td>\n",
       "      <td>[12, 18]</td>\n",
       "      <td>['Adventure', 'Drama']</td>\n",
       "      <td>['English', 'Français']</td>\n",
       "      <td>[8372, 70, 79077, 614, 83, 10611, 346, 21914, ...</td>\n",
       "      <td>['SPAD Films', 'American Zoetrope', 'Jerry Lei...</td>\n",
       "      <td>['', 'US', '', '', 'FR', 'FR', 'BR', 'AR', 'CA...</td>\n",
       "    </tr>\n",
       "  </tbody>\n",
       "</table>\n",
       "</div>"
      ],
      "text/plain": [
       "       id    imdb_id          title    budget release_date  revenue  runtime  \\\n",
       "0  116977  tt0249516     Foodfight!  65000000   2012-06-15    73706     87.0   \n",
       "1  308024  tt3844362  The Overnight         0   2015-06-19  1100000     80.0   \n",
       "2  308024  tt3844362  The Overnight         0   2015-06-19  1100000     80.0   \n",
       "3   83770  tt0337692    On the Road  25000000   2012-05-22  8784318    137.0   \n",
       "4   83770  tt0337692    On the Road  25000000   2012-05-22  8784318    137.0   \n",
       "\n",
       "  original_language original_title  vote_average  vote_count  \\\n",
       "0                en     Foodfight!           1.7          76   \n",
       "1                en  The Overnight           6.0         222   \n",
       "2                en  The Overnight           6.0         222   \n",
       "3                en    On the Road           5.6         600   \n",
       "4                en    On the Road           5.6         600   \n",
       "\n",
       "                        poster_path            genres_id  \\\n",
       "0   /R1zn75Yz4wpdd85byqhP7mT6No.jpg  [16, 28, 35, 10751]   \n",
       "1  /65L466UR3h1jw8mTJhGmMZlj0eT.jpg           [9648, 35]   \n",
       "2  /65L466UR3h1jw8mTJhGmMZlj0eT.jpg           [9648, 35]   \n",
       "3  /k7LQteD02p3VHixbS6NXHkFdFwT.jpg             [12, 18]   \n",
       "4  /k7LQteD02p3VHixbS6NXHkFdFwT.jpg             [12, 18]   \n",
       "\n",
       "                                   genres_name    spoken_languages_name  \\\n",
       "0  ['Animation', 'Action', 'Comedy', 'Family']              ['English']   \n",
       "1                        ['Mystery', 'Comedy']  ['English', 'Français']   \n",
       "2                        ['Mystery', 'Comedy']  ['English', 'Français']   \n",
       "3                       ['Adventure', 'Drama']  ['English', 'Français']   \n",
       "4                       ['Adventure', 'Drama']  ['English', 'Français']   \n",
       "\n",
       "                             production_companies_id  \\\n",
       "0               [4174, 1632, 133802, 133803, 133804]   \n",
       "1                                      [1974, 63631]   \n",
       "2                                      [1974, 63631]   \n",
       "3  [8372, 70, 79077, 614, 83, 10611, 346, 21914, ...   \n",
       "4  [8372, 70, 79077, 614, 83, 10611, 346, 21914, ...   \n",
       "\n",
       "                           production_companies_name  \\\n",
       "0  ['Threshold Entertainment', 'Lionsgate', 'C47 ...   \n",
       "1  ['Duplass Brothers Productions', \"Gettin' Rad ...   \n",
       "2  ['Duplass Brothers Productions', \"Gettin' Rad ...   \n",
       "3  ['SPAD Films', 'American Zoetrope', 'Jerry Lei...   \n",
       "4  ['SPAD Films', 'American Zoetrope', 'Jerry Lei...   \n",
       "\n",
       "                 production_companies_origin_country  \n",
       "0                             ['', 'US', '', '', '']  \n",
       "1                                         ['US', '']  \n",
       "2                                         ['US', '']  \n",
       "3  ['', 'US', '', '', 'FR', 'FR', 'BR', 'AR', 'CA...  \n",
       "4  ['', 'US', '', '', 'FR', 'FR', 'BR', 'AR', 'CA...  "
      ]
     },
     "execution_count": 15,
     "metadata": {},
     "output_type": "execute_result"
    }
   ],
   "source": [
    "df= pd.read_csv('api_results_060320.csv')\n",
    "\n",
    "df.head()"
   ]
  },
  {
   "cell_type": "code",
   "execution_count": 16,
   "metadata": {
    "ExecuteTime": {
     "end_time": "2020-06-04T03:42:56.335998Z",
     "start_time": "2020-06-04T03:42:56.332283Z"
    }
   },
   "outputs": [],
   "source": [
    "movie_id = df['id'][0]\n",
    "\n",
    "def get_release_date_ratings(movie_id,as_json=True):\n",
    "    request_url = f\"https://api.themoviedb.org/3/movie/{movie_id}/release_dates?api_key={api_key}\"\n",
    "    response =requests.get(request_url)\n",
    "    \n",
    "    if as_json:\n",
    "        response = response.json()\n",
    "    return response"
   ]
  },
  {
   "cell_type": "code",
   "execution_count": 17,
   "metadata": {
    "ExecuteTime": {
     "end_time": "2020-06-04T03:42:56.863694Z",
     "start_time": "2020-06-04T03:42:56.727241Z"
    }
   },
   "outputs": [
    {
     "name": "stdout",
     "output_type": "stream",
     "text": [
      "dict_keys(['id', 'results'])\n"
     ]
    },
    {
     "data": {
      "text/plain": [
       "[{'iso_3166_1': 'US',\n",
       "  'release_dates': [{'certification': 'PG',\n",
       "    'iso_639_1': '',\n",
       "    'note': '',\n",
       "    'release_date': '2013-05-07T00:00:00.000Z',\n",
       "    'type': 3}]},\n",
       " {'iso_3166_1': 'GB',\n",
       "  'release_dates': [{'certification': 'PG',\n",
       "    'iso_639_1': '',\n",
       "    'note': '',\n",
       "    'release_date': '2012-06-15T00:00:00.000Z',\n",
       "    'type': 3}]}]"
      ]
     },
     "execution_count": 17,
     "metadata": {},
     "output_type": "execute_result"
    }
   ],
   "source": [
    "response = get_release_date_ratings(movie_id)\n",
    "print(response.keys())\n",
    "response['results']"
   ]
  },
  {
   "cell_type": "code",
   "execution_count": 20,
   "metadata": {
    "ExecuteTime": {
     "end_time": "2020-06-04T03:43:00.606167Z",
     "start_time": "2020-06-04T03:43:00.602750Z"
    }
   },
   "outputs": [
    {
     "data": {
      "text/plain": [
       "'GB'"
      ]
     },
     "execution_count": 20,
     "metadata": {},
     "output_type": "execute_result"
    }
   ],
   "source": [
    "response['results'][1]['iso_3166_1']"
   ]
  },
  {
   "cell_type": "code",
   "execution_count": 21,
   "metadata": {
    "ExecuteTime": {
     "end_time": "2020-06-04T03:43:00.895892Z",
     "start_time": "2020-06-04T03:43:00.887486Z"
    }
   },
   "outputs": [
    {
     "data": {
      "text/html": [
       "<div>\n",
       "<style scoped>\n",
       "    .dataframe tbody tr th:only-of-type {\n",
       "        vertical-align: middle;\n",
       "    }\n",
       "\n",
       "    .dataframe tbody tr th {\n",
       "        vertical-align: top;\n",
       "    }\n",
       "\n",
       "    .dataframe thead th {\n",
       "        text-align: right;\n",
       "    }\n",
       "</style>\n",
       "<table border=\"1\" class=\"dataframe\">\n",
       "  <thead>\n",
       "    <tr style=\"text-align: right;\">\n",
       "      <th></th>\n",
       "      <th>iso_3166_1</th>\n",
       "      <th>release_dates</th>\n",
       "    </tr>\n",
       "  </thead>\n",
       "  <tbody>\n",
       "    <tr>\n",
       "      <td>0</td>\n",
       "      <td>US</td>\n",
       "      <td>[{'certification': 'PG', 'iso_639_1': '', 'not...</td>\n",
       "    </tr>\n",
       "    <tr>\n",
       "      <td>1</td>\n",
       "      <td>GB</td>\n",
       "      <td>[{'certification': 'PG', 'iso_639_1': '', 'not...</td>\n",
       "    </tr>\n",
       "  </tbody>\n",
       "</table>\n",
       "</div>"
      ],
      "text/plain": [
       "  iso_3166_1                                      release_dates\n",
       "0         US  [{'certification': 'PG', 'iso_639_1': '', 'not...\n",
       "1         GB  [{'certification': 'PG', 'iso_639_1': '', 'not..."
      ]
     },
     "execution_count": 21,
     "metadata": {},
     "output_type": "execute_result"
    }
   ],
   "source": [
    "pd.DataFrame.from_records(response['results'])"
   ]
  },
  {
   "cell_type": "code",
   "execution_count": 22,
   "metadata": {
    "ExecuteTime": {
     "end_time": "2020-06-04T03:43:01.382653Z",
     "start_time": "2020-06-04T03:43:01.374073Z"
    }
   },
   "outputs": [
    {
     "data": {
      "text/html": [
       "<div>\n",
       "<style scoped>\n",
       "    .dataframe tbody tr th:only-of-type {\n",
       "        vertical-align: middle;\n",
       "    }\n",
       "\n",
       "    .dataframe tbody tr th {\n",
       "        vertical-align: top;\n",
       "    }\n",
       "\n",
       "    .dataframe thead th {\n",
       "        text-align: right;\n",
       "    }\n",
       "</style>\n",
       "<table border=\"1\" class=\"dataframe\">\n",
       "  <thead>\n",
       "    <tr style=\"text-align: right;\">\n",
       "      <th></th>\n",
       "      <th>iso_3166_1</th>\n",
       "      <th>release_dates</th>\n",
       "    </tr>\n",
       "  </thead>\n",
       "  <tbody>\n",
       "    <tr>\n",
       "      <td>0</td>\n",
       "      <td>US</td>\n",
       "      <td>[{'certification': 'PG', 'iso_639_1': '', 'not...</td>\n",
       "    </tr>\n",
       "    <tr>\n",
       "      <td>1</td>\n",
       "      <td>GB</td>\n",
       "      <td>[{'certification': 'PG', 'iso_639_1': '', 'not...</td>\n",
       "    </tr>\n",
       "  </tbody>\n",
       "</table>\n",
       "</div>"
      ],
      "text/plain": [
       "  iso_3166_1                                      release_dates\n",
       "0         US  [{'certification': 'PG', 'iso_639_1': '', 'not...\n",
       "1         GB  [{'certification': 'PG', 'iso_639_1': '', 'not..."
      ]
     },
     "execution_count": 22,
     "metadata": {},
     "output_type": "execute_result"
    }
   ],
   "source": [
    "pd.DataFrame.from_dict(response['results'])"
   ]
  },
  {
   "cell_type": "markdown",
   "metadata": {},
   "source": [
    "## Using `tmdbsimple` package"
   ]
  },
  {
   "cell_type": "code",
   "execution_count": null,
   "metadata": {},
   "outputs": [],
   "source": []
  },
  {
   "cell_type": "code",
   "execution_count": 23,
   "metadata": {
    "ExecuteTime": {
     "end_time": "2020-06-04T03:43:02.949752Z",
     "start_time": "2020-06-04T03:43:02.947464Z"
    }
   },
   "outputs": [],
   "source": [
    "# !pip install tmdbsimple\n",
    "import tmdbsimple as tmdb\n",
    "tmdb.API_KEY = api_key"
   ]
  },
  {
   "cell_type": "code",
   "execution_count": 24,
   "metadata": {
    "ExecuteTime": {
     "end_time": "2020-06-04T03:43:03.475713Z",
     "start_time": "2020-06-04T03:43:03.472428Z"
    }
   },
   "outputs": [
    {
     "data": {
      "text/plain": [
       "<tmdbsimple.movies.Movies at 0x10e14e5f8>"
      ]
     },
     "execution_count": 24,
     "metadata": {},
     "output_type": "execute_result"
    }
   ],
   "source": [
    "movie = tmdb.Movies(movie_id)\n",
    "movie"
   ]
  },
  {
   "cell_type": "code",
   "execution_count": 25,
   "metadata": {
    "ExecuteTime": {
     "end_time": "2020-06-04T03:43:04.874105Z",
     "start_time": "2020-06-04T03:43:04.755022Z"
    }
   },
   "outputs": [
    {
     "data": {
      "text/plain": [
       "{'id': 116977,\n",
       " 'imdb_id': 'tt0249516',\n",
       " 'facebook_id': None,\n",
       " 'instagram_id': None,\n",
       " 'twitter_id': None}"
      ]
     },
     "execution_count": 25,
     "metadata": {},
     "output_type": "execute_result"
    }
   ],
   "source": [
    "movie.external_ids()"
   ]
  },
  {
   "cell_type": "code",
   "execution_count": 26,
   "metadata": {
    "ExecuteTime": {
     "end_time": "2020-06-04T03:43:05.286375Z",
     "start_time": "2020-06-04T03:43:05.281768Z"
    }
   },
   "outputs": [
    {
     "data": {
      "text/plain": [
       "0       116977\n",
       "1       308024\n",
       "2       308024\n",
       "3        83770\n",
       "4        83770\n",
       "         ...  \n",
       "2030    547590\n",
       "2031    476968\n",
       "2032    491418\n",
       "2033    493922\n",
       "2034    532908\n",
       "Name: id, Length: 2035, dtype: int64"
      ]
     },
     "execution_count": 26,
     "metadata": {},
     "output_type": "execute_result"
    }
   ],
   "source": [
    "ids = df['id']\n",
    "ids"
   ]
  },
  {
   "cell_type": "code",
   "execution_count": 27,
   "metadata": {
    "ExecuteTime": {
     "end_time": "2020-06-04T03:43:06.079476Z",
     "start_time": "2020-06-04T03:43:05.952671Z"
    }
   },
   "outputs": [
    {
     "data": {
      "text/plain": [
       "[{'iso_3166_1': 'US',\n",
       "  'release_dates': [{'certification': 'PG',\n",
       "    'iso_639_1': '',\n",
       "    'note': '',\n",
       "    'release_date': '2013-05-07T00:00:00.000Z',\n",
       "    'type': 3}]},\n",
       " {'iso_3166_1': 'GB',\n",
       "  'release_dates': [{'certification': 'PG',\n",
       "    'iso_639_1': '',\n",
       "    'note': '',\n",
       "    'release_date': '2012-06-15T00:00:00.000Z',\n",
       "    'type': 3}]}]"
      ]
     },
     "execution_count": 27,
     "metadata": {},
     "output_type": "execute_result"
    }
   ],
   "source": [
    "releases = movie.release_dates()\n",
    "\n",
    "releases['results']"
   ]
  },
  {
   "cell_type": "code",
   "execution_count": 28,
   "metadata": {
    "ExecuteTime": {
     "end_time": "2020-06-04T03:43:06.553326Z",
     "start_time": "2020-06-04T03:43:06.548862Z"
    }
   },
   "outputs": [
    {
     "data": {
      "text/plain": [
       "[{'iso_3166_1': 'US',\n",
       "  'release_dates': [{'certification': 'PG',\n",
       "    'iso_639_1': '',\n",
       "    'note': '',\n",
       "    'release_date': '2013-05-07T00:00:00.000Z',\n",
       "    'type': 3}]},\n",
       " {'iso_3166_1': 'GB',\n",
       "  'release_dates': [{'certification': 'PG',\n",
       "    'iso_639_1': '',\n",
       "    'note': '',\n",
       "    'release_date': '2012-06-15T00:00:00.000Z',\n",
       "    'type': 3}]}]"
      ]
     },
     "execution_count": 28,
     "metadata": {},
     "output_type": "execute_result"
    }
   ],
   "source": [
    "movie_info = {}\n",
    "movie_info['id'] = releases['id']\n",
    "\n",
    "results = releases['results']\n",
    "results"
   ]
  },
  {
   "cell_type": "code",
   "execution_count": 29,
   "metadata": {
    "ExecuteTime": {
     "end_time": "2020-06-04T03:43:07.405633Z",
     "start_time": "2020-06-04T03:43:07.396781Z"
    }
   },
   "outputs": [
    {
     "data": {
      "text/html": [
       "<div>\n",
       "<style scoped>\n",
       "    .dataframe tbody tr th:only-of-type {\n",
       "        vertical-align: middle;\n",
       "    }\n",
       "\n",
       "    .dataframe tbody tr th {\n",
       "        vertical-align: top;\n",
       "    }\n",
       "\n",
       "    .dataframe thead th {\n",
       "        text-align: right;\n",
       "    }\n",
       "</style>\n",
       "<table border=\"1\" class=\"dataframe\">\n",
       "  <thead>\n",
       "    <tr style=\"text-align: right;\">\n",
       "      <th></th>\n",
       "      <th>id</th>\n",
       "      <th>certification</th>\n",
       "      <th>certification_release_date</th>\n",
       "    </tr>\n",
       "  </thead>\n",
       "  <tbody>\n",
       "    <tr>\n",
       "      <td>0</td>\n",
       "      <td>116977</td>\n",
       "      <td>PG</td>\n",
       "      <td>2013-05-07T00:00:00.000Z</td>\n",
       "    </tr>\n",
       "  </tbody>\n",
       "</table>\n",
       "</div>"
      ],
      "text/plain": [
       "       id certification certification_release_date\n",
       "0  116977            PG   2013-05-07T00:00:00.000Z"
      ]
     },
     "execution_count": 29,
     "metadata": {},
     "output_type": "execute_result"
    }
   ],
   "source": [
    "for r in results:\n",
    "#     display(r)\n",
    "    if r['iso_3166_1' ] =='US':\n",
    "        dates = r['release_dates']\n",
    "        movie_info['certification'] = [dates[i]['certification'] for i in range(len(dates))]\n",
    "        movie_info['certification_release_date'] = [dates[i]['release_date'] for i in range(len(dates))]\n",
    "\n",
    "pd.DataFrame(movie_info)"
   ]
  },
  {
   "cell_type": "code",
   "execution_count": 30,
   "metadata": {
    "ExecuteTime": {
     "end_time": "2020-06-04T03:43:08.356202Z",
     "start_time": "2020-06-04T03:43:08.350943Z"
    }
   },
   "outputs": [],
   "source": [
    "def get_certification_by_id(movie_id,as_df=False):\n",
    "    ## Get movie and release dates\n",
    "    movie = tmdb.Movies(movie_id)\n",
    "    releases = movie.release_dates()\n",
    "\n",
    "    ## Construct output dict\n",
    "    movie_info = {}\n",
    "    movie_info['id'] = releases['id']\n",
    "\n",
    "    ## Loop through results lists\n",
    "    results = releases['results']\n",
    "    \n",
    "    for r in results:\n",
    "\n",
    "        if r['iso_3166_1' ] =='US':\n",
    "            dates = r['release_dates']\n",
    "            \n",
    "            date_index = range(len(dates))\n",
    "            movie_info['certification'] = [dates[i]['certification'] for i in date_index]\n",
    "            movie_info['certification_release_date'] = [dates[i]['release_date'] for i in date_index]\n",
    "    if as_df:\n",
    "        return pd.DataFrame(movie_info)\n",
    "    else:\n",
    "        return movie_info\n",
    "    "
   ]
  },
  {
   "cell_type": "code",
   "execution_count": 31,
   "metadata": {
    "ExecuteTime": {
     "end_time": "2020-06-04T03:43:09.944779Z",
     "start_time": "2020-06-04T03:43:09.902078Z"
    }
   },
   "outputs": [
    {
     "data": {
      "text/html": [
       "<div>\n",
       "<style scoped>\n",
       "    .dataframe tbody tr th:only-of-type {\n",
       "        vertical-align: middle;\n",
       "    }\n",
       "\n",
       "    .dataframe tbody tr th {\n",
       "        vertical-align: top;\n",
       "    }\n",
       "\n",
       "    .dataframe thead th {\n",
       "        text-align: right;\n",
       "    }\n",
       "</style>\n",
       "<table border=\"1\" class=\"dataframe\">\n",
       "  <thead>\n",
       "    <tr style=\"text-align: right;\">\n",
       "      <th></th>\n",
       "      <th>id</th>\n",
       "      <th>imdb_id</th>\n",
       "      <th>title</th>\n",
       "      <th>budget</th>\n",
       "      <th>release_date</th>\n",
       "      <th>revenue</th>\n",
       "      <th>runtime</th>\n",
       "      <th>original_language</th>\n",
       "      <th>original_title</th>\n",
       "      <th>vote_average</th>\n",
       "      <th>vote_count</th>\n",
       "      <th>poster_path</th>\n",
       "      <th>genres_id</th>\n",
       "      <th>genres_name</th>\n",
       "      <th>spoken_languages_name</th>\n",
       "      <th>production_companies_id</th>\n",
       "      <th>production_companies_name</th>\n",
       "      <th>production_companies_origin_country</th>\n",
       "    </tr>\n",
       "  </thead>\n",
       "  <tbody>\n",
       "    <tr>\n",
       "      <td>0</td>\n",
       "      <td>116977</td>\n",
       "      <td>tt0249516</td>\n",
       "      <td>Foodfight!</td>\n",
       "      <td>65000000</td>\n",
       "      <td>2012-06-15</td>\n",
       "      <td>73706</td>\n",
       "      <td>87.0</td>\n",
       "      <td>en</td>\n",
       "      <td>Foodfight!</td>\n",
       "      <td>1.7</td>\n",
       "      <td>76</td>\n",
       "      <td>/R1zn75Yz4wpdd85byqhP7mT6No.jpg</td>\n",
       "      <td>[16, 28, 35, 10751]</td>\n",
       "      <td>['Animation', 'Action', 'Comedy', 'Family']</td>\n",
       "      <td>['English']</td>\n",
       "      <td>[4174, 1632, 133802, 133803, 133804]</td>\n",
       "      <td>['Threshold Entertainment', 'Lionsgate', 'C47 ...</td>\n",
       "      <td>['', 'US', '', '', '']</td>\n",
       "    </tr>\n",
       "    <tr>\n",
       "      <td>1</td>\n",
       "      <td>308024</td>\n",
       "      <td>tt3844362</td>\n",
       "      <td>The Overnight</td>\n",
       "      <td>0</td>\n",
       "      <td>2015-06-19</td>\n",
       "      <td>1100000</td>\n",
       "      <td>80.0</td>\n",
       "      <td>en</td>\n",
       "      <td>The Overnight</td>\n",
       "      <td>6.0</td>\n",
       "      <td>222</td>\n",
       "      <td>/65L466UR3h1jw8mTJhGmMZlj0eT.jpg</td>\n",
       "      <td>[9648, 35]</td>\n",
       "      <td>['Mystery', 'Comedy']</td>\n",
       "      <td>['English', 'Français']</td>\n",
       "      <td>[1974, 63631]</td>\n",
       "      <td>['Duplass Brothers Productions', \"Gettin' Rad ...</td>\n",
       "      <td>['US', '']</td>\n",
       "    </tr>\n",
       "    <tr>\n",
       "      <td>2</td>\n",
       "      <td>308024</td>\n",
       "      <td>tt3844362</td>\n",
       "      <td>The Overnight</td>\n",
       "      <td>0</td>\n",
       "      <td>2015-06-19</td>\n",
       "      <td>1100000</td>\n",
       "      <td>80.0</td>\n",
       "      <td>en</td>\n",
       "      <td>The Overnight</td>\n",
       "      <td>6.0</td>\n",
       "      <td>222</td>\n",
       "      <td>/65L466UR3h1jw8mTJhGmMZlj0eT.jpg</td>\n",
       "      <td>[9648, 35]</td>\n",
       "      <td>['Mystery', 'Comedy']</td>\n",
       "      <td>['English', 'Français']</td>\n",
       "      <td>[1974, 63631]</td>\n",
       "      <td>['Duplass Brothers Productions', \"Gettin' Rad ...</td>\n",
       "      <td>['US', '']</td>\n",
       "    </tr>\n",
       "    <tr>\n",
       "      <td>3</td>\n",
       "      <td>83770</td>\n",
       "      <td>tt0337692</td>\n",
       "      <td>On the Road</td>\n",
       "      <td>25000000</td>\n",
       "      <td>2012-05-22</td>\n",
       "      <td>8784318</td>\n",
       "      <td>137.0</td>\n",
       "      <td>en</td>\n",
       "      <td>On the Road</td>\n",
       "      <td>5.6</td>\n",
       "      <td>600</td>\n",
       "      <td>/k7LQteD02p3VHixbS6NXHkFdFwT.jpg</td>\n",
       "      <td>[12, 18]</td>\n",
       "      <td>['Adventure', 'Drama']</td>\n",
       "      <td>['English', 'Français']</td>\n",
       "      <td>[8372, 70, 79077, 614, 83, 10611, 346, 21914, ...</td>\n",
       "      <td>['SPAD Films', 'American Zoetrope', 'Jerry Lei...</td>\n",
       "      <td>['', 'US', '', '', 'FR', 'FR', 'BR', 'AR', 'CA...</td>\n",
       "    </tr>\n",
       "    <tr>\n",
       "      <td>4</td>\n",
       "      <td>83770</td>\n",
       "      <td>tt0337692</td>\n",
       "      <td>On the Road</td>\n",
       "      <td>25000000</td>\n",
       "      <td>2012-05-22</td>\n",
       "      <td>8784318</td>\n",
       "      <td>137.0</td>\n",
       "      <td>en</td>\n",
       "      <td>On the Road</td>\n",
       "      <td>5.6</td>\n",
       "      <td>600</td>\n",
       "      <td>/k7LQteD02p3VHixbS6NXHkFdFwT.jpg</td>\n",
       "      <td>[12, 18]</td>\n",
       "      <td>['Adventure', 'Drama']</td>\n",
       "      <td>['English', 'Français']</td>\n",
       "      <td>[8372, 70, 79077, 614, 83, 10611, 346, 21914, ...</td>\n",
       "      <td>['SPAD Films', 'American Zoetrope', 'Jerry Lei...</td>\n",
       "      <td>['', 'US', '', '', 'FR', 'FR', 'BR', 'AR', 'CA...</td>\n",
       "    </tr>\n",
       "    <tr>\n",
       "      <td>...</td>\n",
       "      <td>...</td>\n",
       "      <td>...</td>\n",
       "      <td>...</td>\n",
       "      <td>...</td>\n",
       "      <td>...</td>\n",
       "      <td>...</td>\n",
       "      <td>...</td>\n",
       "      <td>...</td>\n",
       "      <td>...</td>\n",
       "      <td>...</td>\n",
       "      <td>...</td>\n",
       "      <td>...</td>\n",
       "      <td>...</td>\n",
       "      <td>...</td>\n",
       "      <td>...</td>\n",
       "      <td>...</td>\n",
       "      <td>...</td>\n",
       "      <td>...</td>\n",
       "    </tr>\n",
       "    <tr>\n",
       "      <td>2030</td>\n",
       "      <td>547590</td>\n",
       "      <td>tt7374952</td>\n",
       "      <td>El Chicano</td>\n",
       "      <td>0</td>\n",
       "      <td>2019-05-03</td>\n",
       "      <td>1370000</td>\n",
       "      <td>148.0</td>\n",
       "      <td>en</td>\n",
       "      <td>El Chicano</td>\n",
       "      <td>7.5</td>\n",
       "      <td>32</td>\n",
       "      <td>/6LSJL2KHUAxSjDTWA5V5Cr7sNNd.jpg</td>\n",
       "      <td>[18, 28, 80]</td>\n",
       "      <td>['Drama', 'Action', 'Crime']</td>\n",
       "      <td>['English']</td>\n",
       "      <td>[99321]</td>\n",
       "      <td>['WarParty Films']</td>\n",
       "      <td>['US']</td>\n",
       "    </tr>\n",
       "    <tr>\n",
       "      <td>2031</td>\n",
       "      <td>476968</td>\n",
       "      <td>tt7388562</td>\n",
       "      <td>Paul, Apostle of Christ</td>\n",
       "      <td>5000000</td>\n",
       "      <td>2018-03-23</td>\n",
       "      <td>22525668</td>\n",
       "      <td>108.0</td>\n",
       "      <td>en</td>\n",
       "      <td>Paul, Apostle of Christ</td>\n",
       "      <td>6.8</td>\n",
       "      <td>123</td>\n",
       "      <td>/2NUXG94dGMKYgJL1BkJGKynMb3l.jpg</td>\n",
       "      <td>[36]</td>\n",
       "      <td>['History']</td>\n",
       "      <td>['Español', 'English']</td>\n",
       "      <td>[81520, 10156, 105388]</td>\n",
       "      <td>['Outside Da Box', 'Affirm Films', 'ODB Films']</td>\n",
       "      <td>['', 'US', '']</td>\n",
       "    </tr>\n",
       "    <tr>\n",
       "      <td>2032</td>\n",
       "      <td>491418</td>\n",
       "      <td>tt7401588</td>\n",
       "      <td>Instant Family</td>\n",
       "      <td>48000000</td>\n",
       "      <td>2018-11-16</td>\n",
       "      <td>14700000</td>\n",
       "      <td>118.0</td>\n",
       "      <td>en</td>\n",
       "      <td>Instant Family</td>\n",
       "      <td>7.5</td>\n",
       "      <td>1437</td>\n",
       "      <td>/dic3GdmMpxxfkCQfvZnasb5ZkSG.jpg</td>\n",
       "      <td>[35, 18]</td>\n",
       "      <td>['Comedy', 'Drama']</td>\n",
       "      <td>['English']</td>\n",
       "      <td>[8537, 4, 119509]</td>\n",
       "      <td>['Closest to the Hole Productions', 'Paramount...</td>\n",
       "      <td>['US', 'US', 'US']</td>\n",
       "    </tr>\n",
       "    <tr>\n",
       "      <td>2033</td>\n",
       "      <td>493922</td>\n",
       "      <td>tt7784604</td>\n",
       "      <td>Hereditary</td>\n",
       "      <td>10000000</td>\n",
       "      <td>2018-06-07</td>\n",
       "      <td>79336821</td>\n",
       "      <td>127.0</td>\n",
       "      <td>en</td>\n",
       "      <td>Hereditary</td>\n",
       "      <td>7.1</td>\n",
       "      <td>3950</td>\n",
       "      <td>/lHV8HHlhwNup2VbpiACtlKzaGIQ.jpg</td>\n",
       "      <td>[27, 9648, 53]</td>\n",
       "      <td>['Horror', 'Mystery', 'Thriller']</td>\n",
       "      <td>['English']</td>\n",
       "      <td>[24277]</td>\n",
       "      <td>['PalmStar Media']</td>\n",
       "      <td>['US']</td>\n",
       "    </tr>\n",
       "    <tr>\n",
       "      <td>2034</td>\n",
       "      <td>532908</td>\n",
       "      <td>tt8632862</td>\n",
       "      <td>Fahrenheit 11/9</td>\n",
       "      <td>0</td>\n",
       "      <td>2018-09-10</td>\n",
       "      <td>0</td>\n",
       "      <td>128.0</td>\n",
       "      <td>en</td>\n",
       "      <td>Fahrenheit 11/9</td>\n",
       "      <td>7.2</td>\n",
       "      <td>247</td>\n",
       "      <td>/k2G8IO5oGHezde70Xv7falXhuWC.jpg</td>\n",
       "      <td>[99]</td>\n",
       "      <td>['Documentary']</td>\n",
       "      <td>['English']</td>\n",
       "      <td>[107992, 108737, 26137]</td>\n",
       "      <td>['Midwestern Films', 'State Run Films', 'Dog E...</td>\n",
       "      <td>['', '', 'US']</td>\n",
       "    </tr>\n",
       "  </tbody>\n",
       "</table>\n",
       "<p>2035 rows × 18 columns</p>\n",
       "</div>"
      ],
      "text/plain": [
       "          id    imdb_id                    title    budget release_date  \\\n",
       "0     116977  tt0249516               Foodfight!  65000000   2012-06-15   \n",
       "1     308024  tt3844362            The Overnight         0   2015-06-19   \n",
       "2     308024  tt3844362            The Overnight         0   2015-06-19   \n",
       "3      83770  tt0337692              On the Road  25000000   2012-05-22   \n",
       "4      83770  tt0337692              On the Road  25000000   2012-05-22   \n",
       "...      ...        ...                      ...       ...          ...   \n",
       "2030  547590  tt7374952               El Chicano         0   2019-05-03   \n",
       "2031  476968  tt7388562  Paul, Apostle of Christ   5000000   2018-03-23   \n",
       "2032  491418  tt7401588           Instant Family  48000000   2018-11-16   \n",
       "2033  493922  tt7784604               Hereditary  10000000   2018-06-07   \n",
       "2034  532908  tt8632862          Fahrenheit 11/9         0   2018-09-10   \n",
       "\n",
       "       revenue  runtime original_language           original_title  \\\n",
       "0        73706     87.0                en               Foodfight!   \n",
       "1      1100000     80.0                en            The Overnight   \n",
       "2      1100000     80.0                en            The Overnight   \n",
       "3      8784318    137.0                en              On the Road   \n",
       "4      8784318    137.0                en              On the Road   \n",
       "...        ...      ...               ...                      ...   \n",
       "2030   1370000    148.0                en               El Chicano   \n",
       "2031  22525668    108.0                en  Paul, Apostle of Christ   \n",
       "2032  14700000    118.0                en           Instant Family   \n",
       "2033  79336821    127.0                en               Hereditary   \n",
       "2034         0    128.0                en          Fahrenheit 11/9   \n",
       "\n",
       "      vote_average  vote_count                       poster_path  \\\n",
       "0              1.7          76   /R1zn75Yz4wpdd85byqhP7mT6No.jpg   \n",
       "1              6.0         222  /65L466UR3h1jw8mTJhGmMZlj0eT.jpg   \n",
       "2              6.0         222  /65L466UR3h1jw8mTJhGmMZlj0eT.jpg   \n",
       "3              5.6         600  /k7LQteD02p3VHixbS6NXHkFdFwT.jpg   \n",
       "4              5.6         600  /k7LQteD02p3VHixbS6NXHkFdFwT.jpg   \n",
       "...            ...         ...                               ...   \n",
       "2030           7.5          32  /6LSJL2KHUAxSjDTWA5V5Cr7sNNd.jpg   \n",
       "2031           6.8         123  /2NUXG94dGMKYgJL1BkJGKynMb3l.jpg   \n",
       "2032           7.5        1437  /dic3GdmMpxxfkCQfvZnasb5ZkSG.jpg   \n",
       "2033           7.1        3950  /lHV8HHlhwNup2VbpiACtlKzaGIQ.jpg   \n",
       "2034           7.2         247  /k2G8IO5oGHezde70Xv7falXhuWC.jpg   \n",
       "\n",
       "                genres_id                                  genres_name  \\\n",
       "0     [16, 28, 35, 10751]  ['Animation', 'Action', 'Comedy', 'Family']   \n",
       "1              [9648, 35]                        ['Mystery', 'Comedy']   \n",
       "2              [9648, 35]                        ['Mystery', 'Comedy']   \n",
       "3                [12, 18]                       ['Adventure', 'Drama']   \n",
       "4                [12, 18]                       ['Adventure', 'Drama']   \n",
       "...                   ...                                          ...   \n",
       "2030         [18, 28, 80]                 ['Drama', 'Action', 'Crime']   \n",
       "2031                 [36]                                  ['History']   \n",
       "2032             [35, 18]                          ['Comedy', 'Drama']   \n",
       "2033       [27, 9648, 53]            ['Horror', 'Mystery', 'Thriller']   \n",
       "2034                 [99]                              ['Documentary']   \n",
       "\n",
       "        spoken_languages_name  \\\n",
       "0                 ['English']   \n",
       "1     ['English', 'Français']   \n",
       "2     ['English', 'Français']   \n",
       "3     ['English', 'Français']   \n",
       "4     ['English', 'Français']   \n",
       "...                       ...   \n",
       "2030              ['English']   \n",
       "2031   ['Español', 'English']   \n",
       "2032              ['English']   \n",
       "2033              ['English']   \n",
       "2034              ['English']   \n",
       "\n",
       "                                production_companies_id  \\\n",
       "0                  [4174, 1632, 133802, 133803, 133804]   \n",
       "1                                         [1974, 63631]   \n",
       "2                                         [1974, 63631]   \n",
       "3     [8372, 70, 79077, 614, 83, 10611, 346, 21914, ...   \n",
       "4     [8372, 70, 79077, 614, 83, 10611, 346, 21914, ...   \n",
       "...                                                 ...   \n",
       "2030                                            [99321]   \n",
       "2031                             [81520, 10156, 105388]   \n",
       "2032                                  [8537, 4, 119509]   \n",
       "2033                                            [24277]   \n",
       "2034                            [107992, 108737, 26137]   \n",
       "\n",
       "                              production_companies_name  \\\n",
       "0     ['Threshold Entertainment', 'Lionsgate', 'C47 ...   \n",
       "1     ['Duplass Brothers Productions', \"Gettin' Rad ...   \n",
       "2     ['Duplass Brothers Productions', \"Gettin' Rad ...   \n",
       "3     ['SPAD Films', 'American Zoetrope', 'Jerry Lei...   \n",
       "4     ['SPAD Films', 'American Zoetrope', 'Jerry Lei...   \n",
       "...                                                 ...   \n",
       "2030                                 ['WarParty Films']   \n",
       "2031    ['Outside Da Box', 'Affirm Films', 'ODB Films']   \n",
       "2032  ['Closest to the Hole Productions', 'Paramount...   \n",
       "2033                                 ['PalmStar Media']   \n",
       "2034  ['Midwestern Films', 'State Run Films', 'Dog E...   \n",
       "\n",
       "                    production_companies_origin_country  \n",
       "0                                ['', 'US', '', '', '']  \n",
       "1                                            ['US', '']  \n",
       "2                                            ['US', '']  \n",
       "3     ['', 'US', '', '', 'FR', 'FR', 'BR', 'AR', 'CA...  \n",
       "4     ['', 'US', '', '', 'FR', 'FR', 'BR', 'AR', 'CA...  \n",
       "...                                                 ...  \n",
       "2030                                             ['US']  \n",
       "2031                                     ['', 'US', '']  \n",
       "2032                                 ['US', 'US', 'US']  \n",
       "2033                                             ['US']  \n",
       "2034                                     ['', '', 'US']  \n",
       "\n",
       "[2035 rows x 18 columns]"
      ]
     },
     "execution_count": 31,
     "metadata": {},
     "output_type": "execute_result"
    }
   ],
   "source": [
    "df= pd.read_csv('api_results_060320.csv')\n",
    "df"
   ]
  },
  {
   "cell_type": "code",
   "execution_count": 33,
   "metadata": {
    "ExecuteTime": {
     "end_time": "2020-06-04T03:52:17.487321Z",
     "start_time": "2020-06-04T03:43:33.817019Z"
    }
   },
   "outputs": [
    {
     "name": "stderr",
     "output_type": "stream",
     "text": [
      "100%|██████████| 2035/2035 [08:43<00:00,  3.89it/s]\n"
     ]
    }
   ],
   "source": [
    "from tqdm import trange\n",
    "import time\n",
    "movie_ratings = []\n",
    "\n",
    "for i in trange(len(df['id'])):\n",
    "    movie_id  = df['id'][i]\n",
    "    try:\n",
    "        time.sleep(0.1)\n",
    "        movie_ratings.append(get_certification_by_id(movie_id))\n",
    "    except:\n",
    "        print(f\"Error when retreiving {movie_id}\")\n"
   ]
  },
  {
   "cell_type": "code",
   "execution_count": 35,
   "metadata": {
    "ExecuteTime": {
     "end_time": "2020-06-04T03:54:26.322267Z",
     "start_time": "2020-06-04T03:54:26.310154Z"
    }
   },
   "outputs": [
    {
     "data": {
      "text/html": [
       "<div>\n",
       "<style scoped>\n",
       "    .dataframe tbody tr th:only-of-type {\n",
       "        vertical-align: middle;\n",
       "    }\n",
       "\n",
       "    .dataframe tbody tr th {\n",
       "        vertical-align: top;\n",
       "    }\n",
       "\n",
       "    .dataframe thead th {\n",
       "        text-align: right;\n",
       "    }\n",
       "</style>\n",
       "<table border=\"1\" class=\"dataframe\">\n",
       "  <thead>\n",
       "    <tr style=\"text-align: right;\">\n",
       "      <th></th>\n",
       "      <th>id</th>\n",
       "      <th>certification</th>\n",
       "      <th>certification_release_date</th>\n",
       "    </tr>\n",
       "  </thead>\n",
       "  <tbody>\n",
       "    <tr>\n",
       "      <td>0</td>\n",
       "      <td>116977</td>\n",
       "      <td>[PG]</td>\n",
       "      <td>[2013-05-07T00:00:00.000Z]</td>\n",
       "    </tr>\n",
       "    <tr>\n",
       "      <td>1</td>\n",
       "      <td>308024</td>\n",
       "      <td>[, R]</td>\n",
       "      <td>[2015-01-23T00:00:00.000Z, 2015-06-19T00:00:00...</td>\n",
       "    </tr>\n",
       "    <tr>\n",
       "      <td>2</td>\n",
       "      <td>308024</td>\n",
       "      <td>[, R]</td>\n",
       "      <td>[2015-01-23T00:00:00.000Z, 2015-06-19T00:00:00...</td>\n",
       "    </tr>\n",
       "    <tr>\n",
       "      <td>3</td>\n",
       "      <td>83770</td>\n",
       "      <td>[R]</td>\n",
       "      <td>[2012-12-21T00:00:00.000Z]</td>\n",
       "    </tr>\n",
       "    <tr>\n",
       "      <td>4</td>\n",
       "      <td>83770</td>\n",
       "      <td>[R]</td>\n",
       "      <td>[2012-12-21T00:00:00.000Z]</td>\n",
       "    </tr>\n",
       "  </tbody>\n",
       "</table>\n",
       "</div>"
      ],
      "text/plain": [
       "       id certification                         certification_release_date\n",
       "0  116977          [PG]                         [2013-05-07T00:00:00.000Z]\n",
       "1  308024         [, R]  [2015-01-23T00:00:00.000Z, 2015-06-19T00:00:00...\n",
       "2  308024         [, R]  [2015-01-23T00:00:00.000Z, 2015-06-19T00:00:00...\n",
       "3   83770           [R]                         [2012-12-21T00:00:00.000Z]\n",
       "4   83770           [R]                         [2012-12-21T00:00:00.000Z]"
      ]
     },
     "execution_count": 35,
     "metadata": {},
     "output_type": "execute_result"
    }
   ],
   "source": [
    "ratings_df = pd.DataFrame.from_records(movie_ratings)\n",
    "ratings_df.head()"
   ]
  },
  {
   "cell_type": "code",
   "execution_count": 50,
   "metadata": {
    "ExecuteTime": {
     "end_time": "2020-06-04T03:57:33.767411Z",
     "start_time": "2020-06-04T03:57:33.754869Z"
    }
   },
   "outputs": [
    {
     "data": {
      "text/html": [
       "<div>\n",
       "<style scoped>\n",
       "    .dataframe tbody tr th:only-of-type {\n",
       "        vertical-align: middle;\n",
       "    }\n",
       "\n",
       "    .dataframe tbody tr th {\n",
       "        vertical-align: top;\n",
       "    }\n",
       "\n",
       "    .dataframe thead th {\n",
       "        text-align: right;\n",
       "    }\n",
       "</style>\n",
       "<table border=\"1\" class=\"dataframe\">\n",
       "  <thead>\n",
       "    <tr style=\"text-align: right;\">\n",
       "      <th></th>\n",
       "      <th>id</th>\n",
       "      <th>certification</th>\n",
       "      <th>certification_release_date</th>\n",
       "    </tr>\n",
       "  </thead>\n",
       "  <tbody>\n",
       "    <tr>\n",
       "      <td>0</td>\n",
       "      <td>116977</td>\n",
       "      <td>[PG]</td>\n",
       "      <td>[2013-05-07T00:00:00.000Z]</td>\n",
       "    </tr>\n",
       "    <tr>\n",
       "      <td>1</td>\n",
       "      <td>308024</td>\n",
       "      <td>[, R]</td>\n",
       "      <td>[2015-01-23T00:00:00.000Z, 2015-06-19T00:00:00...</td>\n",
       "    </tr>\n",
       "    <tr>\n",
       "      <td>2</td>\n",
       "      <td>308024</td>\n",
       "      <td>[, R]</td>\n",
       "      <td>[2015-01-23T00:00:00.000Z, 2015-06-19T00:00:00...</td>\n",
       "    </tr>\n",
       "    <tr>\n",
       "      <td>3</td>\n",
       "      <td>83770</td>\n",
       "      <td>[R]</td>\n",
       "      <td>[2012-12-21T00:00:00.000Z]</td>\n",
       "    </tr>\n",
       "    <tr>\n",
       "      <td>4</td>\n",
       "      <td>83770</td>\n",
       "      <td>[R]</td>\n",
       "      <td>[2012-12-21T00:00:00.000Z]</td>\n",
       "    </tr>\n",
       "    <tr>\n",
       "      <td>...</td>\n",
       "      <td>...</td>\n",
       "      <td>...</td>\n",
       "      <td>...</td>\n",
       "    </tr>\n",
       "    <tr>\n",
       "      <td>2030</td>\n",
       "      <td>547590</td>\n",
       "      <td>[, , ]</td>\n",
       "      <td>[2018-09-22T00:00:00.000Z, 2019-05-03T00:00:00...</td>\n",
       "    </tr>\n",
       "    <tr>\n",
       "      <td>2031</td>\n",
       "      <td>476968</td>\n",
       "      <td>[PG-13, PG-13]</td>\n",
       "      <td>[2018-03-28T00:00:00.000Z, 2018-06-19T00:00:00...</td>\n",
       "    </tr>\n",
       "    <tr>\n",
       "      <td>2032</td>\n",
       "      <td>491418</td>\n",
       "      <td>[, , PG-13]</td>\n",
       "      <td>[2019-03-05T00:00:00.000Z, 2019-02-19T00:00:00...</td>\n",
       "    </tr>\n",
       "    <tr>\n",
       "      <td>2033</td>\n",
       "      <td>493922</td>\n",
       "      <td>[, R, R, R]</td>\n",
       "      <td>[2018-09-04T00:00:00.000Z, 2018-01-21T00:00:00...</td>\n",
       "    </tr>\n",
       "    <tr>\n",
       "      <td>2034</td>\n",
       "      <td>532908</td>\n",
       "      <td>[R, R]</td>\n",
       "      <td>[2018-09-21T00:00:00.000Z, 2018-09-10T00:00:00...</td>\n",
       "    </tr>\n",
       "  </tbody>\n",
       "</table>\n",
       "<p>2035 rows × 3 columns</p>\n",
       "</div>"
      ],
      "text/plain": [
       "          id   certification  \\\n",
       "0     116977            [PG]   \n",
       "1     308024           [, R]   \n",
       "2     308024           [, R]   \n",
       "3      83770             [R]   \n",
       "4      83770             [R]   \n",
       "...      ...             ...   \n",
       "2030  547590          [, , ]   \n",
       "2031  476968  [PG-13, PG-13]   \n",
       "2032  491418     [, , PG-13]   \n",
       "2033  493922     [, R, R, R]   \n",
       "2034  532908          [R, R]   \n",
       "\n",
       "                             certification_release_date  \n",
       "0                            [2013-05-07T00:00:00.000Z]  \n",
       "1     [2015-01-23T00:00:00.000Z, 2015-06-19T00:00:00...  \n",
       "2     [2015-01-23T00:00:00.000Z, 2015-06-19T00:00:00...  \n",
       "3                            [2012-12-21T00:00:00.000Z]  \n",
       "4                            [2012-12-21T00:00:00.000Z]  \n",
       "...                                                 ...  \n",
       "2030  [2018-09-22T00:00:00.000Z, 2019-05-03T00:00:00...  \n",
       "2031  [2018-03-28T00:00:00.000Z, 2018-06-19T00:00:00...  \n",
       "2032  [2019-03-05T00:00:00.000Z, 2019-02-19T00:00:00...  \n",
       "2033  [2018-09-04T00:00:00.000Z, 2018-01-21T00:00:00...  \n",
       "2034  [2018-09-21T00:00:00.000Z, 2018-09-10T00:00:00...  \n",
       "\n",
       "[2035 rows x 3 columns]"
      ]
     },
     "execution_count": 50,
     "metadata": {},
     "output_type": "execute_result"
    }
   ],
   "source": [
    "ratings_df"
   ]
  },
  {
   "cell_type": "code",
   "execution_count": 67,
   "metadata": {
    "ExecuteTime": {
     "end_time": "2020-06-04T04:01:46.598209Z",
     "start_time": "2020-06-04T04:01:46.595034Z"
    }
   },
   "outputs": [],
   "source": [
    "def clean_certification(row):\n",
    "    if isinstance(row,list):\n",
    "        out = ','.join(set([str(x) for x in row if len(x)>0]))\n",
    "    else:\n",
    "        return row\n",
    "    return out"
   ]
  },
  {
   "cell_type": "code",
   "execution_count": 68,
   "metadata": {
    "ExecuteTime": {
     "end_time": "2020-06-04T04:01:47.017678Z",
     "start_time": "2020-06-04T04:01:47.013957Z"
    }
   },
   "outputs": [
    {
     "data": {
      "text/plain": [
       "'R'"
      ]
     },
     "execution_count": 68,
     "metadata": {},
     "output_type": "execute_result"
    }
   ],
   "source": [
    "clean_certification(ratings_df['certification'][1])"
   ]
  },
  {
   "cell_type": "code",
   "execution_count": 70,
   "metadata": {
    "ExecuteTime": {
     "end_time": "2020-06-04T04:02:20.803760Z",
     "start_time": "2020-06-04T04:02:20.797542Z"
    }
   },
   "outputs": [],
   "source": [
    "ratings_df['rating'] = ratings_df['certification'].apply(clean_certification)"
   ]
  },
  {
   "cell_type": "code",
   "execution_count": 82,
   "metadata": {
    "ExecuteTime": {
     "end_time": "2020-06-04T04:10:19.990142Z",
     "start_time": "2020-06-04T04:10:19.974424Z"
    }
   },
   "outputs": [
    {
     "data": {
      "text/html": [
       "<div>\n",
       "<style scoped>\n",
       "    .dataframe tbody tr th:only-of-type {\n",
       "        vertical-align: middle;\n",
       "    }\n",
       "\n",
       "    .dataframe tbody tr th {\n",
       "        vertical-align: top;\n",
       "    }\n",
       "\n",
       "    .dataframe thead th {\n",
       "        text-align: right;\n",
       "    }\n",
       "</style>\n",
       "<table border=\"1\" class=\"dataframe\">\n",
       "  <thead>\n",
       "    <tr style=\"text-align: right;\">\n",
       "      <th></th>\n",
       "      <th>id</th>\n",
       "      <th>rating</th>\n",
       "      <th>release_date_cert</th>\n",
       "    </tr>\n",
       "  </thead>\n",
       "  <tbody>\n",
       "    <tr>\n",
       "      <td>0</td>\n",
       "      <td>116977</td>\n",
       "      <td>PG</td>\n",
       "      <td>2013-05-07 00:00:00+00:00</td>\n",
       "    </tr>\n",
       "    <tr>\n",
       "      <td>1</td>\n",
       "      <td>308024</td>\n",
       "      <td>R</td>\n",
       "      <td>2015-01-23 00:00:00+00:00</td>\n",
       "    </tr>\n",
       "    <tr>\n",
       "      <td>2</td>\n",
       "      <td>308024</td>\n",
       "      <td>R</td>\n",
       "      <td>2015-01-23 00:00:00+00:00</td>\n",
       "    </tr>\n",
       "    <tr>\n",
       "      <td>3</td>\n",
       "      <td>83770</td>\n",
       "      <td>R</td>\n",
       "      <td>2012-12-21 00:00:00+00:00</td>\n",
       "    </tr>\n",
       "    <tr>\n",
       "      <td>4</td>\n",
       "      <td>83770</td>\n",
       "      <td>R</td>\n",
       "      <td>2012-12-21 00:00:00+00:00</td>\n",
       "    </tr>\n",
       "    <tr>\n",
       "      <td>...</td>\n",
       "      <td>...</td>\n",
       "      <td>...</td>\n",
       "      <td>...</td>\n",
       "    </tr>\n",
       "    <tr>\n",
       "      <td>2030</td>\n",
       "      <td>547590</td>\n",
       "      <td></td>\n",
       "      <td>2018-09-22 00:00:00+00:00</td>\n",
       "    </tr>\n",
       "    <tr>\n",
       "      <td>2031</td>\n",
       "      <td>476968</td>\n",
       "      <td>PG-13</td>\n",
       "      <td>2018-03-28 00:00:00+00:00</td>\n",
       "    </tr>\n",
       "    <tr>\n",
       "      <td>2032</td>\n",
       "      <td>491418</td>\n",
       "      <td>PG-13</td>\n",
       "      <td>2019-03-05 00:00:00+00:00</td>\n",
       "    </tr>\n",
       "    <tr>\n",
       "      <td>2033</td>\n",
       "      <td>493922</td>\n",
       "      <td>R</td>\n",
       "      <td>2018-09-04 00:00:00+00:00</td>\n",
       "    </tr>\n",
       "    <tr>\n",
       "      <td>2034</td>\n",
       "      <td>532908</td>\n",
       "      <td>R</td>\n",
       "      <td>2018-09-21 00:00:00+00:00</td>\n",
       "    </tr>\n",
       "  </tbody>\n",
       "</table>\n",
       "<p>2035 rows × 3 columns</p>\n",
       "</div>"
      ],
      "text/plain": [
       "          id rating         release_date_cert\n",
       "0     116977     PG 2013-05-07 00:00:00+00:00\n",
       "1     308024      R 2015-01-23 00:00:00+00:00\n",
       "2     308024      R 2015-01-23 00:00:00+00:00\n",
       "3      83770      R 2012-12-21 00:00:00+00:00\n",
       "4      83770      R 2012-12-21 00:00:00+00:00\n",
       "...      ...    ...                       ...\n",
       "2030  547590        2018-09-22 00:00:00+00:00\n",
       "2031  476968  PG-13 2018-03-28 00:00:00+00:00\n",
       "2032  491418  PG-13 2019-03-05 00:00:00+00:00\n",
       "2033  493922      R 2018-09-04 00:00:00+00:00\n",
       "2034  532908      R 2018-09-21 00:00:00+00:00\n",
       "\n",
       "[2035 rows x 3 columns]"
      ]
     },
     "execution_count": 82,
     "metadata": {},
     "output_type": "execute_result"
    }
   ],
   "source": [
    "import numpy as np\n",
    "dates = ratings_df['certification_release_date'].apply(lambda x:\\\n",
    "                                               x[0] if isinstance(x,list)\\\n",
    "                                               else np.nan)\n",
    "ratings_df['release_date_cert'] = pd.to_datetime(dates)\n",
    "ratings_df = ratings_df.drop(['certification','certification_release_date'],axis=1)\n",
    "ratings_df"
   ]
  },
  {
   "cell_type": "code",
   "execution_count": 83,
   "metadata": {
    "ExecuteTime": {
     "end_time": "2020-06-04T04:10:51.912522Z",
     "start_time": "2020-06-04T04:10:51.891175Z"
    }
   },
   "outputs": [],
   "source": [
    "# ratings_df.to_csv('api_ratings_060320.csv')"
   ]
  },
  {
   "cell_type": "code",
   "execution_count": 88,
   "metadata": {
    "ExecuteTime": {
     "end_time": "2020-06-04T04:12:29.151814Z",
     "start_time": "2020-06-04T04:12:29.110491Z"
    }
   },
   "outputs": [
    {
     "data": {
      "text/html": [
       "<div>\n",
       "<style scoped>\n",
       "    .dataframe tbody tr th:only-of-type {\n",
       "        vertical-align: middle;\n",
       "    }\n",
       "\n",
       "    .dataframe tbody tr th {\n",
       "        vertical-align: top;\n",
       "    }\n",
       "\n",
       "    .dataframe thead th {\n",
       "        text-align: right;\n",
       "    }\n",
       "</style>\n",
       "<table border=\"1\" class=\"dataframe\">\n",
       "  <thead>\n",
       "    <tr style=\"text-align: right;\">\n",
       "      <th></th>\n",
       "      <th>id</th>\n",
       "      <th>rating</th>\n",
       "      <th>release_date_cert</th>\n",
       "      <th>imdb_id</th>\n",
       "      <th>title</th>\n",
       "      <th>budget</th>\n",
       "      <th>release_date</th>\n",
       "      <th>revenue</th>\n",
       "      <th>runtime</th>\n",
       "      <th>original_language</th>\n",
       "      <th>original_title</th>\n",
       "      <th>vote_average</th>\n",
       "      <th>vote_count</th>\n",
       "      <th>poster_path</th>\n",
       "      <th>genres_id</th>\n",
       "      <th>genres_name</th>\n",
       "      <th>spoken_languages_name</th>\n",
       "      <th>production_companies_id</th>\n",
       "      <th>production_companies_name</th>\n",
       "      <th>production_companies_origin_country</th>\n",
       "    </tr>\n",
       "  </thead>\n",
       "  <tbody>\n",
       "    <tr>\n",
       "      <td>0</td>\n",
       "      <td>116977</td>\n",
       "      <td>PG</td>\n",
       "      <td>2013-05-07 00:00:00+00:00</td>\n",
       "      <td>tt0249516</td>\n",
       "      <td>Foodfight!</td>\n",
       "      <td>65000000</td>\n",
       "      <td>2012-06-15</td>\n",
       "      <td>73706</td>\n",
       "      <td>87.0</td>\n",
       "      <td>en</td>\n",
       "      <td>Foodfight!</td>\n",
       "      <td>1.7</td>\n",
       "      <td>76</td>\n",
       "      <td>/R1zn75Yz4wpdd85byqhP7mT6No.jpg</td>\n",
       "      <td>[16, 28, 35, 10751]</td>\n",
       "      <td>['Animation', 'Action', 'Comedy', 'Family']</td>\n",
       "      <td>['English']</td>\n",
       "      <td>[4174, 1632, 133802, 133803, 133804]</td>\n",
       "      <td>['Threshold Entertainment', 'Lionsgate', 'C47 ...</td>\n",
       "      <td>['', 'US', '', '', '']</td>\n",
       "    </tr>\n",
       "    <tr>\n",
       "      <td>1</td>\n",
       "      <td>308024</td>\n",
       "      <td>R</td>\n",
       "      <td>2015-01-23 00:00:00+00:00</td>\n",
       "      <td>tt3844362</td>\n",
       "      <td>The Overnight</td>\n",
       "      <td>0</td>\n",
       "      <td>2015-06-19</td>\n",
       "      <td>1100000</td>\n",
       "      <td>80.0</td>\n",
       "      <td>en</td>\n",
       "      <td>The Overnight</td>\n",
       "      <td>6.0</td>\n",
       "      <td>222</td>\n",
       "      <td>/65L466UR3h1jw8mTJhGmMZlj0eT.jpg</td>\n",
       "      <td>[9648, 35]</td>\n",
       "      <td>['Mystery', 'Comedy']</td>\n",
       "      <td>['English', 'Français']</td>\n",
       "      <td>[1974, 63631]</td>\n",
       "      <td>['Duplass Brothers Productions', \"Gettin' Rad ...</td>\n",
       "      <td>['US', '']</td>\n",
       "    </tr>\n",
       "    <tr>\n",
       "      <td>2</td>\n",
       "      <td>308024</td>\n",
       "      <td>R</td>\n",
       "      <td>2015-01-23 00:00:00+00:00</td>\n",
       "      <td>tt3844362</td>\n",
       "      <td>The Overnight</td>\n",
       "      <td>0</td>\n",
       "      <td>2015-06-19</td>\n",
       "      <td>1100000</td>\n",
       "      <td>80.0</td>\n",
       "      <td>en</td>\n",
       "      <td>The Overnight</td>\n",
       "      <td>6.0</td>\n",
       "      <td>222</td>\n",
       "      <td>/65L466UR3h1jw8mTJhGmMZlj0eT.jpg</td>\n",
       "      <td>[9648, 35]</td>\n",
       "      <td>['Mystery', 'Comedy']</td>\n",
       "      <td>['English', 'Français']</td>\n",
       "      <td>[1974, 63631]</td>\n",
       "      <td>['Duplass Brothers Productions', \"Gettin' Rad ...</td>\n",
       "      <td>['US', '']</td>\n",
       "    </tr>\n",
       "    <tr>\n",
       "      <td>3</td>\n",
       "      <td>308024</td>\n",
       "      <td>R</td>\n",
       "      <td>2015-01-23 00:00:00+00:00</td>\n",
       "      <td>tt3844362</td>\n",
       "      <td>The Overnight</td>\n",
       "      <td>0</td>\n",
       "      <td>2015-06-19</td>\n",
       "      <td>1100000</td>\n",
       "      <td>80.0</td>\n",
       "      <td>en</td>\n",
       "      <td>The Overnight</td>\n",
       "      <td>6.0</td>\n",
       "      <td>222</td>\n",
       "      <td>/65L466UR3h1jw8mTJhGmMZlj0eT.jpg</td>\n",
       "      <td>[9648, 35]</td>\n",
       "      <td>['Mystery', 'Comedy']</td>\n",
       "      <td>['English', 'Français']</td>\n",
       "      <td>[1974, 63631]</td>\n",
       "      <td>['Duplass Brothers Productions', \"Gettin' Rad ...</td>\n",
       "      <td>['US', '']</td>\n",
       "    </tr>\n",
       "    <tr>\n",
       "      <td>4</td>\n",
       "      <td>308024</td>\n",
       "      <td>R</td>\n",
       "      <td>2015-01-23 00:00:00+00:00</td>\n",
       "      <td>tt3844362</td>\n",
       "      <td>The Overnight</td>\n",
       "      <td>0</td>\n",
       "      <td>2015-06-19</td>\n",
       "      <td>1100000</td>\n",
       "      <td>80.0</td>\n",
       "      <td>en</td>\n",
       "      <td>The Overnight</td>\n",
       "      <td>6.0</td>\n",
       "      <td>222</td>\n",
       "      <td>/65L466UR3h1jw8mTJhGmMZlj0eT.jpg</td>\n",
       "      <td>[9648, 35]</td>\n",
       "      <td>['Mystery', 'Comedy']</td>\n",
       "      <td>['English', 'Français']</td>\n",
       "      <td>[1974, 63631]</td>\n",
       "      <td>['Duplass Brothers Productions', \"Gettin' Rad ...</td>\n",
       "      <td>['US', '']</td>\n",
       "    </tr>\n",
       "    <tr>\n",
       "      <td>...</td>\n",
       "      <td>...</td>\n",
       "      <td>...</td>\n",
       "      <td>...</td>\n",
       "      <td>...</td>\n",
       "      <td>...</td>\n",
       "      <td>...</td>\n",
       "      <td>...</td>\n",
       "      <td>...</td>\n",
       "      <td>...</td>\n",
       "      <td>...</td>\n",
       "      <td>...</td>\n",
       "      <td>...</td>\n",
       "      <td>...</td>\n",
       "      <td>...</td>\n",
       "      <td>...</td>\n",
       "      <td>...</td>\n",
       "      <td>...</td>\n",
       "      <td>...</td>\n",
       "      <td>...</td>\n",
       "      <td>...</td>\n",
       "    </tr>\n",
       "    <tr>\n",
       "      <td>3362</td>\n",
       "      <td>547590</td>\n",
       "      <td></td>\n",
       "      <td>2018-09-22 00:00:00+00:00</td>\n",
       "      <td>tt7374952</td>\n",
       "      <td>El Chicano</td>\n",
       "      <td>0</td>\n",
       "      <td>2019-05-03</td>\n",
       "      <td>1370000</td>\n",
       "      <td>148.0</td>\n",
       "      <td>en</td>\n",
       "      <td>El Chicano</td>\n",
       "      <td>7.5</td>\n",
       "      <td>32</td>\n",
       "      <td>/6LSJL2KHUAxSjDTWA5V5Cr7sNNd.jpg</td>\n",
       "      <td>[18, 28, 80]</td>\n",
       "      <td>['Drama', 'Action', 'Crime']</td>\n",
       "      <td>['English']</td>\n",
       "      <td>[99321]</td>\n",
       "      <td>['WarParty Films']</td>\n",
       "      <td>['US']</td>\n",
       "    </tr>\n",
       "    <tr>\n",
       "      <td>3363</td>\n",
       "      <td>476968</td>\n",
       "      <td>PG-13</td>\n",
       "      <td>2018-03-28 00:00:00+00:00</td>\n",
       "      <td>tt7388562</td>\n",
       "      <td>Paul, Apostle of Christ</td>\n",
       "      <td>5000000</td>\n",
       "      <td>2018-03-23</td>\n",
       "      <td>22525668</td>\n",
       "      <td>108.0</td>\n",
       "      <td>en</td>\n",
       "      <td>Paul, Apostle of Christ</td>\n",
       "      <td>6.8</td>\n",
       "      <td>123</td>\n",
       "      <td>/2NUXG94dGMKYgJL1BkJGKynMb3l.jpg</td>\n",
       "      <td>[36]</td>\n",
       "      <td>['History']</td>\n",
       "      <td>['Español', 'English']</td>\n",
       "      <td>[81520, 10156, 105388]</td>\n",
       "      <td>['Outside Da Box', 'Affirm Films', 'ODB Films']</td>\n",
       "      <td>['', 'US', '']</td>\n",
       "    </tr>\n",
       "    <tr>\n",
       "      <td>3364</td>\n",
       "      <td>491418</td>\n",
       "      <td>PG-13</td>\n",
       "      <td>2019-03-05 00:00:00+00:00</td>\n",
       "      <td>tt7401588</td>\n",
       "      <td>Instant Family</td>\n",
       "      <td>48000000</td>\n",
       "      <td>2018-11-16</td>\n",
       "      <td>14700000</td>\n",
       "      <td>118.0</td>\n",
       "      <td>en</td>\n",
       "      <td>Instant Family</td>\n",
       "      <td>7.5</td>\n",
       "      <td>1437</td>\n",
       "      <td>/dic3GdmMpxxfkCQfvZnasb5ZkSG.jpg</td>\n",
       "      <td>[35, 18]</td>\n",
       "      <td>['Comedy', 'Drama']</td>\n",
       "      <td>['English']</td>\n",
       "      <td>[8537, 4, 119509]</td>\n",
       "      <td>['Closest to the Hole Productions', 'Paramount...</td>\n",
       "      <td>['US', 'US', 'US']</td>\n",
       "    </tr>\n",
       "    <tr>\n",
       "      <td>3365</td>\n",
       "      <td>493922</td>\n",
       "      <td>R</td>\n",
       "      <td>2018-09-04 00:00:00+00:00</td>\n",
       "      <td>tt7784604</td>\n",
       "      <td>Hereditary</td>\n",
       "      <td>10000000</td>\n",
       "      <td>2018-06-07</td>\n",
       "      <td>79336821</td>\n",
       "      <td>127.0</td>\n",
       "      <td>en</td>\n",
       "      <td>Hereditary</td>\n",
       "      <td>7.1</td>\n",
       "      <td>3950</td>\n",
       "      <td>/lHV8HHlhwNup2VbpiACtlKzaGIQ.jpg</td>\n",
       "      <td>[27, 9648, 53]</td>\n",
       "      <td>['Horror', 'Mystery', 'Thriller']</td>\n",
       "      <td>['English']</td>\n",
       "      <td>[24277]</td>\n",
       "      <td>['PalmStar Media']</td>\n",
       "      <td>['US']</td>\n",
       "    </tr>\n",
       "    <tr>\n",
       "      <td>3366</td>\n",
       "      <td>532908</td>\n",
       "      <td>R</td>\n",
       "      <td>2018-09-21 00:00:00+00:00</td>\n",
       "      <td>tt8632862</td>\n",
       "      <td>Fahrenheit 11/9</td>\n",
       "      <td>0</td>\n",
       "      <td>2018-09-10</td>\n",
       "      <td>0</td>\n",
       "      <td>128.0</td>\n",
       "      <td>en</td>\n",
       "      <td>Fahrenheit 11/9</td>\n",
       "      <td>7.2</td>\n",
       "      <td>247</td>\n",
       "      <td>/k2G8IO5oGHezde70Xv7falXhuWC.jpg</td>\n",
       "      <td>[99]</td>\n",
       "      <td>['Documentary']</td>\n",
       "      <td>['English']</td>\n",
       "      <td>[107992, 108737, 26137]</td>\n",
       "      <td>['Midwestern Films', 'State Run Films', 'Dog E...</td>\n",
       "      <td>['', '', 'US']</td>\n",
       "    </tr>\n",
       "  </tbody>\n",
       "</table>\n",
       "<p>3367 rows × 20 columns</p>\n",
       "</div>"
      ],
      "text/plain": [
       "          id rating         release_date_cert    imdb_id  \\\n",
       "0     116977     PG 2013-05-07 00:00:00+00:00  tt0249516   \n",
       "1     308024      R 2015-01-23 00:00:00+00:00  tt3844362   \n",
       "2     308024      R 2015-01-23 00:00:00+00:00  tt3844362   \n",
       "3     308024      R 2015-01-23 00:00:00+00:00  tt3844362   \n",
       "4     308024      R 2015-01-23 00:00:00+00:00  tt3844362   \n",
       "...      ...    ...                       ...        ...   \n",
       "3362  547590        2018-09-22 00:00:00+00:00  tt7374952   \n",
       "3363  476968  PG-13 2018-03-28 00:00:00+00:00  tt7388562   \n",
       "3364  491418  PG-13 2019-03-05 00:00:00+00:00  tt7401588   \n",
       "3365  493922      R 2018-09-04 00:00:00+00:00  tt7784604   \n",
       "3366  532908      R 2018-09-21 00:00:00+00:00  tt8632862   \n",
       "\n",
       "                        title    budget release_date   revenue  runtime  \\\n",
       "0                  Foodfight!  65000000   2012-06-15     73706     87.0   \n",
       "1               The Overnight         0   2015-06-19   1100000     80.0   \n",
       "2               The Overnight         0   2015-06-19   1100000     80.0   \n",
       "3               The Overnight         0   2015-06-19   1100000     80.0   \n",
       "4               The Overnight         0   2015-06-19   1100000     80.0   \n",
       "...                       ...       ...          ...       ...      ...   \n",
       "3362               El Chicano         0   2019-05-03   1370000    148.0   \n",
       "3363  Paul, Apostle of Christ   5000000   2018-03-23  22525668    108.0   \n",
       "3364           Instant Family  48000000   2018-11-16  14700000    118.0   \n",
       "3365               Hereditary  10000000   2018-06-07  79336821    127.0   \n",
       "3366          Fahrenheit 11/9         0   2018-09-10         0    128.0   \n",
       "\n",
       "     original_language           original_title  vote_average  vote_count  \\\n",
       "0                   en               Foodfight!           1.7          76   \n",
       "1                   en            The Overnight           6.0         222   \n",
       "2                   en            The Overnight           6.0         222   \n",
       "3                   en            The Overnight           6.0         222   \n",
       "4                   en            The Overnight           6.0         222   \n",
       "...                ...                      ...           ...         ...   \n",
       "3362                en               El Chicano           7.5          32   \n",
       "3363                en  Paul, Apostle of Christ           6.8         123   \n",
       "3364                en           Instant Family           7.5        1437   \n",
       "3365                en               Hereditary           7.1        3950   \n",
       "3366                en          Fahrenheit 11/9           7.2         247   \n",
       "\n",
       "                           poster_path            genres_id  \\\n",
       "0      /R1zn75Yz4wpdd85byqhP7mT6No.jpg  [16, 28, 35, 10751]   \n",
       "1     /65L466UR3h1jw8mTJhGmMZlj0eT.jpg           [9648, 35]   \n",
       "2     /65L466UR3h1jw8mTJhGmMZlj0eT.jpg           [9648, 35]   \n",
       "3     /65L466UR3h1jw8mTJhGmMZlj0eT.jpg           [9648, 35]   \n",
       "4     /65L466UR3h1jw8mTJhGmMZlj0eT.jpg           [9648, 35]   \n",
       "...                                ...                  ...   \n",
       "3362  /6LSJL2KHUAxSjDTWA5V5Cr7sNNd.jpg         [18, 28, 80]   \n",
       "3363  /2NUXG94dGMKYgJL1BkJGKynMb3l.jpg                 [36]   \n",
       "3364  /dic3GdmMpxxfkCQfvZnasb5ZkSG.jpg             [35, 18]   \n",
       "3365  /lHV8HHlhwNup2VbpiACtlKzaGIQ.jpg       [27, 9648, 53]   \n",
       "3366  /k2G8IO5oGHezde70Xv7falXhuWC.jpg                 [99]   \n",
       "\n",
       "                                      genres_name    spoken_languages_name  \\\n",
       "0     ['Animation', 'Action', 'Comedy', 'Family']              ['English']   \n",
       "1                           ['Mystery', 'Comedy']  ['English', 'Français']   \n",
       "2                           ['Mystery', 'Comedy']  ['English', 'Français']   \n",
       "3                           ['Mystery', 'Comedy']  ['English', 'Français']   \n",
       "4                           ['Mystery', 'Comedy']  ['English', 'Français']   \n",
       "...                                           ...                      ...   \n",
       "3362                 ['Drama', 'Action', 'Crime']              ['English']   \n",
       "3363                                  ['History']   ['Español', 'English']   \n",
       "3364                          ['Comedy', 'Drama']              ['English']   \n",
       "3365            ['Horror', 'Mystery', 'Thriller']              ['English']   \n",
       "3366                              ['Documentary']              ['English']   \n",
       "\n",
       "                   production_companies_id  \\\n",
       "0     [4174, 1632, 133802, 133803, 133804]   \n",
       "1                            [1974, 63631]   \n",
       "2                            [1974, 63631]   \n",
       "3                            [1974, 63631]   \n",
       "4                            [1974, 63631]   \n",
       "...                                    ...   \n",
       "3362                               [99321]   \n",
       "3363                [81520, 10156, 105388]   \n",
       "3364                     [8537, 4, 119509]   \n",
       "3365                               [24277]   \n",
       "3366               [107992, 108737, 26137]   \n",
       "\n",
       "                              production_companies_name  \\\n",
       "0     ['Threshold Entertainment', 'Lionsgate', 'C47 ...   \n",
       "1     ['Duplass Brothers Productions', \"Gettin' Rad ...   \n",
       "2     ['Duplass Brothers Productions', \"Gettin' Rad ...   \n",
       "3     ['Duplass Brothers Productions', \"Gettin' Rad ...   \n",
       "4     ['Duplass Brothers Productions', \"Gettin' Rad ...   \n",
       "...                                                 ...   \n",
       "3362                                 ['WarParty Films']   \n",
       "3363    ['Outside Da Box', 'Affirm Films', 'ODB Films']   \n",
       "3364  ['Closest to the Hole Productions', 'Paramount...   \n",
       "3365                                 ['PalmStar Media']   \n",
       "3366  ['Midwestern Films', 'State Run Films', 'Dog E...   \n",
       "\n",
       "     production_companies_origin_country  \n",
       "0                 ['', 'US', '', '', '']  \n",
       "1                             ['US', '']  \n",
       "2                             ['US', '']  \n",
       "3                             ['US', '']  \n",
       "4                             ['US', '']  \n",
       "...                                  ...  \n",
       "3362                              ['US']  \n",
       "3363                      ['', 'US', '']  \n",
       "3364                  ['US', 'US', 'US']  \n",
       "3365                              ['US']  \n",
       "3366                      ['', '', 'US']  \n",
       "\n",
       "[3367 rows x 20 columns]"
      ]
     },
     "execution_count": 88,
     "metadata": {},
     "output_type": "execute_result"
    }
   ],
   "source": [
    "df_merged = pd.merge(ratings_df,df,on='id',how=\"right\")\n",
    "df_merged"
   ]
  },
  {
   "cell_type": "raw",
   "metadata": {},
   "source": []
  },
  {
   "cell_type": "code",
   "execution_count": 90,
   "metadata": {
    "ExecuteTime": {
     "end_time": "2020-06-04T04:13:06.816625Z",
     "start_time": "2020-06-04T04:13:06.774010Z"
    }
   },
   "outputs": [
    {
     "data": {
      "text/html": [
       "<div>\n",
       "<style scoped>\n",
       "    .dataframe tbody tr th:only-of-type {\n",
       "        vertical-align: middle;\n",
       "    }\n",
       "\n",
       "    .dataframe tbody tr th {\n",
       "        vertical-align: top;\n",
       "    }\n",
       "\n",
       "    .dataframe thead th {\n",
       "        text-align: right;\n",
       "    }\n",
       "</style>\n",
       "<table border=\"1\" class=\"dataframe\">\n",
       "  <thead>\n",
       "    <tr style=\"text-align: right;\">\n",
       "      <th></th>\n",
       "      <th>id</th>\n",
       "      <th>rating</th>\n",
       "      <th>release_date_cert</th>\n",
       "      <th>imdb_id</th>\n",
       "      <th>title</th>\n",
       "      <th>budget</th>\n",
       "      <th>release_date</th>\n",
       "      <th>revenue</th>\n",
       "      <th>runtime</th>\n",
       "      <th>original_language</th>\n",
       "      <th>original_title</th>\n",
       "      <th>vote_average</th>\n",
       "      <th>vote_count</th>\n",
       "      <th>poster_path</th>\n",
       "      <th>genres_id</th>\n",
       "      <th>genres_name</th>\n",
       "      <th>spoken_languages_name</th>\n",
       "      <th>production_companies_id</th>\n",
       "      <th>production_companies_name</th>\n",
       "      <th>production_companies_origin_country</th>\n",
       "    </tr>\n",
       "  </thead>\n",
       "  <tbody>\n",
       "    <tr>\n",
       "      <td>0</td>\n",
       "      <td>116977</td>\n",
       "      <td>PG</td>\n",
       "      <td>2013-05-07 00:00:00+00:00</td>\n",
       "      <td>tt0249516</td>\n",
       "      <td>Foodfight!</td>\n",
       "      <td>65000000</td>\n",
       "      <td>2012-06-15</td>\n",
       "      <td>73706</td>\n",
       "      <td>87.0</td>\n",
       "      <td>en</td>\n",
       "      <td>Foodfight!</td>\n",
       "      <td>1.7</td>\n",
       "      <td>76</td>\n",
       "      <td>/R1zn75Yz4wpdd85byqhP7mT6No.jpg</td>\n",
       "      <td>[16, 28, 35, 10751]</td>\n",
       "      <td>['Animation', 'Action', 'Comedy', 'Family']</td>\n",
       "      <td>['English']</td>\n",
       "      <td>[4174, 1632, 133802, 133803, 133804]</td>\n",
       "      <td>['Threshold Entertainment', 'Lionsgate', 'C47 ...</td>\n",
       "      <td>['', 'US', '', '', '']</td>\n",
       "    </tr>\n",
       "    <tr>\n",
       "      <td>1</td>\n",
       "      <td>308024</td>\n",
       "      <td>R</td>\n",
       "      <td>2015-01-23 00:00:00+00:00</td>\n",
       "      <td>tt3844362</td>\n",
       "      <td>The Overnight</td>\n",
       "      <td>0</td>\n",
       "      <td>2015-06-19</td>\n",
       "      <td>1100000</td>\n",
       "      <td>80.0</td>\n",
       "      <td>en</td>\n",
       "      <td>The Overnight</td>\n",
       "      <td>6.0</td>\n",
       "      <td>222</td>\n",
       "      <td>/65L466UR3h1jw8mTJhGmMZlj0eT.jpg</td>\n",
       "      <td>[9648, 35]</td>\n",
       "      <td>['Mystery', 'Comedy']</td>\n",
       "      <td>['English', 'Français']</td>\n",
       "      <td>[1974, 63631]</td>\n",
       "      <td>['Duplass Brothers Productions', \"Gettin' Rad ...</td>\n",
       "      <td>['US', '']</td>\n",
       "    </tr>\n",
       "    <tr>\n",
       "      <td>5</td>\n",
       "      <td>83770</td>\n",
       "      <td>R</td>\n",
       "      <td>2012-12-21 00:00:00+00:00</td>\n",
       "      <td>tt0337692</td>\n",
       "      <td>On the Road</td>\n",
       "      <td>25000000</td>\n",
       "      <td>2012-05-22</td>\n",
       "      <td>8784318</td>\n",
       "      <td>137.0</td>\n",
       "      <td>en</td>\n",
       "      <td>On the Road</td>\n",
       "      <td>5.6</td>\n",
       "      <td>600</td>\n",
       "      <td>/k7LQteD02p3VHixbS6NXHkFdFwT.jpg</td>\n",
       "      <td>[12, 18]</td>\n",
       "      <td>['Adventure', 'Drama']</td>\n",
       "      <td>['English', 'Français']</td>\n",
       "      <td>[8372, 70, 79077, 614, 83, 10611, 346, 21914, ...</td>\n",
       "      <td>['SPAD Films', 'American Zoetrope', 'Jerry Lei...</td>\n",
       "      <td>['', 'US', '', '', 'FR', 'FR', 'BR', 'AR', 'CA...</td>\n",
       "    </tr>\n",
       "    <tr>\n",
       "      <td>14</td>\n",
       "      <td>116745</td>\n",
       "      <td>PG</td>\n",
       "      <td>2013-12-25 00:00:00+00:00</td>\n",
       "      <td>tt0359950</td>\n",
       "      <td>The Secret Life of Walter Mitty</td>\n",
       "      <td>90000000</td>\n",
       "      <td>2013-12-18</td>\n",
       "      <td>188133322</td>\n",
       "      <td>114.0</td>\n",
       "      <td>en</td>\n",
       "      <td>The Secret Life of Walter Mitty</td>\n",
       "      <td>7.1</td>\n",
       "      <td>5561</td>\n",
       "      <td>/tY6ypjKOOtujhxiSwTmvA4OZ5IE.jpg</td>\n",
       "      <td>[12, 35, 18, 14]</td>\n",
       "      <td>['Adventure', 'Comedy', 'Drama', 'Fantasy']</td>\n",
       "      <td>['English']</td>\n",
       "      <td>[290, 22213, 9118, 12, 10893, 37336, 25, 2932]</td>\n",
       "      <td>['Ingenious Media', 'TSG Entertainment', 'Samu...</td>\n",
       "      <td>['GB', 'US', 'US', 'US', '', '', 'US', 'US']</td>\n",
       "    </tr>\n",
       "    <tr>\n",
       "      <td>15</td>\n",
       "      <td>169917</td>\n",
       "      <td>R</td>\n",
       "      <td>2014-09-19 00:00:00+00:00</td>\n",
       "      <td>tt0365907</td>\n",
       "      <td>A Walk Among the Tombstones</td>\n",
       "      <td>28000000</td>\n",
       "      <td>2014-09-18</td>\n",
       "      <td>53181600</td>\n",
       "      <td>113.0</td>\n",
       "      <td>en</td>\n",
       "      <td>A Walk Among the Tombstones</td>\n",
       "      <td>6.3</td>\n",
       "      <td>1926</td>\n",
       "      <td>/bQTHTZezSudf27mMQtedHf1XpgO.jpg</td>\n",
       "      <td>[80, 18, 9648, 53]</td>\n",
       "      <td>['Crime', 'Drama', 'Mystery', 'Thriller']</td>\n",
       "      <td>['English']</td>\n",
       "      <td>[39043, 216, 40106, 11448, 10246, 8532, 40107,...</td>\n",
       "      <td>['Traveling Picture Show Company (TPSC)', 'Jer...</td>\n",
       "      <td>['', '', '', 'US', 'US', '', '', '']</td>\n",
       "    </tr>\n",
       "    <tr>\n",
       "      <td>...</td>\n",
       "      <td>...</td>\n",
       "      <td>...</td>\n",
       "      <td>...</td>\n",
       "      <td>...</td>\n",
       "      <td>...</td>\n",
       "      <td>...</td>\n",
       "      <td>...</td>\n",
       "      <td>...</td>\n",
       "      <td>...</td>\n",
       "      <td>...</td>\n",
       "      <td>...</td>\n",
       "      <td>...</td>\n",
       "      <td>...</td>\n",
       "      <td>...</td>\n",
       "      <td>...</td>\n",
       "      <td>...</td>\n",
       "      <td>...</td>\n",
       "      <td>...</td>\n",
       "      <td>...</td>\n",
       "      <td>...</td>\n",
       "    </tr>\n",
       "    <tr>\n",
       "      <td>3362</td>\n",
       "      <td>547590</td>\n",
       "      <td></td>\n",
       "      <td>2018-09-22 00:00:00+00:00</td>\n",
       "      <td>tt7374952</td>\n",
       "      <td>El Chicano</td>\n",
       "      <td>0</td>\n",
       "      <td>2019-05-03</td>\n",
       "      <td>1370000</td>\n",
       "      <td>148.0</td>\n",
       "      <td>en</td>\n",
       "      <td>El Chicano</td>\n",
       "      <td>7.5</td>\n",
       "      <td>32</td>\n",
       "      <td>/6LSJL2KHUAxSjDTWA5V5Cr7sNNd.jpg</td>\n",
       "      <td>[18, 28, 80]</td>\n",
       "      <td>['Drama', 'Action', 'Crime']</td>\n",
       "      <td>['English']</td>\n",
       "      <td>[99321]</td>\n",
       "      <td>['WarParty Films']</td>\n",
       "      <td>['US']</td>\n",
       "    </tr>\n",
       "    <tr>\n",
       "      <td>3363</td>\n",
       "      <td>476968</td>\n",
       "      <td>PG-13</td>\n",
       "      <td>2018-03-28 00:00:00+00:00</td>\n",
       "      <td>tt7388562</td>\n",
       "      <td>Paul, Apostle of Christ</td>\n",
       "      <td>5000000</td>\n",
       "      <td>2018-03-23</td>\n",
       "      <td>22525668</td>\n",
       "      <td>108.0</td>\n",
       "      <td>en</td>\n",
       "      <td>Paul, Apostle of Christ</td>\n",
       "      <td>6.8</td>\n",
       "      <td>123</td>\n",
       "      <td>/2NUXG94dGMKYgJL1BkJGKynMb3l.jpg</td>\n",
       "      <td>[36]</td>\n",
       "      <td>['History']</td>\n",
       "      <td>['Español', 'English']</td>\n",
       "      <td>[81520, 10156, 105388]</td>\n",
       "      <td>['Outside Da Box', 'Affirm Films', 'ODB Films']</td>\n",
       "      <td>['', 'US', '']</td>\n",
       "    </tr>\n",
       "    <tr>\n",
       "      <td>3364</td>\n",
       "      <td>491418</td>\n",
       "      <td>PG-13</td>\n",
       "      <td>2019-03-05 00:00:00+00:00</td>\n",
       "      <td>tt7401588</td>\n",
       "      <td>Instant Family</td>\n",
       "      <td>48000000</td>\n",
       "      <td>2018-11-16</td>\n",
       "      <td>14700000</td>\n",
       "      <td>118.0</td>\n",
       "      <td>en</td>\n",
       "      <td>Instant Family</td>\n",
       "      <td>7.5</td>\n",
       "      <td>1437</td>\n",
       "      <td>/dic3GdmMpxxfkCQfvZnasb5ZkSG.jpg</td>\n",
       "      <td>[35, 18]</td>\n",
       "      <td>['Comedy', 'Drama']</td>\n",
       "      <td>['English']</td>\n",
       "      <td>[8537, 4, 119509]</td>\n",
       "      <td>['Closest to the Hole Productions', 'Paramount...</td>\n",
       "      <td>['US', 'US', 'US']</td>\n",
       "    </tr>\n",
       "    <tr>\n",
       "      <td>3365</td>\n",
       "      <td>493922</td>\n",
       "      <td>R</td>\n",
       "      <td>2018-09-04 00:00:00+00:00</td>\n",
       "      <td>tt7784604</td>\n",
       "      <td>Hereditary</td>\n",
       "      <td>10000000</td>\n",
       "      <td>2018-06-07</td>\n",
       "      <td>79336821</td>\n",
       "      <td>127.0</td>\n",
       "      <td>en</td>\n",
       "      <td>Hereditary</td>\n",
       "      <td>7.1</td>\n",
       "      <td>3950</td>\n",
       "      <td>/lHV8HHlhwNup2VbpiACtlKzaGIQ.jpg</td>\n",
       "      <td>[27, 9648, 53]</td>\n",
       "      <td>['Horror', 'Mystery', 'Thriller']</td>\n",
       "      <td>['English']</td>\n",
       "      <td>[24277]</td>\n",
       "      <td>['PalmStar Media']</td>\n",
       "      <td>['US']</td>\n",
       "    </tr>\n",
       "    <tr>\n",
       "      <td>3366</td>\n",
       "      <td>532908</td>\n",
       "      <td>R</td>\n",
       "      <td>2018-09-21 00:00:00+00:00</td>\n",
       "      <td>tt8632862</td>\n",
       "      <td>Fahrenheit 11/9</td>\n",
       "      <td>0</td>\n",
       "      <td>2018-09-10</td>\n",
       "      <td>0</td>\n",
       "      <td>128.0</td>\n",
       "      <td>en</td>\n",
       "      <td>Fahrenheit 11/9</td>\n",
       "      <td>7.2</td>\n",
       "      <td>247</td>\n",
       "      <td>/k2G8IO5oGHezde70Xv7falXhuWC.jpg</td>\n",
       "      <td>[99]</td>\n",
       "      <td>['Documentary']</td>\n",
       "      <td>['English']</td>\n",
       "      <td>[107992, 108737, 26137]</td>\n",
       "      <td>['Midwestern Films', 'State Run Films', 'Dog E...</td>\n",
       "      <td>['', '', 'US']</td>\n",
       "    </tr>\n",
       "  </tbody>\n",
       "</table>\n",
       "<p>1586 rows × 20 columns</p>\n",
       "</div>"
      ],
      "text/plain": [
       "          id rating         release_date_cert    imdb_id  \\\n",
       "0     116977     PG 2013-05-07 00:00:00+00:00  tt0249516   \n",
       "1     308024      R 2015-01-23 00:00:00+00:00  tt3844362   \n",
       "5      83770      R 2012-12-21 00:00:00+00:00  tt0337692   \n",
       "14    116745     PG 2013-12-25 00:00:00+00:00  tt0359950   \n",
       "15    169917      R 2014-09-19 00:00:00+00:00  tt0365907   \n",
       "...      ...    ...                       ...        ...   \n",
       "3362  547590        2018-09-22 00:00:00+00:00  tt7374952   \n",
       "3363  476968  PG-13 2018-03-28 00:00:00+00:00  tt7388562   \n",
       "3364  491418  PG-13 2019-03-05 00:00:00+00:00  tt7401588   \n",
       "3365  493922      R 2018-09-04 00:00:00+00:00  tt7784604   \n",
       "3366  532908      R 2018-09-21 00:00:00+00:00  tt8632862   \n",
       "\n",
       "                                title    budget release_date    revenue  \\\n",
       "0                          Foodfight!  65000000   2012-06-15      73706   \n",
       "1                       The Overnight         0   2015-06-19    1100000   \n",
       "5                         On the Road  25000000   2012-05-22    8784318   \n",
       "14    The Secret Life of Walter Mitty  90000000   2013-12-18  188133322   \n",
       "15        A Walk Among the Tombstones  28000000   2014-09-18   53181600   \n",
       "...                               ...       ...          ...        ...   \n",
       "3362                       El Chicano         0   2019-05-03    1370000   \n",
       "3363          Paul, Apostle of Christ   5000000   2018-03-23   22525668   \n",
       "3364                   Instant Family  48000000   2018-11-16   14700000   \n",
       "3365                       Hereditary  10000000   2018-06-07   79336821   \n",
       "3366                  Fahrenheit 11/9         0   2018-09-10          0   \n",
       "\n",
       "      runtime original_language                   original_title  \\\n",
       "0        87.0                en                       Foodfight!   \n",
       "1        80.0                en                    The Overnight   \n",
       "5       137.0                en                      On the Road   \n",
       "14      114.0                en  The Secret Life of Walter Mitty   \n",
       "15      113.0                en      A Walk Among the Tombstones   \n",
       "...       ...               ...                              ...   \n",
       "3362    148.0                en                       El Chicano   \n",
       "3363    108.0                en          Paul, Apostle of Christ   \n",
       "3364    118.0                en                   Instant Family   \n",
       "3365    127.0                en                       Hereditary   \n",
       "3366    128.0                en                  Fahrenheit 11/9   \n",
       "\n",
       "      vote_average  vote_count                       poster_path  \\\n",
       "0              1.7          76   /R1zn75Yz4wpdd85byqhP7mT6No.jpg   \n",
       "1              6.0         222  /65L466UR3h1jw8mTJhGmMZlj0eT.jpg   \n",
       "5              5.6         600  /k7LQteD02p3VHixbS6NXHkFdFwT.jpg   \n",
       "14             7.1        5561  /tY6ypjKOOtujhxiSwTmvA4OZ5IE.jpg   \n",
       "15             6.3        1926  /bQTHTZezSudf27mMQtedHf1XpgO.jpg   \n",
       "...            ...         ...                               ...   \n",
       "3362           7.5          32  /6LSJL2KHUAxSjDTWA5V5Cr7sNNd.jpg   \n",
       "3363           6.8         123  /2NUXG94dGMKYgJL1BkJGKynMb3l.jpg   \n",
       "3364           7.5        1437  /dic3GdmMpxxfkCQfvZnasb5ZkSG.jpg   \n",
       "3365           7.1        3950  /lHV8HHlhwNup2VbpiACtlKzaGIQ.jpg   \n",
       "3366           7.2         247  /k2G8IO5oGHezde70Xv7falXhuWC.jpg   \n",
       "\n",
       "                genres_id                                  genres_name  \\\n",
       "0     [16, 28, 35, 10751]  ['Animation', 'Action', 'Comedy', 'Family']   \n",
       "1              [9648, 35]                        ['Mystery', 'Comedy']   \n",
       "5                [12, 18]                       ['Adventure', 'Drama']   \n",
       "14       [12, 35, 18, 14]  ['Adventure', 'Comedy', 'Drama', 'Fantasy']   \n",
       "15     [80, 18, 9648, 53]    ['Crime', 'Drama', 'Mystery', 'Thriller']   \n",
       "...                   ...                                          ...   \n",
       "3362         [18, 28, 80]                 ['Drama', 'Action', 'Crime']   \n",
       "3363                 [36]                                  ['History']   \n",
       "3364             [35, 18]                          ['Comedy', 'Drama']   \n",
       "3365       [27, 9648, 53]            ['Horror', 'Mystery', 'Thriller']   \n",
       "3366                 [99]                              ['Documentary']   \n",
       "\n",
       "        spoken_languages_name  \\\n",
       "0                 ['English']   \n",
       "1     ['English', 'Français']   \n",
       "5     ['English', 'Français']   \n",
       "14                ['English']   \n",
       "15                ['English']   \n",
       "...                       ...   \n",
       "3362              ['English']   \n",
       "3363   ['Español', 'English']   \n",
       "3364              ['English']   \n",
       "3365              ['English']   \n",
       "3366              ['English']   \n",
       "\n",
       "                                production_companies_id  \\\n",
       "0                  [4174, 1632, 133802, 133803, 133804]   \n",
       "1                                         [1974, 63631]   \n",
       "5     [8372, 70, 79077, 614, 83, 10611, 346, 21914, ...   \n",
       "14       [290, 22213, 9118, 12, 10893, 37336, 25, 2932]   \n",
       "15    [39043, 216, 40106, 11448, 10246, 8532, 40107,...   \n",
       "...                                                 ...   \n",
       "3362                                            [99321]   \n",
       "3363                             [81520, 10156, 105388]   \n",
       "3364                                  [8537, 4, 119509]   \n",
       "3365                                            [24277]   \n",
       "3366                            [107992, 108737, 26137]   \n",
       "\n",
       "                              production_companies_name  \\\n",
       "0     ['Threshold Entertainment', 'Lionsgate', 'C47 ...   \n",
       "1     ['Duplass Brothers Productions', \"Gettin' Rad ...   \n",
       "5     ['SPAD Films', 'American Zoetrope', 'Jerry Lei...   \n",
       "14    ['Ingenious Media', 'TSG Entertainment', 'Samu...   \n",
       "15    ['Traveling Picture Show Company (TPSC)', 'Jer...   \n",
       "...                                                 ...   \n",
       "3362                                 ['WarParty Films']   \n",
       "3363    ['Outside Da Box', 'Affirm Films', 'ODB Films']   \n",
       "3364  ['Closest to the Hole Productions', 'Paramount...   \n",
       "3365                                 ['PalmStar Media']   \n",
       "3366  ['Midwestern Films', 'State Run Films', 'Dog E...   \n",
       "\n",
       "                    production_companies_origin_country  \n",
       "0                                ['', 'US', '', '', '']  \n",
       "1                                            ['US', '']  \n",
       "5     ['', 'US', '', '', 'FR', 'FR', 'BR', 'AR', 'CA...  \n",
       "14         ['GB', 'US', 'US', 'US', '', '', 'US', 'US']  \n",
       "15                 ['', '', '', 'US', 'US', '', '', '']  \n",
       "...                                                 ...  \n",
       "3362                                             ['US']  \n",
       "3363                                     ['', 'US', '']  \n",
       "3364                                 ['US', 'US', 'US']  \n",
       "3365                                             ['US']  \n",
       "3366                                     ['', '', 'US']  \n",
       "\n",
       "[1586 rows x 20 columns]"
      ]
     },
     "execution_count": 90,
     "metadata": {},
     "output_type": "execute_result"
    }
   ],
   "source": [
    "df_merged =df_merged.drop_duplicates()\n",
    "df_merged"
   ]
  },
  {
   "cell_type": "code",
   "execution_count": 91,
   "metadata": {
    "ExecuteTime": {
     "end_time": "2020-06-04T04:13:25.432271Z",
     "start_time": "2020-06-04T04:13:25.394196Z"
    }
   },
   "outputs": [],
   "source": [
    "df_merged.to_csv('__api_results_combined.csv')"
   ]
  },
  {
   "cell_type": "raw",
   "metadata": {},
   "source": []
  },
  {
   "cell_type": "code",
   "execution_count": 44,
   "metadata": {
    "ExecuteTime": {
     "end_time": "2020-06-04T03:56:28.493717Z",
     "start_time": "2020-06-04T03:56:28.479824Z"
    }
   },
   "outputs": [
    {
     "ename": "TypeError",
     "evalue": "object of type 'float' has no len()",
     "output_type": "error",
     "traceback": [
      "\u001b[0;31m---------------------------------------------------------------------------\u001b[0m",
      "\u001b[0;31mTypeError\u001b[0m                                 Traceback (most recent call last)",
      "\u001b[0;32m<ipython-input-44-928f7fe7773d>\u001b[0m in \u001b[0;36m<module>\u001b[0;34m\u001b[0m\n\u001b[0;32m----> 1\u001b[0;31m \u001b[0mratings_df\u001b[0m\u001b[0;34m[\u001b[0m\u001b[0;34m'certification'\u001b[0m\u001b[0;34m]\u001b[0m\u001b[0;34m.\u001b[0m\u001b[0mmap\u001b[0m\u001b[0;34m(\u001b[0m\u001b[0mlen\u001b[0m\u001b[0;34m)\u001b[0m\u001b[0;34m\u001b[0m\u001b[0;34m\u001b[0m\u001b[0m\n\u001b[0m",
      "\u001b[0;32m/opt/anaconda3/envs/learn-env/lib/python3.6/site-packages/pandas/core/series.py\u001b[0m in \u001b[0;36mmap\u001b[0;34m(self, arg, na_action)\u001b[0m\n\u001b[1;32m   3823\u001b[0m         \u001b[0mdtype\u001b[0m\u001b[0;34m:\u001b[0m \u001b[0mobject\u001b[0m\u001b[0;34m\u001b[0m\u001b[0;34m\u001b[0m\u001b[0m\n\u001b[1;32m   3824\u001b[0m         \"\"\"\n\u001b[0;32m-> 3825\u001b[0;31m         \u001b[0mnew_values\u001b[0m \u001b[0;34m=\u001b[0m \u001b[0msuper\u001b[0m\u001b[0;34m(\u001b[0m\u001b[0;34m)\u001b[0m\u001b[0;34m.\u001b[0m\u001b[0m_map_values\u001b[0m\u001b[0;34m(\u001b[0m\u001b[0marg\u001b[0m\u001b[0;34m,\u001b[0m \u001b[0mna_action\u001b[0m\u001b[0;34m=\u001b[0m\u001b[0mna_action\u001b[0m\u001b[0;34m)\u001b[0m\u001b[0;34m\u001b[0m\u001b[0;34m\u001b[0m\u001b[0m\n\u001b[0m\u001b[1;32m   3826\u001b[0m         \u001b[0;32mreturn\u001b[0m \u001b[0mself\u001b[0m\u001b[0;34m.\u001b[0m\u001b[0m_constructor\u001b[0m\u001b[0;34m(\u001b[0m\u001b[0mnew_values\u001b[0m\u001b[0;34m,\u001b[0m \u001b[0mindex\u001b[0m\u001b[0;34m=\u001b[0m\u001b[0mself\u001b[0m\u001b[0;34m.\u001b[0m\u001b[0mindex\u001b[0m\u001b[0;34m)\u001b[0m\u001b[0;34m.\u001b[0m\u001b[0m__finalize__\u001b[0m\u001b[0;34m(\u001b[0m\u001b[0mself\u001b[0m\u001b[0;34m)\u001b[0m\u001b[0;34m\u001b[0m\u001b[0;34m\u001b[0m\u001b[0m\n\u001b[1;32m   3827\u001b[0m \u001b[0;34m\u001b[0m\u001b[0m\n",
      "\u001b[0;32m/opt/anaconda3/envs/learn-env/lib/python3.6/site-packages/pandas/core/base.py\u001b[0m in \u001b[0;36m_map_values\u001b[0;34m(self, mapper, na_action)\u001b[0m\n\u001b[1;32m   1298\u001b[0m \u001b[0;34m\u001b[0m\u001b[0m\n\u001b[1;32m   1299\u001b[0m         \u001b[0;31m# mapper is a function\u001b[0m\u001b[0;34m\u001b[0m\u001b[0;34m\u001b[0m\u001b[0;34m\u001b[0m\u001b[0m\n\u001b[0;32m-> 1300\u001b[0;31m         \u001b[0mnew_values\u001b[0m \u001b[0;34m=\u001b[0m \u001b[0mmap_f\u001b[0m\u001b[0;34m(\u001b[0m\u001b[0mvalues\u001b[0m\u001b[0;34m,\u001b[0m \u001b[0mmapper\u001b[0m\u001b[0;34m)\u001b[0m\u001b[0;34m\u001b[0m\u001b[0;34m\u001b[0m\u001b[0m\n\u001b[0m\u001b[1;32m   1301\u001b[0m \u001b[0;34m\u001b[0m\u001b[0m\n\u001b[1;32m   1302\u001b[0m         \u001b[0;32mreturn\u001b[0m \u001b[0mnew_values\u001b[0m\u001b[0;34m\u001b[0m\u001b[0;34m\u001b[0m\u001b[0m\n",
      "\u001b[0;32mpandas/_libs/lib.pyx\u001b[0m in \u001b[0;36mpandas._libs.lib.map_infer\u001b[0;34m()\u001b[0m\n",
      "\u001b[0;31mTypeError\u001b[0m: object of type 'float' has no len()"
     ]
    }
   ],
   "source": [
    "ratings_df['certification'].map(len)"
   ]
  },
  {
   "cell_type": "markdown",
   "metadata": {},
   "source": [
    "# Loop to get all IDs' release dates and certifications"
   ]
  },
  {
   "cell_type": "code",
   "execution_count": 128,
   "metadata": {
    "ExecuteTime": {
     "end_time": "2020-06-04T03:21:22.542240Z",
     "start_time": "2020-06-04T03:21:22.420857Z"
    }
   },
   "outputs": [
    {
     "data": {
      "text/html": [
       "<div>\n",
       "<style scoped>\n",
       "    .dataframe tbody tr th:only-of-type {\n",
       "        vertical-align: middle;\n",
       "    }\n",
       "\n",
       "    .dataframe tbody tr th {\n",
       "        vertical-align: top;\n",
       "    }\n",
       "\n",
       "    .dataframe thead th {\n",
       "        text-align: right;\n",
       "    }\n",
       "</style>\n",
       "<table border=\"1\" class=\"dataframe\">\n",
       "  <thead>\n",
       "    <tr style=\"text-align: right;\">\n",
       "      <th></th>\n",
       "      <th>id</th>\n",
       "      <th>results</th>\n",
       "    </tr>\n",
       "  </thead>\n",
       "  <tbody>\n",
       "    <tr>\n",
       "      <td>0</td>\n",
       "      <td>116977</td>\n",
       "      <td>{'iso_3166_1': 'US', 'release_dates': [{'certi...</td>\n",
       "    </tr>\n",
       "    <tr>\n",
       "      <td>1</td>\n",
       "      <td>116977</td>\n",
       "      <td>{'iso_3166_1': 'GB', 'release_dates': [{'certi...</td>\n",
       "    </tr>\n",
       "  </tbody>\n",
       "</table>\n",
       "</div>"
      ],
      "text/plain": [
       "       id                                            results\n",
       "0  116977  {'iso_3166_1': 'US', 'release_dates': [{'certi...\n",
       "1  116977  {'iso_3166_1': 'GB', 'release_dates': [{'certi..."
      ]
     },
     "execution_count": 128,
     "metadata": {},
     "output_type": "execute_result"
    }
   ],
   "source": [
    "pd.DataFrame(movie.release_dates())"
   ]
  },
  {
   "cell_type": "code",
   "execution_count": 121,
   "metadata": {
    "ExecuteTime": {
     "end_time": "2020-06-04T03:20:13.885993Z",
     "start_time": "2020-06-04T03:20:13.883967Z"
    }
   },
   "outputs": [],
   "source": [
    "# list(filter(lambda k: 'US' in k , movie.release_dates()['results'])#[0]['release_dates']"
   ]
  },
  {
   "cell_type": "code",
   "execution_count": null,
   "metadata": {},
   "outputs": [],
   "source": [
    "\n",
    "for movie_id in ids:\n",
    "    movie = tmdb.Movies(movie_id)\n",
    "    release_dates = movie.release_dates()['results']\n",
    "    "
   ]
  },
  {
   "cell_type": "code",
   "execution_count": null,
   "metadata": {},
   "outputs": [],
   "source": []
  },
  {
   "cell_type": "code",
   "execution_count": null,
   "metadata": {
    "ExecuteTime": {
     "end_time": "2020-05-30T21:21:06.196290Z",
     "start_time": "2020-05-30T21:21:06.015088Z"
    },
    "scrolled": false
   },
   "outputs": [],
   "source": [
    "\n",
    "search = tmdb.Search()\n",
    "search.movie(query='Avatar')"
   ]
  },
  {
   "cell_type": "markdown",
   "metadata": {},
   "source": [
    "# OLD"
   ]
  },
  {
   "cell_type": "markdown",
   "metadata": {},
   "source": [
    "## Find by id\n",
    "https://developers.themoviedb.org/3/find/find-by-id"
   ]
  },
  {
   "cell_type": "markdown",
   "metadata": {},
   "source": [
    "- Need: \n",
    "    - external_df\n",
    "    \n",
    "    - api_key\n",
    "    - language\n",
    "    - external_source  (imdb_id, freebase_mid, freebase_id, tvdb_id, tvrage_id, facebook_id, twitter_id, instagram_id)\n",
    "    \n",
    "```python\n",
    "url = f\"https://api.themoviedb.org/3/find/tt0111414?api_key={api_key}&language=en-US&external_source={imdb_id}\"\n",
    "```"
   ]
  },
  {
   "cell_type": "code",
   "execution_count": null,
   "metadata": {
    "ExecuteTime": {
     "end_time": "2020-05-31T16:50:08.295631Z",
     "start_time": "2020-05-31T16:50:08.292018Z"
    }
   },
   "outputs": [],
   "source": [
    "id_ = None\n",
    "source = \"imdb_id\"\n",
    "\n",
    "base_find_url = \"https://api.themoviedb.org/3/find/\"\n",
    "find_query = f\"{base_find_url}{id_}?api_key={api_key}&language=en-US&external_source={source}\"\n",
    "find_query"
   ]
  },
  {
   "cell_type": "markdown",
   "metadata": {
    "ExecuteTime": {
     "end_time": "2020-05-30T18:16:30.192199Z",
     "start_time": "2020-05-30T18:16:30.189768Z"
    }
   },
   "source": [
    "https://api.themoviedb.org/3/movie/550?api_key=e9a24ea6085f06fdd272dab49ad70c2e"
   ]
  }
 ],
 "metadata": {
  "kernelspec": {
   "display_name": "learn-env",
   "language": "python",
   "name": "learn-env"
  },
  "language_info": {
   "codemirror_mode": {
    "name": "ipython",
    "version": 3
   },
   "file_extension": ".py",
   "mimetype": "text/x-python",
   "name": "python",
   "nbconvert_exporter": "python",
   "pygments_lexer": "ipython3",
   "version": "3.6.9"
  },
  "toc": {
   "base_numbering": 1,
   "nav_menu": {},
   "number_sections": true,
   "sideBar": true,
   "skip_h1_title": false,
   "title_cell": "Table of Contents",
   "title_sidebar": "Contents",
   "toc_cell": false,
   "toc_position": {},
   "toc_section_display": true,
   "toc_window_display": true
  }
 },
 "nbformat": 4,
 "nbformat_minor": 2
}
