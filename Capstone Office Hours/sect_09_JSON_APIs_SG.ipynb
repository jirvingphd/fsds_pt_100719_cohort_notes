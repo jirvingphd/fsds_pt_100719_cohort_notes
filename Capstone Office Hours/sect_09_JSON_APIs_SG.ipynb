{
 "cells": [
  {
   "cell_type": "markdown",
   "metadata": {
    "colab_type": "text",
    "id": "Vy-8aMhqN_hJ"
   },
   "source": [
    "# Section 09: JSON & APIs "
   ]
  },
  {
   "cell_type": "markdown",
   "metadata": {},
   "source": [
    "- onl01-dtsc-pt-041320\n",
    "- 05/20/20"
   ]
  },
  {
   "cell_type": "markdown",
   "metadata": {
    "colab_type": "text",
    "id": "EYdqUG9UN_hL"
   },
   "source": [
    "## Learning Objectives:"
   ]
  },
  {
   "cell_type": "markdown",
   "metadata": {
    "colab_type": "text",
    "id": "EYdqUG9UN_hL"
   },
   "source": [
    "- PART 1: JSON\n",
    "    - Learn about JSON text format (and `.json` files)\n",
    "    - Activity 1 : Practice loading, investigating, and retrieving contents from a .json file\n",
    "\n",
    "\n",
    "- PART 2: APIs\n",
    "    - Describe what an API is and provide examples.\n",
    "    - Practice Accessing an API\n",
    "    - Activity 2: Use an API to retrieve specific information related to Activity 1\n",
    "   "
   ]
  },
  {
   "cell_type": "markdown",
   "metadata": {},
   "source": [
    "- **ACTIVITY REPO (fork and clone):**\n",
    " - https://github.com/jirvingphd/dtsc-pt-041320-sect_09-json-api-activity\n"
   ]
  },
  {
   "cell_type": "markdown",
   "metadata": {
    "colab_type": "text",
    "id": "qnSfTETGua6T"
   },
   "source": [
    "## Resources"
   ]
  },
  {
   "cell_type": "markdown",
   "metadata": {
    "colab_type": "text",
    "id": "qnSfTETGua6T"
   },
   "source": [
    "- Article:\n",
    "    - [Reading & Writing JSON Files](https://www.geeksforgeeks.org/reading-and-writing-json-to-a-file-in-python/)\n",
    "\n",
    "- Software/Tools:\n",
    "    - [Postman Software for Inspecting An API Result](www.getpostman.com)"
   ]
  },
  {
   "cell_type": "markdown",
   "metadata": {
    "colab_type": "text",
    "id": "fxSX-AMQ7Kdv"
   },
   "source": [
    "# Questions?\n"
   ]
  },
  {
   "cell_type": "markdown",
   "metadata": {},
   "source": [
    "## From Gdoc"
   ]
  },
  {
   "cell_type": "markdown",
   "metadata": {},
   "source": [
    "- Working with known JSON schemas (Can you explain in more depth how this uploads back?)\n",
    "```python\n",
    "with open('output.json', 'w') as f:\n",
    "    json.dump(data, f)\n",
    "    ```\n",
    "    \n",
    "- [HTTP Request/Response Cycle - Codealong](https://learn.co/tracks/module-1-data-science-career-2-1/intro-to-data-with-python-and-sql/section-09-json-and-apis/http-request-response-cycle-codealong)\n",
    "    - Can we go over “try httpbin”? \n",
    "    \n",
    "    \n",
    "- [HTTP Request Response Lab](https://github.com/learn-co-students/dsc-http-request-response-lab-onl01-dtsc-pt-041320/tree/solution)\n",
    "    - Can’t figure out where to find when the ISS passes over NY next. Can we go over how to find this?\n",
    "\n",
    "\n",
    "- When doing the Yelp API. We create a .secret. After this we’re asked to create an API key dict and a client dict. I could run the lab using the API dict but when I tried plugging the client ID dict it wasn’t in the right JSON format I believe? What’s the correct syntax here?\n",
    "\n",
    "- Any way to recreate this using a normal for loop v list comprehension?\n",
    "`df.columns = [item['name'] for item in data['meta']['view']['columns']]`\n",
    "From Exploring and Transforming JSON Schemas\n"
   ]
  },
  {
   "cell_type": "markdown",
   "metadata": {},
   "source": [
    "```python\n",
    "## List comp\n",
    "columns = [item['name'] for item in data['meta']['view']['columns']]\n",
    "\n",
    "\n",
    "## For loop\n",
    "columns = []\n",
    "for item in data['meta']['view']['columns']:\n",
    "    columns.append(item['name'])\n",
    "```"
   ]
  },
  {
   "cell_type": "markdown",
   "metadata": {},
   "source": [
    "## Additional Qs?"
   ]
  },
  {
   "cell_type": "markdown",
   "metadata": {},
   "source": [
    "- "
   ]
  },
  {
   "cell_type": "markdown",
   "metadata": {},
   "source": [
    "# PART 1: JSON\n"
   ]
  },
  {
   "cell_type": "markdown",
   "metadata": {},
   "source": [
    "**JSON: Javascript Object Notation**\n",
    "- Is hierarchical and uses tags\n",
    "- Can be easily read and accessed using packages in other systems\n",
    "- Can use Arrays\n",
    "- The new standard for storing content\n"
   ]
  },
  {
   "cell_type": "markdown",
   "metadata": {},
   "source": [
    "**JSON Objects**:\n",
    "- Surrounded by Curly Braces { }\n",
    "- Written in key:value pairs, with each pair separated by a comma\n",
    "- Key must be a string\n",
    "- Value may be a string, number, object, array, boolean or null\n",
    "\n"
   ]
  },
  {
   "cell_type": "code",
   "execution_count": 1,
   "metadata": {
    "ExecuteTime": {
     "end_time": "2020-05-20T23:13:19.221164Z",
     "start_time": "2020-05-20T23:13:19.217527Z"
    },
    "code_folding": []
   },
   "outputs": [],
   "source": [
    "## JSON for Three Employees\n",
    "data = {\"employees\":[\n",
    "  { \"firstName\":\"Matt\", \"lastName\":\"Sparr\" },\n",
    "  { \"firstName\":\"James\", \"lastName\":\"Irving\" },\n",
    "  { \"firstName\":\"Victor\", \"lastName\":\"Geislinger\" }\n",
    "]}"
   ]
  },
  {
   "cell_type": "code",
   "execution_count": 2,
   "metadata": {
    "ExecuteTime": {
     "end_time": "2020-05-20T23:13:41.046377Z",
     "start_time": "2020-05-20T23:13:41.037292Z"
    }
   },
   "outputs": [
    {
     "data": {
      "text/plain": [
       "{'employees': [{'firstName': 'Matt', 'lastName': 'Sparr'},\n",
       "  {'firstName': 'James', 'lastName': 'Irving'},\n",
       "  {'firstName': 'Victor', 'lastName': 'Geislinger'}]}"
      ]
     },
     "execution_count": 2,
     "metadata": {},
     "output_type": "execute_result"
    }
   ],
   "source": [
    "data"
   ]
  },
  {
   "cell_type": "markdown",
   "metadata": {},
   "source": [
    "### Dictionaries and JSON work very similarly"
   ]
  },
  {
   "cell_type": "code",
   "execution_count": 3,
   "metadata": {
    "ExecuteTime": {
     "end_time": "2020-05-20T23:13:43.793785Z",
     "start_time": "2020-05-20T23:13:43.788986Z"
    }
   },
   "outputs": [
    {
     "data": {
      "text/plain": [
       "dict"
      ]
     },
     "execution_count": 3,
     "metadata": {},
     "output_type": "execute_result"
    }
   ],
   "source": [
    "type(data)"
   ]
  },
  {
   "cell_type": "code",
   "execution_count": 4,
   "metadata": {
    "ExecuteTime": {
     "end_time": "2020-05-20T23:14:47.582323Z",
     "start_time": "2020-05-20T23:14:47.578280Z"
    }
   },
   "outputs": [],
   "source": [
    "## SAVING DICTIONARY TO .JSON FILE\n",
    "import json\n",
    "fpath = '../datasets/example_json.json'\n",
    "with open(fpath,'w') as file:\n",
    "    json.dump(data,file)"
   ]
  },
  {
   "cell_type": "code",
   "execution_count": 5,
   "metadata": {
    "ExecuteTime": {
     "end_time": "2020-05-20T23:14:58.051925Z",
     "start_time": "2020-05-20T23:14:58.047327Z"
    }
   },
   "outputs": [
    {
     "data": {
      "text/plain": [
       "{'employees': [{'firstName': 'Matt', 'lastName': 'Sparr'},\n",
       "  {'firstName': 'James', 'lastName': 'Irving'},\n",
       "  {'firstName': 'Victor', 'lastName': 'Geislinger'}]}"
      ]
     },
     "execution_count": 5,
     "metadata": {},
     "output_type": "execute_result"
    }
   ],
   "source": [
    "## TESTING LOADING .JSON FILE INTO A DICT\n",
    "with open(fpath,'r') as file:\n",
    "    testing = json.load(file)\n",
    "testing"
   ]
  },
  {
   "cell_type": "code",
   "execution_count": 6,
   "metadata": {
    "ExecuteTime": {
     "end_time": "2020-05-20T23:15:00.213077Z",
     "start_time": "2020-05-20T23:15:00.209699Z"
    }
   },
   "outputs": [
    {
     "data": {
      "text/plain": [
       "dict"
      ]
     },
     "execution_count": 6,
     "metadata": {},
     "output_type": "execute_result"
    }
   ],
   "source": [
    "type(testing)"
   ]
  },
  {
   "cell_type": "markdown",
   "metadata": {},
   "source": [
    "### Exploring Dictionaries"
   ]
  },
  {
   "cell_type": "markdown",
   "metadata": {},
   "source": [
    "- Dictionaries are made of {key:value} pairs\n",
    "- Dictionary keys and values can be looped through using `.items()`\n",
    "```python\n",
    "for key,value in mydictionary.items():\n",
    "    print(key)\n",
    "    print(value)"
   ]
  },
  {
   "cell_type": "code",
   "execution_count": 7,
   "metadata": {
    "ExecuteTime": {
     "end_time": "2020-05-20T23:17:10.912619Z",
     "start_time": "2020-05-20T23:17:10.908126Z"
    }
   },
   "outputs": [
    {
     "data": {
      "text/plain": [
       "dict_keys(['employees'])"
      ]
     },
     "execution_count": 7,
     "metadata": {},
     "output_type": "execute_result"
    }
   ],
   "source": [
    "testing.keys()"
   ]
  },
  {
   "cell_type": "code",
   "execution_count": 9,
   "metadata": {
    "ExecuteTime": {
     "end_time": "2020-05-20T23:17:28.421470Z",
     "start_time": "2020-05-20T23:17:28.417549Z"
    }
   },
   "outputs": [
    {
     "data": {
      "text/plain": [
       "[{'firstName': 'Matt', 'lastName': 'Sparr'},\n",
       " {'firstName': 'James', 'lastName': 'Irving'},\n",
       " {'firstName': 'Victor', 'lastName': 'Geislinger'}]"
      ]
     },
     "execution_count": 9,
     "metadata": {},
     "output_type": "execute_result"
    }
   ],
   "source": [
    "testing['employees']"
   ]
  },
  {
   "cell_type": "code",
   "execution_count": 10,
   "metadata": {
    "ExecuteTime": {
     "end_time": "2020-05-20T23:17:35.635803Z",
     "start_time": "2020-05-20T23:17:35.632036Z"
    }
   },
   "outputs": [
    {
     "data": {
      "text/plain": [
       "list"
      ]
     },
     "execution_count": 10,
     "metadata": {},
     "output_type": "execute_result"
    }
   ],
   "source": [
    "## JSON often has a LIST of dictionaries stored inside a key\n",
    "type(testing['employees'])"
   ]
  },
  {
   "cell_type": "code",
   "execution_count": 11,
   "metadata": {
    "ExecuteTime": {
     "end_time": "2020-05-20T23:17:43.637690Z",
     "start_time": "2020-05-20T23:17:43.633632Z"
    }
   },
   "outputs": [
    {
     "data": {
      "text/plain": [
       "{'firstName': 'Matt', 'lastName': 'Sparr'}"
      ]
     },
     "execution_count": 11,
     "metadata": {},
     "output_type": "execute_result"
    }
   ],
   "source": [
    "## Slicing Out First record from list of dicts\n",
    "testing['employees'][0]"
   ]
  },
  {
   "cell_type": "code",
   "execution_count": 12,
   "metadata": {
    "ExecuteTime": {
     "end_time": "2020-05-20T23:18:18.717554Z",
     "start_time": "2020-05-20T23:18:18.714342Z"
    }
   },
   "outputs": [
    {
     "data": {
      "text/plain": [
       "'Matt'"
      ]
     },
     "execution_count": 12,
     "metadata": {},
     "output_type": "execute_result"
    }
   ],
   "source": [
    "## Slicing out the firstName key from the first record \n",
    "testing['employees'][0]['firstName']"
   ]
  },
  {
   "cell_type": "code",
   "execution_count": 13,
   "metadata": {
    "ExecuteTime": {
     "end_time": "2020-05-20T23:19:00.823680Z",
     "start_time": "2020-05-20T23:18:59.953567Z"
    }
   },
   "outputs": [
    {
     "data": {
      "text/html": [
       "<div>\n",
       "<style scoped>\n",
       "    .dataframe tbody tr th:only-of-type {\n",
       "        vertical-align: middle;\n",
       "    }\n",
       "\n",
       "    .dataframe tbody tr th {\n",
       "        vertical-align: top;\n",
       "    }\n",
       "\n",
       "    .dataframe thead th {\n",
       "        text-align: right;\n",
       "    }\n",
       "</style>\n",
       "<table border=\"1\" class=\"dataframe\">\n",
       "  <thead>\n",
       "    <tr style=\"text-align: right;\">\n",
       "      <th></th>\n",
       "      <th>firstName</th>\n",
       "      <th>lastName</th>\n",
       "    </tr>\n",
       "  </thead>\n",
       "  <tbody>\n",
       "    <tr>\n",
       "      <td>0</td>\n",
       "      <td>Matt</td>\n",
       "      <td>Sparr</td>\n",
       "    </tr>\n",
       "    <tr>\n",
       "      <td>1</td>\n",
       "      <td>James</td>\n",
       "      <td>Irving</td>\n",
       "    </tr>\n",
       "    <tr>\n",
       "      <td>2</td>\n",
       "      <td>Victor</td>\n",
       "      <td>Geislinger</td>\n",
       "    </tr>\n",
       "  </tbody>\n",
       "</table>\n",
       "</div>"
      ],
      "text/plain": [
       "  firstName    lastName\n",
       "0      Matt       Sparr\n",
       "1     James      Irving\n",
       "2    Victor  Geislinger"
      ]
     },
     "execution_count": 13,
     "metadata": {},
     "output_type": "execute_result"
    }
   ],
   "source": [
    "## Pandas can make dataframes from a list of dicts (called records)\n",
    "import pandas as pd\n",
    "pd.DataFrame.from_records(testing['employees'])"
   ]
  },
  {
   "cell_type": "markdown",
   "metadata": {},
   "source": [
    "# ⏰ ACTIVITY 1"
   ]
  },
  {
   "cell_type": "markdown",
   "metadata": {},
   "source": [
    "- Breakout room pair-programming activity (part 1)\n",
    "- Fork and clone activity repo: https://github.com/jirvingphd/dtsc-pt-041320-sect_09-json-api-activity\n"
   ]
  },
  {
   "cell_type": "markdown",
   "metadata": {},
   "source": [
    "# PART 2: APIs"
   ]
  },
  {
   "cell_type": "markdown",
   "metadata": {
    "colab_type": "text",
    "id": "MGgqaDOQN_hM"
   },
   "source": [
    "## Think Communication"
   ]
  },
  {
   "cell_type": "markdown",
   "metadata": {},
   "source": [
    "> API stands for **Application Programming Interface**. \n"
   ]
  },
  {
   "cell_type": "markdown",
   "metadata": {
    "colab_type": "text",
    "id": "bz-yS8FKN_hN"
   },
   "source": [
    "Application to another application:\n",
    "* Send request (with some info/data)\n",
    "* Get response\n",
    "    + data\n",
    "    + service\n",
    "\n",
    "\n",
    "Examples include:\n",
    "\n",
    "- Financial transactions\n",
    "- Posting to Twitter\n",
    "- Controlling IOT\n",
    "\n",
    "Always a software-to-software interaction\n",
    "\n",
    "Typical way of getting data (usually JSON or XML)"
   ]
  },
  {
   "cell_type": "markdown",
   "metadata": {
    "colab_type": "text",
    "id": "5oQhqkPgNJVr"
   },
   "source": [
    "## Client - Server Model"
   ]
  },
  {
   "cell_type": "markdown",
   "metadata": {
    "colab_type": "text",
    "id": "_ZdrDTOiNJVs"
   },
   "source": [
    "<img src=\"https://raw.githubusercontent.com/learn-co-students/dsc-introduction-to-apis-online-ds-ft-100719/master/images/new_client-server-illustration.png\" width=400>\n",
    "\n",
    "Distributed architecture:\n",
    "1. Servers: provide a service\n",
    "    - Usually physically separate from clinet\n",
    "2. Clients: request a service\n",
    "    - hardware or software"
   ]
  },
  {
   "cell_type": "markdown",
   "metadata": {
    "colab_type": "text",
    "id": "foPQcGlbA6yk"
   },
   "source": [
    "## Parts of an API\n"
   ]
  },
  {
   "cell_type": "markdown",
   "metadata": {
    "colab_type": "text",
    "id": "NyqibRImNJVo"
   },
   "source": [
    "\n",
    "* **Access Permissions**\n",
    "    + What is a User allowed to ask?\n",
    "    \n",
    "* **API Call/Request**\n",
    "    + Code used to make API call to implement complicated tasks/features\n",
    "    + _Methods_: what questions can we ask?\n",
    "    + _Parameters_: more info to be sent\n",
    "    \n",
    "* **Repsonse**\n",
    "    + Result of request"
   ]
  },
  {
   "cell_type": "markdown",
   "metadata": {
    "colab_type": "text",
    "id": "Nwqih7_-R4r6"
   },
   "source": [
    "<!-- <img src='https://raw.githubusercontent.com/matthewsparr/Data-Science-Lessons/master/Mod%202/APIs/raven.jpg' width=500> -->\n",
    "\n",
    "\n",
    "\n",
    "<img src=\"https://raw.githubusercontent.com/learn-co-students/dsc-introduction-to-apis-online-ds-ft-100719/master/images/new_api4.png\" width=600>"
   ]
  },
  {
   "cell_type": "markdown",
   "metadata": {
    "colab_type": "text",
    "id": "IP2P6APINJVp"
   },
   "source": [
    "## API Types\n"
   ]
  },
  {
   "cell_type": "markdown",
   "metadata": {
    "colab_type": "text",
    "id": "7dapuN6qNJVp"
   },
   "source": [
    "### Web\n",
    "\n",
    "\n",
    "Interface can work at both server or client end\n",
    "\n",
    "Examples:\n",
    "* [Twitter REST API](https://developer.twitter.com/en/docs.html)\n",
    "* [Amazon S3 REST API](https://docs.aws.amazon.com/AmazonS3/latest/API/Welcome.html)"
   ]
  },
  {
   "cell_type": "markdown",
   "metadata": {
    "colab_type": "text",
    "id": "DJ4fjzfvNJVq"
   },
   "source": [
    "### Databases\n",
    "\n",
    "* Pass back data in specific format\n",
    "* Generalizable"
   ]
  },
  {
   "cell_type": "markdown",
   "metadata": {},
   "source": [
    "<img src=\"https://raw.githubusercontent.com/learn-co-students/dsc-the-client-server-model-onl01-dtsc-pt-041320/master/images/new_server.png\" width=60%>"
   ]
  },
  {
   "cell_type": "markdown",
   "metadata": {
    "colab_type": "text",
    "id": "wnNHFToVN_hb"
   },
   "source": [
    "# HTTP Requests"
   ]
  },
  {
   "cell_type": "markdown",
   "metadata": {
    "colab_type": "text",
    "id": "vxbCCFqyN_hb"
   },
   "source": [
    "- Specific formatting to make a proper request.\n",
    "- `requests` library"
   ]
  },
  {
   "cell_type": "markdown",
   "metadata": {
    "colab_type": "text",
    "id": "MsEURztzN_hc"
   },
   "source": [
    "## Code Example"
   ]
  },
  {
   "cell_type": "markdown",
   "metadata": {
    "colab_type": "text",
    "id": "43q1-sT8N_hd"
   },
   "source": [
    "We can use `requests` library to get web page form data, files, and parameters more easily."
   ]
  },
  {
   "cell_type": "code",
   "execution_count": 16,
   "metadata": {
    "ExecuteTime": {
     "end_time": "2020-05-20T23:57:01.376817Z",
     "start_time": "2020-05-20T23:57:01.035391Z"
    },
    "colab": {},
    "colab_type": "code",
    "id": "vjHy47i5N_hd"
   },
   "outputs": [
    {
     "data": {
      "text/plain": [
       "<Response [200]>"
      ]
     },
     "execution_count": 16,
     "metadata": {},
     "output_type": "execute_result"
    }
   ],
   "source": [
    "import requests\n",
    "\n",
    "# Getting the response from our request \n",
    "resp = requests.get('https://www.google.com')\n",
    "\n",
    "type(resp)\n",
    "resp"
   ]
  },
  {
   "cell_type": "code",
   "execution_count": 15,
   "metadata": {
    "ExecuteTime": {
     "end_time": "2020-05-20T23:56:50.293044Z",
     "start_time": "2020-05-20T23:56:50.288811Z"
    },
    "colab": {
     "base_uri": "https://localhost:8080/",
     "height": 34
    },
    "colab_type": "code",
    "id": "Hiwv6-vEkLJ-",
    "outputId": "35fdc8dc-6815-4c54-c067-1bf1a782fcaf"
   },
   "outputs": [
    {
     "data": {
      "text/plain": [
       "200"
      ]
     },
     "execution_count": 15,
     "metadata": {},
     "output_type": "execute_result"
    }
   ],
   "source": [
    "requests.codes.ok"
   ]
  },
  {
   "cell_type": "code",
   "execution_count": 17,
   "metadata": {
    "ExecuteTime": {
     "end_time": "2020-05-20T23:57:11.682863Z",
     "start_time": "2020-05-20T23:57:11.679079Z"
    },
    "colab": {
     "base_uri": "https://localhost:8080/",
     "height": 51
    },
    "colab_type": "code",
    "id": "5iqt4HliN_hk",
    "outputId": "1808a4ec-950f-49c7-bb92-2e7dd7cf17bc"
   },
   "outputs": [
    {
     "name": "stdout",
     "output_type": "stream",
     "text": [
      "Response Code: 200\n",
      "Is it OK? True\n"
     ]
    }
   ],
   "source": [
    "print('Response Code:',resp.status_code)\n",
    "print('Is it OK?',resp.status_code == requests.codes.ok)"
   ]
  },
  {
   "cell_type": "markdown",
   "metadata": {
    "colab_type": "text",
    "id": "VAaZI3grN_hm"
   },
   "source": [
    "### Parts of the response"
   ]
  },
  {
   "cell_type": "code",
   "execution_count": 18,
   "metadata": {
    "ExecuteTime": {
     "end_time": "2020-05-20T23:57:19.440505Z",
     "start_time": "2020-05-20T23:57:19.435872Z"
    },
    "colab": {
     "base_uri": "https://localhost:8080/",
     "height": 190
    },
    "colab_type": "code",
    "id": "mnT_8aQRN_hm",
    "outputId": "99afd10b-bf97-44c9-a93f-bce9d8838101",
    "scrolled": true
   },
   "outputs": [
    {
     "name": "stdout",
     "output_type": "stream",
     "text": [
      "<!doctype html><html itemscope=\"\" itemtype=\"http://schema.org/WebPage\" lang=\"en\"><head><meta content=\"Search the world's information, including webpages, images, videos and more. Google has many special features to help you find exactly what you're looking for.\" name=\"description\"><meta content=\"noodp\" name=\"robots\"><meta content=\"text/html; charset=UTF-8\" http-equiv=\"Content-Type\"><meta content=\"/logos/doodles/2020/israel-kamakawiwooles-61st-birthday-6753651837108391-l.png\" itemprop=\"image\"><meta content=\"Israel Kamakawiwo&#699;ole's 61st Birthday\" property=\"twitter:title\"><meta content=\"Israel Kamakawiwo&#699;ole's 61st Birthday! #GoogleDoodle\" property=\"twitter:description\"><meta content=\"Israel Kamakawiwo&#699;ole's 61st Birthday! #GoogleDoodle\" property=\"og:description\"><meta content=\"summary_large_image\" property=\"twitter:card\"><meta content=\"@GoogleDoodles\" property=\"twitter:site\"><meta content=\"https://www.google.com/logos/doodles/2020/israel-kamakawiwooles-61st-birthday-675365\n"
     ]
    }
   ],
   "source": [
    "# Full HTML doc\n",
    "print(resp.text[:1000])"
   ]
  },
  {
   "cell_type": "code",
   "execution_count": 19,
   "metadata": {
    "ExecuteTime": {
     "end_time": "2020-05-20T23:57:25.469391Z",
     "start_time": "2020-05-20T23:57:25.466286Z"
    },
    "colab": {
     "base_uri": "https://localhost:8080/",
     "height": 54
    },
    "colab_type": "code",
    "id": "NEqo8d4JN_ho",
    "outputId": "81716f19-65ce-4cd4-ba59-1da00704a66a"
   },
   "outputs": [
    {
     "name": "stdout",
     "output_type": "stream",
     "text": [
      "{'Date': 'Wed, 20 May 2020 23:57:01 GMT', 'Expires': '-1', 'Cache-Control': 'private, max-age=0', 'Content-Type': 'text/html; charset=ISO-8859-1', 'P3P': 'CP=\"This is not a P3P policy! See g.co/p3phelp for more info.\"', 'Content-Encoding': 'gzip', 'Server': 'gws', 'X-XSS-Protection': '0', 'X-Frame-Options': 'SAMEORIGIN', 'Set-Cookie': '1P_JAR=2020-05-20-23; expires=Fri, 19-Jun-2020 23:57:01 GMT; path=/; domain=.google.com; Secure, NID=204=hgU_WDaTMTUKwCgEBMCxijD59Nlkt9Jg9-f7TCx6DK6grmUNxx5HRTQKbO6O8n3Z49sRC5VQvWctzAmhM0RcIOlbpgIB-Zbo2-h_Om9jjLA7U9OjfC1QmIG3EM_UIrQX3Aqh-1Naif4AArn5RJFbriTi8MEjBUYJfqyKGM_Ou5g; expires=Thu, 19-Nov-2020 23:57:01 GMT; path=/; domain=.google.com; HttpOnly', 'Alt-Svc': 'h3-27=\":443\"; ma=2592000,h3-25=\":443\"; ma=2592000,h3-T050=\":443\"; ma=2592000,h3-Q050=\":443\"; ma=2592000,h3-Q049=\":443\"; ma=2592000,h3-Q048=\":443\"; ma=2592000,h3-Q046=\":443\"; ma=2592000,h3-Q043=\":443\"; ma=2592000,quic=\":443\"; ma=2592000; v=\"46,43\"', 'Transfer-Encoding': 'chunked'}\n"
     ]
    }
   ],
   "source": [
    "print(resp.headers)"
   ]
  },
  {
   "cell_type": "code",
   "execution_count": 20,
   "metadata": {
    "ExecuteTime": {
     "end_time": "2020-05-20T23:57:33.167083Z",
     "start_time": "2020-05-20T23:57:33.162987Z"
    },
    "colab": {
     "base_uri": "https://localhost:8080/",
     "height": 51
    },
    "colab_type": "code",
    "id": "HsL7YLg-N_hq",
    "outputId": "5656e2be-1afc-4837-b378-60cc3ab720f0",
    "scrolled": true
   },
   "outputs": [
    {
     "name": "stdout",
     "output_type": "stream",
     "text": [
      "Wed, 20 May 2020 23:57:01 GMT\n",
      "gws\n"
     ]
    }
   ],
   "source": [
    "headers = resp.headers\n",
    "print(headers['Date'])   # Date the response was sent\n",
    "print(headers['Server']) # Server type (google web service - GWS)"
   ]
  },
  {
   "cell_type": "markdown",
   "metadata": {
    "colab_type": "text",
    "id": "CS9U7LkdN_hs"
   },
   "source": [
    "### Passing Parameters"
   ]
  },
  {
   "cell_type": "code",
   "execution_count": 21,
   "metadata": {
    "ExecuteTime": {
     "end_time": "2020-05-20T23:58:08.340651Z",
     "start_time": "2020-05-20T23:58:08.247234Z"
    },
    "colab": {
     "base_uri": "https://localhost:8080/",
     "height": 153
    },
    "colab_type": "code",
    "id": "2s8ZFBkFN_hs",
    "outputId": "1b267813-0be9-42e9-9374-553f36028052"
   },
   "outputs": [
    {
     "data": {
      "text/plain": [
       "{'args': {'password': 'i<3peach', 'user_name': 'luigi'},\n",
       " 'headers': {'Accept': '*/*',\n",
       "  'Accept-Encoding': 'gzip, deflate',\n",
       "  'Host': 'httpbin.org',\n",
       "  'User-Agent': 'python-requests/2.22.0',\n",
       "  'X-Amzn-Trace-Id': 'Root=1-5ec5c410-eb7d90215994fb75835fa73d'},\n",
       " 'origin': None,\n",
       " 'url': 'http://httpbin.org/get?user_name=luigi&password=i<3peach'}"
      ]
     },
     "execution_count": 21,
     "metadata": {},
     "output_type": "execute_result"
    }
   ],
   "source": [
    "credentials = {'user_name': 'luigi', 'password': 'i<3peach'}  \n",
    "r = requests.get('http://httpbin.org/get', params=credentials)\n",
    "results = r.json()\n",
    "# Don't want my IP floating around 😉\n",
    "results['origin'] = None\n",
    "results"
   ]
  },
  {
   "cell_type": "code",
   "execution_count": 22,
   "metadata": {
    "ExecuteTime": {
     "end_time": "2020-05-20T23:58:22.496799Z",
     "start_time": "2020-05-20T23:58:22.493864Z"
    }
   },
   "outputs": [
    {
     "name": "stdout",
     "output_type": "stream",
     "text": [
      "<class 'dict'>\n"
     ]
    }
   ],
   "source": [
    "print(type(results))"
   ]
  },
  {
   "cell_type": "markdown",
   "metadata": {
    "colab_type": "text",
    "id": "m044qD5_N_hu"
   },
   "source": [
    "### HTTP Post"
   ]
  },
  {
   "cell_type": "markdown",
   "metadata": {
    "colab_type": "text",
    "id": "iTuV2zPAN_hv"
   },
   "source": [
    "Allows multiples be sent at once "
   ]
  },
  {
   "cell_type": "markdown",
   "metadata": {
    "ExecuteTime": {
     "end_time": "2019-09-13T17:35:34.051364Z",
     "start_time": "2019-09-13T17:35:33.529393Z"
    },
    "colab": {},
    "colab_type": "code",
    "id": "znvXyRq3N_hv"
   },
   "source": [
    "```python\n",
    "# Example won't run without example files\n",
    "filepath_cat = '/content/drive/My Drive/Colab Notebooks/Study Groups/Mod 2/section_12/sect_12_students/cat.png'\n",
    "filepath_dog = '/content/drive/My Drive/Colab Notebooks/Study Groups/Mod 2/section_12/sect_12_students/dog.jpg'\n",
    "\n",
    "url = 'http://httpbin.org/post'  \n",
    "file_list = [  \n",
    "    # ('image', ('cat.png', open('cat.png', 'rb'), 'image/png')),\n",
    "    # ('image', ('dog.jpg', open('dog.jpg', 'rb'), 'image/jpg'))\n",
    "\n",
    "    ('image', ('cat.png', open(filepath_cat, 'rb'), 'image/png')),\n",
    "    ('image', ('dog.jpg', open(filepath_dog, 'rb'), 'image/jpg'))\n",
    "]\n",
    "\n",
    "r = requests.post(url, files=file_list)  \n",
    "print(r.text)\n",
    "```"
   ]
  },
  {
   "cell_type": "markdown",
   "metadata": {},
   "source": [
    "## Postman - An App for HTML Requests"
   ]
  },
  {
   "cell_type": "markdown",
   "metadata": {},
   "source": [
    "- www.getpostman.com"
   ]
  },
  {
   "cell_type": "markdown",
   "metadata": {
    "colab_type": "text",
    "id": "04gDQd0ZN_hx"
   },
   "source": [
    "# OAuth (Open Authorization)"
   ]
  },
  {
   "cell_type": "markdown",
   "metadata": {
    "colab_type": "text",
    "id": "cvSeBVOkN_hy"
   },
   "source": [
    "Avoid abuse by limiting.\n",
    "\n",
    "Usually we can use personal access tokens (typical for development).\n",
    "But with large number of authentication, OAuth is most common"
   ]
  },
  {
   "cell_type": "markdown",
   "metadata": {
    "colab_type": "text",
    "id": "-K_5Etq8N_hy"
   },
   "source": [
    "1. Get credentials & authorize application (before OAuth)\n",
    "2. **Authorize** permissions requested\n",
    "3. **Redirect** use back w/ authorization code\n",
    "4. **Aquisition** user \"recieves\" access token\n",
    "\n",
    "Check out curriculum for full details"
   ]
  },
  {
   "cell_type": "markdown",
   "metadata": {
    "colab_type": "text",
    "id": "uYL_d1AmN_hz"
   },
   "source": [
    "## Why use OAuth?"
   ]
  },
  {
   "cell_type": "markdown",
   "metadata": {
    "colab_type": "text",
    "id": "Rb8dBM_uN_h0"
   },
   "source": [
    "Alternative is essentially a username & password (API key & secret)\n",
    "\n",
    "Allows access without user password:\n",
    "**Authentication** separated from **Authorization**"
   ]
  },
  {
   "cell_type": "markdown",
   "metadata": {},
   "source": [
    "# ⏰  Activity 2"
   ]
  },
  {
   "cell_type": "markdown",
   "metadata": {},
   "source": [
    "- Continued in same repo/notebook as activity 1"
   ]
  }
 ],
 "metadata": {
  "colab": {
   "collapsed_sections": [],
   "name": "sect_12_APIs_lesson.ipynb",
   "provenance": [],
   "toc_visible": true
  },
  "kernelspec": {
   "display_name": "Python 3",
   "language": "python",
   "name": "python3"
  },
  "language_info": {
   "codemirror_mode": {
    "name": "ipython",
    "version": 3
   },
   "file_extension": ".py",
   "mimetype": "text/x-python",
   "name": "python",
   "nbconvert_exporter": "python",
   "pygments_lexer": "ipython3",
   "version": "3.6.9"
  },
  "toc": {
   "base_numbering": 1,
   "nav_menu": {},
   "number_sections": false,
   "sideBar": true,
   "skip_h1_title": false,
   "title_cell": "Table of Contents",
   "title_sidebar": "Contents",
   "toc_cell": false,
   "toc_position": {},
   "toc_section_display": true,
   "toc_window_display": true
  },
  "varInspector": {
   "cols": {
    "lenName": 16,
    "lenType": 16,
    "lenVar": 40
   },
   "kernels_config": {
    "python": {
     "delete_cmd_postfix": "",
     "delete_cmd_prefix": "del ",
     "library": "var_list.py",
     "varRefreshCmd": "print(var_dic_list())"
    },
    "r": {
     "delete_cmd_postfix": ") ",
     "delete_cmd_prefix": "rm(",
     "library": "var_list.r",
     "varRefreshCmd": "cat(var_dic_list()) "
    }
   },
   "types_to_exclude": [
    "module",
    "function",
    "builtin_function_or_method",
    "instance",
    "_Feature"
   ],
   "window_display": false
  }
 },
 "nbformat": 4,
 "nbformat_minor": 1
}
