{
 "cells": [
  {
   "cell_type": "markdown",
   "metadata": {
    "colab_type": "text",
    "id": "tDKmrDSfq6L7"
   },
   "source": [
    "# Section 10: HTML, CSS, & WebScraping"
   ]
  },
  {
   "cell_type": "markdown",
   "metadata": {
    "colab_type": "text",
    "id": "tDKmrDSfq6L7"
   },
   "source": [
    "> Web Scraping 101 & HTML/CSS beyond web-scraping\n",
    "\n",
    "- 05/22/20\n",
    "- onl01-dtsc-pt-041320\n"
   ]
  },
  {
   "cell_type": "markdown",
   "metadata": {},
   "source": [
    "## Questions"
   ]
  },
  {
   "cell_type": "markdown",
   "metadata": {},
   "source": [
    "### Gdoc"
   ]
  },
  {
   "cell_type": "markdown",
   "metadata": {},
   "source": [
    "- What’s happening here ^? This is in the web scraping labs\n",
    "```python\n",
    "book_container = warning.nextSibling.nextSibling\n",
    "```\n",
    "\n",
    "\n",
    "\n",
    "- Why do we need ‘html.parser’? I took it out to see what would happen and nothing I noticed changed.\n",
    "\n",
    "- Can we run through this code, primarily the last 3 lines? This is for the image scraping lesson.\n",
    "```python\n",
    "url_base = \"http://books.toscrape.com/\"\n",
    "url_ext = ex_img.attrs['src']\n",
    "full_url = url_base + url_ext\n",
    "r = requests.get(full_url, stream=True)\n",
    "if r.status_code == 200:\n",
    "    with open(\"images/book1.jpg\", 'wb') as f:\n",
    "        r.raw.decode_content = True\n",
    "        shutil.copyfileobj(r.raw, f)\n",
    "```\n",
    "\n",
    "- **How well do we need to know \"this\"?** "
   ]
  },
  {
   "cell_type": "markdown",
   "metadata": {
    "colab_type": "text",
    "id": "JU_U8mWD-WLR"
   },
   "source": [
    "## Learning Objectives / Outline\n",
    "\n"
   ]
  },
  {
   "cell_type": "markdown",
   "metadata": {
    "colab_type": "text",
    "id": "9Wnkf6zBwjsF"
   },
   "source": [
    "\n",
    "- **Part 1: HTML & CSS: Beyond Web Scraping**\n",
    "    - Brief Overview of HTML & CSS\n",
    "    - Learn when you will use HTML & CSS in your data science journey\n",
    "    - Demonstrate the power of CSS with a Plotly/Dash dashboard. \n",
    "    - Demonstrate the value of learning HTML/CSS with VS Code.\n",
    "    <br><br>\n",
    "\n",
    "- **Part 2: Walk through the basics of web scraping:**\n",
    "    - Learn to use Chrome's Inspect tool to hunt down target website data\n",
    "    - Learn how to use Beautiful Soup to scrape the contents of a web page. \n",
    "\n",
    "    \n",
    "\n"
   ]
  },
  {
   "cell_type": "markdown",
   "metadata": {
    "colab_type": "text",
    "id": "VSGt5VhvJ_3c"
   },
   "source": [
    "# 📓 Part 1: HTML & CSS"
   ]
  },
  {
   "cell_type": "markdown",
   "metadata": {
    "colab_type": "text",
    "id": "_Ahn6EqsGR53"
   },
   "source": [
    "- HMTL is responsible for the _content_ of a website.\n",
    "- CSS is responsible for the appearance / layout of a website.\n",
    "\n"
   ]
  },
  {
   "cell_type": "markdown",
   "metadata": {
    "colab_type": "text",
    "id": "xSwUhVVTwvRq"
   },
   "source": [
    "## HTML Overview & Tags\n"
   ]
  },
  {
   "cell_type": "markdown",
   "metadata": {
    "colab_type": "text",
    "id": "7jZuk4QQ17nU"
   },
   "source": [
    "- All HTML pages have the following components\n",
    "    1. document declaration followed by html tag\n",
    "    \n",
    "    `<!DOCTYPE html>`<br>\n",
    "    `<html>`\n",
    "    2. Head\n",
    "     html tag<br>\n",
    "    `<head> <title></title></head>`\n",
    "    3. Body<br>\n",
    "    `<body>` ... content... `</body>`<br>\n",
    "    `</html>`\n",
    "\n",
    "\n",
    "\n",
    "- Html content is divdied into **tags** that specify the type of content.\n",
    "    - [Basic Tags Reference Table](https://www.w3schools.com/tags/ref_byfunc.asp)\n",
    "    - [Full Alphabetical Tag Reference Table](https://www.w3schools.com/tags/)\n",
    "    \n",
    "    - **tags** have attributes\n",
    "        - [Tag Attributes](https://www.w3schools.com/html/html_attributes.asp)\n",
    "        - Attributes are always defined in the start/opening tag. \n",
    "\n",
    "    - **tags** may have several content-creator-defined attributes such as `class` or `id`\n",
    "    \n",
    "    \n",
    "- We will **use the tag and its identifying attributes to isolate content** we want on a web page with BeautifulSoup.\n",
    "\n",
    "___"
   ]
  },
  {
   "cell_type": "markdown",
   "metadata": {
    "colab_type": "text",
    "id": "6-hbk2aTEzLw"
   },
   "source": [
    "## CSS Overview\n"
   ]
  },
  {
   "cell_type": "markdown",
   "metadata": {
    "colab_type": "text",
    "id": "4hvax5OIHGsI"
   },
   "source": [
    "#### List the Components of CSS\n",
    "*Excerpt From Section 13: Intro to CSS*\n",
    "\n",
    ">For each **presentation rule**, there are 3 things to keep in mind:\n",
    "1. What is the specific HTML we want to style?\n",
    "2. What are the qualities we want to modify (e.g. the properties of text\n",
    "   in a paragraph)?\n",
    "3. _How_ do we want to modify the qualities of the element (e.g. font\n",
    "   family, font color, font size, line height, letter spacing, etc.)?\n",
    "\n",
    "\n",
    "> CSS **selectors** are a way of declaring which HTML elements you wish to style.\n",
    "Selectors can appear a few different ways:\n",
    "- The type of HTML element(`h1`, `p`, `div`, etc.)\n",
    "- The value of an element's `id` or `class` (`<p id='idvalue'></p>`, `<p\n",
    "  class='classname'></p>`)\n",
    "- The value of an element's attributes (`value=\"hello\"`)\n",
    "- The element's relationship with surrounding elements (a `p` within an element\n",
    "  with class of `.infobox`)\n",
    "\n",
    "[Type selectors documentation](https://developer.mozilla.org/en-US/docs/Web/CSS/Type_selectors)\n",
    "\n",
    "The element type `class` is a commonly used selector. Class selectors are used\n",
    "to **select all elements that share a given class name**. The class selector\n",
    "syntax is: `.classname`. Prefix the class name with a '.'(period).\n",
    "\n",
    "```css\n",
    "/*\n",
    "select all elements that have the 'important-topic' classname (e.g. <h1 class='important-topic'>\n",
    "and <h1 class='important-topic'>)\n",
    "*/\n",
    ".important-topic\n",
    "```\n",
    "\n"
   ]
  },
  {
   "cell_type": "markdown",
   "metadata": {
    "colab_type": "text",
    "id": "G0JWx49oH6fb"
   },
   "source": [
    "\n",
    "You can also use the `id` selector to style elements. However, **there should\n",
    "be only one element with a given id** in an HTML document. This can make\n",
    "styling with the ID selector ideal for one-off styles. The `id` selector syntax\n",
    "is: `#idvalue`. Prefix the id attribute of an element with a `#` (which is\n",
    "called \"octothorpe,\" \"pound sign\", or \"hashtag\").\n",
    "\n",
    "```css\n",
    "/*\n",
    "selects the HTML element with the id 'main-header' (e.g. <h1 id='main-header'>)\n",
    "*/\n",
    "#main-header\n",
    "\n",
    "```\n",
    "\n",
    "[id selectors documentation](https://developer.mozilla.org/en-US/docs/Web/CSS/ID_selectors)"
   ]
  },
  {
   "cell_type": "markdown",
   "metadata": {
    "colab_type": "text",
    "id": "-DXm5OZKpaZg"
   },
   "source": [
    "## When will/can I use HTML & CSS?\n"
   ]
  },
  {
   "cell_type": "markdown",
   "metadata": {
    "colab_type": "text",
    "id": "FT9Mk2TaEpNt"
   },
   "source": [
    "### 1. Web scraping."
   ]
  },
  {
   "cell_type": "markdown",
   "metadata": {},
   "source": [
    "- See Part 2 of notebook."
   ]
  },
  {
   "cell_type": "markdown",
   "metadata": {
    "colab_type": "text",
    "id": "FT9Mk2TaEpNt"
   },
   "source": [
    "### 2. Adding Images and links to your Markdown Documents/Blog Posts"
   ]
  },
  {
   "cell_type": "markdown",
   "metadata": {
    "colab_type": "text",
    "id": "FT9Mk2TaEpNt"
   },
   "source": [
    "- Using `img` tags\n",
    "- ```html\n",
    "<img src=\"\" width=70%>```\n",
    "\n",
    "<img src=\"https://raw.githubusercontent.com/jirvingphd/online-dtsc-pt-041320-cohort-notes/master/assets/images/neuron.jpg\" width=70%>\n",
    "\n",
    "<img src=\"../assets/images/neuron.jpg\" width=70%>\n"
   ]
  },
  {
   "cell_type": "markdown",
   "metadata": {
    "colab_type": "text",
    "id": "FT9Mk2TaEpNt"
   },
   "source": [
    "### 3. Controlling the appearance of Pandas with CSS"
   ]
  },
  {
   "cell_type": "markdown",
   "metadata": {
    "colab_type": "text",
    "id": "FT9Mk2TaEpNt"
   },
   "source": [
    "- https://pandas.pydata.org/pandas-docs/stable/user_guide/style.html\n",
    "    "
   ]
  },
  {
   "cell_type": "code",
   "execution_count": 3,
   "metadata": {
    "ExecuteTime": {
     "end_time": "2020-05-22T23:22:27.205639Z",
     "start_time": "2020-05-22T23:22:26.326792Z"
    }
   },
   "outputs": [
    {
     "data": {
      "text/html": [
       "<div>\n",
       "<style scoped>\n",
       "    .dataframe tbody tr th:only-of-type {\n",
       "        vertical-align: middle;\n",
       "    }\n",
       "\n",
       "    .dataframe tbody tr th {\n",
       "        vertical-align: top;\n",
       "    }\n",
       "\n",
       "    .dataframe thead th {\n",
       "        text-align: right;\n",
       "    }\n",
       "</style>\n",
       "<table border=\"1\" class=\"dataframe\">\n",
       "  <thead>\n",
       "    <tr style=\"text-align: right;\">\n",
       "      <th></th>\n",
       "      <th>A</th>\n",
       "      <th>B</th>\n",
       "      <th>C</th>\n",
       "      <th>D</th>\n",
       "    </tr>\n",
       "  </thead>\n",
       "  <tbody>\n",
       "    <tr>\n",
       "      <td>mKNwe1QXJo</td>\n",
       "      <td>-1.117755</td>\n",
       "      <td>-0.817762</td>\n",
       "      <td>-3.248476</td>\n",
       "      <td>-0.299880</td>\n",
       "    </tr>\n",
       "    <tr>\n",
       "      <td>JD7Ws5YUlE</td>\n",
       "      <td>1.111286</td>\n",
       "      <td>0.023621</td>\n",
       "      <td>-1.155427</td>\n",
       "      <td>-0.219833</td>\n",
       "    </tr>\n",
       "    <tr>\n",
       "      <td>LshjvP4R5n</td>\n",
       "      <td>-1.554896</td>\n",
       "      <td>-0.785449</td>\n",
       "      <td>1.874530</td>\n",
       "      <td>-0.908441</td>\n",
       "    </tr>\n",
       "    <tr>\n",
       "      <td>jYPDbmgGo3</td>\n",
       "      <td>0.741791</td>\n",
       "      <td>0.674471</td>\n",
       "      <td>-0.259471</td>\n",
       "      <td>-0.934643</td>\n",
       "    </tr>\n",
       "    <tr>\n",
       "      <td>6o3uimVmFN</td>\n",
       "      <td>-0.360976</td>\n",
       "      <td>0.966134</td>\n",
       "      <td>-1.075348</td>\n",
       "      <td>1.480683</td>\n",
       "    </tr>\n",
       "    <tr>\n",
       "      <td>Tf0p4HnGQi</td>\n",
       "      <td>-0.836840</td>\n",
       "      <td>-1.401905</td>\n",
       "      <td>0.517524</td>\n",
       "      <td>0.085313</td>\n",
       "    </tr>\n",
       "    <tr>\n",
       "      <td>7qi5W1Isi4</td>\n",
       "      <td>1.435850</td>\n",
       "      <td>0.621956</td>\n",
       "      <td>-0.395194</td>\n",
       "      <td>-0.437561</td>\n",
       "    </tr>\n",
       "    <tr>\n",
       "      <td>iEhX4KTgRN</td>\n",
       "      <td>1.054222</td>\n",
       "      <td>0.910912</td>\n",
       "      <td>-0.893000</td>\n",
       "      <td>0.705567</td>\n",
       "    </tr>\n",
       "    <tr>\n",
       "      <td>viw1SIXiZF</td>\n",
       "      <td>-0.690025</td>\n",
       "      <td>1.168302</td>\n",
       "      <td>-0.098100</td>\n",
       "      <td>-1.798917</td>\n",
       "    </tr>\n",
       "    <tr>\n",
       "      <td>mFbA6aVOmc</td>\n",
       "      <td>-1.749169</td>\n",
       "      <td>0.783804</td>\n",
       "      <td>0.405875</td>\n",
       "      <td>0.266396</td>\n",
       "    </tr>\n",
       "  </tbody>\n",
       "</table>\n",
       "</div>"
      ],
      "text/plain": [
       "                   A         B         C         D\n",
       "mKNwe1QXJo -1.117755 -0.817762 -3.248476 -0.299880\n",
       "JD7Ws5YUlE  1.111286  0.023621 -1.155427 -0.219833\n",
       "LshjvP4R5n -1.554896 -0.785449  1.874530 -0.908441\n",
       "jYPDbmgGo3  0.741791  0.674471 -0.259471 -0.934643\n",
       "6o3uimVmFN -0.360976  0.966134 -1.075348  1.480683\n",
       "Tf0p4HnGQi -0.836840 -1.401905  0.517524  0.085313\n",
       "7qi5W1Isi4  1.435850  0.621956 -0.395194 -0.437561\n",
       "iEhX4KTgRN  1.054222  0.910912 -0.893000  0.705567\n",
       "viw1SIXiZF -0.690025  1.168302 -0.098100 -1.798917\n",
       "mFbA6aVOmc -1.749169  0.783804  0.405875  0.266396"
      ]
     },
     "execution_count": 3,
     "metadata": {},
     "output_type": "execute_result"
    }
   ],
   "source": [
    "import pandas as pd\n",
    "df = pd.util.testing.makeDataFrame()\n",
    "df = df.head(10)\n",
    "df"
   ]
  },
  {
   "cell_type": "code",
   "execution_count": 7,
   "metadata": {
    "ExecuteTime": {
     "end_time": "2020-05-22T23:24:32.246759Z",
     "start_time": "2020-05-22T23:24:32.225649Z"
    }
   },
   "outputs": [
    {
     "data": {
      "text/html": [
       "<style  type=\"text/css\" >\n",
       "    #T_641be598_9c83_11ea_b290_4865ee12e626row2_col2 {\n",
       "            background-color:  yellow;\n",
       "            font-weight: bold;\n",
       "            color: green;\n",
       "            font-size: 1.3em;\n",
       "        }    #T_641be598_9c83_11ea_b290_4865ee12e626row4_col3 {\n",
       "            background-color:  yellow;\n",
       "            font-weight: bold;\n",
       "            color: green;\n",
       "            font-size: 1.3em;\n",
       "        }    #T_641be598_9c83_11ea_b290_4865ee12e626row6_col0 {\n",
       "            background-color:  yellow;\n",
       "            font-weight: bold;\n",
       "            color: green;\n",
       "            font-size: 1.3em;\n",
       "        }    #T_641be598_9c83_11ea_b290_4865ee12e626row8_col1 {\n",
       "            background-color:  yellow;\n",
       "            font-weight: bold;\n",
       "            color: green;\n",
       "            font-size: 1.3em;\n",
       "        }</style><table id=\"T_641be598_9c83_11ea_b290_4865ee12e626\" ><thead>    <tr>        <th class=\"blank level0\" ></th>        <th class=\"col_heading level0 col0\" >A</th>        <th class=\"col_heading level0 col1\" >B</th>        <th class=\"col_heading level0 col2\" >C</th>        <th class=\"col_heading level0 col3\" >D</th>    </tr></thead><tbody>\n",
       "                <tr>\n",
       "                        <th id=\"T_641be598_9c83_11ea_b290_4865ee12e626level0_row0\" class=\"row_heading level0 row0\" >mKNwe1QXJo</th>\n",
       "                        <td id=\"T_641be598_9c83_11ea_b290_4865ee12e626row0_col0\" class=\"data row0 col0\" >-1.11776</td>\n",
       "                        <td id=\"T_641be598_9c83_11ea_b290_4865ee12e626row0_col1\" class=\"data row0 col1\" >-0.817762</td>\n",
       "                        <td id=\"T_641be598_9c83_11ea_b290_4865ee12e626row0_col2\" class=\"data row0 col2\" >-3.24848</td>\n",
       "                        <td id=\"T_641be598_9c83_11ea_b290_4865ee12e626row0_col3\" class=\"data row0 col3\" >-0.29988</td>\n",
       "            </tr>\n",
       "            <tr>\n",
       "                        <th id=\"T_641be598_9c83_11ea_b290_4865ee12e626level0_row1\" class=\"row_heading level0 row1\" >JD7Ws5YUlE</th>\n",
       "                        <td id=\"T_641be598_9c83_11ea_b290_4865ee12e626row1_col0\" class=\"data row1 col0\" >1.11129</td>\n",
       "                        <td id=\"T_641be598_9c83_11ea_b290_4865ee12e626row1_col1\" class=\"data row1 col1\" >0.0236209</td>\n",
       "                        <td id=\"T_641be598_9c83_11ea_b290_4865ee12e626row1_col2\" class=\"data row1 col2\" >-1.15543</td>\n",
       "                        <td id=\"T_641be598_9c83_11ea_b290_4865ee12e626row1_col3\" class=\"data row1 col3\" >-0.219833</td>\n",
       "            </tr>\n",
       "            <tr>\n",
       "                        <th id=\"T_641be598_9c83_11ea_b290_4865ee12e626level0_row2\" class=\"row_heading level0 row2\" >LshjvP4R5n</th>\n",
       "                        <td id=\"T_641be598_9c83_11ea_b290_4865ee12e626row2_col0\" class=\"data row2 col0\" >-1.5549</td>\n",
       "                        <td id=\"T_641be598_9c83_11ea_b290_4865ee12e626row2_col1\" class=\"data row2 col1\" >-0.785449</td>\n",
       "                        <td id=\"T_641be598_9c83_11ea_b290_4865ee12e626row2_col2\" class=\"data row2 col2\" >1.87453</td>\n",
       "                        <td id=\"T_641be598_9c83_11ea_b290_4865ee12e626row2_col3\" class=\"data row2 col3\" >-0.908441</td>\n",
       "            </tr>\n",
       "            <tr>\n",
       "                        <th id=\"T_641be598_9c83_11ea_b290_4865ee12e626level0_row3\" class=\"row_heading level0 row3\" >jYPDbmgGo3</th>\n",
       "                        <td id=\"T_641be598_9c83_11ea_b290_4865ee12e626row3_col0\" class=\"data row3 col0\" >0.741791</td>\n",
       "                        <td id=\"T_641be598_9c83_11ea_b290_4865ee12e626row3_col1\" class=\"data row3 col1\" >0.674471</td>\n",
       "                        <td id=\"T_641be598_9c83_11ea_b290_4865ee12e626row3_col2\" class=\"data row3 col2\" >-0.259471</td>\n",
       "                        <td id=\"T_641be598_9c83_11ea_b290_4865ee12e626row3_col3\" class=\"data row3 col3\" >-0.934643</td>\n",
       "            </tr>\n",
       "            <tr>\n",
       "                        <th id=\"T_641be598_9c83_11ea_b290_4865ee12e626level0_row4\" class=\"row_heading level0 row4\" >6o3uimVmFN</th>\n",
       "                        <td id=\"T_641be598_9c83_11ea_b290_4865ee12e626row4_col0\" class=\"data row4 col0\" >-0.360976</td>\n",
       "                        <td id=\"T_641be598_9c83_11ea_b290_4865ee12e626row4_col1\" class=\"data row4 col1\" >0.966134</td>\n",
       "                        <td id=\"T_641be598_9c83_11ea_b290_4865ee12e626row4_col2\" class=\"data row4 col2\" >-1.07535</td>\n",
       "                        <td id=\"T_641be598_9c83_11ea_b290_4865ee12e626row4_col3\" class=\"data row4 col3\" >1.48068</td>\n",
       "            </tr>\n",
       "            <tr>\n",
       "                        <th id=\"T_641be598_9c83_11ea_b290_4865ee12e626level0_row5\" class=\"row_heading level0 row5\" >Tf0p4HnGQi</th>\n",
       "                        <td id=\"T_641be598_9c83_11ea_b290_4865ee12e626row5_col0\" class=\"data row5 col0\" >-0.83684</td>\n",
       "                        <td id=\"T_641be598_9c83_11ea_b290_4865ee12e626row5_col1\" class=\"data row5 col1\" >-1.4019</td>\n",
       "                        <td id=\"T_641be598_9c83_11ea_b290_4865ee12e626row5_col2\" class=\"data row5 col2\" >0.517524</td>\n",
       "                        <td id=\"T_641be598_9c83_11ea_b290_4865ee12e626row5_col3\" class=\"data row5 col3\" >0.0853128</td>\n",
       "            </tr>\n",
       "            <tr>\n",
       "                        <th id=\"T_641be598_9c83_11ea_b290_4865ee12e626level0_row6\" class=\"row_heading level0 row6\" >7qi5W1Isi4</th>\n",
       "                        <td id=\"T_641be598_9c83_11ea_b290_4865ee12e626row6_col0\" class=\"data row6 col0\" >1.43585</td>\n",
       "                        <td id=\"T_641be598_9c83_11ea_b290_4865ee12e626row6_col1\" class=\"data row6 col1\" >0.621956</td>\n",
       "                        <td id=\"T_641be598_9c83_11ea_b290_4865ee12e626row6_col2\" class=\"data row6 col2\" >-0.395194</td>\n",
       "                        <td id=\"T_641be598_9c83_11ea_b290_4865ee12e626row6_col3\" class=\"data row6 col3\" >-0.437561</td>\n",
       "            </tr>\n",
       "            <tr>\n",
       "                        <th id=\"T_641be598_9c83_11ea_b290_4865ee12e626level0_row7\" class=\"row_heading level0 row7\" >iEhX4KTgRN</th>\n",
       "                        <td id=\"T_641be598_9c83_11ea_b290_4865ee12e626row7_col0\" class=\"data row7 col0\" >1.05422</td>\n",
       "                        <td id=\"T_641be598_9c83_11ea_b290_4865ee12e626row7_col1\" class=\"data row7 col1\" >0.910912</td>\n",
       "                        <td id=\"T_641be598_9c83_11ea_b290_4865ee12e626row7_col2\" class=\"data row7 col2\" >-0.893</td>\n",
       "                        <td id=\"T_641be598_9c83_11ea_b290_4865ee12e626row7_col3\" class=\"data row7 col3\" >0.705567</td>\n",
       "            </tr>\n",
       "            <tr>\n",
       "                        <th id=\"T_641be598_9c83_11ea_b290_4865ee12e626level0_row8\" class=\"row_heading level0 row8\" >viw1SIXiZF</th>\n",
       "                        <td id=\"T_641be598_9c83_11ea_b290_4865ee12e626row8_col0\" class=\"data row8 col0\" >-0.690025</td>\n",
       "                        <td id=\"T_641be598_9c83_11ea_b290_4865ee12e626row8_col1\" class=\"data row8 col1\" >1.1683</td>\n",
       "                        <td id=\"T_641be598_9c83_11ea_b290_4865ee12e626row8_col2\" class=\"data row8 col2\" >-0.0981003</td>\n",
       "                        <td id=\"T_641be598_9c83_11ea_b290_4865ee12e626row8_col3\" class=\"data row8 col3\" >-1.79892</td>\n",
       "            </tr>\n",
       "            <tr>\n",
       "                        <th id=\"T_641be598_9c83_11ea_b290_4865ee12e626level0_row9\" class=\"row_heading level0 row9\" >mFbA6aVOmc</th>\n",
       "                        <td id=\"T_641be598_9c83_11ea_b290_4865ee12e626row9_col0\" class=\"data row9 col0\" >-1.74917</td>\n",
       "                        <td id=\"T_641be598_9c83_11ea_b290_4865ee12e626row9_col1\" class=\"data row9 col1\" >0.783804</td>\n",
       "                        <td id=\"T_641be598_9c83_11ea_b290_4865ee12e626row9_col2\" class=\"data row9 col2\" >0.405875</td>\n",
       "                        <td id=\"T_641be598_9c83_11ea_b290_4865ee12e626row9_col3\" class=\"data row9 col3\" >0.266396</td>\n",
       "            </tr>\n",
       "    </tbody></table>"
      ],
      "text/plain": [
       "<pandas.io.formats.style.Styler at 0x1224fcef0>"
      ]
     },
     "execution_count": 7,
     "metadata": {},
     "output_type": "execute_result"
    }
   ],
   "source": [
    "def highlight_max(s):\n",
    "    '''\n",
    "    highlight the maximum in a Series yellow.\n",
    "    '''\n",
    "    is_max = s == s.max()\n",
    "    css = 'background-color: yellow;font-weight:bold;color:green;font-size:1.3em;'\n",
    "    return [css if v else '' for v in is_max]\n",
    "\n",
    "\n",
    "df.style.apply(highlight_max,axis=0)"
   ]
  },
  {
   "cell_type": "markdown",
   "metadata": {
    "colab_type": "text",
    "id": "FT9Mk2TaEpNt"
   },
   "source": [
    "### 4. ipywidget layouts (i.e. fsds_100719.ihelp_menu)"
   ]
  },
  {
   "cell_type": "code",
   "execution_count": 8,
   "metadata": {
    "ExecuteTime": {
     "end_time": "2020-05-22T23:24:56.607138Z",
     "start_time": "2020-05-22T23:24:55.690006Z"
    }
   },
   "outputs": [
    {
     "name": "stdout",
     "output_type": "stream",
     "text": [
      "fsds_1007219  v0.7.21 loaded.  Read the docs: https://fsds.readthedocs.io/en/latest/ \n",
      "> For convenient loading of standard modules use: `>> from fsds_100719.imports import *`\n",
      "\n"
     ]
    },
    {
     "data": {
      "application/vnd.jupyter.widget-view+json": {
       "model_id": "a1f4afc59b684d8499fff02e2f80e29c",
       "version_major": 2,
       "version_minor": 0
      },
      "text/plain": [
       "GridBox(box_style='warning', children=(VBox(children=(Label(value='iHelp Menu: View Help and/or Source Code'),…"
      ]
     },
     "metadata": {},
     "output_type": "display_data"
    },
    {
     "data": {
      "application/vnd.jupyter.widget-view+json": {
       "model_id": "917d106e4bdf40de98143b050db1ae5c",
       "version_major": 2,
       "version_minor": 0
      },
      "text/plain": [
       "Output()"
      ]
     },
     "metadata": {},
     "output_type": "display_data"
    }
   ],
   "source": [
    "## 4. ipywidgets Example\n",
    "try: \n",
    "    import fsds_100719 as fs\n",
    "except:\n",
    "    !pip install -U fsds_100719 \n",
    "    import fsds_100719 as fs\n",
    "\n",
    "fs.ihelp_menu(fs.ihelp_menu)"
   ]
  },
  {
   "cell_type": "markdown",
   "metadata": {
    "colab_type": "text",
    "id": "FT9Mk2TaEpNt"
   },
   "source": [
    "### 5. Your Markdown Cells in Notebooks"
   ]
  },
  {
   "cell_type": "markdown",
   "metadata": {
    "colab_type": "text",
    "id": "FT9Mk2TaEpNt"
   },
   "source": [
    "<details>\n",
    "<summary style=\"font-weight:bold\">Click here for example.</summary>\n",
    "<div style=\"color:blue;display:block;text-align:center;border: solid purple 2px;font-family:serif;font-size:3rem;padding:2rem;background-color:lightgreen;width:50%;padding:2em\"><br>YOUR NOTEBOOKS!</div>\n",
    "</details>\n",
    "\n"
   ]
  },
  {
   "cell_type": "markdown",
   "metadata": {},
   "source": [
    "- The HTML used above\n",
    "\n",
    "```HTML\n",
    "<details>\n",
    "<summary style=\"font-weight:bold\">Click here for example.</summary>\n",
    "<div style=\"color:blue;display:block;text-align:center;border: solid purple 2px;font-family:serif;font-size:3rem;padding:2rem;background-color:lightgreen;width:50%;padding:2em\"><br>YOUR NOTEBOOKS!</div>\n",
    "</details>\n",
    "\n",
    "```"
   ]
  },
  {
   "cell_type": "markdown",
   "metadata": {
    "colab_type": "text",
    "id": "FT9Mk2TaEpNt"
   },
   "source": [
    "### 6. Dashboard Customization"
   ]
  },
  {
   "cell_type": "markdown",
   "metadata": {
    "colab_type": "text",
    "id": "FT9Mk2TaEpNt"
   },
   "source": [
    "- Plotly and Dash\n",
    "- Example Dashboard from a former student\n",
    "    - https://still-plateau-25734.herokuapp.com/"
   ]
  },
  {
   "cell_type": "markdown",
   "metadata": {},
   "source": [
    "## HTML/CSS DEMOS"
   ]
  },
  {
   "cell_type": "markdown",
   "metadata": {},
   "source": [
    "### DEMO 1: Loading CSS styles via Python"
   ]
  },
  {
   "cell_type": "markdown",
   "metadata": {},
   "source": [
    "- We can load external CSS files by using `IPython.display.HTML` and using the code \n",
    "\n",
    "\n",
    "```python\n",
    "from IPython.display import HTML\n",
    "HTML(\"<style>{}</style>\".format(css_info))\n",
    "```"
   ]
  },
  {
   "cell_type": "markdown",
   "metadata": {},
   "source": [
    "#### Adding/controlling images and alignment of text\n",
    "\n",
    "- Add an image hosted on github by grabbing grabbing the raw link.\n",
    "\n",
    "<img src=\"https://raw.githubusercontent.com/jirvingphd/fsds_pt_100719_cohort_notes/master/Images/flatiron-building-glitter.jpeg\" width=30%>\n",
    "\n",
    "- Let's add an image hosted on github to our notebook (great example for making blog posts).\n",
    "1. Go to the repo's website, click on the image file.\n",
    "2. Click download and copy the raw.githubsercontent.link."
   ]
  },
  {
   "cell_type": "code",
   "execution_count": 11,
   "metadata": {
    "ExecuteTime": {
     "end_time": "2020-05-22T23:28:09.343622Z",
     "start_time": "2020-05-22T23:28:09.337162Z"
    }
   },
   "outputs": [
    {
     "data": {
      "text/html": [],
      "text/plain": [
       "<IPython.core.display.HTML object>"
      ]
     },
     "execution_count": 11,
     "metadata": {},
     "output_type": "execute_result"
    }
   ],
   "source": [
    "from IPython.display import HTML\n",
    "css_stylesheet = \"../assets/webscrape_example.css\"\n",
    "with open(css_stylesheet,'r')  as f_css:\n",
    "    style = f_css.read()\n",
    "\n",
    "## Run Me First\n",
    "HTML(f\"<style>{style}</style>\")\n",
    "\n",
    "## UNCOMMENT TO RESET STYLE\n",
    "HTML(\"\")"
   ]
  },
  {
   "cell_type": "markdown",
   "metadata": {},
   "source": [
    "### DEMO 2: USING VS CODE FOR HTML/CSS"
   ]
  },
  {
   "cell_type": "markdown",
   "metadata": {},
   "source": [
    "- Short Video Demoing VS Code from 05/22\n",
    "    - https://youtu.be/W-hcbJe7pqA\n",
    "    \n",
    "- My Little Rainbow Lab\n",
    "    - [Lesson Link](https://learn.co/tracks/module-1-data-science-career-2-1/intro-to-data-with-python-and-sql/section-10-html-css-and-web-scraping/my-little-rainbow-lab)"
   ]
  },
  {
   "cell_type": "markdown",
   "metadata": {},
   "source": [
    "- Requirements:\n",
    "    - VS Code Installed\n",
    "    - Preview Extension Installed"
   ]
  },
  {
   "cell_type": "markdown",
   "metadata": {
    "colab_type": "text",
    "id": "xTuSwL_QE21F"
   },
   "source": [
    "# 📓 Part 2: Web Scraping 101"
   ]
  },
  {
   "cell_type": "markdown",
   "metadata": {
    "colab_type": "text",
    "id": "G8RaN-P7-aO7"
   },
   "source": [
    "### Recommended packages/tools to use\n",
    "1. `fake_useragent`\n",
    "    - pip-installable module that conveniently supplies fake user agent information to use in your request headers.\n",
    "    - recommended by udemy course\n",
    "2. `lxml`\n",
    "    - popular pip installable html parser (recommended by Udemy course)\n",
    "    - using `'html.parser'` in requests.get() did not work for me, I had to install lxml"
   ]
  },
  {
   "cell_type": "code",
   "execution_count": 12,
   "metadata": {
    "ExecuteTime": {
     "end_time": "2020-05-22T23:34:10.555088Z",
     "start_time": "2020-05-22T23:34:05.452711Z"
    },
    "colab": {},
    "colab_type": "code",
    "id": "gh6WTxiVYqkh"
   },
   "outputs": [
    {
     "name": "stdout",
     "output_type": "stream",
     "text": [
      "Requirement already satisfied: fake_useragent in /anaconda3/envs/learn-env/lib/python3.6/site-packages (0.1.11)\n",
      "Requirement already satisfied: lxml in /anaconda3/envs/learn-env/lib/python3.6/site-packages (4.4.1)\n"
     ]
    }
   ],
   "source": [
    "!pip install fake_useragent\n",
    "!pip install lxml\n",
    "\n",
    "import fake_useragent\n",
    "import lxml"
   ]
  },
  {
   "cell_type": "markdown",
   "metadata": {
    "colab_type": "text",
    "id": "FaWIHHicwtAr"
   },
   "source": [
    "## Using python's `requests` module:\n"
   ]
  },
  {
   "cell_type": "markdown",
   "metadata": {
    "colab_type": "text",
    "id": "7JpBMzWysPb0"
   },
   "source": [
    "\n",
    "-  Use `requests` library to initiate connections to a website.\n",
    "- Check the status code returned to determine if connection was successful (status code=200)\n",
    "\n",
    "```python\n",
    "import requests\n",
    "url = 'https://en.wikipedia.org/wiki/Stock_market'\n",
    "\n",
    "# Connect to the url using requests.get\n",
    "response = requests.get(url)\n",
    "response.status_code\n",
    "```\n",
    "\n",
    " ___\n",
    "| Status Code | Code Meaning \n",
    "| --------- | -------------|\n",
    "1xx |   Informational\n",
    "2xx|    Success \n",
    "3xx|     Redirection\n",
    "4xx|     Client Error \n",
    "5xx |    Server Error\n",
    "\n",
    "___\n",
    "\n"
   ]
  },
  {
   "cell_type": "markdown",
   "metadata": {
    "colab_type": "text",
    "id": "-bJEevoTDebn"
   },
   "source": [
    "\n",
    "- **`response` is a dictionary with the contents printed below**\n",
    "\n",
    "- Adding a sleep time is helpful for avoiding and getting blocked from a server `time.sleep(\n",
    "- **Note: You can add a `timeout` to `requests.get()` to avoid indefinite waiting**\n",
    "    - Best in multiples of 3 (`timeout=3` or `6` , `9` ,etc.)\n",
    "\n",
    "```python\n",
    "# Add a timeout to prevent hanging\n",
    "response = requests.get(url, timeout=3)\n",
    "response.status_code\n",
    "\n",
    "```\n",
    "\n",
    "\n"
   ]
  },
  {
   "cell_type": "code",
   "execution_count": 13,
   "metadata": {
    "ExecuteTime": {
     "end_time": "2020-05-22T23:34:44.139420Z",
     "start_time": "2020-05-22T23:34:43.652503Z"
    }
   },
   "outputs": [
    {
     "name": "stdout",
     "output_type": "stream",
     "text": [
      "Status code:  200\n"
     ]
    }
   ],
   "source": [
    "import requests\n",
    "import bs4\n",
    "\n",
    "url = 'https://en.wikipedia.org/wiki/Stock_market'\n",
    "\n",
    "response = requests.get(url=url, timeout=3)\n",
    "print('Status code: ',response.status_code)"
   ]
  },
  {
   "cell_type": "code",
   "execution_count": 14,
   "metadata": {
    "ExecuteTime": {
     "end_time": "2020-05-22T23:35:20.470946Z",
     "start_time": "2020-05-22T23:35:20.352772Z"
    }
   },
   "outputs": [
    {
     "name": "stdout",
     "output_type": "stream",
     "text": [
      "Connection successfull.\n",
      "\n",
      "\n"
     ]
    }
   ],
   "source": [
    "if response.status_code==200:\n",
    "    print('Connection successfull.\\n\\n')\n",
    "else: \n",
    "    print('Error. Check status code table.\\n\\n')  \n",
    "\n",
    "page_content = response.content\n",
    "\n",
    "\n",
    "soup = bs4.BeautifulSoup(page_content,'lxml') "
   ]
  },
  {
   "cell_type": "code",
   "execution_count": 16,
   "metadata": {
    "ExecuteTime": {
     "end_time": "2020-05-22T23:36:07.089269Z",
     "start_time": "2020-05-22T23:36:04.532667Z"
    }
   },
   "outputs": [
    {
     "name": "stdout",
     "output_type": "stream",
     "text": [
      "Requirement already satisfied: pprint in /anaconda3/envs/learn-env/lib/python3.6/site-packages (0.1)\n",
      "('<!DOCTYPE html>\\n'\n",
      " '<html class=\"client-nojs\" dir=\"ltr\" lang=\"en\">\\n'\n",
      " ' <head>\\n'\n",
      " '  <meta charset=\"utf-8\"/>\\n'\n",
      " '  <title>\\n'\n",
      " '   Stock market - Wikipedia\\n'\n",
      " '  </title>\\n'\n",
      " '  <script>\\n'\n",
      " '   '\n",
      " 'document.documentElement.className=\"client-js\";RLCONF={\"wgBreakFrames\":!1,\"wgSeparatorTransformTable\":[\"\",\"\"],\"wgDigitTransformTable\":[\"\",\"\"],\"wgDefaultDateFormat\":\"dmy\",\"wgMonthNames\":[\"\",\"January\",\"February\",\"March\",\"April\",\"May\",\"June\",\"July\",\"August\",\"September\",\"October\",\"November\",\"December\"],\"wgRequestId\":\"XsghcApAICoAAG6Ac@oAAACO\",\"wgCSPNonce\":!1,\"wgCanonicalNamespace\":\"\",\"wgCanonicalSpecialPageName\":!1,\"wgNamespaceNumber\":0,\"wgPageName\":\"Stock_market\",\"wgTitle\":\"Stock '\n",
      " 'market\",\"wgCurRevisionId\":958215978,\"wgRevisionId\":958215978,\"wgArticleId\":52328,\"wgIsArticle\":!0,\"wgIsRedirect\":!1,\"wgAction\":\"view\",\"wgUserName\":null,\"wgUserGroups\":[\"*\"],\"wgCategories\":[\"CS1 '\n",
      " 'errors: missing periodical\",\"CS1 maint: multiple names: authors list\",\"Use '\n",
      " 'mdy dates from June 2013\",\"Articles containing potentially dated statements '\n",
      " 'from 2016\",\"A')\n"
     ]
    }
   ],
   "source": [
    "## pprint is a helpful package for printing complex data\n",
    "try:\n",
    "    from print import pprint\n",
    "except:\n",
    "    !pip install pprint\n",
    "    from pprint import pprint\n",
    "    \n",
    "pprint(soup.prettify()[:1000])"
   ]
  },
  {
   "cell_type": "code",
   "execution_count": 18,
   "metadata": {
    "ExecuteTime": {
     "end_time": "2020-05-22T23:36:25.921209Z",
     "start_time": "2020-05-22T23:36:25.919018Z"
    }
   },
   "outputs": [],
   "source": [
    "# print(soup)"
   ]
  },
  {
   "cell_type": "code",
   "execution_count": null,
   "metadata": {
    "ExecuteTime": {
     "end_time": "2020-05-22T22:43:18.739626Z",
     "start_time": "2020-05-22T22:43:18.674203Z"
    }
   },
   "outputs": [],
   "source": []
  },
  {
   "cell_type": "code",
   "execution_count": 19,
   "metadata": {
    "ExecuteTime": {
     "end_time": "2020-05-22T23:39:01.927657Z",
     "start_time": "2020-05-22T23:39:01.924575Z"
    },
    "colab": {},
    "colab_type": "code",
    "id": "AEfuIseSn328"
   },
   "outputs": [],
   "source": [
    "## Lets make this a function:\n",
    "def get_response(url,timeout,verbose=0):\n",
    "    \"\"\"Getting and previewing the website urls response.\n",
    "\n",
    "    Args: \n",
    "        url (str): page to get\n",
    "        timeout (int):  time to delay request\n",
    "        verbose (0,1,2): controls info display. 1= header, 2=header+status_code\n",
    "\n",
    "    Returns:\n",
    "        response (Response)\n",
    "    \"\"\"\n",
    "\n",
    "    return None\n",
    "        \n",
    "# response = get_response(verbose=0)\n",
    "# help(response)"
   ]
  },
  {
   "cell_type": "markdown",
   "metadata": {
    "colab_type": "text",
    "id": "hO3ac1hE8gr5"
   },
   "source": [
    "___"
   ]
  },
  {
   "cell_type": "markdown",
   "metadata": {
    "colab_type": "text",
    "id": "we-zGs8lw7kY"
   },
   "source": [
    "##  Using `BeautifulSoup`\n"
   ]
  },
  {
   "cell_type": "markdown",
   "metadata": {
    "colab_type": "text",
    "id": "5mPEFZu5pjdR"
   },
   "source": [
    "### Cook a soup\n"
   ]
  },
  {
   "cell_type": "markdown",
   "metadata": {
    "colab_type": "text",
    "id": "bDQT-D171lhn"
   },
   "source": [
    "\n",
    "\n",
    "- Connect to a website using`response = requests.get(url)`\n",
    "- Feed `response.content` into BeautifulSoup \n",
    "- Must specify the parser that will analyze the contents\n",
    "    - default available is `'html.parser'`\n",
    "    - recommended is to install and use `lxml` [[lxml documentation](https://lxml.de/3.7/)]\n",
    "- use soup.prettify() to get a user-friendly version of the content to print\n",
    "\n",
    "```python\n",
    "# Define Url and establish connection\n",
    "url = 'https://en.wikipedia.org/wiki/Stock_market'\n",
    "response = requests.get(url, timeout=3)\n",
    "\n",
    "# Feed the response's .content into BeauitfulSoup\n",
    "page_content = response.content\n",
    "soup = BeautifulSoup(page_content,'lxml') #'html.parser')\n",
    "\n",
    "# Preview soup contents using .prettify()\n",
    "print(soup.prettify()[:2000])\n",
    "\n",
    "```\n",
    "\n",
    "\n"
   ]
  },
  {
   "cell_type": "code",
   "execution_count": 21,
   "metadata": {
    "ExecuteTime": {
     "end_time": "2020-05-22T23:39:44.768808Z",
     "start_time": "2020-05-22T23:39:44.064800Z"
    },
    "colab": {},
    "colab_type": "code",
    "id": "GGI05UfxoDaP"
   },
   "outputs": [
    {
     "data": {
      "text/plain": [
       "<!DOCTYPE html>\n",
       "<html class=\"client-nojs\" dir=\"ltr\" lang=\"en\">\n",
       "<head>\n",
       "<meta charset=\"utf-8\"/>\n",
       "<title>Stock market - Wikipedia</title>\n",
       "<script>document.documentElement.className=\"client-js\";RLCONF={\"wgBreakFrames\":!1,\"wgSeparatorTransformTable\":[\"\",\"\"],\"wgDigitTransformTable\":[\"\",\"\"],\"wgDefaultDateFormat\":\"dmy\",\"wgMonthNames\":[\"\",\"January\",\"February\",\"March\",\"April\",\"May\",\"June\",\"July\",\"August\",\"September\",\"October\",\"November\",\"December\"],\"wgRequestId\":\"XsghcApAICoAAG6Ac@oAAACO\",\"wgCSPNonce\":!1,\"wgCanonicalNamespace\":\"\",\"wgCanonicalSpecialPageName\":!1,\"wgNamespaceNumber\":0,\"wgPageName\":\"Stock_market\",\"wgTitle\":\"Stock market\",\"wgCurRevisionId\":958215978,\"wgRevisionId\":958215978,\"wgArticleId\":52328,\"wgIsArticle\":!0,\"wgIsRedirect\":!1,\"wgAction\":\"view\",\"wgUserName\":null,\"wgUserGroups\":[\"*\"],\"wgCategories\":[\"CS1 errors: missing periodical\",\"CS1 maint: multiple names: authors list\",\"Use mdy dates from June 2013\",\"Articles containing potentially dated statements from 2016\",\"All articles containing potentially dated statements\",\"All articles with unsourced statements\",\"Articles with unsourced statements from March 2017\"\n",
       ",\"All accuracy disputes\",\"Articles with disputed statements from November 2019\",\"Articles with unsourced statements from November 2019\",\"Articles with unsourced statements from February 2017\",\"Articles with unsourced statements from September 2016\",\"Articles with Curlie links\",\"Wikipedia articles with GND identifiers\",\"Wikipedia articles with NDL identifiers\",\"Stock market\",\"17th-century introductions\",\"Capitalism\",\"Dutch inventions\"],\"wgPageContentLanguage\":\"en\",\"wgPageContentModel\":\"wikitext\",\"wgRelevantPageName\":\"Stock_market\",\"wgRelevantArticleId\":52328,\"wgIsProbablyEditable\":!0,\"wgRelevantPageIsProbablyEditable\":!0,\"wgRestrictionEdit\":[],\"wgRestrictionMove\":[],\"wgMediaViewerOnClick\":!0,\"wgMediaViewerEnabledByDefault\":!0,\"wgPopupsReferencePreviews\":!1,\"wgPopupsConflictsWithNavPopupGadget\":!1,\"wgVisualEditor\":{\"pageLanguageCode\":\"en\",\"pageLanguageDir\":\"ltr\",\"pageVariantFallbacks\":\"en\"},\"wgMFDisplayWikibaseDescriptions\":{\"search\":!0,\"nearby\":!0,\"watchlist\":!0,\n",
       "\"tagline\":!1},\"wgWMESchemaEditAttemptStepOversample\":!1,\"wgULSCurrentAutonym\":\"English\",\"wgNoticeProject\":\"wikipedia\",\"wgWikibaseItemId\":\"Q475000\",\"wgCentralAuthMobileDomain\":!1,\"wgEditSubmitButtonLabelPublish\":!0};RLSTATE={\"ext.globalCssJs.user.styles\":\"ready\",\"site.styles\":\"ready\",\"noscript\":\"ready\",\"user.styles\":\"ready\",\"ext.globalCssJs.user\":\"ready\",\"user\":\"ready\",\"user.options\":\"loading\",\"ext.cite.styles\":\"ready\",\"jquery.makeCollapsible.styles\":\"ready\",\"mediawiki.toc.styles\":\"ready\",\"skins.vector.styles.legacy\":\"ready\",\"wikibase.client.init\":\"ready\",\"ext.visualEditor.desktopArticleTarget.noscript\":\"ready\",\"ext.uls.interlanguage\":\"ready\",\"ext.wikimediaBadges\":\"ready\"};RLPAGEMODULES=[\"ext.cite.ux-enhancements\",\"ext.scribunto.logs\",\"site\",\"mediawiki.page.startup\",\"skins.vector.js\",\"mediawiki.page.ready\",\"jquery.makeCollapsible\",\"mediawiki.toc\",\"ext.gadget.ReferenceTooltips\",\"ext.gadget.charinsert\",\"ext.gadget.refToolbar\",\"ext.gadget.extra-toolbar-buttons\",\n",
       "\"ext.gadget.switcher\",\"ext.centralauth.centralautologin\",\"mmv.head\",\"mmv.bootstrap.autostart\",\"ext.popups\",\"ext.visualEditor.desktopArticleTarget.init\",\"ext.visualEditor.targetLoader\",\"ext.eventLogging\",\"ext.wikimediaEvents\",\"ext.navigationTiming\",\"ext.uls.compactlinks\",\"ext.uls.interface\",\"ext.cx.eventlogging.campaigns\",\"ext.quicksurveys.init\",\"ext.centralNotice.geoIP\",\"ext.centralNotice.startUp\"];</script>\n",
       "<script>(RLQ=window.RLQ||[]).push(function(){mw.loader.implement(\"user.options@1hzgi\",function($,jQuery,require,module){/*@nomin*/mw.user.tokens.set({\"patrolToken\":\"+\\\\\",\"watchToken\":\"+\\\\\",\"csrfToken\":\"+\\\\\"});\n",
       "});});</script>\n",
       "<link href=\"/w/load.php?lang=en&amp;modules=ext.cite.styles%7Cext.uls.interlanguage%7Cext.visualEditor.desktopArticleTarget.noscript%7Cext.wikimediaBadges%7Cjquery.makeCollapsible.styles%7Cmediawiki.toc.styles%7Cskins.vector.styles.legacy%7Cwikibase.client.init&amp;only=styles&amp;skin=vector\" rel=\"stylesheet\"/>\n",
       "<script async=\"\" src=\"/w/load.php?lang=en&amp;modules=startup&amp;only=scripts&amp;raw=1&amp;skin=vector\"></script>\n",
       "<meta content=\"\" name=\"ResourceLoaderDynamicStyles\"/>\n",
       "<link href=\"/w/load.php?lang=en&amp;modules=site.styles&amp;only=styles&amp;skin=vector\" rel=\"stylesheet\"/>\n",
       "<meta content=\"MediaWiki 1.35.0-wmf.31\" name=\"generator\"/>\n",
       "<meta content=\"origin\" name=\"referrer\"/>\n",
       "<meta content=\"origin-when-crossorigin\" name=\"referrer\"/>\n",
       "<meta content=\"origin-when-cross-origin\" name=\"referrer\"/>\n",
       "<meta content=\"https://upload.wikimedia.org/wikipedia/commons/d/d7/Philippine-stock-market-board.jpg\" property=\"og:image\"/>\n",
       "<link href=\"/w/index.php?title=Stock_market&amp;action=edit\" rel=\"alternate\" title=\"Edit this page\" type=\"application/x-wiki\"/>\n",
       "<link href=\"/w/index.php?title=Stock_market&amp;action=edit\" rel=\"edit\" title=\"Edit this page\"/>\n",
       "<link href=\"/static/apple-touch/wikipedia.png\" rel=\"apple-touch-icon\"/>\n",
       "<link href=\"/static/favicon/wikipedia.ico\" rel=\"shortcut icon\"/>\n",
       "<link href=\"/w/opensearch_desc.php\" rel=\"search\" title=\"Wikipedia (en)\" type=\"application/opensearchdescription+xml\"/>\n",
       "<link href=\"//en.wikipedia.org/w/api.php?action=rsd\" rel=\"EditURI\" type=\"application/rsd+xml\"/>\n",
       "<link href=\"//creativecommons.org/licenses/by-sa/3.0/\" rel=\"license\"/>\n",
       "<link href=\"/w/index.php?title=Special:RecentChanges&amp;feed=atom\" rel=\"alternate\" title=\"Wikipedia Atom feed\" type=\"application/atom+xml\"/>\n",
       "<link href=\"https://en.wikipedia.org/wiki/Stock_market\" rel=\"canonical\"/>\n",
       "<link href=\"//login.wikimedia.org\" rel=\"dns-prefetch\"/>\n",
       "<link href=\"//meta.wikimedia.org\" rel=\"dns-prefetch\"/>\n",
       "<!--[if lt IE 9]><script src=\"/w/resources/lib/html5shiv/html5shiv.js\"></script><![endif]-->\n",
       "</head>\n",
       "<body class=\"mediawiki ltr sitedir-ltr mw-hide-empty-elt ns-0 ns-subject mw-editable page-Stock_market rootpage-Stock_market skin-vector action-view\">\n",
       "<div class=\"noprint\" id=\"mw-page-base\"></div>\n",
       "<div class=\"noprint\" id=\"mw-head-base\"></div>\n",
       "<div class=\"mw-body\" id=\"content\" role=\"main\">\n",
       "<a id=\"top\"></a>\n",
       "<div class=\"mw-body-content\" id=\"siteNotice\"><!-- CentralNotice --></div>\n",
       "<div class=\"mw-indicators mw-body-content\">\n",
       "</div>\n",
       "<h1 class=\"firstHeading\" id=\"firstHeading\" lang=\"en\">Stock market</h1>\n",
       "<div class=\"mw-body-content\" id=\"bodyContent\">\n",
       "<div class=\"noprint\" id=\"siteSub\">From Wikipedia, the free encyclopedia</div>\n",
       "<div id=\"contentSub\"></div>\n",
       "<div id=\"jump-to-nav\"></div>\n",
       "<a class=\"mw-jump-link\" href=\"#mw-head\">Jump to navigation</a>\n",
       "<a class=\"mw-jump-link\" href=\"#p-search\">Jump to search</a>\n",
       "<div class=\"mw-content-ltr\" dir=\"ltr\" id=\"mw-content-text\" lang=\"en\"><div class=\"mw-parser-output\"><p class=\"mw-empty-elt\">\n",
       "</p>\n",
       "<table class=\"vertical-navbox nowraplinks plainlist\" style=\"float:right;clear:right;width:22.0em;margin:0 0 1.0em 1.0em;background:#f9f9f9;border:1px solid #aaa;padding:0.2em;border-spacing:0.4em 0;text-align:center;line-height:1.4em;font-size:88%\"><tbody><tr><th style=\"padding:0.2em 0.4em 0.2em;font-size:145%;line-height:1.2em\"><a href=\"/wiki/Financial_market\" title=\"Financial market\">Financial markets</a></th></tr><tr><td style=\"padding:0.2em 0 0.4em\"><a class=\"image\" href=\"/wiki/File:Philippine-stock-market-board.jpg\"><img alt=\"Looking up at a computerized stocks-value board at the Philippine Stock Exchange\" data-file-height=\"480\" data-file-width=\"640\" decoding=\"async\" height=\"150\" src=\"//upload.wikimedia.org/wikipedia/commons/thumb/d/d7/Philippine-stock-market-board.jpg/200px-Philippine-stock-market-board.jpg\" srcset=\"//upload.wikimedia.org/wikipedia/commons/thumb/d/d7/Philippine-stock-market-board.jpg/300px-Philippine-stock-market-board.jpg 1.5x, //upload.wikimedia.org/wikipedia/commons/thumb/d/d7/Philippine-stock-market-board.jpg/400px-Philippine-stock-market-board.jpg 2x\" width=\"200\"/></a></td></tr><tr><td style=\"padding:0.3em 0.4em 0.3em;font-weight:bold;padding-bottom:0.7em;\">\n",
       "<ul><li><a href=\"/wiki/Market_(economics)\" title=\"Market (economics)\">Public market</a></li>\n",
       "<li><a href=\"/wiki/Exchange_(organized_market)\" title=\"Exchange (organized market)\">Exchange</a> <b>·</b> <a href=\"/wiki/Security_(finance)\" title=\"Security (finance)\">Securities</a></li></ul></td></tr><tr><th class=\"navbox-abovebelow\" style=\"padding:0.1em\">\n",
       "<a href=\"/wiki/Bond_market\" title=\"Bond market\">Bond market</a></th></tr><tr><td class=\"hlist\" style=\"padding:0 0.1em 0.4em;padding:0.15em 0.5em 0.7em;\">\n",
       "<ul><li><a href=\"/wiki/Bond_valuation\" title=\"Bond valuation\">Bond valuation</a></li>\n",
       "<li><a href=\"/wiki/Corporate_bond\" title=\"Corporate bond\">Corporate bond</a></li>\n",
       "<li><a href=\"/wiki/Fixed_income\" title=\"Fixed income\">Fixed income</a></li>\n",
       "<li><a href=\"/wiki/Government_bond\" title=\"Government bond\">Government bond</a></li>\n",
       "<li><a href=\"/wiki/High-yield_debt\" title=\"High-yield debt\">High-yield debt</a></li>\n",
       "<li><a href=\"/wiki/Municipal_bond\" title=\"Municipal bond\">Municipal bond</a></li>\n",
       "<li><br/><a href=\"/wiki/Securitization\" title=\"Securitization\">Securitization</a></li></ul></td>\n",
       "</tr><tr><th class=\"navbox-abovebelow\" style=\"padding:0.1em\">\n",
       "<a class=\"mw-selflink selflink\">Stock market</a></th></tr><tr><td class=\"hlist\" style=\"padding:0 0.1em 0.4em;padding:0.15em 0.5em 0.7em;\">\n",
       "<ul><li><a href=\"/wiki/Common_stock\" title=\"Common stock\">Common stock</a></li>\n",
       "<li><a href=\"/wiki/Preferred_stock\" title=\"Preferred stock\">Preferred stock</a></li>\n",
       "<li><a href=\"/wiki/Registered_share\" title=\"Registered share\">Registered share</a></li>\n",
       "<li><a href=\"/wiki/Stock\" title=\"Stock\">Stock</a></li>\n",
       "<li><br/><a href=\"/wiki/Stock_certificate\" title=\"Stock certificate\">Stock certificate</a></li>\n",
       "<li><a href=\"/wiki/Stock_exchange\" title=\"Stock exchange\">Stock exchange</a></li></ul></td>\n",
       "</tr><tr><th class=\"navbox-abovebelow\" style=\"padding:0.1em\">\n",
       "Other markets</th></tr><tr><td class=\"hlist\" style=\"padding:0 0.1em 0.4em;padding:0.15em 0.5em 0.7em;\">\n",
       "<div style=\"padding:0.2em 0.4em; line-height:1.2em; line-height:1.25em;\"><a href=\"/wiki/Derivatives_market\" title=\"Derivatives market\">Derivatives</a> <div class=\"hlist hlist-separated\"><ul><li>(<a href=\"/wiki/Credit_derivative\" title=\"Credit derivative\">Credit derivative</a></li><li><a href=\"/wiki/Futures_exchange\" title=\"Futures exchange\">Futures exchange</a></li><li><a href=\"/wiki/Hybrid_security\" title=\"Hybrid security\">Hybrid security</a>)</li></ul></div> </div>\n",
       "<div style=\"padding:0.2em 0.4em; line-height:1.2em; line-height:1.25em;padding-bottom:0.25em;\"><a href=\"/wiki/Foreign_exchange_market\" title=\"Foreign exchange market\">Foreign exchange</a> <div class=\"hlist hlist-separated\"><ul><li>(<a href=\"/wiki/Currency\" title=\"Currency\">Currency</a></li><li><a href=\"/wiki/Exchange_rate\" title=\"Exchange rate\">Exchange rate</a>)</li></ul></div> </div>\n",
       "<ul><li><a href=\"/wiki/Commodity_market\" title=\"Commodity market\">Commodity</a></li>\n",
       "<li><a href=\"/wiki/Money_market\" title=\"Money market\">Money</a></li>\n",
       "<li><a href=\"/wiki/Real_estate\" title=\"Real estate\">Real estate</a></li>\n",
       "<li><a href=\"/wiki/Reinsurance\" title=\"Reinsurance\">Reinsurance</a></li></ul></td>\n",
       "</tr><tr><th class=\"navbox-abovebelow\" style=\"padding:0.1em\">\n",
       "<a href=\"/wiki/Over-the-counter_(finance)\" title=\"Over-the-counter (finance)\">Over-the-counter (off-exchange)</a></th></tr><tr><td class=\"hlist\" style=\"padding:0 0.1em 0.4em;padding:0.15em 0.5em 0.7em;\">\n",
       "<div class=\"hlist hlist-separated\"><ul><li><a href=\"/wiki/Forward_contract\" title=\"Forward contract\">Forwards</a></li><li><a href=\"/wiki/Option_(finance)\" title=\"Option (finance)\">Options</a></li></ul></div>\n",
       "<div class=\"hlist hlist-separated\"><ul><li><a href=\"/wiki/Spot_market\" title=\"Spot market\">Spot market</a></li><li><a href=\"/wiki/Swap_(finance)\" title=\"Swap (finance)\">Swaps</a></li></ul></div></td>\n",
       "</tr><tr><th class=\"navbox-abovebelow\" style=\"padding:0.1em\">\n",
       "<a href=\"/wiki/Trader_(finance)\" title=\"Trader (finance)\">Trading</a></th></tr><tr><td class=\"hlist\" style=\"padding:0 0.1em 0.4em;padding:0.15em 0.5em 0.7em;\">\n",
       "<ul><li><a href=\"/wiki/Financial_market_participants\" title=\"Financial market participants\">Participants</a></li>\n",
       "<li><a href=\"/wiki/Financial_regulation\" title=\"Financial regulation\">Regulation</a></li>\n",
       "<li><a href=\"/wiki/Clearing_(finance)\" title=\"Clearing (finance)\">Clearing</a></li></ul></td>\n",
       "</tr><tr><th class=\"navbox-abovebelow\" style=\"padding:0.1em\">\n",
       "Related areas</th></tr><tr><td class=\"hlist\" style=\"padding:0 0.1em 0.4em;padding:0.15em 0.5em 0.7em;\">\n",
       "<ul><li><a href=\"/wiki/Bank\" title=\"Bank\">Banks and banking</a></li>\n",
       "<li><a href=\"/wiki/Finance\" title=\"Finance\">Finance</a>\n",
       "<ul><li><a href=\"/wiki/Corporate_finance\" title=\"Corporate finance\">corporate</a></li>\n",
       "<li><a href=\"/wiki/Personal_finance\" title=\"Personal finance\">personal</a></li>\n",
       "<li><a href=\"/wiki/Public_finance\" title=\"Public finance\">public</a></li></ul></li></ul></td>\n",
       "</tr><tr><td style=\"text-align:right;font-size:115%;border-top:1px solid #aaa;\"><div class=\"plainlinks hlist navbar mini\"><ul><li class=\"nv-view\"><a href=\"/wiki/Template:Financial_markets\" title=\"Template:Financial markets\"><abbr title=\"View this template\">v</abbr></a></li><li class=\"nv-talk\"><a href=\"/wiki/Template_talk:Financial_markets\" title=\"Template talk:Financial markets\"><abbr title=\"Discuss this template\">t</abbr></a></li><li class=\"nv-edit\"><a class=\"external text\" href=\"https://en.wikipedia.org/w/index.php?title=Template:Financial_markets&amp;action=edit\"><abbr title=\"Edit this template\">e</abbr></a></li></ul></div></td></tr></tbody></table>\n",
       "<table class=\"vertical-navbox nowraplinks\" style=\"float:right;clear:right;width:22.0em;margin:0 0 1.0em 1.0em;background:#f9f9f9;border:1px solid #aaa;padding:0.2em;border-spacing:0.4em 0;text-align:center;line-height:1.4em;font-size:88%\"><tbody><tr><td style=\"padding-top:0.4em;line-height:1.2em\">Part of <a href=\"/wiki/Category:Capitalism\" title=\"Category:Capitalism\">a series</a> on</td></tr><tr><th style=\"padding:0.2em 0.4em 0.2em;padding-top:0;font-size:145%;line-height:1.2em;font-size:200%;font-weight:normal;color:black;\"><a href=\"/wiki/Capitalism\" title=\"Capitalism\">Capitalism</a></th></tr><tr><td style=\"padding:0 0.1em 0.4em\">\n",
       "<div class=\"NavFrame collapsed\" style=\"border:none;padding:0\"><div class=\"NavHead\" style=\"font-size:105%;background:transparent;text-align:left;background:transparent;border-top:1px solid #aaa;text-align:center;\">Concepts</div><div class=\"NavContent hlist\" style=\"font-size:105%;padding:0.2em 0 0.4em;text-align:center\">\n",
       "<ul><li><a href=\"/wiki/Business\" title=\"Business\">Business</a></li>\n",
       "<li><a href=\"/wiki/Business_cycle\" title=\"Business cycle\">Business cycle</a></li>\n",
       "<li><a href=\"/wiki/Businessperson\" title=\"Businessperson\">Businessperson</a></li>\n",
       "<li><a href=\"/wiki/Capital_(economics)\" title=\"Capital (economics)\">Capital</a></li>\n",
       "<li><a href=\"/wiki/Capital_accumulation\" title=\"Capital accumulation\">Capital accumulation</a></li>\n",
       "<li><a href=\"/wiki/Capital_market\" title=\"Capital market\">Capital markets</a></li>\n",
       "<li><a href=\"/wiki/Capitalism#As_a_mode_of_production\" title=\"Capitalism\">Capitalist mode of production</a></li>\n",
       "<li><a href=\"/wiki/Company\" title=\"Company\">Company</a></li>\n",
       "<li><a href=\"/wiki/Corporation\" title=\"Corporation\">Corporation</a></li>\n",
       "<li><a href=\"/wiki/Competition_(economics)\" title=\"Competition (economics)\">Competitive markets</a></li>\n",
       "<li><a href=\"/wiki/Economic_interventionism\" title=\"Economic interventionism\">Economic interventionism</a></li>\n",
       "<li><a href=\"/wiki/Economic_liberalism\" title=\"Economic liberalism\">Economic liberalism</a></li>\n",
       "<li><a href=\"/wiki/Economic_surplus\" title=\"Economic surplus\">Economic surplus</a></li>\n",
       "<li><a href=\"/wiki/Entrepreneurship\" title=\"Entrepreneurship\">Entrepreneurship</a></li>\n",
       "<li><a href=\"/wiki/Fictitious_capital\" title=\"Fictitious capital\">Fictitious capital</a></li>\n",
       "<li><a href=\"/wiki/Financial_market\" title=\"Financial market\">Financial market</a></li>\n",
       "<li><a href=\"/wiki/Free_price_system\" title=\"Free price system\">Free price system</a></li>\n",
       "<li><a href=\"/wiki/Free_market\" title=\"Free market\">Free market</a></li>\n",
       "<li><a href=\"/wiki/Goods_and_services\" title=\"Goods and services\">Goods and services</a></li>\n",
       "<li><a href=\"/wiki/Investor\" title=\"Investor\">Investor</a></li>\n",
       "<li><a href=\"/wiki/Invisible_hand\" title=\"Invisible hand\">Invisible hand</a></li>\n",
       "<li><a href=\"/wiki/Liberalization\" title=\"Liberalization\">Liberalization</a></li>\n",
       "<li><a href=\"/wiki/Marginalism\" title=\"Marginalism\">Marginalism</a></li>\n",
       "<li><a href=\"/wiki/Money\" title=\"Money\">Money</a></li>\n",
       "<li><a href=\"/wiki/Private_property\" title=\"Private property\">Private property</a></li>\n",
       "<li><a href=\"/wiki/Privatization\" title=\"Privatization\">Privatization</a></li>\n",
       "<li><a href=\"/wiki/Profit_(economics)\" title=\"Profit (economics)\">Profit</a></li>\n",
       "<li><a class=\"mw-redirect\" href=\"/wiki/Rent_seeking\" title=\"Rent seeking\">Rent seeking</a></li>\n",
       "<li><a href=\"/wiki/Supply_and_demand\" title=\"Supply and demand\">Supply and demand</a></li>\n",
       "<li><a href=\"/wiki/Surplus_value\" title=\"Surplus value\">Surplus value</a></li>\n",
       "<li><a href=\"/wiki/Value_(economics)\" title=\"Value (economics)\">Value</a></li>\n",
       "<li><a href=\"/wiki/Wage_labour\" title=\"Wage labour\">Wage labour</a></li></ul></div></div></td>\n",
       "</tr><tr><td style=\"padding:0 0.1em 0.4em\">\n",
       "<div class=\"NavFrame collapsed\" style=\"border:none;padding:0\"><div class=\"NavHead\" style=\"font-size:105%;background:transparent;text-align:left;background:transparent;border-top:1px solid #aaa;text-align:center;\">Economic systems</div><div class=\"NavContent hlist\" style=\"font-size:105%;padding:0.2em 0 0.4em;text-align:center\">\n",
       "<ul><li><a class=\"mw-redirect\" href=\"/wiki/Anglo-Saxon_capitalism\" title=\"Anglo-Saxon capitalism\">Anglo-Saxon</a></li>\n",
       "<li><a href=\"/wiki/Authoritarian_capitalism\" title=\"Authoritarian capitalism\">Authoritarian</a></li>\n",
       "<li><a href=\"/wiki/Corporate_capitalism\" title=\"Corporate capitalism\">Corporate</a></li>\n",
       "<li><a href=\"/wiki/Dirigisme\" title=\"Dirigisme\">Dirigist</a></li>\n",
       "<li><a href=\"/wiki/Free_market#General_principles\" title=\"Free market\">Free-market</a></li>\n",
       "<li><a href=\"/wiki/Humanistic_capitalism\" title=\"Humanistic capitalism\">Humanistic</a></li>\n",
       "<li><i><a class=\"mw-redirect\" href=\"/wiki/Laissez-faire_capitalism\" title=\"Laissez-faire capitalism\">Laissez-faire</a></i></li>\n",
       "<li><a class=\"mw-redirect\" href=\"/wiki/Liberal_capitalism\" title=\"Liberal capitalism\">Liberal</a></li>\n",
       "<li><a class=\"mw-redirect\" href=\"/wiki/Libertarian_capitalism\" title=\"Libertarian capitalism\">Libertarian</a></li>\n",
       "<li><a class=\"mw-redirect\" href=\"/wiki/Market_capitalism\" title=\"Market capitalism\">Market</a></li>\n",
       "<li><a href=\"/wiki/Mercantilism\" title=\"Mercantilism\">Mercantilist</a></li>\n",
       "<li><a class=\"mw-redirect\" href=\"/wiki/Mixed_capitalism\" title=\"Mixed capitalism\">Mixed</a></li>\n",
       "<li><a href=\"/wiki/State_monopoly_capitalism\" title=\"State monopoly capitalism\">Monopoly</a></li>\n",
       "<li><a class=\"mw-redirect\" href=\"/wiki/National_capitalism\" title=\"National capitalism\">National</a></li>\n",
       "<li><a href=\"/wiki/Neoliberalism\" title=\"Neoliberalism\">Neoliberal</a></li>\n",
       "<li><a class=\"mw-redirect\" href=\"/wiki/Nordic_capitalism\" title=\"Nordic capitalism\">Nordic</a></li>\n",
       "<li><a href=\"/wiki/Anarcho-capitalism\" title=\"Anarcho-capitalism\">Private</a></li>\n",
       "<li><a class=\"mw-redirect\" href=\"/wiki/Raw_capitalism\" title=\"Raw capitalism\">Raw</a></li>\n",
       "<li><a href=\"/wiki/Regulated_market\" title=\"Regulated market\">Regulated market</a></li>\n",
       "<li><a href=\"/wiki/Regulatory_capitalism\" title=\"Regulatory capitalism\">Regulatory</a></li>\n",
       "<li><a class=\"mw-redirect\" href=\"/wiki/Rhine_capitalism\" title=\"Rhine capitalism\">Rhine</a></li>\n",
       "<li><a class=\"mw-redirect\" href=\"/wiki/Social_capitalism\" title=\"Social capitalism\">Social</a></li>\n",
       "<li><a href=\"/wiki/State_capitalism\" title=\"State capitalism\">State</a></li>\n",
       "<li><a class=\"mw-redirect\" href=\"/wiki/State-sponsored_capitalism\" title=\"State-sponsored capitalism\">State-sponsored</a></li>\n",
       "<li><a href=\"/wiki/Welfare_capitalism\" title=\"Welfare capitalism\">Welfare</a></li></ul></div></div></td>\n",
       "</tr><tr><td style=\"padding:0 0.1em 0.4em\">\n",
       "<div class=\"NavFrame collapsed\" style=\"border:none;padding:0\"><div class=\"NavHead\" style=\"font-size:105%;background:transparent;text-align:left;background:transparent;border-top:1px solid #aaa;text-align:center;\">Economic theories</div><div class=\"NavContent hlist\" style=\"font-size:105%;padding:0.2em 0 0.4em;text-align:center\">\n",
       "<ul><li><a href=\"/wiki/American_School_(economics)\" title=\"American School (economics)\">American</a></li>\n",
       "<li><a href=\"/wiki/Austrian_School\" title=\"Austrian School\">Austrian</a></li>\n",
       "<li><a href=\"/wiki/Chartalism\" title=\"Chartalism\">Chartalism</a>\n",
       "<ul><li><a href=\"/wiki/Modern_Monetary_Theory\" title=\"Modern Monetary Theory\">MMT</a></li></ul></li>\n",
       "<li><a href=\"/wiki/Chicago_school_of_economics\" title=\"Chicago school of economics\">Chicago</a></li>\n",
       "<li><a href=\"/wiki/Classical_economics\" title=\"Classical economics\">Classical</a></li>\n",
       "<li><a href=\"/wiki/Institutional_economics\" title=\"Institutional economics\">Institutional</a></li>\n",
       "<li><a href=\"/wiki/Keynesian_economics\" title=\"Keynesian economics\">Keynesian</a>\n",
       "<ul><li><a href=\"/wiki/Neo-Keynesian_economics\" title=\"Neo-Keynesian economics\">Neo-</a></li>\n",
       "<li><a href=\"/wiki/New_Keynesian_economics\" title=\"New Keynesian economics\">New</a></li>\n",
       "<li><a href=\"/wiki/Post-Keynesian_economics\" title=\"Post-Keynesian economics\">Post-</a></li></ul></li>\n",
       "<li><a href=\"/wiki/Marxian_economics\" title=\"Marxian economics\">Marxian</a></li>\n",
       "<li><a href=\"/wiki/Monetarism\" title=\"Monetarism\">Monetarist</a></li>\n",
       "<li><a href=\"/wiki/Neoclassical_economics\" title=\"Neoclassical economics\">Neoclassical</a></li>\n",
       "<li><a href=\"/wiki/New_institutional_economics\" title=\"New institutional economics\">New institutional</a></li>\n",
       "<li><a href=\"/wiki/Supply-side_economics\" title=\"Supply-side economics\">Supply-side</a></li></ul></div></div></td>\n",
       "</tr><tr><td style=\"padding:0 0.1em 0.4em\">\n",
       "<div class=\"NavFrame collapsed\" style=\"border:none;padding:0\"><div class=\"NavHead\" style=\"font-size:105%;background:transparent;text-align:left;background:transparent;border-top:1px solid #aaa;text-align:center;\">Origins</div><div class=\"NavContent hlist\" style=\"font-size:105%;padding:0.2em 0 0.4em;text-align:center\">\n",
       "<ul><li><a href=\"/wiki/Age_of_Enlightenment\" title=\"Age of Enlightenment\">Age of Enlightenment</a></li>\n",
       "<li><a href=\"/wiki/Capitalism_and_Islam\" title=\"Capitalism and Islam\">Capitalism and Islam</a></li>\n",
       "<li><a href=\"/wiki/Commercial_Revolution\" title=\"Commercial Revolution\">Commercial Revolution</a></li>\n",
       "<li><a href=\"/wiki/Feudalism\" title=\"Feudalism\">Feudalism</a></li>\n",
       "<li><a href=\"/wiki/Industrial_Revolution\" title=\"Industrial Revolution\">Industrial Revolution</a></li>\n",
       "<li><a href=\"/wiki/Mercantilism\" title=\"Mercantilism\">Mercantilism</a></li>\n",
       "<li><a href=\"/wiki/Primitive_accumulation_of_capital\" title=\"Primitive accumulation of capital\">Primitive accumulation</a></li>\n",
       "<li><a href=\"/wiki/Physiocracy\" title=\"Physiocracy\">Physiocracy</a></li>\n",
       "<li><a href=\"/wiki/Simple_commodity_production\" title=\"Simple commodity production\">Simple commodity production</a></li></ul></div></div></td>\n",
       "</tr><tr><td style=\"padding:0 0.1em 0.4em\">\n",
       "<div class=\"NavFrame collapsed\" style=\"border:none;padding:0\"><div class=\"NavHead\" style=\"font-size:105%;background:transparent;text-align:left;background:transparent;border-top:1px solid #aaa;text-align:center;\">Development</div><div class=\"NavContent hlist\" style=\"font-size:105%;padding:0.2em 0 0.4em;text-align:center\">\n",
       "<ul><li><a href=\"/wiki/Advanced_capitalism\" title=\"Advanced capitalism\">Advanced</a></li>\n",
       "<li><a href=\"/wiki/Consumer_capitalism\" title=\"Consumer capitalism\">Consumer</a></li>\n",
       "<li><a href=\"/wiki/Community_capitalism\" title=\"Community capitalism\">Community</a></li>\n",
       "<li><a href=\"/wiki/Corporate_capitalism\" title=\"Corporate capitalism\">Corporate</a></li>\n",
       "<li><a href=\"/wiki/Crony_capitalism\" title=\"Crony capitalism\">Crony</a></li>\n",
       "<li><a href=\"/wiki/Finance_capitalism\" title=\"Finance capitalism\">Finance</a></li>\n",
       "<li><a class=\"mw-redirect\" href=\"/wiki/Global_capitalism\" title=\"Global capitalism\">Global</a></li>\n",
       "<li><a href=\"/wiki/Authoritarian_capitalism\" title=\"Authoritarian capitalism\">Illiberal</a></li>\n",
       "<li><a href=\"/wiki/Late_capitalism\" title=\"Late capitalism\">Late</a></li>\n",
       "<li><a href=\"/wiki/Capitalist_mode_of_production_(Marxist_theory)\" title=\"Capitalist mode of production (Marxist theory)\">Marxist</a></li>\n",
       "<li><a href=\"/wiki/Merchant_capitalism\" title=\"Merchant capitalism\">Merchant</a></li>\n",
       "<li><a href=\"/wiki/Progressive_capitalism\" title=\"Progressive capitalism\">Progressive</a></li>\n",
       "<li><a href=\"/wiki/Rentier_capitalism\" title=\"Rentier capitalism\">Rentier</a></li>\n",
       "<li><a href=\"/wiki/State_monopoly_capitalism\" title=\"State monopoly capitalism\">State monopoly</a></li>\n",
       "<li><a href=\"/wiki/Technocapitalism\" title=\"Technocapitalism\">Techno</a></li></ul></div></div></td>\n",
       "</tr><tr><td style=\"padding:0 0.1em 0.4em\">\n",
       "<div class=\"NavFrame collapsed\" style=\"border:none;padding:0\"><div class=\"NavHead\" style=\"font-size:105%;background:transparent;text-align:left;background:transparent;border-top:1px solid #aaa;text-align:center;\">People</div><div class=\"NavContent hlist\" style=\"font-size:105%;padding:0.2em 0 0.4em;text-align:center\">\n",
       "<ul><li><a href=\"/wiki/Adam_Smith\" title=\"Adam Smith\">Adam Smith</a></li>\n",
       "<li><a href=\"/wiki/John_Stuart_Mill\" title=\"John Stuart Mill\">John Stuart Mill</a></li>\n",
       "<li><a href=\"/wiki/David_Ricardo\" title=\"David Ricardo\">David Ricardo</a></li>\n",
       "<li><a href=\"/wiki/Thomas_Robert_Malthus\" title=\"Thomas Robert Malthus\">Thomas Robert Malthus</a></li>\n",
       "<li><a href=\"/wiki/Jean-Baptiste_Say\" title=\"Jean-Baptiste Say\">Jean-Baptiste Say</a></li>\n",
       "<li><a href=\"/wiki/Karl_Marx\" title=\"Karl Marx\">Karl Marx</a></li>\n",
       "<li><a href=\"/wiki/Milton_Friedman\" title=\"Milton Friedman\">Milton Friedman</a></li>\n",
       "<li><a href=\"/wiki/Friedrich_Hayek\" title=\"Friedrich Hayek\">Friedrich Hayek</a></li>\n",
       "<li><a href=\"/wiki/John_Maynard_Keynes\" title=\"John Maynard Keynes\">John Maynard Keynes</a></li>\n",
       "<li><a href=\"/wiki/Alfred_Marshall\" title=\"Alfred Marshall\">Alfred Marshall</a></li>\n",
       "<li><a href=\"/wiki/Ludwig_von_Mises\" title=\"Ludwig von Mises\">Ludwig von Mises</a></li>\n",
       "<li><a href=\"/wiki/Ayn_Rand\" title=\"Ayn Rand\">Ayn Rand</a></li>\n",
       "<li><a href=\"/wiki/Murray_Rothbard\" title=\"Murray Rothbard\">Murray Rothbard</a></li>\n",
       "<li><a href=\"/wiki/Joseph_Schumpeter\" title=\"Joseph Schumpeter\">Joseph Schumpeter</a></li>\n",
       "<li><a href=\"/wiki/Thorstein_Veblen\" title=\"Thorstein Veblen\">Thorstein Veblen</a></li>\n",
       "<li><a href=\"/wiki/Max_Weber\" title=\"Max Weber\">Max Weber</a></li>\n",
       "<li><a href=\"/wiki/Ronald_Coase\" title=\"Ronald Coase\">Ronald Coase</a></li>\n",
       "<li><a href=\"/wiki/Ngo_Dinh_Diem\" title=\"Ngo Dinh Diem\">Ngo Dinh Diem</a></li></ul></div></div></td>\n",
       "</tr><tr><td style=\"padding:0 0.1em 0.4em\">\n",
       "<div class=\"NavFrame collapsed\" style=\"border:none;padding:0\"><div class=\"NavHead\" style=\"font-size:105%;background:transparent;text-align:left;background:transparent;border-top:1px solid #aaa;text-align:center;\">Related topics</div><div class=\"NavContent hlist\" style=\"font-size:105%;padding:0.2em 0 0.4em;text-align:center\">\n",
       "<ul><li><a href=\"/wiki/Anti-capitalism\" title=\"Anti-capitalism\">Anti-capitalism</a></li>\n",
       "<li><a href=\"/wiki/Capitalist_state\" title=\"Capitalist state\">Capitalist state</a></li>\n",
       "<li><a href=\"/wiki/Consumerism\" title=\"Consumerism\">Consumerism</a></li>\n",
       "<li><a href=\"/wiki/Crisis_theory\" title=\"Crisis theory\">Crisis theory</a></li>\n",
       "<li><a href=\"/wiki/Criticism_of_capitalism\" title=\"Criticism of capitalism\">Criticism of capitalism</a></li>\n",
       "<li><a href=\"/wiki/Cronyism\" title=\"Cronyism\">Cronyism</a></li>\n",
       "<li><a href=\"/wiki/Culture_of_capitalism\" title=\"Culture of capitalism\">Culture of capitalism</a></li>\n",
       "<li><a href=\"/wiki/Evergreening\" title=\"Evergreening\">Evergreening</a></li>\n",
       "<li><a href=\"/wiki/Exploitation_of_natural_resources\" title=\"Exploitation of natural resources\">Exploitation</a></li>\n",
       "<li><a href=\"/wiki/Globalization\" title=\"Globalization\">Globalization</a></li>\n",
       "<li><a href=\"/wiki/History_of_capitalism\" title=\"History of capitalism\">History</a></li>\n",
       "<li><a href=\"/wiki/History_of_capitalist_theory\" title=\"History of capitalist theory\">History of theory</a></li>\n",
       "<li><a href=\"/wiki/Market_economy\" title=\"Market economy\">Market economy</a></li>\n",
       "<li><a href=\"/wiki/Periodizations_of_capitalism\" title=\"Periodizations of capitalism\">Periodizations of capitalism</a></li>\n",
       "<li><a class=\"mw-redirect\" href=\"/wiki/Perspectives_on_capitalism\" title=\"Perspectives on capitalism\">Perspectives on capitalism</a></li>\n",
       "<li><a href=\"/wiki/Post-capitalism\" title=\"Post-capitalism\">Post-capitalism</a></li>\n",
       "<li><a href=\"/wiki/Speculation\" title=\"Speculation\">Speculation</a></li>\n",
       "<li><a href=\"/wiki/Spontaneous_order\" title=\"Spontaneous order\">Spontaneous order</a></li>\n",
       "<li><a href=\"/wiki/Venture_philanthropy\" title=\"Venture philanthropy\">Venture philanthropy</a></li>\n",
       "<li><a href=\"/wiki/Wage_slavery\" title=\"Wage slavery\">Wage slavery</a></li></ul></div></div></td>\n",
       "</tr><tr><td style=\"padding:0 0.1em 0.4em\">\n",
       "<div class=\"NavFrame collapsed\" style=\"border:none;padding:0\"><div class=\"NavHead\" style=\"font-size:105%;background:transparent;text-align:left;background:transparent;border-top:1px solid #aaa;text-align:center;\">Ideologies</div><div class=\"NavContent hlist\" style=\"font-size:105%;padding:0.2em 0 0.4em;text-align:center\">\n",
       "<ul><li><a href=\"/wiki/Anarcho-capitalism\" title=\"Anarcho-capitalism\">Anarcho-capitalism</a></li>\n",
       "<li><a href=\"/wiki/Authoritarian_capitalism\" title=\"Authoritarian capitalism\">Authoritarian capitalism</a></li>\n",
       "<li><a href=\"/wiki/Democratic_capitalism\" title=\"Democratic capitalism\">Democratic capitalism</a></li>\n",
       "<li><a class=\"mw-redirect\" href=\"/wiki/Dirigism\" title=\"Dirigism\">Dirigism</a></li>\n",
       "<li><a href=\"/wiki/Eco-capitalism\" title=\"Eco-capitalism\">Eco-capitalism</a></li>\n",
       "<li><a href=\"/wiki/Humanistic_capitalism\" title=\"Humanistic capitalism\">Humanistic capitalism</a></li>\n",
       "<li><a href=\"/wiki/Inclusive_capitalism\" title=\"Inclusive capitalism\">Inclusive capitalism</a></li>\n",
       "<li><a class=\"mw-redirect\" href=\"/wiki/Liberal_capitalism\" title=\"Liberal capitalism\">Liberal capitalism</a></li>\n",
       "<li><a href=\"/wiki/Liberalism\" title=\"Liberalism\">Liberalism</a></li>\n",
       "<li><a class=\"mw-redirect\" href=\"/wiki/Libertarian_capitalism\" title=\"Libertarian capitalism\">Libertarian capitalism</a></li>\n",
       "<li><a class=\"mw-redirect\" href=\"/wiki/Neo-capitalism\" title=\"Neo-capitalism\">Neo-capitalism</a></li>\n",
       "<li><a href=\"/wiki/Neoliberalism\" title=\"Neoliberalism\">Neoliberalism</a></li>\n",
       "<li><a class=\"mw-redirect\" href=\"/wiki/Objectivism_(Ayn_Rand)\" title=\"Objectivism (Ayn Rand)\">Objectivism</a></li>\n",
       "<li><a href=\"/wiki/Ordoliberalism\" title=\"Ordoliberalism\">Ordoliberalism</a></li>\n",
       "<li><a href=\"/wiki/Right-libertarianism\" title=\"Right-libertarianism\">Right-libertarianism</a></li>\n",
       "<li><a href=\"/wiki/Social_democracy\" title=\"Social democracy\">Social democracy</a></li></ul></div></div></td>\n",
       "</tr><tr><td class=\"plainlist\" style=\"padding:0.3em 0.4em 0.3em;font-weight:bold;border-top: 1px solid #aaa; border-bottom: 1px solid #aaa;\">\n",
       "<ul><li><a class=\"image\" href=\"/wiki/File:Capitalismlogo.svg\"><img alt=\"Capitalismlogo.svg\" class=\"noviewer\" data-file-height=\"912\" data-file-width=\"959\" decoding=\"async\" height=\"15\" src=\"//upload.wikimedia.org/wikipedia/commons/thumb/2/2f/Capitalismlogo.svg/16px-Capitalismlogo.svg.png\" srcset=\"//upload.wikimedia.org/wikipedia/commons/thumb/2/2f/Capitalismlogo.svg/24px-Capitalismlogo.svg.png 1.5x, //upload.wikimedia.org/wikipedia/commons/thumb/2/2f/Capitalismlogo.svg/32px-Capitalismlogo.svg.png 2x\" width=\"16\"/></a> <a href=\"/wiki/Portal:Capitalism\" title=\"Portal:Capitalism\">Capitalism portal</a></li>\n",
       "<li><a class=\"image\" href=\"/wiki/File:Emblem-money.svg\"><img alt=\"Emblem-money.svg\" class=\"noviewer\" data-file-height=\"48\" data-file-width=\"48\" decoding=\"async\" height=\"16\" src=\"//upload.wikimedia.org/wikipedia/commons/thumb/f/f3/Emblem-money.svg/16px-Emblem-money.svg.png\" srcset=\"//upload.wikimedia.org/wikipedia/commons/thumb/f/f3/Emblem-money.svg/24px-Emblem-money.svg.png 1.5x, //upload.wikimedia.org/wikipedia/commons/thumb/f/f3/Emblem-money.svg/32px-Emblem-money.svg.png 2x\" width=\"16\"/></a> <a href=\"/wiki/Portal:Business\" title=\"Portal:Business\">Business portal</a></li>\n",
       "<li><a class=\"image\" href=\"/wiki/File:Socrates.png\"><img alt=\"Socrates.png\" class=\"noviewer\" data-file-height=\"500\" data-file-width=\"326\" decoding=\"async\" height=\"16\" src=\"//upload.wikimedia.org/wikipedia/commons/thumb/c/cd/Socrates.png/10px-Socrates.png\" srcset=\"//upload.wikimedia.org/wikipedia/commons/thumb/c/cd/Socrates.png/15px-Socrates.png 1.5x, //upload.wikimedia.org/wikipedia/commons/thumb/c/cd/Socrates.png/21px-Socrates.png 2x\" width=\"10\"/></a> <a href=\"/wiki/Portal:Philosophy\" title=\"Portal:Philosophy\">Philosophy portal</a></li>\n",
       "<li><a class=\"image\" href=\"/wiki/File:A_coloured_voting_box.svg\"><img alt=\"A coloured voting box.svg\" class=\"noviewer\" data-file-height=\"160\" data-file-width=\"160\" decoding=\"async\" height=\"16\" src=\"//upload.wikimedia.org/wikipedia/en/thumb/0/01/A_coloured_voting_box.svg/16px-A_coloured_voting_box.svg.png\" srcset=\"//upload.wikimedia.org/wikipedia/en/thumb/0/01/A_coloured_voting_box.svg/24px-A_coloured_voting_box.svg.png 1.5x, //upload.wikimedia.org/wikipedia/en/thumb/0/01/A_coloured_voting_box.svg/32px-A_coloured_voting_box.svg.png 2x\" width=\"16\"/></a> <a href=\"/wiki/Portal:Politics\" title=\"Portal:Politics\">Politics portal</a></li>\n",
       "<li><a class=\"image\" href=\"/wiki/File:Bills_and_coins.svg\"><img alt=\"Bills and coins.svg\" class=\"noviewer\" data-file-height=\"465\" data-file-width=\"960\" decoding=\"async\" height=\"8\" src=\"//upload.wikimedia.org/wikipedia/commons/thumb/5/55/Bills_and_coins.svg/16px-Bills_and_coins.svg.png\" srcset=\"//upload.wikimedia.org/wikipedia/commons/thumb/5/55/Bills_and_coins.svg/24px-Bills_and_coins.svg.png 1.5x, //upload.wikimedia.org/wikipedia/commons/thumb/5/55/Bills_and_coins.svg/32px-Bills_and_coins.svg.png 2x\" width=\"16\"/></a> <a href=\"/wiki/Portal:Money\" title=\"Portal:Money\">Money portal</a></li></ul></td></tr><tr><td style=\"text-align:right;font-size:115%;padding-top: 0.6em;\"><div class=\"plainlinks hlist navbar mini\"><ul><li class=\"nv-view\"><a href=\"/wiki/Template:Capitalism_sidebar\" title=\"Template:Capitalism sidebar\"><abbr title=\"View this template\">v</abbr></a></li><li class=\"nv-talk\"><a href=\"/wiki/Template_talk:Capitalism_sidebar\" title=\"Template talk:Capitalism sidebar\"><abbr title=\"Discuss this template\">t</abbr></a></li><li class=\"nv-edit\"><a class=\"external text\" href=\"https://en.wikipedia.org/w/index.php?title=Template:Capitalism_sidebar&amp;action=edit\"><abbr title=\"Edit this template\">e</abbr></a></li></ul></div></td></tr></tbody></table>\n",
       "<style data-mw-deduplicate=\"TemplateStyles:r923042769/mw-parser-output/.tmulti\">.mw-parser-output .tmulti .thumbinner{display:flex;flex-direction:column}.mw-parser-output .tmulti .trow{display:flex;flex-direction:row;clear:left;flex-wrap:wrap;width:100%;box-sizing:border-box}.mw-parser-output .tmulti .tsingle{margin:1px;float:left}.mw-parser-output .tmulti .theader{clear:both;font-weight:bold;text-align:center;align-self:center;background-color:transparent;width:100%}.mw-parser-output .tmulti .thumbcaption{text-align:left;background-color:transparent}.mw-parser-output .tmulti .thumbcaption-center{text-align:center;background-color:transparent}.mw-parser-output .tmulti .text-align-left{text-align:left}.mw-parser-output .tmulti .text-align-right{text-align:right}.mw-parser-output .tmulti .text-align-center{text-align:center}@media all and (max-width:720px){.mw-parser-output .tmulti .thumbinner{width:100%!important;box-sizing:border-box;max-width:none!important;align-items:center}.mw-parser-output .tmulti .trow{justify-content:center}.mw-parser-output .tmulti .tsingle{float:none!important;max-width:100%!important;box-sizing:border-box;text-align:center}.mw-parser-output .tmulti .thumbcaption{text-align:center}}</style><div class=\"thumb tmulti tright\"><div class=\"thumbinner\" style=\"width:304px;max-width:304px\"><div class=\"trow\"><div class=\"theader\" style=\"text-align:center;background-color:transparent\">A 400-year evolution of global stock markets (and <a class=\"mw-redirect\" href=\"/wiki/Capital_markets\" title=\"Capital markets\">capital markets</a> in general)</div></div><div class=\"trow\"><div class=\"tsingle\" style=\"width:302px;max-width:302px\"><div class=\"thumbimage\"><a class=\"image\" href=\"/wiki/File:SA_3025-De_binnenplaats_van_de_Beurs_van_Hendrick_de_Keyser.jpg\"><img alt=\"\" data-file-height=\"1087\" data-file-width=\"1400\" decoding=\"async\" height=\"233\" src=\"//upload.wikimedia.org/wikipedia/commons/thumb/5/56/SA_3025-De_binnenplaats_van_de_Beurs_van_Hendrick_de_Keyser.jpg/300px-SA_3025-De_binnenplaats_van_de_Beurs_van_Hendrick_de_Keyser.jpg\" srcset=\"//upload.wikimedia.org/wikipedia/commons/thumb/5/56/SA_3025-De_binnenplaats_van_de_Beurs_van_Hendrick_de_Keyser.jpg/450px-SA_3025-De_binnenplaats_van_de_Beurs_van_Hendrick_de_Keyser.jpg 1.5x, //upload.wikimedia.org/wikipedia/commons/thumb/5/56/SA_3025-De_binnenplaats_van_de_Beurs_van_Hendrick_de_Keyser.jpg/600px-SA_3025-De_binnenplaats_van_de_Beurs_van_Hendrick_de_Keyser.jpg 2x\" width=\"300\"/></a></div><div class=\"thumbcaption\">Courtyard of the <a class=\"mw-redirect\" href=\"/wiki/Amsterdam_Stock_Exchange\" title=\"Amsterdam Stock Exchange\">Amsterdam Stock Exchange</a> (<a class=\"extiw\" href=\"https://nl.wikipedia.org/wiki/Beurs_van_Hendrick_de_Keyser\" title=\"nl:Beurs van Hendrick de Keyser\">Beurs van Hendrick de Keyser</a> in Dutch), the foremost centre of global <a href=\"/wiki/Securities_market\" title=\"Securities market\">securities markets</a> in the 17th century.</div></div></div><div class=\"trow\"><div class=\"tsingle\" style=\"width:302px;max-width:302px\"><div class=\"thumbimage\"><a class=\"image\" href=\"/wiki/File:NYSE127.jpg\"><img alt=\"\" data-file-height=\"2448\" data-file-width=\"3264\" decoding=\"async\" height=\"225\" src=\"//upload.wikimedia.org/wikipedia/commons/thumb/3/3e/NYSE127.jpg/300px-NYSE127.jpg\" srcset=\"//upload.wikimedia.org/wikipedia/commons/thumb/3/3e/NYSE127.jpg/450px-NYSE127.jpg 1.5x, //upload.wikimedia.org/wikipedia/commons/thumb/3/3e/NYSE127.jpg/600px-NYSE127.jpg 2x\" width=\"300\"/></a></div><div class=\"thumbcaption\">The <a class=\"mw-redirect\" href=\"/wiki/Trading_floor\" title=\"Trading floor\">trading floor</a> of the <a href=\"/wiki/New_York_Stock_Exchange\" title=\"New York Stock Exchange\">New York Stock Exchange</a> (NYSE) in the blooming era of <a href=\"/wiki/Internet\" title=\"Internet\">Internet</a>.</div></div></div></div></div>\n",
       "<div class=\"thumb tright\"><div class=\"thumbinner\" style=\"width:222px;\"><a class=\"image\" href=\"/wiki/File:Photos_NewYork1_032.jpg\"><img alt=\"\" class=\"thumbimage\" data-file-height=\"768\" data-file-width=\"1024\" decoding=\"async\" height=\"165\" src=\"//upload.wikimedia.org/wikipedia/commons/thumb/f/f5/Photos_NewYork1_032.jpg/220px-Photos_NewYork1_032.jpg\" srcset=\"//upload.wikimedia.org/wikipedia/commons/thumb/f/f5/Photos_NewYork1_032.jpg/330px-Photos_NewYork1_032.jpg 1.5x, //upload.wikimedia.org/wikipedia/commons/thumb/f/f5/Photos_NewYork1_032.jpg/440px-Photos_NewYork1_032.jpg 2x\" width=\"220\"/></a> <div class=\"thumbcaption\"><div class=\"magnify\"><a class=\"internal\" href=\"/wiki/File:Photos_NewYork1_032.jpg\" title=\"Enlarge\"></a></div>The <a href=\"/wiki/New_York_Stock_Exchange\" title=\"New York Stock Exchange\">New York Stock Exchange</a></div></div></div>\n",
       "<div class=\"thumb tright\"><div class=\"thumbinner\" style=\"width:222px;\"><a class=\"image\" href=\"/wiki/File:Paternoster_Square.jpg\"><img alt=\"\" class=\"thumbimage\" data-file-height=\"1200\" data-file-width=\"1600\" decoding=\"async\" height=\"165\" src=\"//upload.wikimedia.org/wikipedia/commons/thumb/4/48/Paternoster_Square.jpg/220px-Paternoster_Square.jpg\" srcset=\"//upload.wikimedia.org/wikipedia/commons/thumb/4/48/Paternoster_Square.jpg/330px-Paternoster_Square.jpg 1.5x, //upload.wikimedia.org/wikipedia/commons/thumb/4/48/Paternoster_Square.jpg/440px-Paternoster_Square.jpg 2x\" width=\"220\"/></a> <div class=\"thumbcaption\"><div class=\"magnify\"><a class=\"internal\" href=\"/wiki/File:Paternoster_Square.jpg\" title=\"Enlarge\"></a></div>The <a href=\"/wiki/London_Stock_Exchange\" title=\"London Stock Exchange\">London Stock Exchange</a></div></div></div>\n",
       "<div class=\"thumb tright\"><div class=\"thumbinner\" style=\"width:222px;\"><a class=\"image\" href=\"/wiki/File:National_Stock_Exchange_of_India_2.jpg\"><img alt=\"\" class=\"thumbimage\" data-file-height=\"768\" data-file-width=\"1024\" decoding=\"async\" height=\"165\" src=\"//upload.wikimedia.org/wikipedia/commons/thumb/d/d2/National_Stock_Exchange_of_India_2.jpg/220px-National_Stock_Exchange_of_India_2.jpg\" srcset=\"//upload.wikimedia.org/wikipedia/commons/thumb/d/d2/National_Stock_Exchange_of_India_2.jpg/330px-National_Stock_Exchange_of_India_2.jpg 1.5x, //upload.wikimedia.org/wikipedia/commons/thumb/d/d2/National_Stock_Exchange_of_India_2.jpg/440px-National_Stock_Exchange_of_India_2.jpg 2x\" width=\"220\"/></a> <div class=\"thumbcaption\"><div class=\"magnify\"><a class=\"internal\" href=\"/wiki/File:National_Stock_Exchange_of_India_2.jpg\" title=\"Enlarge\"></a></div>The <a href=\"/wiki/National_Stock_Exchange_of_India\" title=\"National Stock Exchange of India\">National Stock Exchange of India</a></div></div></div>\n",
       "<div class=\"thumb tright\"><div class=\"thumbinner\" style=\"width:202px;\"><a class=\"image\" href=\"/wiki/File:Bursa_Malaysia.JPG\"><img alt=\"\" class=\"thumbimage\" data-file-height=\"1200\" data-file-width=\"1600\" decoding=\"async\" height=\"150\" src=\"//upload.wikimedia.org/wikipedia/commons/thumb/3/36/Bursa_Malaysia.JPG/200px-Bursa_Malaysia.JPG\" srcset=\"//upload.wikimedia.org/wikipedia/commons/thumb/3/36/Bursa_Malaysia.JPG/300px-Bursa_Malaysia.JPG 1.5x, //upload.wikimedia.org/wikipedia/commons/thumb/3/36/Bursa_Malaysia.JPG/400px-Bursa_Malaysia.JPG 2x\" width=\"200\"/></a> <div class=\"thumbcaption\"><div class=\"magnify\"><a class=\"internal\" href=\"/wiki/File:Bursa_Malaysia.JPG\" title=\"Enlarge\"></a></div>The offices of <a href=\"/wiki/Bursa_Malaysia\" title=\"Bursa Malaysia\">Bursa Malaysia</a>, Malaysia's national stock exchange (known before demutualization as Kuala Lumpur Stock Exchange)</div></div></div>\n",
       "<div class=\"thumb tright\"><div class=\"thumbinner\" style=\"width:202px;\"><a class=\"image\" href=\"/wiki/File:Phiroze_Jeejeebhoy_Towers_Bombay_Stock_Exchange.jpg\"><img alt=\"\" class=\"thumbimage\" data-file-height=\"640\" data-file-width=\"480\" decoding=\"async\" height=\"267\" src=\"//upload.wikimedia.org/wikipedia/commons/thumb/f/f5/Phiroze_Jeejeebhoy_Towers_Bombay_Stock_Exchange.jpg/200px-Phiroze_Jeejeebhoy_Towers_Bombay_Stock_Exchange.jpg\" srcset=\"//upload.wikimedia.org/wikipedia/commons/thumb/f/f5/Phiroze_Jeejeebhoy_Towers_Bombay_Stock_Exchange.jpg/300px-Phiroze_Jeejeebhoy_Towers_Bombay_Stock_Exchange.jpg 1.5x, //upload.wikimedia.org/wikipedia/commons/thumb/f/f5/Phiroze_Jeejeebhoy_Towers_Bombay_Stock_Exchange.jpg/400px-Phiroze_Jeejeebhoy_Towers_Bombay_Stock_Exchange.jpg 2x\" width=\"200\"/></a> <div class=\"thumbcaption\"><div class=\"magnify\"><a class=\"internal\" href=\"/wiki/File:Phiroze_Jeejeebhoy_Towers_Bombay_Stock_Exchange.jpg\" title=\"Enlarge\"></a></div>Established in 1875, the <a href=\"/wiki/Bombay_Stock_Exchange\" title=\"Bombay Stock Exchange\">Bombay Stock Exchange</a> is Asia's oldest stock exchange.</div></div></div>\n",
       "<p>A <b>stock market</b>, <b>equity market</b> or <b>share market</b> is the aggregation of buyers and sellers of <a href=\"/wiki/Stock\" title=\"Stock\">stocks</a> (also called shares), which represent ownership claims on businesses; these may include <i>securities</i> listed on a public <a href=\"/wiki/Stock_exchange\" title=\"Stock exchange\">stock exchange</a>, as well as stock that is only traded privately, such as shares of private companies which are sold to <a href=\"/wiki/Investor\" title=\"Investor\">investors</a> through <a href=\"/wiki/Equity_crowdfunding\" title=\"Equity crowdfunding\">equity crowdfunding</a> platforms. Investment in the stock market is most often done via <a href=\"/wiki/Stockbroker\" title=\"Stockbroker\">stockbrokerages</a> and <a href=\"/wiki/Electronic_trading_platform\" title=\"Electronic trading platform\">electronic trading platforms</a>. Investment is usually made with an <a href=\"/wiki/Investment_strategy\" title=\"Investment strategy\">investment strategy</a> in mind.\n",
       "</p><p>Stocks can be categorized by the country where the company is domiciled. For example, <a href=\"/wiki/Nestl%C3%A9\" title=\"Nestlé\">Nestlé</a> and <a href=\"/wiki/Novartis\" title=\"Novartis\">Novartis</a> are domiciled in Switzerland and traded on the <a href=\"/wiki/SIX_Swiss_Exchange\" title=\"SIX Swiss Exchange\">SIX Swiss Exchange</a>, so they may be considered as part of the <a href=\"/wiki/Switzerland\" title=\"Switzerland\">Swiss</a> stock market, although the stocks may also be traded on exchanges in other countries, for example, as <a class=\"mw-redirect\" href=\"/wiki/American_depository_receipt\" title=\"American depository receipt\">American depository receipts</a> (ADRs) on U.S. stock markets.\n",
       "</p>\n",
       "<div aria-labelledby=\"mw-toc-heading\" class=\"toc\" id=\"toc\" role=\"navigation\"><input class=\"toctogglecheckbox\" id=\"toctogglecheckbox\" role=\"button\" style=\"display:none\" type=\"checkbox\"/><div class=\"toctitle\" dir=\"ltr\" lang=\"en\"><h2 id=\"mw-toc-heading\">Contents</h2><span class=\"toctogglespan\"><label class=\"toctogglelabel\" for=\"toctogglecheckbox\"></label></span></div>\n",
       "<ul>\n",
       "<li class=\"toclevel-1 tocsection-1\"><a href=\"#Size_of_the_markets\"><span class=\"tocnumber\">1</span> <span class=\"toctext\">Size of the markets</span></a></li>\n",
       "<li class=\"toclevel-1 tocsection-2\"><a href=\"#Stock_exchange\"><span class=\"tocnumber\">2</span> <span class=\"toctext\">Stock exchange</span></a></li>\n",
       "<li class=\"toclevel-1 tocsection-3\"><a href=\"#Market_participant\"><span class=\"tocnumber\">3</span> <span class=\"toctext\">Market participant</span></a>\n",
       "<ul>\n",
       "<li class=\"toclevel-2 tocsection-4\"><a href=\"#Demographics_of_market_participation\"><span class=\"tocnumber\">3.1</span> <span class=\"toctext\">Demographics of market participation</span></a>\n",
       "<ul>\n",
       "<li class=\"toclevel-3 tocsection-5\"><a href=\"#Indirect_vs._Direct_Investment\"><span class=\"tocnumber\">3.1.1</span> <span class=\"toctext\">Indirect vs. Direct Investment</span></a></li>\n",
       "<li class=\"toclevel-3 tocsection-6\"><a href=\"#Participation_by_income_and_wealth_strata\"><span class=\"tocnumber\">3.1.2</span> <span class=\"toctext\">Participation by income and wealth strata</span></a></li>\n",
       "<li class=\"toclevel-3 tocsection-7\"><a href=\"#Participation_by_race_and_gender\"><span class=\"tocnumber\">3.1.3</span> <span class=\"toctext\">Participation by race and gender</span></a></li>\n",
       "<li class=\"toclevel-3 tocsection-8\"><a href=\"#Determinants_and_possible_explanations_of_stock_market_participation\"><span class=\"tocnumber\">3.1.4</span> <span class=\"toctext\">Determinants and possible explanations of stock market participation</span></a></li>\n",
       "</ul>\n",
       "</li>\n",
       "</ul>\n",
       "</li>\n",
       "<li class=\"toclevel-1 tocsection-9\"><a href=\"#History\"><span class=\"tocnumber\">4</span> <span class=\"toctext\">History</span></a>\n",
       "<ul>\n",
       "<li class=\"toclevel-2 tocsection-10\"><a href=\"#Early_history\"><span class=\"tocnumber\">4.1</span> <span class=\"toctext\">Early history</span></a></li>\n",
       "<li class=\"toclevel-2 tocsection-11\"><a href=\"#Birth_of_formal_stock_markets\"><span class=\"tocnumber\">4.2</span> <span class=\"toctext\">Birth of formal stock markets</span></a></li>\n",
       "</ul>\n",
       "</li>\n",
       "<li class=\"toclevel-1 tocsection-12\"><a href=\"#Importance\"><span class=\"tocnumber\">5</span> <span class=\"toctext\">Importance</span></a>\n",
       "<ul>\n",
       "<li class=\"toclevel-2 tocsection-13\"><a href=\"#Function_and_purpose\"><span class=\"tocnumber\">5.1</span> <span class=\"toctext\">Function and purpose</span></a></li>\n",
       "<li class=\"toclevel-2 tocsection-14\"><a href=\"#Relation_to_the_modern_financial_system\"><span class=\"tocnumber\">5.2</span> <span class=\"toctext\">Relation to the modern financial system</span></a></li>\n",
       "<li class=\"toclevel-2 tocsection-15\"><a href=\"#Behavior_of_stock_prices\"><span class=\"tocnumber\">5.3</span> <span class=\"toctext\">Behavior of stock prices</span></a></li>\n",
       "<li class=\"toclevel-2 tocsection-16\"><a href=\"#Irrational_behavior\"><span class=\"tocnumber\">5.4</span> <span class=\"toctext\">Irrational behavior</span></a></li>\n",
       "<li class=\"toclevel-2 tocsection-17\"><a href=\"#Crashes\"><span class=\"tocnumber\">5.5</span> <span class=\"toctext\">Crashes</span></a></li>\n",
       "<li class=\"toclevel-2 tocsection-18\"><a href=\"#1929\"><span class=\"tocnumber\">5.6</span> <span class=\"toctext\">1929</span></a></li>\n",
       "<li class=\"toclevel-2 tocsection-19\"><a href=\"#1987\"><span class=\"tocnumber\">5.7</span> <span class=\"toctext\">1987</span></a></li>\n",
       "<li class=\"toclevel-2 tocsection-20\"><a href=\"#Circuit_breakers\"><span class=\"tocnumber\">5.8</span> <span class=\"toctext\">Circuit breakers</span></a></li>\n",
       "</ul>\n",
       "</li>\n",
       "<li class=\"toclevel-1 tocsection-21\"><a href=\"#Stock_market_index\"><span class=\"tocnumber\">6</span> <span class=\"toctext\">Stock market index</span></a></li>\n",
       "<li class=\"toclevel-1 tocsection-22\"><a href=\"#Derivative_instruments\"><span class=\"tocnumber\">7</span> <span class=\"toctext\">Derivative instruments</span></a></li>\n",
       "<li class=\"toclevel-1 tocsection-23\"><a href=\"#Leveraged_strategies\"><span class=\"tocnumber\">8</span> <span class=\"toctext\">Leveraged strategies</span></a>\n",
       "<ul>\n",
       "<li class=\"toclevel-2 tocsection-24\"><a href=\"#Short_selling\"><span class=\"tocnumber\">8.1</span> <span class=\"toctext\">Short selling</span></a></li>\n",
       "<li class=\"toclevel-2 tocsection-25\"><a href=\"#Margin_buying\"><span class=\"tocnumber\">8.2</span> <span class=\"toctext\">Margin buying</span></a></li>\n",
       "</ul>\n",
       "</li>\n",
       "<li class=\"toclevel-1 tocsection-26\"><a href=\"#New_issuance\"><span class=\"tocnumber\">9</span> <span class=\"toctext\">New issuance</span></a></li>\n",
       "<li class=\"toclevel-1 tocsection-27\"><a href=\"#Investment_strategies\"><span class=\"tocnumber\">10</span> <span class=\"toctext\">Investment strategies</span></a></li>\n",
       "<li class=\"toclevel-1 tocsection-28\"><a href=\"#Taxation\"><span class=\"tocnumber\">11</span> <span class=\"toctext\">Taxation</span></a></li>\n",
       "<li class=\"toclevel-1 tocsection-29\"><a href=\"#See_also\"><span class=\"tocnumber\">12</span> <span class=\"toctext\">See also</span></a></li>\n",
       "<li class=\"toclevel-1 tocsection-30\"><a href=\"#Notes\"><span class=\"tocnumber\">13</span> <span class=\"toctext\">Notes</span></a></li>\n",
       "<li class=\"toclevel-1 tocsection-31\"><a href=\"#References\"><span class=\"tocnumber\">14</span> <span class=\"toctext\">References</span></a></li>\n",
       "<li class=\"toclevel-1 tocsection-32\"><a href=\"#Further_reading\"><span class=\"tocnumber\">15</span> <span class=\"toctext\">Further reading</span></a></li>\n",
       "<li class=\"toclevel-1 tocsection-33\"><a href=\"#External_links\"><span class=\"tocnumber\">16</span> <span class=\"toctext\">External links</span></a></li>\n",
       "</ul>\n",
       "</div>\n",
       "<h2><span class=\"mw-headline\" id=\"Size_of_the_markets\">Size of the markets</span><span class=\"mw-editsection\"><span class=\"mw-editsection-bracket\">[</span><a href=\"/w/index.php?title=Stock_market&amp;action=edit&amp;section=1\" title=\"Edit section: Size of the markets\">edit</a><span class=\"mw-editsection-bracket\">]</span></span></h2>\n",
       "<p>The total <a href=\"/wiki/Market_capitalization\" title=\"Market capitalization\">market capitalization</a> of equity backed securities worldwide rose from US$2.5 trillion in 1980 to US$68.65 trillion at the end of 2018.<sup class=\"reference\" id=\"cite_ref-1\"><a href=\"#cite_note-1\">[1]</a></sup> As of December 31, 2019, the total <a href=\"/wiki/Market_capitalization\" title=\"Market capitalization\">market capitalization</a> of all stocks worldwide was approximately US$70.75 trillion.<sup class=\"reference\" id=\"cite_ref-2\"><a href=\"#cite_note-2\">[2]</a></sup>\n",
       "</p><p>As of 2016<sup class=\"plainlinks noexcerpt noprint asof-tag update\" style=\"display:none;\"><a class=\"external text\" href=\"https://en.wikipedia.org/w/index.php?title=Stock_market&amp;action=edit\">[update]</a></sup>, there are 60 stock exchanges in the world. Of these, there are 16 exchanges with a market capitalization of $1 trillion or more, and they account for 87% of global market capitalization. Apart from the <a href=\"/wiki/Australian_Securities_Exchange\" title=\"Australian Securities Exchange\">Australian Securities Exchange</a>, these 16 exchanges are all in either North America, Europe, or Asia.<sup class=\"reference\" id=\"cite_ref-3\"><a href=\"#cite_note-3\">[3]</a></sup>\n",
       "</p><p>By country, the largest stock market as of January'20 are The United States of America (about 54.5%), followed by Japan (about 7.7%) and the United Kingdom (about 5.1%). <sup class=\"reference\" id=\"cite_ref-4\"><a href=\"#cite_note-4\">[4]</a></sup>\n",
       "</p>\n",
       "<h2><span class=\"mw-headline\" id=\"Stock_exchange\">Stock exchange</span><span class=\"mw-editsection\"><span class=\"mw-editsection-bracket\">[</span><a href=\"/w/index.php?title=Stock_market&amp;action=edit&amp;section=2\" title=\"Edit section: Stock exchange\">edit</a><span class=\"mw-editsection-bracket\">]</span></span></h2>\n",
       "<div class=\"hatnote navigation-not-searchable\" role=\"note\">Main article: <a href=\"/wiki/Stock_exchange\" title=\"Stock exchange\">Stock exchange</a></div>\n",
       "<p>A <a href=\"/wiki/Stock_exchange\" title=\"Stock exchange\">stock exchange</a> is an <a href=\"/wiki/Exchange_(organized_market)\" title=\"Exchange (organized market)\">exchange</a> (or bourse)<sup class=\"reference\" id=\"cite_ref-7\"><a href=\"#cite_note-7\">[note 1]</a></sup> where <a href=\"/wiki/Stockbroker\" title=\"Stockbroker\">stockbrokers</a> and <a href=\"/wiki/Stock_trader\" title=\"Stock trader\">traders</a> can buy and sell <a href=\"/wiki/Share_(finance)\" title=\"Share (finance)\">shares</a> of <a href=\"/wiki/Stock\" title=\"Stock\">stock</a>, <a href=\"/wiki/Bond_(finance)\" title=\"Bond (finance)\">bonds</a>, and other <a href=\"/wiki/Security_(finance)\" title=\"Security (finance)\">securities</a>. Many large companies have their stocks listed on a stock exchange. This makes the stock more liquid and thus more attractive to many investors. The exchange may also act as a guarantor of settlement. Other stocks may be traded \"over the counter\" (OTC), that is, through a dealer. Some large companies will have their stock listed on more than one exchange in different countries, so as to attract international investors.<sup class=\"reference\" id=\"cite_ref-8\"><a href=\"#cite_note-8\">[7]</a></sup>\n",
       "</p><p>Stock exchanges may also cover other types of securities, such as fixed interest securities (bonds) or (less frequently) derivatives which are more likely to be traded OTC.\n",
       "</p><p>Trade in stock markets means the transfer (in exchange for money) of a stock or security from a seller to a buyer. This requires these two parties to agree on a price. <a href=\"/wiki/Equity_(finance)\" title=\"Equity (finance)\">Equities</a> (stocks or shares) confer an ownership interest in a particular company.\n",
       "</p><p>Participants in the stock market range from small individual <a class=\"mw-redirect\" href=\"/wiki/Stock_investors\" title=\"Stock investors\">stock investors</a> to larger investors, who can be based anywhere in the world, and may include <a href=\"/wiki/Bank\" title=\"Bank\">banks</a>, <a href=\"/wiki/Insurance\" title=\"Insurance\">insurance</a> companies, <a href=\"/wiki/Pension_fund\" title=\"Pension fund\">pension funds</a> and <a href=\"/wiki/Hedge_fund\" title=\"Hedge fund\">hedge funds</a>. Their buy or sell orders may be executed on their behalf by a stock exchange <a href=\"/wiki/Trader_(finance)\" title=\"Trader (finance)\">trader</a>.\n",
       "</p><p>Some exchanges are physical locations where transactions are carried out on a trading floor, by a method known as <a href=\"/wiki/Open_outcry\" title=\"Open outcry\">open outcry</a>. This method is used in some stock exchanges and <a class=\"mw-redirect\" href=\"/wiki/Commodities_exchange\" title=\"Commodities exchange\">commodities exchanges</a>, and involves traders shouting bid and offer prices. The other type of stock exchange has a network of computers where trades are made electronically. An example of such an exchange is the <a class=\"mw-redirect\" href=\"/wiki/NASDAQ\" title=\"NASDAQ\">NASDAQ</a>.\n",
       "</p><p>A potential buyer <i>bids</i> a specific price for a stock, and a potential seller <i>asks</i> a specific price for the same stock. Buying or selling <i>at the market</i> means you will accept <i>any</i> ask price or bid price for the stock. When the bid and ask prices match, a sale takes place, on a first-come, first-served basis if there are multiple bidders at a given price.\n",
       "</p><p>The purpose of a stock exchange is to facilitate the exchange of securities between buyers and sellers, thus providing a <a href=\"/wiki/Marketplace\" title=\"Marketplace\">marketplace</a>. The exchanges provide real-time trading information on the listed securities, facilitating <a href=\"/wiki/Price_discovery\" title=\"Price discovery\">price discovery</a>.\n",
       "</p><p>The <a href=\"/wiki/New_York_Stock_Exchange\" title=\"New York Stock Exchange\">New York Stock Exchange</a> (NYSE) is a physical exchange, with a <a href=\"/wiki/Hybrid_market\" title=\"Hybrid market\">hybrid market</a> for placing orders electronically from any location as well as on the <a class=\"mw-redirect\" href=\"/wiki/Trading_floor\" title=\"Trading floor\">trading floor</a>. Orders executed on the trading floor enter by way of exchange members and flow down to a <a href=\"/wiki/Floor_broker\" title=\"Floor broker\">floor broker</a>, who submits the order electronically to the floor trading post for the Designated <a href=\"/wiki/Market_maker\" title=\"Market maker\">market maker</a> (\"DMM\") for that stock to trade the order. The DMM's job is to maintain a two-sided market, making orders to buy and sell the security when there are no other buyers or sellers. If a <a href=\"/wiki/Bid%E2%80%93ask_spread\" title=\"Bid–ask spread\">bid–ask spread</a> exists, no trade immediately takes place – in this case the DMM may use their own resources (money or stock) to close the difference. Once a trade has been made, the details are reported on the \"tape\" and sent back to the brokerage firm, which then notifies the investor who placed the order. Computers play an important role, especially for <a href=\"/wiki/Program_trading\" title=\"Program trading\">program trading</a>.\n",
       "</p><p>The <a class=\"mw-redirect\" href=\"/wiki/NASDAQ\" title=\"NASDAQ\">NASDAQ</a> is an electronic exchange, where all of the trading is done over a computer network. The process is similar to the New York Stock Exchange. One or more NASDAQ <a href=\"/wiki/Market_maker\" title=\"Market maker\">market makers</a> will always provide a bid and ask price at which they will always purchase or sell 'their' stock.\n",
       "</p><p>The <a class=\"mw-redirect\" href=\"/wiki/Paris_Bourse\" title=\"Paris Bourse\">Paris Bourse</a>, now part of <a href=\"/wiki/Euronext\" title=\"Euronext\">Euronext</a>, is an order-driven, electronic stock exchange. It was automated in the late 1980s. Prior to the 1980s, it consisted of an open outcry exchange. <a href=\"/wiki/Stockbroker\" title=\"Stockbroker\">Stockbrokers</a> met on the trading floor of the Palais Brongniart. In 1986, the <a href=\"/wiki/CATS_(trading_system)\" title=\"CATS (trading system)\">CATS trading system</a> was introduced, and the <a href=\"/wiki/Order_matching_system\" title=\"Order matching system\">order matching system</a> was fully automated.\n",
       "</p><p>People trading stock will prefer to trade on the most popular exchange since this gives the largest number of potential counter parties (buyers for a seller, sellers for a buyer) and probably the best price. However, there have always been alternatives such as brokers trying to bring parties together to trade outside the exchange. Some third markets that were popular are <a href=\"/wiki/Instinet\" title=\"Instinet\">Instinet</a>, and later Island and Archipelago (the latter two have since been acquired by Nasdaq and NYSE, respectively). One advantage is that this avoids the <a href=\"/wiki/Commission_(remuneration)\" title=\"Commission (remuneration)\">commissions</a> of the exchange. However, it also has problems such as <a href=\"/wiki/Adverse_selection\" title=\"Adverse selection\">adverse selection</a>.<sup class=\"reference\" id=\"cite_ref-9\"><a href=\"#cite_note-9\">[8]</a></sup> Financial regulators have probed <a href=\"/wiki/Dark_pool\" title=\"Dark pool\">dark pools</a>.<sup class=\"reference\" id=\"cite_ref-10\"><a href=\"#cite_note-10\">[9]</a></sup><sup class=\"reference\" id=\"cite_ref-11\"><a href=\"#cite_note-11\">[10]</a></sup>\n",
       "</p>\n",
       "<h2><span class=\"mw-headline\" id=\"Market_participant\">Market participant</span><span class=\"mw-editsection\"><span class=\"mw-editsection-bracket\">[</span><a href=\"/w/index.php?title=Stock_market&amp;action=edit&amp;section=3\" title=\"Edit section: Market participant\">edit</a><span class=\"mw-editsection-bracket\">]</span></span></h2>\n",
       "<p><a href=\"/wiki/Market_participant\" title=\"Market participant\">Market participants</a> include individual retail investors, <a href=\"/wiki/Institutional_investor\" title=\"Institutional investor\">institutional investors</a> (e.g., <a href=\"/wiki/Pension_fund\" title=\"Pension fund\">pension funds</a>, <a class=\"mw-redirect\" href=\"/wiki/Insurance_companies\" title=\"Insurance companies\">insurance companies</a>, <a href=\"/wiki/Mutual_fund\" title=\"Mutual fund\">mutual funds</a>, <a href=\"/wiki/Index_fund\" title=\"Index fund\">index funds</a>, <a href=\"/wiki/Exchange-traded_fund\" title=\"Exchange-traded fund\">exchange-traded funds</a>, <a href=\"/wiki/Hedge_fund\" title=\"Hedge fund\">hedge funds</a>, investor groups, banks and various other <a href=\"/wiki/Financial_institution\" title=\"Financial institution\">financial institutions</a>), and also publicly traded corporations trading in their own shares. <a href=\"/wiki/Robo-advisor\" title=\"Robo-advisor\">Robo-advisors</a>, which automate investment for individuals are also major participants.\n",
       "</p>\n",
       "<h3><span class=\"mw-headline\" id=\"Demographics_of_market_participation\">Demographics of market participation</span><span class=\"mw-editsection\"><span class=\"mw-editsection-bracket\">[</span><a href=\"/w/index.php?title=Stock_market&amp;action=edit&amp;section=4\" title=\"Edit section: Demographics of market participation\">edit</a><span class=\"mw-editsection-bracket\">]</span></span></h3>\n",
       "<h4><span class=\"mw-headline\" id=\"Indirect_vs._Direct_Investment\">Indirect vs. Direct Investment</span><span class=\"mw-editsection\"><span class=\"mw-editsection-bracket\">[</span><a href=\"/w/index.php?title=Stock_market&amp;action=edit&amp;section=5\" title=\"Edit section: Indirect vs. Direct Investment\">edit</a><span class=\"mw-editsection-bracket\">]</span></span></h4>\n",
       "<p>Indirect investment involves owning shares indirectly, such as via a mutual fund or exchange traded fund. Direct investment involves direct ownership of shares.<sup class=\"reference\" id=\"cite_ref-12\"><a href=\"#cite_note-12\">[11]</a></sup>\n",
       "</p><p>Direct ownership of stock by individuals rose slightly from 17.8% in 1992 to 17.9% in 2007, with the median value of these holdings rising from $14,778 to $17,000.<sup class=\"reference\" id=\"cite_ref-:1_13-0\"><a href=\"#cite_note-:1-13\">[12]</a></sup><sup class=\"reference\" id=\"cite_ref-:0_14-0\"><a href=\"#cite_note-:0-14\">[13]</a></sup> Indirect participation in the form of retirement accounts rose from 39.3% in 1992 to 52.6% in 2007, with the median value of these accounts more than doubling from $22,000 to $45,000 in that time.<sup class=\"reference\" id=\"cite_ref-:1_13-1\"><a href=\"#cite_note-:1-13\">[12]</a></sup><sup class=\"reference\" id=\"cite_ref-:0_14-1\"><a href=\"#cite_note-:0-14\">[13]</a></sup>  Rydqvist, Spizman, and <a href=\"/wiki/Ilya_Strebulaev\" title=\"Ilya Strebulaev\">Strebulaev</a> attribute the differential growth in direct and indirect holdings to differences in the way each are taxed in the United States. Investments in pension funds and 401ks, the two most common vehicles of indirect participation, are taxed only when funds are withdrawn from the accounts. Conversely, the money used to directly purchase stock is subject to taxation as are any dividends or capital gains they generate for the holder. In this way the current tax code incentivizes individuals to invest indirectly.<sup class=\"reference\" id=\"cite_ref-15\"><a href=\"#cite_note-15\">[14]</a></sup>\n",
       "</p>\n",
       "<h4><span class=\"mw-headline\" id=\"Participation_by_income_and_wealth_strata\">Participation by income and wealth strata</span><span class=\"mw-editsection\"><span class=\"mw-editsection-bracket\">[</span><a href=\"/w/index.php?title=Stock_market&amp;action=edit&amp;section=6\" title=\"Edit section: Participation by income and wealth strata\">edit</a><span class=\"mw-editsection-bracket\">]</span></span></h4>\n",
       "<p>Rates of participation and the value of holdings differs significantly across strata of income. In the bottom quintile of income, 5.5% of households directly own stock and 10.7% hold stocks indirectly in the form of retirement accounts.<sup class=\"reference\" id=\"cite_ref-:0_14-2\"><a href=\"#cite_note-:0-14\">[13]</a></sup> The top decile of income has a direct participation rate of 47.5% and an indirect participation rate in the form of retirement accounts of 89.6%.<sup class=\"reference\" id=\"cite_ref-:0_14-3\"><a href=\"#cite_note-:0-14\">[13]</a></sup> The median value of directly owned stock in the bottom quintile of income is $4,000 and is $78,600 in the top decile of income as of 2007.<sup class=\"reference\" id=\"cite_ref-:2_16-0\"><a href=\"#cite_note-:2-16\">[15]</a></sup> The median value of indirectly held stock in the form of retirement accounts for the same two groups in the same year is $6,300 and $214,800 respectively.<sup class=\"reference\" id=\"cite_ref-:2_16-1\"><a href=\"#cite_note-:2-16\">[15]</a></sup> Since the Great Recession of 2008 households in the bottom half of the income distribution have lessened their participation rate both directly and indirectly from 53.2% in 2007 to 48.8% in 2013, while over the same time period households in the top decile of the income distribution slightly increased participation 91.7% to 92.1%.<sup class=\"reference\" id=\"cite_ref-:3_17-0\"><a href=\"#cite_note-:3-17\">[16]</a></sup> The mean value of direct and indirect holdings at the bottom half of the income distribution moved slightly downward from $53,800 in 2007 to $53,600 in 2013.<sup class=\"reference\" id=\"cite_ref-:3_17-1\"><a href=\"#cite_note-:3-17\">[16]</a></sup> In the top decile, mean value of all holdings fell from $982,000 to $969,300 in the same time.<sup class=\"reference\" id=\"cite_ref-:3_17-2\"><a href=\"#cite_note-:3-17\">[16]</a></sup> The mean value of all stock holdings across the entire income distribution is valued at $269,900 as of 2013.<sup class=\"reference\" id=\"cite_ref-:3_17-3\"><a href=\"#cite_note-:3-17\">[16]</a></sup>\n",
       "</p>\n",
       "<h4><span class=\"mw-headline\" id=\"Participation_by_race_and_gender\">Participation by race and gender</span><span class=\"mw-editsection\"><span class=\"mw-editsection-bracket\">[</span><a href=\"/w/index.php?title=Stock_market&amp;action=edit&amp;section=7\" title=\"Edit section: Participation by race and gender\">edit</a><span class=\"mw-editsection-bracket\">]</span></span></h4>\n",
       "<p>The racial composition of stock market ownership shows households headed by whites are nearly four and six times as likely to directly own stocks than households headed by blacks and Hispanics respectively. As of 2011 the national rate of direct participation was 19.6%, for white households the participation rate was 24.5%, for black households it was 6.4% and for Hispanic households it was 4.3%. Indirect participation in the form of 401k ownership shows a similar pattern with a national participation rate of 42.1%, a rate of 46.4% for white households, 31.7% for black households, and 25.8% for Hispanic households. Households headed by married couples participated at rates above the national averages with 25.6% participating directly and 53.4% participating indirectly through a retirement account. 14.7% of households headed by men participated in the market directly and 33.4% owned stock through a retirement account. 12.6% of female headed households directly owned stock and 28.7% owned stock indirectly.<sup class=\"reference\" id=\"cite_ref-:0_14-4\"><a href=\"#cite_note-:0-14\">[13]</a></sup>\n",
       "</p>\n",
       "<h4><span class=\"mw-headline\" id=\"Determinants_and_possible_explanations_of_stock_market_participation\">Determinants and possible explanations of stock market participation</span><span class=\"mw-editsection\"><span class=\"mw-editsection-bracket\">[</span><a href=\"/w/index.php?title=Stock_market&amp;action=edit&amp;section=8\" title=\"Edit section: Determinants and possible explanations of stock market participation\">edit</a><span class=\"mw-editsection-bracket\">]</span></span></h4>\n",
       "<p>In a 2003 paper by Vissing-Jørgensen attempts to explain disproportionate rates of participation along wealth and income groups as a function of fixed costs associated with investing. Her research concludes that a fixed cost of $200 per year is sufficient to explain why nearly half of all U.S. households do not participate in the market.<sup class=\"reference\" id=\"cite_ref-18\"><a href=\"#cite_note-18\">[17]</a></sup> Participation rates have been shown to strongly correlate with education levels, promoting the hypothesis that information and transaction costs of market participation are better absorbed by more educated households. Behavioral economists Harrison Hong, Jeffrey Kubik and Jeremy Stein suggest that sociability and participation rates of communities have a statistically significant impact on an individual's decision to participate in the market. Their research indicates that social individuals living in states with higher than average participation rates are 5% more likely to participate than individuals that do not share those characteristics.<sup class=\"reference\" id=\"cite_ref-19\"><a href=\"#cite_note-19\">[18]</a></sup> This phenomenon also explained in cost terms. Knowledge of market functioning diffuses through communities and consequently lowers transaction costs associated with investing.\n",
       "</p>\n",
       "<h2><span class=\"mw-headline\" id=\"History\">History</span><span class=\"mw-editsection\"><span class=\"mw-editsection-bracket\">[</span><a href=\"/w/index.php?title=Stock_market&amp;action=edit&amp;section=9\" title=\"Edit section: History\">edit</a><span class=\"mw-editsection-bracket\">]</span></span></h2>\n",
       "<div class=\"thumb tright\"><div class=\"thumbinner\" style=\"width:202px;\"><a class=\"image\" href=\"/wiki/File:Brugge_-_Saaihalle_en_beurs.jpg\"><img alt=\"\" class=\"thumbimage\" data-file-height=\"1389\" data-file-width=\"1886\" decoding=\"async\" height=\"147\" src=\"//upload.wikimedia.org/wikipedia/commons/thumb/8/8f/Brugge_-_Saaihalle_en_beurs.jpg/200px-Brugge_-_Saaihalle_en_beurs.jpg\" srcset=\"//upload.wikimedia.org/wikipedia/commons/thumb/8/8f/Brugge_-_Saaihalle_en_beurs.jpg/300px-Brugge_-_Saaihalle_en_beurs.jpg 1.5x, //upload.wikimedia.org/wikipedia/commons/thumb/8/8f/Brugge_-_Saaihalle_en_beurs.jpg/400px-Brugge_-_Saaihalle_en_beurs.jpg 2x\" width=\"200\"/></a> <div class=\"thumbcaption\"><div class=\"magnify\"><a class=\"internal\" href=\"/wiki/File:Brugge_-_Saaihalle_en_beurs.jpg\" title=\"Enlarge\"></a></div>The term <a href=\"/wiki/Exchange_(organized_market)\" title=\"Exchange (organized market)\">bourse</a> is derived from the 13th-century inn named \"Huis ter Beurze\" (center) in <a href=\"/wiki/Bruges\" title=\"Bruges\">Bruges</a>. From predominantly Dutch-speaking cities of the <a href=\"/wiki/Low_Countries\" title=\"Low Countries\">Low Countries</a> (like <a href=\"/wiki/Bruges\" title=\"Bruges\">Bruges</a> and <a href=\"/wiki/Antwerp\" title=\"Antwerp\">Antwerp</a>), the term 'beurs' spread to other European states where it was corrupted into 'bourse', 'borsa', 'bolsa', 'börse', etc.</div></div></div>\n",
       "<h3><span class=\"mw-headline\" id=\"Early_history\">Early history</span><span class=\"mw-editsection\"><span class=\"mw-editsection-bracket\">[</span><a href=\"/w/index.php?title=Stock_market&amp;action=edit&amp;section=10\" title=\"Edit section: Early history\">edit</a><span class=\"mw-editsection-bracket\">]</span></span></h3>\n",
       "<p>In 12th-century France, the <i>courretiers de change</i> were concerned with managing and regulating the debts of agricultural communities on behalf of the banks. Because these men also traded with debts, they could be called the first <a href=\"/wiki/Broker\" title=\"Broker\">brokers</a>. A common misbelief<sup class=\"noprint Inline-Template Template-Fact\" style=\"white-space:nowrap;\">[<i><a href=\"/wiki/Wikipedia:Citation_needed\" title=\"Wikipedia:Citation needed\"><span title=\" (March 2017)\">citation needed</span></a></i>]</sup> is that, in late 13th-century <a href=\"/wiki/Bruges\" title=\"Bruges\">Bruges</a>, commodity traders gathered inside the house of a man called <i>Van der Beurze</i>, and in 1409 they became the \"Brugse Beurse\", institutionalizing what had been, until then, an informal meeting, but actually, the family Van der Beurze had a building in <a href=\"/wiki/Antwerp\" title=\"Antwerp\">Antwerp</a> where those gatherings occurred;<sup class=\"reference\" id=\"cite_ref-20\"><a href=\"#cite_note-20\">[19]</a></sup>  the Van der Beurze had Antwerp, as most of the merchants of that period, as their primary place for trading. The idea quickly spread around <a href=\"/wiki/Flanders\" title=\"Flanders\">Flanders</a> and neighboring countries and \"Beurzen\" soon opened in <a href=\"/wiki/Ghent\" title=\"Ghent\">Ghent</a> and <a href=\"/wiki/Rotterdam\" title=\"Rotterdam\">Rotterdam</a>.\n",
       "</p><p>In the middle of the 13th century, <a href=\"/wiki/Venice\" title=\"Venice\">Venetian</a> bankers began to trade in government securities. In 1351 the Venetian government outlawed spreading rumors intended to lower the price of government funds. Bankers in <a href=\"/wiki/Pisa\" title=\"Pisa\">Pisa</a>, <a href=\"/wiki/Verona\" title=\"Verona\">Verona</a>, <a href=\"/wiki/Genoa\" title=\"Genoa\">Genoa</a> and <a href=\"/wiki/Florence\" title=\"Florence\">Florence</a> also began trading in government securities during the 14th century. This was only possible because these were independent city-states not ruled by a duke but a council of influential citizens. Italian companies were also the first to issue shares. Companies in England and the Low Countries followed in the 16th century.  Around this time, a <a class=\"mw-redirect\" href=\"/wiki/Joint_stock_company\" title=\"Joint stock company\">joint stock company</a>--one whose stock is owned jointly by the shareholders--emerged and became important for colonization of what Europeans called the \"New World\".<sup class=\"reference\" id=\"cite_ref-21\"><a href=\"#cite_note-21\">[20]</a></sup>\n",
       "</p>\n",
       "<h3><span class=\"mw-headline\" id=\"Birth_of_formal_stock_markets\">Birth of formal stock markets</span><span class=\"mw-editsection\"><span class=\"mw-editsection-bracket\">[</span><a href=\"/w/index.php?title=Stock_market&amp;action=edit&amp;section=11\" title=\"Edit section: Birth of formal stock markets\">edit</a><span class=\"mw-editsection-bracket\">]</span></span></h3>\n",
       "<div class=\"hatnote navigation-not-searchable\" role=\"note\">See also: <a class=\"mw-redirect\" href=\"/wiki/Economic_history_of_the_Dutch_Republic\" title=\"Economic history of the Dutch Republic\">Economic history of the Dutch Republic</a>, <a href=\"/wiki/Financial_history_of_the_Dutch_Republic\" title=\"Financial history of the Dutch Republic\">Financial history of the Dutch Republic</a>, and <a href=\"/wiki/Dutch_East_India_Company\" title=\"Dutch East India Company\">Dutch East India Company</a></div>\n",
       "<div class=\"thumb tright\"><div class=\"thumbinner\" style=\"width:182px;\"><a class=\"image\" href=\"/wiki/File:Vereenigde_Oostindische_Compagnie_spiegelretourschip_Amsterdam_replica.jpg\"><img alt=\"\" class=\"thumbimage\" data-file-height=\"4272\" data-file-width=\"2848\" decoding=\"async\" height=\"270\" src=\"//upload.wikimedia.org/wikipedia/commons/thumb/4/4a/Vereenigde_Oostindische_Compagnie_spiegelretourschip_Amsterdam_replica.jpg/180px-Vereenigde_Oostindische_Compagnie_spiegelretourschip_Amsterdam_replica.jpg\" srcset=\"//upload.wikimedia.org/wikipedia/commons/thumb/4/4a/Vereenigde_Oostindische_Compagnie_spiegelretourschip_Amsterdam_replica.jpg/270px-Vereenigde_Oostindische_Compagnie_spiegelretourschip_Amsterdam_replica.jpg 1.5x, //upload.wikimedia.org/wikipedia/commons/thumb/4/4a/Vereenigde_Oostindische_Compagnie_spiegelretourschip_Amsterdam_replica.jpg/360px-Vereenigde_Oostindische_Compagnie_spiegelretourschip_Amsterdam_replica.jpg 2x\" width=\"180\"/></a> <div class=\"thumbcaption\"><div class=\"magnify\"><a class=\"internal\" href=\"/wiki/File:Vereenigde_Oostindische_Compagnie_spiegelretourschip_Amsterdam_replica.jpg\" title=\"Enlarge\"></a></div>Replica of an <a href=\"/wiki/East_Indiaman\" title=\"East Indiaman\">East Indiaman</a> of the <a href=\"/wiki/Dutch_East_India_Company\" title=\"Dutch East India Company\">Dutch East India Company</a>/<a class=\"mw-redirect\" href=\"/wiki/United_East_Indies_Company\" title=\"United East Indies Company\">United East Indies Company</a> (VOC). The Dutch East India Company was the first corporation to be listed on an official stock exchange. In 1611, the world's first stock exchange (in its modern sense) was launched by the VOC in Amsterdam. In <a class=\"mw-redirect\" href=\"/wiki/Robert_Shiller\" title=\"Robert Shiller\">Robert Shiller</a>'s own words, the <a class=\"mw-redirect\" href=\"/wiki/Verenigde_Oostindische_Compagnie\" title=\"Verenigde Oostindische Compagnie\">VOC</a> was \"the first real important stock\" in the history of finance.<sup class=\"reference\" id=\"cite_ref-22\"><a href=\"#cite_note-22\">[21]</a></sup></div></div></div>\n",
       "<div class=\"thumb tright\"><div class=\"thumbinner\" style=\"width:182px;\"><a class=\"image\" href=\"/wiki/File:VOC_aandeel_9_september_1606.jpg\"><img alt=\"\" class=\"thumbimage\" data-file-height=\"1329\" data-file-width=\"1826\" decoding=\"async\" height=\"131\" src=\"//upload.wikimedia.org/wikipedia/commons/thumb/e/ed/VOC_aandeel_9_september_1606.jpg/180px-VOC_aandeel_9_september_1606.jpg\" srcset=\"//upload.wikimedia.org/wikipedia/commons/thumb/e/ed/VOC_aandeel_9_september_1606.jpg/270px-VOC_aandeel_9_september_1606.jpg 1.5x, //upload.wikimedia.org/wikipedia/commons/thumb/e/ed/VOC_aandeel_9_september_1606.jpg/360px-VOC_aandeel_9_september_1606.jpg 2x\" width=\"180\"/></a> <div class=\"thumbcaption\"><div class=\"magnify\"><a class=\"internal\" href=\"/wiki/File:VOC_aandeel_9_september_1606.jpg\" title=\"Enlarge\"></a></div>One of the oldest known <a href=\"/wiki/Stock_certificate\" title=\"Stock certificate\">stock certificates</a>, issued by the <a class=\"mw-redirect\" href=\"/wiki/Vereenigde_Oost-Indische_Compagnie\" title=\"Vereenigde Oost-Indische Compagnie\">VOC</a> chamber of <a href=\"/wiki/Enkhuizen\" title=\"Enkhuizen\">Enkhuizen</a>, dated 9 Sep 1606.<sup class=\"reference\" id=\"cite_ref-23\"><a href=\"#cite_note-23\">[22]</a></sup><sup class=\"reference\" id=\"cite_ref-24\"><a href=\"#cite_note-24\">[23]</a></sup><sup class=\"reference\" id=\"cite_ref-25\"><a href=\"#cite_note-25\">[24]</a></sup><sup class=\"reference\" id=\"cite_ref-26\"><a href=\"#cite_note-26\">[25]</a></sup> The first formal stock market in its modern sense – as one of the indispensable elements of <a href=\"/wiki/Capitalism#Modern_capitalism\" title=\"Capitalism\">modern capitalism</a><sup class=\"reference\" id=\"cite_ref-27\"><a href=\"#cite_note-27\">[26]</a></sup> – was a pioneering innovation by the <a href=\"/wiki/Dutch_East_India_Company\" title=\"Dutch East India Company\">VOC</a> managers and shareholders in the early 1600s.<sup class=\"reference\" id=\"cite_ref-28\"><a href=\"#cite_note-28\">[27]</a></sup><sup class=\"reference\" id=\"cite_ref-29\"><a href=\"#cite_note-29\">[28]</a></sup></div></div></div>\n",
       "<div class=\"thumb tright\"><div class=\"thumbinner\" style=\"width:182px;\"><a class=\"image\" href=\"/wiki/File:Engraving_depicting_the_Amsterdam_Stock_Exchange,_built_by_Hendrik_de_Keyser_c._1612.jpg\"><img alt=\"\" class=\"thumbimage\" data-file-height=\"954\" data-file-width=\"1200\" decoding=\"async\" height=\"143\" src=\"//upload.wikimedia.org/wikipedia/commons/thumb/3/34/Engraving_depicting_the_Amsterdam_Stock_Exchange%2C_built_by_Hendrik_de_Keyser_c._1612.jpg/180px-Engraving_depicting_the_Amsterdam_Stock_Exchange%2C_built_by_Hendrik_de_Keyser_c._1612.jpg\" srcset=\"//upload.wikimedia.org/wikipedia/commons/thumb/3/34/Engraving_depicting_the_Amsterdam_Stock_Exchange%2C_built_by_Hendrik_de_Keyser_c._1612.jpg/270px-Engraving_depicting_the_Amsterdam_Stock_Exchange%2C_built_by_Hendrik_de_Keyser_c._1612.jpg 1.5x, //upload.wikimedia.org/wikipedia/commons/thumb/3/34/Engraving_depicting_the_Amsterdam_Stock_Exchange%2C_built_by_Hendrik_de_Keyser_c._1612.jpg/360px-Engraving_depicting_the_Amsterdam_Stock_Exchange%2C_built_by_Hendrik_de_Keyser_c._1612.jpg 2x\" width=\"180\"/></a> <div class=\"thumbcaption\"><div class=\"magnify\"><a class=\"internal\" href=\"/wiki/File:Engraving_depicting_the_Amsterdam_Stock_Exchange,_built_by_Hendrik_de_Keyser_c._1612.jpg\" title=\"Enlarge\"></a></div>A 17th-century engraving depicting the <a class=\"mw-redirect\" href=\"/wiki/Amsterdam_Stock_Exchange\" title=\"Amsterdam Stock Exchange\">Amsterdam Stock Exchange</a> (Amsterdam's old <a href=\"/wiki/Exchange_(organized_market)\" title=\"Exchange (organized market)\">bourse</a>, a.k.a. <a class=\"extiw\" href=\"https://nl.wikipedia.org/wiki/Beurs_van_Hendrick_de_Keyser\" title=\"nl:Beurs van Hendrick de Keyser\">Beurs van Hendrick de Keyser</a> in Dutch), built by <a href=\"/wiki/Hendrick_de_Keyser\" title=\"Hendrick de Keyser\">Hendrick de Keyser</a> (c. 1612). The Amsterdam Stock Exchange was the world's first official (formal) <a href=\"/wiki/Stock_exchange\" title=\"Stock exchange\">stock exchange</a> when it began trading the VOC's freely transferable securities, including bonds and shares of stock.<sup class=\"reference\" id=\"cite_ref-30\"><a href=\"#cite_note-30\">[29]</a></sup></div></div></div>\n",
       "<div class=\"thumb tright\"><div class=\"thumbinner\" style=\"width:202px;\"><a class=\"image\" href=\"/wiki/File:Emanuel_de_Witte_-_De_binnenplaats_van_de_beurs_te_Amsterdam.jpg\"><img alt=\"\" class=\"thumbimage\" data-file-height=\"1051\" data-file-width=\"1000\" decoding=\"async\" height=\"210\" src=\"//upload.wikimedia.org/wikipedia/commons/thumb/b/bf/Emanuel_de_Witte_-_De_binnenplaats_van_de_beurs_te_Amsterdam.jpg/200px-Emanuel_de_Witte_-_De_binnenplaats_van_de_beurs_te_Amsterdam.jpg\" srcset=\"//upload.wikimedia.org/wikipedia/commons/thumb/b/bf/Emanuel_de_Witte_-_De_binnenplaats_van_de_beurs_te_Amsterdam.jpg/300px-Emanuel_de_Witte_-_De_binnenplaats_van_de_beurs_te_Amsterdam.jpg 1.5x, //upload.wikimedia.org/wikipedia/commons/thumb/b/bf/Emanuel_de_Witte_-_De_binnenplaats_van_de_beurs_te_Amsterdam.jpg/400px-Emanuel_de_Witte_-_De_binnenplaats_van_de_beurs_te_Amsterdam.jpg 2x\" width=\"200\"/></a> <div class=\"thumbcaption\"><div class=\"magnify\"><a class=\"internal\" href=\"/wiki/File:Emanuel_de_Witte_-_De_binnenplaats_van_de_beurs_te_Amsterdam.jpg\" title=\"Enlarge\"></a></div>Courtyard of the Amsterdam Stock Exchange (<a class=\"extiw\" href=\"https://nl.wikipedia.org/wiki/Beurs_van_Hendrick_de_Keyser\" title=\"nl:Beurs van Hendrick de Keyser\">Beurs van Hendrick de Keyser</a>) by <a href=\"/wiki/Emanuel_de_Witte\" title=\"Emanuel de Witte\">Emanuel de Witte</a>, 1653. The <a class=\"mw-redirect\" href=\"/wiki/Amsterdam_Stock_Exchange\" title=\"Amsterdam Stock Exchange\">Amsterdam Stock Exchange</a> is said to have been the first <a href=\"/wiki/Stock_exchange\" title=\"Stock exchange\">stock exchange</a> to introduce continuous trade in the early 17th century. The process of buying and selling the <a href=\"/wiki/Dutch_East_India_Company\" title=\"Dutch East India Company\">VOC</a>'s shares, on the Amsterdam Stock Exchange, became the basis of the world's first official (formal) stock market.<sup class=\"reference\" id=\"cite_ref-31\"><a href=\"#cite_note-31\">[30]</a></sup><sup class=\"reference\" id=\"cite_ref-32\"><a href=\"#cite_note-32\">[31]</a></sup></div></div></div>\n",
       "<style data-mw-deduplicate=\"TemplateStyles:r886047036\">.mw-parser-output .templatequote{overflow:hidden;margin:1em 0;padding:0 40px}.mw-parser-output .templatequote .templatequotecite{line-height:1.5em;text-align:left;padding-left:1.6em;margin-top:0}</style><blockquote class=\"templatequote\"><p>The stock market — the daytime adventure serial of the well-to-do — would not be the stock market if it did not have its ups and downs. (...) And it has many other distinctive characteristics. Apart from the economic advantages and disadvantages of stock exchanges — the advantage that they provide a free flow of capital to finance industrial expansion, for instance, and the disadvantage that they provide an all too convenient way for the unlucky, the imprudent, and the gullible to lose their money — their development has created a whole pattern of social behavior, complete with customs, language, and predictable responses to given events. What is truly extraordinary is the speed with which this pattern emerged full blown following the establishment, in 1611, of the world's first important stock exchange — a roofless courtyard <a class=\"extiw\" href=\"https://nl.wikipedia.org/wiki/Beurs_van_Hendrick_de_Keyser\" title=\"nl:Beurs van Hendrick de Keyser\">in Amsterdam</a> — and the degree to which it persists (with variations, it is true) on the <a href=\"/wiki/New_York_Stock_Exchange\" title=\"New York Stock Exchange\">New York Stock Exchange</a> in the nineteen-sixties. Present-day <a class=\"mw-redirect\" href=\"/wiki/Stock_trading\" title=\"Stock trading\">stock trading</a> in the United States — a bewilderingly vast enterprise, involving millions of miles of private telegraph wires, computers that can read and copy the Manhattan Telephone Directory in three minutes, and over twenty million <a class=\"mw-redirect\" href=\"/wiki/Stockholder\" title=\"Stockholder\">stockholder</a> participants — would seem to be a far cry from a handful of seventeenth-century Dutchmen haggling in the rain. But the field marks are much the same. The first stock exchange was, inadvertently, a laboratory in which new human reactions were revealed. By the same token, the New York Stock Exchange is also a sociological test tube, forever contributing to the human species' self-understanding. The behaviour of the pioneering Dutch <a href=\"/wiki/Stock_trader\" title=\"Stock trader\">stock traders</a> is ably documented in a book entitled “Confusion of Confusions,” written by a plunger on the Amsterdam market named <a href=\"/wiki/Joseph_de_la_Vega\" title=\"Joseph de la Vega\">Joseph de la Vega</a>; originally published in 1688, (...)</p><div class=\"templatequotecite\">— <cite><a href=\"/wiki/John_Brooks_(writer)\" title=\"John Brooks (writer)\">John Brooks</a>, in “Business Adventures” (1968)<sup class=\"reference\" id=\"cite_ref-33\"><a href=\"#cite_note-33\">[32]</a></sup></cite></div></blockquote>\n",
       "<link href=\"mw-data:TemplateStyles:r886047036\" rel=\"mw-deduplicated-inline-style\"/><blockquote class=\"templatequote\"><p>Business ventures with multiple shareholders became popular with <i>commenda</i> contracts in <a href=\"/wiki/Italian_city-states\" title=\"Italian city-states\">medieval Italy</a> (Greif 2006, 286), and Malmendier (2009) provides evidence that shareholder companies date back to <a href=\"/wiki/Ancient_Rome\" title=\"Ancient Rome\">ancient Rome</a>. Yet the title of the world's first stock market deservedly goes to that of seventeenth-century Amsterdam, where an active <a href=\"/wiki/Secondary_market\" title=\"Secondary market\">secondary market</a> in <a class=\"mw-redirect\" href=\"/wiki/Company_shares\" title=\"Company shares\">company shares</a> emerged. The two major companies were the Dutch East India Company and the <a href=\"/wiki/Dutch_West_India_Company\" title=\"Dutch West India Company\">Dutch West India Company</a>, founded in 1602 and 1621. Other companies existed, but they were not as large and constituted a small portion of the stock market.</p><div class=\"templatequotecite\">— <cite><a class=\"mw-redirect\" href=\"/wiki/Edward_P._Stringham\" title=\"Edward P. Stringham\">Edward P. Stringham</a> &amp; Nicholas A. Curott, in \"The Oxford Handbook of Austrian Economics\" [<i>On the Origins of Stock Markets</i>] (2015)<sup class=\"reference\" id=\"cite_ref-34\"><a href=\"#cite_note-34\">[33]</a></sup></cite></div></blockquote>\n",
       "<p>In the 17th and 18th centuries, the Dutch pioneered several financial innovations that helped lay the foundations of the modern financial system.<sup class=\"reference\" id=\"cite_ref-35\"><a href=\"#cite_note-35\">[34]</a></sup><sup class=\"reference\" id=\"cite_ref-36\"><a href=\"#cite_note-36\">[35]</a></sup><sup class=\"reference\" id=\"cite_ref-37\"><a href=\"#cite_note-37\">[36]</a></sup><sup class=\"reference\" id=\"cite_ref-38\"><a href=\"#cite_note-38\">[37]</a></sup> While the Italian city-states produced the first transferable government bonds, they did not develop the other ingredient necessary to produce a fully fledged <a href=\"/wiki/Capital_market\" title=\"Capital market\">capital market</a>: the stock market.<sup class=\"reference\" id=\"cite_ref-39\"><a href=\"#cite_note-39\">[38]</a></sup> In the early 1600s the <a href=\"/wiki/Dutch_East_India_Company\" title=\"Dutch East India Company\">Dutch East India Company</a> (VOC) became the first company in history to issue <a href=\"/wiki/Bond_(finance)\" title=\"Bond (finance)\">bonds</a> and <a href=\"/wiki/Share_(finance)\" title=\"Share (finance)\">shares</a> of <a href=\"/wiki/Stock\" title=\"Stock\">stock</a> to the general public.<sup class=\"reference\" id=\"cite_ref-40\"><a href=\"#cite_note-40\">[39]</a></sup> As <a href=\"/wiki/Edward_Stringham\" title=\"Edward Stringham\">Edward Stringham</a> (2015) notes, \"companies with transferable shares date back to classical Rome, but these were usually not enduring endeavors and no considerable <a href=\"/wiki/Secondary_market\" title=\"Secondary market\">secondary market</a> existed (Neal, 1997, p. 61).\"<sup class=\"reference\" id=\"cite_ref-41\"><a href=\"#cite_note-41\">[40]</a></sup> The <a href=\"/wiki/Dutch_East_India_Company\" title=\"Dutch East India Company\">Dutch East India Company</a> (founded in the year of 1602) was also the first <a href=\"/wiki/Joint-stock_company\" title=\"Joint-stock company\">joint-stock company</a> to get a fixed capital stock and as a result, continuous trade in company stock occurred on the Amsterdam Exchange. Soon thereafter, a lively trade in various <a href=\"/wiki/Derivative_(finance)\" title=\"Derivative (finance)\">derivatives</a>, among which options and repos, emerged on the <a href=\"/wiki/Amsterdam\" title=\"Amsterdam\">Amsterdam</a> market. Dutch traders also pioneered <a href=\"/wiki/Short_(finance)\" title=\"Short (finance)\">short selling</a> – a practice which was banned by the Dutch authorities as early as 1610.<sup class=\"reference\" id=\"cite_ref-42\"><a href=\"#cite_note-42\">[41]</a></sup> Amsterdam-based businessman <a href=\"/wiki/Joseph_de_la_Vega\" title=\"Joseph de la Vega\">Joseph de la Vega</a>'s <i>Confusion de Confusiones</i> (1688)<sup class=\"reference\" id=\"cite_ref-43\"><a href=\"#cite_note-43\">[42]</a></sup> was the earliest known book about <a class=\"mw-redirect\" href=\"/wiki/Stock_trading\" title=\"Stock trading\">stock trading</a> and first book on the inner workings of the stock market (including the stock exchange).\n",
       "</p>\n",
       "<div class=\"thumb tright\"><div class=\"thumbinner\" style=\"width:172px;\"><a class=\"image\" href=\"/wiki/File:Crowd_outside_nyse.jpg\"><img alt=\"\" class=\"thumbimage\" data-file-height=\"1024\" data-file-width=\"718\" decoding=\"async\" height=\"242\" src=\"//upload.wikimedia.org/wikipedia/commons/thumb/e/e1/Crowd_outside_nyse.jpg/170px-Crowd_outside_nyse.jpg\" srcset=\"//upload.wikimedia.org/wikipedia/commons/thumb/e/e1/Crowd_outside_nyse.jpg/255px-Crowd_outside_nyse.jpg 1.5x, //upload.wikimedia.org/wikipedia/commons/thumb/e/e1/Crowd_outside_nyse.jpg/340px-Crowd_outside_nyse.jpg 2x\" width=\"170\"/></a> <div class=\"thumbcaption\"><div class=\"magnify\"><a class=\"internal\" href=\"/wiki/File:Crowd_outside_nyse.jpg\" title=\"Enlarge\"></a></div>Crowd gathering on <a href=\"/wiki/Wall_Street\" title=\"Wall Street\">Wall Street</a> (New York City) after <a class=\"mw-redirect\" href=\"/wiki/1929_Wall_Street_Crash\" title=\"1929 Wall Street Crash\">the 1929 crash</a>, one of the worst <a href=\"/wiki/Stock_market_crash\" title=\"Stock market crash\">stock market crashes</a> in history.</div></div></div>\n",
       "<p>There are now stock markets in virtually every developed and most developing economies, with the world's largest markets being in the United States, United Kingdom, Japan, <a href=\"/wiki/India\" title=\"India\">India</a>, China, <a href=\"/wiki/Canada\" title=\"Canada\">Canada</a>, Germany (<a href=\"/wiki/Frankfurt_Stock_Exchange\" title=\"Frankfurt Stock Exchange\">Frankfurt Stock Exchange</a>), France, <a href=\"/wiki/South_Korea\" title=\"South Korea\">South Korea</a> and the <a href=\"/wiki/Netherlands\" title=\"Netherlands\">Netherlands</a>.<sup class=\"reference\" id=\"cite_ref-44\"><a href=\"#cite_note-44\">[43]</a></sup>\n",
       "</p>\n",
       "<h2><span class=\"mw-headline\" id=\"Importance\">Importance</span><span class=\"mw-editsection\"><span class=\"mw-editsection-bracket\">[</span><a href=\"/w/index.php?title=Stock_market&amp;action=edit&amp;section=12\" title=\"Edit section: Importance\">edit</a><span class=\"mw-editsection-bracket\">]</span></span></h2>\n",
       "<link href=\"mw-data:TemplateStyles:r886047036\" rel=\"mw-deduplicated-inline-style\"/><blockquote class=\"templatequote\"><p>Even in the days before <a href=\"/wiki/Perestroika\" title=\"Perestroika\">perestroika</a>, <a href=\"/wiki/Socialism\" title=\"Socialism\">socialism</a> was never a monolith. Within the <a class=\"mw-redirect\" href=\"/wiki/Communist_countries\" title=\"Communist countries\">Communist countries</a>, the spectrum of socialism ranged from the quasi-market, quasi-<a class=\"mw-redirect\" href=\"/wiki/Syndicalist\" title=\"Syndicalist\">syndicalist</a> system of Yugoslavia to the centralized <a href=\"/wiki/Totalitarianism\" title=\"Totalitarianism\">totalitarianism</a> of neighboring Albania. One time I asked Professor <a href=\"/wiki/Ludwig_von_Mises\" title=\"Ludwig von Mises\">von Mises</a>, the great expert on the economics of socialism, at what point on this spectrum of statism would he designate a country as \"socialist\" or not. At that time, I wasn't sure that any definite criterion existed to make that sort of clear-cut judgment. And so I was pleasantly surprised at the clarity and decisiveness of Mises's answer. \"A stock market,\" he answered promptly. \"A stock market is crucial to the existence of <a href=\"/wiki/Capitalism\" title=\"Capitalism\">capitalism</a> and <a href=\"/wiki/Private_property\" title=\"Private property\">private property</a>. For it means that there is a functioning market in the exchange of private titles to the <a href=\"/wiki/Means_of_production\" title=\"Means of production\">means of production</a>. There can be no genuine private ownership of capital without a stock market: there can be no true socialism if such a market is allowed to exist.\"</p><div class=\"templatequotecite\">— <cite><a href=\"/wiki/Murray_Rothbard\" title=\"Murray Rothbard\">Murray Rothbard</a>, in “Making Economic Sense” (2006)<sup class=\"reference\" id=\"cite_ref-45\"><a href=\"#cite_note-45\">[44]</a></sup></cite></div></blockquote>\n",
       "<h3><span class=\"mw-headline\" id=\"Function_and_purpose\">Function and purpose</span><span class=\"mw-editsection\"><span class=\"mw-editsection-bracket\">[</span><a href=\"/w/index.php?title=Stock_market&amp;action=edit&amp;section=13\" title=\"Edit section: Function and purpose\">edit</a><span class=\"mw-editsection-bracket\">]</span></span></h3>\n",
       "<p>The stock market is one of the most important ways for <a href=\"/wiki/Company\" title=\"Company\">companies</a> to raise money, along with debt markets which are generally more imposing but do not trade publicly.<sup class=\"reference\" id=\"cite_ref-46\"><a href=\"#cite_note-46\">[45]</a></sup> This allows businesses to be publicly traded, and raise additional financial capital for expansion by selling shares of ownership of the company in a public market. The <a class=\"mw-redirect\" href=\"/wiki/Liquidity\" title=\"Liquidity\">liquidity</a> that an exchange affords the investors enables their holders to quickly and easily sell securities. This is an attractive feature of investing in stocks, compared to other less liquid investments such as <a href=\"/wiki/Property\" title=\"Property\">property</a> and other immoveable assets.\n",
       "</p><p>History has shown that the price of <a href=\"/wiki/Stock\" title=\"Stock\">stocks</a> and other assets is an important part of the dynamics of economic activity, and can influence or be an indicator of social mood. An economy where the stock market is on the rise is considered to be an up-and-coming economy. The stock market is often considered the primary indicator of a country's economic strength and development.<sup class=\"reference\" id=\"cite_ref-47\"><a href=\"#cite_note-47\">[46]</a></sup>\n",
       "</p><p>Rising share prices, for instance, tend to be associated with increased business investment and vice versa. Share prices also affect the wealth of households and their consumption. Therefore, <a href=\"/wiki/Central_bank\" title=\"Central bank\">central banks</a> tend to keep an eye on the control and behavior of the stock market and, in general, on the smooth operation of <a href=\"/wiki/Financial_system\" title=\"Financial system\">financial system</a> functions. Financial stability is the <a class=\"extiw\" href=\"https://en.wiktionary.org/wiki/raison_d%27%C3%AAtre\" title=\"wikt:raison d'être\">raison d'être</a> of central banks.<sup class=\"reference\" id=\"cite_ref-48\"><a href=\"#cite_note-48\">[47]</a></sup>\n",
       "</p><p>Exchanges also act as the clearinghouse for each transaction, meaning that they collect and deliver the shares, and guarantee payment to the seller of a security. This eliminates the risk to an individual buyer or seller that the <a href=\"/wiki/Counterparty\" title=\"Counterparty\">counterparty</a> could default on the transaction.<sup class=\"reference\" id=\"cite_ref-49\"><a href=\"#cite_note-49\">[48]</a></sup>\n",
       "</p><p>The smooth functioning of all these activities facilitates <a href=\"/wiki/Economic_growth\" title=\"Economic growth\">economic growth</a> in that lower costs and enterprise risks promote the production of goods and services as well as possibly employment. In this way the financial system is assumed to contribute to increased prosperity, although some controversy exists as to whether the optimal financial system is bank-based or market-based.<sup class=\"reference\" id=\"cite_ref-50\"><a href=\"#cite_note-50\">[49]</a></sup>\n",
       "</p><p>Recent events such as the <a class=\"mw-redirect\" href=\"/wiki/Global_Financial_Crisis\" title=\"Global Financial Crisis\">Global Financial Crisis</a> have prompted a heightened degree of scrutiny of the impact of the structure of stock markets<sup class=\"reference\" id=\"cite_ref-51\"><a href=\"#cite_note-51\">[50]</a></sup><sup class=\"reference\" id=\"cite_ref-gov.uk_52-0\"><a href=\"#cite_note-gov.uk-52\">[51]</a></sup> (called <a href=\"/wiki/Market_microstructure\" title=\"Market microstructure\">market microstructure</a>), in particular to the stability of the financial system and the transmission of <a href=\"/wiki/Systemic_risk\" title=\"Systemic risk\">systemic risk</a>.<sup class=\"reference\" id=\"cite_ref-53\"><a href=\"#cite_note-53\">[52]</a></sup>\n",
       "</p>\n",
       "<h3><span class=\"mw-headline\" id=\"Relation_to_the_modern_financial_system\">Relation to the modern financial system</span><span class=\"mw-editsection\"><span class=\"mw-editsection-bracket\">[</span><a href=\"/w/index.php?title=Stock_market&amp;action=edit&amp;section=14\" title=\"Edit section: Relation to the modern financial system\">edit</a><span class=\"mw-editsection-bracket\">]</span></span></h3>\n",
       "<p>A transformation is the move to <a class=\"mw-redirect\" href=\"/wiki/Electronic_trading\" title=\"Electronic trading\">electronic trading</a> to replace human trading of listed <a href=\"/wiki/Security_(finance)\" title=\"Security (finance)\">securities</a>.<sup class=\"reference\" id=\"cite_ref-gov.uk_52-1\"><a href=\"#cite_note-gov.uk-52\">[51]</a></sup>\n",
       "</p>\n",
       "<h3><span class=\"mw-headline\" id=\"Behavior_of_stock_prices\">Behavior of stock prices</span><span class=\"mw-editsection\"><span class=\"mw-editsection-bracket\">[</span><a href=\"/w/index.php?title=Stock_market&amp;action=edit&amp;section=15\" title=\"Edit section: Behavior of stock prices\">edit</a><span class=\"mw-editsection-bracket\">]</span></span></h3>\n",
       "<div class=\"thumb tright\"><div class=\"thumbinner\" style=\"width:172px;\"><a class=\"image\" href=\"/wiki/File:NASDAQ.JPG\"><img alt=\"\" class=\"thumbimage\" data-file-height=\"640\" data-file-width=\"426\" decoding=\"async\" height=\"255\" src=\"//upload.wikimedia.org/wikipedia/commons/thumb/8/81/NASDAQ.JPG/170px-NASDAQ.JPG\" srcset=\"//upload.wikimedia.org/wikipedia/commons/thumb/8/81/NASDAQ.JPG/255px-NASDAQ.JPG 1.5x, //upload.wikimedia.org/wikipedia/commons/thumb/8/81/NASDAQ.JPG/340px-NASDAQ.JPG 2x\" width=\"170\"/></a> <div class=\"thumbcaption\"><div class=\"magnify\"><a class=\"internal\" href=\"/wiki/File:NASDAQ.JPG\" title=\"Enlarge\"></a></div><a class=\"mw-redirect\" href=\"/wiki/NASDAQ\" title=\"NASDAQ\">NASDAQ</a> in Times Square, New York City</div></div></div>\n",
       "<div class=\"hatnote navigation-not-searchable\" role=\"note\">See also: <a href=\"/wiki/Behavioral_economics\" title=\"Behavioral economics\">Behavioral economics</a></div>\n",
       "<p>The <a href=\"/wiki/Efficient-market_hypothesis\" title=\"Efficient-market hypothesis\">efficient-market hypothesis</a> (EMH) is a hypothesis in financial economics that states that asset prices reflect all available information at the current time.\n",
       "</p><p>The 'hard' <a href=\"/wiki/Efficient-market_hypothesis\" title=\"Efficient-market hypothesis\">efficient-market hypothesis</a> does not explain the cause of events such as the <a href=\"/wiki/Black_Monday_(1987)\" title=\"Black Monday (1987)\">crash in 1987</a>, when the <a href=\"/wiki/Dow_Jones_Industrial_Average\" title=\"Dow Jones Industrial Average\">Dow Jones Industrial Average</a> plummeted 22.6 percent—the largest-ever one-day fall in the United States.<sup class=\"reference\" id=\"cite_ref-Cutler,_D._Poterba,_J._&amp;_Summers,_L._1991_520–546_54-0\"><a href=\"#cite_note-Cutler,_D._Poterba,_J._&amp;_Summers,_L._1991_520–546-54\">[53]</a></sup>\n",
       "</p><p>This event demonstrated that share prices can fall dramatically even though no generally agreed upon definite cause has been found: a thorough search failed to detect <i>any</i> 'reasonable' development that might have accounted for the crash. (Note that such events are predicted to occur strictly by <a href=\"/wiki/Randomness\" title=\"Randomness\">randomness</a>, although very rarely.) It seems also to be true more generally that many price movements (beyond those which are predicted to occur 'randomly') are <i>not</i> occasioned by new information; a study of the fifty largest one-day share price movements in the United States in the post-war period seems to confirm this.<sup class=\"reference\" id=\"cite_ref-Cutler,_D._Poterba,_J._&amp;_Summers,_L._1991_520–546_54-1\"><a href=\"#cite_note-Cutler,_D._Poterba,_J._&amp;_Summers,_L._1991_520–546-54\">[53]</a></sup>\n",
       "</p><p>A 'soft' EMH has emerged which does not require that prices remain at or near equilibrium, but only that market participants cannot <i>systematically</i> profit from any momentary '<a href=\"/wiki/Market_anomaly\" title=\"Market anomaly\">market anomaly</a>'. Moreover, while EMH predicts that all price movement (in the absence of change in fundamental information) is random (i.e. non-trending)<sup class=\"noprint Inline-Template\" style=\"white-space:nowrap;\">[<i><a href=\"/wiki/Wikipedia:Accuracy_dispute#Disputed_statement\" title=\"Wikipedia:Accuracy dispute\"><span title=\"The material near this tag is possibly inaccurate or nonfactual. (November 2019)\">dubious</span></a> <span class=\"metadata\"> – <a href=\"/wiki/Talk:Stock_market#Dubious\" title=\"Talk:Stock market\">discuss</a></span></i>]</sup>, many studies have shown a marked tendency for the stock market to trend over time periods of weeks or longer. Various explanations for such large and apparently non-random price movements have been promulgated. For instance, some research has shown that changes in estimated risk, and the use of certain strategies, such as stop-loss limits and <a href=\"/wiki/Value_at_risk\" title=\"Value at risk\">value at risk</a> limits, <i>theoretically could</i> cause financial markets to overreact. But the best explanation seems to be that the distribution of stock market prices is non-Gaussian<sup class=\"reference\" id=\"cite_ref-55\"><a href=\"#cite_note-55\">[54]</a></sup> (in which case EMH, in any of its current forms, would not be strictly applicable).<sup class=\"reference\" id=\"cite_ref-56\"><a href=\"#cite_note-56\">[55]</a></sup><sup class=\"reference\" id=\"cite_ref-57\"><a href=\"#cite_note-57\">[56]</a></sup>\n",
       "</p><p>Other research has shown that psychological factors may result in <i>exaggerated</i> (statistically anomalous) stock price movements (contrary to EMH which assumes such behaviors 'cancel out'). Psychological research has demonstrated that people are predisposed to 'seeing' patterns, and often will perceive a pattern in what is, in fact, just <i>noise</i>, e.g. seeing familiar shapes in clouds or ink blots. In the present context this means that a succession of good news items about a company may lead investors to overreact positively, driving the price up. A period of good returns also boosts the investors' self-confidence, reducing their (psychological) risk threshold.<sup class=\"reference\" id=\"cite_ref-58\"><a href=\"#cite_note-58\">[57]</a></sup>\n",
       "</p><p>Another phenomenon—also from psychology—that works against an <a href=\"/wiki/Objectivity_(philosophy)\" title=\"Objectivity (philosophy)\">objective</a> assessment is <i><a href=\"/wiki/Groupthink\" title=\"Groupthink\">group thinking</a></i>. As social animals, it is not easy to stick to an opinion that differs markedly from that of a majority of the group. An example with which one may be familiar is the reluctance to enter a restaurant that is empty; people generally prefer to have their opinion validated by those of others in the group.\n",
       "</p><p>In one paper the authors draw an analogy with <a href=\"/wiki/Gambling\" title=\"Gambling\">gambling</a>.<sup class=\"reference\" id=\"cite_ref-59\"><a href=\"#cite_note-59\">[58]</a></sup> In normal times the market behaves like a game of <a href=\"/wiki/Roulette\" title=\"Roulette\">roulette</a>; the probabilities are known and largely independent of the investment decisions of the different players. In times of market stress, however, the game becomes more like poker (herding behavior takes over). The players now must give heavy weight to the psychology of other investors and how they are likely to react psychologically.\n",
       "</p><p>In the period running up to the 1987 crash, less than 1 percent<sup class=\"noprint Inline-Template Template-Fact\" style=\"white-space:nowrap;\">[<i><a href=\"/wiki/Wikipedia:Citation_needed\" title=\"Wikipedia:Citation needed\"><span title=\"This claim needs references to reliable sources. (November 2019)\">citation needed</span></a></i>]</sup> of the analysts' recommendations had been to sell (and even during the 2000–2002 <a class=\"mw-redirect\" href=\"/wiki/Bear_Market\" title=\"Bear Market\">bear market</a>, the average did not rise above 5%). In the run-up to 2000, the media amplified the general euphoria, with reports of rapidly rising share prices and the notion that large sums of money could be quickly earned in the so-called <a href=\"/wiki/New_economy\" title=\"New economy\">new economy</a> stock market.<sup class=\"noprint Inline-Template Template-Fact\" style=\"white-space:nowrap;\">[<i><a href=\"/wiki/Wikipedia:Citation_needed\" title=\"Wikipedia:Citation needed\"><span title=\"This claim needs references to reliable sources. (February 2017)\">citation needed</span></a></i>]</sup>\n",
       "</p><p>Stock markets play an essential role in growing industries that ultimately affect the economy through transferring available funds from units that have excess funds (savings) to those who are suffering from funds deficit (borrowings) (Padhi and Naik, 2012). In other words, capital markets facilitate funds movement between the above-mentioned units. This process leads to the enhancement of available financial resources which in turn affects the economic growth positively. Moreover, both economic and financial theories argue that stock prices are affected by macroeconomic trends.<sup class=\"noprint Inline-Template Template-Fact\" style=\"white-space:nowrap;\">[<i><a href=\"/wiki/Wikipedia:Citation_needed\" title=\"Wikipedia:Citation needed\"><span title=\"This claim needs references to reliable sources. (September 2016)\">citation needed</span></a></i>]</sup>\n",
       "</p><p>Many different academic researchers have stated that companies with low P/E ratios and smaller-sized companies have a tendency to outperform the market. Research has shown that mid-sized companies outperform large cap companies, and smaller companies have higher returns historically.<sup class=\"noprint Inline-Template Template-Fact\" style=\"white-space:nowrap;\">[<i><a href=\"/wiki/Wikipedia:Citation_needed\" title=\"Wikipedia:Citation needed\"><span title=\"This claim needs references to reliable sources. (November 2019)\">citation needed</span></a></i>]</sup>\n",
       "</p>\n",
       "<h3><span class=\"mw-headline\" id=\"Irrational_behavior\">Irrational behavior</span><span class=\"mw-editsection\"><span class=\"mw-editsection-bracket\">[</span><a href=\"/w/index.php?title=Stock_market&amp;action=edit&amp;section=16\" title=\"Edit section: Irrational behavior\">edit</a><span class=\"mw-editsection-bracket\">]</span></span></h3>\n",
       "<p>Sometimes, the market seems to react irrationally to economic or financial news, even if that news is likely to have no real effect on the fundamental value of securities itself.<sup class=\"reference\" id=\"cite_ref-60\"><a href=\"#cite_note-60\">[59]</a></sup> However, this market behaviour may be more apparent than real, since often such news was anticipated, and a counter reaction may occur if the news is better (or worse) than expected.  Therefore, the stock market may be swayed in either direction by press releases, rumors, <a href=\"/wiki/Euphoria\" title=\"Euphoria\">euphoria</a> and <a class=\"mw-redirect\" href=\"/wiki/Mass_panic\" title=\"Mass panic\">mass panic</a>.\n",
       "</p><p>Over the short-term, stocks and other securities can be battered or buoyed by any number of fast market-changing events, making the stock market behavior difficult to predict. Emotions can drive prices up and down, people are generally not as rational as they think, and the reasons for buying and selling are generally accepted.\n",
       "</p><p>Behaviorists argue that investors often behave <i>irrationally</i> when making investment decisions thereby incorrectly pricing securities, which causes market inefficiencies, which, in turn, are opportunities to make money.<sup class=\"reference\" id=\"cite_ref-61\"><a href=\"#cite_note-61\">[60]</a></sup>  However, the whole notion of EMH is that these non-rational reactions to information cancel out, leaving the prices of stocks rationally determined.\n",
       "</p><p>The Dow Jones Industrial Average biggest gain in one day was 936.42 points or 11%.<sup class=\"reference\" id=\"cite_ref-62\"><a href=\"#cite_note-62\">[61]</a></sup>\n",
       "</p>\n",
       "<h3><span class=\"mw-headline\" id=\"Crashes\">Crashes</span><span class=\"mw-editsection\"><span class=\"mw-editsection-bracket\">[</span><a href=\"/w/index.php?title=Stock_market&amp;action=edit&amp;section=17\" title=\"Edit section: Crashes\">edit</a><span class=\"mw-editsection-bracket\">]</span></span></h3>\n",
       "<div class=\"hatnote navigation-not-searchable\" role=\"note\">Main article: <a href=\"/wiki/Stock_market_crash\" title=\"Stock market crash\">Stock market crash</a></div>\n",
       "<div class=\"hatnote navigation-not-searchable\" role=\"note\">Further information: <a href=\"/wiki/List_of_stock_market_crashes_and_bear_markets\" title=\"List of stock market crashes and bear markets\">List of stock market crashes and bear markets</a></div>\n",
       "<div class=\"thumb tright\"><div class=\"thumbinner\" style=\"width:382px;\"><a class=\"image\" href=\"/wiki/File:IE_Real_SandP_Prices,_Earnings,_and_Dividends_1871-2006.png\"><img alt=\"\" class=\"thumbimage\" data-file-height=\"642\" data-file-width=\"1081\" decoding=\"async\" height=\"226\" src=\"//upload.wikimedia.org/wikipedia/commons/thumb/6/6f/IE_Real_SandP_Prices%2C_Earnings%2C_and_Dividends_1871-2006.png/380px-IE_Real_SandP_Prices%2C_Earnings%2C_and_Dividends_1871-2006.png\" srcset=\"//upload.wikimedia.org/wikipedia/commons/thumb/6/6f/IE_Real_SandP_Prices%2C_Earnings%2C_and_Dividends_1871-2006.png/570px-IE_Real_SandP_Prices%2C_Earnings%2C_and_Dividends_1871-2006.png 1.5x, //upload.wikimedia.org/wikipedia/commons/thumb/6/6f/IE_Real_SandP_Prices%2C_Earnings%2C_and_Dividends_1871-2006.png/760px-IE_Real_SandP_Prices%2C_Earnings%2C_and_Dividends_1871-2006.png 2x\" width=\"380\"/></a> <div class=\"thumbcaption\"><div class=\"magnify\"><a class=\"internal\" href=\"/wiki/File:IE_Real_SandP_Prices,_Earnings,_and_Dividends_1871-2006.png\" title=\"Enlarge\"></a></div><a class=\"mw-redirect\" href=\"/wiki/Robert_Shiller\" title=\"Robert Shiller\">Robert Shiller</a>'s plot of the S&amp;P Composite Real Price Index, Earnings, Dividends, and Interest Rates, from <i><a href=\"/wiki/Irrational_Exuberance_(book)\" title=\"Irrational Exuberance (book)\">Irrational Exuberance</a></i>, 2d ed.<sup class=\"reference\" id=\"cite_ref-IE2_63-0\"><a href=\"#cite_note-IE2-63\">[62]</a></sup> In the preface to this edition, Shiller warns, \"The stock market has not come down to historical levels: the price-earnings ratio as I define it in this book is still, at this writing [2005], in the mid-20s, far higher than the historical average... People still place too much confidence in the markets and have too strong a belief that paying attention to the gyrations in their investments will someday make them rich, and so they do not make conservative preparations for possible bad outcomes.\"</div></div></div>\n",
       "<div class=\"thumb tright\"><div class=\"thumbinner\" style=\"width:382px;\"><a class=\"image\" href=\"/wiki/File:Price-Earnings_Ratios_as_a_Predictor_of_Twenty-Year_Returns_(Shiller_Data).png\"><img alt=\"\" class=\"thumbimage\" data-file-height=\"758\" data-file-width=\"948\" decoding=\"async\" height=\"304\" src=\"//upload.wikimedia.org/wikipedia/commons/thumb/7/77/Price-Earnings_Ratios_as_a_Predictor_of_Twenty-Year_Returns_%28Shiller_Data%29.png/380px-Price-Earnings_Ratios_as_a_Predictor_of_Twenty-Year_Returns_%28Shiller_Data%29.png\" srcset=\"//upload.wikimedia.org/wikipedia/commons/thumb/7/77/Price-Earnings_Ratios_as_a_Predictor_of_Twenty-Year_Returns_%28Shiller_Data%29.png/570px-Price-Earnings_Ratios_as_a_Predictor_of_Twenty-Year_Returns_%28Shiller_Data%29.png 1.5x, //upload.wikimedia.org/wikipedia/commons/thumb/7/77/Price-Earnings_Ratios_as_a_Predictor_of_Twenty-Year_Returns_%28Shiller_Data%29.png/760px-Price-Earnings_Ratios_as_a_Predictor_of_Twenty-Year_Returns_%28Shiller_Data%29.png 2x\" width=\"380\"/></a> <div class=\"thumbcaption\"><div class=\"magnify\"><a class=\"internal\" href=\"/wiki/File:Price-Earnings_Ratios_as_a_Predictor_of_Twenty-Year_Returns_(Shiller_Data).png\" title=\"Enlarge\"></a></div>Price-Earnings ratios as a predictor of twenty-year returns based upon the plot by <a class=\"mw-redirect\" href=\"/wiki/Robert_Shiller\" title=\"Robert Shiller\">Robert Shiller</a> (Figure 10.1,<sup class=\"reference\" id=\"cite_ref-IE2_63-1\"><a href=\"#cite_note-IE2-63\">[62]</a></sup> <small> <a class=\"external text\" href=\"http://irrationalexuberance.com/shiller_downloads/ie_data.xls\" rel=\"nofollow\">source</a></small>). The horizontal axis shows the <a href=\"/wiki/File:IE_Real_SandP_Price-Earnings_Ratio,_Interest_1871-2006.png\" title=\"File:IE Real SandP Price-Earnings Ratio, Interest 1871-2006.png\">real price-earnings ratio of the S&amp;P Composite Stock Price Index</a> as computed in <i>Irrational Exuberance</i> (inflation adjusted price divided by the prior ten-year mean of inflation-adjusted earnings). The vertical axis shows the geometric average real annual return on investing in the S&amp;P Composite Stock Price Index, reinvesting dividends, and selling twenty years later. Data from different twenty-year periods is color-coded as shown in the key. See also <a href=\"/wiki/File:Price-Earnings_Ratios_as_a_Predictor_of_Ten-Year_Returns_(Shiller_Data).png\" title=\"File:Price-Earnings Ratios as a Predictor of Ten-Year Returns (Shiller Data).png\">ten-year returns</a>. Shiller states that <a href=\"/wiki/File:Price-Earnings_Ratios_as_a_Predictor_of_Ten-Year_Returns_(Shiller_Data).png\" title=\"File:Price-Earnings Ratios as a Predictor of Ten-Year Returns (Shiller Data).png\">this plot</a> \"confirms that long-term investors—investors who commit their money to an investment for ten full years—did do well when prices were low relative to earnings at the beginning of the ten years. Long-term investors would be well advised, individually, to lower their exposure to the stock market when it is high, as it has been recently, and get into the market when it is low.\"<sup class=\"reference\" id=\"cite_ref-IE2_63-2\"><a href=\"#cite_note-IE2-63\">[62]</a></sup></div></div></div>\n",
       "<p>A stock market crash is often defined as a sharp dip in <a href=\"/wiki/Share_price\" title=\"Share price\">share prices</a> of <a href=\"/wiki/Stock\" title=\"Stock\">stocks</a> listed on the stock exchanges. In parallel with various economic factors, a reason for stock market crashes is also due to panic and investing public's loss of confidence. Often, stock market crashes end speculative <a href=\"/wiki/Economic_bubble\" title=\"Economic bubble\">economic bubbles</a>.\n",
       "</p><p>There have been famous <a href=\"/wiki/Stock_market_crash\" title=\"Stock market crash\">stock market crashes</a> that have ended in the loss of billions of dollars and wealth destruction on a massive scale. An increasing number of people are involved in the stock market, especially since the <a href=\"/wiki/Social_security\" title=\"Social security\">social security</a> and <a class=\"mw-redirect\" href=\"/wiki/Retirement_plan\" title=\"Retirement plan\">retirement plans</a> are being increasingly privatized and linked to <a href=\"/wiki/Stock\" title=\"Stock\">stocks</a> and bonds and other elements of the market. There have been a number of famous stock market crashes like the <a href=\"/wiki/Wall_Street_Crash_of_1929\" title=\"Wall Street Crash of 1929\">Wall Street Crash of 1929</a>, the <a class=\"mw-redirect\" href=\"/wiki/Stock_market_crash_of_1973%E2%80%934\" title=\"Stock market crash of 1973–4\">stock market crash of 1973–4</a>, the <a href=\"/wiki/Black_Monday_(1987)\" title=\"Black Monday (1987)\">Black Monday of 1987</a>, the <a href=\"/wiki/Dot-com_bubble\" title=\"Dot-com bubble\">Dot-com bubble</a> of 2000, and the Stock Market Crash of 2008.\n",
       "</p>\n",
       "<h3><span class=\"mw-headline\" id=\"1929\">1929</span><span class=\"mw-editsection\"><span class=\"mw-editsection-bracket\">[</span><a href=\"/w/index.php?title=Stock_market&amp;action=edit&amp;section=18\" title=\"Edit section: 1929\">edit</a><span class=\"mw-editsection-bracket\">]</span></span></h3>\n",
       "<p>One of the most famous stock market crashes started October 24, 1929, on Black Thursday. The <a href=\"/wiki/Dow_Jones_Industrial_Average\" title=\"Dow Jones Industrial Average\">Dow Jones Industrial Average</a> lost 50% during this stock market crash. It was the beginning of the <a href=\"/wiki/Great_Depression\" title=\"Great Depression\">Great Depression</a>.\n",
       "</p>\n",
       "<h3><span class=\"mw-headline\" id=\"1987\">1987</span><span class=\"mw-editsection\"><span class=\"mw-editsection-bracket\">[</span><a href=\"/w/index.php?title=Stock_market&amp;action=edit&amp;section=19\" title=\"Edit section: 1987\">edit</a><span class=\"mw-editsection-bracket\">]</span></span></h3>\n",
       "<p>Another famous crash took place on October 19, 1987 – Black Monday. The crash began in Hong Kong and quickly spread around the world.\n",
       "</p><p>By the end of October, stock markets in Hong Kong had fallen 45.5%, Australia 41.8%, Spain 31%, the United Kingdom 26.4%, the United States 22.68%, and Canada 22.5%. Black Monday itself was the largest one-day percentage decline in stock market history – the Dow Jones fell by 22.6% in a day. The names \"Black Monday\" and \"Black Tuesday\" are also used for October 28–29, 1929, which followed Terrible Thursday—the starting day of the stock market crash in 1929.\n",
       "</p><p>The crash in 1987 raised some puzzles – main news and events did not predict the catastrophe and visible reasons for the collapse were not identified. This event raised questions about many important assumptions of modern economics, namely, the <a class=\"mw-redirect\" href=\"/wiki/Theory_of_rational_conduct_of_human_being\" title=\"Theory of rational conduct of human being\">theory of rational human conduct</a>, the <a class=\"mw-redirect\" href=\"/wiki/Theory_of_market_equilibrium\" title=\"Theory of market equilibrium\">theory of market equilibrium</a> and the <a href=\"/wiki/Efficient-market_hypothesis\" title=\"Efficient-market hypothesis\">efficient-market hypothesis</a>. For some time after the crash, trading in stock exchanges worldwide was halted, since the exchange computers did not perform well owing to enormous quantity of trades being received at one time. This halt in trading allowed the <a class=\"mw-redirect\" href=\"/wiki/Federal_Reserve_System\" title=\"Federal Reserve System\">Federal Reserve System</a> and central banks of other countries to take measures to control the spreading of worldwide financial crisis. In the United States the SEC introduced several new measures of control into the stock market in an attempt to prevent a re-occurrence of the events of Black Monday.\n",
       "</p>\n",
       "<h3><span class=\"mw-headline\" id=\"Circuit_breakers\">Circuit breakers</span><span class=\"mw-editsection\"><span class=\"mw-editsection-bracket\">[</span><a href=\"/w/index.php?title=Stock_market&amp;action=edit&amp;section=20\" title=\"Edit section: Circuit breakers\">edit</a><span class=\"mw-editsection-bracket\">]</span></span></h3>\n",
       "<p>Since the early 1990s, many of the largest exchanges have adopted electronic 'matching engines' to bring together buyers and sellers, replacing the open outcry system. Electronic trading now accounts for the majority of trading in many developed countries. Computer systems were upgraded in the stock exchanges to handle larger trading volumes in a more accurate and controlled manner. The SEC modified the margin requirements in an attempt to lower the volatility of common stocks, stock options and the futures market. The <a href=\"/wiki/New_York_Stock_Exchange\" title=\"New York Stock Exchange\">New York Stock Exchange</a> and the <a href=\"/wiki/Chicago_Mercantile_Exchange\" title=\"Chicago Mercantile Exchange\">Chicago Mercantile Exchange</a> introduced the concept of a circuit breaker. The circuit breaker halts trading if the Dow declines a prescribed number of points for a prescribed amount of time. In February 2012, the Investment Industry Regulatory Organization of Canada (IIROC) introduced single-stock circuit breakers.<sup class=\"reference\" id=\"cite_ref-64\"><a href=\"#cite_note-64\">[63]</a></sup>\n",
       "</p>\n",
       "<ul><li>New York Stock Exchange (NYSE) circuit breakers<sup class=\"reference\" id=\"cite_ref-65\"><a href=\"#cite_note-65\">[64]</a></sup><sup class=\"reference\" id=\"cite_ref-66\"><a href=\"#cite_note-66\">[65]</a></sup></li></ul>\n",
       "<table class=\"wikitable\">\n",
       "<tbody><tr>\n",
       "<th>% drop in <a href=\"/wiki/S%26P_500_Index\" title=\"S&amp;P 500 Index\">S&amp;P 500 Index</a>\n",
       "</th>\n",
       "<th>trading halt\n",
       "</th></tr>\n",
       "<tr>\n",
       "<td>7%\n",
       "</td>\n",
       "<td>Trading will halt for 15 minutes only if drop occurs before 3:25 p.m\n",
       "</td></tr>\n",
       "<tr>\n",
       "<td>13%\n",
       "</td>\n",
       "<td>Trading will halt for 15 minutes only if drop occurs before 3:25 p.m.\n",
       "</td></tr>\n",
       "<tr>\n",
       "<td>20%\n",
       "</td>\n",
       "<td>Trading will stop for the day\n",
       "</td></tr></tbody></table>\n",
       "<h2><span class=\"mw-headline\" id=\"Stock_market_index\">Stock market index</span><span class=\"mw-editsection\"><span class=\"mw-editsection-bracket\">[</span><a href=\"/w/index.php?title=Stock_market&amp;action=edit&amp;section=21\" title=\"Edit section: Stock market index\">edit</a><span class=\"mw-editsection-bracket\">]</span></span></h2>\n",
       "<div class=\"hatnote navigation-not-searchable\" role=\"note\">Main article: <a href=\"/wiki/Stock_market_index\" title=\"Stock market index\">Stock market index</a></div>\n",
       "<p>The movements of the prices in global, regional or local markets are captured in price indices called stock market indices, of which there are many, e.g. the <a class=\"mw-redirect\" href=\"/wiki/Standard_%26_Poor%27s\" title=\"Standard &amp; Poor's\">S&amp;P</a>, the <a href=\"/wiki/FTSE_100_Index\" title=\"FTSE 100 Index\">FTSE</a> and the <a href=\"/wiki/Euronext\" title=\"Euronext\">Euronext</a> indices. Such indices are usually <a href=\"/wiki/Market_capitalization\" title=\"Market capitalization\">market capitalization</a> weighted, with the weights reflecting the contribution of the stock to the index. The constituents of the index are reviewed frequently to include/exclude stocks in order to reflect the changing business environment.\n",
       "</p>\n",
       "<h2><span class=\"mw-headline\" id=\"Derivative_instruments\">Derivative instruments</span><span class=\"mw-editsection\"><span class=\"mw-editsection-bracket\">[</span><a href=\"/w/index.php?title=Stock_market&amp;action=edit&amp;section=22\" title=\"Edit section: Derivative instruments\">edit</a><span class=\"mw-editsection-bracket\">]</span></span></h2>\n",
       "<div class=\"hatnote navigation-not-searchable\" role=\"note\">Main article: <a href=\"/wiki/Derivative_(finance)\" title=\"Derivative (finance)\">Derivative (finance)</a></div>\n",
       "<p>Financial innovation has brought many new financial instruments whose pay-offs or values depend on the prices of stocks. Some examples are <a href=\"/wiki/Exchange-traded_fund\" title=\"Exchange-traded fund\">exchange-traded funds</a> (ETFs), <a class=\"mw-redirect\" href=\"/wiki/Stock_index\" title=\"Stock index\">stock index</a> and <a class=\"mw-redirect\" href=\"/wiki/Stock_option\" title=\"Stock option\">stock options</a>, <a href=\"/wiki/Equity_swap\" title=\"Equity swap\">equity swaps</a>, <a href=\"/wiki/Single-stock_futures\" title=\"Single-stock futures\">single-stock futures</a>, and stock index <a href=\"/wiki/Futures_contract\" title=\"Futures contract\">futures</a>. These last two may be traded on <a href=\"/wiki/Futures_exchange\" title=\"Futures exchange\">futures exchanges</a> (which are distinct from stock exchanges—their history traces back to <a href=\"/wiki/Commodity\" title=\"Commodity\">commodity</a> futures exchanges), or traded <a href=\"/wiki/Over-the-counter_(finance)\" title=\"Over-the-counter (finance)\">over-the-counter</a>. As all of these products are only <i><a href=\"/wiki/Derivative_(finance)\" title=\"Derivative (finance)\">derived</a></i> from stocks, they are sometimes considered to be traded in a (hypothetical) <a href=\"/wiki/Derivatives_market\" title=\"Derivatives market\">derivatives market</a>, rather than the (hypothetical) stock market.\n",
       "</p>\n",
       "<h2><span class=\"mw-headline\" id=\"Leveraged_strategies\">Leveraged strategies</span><span class=\"mw-editsection\"><span class=\"mw-editsection-bracket\">[</span><a href=\"/w/index.php?title=Stock_market&amp;action=edit&amp;section=23\" title=\"Edit section: Leveraged strategies\">edit</a><span class=\"mw-editsection-bracket\">]</span></span></h2>\n",
       "<p>Stock that a trader does not actually own may be traded using <a class=\"mw-redirect\" href=\"/wiki/Short_selling\" title=\"Short selling\">short selling</a>; <a class=\"mw-redirect\" href=\"/wiki/Margin_buying\" title=\"Margin buying\">margin buying</a> may be used to purchase stock with borrowed funds; or, <i><a href=\"/wiki/Derivative_(finance)\" title=\"Derivative (finance)\">derivatives</a></i> may be used to control large blocks of stocks for a much smaller amount of money than would be required by outright purchase or sales.\n",
       "</p>\n",
       "<h3><span class=\"mw-headline\" id=\"Short_selling\">Short selling</span><span class=\"mw-editsection\"><span class=\"mw-editsection-bracket\">[</span><a href=\"/w/index.php?title=Stock_market&amp;action=edit&amp;section=24\" title=\"Edit section: Short selling\">edit</a><span class=\"mw-editsection-bracket\">]</span></span></h3>\n",
       "<div class=\"hatnote navigation-not-searchable\" role=\"note\">Main article: <a class=\"mw-redirect\" href=\"/wiki/Short_selling\" title=\"Short selling\">Short selling</a></div>\n",
       "<p>In short selling, the trader borrows stock (usually from his brokerage which holds its clients shares or its own shares on account to lend to short sellers) then sells it on the market, betting that the price will fall. The trader eventually buys back the stock, making money if the price fell in the meantime and losing money if it rose. Exiting a short position by buying back the stock is called \"covering\". This strategy may also be used by unscrupulous traders in illiquid or thinly traded markets to artificially lower the price of a stock. Hence most markets either prevent short selling or place restrictions on when and how a short sale can occur. The practice of <a class=\"mw-redirect\" href=\"/wiki/Naked_shorting\" title=\"Naked shorting\">naked shorting</a> is illegal in most (but not all) stock markets.\n",
       "</p>\n",
       "<h3><span class=\"mw-headline\" id=\"Margin_buying\">Margin buying</span><span class=\"mw-editsection\"><span class=\"mw-editsection-bracket\">[</span><a href=\"/w/index.php?title=Stock_market&amp;action=edit&amp;section=25\" title=\"Edit section: Margin buying\">edit</a><span class=\"mw-editsection-bracket\">]</span></span></h3>\n",
       "<div class=\"hatnote navigation-not-searchable\" role=\"note\">Main article: <a href=\"/wiki/Margin_(finance)#Margin_buying\" title=\"Margin (finance)\">margin buying</a></div>\n",
       "<p>In margin buying, the trader borrows money (at interest) to buy a stock and hopes for it to rise. Most industrialized countries have regulations that require that if the borrowing is based on collateral from other stocks the trader owns outright, it can be a maximum of a certain percentage of those other stocks' value. In the United States, the margin requirements have been 50% for many years (that is, if you want to make a $1000 investment, you need to put up $500, and there is often a maintenance margin below the $500).\n",
       "</p><p>A margin call is made if the total value of the investor's account cannot support the loss of the trade. (Upon a decline in the value of the margined securities additional funds may be required to maintain the account's equity, and with or without notice the margined security or any others within the account may be sold by the brokerage to protect its loan position. The investor is responsible for any shortfall following such forced sales.)\n",
       "</p><p>Regulation of margin requirements (by the <a href=\"/wiki/Federal_Reserve\" title=\"Federal Reserve\">Federal Reserve</a>) was implemented after the <a class=\"mw-redirect\" href=\"/wiki/Crash_of_1929\" title=\"Crash of 1929\">Crash of 1929</a>. Before that, speculators typically only needed to put up as little as 10 percent (or even less) of the total <a href=\"/wiki/Investment\" title=\"Investment\">investment</a> represented by the stocks purchased. Other rules may include the prohibition of <i>free-riding:</i> putting in an order to buy stocks without paying initially (there is normally a three-day grace period for delivery of the stock), but then selling them (before the three-days are up) and using part of the proceeds to make the original payment (assuming that the value of the stocks has not declined in the interim).\n",
       "</p>\n",
       "<h2><span class=\"mw-headline\" id=\"New_issuance\">New issuance</span><span class=\"mw-editsection\"><span class=\"mw-editsection-bracket\">[</span><a href=\"/w/index.php?title=Stock_market&amp;action=edit&amp;section=26\" title=\"Edit section: New issuance\">edit</a><span class=\"mw-editsection-bracket\">]</span></span></h2>\n",
       "<p>For statistics on equity issuances, see <a href=\"/wiki/Refinitiv_league_tables\" title=\"Refinitiv league tables\">Refinitiv league tables</a>.\n",
       "</p>\n",
       "<h2><span class=\"mw-headline\" id=\"Investment_strategies\">Investment strategies</span><span class=\"mw-editsection\"><span class=\"mw-editsection-bracket\">[</span><a href=\"/w/index.php?title=Stock_market&amp;action=edit&amp;section=27\" title=\"Edit section: Investment strategies\">edit</a><span class=\"mw-editsection-bracket\">]</span></span></h2>\n",
       "<div class=\"hatnote navigation-not-searchable\" role=\"note\">Main articles: <a href=\"/wiki/Investment_strategy\" title=\"Investment strategy\">Investment strategy</a>, <a href=\"/wiki/Stock_market_prediction\" title=\"Stock market prediction\">Stock market prediction</a>, and <a href=\"/wiki/Investment_management\" title=\"Investment management\">Investment management</a></div>\n",
       "<p>Many strategies can be classified as either <a href=\"/wiki/Fundamental_analysis\" title=\"Fundamental analysis\">fundamental analysis</a> or <a href=\"/wiki/Technical_analysis\" title=\"Technical analysis\">technical analysis</a>. <a href=\"/wiki/Fundamental_analysis\" title=\"Fundamental analysis\">Fundamental analysis</a> refers to analyzing companies by their <a href=\"/wiki/Financial_statement\" title=\"Financial statement\">financial statements</a> found in <a href=\"/wiki/SEC_filing\" title=\"SEC filing\">SEC filings</a>, business trends, and general economic conditions. <a href=\"/wiki/Technical_analysis\" title=\"Technical analysis\">Technical analysis</a> studies price actions in markets through the use of charts and quantitative techniques to attempt to forecast price trends based on historical performance, regardless of the company's financial prospects. One example of a technical strategy is the <a href=\"/wiki/Trend_following\" title=\"Trend following\">Trend following</a> method, used by <a href=\"/wiki/John_W._Henry\" title=\"John W. Henry\">John W. Henry</a> and <a href=\"/wiki/Ed_Seykota\" title=\"Ed Seykota\">Ed Seykota</a>, which uses price patterns and is also rooted in <a href=\"/wiki/Risk_management\" title=\"Risk management\">risk management</a> and <a href=\"/wiki/Diversification_(finance)\" title=\"Diversification (finance)\">diversification</a>.\n",
       "</p><p>Additionally, many choose to invest via passive <a href=\"/wiki/Index_fund\" title=\"Index fund\">index funds</a>. In this method, one holds a portfolio of the entire stock market or some segment of the stock market (such as the <a href=\"/wiki/S%26P_500_Index\" title=\"S&amp;P 500 Index\">S&amp;P 500 Index</a> or <a href=\"/wiki/Wilshire_5000\" title=\"Wilshire 5000\">Wilshire 5000</a>). The principal aim of this strategy is to maximize diversification, minimize taxes from realizing gains, and ride the general trend of the stock market to rise.\n",
       "</p><p>Responsible investment emphasizes and requires a long-term horizon on the basis of <a href=\"/wiki/Fundamental_analysis\" title=\"Fundamental analysis\">fundamental analysis</a> only, avoiding hazards in the expected return of the investment. <a href=\"/wiki/Socially_responsible_investing\" title=\"Socially responsible investing\">Socially responsible investing</a> is another investment preference.\n",
       "</p>\n",
       "<h2><span class=\"mw-headline\" id=\"Taxation\">Taxation</span><span class=\"mw-editsection\"><span class=\"mw-editsection-bracket\">[</span><a href=\"/w/index.php?title=Stock_market&amp;action=edit&amp;section=28\" title=\"Edit section: Taxation\">edit</a><span class=\"mw-editsection-bracket\">]</span></span></h2>\n",
       "<p>Taxation is a consideration of all investment strategies; profit from owning stocks, including dividends received, is subject to different tax rates depending on the type of security and the holding period. Most profit from stock investing is taxed via a <a href=\"/wiki/Capital_gains_tax\" title=\"Capital gains tax\">capital gains tax</a>. In many countries, the corporations pay taxes to the government and the shareholders once again pay taxes when they profit from owning the stock, known as \"double taxation\".\n",
       "</p>\n",
       "<h2><span class=\"mw-headline\" id=\"See_also\">See also</span><span class=\"mw-editsection\"><span class=\"mw-editsection-bracket\">[</span><a href=\"/w/index.php?title=Stock_market&amp;action=edit&amp;section=29\" title=\"Edit section: See also\">edit</a><span class=\"mw-editsection-bracket\">]</span></span></h2>\n",
       "<div class=\"div-col columns column-width\" style=\"-moz-column-width: 22em; -webkit-column-width: 22em; column-width: 22em;\">\n",
       "<ul><li><a href=\"/wiki/Equity_crowdfunding\" title=\"Equity crowdfunding\">Equity crowdfunding</a></li>\n",
       "<li><a href=\"/wiki/List_of_stock_exchange_trading_hours\" title=\"List of stock exchange trading hours\">List of stock exchange trading hours</a></li>\n",
       "<li><a href=\"/wiki/List_of_stock_exchanges\" title=\"List of stock exchanges\">List of stock exchanges</a></li>\n",
       "<li><a href=\"/wiki/List_of_stock_market_indices\" title=\"List of stock market indices\">List of stock market indices</a></li>\n",
       "<li><a class=\"mw-redirect\" href=\"/wiki/Modeling_and_analysis_of_financial_markets\" title=\"Modeling and analysis of financial markets\">Modeling and analysis of financial markets</a></li>\n",
       "<li><a href=\"/wiki/Securities_market_participants_(United_States)\" title=\"Securities market participants (United States)\">Securities market participants (United States)</a></li>\n",
       "<li><a href=\"/wiki/Securities_regulation_in_the_United_States\" title=\"Securities regulation in the United States\">Securities regulation in the United States</a></li>\n",
       "<li><a href=\"/wiki/Selling_climax\" title=\"Selling climax\">Selling climax</a></li>\n",
       "<li><a href=\"/wiki/Stock_market_bubble\" title=\"Stock market bubble\">Stock market bubble</a></li>\n",
       "<li><a href=\"/wiki/Stock_market_cycles\" title=\"Stock market cycles\">Stock market cycles</a></li>\n",
       "<li><a href=\"/wiki/Stock_market_data_systems\" title=\"Stock market data systems\">Stock market data systems</a></li></ul>\n",
       "</div>\n",
       "<h2><span class=\"mw-headline\" id=\"Notes\">Notes</span><span class=\"mw-editsection\"><span class=\"mw-editsection-bracket\">[</span><a href=\"/w/index.php?title=Stock_market&amp;action=edit&amp;section=30\" title=\"Edit section: Notes\">edit</a><span class=\"mw-editsection-bracket\">]</span></span></h2>\n",
       "<div class=\"reflist\" style=\"list-style-type: decimal;\">\n",
       "<div class=\"mw-references-wrap\"><ol class=\"references\">\n",
       "<li id=\"cite_note-7\"><span class=\"mw-cite-backlink\"><b><a href=\"#cite_ref-7\">^</a></b></span> <span class=\"reference-text\">The concept of the <a href=\"/wiki/Exchange_(organized_market)\" title=\"Exchange (organized market)\">bourse</a> (or the <a href=\"/wiki/Exchange_(organized_market)\" title=\"Exchange (organized market)\">exchange</a>) was 'invented' in the medieval <a href=\"/wiki/Low_Countries\" title=\"Low Countries\">Low Countries</a> (most notably in predominantly Dutch-speaking cities like <a href=\"/wiki/Bruges\" title=\"Bruges\">Bruges</a> and <a href=\"/wiki/Antwerp\" title=\"Antwerp\">Antwerp</a>) before the birth of formal stock exchanges in the 17th century. Until the early 1600s, a bourse was not exactly a stock exchange in its modern sense. With the founding of the <a href=\"/wiki/Dutch_East_India_Company\" title=\"Dutch East India Company\">Dutch East India Company</a> (VOC) in 1602 and the rise of Dutch <a href=\"/wiki/Capital_market\" title=\"Capital market\">capital markets</a> in the early 17th century, the 'old' bourse (a place to trade <a href=\"/wiki/Commodity_market\" title=\"Commodity market\">commodities</a>, <a href=\"/wiki/Government_bond\" title=\"Government bond\">government</a> and <a href=\"/wiki/Municipal_bond\" title=\"Municipal bond\">municipal bonds</a>) found a new purpose – a formal exchange that specialize in creating and sustaining <a href=\"/wiki/Secondary_market\" title=\"Secondary market\">secondary markets</a> in the <a href=\"/wiki/Security_(finance)\" title=\"Security (finance)\">securities</a> (such as <a href=\"/wiki/Corporate_bond\" title=\"Corporate bond\">bonds</a> and <a href=\"/wiki/Share_(finance)\" title=\"Share (finance)\">shares</a> of <a href=\"/wiki/Stock\" title=\"Stock\">stock</a>) issued by <a href=\"/wiki/Corporation\" title=\"Corporation\">corporations</a> – or a stock exchange as we know it today.<sup class=\"reference\" id=\"cite_ref-5\"><a href=\"#cite_note-5\">[5]</a></sup><sup class=\"reference\" id=\"cite_ref-6\"><a href=\"#cite_note-6\">[6]</a></sup></span>\n",
       "</li>\n",
       "</ol></div></div>\n",
       "<h2><span class=\"mw-headline\" id=\"References\">References</span><span class=\"mw-editsection\"><span class=\"mw-editsection-bracket\">[</span><a href=\"/w/index.php?title=Stock_market&amp;action=edit&amp;section=31\" title=\"Edit section: References\">edit</a><span class=\"mw-editsection-bracket\">]</span></span></h2>\n",
       "<div class=\"reflist columns references-column-width\" style=\"-moz-column-width: 30em; -webkit-column-width: 30em; column-width: 30em; list-style-type: decimal;\">\n",
       "<ol class=\"references\">\n",
       "<li id=\"cite_note-1\"><span class=\"mw-cite-backlink\"><b><a href=\"#cite_ref-1\">^</a></b></span> <span class=\"reference-text\"><cite class=\"citation web\"><a class=\"external text\" href=\"https://data.worldbank.org/indicator/CM.MKT.LCAP.CD\" rel=\"nofollow\">\"Market capitalization of listed domestic companies (current US$)\"</a>. <a class=\"mw-redirect\" href=\"/wiki/The_World_Bank\" title=\"The World Bank\">The World Bank</a>.</cite><span class=\"Z3988\" title=\"ctx_ver=Z39.88-2004&amp;rft_val_fmt=info%3Aofi%2Ffmt%3Akev%3Amtx%3Abook&amp;rft.genre=unknown&amp;rft.btitle=Market+capitalization+of+listed+domestic+companies+%28current+US%24%29&amp;rft.pub=The+World+Bank&amp;rft_id=https%3A%2F%2Fdata.worldbank.org%2Findicator%2FCM.MKT.LCAP.CD&amp;rfr_id=info%3Asid%2Fen.wikipedia.org%3AStock+market\"></span><style data-mw-deduplicate=\"TemplateStyles:r951705291\">.mw-parser-output cite.citation{font-style:inherit}.mw-parser-output .citation q{quotes:\"\\\"\"\"\\\"\"\"'\"\"'\"}.mw-parser-output .id-lock-free a,.mw-parser-output .citation .cs1-lock-free a{background-image:url(\"//upload.wikimedia.org/wikipedia/commons/thumb/6/65/Lock-green.svg/9px-Lock-green.svg.png\");background-image:linear-gradient(transparent,transparent),url(\"//upload.wikimedia.org/wikipedia/commons/6/65/Lock-green.svg\");background-repeat:no-repeat;background-size:9px;background-position:right .1em center}.mw-parser-output .id-lock-limited a,.mw-parser-output .id-lock-registration a,.mw-parser-output .citation .cs1-lock-limited a,.mw-parser-output .citation .cs1-lock-registration a{background-image:url(\"//upload.wikimedia.org/wikipedia/commons/thumb/d/d6/Lock-gray-alt-2.svg/9px-Lock-gray-alt-2.svg.png\");background-image:linear-gradient(transparent,transparent),url(\"//upload.wikimedia.org/wikipedia/commons/d/d6/Lock-gray-alt-2.svg\");background-repeat:no-repeat;background-size:9px;background-position:right .1em center}.mw-parser-output .id-lock-subscription a,.mw-parser-output .citation .cs1-lock-subscription a{background-image:url(\"//upload.wikimedia.org/wikipedia/commons/thumb/a/aa/Lock-red-alt-2.svg/9px-Lock-red-alt-2.svg.png\");background-image:linear-gradient(transparent,transparent),url(\"//upload.wikimedia.org/wikipedia/commons/a/aa/Lock-red-alt-2.svg\");background-repeat:no-repeat;background-size:9px;background-position:right .1em center}.mw-parser-output .cs1-subscription,.mw-parser-output .cs1-registration{color:#555}.mw-parser-output .cs1-subscription span,.mw-parser-output .cs1-registration span{border-bottom:1px dotted;cursor:help}.mw-parser-output .cs1-ws-icon a{background-image:url(\"//upload.wikimedia.org/wikipedia/commons/thumb/4/4c/Wikisource-logo.svg/12px-Wikisource-logo.svg.png\");background-image:linear-gradient(transparent,transparent),url(\"//upload.wikimedia.org/wikipedia/commons/4/4c/Wikisource-logo.svg\");background-repeat:no-repeat;background-size:12px;background-position:right .1em center}.mw-parser-output code.cs1-code{color:inherit;background:inherit;border:inherit;padding:inherit}.mw-parser-output .cs1-hidden-error{display:none;font-size:100%}.mw-parser-output .cs1-visible-error{font-size:100%}.mw-parser-output .cs1-maint{display:none;color:#33aa33;margin-left:0.3em}.mw-parser-output .cs1-subscription,.mw-parser-output .cs1-registration,.mw-parser-output .cs1-format{font-size:95%}.mw-parser-output .cs1-kern-left,.mw-parser-output .cs1-kern-wl-left{padding-left:0.2em}.mw-parser-output .cs1-kern-right,.mw-parser-output .cs1-kern-wl-right{padding-right:0.2em}.mw-parser-output .citation .mw-selflink{font-weight:inherit}</style></span>\n",
       "</li>\n",
       "<li id=\"cite_note-2\"><span class=\"mw-cite-backlink\"><b><a href=\"#cite_ref-2\">^</a></b></span> <span class=\"reference-text\"><cite class=\"citation web\"><a class=\"external text\" href=\"https://data.worldbank.org/indicator/cm.mkt.lcap.cd\" rel=\"nofollow\">\"Market capitalization of listed domestic companies (current US$)\"</a>. <a class=\"mw-redirect\" href=\"/wiki/The_World_Bank\" title=\"The World Bank\">The World Bank</a>.</cite><span class=\"Z3988\" title=\"ctx_ver=Z39.88-2004&amp;rft_val_fmt=info%3Aofi%2Ffmt%3Akev%3Amtx%3Abook&amp;rft.genre=unknown&amp;rft.btitle=Market+capitalization+of+listed+domestic+companies+%28current+US%24%29&amp;rft.pub=The+World+Bank&amp;rft_id=https%3A%2F%2Fdata.worldbank.org%2Findicator%2Fcm.mkt.lcap.cd&amp;rfr_id=info%3Asid%2Fen.wikipedia.org%3AStock+market\"></span><link href=\"mw-data:TemplateStyles:r951705291\" rel=\"mw-deduplicated-inline-style\"/></span>\n",
       "</li>\n",
       "<li id=\"cite_note-3\"><span class=\"mw-cite-backlink\"><b><a href=\"#cite_ref-3\">^</a></b></span> <span class=\"reference-text\"><cite class=\"citation web\"><a class=\"external text\" href=\"http://money.visualcapitalist.com/all-of-the-worlds-stock-exchanges-by-size/\" rel=\"nofollow\">\"All of the World's Stock Exchanges by Size\"</a>. February 16, 2016<span class=\"reference-accessdate\">. Retrieved <span class=\"nowrap\">September 29,</span> 2016</span>.</cite><span class=\"Z3988\" title=\"ctx_ver=Z39.88-2004&amp;rft_val_fmt=info%3Aofi%2Ffmt%3Akev%3Amtx%3Abook&amp;rft.genre=unknown&amp;rft.btitle=All+of+the+World%27s+Stock+Exchanges+by+Size&amp;rft.date=2016-02-16&amp;rft_id=http%3A%2F%2Fmoney.visualcapitalist.com%2Fall-of-the-worlds-stock-exchanges-by-size%2F&amp;rfr_id=info%3Asid%2Fen.wikipedia.org%3AStock+market\"></span><link href=\"mw-data:TemplateStyles:r951705291\" rel=\"mw-deduplicated-inline-style\"/></span>\n",
       "</li>\n",
       "<li id=\"cite_note-4\"><span class=\"mw-cite-backlink\"><b><a href=\"#cite_ref-4\">^</a></b></span> <span class=\"reference-text\"><cite class=\"citation web\"><a class=\"external text\" href=\"https://www.statista.com/statistics/710680/global-stock-markets-by-country/\" rel=\"nofollow\">\"countries with largest stock markets\"</a>. <i>statista</i>.</cite><span class=\"Z3988\" title=\"ctx_ver=Z39.88-2004&amp;rft_val_fmt=info%3Aofi%2Ffmt%3Akev%3Amtx%3Ajournal&amp;rft.genre=unknown&amp;rft.jtitle=statista&amp;rft.atitle=countries+with+largest+stock+markets&amp;rft_id=https%3A%2F%2Fwww.statista.com%2Fstatistics%2F710680%2Fglobal-stock-markets-by-country%2F&amp;rfr_id=info%3Asid%2Fen.wikipedia.org%3AStock+market\"></span><link href=\"mw-data:TemplateStyles:r951705291\" rel=\"mw-deduplicated-inline-style\"/></span>\n",
       "</li>\n",
       "<li id=\"cite_note-5\"><span class=\"mw-cite-backlink\"><b><a href=\"#cite_ref-5\">^</a></b></span> <span class=\"reference-text\">Neal, Larry (2005). \"Venture Shares of the Dutch East India Company\", in Goetzmann &amp; Rouwenhorst (eds.), Oxford University Press, 2005, pp. 165–175</span>\n",
       "</li>\n",
       "<li id=\"cite_note-6\"><span class=\"mw-cite-backlink\"><b><a href=\"#cite_ref-6\">^</a></b></span> <span class=\"reference-text\"><cite class=\"citation web\" id=\"CITEREFMurphy2014\">Murphy, Richard McGill (July 1, 2014). <a class=\"external text\" href=\"https://www.cnbc.com/id/101773977\" rel=\"nofollow\">\"Is Asia the next financial center of the world?\"</a>. <a class=\"mw-redirect\" href=\"/wiki/CNBC.com\" title=\"CNBC.com\">CNBC.com</a><span class=\"reference-accessdate\">. Retrieved <span class=\"nowrap\">March 11,</span> 2017</span>.</cite><span class=\"Z3988\" title=\"ctx_ver=Z39.88-2004&amp;rft_val_fmt=info%3Aofi%2Ffmt%3Akev%3Amtx%3Abook&amp;rft.genre=unknown&amp;rft.btitle=Is+Asia+the+next+financial+center+of+the+world%3F&amp;rft.pub=CNBC.com&amp;rft.date=2014-07-01&amp;rft.aulast=Murphy&amp;rft.aufirst=Richard+McGill&amp;rft_id=https%3A%2F%2Fwww.cnbc.com%2Fid%2F101773977&amp;rfr_id=info%3Asid%2Fen.wikipedia.org%3AStock+market\"></span><link href=\"mw-data:TemplateStyles:r951705291\" rel=\"mw-deduplicated-inline-style\"/></span>\n",
       "</li>\n",
       "<li id=\"cite_note-8\"><span class=\"mw-cite-backlink\"><b><a href=\"#cite_ref-8\">^</a></b></span> <span class=\"reference-text\"><cite class=\"citation web\"><a class=\"external text\" href=\"http://www.ibm.com/investor/faq/item/stock-exchanges.wss\" rel=\"nofollow\">\"IBM Investor relations - FAQ | On what stock exchanges is IBM listed ?\"</a>. <a href=\"/wiki/IBM\" title=\"IBM\">IBM</a>.</cite><span class=\"Z3988\" title=\"ctx_ver=Z39.88-2004&amp;rft_val_fmt=info%3Aofi%2Ffmt%3Akev%3Amtx%3Abook&amp;rft.genre=unknown&amp;rft.btitle=IBM+Investor+relations+-+FAQ+%26%23124%3B+On+what+stock+exchanges+is+IBM+listed+%3F&amp;rft.pub=IBM&amp;rft_id=http%3A%2F%2Fwww.ibm.com%2Finvestor%2Ffaq%2Fitem%2Fstock-exchanges.wss&amp;rfr_id=info%3Asid%2Fen.wikipedia.org%3AStock+market\"></span><link href=\"mw-data:TemplateStyles:r951705291\" rel=\"mw-deduplicated-inline-style\"/></span>\n",
       "</li>\n",
       "<li id=\"cite_note-9\"><span class=\"mw-cite-backlink\"><b><a href=\"#cite_ref-9\">^</a></b></span> <span class=\"reference-text\"><cite class=\"citation news\"><a class=\"external text\" href=\"https://economictimes.indiatimes.com/ubs-goldman-wean-away-trade-from-nyse-nasdaq/articleshow/726712.cms\" rel=\"nofollow\">\"UBS, Goldman wean away trade from NYSE, Nasdaq\"</a>. <i><a href=\"/wiki/The_Economic_Times\" title=\"The Economic Times\">The Economic Times</a></i>. December 6, 2006.</cite><span class=\"Z3988\" title=\"ctx_ver=Z39.88-2004&amp;rft_val_fmt=info%3Aofi%2Ffmt%3Akev%3Amtx%3Ajournal&amp;rft.genre=article&amp;rft.jtitle=The+Economic+Times&amp;rft.atitle=UBS%2C+Goldman+wean+away+trade+from+NYSE%2C+Nasdaq&amp;rft.date=2006-12-06&amp;rft_id=https%3A%2F%2Feconomictimes.indiatimes.com%2Fubs-goldman-wean-away-trade-from-nyse-nasdaq%2Farticleshow%2F726712.cms&amp;rfr_id=info%3Asid%2Fen.wikipedia.org%3AStock+market\"></span><link href=\"mw-data:TemplateStyles:r951705291\" rel=\"mw-deduplicated-inline-style\"/></span>\n",
       "</li>\n",
       "<li id=\"cite_note-10\"><span class=\"mw-cite-backlink\"><b><a href=\"#cite_ref-10\">^</a></b></span> <span class=\"reference-text\"><cite class=\"citation news\" id=\"CITEREFMamudi2014\">Mamudi, Sam (June 13, 2014). <a class=\"external text\" href=\"https://www.bloomberg.com/news/articles/2014-06-12/off-exchange-stock-trading-reaches-two-year-high-in-u-s-\" rel=\"nofollow\">\"Dark Pools Take Larger Share of Trades Amid SEC Scrutiny\"</a>. <a href=\"/wiki/Bloomberg_News\" title=\"Bloomberg News\">Bloomberg News</a>.</cite><span class=\"Z3988\" title=\"ctx_ver=Z39.88-2004&amp;rft_val_fmt=info%3Aofi%2Ffmt%3Akev%3Amtx%3Ajournal&amp;rft.genre=article&amp;rft.atitle=Dark+Pools+Take+Larger+Share+of+Trades+Amid+SEC+Scrutiny&amp;rft.date=2014-06-13&amp;rft.aulast=Mamudi&amp;rft.aufirst=Sam&amp;rft_id=https%3A%2F%2Fwww.bloomberg.com%2Fnews%2Farticles%2F2014-06-12%2Foff-exchange-stock-trading-reaches-two-year-high-in-u-s-&amp;rfr_id=info%3Asid%2Fen.wikipedia.org%3AStock+market\"></span><link href=\"mw-data:TemplateStyles:r951705291\" rel=\"mw-deduplicated-inline-style\"/></span>\n",
       "</li>\n",
       "<li id=\"cite_note-11\"><span class=\"mw-cite-backlink\"><b><a href=\"#cite_ref-11\">^</a></b></span> <span class=\"reference-text\"><cite class=\"citation news\"><span class=\"cs1-lock-subscription\" title=\"Paid subscription required\"><a class=\"external text\" href=\"https://www.ft.com/content/50428000-220d-11e4-9d4a-00144feabdc0\" rel=\"nofollow\">\"Financial regulators probe dark pools\"</a></span>. <i><a href=\"/wiki/Financial_Times\" title=\"Financial Times\">Financial Times</a></i>. September 15, 2014.</cite><span class=\"Z3988\" title=\"ctx_ver=Z39.88-2004&amp;rft_val_fmt=info%3Aofi%2Ffmt%3Akev%3Amtx%3Ajournal&amp;rft.genre=article&amp;rft.jtitle=Financial+Times&amp;rft.atitle=Financial+regulators+probe+dark+pools&amp;rft.date=2014-09-15&amp;rft_id=https%3A%2F%2Fwww.ft.com%2Fcontent%2F50428000-220d-11e4-9d4a-00144feabdc0&amp;rfr_id=info%3Asid%2Fen.wikipedia.org%3AStock+market\"></span><link href=\"mw-data:TemplateStyles:r951705291\" rel=\"mw-deduplicated-inline-style\"/></span>\n",
       "</li>\n",
       "<li id=\"cite_note-12\"><span class=\"mw-cite-backlink\"><b><a href=\"#cite_ref-12\">^</a></b></span> <span class=\"reference-text\"><cite class=\"citation web\"><a class=\"external text\" href=\"https://investorjunkie.com/investing/direct-vs-indirect-shares/\" rel=\"nofollow\">\"What's the Difference Between Direct and Indirect Shares?\"</a>. InvestorJunkie.</cite><span class=\"Z3988\" title=\"ctx_ver=Z39.88-2004&amp;rft_val_fmt=info%3Aofi%2Ffmt%3Akev%3Amtx%3Abook&amp;rft.genre=unknown&amp;rft.btitle=What%27s+the+Difference+Between+Direct+and+Indirect+Shares%3F&amp;rft.pub=InvestorJunkie&amp;rft_id=https%3A%2F%2Finvestorjunkie.com%2Finvesting%2Fdirect-vs-indirect-shares%2F&amp;rfr_id=info%3Asid%2Fen.wikipedia.org%3AStock+market\"></span><link href=\"mw-data:TemplateStyles:r951705291\" rel=\"mw-deduplicated-inline-style\"/></span>\n",
       "</li>\n",
       "<li id=\"cite_note-:1-13\"><span class=\"mw-cite-backlink\">^ <a href=\"#cite_ref-:1_13-0\"><sup><i><b>a</b></i></sup></a> <a href=\"#cite_ref-:1_13-1\"><sup><i><b>b</b></i></sup></a></span> <span class=\"reference-text\"><cite class=\"citation report\"><a class=\"external text\" href=\"https://www.census.gov/library/publications/1995/compendia/statab/115ed.html\" rel=\"nofollow\">Statistical Abstract of the United States: 1995</a> (Report). United States Census Bureau. September 1995. p. 513<span class=\"reference-accessdate\">. Retrieved <span class=\"nowrap\">December 17,</span> 2015</span>.</cite><span class=\"Z3988\" title=\"ctx_ver=Z39.88-2004&amp;rft_val_fmt=info%3Aofi%2Ffmt%3Akev%3Amtx%3Abook&amp;rft.genre=report&amp;rft.btitle=Statistical+Abstract+of+the+United+States%3A+1995&amp;rft.pages=513&amp;rft.pub=United+States+Census+Bureau&amp;rft.date=1995-09&amp;rft_id=https%3A%2F%2Fwww.census.gov%2Flibrary%2Fpublications%2F1995%2Fcompendia%2Fstatab%2F115ed.html&amp;rfr_id=info%3Asid%2Fen.wikipedia.org%3AStock+market\"></span><link href=\"mw-data:TemplateStyles:r951705291\" rel=\"mw-deduplicated-inline-style\"/></span>\n",
       "</li>\n",
       "<li id=\"cite_note-:0-14\"><span class=\"mw-cite-backlink\">^ <a href=\"#cite_ref-:0_14-0\"><sup><i><b>a</b></i></sup></a> <a href=\"#cite_ref-:0_14-1\"><sup><i><b>b</b></i></sup></a> <a href=\"#cite_ref-:0_14-2\"><sup><i><b>c</b></i></sup></a> <a href=\"#cite_ref-:0_14-3\"><sup><i><b>d</b></i></sup></a> <a href=\"#cite_ref-:0_14-4\"><sup><i><b>e</b></i></sup></a></span> <span class=\"reference-text\"><cite class=\"citation report\"><a class=\"external text\" href=\"https://www.census.gov/library/publications/2011/compendia/statab/131ed.html?cssp=SERP\" rel=\"nofollow\">Statistical Abstract of the United States: 2012</a> (Report). United States Census Bureau. August 2011. p. 730<span class=\"reference-accessdate\">. Retrieved <span class=\"nowrap\">December 17,</span> 2015</span>.</cite><span class=\"Z3988\" title=\"ctx_ver=Z39.88-2004&amp;rft_val_fmt=info%3Aofi%2Ffmt%3Akev%3Amtx%3Abook&amp;rft.genre=report&amp;rft.btitle=Statistical+Abstract+of+the+United+States%3A+2012&amp;rft.pages=730&amp;rft.pub=United+States+Census+Bureau&amp;rft.date=2011-08&amp;rft_id=https%3A%2F%2Fwww.census.gov%2Flibrary%2Fpublications%2F2011%2Fcompendia%2Fstatab%2F131ed.html%3Fcssp%3DSERP&amp;rfr_id=info%3Asid%2Fen.wikipedia.org%3AStock+market\"></span><link href=\"mw-data:TemplateStyles:r951705291\" rel=\"mw-deduplicated-inline-style\"/></span>\n",
       "</li>\n",
       "<li id=\"cite_note-15\"><span class=\"mw-cite-backlink\"><b><a href=\"#cite_ref-15\">^</a></b></span> <span class=\"reference-text\"><cite class=\"citation journal\" id=\"CITEREFRydqvistSpizmanStrebulaev2013\">Rydqvist, Kristian; Spizman, Joshua; Strebulaev, Ilya A. (January 1, 2013). \"Government Policy and Ownership of Financial Assets\". <a class=\"mw-redirect\" href=\"/wiki/SSRN_(identifier)\" title=\"SSRN (identifier)\">SSRN</a> <span class=\"cs1-lock-free\" title=\"Freely accessible\"><a class=\"external text\" href=\"//ssrn.com/abstract=1428442\" rel=\"nofollow\">1428442</a></span>.</cite><span class=\"Z3988\" title=\"ctx_ver=Z39.88-2004&amp;rft_val_fmt=info%3Aofi%2Ffmt%3Akev%3Amtx%3Ajournal&amp;rft.genre=article&amp;rft.atitle=Government+Policy+and+Ownership+of+Financial+Assets&amp;rft.date=2013-01-01&amp;rft_id=%2F%2Fssrn.com%2Fabstract%3D1428442&amp;rft.aulast=Rydqvist&amp;rft.aufirst=Kristian&amp;rft.au=Spizman%2C+Joshua&amp;rft.au=Strebulaev%2C+Ilya+A.&amp;rfr_id=info%3Asid%2Fen.wikipedia.org%3AStock+market\"></span> <span class=\"cs1-hidden-error error citation-comment\">Cite journal requires <code class=\"cs1-code\">|journal=</code> (<a href=\"/wiki/Help:CS1_errors#missing_periodical\" title=\"Help:CS1 errors\">help</a>)</span><link href=\"mw-data:TemplateStyles:r951705291\" rel=\"mw-deduplicated-inline-style\"/></span>\n",
       "</li>\n",
       "<li id=\"cite_note-:2-16\"><span class=\"mw-cite-backlink\">^ <a href=\"#cite_ref-:2_16-0\"><sup><i><b>a</b></i></sup></a> <a href=\"#cite_ref-:2_16-1\"><sup><i><b>b</b></i></sup></a></span> <span class=\"reference-text\"><cite class=\"citation report\"><a class=\"external text\" href=\"https://www.federalreserve.gov/pubs/bulletin/2012/pdf/scf12.pdf\" rel=\"nofollow\">Changes in U.S. Family Finances from 2007 to 2010: Evidence from the Survey of Consumer Finances</a> <span class=\"cs1-format\">(PDF)</span> (Report). Federal Reserve Board of Governors. June 2012. p. 24.</cite><span class=\"Z3988\" title=\"ctx_ver=Z39.88-2004&amp;rft_val_fmt=info%3Aofi%2Ffmt%3Akev%3Amtx%3Abook&amp;rft.genre=report&amp;rft.btitle=Changes+in+U.S.+Family+Finances+from+2007+to+2010%3A+Evidence+from+the+Survey+of+Consumer+Finances&amp;rft.pages=24&amp;rft.pub=Federal+Reserve+Board+of+Governors&amp;rft.date=2012-06&amp;rft_id=http%3A%2F%2Fwww.federalreserve.gov%2Fpubs%2Fbulletin%2F2012%2Fpdf%2Fscf12.pdf&amp;rfr_id=info%3Asid%2Fen.wikipedia.org%3AStock+market\"></span><link href=\"mw-data:TemplateStyles:r951705291\" rel=\"mw-deduplicated-inline-style\"/></span>\n",
       "</li>\n",
       "<li id=\"cite_note-:3-17\"><span class=\"mw-cite-backlink\">^ <a href=\"#cite_ref-:3_17-0\"><sup><i><b>a</b></i></sup></a> <a href=\"#cite_ref-:3_17-1\"><sup><i><b>b</b></i></sup></a> <a href=\"#cite_ref-:3_17-2\"><sup><i><b>c</b></i></sup></a> <a href=\"#cite_ref-:3_17-3\"><sup><i><b>d</b></i></sup></a></span> <span class=\"reference-text\"><cite class=\"citation report\"><a class=\"external text\" href=\"https://www.federalreserve.gov/pubs/bulletin/2014/pdf/scf14.pdf\" rel=\"nofollow\">Changes in U.S. Family Finances from 2010 to 2013: Evidence from the Survey of Consumer Finances</a> <span class=\"cs1-format\">(PDF)</span> (Report). Federal Reserve Board of Governors. September 2014. p. 20<span class=\"reference-accessdate\">. Retrieved <span class=\"nowrap\">December 17,</span> 2015</span>.</cite><span class=\"Z3988\" title=\"ctx_ver=Z39.88-2004&amp;rft_val_fmt=info%3Aofi%2Ffmt%3Akev%3Amtx%3Abook&amp;rft.genre=report&amp;rft.btitle=Changes+in+U.S.+Family+Finances+from+2010+to+2013%3A+Evidence+from+the+Survey+of+Consumer+Finances&amp;rft.pages=20&amp;rft.pub=Federal+Reserve+Board+of+Governors&amp;rft.date=2014-09&amp;rft_id=http%3A%2F%2Fwww.federalreserve.gov%2Fpubs%2Fbulletin%2F2014%2Fpdf%2Fscf14.pdf&amp;rfr_id=info%3Asid%2Fen.wikipedia.org%3AStock+market\"></span><link href=\"mw-data:TemplateStyles:r951705291\" rel=\"mw-deduplicated-inline-style\"/></span>\n",
       "</li>\n",
       "<li id=\"cite_note-18\"><span class=\"mw-cite-backlink\"><b><a href=\"#cite_ref-18\">^</a></b></span> <span class=\"reference-text\"><cite class=\"citation journal\" id=\"CITEREFVissing-Jørgensen2003\">Vissing-Jørgensen, Annette (2003). \"Perspectives on Behavioral Finance: Does 'Irrationality' Disappear with Wealth? Evidence from Expectations and Actions\". <i>NBER Macroeconomics Annual</i>. <b>18</b>: 139–194. <a class=\"mw-redirect\" href=\"/wiki/CiteSeerX_(identifier)\" title=\"CiteSeerX (identifier)\">CiteSeerX</a> <span class=\"cs1-lock-free\" title=\"Freely accessible\"><a class=\"external text\" href=\"//citeseerx.ist.psu.edu/viewdoc/summary?doi=10.1.1.195.7189\" rel=\"nofollow\">10.1.1.195.7189</a></span>. <a class=\"mw-redirect\" href=\"/wiki/Doi_(identifier)\" title=\"Doi (identifier)\">doi</a>:<a class=\"external text\" href=\"https://doi.org/10.1086%2Fma.18.3585252\" rel=\"nofollow\">10.1086/ma.18.3585252</a>.</cite><span class=\"Z3988\" title=\"ctx_ver=Z39.88-2004&amp;rft_val_fmt=info%3Aofi%2Ffmt%3Akev%3Amtx%3Ajournal&amp;rft.genre=article&amp;rft.jtitle=NBER+Macroeconomics+Annual&amp;rft.atitle=Perspectives+on+Behavioral+Finance%3A+Does+%27Irrationality%27+Disappear+with+Wealth%3F+Evidence+from+Expectations+and+Actions&amp;rft.volume=18&amp;rft.pages=139-194&amp;rft.date=2003&amp;rft_id=%2F%2Fciteseerx.ist.psu.edu%2Fviewdoc%2Fsummary%3Fdoi%3D10.1.1.195.7189&amp;rft_id=info%3Adoi%2F10.1086%2Fma.18.3585252&amp;rft.aulast=Vissing-J%C3%B8rgensen&amp;rft.aufirst=Annette&amp;rfr_id=info%3Asid%2Fen.wikipedia.org%3AStock+market\"></span><link href=\"mw-data:TemplateStyles:r951705291\" rel=\"mw-deduplicated-inline-style\"/></span>\n",
       "</li>\n",
       "<li id=\"cite_note-19\"><span class=\"mw-cite-backlink\"><b><a href=\"#cite_ref-19\">^</a></b></span> <span class=\"reference-text\"><cite class=\"citation journal\" id=\"CITEREFHong2004\">Hong, Harrison (February 2004). <a class=\"external text\" href=\"https://surface.syr.edu/cgi/viewcontent.cgi?article=1060&amp;context=ecn\" rel=\"nofollow\">\"Social Interaction and Stock-Market Participation\"</a>. <i>The Journal of Finance</i>. <b>59</b>: 137–163. <a class=\"mw-redirect\" href=\"/wiki/Doi_(identifier)\" title=\"Doi (identifier)\">doi</a>:<a class=\"external text\" href=\"https://doi.org/10.1111%2Fj.1540-6261.2004.00629.x\" rel=\"nofollow\">10.1111/j.1540-6261.2004.00629.x</a>.</cite><span class=\"Z3988\" title=\"ctx_ver=Z39.88-2004&amp;rft_val_fmt=info%3Aofi%2Ffmt%3Akev%3Amtx%3Ajournal&amp;rft.genre=article&amp;rft.jtitle=The+Journal+of+Finance&amp;rft.atitle=Social+Interaction+and+Stock-Market+Participation&amp;rft.volume=59&amp;rft.pages=137-163&amp;rft.date=2004-02&amp;rft_id=info%3Adoi%2F10.1111%2Fj.1540-6261.2004.00629.x&amp;rft.aulast=Hong&amp;rft.aufirst=Harrison&amp;rft_id=https%3A%2F%2Fsurface.syr.edu%2Fcgi%2Fviewcontent.cgi%3Farticle%3D1060%26context%3Decn&amp;rfr_id=info%3Asid%2Fen.wikipedia.org%3AStock+market\"></span><link href=\"mw-data:TemplateStyles:r951705291\" rel=\"mw-deduplicated-inline-style\"/></span>\n",
       "</li>\n",
       "<li id=\"cite_note-20\"><span class=\"mw-cite-backlink\"><b><a href=\"#cite_ref-20\">^</a></b></span> <span class=\"reference-text\"><cite class=\"citation web\"><a class=\"external text\" href=\"http://www.belgiumview.com/belgiumview/tl1/view0002205.php4\" rel=\"nofollow\">\"16de eeuwse traditionele bak- en zandsteenarchitectuur Oude Beurs Antwerpen 1 (centrum) / Antwerp foto\"</a>. Belgiumview.com.</cite><span class=\"Z3988\" title=\"ctx_ver=Z39.88-2004&amp;rft_val_fmt=info%3Aofi%2Ffmt%3Akev%3Amtx%3Abook&amp;rft.genre=unknown&amp;rft.btitle=16de+eeuwse+traditionele+bak-+en+zandsteenarchitectuur+Oude+Beurs+Antwerpen+1+%28centrum%29+%2F+Antwerp+foto&amp;rft.pub=Belgiumview.com&amp;rft_id=http%3A%2F%2Fwww.belgiumview.com%2Fbelgiumview%2Ftl1%2Fview0002205.php4&amp;rfr_id=info%3Asid%2Fen.wikipedia.org%3AStock+market\"></span><link href=\"mw-data:TemplateStyles:r951705291\" rel=\"mw-deduplicated-inline-style\"/></span>\n",
       "</li>\n",
       "<li id=\"cite_note-21\"><span class=\"mw-cite-backlink\"><b><a href=\"#cite_ref-21\">^</a></b></span> <span class=\"reference-text\">[Ralph Dahrendorft, Class and Class Conflict in Industrial Society (Stanford, CA:  Stanford University Press, 1959)]</span>\n",
       "</li>\n",
       "<li id=\"cite_note-22\"><span class=\"mw-cite-backlink\"><b><a href=\"#cite_ref-22\">^</a></b></span> <span class=\"reference-text\"><a class=\"mw-redirect\" href=\"/wiki/Robert_Shiller\" title=\"Robert Shiller\">Shiller, Robert</a>: <i>The United East India Company and Amsterdam Stock Exchange</i>, in <i>Economics 252, Financial Markets: Lecture 4 – Portfolio Diversification and Supporting Financial Institutions</i>. (<a href=\"/wiki/Open_Yale_Courses\" title=\"Open Yale Courses\">Open Yale Courses</a>, 2011)</span>\n",
       "</li>\n",
       "<li id=\"cite_note-23\"><span class=\"mw-cite-backlink\"><b><a href=\"#cite_ref-23\">^</a></b></span> <span class=\"reference-text\"><cite class=\"citation web\"><a class=\"external text\" href=\"http://www.worldsoldestshare.com/\" rel=\"nofollow\">\"World's oldest share\"</a>. The World's Oldest Share<span class=\"reference-accessdate\">. Retrieved <span class=\"nowrap\">August 8,</span> 2017</span>.</cite><span class=\"Z3988\" title=\"ctx_ver=Z39.88-2004&amp;rft_val_fmt=info%3Aofi%2Ffmt%3Akev%3Amtx%3Abook&amp;rft.genre=unknown&amp;rft.btitle=World%27s+oldest+share&amp;rft.pub=The+World%27s+Oldest+Share&amp;rft_id=http%3A%2F%2Fwww.worldsoldestshare.com%2F&amp;rfr_id=info%3Asid%2Fen.wikipedia.org%3AStock+market\"></span><link href=\"mw-data:TemplateStyles:r951705291\" rel=\"mw-deduplicated-inline-style\"/></span>\n",
       "</li>\n",
       "<li id=\"cite_note-24\"><span class=\"mw-cite-backlink\"><b><a href=\"#cite_ref-24\">^</a></b></span> <span class=\"reference-text\"><cite class=\"citation web\"><a class=\"external text\" href=\"https://www.guinnessworldrecords.com/world-records/oldest-share-certificate/\" rel=\"nofollow\">\"Dutch history student finds world's oldest share\"</a>. <a href=\"/wiki/Guinness_World_Records\" title=\"Guinness World Records\">Guinness World Records</a>. September 10, 2010.</cite><span class=\"Z3988\" title=\"ctx_ver=Z39.88-2004&amp;rft_val_fmt=info%3Aofi%2Ffmt%3Akev%3Amtx%3Abook&amp;rft.genre=unknown&amp;rft.btitle=Dutch+history+student+finds+world%27s+oldest+share&amp;rft.pub=Guinness+World+Records&amp;rft.date=2010-09-10&amp;rft_id=https%3A%2F%2Fwww.guinnessworldrecords.com%2Fworld-records%2Foldest-share-certificate%2F&amp;rfr_id=info%3Asid%2Fen.wikipedia.org%3AStock+market\"></span><link href=\"mw-data:TemplateStyles:r951705291\" rel=\"mw-deduplicated-inline-style\"/></span>\n",
       "</li>\n",
       "<li id=\"cite_note-25\"><span class=\"mw-cite-backlink\"><b><a href=\"#cite_ref-25\">^</a></b></span> <span class=\"reference-text\"><cite class=\"citation news\" id=\"CITEREFGray-Block2010\">Gray-Block, Aaron (September 10, 2010). <a class=\"external text\" href=\"https://www.reuters.com/article/us-dutch-share/dutch-history-student-finds-worlds-oldest-share-idUSTRE6891DZ20100910\" rel=\"nofollow\">\"Dutch history student finds world's oldest share\"</a>. <i><a href=\"/wiki/Reuters\" title=\"Reuters\">Reuters</a></i>.</cite><span class=\"Z3988\" title=\"ctx_ver=Z39.88-2004&amp;rft_val_fmt=info%3Aofi%2Ffmt%3Akev%3Amtx%3Ajournal&amp;rft.genre=article&amp;rft.jtitle=Reuters&amp;rft.atitle=Dutch+history+student+finds+world%27s+oldest+share&amp;rft.date=2010-09-10&amp;rft.aulast=Gray-Block&amp;rft.aufirst=Aaron&amp;rft_id=https%3A%2F%2Fwww.reuters.com%2Farticle%2Fus-dutch-share%2Fdutch-history-student-finds-worlds-oldest-share-idUSTRE6891DZ20100910&amp;rfr_id=info%3Asid%2Fen.wikipedia.org%3AStock+market\"></span><link href=\"mw-data:TemplateStyles:r951705291\" rel=\"mw-deduplicated-inline-style\"/></span>\n",
       "</li>\n",
       "<li id=\"cite_note-26\"><span class=\"mw-cite-backlink\"><b><a href=\"#cite_ref-26\">^</a></b></span> <span class=\"reference-text\"><cite class=\"citation news\" id=\"CITEREFDunkley2010\">Dunkley, Jamie (September 11, 2010). <a class=\"external text\" href=\"https://www.telegraph.co.uk/finance/personalfinance/investing/shares/7995143/Dutch-student-finds-worlds-oldest-share-certificate.html\" rel=\"nofollow\">\"Dutch student finds world's oldest share certificate\"</a>. <i><a href=\"/wiki/The_Daily_Telegraph\" title=\"The Daily Telegraph\">The Daily Telegraph</a></i>.</cite><span class=\"Z3988\" title=\"ctx_ver=Z39.88-2004&amp;rft_val_fmt=info%3Aofi%2Ffmt%3Akev%3Amtx%3Ajournal&amp;rft.genre=article&amp;rft.jtitle=The+Daily+Telegraph&amp;rft.atitle=Dutch+student+finds+world%27s+oldest+share+certificate&amp;rft.date=2010-09-11&amp;rft.aulast=Dunkley&amp;rft.aufirst=Jamie&amp;rft_id=https%3A%2F%2Fwww.telegraph.co.uk%2Ffinance%2Fpersonalfinance%2Finvesting%2Fshares%2F7995143%2FDutch-student-finds-worlds-oldest-share-certificate.html&amp;rfr_id=info%3Asid%2Fen.wikipedia.org%3AStock+market\"></span><link href=\"mw-data:TemplateStyles:r951705291\" rel=\"mw-deduplicated-inline-style\"/></span>\n",
       "</li>\n",
       "<li id=\"cite_note-27\"><span class=\"mw-cite-backlink\"><b><a href=\"#cite_ref-27\">^</a></b></span> <span class=\"reference-text\">Preda, Alex (2009)</span>\n",
       "</li>\n",
       "<li id=\"cite_note-28\"><span class=\"mw-cite-backlink\"><b><a href=\"#cite_ref-28\">^</a></b></span> <span class=\"reference-text\"><a href=\"/wiki/Edward_Stringham\" title=\"Edward Stringham\">Stringham, Edward Peter</a>: <i>Private Governance: Creating Order in Economic and Social Life</i>. (Oxford University Press, 2015, <link href=\"mw-data:TemplateStyles:r951705291\" rel=\"mw-deduplicated-inline-style\"/><a class=\"mw-redirect\" href=\"/wiki/ISBN_(identifier)\" title=\"ISBN (identifier)\">ISBN</a> <a href=\"/wiki/Special:BookSources/9780199365166\" title=\"Special:BookSources/9780199365166\">9780199365166</a>)</span>\n",
       "</li>\n",
       "<li id=\"cite_note-29\"><span class=\"mw-cite-backlink\"><b><a href=\"#cite_ref-29\">^</a></b></span> <span class=\"reference-text\"><cite class=\"citation web\" id=\"CITEREFStringham,_Edward_Peter2015\">Stringham, Edward Peter (October 5, 2015). <a class=\"external text\" href=\"https://www.cato-unbound.org/2015/10/05/edward-peter-stringham/how-private-governance-made-modern-world-possible\" rel=\"nofollow\">\"How Private Governance Made the Modern World Possible\"</a>. Cato Unbound (www.cato-unbound.org)<span class=\"reference-accessdate\">. Retrieved <span class=\"nowrap\">August 15,</span> 2017</span>.</cite><span class=\"Z3988\" title=\"ctx_ver=Z39.88-2004&amp;rft_val_fmt=info%3Aofi%2Ffmt%3Akev%3Amtx%3Abook&amp;rft.genre=unknown&amp;rft.btitle=How+Private+Governance+Made+the+Modern+World+Possible&amp;rft.pub=Cato+Unbound+%28www.cato-unbound.org%29&amp;rft.date=2015-10-05&amp;rft.au=Stringham%2C+Edward+Peter&amp;rft_id=https%3A%2F%2Fwww.cato-unbound.org%2F2015%2F10%2F05%2Fedward-peter-stringham%2Fhow-private-governance-made-modern-world-possible&amp;rfr_id=info%3Asid%2Fen.wikipedia.org%3AStock+market\"></span><link href=\"mw-data:TemplateStyles:r951705291\" rel=\"mw-deduplicated-inline-style\"/></span>\n",
       "</li>\n",
       "<li id=\"cite_note-30\"><span class=\"mw-cite-backlink\"><b><a href=\"#cite_ref-30\">^</a></b></span> <span class=\"reference-text\">Petram, Lodewijk: <i>The World's First Stock Exchange: How the Amsterdam Market for Dutch East India Company Shares Became a Modern Securities Market, 1602–1700</i>. Translated from the Dutch by Lynne Richards. (Columbia University Press, 2014, <link href=\"mw-data:TemplateStyles:r951705291\" rel=\"mw-deduplicated-inline-style\"/><a class=\"mw-redirect\" href=\"/wiki/ISBN_(identifier)\" title=\"ISBN (identifier)\">ISBN</a> <a href=\"/wiki/Special:BookSources/9780231163781\" title=\"Special:BookSources/9780231163781\">9780231163781</a>)</span>\n",
       "</li>\n",
       "<li id=\"cite_note-31\"><span class=\"mw-cite-backlink\"><b><a href=\"#cite_ref-31\">^</a></b></span> <span class=\"reference-text\"><a class=\"mw-redirect\" href=\"/wiki/Robert_Shiller\" title=\"Robert Shiller\">Shiller, Robert</a> (2011). <i>Economics 252, Financial Markets: Lecture 4 – Portfolio Diversification and Supporting Financial Institutions (<a href=\"/wiki/Open_Yale_Courses\" title=\"Open Yale Courses\">Open Yale Courses</a>)</i>. [Transcript]</span>\n",
       "</li>\n",
       "<li id=\"cite_note-32\"><span class=\"mw-cite-backlink\"><b><a href=\"#cite_ref-32\">^</a></b></span> <span class=\"reference-text\">Macaulay, Catherine R. (2015). <i>Capitalism's renaissance? The potential of repositioning the financial 'meta-economy'. (</i>Futures<i>, Volume 68, April 2015, p. 5–18)</i></span>\n",
       "</li>\n",
       "<li id=\"cite_note-33\"><span class=\"mw-cite-backlink\"><b><a href=\"#cite_ref-33\">^</a></b></span> <span class=\"reference-text\"><a href=\"/wiki/John_Brooks_(writer)\" title=\"John Brooks (writer)\">Brooks, John</a> (1968). “The  Fluctuation: The Little Crash in '62”, in “Business Adventures: Twelve Classic Tales from the World of Wall Street”. (New York: Weybright &amp; Talley, 1968)</span>\n",
       "</li>\n",
       "<li id=\"cite_note-34\"><span class=\"mw-cite-backlink\"><b><a href=\"#cite_ref-34\">^</a></b></span> <span class=\"reference-text\">Stringham, Edward Peter; Curott, Nicholas A. (2015), 'On the Origins of Stock Markets,' [Chapter 14, Part IV: <i>Institutions and Organizations</i>]; in <i>The Oxford Handbook of Austrian Economics</i>, edited by <a class=\"mw-redirect\" href=\"/wiki/Peter_J._Boettke\" title=\"Peter J. Boettke\">Peter J. Boettke</a> and Christopher J. Coyne. (Oxford University Press, 2015, <link href=\"mw-data:TemplateStyles:r951705291\" rel=\"mw-deduplicated-inline-style\"/><a class=\"mw-redirect\" href=\"/wiki/ISBN_(identifier)\" title=\"ISBN (identifier)\">ISBN</a> <a href=\"/wiki/Special:BookSources/978-0199811762\" title=\"Special:BookSources/978-0199811762\">978-0199811762</a>), pp. 324–344</span>\n",
       "</li>\n",
       "<li id=\"cite_note-35\"><span class=\"mw-cite-backlink\"><b><a href=\"#cite_ref-35\">^</a></b></span> <span class=\"reference-text\"><cite class=\"citation book\" id=\"CITEREFTracy1985\">Tracy, James D. (1985). <a class=\"external text\" href=\"https://archive.org/details/financialrevolut0073trac\" rel=\"nofollow\"><i>A Financial Revolution in the Habsburg Netherlands: Renten and Renteniers in the County of Holland, 1515–1565</i></a>. University of California Press. <a class=\"mw-redirect\" href=\"/wiki/ISBN_(identifier)\" title=\"ISBN (identifier)\">ISBN</a> <a href=\"/wiki/Special:BookSources/978-0-520-05425-7\" title=\"Special:BookSources/978-0-520-05425-7\"><bdi>978-0-520-05425-7</bdi></a>.</cite><span class=\"Z3988\" title=\"ctx_ver=Z39.88-2004&amp;rft_val_fmt=info%3Aofi%2Ffmt%3Akev%3Amtx%3Abook&amp;rft.genre=book&amp;rft.btitle=A+Financial+Revolution+in+the+Habsburg+Netherlands%3A+Renten+and+Renteniers+in+the+County+of+Holland%2C+1515%E2%80%931565&amp;rft.pub=University+of+California+Press&amp;rft.date=1985&amp;rft.isbn=978-0-520-05425-7&amp;rft.aulast=Tracy&amp;rft.aufirst=James+D.&amp;rft_id=https%3A%2F%2Farchive.org%2Fdetails%2Ffinancialrevolut0073trac&amp;rfr_id=info%3Asid%2Fen.wikipedia.org%3AStock+market\"></span><link href=\"mw-data:TemplateStyles:r951705291\" rel=\"mw-deduplicated-inline-style\"/></span>\n",
       "</li>\n",
       "<li id=\"cite_note-36\"><span class=\"mw-cite-backlink\"><b><a href=\"#cite_ref-36\">^</a></b></span> <span class=\"reference-text\"><cite class=\"citation book\" id=\"CITEREFGoetzmannRouwenhorst2005\">Goetzmann, William N.; Rouwenhorst, K. Geert (2005). <i>The Origins of Value: The Financial Innovations that Created Modern Capital Markets</i>. Oxford University Press. <a class=\"mw-redirect\" href=\"/wiki/ISBN_(identifier)\" title=\"ISBN (identifier)\">ISBN</a> <a href=\"/wiki/Special:BookSources/978-0-19-517571-4\" title=\"Special:BookSources/978-0-19-517571-4\"><bdi>978-0-19-517571-4</bdi></a>.</cite><span class=\"Z3988\" title=\"ctx_ver=Z39.88-2004&amp;rft_val_fmt=info%3Aofi%2Ffmt%3Akev%3Amtx%3Abook&amp;rft.genre=book&amp;rft.btitle=The+Origins+of+Value%3A+The+Financial+Innovations+that+Created+Modern+Capital+Markets&amp;rft.pub=Oxford+University+Press&amp;rft.date=2005&amp;rft.isbn=978-0-19-517571-4&amp;rft.aulast=Goetzmann&amp;rft.aufirst=William+N.&amp;rft.au=Rouwenhorst%2C+K.+Geert&amp;rfr_id=info%3Asid%2Fen.wikipedia.org%3AStock+market\"></span><link href=\"mw-data:TemplateStyles:r951705291\" rel=\"mw-deduplicated-inline-style\"/></span>\n",
       "</li>\n",
       "<li id=\"cite_note-37\"><span class=\"mw-cite-backlink\"><b><a href=\"#cite_ref-37\">^</a></b></span> <span class=\"reference-text\">Goetzmann, William N.; Rouwenhorst, K. Geert (2008). <i>The History of Financial Innovation</i>, in <i>Carbon Finance, Environmental Market Solutions to Climate Change</i>. (Yale School of Forestry and Environmental Studies, chapter 1, pp. 18–43). As Goetzmann &amp; Rouwenhorst (2008) noted, \"The 17th and 18th centuries in the Netherlands were a remarkable time for finance. Many of the financial products or instruments that we see today emerged during a relatively short period. In particular, merchants and bankers developed what we would today call <a href=\"/wiki/Securitization\" title=\"Securitization\">securitization</a>. Mutual funds and various other forms of structured finance that still exist today emerged in the 17th and 18th centuries in Holland.\"</span>\n",
       "</li>\n",
       "<li id=\"cite_note-38\"><span class=\"mw-cite-backlink\"><b><a href=\"#cite_ref-38\">^</a></b></span> <span class=\"reference-text\">Sylla, Richard (2015). \"Financial Development, Corporations, and Inequality\". (BHC-EBHA Meeting). As <a href=\"/wiki/Richard_Sylla\" title=\"Richard Sylla\">Richard Sylla</a> (2015) notes, \"In modern history, several nations had what some of us call <a class=\"mw-redirect\" href=\"/wiki/Financial_revolution\" title=\"Financial revolution\">financial revolutions</a>. These can be thought of as creating in a short period of time all the key components of a modern <a href=\"/wiki/Financial_system\" title=\"Financial system\">financial system</a>. The first was the Dutch Republic four centuries ago.\"</span>\n",
       "</li>\n",
       "<li id=\"cite_note-39\"><span class=\"mw-cite-backlink\"><b><a href=\"#cite_ref-39\">^</a></b></span> <span class=\"reference-text\">Stringham, Edward Peter; Curott, Nicholas A. (2015), 'On the Origins of Stock Markets,'. (Oxford University Press, 2015, <link href=\"mw-data:TemplateStyles:r951705291\" rel=\"mw-deduplicated-inline-style\"/><a class=\"mw-redirect\" href=\"/wiki/ISBN_(identifier)\" title=\"ISBN (identifier)\">ISBN</a> <a href=\"/wiki/Special:BookSources/978-0199811762\" title=\"Special:BookSources/978-0199811762\">978-0199811762</a>), pp. 324–344</span>\n",
       "</li>\n",
       "<li id=\"cite_note-40\"><span class=\"mw-cite-backlink\"><b><a href=\"#cite_ref-40\">^</a></b></span> <span class=\"reference-text\">Neal, Larry (2005). “Venture Shares of the Dutch East India Company,”, in <i>The Origins of Value: The Financial Innovations that Created Modern Capital Markets</i>, Goetzmann &amp; Rouwenhorst (eds.), Oxford University Press, 2005, pp. 165–175</span>\n",
       "</li>\n",
       "<li id=\"cite_note-41\"><span class=\"mw-cite-backlink\"><b><a href=\"#cite_ref-41\">^</a></b></span> <span class=\"reference-text\"><a href=\"/wiki/Edward_Stringham\" title=\"Edward Stringham\">Stringham, Edward Peter</a>: <i>Private Governance: Creating Order in Economic and Social Life</i>. (Oxford University Press, 2015, <link href=\"mw-data:TemplateStyles:r951705291\" rel=\"mw-deduplicated-inline-style\"/><a class=\"mw-redirect\" href=\"/wiki/ISBN_(identifier)\" title=\"ISBN (identifier)\">ISBN</a> <a href=\"/wiki/Special:BookSources/9780199365166\" title=\"Special:BookSources/9780199365166\">9780199365166</a>), p.42</span>\n",
       "</li>\n",
       "<li id=\"cite_note-42\"><span class=\"mw-cite-backlink\"><b><a href=\"#cite_ref-42\">^</a></b></span> <span class=\"reference-text\">Petram, Lodewijk (Columbia University Press, 2014, <link href=\"mw-data:TemplateStyles:r951705291\" rel=\"mw-deduplicated-inline-style\"/><a class=\"mw-redirect\" href=\"/wiki/ISBN_(identifier)\" title=\"ISBN (identifier)\">ISBN</a> <a href=\"/wiki/Special:BookSources/9780231163781\" title=\"Special:BookSources/9780231163781\">9780231163781</a>)</span>\n",
       "</li>\n",
       "<li id=\"cite_note-43\"><span class=\"mw-cite-backlink\"><b><a href=\"#cite_ref-43\">^</a></b></span> <span class=\"reference-text\"><a href=\"/wiki/Joseph_de_la_Vega\" title=\"Joseph de la Vega\">De la Vega, Joseph</a>, <i>Confusion de Confusiones</i> (1688), <i>Portions Descriptive of the Amsterdam Stock Exchange</i>, introduction by Hermann Kellenbenz, Baker Library, Harvard Graduate School of Business Administration (1957)</span>\n",
       "</li>\n",
       "<li id=\"cite_note-44\"><span class=\"mw-cite-backlink\"><b><a href=\"#cite_ref-44\">^</a></b></span> <span class=\"reference-text\"><cite class=\"citation web\"><a class=\"external text\" href=\"https://web.archive.org/web/20110611085933/http://www.world-exchanges.org/statistics/ytd-monthly\" rel=\"nofollow\">\"World Federation of Exchanges Monthly YTD Data\"</a>. World-exchanges.org. Archived from <a class=\"external text\" href=\"http://world-exchanges.org/statistics/ytd-monthly\" rel=\"nofollow\">the original</a> on June 11, 2011<span class=\"reference-accessdate\">. Retrieved <span class=\"nowrap\">May 31,</span> 2011</span>.</cite><span class=\"Z3988\" title=\"ctx_ver=Z39.88-2004&amp;rft_val_fmt=info%3Aofi%2Ffmt%3Akev%3Amtx%3Abook&amp;rft.genre=unknown&amp;rft.btitle=World+Federation+of+Exchanges+Monthly+YTD+Data&amp;rft.pub=World-exchanges.org&amp;rft_id=http%3A%2F%2Fworld-exchanges.org%2Fstatistics%2Fytd-monthly&amp;rfr_id=info%3Asid%2Fen.wikipedia.org%3AStock+market\"></span><link href=\"mw-data:TemplateStyles:r951705291\" rel=\"mw-deduplicated-inline-style\"/></span>\n",
       "</li>\n",
       "<li id=\"cite_note-45\"><span class=\"mw-cite-backlink\"><b><a href=\"#cite_ref-45\">^</a></b></span> <span class=\"reference-text\"><a href=\"/wiki/Murray_Rothbard\" title=\"Murray Rothbard\">Rothbard, Murray</a>: <i>Making Economic Sense</i>, 2nd edition. (Ludwig von Mises Institute, 2006, <link href=\"mw-data:TemplateStyles:r951705291\" rel=\"mw-deduplicated-inline-style\"/><a class=\"mw-redirect\" href=\"/wiki/ISBN_(identifier)\" title=\"ISBN (identifier)\">ISBN</a> <a href=\"/wiki/Special:BookSources/9781610165907\" title=\"Special:BookSources/9781610165907\">9781610165907</a>), p. 426</span>\n",
       "</li>\n",
       "<li id=\"cite_note-46\"><span class=\"mw-cite-backlink\"><b><a href=\"#cite_ref-46\">^</a></b></span> <span class=\"reference-text\"><cite class=\"citation web\"><a class=\"external text\" href=\"http://www.eurocapitalmarkets.org/?q=node/176\" rel=\"nofollow\">\"Equity market Size relative to bond markets and bank assets\"</a>. <i>eurocapitalmarkets.org</i><span class=\"reference-accessdate\">. Retrieved <span class=\"nowrap\">August 14,</span> 2015</span>.</cite><span class=\"Z3988\" title=\"ctx_ver=Z39.88-2004&amp;rft_val_fmt=info%3Aofi%2Ffmt%3Akev%3Amtx%3Ajournal&amp;rft.genre=unknown&amp;rft.jtitle=eurocapitalmarkets.org&amp;rft.atitle=Equity+market+Size+relative+to+bond+markets+and+bank+assets&amp;rft_id=http%3A%2F%2Fwww.eurocapitalmarkets.org%2F%3Fq%3Dnode%2F176&amp;rfr_id=info%3Asid%2Fen.wikipedia.org%3AStock+market\"></span><link href=\"mw-data:TemplateStyles:r951705291\" rel=\"mw-deduplicated-inline-style\"/></span>\n",
       "</li>\n",
       "<li id=\"cite_note-47\"><span class=\"mw-cite-backlink\"><b><a href=\"#cite_ref-47\">^</a></b></span> <span class=\"reference-text\">Mahipal Singh, 2011, <link href=\"mw-data:TemplateStyles:r951705291\" rel=\"mw-deduplicated-inline-style\"/><a class=\"mw-redirect\" href=\"/wiki/ISBN_(identifier)\" title=\"ISBN (identifier)\">ISBN</a> <a href=\"/wiki/Special:BookSources/9788182055193\" title=\"Special:BookSources/9788182055193\">9788182055193</a>, April 2011</span>\n",
       "</li>\n",
       "<li id=\"cite_note-48\"><span class=\"mw-cite-backlink\"><b><a href=\"#cite_ref-48\">^</a></b></span> <span class=\"reference-text\"><cite class=\"citation web\" id=\"CITEREFNier\">Nier, Erlend Walter. <a class=\"external text\" href=\"https://www.imf.org/external/pubs/ft/wp/2009/wp0970.pdf\" rel=\"nofollow\">\"Financial Stability Frameworks and the Role of Central Banks: Lessons from the Crisis\"</a> <span class=\"cs1-format\">(PDF)</span>. <a href=\"/wiki/International_Monetary_Fund\" title=\"International Monetary Fund\">International Monetary Fund</a>.</cite><span class=\"Z3988\" title=\"ctx_ver=Z39.88-2004&amp;rft_val_fmt=info%3Aofi%2Ffmt%3Akev%3Amtx%3Abook&amp;rft.genre=unknown&amp;rft.btitle=Financial+Stability+Frameworks+and+the+Role+of+Central+Banks%3A+Lessons+from+the+Crisis&amp;rft.pub=International+Monetary+Fund&amp;rft.aulast=Nier&amp;rft.aufirst=Erlend+Walter&amp;rft_id=https%3A%2F%2Fwww.imf.org%2Fexternal%2Fpubs%2Fft%2Fwp%2F2009%2Fwp0970.pdf&amp;rfr_id=info%3Asid%2Fen.wikipedia.org%3AStock+market\"></span><link href=\"mw-data:TemplateStyles:r951705291\" rel=\"mw-deduplicated-inline-style\"/></span>\n",
       "</li>\n",
       "<li id=\"cite_note-49\"><span class=\"mw-cite-backlink\"><b><a href=\"#cite_ref-49\">^</a></b></span> <span class=\"reference-text\"><cite class=\"citation web\"><a class=\"external text\" href=\"http://www.investinganswers.com/financial-dictionary/investing/clearinghouse-2830\" rel=\"nofollow\">\"Clearinghouse Definition &amp; Example | Investing Answers\"</a>. <i>www.investinganswers.com</i><span class=\"reference-accessdate\">. Retrieved <span class=\"nowrap\">October 20,</span> 2015</span>.</cite><span class=\"Z3988\" title=\"ctx_ver=Z39.88-2004&amp;rft_val_fmt=info%3Aofi%2Ffmt%3Akev%3Amtx%3Ajournal&amp;rft.genre=unknown&amp;rft.jtitle=www.investinganswers.com&amp;rft.atitle=Clearinghouse+Definition+%26+Example+%7C+Investing+Answers&amp;rft_id=http%3A%2F%2Fwww.investinganswers.com%2Ffinancial-dictionary%2Finvesting%2Fclearinghouse-2830&amp;rfr_id=info%3Asid%2Fen.wikipedia.org%3AStock+market\"></span><link href=\"mw-data:TemplateStyles:r951705291\" rel=\"mw-deduplicated-inline-style\"/></span>\n",
       "</li>\n",
       "<li id=\"cite_note-50\"><span class=\"mw-cite-backlink\"><b><a href=\"#cite_ref-50\">^</a></b></span> <span class=\"reference-text\"><cite class=\"citation journal\" id=\"CITEREFLevine2002\">Levine, Ross (2002). \"Bank-Based or Market-Based Financial Systems: Which Is Better?\". <i>Journal of Financial Intermediation</i>. <b>11</b> (4): 398–428. <a class=\"mw-redirect\" href=\"/wiki/CiteSeerX_(identifier)\" title=\"CiteSeerX (identifier)\">CiteSeerX</a> <span class=\"cs1-lock-free\" title=\"Freely accessible\"><a class=\"external text\" href=\"//citeseerx.ist.psu.edu/viewdoc/summary?doi=10.1.1.196.658\" rel=\"nofollow\">10.1.1.196.658</a></span>. <a class=\"mw-redirect\" href=\"/wiki/Doi_(identifier)\" title=\"Doi (identifier)\">doi</a>:<a class=\"external text\" href=\"https://doi.org/10.1006%2Fjfin.2002.0341\" rel=\"nofollow\">10.1006/jfin.2002.0341</a>.</cite><span class=\"Z3988\" title=\"ctx_ver=Z39.88-2004&amp;rft_val_fmt=info%3Aofi%2Ffmt%3Akev%3Amtx%3Ajournal&amp;rft.genre=article&amp;rft.jtitle=Journal+of+Financial+Intermediation&amp;rft.atitle=Bank-Based+or+Market-Based+Financial+Systems%3A+Which+Is+Better%3F&amp;rft.volume=11&amp;rft.issue=4&amp;rft.pages=398-428&amp;rft.date=2002&amp;rft_id=%2F%2Fciteseerx.ist.psu.edu%2Fviewdoc%2Fsummary%3Fdoi%3D10.1.1.196.658&amp;rft_id=info%3Adoi%2F10.1006%2Fjfin.2002.0341&amp;rft.aulast=Levine&amp;rft.aufirst=Ross&amp;rfr_id=info%3Asid%2Fen.wikipedia.org%3AStock+market\"></span><link href=\"mw-data:TemplateStyles:r951705291\" rel=\"mw-deduplicated-inline-style\"/></span>\n",
       "</li>\n",
       "<li id=\"cite_note-51\"><span class=\"mw-cite-backlink\"><b><a href=\"#cite_ref-51\">^</a></b></span> <span class=\"reference-text\"><a class=\"external free\" href=\"http://www.iosco.org/library/pubdocs/pdf/IOSCOPD354.pdf\" rel=\"nofollow\">http://www.iosco.org/library/pubdocs/pdf/IOSCOPD354.pdf</a></span>\n",
       "</li>\n",
       "<li id=\"cite_note-gov.uk-52\"><span class=\"mw-cite-backlink\">^ <a href=\"#cite_ref-gov.uk_52-0\"><sup><i><b>a</b></i></sup></a> <a href=\"#cite_ref-gov.uk_52-1\"><sup><i><b>b</b></i></sup></a></span> <span class=\"reference-text\"><cite class=\"citation web\"><a class=\"external text\" href=\"https://www.gov.uk/government/collections/future-of-computer-trading\" rel=\"nofollow\">\"Future of computer trading\"</a>. <i>www.gov.uk</i><span class=\"reference-accessdate\">. Retrieved <span class=\"nowrap\">August 14,</span> 2015</span>.</cite><span class=\"Z3988\" title=\"ctx_ver=Z39.88-2004&amp;rft_val_fmt=info%3Aofi%2Ffmt%3Akev%3Amtx%3Ajournal&amp;rft.genre=unknown&amp;rft.jtitle=www.gov.uk&amp;rft.atitle=Future+of+computer+trading&amp;rft_id=https%3A%2F%2Fwww.gov.uk%2Fgovernment%2Fcollections%2Ffuture-of-computer-trading&amp;rfr_id=info%3Asid%2Fen.wikipedia.org%3AStock+market\"></span><link href=\"mw-data:TemplateStyles:r951705291\" rel=\"mw-deduplicated-inline-style\"/></span>\n",
       "</li>\n",
       "<li id=\"cite_note-53\"><span class=\"mw-cite-backlink\"><b><a href=\"#cite_ref-53\">^</a></b></span> <span class=\"reference-text\"><cite class=\"citation book\" id=\"CITEREFAlexanderDhumaleEatwell2006\">Alexander, K.; Dhumale, R.; Eatwell, J. (2006). <a class=\"external text\" href=\"https://archive.org/details/globalgovernance0000alex\" rel=\"nofollow\"><i>Global Governance of Financial Systems: The International Regulation of Systemic Risk</i></a>. Oxford University Press. <a class=\"mw-redirect\" href=\"/wiki/ISBN_(identifier)\" title=\"ISBN (identifier)\">ISBN</a> <a href=\"/wiki/Special:BookSources/978-0-19-516698-9\" title=\"Special:BookSources/978-0-19-516698-9\"><bdi>978-0-19-516698-9</bdi></a>.</cite><span class=\"Z3988\" title=\"ctx_ver=Z39.88-2004&amp;rft_val_fmt=info%3Aofi%2Ffmt%3Akev%3Amtx%3Abook&amp;rft.genre=book&amp;rft.btitle=Global+Governance+of+Financial+Systems%3A+The+International+Regulation+of+Systemic+Risk&amp;rft.pub=Oxford+University+Press&amp;rft.date=2006&amp;rft.isbn=978-0-19-516698-9&amp;rft.aulast=Alexander&amp;rft.aufirst=K.&amp;rft.au=Dhumale%2C+R.&amp;rft.au=Eatwell%2C+J.&amp;rft_id=https%3A%2F%2Farchive.org%2Fdetails%2Fglobalgovernance0000alex&amp;rfr_id=info%3Asid%2Fen.wikipedia.org%3AStock+market\"></span><link href=\"mw-data:TemplateStyles:r951705291\" rel=\"mw-deduplicated-inline-style\"/></span>\n",
       "</li>\n",
       "<li id=\"cite_note-Cutler,_D._Poterba,_J._&amp;_Summers,_L._1991_520–546-54\"><span class=\"mw-cite-backlink\">^ <a href=\"#cite_ref-Cutler,_D._Poterba,_J._&amp;_Summers,_L._1991_520–546_54-0\"><sup><i><b>a</b></i></sup></a> <a href=\"#cite_ref-Cutler,_D._Poterba,_J._&amp;_Summers,_L._1991_520–546_54-1\"><sup><i><b>b</b></i></sup></a></span> <span class=\"reference-text\"><cite class=\"citation journal\" id=\"CITEREFCutler,_D._Poterba,_J._&amp;_Summers,_L.1991\">Cutler, D. Poterba, J. &amp; Summers, L. (1991). \"Speculative dynamics\". <i>Review of Economic Studies</i>. <b>58</b> (3): 520–546. <a class=\"mw-redirect\" href=\"/wiki/Doi_(identifier)\" title=\"Doi (identifier)\">doi</a>:<a class=\"external text\" href=\"https://doi.org/10.2307%2F2298010\" rel=\"nofollow\">10.2307/2298010</a>. <a class=\"mw-redirect\" href=\"/wiki/JSTOR_(identifier)\" title=\"JSTOR (identifier)\">JSTOR</a> <a class=\"external text\" href=\"//www.jstor.org/stable/2298010\" rel=\"nofollow\">2298010</a>.</cite><span class=\"Z3988\" title=\"ctx_ver=Z39.88-2004&amp;rft_val_fmt=info%3Aofi%2Ffmt%3Akev%3Amtx%3Ajournal&amp;rft.genre=article&amp;rft.jtitle=Review+of+Economic+Studies&amp;rft.atitle=Speculative+dynamics&amp;rft.volume=58&amp;rft.issue=3&amp;rft.pages=520-546&amp;rft.date=1991&amp;rft_id=info%3Adoi%2F10.2307%2F2298010&amp;rft_id=%2F%2Fwww.jstor.org%2Fstable%2F2298010&amp;rft.au=Cutler%2C+D.+Poterba%2C+J.+%26+Summers%2C+L.&amp;rfr_id=info%3Asid%2Fen.wikipedia.org%3AStock+market\"></span><span class=\"cs1-maint citation-comment\">CS1 maint: multiple names: authors list (<a href=\"/wiki/Category:CS1_maint:_multiple_names:_authors_list\" title=\"Category:CS1 maint: multiple names: authors list\">link</a>)</span><link href=\"mw-data:TemplateStyles:r951705291\" rel=\"mw-deduplicated-inline-style\"/></span>\n",
       "</li>\n",
       "<li id=\"cite_note-55\"><span class=\"mw-cite-backlink\"><b><a href=\"#cite_ref-55\">^</a></b></span> <span class=\"reference-text\"><cite class=\"citation web\"><a class=\"external text\" href=\"http://cnx.org/contents/9UMcK-Dv@2/Non-Gaussian-Observations\" rel=\"nofollow\">\"OpenStax CNX\"</a>. <i>cnx.org</i>. Rice University<span class=\"reference-accessdate\">. Retrieved <span class=\"nowrap\">February 22,</span> 2017</span>.</cite><span class=\"Z3988\" title=\"ctx_ver=Z39.88-2004&amp;rft_val_fmt=info%3Aofi%2Ffmt%3Akev%3Amtx%3Ajournal&amp;rft.genre=unknown&amp;rft.jtitle=cnx.org&amp;rft.atitle=OpenStax+CNX&amp;rft_id=http%3A%2F%2Fcnx.org%2Fcontents%2F9UMcK-Dv%402%2FNon-Gaussian-Observations&amp;rfr_id=info%3Asid%2Fen.wikipedia.org%3AStock+market\"></span><link href=\"mw-data:TemplateStyles:r951705291\" rel=\"mw-deduplicated-inline-style\"/></span>\n",
       "</li>\n",
       "<li id=\"cite_note-56\"><span class=\"mw-cite-backlink\"><b><a href=\"#cite_ref-56\">^</a></b></span> <span class=\"reference-text\"><cite class=\"citation book\" id=\"CITEREFMandelbrot,_BenoitHudson,_Richard_L.2006\">Mandelbrot, Benoit &amp; Hudson, Richard L. (2006). <i>The Misbehavior of Markets: A Fractal View of Financial Turbulence</i> (annot. ed.). Basic Books. <a class=\"mw-redirect\" href=\"/wiki/ISBN_(identifier)\" title=\"ISBN (identifier)\">ISBN</a> <a href=\"/wiki/Special:BookSources/978-0-465-04357-6\" title=\"Special:BookSources/978-0-465-04357-6\"><bdi>978-0-465-04357-6</bdi></a>.</cite><span class=\"Z3988\" title=\"ctx_ver=Z39.88-2004&amp;rft_val_fmt=info%3Aofi%2Ffmt%3Akev%3Amtx%3Abook&amp;rft.genre=book&amp;rft.btitle=The+Misbehavior+of+Markets%3A+A+Fractal+View+of+Financial+Turbulence&amp;rft.edition=annot.&amp;rft.pub=Basic+Books&amp;rft.date=2006&amp;rft.isbn=978-0-465-04357-6&amp;rft.au=Mandelbrot%2C+Benoit&amp;rft.au=Hudson%2C+Richard+L.&amp;rfr_id=info%3Asid%2Fen.wikipedia.org%3AStock+market\"></span><link href=\"mw-data:TemplateStyles:r951705291\" rel=\"mw-deduplicated-inline-style\"/></span>\n",
       "</li>\n",
       "<li id=\"cite_note-57\"><span class=\"mw-cite-backlink\"><b><a href=\"#cite_ref-57\">^</a></b></span> <span class=\"reference-text\"><cite class=\"citation book\" id=\"CITEREFTaleb,_Nassim_Nicholas2008\">Taleb, Nassim Nicholas (2008). <a class=\"external text\" href=\"https://archive.org/details/fooledbyrandomne00tale\" rel=\"nofollow\"><i>Fooled by Randomness: The Hidden Role of Chance in Life and in the Markets</i></a> (2nd ed.). Random House. <a class=\"mw-redirect\" href=\"/wiki/ISBN_(identifier)\" title=\"ISBN (identifier)\">ISBN</a> <a href=\"/wiki/Special:BookSources/978-1-4000-6793-0\" title=\"Special:BookSources/978-1-4000-6793-0\"><bdi>978-1-4000-6793-0</bdi></a>.</cite><span class=\"Z3988\" title=\"ctx_ver=Z39.88-2004&amp;rft_val_fmt=info%3Aofi%2Ffmt%3Akev%3Amtx%3Abook&amp;rft.genre=book&amp;rft.btitle=Fooled+by+Randomness%3A+The+Hidden+Role+of+Chance+in+Life+and+in+the+Markets&amp;rft.edition=2nd&amp;rft.pub=Random+House&amp;rft.date=2008&amp;rft.isbn=978-1-4000-6793-0&amp;rft.au=Taleb%2C+Nassim+Nicholas&amp;rft_id=https%3A%2F%2Farchive.org%2Fdetails%2Ffooledbyrandomne00tale&amp;rfr_id=info%3Asid%2Fen.wikipedia.org%3AStock+market\"></span><link href=\"mw-data:TemplateStyles:r951705291\" rel=\"mw-deduplicated-inline-style\"/></span>\n",
       "</li>\n",
       "<li id=\"cite_note-58\"><span class=\"mw-cite-backlink\"><b><a href=\"#cite_ref-58\">^</a></b></span> <span class=\"reference-text\"><cite class=\"citation journal\" id=\"CITEREFTversky,_A.Kahneman,_D.1974\">Tversky, A. &amp; Kahneman, D. (1974). \"Judgement under uncertainty: heuristics and biases\". <i>Science</i>. <b>185</b> (4157): 1124–1131. <a class=\"mw-redirect\" href=\"/wiki/Doi_(identifier)\" title=\"Doi (identifier)\">doi</a>:<a class=\"external text\" href=\"https://doi.org/10.1126%2Fscience.185.4157.1124\" rel=\"nofollow\">10.1126/science.185.4157.1124</a>. <a class=\"mw-redirect\" href=\"/wiki/PMID_(identifier)\" title=\"PMID (identifier)\">PMID</a> <a class=\"external text\" href=\"//pubmed.ncbi.nlm.nih.gov/17835457\" rel=\"nofollow\">17835457</a>.</cite><span class=\"Z3988\" title=\"ctx_ver=Z39.88-2004&amp;rft_val_fmt=info%3Aofi%2Ffmt%3Akev%3Amtx%3Ajournal&amp;rft.genre=article&amp;rft.jtitle=Science&amp;rft.atitle=Judgement+under+uncertainty%3A+heuristics+and+biases&amp;rft.volume=185&amp;rft.issue=4157&amp;rft.pages=1124-1131&amp;rft.date=1974&amp;rft_id=info%3Adoi%2F10.1126%2Fscience.185.4157.1124&amp;rft_id=info%3Apmid%2F17835457&amp;rft.au=Tversky%2C+A.&amp;rft.au=Kahneman%2C+D.&amp;rfr_id=info%3Asid%2Fen.wikipedia.org%3AStock+market\"></span><link href=\"mw-data:TemplateStyles:r951705291\" rel=\"mw-deduplicated-inline-style\"/></span>\n",
       "</li>\n",
       "<li id=\"cite_note-59\"><span class=\"mw-cite-backlink\"><b><a href=\"#cite_ref-59\">^</a></b></span> <span class=\"reference-text\"><cite class=\"citation journal\" id=\"CITEREFMorrisShin1999\"><a href=\"/wiki/Stephen_Morris_(game_theorist)\" title=\"Stephen Morris (game theorist)\">Morris, Stephen</a>; Shin, Hyun Song (1999). <a class=\"external text\" href=\"http://www.princeton.edu/~smorris/Published/paper_21_Risk_Management.pdf\" rel=\"nofollow\">\"Risk management with interdependent choice\"</a> <span class=\"cs1-format\">(PDF)</span>. <i>Oxford Review of Economic Policy</i>. <b>15</b> (3): 52–62. <a class=\"mw-redirect\" href=\"/wiki/CiteSeerX_(identifier)\" title=\"CiteSeerX (identifier)\">CiteSeerX</a> <span class=\"cs1-lock-free\" title=\"Freely accessible\"><a class=\"external text\" href=\"//citeseerx.ist.psu.edu/viewdoc/summary?doi=10.1.1.381.3080\" rel=\"nofollow\">10.1.1.381.3080</a></span>. <a class=\"mw-redirect\" href=\"/wiki/Doi_(identifier)\" title=\"Doi (identifier)\">doi</a>:<a class=\"external text\" href=\"https://doi.org/10.1093%2Foxrep%2F15.3.52\" rel=\"nofollow\">10.1093/oxrep/15.3.52</a>.</cite><span class=\"Z3988\" title=\"ctx_ver=Z39.88-2004&amp;rft_val_fmt=info%3Aofi%2Ffmt%3Akev%3Amtx%3Ajournal&amp;rft.genre=article&amp;rft.jtitle=Oxford+Review+of+Economic+Policy&amp;rft.atitle=Risk+management+with+interdependent+choice&amp;rft.volume=15&amp;rft.issue=3&amp;rft.pages=52-62&amp;rft.date=1999&amp;rft_id=%2F%2Fciteseerx.ist.psu.edu%2Fviewdoc%2Fsummary%3Fdoi%3D10.1.1.381.3080&amp;rft_id=info%3Adoi%2F10.1093%2Foxrep%2F15.3.52&amp;rft.aulast=Morris&amp;rft.aufirst=Stephen&amp;rft.au=Shin%2C+Hyun+Song&amp;rft_id=http%3A%2F%2Fwww.princeton.edu%2F~smorris%2FPublished%2Fpaper_21_Risk_Management.pdf&amp;rfr_id=info%3Asid%2Fen.wikipedia.org%3AStock+market\"></span><link href=\"mw-data:TemplateStyles:r951705291\" rel=\"mw-deduplicated-inline-style\"/></span>\n",
       "</li>\n",
       "<li id=\"cite_note-60\"><span class=\"mw-cite-backlink\"><b><a href=\"#cite_ref-60\">^</a></b></span> <span class=\"reference-text\"><cite class=\"citation web\" id=\"CITEREFDavid_Fabian2014\">David Fabian (February 9, 2014). <a class=\"external text\" href=\"http://seekingalpha.com/article/2006211-why-the-market-doesnt-care-where-you-think-it-should-go\" rel=\"nofollow\">\"Why The Market Doesn't Care Where You Think It Should Go\"</a>. <i>Seeking Alpha</i><span class=\"reference-accessdate\">. Retrieved <span class=\"nowrap\">August 14,</span> 2015</span>.</cite><span class=\"Z3988\" title=\"ctx_ver=Z39.88-2004&amp;rft_val_fmt=info%3Aofi%2Ffmt%3Akev%3Amtx%3Ajournal&amp;rft.genre=unknown&amp;rft.jtitle=Seeking+Alpha&amp;rft.atitle=Why+The+Market+Doesn%27t+Care+Where+You+Think+It+Should+Go&amp;rft.date=2014-02-09&amp;rft.au=David+Fabian&amp;rft_id=http%3A%2F%2Fseekingalpha.com%2Farticle%2F2006211-why-the-market-doesnt-care-where-you-think-it-should-go&amp;rfr_id=info%3Asid%2Fen.wikipedia.org%3AStock+market\"></span><link href=\"mw-data:TemplateStyles:r951705291\" rel=\"mw-deduplicated-inline-style\"/></span>\n",
       "</li>\n",
       "<li id=\"cite_note-61\"><span class=\"mw-cite-backlink\"><b><a href=\"#cite_ref-61\">^</a></b></span> <span class=\"reference-text\">Sergey Perminov, <i>Trendocracy and Stock Market Manipulations</i> (2008, <link href=\"mw-data:TemplateStyles:r951705291\" rel=\"mw-deduplicated-inline-style\"/><a class=\"mw-redirect\" href=\"/wiki/ISBN_(identifier)\" title=\"ISBN (identifier)\">ISBN</a> <a href=\"/wiki/Special:BookSources/978-1-4357-5244-3\" title=\"Special:BookSources/978-1-4357-5244-3\">978-1-4357-5244-3</a>).</span>\n",
       "</li>\n",
       "<li id=\"cite_note-62\"><span class=\"mw-cite-backlink\"><b><a href=\"#cite_ref-62\">^</a></b></span> <span class=\"reference-text\"><cite class=\"citation web\"><a class=\"external text\" href=\"https://www.cnbc.com/id/27166818\" rel=\"nofollow\">\"News Headlines\"</a>. Cnbc.com. October 13, 2008<span class=\"reference-accessdate\">. Retrieved <span class=\"nowrap\">March 5,</span> 2010</span>.</cite><span class=\"Z3988\" title=\"ctx_ver=Z39.88-2004&amp;rft_val_fmt=info%3Aofi%2Ffmt%3Akev%3Amtx%3Abook&amp;rft.genre=unknown&amp;rft.btitle=News+Headlines&amp;rft.pub=Cnbc.com&amp;rft.date=2008-10-13&amp;rft_id=https%3A%2F%2Fwww.cnbc.com%2Fid%2F27166818&amp;rfr_id=info%3Asid%2Fen.wikipedia.org%3AStock+market\"></span><link href=\"mw-data:TemplateStyles:r951705291\" rel=\"mw-deduplicated-inline-style\"/></span>\n",
       "</li>\n",
       "<li id=\"cite_note-IE2-63\"><span class=\"mw-cite-backlink\">^ <a href=\"#cite_ref-IE2_63-0\"><sup><i><b>a</b></i></sup></a> <a href=\"#cite_ref-IE2_63-1\"><sup><i><b>b</b></i></sup></a> <a href=\"#cite_ref-IE2_63-2\"><sup><i><b>c</b></i></sup></a></span> <span class=\"reference-text\"><cite class=\"citation book\" id=\"CITEREFShiller2005\">Shiller, Robert (2005). <a href=\"/wiki/Irrational_Exuberance_(book)\" title=\"Irrational Exuberance (book)\"><i>Irrational Exuberance</i></a> (2nd ed.). <a href=\"/wiki/Princeton_University_Press\" title=\"Princeton University Press\">Princeton University Press</a>. <a class=\"mw-redirect\" href=\"/wiki/ISBN_(identifier)\" title=\"ISBN (identifier)\">ISBN</a> <a href=\"/wiki/Special:BookSources/978-0-691-12335-6\" title=\"Special:BookSources/978-0-691-12335-6\"><bdi>978-0-691-12335-6</bdi></a>.</cite><span class=\"Z3988\" title=\"ctx_ver=Z39.88-2004&amp;rft_val_fmt=info%3Aofi%2Ffmt%3Akev%3Amtx%3Abook&amp;rft.genre=book&amp;rft.btitle=Irrational+Exuberance&amp;rft.edition=2nd&amp;rft.pub=Princeton+University+Press&amp;rft.date=2005&amp;rft.isbn=978-0-691-12335-6&amp;rft.aulast=Shiller&amp;rft.aufirst=Robert&amp;rfr_id=info%3Asid%2Fen.wikipedia.org%3AStock+market\"></span><link href=\"mw-data:TemplateStyles:r951705291\" rel=\"mw-deduplicated-inline-style\"/></span>\n",
       "</li>\n",
       "<li id=\"cite_note-64\"><span class=\"mw-cite-backlink\"><b><a href=\"#cite_ref-64\">^</a></b></span> <span class=\"reference-text\"><a class=\"external text\" href=\"http://fixglobal.com/home/completing-the-circuit-canadian-regulation/\" rel=\"nofollow\">Completing the Circuit: Canadian Regulation</a>, FIXGlobal, February 2012</span>\n",
       "</li>\n",
       "<li id=\"cite_note-65\"><span class=\"mw-cite-backlink\"><b><a href=\"#cite_ref-65\">^</a></b></span> <span class=\"reference-text\">\n",
       "<cite class=\"citation web\"><a class=\"external text\" href=\"https://www.nyse.com/markets/nyse/trading-info\" rel=\"nofollow\">\"Trading Information\"</a>. <a href=\"/wiki/New_York_Stock_Exchange\" title=\"New York Stock Exchange\">New York Stock Exchange</a>.</cite><span class=\"Z3988\" title=\"ctx_ver=Z39.88-2004&amp;rft_val_fmt=info%3Aofi%2Ffmt%3Akev%3Amtx%3Abook&amp;rft.genre=unknown&amp;rft.btitle=Trading+Information&amp;rft.pub=New+York+Stock+Exchange&amp;rft_id=https%3A%2F%2Fwww.nyse.com%2Fmarkets%2Fnyse%2Ftrading-info&amp;rfr_id=info%3Asid%2Fen.wikipedia.org%3AStock+market\"></span><link href=\"mw-data:TemplateStyles:r951705291\" rel=\"mw-deduplicated-inline-style\"/></span>\n",
       "</li>\n",
       "<li id=\"cite_note-66\"><span class=\"mw-cite-backlink\"><b><a href=\"#cite_ref-66\">^</a></b></span> <span class=\"reference-text\"><cite class=\"citation web\"><a class=\"external text\" href=\"https://personal.vanguard.com/us/content/Funds/FundsToolsCircuitBreakersJSP.jsp\" rel=\"nofollow\">\"Market volatility regulations\"</a>. <a href=\"/wiki/The_Vanguard_Group\" title=\"The Vanguard Group\">The Vanguard Group</a>.</cite><span class=\"Z3988\" title=\"ctx_ver=Z39.88-2004&amp;rft_val_fmt=info%3Aofi%2Ffmt%3Akev%3Amtx%3Abook&amp;rft.genre=unknown&amp;rft.btitle=Market+volatility+regulations&amp;rft.pub=The+Vanguard+Group&amp;rft_id=https%3A%2F%2Fpersonal.vanguard.com%2Fus%2Fcontent%2FFunds%2FFundsToolsCircuitBreakersJSP.jsp&amp;rfr_id=info%3Asid%2Fen.wikipedia.org%3AStock+market\"></span><link href=\"mw-data:TemplateStyles:r951705291\" rel=\"mw-deduplicated-inline-style\"/></span>\n",
       "</li>\n",
       "</ol></div>\n",
       "<h2><span class=\"mw-headline\" id=\"Further_reading\">Further reading</span><span class=\"mw-editsection\"><span class=\"mw-editsection-bracket\">[</span><a href=\"/w/index.php?title=Stock_market&amp;action=edit&amp;section=32\" title=\"Edit section: Further reading\">edit</a><span class=\"mw-editsection-bracket\">]</span></span></h2>\n",
       "<style data-mw-deduplicate=\"TemplateStyles:r886047268\">.mw-parser-output .refbegin{font-size:90%;margin-bottom:0.5em}.mw-parser-output .refbegin-hanging-indents>ul{list-style-type:none;margin-left:0}.mw-parser-output .refbegin-hanging-indents>ul>li,.mw-parser-output .refbegin-hanging-indents>dl>dd{margin-left:0;padding-left:3.2em;text-indent:-3.2em;list-style:none}.mw-parser-output .refbegin-100{font-size:100%}</style><div class=\"refbegin reflist\" style=\"\">\n",
       "<ul><li><cite class=\"citation book\" id=\"CITEREFHamilton1922\">Hamilton, W. P. (1922). <a class=\"external text\" href=\"https://archive.org/details/stockmarketbarom00hami_1\" rel=\"nofollow\"><i>The Stock Market Baraometer</i></a>. New York: <a class=\"mw-redirect\" href=\"/wiki/John_Wiley_%26_Sons\" title=\"John Wiley &amp; Sons\">John Wiley &amp; Sons Inc</a> (1998 reprint). <a class=\"mw-redirect\" href=\"/wiki/ISBN_(identifier)\" title=\"ISBN (identifier)\">ISBN</a> <a href=\"/wiki/Special:BookSources/978-0-471-24764-7\" title=\"Special:BookSources/978-0-471-24764-7\"><bdi>978-0-471-24764-7</bdi></a>.</cite><span class=\"Z3988\" title=\"ctx_ver=Z39.88-2004&amp;rft_val_fmt=info%3Aofi%2Ffmt%3Akev%3Amtx%3Abook&amp;rft.genre=book&amp;rft.btitle=The+Stock+Market+Baraometer&amp;rft.place=New+York&amp;rft.pub=John+Wiley+%26+Sons+Inc+%281998+reprint%29&amp;rft.date=1922&amp;rft.isbn=978-0-471-24764-7&amp;rft.aulast=Hamilton&amp;rft.aufirst=W.+P.&amp;rft_id=https%3A%2F%2Farchive.org%2Fdetails%2Fstockmarketbarom00hami_1&amp;rfr_id=info%3Asid%2Fen.wikipedia.org%3AStock+market\"></span><link href=\"mw-data:TemplateStyles:r951705291\" rel=\"mw-deduplicated-inline-style\"/></li>\n",
       "<li><cite class=\"citation book\" id=\"CITEREFPreda,_Alex2009\">Preda, Alex (2009). <i>Framing Finance: The Boundaries of Markets and Modern Capitalism</i>. <a href=\"/wiki/University_of_Chicago_Press\" title=\"University of Chicago Press\">University of Chicago Press</a>. <a class=\"mw-redirect\" href=\"/wiki/ISBN_(identifier)\" title=\"ISBN (identifier)\">ISBN</a> <a href=\"/wiki/Special:BookSources/978-0-226-67932-7\" title=\"Special:BookSources/978-0-226-67932-7\"><bdi>978-0-226-67932-7</bdi></a>.</cite><span class=\"Z3988\" title=\"ctx_ver=Z39.88-2004&amp;rft_val_fmt=info%3Aofi%2Ffmt%3Akev%3Amtx%3Abook&amp;rft.genre=book&amp;rft.btitle=Framing+Finance%3A+The+Boundaries+of+Markets+and+Modern+Capitalism&amp;rft.pub=University+of+Chicago+Press&amp;rft.date=2009&amp;rft.isbn=978-0-226-67932-7&amp;rft.au=Preda%2C+Alex&amp;rfr_id=info%3Asid%2Fen.wikipedia.org%3AStock+market\"></span><link href=\"mw-data:TemplateStyles:r951705291\" rel=\"mw-deduplicated-inline-style\"/></li>\n",
       "<li><cite class=\"citation encyclopaedia\" id=\"CITEREFSiegel2008\"><a href=\"/wiki/Jeremy_Siegel\" title=\"Jeremy Siegel\">Siegel, Jeremy J.</a> (2008). <a class=\"external text\" href=\"http://www.econlib.org/library/Enc/StockMarket.html\" rel=\"nofollow\">\"Stock Market\"</a>.  In <a href=\"/wiki/David_R._Henderson\" title=\"David R. Henderson\">David R. Henderson</a> (ed.). <i><a class=\"mw-redirect\" href=\"/wiki/Concise_Encyclopedia_of_Economics\" title=\"Concise Encyclopedia of Economics\">Concise Encyclopedia of Economics</a></i> (2nd ed.). Indianapolis: <a class=\"mw-redirect\" href=\"/wiki/Library_of_Economics_and_Liberty\" title=\"Library of Economics and Liberty\">Library of Economics and Liberty</a>. <a class=\"mw-redirect\" href=\"/wiki/ISBN_(identifier)\" title=\"ISBN (identifier)\">ISBN</a> <a href=\"/wiki/Special:BookSources/978-0865976658\" title=\"Special:BookSources/978-0865976658\"><bdi>978-0865976658</bdi></a>. <a class=\"mw-redirect\" href=\"/wiki/OCLC_(identifier)\" title=\"OCLC (identifier)\">OCLC</a> <a class=\"external text\" href=\"//www.worldcat.org/oclc/237794267\" rel=\"nofollow\">237794267</a>.</cite><span class=\"Z3988\" title=\"ctx_ver=Z39.88-2004&amp;rft_val_fmt=info%3Aofi%2Ffmt%3Akev%3Amtx%3Abook&amp;rft.genre=bookitem&amp;rft.atitle=Stock+Market&amp;rft.btitle=Concise+Encyclopedia+of+Economics&amp;rft.place=Indianapolis&amp;rft.edition=2nd&amp;rft.pub=Library+of+Economics+and+Liberty&amp;rft.date=2008&amp;rft_id=info%3Aoclcnum%2F237794267&amp;rft.isbn=978-0865976658&amp;rft.aulast=Siegel&amp;rft.aufirst=Jeremy+J.&amp;rft_id=http%3A%2F%2Fwww.econlib.org%2Flibrary%2FEnc%2FStockMarket.html&amp;rfr_id=info%3Asid%2Fen.wikipedia.org%3AStock+market\"></span><link href=\"mw-data:TemplateStyles:r951705291\" rel=\"mw-deduplicated-inline-style\"/></li></ul>\n",
       "</div>\n",
       "<h2><span class=\"mw-headline\" id=\"External_links\">External links</span><span class=\"mw-editsection\"><span class=\"mw-editsection-bracket\">[</span><a href=\"/w/index.php?title=Stock_market&amp;action=edit&amp;section=33\" title=\"Edit section: External links\">edit</a><span class=\"mw-editsection-bracket\">]</span></span></h2>\n",
       "<table class=\"mbox-small plainlinks sistersitebox\" role=\"presentation\" style=\"background-color:#f9f9f9;border:1px solid #aaa;color:#000\">\n",
       "<tbody><tr>\n",
       "<td class=\"mbox-image\"><img alt=\"\" class=\"noviewer\" data-file-height=\"512\" data-file-width=\"512\" decoding=\"async\" height=\"40\" src=\"//upload.wikimedia.org/wikipedia/commons/thumb/9/99/Wiktionary-logo-en-v2.svg/40px-Wiktionary-logo-en-v2.svg.png\" srcset=\"//upload.wikimedia.org/wikipedia/commons/thumb/9/99/Wiktionary-logo-en-v2.svg/60px-Wiktionary-logo-en-v2.svg.png 1.5x, //upload.wikimedia.org/wikipedia/commons/thumb/9/99/Wiktionary-logo-en-v2.svg/80px-Wiktionary-logo-en-v2.svg.png 2x\" width=\"40\"/></td>\n",
       "<td class=\"mbox-text plainlist\">Look up <i><b><a class=\"extiw\" href=\"https://en.wiktionary.org/wiki/Special:Search/stock_market\" title=\"wiktionary:Special:Search/stock market\">stock market</a></b></i> in Wiktionary, the free dictionary.</td></tr>\n",
       "</tbody></table>\n",
       "<table class=\"mbox-small plainlinks sistersitebox\" role=\"presentation\" style=\"background-color:#f9f9f9;border:1px solid #aaa;color:#000\">\n",
       "<tbody><tr>\n",
       "<td class=\"mbox-image\"><img alt=\"\" class=\"noviewer\" data-file-height=\"355\" data-file-width=\"300\" decoding=\"async\" height=\"40\" src=\"//upload.wikimedia.org/wikipedia/commons/thumb/f/fa/Wikiquote-logo.svg/34px-Wikiquote-logo.svg.png\" srcset=\"//upload.wikimedia.org/wikipedia/commons/thumb/f/fa/Wikiquote-logo.svg/51px-Wikiquote-logo.svg.png 1.5x, //upload.wikimedia.org/wikipedia/commons/thumb/f/fa/Wikiquote-logo.svg/68px-Wikiquote-logo.svg.png 2x\" width=\"34\"/></td>\n",
       "<td class=\"mbox-text plainlist\">Wikiquote has quotations related to: <i><b><a class=\"extiw\" href=\"https://en.wikiquote.org/wiki/Special:Search/Stock_market\" title=\"q:Special:Search/Stock market\">Stock market</a></b></i></td></tr>\n",
       "</tbody></table>\n",
       "<ul><li><a class=\"external text\" href=\"https://curlie.org/Business/Investing/Stocks_and_Bonds/Exchanges/\" rel=\"nofollow\">Stock exchanges</a> at <a class=\"mw-redirect\" href=\"/wiki/Curlie\" title=\"Curlie\">Curlie</a></li>\n",
       "<li><a class=\"external text\" href=\"https://curlie.org/Home/Personal_Finance/Investing/Stocks/\" rel=\"nofollow\">Stocks investing</a> at <a class=\"mw-redirect\" href=\"/wiki/Curlie\" title=\"Curlie\">Curlie</a></li></ul>\n",
       "<div aria-labelledby=\"Financial_markets\" class=\"navbox\" role=\"navigation\" style=\"padding:3px\"><table class=\"nowraplinks hlist mw-collapsible autocollapse navbox-inner\" style=\"border-spacing:0;background:transparent;color:inherit\"><tbody><tr><th class=\"navbox-title\" colspan=\"2\" scope=\"col\"><div class=\"plainlinks hlist navbar mini\"><ul><li class=\"nv-view\"><a href=\"/wiki/Template:Financial_markets_navigation\" title=\"Template:Financial markets navigation\"><abbr style=\";;background:none transparent;border:none;-moz-box-shadow:none;-webkit-box-shadow:none;box-shadow:none; padding:0;\" title=\"View this template\">v</abbr></a></li><li class=\"nv-talk\"><a href=\"/wiki/Template_talk:Financial_markets_navigation\" title=\"Template talk:Financial markets navigation\"><abbr style=\";;background:none transparent;border:none;-moz-box-shadow:none;-webkit-box-shadow:none;box-shadow:none; padding:0;\" title=\"Discuss this template\">t</abbr></a></li><li class=\"nv-edit\"><a class=\"external text\" href=\"https://en.wikipedia.org/w/index.php?title=Template:Financial_markets_navigation&amp;action=edit\"><abbr style=\";;background:none transparent;border:none;-moz-box-shadow:none;-webkit-box-shadow:none;box-shadow:none; padding:0;\" title=\"Edit this template\">e</abbr></a></li></ul></div><div id=\"Financial_markets\" style=\"font-size:114%;margin:0 4em\"><a href=\"/wiki/Financial_market\" title=\"Financial market\">Financial markets</a></div></th></tr><tr><th class=\"navbox-group\" scope=\"row\" style=\"width:1%\">Types of <a href=\"/wiki/Capital_market\" title=\"Capital market\">markets</a></th><td class=\"navbox-list navbox-odd\" style=\"text-align:left;border-left-width:2px;border-left-style:solid;width:100%;padding:0px\"><div style=\"padding:0em 0.25em\">\n",
       "<ul><li><a href=\"/wiki/Primary_market\" title=\"Primary market\">Primary market</a></li>\n",
       "<li><a href=\"/wiki/Secondary_market\" title=\"Secondary market\">Secondary market</a></li>\n",
       "<li><a href=\"/wiki/Third_market\" title=\"Third market\">Third market</a></li>\n",
       "<li><a href=\"/wiki/Fourth_market\" title=\"Fourth market\">Fourth market</a></li></ul>\n",
       "</div></td></tr><tr><th class=\"navbox-group\" scope=\"row\" style=\"width:1%\">Types of <a href=\"/wiki/Stock\" title=\"Stock\">stocks</a></th><td class=\"navbox-list navbox-even\" style=\"text-align:left;border-left-width:2px;border-left-style:solid;width:100%;padding:0px\"><div style=\"padding:0em 0.25em\">\n",
       "<ul><li><a href=\"/wiki/Common_stock\" title=\"Common stock\">Common stock</a></li>\n",
       "<li><a href=\"/wiki/Golden_share\" title=\"Golden share\">Golden share</a></li>\n",
       "<li><a href=\"/wiki/Preferred_stock\" title=\"Preferred stock\">Preferred stock</a></li>\n",
       "<li><a href=\"/wiki/Restricted_stock\" title=\"Restricted stock\">Restricted stock</a></li>\n",
       "<li><a href=\"/wiki/Tracking_stock\" title=\"Tracking stock\">Tracking stock</a></li></ul>\n",
       "</div></td></tr><tr><th class=\"navbox-group\" scope=\"row\" style=\"width:1%\"><a href=\"/wiki/Share_capital\" title=\"Share capital\">Share capital</a></th><td class=\"navbox-list navbox-odd\" style=\"text-align:left;border-left-width:2px;border-left-style:solid;width:100%;padding:0px\"><div style=\"padding:0em 0.25em\">\n",
       "<ul><li><a href=\"/wiki/Authorised_capital\" title=\"Authorised capital\">Authorised capital</a></li>\n",
       "<li><a href=\"/wiki/Issued_shares\" title=\"Issued shares\">Issued shares</a></li>\n",
       "<li><a href=\"/wiki/Shares_outstanding\" title=\"Shares outstanding\">Shares outstanding</a></li>\n",
       "<li><a href=\"/wiki/Treasury_stock\" title=\"Treasury stock\">Treasury stock</a></li></ul>\n",
       "</div></td></tr><tr><th class=\"navbox-group\" scope=\"row\" style=\"width:1%\">Participants</th><td class=\"navbox-list navbox-even\" style=\"text-align:left;border-left-width:2px;border-left-style:solid;width:100%;padding:0px\"><div style=\"padding:0em 0.25em\">\n",
       "<ul><li><a href=\"/wiki/Broker-dealer\" title=\"Broker-dealer\">Broker-dealer</a></li>\n",
       "<li><a class=\"mw-redirect\" href=\"/wiki/Day_trader\" title=\"Day trader\">Day trader</a></li>\n",
       "<li><a href=\"/wiki/Floor_broker\" title=\"Floor broker\">Floor broker</a></li>\n",
       "<li><a href=\"/wiki/Floor_trader\" title=\"Floor trader\">Floor trader</a></li>\n",
       "<li><a href=\"/wiki/Investor\" title=\"Investor\">Investor</a></li>\n",
       "<li><a href=\"/wiki/Market_maker\" title=\"Market maker\">Market maker</a></li>\n",
       "<li><a href=\"/wiki/Proprietary_trading\" title=\"Proprietary trading\">Proprietary trader</a></li>\n",
       "<li><a class=\"mw-redirect\" href=\"/wiki/Quantitative_analyst\" title=\"Quantitative analyst\">Quantitative analyst</a></li>\n",
       "<li><a href=\"/wiki/Financial_law\" title=\"Financial law\">Financial law</a></li>\n",
       "<li><a href=\"/wiki/Financial_regulation\" title=\"Financial regulation\">Regulator</a></li>\n",
       "<li><a href=\"/wiki/Stock_trader\" title=\"Stock trader\">Stock trader</a></li></ul>\n",
       "</div></td></tr><tr><th class=\"navbox-group\" scope=\"row\" style=\"width:1%\"><a href=\"/wiki/Stock_exchange\" title=\"Stock exchange\">Exchanges</a></th><td class=\"navbox-list navbox-odd\" style=\"text-align:left;border-left-width:2px;border-left-style:solid;width:100%;padding:0px\"><div style=\"padding:0em 0.25em\">\n",
       "<ul><li><a href=\"/wiki/Electronic_communication_network\" title=\"Electronic communication network\">Electronic communication network</a></li>\n",
       "<li><a href=\"/wiki/List_of_stock_exchanges\" title=\"List of stock exchanges\">List of stock exchanges</a>\n",
       "<ul><li><a href=\"/wiki/List_of_stock_exchange_trading_hours\" title=\"List of stock exchange trading hours\">Trading hours</a></li></ul></li>\n",
       "<li><a href=\"/wiki/Multilateral_trading_facility\" title=\"Multilateral trading facility\">Multilateral trading facility</a></li>\n",
       "<li><a href=\"/wiki/Over-the-counter_(finance)\" title=\"Over-the-counter (finance)\">Over-the-counter</a></li></ul>\n",
       "</div></td></tr><tr><th class=\"navbox-group\" scope=\"row\" style=\"width:1%\"><a href=\"/wiki/Stock_valuation\" title=\"Stock valuation\">Stock valuation</a></th><td class=\"navbox-list navbox-even\" style=\"text-align:left;border-left-width:2px;border-left-style:solid;width:100%;padding:0px\"><div style=\"padding:0em 0.25em\">\n",
       "<ul><li><a href=\"/wiki/Alpha_(finance)\" title=\"Alpha (finance)\">Alpha</a></li>\n",
       "<li><a href=\"/wiki/Arbitrage_pricing_theory\" title=\"Arbitrage pricing theory\">Arbitrage pricing theory</a></li>\n",
       "<li><a href=\"/wiki/Beta_(finance)\" title=\"Beta (finance)\">Beta</a></li>\n",
       "<li><a href=\"/wiki/Bid%E2%80%93ask_spread\" title=\"Bid–ask spread\">Bid–ask spread</a></li>\n",
       "<li><a href=\"/wiki/Book_value\" title=\"Book value\">Book value</a></li>\n",
       "<li><a href=\"/wiki/Capital_asset_pricing_model\" title=\"Capital asset pricing model\">Capital asset pricing model</a></li>\n",
       "<li><a href=\"/wiki/Capital_market_line\" title=\"Capital market line\">Capital market line</a></li>\n",
       "<li><a href=\"/wiki/Dividend_discount_model\" title=\"Dividend discount model\">Dividend discount model</a></li>\n",
       "<li><a href=\"/wiki/Dividend_yield\" title=\"Dividend yield\">Dividend yield</a></li>\n",
       "<li><a href=\"/wiki/Earnings_per_share\" title=\"Earnings per share\">Earnings per share</a></li>\n",
       "<li><a href=\"/wiki/Earnings_yield\" title=\"Earnings yield\">Earnings yield</a></li>\n",
       "<li><a href=\"/wiki/Net_asset_value\" title=\"Net asset value\">Net asset value</a></li>\n",
       "<li><a href=\"/wiki/Security_characteristic_line\" title=\"Security characteristic line\">Security characteristic line</a></li>\n",
       "<li><a href=\"/wiki/Security_market_line\" title=\"Security market line\">Security market line</a></li>\n",
       "<li><a href=\"/wiki/T-model\" title=\"T-model\">T-model</a></li></ul>\n",
       "</div></td></tr><tr><th class=\"navbox-group\" scope=\"row\" style=\"width:1%\">Trading theories<br/> and <a href=\"/wiki/Trading_strategy\" title=\"Trading strategy\">strategies</a></th><td class=\"navbox-list navbox-odd\" style=\"text-align:left;border-left-width:2px;border-left-style:solid;width:100%;padding:0px\"><div style=\"padding:0em 0.25em\">\n",
       "<ul><li><a href=\"/wiki/Algorithmic_trading\" title=\"Algorithmic trading\">Algorithmic trading</a></li>\n",
       "<li><a href=\"/wiki/Buy_and_hold\" title=\"Buy and hold\">Buy and hold</a></li>\n",
       "<li><a href=\"/wiki/Contrarian_investing\" title=\"Contrarian investing\">Contrarian investing</a></li>\n",
       "<li><a href=\"/wiki/Day_trading\" title=\"Day trading\">Day trading</a></li>\n",
       "<li><a href=\"/wiki/Dollar_cost_averaging\" title=\"Dollar cost averaging\">Dollar cost averaging</a></li>\n",
       "<li><a href=\"/wiki/Efficient-market_hypothesis\" title=\"Efficient-market hypothesis\">Efficient-market hypothesis</a></li>\n",
       "<li><a href=\"/wiki/Fundamental_analysis\" title=\"Fundamental analysis\">Fundamental analysis</a></li>\n",
       "<li><a href=\"/wiki/Growth_stock\" title=\"Growth stock\">Growth stock</a></li>\n",
       "<li><a href=\"/wiki/Market_timing\" title=\"Market timing\">Market timing</a></li>\n",
       "<li><a href=\"/wiki/Modern_portfolio_theory\" title=\"Modern portfolio theory\">Modern portfolio theory</a></li>\n",
       "<li><a href=\"/wiki/Momentum_investing\" title=\"Momentum investing\">Momentum investing</a></li>\n",
       "<li><a href=\"/wiki/Mosaic_theory_(investments)\" title=\"Mosaic theory (investments)\">Mosaic theory</a></li>\n",
       "<li><a href=\"/wiki/Pairs_trade\" title=\"Pairs trade\">Pairs trade</a></li>\n",
       "<li><a href=\"/wiki/Post-modern_portfolio_theory\" title=\"Post-modern portfolio theory\">Post-modern portfolio theory</a></li>\n",
       "<li><a href=\"/wiki/Random_walk_hypothesis\" title=\"Random walk hypothesis\">Random walk hypothesis</a></li>\n",
       "<li><a href=\"/wiki/Sector_rotation\" title=\"Sector rotation\">Sector rotation</a></li>\n",
       "<li><a href=\"/wiki/Style_investing\" title=\"Style investing\">Style investing</a></li>\n",
       "<li><a href=\"/wiki/Swing_trading\" title=\"Swing trading\">Swing trading</a></li>\n",
       "<li><a href=\"/wiki/Technical_analysis\" title=\"Technical analysis\">Technical analysis</a></li>\n",
       "<li><a href=\"/wiki/Trend_following\" title=\"Trend following\">Trend following</a></li>\n",
       "<li><a href=\"/wiki/Value_averaging\" title=\"Value averaging\">Value averaging</a></li>\n",
       "<li><a href=\"/wiki/Value_investing\" title=\"Value investing\">Value investing</a></li></ul>\n",
       "</div></td></tr><tr><th class=\"navbox-group\" scope=\"row\" style=\"width:1%\">Related terms</th><td class=\"navbox-list navbox-even\" style=\"text-align:left;border-left-width:2px;border-left-style:solid;width:100%;padding:0px\"><div style=\"padding:0em 0.25em\">\n",
       "<ul><li><a href=\"/wiki/Block_trade\" title=\"Block trade\">Block trade</a></li>\n",
       "<li><a href=\"/wiki/Cross_listing\" title=\"Cross listing\">Cross listing</a></li>\n",
       "<li><a href=\"/wiki/Dark_pool\" title=\"Dark pool\">Dark pool</a></li>\n",
       "<li><a href=\"/wiki/Dividend\" title=\"Dividend\">Dividend</a></li>\n",
       "<li><a href=\"/wiki/Dual-listed_company\" title=\"Dual-listed company\">Dual-listed company</a></li>\n",
       "<li><a href=\"/wiki/DuPont_analysis\" title=\"DuPont analysis\">DuPont analysis</a></li>\n",
       "<li><a href=\"/wiki/Efficient_frontier\" title=\"Efficient frontier\">Efficient frontier</a></li>\n",
       "<li><a href=\"/wiki/Flight-to-quality\" title=\"Flight-to-quality\">Flight-to-quality</a></li>\n",
       "<li><a href=\"/wiki/Government_bond\" title=\"Government bond\">Government bond</a></li>\n",
       "<li><a href=\"/wiki/Haircut_(finance)\" title=\"Haircut (finance)\">Haircut</a></li>\n",
       "<li><a href=\"/wiki/Initial_public_offering\" title=\"Initial public offering\">Initial public offering</a></li>\n",
       "<li><a href=\"/wiki/Long_(finance)\" title=\"Long (finance)\">Long</a></li>\n",
       "<li><a href=\"/wiki/Margin_(finance)\" title=\"Margin (finance)\">Margin</a></li>\n",
       "<li><a href=\"/wiki/Market_anomaly\" title=\"Market anomaly\">Market anomaly</a></li>\n",
       "<li><a href=\"/wiki/Market_capitalization\" title=\"Market capitalization\">Market capitalization</a></li>\n",
       "<li><a href=\"/wiki/Market_depth\" title=\"Market depth\">Market depth</a></li>\n",
       "<li><a href=\"/wiki/Market_manipulation\" title=\"Market manipulation\">Market manipulation</a></li>\n",
       "<li><a href=\"/wiki/Market_trend\" title=\"Market trend\">Market trend</a></li>\n",
       "<li><a href=\"/wiki/Mean_reversion_(finance)\" title=\"Mean reversion (finance)\">Mean reversion</a></li>\n",
       "<li><a href=\"/wiki/Momentum_(finance)\" title=\"Momentum (finance)\">Momentum</a></li>\n",
       "<li><a href=\"/wiki/Open_outcry\" title=\"Open outcry\">Open outcry</a></li>\n",
       "<li><a href=\"/wiki/Position_(finance)\" title=\"Position (finance)\">Position</a></li>\n",
       "<li><a href=\"/wiki/Public_float\" title=\"Public float\">Public float</a></li>\n",
       "<li><a href=\"/wiki/Public_offering\" title=\"Public offering\">Public offering</a></li>\n",
       "<li><a href=\"/wiki/Rally_(stock_market)\" title=\"Rally (stock market)\">Rally</a></li>\n",
       "<li><a href=\"/wiki/Returns-based_style_analysis\" title=\"Returns-based style analysis\">Returns-based style analysis</a></li>\n",
       "<li><a href=\"/wiki/Reverse_stock_split\" title=\"Reverse stock split\">Reverse stock split</a></li>\n",
       "<li><a href=\"/wiki/Share_repurchase\" title=\"Share repurchase\">Share repurchase</a></li>\n",
       "<li><a href=\"/wiki/Short_(finance)\" title=\"Short (finance)\">Short selling</a></li>\n",
       "<li><a href=\"/wiki/Slippage_(finance)\" title=\"Slippage (finance)\">Slippage</a></li>\n",
       "<li><a href=\"/wiki/Speculation\" title=\"Speculation\">Speculation</a></li>\n",
       "<li><a href=\"/wiki/Stock_dilution\" title=\"Stock dilution\">Stock dilution</a></li>\n",
       "<li><a href=\"/wiki/Stock_exchange\" title=\"Stock exchange\">Stock exchange</a></li>\n",
       "<li><a href=\"/wiki/Stock_market_index\" title=\"Stock market index\">Stock market index</a></li>\n",
       "<li><a href=\"/wiki/Stock_split\" title=\"Stock split\">Stock split</a></li>\n",
       "<li><a href=\"/wiki/Trade_(financial_instrument)\" title=\"Trade (financial instrument)\">Trade</a></li>\n",
       "<li><a href=\"/wiki/Uptick_rule\" title=\"Uptick rule\">Uptick rule</a></li>\n",
       "<li><a href=\"/wiki/Volatility_(finance)\" title=\"Volatility (finance)\">Volatility</a></li>\n",
       "<li><a href=\"/wiki/Voting_interest\" title=\"Voting interest\">Voting interest</a></li>\n",
       "<li><a href=\"/wiki/Yield_(finance)\" title=\"Yield (finance)\">Yield</a></li></ul>\n",
       "</div></td></tr></tbody></table></div>\n",
       "<div aria-labelledby=\"Largest_stock_exchanges_by_market_capitalization\" class=\"navbox\" role=\"navigation\" style=\"padding:3px\"><table class=\"nowraplinks mw-collapsible autocollapse navbox-inner\" style=\"border-spacing:0;background:transparent;color:inherit\"><tbody><tr><th class=\"navbox-title\" colspan=\"2\" scope=\"col\"><div class=\"plainlinks hlist navbar mini\"><ul><li class=\"nv-view\"><a href=\"/wiki/Template:Stock_exchanges_top_25\" title=\"Template:Stock exchanges top 25\"><abbr style=\";;background:none transparent;border:none;-moz-box-shadow:none;-webkit-box-shadow:none;box-shadow:none; padding:0;\" title=\"View this template\">v</abbr></a></li><li class=\"nv-talk\"><a href=\"/wiki/Template_talk:Stock_exchanges_top_25\" title=\"Template talk:Stock exchanges top 25\"><abbr style=\";;background:none transparent;border:none;-moz-box-shadow:none;-webkit-box-shadow:none;box-shadow:none; padding:0;\" title=\"Discuss this template\">t</abbr></a></li><li class=\"nv-edit\"><a class=\"external text\" href=\"https://en.wikipedia.org/w/index.php?title=Template:Stock_exchanges_top_25&amp;action=edit\"><abbr style=\";;background:none transparent;border:none;-moz-box-shadow:none;-webkit-box-shadow:none;box-shadow:none; padding:0;\" title=\"Edit this template\">e</abbr></a></li></ul></div><div id=\"Largest_stock_exchanges_by_market_capitalization\" style=\"font-size:114%;margin:0 4em\"><a href=\"/wiki/List_of_stock_exchanges\" title=\"List of stock exchanges\">Largest stock exchanges by market capitalization</a></div></th></tr><tr><td class=\"navbox-list navbox-odd hlist hnum\" colspan=\"2\" style=\"width:100%;padding:0px\"><div style=\"padding:0em 0.25em\">\n",
       "<ol><li> <span class=\"flagicon\"><a href=\"/wiki/United_States\" title=\"United States\"><img alt=\"United States\" class=\"thumbborder\" data-file-height=\"650\" data-file-width=\"1235\" decoding=\"async\" height=\"12\" src=\"//upload.wikimedia.org/wikipedia/en/thumb/a/a4/Flag_of_the_United_States.svg/23px-Flag_of_the_United_States.svg.png\" srcset=\"//upload.wikimedia.org/wikipedia/en/thumb/a/a4/Flag_of_the_United_States.svg/35px-Flag_of_the_United_States.svg.png 1.5x, //upload.wikimedia.org/wikipedia/en/thumb/a/a4/Flag_of_the_United_States.svg/46px-Flag_of_the_United_States.svg.png 2x\" width=\"23\"/></a></span> <a href=\"/wiki/New_York_Stock_Exchange\" title=\"New York Stock Exchange\">New York Stock Exchange</a></li>\n",
       "<li> <span class=\"flagicon\"><a href=\"/wiki/United_States\" title=\"United States\"><img alt=\"United States\" class=\"thumbborder\" data-file-height=\"650\" data-file-width=\"1235\" decoding=\"async\" height=\"12\" src=\"//upload.wikimedia.org/wikipedia/en/thumb/a/a4/Flag_of_the_United_States.svg/23px-Flag_of_the_United_States.svg.png\" srcset=\"//upload.wikimedia.org/wikipedia/en/thumb/a/a4/Flag_of_the_United_States.svg/35px-Flag_of_the_United_States.svg.png 1.5x, //upload.wikimedia.org/wikipedia/en/thumb/a/a4/Flag_of_the_United_States.svg/46px-Flag_of_the_United_States.svg.png 2x\" width=\"23\"/></a></span> <a class=\"mw-redirect\" href=\"/wiki/NASDAQ\" title=\"NASDAQ\">NASDAQ</a></li>\n",
       "<li> <span class=\"flagicon\"><a href=\"/wiki/United_Kingdom\" title=\"United Kingdom\"><img alt=\"United Kingdom\" class=\"thumbborder\" data-file-height=\"600\" data-file-width=\"1200\" decoding=\"async\" height=\"12\" src=\"//upload.wikimedia.org/wikipedia/en/thumb/a/ae/Flag_of_the_United_Kingdom.svg/23px-Flag_of_the_United_Kingdom.svg.png\" srcset=\"//upload.wikimedia.org/wikipedia/en/thumb/a/ae/Flag_of_the_United_Kingdom.svg/35px-Flag_of_the_United_Kingdom.svg.png 1.5x, //upload.wikimedia.org/wikipedia/en/thumb/a/ae/Flag_of_the_United_Kingdom.svg/46px-Flag_of_the_United_Kingdom.svg.png 2x\" width=\"23\"/></a></span> <a href=\"/wiki/London_Stock_Exchange\" title=\"London Stock Exchange\">London Stock Exchange</a></li>\n",
       "<li> <span class=\"flagicon\"><a href=\"/wiki/Japan\" title=\"Japan\"><img alt=\"Japan\" class=\"thumbborder\" data-file-height=\"600\" data-file-width=\"900\" decoding=\"async\" height=\"15\" src=\"//upload.wikimedia.org/wikipedia/en/thumb/9/9e/Flag_of_Japan.svg/23px-Flag_of_Japan.svg.png\" srcset=\"//upload.wikimedia.org/wikipedia/en/thumb/9/9e/Flag_of_Japan.svg/35px-Flag_of_Japan.svg.png 1.5x, //upload.wikimedia.org/wikipedia/en/thumb/9/9e/Flag_of_Japan.svg/45px-Flag_of_Japan.svg.png 2x\" width=\"23\"/></a></span> <a href=\"/wiki/Japan_Exchange_Group\" title=\"Japan Exchange Group\">Japan Exchange Group</a> – Tokyo</li>\n",
       "<li> <span class=\"flagicon\"><a href=\"/wiki/China\" title=\"China\"><img alt=\"China\" class=\"thumbborder\" data-file-height=\"600\" data-file-width=\"900\" decoding=\"async\" height=\"15\" src=\"//upload.wikimedia.org/wikipedia/commons/thumb/f/fa/Flag_of_the_People%27s_Republic_of_China.svg/23px-Flag_of_the_People%27s_Republic_of_China.svg.png\" srcset=\"//upload.wikimedia.org/wikipedia/commons/thumb/f/fa/Flag_of_the_People%27s_Republic_of_China.svg/35px-Flag_of_the_People%27s_Republic_of_China.svg.png 1.5x, //upload.wikimedia.org/wikipedia/commons/thumb/f/fa/Flag_of_the_People%27s_Republic_of_China.svg/45px-Flag_of_the_People%27s_Republic_of_China.svg.png 2x\" width=\"23\"/></a></span> <a href=\"/wiki/Shanghai_Stock_Exchange\" title=\"Shanghai Stock Exchange\">Shanghai</a></li>\n",
       "<li> <span class=\"flagicon\"><a href=\"/wiki/Hong_Kong\" title=\"Hong Kong\"><img alt=\"Hong Kong\" class=\"thumbborder\" data-file-height=\"600\" data-file-width=\"900\" decoding=\"async\" height=\"15\" src=\"//upload.wikimedia.org/wikipedia/commons/thumb/5/5b/Flag_of_Hong_Kong.svg/23px-Flag_of_Hong_Kong.svg.png\" srcset=\"//upload.wikimedia.org/wikipedia/commons/thumb/5/5b/Flag_of_Hong_Kong.svg/35px-Flag_of_Hong_Kong.svg.png 1.5x, //upload.wikimedia.org/wikipedia/commons/thumb/5/5b/Flag_of_Hong_Kong.svg/45px-Flag_of_Hong_Kong.svg.png 2x\" width=\"23\"/></a></span> <a href=\"/wiki/Hong_Kong_Stock_Exchange\" title=\"Hong Kong Stock Exchange\">Hong Kong</a></li>\n",
       "<li> <span class=\"flagicon\"><a href=\"/wiki/European_Union\" title=\"European Union\"><img alt=\"European Union\" class=\"thumbborder\" data-file-height=\"540\" data-file-width=\"810\" decoding=\"async\" height=\"15\" src=\"//upload.wikimedia.org/wikipedia/commons/thumb/b/b7/Flag_of_Europe.svg/23px-Flag_of_Europe.svg.png\" srcset=\"//upload.wikimedia.org/wikipedia/commons/thumb/b/b7/Flag_of_Europe.svg/35px-Flag_of_Europe.svg.png 1.5x, //upload.wikimedia.org/wikipedia/commons/thumb/b/b7/Flag_of_Europe.svg/45px-Flag_of_Europe.svg.png 2x\" width=\"23\"/></a></span> <a href=\"/wiki/Euronext\" title=\"Euronext\">Euronext</a></li>\n",
       "<li> <span class=\"flagicon\"><a href=\"/wiki/China\" title=\"China\"><img alt=\"China\" class=\"thumbborder\" data-file-height=\"600\" data-file-width=\"900\" decoding=\"async\" height=\"15\" src=\"//upload.wikimedia.org/wikipedia/commons/thumb/f/fa/Flag_of_the_People%27s_Republic_of_China.svg/23px-Flag_of_the_People%27s_Republic_of_China.svg.png\" srcset=\"//upload.wikimedia.org/wikipedia/commons/thumb/f/fa/Flag_of_the_People%27s_Republic_of_China.svg/35px-Flag_of_the_People%27s_Republic_of_China.svg.png 1.5x, //upload.wikimedia.org/wikipedia/commons/thumb/f/fa/Flag_of_the_People%27s_Republic_of_China.svg/45px-Flag_of_the_People%27s_Republic_of_China.svg.png 2x\" width=\"23\"/></a></span> <a href=\"/wiki/Shenzhen_Stock_Exchange\" title=\"Shenzhen Stock Exchange\">Shenzhen</a></li>\n",
       "<li> <span class=\"flagicon\"><a href=\"/wiki/Canada\" title=\"Canada\"><img alt=\"Canada\" class=\"thumbborder\" data-file-height=\"600\" data-file-width=\"1200\" decoding=\"async\" height=\"12\" src=\"//upload.wikimedia.org/wikipedia/commons/thumb/d/d9/Flag_of_Canada_%28Pantone%29.svg/23px-Flag_of_Canada_%28Pantone%29.svg.png\" srcset=\"//upload.wikimedia.org/wikipedia/commons/thumb/d/d9/Flag_of_Canada_%28Pantone%29.svg/35px-Flag_of_Canada_%28Pantone%29.svg.png 1.5x, //upload.wikimedia.org/wikipedia/commons/thumb/d/d9/Flag_of_Canada_%28Pantone%29.svg/46px-Flag_of_Canada_%28Pantone%29.svg.png 2x\" width=\"23\"/></a></span> <a href=\"/wiki/Toronto_Stock_Exchange\" title=\"Toronto Stock Exchange\">Toronto Stock Exchange</a></li>\n",
       "<li> <span class=\"flagicon\"><a href=\"/wiki/Germany\" title=\"Germany\"><img alt=\"Germany\" class=\"thumbborder\" data-file-height=\"600\" data-file-width=\"1000\" decoding=\"async\" height=\"14\" src=\"//upload.wikimedia.org/wikipedia/en/thumb/b/ba/Flag_of_Germany.svg/23px-Flag_of_Germany.svg.png\" srcset=\"//upload.wikimedia.org/wikipedia/en/thumb/b/ba/Flag_of_Germany.svg/35px-Flag_of_Germany.svg.png 1.5x, //upload.wikimedia.org/wikipedia/en/thumb/b/ba/Flag_of_Germany.svg/46px-Flag_of_Germany.svg.png 2x\" width=\"23\"/></a></span> <a href=\"/wiki/Deutsche_B%C3%B6rse\" title=\"Deutsche Börse\">Deutsche Börse</a></li>\n",
       "<li> <span class=\"flagicon\"><a href=\"/wiki/India\" title=\"India\"><img alt=\"India\" class=\"thumbborder\" data-file-height=\"900\" data-file-width=\"1350\" decoding=\"async\" height=\"15\" src=\"//upload.wikimedia.org/wikipedia/en/thumb/4/41/Flag_of_India.svg/23px-Flag_of_India.svg.png\" srcset=\"//upload.wikimedia.org/wikipedia/en/thumb/4/41/Flag_of_India.svg/35px-Flag_of_India.svg.png 1.5x, //upload.wikimedia.org/wikipedia/en/thumb/4/41/Flag_of_India.svg/45px-Flag_of_India.svg.png 2x\" width=\"23\"/></a></span> <a href=\"/wiki/Bombay_Stock_Exchange\" title=\"Bombay Stock Exchange\">Bombay Stock Exchange</a></li>\n",
       "<li> <span class=\"flagicon\"><a href=\"/wiki/India\" title=\"India\"><img alt=\"India\" class=\"thumbborder\" data-file-height=\"900\" data-file-width=\"1350\" decoding=\"async\" height=\"15\" src=\"//upload.wikimedia.org/wikipedia/en/thumb/4/41/Flag_of_India.svg/23px-Flag_of_India.svg.png\" srcset=\"//upload.wikimedia.org/wikipedia/en/thumb/4/41/Flag_of_India.svg/35px-Flag_of_India.svg.png 1.5x, //upload.wikimedia.org/wikipedia/en/thumb/4/41/Flag_of_India.svg/45px-Flag_of_India.svg.png 2x\" width=\"23\"/></a></span> <a href=\"/wiki/National_Stock_Exchange_of_India\" title=\"National Stock Exchange of India\">National Stock Exchange of India</a></li>\n",
       "<li> <span class=\"flagicon\"><a href=\"/wiki/Switzerland\" title=\"Switzerland\"><img alt=\"Switzerland\" class=\"thumbborder\" data-file-height=\"512\" data-file-width=\"512\" decoding=\"async\" height=\"16\" src=\"//upload.wikimedia.org/wikipedia/commons/thumb/f/f3/Flag_of_Switzerland.svg/16px-Flag_of_Switzerland.svg.png\" srcset=\"//upload.wikimedia.org/wikipedia/commons/thumb/f/f3/Flag_of_Switzerland.svg/24px-Flag_of_Switzerland.svg.png 1.5x, //upload.wikimedia.org/wikipedia/commons/thumb/f/f3/Flag_of_Switzerland.svg/32px-Flag_of_Switzerland.svg.png 2x\" width=\"16\"/></a></span> <a href=\"/wiki/SIX_Swiss_Exchange\" title=\"SIX Swiss Exchange\">SIX Swiss Exchange</a></li>\n",
       "<li> <span class=\"flagicon\"><a href=\"/wiki/Australia\" title=\"Australia\"><img alt=\"Australia\" class=\"thumbborder\" data-file-height=\"640\" data-file-width=\"1280\" decoding=\"async\" height=\"12\" src=\"//upload.wikimedia.org/wikipedia/commons/thumb/8/88/Flag_of_Australia_%28converted%29.svg/23px-Flag_of_Australia_%28converted%29.svg.png\" srcset=\"//upload.wikimedia.org/wikipedia/commons/thumb/8/88/Flag_of_Australia_%28converted%29.svg/35px-Flag_of_Australia_%28converted%29.svg.png 1.5x, //upload.wikimedia.org/wikipedia/commons/thumb/8/88/Flag_of_Australia_%28converted%29.svg/46px-Flag_of_Australia_%28converted%29.svg.png 2x\" width=\"23\"/></a></span> <a href=\"/wiki/Australian_Securities_Exchange\" title=\"Australian Securities Exchange\">Australian Securities Exchange</a></li>\n",
       "<li> <span class=\"flagicon\"><a href=\"/wiki/South_Korea\" title=\"South Korea\"><img alt=\"South Korea\" class=\"thumbborder\" data-file-height=\"600\" data-file-width=\"900\" decoding=\"async\" height=\"15\" src=\"//upload.wikimedia.org/wikipedia/commons/thumb/0/09/Flag_of_South_Korea.svg/23px-Flag_of_South_Korea.svg.png\" srcset=\"//upload.wikimedia.org/wikipedia/commons/thumb/0/09/Flag_of_South_Korea.svg/35px-Flag_of_South_Korea.svg.png 1.5x, //upload.wikimedia.org/wikipedia/commons/thumb/0/09/Flag_of_South_Korea.svg/45px-Flag_of_South_Korea.svg.png 2x\" width=\"23\"/></a></span> <a href=\"/wiki/Korea_Exchange\" title=\"Korea Exchange\">Korea Exchange</a></li>\n",
       "<li> <span class=\"flagicon\"><a href=\"/wiki/European_Union\" title=\"European Union\"><img alt=\"European Union\" class=\"thumbborder\" data-file-height=\"540\" data-file-width=\"810\" decoding=\"async\" height=\"15\" src=\"//upload.wikimedia.org/wikipedia/commons/thumb/b/b7/Flag_of_Europe.svg/23px-Flag_of_Europe.svg.png\" srcset=\"//upload.wikimedia.org/wikipedia/commons/thumb/b/b7/Flag_of_Europe.svg/35px-Flag_of_Europe.svg.png 1.5x, //upload.wikimedia.org/wikipedia/commons/thumb/b/b7/Flag_of_Europe.svg/45px-Flag_of_Europe.svg.png 2x\" width=\"23\"/></a></span> <a href=\"/wiki/Nasdaq_Nordic\" title=\"Nasdaq Nordic\">Nasdaq Nordic</a></li>\n",
       "<li> <span class=\"flagicon\"><a href=\"/wiki/South_Africa\" title=\"South Africa\"><img alt=\"South Africa\" class=\"thumbborder\" data-file-height=\"600\" data-file-width=\"900\" decoding=\"async\" height=\"15\" src=\"//upload.wikimedia.org/wikipedia/commons/thumb/a/af/Flag_of_South_Africa.svg/23px-Flag_of_South_Africa.svg.png\" srcset=\"//upload.wikimedia.org/wikipedia/commons/thumb/a/af/Flag_of_South_Africa.svg/35px-Flag_of_South_Africa.svg.png 1.5x, //upload.wikimedia.org/wikipedia/commons/thumb/a/af/Flag_of_South_Africa.svg/45px-Flag_of_South_Africa.svg.png 2x\" width=\"23\"/></a></span> <a href=\"/wiki/JSE_Limited\" title=\"JSE Limited\">JSE Limited</a></li>\n",
       "<li> <span class=\"flagicon\"><a href=\"/wiki/Spain\" title=\"Spain\"><img alt=\"Spain\" class=\"thumbborder\" data-file-height=\"500\" data-file-width=\"750\" decoding=\"async\" height=\"15\" src=\"//upload.wikimedia.org/wikipedia/en/thumb/9/9a/Flag_of_Spain.svg/23px-Flag_of_Spain.svg.png\" srcset=\"//upload.wikimedia.org/wikipedia/en/thumb/9/9a/Flag_of_Spain.svg/35px-Flag_of_Spain.svg.png 1.5x, //upload.wikimedia.org/wikipedia/en/thumb/9/9a/Flag_of_Spain.svg/45px-Flag_of_Spain.svg.png 2x\" width=\"23\"/></a></span> <a href=\"/wiki/Bolsas_y_Mercados_Espa%C3%B1oles\" title=\"Bolsas y Mercados Españoles\">BME Spanish Exchanges</a></li>\n",
       "<li> <span class=\"flagicon\"><a href=\"/wiki/Taiwan\" title=\"Taiwan\"><img alt=\"Taiwan\" class=\"thumbborder\" data-file-height=\"600\" data-file-width=\"900\" decoding=\"async\" height=\"15\" src=\"//upload.wikimedia.org/wikipedia/commons/thumb/7/72/Flag_of_the_Republic_of_China.svg/23px-Flag_of_the_Republic_of_China.svg.png\" srcset=\"//upload.wikimedia.org/wikipedia/commons/thumb/7/72/Flag_of_the_Republic_of_China.svg/35px-Flag_of_the_Republic_of_China.svg.png 1.5x, //upload.wikimedia.org/wikipedia/commons/thumb/7/72/Flag_of_the_Republic_of_China.svg/45px-Flag_of_the_Republic_of_China.svg.png 2x\" width=\"23\"/></a></span> <a href=\"/wiki/Taiwan_Stock_Exchange\" title=\"Taiwan Stock Exchange\">Taiwan Stock Exchange</a></li>\n",
       "<li> <span class=\"flagicon\"><a href=\"/wiki/Brazil\" title=\"Brazil\"><img alt=\"Brazil\" class=\"thumbborder\" data-file-height=\"504\" data-file-width=\"720\" decoding=\"async\" height=\"15\" src=\"//upload.wikimedia.org/wikipedia/en/thumb/0/05/Flag_of_Brazil.svg/22px-Flag_of_Brazil.svg.png\" srcset=\"//upload.wikimedia.org/wikipedia/en/thumb/0/05/Flag_of_Brazil.svg/33px-Flag_of_Brazil.svg.png 1.5x, //upload.wikimedia.org/wikipedia/en/thumb/0/05/Flag_of_Brazil.svg/43px-Flag_of_Brazil.svg.png 2x\" width=\"22\"/></a></span> <a href=\"/wiki/B3_(stock_exchange)\" title=\"B3 (stock exchange)\">B3</a></li>\n",
       "<li> <span class=\"flagicon\"><a href=\"/wiki/Singapore\" title=\"Singapore\"><img alt=\"Singapore\" class=\"thumbborder\" data-file-height=\"2880\" data-file-width=\"4320\" decoding=\"async\" height=\"15\" src=\"//upload.wikimedia.org/wikipedia/commons/thumb/4/48/Flag_of_Singapore.svg/23px-Flag_of_Singapore.svg.png\" srcset=\"//upload.wikimedia.org/wikipedia/commons/thumb/4/48/Flag_of_Singapore.svg/35px-Flag_of_Singapore.svg.png 1.5x, //upload.wikimedia.org/wikipedia/commons/thumb/4/48/Flag_of_Singapore.svg/45px-Flag_of_Singapore.svg.png 2x\" width=\"23\"/></a></span> <a href=\"/wiki/Singapore_Exchange\" title=\"Singapore Exchange\">Singapore Exchange</a></li>\n",
       "<li> <span class=\"flagicon\"><a href=\"/wiki/Russia\" title=\"Russia\"><img alt=\"Russia\" class=\"thumbborder\" data-file-height=\"600\" data-file-width=\"900\" decoding=\"async\" height=\"15\" src=\"//upload.wikimedia.org/wikipedia/en/thumb/f/f3/Flag_of_Russia.svg/23px-Flag_of_Russia.svg.png\" srcset=\"//upload.wikimedia.org/wikipedia/en/thumb/f/f3/Flag_of_Russia.svg/35px-Flag_of_Russia.svg.png 1.5x, //upload.wikimedia.org/wikipedia/en/thumb/f/f3/Flag_of_Russia.svg/45px-Flag_of_Russia.svg.png 2x\" width=\"23\"/></a></span> <a href=\"/wiki/Moscow_Exchange\" title=\"Moscow Exchange\">Moscow Exchange</a></li>\n",
       "<li> <span class=\"flagicon\"><a href=\"/wiki/Thailand\" title=\"Thailand\"><img alt=\"Thailand\" class=\"thumbborder\" data-file-height=\"600\" data-file-width=\"900\" decoding=\"async\" height=\"15\" src=\"//upload.wikimedia.org/wikipedia/commons/thumb/a/a9/Flag_of_Thailand.svg/23px-Flag_of_Thailand.svg.png\" srcset=\"//upload.wikimedia.org/wikipedia/commons/thumb/a/a9/Flag_of_Thailand.svg/35px-Flag_of_Thailand.svg.png 1.5x, //upload.wikimedia.org/wikipedia/commons/thumb/a/a9/Flag_of_Thailand.svg/45px-Flag_of_Thailand.svg.png 2x\" width=\"23\"/></a></span> <a href=\"/wiki/Stock_Exchange_of_Thailand\" title=\"Stock Exchange of Thailand\">Stock Exchange of Thailand</a></li>\n",
       "<li> <span class=\"flagicon\"><a href=\"/wiki/Saudi_Arabia\" title=\"Saudi Arabia\"><img alt=\"Saudi Arabia\" class=\"thumbborder\" data-file-height=\"600\" data-file-width=\"900\" decoding=\"async\" height=\"15\" src=\"//upload.wikimedia.org/wikipedia/commons/thumb/0/0d/Flag_of_Saudi_Arabia.svg/23px-Flag_of_Saudi_Arabia.svg.png\" srcset=\"//upload.wikimedia.org/wikipedia/commons/thumb/0/0d/Flag_of_Saudi_Arabia.svg/35px-Flag_of_Saudi_Arabia.svg.png 1.5x, //upload.wikimedia.org/wikipedia/commons/thumb/0/0d/Flag_of_Saudi_Arabia.svg/45px-Flag_of_Saudi_Arabia.svg.png 2x\" width=\"23\"/></a></span> <a href=\"/wiki/Tadawul\" title=\"Tadawul\">Tadawul</a></li>\n",
       "<li> <span class=\"flagicon\"><a href=\"/wiki/Indonesia\" title=\"Indonesia\"><img alt=\"Indonesia\" class=\"thumbborder\" data-file-height=\"300\" data-file-width=\"450\" decoding=\"async\" height=\"15\" src=\"//upload.wikimedia.org/wikipedia/commons/thumb/9/9f/Flag_of_Indonesia.svg/23px-Flag_of_Indonesia.svg.png\" srcset=\"//upload.wikimedia.org/wikipedia/commons/thumb/9/9f/Flag_of_Indonesia.svg/35px-Flag_of_Indonesia.svg.png 1.5x, //upload.wikimedia.org/wikipedia/commons/thumb/9/9f/Flag_of_Indonesia.svg/45px-Flag_of_Indonesia.svg.png 2x\" width=\"23\"/></a></span> <a href=\"/wiki/Indonesia_Stock_Exchange\" title=\"Indonesia Stock Exchange\">Indonesia Stock Exchange</a></li></ol>\n",
       "</div></td></tr></tbody></table></div>\n",
       "<div aria-labelledby=\"Stock_market_crashes\" class=\"navbox\" role=\"navigation\" style=\"padding:3px\"><table class=\"nowraplinks mw-collapsible mw-collapsed navbox-inner\" style=\"border-spacing:0;background:transparent;color:inherit\"><tbody><tr><th class=\"navbox-title\" colspan=\"2\" scope=\"col\"><div class=\"plainlinks hlist navbar mini\"><ul><li class=\"nv-view\"><a href=\"/wiki/Template:Stock_market_crashes\" title=\"Template:Stock market crashes\"><abbr style=\";;background:none transparent;border:none;-moz-box-shadow:none;-webkit-box-shadow:none;box-shadow:none; padding:0;\" title=\"View this template\">v</abbr></a></li><li class=\"nv-talk\"><a href=\"/wiki/Template_talk:Stock_market_crashes\" title=\"Template talk:Stock market crashes\"><abbr style=\";;background:none transparent;border:none;-moz-box-shadow:none;-webkit-box-shadow:none;box-shadow:none; padding:0;\" title=\"Discuss this template\">t</abbr></a></li><li class=\"nv-edit\"><a class=\"external text\" href=\"https://en.wikipedia.org/w/index.php?title=Template:Stock_market_crashes&amp;action=edit\"><abbr style=\";;background:none transparent;border:none;-moz-box-shadow:none;-webkit-box-shadow:none;box-shadow:none; padding:0;\" title=\"Edit this template\">e</abbr></a></li></ul></div><div id=\"Stock_market_crashes\" style=\"font-size:114%;margin:0 4em\"><a href=\"/wiki/List_of_stock_market_crashes_and_bear_markets\" title=\"List of stock market crashes and bear markets\">Stock market crashes</a></div></th></tr><tr><th class=\"navbox-group\" scope=\"row\" style=\"width:1%\">17th century</th><td class=\"navbox-list navbox-odd hlist\" style=\"text-align:left;border-left-width:2px;border-left-style:solid;width:100%;padding:0px\"><div style=\"padding:0em 0.25em\">\n",
       "<ul><li><a href=\"/wiki/Financial_history_of_the_Dutch_Republic\" title=\"Financial history of the Dutch Republic\">Early stock market crashes in the Dutch Republic</a></li></ul>\n",
       "</div></td></tr><tr><th class=\"navbox-group\" scope=\"row\" style=\"width:1%\">18th century</th><td class=\"navbox-list navbox-even hlist\" style=\"text-align:left;border-left-width:2px;border-left-style:solid;width:100%;padding:0px\"><div style=\"padding:0em 0.25em\">\n",
       "<ul><li><a href=\"/wiki/Mississippi_Company\" title=\"Mississippi Company\">The Mississippi Bubble</a></li>\n",
       "<li><a href=\"/wiki/South_Sea_Company\" title=\"South Sea Company\">South Sea Bubble of 1720</a></li>\n",
       "<li><a href=\"/wiki/Bengal_Bubble_of_1769\" title=\"Bengal Bubble of 1769\">Bengal Bubble of 1769</a></li>\n",
       "<li><a href=\"/wiki/Crisis_of_1772\" title=\"Crisis of 1772\">Crisis of 1772</a></li>\n",
       "<li><a href=\"/wiki/Panic_of_1792\" title=\"Panic of 1792\">Panic of 1792</a></li>\n",
       "<li><a href=\"/wiki/Panic_of_1796%E2%80%9397\" title=\"Panic of 1796–97\">Panic of 1796–97</a></li></ul>\n",
       "</div></td></tr><tr><th class=\"navbox-group\" scope=\"row\" style=\"width:1%\">19th century</th><td class=\"navbox-list navbox-odd hlist\" style=\"text-align:left;border-left-width:2px;border-left-style:solid;width:100%;padding:0px\"><div style=\"padding:0em 0.25em\">\n",
       "<ul><li><a href=\"/wiki/Panic_of_1819\" title=\"Panic of 1819\">Panic of 1819</a></li>\n",
       "<li><a href=\"/wiki/Panic_of_1825\" title=\"Panic of 1825\">Panic of 1825</a></li>\n",
       "<li><a href=\"/wiki/Panic_of_1837\" title=\"Panic of 1837\">Panic of 1837</a></li>\n",
       "<li><a href=\"/wiki/Panic_of_1847\" title=\"Panic of 1847\">Panic of 1847</a></li>\n",
       "<li><a href=\"/wiki/Panic_of_1857\" title=\"Panic of 1857\">Panic of 1857</a></li>\n",
       "<li><a href=\"/wiki/Black_Friday_(1869)\" title=\"Black Friday (1869)\">Black Friday</a> (1869)</li>\n",
       "<li><a href=\"/wiki/Panic_of_1873\" title=\"Panic of 1873\">Panic of 1873</a></li>\n",
       "<li><a href=\"/wiki/Paris_Bourse_crash_of_1882\" title=\"Paris Bourse crash of 1882\">Paris Bourse crash of 1882</a></li>\n",
       "<li><a href=\"/wiki/Panic_of_1884\" title=\"Panic of 1884\">Panic of 1884</a></li>\n",
       "<li><a href=\"/wiki/Encilhamento\" title=\"Encilhamento\">Encilhamento</a> (1890–1893)</li>\n",
       "<li><a href=\"/wiki/Panic_of_1893\" title=\"Panic of 1893\">Panic of 1893</a></li>\n",
       "<li><a href=\"/wiki/Panic_of_1896\" title=\"Panic of 1896\">Panic of 1896</a></li></ul>\n",
       "</div></td></tr><tr><th class=\"navbox-group\" scope=\"row\" style=\"width:1%\">20th century</th><td class=\"navbox-list navbox-even hlist\" style=\"text-align:left;border-left-width:2px;border-left-style:solid;width:100%;padding:0px\"><div style=\"padding:0em 0.25em\">\n",
       "<ul><li><a href=\"/wiki/Panic_of_1901\" title=\"Panic of 1901\">Panic of 1901</a></li>\n",
       "<li><a href=\"/wiki/Panic_of_1907\" title=\"Panic of 1907\">Panic of 1907</a></li>\n",
       "<li><a href=\"/wiki/Depression_of_1920%E2%80%9321\" title=\"Depression of 1920–21\">Depression of 1920–21</a></li>\n",
       "<li><a href=\"/wiki/Wall_Street_Crash_of_1929\" title=\"Wall Street Crash of 1929\">Wall Street Crash of 1929</a></li>\n",
       "<li><a href=\"/wiki/Recession_of_1937%E2%80%9338\" title=\"Recession of 1937–38\">Recession of 1937–38</a></li>\n",
       "<li><a href=\"/wiki/Kennedy_Slide_of_1962\" title=\"Kennedy Slide of 1962\">Kennedy Slide of 1962</a></li>\n",
       "<li><a href=\"/wiki/1973%E2%80%9374_stock_market_crash\" title=\"1973–74 stock market crash\">1973–74 stock market crash</a></li>\n",
       "<li><a href=\"/wiki/Souk_Al-Manakh_stock_market_crash\" title=\"Souk Al-Manakh stock market crash\">Souk Al-Manakh stock market crash</a> (1982)</li>\n",
       "<li><a href=\"/wiki/Black_Monday_(1987)\" title=\"Black Monday (1987)\">Black Monday</a> (19 October 1987)</li>\n",
       "<li><a href=\"/wiki/Rio_de_Janeiro_Stock_Exchange\" title=\"Rio de Janeiro Stock Exchange\">Rio de Janeiro Stock Exchange</a> collapse</li>\n",
       "<li><a href=\"/wiki/Friday_the_13th_mini-crash\" title=\"Friday the 13th mini-crash\">Friday the 13th mini-crash</a> (1989)</li>\n",
       "<li><a href=\"/wiki/Japanese_asset_price_bubble#Stock_Prices\" title=\"Japanese asset price bubble\">Japanese asset price bubble crash</a> (1990–1992)</li>\n",
       "<li><a href=\"/wiki/Black_Wednesday\" title=\"Black Wednesday\">Black Wednesday</a> (16 September 1992)</li>\n",
       "<li><a href=\"/wiki/1997_Asian_financial_crisis\" title=\"1997 Asian financial crisis\">1997 Asian financial crisis</a></li>\n",
       "<li><a href=\"/wiki/October_27,_1997,_mini-crash\" title=\"October 27, 1997, mini-crash\">October 27, 1997 mini-crash</a></li>\n",
       "<li><a href=\"/wiki/1998_Russian_financial_crisis\" title=\"1998 Russian financial crisis\">1998 Russian financial crisis</a></li></ul>\n",
       "</div></td></tr><tr><th class=\"navbox-group\" scope=\"row\" style=\"width:1%\">21st century</th><td class=\"navbox-list navbox-odd hlist\" style=\"text-align:left;border-left-width:2px;border-left-style:solid;width:100%;padding:0px\"><div style=\"padding:0em 0.25em\">\n",
       "<ul><li><a href=\"/wiki/Dot-com_bubble#Bursting_of_the_bubble\" title=\"Dot-com bubble\">Dot-com bubble crash</a> (2000–2002)</li>\n",
       "<li><a href=\"/wiki/Economic_effects_of_the_September_11_attacks#Financial_markets\" title=\"Economic effects of the September 11 attacks\">9/11 stock market crash</a> (2001)</li>\n",
       "<li><a href=\"/wiki/Stock_market_downturn_of_2002\" title=\"Stock market downturn of 2002\">Stock market downturn of 2002</a></li>\n",
       "<li><a href=\"/wiki/Chinese_stock_bubble_of_2007\" title=\"Chinese stock bubble of 2007\">Chinese stock bubble of 2007</a></li>\n",
       "<li><a href=\"/wiki/United_States_bear_market_of_2007%E2%80%932009\" title=\"United States bear market of 2007–2009\">U.S. bear market of 2007–2009</a></li>\n",
       "<li><a href=\"/wiki/Financial_crisis_of_2007%E2%80%9308\" title=\"Financial crisis of 2007–08\">Financial crisis of 2007–08</a></li>\n",
       "<li><a href=\"/wiki/Dubai_World#2009_debt_standstill\" title=\"Dubai World\">2009 Dubai debt standstill</a></li>\n",
       "<li><a href=\"/wiki/European_debt_crisis#Greece\" title=\"European debt crisis\">Greek government-debt crisis stock market crash</a> (2010)</li>\n",
       "<li><a class=\"mw-redirect\" href=\"/wiki/2010_Flash_Crash\" title=\"2010 Flash Crash\">2010 Flash Crash</a></li>\n",
       "<li><a href=\"/wiki/Aftermath_of_the_2011_T%C5%8Dhoku_earthquake_and_tsunami#Economic_impact\" title=\"Aftermath of the 2011 Tōhoku earthquake and tsunami\">2011 Tōhoku earthquake and tsunami stock market crash</a></li>\n",
       "<li><a href=\"/wiki/August_2011_stock_markets_fall\" title=\"August 2011 stock markets fall\">August 2011 stock markets fall</a></li>\n",
       "<li><a href=\"/wiki/2011_Bangladesh_share_market_scam\" title=\"2011 Bangladesh share market scam\">2011 Bangladesh share market scam</a></li>\n",
       "<li><a href=\"/wiki/2015%E2%80%9316_Chinese_stock_market_turbulence\" title=\"2015–16 Chinese stock market turbulence\">2015–16 Chinese stock market turbulence</a></li>\n",
       "<li><a href=\"/wiki/2015%E2%80%9316_stock_market_selloff\" title=\"2015–16 stock market selloff\">2015–16 stock market selloff</a></li>\n",
       "<li><a href=\"/wiki/Economic_effects_of_Brexit#Stock_markets_and_currencies\" title=\"Economic effects of Brexit\">Brexit stock market crash</a> (2016)</li>\n",
       "<li><a href=\"/wiki/2018_cryptocurrency_crash\" title=\"2018 cryptocurrency crash\">2018 cryptocurrency crash</a></li>\n",
       "<li><a href=\"/wiki/2020_stock_market_crash\" title=\"2020 stock market crash\">2020 stock market crash</a></li></ul>\n",
       "</div></td></tr></tbody></table></div>\n",
       "<div aria-labelledby=\"Economic,_financial_and_business_history_of_the_Netherlands\" class=\"navbox\" role=\"navigation\" style=\"padding:3px\"><table class=\"nowraplinks mw-collapsible mw-collapsed navbox-inner\" style=\"border-spacing:0;background:transparent;color:inherit\"><tbody><tr><th class=\"navbox-title\" colspan=\"2\" scope=\"col\"><div class=\"plainlinks hlist navbar mini\"><ul><li class=\"nv-view\"><a href=\"/wiki/Template:Economic_history_of_the_Netherlands\" title=\"Template:Economic history of the Netherlands\"><abbr style=\";;background:none transparent;border:none;-moz-box-shadow:none;-webkit-box-shadow:none;box-shadow:none; padding:0;\" title=\"View this template\">v</abbr></a></li><li class=\"nv-talk\"><a href=\"/wiki/Template_talk:Economic_history_of_the_Netherlands\" title=\"Template talk:Economic history of the Netherlands\"><abbr style=\";;background:none transparent;border:none;-moz-box-shadow:none;-webkit-box-shadow:none;box-shadow:none; padding:0;\" title=\"Discuss this template\">t</abbr></a></li><li class=\"nv-edit\"><a class=\"external text\" href=\"https://en.wikipedia.org/w/index.php?title=Template:Economic_history_of_the_Netherlands&amp;action=edit\"><abbr style=\";;background:none transparent;border:none;-moz-box-shadow:none;-webkit-box-shadow:none;box-shadow:none; padding:0;\" title=\"Edit this template\">e</abbr></a></li></ul></div><div id=\"Economic,_financial_and_business_history_of_the_Netherlands\" style=\"font-size:114%;margin:0 4em\"><a href=\"/wiki/Category:Economic_history_of_the_Netherlands\" title=\"Category:Economic history of the Netherlands\">Economic, financial and business history of the Netherlands</a></div></th></tr><tr><th class=\"navbox-group\" scope=\"row\" style=\"width:1%\">General</th><td class=\"navbox-list navbox-odd hlist\" style=\"text-align:left;border-left-width:2px;border-left-style:solid;width:100%;padding:0px\"><div style=\"padding:0em 0.25em\">\n",
       "<ul><li><a href=\"/wiki/Economy_of_the_Netherlands_from_1500%E2%80%931700\" title=\"Economy of the Netherlands from 1500–1700\">Economy of the Netherlands from 1500–1700</a></li>\n",
       "<li><a href=\"/wiki/Economic_history_of_the_Netherlands_(1500%E2%80%931815)\" title=\"Economic history of the Netherlands (1500–1815)\">Economic history of the Netherlands (1500–1815)</a></li>\n",
       "<li><a class=\"mw-redirect\" href=\"/wiki/Economic_history_of_the_Dutch_Republic\" title=\"Economic history of the Dutch Republic\">Economic history of the Dutch Republic</a></li>\n",
       "<li><a href=\"/wiki/Financial_history_of_the_Dutch_Republic\" title=\"Financial history of the Dutch Republic\">Financial history of the Dutch Republic</a></li>\n",
       "<li><a href=\"/wiki/Financial_history_of_the_Dutch_Republic\" title=\"Financial history of the Dutch Republic\">Dutch Financial Revolution</a> (1580s–1700s)</li>\n",
       "<li><a class=\"mw-redirect\" href=\"/wiki/Economic_history_of_the_Dutch_Republic\" title=\"Economic history of the Dutch Republic\">Dutch economic miracle</a> (1580s–ca.1700)</li>\n",
       "<li><a class=\"mw-redirect\" href=\"/wiki/Economic_history_of_the_Dutch_Republic\" title=\"Economic history of the Dutch Republic\">Early modern industrialization in the Dutch Republic</a> (1580s–1700s)</li>\n",
       "<li><a href=\"/wiki/Dutch_guilder\" title=\"Dutch guilder\">Dutch guilder</a></li>\n",
       "<li><a href=\"/wiki/Amsterdam_Entrep%C3%B4t\" title=\"Amsterdam Entrepôt\">Amsterdam Entrepôt</a></li>\n",
       "<li><a href=\"/wiki/Tulip_mania\" title=\"Tulip mania\">Tulip mania</a></li>\n",
       "<li><a href=\"/wiki/Whaling_in_the_Netherlands\" title=\"Whaling in the Netherlands\">Whaling in the Netherlands</a></li>\n",
       "<li><a href=\"/wiki/Economic_history_of_the_Netherlands_(1500%E2%80%931815)\" title=\"Economic history of the Netherlands (1500–1815)\">Diamond industry in the Dutch Republic</a></li>\n",
       "<li><a href=\"/wiki/Economic_history_of_the_Netherlands_(1500%E2%80%931815)\" title=\"Economic history of the Netherlands (1500–1815)\">Sugar industry in the Dutch Republic</a></li>\n",
       "<li><a href=\"/wiki/Economic_history_of_the_Netherlands_(1500%E2%80%931815)\" title=\"Economic history of the Netherlands (1500–1815)\">Shipbuilding industry in the Dutch Republic</a></li>\n",
       "<li><a href=\"/wiki/Economic_history_of_the_Netherlands_(1500%E2%80%931815)\" title=\"Economic history of the Netherlands (1500–1815)\">Pulp and paper industry in the Dutch Republic</a>\n",
       "<ul><li><a href=\"/wiki/Hollander_beater\" title=\"Hollander beater\">Hollander beater</a></li></ul></li>\n",
       "<li><a href=\"/wiki/History_of_chocolate\" title=\"History of chocolate\">History of the chocolate industry</a>\n",
       "<ul><li><a href=\"/wiki/Dutch_process_chocolate\" title=\"Dutch process chocolate\">Dutch process chocolate</a></li></ul></li>\n",
       "<li><a href=\"/wiki/Polder_model\" title=\"Polder model\">Polder model</a></li></ul>\n",
       "</div></td></tr><tr><th class=\"navbox-group\" scope=\"row\" style=\"width:1%\">Key institutions</th><td class=\"navbox-list navbox-odd hlist\" style=\"text-align:left;border-left-width:2px;border-left-style:solid;width:100%;padding:0px\"><div style=\"padding:0em 0.25em\"></div><table class=\"nowraplinks navbox-subgroup\" style=\"border-spacing:0\"><tbody><tr><th class=\"navbox-group\" scope=\"row\" style=\"width:1%\">Pre-1815</th><td class=\"navbox-list navbox-even\" style=\"text-align:left;border-left-width:2px;border-left-style:solid;width:100%;padding:0px\"><div style=\"padding:0em 0.25em\">\n",
       "<ul><li><a class=\"mw-redirect\" href=\"/wiki/Amsterdam_Stock_Exchange\" title=\"Amsterdam Stock Exchange\">Amsterdam Stock Exchange</a> (<a class=\"extiw\" href=\"https://nl.wikipedia.org/wiki/Beurs_van_Hendrick_de_Keyser\" title=\"nl:Beurs van Hendrick de Keyser\">Beurs van Hendrick de Keyser</a>)</li>\n",
       "<li><a class=\"mw-redirect\" href=\"/wiki/Bank_of_Amsterdam\" title=\"Bank of Amsterdam\">Bank of Amsterdam</a> (<a class=\"mw-redirect\" href=\"/wiki/Amsterdamsche_Wisselbank\" title=\"Amsterdamsche Wisselbank\">Amsterdamsche Wisselbank</a>)</li>\n",
       "<li><a href=\"/wiki/Brabantsche_Compagnie\" title=\"Brabantsche Compagnie\">Brabantsche Compagnie</a></li>\n",
       "<li><a href=\"/wiki/Compagnie_van_Verre\" title=\"Compagnie van Verre\">Compagnie van Verre</a></li>\n",
       "<li><a href=\"/wiki/Dutch_East_India_Company\" title=\"Dutch East India Company\">Dutch East India Company</a> (<a class=\"mw-redirect\" href=\"/wiki/Verenigde_Oostindische_Compagnie\" title=\"Verenigde Oostindische Compagnie\">VOC</a>)</li>\n",
       "<li><a href=\"/wiki/Dutch_West_India_Company\" title=\"Dutch West India Company\">Dutch West India Company</a> (<a class=\"mw-redirect\" href=\"/wiki/Geoctroyeerde_Westindische_Compagnie\" title=\"Geoctroyeerde Westindische Compagnie\">WIC/GWIC</a>)</li>\n",
       "<li><a href=\"/wiki/New_Netherland_Company\" title=\"New Netherland Company\">New Netherland Company</a></li>\n",
       "<li><a href=\"/wiki/Noordsche_Compagnie\" title=\"Noordsche Compagnie\">Noordsche Compagnie</a></li></ul>\n",
       "</div></td></tr><tr><th class=\"navbox-group\" scope=\"row\" style=\"width:1%\">Post-1815</th><td class=\"navbox-list navbox-odd\" style=\"text-align:left;border-left-width:2px;border-left-style:solid;width:100%;padding:0px\"><div style=\"padding:0em 0.25em\">\n",
       "<ul><li><a href=\"/wiki/De_Nederlandsche_Bank\" title=\"De Nederlandsche Bank\">De Nederlandsche Bank</a></li>\n",
       "<li><a href=\"/wiki/Philips\" title=\"Philips\">Philips</a></li>\n",
       "<li><a href=\"/wiki/Fokker\" title=\"Fokker\">Fokker</a></li>\n",
       "<li><a href=\"/wiki/KLM\" title=\"KLM\">KLM</a></li>\n",
       "<li><a href=\"/wiki/Stichting_Max_Havelaar\" title=\"Stichting Max Havelaar\">Stichting Max Havelaar</a></li></ul>\n",
       "</div></td></tr></tbody></table><div></div></td></tr><tr><th class=\"navbox-group\" scope=\"row\" style=\"width:1%\">Notable business and <br/> financial innovators</th><td class=\"navbox-list navbox-even hlist\" style=\"text-align:left;border-left-width:2px;border-left-style:solid;width:100%;padding:0px\"><div style=\"padding:0em 0.25em\">\n",
       "<ul><li><a href=\"/wiki/Louis_De_Geer_(1587%E2%80%931652)\" title=\"Louis De Geer (1587–1652)\">Louis De Geer</a></li>\n",
       "<li><a class=\"mw-redirect\" href=\"/wiki/Gerard_Adriaan_Heineken\" title=\"Gerard Adriaan Heineken\">Gerard Adriaan Heineken</a></li>\n",
       "<li><a href=\"/wiki/Isaac_Le_Maire\" title=\"Isaac Le Maire\">Isaac Le Maire</a></li>\n",
       "<li><a href=\"/wiki/Johan_Palmstruch\" title=\"Johan Palmstruch\">Johan Palmstruch</a></li>\n",
       "<li><a href=\"/wiki/Anton_Philips\" title=\"Anton Philips\">Anton Philips</a></li>\n",
       "<li><a href=\"/wiki/Gerard_Philips\" title=\"Gerard Philips\">Gerard Philips</a></li>\n",
       "<li><a href=\"/wiki/Nico_Roozen\" title=\"Nico Roozen\">Nico Roozen</a></li>\n",
       "<li><a href=\"/wiki/Coenraad_Johannes_van_Houten\" title=\"Coenraad Johannes van Houten\">Coenraad Johannes van Houten</a></li>\n",
       "<li><a href=\"/wiki/Anthony_Fokker\" title=\"Anthony Fokker\">Anthony Fokker</a></li>\n",
       "<li><a href=\"/wiki/Frans_van_der_Hoff\" title=\"Frans van der Hoff\">Frans van der Hoff</a></li></ul>\n",
       "</div></td></tr><tr><th class=\"navbox-group\" scope=\"row\" style=\"width:1%\">Pioneering innovations</th><td class=\"navbox-list navbox-odd hlist\" style=\"text-align:left;border-left-width:2px;border-left-style:solid;width:100%;padding:0px\"><div style=\"padding:0em 0.25em\">\n",
       "<ul><li><a href=\"/wiki/Multinational_corporation\" title=\"Multinational corporation\">Multinational corporation</a></li>\n",
       "<li><a href=\"/wiki/Transnational_corporation\" title=\"Transnational corporation\">Transnational corporation</a></li>\n",
       "<li><a href=\"/wiki/Public_company\" title=\"Public company\">Public company</a> (<a class=\"mw-redirect\" href=\"/wiki/Publicly_traded_company\" title=\"Publicly traded company\">publicly traded company</a>, <a class=\"mw-redirect\" href=\"/wiki/Publicly_listed_company\" title=\"Publicly listed company\">publicly listed company</a>)</li>\n",
       "<li><a href=\"/wiki/Megacorporation\" title=\"Megacorporation\">Megacorporation</a></li>\n",
       "<li><a href=\"/wiki/Conglomerate_(company)\" title=\"Conglomerate (company)\">Conglomerate</a></li>\n",
       "<li><a href=\"/wiki/Corporate_finance\" title=\"Corporate finance\">Corporate finance</a></li>\n",
       "<li><a href=\"/wiki/Central_bank\" title=\"Central bank\">Central bank</a></li>\n",
       "<li><a href=\"/wiki/Consolidation_(business)\" title=\"Consolidation (business)\">Consolidation</a> (<a class=\"mw-redirect\" href=\"/wiki/Amalgamation_(business)\" title=\"Amalgamation (business)\">amalgamation</a>)</li>\n",
       "<li><a href=\"/wiki/Initial_public_offering\" title=\"Initial public offering\">Initial public offering</a> (IPO)</li>\n",
       "<li><a href=\"/wiki/Capital_market\" title=\"Capital market\">Capital market</a></li>\n",
       "<li><a class=\"mw-selflink selflink\">Stock market</a></li>\n",
       "<li><a href=\"/wiki/Stock_exchange\" title=\"Stock exchange\">Stock exchange</a></li>\n",
       "<li><a href=\"/wiki/Securitization\" title=\"Securitization\">Securitization</a></li>\n",
       "<li><a href=\"/wiki/Common_stock\" title=\"Common stock\">Common stock</a></li>\n",
       "<li><a href=\"/wiki/Corporate_bond\" title=\"Corporate bond\">Corporate bond</a></li>\n",
       "<li><a href=\"/wiki/Perpetual_bond\" title=\"Perpetual bond\">Perpetual bond</a></li>\n",
       "<li><a class=\"mw-redirect\" href=\"/wiki/Collective_investment_scheme\" title=\"Collective investment scheme\">Collective investment schemes</a> (<a href=\"/wiki/Investment_fund\" title=\"Investment fund\">investment funds</a>)</li>\n",
       "<li><a href=\"/wiki/Dividend\" title=\"Dividend\">Dividend</a> (<a href=\"/wiki/Dividend_policy\" title=\"Dividend policy\">dividend policy</a>)</li>\n",
       "<li><a href=\"/wiki/Dutch_auction\" title=\"Dutch auction\">Dutch auction</a></li>\n",
       "<li><a href=\"/wiki/Fairtrade_certification\" title=\"Fairtrade certification\">Fairtrade certification</a></li>\n",
       "<li><a href=\"/wiki/Government_debt\" title=\"Government debt\">Government debt</a></li>\n",
       "<li><a href=\"/wiki/Financial_regulation\" title=\"Financial regulation\">Financial regulation</a></li>\n",
       "<li><a href=\"/wiki/Investment_banking\" title=\"Investment banking\">Investment banking</a></li>\n",
       "<li><a href=\"/wiki/Mutual_fund\" title=\"Mutual fund\">Mutual fund</a></li>\n",
       "<li><a href=\"/wiki/Bear_raid\" title=\"Bear raid\">Bear raid</a></li>\n",
       "<li><a class=\"mw-redirect\" href=\"/wiki/Short_selling\" title=\"Short selling\">Short selling</a> (<a href=\"/wiki/Naked_short_selling\" title=\"Naked short selling\">naked short selling</a>)</li>\n",
       "<li><a class=\"mw-redirect\" href=\"/wiki/Shareholder_activism\" title=\"Shareholder activism\">Shareholder activism</a> (<a href=\"/wiki/Activist_shareholder\" title=\"Activist shareholder\">activist shareholder</a>)</li>\n",
       "<li><a class=\"mw-redirect\" href=\"/wiki/Shareholder_revolt\" title=\"Shareholder revolt\">Shareholder revolt</a> (<a href=\"/wiki/Shareholder_rebellion\" title=\"Shareholder rebellion\">shareholder rebellion</a>)</li>\n",
       "<li><a href=\"/wiki/Technical_analysis\" title=\"Technical analysis\">Technical analysis</a></li>\n",
       "<li><a href=\"/wiki/Tontine\" title=\"Tontine\">Tontine</a></li></ul>\n",
       "</div></td></tr><tr><th class=\"navbox-group\" scope=\"row\" style=\"width:1%\">Others</th><td class=\"navbox-list navbox-even hlist\" style=\"text-align:left;border-left-width:2px;border-left-style:solid;width:100%;padding:0px\"><div style=\"padding:0em 0.25em\">\n",
       "<ul><li><a href=\"/wiki/Dutch_disease\" title=\"Dutch disease\">Dutch disease</a></li>\n",
       "<li><a href=\"/wiki/Economic_bubble\" title=\"Economic bubble\">Economic bubble</a> (<a class=\"mw-redirect\" href=\"/wiki/Speculative_bubble\" title=\"Speculative bubble\">speculative bubble</a>)</li>\n",
       "<li><a href=\"/wiki/Stock_market_crash\" title=\"Stock market crash\">Stock market crash</a></li>\n",
       "<li><a href=\"/wiki/History_of_capitalism\" title=\"History of capitalism\">History of capitalism</a></li>\n",
       "<li><a href=\"/wiki/Economic_miracle\" title=\"Economic miracle\">Economic miracle</a></li>\n",
       "<li><a class=\"mw-redirect\" href=\"/wiki/Economic_boom\" title=\"Economic boom\">Economic boom</a></li>\n",
       "<li><a href=\"/wiki/Economic_growth\" title=\"Economic growth\">Economic growth</a></li>\n",
       "<li><a class=\"mw-redirect\" href=\"/wiki/Global_economy\" title=\"Global economy\">Global economy</a></li>\n",
       "<li><a href=\"/wiki/International_trade\" title=\"International trade\">International trade</a></li>\n",
       "<li><a href=\"/wiki/International_business\" title=\"International business\">International business</a></li>\n",
       "<li><a class=\"mw-redirect\" href=\"/wiki/International_financial_centre\" title=\"International financial centre\">International financial centre</a></li>\n",
       "<li><a href=\"/wiki/Economic_globalization\" title=\"Economic globalization\">Economic globalization</a></li>\n",
       "<li><a href=\"/wiki/Finance_capitalism\" title=\"Finance capitalism\">Finance capitalism</a></li>\n",
       "<li><a href=\"/wiki/Financial_system\" title=\"Financial system\">Financial system</a></li>\n",
       "<li><a class=\"mw-redirect\" href=\"/wiki/Financial_revolution\" title=\"Financial revolution\">Financial revolution</a></li></ul>\n",
       "</div></td></tr></tbody></table></div>\n",
       "<div aria-labelledby=\"Authority_control_frameless_&amp;#124;text-top_&amp;#124;10px_&amp;#124;alt=Edit_this_at_Wikidata_&amp;#124;link=https&amp;#58;//www.wikidata.org/wiki/Q475000&amp;#124;Edit_this_at_Wikidata\" class=\"navbox authority-control\" role=\"navigation\" style=\"padding:3px\"><table class=\"nowraplinks hlist navbox-inner\" style=\"border-spacing:0;background:transparent;color:inherit\"><tbody><tr><th class=\"navbox-group\" id=\"Authority_control_frameless_&amp;#124;text-top_&amp;#124;10px_&amp;#124;alt=Edit_this_at_Wikidata_&amp;#124;link=https&amp;#58;//www.wikidata.org/wiki/Q475000&amp;#124;Edit_this_at_Wikidata\" scope=\"row\" style=\"width:1%\"><a href=\"/wiki/Help:Authority_control\" title=\"Help:Authority control\">Authority control</a> <a href=\"https://www.wikidata.org/wiki/Q475000\" title=\"Edit this at Wikidata\"><img alt=\"Edit this at Wikidata\" data-file-height=\"20\" data-file-width=\"20\" decoding=\"async\" height=\"10\" src=\"//upload.wikimedia.org/wikipedia/en/thumb/8/8a/OOjs_UI_icon_edit-ltr-progressive.svg/10px-OOjs_UI_icon_edit-ltr-progressive.svg.png\" srcset=\"//upload.wikimedia.org/wikipedia/en/thumb/8/8a/OOjs_UI_icon_edit-ltr-progressive.svg/15px-OOjs_UI_icon_edit-ltr-progressive.svg.png 1.5x, //upload.wikimedia.org/wikipedia/en/thumb/8/8a/OOjs_UI_icon_edit-ltr-progressive.svg/20px-OOjs_UI_icon_edit-ltr-progressive.svg.png 2x\" style=\"vertical-align: text-top\" width=\"10\"/></a></th><td class=\"navbox-list navbox-odd\" style=\"text-align:left;border-left-width:2px;border-left-style:solid;width:100%;padding:0px\"><div style=\"padding:0em 0.25em\">\n",
       "<ul><li><span class=\"nowrap\"><a class=\"mw-redirect\" href=\"/wiki/GND_(identifier)\" title=\"GND (identifier)\">GND</a>: <span class=\"uid\"><a class=\"external text\" href=\"https://d-nb.info/gnd/4130931-5\" rel=\"nofollow\">4130931-5</a></span></span></li>\n",
       "<li><span class=\"nowrap\"><a href=\"/wiki/National_Diet_Library\" title=\"National Diet Library\">NDL</a>: <span class=\"uid\"><a class=\"external text\" href=\"https://id.ndl.go.jp/auth/ndlna/00572098\" rel=\"nofollow\">00572098</a></span></span></li></ul>\n",
       "</div></td></tr></tbody></table></div>\n",
       "<!-- \n",
       "NewPP limit report\n",
       "Parsed by mw1388\n",
       "Cached time: 20200522144934\n",
       "Cache expiry: 2592000\n",
       "Dynamic content: false\n",
       "Complications: [vary‐revision‐sha1]\n",
       "CPU time usage: 1.156 seconds\n",
       "Real time usage: 1.718 seconds\n",
       "Preprocessor visited node count: 10433/1000000\n",
       "Post‐expand include size: 246943/2097152 bytes\n",
       "Template argument size: 27121/2097152 bytes\n",
       "Highest expansion depth: 16/40\n",
       "Expensive parser function count: 14/500\n",
       "Unstrip recursion depth: 1/20\n",
       "Unstrip post‐expand size: 216740/5000000 bytes\n",
       "Number of Wikibase entities loaded: 1/400\n",
       "Lua time usage: 0.456/10.000 seconds\n",
       "Lua memory usage: 8.49 MB/50 MB\n",
       "-->\n",
       "<!--\n",
       "Transclusion expansion time report (%,ms,calls,template)\n",
       "100.00% 1367.917      1 -total\n",
       " 29.68%  406.061      2 Template:Reflist\n",
       " 19.51%  266.934      1 Template:Capitalism\n",
       " 18.39%  251.564      5 Template:Portal-inline\n",
       " 13.64%  186.571      5 Template:Navbox\n",
       " 12.50%  170.991      1 Template:Stock_exchanges_top_18\n",
       " 11.65%  159.399     25 Template:Flagicon\n",
       " 10.59%  144.834     21 Template:Cite_web\n",
       "  7.05%   96.460      9 Template:ISBN\n",
       "  6.53%   89.350      6 Template:Fix\n",
       "-->\n",
       "<!-- Saved in parser cache with key enwiki:pcache:idhash:52328-0!canonical and timestamp 20200522144932 and revision id 958215978\n",
       " -->\n",
       "</div><noscript><img alt=\"\" height=\"1\" src=\"//en.wikipedia.org/wiki/Special:CentralAutoLogin/start?type=1x1\" style=\"border: none; position: absolute;\" title=\"\" width=\"1\"/></noscript></div>\n",
       "<div class=\"printfooter\">Retrieved from \"<a dir=\"ltr\" href=\"https://en.wikipedia.org/w/index.php?title=Stock_market&amp;oldid=958215978\">https://en.wikipedia.org/w/index.php?title=Stock_market&amp;oldid=958215978</a>\"</div>\n",
       "<div class=\"catlinks\" data-mw=\"interface\" id=\"catlinks\"><div class=\"mw-normal-catlinks\" id=\"mw-normal-catlinks\"><a href=\"/wiki/Help:Category\" title=\"Help:Category\">Categories</a>: <ul><li><a href=\"/wiki/Category:Stock_market\" title=\"Category:Stock market\">Stock market</a></li><li><a href=\"/wiki/Category:17th-century_introductions\" title=\"Category:17th-century introductions\">17th-century introductions</a></li><li><a href=\"/wiki/Category:Capitalism\" title=\"Category:Capitalism\">Capitalism</a></li><li><a href=\"/wiki/Category:Dutch_inventions\" title=\"Category:Dutch inventions\">Dutch inventions</a></li></ul></div><div class=\"mw-hidden-catlinks mw-hidden-cats-hidden\" id=\"mw-hidden-catlinks\">Hidden categories: <ul><li><a href=\"/wiki/Category:CS1_errors:_missing_periodical\" title=\"Category:CS1 errors: missing periodical\">CS1 errors: missing periodical</a></li><li><a href=\"/wiki/Category:CS1_maint:_multiple_names:_authors_list\" title=\"Category:CS1 maint: multiple names: authors list\">CS1 maint: multiple names: authors list</a></li><li><a href=\"/wiki/Category:Use_mdy_dates_from_June_2013\" title=\"Category:Use mdy dates from June 2013\">Use mdy dates from June 2013</a></li><li><a href=\"/wiki/Category:Articles_containing_potentially_dated_statements_from_2016\" title=\"Category:Articles containing potentially dated statements from 2016\">Articles containing potentially dated statements from 2016</a></li><li><a href=\"/wiki/Category:All_articles_containing_potentially_dated_statements\" title=\"Category:All articles containing potentially dated statements\">All articles containing potentially dated statements</a></li><li><a href=\"/wiki/Category:All_articles_with_unsourced_statements\" title=\"Category:All articles with unsourced statements\">All articles with unsourced statements</a></li><li><a href=\"/wiki/Category:Articles_with_unsourced_statements_from_March_2017\" title=\"Category:Articles with unsourced statements from March 2017\">Articles with unsourced statements from March 2017</a></li><li><a href=\"/wiki/Category:All_accuracy_disputes\" title=\"Category:All accuracy disputes\">All accuracy disputes</a></li><li><a href=\"/wiki/Category:Articles_with_disputed_statements_from_November_2019\" title=\"Category:Articles with disputed statements from November 2019\">Articles with disputed statements from November 2019</a></li><li><a href=\"/wiki/Category:Articles_with_unsourced_statements_from_November_2019\" title=\"Category:Articles with unsourced statements from November 2019\">Articles with unsourced statements from November 2019</a></li><li><a href=\"/wiki/Category:Articles_with_unsourced_statements_from_February_2017\" title=\"Category:Articles with unsourced statements from February 2017\">Articles with unsourced statements from February 2017</a></li><li><a href=\"/wiki/Category:Articles_with_unsourced_statements_from_September_2016\" title=\"Category:Articles with unsourced statements from September 2016\">Articles with unsourced statements from September 2016</a></li><li><a href=\"/wiki/Category:Articles_with_Curlie_links\" title=\"Category:Articles with Curlie links\">Articles with Curlie links</a></li><li><a href=\"/wiki/Category:Wikipedia_articles_with_GND_identifiers\" title=\"Category:Wikipedia articles with GND identifiers\">Wikipedia articles with GND identifiers</a></li><li><a href=\"/wiki/Category:Wikipedia_articles_with_NDL_identifiers\" title=\"Category:Wikipedia articles with NDL identifiers\">Wikipedia articles with NDL identifiers</a></li></ul></div></div>\n",
       "<div class=\"visualClear\"></div>\n",
       "</div>\n",
       "</div>\n",
       "<div id=\"mw-data-after-content\">\n",
       "<div class=\"read-more-container\"></div>\n",
       "</div>\n",
       "<div id=\"mw-navigation\">\n",
       "<h2>Navigation menu</h2>\n",
       "<div id=\"mw-head\">\n",
       "<div aria-labelledby=\"p-personal-label\" class=\"\" id=\"p-personal\" role=\"navigation\">\n",
       "<h3 id=\"p-personal-label\">Personal tools</h3>\n",
       "<ul>\n",
       "<li id=\"pt-anonuserpage\">Not logged in</li><li id=\"pt-anontalk\"><a accesskey=\"n\" href=\"/wiki/Special:MyTalk\" title=\"Discussion about edits from this IP address [n]\">Talk</a></li><li id=\"pt-anoncontribs\"><a accesskey=\"y\" href=\"/wiki/Special:MyContributions\" title=\"A list of edits made from this IP address [y]\">Contributions</a></li><li id=\"pt-createaccount\"><a href=\"/w/index.php?title=Special:CreateAccount&amp;returnto=Stock+market\" title=\"You are encouraged to create an account and log in; however, it is not mandatory\">Create account</a></li><li id=\"pt-login\"><a accesskey=\"o\" href=\"/w/index.php?title=Special:UserLogin&amp;returnto=Stock+market\" title=\"You're encouraged to log in; however, it's not mandatory. [o]\">Log in</a></li>\n",
       "</ul>\n",
       "</div>\n",
       "<div id=\"left-navigation\">\n",
       "<div aria-labelledby=\"p-namespaces-label\" class=\"vectorTabs\" id=\"p-namespaces\" role=\"navigation\">\n",
       "<h3 id=\"p-namespaces-label\">Namespaces</h3>\n",
       "<ul>\n",
       "<li class=\"selected\" id=\"ca-nstab-main\"><a accesskey=\"c\" href=\"/wiki/Stock_market\" title=\"View the content page [c]\">Article</a></li><li id=\"ca-talk\"><a accesskey=\"t\" href=\"/wiki/Talk:Stock_market\" rel=\"discussion\" title=\"Discuss improvements to the content page [t]\">Talk</a></li>\n",
       "</ul>\n",
       "</div>\n",
       "<div aria-labelledby=\"p-variants-label\" class=\"emptyPortlet vectorMenu\" id=\"p-variants\" role=\"navigation\">\n",
       "<input aria-labelledby=\"p-variants-label\" class=\"vectorMenuCheckbox\" type=\"checkbox\"/>\n",
       "<h3 id=\"p-variants-label\">\n",
       "<span>Variants</span>\n",
       "</h3>\n",
       "<ul class=\"menu\">\n",
       "</ul>\n",
       "</div>\n",
       "</div>\n",
       "<div id=\"right-navigation\">\n",
       "<div aria-labelledby=\"p-views-label\" class=\"vectorTabs\" id=\"p-views\" role=\"navigation\">\n",
       "<h3 id=\"p-views-label\">Views</h3>\n",
       "<ul>\n",
       "<li class=\"collapsible selected\" id=\"ca-view\"><a href=\"/wiki/Stock_market\">Read</a></li><li class=\"collapsible\" id=\"ca-edit\"><a accesskey=\"e\" href=\"/w/index.php?title=Stock_market&amp;action=edit\" title=\"Edit this page [e]\">Edit</a></li><li class=\"collapsible\" id=\"ca-history\"><a accesskey=\"h\" href=\"/w/index.php?title=Stock_market&amp;action=history\" title=\"Past revisions of this page [h]\">View history</a></li>\n",
       "</ul>\n",
       "</div>\n",
       "<div aria-labelledby=\"p-cactions-label\" class=\"emptyPortlet vectorMenu\" id=\"p-cactions\" role=\"navigation\">\n",
       "<input aria-labelledby=\"p-cactions-label\" class=\"vectorMenuCheckbox\" type=\"checkbox\"/>\n",
       "<h3 id=\"p-cactions-label\">\n",
       "<span>More</span>\n",
       "</h3>\n",
       "<ul class=\"menu\">\n",
       "</ul>\n",
       "</div>\n",
       "<div id=\"p-search\" role=\"search\">\n",
       "<h3>\n",
       "<label for=\"searchInput\">Search</label>\n",
       "</h3>\n",
       "<form action=\"/w/index.php\" id=\"searchform\">\n",
       "<div id=\"simpleSearch\">\n",
       "<input accesskey=\"f\" id=\"searchInput\" name=\"search\" placeholder=\"Search Wikipedia\" title=\"Search Wikipedia [f]\" type=\"search\"/>\n",
       "<input name=\"title\" type=\"hidden\" value=\"Special:Search\"/>\n",
       "<input class=\"searchButton mw-fallbackSearchButton\" id=\"mw-searchButton\" name=\"fulltext\" title=\"Search Wikipedia for this text\" type=\"submit\" value=\"Search\"/>\n",
       "<input class=\"searchButton\" id=\"searchButton\" name=\"go\" title=\"Go to a page with this exact name if it exists\" type=\"submit\" value=\"Go\"/>\n",
       "</div>\n",
       "</form>\n",
       "</div>\n",
       "</div>\n",
       "</div>\n",
       "<div id=\"mw-panel\">\n",
       "<div id=\"p-logo\" role=\"banner\">\n",
       "<a class=\"mw-wiki-logo\" href=\"/wiki/Main_Page\" title=\"Visit the main page\"></a>\n",
       "</div>\n",
       "<div aria-labelledby=\"p-navigation-label\" class=\"portal portal-first\" id=\"p-navigation\" role=\"navigation\">\n",
       "<h3 id=\"p-navigation-label\">\n",
       "\t\tNavigation\n",
       "\t</h3>\n",
       "<div class=\"body\">\n",
       "<ul><li id=\"n-mainpage-description\"><a accesskey=\"z\" href=\"/wiki/Main_Page\" title=\"Visit the main page [z]\">Main page</a></li><li id=\"n-contents\"><a href=\"/wiki/Wikipedia:Contents\" title=\"Guides to browsing Wikipedia\">Contents</a></li><li id=\"n-featuredcontent\"><a href=\"/wiki/Wikipedia:Featured_content\" title=\"Featured content – the best of Wikipedia\">Featured content</a></li><li id=\"n-currentevents\"><a href=\"/wiki/Portal:Current_events\" title=\"Find background information on current events\">Current events</a></li><li id=\"n-randompage\"><a accesskey=\"x\" href=\"/wiki/Special:Random\" title=\"Load a random article [x]\">Random article</a></li><li id=\"n-sitesupport\"><a href=\"https://donate.wikimedia.org/wiki/Special:FundraiserRedirector?utm_source=donate&amp;utm_medium=sidebar&amp;utm_campaign=C13_en.wikipedia.org&amp;uselang=en\" title=\"Support us\">Donate to Wikipedia</a></li><li id=\"n-shoplink\"><a href=\"//shop.wikimedia.org\" title=\"Visit the Wikipedia store\">Wikipedia store</a></li></ul>\n",
       "</div>\n",
       "</div>\n",
       "<div aria-labelledby=\"p-interaction-label\" class=\"portal\" id=\"p-interaction\" role=\"navigation\">\n",
       "<h3 id=\"p-interaction-label\">\n",
       "\t\tInteraction\n",
       "\t</h3>\n",
       "<div class=\"body\">\n",
       "<ul><li id=\"n-help\"><a href=\"/wiki/Help:Contents\" title=\"Guidance on how to use and edit Wikipedia\">Help</a></li><li id=\"n-aboutsite\"><a href=\"/wiki/Wikipedia:About\" title=\"Find out about Wikipedia\">About Wikipedia</a></li><li id=\"n-portal\"><a href=\"/wiki/Wikipedia:Community_portal\" title=\"About the project, what you can do, where to find things\">Community portal</a></li><li id=\"n-recentchanges\"><a accesskey=\"r\" href=\"/wiki/Special:RecentChanges\" title=\"A list of recent changes in the wiki [r]\">Recent changes</a></li><li id=\"n-contactpage\"><a href=\"//en.wikipedia.org/wiki/Wikipedia:Contact_us\" title=\"How to contact Wikipedia\">Contact page</a></li></ul>\n",
       "</div>\n",
       "</div>\n",
       "<div aria-labelledby=\"p-tb-label\" class=\"portal\" id=\"p-tb\" role=\"navigation\">\n",
       "<h3 id=\"p-tb-label\">\n",
       "\t\tTools\n",
       "\t</h3>\n",
       "<div class=\"body\">\n",
       "<ul><li id=\"t-whatlinkshere\"><a accesskey=\"j\" href=\"/wiki/Special:WhatLinksHere/Stock_market\" title=\"List of all English Wikipedia pages containing links to this page [j]\">What links here</a></li><li id=\"t-recentchangeslinked\"><a accesskey=\"k\" href=\"/wiki/Special:RecentChangesLinked/Stock_market\" rel=\"nofollow\" title=\"Recent changes in pages linked from this page [k]\">Related changes</a></li><li id=\"t-upload\"><a accesskey=\"u\" href=\"/wiki/Wikipedia:File_Upload_Wizard\" title=\"Upload files [u]\">Upload file</a></li><li id=\"t-specialpages\"><a accesskey=\"q\" href=\"/wiki/Special:SpecialPages\" title=\"A list of all special pages [q]\">Special pages</a></li><li id=\"t-permalink\"><a href=\"/w/index.php?title=Stock_market&amp;oldid=958215978\" title=\"Permanent link to this revision of the page\">Permanent link</a></li><li id=\"t-info\"><a href=\"/w/index.php?title=Stock_market&amp;action=info\" title=\"More information about this page\">Page information</a></li><li id=\"t-wikibase\"><a accesskey=\"g\" href=\"https://www.wikidata.org/wiki/Special:EntityPage/Q475000\" title=\"Link to connected data repository item [g]\">Wikidata item</a></li><li id=\"t-cite\"><a href=\"/w/index.php?title=Special:CiteThisPage&amp;page=Stock_market&amp;id=958215978&amp;wpFormIdentifier=titleform\" title=\"Information on how to cite this page\">Cite this page</a></li></ul>\n",
       "</div>\n",
       "</div>\n",
       "<div aria-labelledby=\"p-wikibase-otherprojects-label\" class=\"portal\" id=\"p-wikibase-otherprojects\" role=\"navigation\">\n",
       "<h3 id=\"p-wikibase-otherprojects-label\">\n",
       "\t\tIn other projects\n",
       "\t</h3>\n",
       "<div class=\"body\">\n",
       "<ul><li class=\"wb-otherproject-link wb-otherproject-commons\"><a href=\"https://commons.wikimedia.org/wiki/Category:Stock_exchanges\" hreflang=\"en\">Wikimedia Commons</a></li><li class=\"wb-otherproject-link wb-otherproject-wikinews\"><a href=\"https://en.wikinews.org/wiki/Category:Stock_market\" hreflang=\"en\">Wikinews</a></li><li class=\"wb-otherproject-link wb-otherproject-wikiquote\"><a href=\"https://en.wikiquote.org/wiki/Stock_market\" hreflang=\"en\">Wikiquote</a></li></ul>\n",
       "</div>\n",
       "</div>\n",
       "<div aria-labelledby=\"p-coll-print_export-label\" class=\"portal\" id=\"p-coll-print_export\" role=\"navigation\">\n",
       "<h3 id=\"p-coll-print_export-label\">\n",
       "\t\tPrint/export\n",
       "\t</h3>\n",
       "<div class=\"body\">\n",
       "<ul><li id=\"coll-download-as-rl\"><a href=\"/w/index.php?title=Special:ElectronPdf&amp;page=Stock+market&amp;action=show-download-screen\">Download as PDF</a></li><li id=\"t-print\"><a accesskey=\"p\" href=\"/w/index.php?title=Stock_market&amp;printable=yes\" title=\"Printable version of this page [p]\">Printable version</a></li></ul>\n",
       "</div>\n",
       "</div>\n",
       "<div aria-labelledby=\"p-lang-label\" class=\"portal\" id=\"p-lang\" role=\"navigation\">\n",
       "<h3 id=\"p-lang-label\">\n",
       "\t\tLanguages\n",
       "\t</h3>\n",
       "<div class=\"body\">\n",
       "<ul><li class=\"interlanguage-link interwiki-bn\"><a class=\"interlanguage-link-target\" href=\"https://bn.wikipedia.org/wiki/%E0%A6%B6%E0%A7%87%E0%A6%AF%E0%A6%BC%E0%A6%BE%E0%A6%B0_%E0%A6%AC%E0%A6%BE%E0%A6%9C%E0%A6%BE%E0%A6%B0\" hreflang=\"bn\" lang=\"bn\" title=\"শেয়ার বাজার – Bangla\">বাংলা</a></li><li class=\"interlanguage-link interwiki-ba\"><a class=\"interlanguage-link-target\" href=\"https://ba.wikipedia.org/wiki/%D2%A0%D0%B8%D0%BC%D0%BC%D3%99%D1%82%D0%BB%D0%B5_%D2%A1%D0%B0%D2%93%D1%8B%D2%99%D2%99%D0%B0%D1%80_%D0%B1%D0%B0%D2%99%D0%B0%D1%80%D1%8B\" hreflang=\"ba\" lang=\"ba\" title=\"Ҡиммәтле ҡағыҙҙар баҙары – Bashkir\">Башҡортса</a></li><li class=\"interlanguage-link interwiki-bg\"><a class=\"interlanguage-link-target\" href=\"https://bg.wikipedia.org/wiki/%D0%A4%D0%BE%D0%BD%D0%B4%D0%BE%D0%B2_%D0%BF%D0%B0%D0%B7%D0%B0%D1%80\" hreflang=\"bg\" lang=\"bg\" title=\"Фондов пазар – Bulgarian\">Български</a></li><li class=\"interlanguage-link interwiki-ca\"><a class=\"interlanguage-link-target\" href=\"https://ca.wikipedia.org/wiki/Mercat_de_valors\" hreflang=\"ca\" lang=\"ca\" title=\"Mercat de valors – Catalan\">Català</a></li><li class=\"interlanguage-link interwiki-cv\"><a class=\"interlanguage-link-target\" href=\"https://cv.wikipedia.org/wiki/%D0%A2%C4%95%D0%BF%D0%BB%C4%95%D1%85_%D0%BF%D0%B0%D1%81%D0%B0%D1%80%C4%95\" hreflang=\"cv\" lang=\"cv\" title=\"Тĕплĕх пасарĕ – Chuvash\">Чӑвашла</a></li><li class=\"interlanguage-link interwiki-da\"><a class=\"interlanguage-link-target\" href=\"https://da.wikipedia.org/wiki/Aktiemarkedet\" hreflang=\"da\" lang=\"da\" title=\"Aktiemarkedet – Danish\">Dansk</a></li><li class=\"interlanguage-link interwiki-de\"><a class=\"interlanguage-link-target\" href=\"https://de.wikipedia.org/wiki/Aktienmarkt\" hreflang=\"de\" lang=\"de\" title=\"Aktienmarkt – German\">Deutsch</a></li><li class=\"interlanguage-link interwiki-es\"><a class=\"interlanguage-link-target\" href=\"https://es.wikipedia.org/wiki/Mercado_de_valores\" hreflang=\"es\" lang=\"es\" title=\"Mercado de valores – Spanish\">Español</a></li><li class=\"interlanguage-link interwiki-eu\"><a class=\"interlanguage-link-target\" href=\"https://eu.wikipedia.org/wiki/Baloreen_merkatua\" hreflang=\"eu\" lang=\"eu\" title=\"Baloreen merkatua – Basque\">Euskara</a></li><li class=\"interlanguage-link interwiki-fa\"><a class=\"interlanguage-link-target\" href=\"https://fa.wikipedia.org/wiki/%D8%A8%D8%A7%D8%B2%D8%A7%D8%B1_%D8%B3%D9%87%D8%A7%D9%85\" hreflang=\"fa\" lang=\"fa\" title=\"بازار سهام – Persian\">فارسی</a></li><li class=\"interlanguage-link interwiki-ko\"><a class=\"interlanguage-link-target\" href=\"https://ko.wikipedia.org/wiki/%EC%A3%BC%EC%8B%9D_%EC%8B%9C%EC%9E%A5\" hreflang=\"ko\" lang=\"ko\" title=\"주식 시장 – Korean\">한국어</a></li><li class=\"interlanguage-link interwiki-hy\"><a class=\"interlanguage-link-target\" href=\"https://hy.wikipedia.org/wiki/%D4%B1%D6%80%D5%AA%D5%A5%D5%A9%D5%B2%D5%A9%D5%A5%D6%80%D5%AB_%D5%B7%D5%B8%D6%82%D5%AF%D5%A1\" hreflang=\"hy\" lang=\"hy\" title=\"Արժեթղթերի շուկա – Armenian\">Հայերեն</a></li><li class=\"interlanguage-link interwiki-hi\"><a class=\"interlanguage-link-target\" href=\"https://hi.wikipedia.org/wiki/%E0%A4%B6%E0%A5%87%E0%A4%AF%E0%A4%B0_%E0%A4%AC%E0%A4%BE%E0%A4%9C%E0%A4%BC%E0%A4%BE%E0%A4%B0\" hreflang=\"hi\" lang=\"hi\" title=\"शेयर बाज़ार – Hindi\">हिन्दी</a></li><li class=\"interlanguage-link interwiki-it\"><a class=\"interlanguage-link-target\" href=\"https://it.wikipedia.org/wiki/Mercato_azionario\" hreflang=\"it\" lang=\"it\" title=\"Mercato azionario – Italian\">Italiano</a></li><li class=\"interlanguage-link interwiki-kn\"><a class=\"interlanguage-link-target\" href=\"https://kn.wikipedia.org/wiki/%E0%B2%B7%E0%B3%87%E0%B2%B0%E0%B3%81_%E0%B2%AE%E0%B2%BE%E0%B2%B0%E0%B3%81%E0%B2%95%E0%B2%9F%E0%B3%8D%E0%B2%9F%E0%B3%86\" hreflang=\"kn\" lang=\"kn\" title=\"ಷೇರು ಮಾರುಕಟ್ಟೆ – Kannada\">ಕನ್ನಡ</a></li><li class=\"interlanguage-link interwiki-kk\"><a class=\"interlanguage-link-target\" href=\"https://kk.wikipedia.org/wiki/%D2%9A%D0%BE%D1%80_%D0%BD%D0%B0%D1%80%D1%8B%D2%93%D1%8B\" hreflang=\"kk\" lang=\"kk\" title=\"Қор нарығы – Kazakh\">Қазақша</a></li><li class=\"interlanguage-link interwiki-lv\"><a class=\"interlanguage-link-target\" href=\"https://lv.wikipedia.org/wiki/Akciju_tirgus\" hreflang=\"lv\" lang=\"lv\" title=\"Akciju tirgus – Latvian\">Latviešu</a></li><li class=\"interlanguage-link interwiki-lt\"><a class=\"interlanguage-link-target\" href=\"https://lt.wikipedia.org/wiki/Akcij%C5%B3_rinka\" hreflang=\"lt\" lang=\"lt\" title=\"Akcijų rinka – Lithuanian\">Lietuvių</a></li><li class=\"interlanguage-link interwiki-mr\"><a class=\"interlanguage-link-target\" href=\"https://mr.wikipedia.org/wiki/%E0%A4%B8%E0%A4%AE%E0%A4%AD%E0%A4%BE%E0%A4%97_%E0%A4%AC%E0%A4%BE%E0%A4%9C%E0%A4%BE%E0%A4%B0\" hreflang=\"mr\" lang=\"mr\" title=\"समभाग बाजार – Marathi\">मराठी</a></li><li class=\"interlanguage-link interwiki-ms\"><a class=\"interlanguage-link-target\" href=\"https://ms.wikipedia.org/wiki/Pasaran_saham\" hreflang=\"ms\" lang=\"ms\" title=\"Pasaran saham – Malay\">Bahasa Melayu</a></li><li class=\"interlanguage-link interwiki-nl\"><a class=\"interlanguage-link-target\" href=\"https://nl.wikipedia.org/wiki/Aandelenmarkt\" hreflang=\"nl\" lang=\"nl\" title=\"Aandelenmarkt – Dutch\">Nederlands</a></li><li class=\"interlanguage-link interwiki-ja\"><a class=\"interlanguage-link-target\" href=\"https://ja.wikipedia.org/wiki/%E8%A8%BC%E5%88%B8%E5%B8%82%E5%A0%B4\" hreflang=\"ja\" lang=\"ja\" title=\"証券市場 – Japanese\">日本語</a></li><li class=\"interlanguage-link interwiki-no\"><a class=\"interlanguage-link-target\" href=\"https://no.wikipedia.org/wiki/Aksjemarked\" hreflang=\"nb\" lang=\"nb\" title=\"Aksjemarked – Norwegian Bokmål\">Norsk bokmål</a></li><li class=\"interlanguage-link interwiki-or\"><a class=\"interlanguage-link-target\" href=\"https://or.wikipedia.org/wiki/%E0%AC%B6%E0%AD%87%E0%AD%9F%E0%AC%BE%E0%AC%B0_%E0%AC%AC%E0%AC%9C%E0%AC%BE%E0%AC%B0\" hreflang=\"or\" lang=\"or\" title=\"ଶେୟାର ବଜାର – Odia\">ଓଡ଼ିଆ</a></li><li class=\"interlanguage-link interwiki-uz\"><a class=\"interlanguage-link-target\" href=\"https://uz.wikipedia.org/wiki/Fond_bozori\" hreflang=\"uz\" lang=\"uz\" title=\"Fond bozori – Uzbek\">Oʻzbekcha/ўзбекча</a></li><li class=\"interlanguage-link interwiki-pa\"><a class=\"interlanguage-link-target\" href=\"https://pa.wikipedia.org/wiki/%E0%A8%B8%E0%A8%B0%E0%A8%BE%E0%A8%AB%E0%A8%BC%E0%A8%BE_%E0%A8%AC%E0%A8%9C%E0%A8%BC%E0%A8%BE%E0%A8%B0\" hreflang=\"pa\" lang=\"pa\" title=\"ਸਰਾਫ਼ਾ ਬਜ਼ਾਰ – Punjabi\">ਪੰਜਾਬੀ</a></li><li class=\"interlanguage-link interwiki-pt\"><a class=\"interlanguage-link-target\" href=\"https://pt.wikipedia.org/wiki/Mercado_de_a%C3%A7%C3%B5es\" hreflang=\"pt\" lang=\"pt\" title=\"Mercado de ações – Portuguese\">Português</a></li><li class=\"interlanguage-link interwiki-ru\"><a class=\"interlanguage-link-target\" href=\"https://ru.wikipedia.org/wiki/%D0%A0%D1%8B%D0%BD%D0%BE%D0%BA_%D1%86%D0%B5%D0%BD%D0%BD%D1%8B%D1%85_%D0%B1%D1%83%D0%BC%D0%B0%D0%B3\" hreflang=\"ru\" lang=\"ru\" title=\"Рынок ценных бумаг – Russian\">Русский</a></li><li class=\"interlanguage-link interwiki-simple\"><a class=\"interlanguage-link-target\" href=\"https://simple.wikipedia.org/wiki/Stock_market\" hreflang=\"en-simple\" lang=\"en-simple\" title=\"Stock market – Simple English\">Simple English</a></li><li class=\"interlanguage-link interwiki-fi\"><a class=\"interlanguage-link-target\" href=\"https://fi.wikipedia.org/wiki/Osakemarkkinat\" hreflang=\"fi\" lang=\"fi\" title=\"Osakemarkkinat – Finnish\">Suomi</a></li><li class=\"interlanguage-link interwiki-sv\"><a class=\"interlanguage-link-target\" href=\"https://sv.wikipedia.org/wiki/Aktiemarknad\" hreflang=\"sv\" lang=\"sv\" title=\"Aktiemarknad – Swedish\">Svenska</a></li><li class=\"interlanguage-link interwiki-tl\"><a class=\"interlanguage-link-target\" href=\"https://tl.wikipedia.org/wiki/Pamilihan_ng_sapi\" hreflang=\"tl\" lang=\"tl\" title=\"Pamilihan ng sapi – Tagalog\">Tagalog</a></li><li class=\"interlanguage-link interwiki-ta\"><a class=\"interlanguage-link-target\" href=\"https://ta.wikipedia.org/wiki/%E0%AE%AA%E0%AE%99%E0%AF%8D%E0%AE%95%E0%AF%81%E0%AE%9A%E0%AF%8D%E0%AE%9A%E0%AE%A8%E0%AF%8D%E0%AE%A4%E0%AF%88\" hreflang=\"ta\" lang=\"ta\" title=\"பங்குச்சந்தை – Tamil\">தமிழ்</a></li><li class=\"interlanguage-link interwiki-tt\"><a class=\"interlanguage-link-target\" href=\"https://tt.wikipedia.org/wiki/%D0%9A%D1%8B%D0%B9%D0%BC%D0%BC%D3%99%D1%82%D0%BB%D0%B5_%D0%BA%D3%99%D0%B3%D0%B0%D0%B7%D1%8C%D0%BB%D3%99%D1%80_%D0%B1%D0%B0%D0%B7%D0%B0%D1%80%D1%8B\" hreflang=\"tt\" lang=\"tt\" title=\"Кыйммәтле кәгазьләр базары – Tatar\">Татарча/tatarça</a></li><li class=\"interlanguage-link interwiki-te\"><a class=\"interlanguage-link-target\" href=\"https://te.wikipedia.org/wiki/%E0%B0%B8%E0%B1%8D%E0%B0%9F%E0%B0%BE%E0%B0%95%E0%B1%8D_%E0%B0%AE%E0%B0%BE%E0%B0%B0%E0%B1%8D%E0%B0%95%E0%B1%86%E0%B0%9F%E0%B1%8D\" hreflang=\"te\" lang=\"te\" title=\"స్టాక్ మార్కెట్ – Telugu\">తెలుగు</a></li><li class=\"interlanguage-link interwiki-uk\"><a class=\"interlanguage-link-target\" href=\"https://uk.wikipedia.org/wiki/%D0%A4%D0%BE%D0%BD%D0%B4%D0%BE%D0%B2%D0%B8%D0%B9_%D1%80%D0%B8%D0%BD%D0%BE%D0%BA\" hreflang=\"uk\" lang=\"uk\" title=\"Фондовий ринок – Ukrainian\">Українська</a></li><li class=\"interlanguage-link interwiki-vi\"><a class=\"interlanguage-link-target\" href=\"https://vi.wikipedia.org/wiki/Th%E1%BB%8B_tr%C6%B0%E1%BB%9Dng_ch%E1%BB%A9ng_kho%C3%A1n\" hreflang=\"vi\" lang=\"vi\" title=\"Thị trường chứng khoán – Vietnamese\">Tiếng Việt</a></li><li class=\"interlanguage-link interwiki-war\"><a class=\"interlanguage-link-target\" href=\"https://war.wikipedia.org/wiki/Baligyaan_bakas\" hreflang=\"war\" lang=\"war\" title=\"Baligyaan bakas – Waray\">Winaray</a></li><li class=\"interlanguage-link interwiki-yi\"><a class=\"interlanguage-link-target\" href=\"https://yi.wikipedia.org/wiki/%D7%A1%D7%98%D7%90%D7%A7_%D7%9E%D7%90%D7%A8%D7%A7%D7%A2%D7%98\" hreflang=\"yi\" lang=\"yi\" title=\"סטאק מארקעט – Yiddish\">ייִדיש</a></li><li class=\"interlanguage-link interwiki-zh\"><a class=\"interlanguage-link-target\" href=\"https://zh.wikipedia.org/wiki/%E8%82%A1%E7%A5%A8%E5%B8%82%E5%9C%BA\" hreflang=\"zh\" lang=\"zh\" title=\"股票市场 – Chinese\">中文</a></li></ul>\n",
       "<div class=\"after-portlet after-portlet-lang\"><span class=\"wb-langlinks-edit wb-langlinks-link\"><a class=\"wbc-editpage\" href=\"https://www.wikidata.org/wiki/Special:EntityPage/Q475000#sitelinks-wikipedia\" title=\"Edit interlanguage links\">Edit links</a></span></div>\n",
       "</div>\n",
       "</div>\n",
       "</div>\n",
       "</div>\n",
       "<div class=\"mw-footer\" id=\"footer\" role=\"contentinfo\">\n",
       "<ul id=\"footer-info\">\n",
       "<li id=\"footer-info-lastmod\"> This page was last edited on 22 May 2020, at 14:49<span class=\"anonymous-show\"> (UTC)</span>.</li>\n",
       "<li id=\"footer-info-copyright\">Text is available under the <a href=\"//en.wikipedia.org/wiki/Wikipedia:Text_of_Creative_Commons_Attribution-ShareAlike_3.0_Unported_License\" rel=\"license\">Creative Commons Attribution-ShareAlike License</a><a href=\"//creativecommons.org/licenses/by-sa/3.0/\" rel=\"license\" style=\"display:none;\"></a>;\n",
       "additional terms may apply.  By using this site, you agree to the <a href=\"//foundation.wikimedia.org/wiki/Terms_of_Use\">Terms of Use</a> and <a href=\"//foundation.wikimedia.org/wiki/Privacy_policy\">Privacy Policy</a>. Wikipedia® is a registered trademark of the <a href=\"//www.wikimediafoundation.org/\">Wikimedia Foundation, Inc.</a>, a non-profit organization.</li>\n",
       "</ul>\n",
       "<ul id=\"footer-places\">\n",
       "<li id=\"footer-places-privacy\"><a class=\"extiw\" href=\"https://foundation.wikimedia.org/wiki/Privacy_policy\" title=\"wmf:Privacy policy\">Privacy policy</a></li>\n",
       "<li id=\"footer-places-about\"><a href=\"/wiki/Wikipedia:About\" title=\"Wikipedia:About\">About Wikipedia</a></li>\n",
       "<li id=\"footer-places-disclaimer\"><a href=\"/wiki/Wikipedia:General_disclaimer\" title=\"Wikipedia:General disclaimer\">Disclaimers</a></li>\n",
       "<li id=\"footer-places-contact\"><a href=\"//en.wikipedia.org/wiki/Wikipedia:Contact_us\">Contact Wikipedia</a></li>\n",
       "<li id=\"footer-places-developers\"><a href=\"https://www.mediawiki.org/wiki/Special:MyLanguage/How_to_contribute\">Developers</a></li>\n",
       "<li id=\"footer-places-statslink\"><a href=\"https://stats.wikimedia.org/#/en.wikipedia.org\">Statistics</a></li>\n",
       "<li id=\"footer-places-cookiestatement\"><a href=\"https://foundation.wikimedia.org/wiki/Cookie_statement\">Cookie statement</a></li>\n",
       "<li id=\"footer-places-mobileview\"><a class=\"noprint stopMobileRedirectToggle\" href=\"//en.m.wikipedia.org/w/index.php?title=Stock_market&amp;mobileaction=toggle_view_mobile\">Mobile view</a></li>\n",
       "</ul>\n",
       "<ul class=\"noprint\" id=\"footer-icons\">\n",
       "<li id=\"footer-copyrightico\"><a href=\"https://wikimediafoundation.org/\"><img alt=\"Wikimedia Foundation\" height=\"31\" src=\"/static/images/wikimedia-button.png\" srcset=\"/static/images/wikimedia-button-1.5x.png 1.5x, /static/images/wikimedia-button-2x.png 2x\" width=\"88\"/></a></li>\n",
       "<li id=\"footer-poweredbyico\"><a href=\"https://www.mediawiki.org/\"><img alt=\"Powered by MediaWiki\" height=\"31\" src=\"/static/images/poweredby_mediawiki_88x31.png\" srcset=\"/static/images/poweredby_mediawiki_132x47.png 1.5x, /static/images/poweredby_mediawiki_176x62.png 2x\" width=\"88\"/></a></li>\n",
       "</ul>\n",
       "<div style=\"clear: both;\"></div>\n",
       "</div>\n",
       "<script>(RLQ=window.RLQ||[]).push(function(){mw.config.set({\"wgPageParseReport\":{\"limitreport\":{\"cputime\":\"1.156\",\"walltime\":\"1.718\",\"ppvisitednodes\":{\"value\":10433,\"limit\":1000000},\"postexpandincludesize\":{\"value\":246943,\"limit\":2097152},\"templateargumentsize\":{\"value\":27121,\"limit\":2097152},\"expansiondepth\":{\"value\":16,\"limit\":40},\"expensivefunctioncount\":{\"value\":14,\"limit\":500},\"unstrip-depth\":{\"value\":1,\"limit\":20},\"unstrip-size\":{\"value\":216740,\"limit\":5000000},\"entityaccesscount\":{\"value\":1,\"limit\":400},\"timingprofile\":[\"100.00% 1367.917      1 -total\",\" 29.68%  406.061      2 Template:Reflist\",\" 19.51%  266.934      1 Template:Capitalism\",\" 18.39%  251.564      5 Template:Portal-inline\",\" 13.64%  186.571      5 Template:Navbox\",\" 12.50%  170.991      1 Template:Stock_exchanges_top_18\",\" 11.65%  159.399     25 Template:Flagicon\",\" 10.59%  144.834     21 Template:Cite_web\",\"  7.05%   96.460      9 Template:ISBN\",\"  6.53%   89.350      6 Template:Fix\"]},\"scribunto\":{\"limitreport-timeusage\":{\"value\":\"0.456\",\"limit\":\"10.000\"},\"limitreport-memusage\":{\"value\":8900172,\"limit\":52428800},\"limitreport-logs\":\"table#1 {\\n  [\\\"size\\\"] = \\\"tiny\\\",\\n}\\ntable#1 {\\n  [\\\"size\\\"] = \\\"tiny\\\",\\n}\\ntable#1 {\\n  [\\\"size\\\"] = \\\"tiny\\\",\\n}\\ntable#1 {\\n  [\\\"size\\\"] = \\\"tiny\\\",\\n}\\ntable#1 {\\n  [\\\"size\\\"] = \\\"tiny\\\",\\n}\\n\"},\"cachereport\":{\"origin\":\"mw1388\",\"timestamp\":\"20200522144934\",\"ttl\":2592000,\"transientcontent\":false}}});});</script>\n",
       "<script type=\"application/ld+json\">{\"@context\":\"https:\\/\\/schema.org\",\"@type\":\"Article\",\"name\":\"Stock market\",\"url\":\"https:\\/\\/en.wikipedia.org\\/wiki\\/Stock_market\",\"sameAs\":\"http:\\/\\/www.wikidata.org\\/entity\\/Q475000\",\"mainEntity\":\"http:\\/\\/www.wikidata.org\\/entity\\/Q475000\",\"author\":{\"@type\":\"Organization\",\"name\":\"Contributors to Wikimedia projects\"},\"publisher\":{\"@type\":\"Organization\",\"name\":\"Wikimedia Foundation, Inc.\",\"logo\":{\"@type\":\"ImageObject\",\"url\":\"https:\\/\\/www.wikimedia.org\\/static\\/images\\/wmf-hor-googpub.png\"}},\"datePublished\":\"2002-05-18T06:43:36Z\",\"dateModified\":\"2020-05-22T14:49:25Z\",\"image\":\"https:\\/\\/upload.wikimedia.org\\/wikipedia\\/commons\\/d\\/d7\\/Philippine-stock-market-board.jpg\",\"headline\":\"public entity for the trading of company stocks and shares\"}</script>\n",
       "<script>(RLQ=window.RLQ||[]).push(function(){mw.config.set({\"wgBackendResponseTime\":114,\"wgHostname\":\"mw1321\"});});</script></body></html>"
      ]
     },
     "execution_count": 21,
     "metadata": {},
     "output_type": "execute_result"
    }
   ],
   "source": [
    "import requests\n",
    "from time import sleep\n",
    "from bs4 import BeautifulSoup\n",
    "# response = get_response(verbose=0)\n",
    "\n",
    "# c = response.content\n",
    "# feed content into a beautiful soup using lxml\n",
    "soup = BeautifulSoup(response.content,'lxml')\n",
    "soup"
   ]
  },
  {
   "cell_type": "code",
   "execution_count": 22,
   "metadata": {
    "ExecuteTime": {
     "end_time": "2020-05-22T23:39:55.443861Z",
     "start_time": "2020-05-22T23:39:55.434165Z"
    }
   },
   "outputs": [
    {
     "data": {
      "text/plain": [
       "<head>\n",
       "<meta charset=\"utf-8\"/>\n",
       "<title>Stock market - Wikipedia</title>\n",
       "<script>document.documentElement.className=\"client-js\";RLCONF={\"wgBreakFrames\":!1,\"wgSeparatorTransformTable\":[\"\",\"\"],\"wgDigitTransformTable\":[\"\",\"\"],\"wgDefaultDateFormat\":\"dmy\",\"wgMonthNames\":[\"\",\"January\",\"February\",\"March\",\"April\",\"May\",\"June\",\"July\",\"August\",\"September\",\"October\",\"November\",\"December\"],\"wgRequestId\":\"XsghcApAICoAAG6Ac@oAAACO\",\"wgCSPNonce\":!1,\"wgCanonicalNamespace\":\"\",\"wgCanonicalSpecialPageName\":!1,\"wgNamespaceNumber\":0,\"wgPageName\":\"Stock_market\",\"wgTitle\":\"Stock market\",\"wgCurRevisionId\":958215978,\"wgRevisionId\":958215978,\"wgArticleId\":52328,\"wgIsArticle\":!0,\"wgIsRedirect\":!1,\"wgAction\":\"view\",\"wgUserName\":null,\"wgUserGroups\":[\"*\"],\"wgCategories\":[\"CS1 errors: missing periodical\",\"CS1 maint: multiple names: authors list\",\"Use mdy dates from June 2013\",\"Articles containing potentially dated statements from 2016\",\"All articles containing potentially dated statements\",\"All articles with unsourced statements\",\"Articles with unsourced statements from March 2017\"\n",
       ",\"All accuracy disputes\",\"Articles with disputed statements from November 2019\",\"Articles with unsourced statements from November 2019\",\"Articles with unsourced statements from February 2017\",\"Articles with unsourced statements from September 2016\",\"Articles with Curlie links\",\"Wikipedia articles with GND identifiers\",\"Wikipedia articles with NDL identifiers\",\"Stock market\",\"17th-century introductions\",\"Capitalism\",\"Dutch inventions\"],\"wgPageContentLanguage\":\"en\",\"wgPageContentModel\":\"wikitext\",\"wgRelevantPageName\":\"Stock_market\",\"wgRelevantArticleId\":52328,\"wgIsProbablyEditable\":!0,\"wgRelevantPageIsProbablyEditable\":!0,\"wgRestrictionEdit\":[],\"wgRestrictionMove\":[],\"wgMediaViewerOnClick\":!0,\"wgMediaViewerEnabledByDefault\":!0,\"wgPopupsReferencePreviews\":!1,\"wgPopupsConflictsWithNavPopupGadget\":!1,\"wgVisualEditor\":{\"pageLanguageCode\":\"en\",\"pageLanguageDir\":\"ltr\",\"pageVariantFallbacks\":\"en\"},\"wgMFDisplayWikibaseDescriptions\":{\"search\":!0,\"nearby\":!0,\"watchlist\":!0,\n",
       "\"tagline\":!1},\"wgWMESchemaEditAttemptStepOversample\":!1,\"wgULSCurrentAutonym\":\"English\",\"wgNoticeProject\":\"wikipedia\",\"wgWikibaseItemId\":\"Q475000\",\"wgCentralAuthMobileDomain\":!1,\"wgEditSubmitButtonLabelPublish\":!0};RLSTATE={\"ext.globalCssJs.user.styles\":\"ready\",\"site.styles\":\"ready\",\"noscript\":\"ready\",\"user.styles\":\"ready\",\"ext.globalCssJs.user\":\"ready\",\"user\":\"ready\",\"user.options\":\"loading\",\"ext.cite.styles\":\"ready\",\"jquery.makeCollapsible.styles\":\"ready\",\"mediawiki.toc.styles\":\"ready\",\"skins.vector.styles.legacy\":\"ready\",\"wikibase.client.init\":\"ready\",\"ext.visualEditor.desktopArticleTarget.noscript\":\"ready\",\"ext.uls.interlanguage\":\"ready\",\"ext.wikimediaBadges\":\"ready\"};RLPAGEMODULES=[\"ext.cite.ux-enhancements\",\"ext.scribunto.logs\",\"site\",\"mediawiki.page.startup\",\"skins.vector.js\",\"mediawiki.page.ready\",\"jquery.makeCollapsible\",\"mediawiki.toc\",\"ext.gadget.ReferenceTooltips\",\"ext.gadget.charinsert\",\"ext.gadget.refToolbar\",\"ext.gadget.extra-toolbar-buttons\",\n",
       "\"ext.gadget.switcher\",\"ext.centralauth.centralautologin\",\"mmv.head\",\"mmv.bootstrap.autostart\",\"ext.popups\",\"ext.visualEditor.desktopArticleTarget.init\",\"ext.visualEditor.targetLoader\",\"ext.eventLogging\",\"ext.wikimediaEvents\",\"ext.navigationTiming\",\"ext.uls.compactlinks\",\"ext.uls.interface\",\"ext.cx.eventlogging.campaigns\",\"ext.quicksurveys.init\",\"ext.centralNotice.geoIP\",\"ext.centralNotice.startUp\"];</script>\n",
       "<script>(RLQ=window.RLQ||[]).push(function(){mw.loader.implement(\"user.options@1hzgi\",function($,jQuery,require,module){/*@nomin*/mw.user.tokens.set({\"patrolToken\":\"+\\\\\",\"watchToken\":\"+\\\\\",\"csrfToken\":\"+\\\\\"});\n",
       "});});</script>\n",
       "<link href=\"/w/load.php?lang=en&amp;modules=ext.cite.styles%7Cext.uls.interlanguage%7Cext.visualEditor.desktopArticleTarget.noscript%7Cext.wikimediaBadges%7Cjquery.makeCollapsible.styles%7Cmediawiki.toc.styles%7Cskins.vector.styles.legacy%7Cwikibase.client.init&amp;only=styles&amp;skin=vector\" rel=\"stylesheet\"/>\n",
       "<script async=\"\" src=\"/w/load.php?lang=en&amp;modules=startup&amp;only=scripts&amp;raw=1&amp;skin=vector\"></script>\n",
       "<meta content=\"\" name=\"ResourceLoaderDynamicStyles\"/>\n",
       "<link href=\"/w/load.php?lang=en&amp;modules=site.styles&amp;only=styles&amp;skin=vector\" rel=\"stylesheet\"/>\n",
       "<meta content=\"MediaWiki 1.35.0-wmf.31\" name=\"generator\"/>\n",
       "<meta content=\"origin\" name=\"referrer\"/>\n",
       "<meta content=\"origin-when-crossorigin\" name=\"referrer\"/>\n",
       "<meta content=\"origin-when-cross-origin\" name=\"referrer\"/>\n",
       "<meta content=\"https://upload.wikimedia.org/wikipedia/commons/d/d7/Philippine-stock-market-board.jpg\" property=\"og:image\"/>\n",
       "<link href=\"/w/index.php?title=Stock_market&amp;action=edit\" rel=\"alternate\" title=\"Edit this page\" type=\"application/x-wiki\"/>\n",
       "<link href=\"/w/index.php?title=Stock_market&amp;action=edit\" rel=\"edit\" title=\"Edit this page\"/>\n",
       "<link href=\"/static/apple-touch/wikipedia.png\" rel=\"apple-touch-icon\"/>\n",
       "<link href=\"/static/favicon/wikipedia.ico\" rel=\"shortcut icon\"/>\n",
       "<link href=\"/w/opensearch_desc.php\" rel=\"search\" title=\"Wikipedia (en)\" type=\"application/opensearchdescription+xml\"/>\n",
       "<link href=\"//en.wikipedia.org/w/api.php?action=rsd\" rel=\"EditURI\" type=\"application/rsd+xml\"/>\n",
       "<link href=\"//creativecommons.org/licenses/by-sa/3.0/\" rel=\"license\"/>\n",
       "<link href=\"/w/index.php?title=Special:RecentChanges&amp;feed=atom\" rel=\"alternate\" title=\"Wikipedia Atom feed\" type=\"application/atom+xml\"/>\n",
       "<link href=\"https://en.wikipedia.org/wiki/Stock_market\" rel=\"canonical\"/>\n",
       "<link href=\"//login.wikimedia.org\" rel=\"dns-prefetch\"/>\n",
       "<link href=\"//meta.wikimedia.org\" rel=\"dns-prefetch\"/>\n",
       "<!--[if lt IE 9]><script src=\"/w/resources/lib/html5shiv/html5shiv.js\"></script><![endif]-->\n",
       "</head>"
      ]
     },
     "execution_count": 22,
     "metadata": {},
     "output_type": "execute_result"
    }
   ],
   "source": [
    "soup.head"
   ]
  },
  {
   "cell_type": "code",
   "execution_count": 26,
   "metadata": {
    "ExecuteTime": {
     "end_time": "2020-05-22T23:41:20.859134Z",
     "start_time": "2020-05-22T23:41:20.813762Z"
    }
   },
   "outputs": [
    {
     "data": {
      "text/plain": [
       "1"
      ]
     },
     "execution_count": 26,
     "metadata": {},
     "output_type": "execute_result"
    }
   ],
   "source": [
    "tags = soup.find_all(class_='vertical-navbox nowraplinks plainlist')\n",
    "len(tags)"
   ]
  },
  {
   "cell_type": "code",
   "execution_count": 27,
   "metadata": {
    "ExecuteTime": {
     "end_time": "2020-05-22T23:41:24.769110Z",
     "start_time": "2020-05-22T23:41:24.763141Z"
    }
   },
   "outputs": [
    {
     "data": {
      "text/plain": [
       "[<table class=\"vertical-navbox nowraplinks plainlist\" style=\"float:right;clear:right;width:22.0em;margin:0 0 1.0em 1.0em;background:#f9f9f9;border:1px solid #aaa;padding:0.2em;border-spacing:0.4em 0;text-align:center;line-height:1.4em;font-size:88%\"><tbody><tr><th style=\"padding:0.2em 0.4em 0.2em;font-size:145%;line-height:1.2em\"><a href=\"/wiki/Financial_market\" title=\"Financial market\">Financial markets</a></th></tr><tr><td style=\"padding:0.2em 0 0.4em\"><a class=\"image\" href=\"/wiki/File:Philippine-stock-market-board.jpg\"><img alt=\"Looking up at a computerized stocks-value board at the Philippine Stock Exchange\" data-file-height=\"480\" data-file-width=\"640\" decoding=\"async\" height=\"150\" src=\"//upload.wikimedia.org/wikipedia/commons/thumb/d/d7/Philippine-stock-market-board.jpg/200px-Philippine-stock-market-board.jpg\" srcset=\"//upload.wikimedia.org/wikipedia/commons/thumb/d/d7/Philippine-stock-market-board.jpg/300px-Philippine-stock-market-board.jpg 1.5x, //upload.wikimedia.org/wikipedia/commons/thumb/d/d7/Philippine-stock-market-board.jpg/400px-Philippine-stock-market-board.jpg 2x\" width=\"200\"/></a></td></tr><tr><td style=\"padding:0.3em 0.4em 0.3em;font-weight:bold;padding-bottom:0.7em;\">\n",
       " <ul><li><a href=\"/wiki/Market_(economics)\" title=\"Market (economics)\">Public market</a></li>\n",
       " <li><a href=\"/wiki/Exchange_(organized_market)\" title=\"Exchange (organized market)\">Exchange</a> <b>·</b> <a href=\"/wiki/Security_(finance)\" title=\"Security (finance)\">Securities</a></li></ul></td></tr><tr><th class=\"navbox-abovebelow\" style=\"padding:0.1em\">\n",
       " <a href=\"/wiki/Bond_market\" title=\"Bond market\">Bond market</a></th></tr><tr><td class=\"hlist\" style=\"padding:0 0.1em 0.4em;padding:0.15em 0.5em 0.7em;\">\n",
       " <ul><li><a href=\"/wiki/Bond_valuation\" title=\"Bond valuation\">Bond valuation</a></li>\n",
       " <li><a href=\"/wiki/Corporate_bond\" title=\"Corporate bond\">Corporate bond</a></li>\n",
       " <li><a href=\"/wiki/Fixed_income\" title=\"Fixed income\">Fixed income</a></li>\n",
       " <li><a href=\"/wiki/Government_bond\" title=\"Government bond\">Government bond</a></li>\n",
       " <li><a href=\"/wiki/High-yield_debt\" title=\"High-yield debt\">High-yield debt</a></li>\n",
       " <li><a href=\"/wiki/Municipal_bond\" title=\"Municipal bond\">Municipal bond</a></li>\n",
       " <li><br/><a href=\"/wiki/Securitization\" title=\"Securitization\">Securitization</a></li></ul></td>\n",
       " </tr><tr><th class=\"navbox-abovebelow\" style=\"padding:0.1em\">\n",
       " <a class=\"mw-selflink selflink\">Stock market</a></th></tr><tr><td class=\"hlist\" style=\"padding:0 0.1em 0.4em;padding:0.15em 0.5em 0.7em;\">\n",
       " <ul><li><a href=\"/wiki/Common_stock\" title=\"Common stock\">Common stock</a></li>\n",
       " <li><a href=\"/wiki/Preferred_stock\" title=\"Preferred stock\">Preferred stock</a></li>\n",
       " <li><a href=\"/wiki/Registered_share\" title=\"Registered share\">Registered share</a></li>\n",
       " <li><a href=\"/wiki/Stock\" title=\"Stock\">Stock</a></li>\n",
       " <li><br/><a href=\"/wiki/Stock_certificate\" title=\"Stock certificate\">Stock certificate</a></li>\n",
       " <li><a href=\"/wiki/Stock_exchange\" title=\"Stock exchange\">Stock exchange</a></li></ul></td>\n",
       " </tr><tr><th class=\"navbox-abovebelow\" style=\"padding:0.1em\">\n",
       " Other markets</th></tr><tr><td class=\"hlist\" style=\"padding:0 0.1em 0.4em;padding:0.15em 0.5em 0.7em;\">\n",
       " <div style=\"padding:0.2em 0.4em; line-height:1.2em; line-height:1.25em;\"><a href=\"/wiki/Derivatives_market\" title=\"Derivatives market\">Derivatives</a> <div class=\"hlist hlist-separated\"><ul><li>(<a href=\"/wiki/Credit_derivative\" title=\"Credit derivative\">Credit derivative</a></li><li><a href=\"/wiki/Futures_exchange\" title=\"Futures exchange\">Futures exchange</a></li><li><a href=\"/wiki/Hybrid_security\" title=\"Hybrid security\">Hybrid security</a>)</li></ul></div> </div>\n",
       " <div style=\"padding:0.2em 0.4em; line-height:1.2em; line-height:1.25em;padding-bottom:0.25em;\"><a href=\"/wiki/Foreign_exchange_market\" title=\"Foreign exchange market\">Foreign exchange</a> <div class=\"hlist hlist-separated\"><ul><li>(<a href=\"/wiki/Currency\" title=\"Currency\">Currency</a></li><li><a href=\"/wiki/Exchange_rate\" title=\"Exchange rate\">Exchange rate</a>)</li></ul></div> </div>\n",
       " <ul><li><a href=\"/wiki/Commodity_market\" title=\"Commodity market\">Commodity</a></li>\n",
       " <li><a href=\"/wiki/Money_market\" title=\"Money market\">Money</a></li>\n",
       " <li><a href=\"/wiki/Real_estate\" title=\"Real estate\">Real estate</a></li>\n",
       " <li><a href=\"/wiki/Reinsurance\" title=\"Reinsurance\">Reinsurance</a></li></ul></td>\n",
       " </tr><tr><th class=\"navbox-abovebelow\" style=\"padding:0.1em\">\n",
       " <a href=\"/wiki/Over-the-counter_(finance)\" title=\"Over-the-counter (finance)\">Over-the-counter (off-exchange)</a></th></tr><tr><td class=\"hlist\" style=\"padding:0 0.1em 0.4em;padding:0.15em 0.5em 0.7em;\">\n",
       " <div class=\"hlist hlist-separated\"><ul><li><a href=\"/wiki/Forward_contract\" title=\"Forward contract\">Forwards</a></li><li><a href=\"/wiki/Option_(finance)\" title=\"Option (finance)\">Options</a></li></ul></div>\n",
       " <div class=\"hlist hlist-separated\"><ul><li><a href=\"/wiki/Spot_market\" title=\"Spot market\">Spot market</a></li><li><a href=\"/wiki/Swap_(finance)\" title=\"Swap (finance)\">Swaps</a></li></ul></div></td>\n",
       " </tr><tr><th class=\"navbox-abovebelow\" style=\"padding:0.1em\">\n",
       " <a href=\"/wiki/Trader_(finance)\" title=\"Trader (finance)\">Trading</a></th></tr><tr><td class=\"hlist\" style=\"padding:0 0.1em 0.4em;padding:0.15em 0.5em 0.7em;\">\n",
       " <ul><li><a href=\"/wiki/Financial_market_participants\" title=\"Financial market participants\">Participants</a></li>\n",
       " <li><a href=\"/wiki/Financial_regulation\" title=\"Financial regulation\">Regulation</a></li>\n",
       " <li><a href=\"/wiki/Clearing_(finance)\" title=\"Clearing (finance)\">Clearing</a></li></ul></td>\n",
       " </tr><tr><th class=\"navbox-abovebelow\" style=\"padding:0.1em\">\n",
       " Related areas</th></tr><tr><td class=\"hlist\" style=\"padding:0 0.1em 0.4em;padding:0.15em 0.5em 0.7em;\">\n",
       " <ul><li><a href=\"/wiki/Bank\" title=\"Bank\">Banks and banking</a></li>\n",
       " <li><a href=\"/wiki/Finance\" title=\"Finance\">Finance</a>\n",
       " <ul><li><a href=\"/wiki/Corporate_finance\" title=\"Corporate finance\">corporate</a></li>\n",
       " <li><a href=\"/wiki/Personal_finance\" title=\"Personal finance\">personal</a></li>\n",
       " <li><a href=\"/wiki/Public_finance\" title=\"Public finance\">public</a></li></ul></li></ul></td>\n",
       " </tr><tr><td style=\"text-align:right;font-size:115%;border-top:1px solid #aaa;\"><div class=\"plainlinks hlist navbar mini\"><ul><li class=\"nv-view\"><a href=\"/wiki/Template:Financial_markets\" title=\"Template:Financial markets\"><abbr title=\"View this template\">v</abbr></a></li><li class=\"nv-talk\"><a href=\"/wiki/Template_talk:Financial_markets\" title=\"Template talk:Financial markets\"><abbr title=\"Discuss this template\">t</abbr></a></li><li class=\"nv-edit\"><a class=\"external text\" href=\"https://en.wikipedia.org/w/index.php?title=Template:Financial_markets&amp;action=edit\"><abbr title=\"Edit this template\">e</abbr></a></li></ul></div></td></tr></tbody></table>]"
      ]
     },
     "execution_count": 27,
     "metadata": {},
     "output_type": "execute_result"
    }
   ],
   "source": [
    "tags"
   ]
  },
  {
   "cell_type": "code",
   "execution_count": 39,
   "metadata": {
    "ExecuteTime": {
     "end_time": "2020-05-22T23:52:26.072610Z",
     "start_time": "2020-05-22T23:52:26.067941Z"
    }
   },
   "outputs": [
    {
     "data": {
      "text/plain": [
       "<a href=\"/wiki/Financial_market\" title=\"Financial market\">Financial markets</a>"
      ]
     },
     "execution_count": 39,
     "metadata": {},
     "output_type": "execute_result"
    }
   ],
   "source": [
    "a_tags = tags[0].find_all('a')\n",
    "test = a_tags[0]\n",
    "test"
   ]
  },
  {
   "cell_type": "code",
   "execution_count": 48,
   "metadata": {
    "ExecuteTime": {
     "end_time": "2020-05-22T23:55:14.103462Z",
     "start_time": "2020-05-22T23:55:14.098001Z"
    }
   },
   "outputs": [
    {
     "data": {
      "text/plain": [
       "[<a href=\"/wiki/Financial_market\" title=\"Financial market\">Financial markets</a>,\n",
       " <a class=\"image\" href=\"/wiki/File:Philippine-stock-market-board.jpg\"><img alt=\"Looking up at a computerized stocks-value board at the Philippine Stock Exchange\" data-file-height=\"480\" data-file-width=\"640\" decoding=\"async\" height=\"150\" src=\"//upload.wikimedia.org/wikipedia/commons/thumb/d/d7/Philippine-stock-market-board.jpg/200px-Philippine-stock-market-board.jpg\" srcset=\"//upload.wikimedia.org/wikipedia/commons/thumb/d/d7/Philippine-stock-market-board.jpg/300px-Philippine-stock-market-board.jpg 1.5x, //upload.wikimedia.org/wikipedia/commons/thumb/d/d7/Philippine-stock-market-board.jpg/400px-Philippine-stock-market-board.jpg 2x\" width=\"200\"/></a>,\n",
       " <a href=\"/wiki/Market_(economics)\" title=\"Market (economics)\">Public market</a>,\n",
       " <a href=\"/wiki/Exchange_(organized_market)\" title=\"Exchange (organized market)\">Exchange</a>,\n",
       " <a href=\"/wiki/Security_(finance)\" title=\"Security (finance)\">Securities</a>,\n",
       " <a href=\"/wiki/Bond_market\" title=\"Bond market\">Bond market</a>,\n",
       " <a href=\"/wiki/Bond_valuation\" title=\"Bond valuation\">Bond valuation</a>,\n",
       " <a href=\"/wiki/Corporate_bond\" title=\"Corporate bond\">Corporate bond</a>,\n",
       " <a href=\"/wiki/Fixed_income\" title=\"Fixed income\">Fixed income</a>,\n",
       " <a href=\"/wiki/Government_bond\" title=\"Government bond\">Government bond</a>,\n",
       " <a href=\"/wiki/High-yield_debt\" title=\"High-yield debt\">High-yield debt</a>,\n",
       " <a href=\"/wiki/Municipal_bond\" title=\"Municipal bond\">Municipal bond</a>,\n",
       " <a href=\"/wiki/Securitization\" title=\"Securitization\">Securitization</a>,\n",
       " <a class=\"mw-selflink selflink\">Stock market</a>,\n",
       " <a href=\"/wiki/Common_stock\" title=\"Common stock\">Common stock</a>,\n",
       " <a href=\"/wiki/Preferred_stock\" title=\"Preferred stock\">Preferred stock</a>,\n",
       " <a href=\"/wiki/Registered_share\" title=\"Registered share\">Registered share</a>,\n",
       " <a href=\"/wiki/Stock\" title=\"Stock\">Stock</a>,\n",
       " <a href=\"/wiki/Stock_certificate\" title=\"Stock certificate\">Stock certificate</a>,\n",
       " <a href=\"/wiki/Stock_exchange\" title=\"Stock exchange\">Stock exchange</a>,\n",
       " <a href=\"/wiki/Derivatives_market\" title=\"Derivatives market\">Derivatives</a>,\n",
       " <a href=\"/wiki/Credit_derivative\" title=\"Credit derivative\">Credit derivative</a>,\n",
       " <a href=\"/wiki/Futures_exchange\" title=\"Futures exchange\">Futures exchange</a>,\n",
       " <a href=\"/wiki/Hybrid_security\" title=\"Hybrid security\">Hybrid security</a>,\n",
       " <a href=\"/wiki/Foreign_exchange_market\" title=\"Foreign exchange market\">Foreign exchange</a>,\n",
       " <a href=\"/wiki/Currency\" title=\"Currency\">Currency</a>,\n",
       " <a href=\"/wiki/Exchange_rate\" title=\"Exchange rate\">Exchange rate</a>,\n",
       " <a href=\"/wiki/Commodity_market\" title=\"Commodity market\">Commodity</a>,\n",
       " <a href=\"/wiki/Money_market\" title=\"Money market\">Money</a>,\n",
       " <a href=\"/wiki/Real_estate\" title=\"Real estate\">Real estate</a>,\n",
       " <a href=\"/wiki/Reinsurance\" title=\"Reinsurance\">Reinsurance</a>,\n",
       " <a href=\"/wiki/Over-the-counter_(finance)\" title=\"Over-the-counter (finance)\">Over-the-counter (off-exchange)</a>,\n",
       " <a href=\"/wiki/Forward_contract\" title=\"Forward contract\">Forwards</a>,\n",
       " <a href=\"/wiki/Option_(finance)\" title=\"Option (finance)\">Options</a>,\n",
       " <a href=\"/wiki/Spot_market\" title=\"Spot market\">Spot market</a>,\n",
       " <a href=\"/wiki/Swap_(finance)\" title=\"Swap (finance)\">Swaps</a>,\n",
       " <a href=\"/wiki/Trader_(finance)\" title=\"Trader (finance)\">Trading</a>,\n",
       " <a href=\"/wiki/Financial_market_participants\" title=\"Financial market participants\">Participants</a>,\n",
       " <a href=\"/wiki/Financial_regulation\" title=\"Financial regulation\">Regulation</a>,\n",
       " <a href=\"/wiki/Clearing_(finance)\" title=\"Clearing (finance)\">Clearing</a>,\n",
       " <a href=\"/wiki/Bank\" title=\"Bank\">Banks and banking</a>,\n",
       " <a href=\"/wiki/Finance\" title=\"Finance\">Finance</a>,\n",
       " <a href=\"/wiki/Corporate_finance\" title=\"Corporate finance\">corporate</a>,\n",
       " <a href=\"/wiki/Personal_finance\" title=\"Personal finance\">personal</a>,\n",
       " <a href=\"/wiki/Public_finance\" title=\"Public finance\">public</a>,\n",
       " <a href=\"/wiki/Template:Financial_markets\" title=\"Template:Financial markets\"><abbr title=\"View this template\">v</abbr></a>,\n",
       " <a href=\"/wiki/Template_talk:Financial_markets\" title=\"Template talk:Financial markets\"><abbr title=\"Discuss this template\">t</abbr></a>,\n",
       " <a class=\"external text\" href=\"https://en.wikipedia.org/w/index.php?title=Template:Financial_markets&amp;action=edit\"><abbr title=\"Edit this template\">e</abbr></a>]"
      ]
     },
     "execution_count": 48,
     "metadata": {},
     "output_type": "execute_result"
    }
   ],
   "source": [
    "a_tags"
   ]
  },
  {
   "cell_type": "code",
   "execution_count": 50,
   "metadata": {
    "ExecuteTime": {
     "end_time": "2020-05-22T23:56:25.854771Z",
     "start_time": "2020-05-22T23:56:25.850710Z"
    }
   },
   "outputs": [
    {
     "data": {
      "text/plain": [
       "'/wiki/Financial_market'"
      ]
     },
     "execution_count": 50,
     "metadata": {},
     "output_type": "execute_result"
    }
   ],
   "source": [
    "test.get('href','Missing')"
   ]
  },
  {
   "cell_type": "code",
   "execution_count": 57,
   "metadata": {
    "ExecuteTime": {
     "end_time": "2020-05-22T23:59:28.418490Z",
     "start_time": "2020-05-22T23:59:28.414056Z"
    }
   },
   "outputs": [
    {
     "data": {
      "text/plain": [
       "<a href=\"/wiki/Financial_market\" title=\"Financial market\">Financial markets</a>"
      ]
     },
     "execution_count": 57,
     "metadata": {},
     "output_type": "execute_result"
    }
   ],
   "source": [
    "test"
   ]
  },
  {
   "cell_type": "code",
   "execution_count": 43,
   "metadata": {
    "ExecuteTime": {
     "end_time": "2020-05-22T23:53:12.208215Z",
     "start_time": "2020-05-22T23:53:12.204764Z"
    }
   },
   "outputs": [
    {
     "data": {
      "text/plain": [
       "'/wiki/Financial_market'"
      ]
     },
     "execution_count": 43,
     "metadata": {},
     "output_type": "execute_result"
    }
   ],
   "source": [
    "test['href']"
   ]
  },
  {
   "cell_type": "code",
   "execution_count": 44,
   "metadata": {
    "ExecuteTime": {
     "end_time": "2020-05-22T23:53:22.711148Z",
     "start_time": "2020-05-22T23:53:22.707571Z"
    }
   },
   "outputs": [
    {
     "data": {
      "text/plain": [
       "'Financial markets'"
      ]
     },
     "execution_count": 44,
     "metadata": {},
     "output_type": "execute_result"
    }
   ],
   "source": [
    "test.text"
   ]
  },
  {
   "cell_type": "code",
   "execution_count": 46,
   "metadata": {
    "ExecuteTime": {
     "end_time": "2020-05-22T23:53:48.599611Z",
     "start_time": "2020-05-22T23:53:48.596228Z"
    }
   },
   "outputs": [
    {
     "data": {
      "text/plain": [
       "'/wiki/Financial_market'"
      ]
     },
     "execution_count": 46,
     "metadata": {},
     "output_type": "execute_result"
    }
   ],
   "source": [
    "test.attrs['href']"
   ]
  },
  {
   "cell_type": "code",
   "execution_count": 34,
   "metadata": {
    "ExecuteTime": {
     "end_time": "2020-05-22T23:44:05.839283Z",
     "start_time": "2020-05-22T23:44:05.835029Z"
    }
   },
   "outputs": [
    {
     "data": {
      "text/plain": [
       "<a href=\"/wiki/Financial_market\" title=\"Financial market\">Financial markets</a>"
      ]
     },
     "execution_count": 34,
     "metadata": {},
     "output_type": "execute_result"
    }
   ],
   "source": [
    "len(a_tags)\n",
    "test = a_tags[0]\n",
    "test"
   ]
  },
  {
   "cell_type": "code",
   "execution_count": 38,
   "metadata": {
    "ExecuteTime": {
     "end_time": "2020-05-22T23:45:31.413200Z",
     "start_time": "2020-05-22T23:45:31.410613Z"
    }
   },
   "outputs": [],
   "source": [
    "a_tags[0].nextSibling"
   ]
  },
  {
   "cell_type": "code",
   "execution_count": 54,
   "metadata": {
    "ExecuteTime": {
     "end_time": "2020-05-22T23:57:20.465392Z",
     "start_time": "2020-05-22T23:57:20.460301Z"
    }
   },
   "outputs": [
    {
     "data": {
      "text/plain": [
       "['/wiki/Financial_market',\n",
       " '/wiki/File:Philippine-stock-market-board.jpg',\n",
       " '/wiki/Market_(economics)',\n",
       " '/wiki/Exchange_(organized_market)',\n",
       " '/wiki/Security_(finance)',\n",
       " '/wiki/Bond_market',\n",
       " '/wiki/Bond_valuation',\n",
       " '/wiki/Corporate_bond',\n",
       " '/wiki/Fixed_income',\n",
       " '/wiki/Government_bond',\n",
       " '/wiki/High-yield_debt',\n",
       " '/wiki/Municipal_bond',\n",
       " '/wiki/Securitization',\n",
       " '',\n",
       " '/wiki/Common_stock',\n",
       " '/wiki/Preferred_stock',\n",
       " '/wiki/Registered_share',\n",
       " '/wiki/Stock',\n",
       " '/wiki/Stock_certificate',\n",
       " '/wiki/Stock_exchange',\n",
       " '/wiki/Derivatives_market',\n",
       " '/wiki/Credit_derivative',\n",
       " '/wiki/Futures_exchange',\n",
       " '/wiki/Hybrid_security',\n",
       " '/wiki/Foreign_exchange_market',\n",
       " '/wiki/Currency',\n",
       " '/wiki/Exchange_rate',\n",
       " '/wiki/Commodity_market',\n",
       " '/wiki/Money_market',\n",
       " '/wiki/Real_estate',\n",
       " '/wiki/Reinsurance',\n",
       " '/wiki/Over-the-counter_(finance)',\n",
       " '/wiki/Forward_contract',\n",
       " '/wiki/Option_(finance)',\n",
       " '/wiki/Spot_market',\n",
       " '/wiki/Swap_(finance)',\n",
       " '/wiki/Trader_(finance)',\n",
       " '/wiki/Financial_market_participants',\n",
       " '/wiki/Financial_regulation',\n",
       " '/wiki/Clearing_(finance)',\n",
       " '/wiki/Bank',\n",
       " '/wiki/Finance',\n",
       " '/wiki/Corporate_finance',\n",
       " '/wiki/Personal_finance',\n",
       " '/wiki/Public_finance',\n",
       " '/wiki/Template:Financial_markets',\n",
       " '/wiki/Template_talk:Financial_markets',\n",
       " 'https://en.wikipedia.org/w/index.php?title=Template:Financial_markets&action=edit']"
      ]
     },
     "execution_count": 54,
     "metadata": {},
     "output_type": "execute_result"
    }
   ],
   "source": [
    "## listcomprehension\n",
    "rel_links = [x.get('href','')for x in a_tags]\n",
    "rel_links"
   ]
  },
  {
   "cell_type": "code",
   "execution_count": 36,
   "metadata": {
    "ExecuteTime": {
     "end_time": "2020-05-22T23:44:36.249379Z",
     "start_time": "2020-05-22T23:44:36.247334Z"
    }
   },
   "outputs": [],
   "source": []
  },
  {
   "cell_type": "code",
   "execution_count": 58,
   "metadata": {
    "ExecuteTime": {
     "end_time": "2020-05-22T23:59:32.183509Z",
     "start_time": "2020-05-22T23:59:32.179419Z"
    }
   },
   "outputs": [
    {
     "data": {
      "text/plain": [
       "'https://en.wikipedia.org/wiki/Financial_market'"
      ]
     },
     "execution_count": 58,
     "metadata": {},
     "output_type": "execute_result"
    }
   ],
   "source": [
    "import urllib\n",
    "urllib.parse.urljoin(url,test['href'])"
   ]
  },
  {
   "cell_type": "code",
   "execution_count": 60,
   "metadata": {
    "ExecuteTime": {
     "end_time": "2020-05-23T00:01:27.908956Z",
     "start_time": "2020-05-23T00:01:27.903685Z"
    }
   },
   "outputs": [
    {
     "data": {
      "text/plain": [
       "['https://en.wikipedia.org/wiki/Financial_market',\n",
       " 'https://en.wikipedia.org/wiki/File:Philippine-stock-market-board.jpg',\n",
       " 'https://en.wikipedia.org/wiki/Market_(economics)',\n",
       " 'https://en.wikipedia.org/wiki/Exchange_(organized_market)',\n",
       " 'https://en.wikipedia.org/wiki/Security_(finance)',\n",
       " 'https://en.wikipedia.org/wiki/Bond_market',\n",
       " 'https://en.wikipedia.org/wiki/Bond_valuation',\n",
       " 'https://en.wikipedia.org/wiki/Corporate_bond',\n",
       " 'https://en.wikipedia.org/wiki/Fixed_income',\n",
       " 'https://en.wikipedia.org/wiki/Government_bond',\n",
       " 'https://en.wikipedia.org/wiki/High-yield_debt',\n",
       " 'https://en.wikipedia.org/wiki/Municipal_bond',\n",
       " 'https://en.wikipedia.org/wiki/Securitization',\n",
       " 'https://en.wikipedia.org/wiki/Stock_market',\n",
       " 'https://en.wikipedia.org/wiki/Common_stock',\n",
       " 'https://en.wikipedia.org/wiki/Preferred_stock',\n",
       " 'https://en.wikipedia.org/wiki/Registered_share',\n",
       " 'https://en.wikipedia.org/wiki/Stock',\n",
       " 'https://en.wikipedia.org/wiki/Stock_certificate',\n",
       " 'https://en.wikipedia.org/wiki/Stock_exchange',\n",
       " 'https://en.wikipedia.org/wiki/Derivatives_market',\n",
       " 'https://en.wikipedia.org/wiki/Credit_derivative',\n",
       " 'https://en.wikipedia.org/wiki/Futures_exchange',\n",
       " 'https://en.wikipedia.org/wiki/Hybrid_security',\n",
       " 'https://en.wikipedia.org/wiki/Foreign_exchange_market',\n",
       " 'https://en.wikipedia.org/wiki/Currency',\n",
       " 'https://en.wikipedia.org/wiki/Exchange_rate',\n",
       " 'https://en.wikipedia.org/wiki/Commodity_market',\n",
       " 'https://en.wikipedia.org/wiki/Money_market',\n",
       " 'https://en.wikipedia.org/wiki/Real_estate',\n",
       " 'https://en.wikipedia.org/wiki/Reinsurance',\n",
       " 'https://en.wikipedia.org/wiki/Over-the-counter_(finance)',\n",
       " 'https://en.wikipedia.org/wiki/Forward_contract',\n",
       " 'https://en.wikipedia.org/wiki/Option_(finance)',\n",
       " 'https://en.wikipedia.org/wiki/Spot_market',\n",
       " 'https://en.wikipedia.org/wiki/Swap_(finance)',\n",
       " 'https://en.wikipedia.org/wiki/Trader_(finance)',\n",
       " 'https://en.wikipedia.org/wiki/Financial_market_participants',\n",
       " 'https://en.wikipedia.org/wiki/Financial_regulation',\n",
       " 'https://en.wikipedia.org/wiki/Clearing_(finance)',\n",
       " 'https://en.wikipedia.org/wiki/Bank',\n",
       " 'https://en.wikipedia.org/wiki/Finance',\n",
       " 'https://en.wikipedia.org/wiki/Corporate_finance',\n",
       " 'https://en.wikipedia.org/wiki/Personal_finance',\n",
       " 'https://en.wikipedia.org/wiki/Public_finance',\n",
       " 'https://en.wikipedia.org/wiki/Template:Financial_markets',\n",
       " 'https://en.wikipedia.org/wiki/Template_talk:Financial_markets',\n",
       " 'https://en.wikipedia.org/w/index.php?title=Template:Financial_markets&action=edit']"
      ]
     },
     "execution_count": 60,
     "metadata": {},
     "output_type": "execute_result"
    }
   ],
   "source": [
    "full_urls = []\n",
    "for link in rel_links:\n",
    "    new_link = urllib.parse.urljoin(url,link)\n",
    "    full_urls.append(new_link)\n",
    "full_urls"
   ]
  },
  {
   "cell_type": "code",
   "execution_count": 65,
   "metadata": {
    "ExecuteTime": {
     "end_time": "2020-05-23T00:05:52.050050Z",
     "start_time": "2020-05-23T00:05:52.045302Z"
    }
   },
   "outputs": [
    {
     "data": {
      "text/plain": [
       "'Financial_market'"
      ]
     },
     "execution_count": 65,
     "metadata": {},
     "output_type": "execute_result"
    }
   ],
   "source": [
    "url_parsed = urllib.parse.urlparse(full_urls[0])\n",
    "url_parsed.path.split('/')[-1]"
   ]
  },
  {
   "cell_type": "code",
   "execution_count": 66,
   "metadata": {
    "ExecuteTime": {
     "end_time": "2020-05-23T00:06:59.189869Z",
     "start_time": "2020-05-23T00:06:56.175080Z"
    }
   },
   "outputs": [],
   "source": [
    "import time\n",
    "soups = {}\n",
    "for url_ in full_urls[:3]:\n",
    "    time.sleep(0.5)\n",
    "    parsed =  urllib.parse.urlparse(url_)\n",
    "    key = parsed.path.split('/')[-1]\n",
    "    response = requests.get(url_)\n",
    "    soup = bs4.BeautifulSoup(response.content,'lxml')\n",
    "    \n",
    "    soups[key] = soup"
   ]
  },
  {
   "cell_type": "code",
   "execution_count": 69,
   "metadata": {
    "ExecuteTime": {
     "end_time": "2020-05-23T00:07:10.372760Z",
     "start_time": "2020-05-23T00:07:10.368859Z"
    }
   },
   "outputs": [
    {
     "data": {
      "text/plain": [
       "dict_keys(['Financial_market', 'File:Philippine-stock-market-board.jpg', 'Market_(economics)'])"
      ]
     },
     "execution_count": 69,
     "metadata": {},
     "output_type": "execute_result"
    }
   ],
   "source": [
    "soups.keys()"
   ]
  },
  {
   "cell_type": "code",
   "execution_count": 70,
   "metadata": {
    "ExecuteTime": {
     "end_time": "2020-05-23T00:07:20.889352Z",
     "start_time": "2020-05-23T00:07:20.542645Z"
    }
   },
   "outputs": [
    {
     "data": {
      "text/plain": [
       "<!DOCTYPE html>\n",
       "<html class=\"client-nojs\" dir=\"ltr\" lang=\"en\">\n",
       "<head>\n",
       "<meta charset=\"utf-8\"/>\n",
       "<title>Financial market - Wikipedia</title>\n",
       "<script>document.documentElement.className=\"client-js\";RLCONF={\"wgBreakFrames\":!1,\"wgSeparatorTransformTable\":[\"\",\"\"],\"wgDigitTransformTable\":[\"\",\"\"],\"wgDefaultDateFormat\":\"dmy\",\"wgMonthNames\":[\"\",\"January\",\"February\",\"March\",\"April\",\"May\",\"June\",\"July\",\"August\",\"September\",\"October\",\"November\",\"December\"],\"wgRequestId\":\"XsGPNwpAIHwAA5oVTrcAAABA\",\"wgCSPNonce\":!1,\"wgCanonicalNamespace\":\"\",\"wgCanonicalSpecialPageName\":!1,\"wgNamespaceNumber\":0,\"wgPageName\":\"Financial_market\",\"wgTitle\":\"Financial market\",\"wgCurRevisionId\":952180622,\"wgRevisionId\":952180622,\"wgArticleId\":41916,\"wgIsArticle\":!0,\"wgIsRedirect\":!1,\"wgAction\":\"view\",\"wgUserName\":null,\"wgUserGroups\":[\"*\"],\"wgCategories\":[\"All articles with vague or ambiguous time\",\"Vague or ambiguous time from February 2011\",\"Commons category link is on Wikidata\",\"Wikipedia articles with GND identifiers\",\"Wikipedia articles with NDL identifiers\",\"Financial markets\"],\"wgPageContentLanguage\":\"en\",\"wgPageContentModel\":\"wikitext\",\n",
       "\"wgRelevantPageName\":\"Financial_market\",\"wgRelevantArticleId\":41916,\"wgIsProbablyEditable\":!0,\"wgRelevantPageIsProbablyEditable\":!0,\"wgRestrictionEdit\":[],\"wgRestrictionMove\":[],\"wgMediaViewerOnClick\":!0,\"wgMediaViewerEnabledByDefault\":!0,\"wgPopupsReferencePreviews\":!1,\"wgPopupsConflictsWithNavPopupGadget\":!1,\"wgVisualEditor\":{\"pageLanguageCode\":\"en\",\"pageLanguageDir\":\"ltr\",\"pageVariantFallbacks\":\"en\"},\"wgMFDisplayWikibaseDescriptions\":{\"search\":!0,\"nearby\":!0,\"watchlist\":!0,\"tagline\":!1},\"wgWMESchemaEditAttemptStepOversample\":!1,\"wgULSCurrentAutonym\":\"English\",\"wgNoticeProject\":\"wikipedia\",\"wgWikibaseItemId\":\"Q208697\",\"wgCentralAuthMobileDomain\":!1,\"wgEditSubmitButtonLabelPublish\":!0};RLSTATE={\"ext.globalCssJs.user.styles\":\"ready\",\"site.styles\":\"ready\",\"noscript\":\"ready\",\"user.styles\":\"ready\",\"ext.globalCssJs.user\":\"ready\",\"user\":\"ready\",\"user.options\":\"loading\",\"ext.cite.styles\":\"ready\",\"jquery.makeCollapsible.styles\":\"ready\",\"mediawiki.toc.styles\":\n",
       "\"ready\",\"skins.vector.styles.legacy\":\"ready\",\"wikibase.client.init\":\"ready\",\"ext.visualEditor.desktopArticleTarget.noscript\":\"ready\",\"ext.uls.interlanguage\":\"ready\",\"ext.wikimediaBadges\":\"ready\"};RLPAGEMODULES=[\"ext.cite.ux-enhancements\",\"site\",\"mediawiki.page.startup\",\"skins.vector.js\",\"mediawiki.page.ready\",\"jquery.makeCollapsible\",\"mediawiki.toc\",\"ext.gadget.ReferenceTooltips\",\"ext.gadget.charinsert\",\"ext.gadget.refToolbar\",\"ext.gadget.extra-toolbar-buttons\",\"ext.gadget.switcher\",\"ext.centralauth.centralautologin\",\"mmv.head\",\"mmv.bootstrap.autostart\",\"ext.popups\",\"ext.visualEditor.desktopArticleTarget.init\",\"ext.visualEditor.targetLoader\",\"ext.eventLogging\",\"ext.wikimediaEvents\",\"ext.navigationTiming\",\"ext.uls.compactlinks\",\"ext.uls.interface\",\"ext.cx.eventlogging.campaigns\",\"ext.quicksurveys.init\",\"ext.centralNotice.geoIP\",\"ext.centralNotice.startUp\"];</script>\n",
       "<script>(RLQ=window.RLQ||[]).push(function(){mw.loader.implement(\"user.options@1hzgi\",function($,jQuery,require,module){/*@nomin*/mw.user.tokens.set({\"patrolToken\":\"+\\\\\",\"watchToken\":\"+\\\\\",\"csrfToken\":\"+\\\\\"});\n",
       "});});</script>\n",
       "<link href=\"/w/load.php?lang=en&amp;modules=ext.cite.styles%7Cext.uls.interlanguage%7Cext.visualEditor.desktopArticleTarget.noscript%7Cext.wikimediaBadges%7Cjquery.makeCollapsible.styles%7Cmediawiki.toc.styles%7Cskins.vector.styles.legacy%7Cwikibase.client.init&amp;only=styles&amp;skin=vector\" rel=\"stylesheet\"/>\n",
       "<script async=\"\" src=\"/w/load.php?lang=en&amp;modules=startup&amp;only=scripts&amp;raw=1&amp;skin=vector\"></script>\n",
       "<meta content=\"\" name=\"ResourceLoaderDynamicStyles\"/>\n",
       "<link href=\"/w/load.php?lang=en&amp;modules=site.styles&amp;only=styles&amp;skin=vector\" rel=\"stylesheet\"/>\n",
       "<meta content=\"MediaWiki 1.35.0-wmf.31\" name=\"generator\"/>\n",
       "<meta content=\"origin\" name=\"referrer\"/>\n",
       "<meta content=\"origin-when-crossorigin\" name=\"referrer\"/>\n",
       "<meta content=\"origin-when-cross-origin\" name=\"referrer\"/>\n",
       "<meta content=\"https://upload.wikimedia.org/wikipedia/commons/d/d7/Philippine-stock-market-board.jpg\" property=\"og:image\"/>\n",
       "<link href=\"/w/index.php?title=Financial_market&amp;action=edit\" rel=\"alternate\" title=\"Edit this page\" type=\"application/x-wiki\"/>\n",
       "<link href=\"/w/index.php?title=Financial_market&amp;action=edit\" rel=\"edit\" title=\"Edit this page\"/>\n",
       "<link href=\"/static/apple-touch/wikipedia.png\" rel=\"apple-touch-icon\"/>\n",
       "<link href=\"/static/favicon/wikipedia.ico\" rel=\"shortcut icon\"/>\n",
       "<link href=\"/w/opensearch_desc.php\" rel=\"search\" title=\"Wikipedia (en)\" type=\"application/opensearchdescription+xml\"/>\n",
       "<link href=\"//en.wikipedia.org/w/api.php?action=rsd\" rel=\"EditURI\" type=\"application/rsd+xml\"/>\n",
       "<link href=\"//creativecommons.org/licenses/by-sa/3.0/\" rel=\"license\"/>\n",
       "<link href=\"/w/index.php?title=Special:RecentChanges&amp;feed=atom\" rel=\"alternate\" title=\"Wikipedia Atom feed\" type=\"application/atom+xml\"/>\n",
       "<link href=\"https://en.wikipedia.org/wiki/Financial_market\" rel=\"canonical\"/>\n",
       "<link href=\"//login.wikimedia.org\" rel=\"dns-prefetch\"/>\n",
       "<link href=\"//meta.wikimedia.org\" rel=\"dns-prefetch\"/>\n",
       "<!--[if lt IE 9]><script src=\"/w/resources/lib/html5shiv/html5shiv.js\"></script><![endif]-->\n",
       "</head>\n",
       "<body class=\"mediawiki ltr sitedir-ltr mw-hide-empty-elt ns-0 ns-subject mw-editable page-Financial_market rootpage-Financial_market skin-vector action-view\">\n",
       "<div class=\"noprint\" id=\"mw-page-base\"></div>\n",
       "<div class=\"noprint\" id=\"mw-head-base\"></div>\n",
       "<div class=\"mw-body\" id=\"content\" role=\"main\">\n",
       "<a id=\"top\"></a>\n",
       "<div class=\"mw-body-content\" id=\"siteNotice\"><!-- CentralNotice --></div>\n",
       "<div class=\"mw-indicators mw-body-content\">\n",
       "</div>\n",
       "<h1 class=\"firstHeading\" id=\"firstHeading\" lang=\"en\">Financial market</h1>\n",
       "<div class=\"mw-body-content\" id=\"bodyContent\">\n",
       "<div class=\"noprint\" id=\"siteSub\">From Wikipedia, the free encyclopedia</div>\n",
       "<div id=\"contentSub\"></div>\n",
       "<div id=\"jump-to-nav\"></div>\n",
       "<a class=\"mw-jump-link\" href=\"#mw-head\">Jump to navigation</a>\n",
       "<a class=\"mw-jump-link\" href=\"#p-search\">Jump to search</a>\n",
       "<div class=\"mw-content-ltr\" dir=\"ltr\" id=\"mw-content-text\" lang=\"en\"><div class=\"mw-parser-output\"><table class=\"vertical-navbox nowraplinks\" style=\"float:right;clear:right;width:22.0em;margin:0 0 1.0em 1.0em;background:#f9f9f9;border:1px solid #aaa;padding:0.2em;border-spacing:0.4em 0;text-align:center;line-height:1.4em;font-size:88%\"><tbody><tr><th style=\"padding:0.2em 0.4em 0.2em;font-size:145%;line-height:1.2em\"><a href=\"/wiki/Finance\" title=\"Finance\">Finance</a></th></tr><tr><td style=\"padding:0.2em 0 0.4em\"><a class=\"image\" href=\"/wiki/File:Philippine-stock-market-board.jpg\"><img alt=\"Philippine-stock-market-board.jpg\" data-file-height=\"480\" data-file-width=\"640\" decoding=\"async\" height=\"188\" src=\"//upload.wikimedia.org/wikipedia/commons/thumb/d/d7/Philippine-stock-market-board.jpg/250px-Philippine-stock-market-board.jpg\" srcset=\"//upload.wikimedia.org/wikipedia/commons/thumb/d/d7/Philippine-stock-market-board.jpg/375px-Philippine-stock-market-board.jpg 1.5x, //upload.wikimedia.org/wikipedia/commons/thumb/d/d7/Philippine-stock-market-board.jpg/500px-Philippine-stock-market-board.jpg 2x\" width=\"250\"/></a></td></tr><tr><td style=\"padding:0 0.1em 0.4em\">\n",
       "<div class=\"NavFrame\" style=\"border:none;padding:0\"><div class=\"NavHead\" style=\"font-size:105%;background:transparent;text-align:left;background:#ddf;text-align:center;\"><a class=\"mw-selflink selflink\">Markets</a></div><div class=\"NavContent plainlist\" style=\"font-size:105%;padding:0.2em 0 0.4em;text-align:center\"><table class=\"vertical-navbox nowraplinks\" style=\"float:right;clear:right;width:22.0em;margin:0 0 1.0em 1.0em;background:#f9f9f9;border:1px solid #aaa;padding:0.2em;border-spacing:0.4em 0;text-align:center;line-height:1.4em;font-size:88%;border-collapse:collapse; border-spacing:0px; border:none; width:100%; margin:0px; font-size:100%; clear:none; float:none\"><tbody><tr><th style=\"padding:0.1em;background:#e9e9ff;font-weight:normal;font-style:italic;\">\n",
       "<a href=\"/wiki/Financial_asset\" title=\"Financial asset\">Assets</a></th></tr><tr><td class=\"hlist\" style=\"padding:0 0.1em 0.4em;padding-left:0.5em;padding-right:0.5em;\">\n",
       "<ul><li><a href=\"/wiki/Bond_market\" title=\"Bond market\">Bond</a></li>\n",
       "<li><a href=\"/wiki/Commodity_market\" title=\"Commodity market\">Commodity</a></li>\n",
       "<li><a href=\"/wiki/Derivatives_market\" title=\"Derivatives market\">Derivatives</a></li>\n",
       "<li><a href=\"/wiki/Foreign_exchange_market\" title=\"Foreign exchange market\">Foreign exchange</a></li>\n",
       "<li><a href=\"/wiki/Money_market\" title=\"Money market\">Money</a></li>\n",
       "<li><span class=\"nowrap\"><a href=\"/wiki/Over-the-counter_(finance)\" title=\"Over-the-counter (finance)\">Over-the-counter</a></span></li>\n",
       "<li><a href=\"/wiki/Private_equity\" title=\"Private equity\">Private equity</a></li>\n",
       "<li><a href=\"/wiki/Real_estate\" title=\"Real estate\">Real estate</a></li>\n",
       "<li><a href=\"/wiki/Spot_market\" title=\"Spot market\">Spot</a></li>\n",
       "<li><a href=\"/wiki/Stock_market\" title=\"Stock market\">Stock</a></li></ul></td>\n",
       "</tr><tr><th style=\"padding:0.1em;background:#e9e9ff;font-weight:normal;font-style:italic;\">\n",
       "<a href=\"/wiki/Financial_market_participants\" title=\"Financial market participants\">Participants</a></th></tr><tr><td class=\"hlist\" style=\"padding:0 0.1em 0.4em;padding-top:0.15em;\">\n",
       "<ul><li><a href=\"/wiki/Investor\" title=\"Investor\">Investor</a>\n",
       "<ul><li><a href=\"/wiki/Institutional_investor\" title=\"Institutional investor\">institutional</a></li></ul></li>\n",
       "<li><a href=\"/wiki/Retail\" title=\"Retail\">Retail</a></li>\n",
       "<li><a href=\"/wiki/Speculation\" title=\"Speculation\">Speculator</a></li></ul></td>\n",
       "</tr><tr><th style=\"padding:0.1em;background:#e9e9ff;font-weight:normal;font-style:italic;\">\n",
       "<a href=\"/wiki/Financial_centre\" title=\"Financial centre\">Locations</a></th></tr><tr><td class=\"hlist\" style=\"padding:0 0.1em 0.4em;padding-top:0.15em;\">\n",
       "<ul><li><a href=\"/wiki/Financial_centre\" title=\"Financial centre\">Financial centres</a></li>\n",
       "<li><a href=\"/wiki/Offshore_financial_centre\" title=\"Offshore financial centre\">Offshore financial centres</a></li>\n",
       "<li><a href=\"/wiki/Conduit_and_Sink_OFCs\" title=\"Conduit and Sink OFCs\">Conduit and Sink OFCs</a></li></ul></td>\n",
       "</tr></tbody></table></div></div></td>\n",
       "</tr><tr><td style=\"padding:0 0.1em 0.4em\">\n",
       "<div class=\"NavFrame collapsed\" style=\"border:none;padding:0\"><div class=\"NavHead\" style=\"font-size:105%;background:transparent;text-align:left;background:#ddf;text-align:center;\"><a href=\"/wiki/Financial_instrument\" title=\"Financial instrument\">Instruments</a></div><div class=\"NavContent plainlist\" style=\"font-size:105%;padding:0.2em 0 0.4em;text-align:center;padding-left:2.0em;padding-right:2.0em;\"><div class=\"hlist\">\n",
       "<ul><li><a href=\"/wiki/Bond_(finance)\" title=\"Bond (finance)\">Bond</a></li>\n",
       "<li><a href=\"/wiki/Cash\" title=\"Cash\">Cash</a></li>\n",
       "<li><a class=\"mw-redirect\" href=\"/wiki/Collateralised_debt_obligation\" title=\"Collateralised debt obligation\">Collateralised debt obligation</a></li>\n",
       "<li><a href=\"/wiki/Credit_default_swap\" title=\"Credit default swap\">Credit default swap</a></li>\n",
       "<li><a href=\"/wiki/Time_deposit\" title=\"Time deposit\">Time deposit</a> (<a href=\"/wiki/Certificate_of_deposit\" title=\"Certificate of deposit\">certificate of deposit</a>)</li>\n",
       "<li><a href=\"/wiki/Line_of_credit\" title=\"Line of credit\">Credit line</a></li>\n",
       "<li><a href=\"/wiki/Deposit_account\" title=\"Deposit account\">Deposit</a></li>\n",
       "<li><a href=\"/wiki/Derivative_(finance)\" title=\"Derivative (finance)\">Derivative</a></li>\n",
       "<li><a href=\"/wiki/Futures_contract\" title=\"Futures contract\">Futures contract</a></li>\n",
       "<li><a href=\"/wiki/Indemnity\" title=\"Indemnity\">Indemnity</a></li>\n",
       "<li><a href=\"/wiki/Insurance\" title=\"Insurance\">Insurance</a></li>\n",
       "<li><a href=\"/wiki/Letter_of_credit\" title=\"Letter of credit\">Letter of credit</a></li>\n",
       "<li><a href=\"/wiki/Loan\" title=\"Loan\">Loan</a></li>\n",
       "<li><a class=\"mw-redirect\" href=\"/wiki/Mortgage\" title=\"Mortgage\">Mortgage</a></li></ul>\n",
       "<div class=\"hlist hlist-separated\"><ul><li><a href=\"/wiki/Option_(finance)\" title=\"Option (finance)\">Option</a> (<a href=\"/wiki/Call_option\" title=\"Call option\">call</a></li><li><a href=\"/wiki/Exotic_option\" title=\"Exotic option\">exotic</a></li><li><a href=\"/wiki/Put_option\" title=\"Put option\">put</a>)</li></ul></div>\n",
       "<ul><li><a class=\"mw-redirect\" href=\"/wiki/Performance_bonds\" title=\"Performance bonds\">Performance bonds</a></li>\n",
       "<li><a href=\"/wiki/Repurchase_agreement\" title=\"Repurchase agreement\">Repurchase agreement</a></li>\n",
       "<li><a href=\"/wiki/Stock\" title=\"Stock\">Stock</a></li>\n",
       "<li><a href=\"/wiki/Security_(finance)\" title=\"Security (finance)\">Security</a></li>\n",
       "<li><a href=\"/wiki/Syndicated_loan\" title=\"Syndicated loan\">Syndicated loan</a></li>\n",
       "<li><a href=\"/wiki/Synthetic_CDO\" title=\"Synthetic CDO\">Synthetic CDO</a></li></ul>\n",
       "</div></div></div></td>\n",
       "</tr><tr><td style=\"padding:0 0.1em 0.4em\">\n",
       "<div class=\"NavFrame collapsed\" style=\"border:none;padding:0\"><div class=\"NavHead\" style=\"font-size:105%;background:transparent;text-align:left;background:#ddf;text-align:center;\"><a href=\"/wiki/Corporate_finance\" title=\"Corporate finance\">Corporate</a></div><div class=\"NavContent plainlist\" style=\"font-size:105%;padding:0.2em 0 0.4em;text-align:center\"><table class=\"vertical-navbox nowraplinks\" style=\"float:right;clear:right;width:22.0em;margin:0 0 1.0em 1.0em;background:#f9f9f9;border:1px solid #aaa;padding:0.2em;border-spacing:0.4em 0;text-align:center;line-height:1.4em;font-size:88%;border-collapse:collapse; border-spacing:0px; border:none; width:100%; margin:0px; font-size:100%; clear:none; float:none\"><tbody><tr><th style=\"padding:0.1em;background:#e9e9ff;font-weight:normal;font-style:italic;\">\n",
       "General</th></tr><tr><td class=\"hlist\" style=\"padding:0 0.1em 0.4em;padding-left:0.5em;padding-right:0.5em;\">\n",
       "<ul><li><a href=\"/wiki/Accounting\" title=\"Accounting\">Accounting</a></li>\n",
       "<li><a href=\"/wiki/Audit\" title=\"Audit\">Audit</a></li>\n",
       "<li><a href=\"/wiki/Capital_budgeting\" title=\"Capital budgeting\">Capital budgeting</a></li>\n",
       "<li><a href=\"/wiki/Credit_rating_agency\" title=\"Credit rating agency\">Credit rating agency</a></li>\n",
       "<li><a href=\"/wiki/Financial_risk_management\" title=\"Financial risk management\">Risk management</a></li>\n",
       "<li><a href=\"/wiki/Financial_statement\" title=\"Financial statement\">Financial statements</a></li></ul></td>\n",
       "</tr><tr><th style=\"padding:0.1em;background:#e9e9ff;font-weight:normal;font-style:italic;\">\n",
       "Transactions</th></tr><tr><td class=\"hlist\" style=\"padding:0 0.1em 0.4em;padding-left:0.5em;padding-right:0.5em;\">\n",
       "<ul><li><a href=\"/wiki/Leveraged_buyout\" title=\"Leveraged buyout\">Leveraged buyout</a></li>\n",
       "<li><a href=\"/wiki/Mergers_and_acquisitions\" title=\"Mergers and acquisitions\">Mergers and acquisitions</a></li>\n",
       "<li><a href=\"/wiki/Structured_finance\" title=\"Structured finance\">Structured finance</a></li>\n",
       "<li><a href=\"/wiki/Venture_capital\" title=\"Venture capital\">Venture capital</a></li></ul></td>\n",
       "</tr><tr><th style=\"padding:0.1em;background:#e9e9ff;font-weight:normal;font-style:italic;\">\n",
       "<a href=\"/wiki/Corporate_tax\" title=\"Corporate tax\">Taxation</a></th></tr><tr><td class=\"hlist\" style=\"padding:0 0.1em 0.4em;padding-left:0.5em;padding-right:0.5em;\">\n",
       "<ul><li><a href=\"/wiki/Base_erosion_and_profit_shifting\" title=\"Base erosion and profit shifting\">Base erosion and profit shifting</a> (BEPS)</li>\n",
       "<li><a class=\"mw-redirect\" href=\"/wiki/Corporate_tax_haven\" title=\"Corporate tax haven\">Corporate tax haven</a></li>\n",
       "<li><a href=\"/wiki/Tax_inversion\" title=\"Tax inversion\">Tax inversion</a></li>\n",
       "<li><a href=\"/wiki/Tax_haven\" title=\"Tax haven\">Tax haven</a></li>\n",
       "<li><a href=\"/wiki/Transfer_pricing\" title=\"Transfer pricing\">Transfer pricing</a></li></ul></td>\n",
       "</tr></tbody></table></div></div></td>\n",
       "</tr><tr><td style=\"padding:0 0.1em 0.4em\">\n",
       "<div class=\"NavFrame collapsed\" style=\"border:none;padding:0\"><div class=\"NavHead\" style=\"font-size:105%;background:transparent;text-align:left;background:#ddf;text-align:center;\"><a href=\"/wiki/Personal_finance\" title=\"Personal finance\">Personal</a></div><div class=\"NavContent plainlist\" style=\"font-size:105%;padding:0.2em 0 0.4em;text-align:center\">\n",
       "<ul><li><a class=\"mw-redirect\" href=\"/wiki/Credit_(finance)\" title=\"Credit (finance)\">Credit</a> / <a href=\"/wiki/Consumer_debt\" title=\"Consumer debt\">Debt</a></li>\n",
       "<li><a href=\"/wiki/Employment_contract\" title=\"Employment contract\">Employment contract</a></li>\n",
       "<li><a href=\"/wiki/Financial_planner\" title=\"Financial planner\">Financial planning</a></li>\n",
       "<li><div class=\"hlist hlist-separated\"><ul><li><a href=\"/wiki/Retirement\" title=\"Retirement\">Retirement</a></li><li><a href=\"/wiki/Student_loan\" title=\"Student loan\">Student loan</a></li></ul></div></li></ul></div></div></td>\n",
       "</tr><tr><td style=\"padding:0 0.1em 0.4em\">\n",
       "<div class=\"NavFrame collapsed\" style=\"border:none;padding:0\"><div class=\"NavHead\" style=\"font-size:105%;background:transparent;text-align:left;background:#ddf;text-align:center;\"><a href=\"/wiki/Public_finance\" title=\"Public finance\">Public</a></div><div class=\"NavContent plainlist\" style=\"font-size:105%;padding:0.2em 0 0.4em;text-align:center\"><table class=\"vertical-navbox nowraplinks\" style=\"float:right;clear:right;width:22.0em;margin:0 0 1.0em 1.0em;background:#f9f9f9;border:1px solid #aaa;padding:0.2em;border-spacing:0.4em 0;text-align:center;line-height:1.4em;font-size:88%;border-collapse:collapse; border-spacing:0px; border:none; width:100%; margin:0px; font-size:100%; clear:none; float:none\"><tbody><tr><th style=\"padding:0.1em;background:#e9e9ff;font-weight:normal;font-style:italic;;display:block;margin-top:0.15em;\">\n",
       "<a href=\"/wiki/Government_spending\" title=\"Government spending\">Government spending</a></th></tr><tr><td style=\"padding:0 0.1em 0.4em;padding-top:0.15em;\">\n",
       "<ul><li><a href=\"/wiki/Government_final_consumption_expenditure\" title=\"Government final consumption expenditure\">Final consumption expenditure</a></li>\n",
       "<li><div class=\"hlist hlist-separated\"><ul><li><a class=\"mw-redirect\" href=\"/wiki/Government_operations\" title=\"Government operations\">Operations</a></li><li><a href=\"/wiki/Redistribution_of_income_and_wealth\" title=\"Redistribution of income and wealth\">Redistribution</a></li></ul></div></li>\n",
       "<li><a href=\"/wiki/Transfer_payment\" title=\"Transfer payment\">Transfer payment</a></li></ul></td>\n",
       "</tr><tr><th style=\"padding:0.1em;background:#e9e9ff;font-weight:normal;font-style:italic;\">\n",
       "<a href=\"/wiki/Government_revenue\" title=\"Government revenue\">Government revenue</a></th></tr><tr><td style=\"padding:0 0.1em 0.4em;padding-top:0.15em;;padding-left:0.5em;padding-right:0.5em;\">\n",
       "<ul><li><div class=\"hlist hlist-separated\"><ul><li><a href=\"/wiki/Tax\" title=\"Tax\">Taxation</a></li><li><a href=\"/wiki/Deficit_spending\" title=\"Deficit spending\">Deficit spending</a></li></ul></div></li>\n",
       "<li><div class=\"hlist hlist-separated\"><ul><li><a href=\"/wiki/Government_budget\" title=\"Government budget\">Budget</a> (<a href=\"/wiki/Government_budget_balance\" title=\"Government budget balance\">balance</a>)</li><li><a href=\"/wiki/Government_debt\" title=\"Government debt\">Debt</a></li></ul></div></li>\n",
       "<li><a href=\"/wiki/Non-tax_revenue\" title=\"Non-tax revenue\">Non-tax revenue</a></li>\n",
       "<li><a href=\"/wiki/Warrant_of_payment\" title=\"Warrant of payment\">Warrant of payment</a></li></ul></td>\n",
       "</tr></tbody></table></div></div></td>\n",
       "</tr><tr><td style=\"padding:0 0.1em 0.4em\">\n",
       "<div class=\"NavFrame collapsed\" style=\"border:none;padding:0\"><div class=\"NavHead\" style=\"font-size:105%;background:transparent;text-align:left;background:#ddf;text-align:center;\"><a href=\"/wiki/Bank\" title=\"Bank\">Banking</a></div><div class=\"NavContent plainlist\" style=\"font-size:105%;padding:0.2em 0 0.4em;text-align:center\"><div class=\"hlist\">\n",
       "<ul><li><a href=\"/wiki/Central_bank\" title=\"Central bank\">Central bank</a></li>\n",
       "<li><a href=\"/wiki/Deposit_account\" title=\"Deposit account\">Deposit account</a></li>\n",
       "<li><a href=\"/wiki/Fractional-reserve_banking\" title=\"Fractional-reserve banking\">Fractional-reserve</a></li>\n",
       "<li><a href=\"/wiki/Full-reserve_banking\" title=\"Full-reserve banking\">Full-reserve</a></li>\n",
       "<li><a href=\"/wiki/Loan\" title=\"Loan\">Loan</a></li>\n",
       "<li><a href=\"/wiki/Money_supply\" title=\"Money supply\">Money supply</a></li></ul>\n",
       "</div>\n",
       "<ul><li><a href=\"/wiki/Lists_of_banks\" title=\"Lists of banks\">Lists of banks</a></li></ul>\n",
       "<table class=\"vertical-navbox nowraplinks\" style=\"float:right;clear:right;width:22.0em;margin:0 0 1.0em 1.0em;background:#f9f9f9;border:1px solid #aaa;padding:0.2em;border-spacing:0.4em 0;text-align:center;line-height:1.4em;font-size:88%;border-collapse:collapse; border-spacing:0px; border:none; width:100%; margin:0px; font-size:100%; clear:none; float:none\"><tbody><tr><th style=\"padding:0.1em;background:#e9e9ff;font-weight:normal;font-style:italic;;display:block;margin-top:0.15em;\">\n",
       "<a href=\"/wiki/Bank_regulation\" title=\"Bank regulation\">Bank regulation</a></th></tr><tr><td style=\"padding:0 0.1em 0.4em;padding-top:0.15em;\">\n",
       "<ul><li><a href=\"/wiki/Banking_license\" title=\"Banking license\">Banking license</a></li>\n",
       "<li><a href=\"/wiki/Basel_Accords\" title=\"Basel Accords\">Basel Accords</a></li>\n",
       "<li><a href=\"/wiki/Bank_for_International_Settlements\" title=\"Bank for International Settlements\">Bank for International Settlements</a></li>\n",
       "<li><a href=\"/wiki/Financial_Stability_Board\" title=\"Financial Stability Board\">Financial Stability Board</a></li>\n",
       "<li><a href=\"/wiki/Deposit_insurance\" title=\"Deposit insurance\">Deposit insurance</a></li>\n",
       "<li><a href=\"/wiki/Separation_of_investment_and_retail_banking\" title=\"Separation of investment and retail banking\">Separation of investment and retail banking</a></li></ul></td>\n",
       "</tr></tbody></table></div></div></td>\n",
       "</tr><tr><td style=\"padding:0 0.1em 0.4em\">\n",
       "<div class=\"NavFrame collapsed\" style=\"border:none;padding:0\"><div class=\"NavHead\" style=\"font-size:105%;background:transparent;text-align:left;background:#ddf;text-align:center;\"><a href=\"/wiki/Financial_regulation\" title=\"Financial regulation\">Regulation</a> <b>·</b> <a href=\"/wiki/Financial_law\" title=\"Financial law\">Financial law</a></div><div class=\"NavContent plainlist\" style=\"font-size:105%;padding:0.2em 0 0.4em;text-align:center\"><table class=\"vertical-navbox nowraplinks\" style=\"float:right;clear:right;width:22.0em;margin:0 0 1.0em 1.0em;background:#f9f9f9;border:1px solid #aaa;padding:0.2em;border-spacing:0.4em 0;text-align:center;line-height:1.4em;font-size:88%;border-collapse:collapse; border-spacing:0px; border:none; width:100%; margin:0px; font-size:100%; clear:none; float:none\"><tbody><tr><td style=\"padding:0 0.1em 0.4em\">\n",
       "<ul><li><a href=\"/wiki/International_Financial_Reporting_Standards\" title=\"International Financial Reporting Standards\">International Financial Reporting Standards</a></li>\n",
       "<li><a href=\"/wiki/ISO_31000\" title=\"ISO 31000\">ISO 31000</a></li>\n",
       "<li><a href=\"/wiki/Professional_certification_in_financial_services\" title=\"Professional certification in financial services\">Professional certification</a></li>\n",
       "<li><a href=\"/wiki/Fund_governance\" title=\"Fund governance\">Fund governance</a></li></ul></td>\n",
       "</tr></tbody></table></div></div></td>\n",
       "</tr><tr><td style=\"padding:0 0.1em 0.4em\">\n",
       "<div class=\"NavFrame collapsed\" style=\"border:none;padding:0\"><div class=\"NavHead\" style=\"font-size:105%;background:transparent;text-align:left;background:#ddf;text-align:center;\"><a href=\"/wiki/Economic_history\" title=\"Economic history\">Economic history</a></div><div class=\"NavContent plainlist\" style=\"font-size:105%;padding:0.2em 0 0.4em;text-align:center\">\n",
       "<ul><li><a href=\"/wiki/History_of_private_equity_and_venture_capital\" title=\"History of private equity and venture capital\">Private equity and venture capital</a></li>\n",
       "<li><a href=\"/wiki/Recession\" title=\"Recession\">Recession</a></li>\n",
       "<li><a href=\"/wiki/Stock_market_bubble\" title=\"Stock market bubble\">Stock market bubble</a></li>\n",
       "<li><a href=\"/wiki/Stock_market_crash\" title=\"Stock market crash\">Stock market crash</a></li>\n",
       "<li><a href=\"/wiki/Accounting_scandals\" title=\"Accounting scandals\">Accounting scandals</a></li></ul></div></div></td>\n",
       "</tr><tr><td style=\"text-align:right;font-size:115%;padding-top: 0.6em;\"><div class=\"plainlinks hlist navbar mini\"><ul><li class=\"nv-view\"><a href=\"/wiki/Template:Finance_sidebar\" title=\"Template:Finance sidebar\"><abbr title=\"View this template\">v</abbr></a></li><li class=\"nv-talk\"><a href=\"/wiki/Template_talk:Finance_sidebar\" title=\"Template talk:Finance sidebar\"><abbr title=\"Discuss this template\">t</abbr></a></li><li class=\"nv-edit\"><a class=\"external text\" href=\"https://en.wikipedia.org/w/index.php?title=Template:Finance_sidebar&amp;action=edit\"><abbr title=\"Edit this template\">e</abbr></a></li></ul></div></td></tr></tbody></table>\n",
       "<table class=\"vertical-navbox nowraplinks\" style=\"float:right;clear:right;width:22.0em;margin:0 0 1.0em 1.0em;background:#f9f9f9;border:1px solid #aaa;padding:0.2em;border-spacing:0.4em 0;text-align:center;line-height:1.4em;font-size:88%\"><tbody><tr><td style=\"padding-top:0.4em;line-height:1.2em\">Part of a series on <a href=\"/wiki/Financial_services\" title=\"Financial services\">financial services</a></td></tr><tr><th style=\"padding:0.2em 0.4em 0.2em;padding-top:0;font-size:145%;line-height:1.2em;display:block;margin-bottom:0.4em;\"><a href=\"/wiki/Bank\" title=\"Bank\">Banking</a></th></tr><tr><td style=\"padding:0 0.1em 0.4em\">\n",
       "<div class=\"NavFrame collapsed\" style=\"border:none;padding:0\"><div class=\"NavHead\" style=\"font-size:105%;background:transparent;text-align:left;background:#ddf;text-align:center;\">Types of banks</div><div class=\"NavContent hlist\" style=\"font-size:105%;padding:0.2em 0 0.4em;text-align:center\">\n",
       "<ul><li><a href=\"/wiki/Advising_bank\" title=\"Advising bank\">Advising</a></li>\n",
       "<li><a href=\"/wiki/Banq_(term)\" title=\"Banq (term)\">Banq</a></li>\n",
       "<li><a href=\"/wiki/Bulge_Bracket\" title=\"Bulge Bracket\">Bulge Bracket</a></li>\n",
       "<li><a href=\"/wiki/Central_bank\" title=\"Central bank\">Central</a></li>\n",
       "<li><a href=\"/wiki/Commercial_bank\" title=\"Commercial bank\">Commercial</a></li>\n",
       "<li><a href=\"/wiki/Community_development_bank\" title=\"Community development bank\">Community development</a></li>\n",
       "<li><a href=\"/wiki/Cooperative_banking\" title=\"Cooperative banking\">Cooperative</a></li>\n",
       "<li><a href=\"/wiki/Credit_union\" title=\"Credit union\">Credit union</a></li>\n",
       "<li><a href=\"/wiki/Custodian_bank\" title=\"Custodian bank\">Custodian</a></li>\n",
       "<li><a href=\"/wiki/Depository_bank\" title=\"Depository bank\">Depository</a></li>\n",
       "<li><a href=\"/wiki/Direct_bank\" title=\"Direct bank\">Direct</a></li>\n",
       "<li><a href=\"/wiki/Export_credit_agency\" title=\"Export credit agency\">Export credit agency</a></li>\n",
       "<li><a href=\"/wiki/Investment_banking\" title=\"Investment banking\">Investment</a></li>\n",
       "<li><a href=\"/wiki/Industrial_loan_company\" title=\"Industrial loan company\">Industrial</a></li>\n",
       "<li><a href=\"/wiki/Merchant_bank\" title=\"Merchant bank\">Merchant</a></li>\n",
       "<li><a href=\"/wiki/Bulge_Bracket#Middle_Market\" title=\"Bulge Bracket\">Middle Market</a></li>\n",
       "<li><a href=\"/wiki/Mutual_savings_bank\" title=\"Mutual savings bank\">Mutual savings</a></li>\n",
       "<li><a href=\"/wiki/National_bank\" title=\"National bank\">National</a></li>\n",
       "<li><a href=\"/wiki/Neobank\" title=\"Neobank\">Neobank</a></li>\n",
       "<li><a href=\"/wiki/Offshore_bank\" title=\"Offshore bank\">Offshore</a></li>\n",
       "<li><a href=\"/wiki/Participation_banking\" title=\"Participation banking\">Participation</a></li>\n",
       "<li><a href=\"/wiki/Postal_savings_system\" title=\"Postal savings system\">Postal savings</a></li>\n",
       "<li><a href=\"/wiki/Private_bank\" title=\"Private bank\">Private</a></li>\n",
       "<li><a href=\"/wiki/Public_bank\" title=\"Public bank\">Public</a></li>\n",
       "<li><a href=\"/wiki/Retail_banking\" title=\"Retail banking\">Retail</a></li>\n",
       "<li><a href=\"/wiki/Savings_bank\" title=\"Savings bank\">Savings</a></li>\n",
       "<li><a href=\"/wiki/Savings_and_loan_association\" title=\"Savings and loan association\">Savings and loan</a></li>\n",
       "<li><a href=\"/wiki/Universal_bank\" title=\"Universal bank\">Universal</a></li>\n",
       "<li><a href=\"/wiki/Bank_holding_company\" title=\"Bank holding company\">Bank holding company</a></li></ul>\n",
       "<i><a href=\"/wiki/Lists_of_banks\" title=\"Lists of banks\">Lists of banks</a></i></div></div></td>\n",
       "</tr><tr><td style=\"padding:0 0.1em 0.4em\">\n",
       "<div class=\"NavFrame collapsed\" style=\"border:none;padding:0\"><div class=\"NavHead\" style=\"font-size:105%;background:transparent;text-align:left;background:#ddf;text-align:center;\"><a href=\"/wiki/Bank_account\" title=\"Bank account\">Accounts</a> <b>·</b> <a href=\"/wiki/Bank_card\" title=\"Bank card\">Cards</a></div><div class=\"NavContent hlist\" style=\"font-size:105%;padding:0.2em 0 0.4em;text-align:center\"><table class=\"vertical-navbox nowraplinks\" style=\"float:right;clear:right;width:22.0em;margin:0 0 1.0em 1.0em;background:#f9f9f9;border:1px solid #aaa;padding:0.2em;border-spacing:0.4em 0;text-align:center;line-height:1.4em;font-size:88%;border-collapse:collapse; border-spacing:0px; border:none; width:100%; margin:0px; font-size:100%; clear:none; float:none\"><tbody><tr><th style=\"padding:0.1em;background:#e9e9ff;font-weight:normal; display:block;margin-top:0.15em;\">\n",
       "Accounts</th></tr><tr><td style=\"padding:0 0.1em 0.4em;padding-top:0.15em;\">\n",
       "<ul><li><a href=\"/wiki/Christmas_club\" title=\"Christmas club\">Christmas club</a></li>\n",
       "<li><a href=\"/wiki/Deposit_account\" title=\"Deposit account\">Deposit</a></li>\n",
       "<li><a href=\"/wiki/Money_market_account\" title=\"Money market account\">Money-market</a></li>\n",
       "<li><a href=\"/wiki/Savings_account\" title=\"Savings account\">Savings</a></li>\n",
       "<li><a href=\"/wiki/Time_deposit\" title=\"Time deposit\">Time deposit (Bond)</a></li></ul>\n",
       "<a href=\"/wiki/Transaction_account\" title=\"Transaction account\">Transaction (checking / current)</a></td>\n",
       "</tr><tr><th style=\"padding:0.1em;background:#e9e9ff;font-weight:normal; display:block;margin-top:0.15em;\">\n",
       "Cards</th></tr><tr><td style=\"padding:0 0.1em 0.4em;padding-top:0.15em;\">\n",
       "<ul><li><a href=\"/wiki/ATM_card\" title=\"ATM card\">ATM</a></li>\n",
       "<li><a href=\"/wiki/Credit_card\" title=\"Credit card\">Credit</a></li>\n",
       "<li><a href=\"/wiki/Debit_card\" title=\"Debit card\">Debit</a></li></ul></td>\n",
       "</tr></tbody></table></div></div></td>\n",
       "</tr><tr><td style=\"padding:0 0.1em 0.4em\">\n",
       "<div class=\"NavFrame collapsed\" style=\"border:none;padding:0\"><div class=\"NavHead\" style=\"font-size:105%;background:transparent;text-align:left;background:#ddf;text-align:center;\">Funds transfer</div><div class=\"NavContent hlist\" style=\"font-size:105%;padding:0.2em 0 0.4em;text-align:center\">\n",
       "<ul><li><a href=\"/wiki/Electronic_funds_transfer\" title=\"Electronic funds transfer\">Electronic</a>\n",
       "<ul><li><a href=\"/wiki/Electronic_bill_payment\" title=\"Electronic bill payment\">Bill payment</a></li>\n",
       "<li><a href=\"/wiki/Mobile_payment\" title=\"Mobile payment\">Mobile</a></li></ul></li>\n",
       "<li><a href=\"/wiki/Wire_transfer\" title=\"Wire transfer\">Wire</a></li>\n",
       "<li><a href=\"/wiki/Cheque\" title=\"Cheque\">Cheque</a></li>\n",
       "<li><a href=\"/wiki/Society_for_Worldwide_Interbank_Financial_Telecommunication\" title=\"Society for Worldwide Interbank Financial Telecommunication\">SWIFT</a></li>\n",
       "<li><a href=\"/wiki/Automated_clearing_house\" title=\"Automated clearing house\">Automated clearing house</a></li>\n",
       "<li><a href=\"/wiki/Giro\" title=\"Giro\">Giro</a></li></ul></div></div></td>\n",
       "</tr><tr><td style=\"padding:0 0.1em 0.4em\">\n",
       "<div class=\"NavFrame collapsed\" style=\"border:none;padding:0\"><div class=\"NavHead\" style=\"font-size:105%;background:transparent;text-align:left;background:#ddf;text-align:center;\">Terms</div><div class=\"NavContent hlist\" style=\"font-size:105%;padding:0.2em 0 0.4em;text-align:center\"><table class=\"vertical-navbox nowraplinks\" style=\"float:right;clear:right;width:22.0em;margin:0 0 1.0em 1.0em;background:#f9f9f9;border:1px solid #aaa;padding:0.2em;border-spacing:0.4em 0;text-align:center;line-height:1.4em;font-size:88%;border-collapse:collapse; border-spacing:0px; border:none; width:100%; margin:0px; font-size:100%; clear:none; float:none\"><tbody><tr><td style=\"padding:0 0.1em 0.4em;padding-top:0.15em;\">\n",
       "<ul><li><a href=\"/wiki/Automated_teller_machine\" title=\"Automated teller machine\">Automated teller machine</a></li>\n",
       "<li><a href=\"/wiki/Bank_regulation\" title=\"Bank regulation\">Bank regulation</a></li>\n",
       "<li><a href=\"/wiki/Loan\" title=\"Loan\">Loan</a></li>\n",
       "<li><a href=\"/wiki/Mobile_banking\" title=\"Mobile banking\">Mobile banking</a></li>\n",
       "<li><a href=\"/wiki/Money_creation\" title=\"Money creation\">Money creation</a></li></ul></td>\n",
       "</tr><tr><td style=\"padding:0 0.1em 0.4em;padding-top:0.15em;\">\n",
       "<ul><li><a href=\"/wiki/Bank_secrecy\" title=\"Bank secrecy\">Bank secrecy</a></li>\n",
       "<li><a href=\"/wiki/Ethical_banking\" title=\"Ethical banking\">Ethical banking</a></li>\n",
       "<li><a href=\"/wiki/Fractional-reserve_banking\" title=\"Fractional-reserve banking\">Fractional-reserve banking</a></li>\n",
       "<li><a href=\"/wiki/Full-reserve_banking\" title=\"Full-reserve banking\">Full-reserve banking</a></li>\n",
       "<li><a href=\"/wiki/Islamic_banking_and_finance\" title=\"Islamic banking and finance\">Islamic banking</a></li>\n",
       "<li><a href=\"/wiki/Private_banking\" title=\"Private banking\">Private banking</a></li></ul></td>\n",
       "</tr></tbody></table></div></div></td>\n",
       "</tr><tr><td style=\"padding:0 0.1em 0.4em\">\n",
       "<div class=\"NavFrame\" style=\"border:none;padding:0\"><div class=\"NavHead\" style=\"font-size:105%;background:transparent;text-align:left;background:#ddf;text-align:center;\">Related topics</div><div class=\"NavContent hlist\" style=\"font-size:105%;padding:0.2em 0 0.4em;text-align:center;padding-bottom:0;\"><a class=\"mw-selflink selflink\">Financial market</a> (<a href=\"/wiki/Financial_market_participants\" title=\"Financial market participants\">participants</a>)\n",
       "<ul><li><a href=\"/wiki/Corporate_finance\" title=\"Corporate finance\">Corporate finance</a></li>\n",
       "<li><a href=\"/wiki/Personal_finance\" title=\"Personal finance\">Personal finance</a></li>\n",
       "<li><a href=\"/wiki/Public_finance\" title=\"Public finance\">Public finance</a></li>\n",
       "<li><a href=\"/wiki/Financial_law\" title=\"Financial law\">Financial law</a></li>\n",
       "<li><a href=\"/wiki/Financial_regulation\" title=\"Financial regulation\">Financial regulation</a></li>\n",
       "<li><a href=\"/wiki/List_of_banks_(alphabetical)\" title=\"List of banks (alphabetical)\">List of banks</a></li></ul></div></div></td>\n",
       "</tr><tr><td class=\"hlist\" style=\"padding:0.3em 0.4em 0.3em;font-weight:bold;border-top: 1px solid #aaa; border-bottom: 1px solid #aaa;\">\n",
       "<ul><li><img alt=\"Category\" data-file-height=\"31\" data-file-width=\"36\" decoding=\"async\" height=\"14\" src=\"//upload.wikimedia.org/wikipedia/en/thumb/4/48/Folder_Hexagonal_Icon.svg/16px-Folder_Hexagonal_Icon.svg.png\" srcset=\"//upload.wikimedia.org/wikipedia/en/thumb/4/48/Folder_Hexagonal_Icon.svg/24px-Folder_Hexagonal_Icon.svg.png 1.5x, //upload.wikimedia.org/wikipedia/en/thumb/4/48/Folder_Hexagonal_Icon.svg/32px-Folder_Hexagonal_Icon.svg.png 2x\" title=\"Category\" width=\"16\"/> <a href=\"/wiki/Category:Banking\" title=\"Category:Banking\">Category</a></li>\n",
       "<li><img alt=\"Commons page\" data-file-height=\"1376\" data-file-width=\"1024\" decoding=\"async\" height=\"16\" src=\"//upload.wikimedia.org/wikipedia/en/thumb/4/4a/Commons-logo.svg/12px-Commons-logo.svg.png\" srcset=\"//upload.wikimedia.org/wikipedia/en/thumb/4/4a/Commons-logo.svg/18px-Commons-logo.svg.png 1.5x, //upload.wikimedia.org/wikipedia/en/thumb/4/4a/Commons-logo.svg/24px-Commons-logo.svg.png 2x\" title=\"Commons page\" width=\"12\"/> <a class=\"extiw\" href=\"https://commons.wikimedia.org/wiki/Category:Banking\" title=\"commons:Category:Banking\">Commons</a></li>\n",
       "<li><img alt=\"Portal\" data-file-height=\"28\" data-file-width=\"32\" decoding=\"async\" height=\"14\" src=\"//upload.wikimedia.org/wikipedia/en/thumb/f/fd/Portal-puzzle.svg/16px-Portal-puzzle.svg.png\" srcset=\"//upload.wikimedia.org/wikipedia/en/thumb/f/fd/Portal-puzzle.svg/24px-Portal-puzzle.svg.png 1.5x, //upload.wikimedia.org/wikipedia/en/thumb/f/fd/Portal-puzzle.svg/32px-Portal-puzzle.svg.png 2x\" title=\"Portal\" width=\"16\"/> <a class=\"mw-redirect\" href=\"/wiki/Portal:Banking\" title=\"Portal:Banking\">Portal</a></li></ul></td></tr><tr><td style=\"text-align:right;font-size:115%;padding-top: 0.6em;\"><div class=\"plainlinks hlist navbar mini\"><ul><li class=\"nv-view\"><a href=\"/wiki/Template:Banking\" title=\"Template:Banking\"><abbr title=\"View this template\">v</abbr></a></li><li class=\"nv-talk\"><a href=\"/wiki/Template_talk:Banking\" title=\"Template talk:Banking\"><abbr title=\"Discuss this template\">t</abbr></a></li><li class=\"nv-edit\"><a class=\"external text\" href=\"https://en.wikipedia.org/w/index.php?title=Template:Banking&amp;action=edit\"><abbr title=\"Edit this template\">e</abbr></a></li></ul></div></td></tr></tbody></table>\n",
       "<p>A <b>financial market</b> is a <a href=\"/wiki/Market_(economics)\" title=\"Market (economics)\">market</a> in which people <a href=\"/wiki/Trade\" title=\"Trade\">trade</a> financial <a href=\"/wiki/Security_(finance)\" title=\"Security (finance)\">securities</a> and derivatives at low <a href=\"/wiki/Transaction_cost\" title=\"Transaction cost\">transaction costs</a>. Some of the securities include <a href=\"/wiki/Stock\" title=\"Stock\">stocks</a> and <a href=\"/wiki/Bond_(finance)\" title=\"Bond (finance)\">bonds</a>, and  precious metals.\n",
       "</p><p>The term \"market\" is sometimes used for what are more strictly <i>exchanges</i>, organizations that facilitate the trade in financial securities, e.g., a <a href=\"/wiki/Stock_exchange\" title=\"Stock exchange\">stock exchange</a> or <a class=\"mw-redirect\" href=\"/wiki/Commodities_exchange\" title=\"Commodities exchange\">commodity exchange</a>. This may be a physical location (such as the <a href=\"/wiki/New_York_Stock_Exchange\" title=\"New York Stock Exchange\">NYSE</a>, <a href=\"/wiki/London_Stock_Exchange\" title=\"London Stock Exchange\">LSE</a>, <a href=\"/wiki/JSE_Limited\" title=\"JSE Limited\">JSE</a>, <a href=\"/wiki/Bombay_Stock_Exchange\" title=\"Bombay Stock Exchange\">BSE</a>) or an electronic system (such as <a class=\"mw-redirect\" href=\"/wiki/NASDAQ\" title=\"NASDAQ\">NASDAQ</a>). Much trading of stocks takes place on an exchange; still, <a href=\"/wiki/Corporate_action\" title=\"Corporate action\">corporate actions</a> (merger, spinoff) are outside an exchange, while any two companies or people, for whatever reason, may agree to sell stock from the one to the other without using an exchange.\n",
       "</p><p>Trading of <a href=\"/wiki/Foreign_exchange_market\" title=\"Foreign exchange market\">currencies</a> and <a href=\"/wiki/Bond_market\" title=\"Bond market\">bonds</a> is largely on a bilateral basis, although some bonds trade on a stock exchange, and people are building electronic systems for these as well,  to stock exchanges.\n",
       "</p>\n",
       "<div aria-labelledby=\"mw-toc-heading\" class=\"toc\" id=\"toc\" role=\"navigation\"><input class=\"toctogglecheckbox\" id=\"toctogglecheckbox\" role=\"button\" style=\"display:none\" type=\"checkbox\"/><div class=\"toctitle\" dir=\"ltr\" lang=\"en\"><h2 id=\"mw-toc-heading\">Contents</h2><span class=\"toctogglespan\"><label class=\"toctogglelabel\" for=\"toctogglecheckbox\"></label></span></div>\n",
       "<ul>\n",
       "<li class=\"toclevel-1 tocsection-1\"><a href=\"#Types_of_financial_markets\"><span class=\"tocnumber\">1</span> <span class=\"toctext\">Types of financial markets</span></a></li>\n",
       "<li class=\"toclevel-1 tocsection-2\"><a href=\"#Raising_capital\"><span class=\"tocnumber\">2</span> <span class=\"toctext\">Raising capital</span></a>\n",
       "<ul>\n",
       "<li class=\"toclevel-2 tocsection-3\"><a href=\"#Lenders\"><span class=\"tocnumber\">2.1</span> <span class=\"toctext\">Lenders</span></a>\n",
       "<ul>\n",
       "<li class=\"toclevel-3 tocsection-4\"><a href=\"#Individuals_and_doubles\"><span class=\"tocnumber\">2.1.1</span> <span class=\"toctext\">Individuals and doubles</span></a></li>\n",
       "<li class=\"toclevel-3 tocsection-5\"><a href=\"#Companies\"><span class=\"tocnumber\">2.1.2</span> <span class=\"toctext\">Companies</span></a></li>\n",
       "<li class=\"toclevel-3 tocsection-6\"><a href=\"#Banks\"><span class=\"tocnumber\">2.1.3</span> <span class=\"toctext\">Banks</span></a></li>\n",
       "</ul>\n",
       "</li>\n",
       "<li class=\"toclevel-2 tocsection-7\"><a href=\"#Borrowers\"><span class=\"tocnumber\">2.2</span> <span class=\"toctext\">Borrowers</span></a></li>\n",
       "</ul>\n",
       "</li>\n",
       "<li class=\"toclevel-1 tocsection-8\"><a href=\"#Derivative_products\"><span class=\"tocnumber\">3</span> <span class=\"toctext\">Derivative products</span></a></li>\n",
       "<li class=\"toclevel-1 tocsection-9\"><a href=\"#Analysis_of_financial_markets\"><span class=\"tocnumber\">4</span> <span class=\"toctext\">Analysis of financial markets</span></a></li>\n",
       "<li class=\"toclevel-1 tocsection-10\"><a href=\"#Financial_market_slang\"><span class=\"tocnumber\">5</span> <span class=\"toctext\">Financial market slang</span></a></li>\n",
       "<li class=\"toclevel-1 tocsection-11\"><a href=\"#Functions_of_financial_markets\"><span class=\"tocnumber\">6</span> <span class=\"toctext\">Functions of financial markets</span></a></li>\n",
       "<li class=\"toclevel-1 tocsection-12\"><a href=\"#Components_of_financial_market\"><span class=\"tocnumber\">7</span> <span class=\"toctext\">Components of financial market</span></a>\n",
       "<ul>\n",
       "<li class=\"toclevel-2 tocsection-13\"><a href=\"#Based_on_market_levels\"><span class=\"tocnumber\">7.1</span> <span class=\"toctext\">Based on market levels</span></a></li>\n",
       "<li class=\"toclevel-2 tocsection-14\"><a href=\"#Based_on_security_types\"><span class=\"tocnumber\">7.2</span> <span class=\"toctext\">Based on security types</span></a></li>\n",
       "</ul>\n",
       "</li>\n",
       "<li class=\"toclevel-1 tocsection-15\"><a href=\"#See_also\"><span class=\"tocnumber\">8</span> <span class=\"toctext\">See also</span></a></li>\n",
       "<li class=\"toclevel-1 tocsection-16\"><a href=\"#Notes\"><span class=\"tocnumber\">9</span> <span class=\"toctext\">Notes</span></a></li>\n",
       "<li class=\"toclevel-1 tocsection-17\"><a href=\"#References\"><span class=\"tocnumber\">10</span> <span class=\"toctext\">References</span></a></li>\n",
       "<li class=\"toclevel-1 tocsection-18\"><a href=\"#External_links\"><span class=\"tocnumber\">11</span> <span class=\"toctext\">External links</span></a></li>\n",
       "</ul>\n",
       "</div>\n",
       "<h2><span class=\"mw-headline\" id=\"Types_of_financial_markets\">Types of financial markets</span><span class=\"mw-editsection\"><span class=\"mw-editsection-bracket\">[</span><a href=\"/w/index.php?title=Financial_market&amp;action=edit&amp;section=1\" title=\"Edit section: Types of financial markets\">edit</a><span class=\"mw-editsection-bracket\">]</span></span></h2>\n",
       "<p>Within the financial sector, the term \"financial markets\" is often used to refer just to the markets that are used to raise finance.For long term finance, the <i>Capital markets</i>; for short term finance, the <i>Money markets</i>. Another common use of the term is as a catchall for all the markets in the financial sector, as per examples in the breakdown below.\n",
       "</p>\n",
       "<ul><li><a href=\"/wiki/Capital_market\" title=\"Capital market\">Capital markets</a> which consist of:\n",
       "<ul><li><a href=\"/wiki/Stock_market\" title=\"Stock market\">Stock markets</a>, which provide financing through the issuance of shares or <a href=\"/wiki/Stock\" title=\"Stock\">common stock</a>, and enable the subsequent trading thereof.</li>\n",
       "<li><a href=\"/wiki/Bond_market\" title=\"Bond market\">Bond markets</a>, which provide financing through the issuance of <a href=\"/wiki/Bond_(finance)\" title=\"Bond (finance)\">bonds</a>, and enable the subsequent trading thereof.</li></ul></li>\n",
       "<li><a href=\"/wiki/Commodity_market\" title=\"Commodity market\">Commodity markets</a>, which facilitate the trading of commodities.</li>\n",
       "<li><a href=\"/wiki/Money_market\" title=\"Money market\">Money markets</a>, which provide short term debt financing and investment.</li>\n",
       "<li><a href=\"/wiki/Derivatives_market\" title=\"Derivatives market\">Derivatives markets</a>, which provide instruments for the management of <a href=\"/wiki/Finance\" title=\"Finance\">financial</a> risk.<sup class=\"reference\" id=\"cite_ref-1\"><a href=\"#cite_note-1\">[1]</a></sup></li>\n",
       "<li><a href=\"/wiki/Futures_exchange\" title=\"Futures exchange\">Futures markets</a>, which provide standardized <a href=\"/wiki/Forward_contract\" title=\"Forward contract\">forward contracts</a> for trading products at some future date; see also <a href=\"/wiki/Forward_market\" title=\"Forward market\">forward market</a>.</li>\n",
       "<li><a href=\"/wiki/Foreign_exchange_market\" title=\"Foreign exchange market\">Foreign exchange markets</a>, which facilitate the trading of <a href=\"/wiki/Foreign_exchange_market\" title=\"Foreign exchange market\">foreign exchange</a>.</li>\n",
       "<li><a href=\"/wiki/Cryptocurrency\" title=\"Cryptocurrency\">Cryptocurrency</a> market which facilitate the trading of digital assets and financial technologies.</li>\n",
       "<li><a href=\"/wiki/Spot_market\" title=\"Spot market\">Spot market</a></li>\n",
       "<li><a href=\"/wiki/Interbank_lending_market\" title=\"Interbank lending market\">Interbank lending market</a></li></ul>\n",
       "<p>The <a href=\"/wiki/Capital_market\" title=\"Capital market\">capital markets</a> may also be divided into <a href=\"/wiki/Primary_market\" title=\"Primary market\">primary markets</a> and <a href=\"/wiki/Secondary_market\" title=\"Secondary market\">secondary markets</a>. Newly formed (issued) securities are bought or sold in primary markets, such as during <a href=\"/wiki/Initial_public_offering\" title=\"Initial public offering\">initial public offerings</a>. Secondary markets allow investors to buy and sell existing securities. The transactions in primary markets exist between issuers and investors, while secondary market transactions exist among investors.\n",
       "</p><p>Liquidity is a crucial aspect of securities that are traded in secondary markets. <a class=\"mw-redirect\" href=\"/wiki/Liquidity\" title=\"Liquidity\">Liquidity</a> refers to the ease with which a security can be sold without a loss of value. Securities with an active secondary market mean that there are many buyers and sellers at a given point in time. Investors benefit from <a href=\"/wiki/Market_liquidity\" title=\"Market liquidity\">liquid securities</a> because they can sell their assets whenever they want; an illiquid security may force the seller to get rid of their asset at a large discount.\n",
       "</p>\n",
       "<h2><span class=\"mw-headline\" id=\"Raising_capital\">Raising capital</span><span class=\"mw-editsection\"><span class=\"mw-editsection-bracket\">[</span><a href=\"/w/index.php?title=Financial_market&amp;action=edit&amp;section=2\" title=\"Edit section: Raising capital\">edit</a><span class=\"mw-editsection-bracket\">]</span></span></h2>\n",
       "<p>Financial markets attract funds from investors and channel them to corporations—they thus allow corporations to finance their operations and achieve growth. Money markets allow firms to borrow funds on a short term basis, while capital markets allow corporations to gain long-term funding to support expansion (known as maturity transformation).\n",
       "</p><p>Without financial markets, borrowers would have difficulty finding lenders themselves. Intermediaries such as <a href=\"/wiki/Bank\" title=\"Bank\">banks</a>, <a href=\"/wiki/Investment_banking\" title=\"Investment banking\">Investment Banks</a>, and <a href=\"/wiki/Boutique_investment_bank\" title=\"Boutique investment bank\">Boutique Investment Banks</a> can help in this process. Banks take deposits from those who have <a href=\"/wiki/Money\" title=\"Money\">money</a> to save. They can then lend money from this pool of deposited money to those who seek to borrow. Banks popularly lend money in the form of <a href=\"/wiki/Loan\" title=\"Loan\">loans</a> and <a href=\"/wiki/Mortgage_loan\" title=\"Mortgage loan\">mortgages</a>.\n",
       "</p><p>More complex transactions than a simple bank deposit require markets where lenders and their agents can meet borrowers and their agents, and where existing borrowing or lending commitments can be sold on to other parties. A good example of a financial market is a <a href=\"/wiki/Stock_exchange\" title=\"Stock exchange\">stock exchange</a>. A company can raise money by selling <a href=\"/wiki/Share_(finance)\" title=\"Share (finance)\">shares</a> to <a href=\"/wiki/Investor\" title=\"Investor\">investors</a> and its existing shares can be bought or sold.\n",
       "</p><p>The following table illustrates where financial markets fit in the relationship between lenders and borrowers:\n",
       "</p>\n",
       "<table border=\"1\" cellpadding=\"2\" style=\"margin-left:1em; margin-bottom: 1em; color: black; border-collapse: collapse; font-size: 95%;\" width=\"600\">\n",
       "<tbody><tr align=\"center\" style=\"background:#181818;color:white;font-size:120%;\">\n",
       "<td colspan=\"4\"><b>Relationship between lenders and borrowers</b>\n",
       "</td></tr>\n",
       "<tr align=\"center\" style=\"background:#EFEFEF;font-weight:bold\">\n",
       "<td>Lenders\n",
       "</td>\n",
       "<td><a href=\"/wiki/Financial_intermediary\" title=\"Financial intermediary\">Financial Intermediaries</a>\n",
       "</td>\n",
       "<td>Financial Markets\n",
       "</td>\n",
       "<td>Borrowers\n",
       "</td></tr>\n",
       "<tr align=\"center\">\n",
       "<td>Individuals<br/>Companies<br/>Banks\n",
       "</td>\n",
       "<td>Banks<br/>Insurance Companies<br/>Pension Funds<br/>Mutual Funds<br/>\n",
       "</td>\n",
       "<td>Interbank<br/>Stock Exchange<br/>Money Market<br/>Bond Market<br/>Foreign Exchange\n",
       "</td>\n",
       "<td>Individuals<br/>Companies<br/>Central Government<br/>Municipalities<br/>Public Corporations\n",
       "</td></tr></tbody></table>\n",
       "<h3><span class=\"mw-headline\" id=\"Lenders\">Lenders</span><span class=\"mw-editsection\"><span class=\"mw-editsection-bracket\">[</span><a href=\"/w/index.php?title=Financial_market&amp;action=edit&amp;section=3\" title=\"Edit section: Lenders\">edit</a><span class=\"mw-editsection-bracket\">]</span></span></h3>\n",
       "<p>The lender temporarily gives money to somebody else, on the condition of getting back the principal amount together with some interest or profit or charge.\n",
       "</p>\n",
       "<h4><span class=\"mw-headline\" id=\"Individuals_and_doubles\">Individuals and doubles</span><span class=\"mw-editsection\"><span class=\"mw-editsection-bracket\">[</span><a href=\"/w/index.php?title=Financial_market&amp;action=edit&amp;section=4\" title=\"Edit section: Individuals and doubles\">edit</a><span class=\"mw-editsection-bracket\">]</span></span></h4>\n",
       "<p>Many individuals are not aware that they are lenders, but almost everybody does lend money in many ways. A person lends money when he or she:\n",
       "</p>\n",
       "<ul><li>Puts money in a savings account at a bank</li>\n",
       "<li>Contributes to a pension plan</li>\n",
       "<li>Pays premiums to an insurance company</li>\n",
       "<li>Invests in government bonds</li></ul>\n",
       "<h4><span class=\"mw-headline\" id=\"Companies\">Companies</span><span class=\"mw-editsection\"><span class=\"mw-editsection-bracket\">[</span><a href=\"/w/index.php?title=Financial_market&amp;action=edit&amp;section=5\" title=\"Edit section: Companies\">edit</a><span class=\"mw-editsection-bracket\">]</span></span></h4>\n",
       "<p><i><a class=\"mw-redirect\" href=\"/wiki/Company_(law)\" title=\"Company (law)\">Companies</a></i> tend to be lenders of capital. When companies have surplus cash that is not needed for a short period of time, they may seek to make money from their cash surplus by lending it via short term markets called <a href=\"/wiki/Money_market\" title=\"Money market\">money markets</a>. Alternatively, such companies may decide to return the cash surplus to their shareholders (e.g. via a <a href=\"/wiki/Share_repurchase\" title=\"Share repurchase\">share repurchase</a> or <a href=\"/wiki/Dividend\" title=\"Dividend\">dividend</a> payment).\n",
       "</p>\n",
       "<h4><span class=\"mw-headline\" id=\"Banks\">Banks</span><span class=\"mw-editsection\"><span class=\"mw-editsection-bracket\">[</span><a href=\"/w/index.php?title=Financial_market&amp;action=edit&amp;section=6\" title=\"Edit section: Banks\">edit</a><span class=\"mw-editsection-bracket\">]</span></span></h4>\n",
       "<p><a class=\"mw-redirect\" href=\"/wiki/Bankers\" title=\"Bankers\">Banks</a> can be lenders themselves as they are able to <a href=\"/wiki/Money_creation\" title=\"Money creation\">create new debt money</a> in the form of deposits.\n",
       "</p>\n",
       "<h3><span class=\"mw-headline\" id=\"Borrowers\">Borrowers</span><span class=\"mw-editsection\"><span class=\"mw-editsection-bracket\">[</span><a href=\"/w/index.php?title=Financial_market&amp;action=edit&amp;section=7\" title=\"Edit section: Borrowers\">edit</a><span class=\"mw-editsection-bracket\">]</span></span></h3>\n",
       "<ul><li><i>Individuals</i> borrow money via bankers' <a href=\"/wiki/Loan\" title=\"Loan\">loans</a> for                         short term needs or longer term mortgages to help finance a house purchase.</li>\n",
       "<li><i>Companies</i> borrow money to aid short term or long term <a href=\"/wiki/Cash_flow\" title=\"Cash flow\">cash flows</a>. They also borrow to fund modernization or future business expansion. It is common for companies to use mixed packages of different types of funding for different purposes – especially where large complex projects such as company management buyouts are concerned.<sup class=\"reference\" id=\"cite_ref-2\"><a href=\"#cite_note-2\">[2]</a></sup></li>\n",
       "<li><i><a href=\"/wiki/Government\" title=\"Government\">Governments</a></i> often find their spending requirements exceed their <a href=\"/wiki/Tax_revenue\" title=\"Tax revenue\">tax revenues</a>. To make up this difference, they need to borrow. Governments also borrow on behalf of nationalized industries, municipalities, local authorities and other public sector bodies. In the UK, the total borrowing requirement is often referred to as the <a class=\"mw-redirect\" href=\"/wiki/Public_sector_net_cash_requirement\" title=\"Public sector net cash requirement\">Public sector net cash requirement</a> (PSNCR).</li></ul>\n",
       "<p>Governments borrow by issuing <a href=\"/wiki/Government_bond\" title=\"Government bond\">bonds</a>. In the UK, the government also borrows from individuals by offering bank accounts and <a href=\"/wiki/Premium_Bond\" title=\"Premium Bond\">Premium Bonds</a>. Government debt seems to be permanent. Indeed, the debt seemingly expands rather than being paid off. One strategy used by governments to reduce the <i><a href=\"/wiki/Value_(economics)\" title=\"Value (economics)\">value</a></i> of the debt is to influence <i><a href=\"/wiki/Inflation\" title=\"Inflation\">inflation</a></i>.\n",
       "</p><p><i><a href=\"/wiki/Municipality\" title=\"Municipality\">Municipalities</a> and <a href=\"/wiki/Local_government\" title=\"Local government\">local authorities</a></i> may borrow in their own name as well as receiving funding from national governments. In the UK, this would cover an authority like Hampshire County Council.\n",
       "</p><p><i><a class=\"mw-redirect\" href=\"/wiki/Government-owned_corporation\" title=\"Government-owned corporation\">Public Corporations</a></i> typically include <a href=\"/wiki/Nationalization\" title=\"Nationalization\">nationalized</a> industries. These may include the postal services, railway companies and utility companies.\n",
       "</p><p>Many borrowers have difficulty raising money locally. They need to borrow internationally with the aid of <a href=\"/wiki/Foreign_exchange_market\" title=\"Foreign exchange market\">Foreign exchange markets</a>.\n",
       "</p><p>Borrowers having similar needs can form into a group of borrowers. They can also take an organizational form like Mutual Funds. They can provide mortgage on weight basis. The main advantage is that this lowers the cost of their borrowings.\n",
       "</p>\n",
       "<h2><span class=\"mw-headline\" id=\"Derivative_products\">Derivative products</span><span class=\"mw-editsection\"><span class=\"mw-editsection-bracket\">[</span><a href=\"/w/index.php?title=Financial_market&amp;action=edit&amp;section=8\" title=\"Edit section: Derivative products\">edit</a><span class=\"mw-editsection-bracket\">]</span></span></h2>\n",
       "<p>During the 1980s and 1990s, a major growth sector in financial markets was the trade in so called <b><a href=\"/wiki/Derivative_(finance)\" title=\"Derivative (finance)\">derivatives</a></b>.\n",
       "</p><p>In the financial markets, stock prices, share prices, bond prices, currency rates, interest rates and dividends go up and down, creating <i><a href=\"/wiki/Risk#Risk_in_finance\" title=\"Risk\">risk</a></i>. Derivative products are financial products which are used to <i>control</i> risk or paradoxically <i>exploit</i> risk.<sup class=\"reference\" id=\"cite_ref-3\"><a href=\"#cite_note-3\">[3]</a></sup> It is also called financial economics.\n",
       "</p><p>Derivative products or instruments help the issuers to gain an unusual profit from issuing the instruments. For using the help of these products a contract has to be made. Derivative contracts are mainly 4 types:<sup class=\"reference\" id=\"cite_ref-Shaik2014_4-0\"><a href=\"#cite_note-Shaik2014-4\">[4]</a></sup>\n",
       "</p>\n",
       "<ol><li>Future</li>\n",
       "<li>Forward</li>\n",
       "<li>Option</li>\n",
       "<li>Swap</li></ol>\n",
       "<p>Seemingly, the most obvious buyers and sellers of <a href=\"/wiki/Currency\" title=\"Currency\">currency</a> are importers and exporters of goods. While this may have been true in the distant past,<sup class=\"noprint Inline-Template\" style=\"white-space:nowrap;\">[<i><a href=\"/wiki/Wikipedia:Manual_of_Style/Dates_and_numbers#Chronological_items\" title=\"Wikipedia:Manual of Style/Dates and numbers\"><span title=\"The time period mentioned near this tag is ambiguous. (February 2011)\">when?</span></a></i>]</sup> when international trade created the demand for currency markets, importers and exporters now represent only 1/32 of foreign exchange dealing, according to the <a href=\"/wiki/Bank_for_International_Settlements\" title=\"Bank for International Settlements\">Bank for International Settlements</a>.<sup class=\"reference\" id=\"cite_ref-5\"><a href=\"#cite_note-5\">[5]</a></sup>\n",
       "</p><p>The picture of foreign currency transactions today shows:\n",
       "</p>\n",
       "<ul><li>Banks/Institutions</li>\n",
       "<li>Speculators</li>\n",
       "<li>Government spending (for example, military bases abroad)</li>\n",
       "<li>Importers/Exporters</li>\n",
       "<li>Tourists</li></ul>\n",
       "<h2><span class=\"mw-headline\" id=\"Analysis_of_financial_markets\">Analysis of financial markets</span><span class=\"mw-editsection\"><span class=\"mw-editsection-bracket\">[</span><a href=\"/w/index.php?title=Financial_market&amp;action=edit&amp;section=9\" title=\"Edit section: Analysis of financial markets\">edit</a><span class=\"mw-editsection-bracket\">]</span></span></h2>\n",
       "<dl><dd><i>See <a class=\"mw-redirect\" href=\"/wiki/Statistical_analysis_of_financial_markets\" title=\"Statistical analysis of financial markets\">Statistical analysis of financial markets</a></i>, <i><a href=\"/wiki/Statistical_finance\" title=\"Statistical finance\">statistical finance</a></i></dd></dl>\n",
       "<p>Much effort has gone into the study of financial markets and how prices vary with time. <a href=\"/wiki/Charles_Dow\" title=\"Charles Dow\">Charles Dow</a>, one of the founders of <a href=\"/wiki/Dow_Jones_%26_Company\" title=\"Dow Jones &amp; Company\">Dow Jones &amp; Company</a> and <a href=\"/wiki/The_Wall_Street_Journal\" title=\"The Wall Street Journal\">The Wall Street Journal</a>, enunciated a set of ideas on the subject which are now called <a href=\"/wiki/Dow_theory\" title=\"Dow theory\">Dow theory</a>. This is the basis of the so-called <a href=\"/wiki/Technical_analysis\" title=\"Technical analysis\">technical analysis</a> method of attempting to predict future changes. One of the tenets of \"technical analysis\" is that <a href=\"/wiki/Market_trend\" title=\"Market trend\">market trends</a> give an indication of the future, at least in the short term. The claims of the technical analysts are disputed by many academics, who claim that the evidence points rather to the <a href=\"/wiki/Random_walk_hypothesis\" title=\"Random walk hypothesis\">random walk hypothesis</a>, which states that the next change is not correlated to the last change. The role of human psychology in price variations also plays a significant factor. Large amounts of volatility often indicate the presence of strong emotional factors playing into the price. Fear can cause excessive drops in price and greed can create bubbles. In recent years the rise of algorithmic and high-frequency program trading has seen the adoption of momentum, ultra-short term moving average and other similar strategies which are based on technical as opposed to fundamental or theoretical concepts of market behaviour.\n",
       "</p><p>The scale of changes in price over some unit of time is called the <a href=\"/wiki/Volatility_(finance)\" title=\"Volatility (finance)\">volatility</a>.\n",
       "It was discovered by <a href=\"/wiki/Benoit_Mandelbrot\" title=\"Benoit Mandelbrot\">Benoit Mandelbrot</a> that changes in prices do not follow a <a href=\"/wiki/Normal_distribution\" title=\"Normal distribution\">normal distribution</a>, but are rather modeled better by <a class=\"mw-redirect\" href=\"/wiki/Levy_function\" title=\"Levy function\">Lévy stable distributions</a>. The scale of change, or volatility, depends on the length of the time unit to a <a href=\"/wiki/Power_law\" title=\"Power law\">power</a> a bit more than 1/2. Large changes up or down are more likely than what one would calculate using a normal distribution with an estimated <a href=\"/wiki/Standard_deviation\" title=\"Standard deviation\">standard deviation</a>.\n",
       "</p>\n",
       "<h2><span class=\"mw-headline\" id=\"Financial_market_slang\">Financial market slang</span><span class=\"mw-editsection\"><span class=\"mw-editsection-bracket\">[</span><a href=\"/w/index.php?title=Financial_market&amp;action=edit&amp;section=10\" title=\"Edit section: Financial market slang\">edit</a><span class=\"mw-editsection-bracket\">]</span></span></h2>\n",
       "<ul><li><b><a href=\"/wiki/Shareholder_rights_plan\" title=\"Shareholder rights plan\">Poison pill</a></b>, when a company issues more shares to prevent being bought out by another company, thereby increasing the number of outstanding shares to be bought by the hostile company making the bid to establish majority.</li>\n",
       "<li><b>Bips</b>, meaning \"bps\" or <a href=\"/wiki/Basis_point\" title=\"Basis point\">basis points</a>. A basis point is a financial unit of measurement used to describe the magnitude of percent change in a variable. One basis point is the equivalent of one hundredth of a percent. For example, if a stock price were to rise 100bit/s, it means it would increase 1%.</li>\n",
       "<li><b>Quant</b>, a <a class=\"mw-redirect\" href=\"/wiki/Quantitative_analyst\" title=\"Quantitative analyst\">quantitative analyst</a> with advanced training in <a href=\"/wiki/Mathematics\" title=\"Mathematics\">mathematics</a> and <a href=\"/wiki/Statistics\" title=\"Statistics\">statistical</a> methods.</li>\n",
       "<li><b><a class=\"mw-redirect\" href=\"/wiki/Rocket_scientist\" title=\"Rocket scientist\">Rocket scientist</a></b>, a financial consultant at the <a href=\"/wiki/Zenith\" title=\"Zenith\">zenith</a> of mathematical and computer programming skill. They are able to invent <a href=\"/wiki/Derivative_(finance)\" title=\"Derivative (finance)\">derivatives</a> of high complexity and construct sophisticated pricing models. They generally handle the most advanced computing techniques adopted by the financial markets since the early 1980s. Typically, they are physicists and engineers by training.</li>\n",
       "<li><b><a href=\"/wiki/Initial_public_offering\" title=\"Initial public offering\">IPO</a></b>, stands for initial public offering, which is the process a new private company goes through to \"go public\" or become a publicly traded company on some index.</li>\n",
       "<li><b><a href=\"/wiki/White_knight_(business)\" title=\"White knight (business)\">White Knight</a></b>, a friendly party in a <a href=\"/wiki/Takeover\" title=\"Takeover\">takeover</a> bid. Used to describe a party that buys the shares of one organization to help prevent against a hostile takeover of that organization by another party.</li>\n",
       "<li><a href=\"/wiki/Round-tripping_(finance)\" title=\"Round-tripping (finance)\">Round-tripping</a></li>\n",
       "<li><b><a href=\"/wiki/Structuring\" title=\"Structuring\">Smurfing</a></b>, a deliberate structuring of payments or transactions to conceal it from <a href=\"/wiki/Financial_regulation\" title=\"Financial regulation\">regulators</a> or other parties, a type of <a href=\"/wiki/Money_laundering\" title=\"Money laundering\">money laundering</a> that is often illegal.</li>\n",
       "<li><b><a href=\"/wiki/Bid%E2%80%93ask_spread\" title=\"Bid–ask spread\">Bid–ask spread</a></b>, the difference between the highest bid and the lowest offer.</li>\n",
       "<li><b><a href=\"/wiki/Percentage_in_point\" title=\"Percentage in point\">Pip</a></b>, smallest price move that a given exchange rate makes based on market convention.<sup class=\"reference\" id=\"cite_ref-6\"><a href=\"#cite_note-6\">[6]</a></sup></li>\n",
       "<li><b>Pegging,</b> when a country wants to obtain price stability, it can use pegging to fix their exchange rate relative to another currency.<sup class=\"reference\" id=\"cite_ref-7\"><a href=\"#cite_note-7\">[7]</a></sup></li></ul>\n",
       "<h2><span class=\"mw-headline\" id=\"Functions_of_financial_markets\">Functions of financial markets</span><span class=\"mw-editsection\"><span class=\"mw-editsection-bracket\">[</span><a href=\"/w/index.php?title=Financial_market&amp;action=edit&amp;section=11\" title=\"Edit section: Functions of financial markets\">edit</a><span class=\"mw-editsection-bracket\">]</span></span></h2>\n",
       "<ul><li><b>Intermediary functions</b>: The intermediary functions of financial markets include the following:\n",
       "<ul><li><b>Transfer of resources</b>: Financial markets facilitate the transfer of real economic resources from lenders to ultimate borrowers.</li>\n",
       "<li><b>Enhancing income</b>: Financial markets allow lenders to earn interest or dividend on their surplus invisible funds, thus contributing to the enhancement of the individual and the national income.</li>\n",
       "<li><b>Productive usage</b>: Financial markets allow for the productive use of the funds borrowed. The enhancing the income and the gross national production.</li>\n",
       "<li><b>Capital formation</b>: Financial markets provide a channel through which new savings flow to aid capital formation of a country.</li>\n",
       "<li><b>Price determination</b>: Financial markets allow for the determination of price of the traded financial assets through the interaction of buyers and sellers. They provide a sign for the allocation of funds in the economy based on the demand and to the supply through the mechanism called <a href=\"/wiki/Price_discovery\" title=\"Price discovery\">price discovery</a> process.</li>\n",
       "<li><b>Sale mechanism</b>: Financial markets provide a mechanism for selling of a financial asset by an investor so as to offer the benefit of marketability and liquidity of such assets.</li>\n",
       "<li><b>Information</b>: The activities of the participants in the financial market result in the generation and the consequent dissemination of information to the various segments of the market. So as to reduce the cost of transaction of financial assets.</li></ul></li>\n",
       "<li><b>Financial Functions</b>\n",
       "<ul><li>Providing the borrower with funds so as to enable them to carry out their investment plans.</li>\n",
       "<li>Providing the lenders with earning assets so as to enable them to earn wealth by deploying the assets in production debentures.</li>\n",
       "<li>Providing liquidity in the market so as to facilitate trading of funds.</li>\n",
       "<li>Providing liquidity to commercial bank</li>\n",
       "<li>Facilitating credit creation</li>\n",
       "<li>Promoting savings</li>\n",
       "<li>Promoting investment</li>\n",
       "<li>Facilitating balanced economic growth</li>\n",
       "<li>Improving trading floors</li></ul></li></ul>\n",
       "<h2><span class=\"mw-headline\" id=\"Components_of_financial_market\">Components of financial market</span><span class=\"mw-editsection\"><span class=\"mw-editsection-bracket\">[</span><a href=\"/w/index.php?title=Financial_market&amp;action=edit&amp;section=12\" title=\"Edit section: Components of financial market\">edit</a><span class=\"mw-editsection-bracket\">]</span></span></h2>\n",
       "<h3><span class=\"mw-headline\" id=\"Based_on_market_levels\">Based on market levels</span><span class=\"mw-editsection\"><span class=\"mw-editsection-bracket\">[</span><a href=\"/w/index.php?title=Financial_market&amp;action=edit&amp;section=13\" title=\"Edit section: Based on market levels\">edit</a><span class=\"mw-editsection-bracket\">]</span></span></h3>\n",
       "<ul><li><b>Primary market</b>: A primary market is a market for new issues or new financial claims. Therefore, it is also called new issue market. The primary market deals with those securities which are issued to the public for the first time.</li>\n",
       "<li><b>Secondary market</b>: A market for secondary sale of securities. In other words, securities which have already passed through the new issue market are traded in this market. Generally, such securities are quoted in the stock exchange and it provides a continuous and regular market for buying and selling of securities.</li></ul>\n",
       "<p>Simply put, primary market is the market where the newly started company issued shares to the public for the first time through IPO (initial public offering). Secondary market is the market where the second hand securities are sold (security Commodity Markets).\n",
       "</p>\n",
       "<h3><span class=\"mw-headline\" id=\"Based_on_security_types\">Based on security types</span><span class=\"mw-editsection\"><span class=\"mw-editsection-bracket\">[</span><a href=\"/w/index.php?title=Financial_market&amp;action=edit&amp;section=14\" title=\"Edit section: Based on security types\">edit</a><span class=\"mw-editsection-bracket\">]</span></span></h3>\n",
       "<ul><li><b>Money market</b>: Money market is a market for dealing with the financial assets and securities which have a maturity period of up to one year. In other words, it's a market for purely short-term funds.</li>\n",
       "<li><b>Capital market</b>: A capital market is a market for financial assets which have a long or indefinite maturity. Generally, it deals with long-term securities which have a maturity period of above one year. The capital market may be further divided into (a) industrial securities market (b) Govt. securities market and (c) long-term loans market.\n",
       "<ul><li><b>Equity markets</b>: A market where ownership of securities are issued and subscribed is known as equity market. An example of a secondary equity market for shares is the New York (NYSE) stock exchange.</li>\n",
       "<li><b>Debt market</b>: The market where funds are borrowed and lent is known as debt market. Arrangements are made in such a way that the borrowers agree to pay the lender the original amount of the loan plus some specified amount of interest.</li></ul></li>\n",
       "<li><b>Derivative markets</b>: A market where financial instruments are derived and traded based on an underlying asset such as commodities or stocks.</li>\n",
       "<li><b>Financial service market</b>: A market that comprises participants such as commercial banks that provide various financial services like ATM. Credit cards. Credit rating, stock broking etc. is known as financial service market. Individuals and firms use financial services markets, to purchase services that enhance the workings of debt and equity markets.</li>\n",
       "<li><b>Depository markets</b>: A depository market consists of depository institutions (such as banks) that accept deposits from individuals and firms and uses these funds to participate in the debt market, by giving loans or purchasing other debt instruments such as treasury bills.</li>\n",
       "<li><b>Non-depository market</b>: Non-depository market carry out various functions in financial markets ranging from financial intermediary to selling, insurance etc. The various constituencies in non-depositary markets are mutual funds, insurance companies, pension funds, brokerage firms etc.</li></ul>\n",
       "<h2><span class=\"mw-headline\" id=\"See_also\">See also</span><span class=\"mw-editsection\"><span class=\"mw-editsection-bracket\">[</span><a href=\"/w/index.php?title=Financial_market&amp;action=edit&amp;section=15\" title=\"Edit section: See also\">edit</a><span class=\"mw-editsection-bracket\">]</span></span></h2>\n",
       "<div class=\"div-col columns column-width\" style=\"-moz-column-width: 30em; -webkit-column-width: 30em; column-width: 30em;\">\n",
       "<ul><li><a href=\"/wiki/Finance_capitalism\" title=\"Finance capitalism\">Finance capitalism</a></li>\n",
       "<li><a href=\"/wiki/Financial_services\" title=\"Financial services\">Financial services</a></li>\n",
       "<li><a href=\"/wiki/Financial_instrument\" title=\"Financial instrument\">Financial instrument</a></li>\n",
       "<li><a href=\"/wiki/Financial_market_efficiency\" title=\"Financial market efficiency\">Financial market efficiency</a></li>\n",
       "<li><a href=\"/wiki/Brownian_model_of_financial_markets\" title=\"Brownian model of financial markets\">Brownian model of financial markets</a></li>\n",
       "<li><a class=\"mw-redirect\" href=\"/wiki/Investment_theory\" title=\"Investment theory\">Investment theory</a></li>\n",
       "<li><a href=\"/wiki/Quantitative_behavioral_finance\" title=\"Quantitative behavioral finance\">Quantitative behavioral finance</a></li>\n",
       "<li><a href=\"/wiki/Mathematical_finance\" title=\"Mathematical finance\">Mathematical finance</a></li>\n",
       "<li><a class=\"mw-redirect\" href=\"/wiki/Stock_investor\" title=\"Stock investor\">Stock investor</a></li>\n",
       "<li><a href=\"/wiki/Financial_market_theory_of_development\" title=\"Financial market theory of development\">Financial market theory of development</a></li>\n",
       "<li><a class=\"mw-redirect\" href=\"/wiki/Liquidity\" title=\"Liquidity\">Liquidity</a></li></ul>\n",
       "</div>\n",
       "<ul><li><a href=\"/wiki/Cooperative_banking\" title=\"Cooperative banking\">Cooperative banking</a></li></ul>\n",
       "<h2><span class=\"mw-headline\" id=\"Notes\">Notes</span><span class=\"mw-editsection\"><span class=\"mw-editsection-bracket\">[</span><a href=\"/w/index.php?title=Financial_market&amp;action=edit&amp;section=16\" title=\"Edit section: Notes\">edit</a><span class=\"mw-editsection-bracket\">]</span></span></h2>\n",
       "<div class=\"reflist columns references-column-width\" style=\"-moz-column-width: 30em; -webkit-column-width: 30em; column-width: 30em; list-style-type: decimal;\">\n",
       "<ol class=\"references\">\n",
       "<li id=\"cite_note-1\"><span class=\"mw-cite-backlink\"><b><a href=\"#cite_ref-1\">^</a></b></span> <span class=\"reference-text\"><cite class=\"citation web\"><a class=\"external text\" href=\"http://chicagofed.org/webpages/publications/understanding_derivatives/index.cfm\" rel=\"nofollow\">\"Understanding Derivatives: Markets and Infrastructure - Federal Reserve Bank of Chicago\"</a>. <i>chicagofed.org</i><span class=\"reference-accessdate\">. Retrieved <span class=\"nowrap\">2017-12-12</span></span>.</cite><span class=\"Z3988\" title=\"ctx_ver=Z39.88-2004&amp;rft_val_fmt=info%3Aofi%2Ffmt%3Akev%3Amtx%3Ajournal&amp;rft.genre=unknown&amp;rft.jtitle=chicagofed.org&amp;rft.atitle=Understanding+Derivatives%3A+Markets+and+Infrastructure+-+Federal+Reserve+Bank+of+Chicago&amp;rft_id=http%3A%2F%2Fchicagofed.org%2Fwebpages%2Fpublications%2Funderstanding_derivatives%2Findex.cfm&amp;rfr_id=info%3Asid%2Fen.wikipedia.org%3AFinancial+market\"></span><style data-mw-deduplicate=\"TemplateStyles:r951705291\">.mw-parser-output cite.citation{font-style:inherit}.mw-parser-output .citation q{quotes:\"\\\"\"\"\\\"\"\"'\"\"'\"}.mw-parser-output .id-lock-free a,.mw-parser-output .citation .cs1-lock-free a{background-image:url(\"//upload.wikimedia.org/wikipedia/commons/thumb/6/65/Lock-green.svg/9px-Lock-green.svg.png\");background-image:linear-gradient(transparent,transparent),url(\"//upload.wikimedia.org/wikipedia/commons/6/65/Lock-green.svg\");background-repeat:no-repeat;background-size:9px;background-position:right .1em center}.mw-parser-output .id-lock-limited a,.mw-parser-output .id-lock-registration a,.mw-parser-output .citation .cs1-lock-limited a,.mw-parser-output .citation .cs1-lock-registration a{background-image:url(\"//upload.wikimedia.org/wikipedia/commons/thumb/d/d6/Lock-gray-alt-2.svg/9px-Lock-gray-alt-2.svg.png\");background-image:linear-gradient(transparent,transparent),url(\"//upload.wikimedia.org/wikipedia/commons/d/d6/Lock-gray-alt-2.svg\");background-repeat:no-repeat;background-size:9px;background-position:right .1em center}.mw-parser-output .id-lock-subscription a,.mw-parser-output .citation .cs1-lock-subscription a{background-image:url(\"//upload.wikimedia.org/wikipedia/commons/thumb/a/aa/Lock-red-alt-2.svg/9px-Lock-red-alt-2.svg.png\");background-image:linear-gradient(transparent,transparent),url(\"//upload.wikimedia.org/wikipedia/commons/a/aa/Lock-red-alt-2.svg\");background-repeat:no-repeat;background-size:9px;background-position:right .1em center}.mw-parser-output .cs1-subscription,.mw-parser-output .cs1-registration{color:#555}.mw-parser-output .cs1-subscription span,.mw-parser-output .cs1-registration span{border-bottom:1px dotted;cursor:help}.mw-parser-output .cs1-ws-icon a{background-image:url(\"//upload.wikimedia.org/wikipedia/commons/thumb/4/4c/Wikisource-logo.svg/12px-Wikisource-logo.svg.png\");background-image:linear-gradient(transparent,transparent),url(\"//upload.wikimedia.org/wikipedia/commons/4/4c/Wikisource-logo.svg\");background-repeat:no-repeat;background-size:12px;background-position:right .1em center}.mw-parser-output code.cs1-code{color:inherit;background:inherit;border:inherit;padding:inherit}.mw-parser-output .cs1-hidden-error{display:none;font-size:100%}.mw-parser-output .cs1-visible-error{font-size:100%}.mw-parser-output .cs1-maint{display:none;color:#33aa33;margin-left:0.3em}.mw-parser-output .cs1-subscription,.mw-parser-output .cs1-registration,.mw-parser-output .cs1-format{font-size:95%}.mw-parser-output .cs1-kern-left,.mw-parser-output .cs1-kern-wl-left{padding-left:0.2em}.mw-parser-output .cs1-kern-right,.mw-parser-output .cs1-kern-wl-right{padding-right:0.2em}.mw-parser-output .citation .mw-selflink{font-weight:inherit}</style></span>\n",
       "</li>\n",
       "<li id=\"cite_note-2\"><span class=\"mw-cite-backlink\"><b><a href=\"#cite_ref-2\">^</a></b></span> <span class=\"reference-text\"><i>The Business Finance Market: A Survey</i> ISR/Google Books, 2013.</span>\n",
       "</li>\n",
       "<li id=\"cite_note-3\"><span class=\"mw-cite-backlink\"><b><a href=\"#cite_ref-3\">^</a></b></span> <span class=\"reference-text\">Robert E. Wright and Vincenzo Quadrini. Money and Banking: “Chapter 2, Section 4: Financial Markets.” pp. 3 <a class=\"external autonumber\" href=\"http://www.saylor.org/site/wp-content/uploads/2012/06/ECON302-1.1-1st.pdf\" rel=\"nofollow\">[1]</a> Accessed June 20, 2012</span>\n",
       "</li>\n",
       "<li id=\"cite_note-Shaik2014-4\"><span class=\"mw-cite-backlink\"><b><a href=\"#cite_ref-Shaik2014_4-0\">^</a></b></span> <span class=\"reference-text\"><cite class=\"citation book\" id=\"CITEREFKhader_Shaik2014\">Khader Shaik (23 September 2014). <a class=\"external text\" href=\"https://books.google.com/books?id=dtedBAAAQBAJ&amp;pg=PA74\" rel=\"nofollow\"><i>Managing Derivatives Contracts: A Guide to Derivatives Market Structure, Contract Life Cycle, Operations, and Systems</i></a>. Apress. p. 23. <a class=\"mw-redirect\" href=\"/wiki/ISBN_(identifier)\" title=\"ISBN (identifier)\">ISBN</a> <a href=\"/wiki/Special:BookSources/978-1-4302-6275-6\" title=\"Special:BookSources/978-1-4302-6275-6\"><bdi>978-1-4302-6275-6</bdi></a>.</cite><span class=\"Z3988\" title=\"ctx_ver=Z39.88-2004&amp;rft_val_fmt=info%3Aofi%2Ffmt%3Akev%3Amtx%3Abook&amp;rft.genre=book&amp;rft.btitle=Managing+Derivatives+Contracts%3A+A+Guide+to+Derivatives+Market+Structure%2C+Contract+Life+Cycle%2C+Operations%2C+and+Systems&amp;rft.pages=23&amp;rft.pub=Apress&amp;rft.date=2014-09-23&amp;rft.isbn=978-1-4302-6275-6&amp;rft.au=Khader+Shaik&amp;rft_id=https%3A%2F%2Fbooks.google.com%2Fbooks%3Fid%3DdtedBAAAQBAJ%26pg%3DPA74&amp;rfr_id=info%3Asid%2Fen.wikipedia.org%3AFinancial+market\"></span><link href=\"mw-data:TemplateStyles:r951705291\" rel=\"mw-deduplicated-inline-style\"/></span>\n",
       "</li>\n",
       "<li id=\"cite_note-5\"><span class=\"mw-cite-backlink\"><b><a href=\"#cite_ref-5\">^</a></b></span> <span class=\"reference-text\">Steven Valdez, <i>An Introduction To Global Financial Markets</i></span>\n",
       "</li>\n",
       "<li id=\"cite_note-6\"><span class=\"mw-cite-backlink\"><b><a href=\"#cite_ref-6\">^</a></b></span> <span class=\"reference-text\"><cite class=\"citation news\" id=\"CITEREFMomoh2003\">Momoh, Osi (2003-11-25). <a class=\"external text\" href=\"http://www.investopedia.com/terms/p/pip.asp\" rel=\"nofollow\">\"Pip\"</a>. <i>Investopedia</i><span class=\"reference-accessdate\">. Retrieved <span class=\"nowrap\">2017-12-12</span></span>.</cite><span class=\"Z3988\" title=\"ctx_ver=Z39.88-2004&amp;rft_val_fmt=info%3Aofi%2Ffmt%3Akev%3Amtx%3Ajournal&amp;rft.genre=article&amp;rft.jtitle=Investopedia&amp;rft.atitle=Pip&amp;rft.date=2003-11-25&amp;rft.aulast=Momoh&amp;rft.aufirst=Osi&amp;rft_id=http%3A%2F%2Fwww.investopedia.com%2Fterms%2Fp%2Fpip.asp&amp;rfr_id=info%3Asid%2Fen.wikipedia.org%3AFinancial+market\"></span><link href=\"mw-data:TemplateStyles:r951705291\" rel=\"mw-deduplicated-inline-style\"/></span>\n",
       "</li>\n",
       "<li id=\"cite_note-7\"><span class=\"mw-cite-backlink\"><b><a href=\"#cite_ref-7\">^</a></b></span> <span class=\"reference-text\"><cite class=\"citation book\" id=\"CITEREFLaw2016\">Law, Johnathan (2016). \"Pegging\". <i>A dictionary of business and management</i>. Oxford University Press. <a class=\"mw-redirect\" href=\"/wiki/ISBN_(identifier)\" title=\"ISBN (identifier)\">ISBN</a> <a href=\"/wiki/Special:BookSources/9780199684984\" title=\"Special:BookSources/9780199684984\"><bdi>9780199684984</bdi></a>. <a class=\"mw-redirect\" href=\"/wiki/OCLC_(identifier)\" title=\"OCLC (identifier)\">OCLC</a> <a class=\"external text\" href=\"//www.worldcat.org/oclc/950964886\" rel=\"nofollow\">950964886</a>.</cite><span class=\"Z3988\" title=\"ctx_ver=Z39.88-2004&amp;rft_val_fmt=info%3Aofi%2Ffmt%3Akev%3Amtx%3Abook&amp;rft.genre=bookitem&amp;rft.atitle=Pegging&amp;rft.btitle=A+dictionary+of+business+and+management&amp;rft.pub=Oxford+University+Press&amp;rft.date=2016&amp;rft_id=info%3Aoclcnum%2F950964886&amp;rft.isbn=9780199684984&amp;rft.aulast=Law&amp;rft.aufirst=Johnathan&amp;rfr_id=info%3Asid%2Fen.wikipedia.org%3AFinancial+market\"></span><link href=\"mw-data:TemplateStyles:r951705291\" rel=\"mw-deduplicated-inline-style\"/></span>\n",
       "</li>\n",
       "</ol></div>\n",
       "<p>..\n",
       "</p>\n",
       "<h2><span class=\"mw-headline\" id=\"References\">References</span><span class=\"mw-editsection\"><span class=\"mw-editsection-bracket\">[</span><a href=\"/w/index.php?title=Financial_market&amp;action=edit&amp;section=17\" title=\"Edit section: References\">edit</a><span class=\"mw-editsection-bracket\">]</span></span></h2>\n",
       "<ul><li>T.E. Copeland, J.F. Weston (1988): Financial Theory and Corporate Policy, Addison-Wesley, West Sussex (<link href=\"mw-data:TemplateStyles:r951705291\" rel=\"mw-deduplicated-inline-style\"/><a class=\"mw-redirect\" href=\"/wiki/ISBN_(identifier)\" title=\"ISBN (identifier)\">ISBN</a> <a href=\"/wiki/Special:BookSources/978-0321223531\" title=\"Special:BookSources/978-0321223531\">978-0321223531</a>)</li>\n",
       "<li>E.J. Elton, M.J. Gruber, S.J. Brown, W.N. Goetzmann (2003): Modern Portfolio Theory and Investment Analysis, John Wiley &amp; Sons, New York (<link href=\"mw-data:TemplateStyles:r951705291\" rel=\"mw-deduplicated-inline-style\"/><a class=\"mw-redirect\" href=\"/wiki/ISBN_(identifier)\" title=\"ISBN (identifier)\">ISBN</a> <a href=\"/wiki/Special:BookSources/978-0470050828\" title=\"Special:BookSources/978-0470050828\">978-0470050828</a>)</li>\n",
       "<li>E.F. Fama (1976): Foundations of Finance, Basic Books Inc., New York (<link href=\"mw-data:TemplateStyles:r951705291\" rel=\"mw-deduplicated-inline-style\"/><a class=\"mw-redirect\" href=\"/wiki/ISBN_(identifier)\" title=\"ISBN (identifier)\">ISBN</a> <a href=\"/wiki/Special:BookSources/978-0465024995\" title=\"Special:BookSources/978-0465024995\">978-0465024995</a>)</li>\n",
       "<li>Marc M. Groz (2009): Forbes Guide to the Markets, John Wiley &amp; Sons, Inc., New York (<link href=\"mw-data:TemplateStyles:r951705291\" rel=\"mw-deduplicated-inline-style\"/><a class=\"mw-redirect\" href=\"/wiki/ISBN_(identifier)\" title=\"ISBN (identifier)\">ISBN</a> <a href=\"/wiki/Special:BookSources/978-0470463383\" title=\"Special:BookSources/978-0470463383\">978-0470463383</a>)</li>\n",
       "<li>R.C. Merton (1992): Continuous-Time Finance, Blackwell Publishers Inc. (<link href=\"mw-data:TemplateStyles:r951705291\" rel=\"mw-deduplicated-inline-style\"/><a class=\"mw-redirect\" href=\"/wiki/ISBN_(identifier)\" title=\"ISBN (identifier)\">ISBN</a> <a href=\"/wiki/Special:BookSources/978-0631185086\" title=\"Special:BookSources/978-0631185086\">978-0631185086</a>)</li>\n",
       "<li>Keith Pilbeam (2010) Finance and Financial Markets, Palgrave (<link href=\"mw-data:TemplateStyles:r951705291\" rel=\"mw-deduplicated-inline-style\"/><a class=\"mw-redirect\" href=\"/wiki/ISBN_(identifier)\" title=\"ISBN (identifier)\">ISBN</a> <a href=\"/wiki/Special:BookSources/978-0230233218\" title=\"Special:BookSources/978-0230233218\">978-0230233218</a>)</li>\n",
       "<li>Steven Valdez, An Introduction To Global Financial Markets, Macmillan Press Ltd. (<link href=\"mw-data:TemplateStyles:r951705291\" rel=\"mw-deduplicated-inline-style\"/><a class=\"mw-redirect\" href=\"/wiki/ISBN_(identifier)\" title=\"ISBN (identifier)\">ISBN</a> <a href=\"/wiki/Special:BookSources/0-333-76447-1\" title=\"Special:BookSources/0-333-76447-1\">0-333-76447-1</a>)</li>\n",
       "<li><i>The Business Finance Market: A Survey.</i> ISR/Google Books, 2013. <a class=\"external autonumber\" href=\"https://books.google.co.uk/books?id=hbaeyr7Ofz8C&amp;printsec=frontcover&amp;dq=9780906321546+++Title:%09The+Business+Finance+Market:+A+Survey&amp;hl=en&amp;sa=X&amp;ei=TFVmUrDxHufJ0QX7koD4AQ#v=onepage&amp;q&amp;f=false\" rel=\"nofollow\">[2]</a></li></ul>\n",
       "<h2><span class=\"mw-headline\" id=\"External_links\">External links</span><span class=\"mw-editsection\"><span class=\"mw-editsection-bracket\">[</span><a href=\"/w/index.php?title=Financial_market&amp;action=edit&amp;section=18\" title=\"Edit section: External links\">edit</a><span class=\"mw-editsection-bracket\">]</span></span></h2>\n",
       "<table class=\"mbox-small plainlinks sistersitebox\" role=\"presentation\" style=\"background-color:#f9f9f9;border:1px solid #aaa;color:#000\">\n",
       "<tbody><tr>\n",
       "<td class=\"mbox-image\"><img alt=\"\" class=\"noviewer\" data-file-height=\"1376\" data-file-width=\"1024\" decoding=\"async\" height=\"40\" src=\"//upload.wikimedia.org/wikipedia/en/thumb/4/4a/Commons-logo.svg/30px-Commons-logo.svg.png\" srcset=\"//upload.wikimedia.org/wikipedia/en/thumb/4/4a/Commons-logo.svg/45px-Commons-logo.svg.png 1.5x, //upload.wikimedia.org/wikipedia/en/thumb/4/4a/Commons-logo.svg/59px-Commons-logo.svg.png 2x\" width=\"30\"/></td>\n",
       "<td class=\"mbox-text plainlist\">Wikimedia Commons has media related to <i><b><a class=\"extiw\" href=\"https://commons.wikimedia.org/wiki/Category:Financial_markets\" title=\"commons:Category:Financial markets\"><span style=\"\">Financial markets</span></a></b></i>.</td></tr>\n",
       "</tbody></table>\n",
       "<ul><li><a class=\"external text\" href=\"http://oyc.yale.edu/economics/financial-markets/\" rel=\"nofollow\">Financial Markets with Yale Professor Robert Shiller</a></li>\n",
       "<li><a class=\"external text\" href=\"https://web.archive.org/web/20130812135118/http://www.chicagofed.org/webpages/publications/understanding_derivatives/index.cfm\" rel=\"nofollow\">Understanding Derivatives: Markets and Infrastructure</a> Federal Reserve Bank of Chicago, Financial Markets Group</li></ul>\n",
       "<div aria-labelledby=\"Financial_markets\" class=\"navbox\" role=\"navigation\" style=\"padding:3px\"><table class=\"nowraplinks hlist mw-collapsible autocollapse navbox-inner\" style=\"border-spacing:0;background:transparent;color:inherit\"><tbody><tr><th class=\"navbox-title\" colspan=\"2\" scope=\"col\"><div class=\"plainlinks hlist navbar mini\"><ul><li class=\"nv-view\"><a href=\"/wiki/Template:Financial_markets_navigation\" title=\"Template:Financial markets navigation\"><abbr style=\";;background:none transparent;border:none;-moz-box-shadow:none;-webkit-box-shadow:none;box-shadow:none; padding:0;\" title=\"View this template\">v</abbr></a></li><li class=\"nv-talk\"><a href=\"/wiki/Template_talk:Financial_markets_navigation\" title=\"Template talk:Financial markets navigation\"><abbr style=\";;background:none transparent;border:none;-moz-box-shadow:none;-webkit-box-shadow:none;box-shadow:none; padding:0;\" title=\"Discuss this template\">t</abbr></a></li><li class=\"nv-edit\"><a class=\"external text\" href=\"https://en.wikipedia.org/w/index.php?title=Template:Financial_markets_navigation&amp;action=edit\"><abbr style=\";;background:none transparent;border:none;-moz-box-shadow:none;-webkit-box-shadow:none;box-shadow:none; padding:0;\" title=\"Edit this template\">e</abbr></a></li></ul></div><div id=\"Financial_markets\" style=\"font-size:114%;margin:0 4em\"><a class=\"mw-selflink selflink\">Financial markets</a></div></th></tr><tr><th class=\"navbox-group\" scope=\"row\" style=\"width:1%\">Types of <a href=\"/wiki/Capital_market\" title=\"Capital market\">markets</a></th><td class=\"navbox-list navbox-odd\" style=\"text-align:left;border-left-width:2px;border-left-style:solid;width:100%;padding:0px\"><div style=\"padding:0em 0.25em\">\n",
       "<ul><li><a href=\"/wiki/Primary_market\" title=\"Primary market\">Primary market</a></li>\n",
       "<li><a href=\"/wiki/Secondary_market\" title=\"Secondary market\">Secondary market</a></li>\n",
       "<li><a href=\"/wiki/Third_market\" title=\"Third market\">Third market</a></li>\n",
       "<li><a href=\"/wiki/Fourth_market\" title=\"Fourth market\">Fourth market</a></li></ul>\n",
       "</div></td></tr><tr><th class=\"navbox-group\" scope=\"row\" style=\"width:1%\">Types of <a href=\"/wiki/Stock\" title=\"Stock\">stocks</a></th><td class=\"navbox-list navbox-even\" style=\"text-align:left;border-left-width:2px;border-left-style:solid;width:100%;padding:0px\"><div style=\"padding:0em 0.25em\">\n",
       "<ul><li><a href=\"/wiki/Common_stock\" title=\"Common stock\">Common stock</a></li>\n",
       "<li><a href=\"/wiki/Golden_share\" title=\"Golden share\">Golden share</a></li>\n",
       "<li><a href=\"/wiki/Preferred_stock\" title=\"Preferred stock\">Preferred stock</a></li>\n",
       "<li><a href=\"/wiki/Restricted_stock\" title=\"Restricted stock\">Restricted stock</a></li>\n",
       "<li><a href=\"/wiki/Tracking_stock\" title=\"Tracking stock\">Tracking stock</a></li></ul>\n",
       "</div></td></tr><tr><th class=\"navbox-group\" scope=\"row\" style=\"width:1%\"><a href=\"/wiki/Share_capital\" title=\"Share capital\">Share capital</a></th><td class=\"navbox-list navbox-odd\" style=\"text-align:left;border-left-width:2px;border-left-style:solid;width:100%;padding:0px\"><div style=\"padding:0em 0.25em\">\n",
       "<ul><li><a href=\"/wiki/Authorised_capital\" title=\"Authorised capital\">Authorised capital</a></li>\n",
       "<li><a href=\"/wiki/Issued_shares\" title=\"Issued shares\">Issued shares</a></li>\n",
       "<li><a href=\"/wiki/Shares_outstanding\" title=\"Shares outstanding\">Shares outstanding</a></li>\n",
       "<li><a href=\"/wiki/Treasury_stock\" title=\"Treasury stock\">Treasury stock</a></li></ul>\n",
       "</div></td></tr><tr><th class=\"navbox-group\" scope=\"row\" style=\"width:1%\">Participants</th><td class=\"navbox-list navbox-even\" style=\"text-align:left;border-left-width:2px;border-left-style:solid;width:100%;padding:0px\"><div style=\"padding:0em 0.25em\">\n",
       "<ul><li><a href=\"/wiki/Broker-dealer\" title=\"Broker-dealer\">Broker-dealer</a></li>\n",
       "<li><a class=\"mw-redirect\" href=\"/wiki/Day_trader\" title=\"Day trader\">Day trader</a></li>\n",
       "<li><a href=\"/wiki/Floor_broker\" title=\"Floor broker\">Floor broker</a></li>\n",
       "<li><a href=\"/wiki/Floor_trader\" title=\"Floor trader\">Floor trader</a></li>\n",
       "<li><a href=\"/wiki/Investor\" title=\"Investor\">Investor</a></li>\n",
       "<li><a href=\"/wiki/Market_maker\" title=\"Market maker\">Market maker</a></li>\n",
       "<li><a href=\"/wiki/Proprietary_trading\" title=\"Proprietary trading\">Proprietary trader</a></li>\n",
       "<li><a class=\"mw-redirect\" href=\"/wiki/Quantitative_analyst\" title=\"Quantitative analyst\">Quantitative analyst</a></li>\n",
       "<li><a href=\"/wiki/Financial_law\" title=\"Financial law\">Financial law</a></li>\n",
       "<li><a href=\"/wiki/Financial_regulation\" title=\"Financial regulation\">Regulator</a></li>\n",
       "<li><a href=\"/wiki/Stock_trader\" title=\"Stock trader\">Stock trader</a></li></ul>\n",
       "</div></td></tr><tr><th class=\"navbox-group\" scope=\"row\" style=\"width:1%\"><a href=\"/wiki/Stock_exchange\" title=\"Stock exchange\">Exchanges</a></th><td class=\"navbox-list navbox-odd\" style=\"text-align:left;border-left-width:2px;border-left-style:solid;width:100%;padding:0px\"><div style=\"padding:0em 0.25em\">\n",
       "<ul><li><a href=\"/wiki/Electronic_communication_network\" title=\"Electronic communication network\">Electronic communication network</a></li>\n",
       "<li><a href=\"/wiki/List_of_stock_exchanges\" title=\"List of stock exchanges\">List of stock exchanges</a>\n",
       "<ul><li><a href=\"/wiki/List_of_stock_exchange_trading_hours\" title=\"List of stock exchange trading hours\">Trading hours</a></li></ul></li>\n",
       "<li><a href=\"/wiki/Multilateral_trading_facility\" title=\"Multilateral trading facility\">Multilateral trading facility</a></li>\n",
       "<li><a href=\"/wiki/Over-the-counter_(finance)\" title=\"Over-the-counter (finance)\">Over-the-counter</a></li></ul>\n",
       "</div></td></tr><tr><th class=\"navbox-group\" scope=\"row\" style=\"width:1%\"><a href=\"/wiki/Stock_valuation\" title=\"Stock valuation\">Stock valuation</a></th><td class=\"navbox-list navbox-even\" style=\"text-align:left;border-left-width:2px;border-left-style:solid;width:100%;padding:0px\"><div style=\"padding:0em 0.25em\">\n",
       "<ul><li><a href=\"/wiki/Alpha_(finance)\" title=\"Alpha (finance)\">Alpha</a></li>\n",
       "<li><a href=\"/wiki/Arbitrage_pricing_theory\" title=\"Arbitrage pricing theory\">Arbitrage pricing theory</a></li>\n",
       "<li><a href=\"/wiki/Beta_(finance)\" title=\"Beta (finance)\">Beta</a></li>\n",
       "<li><a href=\"/wiki/Bid%E2%80%93ask_spread\" title=\"Bid–ask spread\">Bid–ask spread</a></li>\n",
       "<li><a href=\"/wiki/Book_value\" title=\"Book value\">Book value</a></li>\n",
       "<li><a href=\"/wiki/Capital_asset_pricing_model\" title=\"Capital asset pricing model\">Capital asset pricing model</a></li>\n",
       "<li><a href=\"/wiki/Capital_market_line\" title=\"Capital market line\">Capital market line</a></li>\n",
       "<li><a href=\"/wiki/Dividend_discount_model\" title=\"Dividend discount model\">Dividend discount model</a></li>\n",
       "<li><a href=\"/wiki/Dividend_yield\" title=\"Dividend yield\">Dividend yield</a></li>\n",
       "<li><a href=\"/wiki/Earnings_per_share\" title=\"Earnings per share\">Earnings per share</a></li>\n",
       "<li><a href=\"/wiki/Earnings_yield\" title=\"Earnings yield\">Earnings yield</a></li>\n",
       "<li><a href=\"/wiki/Net_asset_value\" title=\"Net asset value\">Net asset value</a></li>\n",
       "<li><a href=\"/wiki/Security_characteristic_line\" title=\"Security characteristic line\">Security characteristic line</a></li>\n",
       "<li><a href=\"/wiki/Security_market_line\" title=\"Security market line\">Security market line</a></li>\n",
       "<li><a href=\"/wiki/T-model\" title=\"T-model\">T-model</a></li></ul>\n",
       "</div></td></tr><tr><th class=\"navbox-group\" scope=\"row\" style=\"width:1%\">Trading theories<br/> and <a href=\"/wiki/Trading_strategy\" title=\"Trading strategy\">strategies</a></th><td class=\"navbox-list navbox-odd\" style=\"text-align:left;border-left-width:2px;border-left-style:solid;width:100%;padding:0px\"><div style=\"padding:0em 0.25em\">\n",
       "<ul><li><a href=\"/wiki/Algorithmic_trading\" title=\"Algorithmic trading\">Algorithmic trading</a></li>\n",
       "<li><a href=\"/wiki/Buy_and_hold\" title=\"Buy and hold\">Buy and hold</a></li>\n",
       "<li><a href=\"/wiki/Contrarian_investing\" title=\"Contrarian investing\">Contrarian investing</a></li>\n",
       "<li><a href=\"/wiki/Day_trading\" title=\"Day trading\">Day trading</a></li>\n",
       "<li><a href=\"/wiki/Dollar_cost_averaging\" title=\"Dollar cost averaging\">Dollar cost averaging</a></li>\n",
       "<li><a href=\"/wiki/Efficient-market_hypothesis\" title=\"Efficient-market hypothesis\">Efficient-market hypothesis</a></li>\n",
       "<li><a href=\"/wiki/Fundamental_analysis\" title=\"Fundamental analysis\">Fundamental analysis</a></li>\n",
       "<li><a href=\"/wiki/Growth_stock\" title=\"Growth stock\">Growth stock</a></li>\n",
       "<li><a href=\"/wiki/Market_timing\" title=\"Market timing\">Market timing</a></li>\n",
       "<li><a href=\"/wiki/Modern_portfolio_theory\" title=\"Modern portfolio theory\">Modern portfolio theory</a></li>\n",
       "<li><a href=\"/wiki/Momentum_investing\" title=\"Momentum investing\">Momentum investing</a></li>\n",
       "<li><a href=\"/wiki/Mosaic_theory_(investments)\" title=\"Mosaic theory (investments)\">Mosaic theory</a></li>\n",
       "<li><a href=\"/wiki/Pairs_trade\" title=\"Pairs trade\">Pairs trade</a></li>\n",
       "<li><a href=\"/wiki/Post-modern_portfolio_theory\" title=\"Post-modern portfolio theory\">Post-modern portfolio theory</a></li>\n",
       "<li><a href=\"/wiki/Random_walk_hypothesis\" title=\"Random walk hypothesis\">Random walk hypothesis</a></li>\n",
       "<li><a href=\"/wiki/Sector_rotation\" title=\"Sector rotation\">Sector rotation</a></li>\n",
       "<li><a href=\"/wiki/Style_investing\" title=\"Style investing\">Style investing</a></li>\n",
       "<li><a href=\"/wiki/Swing_trading\" title=\"Swing trading\">Swing trading</a></li>\n",
       "<li><a href=\"/wiki/Technical_analysis\" title=\"Technical analysis\">Technical analysis</a></li>\n",
       "<li><a href=\"/wiki/Trend_following\" title=\"Trend following\">Trend following</a></li>\n",
       "<li><a href=\"/wiki/Value_averaging\" title=\"Value averaging\">Value averaging</a></li>\n",
       "<li><a href=\"/wiki/Value_investing\" title=\"Value investing\">Value investing</a></li></ul>\n",
       "</div></td></tr><tr><th class=\"navbox-group\" scope=\"row\" style=\"width:1%\">Related terms</th><td class=\"navbox-list navbox-even\" style=\"text-align:left;border-left-width:2px;border-left-style:solid;width:100%;padding:0px\"><div style=\"padding:0em 0.25em\">\n",
       "<ul><li><a href=\"/wiki/Block_trade\" title=\"Block trade\">Block trade</a></li>\n",
       "<li><a href=\"/wiki/Cross_listing\" title=\"Cross listing\">Cross listing</a></li>\n",
       "<li><a href=\"/wiki/Dark_pool\" title=\"Dark pool\">Dark pool</a></li>\n",
       "<li><a href=\"/wiki/Dividend\" title=\"Dividend\">Dividend</a></li>\n",
       "<li><a href=\"/wiki/Dual-listed_company\" title=\"Dual-listed company\">Dual-listed company</a></li>\n",
       "<li><a href=\"/wiki/DuPont_analysis\" title=\"DuPont analysis\">DuPont analysis</a></li>\n",
       "<li><a href=\"/wiki/Efficient_frontier\" title=\"Efficient frontier\">Efficient frontier</a></li>\n",
       "<li><a href=\"/wiki/Flight-to-quality\" title=\"Flight-to-quality\">Flight-to-quality</a></li>\n",
       "<li><a href=\"/wiki/Government_bond\" title=\"Government bond\">Government bond</a></li>\n",
       "<li><a href=\"/wiki/Haircut_(finance)\" title=\"Haircut (finance)\">Haircut</a></li>\n",
       "<li><a href=\"/wiki/Initial_public_offering\" title=\"Initial public offering\">Initial public offering</a></li>\n",
       "<li><a href=\"/wiki/Long_(finance)\" title=\"Long (finance)\">Long</a></li>\n",
       "<li><a href=\"/wiki/Margin_(finance)\" title=\"Margin (finance)\">Margin</a></li>\n",
       "<li><a href=\"/wiki/Market_anomaly\" title=\"Market anomaly\">Market anomaly</a></li>\n",
       "<li><a href=\"/wiki/Market_capitalization\" title=\"Market capitalization\">Market capitalization</a></li>\n",
       "<li><a href=\"/wiki/Market_depth\" title=\"Market depth\">Market depth</a></li>\n",
       "<li><a href=\"/wiki/Market_manipulation\" title=\"Market manipulation\">Market manipulation</a></li>\n",
       "<li><a href=\"/wiki/Market_trend\" title=\"Market trend\">Market trend</a></li>\n",
       "<li><a href=\"/wiki/Mean_reversion_(finance)\" title=\"Mean reversion (finance)\">Mean reversion</a></li>\n",
       "<li><a href=\"/wiki/Momentum_(finance)\" title=\"Momentum (finance)\">Momentum</a></li>\n",
       "<li><a href=\"/wiki/Open_outcry\" title=\"Open outcry\">Open outcry</a></li>\n",
       "<li><a href=\"/wiki/Position_(finance)\" title=\"Position (finance)\">Position</a></li>\n",
       "<li><a href=\"/wiki/Public_float\" title=\"Public float\">Public float</a></li>\n",
       "<li><a href=\"/wiki/Public_offering\" title=\"Public offering\">Public offering</a></li>\n",
       "<li><a href=\"/wiki/Rally_(stock_market)\" title=\"Rally (stock market)\">Rally</a></li>\n",
       "<li><a href=\"/wiki/Returns-based_style_analysis\" title=\"Returns-based style analysis\">Returns-based style analysis</a></li>\n",
       "<li><a href=\"/wiki/Reverse_stock_split\" title=\"Reverse stock split\">Reverse stock split</a></li>\n",
       "<li><a href=\"/wiki/Share_repurchase\" title=\"Share repurchase\">Share repurchase</a></li>\n",
       "<li><a href=\"/wiki/Short_(finance)\" title=\"Short (finance)\">Short selling</a></li>\n",
       "<li><a href=\"/wiki/Slippage_(finance)\" title=\"Slippage (finance)\">Slippage</a></li>\n",
       "<li><a href=\"/wiki/Speculation\" title=\"Speculation\">Speculation</a></li>\n",
       "<li><a href=\"/wiki/Stock_dilution\" title=\"Stock dilution\">Stock dilution</a></li>\n",
       "<li><a href=\"/wiki/Stock_exchange\" title=\"Stock exchange\">Stock exchange</a></li>\n",
       "<li><a href=\"/wiki/Stock_market_index\" title=\"Stock market index\">Stock market index</a></li>\n",
       "<li><a href=\"/wiki/Stock_split\" title=\"Stock split\">Stock split</a></li>\n",
       "<li><a href=\"/wiki/Trade_(financial_instrument)\" title=\"Trade (financial instrument)\">Trade</a></li>\n",
       "<li><a href=\"/wiki/Uptick_rule\" title=\"Uptick rule\">Uptick rule</a></li>\n",
       "<li><a href=\"/wiki/Volatility_(finance)\" title=\"Volatility (finance)\">Volatility</a></li>\n",
       "<li><a href=\"/wiki/Voting_interest\" title=\"Voting interest\">Voting interest</a></li>\n",
       "<li><a href=\"/wiki/Yield_(finance)\" title=\"Yield (finance)\">Yield</a></li></ul>\n",
       "</div></td></tr></tbody></table></div>\n",
       "<div aria-labelledby=\"Authority_control_frameless_&amp;#124;text-top_&amp;#124;10px_&amp;#124;alt=Edit_this_at_Wikidata_&amp;#124;link=https&amp;#58;//www.wikidata.org/wiki/Q208697&amp;#124;Edit_this_at_Wikidata\" class=\"navbox authority-control\" role=\"navigation\" style=\"padding:3px\"><table class=\"nowraplinks hlist navbox-inner\" style=\"border-spacing:0;background:transparent;color:inherit\"><tbody><tr><th class=\"navbox-group\" id=\"Authority_control_frameless_&amp;#124;text-top_&amp;#124;10px_&amp;#124;alt=Edit_this_at_Wikidata_&amp;#124;link=https&amp;#58;//www.wikidata.org/wiki/Q208697&amp;#124;Edit_this_at_Wikidata\" scope=\"row\" style=\"width:1%\"><a href=\"/wiki/Help:Authority_control\" title=\"Help:Authority control\">Authority control</a> <a href=\"https://www.wikidata.org/wiki/Q208697\" title=\"Edit this at Wikidata\"><img alt=\"Edit this at Wikidata\" data-file-height=\"20\" data-file-width=\"20\" decoding=\"async\" height=\"10\" src=\"//upload.wikimedia.org/wikipedia/en/thumb/8/8a/OOjs_UI_icon_edit-ltr-progressive.svg/10px-OOjs_UI_icon_edit-ltr-progressive.svg.png\" srcset=\"//upload.wikimedia.org/wikipedia/en/thumb/8/8a/OOjs_UI_icon_edit-ltr-progressive.svg/15px-OOjs_UI_icon_edit-ltr-progressive.svg.png 1.5x, //upload.wikimedia.org/wikipedia/en/thumb/8/8a/OOjs_UI_icon_edit-ltr-progressive.svg/20px-OOjs_UI_icon_edit-ltr-progressive.svg.png 2x\" style=\"vertical-align: text-top\" width=\"10\"/></a></th><td class=\"navbox-list navbox-odd\" style=\"text-align:left;border-left-width:2px;border-left-style:solid;width:100%;padding:0px\"><div style=\"padding:0em 0.25em\">\n",
       "<ul><li><span class=\"nowrap\"><a class=\"mw-redirect\" href=\"/wiki/GND_(identifier)\" title=\"GND (identifier)\">GND</a>: <span class=\"uid\"><a class=\"external text\" href=\"https://d-nb.info/gnd/4120506-6\" rel=\"nofollow\">4120506-6</a></span></span></li>\n",
       "<li><span class=\"nowrap\"><a href=\"/wiki/National_Diet_Library\" title=\"National Diet Library\">NDL</a>: <span class=\"uid\"><a class=\"external text\" href=\"https://id.ndl.go.jp/auth/ndlna/01054402\" rel=\"nofollow\">01054402</a></span></span></li></ul>\n",
       "</div></td></tr></tbody></table></div>\n",
       "<!-- \n",
       "NewPP limit report\n",
       "Parsed by mw1399\n",
       "Cached time: 20200517192245\n",
       "Cache expiry: 2592000\n",
       "Dynamic content: false\n",
       "Complications: [vary‐revision‐sha1]\n",
       "CPU time usage: 0.452 seconds\n",
       "Real time usage: 0.665 seconds\n",
       "Preprocessor visited node count: 3129/1000000\n",
       "Post‐expand include size: 111858/2097152 bytes\n",
       "Template argument size: 4760/2097152 bytes\n",
       "Highest expansion depth: 14/40\n",
       "Expensive parser function count: 3/500\n",
       "Unstrip recursion depth: 1/20\n",
       "Unstrip post‐expand size: 36200/5000000 bytes\n",
       "Number of Wikibase entities loaded: 1/400\n",
       "Lua time usage: 0.191/10.000 seconds\n",
       "Lua memory usage: 4.59 MB/50 MB\n",
       "-->\n",
       "<!--\n",
       "Transclusion expansion time report (%,ms,calls,template)\n",
       "100.00%  545.366      1 -total\n",
       " 22.61%  123.318      1 Template:Reflist\n",
       " 19.64%  107.136      2 Template:Sidebar_with_collapsible_lists\n",
       " 16.68%   90.990      1 Template:Finance_sidebar\n",
       " 16.53%   90.169      1 Template:Cite_web\n",
       " 15.43%   84.137      7 Template:ISBN\n",
       " 12.26%   66.851      1 Template:When\n",
       " 11.20%   61.100      1 Template:Commons_category\n",
       " 10.95%   59.730      1 Template:Fix\n",
       " 10.40%   56.737      1 Template:Sister_project\n",
       "-->\n",
       "<!-- Saved in parser cache with key enwiki:pcache:idhash:41916-0!canonical and timestamp 20200517192244 and revision id 952180622\n",
       " -->\n",
       "</div><noscript><img alt=\"\" height=\"1\" src=\"//en.wikipedia.org/wiki/Special:CentralAutoLogin/start?type=1x1\" style=\"border: none; position: absolute;\" title=\"\" width=\"1\"/></noscript></div>\n",
       "<div class=\"printfooter\">Retrieved from \"<a dir=\"ltr\" href=\"https://en.wikipedia.org/w/index.php?title=Financial_market&amp;oldid=952180622\">https://en.wikipedia.org/w/index.php?title=Financial_market&amp;oldid=952180622</a>\"</div>\n",
       "<div class=\"catlinks\" data-mw=\"interface\" id=\"catlinks\"><div class=\"mw-normal-catlinks\" id=\"mw-normal-catlinks\"><a href=\"/wiki/Help:Category\" title=\"Help:Category\">Categories</a>: <ul><li><a href=\"/wiki/Category:Financial_markets\" title=\"Category:Financial markets\">Financial markets</a></li></ul></div><div class=\"mw-hidden-catlinks mw-hidden-cats-hidden\" id=\"mw-hidden-catlinks\">Hidden categories: <ul><li><a href=\"/wiki/Category:All_articles_with_vague_or_ambiguous_time\" title=\"Category:All articles with vague or ambiguous time\">All articles with vague or ambiguous time</a></li><li><a href=\"/wiki/Category:Vague_or_ambiguous_time_from_February_2011\" title=\"Category:Vague or ambiguous time from February 2011\">Vague or ambiguous time from February 2011</a></li><li><a href=\"/wiki/Category:Commons_category_link_is_on_Wikidata\" title=\"Category:Commons category link is on Wikidata\">Commons category link is on Wikidata</a></li><li><a href=\"/wiki/Category:Wikipedia_articles_with_GND_identifiers\" title=\"Category:Wikipedia articles with GND identifiers\">Wikipedia articles with GND identifiers</a></li><li><a href=\"/wiki/Category:Wikipedia_articles_with_NDL_identifiers\" title=\"Category:Wikipedia articles with NDL identifiers\">Wikipedia articles with NDL identifiers</a></li></ul></div></div>\n",
       "<div class=\"visualClear\"></div>\n",
       "</div>\n",
       "</div>\n",
       "<div id=\"mw-data-after-content\">\n",
       "<div class=\"read-more-container\"></div>\n",
       "</div>\n",
       "<div id=\"mw-navigation\">\n",
       "<h2>Navigation menu</h2>\n",
       "<div id=\"mw-head\">\n",
       "<div aria-labelledby=\"p-personal-label\" class=\"\" id=\"p-personal\" role=\"navigation\">\n",
       "<h3 id=\"p-personal-label\">Personal tools</h3>\n",
       "<ul>\n",
       "<li id=\"pt-anonuserpage\">Not logged in</li><li id=\"pt-anontalk\"><a accesskey=\"n\" href=\"/wiki/Special:MyTalk\" title=\"Discussion about edits from this IP address [n]\">Talk</a></li><li id=\"pt-anoncontribs\"><a accesskey=\"y\" href=\"/wiki/Special:MyContributions\" title=\"A list of edits made from this IP address [y]\">Contributions</a></li><li id=\"pt-createaccount\"><a href=\"/w/index.php?title=Special:CreateAccount&amp;returnto=Financial+market\" title=\"You are encouraged to create an account and log in; however, it is not mandatory\">Create account</a></li><li id=\"pt-login\"><a accesskey=\"o\" href=\"/w/index.php?title=Special:UserLogin&amp;returnto=Financial+market\" title=\"You're encouraged to log in; however, it's not mandatory. [o]\">Log in</a></li>\n",
       "</ul>\n",
       "</div>\n",
       "<div id=\"left-navigation\">\n",
       "<div aria-labelledby=\"p-namespaces-label\" class=\"vectorTabs\" id=\"p-namespaces\" role=\"navigation\">\n",
       "<h3 id=\"p-namespaces-label\">Namespaces</h3>\n",
       "<ul>\n",
       "<li class=\"selected\" id=\"ca-nstab-main\"><a accesskey=\"c\" href=\"/wiki/Financial_market\" title=\"View the content page [c]\">Article</a></li><li id=\"ca-talk\"><a accesskey=\"t\" href=\"/wiki/Talk:Financial_market\" rel=\"discussion\" title=\"Discuss improvements to the content page [t]\">Talk</a></li>\n",
       "</ul>\n",
       "</div>\n",
       "<div aria-labelledby=\"p-variants-label\" class=\"emptyPortlet vectorMenu\" id=\"p-variants\" role=\"navigation\">\n",
       "<input aria-labelledby=\"p-variants-label\" class=\"vectorMenuCheckbox\" type=\"checkbox\"/>\n",
       "<h3 id=\"p-variants-label\">\n",
       "<span>Variants</span>\n",
       "</h3>\n",
       "<ul class=\"menu\">\n",
       "</ul>\n",
       "</div>\n",
       "</div>\n",
       "<div id=\"right-navigation\">\n",
       "<div aria-labelledby=\"p-views-label\" class=\"vectorTabs\" id=\"p-views\" role=\"navigation\">\n",
       "<h3 id=\"p-views-label\">Views</h3>\n",
       "<ul>\n",
       "<li class=\"collapsible selected\" id=\"ca-view\"><a href=\"/wiki/Financial_market\">Read</a></li><li class=\"collapsible\" id=\"ca-edit\"><a accesskey=\"e\" href=\"/w/index.php?title=Financial_market&amp;action=edit\" title=\"Edit this page [e]\">Edit</a></li><li class=\"collapsible\" id=\"ca-history\"><a accesskey=\"h\" href=\"/w/index.php?title=Financial_market&amp;action=history\" title=\"Past revisions of this page [h]\">View history</a></li>\n",
       "</ul>\n",
       "</div>\n",
       "<div aria-labelledby=\"p-cactions-label\" class=\"emptyPortlet vectorMenu\" id=\"p-cactions\" role=\"navigation\">\n",
       "<input aria-labelledby=\"p-cactions-label\" class=\"vectorMenuCheckbox\" type=\"checkbox\"/>\n",
       "<h3 id=\"p-cactions-label\">\n",
       "<span>More</span>\n",
       "</h3>\n",
       "<ul class=\"menu\">\n",
       "</ul>\n",
       "</div>\n",
       "<div id=\"p-search\" role=\"search\">\n",
       "<h3>\n",
       "<label for=\"searchInput\">Search</label>\n",
       "</h3>\n",
       "<form action=\"/w/index.php\" id=\"searchform\">\n",
       "<div id=\"simpleSearch\">\n",
       "<input accesskey=\"f\" id=\"searchInput\" name=\"search\" placeholder=\"Search Wikipedia\" title=\"Search Wikipedia [f]\" type=\"search\"/>\n",
       "<input name=\"title\" type=\"hidden\" value=\"Special:Search\"/>\n",
       "<input class=\"searchButton mw-fallbackSearchButton\" id=\"mw-searchButton\" name=\"fulltext\" title=\"Search Wikipedia for this text\" type=\"submit\" value=\"Search\"/>\n",
       "<input class=\"searchButton\" id=\"searchButton\" name=\"go\" title=\"Go to a page with this exact name if it exists\" type=\"submit\" value=\"Go\"/>\n",
       "</div>\n",
       "</form>\n",
       "</div>\n",
       "</div>\n",
       "</div>\n",
       "<div id=\"mw-panel\">\n",
       "<div id=\"p-logo\" role=\"banner\">\n",
       "<a class=\"mw-wiki-logo\" href=\"/wiki/Main_Page\" title=\"Visit the main page\"></a>\n",
       "</div>\n",
       "<div aria-labelledby=\"p-navigation-label\" class=\"portal portal-first\" id=\"p-navigation\" role=\"navigation\">\n",
       "<h3 id=\"p-navigation-label\">\n",
       "\t\tNavigation\n",
       "\t</h3>\n",
       "<div class=\"body\">\n",
       "<ul><li id=\"n-mainpage-description\"><a accesskey=\"z\" href=\"/wiki/Main_Page\" title=\"Visit the main page [z]\">Main page</a></li><li id=\"n-contents\"><a href=\"/wiki/Wikipedia:Contents\" title=\"Guides to browsing Wikipedia\">Contents</a></li><li id=\"n-featuredcontent\"><a href=\"/wiki/Wikipedia:Featured_content\" title=\"Featured content – the best of Wikipedia\">Featured content</a></li><li id=\"n-currentevents\"><a href=\"/wiki/Portal:Current_events\" title=\"Find background information on current events\">Current events</a></li><li id=\"n-randompage\"><a accesskey=\"x\" href=\"/wiki/Special:Random\" title=\"Load a random article [x]\">Random article</a></li><li id=\"n-sitesupport\"><a href=\"https://donate.wikimedia.org/wiki/Special:FundraiserRedirector?utm_source=donate&amp;utm_medium=sidebar&amp;utm_campaign=C13_en.wikipedia.org&amp;uselang=en\" title=\"Support us\">Donate to Wikipedia</a></li><li id=\"n-shoplink\"><a href=\"//shop.wikimedia.org\" title=\"Visit the Wikipedia store\">Wikipedia store</a></li></ul>\n",
       "</div>\n",
       "</div>\n",
       "<div aria-labelledby=\"p-interaction-label\" class=\"portal\" id=\"p-interaction\" role=\"navigation\">\n",
       "<h3 id=\"p-interaction-label\">\n",
       "\t\tInteraction\n",
       "\t</h3>\n",
       "<div class=\"body\">\n",
       "<ul><li id=\"n-help\"><a href=\"/wiki/Help:Contents\" title=\"Guidance on how to use and edit Wikipedia\">Help</a></li><li id=\"n-aboutsite\"><a href=\"/wiki/Wikipedia:About\" title=\"Find out about Wikipedia\">About Wikipedia</a></li><li id=\"n-portal\"><a href=\"/wiki/Wikipedia:Community_portal\" title=\"About the project, what you can do, where to find things\">Community portal</a></li><li id=\"n-recentchanges\"><a accesskey=\"r\" href=\"/wiki/Special:RecentChanges\" title=\"A list of recent changes in the wiki [r]\">Recent changes</a></li><li id=\"n-contactpage\"><a href=\"//en.wikipedia.org/wiki/Wikipedia:Contact_us\" title=\"How to contact Wikipedia\">Contact page</a></li></ul>\n",
       "</div>\n",
       "</div>\n",
       "<div aria-labelledby=\"p-tb-label\" class=\"portal\" id=\"p-tb\" role=\"navigation\">\n",
       "<h3 id=\"p-tb-label\">\n",
       "\t\tTools\n",
       "\t</h3>\n",
       "<div class=\"body\">\n",
       "<ul><li id=\"t-whatlinkshere\"><a accesskey=\"j\" href=\"/wiki/Special:WhatLinksHere/Financial_market\" title=\"List of all English Wikipedia pages containing links to this page [j]\">What links here</a></li><li id=\"t-recentchangeslinked\"><a accesskey=\"k\" href=\"/wiki/Special:RecentChangesLinked/Financial_market\" rel=\"nofollow\" title=\"Recent changes in pages linked from this page [k]\">Related changes</a></li><li id=\"t-upload\"><a accesskey=\"u\" href=\"/wiki/Wikipedia:File_Upload_Wizard\" title=\"Upload files [u]\">Upload file</a></li><li id=\"t-specialpages\"><a accesskey=\"q\" href=\"/wiki/Special:SpecialPages\" title=\"A list of all special pages [q]\">Special pages</a></li><li id=\"t-permalink\"><a href=\"/w/index.php?title=Financial_market&amp;oldid=952180622\" title=\"Permanent link to this revision of the page\">Permanent link</a></li><li id=\"t-info\"><a href=\"/w/index.php?title=Financial_market&amp;action=info\" title=\"More information about this page\">Page information</a></li><li id=\"t-wikibase\"><a accesskey=\"g\" href=\"https://www.wikidata.org/wiki/Special:EntityPage/Q208697\" title=\"Link to connected data repository item [g]\">Wikidata item</a></li><li id=\"t-cite\"><a href=\"/w/index.php?title=Special:CiteThisPage&amp;page=Financial_market&amp;id=952180622&amp;wpFormIdentifier=titleform\" title=\"Information on how to cite this page\">Cite this page</a></li></ul>\n",
       "</div>\n",
       "</div>\n",
       "<div aria-labelledby=\"p-wikibase-otherprojects-label\" class=\"portal\" id=\"p-wikibase-otherprojects\" role=\"navigation\">\n",
       "<h3 id=\"p-wikibase-otherprojects-label\">\n",
       "\t\tIn other projects\n",
       "\t</h3>\n",
       "<div class=\"body\">\n",
       "<ul><li class=\"wb-otherproject-link wb-otherproject-commons\"><a href=\"https://commons.wikimedia.org/wiki/Category:Financial_markets\" hreflang=\"en\">Wikimedia Commons</a></li><li class=\"wb-otherproject-link wb-otherproject-wikiquote\"><a href=\"https://en.wikiquote.org/wiki/Financial_market\" hreflang=\"en\">Wikiquote</a></li></ul>\n",
       "</div>\n",
       "</div>\n",
       "<div aria-labelledby=\"p-coll-print_export-label\" class=\"portal\" id=\"p-coll-print_export\" role=\"navigation\">\n",
       "<h3 id=\"p-coll-print_export-label\">\n",
       "\t\tPrint/export\n",
       "\t</h3>\n",
       "<div class=\"body\">\n",
       "<ul><li id=\"coll-download-as-rl\"><a href=\"/w/index.php?title=Special:ElectronPdf&amp;page=Financial+market&amp;action=show-download-screen\">Download as PDF</a></li><li id=\"t-print\"><a accesskey=\"p\" href=\"/w/index.php?title=Financial_market&amp;printable=yes\" title=\"Printable version of this page [p]\">Printable version</a></li></ul>\n",
       "</div>\n",
       "</div>\n",
       "<div aria-labelledby=\"p-lang-label\" class=\"portal\" id=\"p-lang\" role=\"navigation\">\n",
       "<h3 id=\"p-lang-label\">\n",
       "\t\tLanguages\n",
       "\t</h3>\n",
       "<div class=\"body\">\n",
       "<ul><li class=\"interlanguage-link interwiki-ar\"><a class=\"interlanguage-link-target\" href=\"https://ar.wikipedia.org/wiki/%D8%B3%D9%88%D9%82_%D9%85%D8%A7%D9%84%D9%8A%D8%A9\" hreflang=\"ar\" lang=\"ar\" title=\"سوق مالية – Arabic\">العربية</a></li><li class=\"interlanguage-link interwiki-be\"><a class=\"interlanguage-link-target\" href=\"https://be.wikipedia.org/wiki/%D0%A4%D1%96%D0%BD%D0%B0%D0%BD%D1%81%D0%B0%D0%B2%D1%8B_%D1%80%D1%8B%D0%BD%D0%B0%D0%BA\" hreflang=\"be\" lang=\"be\" title=\"Фінансавы рынак – Belarusian\">Беларуская</a></li><li class=\"interlanguage-link interwiki-bg\"><a class=\"interlanguage-link-target\" href=\"https://bg.wikipedia.org/wiki/%D0%A4%D0%B8%D0%BD%D0%B0%D0%BD%D1%81%D0%BE%D0%B2_%D0%BF%D0%B0%D0%B7%D0%B0%D1%80\" hreflang=\"bg\" lang=\"bg\" title=\"Финансов пазар – Bulgarian\">Български</a></li><li class=\"interlanguage-link interwiki-ca\"><a class=\"interlanguage-link-target\" href=\"https://ca.wikipedia.org/wiki/Mercat_financer\" hreflang=\"ca\" lang=\"ca\" title=\"Mercat financer – Catalan\">Català</a></li><li class=\"interlanguage-link interwiki-cs\"><a class=\"interlanguage-link-target\" href=\"https://cs.wikipedia.org/wiki/Finan%C4%8Dn%C3%AD_trh\" hreflang=\"cs\" lang=\"cs\" title=\"Finanční trh – Czech\">Čeština</a></li><li class=\"interlanguage-link interwiki-da\"><a class=\"interlanguage-link-target\" href=\"https://da.wikipedia.org/wiki/Finansielt_marked\" hreflang=\"da\" lang=\"da\" title=\"Finansielt marked – Danish\">Dansk</a></li><li class=\"interlanguage-link interwiki-de\"><a class=\"interlanguage-link-target\" href=\"https://de.wikipedia.org/wiki/Finanzmarkt\" hreflang=\"de\" lang=\"de\" title=\"Finanzmarkt – German\">Deutsch</a></li><li class=\"interlanguage-link interwiki-et\"><a class=\"interlanguage-link-target\" href=\"https://et.wikipedia.org/wiki/Finantsturg\" hreflang=\"et\" lang=\"et\" title=\"Finantsturg – Estonian\">Eesti</a></li><li class=\"interlanguage-link interwiki-es\"><a class=\"interlanguage-link-target\" href=\"https://es.wikipedia.org/wiki/Mercado_financiero\" hreflang=\"es\" lang=\"es\" title=\"Mercado financiero – Spanish\">Español</a></li><li class=\"interlanguage-link interwiki-eo\"><a class=\"interlanguage-link-target\" href=\"https://eo.wikipedia.org/wiki/Financa_merkato\" hreflang=\"eo\" lang=\"eo\" title=\"Financa merkato – Esperanto\">Esperanto</a></li><li class=\"interlanguage-link interwiki-eu\"><a class=\"interlanguage-link-target\" href=\"https://eu.wikipedia.org/wiki/Finantza_merkatu\" hreflang=\"eu\" lang=\"eu\" title=\"Finantza merkatu – Basque\">Euskara</a></li><li class=\"interlanguage-link interwiki-fa\"><a class=\"interlanguage-link-target\" href=\"https://fa.wikipedia.org/wiki/%D8%A8%D8%A7%D8%B2%D8%A7%D8%B1_%D9%85%D8%A7%D9%84%DB%8C\" hreflang=\"fa\" lang=\"fa\" title=\"بازار مالی – Persian\">فارسی</a></li><li class=\"interlanguage-link interwiki-fr\"><a class=\"interlanguage-link-target\" href=\"https://fr.wikipedia.org/wiki/March%C3%A9_financier\" hreflang=\"fr\" lang=\"fr\" title=\"Marché financier – French\">Français</a></li><li class=\"interlanguage-link interwiki-fur\"><a class=\"interlanguage-link-target\" href=\"https://fur.wikipedia.org/wiki/Marcj%C3%A2t_finanziari\" hreflang=\"fur\" lang=\"fur\" title=\"Marcjât finanziari – Friulian\">Furlan</a></li><li class=\"interlanguage-link interwiki-ko\"><a class=\"interlanguage-link-target\" href=\"https://ko.wikipedia.org/wiki/%EA%B8%88%EC%9C%B5_%EC%8B%9C%EC%9E%A5\" hreflang=\"ko\" lang=\"ko\" title=\"금융 시장 – Korean\">한국어</a></li><li class=\"interlanguage-link interwiki-hi\"><a class=\"interlanguage-link-target\" href=\"https://hi.wikipedia.org/wiki/%E0%A4%B5%E0%A4%BF%E0%A4%A4%E0%A5%8D%E0%A4%A4_%E0%A4%AC%E0%A4%BE%E0%A4%9C%E0%A4%BC%E0%A4%BE%E0%A4%B0\" hreflang=\"hi\" lang=\"hi\" title=\"वित्त बाज़ार – Hindi\">हिन्दी</a></li><li class=\"interlanguage-link interwiki-hr\"><a class=\"interlanguage-link-target\" href=\"https://hr.wikipedia.org/wiki/Financijska_tr%C5%BEi%C5%A1ta\" hreflang=\"hr\" lang=\"hr\" title=\"Financijska tržišta – Croatian\">Hrvatski</a></li><li class=\"interlanguage-link interwiki-io\"><a class=\"interlanguage-link-target\" href=\"https://io.wikipedia.org/wiki/Financala_merkato\" hreflang=\"io\" lang=\"io\" title=\"Financala merkato – Ido\">Ido</a></li><li class=\"interlanguage-link interwiki-id\"><a class=\"interlanguage-link-target\" href=\"https://id.wikipedia.org/wiki/Pasar_keuangan\" hreflang=\"id\" lang=\"id\" title=\"Pasar keuangan – Indonesian\">Bahasa Indonesia</a></li><li class=\"interlanguage-link interwiki-it\"><a class=\"interlanguage-link-target\" href=\"https://it.wikipedia.org/wiki/Mercato_finanziario\" hreflang=\"it\" lang=\"it\" title=\"Mercato finanziario – Italian\">Italiano</a></li><li class=\"interlanguage-link interwiki-kn\"><a class=\"interlanguage-link-target\" href=\"https://kn.wikipedia.org/wiki/%E0%B2%B9%E0%B2%A3%E0%B2%95%E0%B2%BE%E0%B2%B8%E0%B2%BF%E0%B2%A8_%E0%B2%AE%E0%B2%BE%E0%B2%B0%E0%B3%81%E0%B2%95%E0%B2%9F%E0%B3%8D%E0%B2%9F%E0%B3%86\" hreflang=\"kn\" lang=\"kn\" title=\"ಹಣಕಾಸಿನ ಮಾರುಕಟ್ಟೆ – Kannada\">ಕನ್ನಡ</a></li><li class=\"interlanguage-link interwiki-lt\"><a class=\"interlanguage-link-target\" href=\"https://lt.wikipedia.org/wiki/Finans%C5%B3_rinka\" hreflang=\"lt\" lang=\"lt\" title=\"Finansų rinka – Lithuanian\">Lietuvių</a></li><li class=\"interlanguage-link interwiki-lfn\"><a class=\"interlanguage-link-target\" href=\"https://lfn.wikipedia.org/wiki/Mercato_finansial\" hreflang=\"lfn\" lang=\"lfn\" title=\"Mercato finansial – Lingua Franca Nova\">Lingua Franca Nova</a></li><li class=\"interlanguage-link interwiki-mk\"><a class=\"interlanguage-link-target\" href=\"https://mk.wikipedia.org/wiki/%D0%A4%D0%B8%D0%BD%D0%B0%D0%BD%D1%81%D0%B8%D1%81%D0%BA%D0%B8_%D0%BF%D0%B0%D0%B7%D0%B0%D1%80\" hreflang=\"mk\" lang=\"mk\" title=\"Финансиски пазар – Macedonian\">Македонски</a></li><li class=\"interlanguage-link interwiki-nl\"><a class=\"interlanguage-link-target\" href=\"https://nl.wikipedia.org/wiki/Financi%C3%ABle_markt\" hreflang=\"nl\" lang=\"nl\" title=\"Financiële markt – Dutch\">Nederlands</a></li><li class=\"interlanguage-link interwiki-ja\"><a class=\"interlanguage-link-target\" href=\"https://ja.wikipedia.org/wiki/%E9%87%91%E8%9E%8D%E5%B8%82%E5%A0%B4\" hreflang=\"ja\" lang=\"ja\" title=\"金融市場 – Japanese\">日本語</a></li><li class=\"interlanguage-link interwiki-km\"><a class=\"interlanguage-link-target\" href=\"https://km.wikipedia.org/wiki/%E1%9E%95%E1%9F%92%E1%9E%9F%E1%9E%B6%E1%9E%9A%E1%9E%A0%E1%9E%B7%E1%9E%9A%E1%9E%89%E1%9F%92%E1%9E%89%E1%9E%9C%E1%9E%8F%E1%9F%92%E1%9E%90%E1%9E%BB\" hreflang=\"km\" lang=\"km\" title=\"ផ្សារហិរញ្ញវត្ថុ – Khmer\">ភាសាខ្មែរ</a></li><li class=\"interlanguage-link interwiki-pl\"><a class=\"interlanguage-link-target\" href=\"https://pl.wikipedia.org/wiki/Rynek_finansowy\" hreflang=\"pl\" lang=\"pl\" title=\"Rynek finansowy – Polish\">Polski</a></li><li class=\"interlanguage-link interwiki-pt\"><a class=\"interlanguage-link-target\" href=\"https://pt.wikipedia.org/wiki/Mercado_financeiro\" hreflang=\"pt\" lang=\"pt\" title=\"Mercado financeiro – Portuguese\">Português</a></li><li class=\"interlanguage-link interwiki-ro\"><a class=\"interlanguage-link-target\" href=\"https://ro.wikipedia.org/wiki/Pia%C8%9B%C4%83_financiar%C4%83\" hreflang=\"ro\" lang=\"ro\" title=\"Piață financiară – Romanian\">Română</a></li><li class=\"interlanguage-link interwiki-ru\"><a class=\"interlanguage-link-target\" href=\"https://ru.wikipedia.org/wiki/%D0%A4%D0%B8%D0%BD%D0%B0%D0%BD%D1%81%D0%BE%D0%B2%D1%8B%D0%B9_%D1%80%D1%8B%D0%BD%D0%BE%D0%BA\" hreflang=\"ru\" lang=\"ru\" title=\"Финансовый рынок – Russian\">Русский</a></li><li class=\"interlanguage-link interwiki-sk\"><a class=\"interlanguage-link-target\" href=\"https://sk.wikipedia.org/wiki/Finan%C4%8Dn%C3%BD_trh\" hreflang=\"sk\" lang=\"sk\" title=\"Finančný trh – Slovak\">Slovenčina</a></li><li class=\"interlanguage-link interwiki-sr\"><a class=\"interlanguage-link-target\" href=\"https://sr.wikipedia.org/wiki/%D0%A4%D0%B8%D0%BD%D0%B0%D0%BD%D1%81%D0%B8%D1%98%D1%81%D0%BA%D0%B0_%D1%82%D1%80%D0%B6%D0%B8%D1%88%D1%82%D0%B0\" hreflang=\"sr\" lang=\"sr\" title=\"Финансијска тржишта – Serbian\">Српски / srpski</a></li><li class=\"interlanguage-link interwiki-sh\"><a class=\"interlanguage-link-target\" href=\"https://sh.wikipedia.org/wiki/Finansijska_tr%C5%BEi%C5%A1ta\" hreflang=\"sh\" lang=\"sh\" title=\"Finansijska tržišta – Serbo-Croatian\">Srpskohrvatski / српскохрватски</a></li><li class=\"interlanguage-link interwiki-fi\"><a class=\"interlanguage-link-target\" href=\"https://fi.wikipedia.org/wiki/Rahoitusmarkkinat\" hreflang=\"fi\" lang=\"fi\" title=\"Rahoitusmarkkinat – Finnish\">Suomi</a></li><li class=\"interlanguage-link interwiki-sv\"><a class=\"interlanguage-link-target\" href=\"https://sv.wikipedia.org/wiki/Finansmarknad\" hreflang=\"sv\" lang=\"sv\" title=\"Finansmarknad – Swedish\">Svenska</a></li><li class=\"interlanguage-link interwiki-th\"><a class=\"interlanguage-link-target\" href=\"https://th.wikipedia.org/wiki/%E0%B8%95%E0%B8%A5%E0%B8%B2%E0%B8%94%E0%B8%81%E0%B8%B2%E0%B8%A3%E0%B9%80%E0%B8%87%E0%B8%B4%E0%B8%99\" hreflang=\"th\" lang=\"th\" title=\"ตลาดการเงิน – Thai\">ไทย</a></li><li class=\"interlanguage-link interwiki-tr\"><a class=\"interlanguage-link-target\" href=\"https://tr.wikipedia.org/wiki/Finansal_piyasalar\" hreflang=\"tr\" lang=\"tr\" title=\"Finansal piyasalar – Turkish\">Türkçe</a></li><li class=\"interlanguage-link interwiki-uk\"><a class=\"interlanguage-link-target\" href=\"https://uk.wikipedia.org/wiki/%D0%A4%D1%96%D0%BD%D0%B0%D0%BD%D1%81%D0%BE%D0%B2%D0%B8%D0%B9_%D1%80%D0%B8%D0%BD%D0%BE%D0%BA\" hreflang=\"uk\" lang=\"uk\" title=\"Фінансовий ринок – Ukrainian\">Українська</a></li><li class=\"interlanguage-link interwiki-vi\"><a class=\"interlanguage-link-target\" href=\"https://vi.wikipedia.org/wiki/Th%E1%BB%8B_tr%C6%B0%E1%BB%9Dng_t%C3%A0i_ch%C3%ADnh\" hreflang=\"vi\" lang=\"vi\" title=\"Thị trường tài chính – Vietnamese\">Tiếng Việt</a></li><li class=\"interlanguage-link interwiki-zh\"><a class=\"interlanguage-link-target\" href=\"https://zh.wikipedia.org/wiki/%E9%87%91%E8%9E%8D%E5%B8%82%E5%9C%BA\" hreflang=\"zh\" lang=\"zh\" title=\"金融市场 – Chinese\">中文</a></li></ul>\n",
       "<div class=\"after-portlet after-portlet-lang\"><span class=\"wb-langlinks-edit wb-langlinks-link\"><a class=\"wbc-editpage\" href=\"https://www.wikidata.org/wiki/Special:EntityPage/Q208697#sitelinks-wikipedia\" title=\"Edit interlanguage links\">Edit links</a></span></div>\n",
       "</div>\n",
       "</div>\n",
       "</div>\n",
       "</div>\n",
       "<div class=\"mw-footer\" id=\"footer\" role=\"contentinfo\">\n",
       "<ul id=\"footer-info\">\n",
       "<li id=\"footer-info-lastmod\"> This page was last edited on 20 April 2020, at 23:33<span class=\"anonymous-show\"> (UTC)</span>.</li>\n",
       "<li id=\"footer-info-copyright\">Text is available under the <a href=\"//en.wikipedia.org/wiki/Wikipedia:Text_of_Creative_Commons_Attribution-ShareAlike_3.0_Unported_License\" rel=\"license\">Creative Commons Attribution-ShareAlike License</a><a href=\"//creativecommons.org/licenses/by-sa/3.0/\" rel=\"license\" style=\"display:none;\"></a>;\n",
       "additional terms may apply.  By using this site, you agree to the <a href=\"//foundation.wikimedia.org/wiki/Terms_of_Use\">Terms of Use</a> and <a href=\"//foundation.wikimedia.org/wiki/Privacy_policy\">Privacy Policy</a>. Wikipedia® is a registered trademark of the <a href=\"//www.wikimediafoundation.org/\">Wikimedia Foundation, Inc.</a>, a non-profit organization.</li>\n",
       "</ul>\n",
       "<ul id=\"footer-places\">\n",
       "<li id=\"footer-places-privacy\"><a class=\"extiw\" href=\"https://foundation.wikimedia.org/wiki/Privacy_policy\" title=\"wmf:Privacy policy\">Privacy policy</a></li>\n",
       "<li id=\"footer-places-about\"><a href=\"/wiki/Wikipedia:About\" title=\"Wikipedia:About\">About Wikipedia</a></li>\n",
       "<li id=\"footer-places-disclaimer\"><a href=\"/wiki/Wikipedia:General_disclaimer\" title=\"Wikipedia:General disclaimer\">Disclaimers</a></li>\n",
       "<li id=\"footer-places-contact\"><a href=\"//en.wikipedia.org/wiki/Wikipedia:Contact_us\">Contact Wikipedia</a></li>\n",
       "<li id=\"footer-places-developers\"><a href=\"https://www.mediawiki.org/wiki/Special:MyLanguage/How_to_contribute\">Developers</a></li>\n",
       "<li id=\"footer-places-statslink\"><a href=\"https://stats.wikimedia.org/#/en.wikipedia.org\">Statistics</a></li>\n",
       "<li id=\"footer-places-cookiestatement\"><a href=\"https://foundation.wikimedia.org/wiki/Cookie_statement\">Cookie statement</a></li>\n",
       "<li id=\"footer-places-mobileview\"><a class=\"noprint stopMobileRedirectToggle\" href=\"//en.m.wikipedia.org/w/index.php?title=Financial_market&amp;mobileaction=toggle_view_mobile\">Mobile view</a></li>\n",
       "</ul>\n",
       "<ul class=\"noprint\" id=\"footer-icons\">\n",
       "<li id=\"footer-copyrightico\"><a href=\"https://wikimediafoundation.org/\"><img alt=\"Wikimedia Foundation\" height=\"31\" src=\"/static/images/wikimedia-button.png\" srcset=\"/static/images/wikimedia-button-1.5x.png 1.5x, /static/images/wikimedia-button-2x.png 2x\" width=\"88\"/></a></li>\n",
       "<li id=\"footer-poweredbyico\"><a href=\"https://www.mediawiki.org/\"><img alt=\"Powered by MediaWiki\" height=\"31\" src=\"/static/images/poweredby_mediawiki_88x31.png\" srcset=\"/static/images/poweredby_mediawiki_132x47.png 1.5x, /static/images/poweredby_mediawiki_176x62.png 2x\" width=\"88\"/></a></li>\n",
       "</ul>\n",
       "<div style=\"clear: both;\"></div>\n",
       "</div>\n",
       "<script>(RLQ=window.RLQ||[]).push(function(){mw.config.set({\"wgPageParseReport\":{\"limitreport\":{\"cputime\":\"0.452\",\"walltime\":\"0.665\",\"ppvisitednodes\":{\"value\":3129,\"limit\":1000000},\"postexpandincludesize\":{\"value\":111858,\"limit\":2097152},\"templateargumentsize\":{\"value\":4760,\"limit\":2097152},\"expansiondepth\":{\"value\":14,\"limit\":40},\"expensivefunctioncount\":{\"value\":3,\"limit\":500},\"unstrip-depth\":{\"value\":1,\"limit\":20},\"unstrip-size\":{\"value\":36200,\"limit\":5000000},\"entityaccesscount\":{\"value\":1,\"limit\":400},\"timingprofile\":[\"100.00%  545.366      1 -total\",\" 22.61%  123.318      1 Template:Reflist\",\" 19.64%  107.136      2 Template:Sidebar_with_collapsible_lists\",\" 16.68%   90.990      1 Template:Finance_sidebar\",\" 16.53%   90.169      1 Template:Cite_web\",\" 15.43%   84.137      7 Template:ISBN\",\" 12.26%   66.851      1 Template:When\",\" 11.20%   61.100      1 Template:Commons_category\",\" 10.95%   59.730      1 Template:Fix\",\" 10.40%   56.737      1 Template:Sister_project\"]},\"scribunto\":{\"limitreport-timeusage\":{\"value\":\"0.191\",\"limit\":\"10.000\"},\"limitreport-memusage\":{\"value\":4808868,\"limit\":52428800}},\"cachereport\":{\"origin\":\"mw1399\",\"timestamp\":\"20200517192245\",\"ttl\":2592000,\"transientcontent\":false}}});});</script>\n",
       "<script type=\"application/ld+json\">{\"@context\":\"https:\\/\\/schema.org\",\"@type\":\"Article\",\"name\":\"Financial market\",\"url\":\"https:\\/\\/en.wikipedia.org\\/wiki\\/Financial_market\",\"sameAs\":\"http:\\/\\/www.wikidata.org\\/entity\\/Q208697\",\"mainEntity\":\"http:\\/\\/www.wikidata.org\\/entity\\/Q208697\",\"author\":{\"@type\":\"Organization\",\"name\":\"Contributors to Wikimedia projects\"},\"publisher\":{\"@type\":\"Organization\",\"name\":\"Wikimedia Foundation, Inc.\",\"logo\":{\"@type\":\"ImageObject\",\"url\":\"https:\\/\\/www.wikimedia.org\\/static\\/images\\/wmf-hor-googpub.png\"}},\"datePublished\":\"2002-02-26T05:04:28Z\",\"dateModified\":\"2020-04-20T23:33:28Z\",\"image\":\"https:\\/\\/upload.wikimedia.org\\/wikipedia\\/commons\\/d\\/d7\\/Philippine-stock-market-board.jpg\",\"headline\":\"generic term for all markets in which trading takes place with capital\"}</script>\n",
       "<script>(RLQ=window.RLQ||[]).push(function(){mw.config.set({\"wgBackendResponseTime\":168,\"wgHostname\":\"mw1407\"});});</script></body></html>"
      ]
     },
     "execution_count": 70,
     "metadata": {},
     "output_type": "execute_result"
    }
   ],
   "source": [
    "soups['Financial_market']"
   ]
  },
  {
   "cell_type": "code",
   "execution_count": null,
   "metadata": {
    "ExecuteTime": {
     "end_time": "2020-05-22T22:43:50.726163Z",
     "start_time": "2020-05-22T22:43:50.724045Z"
    },
    "colab": {},
    "colab_type": "code",
    "id": "Lj8ASjVnouHF"
   },
   "outputs": [],
   "source": [
    "# ## Lets make this into a function\n",
    "# def placeholder2():\n",
    "#     passa"
   ]
  },
  {
   "cell_type": "code",
   "execution_count": null,
   "metadata": {},
   "outputs": [],
   "source": []
  },
  {
   "cell_type": "code",
   "execution_count": null,
   "metadata": {},
   "outputs": [],
   "source": [
    "open()"
   ]
  },
  {
   "cell_type": "markdown",
   "metadata": {
    "colab_type": "text",
    "id": "Rkqfa-kvE-7Q"
   },
   "source": [
    "## What's in a Soup?\n"
   ]
  },
  {
   "cell_type": "markdown",
   "metadata": {
    "colab_type": "text",
    "id": "FieLZ63VVEXi"
   },
   "source": [
    "- **A soup is essentially a collection of `tag objects`**\n",
    "    - each tag from the html is a tag object in the soup\n",
    "    - the tag's maintain the hierarchy of the html page, so tag objects will contain _other_ tag objects that were under it in the html tree.\n",
    "\n",
    "- **Each tag has a:**\n",
    "    - `.name`\n",
    "    - `.contents`\n",
    "    - `.string`\n",
    "    \n",
    "- **A tag can be access by name (like a column in a dataframe using dot notation)**\n",
    "    - and then you can access the tags within the new tag-variable just like the first tag\n",
    "    ```python\n",
    "    # Access tags by name\n",
    "    meta = soup.meta\n",
    "    head = soup.head\n",
    "    body = soup.body\n",
    "    # and so on...\n",
    "    ```\n",
    "- [!] ***BUT this will only return the FIRST tag of that type, to access all occurances of a tag-type, we will need to navigate the html family tree***\n"
   ]
  },
  {
   "cell_type": "code",
   "execution_count": null,
   "metadata": {
    "ExecuteTime": {
     "end_time": "2020-05-22T22:43:51.600729Z",
     "start_time": "2020-05-22T22:43:51.584600Z"
    },
    "colab": {},
    "colab_type": "code",
    "id": "z9QqWYYlophQ"
   },
   "outputs": [],
   "source": [
    "help(soup)"
   ]
  },
  {
   "cell_type": "code",
   "execution_count": null,
   "metadata": {
    "ExecuteTime": {
     "end_time": "2020-05-22T22:16:05.578725Z",
     "start_time": "2020-05-22T22:16:04.376Z"
    },
    "colab": {},
    "colab_type": "code",
    "id": "fUBqsrfO0nNO"
   },
   "outputs": [],
   "source": [
    "# soup.body"
   ]
  },
  {
   "cell_type": "markdown",
   "metadata": {
    "colab_type": "text",
    "id": "gtZhVt8BFCXz"
   },
   "source": [
    "\n",
    "### Navigating the HTML Family Tree: Children, siblings, and parents"
   ]
  },
  {
   "cell_type": "markdown",
   "metadata": {
    "colab_type": "text",
    "id": "_ZCLylw9RkVL"
   },
   "source": [
    "\n",
    "\n",
    "- **Each tag is located within a tree-hierarchy of parents, siblings, and children**\n",
    "    - The family-relation is based on the identation level of the tags.\n",
    "\n",
    "- **Methods/attributes for the location/related tags of a tag**\n",
    "    - `.parent`, `.parents`\n",
    "    - `.child`, `.children`\n",
    "    - `.descendents`\n",
    "    - `.next_sibling`, `.previous_sibling`\n",
    "\n",
    "- *Note: a newline character `\\n` is also considered a tag/sibling/child*\n",
    "\n",
    "#### Accessing Child Tags\n",
    "\n",
    "- To get to later occurances of a tag type (i.e. the 2nd `<p>` tag in a tree), we need to navigate through the parent tag's `children`\n",
    "    - To access an iterable list of a tag's children use `.children`\n",
    "        - But, this only returns its *direct children*  (one indentation level down)     \n",
    "        \n",
    "    ```python\n",
    "    # print direct children of the body tag\n",
    "    body = soup.body\n",
    "    for child in body.children:\n",
    "        # print child if its not empty\n",
    "        print(child if child is not None else ' ', '\\n\\n')  # '\\n\\n' for visual separation\n",
    "    ```\n",
    "- To access *all children* use `.descendents`\n",
    "    - Returns all chidren and children of children\n",
    "    ```python\n",
    "    for child in body.descendents:\n",
    "        # print all children/grandchildren, etc\n",
    "        print(child if child is not None else ' ','\\n\\n')  \n",
    "    ```\n",
    "    \n",
    "#### Accessing Parent tags\n",
    "\n",
    "- To access the parent of a tag use `.parent`\n",
    "```python\n",
    "title = soup.head.title\n",
    "print(title.parent.name)\n",
    "```\n",
    "\n",
    "- To get a list of _all parents_ use `.parents`\n",
    "```python\n",
    "title = soup.head.title\n",
    "for parent in title.parents:\n",
    "    print(parent.name)\n",
    "```\n",
    "\n",
    "#### Accessing Sibling tags\n",
    "- siblings are tags in the same tree indentation level\n",
    "- `.next_sibling`, `.previous_sibling`\n"
   ]
  },
  {
   "cell_type": "markdown",
   "metadata": {
    "colab_type": "text",
    "id": "pTDsYxx6Gafk"
   },
   "source": [
    "## Searching Through Soup\n"
   ]
  },
  {
   "cell_type": "markdown",
   "metadata": {
    "colab_type": "text",
    "id": "Vfo7esGvpMm9"
   },
   "source": [
    "### Finding the target tags to isolate\n"
   ]
  },
  {
   "cell_type": "markdown",
   "metadata": {
    "colab_type": "text",
    "id": "YXktQsDvWW0A"
   },
   "source": [
    "\n",
    "\n",
    "Using example  from  [Wikipedia article](https://en.wikipedia.org/wiki/Stock_market)\n",
    "where we are trying to isolate the body of the article content.\n",
    "\n",
    "\n",
    "- **Examine the website using Chrome's inspect view.**\n",
    "\n",
    "    - Press F12 or right-click > inspect\n",
    "\n",
    "    - Use the mouse selector tool (top left button) to explore the web page content for your desired target\n",
    "        - the web page element will be highlighted on the page itself and its corresponding entry in the document tree.\n",
    "        - Note: click on the web page with the selector in order to keep it selected in the document tree\n",
    "\n",
    "    - Take note of any identifying attributes for the target tag (class, id, etc)\n",
    "<img src=\"https://drive.google.com/uc?export-download&id=1KifQ_ukuXFdnCh1Tz1rwzA_cWkB_45mf\" width=450>\n",
    "\n",
    "### Using BeautifulSoup's search functions\n",
    "Note: while the process below is a decent summary, there is more nuance to html/css tags than I personally have been able to digest. \n",
    "    - If something doesn't work as expected/explained, please verify in the documentation.\n",
    "        - [BeauitfulSoup documentation](https://www.crummy.com/software/BeautifulSoup/bs4/doc/#beautiful-soup-documentation)\n",
    "        - [docs for .find_all()](https://www.crummy.com/software/BeautifulSoup/bs4/doc/#find-all)\n",
    "    \n",
    "- **BeautifulSoup has methods for searching through descendent-tags**\n",
    "    - `.find`\n",
    "    - `.find_all`\n",
    "    \n",
    "- **Using `.find_all()`**\n",
    "    - Searches through all descendent tags and returns a result set (list of tag objects)\n",
    "```python\n",
    "# How to get results from .find_all()\n",
    "results = soup.find_all(name, attrs, recursive, string, limit,**kwargs) `\n",
    "```        \n",
    "    - `.find_all()` parameters:\n",
    "        - `name` _(type of tags to consider)_\n",
    "            - only consider tags with this name \n",
    "                - Ex: 'a',  'div', 'p' ,etc.\n",
    "        - `atrrs`_(css attributes that you are looking for in your target tag)_\n",
    "            - enter an attribute such as the class or id as a string\n",
    "\n",
    "                `attrs='mw-content-ltr'`\n",
    "            - if passing more than one attribute, must use a dictionary:\n",
    "\n",
    "            `attrs={'class':'mw-content-ltr', 'id':'mw-content-text'}`\n",
    "        - `recursive`_(Default=True)_\n",
    "            - search all children (`True`)\n",
    "            - search only  direct children(`False`)\n",
    "\n",
    "        - `string`\n",
    "            - search for text _inside_ of tags instead of the tags themselves\n",
    "            - can be regular expression\n",
    "        - `limit`\n",
    "            - How many results you want it to return\n",
    "\n",
    "\n",
    "    \n"
   ]
  },
  {
   "cell_type": "code",
   "execution_count": null,
   "metadata": {
    "ExecuteTime": {
     "end_time": "2020-05-22T22:44:20.195446Z",
     "start_time": "2020-05-22T22:44:20.190490Z"
    }
   },
   "outputs": [],
   "source": [
    "# fs.ihelp(get_response,False)"
   ]
  },
  {
   "cell_type": "code",
   "execution_count": 1,
   "metadata": {
    "ExecuteTime": {
     "end_time": "2020-05-22T22:47:19.904127Z",
     "start_time": "2020-05-22T22:47:19.901487Z"
    },
    "colab": {
     "base_uri": "https://localhost:8080/",
     "height": 462
    },
    "colab_type": "code",
    "id": "MAjyd1X72tKK",
    "outputId": "1205ff75-87c5-40c7-a957-b3c67d4c3471"
   },
   "outputs": [],
   "source": [
    "# url='https://www.ebay.com/'\n"
   ]
  },
  {
   "cell_type": "markdown",
   "metadata": {
    "colab_type": "text",
    "id": "NIIRHp-T5PvA"
   },
   "source": [
    "___\n",
    "# END OF STUDY GROUP MATERIAL"
   ]
  },
  {
   "cell_type": "markdown",
   "metadata": {
    "heading_collapsed": true
   },
   "source": [
    "# APPENDIX"
   ]
  },
  {
   "cell_type": "markdown",
   "metadata": {
    "hidden": true
   },
   "source": [
    "### Sidebar: Using RegularExpressions to sift through the content."
   ]
  },
  {
   "cell_type": "code",
   "execution_count": null,
   "metadata": {
    "ExecuteTime": {
     "end_time": "2020-05-22T22:16:05.586996Z",
     "start_time": "2020-05-22T22:16:04.397Z"
    },
    "hidden": true
   },
   "outputs": [],
   "source": [
    "import re\n",
    "regexp = re.compile(r\"(\\$\\d{1,})\\.(\\d{2})\")\n",
    "regexp\n"
   ]
  },
  {
   "cell_type": "code",
   "execution_count": null,
   "metadata": {
    "ExecuteTime": {
     "end_time": "2020-05-22T22:16:05.587985Z",
     "start_time": "2020-05-22T22:16:04.399Z"
    },
    "hidden": true
   },
   "outputs": [],
   "source": [
    "found_text = regexp.findall(all_text)\n",
    "found_text"
   ]
  },
  {
   "cell_type": "code",
   "execution_count": null,
   "metadata": {
    "hidden": true
   },
   "outputs": [],
   "source": []
  },
  {
   "cell_type": "code",
   "execution_count": null,
   "metadata": {
    "ExecuteTime": {
     "end_time": "2020-05-22T22:16:05.588982Z",
     "start_time": "2020-05-22T22:16:04.403Z"
    },
    "colab": {
     "base_uri": "https://localhost:8080/",
     "height": 54
    },
    "colab_type": "code",
    "hidden": true,
    "id": "NJkRhE6f3Frp",
    "outputId": "88b55477-5142-49c9-8e62-f3b727d697ee"
   },
   "outputs": [],
   "source": [
    "tag0=tags[0]\n",
    "target = tag0.contents\n",
    "target = ' '.join(target)\n",
    "target"
   ]
  },
  {
   "cell_type": "markdown",
   "metadata": {
    "colab_type": "text",
    "hidden": true,
    "id": "3mnqtIzLFmXR"
   },
   "source": [
    "\n",
    "- Best Hands On Tester for Regex:\n",
    "    - https://regex101.com/\n",
    "    - Select \"Python\" on the left side of the page.\n",
    "    - Paste the text you want to sift through in the large center window.\n",
    "    - Type your expression in the top center window.\n",
    "    - It will highlight the text that matches your regular expression in the big center panel. \n",
    "\n",
    "- Cheatsheet for Regex Symbols:\n",
    "    - https://www.debuggex.com/cheatsheet/regex/python"
   ]
  },
  {
   "cell_type": "code",
   "execution_count": null,
   "metadata": {
    "ExecuteTime": {
     "end_time": "2020-05-22T22:16:05.589866Z",
     "start_time": "2020-05-22T22:16:04.406Z"
    },
    "colab": {
     "base_uri": "https://localhost:8080/",
     "height": 34
    },
    "colab_type": "code",
    "hidden": true,
    "id": "ARB9GOg-3Fps",
    "outputId": "47933797-b731-4012-b612-959341806d10"
   },
   "outputs": [],
   "source": [
    "import re\n",
    "price =  re.compile(\"(\\$\\d\\,\\d*\\.\\d{2})\")\n",
    "price.findall(target)"
   ]
  },
  {
   "cell_type": "markdown",
   "metadata": {
    "heading_collapsed": true,
    "hidden": true
   },
   "source": [
    "### Cut Cells Re: Text Formatting"
   ]
  },
  {
   "cell_type": "code",
   "execution_count": null,
   "metadata": {
    "ExecuteTime": {
     "end_time": "2020-05-22T22:16:05.572811Z",
     "start_time": "2020-05-22T22:16:04.359Z"
    },
    "colab": {},
    "colab_type": "code",
    "hidden": true,
    "id": "w5Rn-Y0N0q3B"
   },
   "outputs": [],
   "source": [
    "# import requests\n",
    "# url = 'https://en.wikipedia.org/wiki/Stock_market'\n",
    "\n",
    "# response = requests.get(url, timeout=3)\n",
    "# print('Status code: ',response.status_code)\n",
    "# if response.status_code==200:\n",
    "#     print('Connection successfull.\\n\\n')\n",
    "# else: \n",
    "#     print('Error. Check status code table.\\n\\n')    \n",
    "\n",
    "    \n",
    "# # Print out the contents of a request's response\n",
    "# print(f\"{'---'*20}\\n\\tContents of Response.items():\\n{'---'*20}\")\n",
    "\n",
    "# for k,v in response.headers.items():\n",
    "#     print(f\"{k:{25}}: {v:{40}}\") # Note: add :{number} inside of a    "
   ]
  },
  {
   "cell_type": "code",
   "execution_count": null,
   "metadata": {
    "ExecuteTime": {
     "end_time": "2020-05-22T22:16:05.573799Z",
     "start_time": "2020-05-22T22:16:04.362Z"
    },
    "colab": {},
    "colab_type": "code",
    "hidden": true,
    "id": "fbpLnJrzDetE"
   },
   "outputs": [],
   "source": [
    "# for k,v in response.headers.items():\n",
    "#     print(f\"{k:{30}}:{v:{20}}\") # Note: add :{number} inside of a  "
   ]
  },
  {
   "cell_type": "markdown",
   "metadata": {
    "colab_type": "text",
    "hidden": true,
    "id": "KjXVI4Qpw2_n"
   },
   "source": [
    "#### Sidebar Notes - Explaining The Above Text Printing/Formatting:**\n"
   ]
  },
  {
   "cell_type": "markdown",
   "metadata": {
    "colab_type": "text",
    "hidden": true,
    "id": "ZkwN3WP80tiS"
   },
   "source": [
    "\n",
    "- **You can repeat strings by using multiplication**\n",
    "    - `'---'*20` will repeat the dashed lines 20 times\n",
    "\n",
    "- **You can determine how much space is alloted for a variable when using f-strings**\n",
    "    - Add a `:{##}` after the variable to specify the allocated width\n",
    "    - Add a `>` before the `{##}` to force alignment \n",
    "    - Add another symbol (like '.'' or '-') before `>` to add guiding-line/placeholder (like in a table of contents)\n",
    "\n",
    "```python\n",
    "print(f\"Status code: {response.status_code}\")\n",
    "print(f\"Status code: {response.status_code:>{20}}\")\n",
    "print(f\"Status code: {response.status_code:->{20}}\")\n",
    "```    \n",
    "```\n",
    "# Returns:\n",
    "Status code: 200\n",
    "Status code:                  200\n",
    "Status code: -----------------200\n",
    "```"
   ]
  },
  {
   "cell_type": "code",
   "execution_count": null,
   "metadata": {
    "hidden": true
   },
   "outputs": [],
   "source": []
  },
  {
   "cell_type": "markdown",
   "metadata": {
    "heading_collapsed": true,
    "hidden": true
   },
   "source": [
    "### 📓 ~~Part 3: Web Scraping Lab~~"
   ]
  },
  {
   "cell_type": "markdown",
   "metadata": {
    "hidden": true
   },
   "source": [
    "- [Web Scraping Learn Lesson](https://learn.co/tracks/data-science-career-v2/module-2-data-engineering-for-data-science/section-13-html-css-and-web-scraping/web-scraping-in-practice)\n",
    "\n",
    "- [Learn Lab](https://learn.co/tracks/data-science-career-v2/module-2-data-engineering-for-data-science/section-13-html-css-and-web-scraping/web-scraping-lab)\n",
    "    - [GitHub solution](https://github.com/jirvingphd/dsc-web-scraping-lab-online-ds-ft-100719/tree/solution)\n",
    "    \n",
    "- Jump to other notebook"
   ]
  },
  {
   "cell_type": "code",
   "execution_count": null,
   "metadata": {
    "hidden": true
   },
   "outputs": [],
   "source": []
  },
  {
   "cell_type": "markdown",
   "metadata": {
    "colab_type": "text",
    "heading_collapsed": true,
    "hidden": true,
    "id": "zr65hBzg5Phe"
   },
   "source": [
    "### BONUS FUNCTIONS:\n",
    "- didn't get to in class"
   ]
  },
  {
   "cell_type": "code",
   "execution_count": null,
   "metadata": {
    "ExecuteTime": {
     "end_time": "2020-05-22T22:16:05.590997Z",
     "start_time": "2020-05-22T22:16:04.412Z"
    },
    "colab": {},
    "colab_type": "code",
    "hidden": true,
    "id": "4RM3tQkqyuoe"
   },
   "outputs": [],
   "source": [
    "def get_all_links(soup):#,attr_kwds=None):\n",
    "    \"\"\"Finds all links inside of soup that have the attributes(attr_kwds),which will be used in soup.findAll(attrs=attr_kwds).\n",
    "    Returns a list of links.\n",
    "    tag_type = 'a' or 'href'\"\"\"\n",
    "    all_a_tags = soup.findAll('a',attrs=kwds) \n",
    "    link_list = []\n",
    "    for link in all_a_tags:\n",
    "        test_link = link.get('href')#,attr=kwds)\n",
    "#         test_link = link.get('href',attrs=kwds)\n",
    "        link_list.append(test_link)\n",
    "    return link_list"
   ]
  },
  {
   "cell_type": "code",
   "execution_count": null,
   "metadata": {
    "ExecuteTime": {
     "end_time": "2020-05-22T22:16:05.592035Z",
     "start_time": "2020-05-22T22:16:04.414Z"
    },
    "colab": {},
    "colab_type": "code",
    "hidden": true,
    "id": "UNjG2XYFyPIH"
   },
   "outputs": [],
   "source": [
    "def make_absolute_links(source_url, rel_link_list):\n",
    "    \"\"\"Accepts the source_url for the source page of the rel_link_list and uses urljoin to return a list of valid absolute links.\"\"\"\n",
    "    \n",
    "    from urllib.parse import urlparse, urljoin\n",
    "\n",
    "    absolute_links=[]\n",
    "\n",
    "    # Create a for loop to loop through links and make absolute html paths\n",
    "    for link in rel_link_list:\n",
    "\n",
    "        # Get base url using a url pasers and the story_url at the beginning of the nb\n",
    "        abs_link = urljoin(source_url,link)    \n",
    "\n",
    "        #concatenate and append to a list \n",
    "        absolute_links.append(abs_link)\n",
    "    \n",
    "    return absolute_links"
   ]
  },
  {
   "cell_type": "markdown",
   "metadata": {
    "colab_type": "text",
    "hidden": true,
    "id": "eVfjE8RhHZq-"
   },
   "source": [
    "#### Ex Functions\n"
   ]
  },
  {
   "cell_type": "markdown",
   "metadata": {
    "colab_type": "text",
    "hidden": true,
    "id": "9xBlb5NuyeAC"
   },
   "source": [
    "- `soup = cook_soup_from_url(url)`\n",
    "    - make a beautiful soup from url\n",
    "-`soup_links = get_all_links(soup)`\n",
    "    - get all links from soup and return as a list.\n",
    "    \n",
    "-  `absolute_links = make_absolute_links(url, soup_links) `\n",
    "    - use If `soup_links` are relative links that do not include the website domain and start with '../' instead of 'https://www... ').\n",
    "    - then can use the `absolute_links` to make new soups to continue searching for your desired content.\n"
   ]
  },
  {
   "cell_type": "code",
   "execution_count": null,
   "metadata": {
    "ExecuteTime": {
     "end_time": "2020-05-22T22:16:05.593049Z",
     "start_time": "2020-05-22T22:16:04.418Z"
    },
    "colab": {},
    "colab_type": "code",
    "hidden": true,
    "id": "UwR64_fYv3Up"
   },
   "outputs": [],
   "source": [
    "def cook_soup_from_url(url, parser='lxml',sleep_time=0):\n",
    "    \"\"\"Uses requests to retreive webpage and returns a BeautifulSoup made using lxml parser.\"\"\"\n",
    "    import requests\n",
    "    from time import sleep\n",
    "    from bs4 import BeautifulSoup\n",
    "    \n",
    "    sleep(sleep_time)\n",
    "    response = requests.get(url)\n",
    "    \n",
    "    # check status of request\n",
    "    if response.status_code != 200:\n",
    "        raise Exception(f'Error: Status_code !=200.\\n status_code={response.status_code}')\n",
    "                        \n",
    "    c = response.content\n",
    "    # feed content into a beautiful soup using lxml\n",
    "    soup = BeautifulSoup(c,'lxml')\n",
    "    return soup"
   ]
  },
  {
   "cell_type": "code",
   "execution_count": null,
   "metadata": {
    "ExecuteTime": {
     "end_time": "2020-05-22T22:16:05.594104Z",
     "start_time": "2020-05-22T22:16:04.421Z"
    },
    "colab": {},
    "colab_type": "code",
    "hidden": true,
    "id": "Zo1sJyNE6ZCb"
   },
   "outputs": [],
   "source": [
    "def cook_batch_of_soups(link_list, sleep_time=1): #,user_fun = extract_target_text):\n",
    "    \"\"\"Accepts a list of links to extract and save in a list of dictionaries of soups\n",
    "    with their relative url path as their key.\n",
    "    Set user_fun to None to just extract full soups without user_extract\"\"\"\n",
    "    from time import sleep\n",
    "    from urllib.parse import urlparse, urljoin\n",
    "\n",
    "    batch_of_soups = []\n",
    "    \n",
    "    for link in link_list:\n",
    "        soup_dict = {}\n",
    "        \n",
    "        \n",
    "        # turn the url path into the dictionary key/title\n",
    "        url_dict_key_path = urlparse(link).path\n",
    "        url_dict_key = url_dict_key_path.split('/')[-1]\n",
    "        \n",
    "        soup_dict['_url'] = link\n",
    "        soup_dict['path'] = url_dict_key\n",
    "\n",
    "        # make a soup from the current link\n",
    "        page_soup = cook_soup_from_url(link, sleep_time=sleep_time)\n",
    "        soup_dict['soup'] = page_soup\n",
    "\n",
    "        \n",
    "#         if user_fun!=None:\n",
    "#             ## ADDING USER-SPECIFIED EXTRACTION FUNCTION       \n",
    "#             user_output = user_fun(page_soup) #can add inputs to function\n",
    "#             soup_dict['user_extract'] = user_output\n",
    "        \n",
    "        # Add current page's soup to batch_of_soups list\n",
    "        batch_of_soups.append(soup_dict)\n",
    "        \n",
    "    return batch_of_soups\n",
    "\n",
    "\n",
    "def extract_target_text(soup_or_tag,tag_name='p', attrs_dict=None, join_text =True, save_files=False):\n",
    "    \"\"\"User-specified function to add extraction of specific content during 'cook batch of soups'\"\"\"\n",
    "    \n",
    "    if attrs_dict==None:\n",
    "        found_tags = soup_or_tag.find_all(name=tag_name)\n",
    "    else:\n",
    "        found_tags = soup_or_tag.find_all(name=tag_name,attrs=attrs_dict)\n",
    "    \n",
    "    \n",
    "    # if extracting from multiple tags\n",
    "    output=[]\n",
    "    output = [tag.text for tag in found_tags if tag.text is not None]\n",
    "    \n",
    "    if join_text == True:\n",
    "        output = ' '.join(output)\n",
    "\n",
    "    ## ADDING SAVING EACH \n",
    "    if save_files==True:\n",
    "        text = output #soup.body.string\n",
    "        filename =f\"drive/My Drive/text_extract_{url_dict_key}.txt\"\n",
    "        soup_dict['filename'] = filename\n",
    "        with open(filename,'w+') as f:\n",
    "            f.write(text)\n",
    "        print(f'File  successfully saved as {filename}')\n",
    "\n",
    "    return  output\n",
    "\n"
   ]
  },
  {
   "cell_type": "code",
   "execution_count": null,
   "metadata": {
    "ExecuteTime": {
     "end_time": "2020-05-22T22:16:05.595216Z",
     "start_time": "2020-05-22T22:16:04.423Z"
    },
    "colab": {},
    "colab_type": "code",
    "hidden": true,
    "id": "0ODwEjKH92T5"
   },
   "outputs": [],
   "source": [
    "def pickled_soup(soups, save_location='./', pickle_name='exported_soups.pckl'):\n",
    "    import pickle\n",
    "    import sys\n",
    "    \n",
    "    filepath = save_location+pickle_name\n",
    "    \n",
    "    with open(filepath,'wb') as f:\n",
    "        pickle.dump(soups, f)\n",
    "        \n",
    "    return print(f'Soup successfully pickled. Stored as {filepath}.')\n",
    "\n",
    "def load_leftovers(filepath):\n",
    "    import pickle\n",
    "    \n",
    "    print(f'Opening leftovers: {filepath}')\n",
    "    \n",
    "    with open(filepath, 'rb') as f:\n",
    "        leftover_soup = pickle.load(f)\n",
    "        \n",
    "    return leftover_soup\n",
    "        "
   ]
  },
  {
   "cell_type": "markdown",
   "metadata": {
    "colab_type": "text",
    "hidden": true,
    "id": "Ng-HN_rRymjI"
   },
   "source": [
    "#### Walkthrough - using James' functions"
   ]
  },
  {
   "cell_type": "code",
   "execution_count": null,
   "metadata": {
    "ExecuteTime": {
     "end_time": "2020-05-22T22:16:05.596301Z",
     "start_time": "2020-05-22T22:16:04.426Z"
    },
    "colab": {},
    "colab_type": "code",
    "hidden": true,
    "id": "1Pg3VWWmypij"
   },
   "outputs": [],
   "source": [
    "import requests\n",
    "from bs4 import BeautifulSoup\n",
    "from urllib.parse import urlparse, urljoin\n",
    "\n",
    "from fake_useragent import UserAgent\n",
    "url = 'https://en.wikipedia.org/wiki/Stock_market'\n",
    "soup = cook_soup_from_url(url,sleep_time=1)\n",
    "\n",
    "\n",
    "## Get all links that match are interal wikipedia redirects [yes?]\n",
    "kwds = {'class':'mw-redirect'}\n",
    "links = get_all_links(soup)#,kwds)\n",
    "\n",
    "\n",
    "# preview first 5 links\n",
    "print(links[:5])\n",
    "\n",
    "# Turn relative links into absolute links\n",
    "abs_links = make_absolute_links(url,links)\n",
    "print(abs_links[:5])"
   ]
  },
  {
   "cell_type": "code",
   "execution_count": null,
   "metadata": {
    "ExecuteTime": {
     "end_time": "2020-05-22T22:16:05.597455Z",
     "start_time": "2020-05-22T22:16:04.429Z"
    },
    "colab": {},
    "colab_type": "code",
    "hidden": true,
    "id": "6tCwXLiN7UCk"
   },
   "outputs": [],
   "source": [
    "# Selecting only the first 5 links to test\n",
    "abs_links_for_soups = abs_links[:5]\n",
    "\n",
    "\n",
    "# Cooking a batch of soups from those chosen links\n",
    "batch_of_soups = cook_batch_of_soups(abs_links_for_soups, sleep_time=2)\n",
    "\n",
    "# batch_of_soups is a list as long as the input link_list\n",
    "print(f'# of input links: == # of soups in batch:\\n{len(abs_links_for_soups)} == {len(batch_of_soups)}\\n')\n",
    "\n",
    "# batch_of_soups is a list of soup-dictionaries\n",
    "soup_dict = batch_of_soups[0]\n",
    "print('Each soup_dict has ',soup_dict.keys())\n",
    "\n",
    "# the page's soup is stored under soup_dict['soup']\n",
    "soup_from_soup_dict = soup_dict['soup']\n",
    "type(soup_from_soup_dict)"
   ]
  },
  {
   "cell_type": "markdown",
   "metadata": {
    "colab_type": "text",
    "hidden": true,
    "id": "hFVnj20YmQK2"
   },
   "source": [
    "#### Notes on extracting content.\n",
    "- Edit the `extract_target_text function` in the James' functions settings or uncomment and use the `extract_target_text_custom function` below"
   ]
  },
  {
   "cell_type": "code",
   "execution_count": null,
   "metadata": {
    "ExecuteTime": {
     "end_time": "2020-05-22T22:16:05.598404Z",
     "start_time": "2020-05-22T22:16:04.431Z"
    },
    "colab": {},
    "colab_type": "code",
    "hidden": true,
    "id": "QwU8aPHJhAVm"
   },
   "outputs": [],
   "source": [
    "## ADDING extract_target_text to precisely target text\n",
    "# def extract_target_text_custom(soup_or_tag,tag_name='p', attrs_dict=None, join_text =True, save_files=False):\n",
    "#     \"\"\"User-specified function to add extraction of specific content during 'cook batch of soups'\"\"\"\n",
    "    \n",
    "#     if attrs_dict==None:\n",
    "#         found_tags = soup_or_tag.find_all(name=tag_name)\n",
    "#     else:\n",
    "#         found_tags = soup_or_tag.find_all(name=tag_name,attrs=attrs_dict)\n",
    "    \n",
    "    \n",
    "#     # if extracting from multiple tags\n",
    "#     output=[]\n",
    "#     output = [tag.text for tag in found_tags if tag.text is not None]\n",
    "    \n",
    "#     if join_text == True:\n",
    "#         output = ' '.join(output)\n",
    "\n",
    "#     ## ADDING SAVING EACH \n",
    "#     if save_files==True:\n",
    "#         text = output #soup.body.string\n",
    "#         filename =f\"drive/My Drive/text_extract_{url_dict_key}.txt\"\n",
    "#         soup_dict['filename'] = filename\n",
    "#         with open(filename,'w+') as f:\n",
    "#             f.write(text)\n",
    "#         print(f'File  successfully saved as {filename}')\n",
    "\n",
    "#     return  output\n",
    "\n",
    "# ####################\n",
    "\n",
    "## RUN A LOOP TO ADD EXTRACTED TEXT TO EACH SOUP IN THE BATCH\n",
    "for i, soup_dict in enumerate(batch_of_soups):\n",
    "    \n",
    "    # Get the soup from the dict\n",
    "    soup = soup_dict['soup']\n",
    "    \n",
    "    # Extract text \n",
    "    extracted_text = extract_target_text(soup)\n",
    "    \n",
    "    # Add key:value for results of extract\n",
    "    soup_dict['extracted'] = extracted_text\n",
    "    \n",
    "    # Replace the old soup_dict with the new one with 'extracted'\n",
    "    batch_of_soups[i] = soup_dict\n",
    "    \n",
    "example_extracted_text=batch_of_soups[0]['extracted']\n",
    "print(example_extracted_text[:1000])"
   ]
  },
  {
   "cell_type": "code",
   "execution_count": null,
   "metadata": {
    "ExecuteTime": {
     "end_time": "2020-05-22T22:16:05.599650Z",
     "start_time": "2020-05-22T22:16:04.433Z"
    },
    "colab": {},
    "colab_type": "code",
    "hidden": true,
    "id": "eUJ50zdSvjyL"
   },
   "outputs": [],
   "source": [
    "# import requests\n",
    "# from bs4 import BeautifulSoup\n",
    "\n",
    "# from fake_useragent import UserAgent\n",
    "# ua = UserAgent()\n",
    "\n",
    "# header = {'user-agent':ua.chrome}\n",
    "# print('Header:\\n',header)\n",
    "\n",
    "# url ='https://en.wikipedia.org/wiki/Stock_market'\n",
    "# response = requests.get(url, timeout=3, headers=header)\n",
    "\n",
    "# print('Status code: ',response.status_code)"
   ]
  },
  {
   "cell_type": "code",
   "execution_count": null,
   "metadata": {
    "colab": {},
    "colab_type": "code",
    "hidden": true,
    "id": "cFlH7PNCFX58"
   },
   "outputs": [],
   "source": []
  }
 ],
 "metadata": {
  "colab": {
   "collapsed_sections": [
    "KjXVI4Qpw2_n",
    "eVfjE8RhHZq-"
   ],
   "name": "Web Scraping 101.ipynb",
   "provenance": [],
   "toc_visible": true
  },
  "kernelspec": {
   "display_name": "Python 3",
   "language": "python",
   "name": "python3"
  },
  "language_info": {
   "codemirror_mode": {
    "name": "ipython",
    "version": 3
   },
   "file_extension": ".py",
   "mimetype": "text/x-python",
   "name": "python",
   "nbconvert_exporter": "python",
   "pygments_lexer": "ipython3",
   "version": "3.6.9"
  },
  "toc": {
   "base_numbering": 1,
   "nav_menu": {},
   "number_sections": false,
   "sideBar": true,
   "skip_h1_title": false,
   "title_cell": "Table of Contents",
   "title_sidebar": "Contents",
   "toc_cell": false,
   "toc_position": {
    "height": "calc(100% - 180px)",
    "left": "10px",
    "top": "150px",
    "width": "256px"
   },
   "toc_section_display": true,
   "toc_window_display": true
  }
 },
 "nbformat": 4,
 "nbformat_minor": 1
}
