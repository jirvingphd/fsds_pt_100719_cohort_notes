{
 "cells": [
  {
   "cell_type": "markdown",
   "metadata": {},
   "source": [
    "# SARIMA Models - Lab\n",
    "\n",
    "## Introduction\n",
    "\n",
    "In this lesson, we'll reiterate what you learned previously, and talk about **integrated** models (hence ARIMA, which means **integrated** ARMA), and extend to models that can cope with seasonality of time series.\n",
    "\n",
    "## Objectives\n",
    "\n",
    "In this lab you will: \n",
    "\n",
    "- Preprocess a dataset to meet ARIMA based forecasting assumptions \n",
    "- Identify best model parameters using grid search for p, d, q and seasonal p, d, q parameters \n",
    "- Describe the components of an ARIMA model \n",
    "- Create visualizations of future values as well as confidence intervals for the future predictions \n",
    "- Evaluate an ARIMA model with validation testing \n",
    "- Explain how validation testing is different with time series data than normal data \n",
    "\n",
    "\n",
    "## ARIMA\n",
    "\n",
    "Time series provide the opportunity to predict/forecast future values based on previous values. Such analyses can be used to forecast trends in economics, weather, and capacity planning etc. The specific properties of time series data mean that specialized statistical methods are usually required.\n",
    "\n",
    "So far, we have seen different techniques to make time series stationary, as well as white noise, moving average, AR, MA and ARMA models. Now recall that your data needs to be detrended (or made **stationary**) before you can go along and use ARMA models. This is because it is easier to add trends and seasonality back in after you modeled your data. Now there are several issues with ARMA:\n",
    "\n",
    "- ARMA models assume that the detrending already happened\n",
    "- ARMA neglects that seasonality can happen\n",
    "\n",
    "Let's summarize what we can observe when having time series in three situations:\n",
    "\n",
    "1. A strictly stationary series with no dependence among the values. This is the easy case wherein we can model the residuals as white noise. But this is very rare.\n",
    "\n",
    "2. A non-stationary series with significant dependence among values, but no seasonality. In this case we can use ARMA models after we have detrended, or we can use an **integrated** ARMA model that detrends for us.\n",
    "\n",
    "3. A non-stationary series with significant dependence among values, **and** seasonality. In this case we can use a seasonal arima or SARIMA model.\n",
    "\n",
    "In this tutorial, we aim to produce reliable forecasts of a given time series by applying one of the most commonly used method for time series forecasting: ARIMA. After that we'll talk about seasonality and how to cope with it. \n",
    "\n",
    "One of the methods available in Python to model and predict future points of a time series is known as SARIMAX, which stands for **Seasonal AutoRegressive Integrated Moving Averages with eXogenous regressors**. Here, we will primarily focus on the **ARIMA** component, which is used to fit time series data to better understand and forecast future points in the time series.\n",
    "\n",
    "## Dataset\n",
    "\n",
    "For this lab you will use the dataset that we have seen before - \"Atmospheric CO2 from Continuous Air Samples at Mauna Loa Observatory, Hawaii, U.S.A.,\" which collected CO2 samples from March 1958 to December 2001. Let's bring in this data and plot as demonstrated earlier. You will need to perform following tasks: \n",
    "\n",
    "- Import necessary libraries\n",
    "- Import the CO2 dataset from `statsmodels` \n",
    "- Ensure that the type of the column representing the dates is correct and set it as the index of the DataFrame \n",
    "- Resample the data as monthly groups and take monthly average\n",
    "- Fill in the missing values using the `.fillna()` and `.bfill()` methods \n",
    "- Inspect the first few rows of the data \n",
    "- Plot the time series of data "
   ]
  },
  {
   "cell_type": "code",
   "execution_count": 2,
   "metadata": {},
   "outputs": [],
   "source": [
    "# Import necessary libraries\n",
    "import warnings\n",
    "warnings.filterwarnings('ignore')\n",
    "import itertools\n",
    "import pandas as pd\n",
    "import numpy as np\n",
    "import statsmodels.api as sm\n",
    "import matplotlib.pyplot as plt\n",
    "from matplotlib.pylab import rcParams\n",
    "plt.style.use('ggplot')"
   ]
  },
  {
   "cell_type": "code",
   "execution_count": 3,
   "metadata": {},
   "outputs": [
    {
     "data": {
      "text/html": [
       "<div>\n",
       "<style scoped>\n",
       "    .dataframe tbody tr th:only-of-type {\n",
       "        vertical-align: middle;\n",
       "    }\n",
       "\n",
       "    .dataframe tbody tr th {\n",
       "        vertical-align: top;\n",
       "    }\n",
       "\n",
       "    .dataframe thead th {\n",
       "        text-align: right;\n",
       "    }\n",
       "</style>\n",
       "<table border=\"1\" class=\"dataframe\">\n",
       "  <thead>\n",
       "    <tr style=\"text-align: right;\">\n",
       "      <th></th>\n",
       "      <th>index</th>\n",
       "      <th>co2</th>\n",
       "    </tr>\n",
       "  </thead>\n",
       "  <tbody>\n",
       "    <tr>\n",
       "      <td>0</td>\n",
       "      <td>1958-03-29</td>\n",
       "      <td>316.1</td>\n",
       "    </tr>\n",
       "    <tr>\n",
       "      <td>1</td>\n",
       "      <td>1958-04-05</td>\n",
       "      <td>317.3</td>\n",
       "    </tr>\n",
       "    <tr>\n",
       "      <td>2</td>\n",
       "      <td>1958-04-12</td>\n",
       "      <td>317.6</td>\n",
       "    </tr>\n",
       "    <tr>\n",
       "      <td>3</td>\n",
       "      <td>1958-04-19</td>\n",
       "      <td>317.5</td>\n",
       "    </tr>\n",
       "    <tr>\n",
       "      <td>4</td>\n",
       "      <td>1958-04-26</td>\n",
       "      <td>316.4</td>\n",
       "    </tr>\n",
       "    <tr>\n",
       "      <td>...</td>\n",
       "      <td>...</td>\n",
       "      <td>...</td>\n",
       "    </tr>\n",
       "    <tr>\n",
       "      <td>2279</td>\n",
       "      <td>2001-12-01</td>\n",
       "      <td>370.3</td>\n",
       "    </tr>\n",
       "    <tr>\n",
       "      <td>2280</td>\n",
       "      <td>2001-12-08</td>\n",
       "      <td>370.8</td>\n",
       "    </tr>\n",
       "    <tr>\n",
       "      <td>2281</td>\n",
       "      <td>2001-12-15</td>\n",
       "      <td>371.2</td>\n",
       "    </tr>\n",
       "    <tr>\n",
       "      <td>2282</td>\n",
       "      <td>2001-12-22</td>\n",
       "      <td>371.3</td>\n",
       "    </tr>\n",
       "    <tr>\n",
       "      <td>2283</td>\n",
       "      <td>2001-12-29</td>\n",
       "      <td>371.5</td>\n",
       "    </tr>\n",
       "  </tbody>\n",
       "</table>\n",
       "<p>2284 rows × 2 columns</p>\n",
       "</div>"
      ],
      "text/plain": [
       "          index    co2\n",
       "0    1958-03-29  316.1\n",
       "1    1958-04-05  317.3\n",
       "2    1958-04-12  317.6\n",
       "3    1958-04-19  317.5\n",
       "4    1958-04-26  316.4\n",
       "...         ...    ...\n",
       "2279 2001-12-01  370.3\n",
       "2280 2001-12-08  370.8\n",
       "2281 2001-12-15  371.2\n",
       "2282 2001-12-22  371.3\n",
       "2283 2001-12-29  371.5\n",
       "\n",
       "[2284 rows x 2 columns]"
      ]
     },
     "execution_count": 3,
     "metadata": {},
     "output_type": "execute_result"
    }
   ],
   "source": [
    "dataset  = sm.datasets.co2.load().data\n",
    "df = pd.DataFrame(dataset)\n",
    "df"
   ]
  },
  {
   "cell_type": "code",
   "execution_count": 4,
   "metadata": {},
   "outputs": [
    {
     "data": {
      "text/plain": [
       "DatetimeIndex(['1958-03-29', '1958-04-05', '1958-04-12', '1958-04-19',\n",
       "               '1958-04-26', '1958-05-03', '1958-05-10', '1958-05-17',\n",
       "               '1958-05-24', '1958-05-31',\n",
       "               ...\n",
       "               '2001-10-27', '2001-11-03', '2001-11-10', '2001-11-17',\n",
       "               '2001-11-24', '2001-12-01', '2001-12-08', '2001-12-15',\n",
       "               '2001-12-22', '2001-12-29'],\n",
       "              dtype='datetime64[ns]', name='date', length=2284, freq=None)"
      ]
     },
     "execution_count": 4,
     "metadata": {},
     "output_type": "execute_result"
    }
   ],
   "source": [
    "# Update to datetime type\n",
    "\n",
    "df['date'] = pd.to_datetime(df['index'])\n",
    "df.set_index('date',inplace=True)\n",
    "df.index"
   ]
  },
  {
   "cell_type": "code",
   "execution_count": 5,
   "metadata": {},
   "outputs": [
    {
     "name": "stdout",
     "output_type": "stream",
     "text": [
      "fsds_1007219  v0.7.21 loaded.  Read the docs: https://fsds.readthedocs.io/en/latest/ \n"
     ]
    },
    {
     "data": {
      "text/html": [
       "<style  type=\"text/css\" >\n",
       "</style><table id=\"T_0a500382_94ae_11ea_bf7e_acde48001122\" ><caption>Loaded Packages and Handles</caption><thead>    <tr>        <th class=\"col_heading level0 col0\" >Handle</th>        <th class=\"col_heading level0 col1\" >Package</th>        <th class=\"col_heading level0 col2\" >Description</th>    </tr></thead><tbody>\n",
       "                <tr>\n",
       "                                <td id=\"T_0a500382_94ae_11ea_bf7e_acde48001122row0_col0\" class=\"data row0 col0\" >dp</td>\n",
       "                        <td id=\"T_0a500382_94ae_11ea_bf7e_acde48001122row0_col1\" class=\"data row0 col1\" >IPython.display</td>\n",
       "                        <td id=\"T_0a500382_94ae_11ea_bf7e_acde48001122row0_col2\" class=\"data row0 col2\" >Display modules with helpful display and clearing commands.</td>\n",
       "            </tr>\n",
       "            <tr>\n",
       "                                <td id=\"T_0a500382_94ae_11ea_bf7e_acde48001122row1_col0\" class=\"data row1 col0\" >fs</td>\n",
       "                        <td id=\"T_0a500382_94ae_11ea_bf7e_acde48001122row1_col1\" class=\"data row1 col1\" >fsds_100719</td>\n",
       "                        <td id=\"T_0a500382_94ae_11ea_bf7e_acde48001122row1_col2\" class=\"data row1 col2\" >Custom data science bootcamp student package</td>\n",
       "            </tr>\n",
       "            <tr>\n",
       "                                <td id=\"T_0a500382_94ae_11ea_bf7e_acde48001122row2_col0\" class=\"data row2 col0\" >mpl</td>\n",
       "                        <td id=\"T_0a500382_94ae_11ea_bf7e_acde48001122row2_col1\" class=\"data row2 col1\" >matplotlib</td>\n",
       "                        <td id=\"T_0a500382_94ae_11ea_bf7e_acde48001122row2_col2\" class=\"data row2 col2\" >Matplotlib's base OOP module with formatting artists</td>\n",
       "            </tr>\n",
       "            <tr>\n",
       "                                <td id=\"T_0a500382_94ae_11ea_bf7e_acde48001122row3_col0\" class=\"data row3 col0\" >plt</td>\n",
       "                        <td id=\"T_0a500382_94ae_11ea_bf7e_acde48001122row3_col1\" class=\"data row3 col1\" >matplotlib.pyplot</td>\n",
       "                        <td id=\"T_0a500382_94ae_11ea_bf7e_acde48001122row3_col2\" class=\"data row3 col2\" >Matplotlib's matlab-like plotting module</td>\n",
       "            </tr>\n",
       "            <tr>\n",
       "                                <td id=\"T_0a500382_94ae_11ea_bf7e_acde48001122row4_col0\" class=\"data row4 col0\" >np</td>\n",
       "                        <td id=\"T_0a500382_94ae_11ea_bf7e_acde48001122row4_col1\" class=\"data row4 col1\" >numpy</td>\n",
       "                        <td id=\"T_0a500382_94ae_11ea_bf7e_acde48001122row4_col2\" class=\"data row4 col2\" >scientific computing with Python</td>\n",
       "            </tr>\n",
       "            <tr>\n",
       "                                <td id=\"T_0a500382_94ae_11ea_bf7e_acde48001122row5_col0\" class=\"data row5 col0\" >pd</td>\n",
       "                        <td id=\"T_0a500382_94ae_11ea_bf7e_acde48001122row5_col1\" class=\"data row5 col1\" >pandas</td>\n",
       "                        <td id=\"T_0a500382_94ae_11ea_bf7e_acde48001122row5_col2\" class=\"data row5 col2\" >High performance data structures and tools</td>\n",
       "            </tr>\n",
       "            <tr>\n",
       "                                <td id=\"T_0a500382_94ae_11ea_bf7e_acde48001122row6_col0\" class=\"data row6 col0\" >sns</td>\n",
       "                        <td id=\"T_0a500382_94ae_11ea_bf7e_acde48001122row6_col1\" class=\"data row6 col1\" >seaborn</td>\n",
       "                        <td id=\"T_0a500382_94ae_11ea_bf7e_acde48001122row6_col2\" class=\"data row6 col2\" >High-level data visualization library based on matplotlib</td>\n",
       "            </tr>\n",
       "    </tbody></table>"
      ],
      "text/plain": [
       "<pandas.io.formats.style.Styler at 0x1c1733c4e0>"
      ]
     },
     "metadata": {},
     "output_type": "display_data"
    },
    {
     "data": {
      "text/html": [
       "        <script type=\"text/javascript\">\n",
       "        window.PlotlyConfig = {MathJaxConfig: 'local'};\n",
       "        if (window.MathJax) {MathJax.Hub.Config({SVG: {font: \"STIX-Web\"}});}\n",
       "        if (typeof require !== 'undefined') {\n",
       "        require.undef(\"plotly\");\n",
       "        requirejs.config({\n",
       "            paths: {\n",
       "                'plotly': ['https://cdn.plot.ly/plotly-latest.min']\n",
       "            }\n",
       "        });\n",
       "        require(['plotly'], function(Plotly) {\n",
       "            window._Plotly = Plotly;\n",
       "        });\n",
       "        }\n",
       "        </script>\n",
       "        "
      ]
     },
     "metadata": {},
     "output_type": "display_data"
    },
    {
     "name": "stdout",
     "output_type": "stream",
     "text": [
      "[i] Pandas .iplot() method activated.\n"
     ]
    }
   ],
   "source": [
    "from fsds_100719.imports import *"
   ]
  },
  {
   "cell_type": "code",
   "execution_count": 8,
   "metadata": {},
   "outputs": [
    {
     "name": "stdout",
     "output_type": "stream",
     "text": [
      "PANDAS ANCHORED TIME FREQUENCY ALIASES\n",
      "[i] Documentation: https://pandas.pydata.org/pandas-docs/stable/user_guide/timeseries.html#anchored-offsets\n"
     ]
    },
    {
     "data": {
      "text/markdown": [
       "|Alias|Description|\n",
       "    | --- | --- |\n",
       "    |W-SUN|weekly frequency (Sundays). Same as ‘W’|\n",
       "    |W-MON|weekly frequency (Mondays)|\n",
       "    |W-TUE|weekly frequency (Tuesdays)|\n",
       "    |W-WED|weekly frequency (Wednesdays)|\n",
       "    |W-THU|weekly frequency (Thursdays)|\n",
       "    |W-FRI|weekly frequency (Fridays)|\n",
       "    |W-SAT|weekly frequency (Saturdays)|\n",
       "    |(B)Q(S)-DEC|quarterly frequency, year ends in December. Same as ‘Q’|\n",
       "    |(B)Q(S)-JAN|quarterly frequency, year ends in January|\n",
       "    |(B)Q(S)-FEB|quarterly frequency, year ends in February|\n",
       "    |(B)Q(S)-MAR|quarterly frequency, year ends in March|\n",
       "    |(B)Q(S)-APR|quarterly frequency, year ends in April|\n",
       "    |(B)Q(S)-MAY|quarterly frequency, year ends in May|\n",
       "    |(B)Q(S)-JUN|quarterly frequency, year ends in June|\n",
       "    |(B)Q(S)-JUL|quarterly frequency, year ends in July|\n",
       "    |(B)Q(S)-AUG|quarterly frequency, year ends in August|\n",
       "    |(B)Q(S)-SEP|quarterly frequency, year ends in September|\n",
       "    |(B)Q(S)-OCT|quarterly frequency, year ends in October|\n",
       "    |(B)Q(S)-NOV|quarterly frequency, year ends in November|\n",
       "    |(B)A(S)-DEC|annual frequency, anchored end of December. Same as ‘A’|\n",
       "    |(B)A(S)-JAN|annual frequency, anchored end of January|\n",
       "    |(B)A(S)-FEB|annual frequency, anchored end of February|\n",
       "    |(B)A(S)-MAR|annual frequency, anchored end of March|\n",
       "    |(B)A(S)-APR|annual frequency, anchored end of April|\n",
       "    |(B)A(S)-MAY|annual frequency, anchored end of May|\n",
       "    |(B)A(S)-JUN|annual frequency, anchored end of June|\n",
       "    |(B)A(S)-JUL|annual frequency, anchored end of July|\n",
       "    |(B)A(S)-AUG|annual frequency, anchored end of August|\n",
       "    |(B)A(S)-SEP|annual frequency, anchored end of September|\n",
       "    |(B)A(S)-OCT|annual frequency, anchored end of October|\n",
       "    |(B)A(S)-NOV|annual frequency, anchored end of November|"
      ],
      "text/plain": [
       "<IPython.core.display.Markdown object>"
      ]
     },
     "metadata": {},
     "output_type": "display_data"
    }
   ],
   "source": [
    "fs.quick_refs.ts_pandas_freq_aliases_anchored()"
   ]
  },
  {
   "cell_type": "code",
   "execution_count": 9,
   "metadata": {},
   "outputs": [
    {
     "data": {
      "text/plain": [
       "index     0\n",
       "co2      59\n",
       "dtype: int64"
      ]
     },
     "execution_count": 9,
     "metadata": {},
     "output_type": "execute_result"
    }
   ],
   "source": [
    "# The 'MS' string groups the data in buckets by start of the month\n",
    "df = df.asfreq('W-SAT')\n",
    "df.isna().sum()"
   ]
  },
  {
   "cell_type": "code",
   "execution_count": 10,
   "metadata": {},
   "outputs": [
    {
     "data": {
      "text/plain": [
       "<matplotlib.axes._subplots.AxesSubplot at 0x1c1eacb940>"
      ]
     },
     "execution_count": 10,
     "metadata": {},
     "output_type": "execute_result"
    },
    {
     "data": {
      "image/png": "[encoded data removed]",
      "text/plain": [
       "<Figure size 432x288 with 1 Axes>"
      ]
     },
     "metadata": {},
     "output_type": "display_data"
    }
   ],
   "source": [
    "# The term bfill means that we use the value before filling in missing values\n",
    "CO2 = df['co2'].resample('MS').mean()\n",
    "\n",
    "CO2.plot()\n",
    "# Plot the time series"
   ]
  },
  {
   "cell_type": "markdown",
   "metadata": {},
   "source": [
    "As noted earlier, the time series has spikes reflecting an obvious seasonality pattern, as well as an overall increasing trend."
   ]
  },
  {
   "cell_type": "markdown",
   "metadata": {},
   "source": [
    "## The ARIMA Time Series Model\n",
    "\n",
    "One of the most common methods used in time series forecasting is known as the ARIMA model, which stands for **AutoregRessive Integrated Moving Average**. ARIMA is a model that can be fitted to time series data in order to better understand or predict future points in the series.\n",
    "\n",
    "Let's have a quick introduction to ARIMA. The ARIMA forecasting for a stationary time series is nothing but a linear (like a linear regression) equation. The predictors depend on the parameters (p,d,q) of the ARIMA model:\n",
    "\n",
    "### Number of AR (Auto-Regressive) terms (p) \n",
    "\n",
    "`p` is the auto-regressive part of the model. It allows us to incorporate the effect of past values into our model. Intuitively, this would be similar to stating that it is likely to rain tomorrow if it has been raining for past 3 days. AR terms are just lags of dependent variable. For instance if p is 5, the predictors for x(t) will be x(t-1)….x(t-5).\n",
    "\n",
    "### Number of Differences (d) \n",
    "\n",
    "`d` is the **Integrated** component of an ARIMA model. This value is concerned with the amount of differencing as it identifies the number of lag values to subtract from the current observation. Intuitively, this would be similar to stating that it is likely to rain tomorrow if the difference in amount of rain in the last *n* days is small. \n",
    "\n",
    "### Number of MA (Moving Average) terms (q)  \n",
    "\n",
    "`q` is the moving average part of the model which is used to set the error of the model as a linear combination of the error values observed at previous time points in the past. MA terms form lagged forecast errors in prediction equation. For instance if q is 5, the predictors for x(t) will be e(t-1)….e(t-5) where `e(i)` is the difference between the moving average at ith instant and actual value.\n",
    "\n",
    "These three distinct integer values, (p, d, q), are used to parametrize ARIMA models. Because of that, ARIMA models are denoted with the notation `ARIMA(p, d, q)`. Together these three parameters account for seasonality, trend, and noise in datasets:\n",
    "\n",
    "* `(p, d, q)` are the non-seasonal parameters described above.\n",
    "* `(P, D, Q)` follow the same definition but are applied to the seasonal component of the time series. \n",
    "* The term `s` is the periodicity of the time series (4 for quarterly periods, 12 for yearly periods, etc.).\n",
    "\n",
    "A detailed article on these parameters is available [here](https://www.quantstart.com/articles/Autoregressive-Integrated-Moving-Average-ARIMA-p-d-q-Models-for-Time-Series-Analysis).\n",
    "\n",
    "The seasonal ARIMA method can appear daunting because of the multiple tuning parameters involved. We will now describe how to automate the process of identifying the optimal set of parameters for the seasonal ARIMA time series model."
   ]
  },
  {
   "cell_type": "markdown",
   "metadata": {},
   "source": [
    "## Parameter Selection for the ARIMA Time Series Model \n",
    "\n",
    "The first step towards fitting an ARIMA model is to find the values of `ARIMA(p,d,q)(P,D,Q)s` that produce the desired output. Selection of these parameters requires domain expertise and time.  We shall first generate small ranges of these parameters and use a \"grid search\" to iteratively explore different combinations of parameters. For each combination of parameters, we fit a new seasonal ARIMA model with the `SARIMAX()` function from the `statsmodels` library and assess its overall quality. \n",
    "\n",
    "`SARIMAX` detailed documentation can be viewed [here](https://www.statsmodels.org/dev/generated/statsmodels.tsa.statespace.sarimax.SARIMAX.html)\n",
    "\n",
    "Let's begin by generating example combination of parameters that we wish to use: \n",
    "\n",
    "- Define p, q, and d parameters to take any value from 0/1 using `range()` function. (Note: We can try larger values which can make our model computationally expensive to run, you can try this as an additional experiment) \n",
    "- Generate combinations for `(p,d,q)` using `itertools.product`  \n",
    "- Similarly, generate seasonal combinations as `(p,d,q)s`. Use s = 12 (constant) \n",
    "- Print some example combinations for seasonal ARIMA  "
   ]
  },
  {
   "cell_type": "code",
   "execution_count": 11,
   "metadata": {},
   "outputs": [
    {
     "data": {
      "text/plain": [
       "[(0, 0, 0),\n",
       " (0, 0, 1),\n",
       " (0, 1, 0),\n",
       " (0, 1, 1),\n",
       " (1, 0, 0),\n",
       " (1, 0, 1),\n",
       " (1, 1, 0),\n",
       " (1, 1, 1)]"
      ]
     },
     "execution_count": 11,
     "metadata": {},
     "output_type": "execute_result"
    }
   ],
   "source": [
    "# Define the p, d and q parameters to take any value between 0 and 2\n",
    "p = d = q = range(0,2)\n",
    "\n",
    "# Generate all different combinations of p, q and q triplets\n",
    "pdq = list(itertools.product(p,d,q))\n",
    "pdq"
   ]
  },
  {
   "cell_type": "code",
   "execution_count": 12,
   "metadata": {},
   "outputs": [],
   "source": [
    "# Generate all different combinations of seasonal p, q and q triplets (use 12 for frequency)\n",
    "pdqs = [(x[0], x[1], x[2], 12) for x in list(itertools.product(p, d, q))]\n"
   ]
  },
  {
   "cell_type": "markdown",
   "metadata": {},
   "source": [
    "## AIC (Akaike Information Criterion) as Regularization Measure\n",
    "\n",
    "\n",
    "For evaluating the model, we shall use the AIC (Akaike Information Criterion) value, which is provided by ARIMA models fitted using `statsmodels` library. The Akaike information criterion (AIC) is an estimator of the relative quality of statistical models for a given set of data. Given a collection of models for the data, AIC estimates the quality of each model, relative to each of the other models. Thus, AIC provides a means for model selection. \n",
    "\n",
    "A model that fits the data very well while using lots of features will be assigned a larger AIC score than a model that uses fewer features to achieve the same goodness-of-fit. Therefore, we are interested in finding the model that yields the lowest AIC value. To achieve this, perform following tasks:\n",
    "\n",
    "- Initialize an empty list to store results \n",
    "- Iterate through all the paramaters in `pdq` with parameters in seasonal `pdq` (nested loop ) to create a grid \n",
    "- Run `SARIMAX` from `statsmodels` for each iteration. Details can be found [here](https://www.statsmodels.org/dev/generated/statsmodels.tsa.statespace.sarimax.SARIMAX.html). Set `enforce_stationarity` and `enforce_invertibility` to False  \n",
    "- Get the results in each iteration with `model.fit()` and store the AIC values \n",
    "- Find the lowest AIC and select parameters for further analysis  \n",
    "\n",
    "NOTE: \n",
    "* Integrate exception handling with `continue`  \n",
    "* An overview of Akaike Information Criterion can be viewed [here](http://www.statisticshowto.com/akaikes-information-criterion/) "
   ]
  },
  {
   "cell_type": "code",
   "execution_count": 16,
   "metadata": {},
   "outputs": [],
   "source": [
    "# Run a grid with pdq and seasonal pdq parameters calculated above and get the best AIC value\n",
    "ans = [['pdq','PDQS','AIC']]\n",
    "\n",
    "for comb in pdq:\n",
    "    for combs in pdqs:\n",
    "        try:\n",
    "            model = sm.tsa.statespace.SARIMAX(CO2,order=comb, seasonal_order=combs,\n",
    "                                             enforce_invertibility=False,\n",
    "                                             enforce_stationarity=False)\n",
    "            output = model.fit()\n",
    "            \n",
    "            ans.append([comb,combs,output.aic])\n",
    "#             print('ARIMA {} x {}12 : AIC Calculated ={}'.format(comb, combs, output.aic))\n",
    "        except:\n",
    "            continue\n",
    "res = pd.DataFrame(ans[1:],columns=ans[0])"
   ]
  },
  {
   "cell_type": "code",
   "execution_count": 18,
   "metadata": {},
   "outputs": [
    {
     "data": {
      "text/html": [
       "<div>\n",
       "<style scoped>\n",
       "    .dataframe tbody tr th:only-of-type {\n",
       "        vertical-align: middle;\n",
       "    }\n",
       "\n",
       "    .dataframe tbody tr th {\n",
       "        vertical-align: top;\n",
       "    }\n",
       "\n",
       "    .dataframe thead th {\n",
       "        text-align: right;\n",
       "    }\n",
       "</style>\n",
       "<table border=\"1\" class=\"dataframe\">\n",
       "  <thead>\n",
       "    <tr style=\"text-align: right;\">\n",
       "      <th></th>\n",
       "      <th>pdq</th>\n",
       "      <th>PDQS</th>\n",
       "      <th>AIC</th>\n",
       "    </tr>\n",
       "  </thead>\n",
       "  <tbody>\n",
       "    <tr>\n",
       "      <td>31</td>\n",
       "      <td>(0, 1, 1)</td>\n",
       "      <td>(1, 1, 1, 12)</td>\n",
       "      <td>215.223549</td>\n",
       "    </tr>\n",
       "    <tr>\n",
       "      <td>63</td>\n",
       "      <td>(1, 1, 1)</td>\n",
       "      <td>(1, 1, 1, 12)</td>\n",
       "      <td>216.354356</td>\n",
       "    </tr>\n",
       "    <tr>\n",
       "      <td>47</td>\n",
       "      <td>(1, 0, 1)</td>\n",
       "      <td>(1, 1, 1, 12)</td>\n",
       "      <td>217.289427</td>\n",
       "    </tr>\n",
       "    <tr>\n",
       "      <td>27</td>\n",
       "      <td>(0, 1, 1)</td>\n",
       "      <td>(0, 1, 1, 12)</td>\n",
       "      <td>224.384393</td>\n",
       "    </tr>\n",
       "    <tr>\n",
       "      <td>55</td>\n",
       "      <td>(1, 1, 0)</td>\n",
       "      <td>(1, 1, 1, 12)</td>\n",
       "      <td>225.131779</td>\n",
       "    </tr>\n",
       "    <tr>\n",
       "      <td>...</td>\n",
       "      <td>...</td>\n",
       "      <td>...</td>\n",
       "      <td>...</td>\n",
       "    </tr>\n",
       "    <tr>\n",
       "      <td>2</td>\n",
       "      <td>(0, 0, 0)</td>\n",
       "      <td>(0, 1, 0, 12)</td>\n",
       "      <td>1865.323992</td>\n",
       "    </tr>\n",
       "    <tr>\n",
       "      <td>9</td>\n",
       "      <td>(0, 0, 1)</td>\n",
       "      <td>(0, 0, 1, 12)</td>\n",
       "      <td>6046.532279</td>\n",
       "    </tr>\n",
       "    <tr>\n",
       "      <td>1</td>\n",
       "      <td>(0, 0, 0)</td>\n",
       "      <td>(0, 0, 1, 12)</td>\n",
       "      <td>6755.420874</td>\n",
       "    </tr>\n",
       "    <tr>\n",
       "      <td>8</td>\n",
       "      <td>(0, 0, 1)</td>\n",
       "      <td>(0, 0, 0, 12)</td>\n",
       "      <td>6824.789552</td>\n",
       "    </tr>\n",
       "    <tr>\n",
       "      <td>0</td>\n",
       "      <td>(0, 0, 0)</td>\n",
       "      <td>(0, 0, 0, 12)</td>\n",
       "      <td>7540.701573</td>\n",
       "    </tr>\n",
       "  </tbody>\n",
       "</table>\n",
       "<p>64 rows × 3 columns</p>\n",
       "</div>"
      ],
      "text/plain": [
       "          pdq           PDQS          AIC\n",
       "31  (0, 1, 1)  (1, 1, 1, 12)   215.223549\n",
       "63  (1, 1, 1)  (1, 1, 1, 12)   216.354356\n",
       "47  (1, 0, 1)  (1, 1, 1, 12)   217.289427\n",
       "27  (0, 1, 1)  (0, 1, 1, 12)   224.384393\n",
       "55  (1, 1, 0)  (1, 1, 1, 12)   225.131779\n",
       "..        ...            ...          ...\n",
       "2   (0, 0, 0)  (0, 1, 0, 12)  1865.323992\n",
       "9   (0, 0, 1)  (0, 0, 1, 12)  6046.532279\n",
       "1   (0, 0, 0)  (0, 0, 1, 12)  6755.420874\n",
       "8   (0, 0, 1)  (0, 0, 0, 12)  6824.789552\n",
       "0   (0, 0, 0)  (0, 0, 0, 12)  7540.701573\n",
       "\n",
       "[64 rows x 3 columns]"
      ]
     },
     "execution_count": 18,
     "metadata": {},
     "output_type": "execute_result"
    }
   ],
   "source": [
    "res.sort_values('AIC')"
   ]
  },
  {
   "cell_type": "markdown",
   "metadata": {},
   "source": [
    "The output of our code suggests that `ARIMA(1, 1, 1)x(1, 1, 1, 12)` yields the lowest AIC value of `277.78`. We should therefore consider this to be optimal option out of all the models we have considered."
   ]
  },
  {
   "cell_type": "markdown",
   "metadata": {},
   "source": [
    "## Fitting an ARIMA Time Series Model\n",
    "\n",
    "Using grid search, we have identified the set of parameters that produces the best fitting model to our time series data. We can proceed to analyze this particular model in more depth.\n",
    "\n",
    "We'll start by plugging the optimal parameter values into a new SARIMAX model."
   ]
  },
  {
   "cell_type": "code",
   "execution_count": 20,
   "metadata": {},
   "outputs": [
    {
     "data": {
      "text/html": [
       "<table class=\"simpletable\">\n",
       "<caption>Statespace Model Results</caption>\n",
       "<tr>\n",
       "  <th>Dep. Variable:</th>                 <td>co2</td>              <th>  No. Observations:  </th>    <td>526</td>  \n",
       "</tr>\n",
       "<tr>\n",
       "  <th>Model:</th>           <td>SARIMAX(0, 1, 1)x(1, 1, 1, 12)</td> <th>  Log Likelihood     </th> <td>-103.612</td>\n",
       "</tr>\n",
       "<tr>\n",
       "  <th>Date:</th>                   <td>Tue, 12 May 2020</td>        <th>  AIC                </th>  <td>215.224</td>\n",
       "</tr>\n",
       "<tr>\n",
       "  <th>Time:</th>                       <td>20:21:34</td>            <th>  BIC                </th>  <td>232.074</td>\n",
       "</tr>\n",
       "<tr>\n",
       "  <th>Sample:</th>                    <td>03-01-1958</td>           <th>  HQIC               </th>  <td>221.836</td>\n",
       "</tr>\n",
       "<tr>\n",
       "  <th></th>                          <td>- 12-01-2001</td>          <th>                     </th>     <td> </td>   \n",
       "</tr>\n",
       "<tr>\n",
       "  <th>Covariance Type:</th>               <td>opg</td>              <th>                     </th>     <td> </td>   \n",
       "</tr>\n",
       "</table>\n",
       "<table class=\"simpletable\">\n",
       "<tr>\n",
       "      <td></td>        <th>coef</th>     <th>std err</th>      <th>z</th>      <th>P>|z|</th>  <th>[0.025</th>    <th>0.975]</th>  \n",
       "</tr>\n",
       "<tr>\n",
       "  <th>ma.L1</th>    <td>   -0.3638</td> <td>    0.041</td> <td>   -8.948</td> <td> 0.000</td> <td>   -0.443</td> <td>   -0.284</td>\n",
       "</tr>\n",
       "<tr>\n",
       "  <th>ar.S.L12</th> <td>   -0.0012</td> <td>    0.001</td> <td>   -1.047</td> <td> 0.295</td> <td>   -0.004</td> <td>    0.001</td>\n",
       "</tr>\n",
       "<tr>\n",
       "  <th>ma.S.L12</th> <td>   -0.8596</td> <td>    0.027</td> <td>  -31.406</td> <td> 0.000</td> <td>   -0.913</td> <td>   -0.806</td>\n",
       "</tr>\n",
       "<tr>\n",
       "  <th>sigma2</th>   <td>    0.0862</td> <td>    0.006</td> <td>   15.420</td> <td> 0.000</td> <td>    0.075</td> <td>    0.097</td>\n",
       "</tr>\n",
       "</table>\n",
       "<table class=\"simpletable\">\n",
       "<tr>\n",
       "  <th>Ljung-Box (Q):</th>          <td>36.26</td> <th>  Jarque-Bera (JB):  </th> <td>0.07</td> \n",
       "</tr>\n",
       "<tr>\n",
       "  <th>Prob(Q):</th>                <td>0.64</td>  <th>  Prob(JB):          </th> <td>0.97</td> \n",
       "</tr>\n",
       "<tr>\n",
       "  <th>Heteroskedasticity (H):</th> <td>0.85</td>  <th>  Skew:              </th> <td>-0.01</td>\n",
       "</tr>\n",
       "<tr>\n",
       "  <th>Prob(H) (two-sided):</th>    <td>0.31</td>  <th>  Kurtosis:          </th> <td>2.95</td> \n",
       "</tr>\n",
       "</table><br/><br/>Warnings:<br/>[1] Covariance matrix calculated using the outer product of gradients (complex-step)."
      ],
      "text/plain": [
       "<class 'statsmodels.iolib.summary.Summary'>\n",
       "\"\"\"\n",
       "                                 Statespace Model Results                                 \n",
       "==========================================================================================\n",
       "Dep. Variable:                                co2   No. Observations:                  526\n",
       "Model:             SARIMAX(0, 1, 1)x(1, 1, 1, 12)   Log Likelihood                -103.612\n",
       "Date:                            Tue, 12 May 2020   AIC                            215.224\n",
       "Time:                                    20:21:34   BIC                            232.074\n",
       "Sample:                                03-01-1958   HQIC                           221.836\n",
       "                                     - 12-01-2001                                         \n",
       "Covariance Type:                              opg                                         \n",
       "==============================================================================\n",
       "                 coef    std err          z      P>|z|      [0.025      0.975]\n",
       "------------------------------------------------------------------------------\n",
       "ma.L1         -0.3638      0.041     -8.948      0.000      -0.443      -0.284\n",
       "ar.S.L12      -0.0012      0.001     -1.047      0.295      -0.004       0.001\n",
       "ma.S.L12      -0.8596      0.027    -31.406      0.000      -0.913      -0.806\n",
       "sigma2         0.0862      0.006     15.420      0.000       0.075       0.097\n",
       "===================================================================================\n",
       "Ljung-Box (Q):                       36.26   Jarque-Bera (JB):                 0.07\n",
       "Prob(Q):                              0.64   Prob(JB):                         0.97\n",
       "Heteroskedasticity (H):               0.85   Skew:                            -0.01\n",
       "Prob(H) (two-sided):                  0.31   Kurtosis:                         2.95\n",
       "===================================================================================\n",
       "\n",
       "Warnings:\n",
       "[1] Covariance matrix calculated using the outer product of gradients (complex-step).\n",
       "\"\"\""
      ]
     },
     "execution_count": 20,
     "metadata": {},
     "output_type": "execute_result"
    }
   ],
   "source": [
    "# Plug the optimal parameter values into a new SARIMAX model\n",
    "\n",
    "best_pdq= (0, 1, 1)\n",
    "best_PDQS = (1, 1, 1, 12)\n",
    "# Fit the model and print results\n",
    "model = sm.tsa.statespace.SARIMAX(CO2,order=best_pdq, seasonal_order=best_PDQS,\n",
    "                                  enforce_invertibility=False,\n",
    "                                  enforce_stationarity=False)\n",
    "output = model.fit()\n",
    "output.summary()"
   ]
  },
  {
   "cell_type": "markdown",
   "metadata": {},
   "source": [
    "The model returns a lot of information, but we'll focus only on the table of coefficients. The `coef` column above shows the importance of each feature and how each one impacts the time series patterns.  The $P>|z|$ provides  the significance of each feature weight. \n",
    "\n",
    "For our time-series, we see that each weight has a p-value lower or close to 0.05, so it is reasonable to retain all of them in our model.\n",
    "\n",
    "Next, we shall run model diagnostics to ensure that none of the assumptions made by the model have been violated. \n",
    "\n",
    "Call the `.plot_diagnostics()` method on ARIMA output below:"
   ]
  },
  {
   "cell_type": "code",
   "execution_count": 23,
   "metadata": {},
   "outputs": [
    {
     "data": {
      "image/png": "[encoded data removed]",
      "text/plain": [
       "<Figure size 864x864 with 4 Axes>"
      ]
     },
     "metadata": {},
     "output_type": "display_data"
    }
   ],
   "source": [
    "# Call plot_diagnostics() on the results calculated above \n",
    "output.plot_diagnostics(figsize=(12,12));"
   ]
  },
  {
   "cell_type": "markdown",
   "metadata": {},
   "source": [
    "The purpose here is to ensure that residuals remain uncorrelated, normally distributed having zero mean. In the absence of these assumptions, we can not move forward and need further tweaking of the model. \n",
    "\n",
    "Let's check for these assumptions from diagnostics plots.\n",
    "\n",
    "* In the top right plot, we see that the red KDE line follows closely with the N(0,1) line (where N(0,1)) is the standard notation for a normal distribution with mean 0 and standard deviation of 1). This is a good indication that the residuals are normally distributed.\n",
    "\n",
    "* The qq-plot on the bottom left shows that the ordered distribution of residuals (blue dots) follows the linear trend of the samples taken from a standard normal distribution with N(0, 1). Again, this is a strong indication that the residuals are normally distributed.\n",
    "\n",
    "* The residuals over time (top left plot) don't display any obvious seasonality and appear to be white noise. This is confirmed by the autocorrelation (i.e. correlogram) plot on the bottom right, which shows that the time series residuals have low correlation with lagged versions of itself.\n",
    "\n",
    "These observations lead us to conclude that our model has no correlations and provides a satisfactory fit to help forecast future values."
   ]
  },
  {
   "cell_type": "markdown",
   "metadata": {},
   "source": [
    "## Validating the Model\n",
    "\n",
    "### One-step Ahead Forecasting\n",
    "\n",
    "In order to validate the model, we start by comparing predicted values to real values of the time series, which will help us understand the accuracy of our forecasts. \n",
    "\n",
    "The `.get_prediction()` and `.conf_int()` methods allow us to obtain the values and associated confidence intervals for forecasts of the time series.\n",
    "\n",
    "\n",
    "- [Documentation on `get_prediction()`](http://www.statsmodels.org/stable/generated/statsmodels.tsa.statespace.sarimax.SARIMAXResults.get_prediction.html)\n",
    "\n",
    "- [Documentation on `conf_int()`](http://www.statsmodels.org/stable/generated/statsmodels.tsa.statespace.sarimax.SARIMAXResults.conf_int.html)\n",
    "\n",
    "\n",
    "In the cell below: \n",
    "\n",
    "* Get the predictions from 1st January 1998 till 2002 (end of time series) \n",
    "\n",
    "* Get the confidence intervals for all predictions \n",
    "\n",
    "* For `get_predictions()`, set the `dynamic` parameter to False to ensure that we produce one-step ahead forecasts, meaning that forecasts at each point are generated using the full history up to that point "
   ]
  },
  {
   "cell_type": "code",
   "execution_count": 39,
   "metadata": {},
   "outputs": [
    {
     "data": {
      "text/html": [
       "<div>\n",
       "<style scoped>\n",
       "    .dataframe tbody tr th:only-of-type {\n",
       "        vertical-align: middle;\n",
       "    }\n",
       "\n",
       "    .dataframe tbody tr th {\n",
       "        vertical-align: top;\n",
       "    }\n",
       "\n",
       "    .dataframe thead th {\n",
       "        text-align: right;\n",
       "    }\n",
       "</style>\n",
       "<table border=\"1\" class=\"dataframe\">\n",
       "  <thead>\n",
       "    <tr style=\"text-align: right;\">\n",
       "      <th></th>\n",
       "      <th>lower co2</th>\n",
       "      <th>upper co2</th>\n",
       "    </tr>\n",
       "    <tr>\n",
       "      <th>date</th>\n",
       "      <th></th>\n",
       "      <th></th>\n",
       "    </tr>\n",
       "  </thead>\n",
       "  <tbody>\n",
       "    <tr>\n",
       "      <td>1998-01-01</td>\n",
       "      <td>364.495209</td>\n",
       "      <td>365.646023</td>\n",
       "    </tr>\n",
       "    <tr>\n",
       "      <td>1998-02-01</td>\n",
       "      <td>365.197345</td>\n",
       "      <td>366.561316</td>\n",
       "    </tr>\n",
       "    <tr>\n",
       "      <td>1998-03-01</td>\n",
       "      <td>366.036273</td>\n",
       "      <td>367.584324</td>\n",
       "    </tr>\n",
       "    <tr>\n",
       "      <td>1998-04-01</td>\n",
       "      <td>367.253492</td>\n",
       "      <td>368.965947</td>\n",
       "    </tr>\n",
       "    <tr>\n",
       "      <td>1998-05-01</td>\n",
       "      <td>367.702014</td>\n",
       "      <td>369.564417</td>\n",
       "    </tr>\n",
       "    <tr>\n",
       "      <td>1998-06-01</td>\n",
       "      <td>366.953014</td>\n",
       "      <td>368.954160</td>\n",
       "    </tr>\n",
       "    <tr>\n",
       "      <td>1998-07-01</td>\n",
       "      <td>365.352940</td>\n",
       "      <td>367.483815</td>\n",
       "    </tr>\n",
       "    <tr>\n",
       "      <td>1998-08-01</td>\n",
       "      <td>363.239984</td>\n",
       "      <td>365.493131</td>\n",
       "    </tr>\n",
       "    <tr>\n",
       "      <td>1998-09-01</td>\n",
       "      <td>361.433566</td>\n",
       "      <td>363.802683</td>\n",
       "    </tr>\n",
       "    <tr>\n",
       "      <td>1998-10-01</td>\n",
       "      <td>361.548352</td>\n",
       "      <td>364.028021</td>\n",
       "    </tr>\n",
       "    <tr>\n",
       "      <td>1998-11-01</td>\n",
       "      <td>362.846883</td>\n",
       "      <td>365.432381</td>\n",
       "    </tr>\n",
       "    <tr>\n",
       "      <td>1998-12-01</td>\n",
       "      <td>364.220830</td>\n",
       "      <td>366.907993</td>\n",
       "    </tr>\n",
       "    <tr>\n",
       "      <td>1999-01-01</td>\n",
       "      <td>365.180137</td>\n",
       "      <td>368.011581</td>\n",
       "    </tr>\n",
       "    <tr>\n",
       "      <td>1999-02-01</td>\n",
       "      <td>365.928634</td>\n",
       "      <td>368.880365</td>\n",
       "    </tr>\n",
       "    <tr>\n",
       "      <td>1999-03-01</td>\n",
       "      <td>366.801509</td>\n",
       "      <td>369.868813</td>\n",
       "    </tr>\n",
       "    <tr>\n",
       "      <td>1999-04-01</td>\n",
       "      <td>368.045823</td>\n",
       "      <td>371.224501</td>\n",
       "    </tr>\n",
       "    <tr>\n",
       "      <td>1999-05-01</td>\n",
       "      <td>368.515309</td>\n",
       "      <td>371.801588</td>\n",
       "    </tr>\n",
       "    <tr>\n",
       "      <td>1999-06-01</td>\n",
       "      <td>367.782932</td>\n",
       "      <td>371.173399</td>\n",
       "    </tr>\n",
       "    <tr>\n",
       "      <td>1999-07-01</td>\n",
       "      <td>366.197724</td>\n",
       "      <td>369.689272</td>\n",
       "    </tr>\n",
       "    <tr>\n",
       "      <td>1999-08-01</td>\n",
       "      <td>364.096958</td>\n",
       "      <td>367.686740</td>\n",
       "    </tr>\n",
       "    <tr>\n",
       "      <td>1999-09-01</td>\n",
       "      <td>362.300016</td>\n",
       "      <td>365.985416</td>\n",
       "    </tr>\n",
       "    <tr>\n",
       "      <td>1999-10-01</td>\n",
       "      <td>362.424014</td>\n",
       "      <td>366.202613</td>\n",
       "    </tr>\n",
       "    <tr>\n",
       "      <td>1999-11-01</td>\n",
       "      <td>363.730329</td>\n",
       "      <td>367.599884</td>\n",
       "    </tr>\n",
       "    <tr>\n",
       "      <td>1999-12-01</td>\n",
       "      <td>365.111231</td>\n",
       "      <td>369.069651</td>\n",
       "    </tr>\n",
       "    <tr>\n",
       "      <td>2000-01-01</td>\n",
       "      <td>366.080791</td>\n",
       "      <td>370.162460</td>\n",
       "    </tr>\n",
       "    <tr>\n",
       "      <td>2000-02-01</td>\n",
       "      <td>366.836377</td>\n",
       "      <td>371.024156</td>\n",
       "    </tr>\n",
       "    <tr>\n",
       "      <td>2000-03-01</td>\n",
       "      <td>367.715296</td>\n",
       "      <td>372.006561</td>\n",
       "    </tr>\n",
       "    <tr>\n",
       "      <td>2000-04-01</td>\n",
       "      <td>368.964771</td>\n",
       "      <td>373.357086</td>\n",
       "    </tr>\n",
       "    <tr>\n",
       "      <td>2000-05-01</td>\n",
       "      <td>369.438670</td>\n",
       "      <td>373.929761</td>\n",
       "    </tr>\n",
       "    <tr>\n",
       "      <td>2000-06-01</td>\n",
       "      <td>368.710062</td>\n",
       "      <td>373.297803</td>\n",
       "    </tr>\n",
       "    <tr>\n",
       "      <td>2000-07-01</td>\n",
       "      <td>367.128066</td>\n",
       "      <td>371.810463</td>\n",
       "    </tr>\n",
       "    <tr>\n",
       "      <td>2000-08-01</td>\n",
       "      <td>365.030028</td>\n",
       "      <td>369.805204</td>\n",
       "    </tr>\n",
       "    <tr>\n",
       "      <td>2000-09-01</td>\n",
       "      <td>363.235390</td>\n",
       "      <td>368.101577</td>\n",
       "    </tr>\n",
       "    <tr>\n",
       "      <td>2000-10-01</td>\n",
       "      <td>363.361317</td>\n",
       "      <td>368.316844</td>\n",
       "    </tr>\n",
       "    <tr>\n",
       "      <td>2000-11-01</td>\n",
       "      <td>364.669231</td>\n",
       "      <td>369.712515</td>\n",
       "    </tr>\n",
       "    <tr>\n",
       "      <td>2000-12-01</td>\n",
       "      <td>366.051436</td>\n",
       "      <td>371.180977</td>\n",
       "    </tr>\n",
       "    <tr>\n",
       "      <td>2001-01-01</td>\n",
       "      <td>367.024507</td>\n",
       "      <td>372.270276</td>\n",
       "    </tr>\n",
       "    <tr>\n",
       "      <td>2001-02-01</td>\n",
       "      <td>367.782155</td>\n",
       "      <td>373.129910</td>\n",
       "    </tr>\n",
       "    <tr>\n",
       "      <td>2001-03-01</td>\n",
       "      <td>368.662779</td>\n",
       "      <td>374.110610</td>\n",
       "    </tr>\n",
       "    <tr>\n",
       "      <td>2001-04-01</td>\n",
       "      <td>369.913643</td>\n",
       "      <td>375.459746</td>\n",
       "    </tr>\n",
       "    <tr>\n",
       "      <td>2001-05-01</td>\n",
       "      <td>370.388650</td>\n",
       "      <td>376.031313</td>\n",
       "    </tr>\n",
       "    <tr>\n",
       "      <td>2001-06-01</td>\n",
       "      <td>369.660900</td>\n",
       "      <td>375.398498</td>\n",
       "    </tr>\n",
       "    <tr>\n",
       "      <td>2001-07-01</td>\n",
       "      <td>368.079537</td>\n",
       "      <td>373.910525</td>\n",
       "    </tr>\n",
       "    <tr>\n",
       "      <td>2001-08-01</td>\n",
       "      <td>365.981929</td>\n",
       "      <td>371.904834</td>\n",
       "    </tr>\n",
       "    <tr>\n",
       "      <td>2001-09-01</td>\n",
       "      <td>364.187541</td>\n",
       "      <td>370.200959</td>\n",
       "    </tr>\n",
       "    <tr>\n",
       "      <td>2001-10-01</td>\n",
       "      <td>364.313552</td>\n",
       "      <td>370.416140</td>\n",
       "    </tr>\n",
       "    <tr>\n",
       "      <td>2001-11-01</td>\n",
       "      <td>365.621402</td>\n",
       "      <td>371.811876</td>\n",
       "    </tr>\n",
       "    <tr>\n",
       "      <td>2001-12-01</td>\n",
       "      <td>367.003408</td>\n",
       "      <td>373.280537</td>\n",
       "    </tr>\n",
       "  </tbody>\n",
       "</table>\n",
       "</div>"
      ],
      "text/plain": [
       "             lower co2   upper co2\n",
       "date                              \n",
       "1998-01-01  364.495209  365.646023\n",
       "1998-02-01  365.197345  366.561316\n",
       "1998-03-01  366.036273  367.584324\n",
       "1998-04-01  367.253492  368.965947\n",
       "1998-05-01  367.702014  369.564417\n",
       "1998-06-01  366.953014  368.954160\n",
       "1998-07-01  365.352940  367.483815\n",
       "1998-08-01  363.239984  365.493131\n",
       "1998-09-01  361.433566  363.802683\n",
       "1998-10-01  361.548352  364.028021\n",
       "1998-11-01  362.846883  365.432381\n",
       "1998-12-01  364.220830  366.907993\n",
       "1999-01-01  365.180137  368.011581\n",
       "1999-02-01  365.928634  368.880365\n",
       "1999-03-01  366.801509  369.868813\n",
       "1999-04-01  368.045823  371.224501\n",
       "1999-05-01  368.515309  371.801588\n",
       "1999-06-01  367.782932  371.173399\n",
       "1999-07-01  366.197724  369.689272\n",
       "1999-08-01  364.096958  367.686740\n",
       "1999-09-01  362.300016  365.985416\n",
       "1999-10-01  362.424014  366.202613\n",
       "1999-11-01  363.730329  367.599884\n",
       "1999-12-01  365.111231  369.069651\n",
       "2000-01-01  366.080791  370.162460\n",
       "2000-02-01  366.836377  371.024156\n",
       "2000-03-01  367.715296  372.006561\n",
       "2000-04-01  368.964771  373.357086\n",
       "2000-05-01  369.438670  373.929761\n",
       "2000-06-01  368.710062  373.297803\n",
       "2000-07-01  367.128066  371.810463\n",
       "2000-08-01  365.030028  369.805204\n",
       "2000-09-01  363.235390  368.101577\n",
       "2000-10-01  363.361317  368.316844\n",
       "2000-11-01  364.669231  369.712515\n",
       "2000-12-01  366.051436  371.180977\n",
       "2001-01-01  367.024507  372.270276\n",
       "2001-02-01  367.782155  373.129910\n",
       "2001-03-01  368.662779  374.110610\n",
       "2001-04-01  369.913643  375.459746\n",
       "2001-05-01  370.388650  376.031313\n",
       "2001-06-01  369.660900  375.398498\n",
       "2001-07-01  368.079537  373.910525\n",
       "2001-08-01  365.981929  371.904834\n",
       "2001-09-01  364.187541  370.200959\n",
       "2001-10-01  364.313552  370.416140\n",
       "2001-11-01  365.621402  371.811876\n",
       "2001-12-01  367.003408  373.280537"
      ]
     },
     "execution_count": 39,
     "metadata": {},
     "output_type": "execute_result"
    }
   ],
   "source": [
    "# Get predictions starting from 01-01-1998 and calculate confidence intervals\n",
    "pred = output.get_prediction(start='01-01-1998',dynamic=True)\n",
    "# pred\n",
    "pred_conf = pred.conf_int()\n",
    "pred_conf"
   ]
  },
  {
   "cell_type": "markdown",
   "metadata": {},
   "source": [
    "We shall now plot the real and forecasted values of the CO2 time series to assess how well we did: \n",
    "\n",
    "* Plot the observed values from the dataset, starting at 1990 \n",
    "* Use `.predicted_mean.plot()` method to plot predictions \n",
    "* Plot the confidence intervals overlapping the predicted values "
   ]
  },
  {
   "cell_type": "code",
   "execution_count": 40,
   "metadata": {},
   "outputs": [
    {
     "data": {
      "text/plain": [
       "<matplotlib.collections.PolyCollection at 0x1c1ffb1d30>"
      ]
     },
     "execution_count": 40,
     "metadata": {},
     "output_type": "execute_result"
    },
    {
     "data": {
      "image/png": "[encoded data removed]",
      "text/plain": [
       "<Figure size 864x360 with 1 Axes>"
      ]
     },
     "metadata": {},
     "output_type": "display_data"
    }
   ],
   "source": [
    "# Plot real vs predicted values along with confidence interval\n",
    "ax = CO2.loc['1984':].plot(label='orig',figsize=(12,5))\n",
    "pred.predicted_mean.plot(label='forecast')\n",
    "ax.legend()\n",
    "# Plot observed values\n",
    "\n",
    "# Plot predicted values\n",
    "\n",
    "# Plot the range for confidence intervals\n",
    "ax.fill_between(pred_conf.index, pred_conf['lower co2'],pred_conf['upper co2'],\n",
    "               color='gray',alpha=.5)\n",
    "# Set axes labels\n"
   ]
  },
  {
   "cell_type": "markdown",
   "metadata": {},
   "source": [
    "The forecasts align with the true values  as seen above, with overall increase trend. We shall also check for the accuracy of our forecasts using  **MSE (Mean Squared Error)**. This will provide us with the average error of our forecasts. For each predicted value, we compute its distance to the true value and square the result. The results need to be squared so that positive/negative differences do not cancel each other out when we compute the overall mean."
   ]
  },
  {
   "cell_type": "code",
   "execution_count": null,
   "metadata": {},
   "outputs": [],
   "source": [
    "# Get the real and predicted values\n",
    "CO2_forecasted = None\n",
    "CO2_truth = None\n",
    "\n",
    "# Compute the mean square error\n",
    "mse = None\n",
    "print('The Mean Squared Error of our forecasts is {}'.format(round(mse, 2)))"
   ]
  },
  {
   "cell_type": "markdown",
   "metadata": {},
   "source": [
    "The MSE of our one-step ahead forecasts yields a value of 0.07, which is very low. An MSE this close to 0 indicates that the estimator is predicting observations of the parameter with perfect accuracy, which would be an ideal scenario but it is not typically possible.\n",
    "\n",
    "### Dynamic Forecasting\n",
    "\n",
    "We can achieve a deeper insight into model's predictive power using dynamic forecasts. In this case, we only use information from the time series up to a certain point, and after that, forecasts are generated using values from previous forecasted time points.\n",
    "\n",
    "Repeat above calculation for predictions post 1998. Use Dynamic forecasting by setting `dynamic` to True."
   ]
  },
  {
   "cell_type": "code",
   "execution_count": null,
   "metadata": {},
   "outputs": [],
   "source": [
    "# Get dynamic predictions with confidence intervals as above \n",
    "pred_dynamic = None\n",
    "pred_dynamic_conf = None"
   ]
  },
  {
   "cell_type": "markdown",
   "metadata": {},
   "source": [
    "Plotting the observed and forecasted values of the time series, we see that the overall forecasts are accurate even when using dynamic forecasts. All forecasted values (red line) match pretty closely to the ground truth (blue line), and are well within the confidence intervals of our forecast."
   ]
  },
  {
   "cell_type": "code",
   "execution_count": null,
   "metadata": {},
   "outputs": [],
   "source": [
    "# Plot the dynamic forecast with confidence intervals as above"
   ]
  },
  {
   "cell_type": "markdown",
   "metadata": {},
   "source": [
    "Once again, we quantify the predictive performance of our forecasts by computing the MSE."
   ]
  },
  {
   "cell_type": "code",
   "execution_count": null,
   "metadata": {},
   "outputs": [],
   "source": [
    "# Extract the predicted and true values of our time series\n",
    "CO2_forecasted = None\n",
    "CO2_truth = None\n",
    "\n",
    "# Compute the mean square error\n",
    "mse = None\n",
    "print('The Mean Squared Error of our forecasts is {}'.format(round(mse, 2)))"
   ]
  },
  {
   "cell_type": "markdown",
   "metadata": {},
   "source": [
    "The predicted values obtained from the dynamic forecasts yield an MSE of 1.01. This is slightly higher than the one-step ahead, which is to be expected given that we are relying on less historical data from the time series.\n",
    "\n",
    "Both the one-step ahead and dynamic forecasts confirm that this time series model is valid. However, much of the interest around time series forecasting is the ability to forecast future values way ahead in time.\n"
   ]
  },
  {
   "cell_type": "markdown",
   "metadata": {},
   "source": [
    "## Producing and Visualizing Forecasts\n",
    "\n",
    "We will now describe how to leverage our seasonal ARIMA time series model to forecast future values. The `.get_forecast()` method of our time series output can compute forecasted values for a specified number of steps ahead."
   ]
  },
  {
   "cell_type": "code",
   "execution_count": null,
   "metadata": {},
   "outputs": [],
   "source": [
    "# Get forecast 500 steps ahead in future\n",
    "prediction = None\n",
    "\n",
    "# Get confidence intervals of forecasts\n",
    "pred_conf = None"
   ]
  },
  {
   "cell_type": "markdown",
   "metadata": {},
   "source": [
    "We can use the output of this code to plot the time series and forecasts of its future values.\n",
    "\n"
   ]
  },
  {
   "cell_type": "code",
   "execution_count": null,
   "metadata": {},
   "outputs": [],
   "source": [
    "# Plot future predictions with confidence intervals\n"
   ]
  },
  {
   "cell_type": "markdown",
   "metadata": {},
   "source": [
    "Both the forecasts and associated confidence interval that we have generated can now be used to further understand the time series and foresee what to expect. Our forecasts show that the time series is expected to continue increasing at a steady pace.\n",
    "\n",
    "As we forecast further out into the future, it is natural for us to become less confident in our values. This is reflected by the confidence intervals generated by our model, which grow larger as we move further out into the future. \n",
    "\n",
    "## Bonus Exercises\n",
    "\n",
    "* Change the start date of your dynamic forecasts to see how this affects the overall quality of your forecasts.\n",
    "* Try more combinations of parameters to see if you can improve the goodness-of-fit of your model.\n",
    "* Select a different metric to select the best model. For example, we used the AIC measure to find the best model, but you could seek to optimize the out-of-sample mean square error instead.\n",
    "\n",
    "\n",
    "## Summary\n",
    "\n",
    "In this lab, we described how to implement a seasonal ARIMA model in Python. We made extensive use of the `pandas` and `statsmodels` libraries and showed how to run model diagnostics, as well as how to produce forecasts of time series."
   ]
  }
 ],
 "metadata": {
  "kernelspec": {
   "display_name": "Python 3",
   "language": "python",
   "name": "python3"
  },
  "language_info": {
   "codemirror_mode": {
    "name": "ipython",
    "version": 3
   },
   "file_extension": ".py",
   "mimetype": "text/x-python",
   "name": "python",
   "nbconvert_exporter": "python",
   "pygments_lexer": "ipython3",
   "version": "3.6.9"
  },
  "toc": {
   "base_numbering": 1,
   "nav_menu": {},
   "number_sections": true,
   "sideBar": true,
   "skip_h1_title": false,
   "title_cell": "Table of Contents",
   "title_sidebar": "Contents",
   "toc_cell": false,
   "toc_position": {},
   "toc_section_display": true,
   "toc_window_display": true
  }
 },
 "nbformat": 4,
 "nbformat_minor": 2
}
