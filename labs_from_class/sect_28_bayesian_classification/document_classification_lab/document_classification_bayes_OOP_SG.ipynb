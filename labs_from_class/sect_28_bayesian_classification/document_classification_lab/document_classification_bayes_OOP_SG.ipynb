{
 "cells": [
  {
   "cell_type": "markdown",
   "metadata": {},
   "source": [
    "# Document Classification with Naive Bayes - Lab\n",
    "\n",
    "## Introduction\n",
    "\n",
    "In this lesson, you'll practice implementing the Naive Bayes algorithm on your own.\n",
    "\n",
    "## Objectives\n",
    "\n",
    "In this lab you will:  \n",
    "\n",
    "* Implement document classification using Naive Bayes"
   ]
  },
  {
   "cell_type": "markdown",
   "metadata": {},
   "source": [
    "## Import the dataset\n",
    "\n",
    "To start, import the dataset stored in the text file `'SMSSpamCollection'`."
   ]
  },
  {
   "cell_type": "code",
   "execution_count": 1,
   "metadata": {
    "ExecuteTime": {
     "end_time": "2020-04-04T18:02:59.725805Z",
     "start_time": "2020-04-04T18:02:57.075414Z"
    }
   },
   "outputs": [
    {
     "name": "stdout",
     "output_type": "stream",
     "text": [
      "fsds_1007219  v0.7.20 loaded.  Read the docs: https://fsds.readthedocs.io/en/latest/ \n"
     ]
    },
    {
     "data": {
      "text/html": [
       "<style  type=\"text/css\" >\n",
       "</style><table id=\"T_84a20186_769e_11ea_a422_acde48001122\" ><caption>Loaded Packages and Handles</caption><thead>    <tr>        <th class=\"col_heading level0 col0\" >Handle</th>        <th class=\"col_heading level0 col1\" >Package</th>        <th class=\"col_heading level0 col2\" >Description</th>    </tr></thead><tbody>\n",
       "                <tr>\n",
       "                                <td id=\"T_84a20186_769e_11ea_a422_acde48001122row0_col0\" class=\"data row0 col0\" >dp</td>\n",
       "                        <td id=\"T_84a20186_769e_11ea_a422_acde48001122row0_col1\" class=\"data row0 col1\" >IPython.display</td>\n",
       "                        <td id=\"T_84a20186_769e_11ea_a422_acde48001122row0_col2\" class=\"data row0 col2\" >Display modules with helpful display and clearing commands.</td>\n",
       "            </tr>\n",
       "            <tr>\n",
       "                                <td id=\"T_84a20186_769e_11ea_a422_acde48001122row1_col0\" class=\"data row1 col0\" >fs</td>\n",
       "                        <td id=\"T_84a20186_769e_11ea_a422_acde48001122row1_col1\" class=\"data row1 col1\" >fsds_100719</td>\n",
       "                        <td id=\"T_84a20186_769e_11ea_a422_acde48001122row1_col2\" class=\"data row1 col2\" >Custom data science bootcamp student package</td>\n",
       "            </tr>\n",
       "            <tr>\n",
       "                                <td id=\"T_84a20186_769e_11ea_a422_acde48001122row2_col0\" class=\"data row2 col0\" >mpl</td>\n",
       "                        <td id=\"T_84a20186_769e_11ea_a422_acde48001122row2_col1\" class=\"data row2 col1\" >matplotlib</td>\n",
       "                        <td id=\"T_84a20186_769e_11ea_a422_acde48001122row2_col2\" class=\"data row2 col2\" >Matplotlib's base OOP module with formatting artists</td>\n",
       "            </tr>\n",
       "            <tr>\n",
       "                                <td id=\"T_84a20186_769e_11ea_a422_acde48001122row3_col0\" class=\"data row3 col0\" >plt</td>\n",
       "                        <td id=\"T_84a20186_769e_11ea_a422_acde48001122row3_col1\" class=\"data row3 col1\" >matplotlib.pyplot</td>\n",
       "                        <td id=\"T_84a20186_769e_11ea_a422_acde48001122row3_col2\" class=\"data row3 col2\" >Matplotlib's matlab-like plotting module</td>\n",
       "            </tr>\n",
       "            <tr>\n",
       "                                <td id=\"T_84a20186_769e_11ea_a422_acde48001122row4_col0\" class=\"data row4 col0\" >np</td>\n",
       "                        <td id=\"T_84a20186_769e_11ea_a422_acde48001122row4_col1\" class=\"data row4 col1\" >numpy</td>\n",
       "                        <td id=\"T_84a20186_769e_11ea_a422_acde48001122row4_col2\" class=\"data row4 col2\" >scientific computing with Python</td>\n",
       "            </tr>\n",
       "            <tr>\n",
       "                                <td id=\"T_84a20186_769e_11ea_a422_acde48001122row5_col0\" class=\"data row5 col0\" >pd</td>\n",
       "                        <td id=\"T_84a20186_769e_11ea_a422_acde48001122row5_col1\" class=\"data row5 col1\" >pandas</td>\n",
       "                        <td id=\"T_84a20186_769e_11ea_a422_acde48001122row5_col2\" class=\"data row5 col2\" >High performance data structures and tools</td>\n",
       "            </tr>\n",
       "            <tr>\n",
       "                                <td id=\"T_84a20186_769e_11ea_a422_acde48001122row6_col0\" class=\"data row6 col0\" >sns</td>\n",
       "                        <td id=\"T_84a20186_769e_11ea_a422_acde48001122row6_col1\" class=\"data row6 col1\" >seaborn</td>\n",
       "                        <td id=\"T_84a20186_769e_11ea_a422_acde48001122row6_col2\" class=\"data row6 col2\" >High-level data visualization library based on matplotlib</td>\n",
       "            </tr>\n",
       "    </tbody></table>"
      ],
      "text/plain": [
       "<pandas.io.formats.style.Styler at 0x1c24e394a8>"
      ]
     },
     "metadata": {},
     "output_type": "display_data"
    },
    {
     "data": {
      "text/html": [
       "        <script type=\"text/javascript\">\n",
       "        window.PlotlyConfig = {MathJaxConfig: 'local'};\n",
       "        if (window.MathJax) {MathJax.Hub.Config({SVG: {font: \"STIX-Web\"}});}\n",
       "        if (typeof require !== 'undefined') {\n",
       "        require.undef(\"plotly\");\n",
       "        requirejs.config({\n",
       "            paths: {\n",
       "                'plotly': ['https://cdn.plot.ly/plotly-latest.min']\n",
       "            }\n",
       "        });\n",
       "        require(['plotly'], function(Plotly) {\n",
       "            window._Plotly = Plotly;\n",
       "        });\n",
       "        }\n",
       "        </script>\n",
       "        "
      ]
     },
     "metadata": {},
     "output_type": "display_data"
    },
    {
     "name": "stdout",
     "output_type": "stream",
     "text": [
      "[i] Pandas .iplot() method activated.\n"
     ]
    }
   ],
   "source": [
    "from fsds_100719.imports import *"
   ]
  },
  {
   "cell_type": "code",
   "execution_count": 5,
   "metadata": {
    "ExecuteTime": {
     "end_time": "2020-04-04T18:03:52.860933Z",
     "start_time": "2020-04-04T18:03:52.838739Z"
    }
   },
   "outputs": [
    {
     "data": {
      "text/html": [
       "<div>\n",
       "<style scoped>\n",
       "    .dataframe tbody tr th:only-of-type {\n",
       "        vertical-align: middle;\n",
       "    }\n",
       "\n",
       "    .dataframe tbody tr th {\n",
       "        vertical-align: top;\n",
       "    }\n",
       "\n",
       "    .dataframe thead th {\n",
       "        text-align: right;\n",
       "    }\n",
       "</style>\n",
       "<table border=\"1\" class=\"dataframe\">\n",
       "  <thead>\n",
       "    <tr style=\"text-align: right;\">\n",
       "      <th></th>\n",
       "      <th>label</th>\n",
       "      <th>text</th>\n",
       "    </tr>\n",
       "  </thead>\n",
       "  <tbody>\n",
       "    <tr>\n",
       "      <td>0</td>\n",
       "      <td>ham</td>\n",
       "      <td>Go until jurong point, crazy.. Available only ...</td>\n",
       "    </tr>\n",
       "    <tr>\n",
       "      <td>1</td>\n",
       "      <td>ham</td>\n",
       "      <td>Ok lar... Joking wif u oni...</td>\n",
       "    </tr>\n",
       "    <tr>\n",
       "      <td>2</td>\n",
       "      <td>spam</td>\n",
       "      <td>Free entry in 2 a wkly comp to win FA Cup fina...</td>\n",
       "    </tr>\n",
       "    <tr>\n",
       "      <td>3</td>\n",
       "      <td>ham</td>\n",
       "      <td>U dun say so early hor... U c already then say...</td>\n",
       "    </tr>\n",
       "    <tr>\n",
       "      <td>4</td>\n",
       "      <td>ham</td>\n",
       "      <td>Nah I don't think he goes to usf, he lives aro...</td>\n",
       "    </tr>\n",
       "    <tr>\n",
       "      <td>...</td>\n",
       "      <td>...</td>\n",
       "      <td>...</td>\n",
       "    </tr>\n",
       "    <tr>\n",
       "      <td>5567</td>\n",
       "      <td>spam</td>\n",
       "      <td>This is the 2nd time we have tried 2 contact u...</td>\n",
       "    </tr>\n",
       "    <tr>\n",
       "      <td>5568</td>\n",
       "      <td>ham</td>\n",
       "      <td>Will ü b going to esplanade fr home?</td>\n",
       "    </tr>\n",
       "    <tr>\n",
       "      <td>5569</td>\n",
       "      <td>ham</td>\n",
       "      <td>Pity, * was in mood for that. So...any other s...</td>\n",
       "    </tr>\n",
       "    <tr>\n",
       "      <td>5570</td>\n",
       "      <td>ham</td>\n",
       "      <td>The guy did some bitching but I acted like i'd...</td>\n",
       "    </tr>\n",
       "    <tr>\n",
       "      <td>5571</td>\n",
       "      <td>ham</td>\n",
       "      <td>Rofl. Its true to its name</td>\n",
       "    </tr>\n",
       "  </tbody>\n",
       "</table>\n",
       "<p>5572 rows × 2 columns</p>\n",
       "</div>"
      ],
      "text/plain": [
       "     label                                               text\n",
       "0      ham  Go until jurong point, crazy.. Available only ...\n",
       "1      ham                      Ok lar... Joking wif u oni...\n",
       "2     spam  Free entry in 2 a wkly comp to win FA Cup fina...\n",
       "3      ham  U dun say so early hor... U c already then say...\n",
       "4      ham  Nah I don't think he goes to usf, he lives aro...\n",
       "...    ...                                                ...\n",
       "5567  spam  This is the 2nd time we have tried 2 contact u...\n",
       "5568   ham               Will ü b going to esplanade fr home?\n",
       "5569   ham  Pity, * was in mood for that. So...any other s...\n",
       "5570   ham  The guy did some bitching but I acted like i'd...\n",
       "5571   ham                         Rofl. Its true to its name\n",
       "\n",
       "[5572 rows x 2 columns]"
      ]
     },
     "execution_count": 5,
     "metadata": {},
     "output_type": "execute_result"
    }
   ],
   "source": [
    "# Your code here`\n",
    "df = pd.read_csv(\"SMSSpamCollection\",sep='\\t',names=['label','text'])\n",
    "df"
   ]
  },
  {
   "cell_type": "markdown",
   "metadata": {},
   "source": [
    "## Account for class imbalance\n",
    "\n",
    "To help your algorithm perform more accurately, subset the dataset so that the two classes are of equal size. To do this, keep all of the instances of the minority class (spam) and subset examples of the majority class (ham) to an equal number of examples."
   ]
  },
  {
   "cell_type": "code",
   "execution_count": 6,
   "metadata": {
    "ExecuteTime": {
     "end_time": "2020-04-04T18:06:47.024791Z",
     "start_time": "2020-04-04T18:06:47.014806Z"
    }
   },
   "outputs": [
    {
     "data": {
      "text/plain": [
       "ham     0.865937\n",
       "spam    0.134063\n",
       "Name: label, dtype: float64"
      ]
     },
     "execution_count": 6,
     "metadata": {},
     "output_type": "execute_result"
    }
   ],
   "source": [
    "# Your code here\n",
    "df['label'].value_counts(normalize=True)"
   ]
  },
  {
   "cell_type": "code",
   "execution_count": 16,
   "metadata": {
    "ExecuteTime": {
     "end_time": "2020-04-04T18:13:06.771739Z",
     "start_time": "2020-04-04T18:13:06.766391Z"
    }
   },
   "outputs": [
    {
     "data": {
      "text/plain": [
       "ham     4825\n",
       "spam     747\n",
       "Name: label, dtype: int64"
      ]
     },
     "execution_count": 16,
     "metadata": {},
     "output_type": "execute_result"
    }
   ],
   "source": [
    "val_counts = df['label'].value_counts()\n",
    "val_counts#.min()"
   ]
  },
  {
   "cell_type": "code",
   "execution_count": 17,
   "metadata": {
    "ExecuteTime": {
     "end_time": "2020-04-04T18:13:56.147918Z",
     "start_time": "2020-04-04T18:13:56.141448Z"
    }
   },
   "outputs": [
    {
     "data": {
      "text/plain": [
       "{'ham': Int64Index([   0,    1,    3,    4,    6,    7,   10,   13,   14,   16,\n",
       "             ...\n",
       "             5560, 5561, 5562, 5563, 5564, 5565, 5568, 5569, 5570, 5571],\n",
       "            dtype='int64', length=4825),\n",
       " 'spam': Int64Index([   2,    5,    8,    9,   11,   12,   15,   19,   34,   42,\n",
       "             ...\n",
       "             5492, 5497, 5501, 5524, 5526, 5537, 5540, 5547, 5566, 5567],\n",
       "            dtype='int64', length=747)}"
      ]
     },
     "execution_count": 17,
     "metadata": {},
     "output_type": "execute_result"
    }
   ],
   "source": [
    "df.groupby('label').groups"
   ]
  },
  {
   "cell_type": "code",
   "execution_count": 15,
   "metadata": {
    "ExecuteTime": {
     "end_time": "2020-04-04T18:12:59.233814Z",
     "start_time": "2020-04-04T18:12:59.213388Z"
    }
   },
   "outputs": [
    {
     "data": {
      "text/plain": [
       "spam    747\n",
       "ham     747\n",
       "Name: label, dtype: int64"
      ]
     },
     "execution_count": 15,
     "metadata": {},
     "output_type": "execute_result"
    }
   ],
   "source": [
    "def undersample(df, col='label', random_state=42):\n",
    "    val_counts = df[col].value_counts()\n",
    "    minority_count = val_counts.min()\n",
    "    \n",
    "    df2 = pd.DataFrame(columns=df.columns)\n",
    "    \n",
    "    for grp, idx in df.groupby(col).groups.items():\n",
    "        \n",
    "        df_temp = df.loc[idx].sample(n=minority_count, random_state=random_state)\n",
    "        df2 = pd.concat([df2, df_temp],axis=0)\n",
    "        \n",
    "    return df2\n",
    "\n",
    "df2 = undersample(df)\n",
    "df2['label'].value_counts()"
   ]
  },
  {
   "cell_type": "markdown",
   "metadata": {},
   "source": [
    "## Train-test split\n",
    "\n",
    "Now implement a train-test split on the dataset: "
   ]
  },
  {
   "cell_type": "code",
   "execution_count": 26,
   "metadata": {
    "ExecuteTime": {
     "end_time": "2020-04-04T18:17:12.657958Z",
     "start_time": "2020-04-04T18:17:12.648510Z"
    }
   },
   "outputs": [],
   "source": [
    "# Your code here\n",
    "from sklearn.model_selection import train_test_split\n",
    "X = df2['text'].copy()\n",
    "y = df2['label'].copy()\n",
    "X_train, X_test, y_train, y_test = train_test_split(X,y,test_size=0.25,random_state=17)\n",
    "train_df = pd.concat([X_train,y_train],axis=1)\n",
    "test_df = pd.concat([X_test,y_test],axis=1)"
   ]
  },
  {
   "cell_type": "markdown",
   "metadata": {},
   "source": [
    "## Create the word frequency dictionary for each class\n",
    "\n",
    "Create a word frequency dictionary for each class: "
   ]
  },
  {
   "cell_type": "code",
   "execution_count": 33,
   "metadata": {
    "ExecuteTime": {
     "end_time": "2020-04-04T18:21:23.821046Z",
     "start_time": "2020-04-04T18:21:23.817256Z"
    }
   },
   "outputs": [
    {
     "data": {
      "text/plain": [
       "'New TEXTBUDDY Chat 2 horny guys in ur area 4 just 25p Free 2 receive Search postcode or at gaytextbuddy.com. TXT ONE name to 89693'"
      ]
     },
     "execution_count": 33,
     "metadata": {},
     "output_type": "execute_result"
    }
   ],
   "source": [
    "doc = list(train_df.iloc[3])[0]\n",
    "doc"
   ]
  },
  {
   "cell_type": "code",
   "execution_count": 36,
   "metadata": {
    "ExecuteTime": {
     "end_time": "2020-04-04T18:23:24.137657Z",
     "start_time": "2020-04-04T18:23:24.133037Z"
    }
   },
   "outputs": [
    {
     "data": {
      "text/plain": [
       "{'New': 1,\n",
       " 'TEXTBUDDY': 1,\n",
       " 'Chat': 1,\n",
       " '2': 2,\n",
       " 'horny': 1,\n",
       " 'guys': 1,\n",
       " 'in': 1,\n",
       " 'ur': 1,\n",
       " 'area': 1,\n",
       " '4': 1,\n",
       " 'just': 1,\n",
       " '25p': 1,\n",
       " 'Free': 1,\n",
       " 'receive': 1,\n",
       " 'Search': 1,\n",
       " 'postcode': 1,\n",
       " 'or': 1,\n",
       " 'at': 1,\n",
       " 'gaytextbuddy.com.': 1,\n",
       " 'TXT': 1,\n",
       " 'ONE': 1,\n",
       " 'name': 1,\n",
       " 'to': 1,\n",
       " '89693': 1}"
      ]
     },
     "execution_count": 36,
     "metadata": {},
     "output_type": "execute_result"
    }
   ],
   "source": [
    "bag = {}\n",
    "words= doc.split()\n",
    "for word in words:\n",
    "    bag[word] = bag.get(word,0) + 1\n",
    "bag"
   ]
  },
  {
   "cell_type": "code",
   "execution_count": 39,
   "metadata": {
    "ExecuteTime": {
     "end_time": "2020-04-04T18:24:51.166076Z",
     "start_time": "2020-04-04T18:24:51.109366Z"
    }
   },
   "outputs": [
    {
     "name": "stdout",
     "output_type": "stream",
     "text": [
      "dict_keys(['spam', 'ham'])\n"
     ]
    },
    {
     "data": {
      "text/plain": [
       "{'25p': 6,\n",
       " '4': 71,\n",
       " 'alfie': 1,\n",
       " \"Moon's\": 2,\n",
       " 'Children': 2,\n",
       " 'in': 46,\n",
       " 'need': 3,\n",
       " 'song': 2,\n",
       " 'on': 109,\n",
       " 'ur': 75,\n",
       " 'mob.': 2,\n",
       " 'Tell': 2,\n",
       " 'm8s.': 2,\n",
       " 'Txt': 45,\n",
       " 'Tone': 8,\n",
       " 'charity': 3,\n",
       " 'to': 461,\n",
       " '8007': 15,\n",
       " 'for': 138,\n",
       " 'Nokias': 1,\n",
       " 'or': 149,\n",
       " 'Poly': 1,\n",
       " 'polys:': 1,\n",
       " 'zed': 3,\n",
       " '08701417012': 2,\n",
       " 'profit': 2,\n",
       " '2': 116,\n",
       " 'charity.': 1,\n",
       " 'New': 12,\n",
       " 'TEXTBUDDY': 2,\n",
       " 'Chat': 6,\n",
       " 'horny': 4,\n",
       " 'guys': 3,\n",
       " 'area': 3,\n",
       " 'just': 41,\n",
       " 'Free': 23,\n",
       " 'receive': 23,\n",
       " 'Search': 2,\n",
       " 'postcode': 3,\n",
       " 'at': 21,\n",
       " 'gaytextbuddy.com.': 2,\n",
       " 'TXT': 3,\n",
       " 'ONE': 3,\n",
       " 'name': 5,\n",
       " '89693': 1,\n",
       " 'all': 20,\n",
       " 'the': 126,\n",
       " 'lastest': 1,\n",
       " 'from': 87,\n",
       " 'Stereophonics,': 1,\n",
       " 'Marley,': 1,\n",
       " 'Dizzee': 1,\n",
       " 'Racal,': 1,\n",
       " 'Libertines': 1,\n",
       " 'and': 90,\n",
       " 'The': 16,\n",
       " 'Strokes!': 1,\n",
       " 'Win': 9,\n",
       " 'Nookii': 1,\n",
       " 'games': 3,\n",
       " 'with': 72,\n",
       " 'Flirt!!': 1,\n",
       " 'Click': 2,\n",
       " 'TheMob': 1,\n",
       " 'WAP': 6,\n",
       " 'Bookmark': 1,\n",
       " 'text': 53,\n",
       " '82468': 2,\n",
       " 'Marvel': 1,\n",
       " 'Mobile': 21,\n",
       " 'Play': 5,\n",
       " 'official': 5,\n",
       " 'Ultimate': 1,\n",
       " 'Spider-man': 1,\n",
       " 'game': 3,\n",
       " '(£4.50)': 1,\n",
       " 'mobile': 69,\n",
       " 'right': 1,\n",
       " 'now.': 13,\n",
       " 'Text': 34,\n",
       " 'SPIDER': 1,\n",
       " '83338': 1,\n",
       " '&': 72,\n",
       " 'we': 9,\n",
       " 'll': 1,\n",
       " 'send': 36,\n",
       " 'u': 36,\n",
       " 'a': 259,\n",
       " 'FREE': 66,\n",
       " '8Ball': 1,\n",
       " 'wallpaper': 2,\n",
       " 'Moby': 2,\n",
       " 'Pub': 2,\n",
       " 'Quiz.Win': 2,\n",
       " '£100': 16,\n",
       " 'High': 2,\n",
       " 'Street': 2,\n",
       " 'prize': 38,\n",
       " 'if': 14,\n",
       " 'know': 18,\n",
       " 'who': 32,\n",
       " 'new': 29,\n",
       " 'Duchess': 2,\n",
       " 'of': 64,\n",
       " 'Cornwall': 2,\n",
       " 'will': 32,\n",
       " 'be?': 2,\n",
       " 'her': 7,\n",
       " 'first': 2,\n",
       " '82277.unsub': 2,\n",
       " 'STOP': 38,\n",
       " '£1.50': 16,\n",
       " '008704050406': 2,\n",
       " 'SP': 3,\n",
       " 'Wan2': 2,\n",
       " 'win': 18,\n",
       " 'Meet+Greet': 2,\n",
       " 'Westlife': 2,\n",
       " 'U': 50,\n",
       " 'm8?': 2,\n",
       " 'They': 2,\n",
       " 'are': 59,\n",
       " 'currently': 7,\n",
       " 'what': 10,\n",
       " 'tour?': 2,\n",
       " '1)Unbreakable,': 2,\n",
       " '2)Untamed,': 2,\n",
       " '3)Unkempt.': 2,\n",
       " '1,2': 2,\n",
       " '3': 16,\n",
       " '83049.': 2,\n",
       " 'Cost': 11,\n",
       " '50p': 3,\n",
       " '+std': 2,\n",
       " 'UR': 16,\n",
       " 'awarded': 27,\n",
       " 'City': 2,\n",
       " 'Break': 3,\n",
       " 'could': 4,\n",
       " 'WIN': 13,\n",
       " '£200': 5,\n",
       " 'Summer': 2,\n",
       " 'Shopping': 2,\n",
       " 'spree': 2,\n",
       " 'every': 24,\n",
       " 'WK.': 2,\n",
       " 'STORE': 2,\n",
       " '88039.SkilGme.TsCs087147403231Winawk!Age16+£1.50perWKsub': 1,\n",
       " '44': 1,\n",
       " '7732584351,': 1,\n",
       " 'Do': 12,\n",
       " 'you': 136,\n",
       " 'want': 13,\n",
       " 'Nokia': 37,\n",
       " '3510i': 4,\n",
       " 'colour': 13,\n",
       " 'phone': 21,\n",
       " 'DeliveredTomorrow?': 2,\n",
       " 'With': 5,\n",
       " '300': 2,\n",
       " 'free': 44,\n",
       " 'minutes': 4,\n",
       " 'any': 20,\n",
       " '+': 14,\n",
       " '100': 11,\n",
       " 'texts': 13,\n",
       " 'Camcorder': 3,\n",
       " 'reply': 43,\n",
       " 'call': 150,\n",
       " '08000930705.': 1,\n",
       " 'Call': 106,\n",
       " 'FREEPHONE': 6,\n",
       " '0800': 9,\n",
       " '542': 3,\n",
       " '0578': 2,\n",
       " 'now!': 38,\n",
       " 'have': 93,\n",
       " 'Secret': 2,\n",
       " 'Admirer': 2,\n",
       " 'is': 108,\n",
       " 'looking': 7,\n",
       " 'make': 9,\n",
       " 'contact': 43,\n",
       " 'U-find': 6,\n",
       " 'out': 34,\n",
       " 'they': 11,\n",
       " 'R*reveal': 6,\n",
       " 'thinks': 8,\n",
       " 'so': 17,\n",
       " 'special-call': 6,\n",
       " '09065171142-stopsms-08718727870150ppm': 1,\n",
       " 'FreeMsg': 4,\n",
       " 'Hi': 9,\n",
       " 'baby': 1,\n",
       " 'wow': 1,\n",
       " 'got': 4,\n",
       " 'cam': 2,\n",
       " 'moby.': 1,\n",
       " 'Wanna': 6,\n",
       " 'C': 9,\n",
       " 'hot': 5,\n",
       " 'pic?': 1,\n",
       " 'Fancy': 5,\n",
       " 'chat?Im': 1,\n",
       " 'w8in': 1,\n",
       " '4uTxt': 1,\n",
       " '/': 1,\n",
       " 'rply': 3,\n",
       " 'CHAT': 10,\n",
       " '82242': 3,\n",
       " 'Hlp': 2,\n",
       " '08712317606': 2,\n",
       " 'Msg150p': 2,\n",
       " '2rcv': 2,\n",
       " 'Will': 1,\n",
       " 'meet': 3,\n",
       " 'dream': 1,\n",
       " 'partner': 3,\n",
       " 'soon?': 1,\n",
       " 'Is': 1,\n",
       " 'career': 1,\n",
       " 'off': 1,\n",
       " 'flyng': 1,\n",
       " 'start?': 1,\n",
       " 'find': 14,\n",
       " 'free,': 2,\n",
       " 'txt': 53,\n",
       " 'HORO': 2,\n",
       " 'followed': 3,\n",
       " 'by': 26,\n",
       " 'star': 1,\n",
       " 'sign,': 1,\n",
       " 'e.': 2,\n",
       " 'g.': 2,\n",
       " 'ARIES': 1,\n",
       " 'can': 19,\n",
       " 'Music': 3,\n",
       " 'Gift': 4,\n",
       " 'Vouchers': 3,\n",
       " 'week': 24,\n",
       " 'starting': 3,\n",
       " 'NOW': 18,\n",
       " 'word': 10,\n",
       " 'DRAW': 3,\n",
       " '87066': 8,\n",
       " 'TsCs': 3,\n",
       " 'www.Idew.com': 2,\n",
       " 'SkillGame,': 2,\n",
       " '1Winaweek,': 2,\n",
       " 'age16.': 2,\n",
       " '150ppermessSubscription': 2,\n",
       " 'GOING': 3,\n",
       " 'BAHAMAS!': 2,\n",
       " 'CallFREEFONE': 2,\n",
       " '08081560665': 2,\n",
       " 'speak': 4,\n",
       " 'live': 13,\n",
       " 'operator': 10,\n",
       " 'claim': 59,\n",
       " 'either': 8,\n",
       " 'Bahamas': 2,\n",
       " 'cruise': 2,\n",
       " 'of£2000': 2,\n",
       " 'CASH': 8,\n",
       " '18+only.': 2,\n",
       " 'To': 63,\n",
       " 'opt': 9,\n",
       " 'X': 5,\n",
       " '07786200117': 2,\n",
       " 'Urgent!': 7,\n",
       " 'Please': 26,\n",
       " '09061213237': 2,\n",
       " 'landline.': 11,\n",
       " '£5000': 14,\n",
       " 'cash': 31,\n",
       " '4*': 16,\n",
       " 'holiday': 8,\n",
       " 'await': 14,\n",
       " 'collection.': 13,\n",
       " 'T': 8,\n",
       " '&Cs': 1,\n",
       " 'SAE': 11,\n",
       " 'PO': 26,\n",
       " 'Box': 18,\n",
       " '177': 1,\n",
       " 'M227XY.': 2,\n",
       " '16+': 17,\n",
       " 'Join': 5,\n",
       " \"UK's\": 5,\n",
       " 'horniest': 1,\n",
       " 'Dogging': 9,\n",
       " 'service': 36,\n",
       " 'sex': 3,\n",
       " '2nite!.': 1,\n",
       " 'Just': 23,\n",
       " 'sign': 1,\n",
       " 'up': 13,\n",
       " 'follow': 1,\n",
       " 'instructions.': 1,\n",
       " 'ENTRY': 1,\n",
       " '69888': 1,\n",
       " 'Nyt.EC2A.3LP.msg@150p': 1,\n",
       " \"Don't\": 2,\n",
       " 'b': 2,\n",
       " 'floppy...': 1,\n",
       " 'snappy': 1,\n",
       " 'happy!': 1,\n",
       " 'Only': 8,\n",
       " 'gay': 4,\n",
       " 'chat': 11,\n",
       " 'photo': 3,\n",
       " 'upload': 2,\n",
       " '08718730666': 2,\n",
       " '(10p/min).': 2,\n",
       " 'stop': 32,\n",
       " 'our': 57,\n",
       " '08712460324': 7,\n",
       " 'Spook': 1,\n",
       " 'your': 147,\n",
       " 'mob': 12,\n",
       " 'Halloween': 2,\n",
       " 'collection': 7,\n",
       " 'logo': 2,\n",
       " 'pic': 2,\n",
       " 'message': 16,\n",
       " 'plus': 4,\n",
       " 'eerie': 2,\n",
       " 'tone,': 4,\n",
       " 'CARD': 2,\n",
       " 'SPOOK': 2,\n",
       " '08701417012150p': 1,\n",
       " 'per': 32,\n",
       " 'logo/pic': 1,\n",
       " '09066612661': 3,\n",
       " 'landline,': 2,\n",
       " 'complimentary': 9,\n",
       " 'Lux': 1,\n",
       " 'Costa': 5,\n",
       " 'Del': 6,\n",
       " 'Sol': 5,\n",
       " '£1000': 22,\n",
       " 'ppm': 2,\n",
       " '150': 5,\n",
       " 'T&Cs': 16,\n",
       " 'James': 1,\n",
       " '28,': 1,\n",
       " 'EH74RR': 1,\n",
       " 'secret': 6,\n",
       " 'admirer.': 2,\n",
       " 'REVEAL': 4,\n",
       " 'R': 7,\n",
       " 'So': 2,\n",
       " 'special.': 2,\n",
       " '09065174042.': 2,\n",
       " 'Reply': 32,\n",
       " 'STOP.': 8,\n",
       " '1.50': 3,\n",
       " 'msg': 12,\n",
       " 'recd.': 2,\n",
       " 'Cust': 2,\n",
       " 'care': 4,\n",
       " '07821230901': 2,\n",
       " 'ou': 1,\n",
       " 'guaranteed': 19,\n",
       " 'latest': 20,\n",
       " 'Phone,': 3,\n",
       " '40GB': 3,\n",
       " 'iPod': 3,\n",
       " 'MP3': 4,\n",
       " 'player': 9,\n",
       " '£500': 11,\n",
       " 'prize!': 10,\n",
       " 'word:': 5,\n",
       " 'COLLECT': 3,\n",
       " 'No:': 11,\n",
       " '83355!': 2,\n",
       " 'IBHltd': 2,\n",
       " 'LdnW15H': 2,\n",
       " '150p/Mtmsgrcvd18': 1,\n",
       " 'SMS.': 3,\n",
       " 'ac': 3,\n",
       " 'JSco:': 1,\n",
       " 'Energy': 1,\n",
       " 'high,': 1,\n",
       " 'but': 6,\n",
       " 'may': 4,\n",
       " 'not': 11,\n",
       " 'where': 1,\n",
       " '2channel': 1,\n",
       " 'it.': 1,\n",
       " '2day': 2,\n",
       " 'leadership': 1,\n",
       " 'skills': 1,\n",
       " 'r': 10,\n",
       " 'strong.': 1,\n",
       " 'Psychic?': 1,\n",
       " 'ANS': 1,\n",
       " 'w/question.': 1,\n",
       " 'End?': 1,\n",
       " 'END': 1,\n",
       " 'JSCO': 1,\n",
       " 'laugh?': 1,\n",
       " 'Try': 1,\n",
       " 'CHIT-CHAT': 1,\n",
       " 'Logon': 1,\n",
       " 'txting': 8,\n",
       " 'it': 16,\n",
       " '8883': 1,\n",
       " 'CM': 1,\n",
       " '4217': 1,\n",
       " 'London': 4,\n",
       " 'W1A': 1,\n",
       " '6ZF': 1,\n",
       " '118p/msg': 1,\n",
       " 'rcvd': 2,\n",
       " 'For': 16,\n",
       " 'chance': 11,\n",
       " 'Bluetooth': 8,\n",
       " 'Headset': 1,\n",
       " 'then': 5,\n",
       " 'simply': 1,\n",
       " 'back': 11,\n",
       " '\"ADP\"': 1,\n",
       " 'Colour': 2,\n",
       " 'Phone': 4,\n",
       " 'Delivered': 2,\n",
       " 'Tomorrow?': 2,\n",
       " '200': 3,\n",
       " 'camcorder': 6,\n",
       " '8000930705': 1,\n",
       " 'Hello': 2,\n",
       " 'darling': 2,\n",
       " 'how': 3,\n",
       " 'today?': 1,\n",
       " 'I': 19,\n",
       " 'would': 1,\n",
       " 'love': 5,\n",
       " 'chat,': 1,\n",
       " 'why': 5,\n",
       " 'dont': 3,\n",
       " 'tell': 12,\n",
       " 'me': 16,\n",
       " 'look': 2,\n",
       " 'like': 11,\n",
       " 'sexy?': 1,\n",
       " 'CALL': 18,\n",
       " '08712402972': 1,\n",
       " 'immediately': 4,\n",
       " 'as': 19,\n",
       " 'there': 8,\n",
       " 'an': 17,\n",
       " 'urgent': 4,\n",
       " 'waiting': 13,\n",
       " 'Got': 2,\n",
       " 'takes': 3,\n",
       " 'take': 9,\n",
       " 'part': 6,\n",
       " 'WRC': 2,\n",
       " 'Rally': 2,\n",
       " 'Oz?': 2,\n",
       " 'Lucozade': 2,\n",
       " 'Energy!': 2,\n",
       " 'RALLY': 2,\n",
       " 'LE': 2,\n",
       " '61200': 2,\n",
       " '(25p),': 2,\n",
       " 'see': 7,\n",
       " 'packs': 2,\n",
       " 'lucozade.co.uk/wrc': 2,\n",
       " 'itcould': 2,\n",
       " 'be': 39,\n",
       " 'u!': 5,\n",
       " '88800': 1,\n",
       " '89034': 1,\n",
       " 'premium': 2,\n",
       " 'services': 9,\n",
       " '08718711108': 1,\n",
       " 'Orange': 16,\n",
       " 'brings': 1,\n",
       " 'ringtones': 2,\n",
       " 'time': 11,\n",
       " 'Chart': 1,\n",
       " 'Heroes,': 1,\n",
       " 'hit': 2,\n",
       " 'each': 5,\n",
       " 'week!': 11,\n",
       " 'Go': 3,\n",
       " 'Ringtones': 1,\n",
       " 'Pics': 1,\n",
       " 'wap.': 2,\n",
       " 'receiving': 2,\n",
       " 'these': 2,\n",
       " 'tips': 1,\n",
       " 'Sorry': 1,\n",
       " 'missed': 1,\n",
       " \"let's\": 2,\n",
       " 'talk': 4,\n",
       " 'when': 6,\n",
       " 'time.': 3,\n",
       " \"I'm\": 6,\n",
       " '07090201529': 1,\n",
       " 'shag?': 1,\n",
       " 'do.Interested?': 1,\n",
       " 'sextextuk.com': 1,\n",
       " 'XXUK': 1,\n",
       " 'SUZY': 1,\n",
       " '69876.': 1,\n",
       " 'Txts': 1,\n",
       " 'cost': 7,\n",
       " 'msg.': 3,\n",
       " 'TnCs': 4,\n",
       " 'website.': 1,\n",
       " 'admirer': 4,\n",
       " '09058094599': 2,\n",
       " 'URGENT!': 25,\n",
       " 'Your': 56,\n",
       " 'No.': 6,\n",
       " 'was': 7,\n",
       " '£2000': 17,\n",
       " 'Bonus': 13,\n",
       " 'Caller': 8,\n",
       " 'Prize': 8,\n",
       " '5/9/03': 1,\n",
       " 'This': 29,\n",
       " 'final': 9,\n",
       " 'try': 2,\n",
       " 'U!': 2,\n",
       " 'Landline': 4,\n",
       " '09064019788': 1,\n",
       " 'BOX42WR29C,': 1,\n",
       " '150PPM': 2,\n",
       " \"You've\": 2,\n",
       " 'won': 30,\n",
       " 'tkts': 4,\n",
       " 'EURO2004': 2,\n",
       " 'CUP': 2,\n",
       " 'FINAL': 2,\n",
       " '£800': 8,\n",
       " 'CASH,': 2,\n",
       " 'collect': 15,\n",
       " '09058099801': 2,\n",
       " 'b4190604,': 2,\n",
       " 'POBOX': 4,\n",
       " '7876150ppm': 2,\n",
       " '09061749602': 1,\n",
       " 'Landline.': 2,\n",
       " 'Tenerife': 4,\n",
       " 'Holiday': 15,\n",
       " '£10,000': 5,\n",
       " 'BOX': 7,\n",
       " '528': 1,\n",
       " 'HP20': 1,\n",
       " '1YF': 1,\n",
       " '150ppm': 19,\n",
       " '18+': 12,\n",
       " 'ASKED': 1,\n",
       " '3MOBILE': 1,\n",
       " 'IF': 1,\n",
       " '0870': 4,\n",
       " 'CHATLINES': 1,\n",
       " 'INCLU': 1,\n",
       " 'IN': 3,\n",
       " 'MINS.': 1,\n",
       " 'INDIA': 1,\n",
       " 'CUST': 1,\n",
       " 'SERVs': 1,\n",
       " 'SED': 1,\n",
       " 'YES.': 2,\n",
       " 'L8ER': 1,\n",
       " 'GOT': 1,\n",
       " 'MEGA': 1,\n",
       " 'BILL.': 1,\n",
       " 'DONT': 1,\n",
       " 'GIV': 1,\n",
       " 'A': 14,\n",
       " 'SHIT.': 1,\n",
       " 'BAILIFF': 1,\n",
       " 'DUE': 1,\n",
       " 'DAYS.': 1,\n",
       " 'O': 1,\n",
       " '£250': 8,\n",
       " 'WANT': 1,\n",
       " 'Twinks,': 1,\n",
       " 'bears,': 1,\n",
       " 'scallies,': 1,\n",
       " 'skins': 1,\n",
       " 'jocks': 1,\n",
       " 'calling': 4,\n",
       " 'miss': 5,\n",
       " \"weekend's\": 2,\n",
       " 'fun.': 1,\n",
       " '08712466669': 1,\n",
       " '10p/min.': 2,\n",
       " '08712460324(nat': 1,\n",
       " 'rate)': 5,\n",
       " 'You': 53,\n",
       " 'WON': 14,\n",
       " 'prize.': 10,\n",
       " 'yr': 9,\n",
       " 'customer': 26,\n",
       " 'representative': 9,\n",
       " '08714712412': 1,\n",
       " 'between': 8,\n",
       " '10am-7pm': 3,\n",
       " '10p': 7,\n",
       " 'Get': 29,\n",
       " 'ENGLAND': 2,\n",
       " 'poly': 6,\n",
       " 'ringtone': 15,\n",
       " 'flag': 4,\n",
       " 'yer': 4,\n",
       " 'tonights': 2,\n",
       " 'game!': 2,\n",
       " 'TONE': 9,\n",
       " 'FLAG': 4,\n",
       " '84199.': 2,\n",
       " 'Optout': 2,\n",
       " 'ENG': 4,\n",
       " 'Box39822': 4,\n",
       " 'W111WX': 4,\n",
       " 'okmail:': 1,\n",
       " 'Dear': 12,\n",
       " 'Dave': 1,\n",
       " 'this': 40,\n",
       " 'notice': 2,\n",
       " '#5000': 1,\n",
       " 'award!': 3,\n",
       " '09061743806': 1,\n",
       " 'TCs': 1,\n",
       " 'Box326': 1,\n",
       " 'CW25WX': 1,\n",
       " 'December': 5,\n",
       " 'only!': 6,\n",
       " 'Had': 13,\n",
       " '11mths+?': 5,\n",
       " 'entitled': 8,\n",
       " 'update': 6,\n",
       " 'camera': 14,\n",
       " 'Free!': 6,\n",
       " 'Update': 11,\n",
       " 'Co': 5,\n",
       " '08002986906': 4,\n",
       " 'Jamster!': 1,\n",
       " 'get': 28,\n",
       " 'HEART': 1,\n",
       " '88888': 1,\n",
       " 'T&C': 8,\n",
       " 'apply.': 11,\n",
       " '16': 20,\n",
       " 'only.': 5,\n",
       " 'Need': 3,\n",
       " 'Help?': 2,\n",
       " '08701213186.': 1,\n",
       " 'We': 24,\n",
       " 'trying': 11,\n",
       " 'U.': 10,\n",
       " 'Todays': 14,\n",
       " 'draw': 22,\n",
       " 'shows': 25,\n",
       " 'that': 19,\n",
       " 'GUARANTEED.': 14,\n",
       " '09050003091': 1,\n",
       " 'land': 14,\n",
       " 'line.': 13,\n",
       " 'Claim': 21,\n",
       " 'C52.': 1,\n",
       " 'Valid12hrs': 3,\n",
       " 'only': 35,\n",
       " 'number': 23,\n",
       " 'has': 24,\n",
       " 'been': 33,\n",
       " '<UKP>2000': 1,\n",
       " '09061790125': 1,\n",
       " '3030.': 5,\n",
       " 'Valid': 14,\n",
       " '12hrs': 11,\n",
       " 'Alfie': 1,\n",
       " 'CHARITY': 2,\n",
       " 'nokias': 1,\n",
       " 'POLY': 2,\n",
       " 'polys': 4,\n",
       " ':zed': 1,\n",
       " 'FreeMsg:': 3,\n",
       " 'flirt?': 1,\n",
       " 'DATE': 3,\n",
       " 'now': 44,\n",
       " 'join': 5,\n",
       " 'UKs': 1,\n",
       " 'fastest': 1,\n",
       " 'growing': 1,\n",
       " 'dating': 12,\n",
       " 'service.': 3,\n",
       " 'Msgs': 2,\n",
       " 'optout': 1,\n",
       " '83021.': 1,\n",
       " 'specially': 5,\n",
       " 'selected': 19,\n",
       " '2000': 1,\n",
       " 'pound': 1,\n",
       " '08712402050': 2,\n",
       " 'BEFORE': 2,\n",
       " 'lines': 2,\n",
       " 'close.': 2,\n",
       " '10ppm.': 2,\n",
       " '16+.': 3,\n",
       " 'AG': 2,\n",
       " 'Promo': 2,\n",
       " 'Congrats!': 7,\n",
       " '3G': 3,\n",
       " 'Videophones': 3,\n",
       " 'yours.': 6,\n",
       " '09063458130': 2,\n",
       " 'videochat': 3,\n",
       " 'wid': 3,\n",
       " 'mates,': 3,\n",
       " 'play': 5,\n",
       " 'java': 3,\n",
       " 'games,': 4,\n",
       " 'Dload': 3,\n",
       " 'polyPH': 1,\n",
       " 'music,': 3,\n",
       " 'noline': 3,\n",
       " 'rentl.': 3,\n",
       " 'Text82228>>': 1,\n",
       " 'more': 10,\n",
       " 'ringtones,': 1,\n",
       " 'logos': 1,\n",
       " 'www.txt82228.com.': 1,\n",
       " 'Questions:': 1,\n",
       " 'info@txt82228.co.uk': 1,\n",
       " 'NOKIA': 14,\n",
       " 'Or': 3,\n",
       " 'Motorola': 5,\n",
       " 'upto': 2,\n",
       " '12mths': 1,\n",
       " '1/2price': 1,\n",
       " 'linerental,': 1,\n",
       " '500': 16,\n",
       " 'x-net': 1,\n",
       " 'mins&100txt/mth': 1,\n",
       " \"B'tooth*.\": 1,\n",
       " 'Mobileupd8': 1,\n",
       " '08001950382': 2,\n",
       " '2optout/D3WV': 1,\n",
       " 'YOU': 7,\n",
       " 'ARE': 2,\n",
       " 'CHOSEN': 2,\n",
       " 'TO': 4,\n",
       " 'RECEIVE': 2,\n",
       " '£350': 9,\n",
       " 'AWARD!': 2,\n",
       " 'Pls': 3,\n",
       " '09066364311': 2,\n",
       " 'award': 7,\n",
       " 'which': 8,\n",
       " 'valued': 10,\n",
       " 'customer.': 4,\n",
       " 'Panasonic': 1,\n",
       " 'BluetoothHdset': 1,\n",
       " 'FREE.': 6,\n",
       " 'DoubleMins': 1,\n",
       " 'DoubleTxt': 1,\n",
       " 'contract.': 1,\n",
       " 'MobileUpd8': 14,\n",
       " '08000839402': 14,\n",
       " '2optout': 4,\n",
       " 'BANNEDUK': 1,\n",
       " '89555': 2,\n",
       " 'see!': 1,\n",
       " '150p': 15,\n",
       " 'textoperator': 2,\n",
       " 'g696ga': 2,\n",
       " 'XXX': 4,\n",
       " 'Fantasy': 1,\n",
       " 'Football': 1,\n",
       " 'TV.': 1,\n",
       " 'Sky': 2,\n",
       " 'Gamestar': 1,\n",
       " 'Active': 1,\n",
       " '£250k': 1,\n",
       " 'Dream': 1,\n",
       " 'Team.': 1,\n",
       " 'Scoring': 1,\n",
       " 'starts': 1,\n",
       " 'Saturday,': 1,\n",
       " 'register': 1,\n",
       " 'now!SKY': 1,\n",
       " 'OPT': 1,\n",
       " 'OUT': 4,\n",
       " '88088': 1,\n",
       " 'Bored': 2,\n",
       " 'housewives!': 2,\n",
       " 'n': 7,\n",
       " 'date': 3,\n",
       " '0871750.77.11!': 2,\n",
       " 'BT-national': 2,\n",
       " 'rate': 9,\n",
       " '10p/min': 3,\n",
       " 'landlines!': 2,\n",
       " 'someone': 6,\n",
       " 'fancies': 3,\n",
       " 'you.': 6,\n",
       " '09058097218': 1,\n",
       " 'who.': 1,\n",
       " 'POBox': 9,\n",
       " '6,': 2,\n",
       " 'LS15HB': 2,\n",
       " '-PLS': 1,\n",
       " 'bootydelious': 1,\n",
       " '(32/F)': 1,\n",
       " 'inviting': 6,\n",
       " 'friend.': 6,\n",
       " 'YES-434': 1,\n",
       " 'NO-434': 1,\n",
       " 'See': 10,\n",
       " 'her:': 5,\n",
       " 'www.SMS.ac/u/bootydelious': 1,\n",
       " 'STOP?': 6,\n",
       " 'Send': 16,\n",
       " 'FRND': 6,\n",
       " '62468': 7,\n",
       " '08702490080': 1,\n",
       " '-': 38,\n",
       " 'tells': 1,\n",
       " '09066358152': 1,\n",
       " 'enter': 5,\n",
       " 'personal': 1,\n",
       " 'details': 5,\n",
       " '@': 4,\n",
       " 'prompts.': 1,\n",
       " 'Careful!': 1,\n",
       " 'Voucher': 5,\n",
       " 'Holder': 1,\n",
       " '1st': 20,\n",
       " 'class': 2,\n",
       " 'airport': 1,\n",
       " 'lounge': 1,\n",
       " 'passes': 1,\n",
       " 'using': 1,\n",
       " 'voucher': 5,\n",
       " '08704439680.': 1,\n",
       " 'When': 1,\n",
       " 'booking': 1,\n",
       " 'quote': 1,\n",
       " 'x': 3,\n",
       " '+123': 2,\n",
       " 'Congratulations': 7,\n",
       " \"week's\": 4,\n",
       " 'competition': 2,\n",
       " '£1450': 3,\n",
       " '09050002311': 2,\n",
       " 'b4280703.': 2,\n",
       " 'T&Cs/stop': 3,\n",
       " 'SMS': 9,\n",
       " '08718727868.': 2,\n",
       " 'Over': 2,\n",
       " '18': 16,\n",
       " 'shopping': 1,\n",
       " 'spree,': 1,\n",
       " '08717895698': 1,\n",
       " 'Have': 2,\n",
       " 'won!': 1,\n",
       " 'MobStoreQuiz10ppm': 1,\n",
       " '\"3000': 1,\n",
       " 'RINGTONE': 3,\n",
       " 'NOW!': 12,\n",
       " 'TONE.': 1,\n",
       " 'Gr8': 4,\n",
       " 'TOP': 1,\n",
       " '20': 3,\n",
       " 'tones': 11,\n",
       " 'wk': 5,\n",
       " '08452810071': 1,\n",
       " 'Video': 9,\n",
       " 'handset?': 3,\n",
       " '750': 14,\n",
       " 'network': 19,\n",
       " 'mins?': 5,\n",
       " 'UNLIMITED': 5,\n",
       " 'TEXT?': 2,\n",
       " 'Camcorder?': 3,\n",
       " '08000930705': 13,\n",
       " 'del': 1,\n",
       " 'Sat': 2,\n",
       " 'AM': 1,\n",
       " '*': 1,\n",
       " 'FREE*': 1,\n",
       " 'POLYPHONIC': 3,\n",
       " 'SUPER': 1,\n",
       " '87131': 3,\n",
       " 'SN': 1,\n",
       " 'PoBox202': 1,\n",
       " 'NR31': 1,\n",
       " '7ZS': 1,\n",
       " 'subscription': 3,\n",
       " '450pw': 1,\n",
       " 'Final': 2,\n",
       " 'Chance!': 3,\n",
       " '£150': 6,\n",
       " 'worth': 9,\n",
       " 'discount': 7,\n",
       " 'vouchers': 10,\n",
       " 'today!': 6,\n",
       " 'YES': 9,\n",
       " '85023': 5,\n",
       " 'SavaMob,': 5,\n",
       " 'member': 3,\n",
       " 'offers': 8,\n",
       " 'mobile!': 7,\n",
       " 'Cs': 6,\n",
       " 'SavaMob': 5,\n",
       " 'POBOX84,': 3,\n",
       " 'M263UZ.': 3,\n",
       " '£3.00': 5,\n",
       " 'Subs': 1,\n",
       " 'cmon': 1,\n",
       " 'babe,': 1,\n",
       " 'horny,': 1,\n",
       " '*turn*': 1,\n",
       " 'on!': 2,\n",
       " 'fantasy': 1,\n",
       " 'babe': 4,\n",
       " '-)': 1,\n",
       " 'Im': 4,\n",
       " 'hot,': 1,\n",
       " 'sticky': 1,\n",
       " 'All': 1,\n",
       " 'replies': 1,\n",
       " '£1.50.': 1,\n",
       " 'cancel': 4,\n",
       " '1': 21,\n",
       " 'year': 4,\n",
       " 'special': 4,\n",
       " 'cinema': 3,\n",
       " 'pass': 3,\n",
       " '09061209465': 3,\n",
       " 'Suprman': 3,\n",
       " 'V,': 3,\n",
       " 'Matrix3,': 3,\n",
       " 'StarWars3,': 3,\n",
       " 'etc': 3,\n",
       " 'FREE!': 13,\n",
       " 'bx420-ip4-5we.': 3,\n",
       " '150pm.': 3,\n",
       " 'Dont': 4,\n",
       " 'out!': 4,\n",
       " 'Show': 1,\n",
       " 'colours!': 1,\n",
       " 'Euro': 1,\n",
       " '2004': 4,\n",
       " '2-4-1': 1,\n",
       " 'Offer!': 4,\n",
       " 'England': 3,\n",
       " 'Flag': 1,\n",
       " '3Lions': 1,\n",
       " 'tone': 16,\n",
       " 'phone!': 2,\n",
       " 'following': 4,\n",
       " 'info!': 1,\n",
       " 'IMPORTANT': 3,\n",
       " 'INFORMATION': 2,\n",
       " 'ORANGE': 1,\n",
       " 'USER': 1,\n",
       " '0796XXXXXX.': 1,\n",
       " 'TODAY': 2,\n",
       " 'IS': 8,\n",
       " 'LUCKY': 2,\n",
       " 'DAY!2': 1,\n",
       " 'FIND': 2,\n",
       " 'WHY': 2,\n",
       " 'LOG': 2,\n",
       " 'ONTO': 2,\n",
       " 'http://www.urawinner.com': 5,\n",
       " \"THERE'S\": 3,\n",
       " 'FANTASTIC': 4,\n",
       " 'PRIZEAWAITING': 1,\n",
       " 'YOU!': 10,\n",
       " 'garden': 2,\n",
       " 'ready': 4,\n",
       " 'summer': 4,\n",
       " 'selection': 5,\n",
       " 'bulbs': 2,\n",
       " 'seeds': 2,\n",
       " '£33:50': 2,\n",
       " 'Scotsman': 2,\n",
       " 'Saturday.': 2,\n",
       " 'go2': 2,\n",
       " 'notxt.co.uk': 2,\n",
       " '0808': 3,\n",
       " '145': 3,\n",
       " '4742': 3,\n",
       " '9am-11pm': 3,\n",
       " 'important': 6,\n",
       " 'announcement.': 3,\n",
       " '0825': 1,\n",
       " '09061790121': 2,\n",
       " 'complementary': 1,\n",
       " 'WA14': 1,\n",
       " '2PX': 1,\n",
       " 'Sender:': 1,\n",
       " ...}"
      ]
     },
     "execution_count": 39,
     "metadata": {},
     "output_type": "execute_result"
    }
   ],
   "source": [
    "# Your code her\n",
    "class_word_freq = {}\n",
    "\n",
    "classes = train_df['label'].unique()\n",
    "\n",
    "for class_ in classes:\n",
    "    temp_df = train_df[train_df['label']==class_]\n",
    "    \n",
    "    bag = {}\n",
    "    \n",
    "    for row in temp_df.index:\n",
    "        doc = temp_df['text'][row]\n",
    "        \n",
    "        for word in doc.split():\n",
    "            bag[word] = bag.get(word,0) +1\n",
    "    class_word_freq[class_] = bag\n",
    "        \n",
    "print(class_word_freq.keys())\n",
    "class_word_freq['spam']"
   ]
  },
  {
   "cell_type": "markdown",
   "metadata": {},
   "source": [
    "## Count the total corpus words\n",
    "Calculate V, the total number of words in the corpus: "
   ]
  },
  {
   "cell_type": "code",
   "execution_count": 45,
   "metadata": {
    "ExecuteTime": {
     "end_time": "2020-04-04T18:26:27.815118Z",
     "start_time": "2020-04-04T18:26:27.810383Z"
    }
   },
   "outputs": [
    {
     "data": {
      "text/plain": [
       "5958"
      ]
     },
     "execution_count": 45,
     "metadata": {},
     "output_type": "execute_result"
    }
   ],
   "source": [
    "vocab  = set([*class_word_freq['spam'],*class_word_freq['ham']])\n",
    "V = len(vocab)\n",
    "V"
   ]
  },
  {
   "cell_type": "code",
   "execution_count": 46,
   "metadata": {
    "ExecuteTime": {
     "end_time": "2020-04-04T18:26:30.094863Z",
     "start_time": "2020-04-04T18:26:30.092766Z"
    }
   },
   "outputs": [],
   "source": [
    "# # Your code here\n",
    "# V = [*class_word_freq['spam']]"
   ]
  },
  {
   "cell_type": "markdown",
   "metadata": {},
   "source": [
    "## Create a bag of words function\n",
    "\n",
    "Before implementing the entire Naive Bayes algorithm, create a helper function `bag_it()` to create a bag of words representation from a document's text."
   ]
  },
  {
   "cell_type": "code",
   "execution_count": 51,
   "metadata": {
    "ExecuteTime": {
     "end_time": "2020-04-04T18:29:26.472370Z",
     "start_time": "2020-04-04T18:29:26.469319Z"
    }
   },
   "outputs": [],
   "source": [
    "# Your code here'\n",
    "def bag_it(doc):\n",
    "    bag= {}\n",
    "    for word in doc.split():\n",
    "        bag[word] = bag.get(word,0)+1\n",
    "    return bag\n",
    "\n",
    "# bag_it(X_train.iloc[0])"
   ]
  },
  {
   "cell_type": "markdown",
   "metadata": {},
   "source": [
    "## Implementing Naive Bayes\n",
    "\n",
    "Now, implement a master function to build a naive Bayes classifier. Be sure to use the logarithmic probabilities to avoid underflow."
   ]
  },
  {
   "cell_type": "code",
   "execution_count": 53,
   "metadata": {
    "ExecuteTime": {
     "end_time": "2020-04-04T18:31:03.086052Z",
     "start_time": "2020-04-04T18:31:03.079095Z"
    }
   },
   "outputs": [
    {
     "data": {
      "text/plain": [
       "{'spam': 0.5, 'ham': 0.5}"
      ]
     },
     "execution_count": 53,
     "metadata": {},
     "output_type": "execute_result"
    }
   ],
   "source": [
    "p_classes = dict(df2['label'].value_counts(normalize=True))\n",
    "p_classes"
   ]
  },
  {
   "cell_type": "code",
   "execution_count": 54,
   "metadata": {
    "ExecuteTime": {
     "end_time": "2020-04-04T18:34:40.763192Z",
     "start_time": "2020-04-04T18:34:40.757690Z"
    }
   },
   "outputs": [],
   "source": [
    "# Your code here\n",
    "def classify_doc(doc, class_word_freq, p_classes, V, return_posteriors=False):\n",
    "    bag = bag_it(doc)\n",
    "    \n",
    "    classes = []\n",
    "    posteriors = []\n",
    "    \n",
    "    for class_ in class_word_freq.keys():\n",
    "        p = np.log(p_classes[class_])\n",
    "        \n",
    "        for word in bag.keys():\n",
    "            num = bag[word] + 1\n",
    "            denom = class_word_freq[class_].get(word,0) + V\n",
    "            \n",
    "            p += np.log(num/denom)\n",
    "        classes.append(class_)\n",
    "        posteriors.append(p)\n",
    "        \n",
    "    if return_posteriors:\n",
    "        print(posteriors)\n",
    "    \n",
    "    return classes[np.argmax(posteriors)]"
   ]
  },
  {
   "cell_type": "markdown",
   "metadata": {},
   "source": [
    "## Test your classifier\n",
    "\n",
    "Finally, test your classifier and measure its accuracy. Don't be perturbed if your results are sub-par; industry use cases would require substantial additional preprocessing before implementing the algorithm in practice."
   ]
  },
  {
   "cell_type": "code",
   "execution_count": 58,
   "metadata": {
    "ExecuteTime": {
     "end_time": "2020-04-04T18:36:00.208103Z",
     "start_time": "2020-04-04T18:36:00.205619Z"
    }
   },
   "outputs": [],
   "source": [
    "from sklearn import metrics"
   ]
  },
  {
   "cell_type": "code",
   "execution_count": 59,
   "metadata": {
    "ExecuteTime": {
     "end_time": "2020-04-04T18:36:09.775254Z",
     "start_time": "2020-04-04T18:36:09.684960Z"
    }
   },
   "outputs": [
    {
     "data": {
      "text/plain": [
       "0.2669642857142857"
      ]
     },
     "execution_count": 59,
     "metadata": {},
     "output_type": "execute_result"
    }
   ],
   "source": [
    "# Your code here\n",
    "y_hat_train = X_train.map(lambda x: classify_doc(x,class_word_freq, p_classes, V))\n",
    "metrics.accuracy_score(y_train, y_hat_train)"
   ]
  },
  {
   "cell_type": "code",
   "execution_count": 61,
   "metadata": {
    "ExecuteTime": {
     "end_time": "2020-04-04T18:36:29.219182Z",
     "start_time": "2020-04-04T18:36:29.183592Z"
    }
   },
   "outputs": [
    {
     "data": {
      "text/plain": [
       "0.2914438502673797"
      ]
     },
     "execution_count": 61,
     "metadata": {},
     "output_type": "execute_result"
    }
   ],
   "source": [
    "y_hat_test= X_test.map(lambda x: classify_doc(x,class_word_freq, p_classes, V))\n",
    "metrics.accuracy_score(y_test, y_hat_test)"
   ]
  },
  {
   "cell_type": "markdown",
   "metadata": {},
   "source": [
    "## Level up (Optional)\n",
    "\n",
    "Rework your code into an appropriate class structure so that you could easily implement the algorithm on any given dataset."
   ]
  },
  {
   "cell_type": "markdown",
   "metadata": {},
   "source": [
    "## Summary\n",
    "\n",
    "Well done! In this lab, you practiced implementing Naive Bayes for document classification!"
   ]
  },
  {
   "cell_type": "markdown",
   "metadata": {},
   "source": []
  },
  {
   "cell_type": "markdown",
   "metadata": {},
   "source": [
    "# with sklearn now `"
   ]
  },
  {
   "cell_type": "code",
   "execution_count": 65,
   "metadata": {
    "ExecuteTime": {
     "end_time": "2020-04-04T18:39:31.651990Z",
     "start_time": "2020-04-04T18:39:31.643840Z"
    }
   },
   "outputs": [
    {
     "data": {
      "text/plain": [
       "['i',\n",
       " 'me',\n",
       " 'my',\n",
       " 'myself',\n",
       " 'we',\n",
       " 'our',\n",
       " 'ours',\n",
       " 'ourselves',\n",
       " 'you',\n",
       " \"you're\",\n",
       " \"you've\",\n",
       " \"you'll\",\n",
       " \"you'd\",\n",
       " 'your',\n",
       " 'yours',\n",
       " 'yourself',\n",
       " 'yourselves',\n",
       " 'he',\n",
       " 'him',\n",
       " 'his',\n",
       " 'himself',\n",
       " 'she',\n",
       " \"she's\",\n",
       " 'her',\n",
       " 'hers',\n",
       " 'herself',\n",
       " 'it',\n",
       " \"it's\",\n",
       " 'its',\n",
       " 'itself',\n",
       " 'they',\n",
       " 'them',\n",
       " 'their',\n",
       " 'theirs',\n",
       " 'themselves',\n",
       " 'what',\n",
       " 'which',\n",
       " 'who',\n",
       " 'whom',\n",
       " 'this',\n",
       " 'that',\n",
       " \"that'll\",\n",
       " 'these',\n",
       " 'those',\n",
       " 'am',\n",
       " 'is',\n",
       " 'are',\n",
       " 'was',\n",
       " 'were',\n",
       " 'be',\n",
       " 'been',\n",
       " 'being',\n",
       " 'have',\n",
       " 'has',\n",
       " 'had',\n",
       " 'having',\n",
       " 'do',\n",
       " 'does',\n",
       " 'did',\n",
       " 'doing',\n",
       " 'a',\n",
       " 'an',\n",
       " 'the',\n",
       " 'and',\n",
       " 'but',\n",
       " 'if',\n",
       " 'or',\n",
       " 'because',\n",
       " 'as',\n",
       " 'until',\n",
       " 'while',\n",
       " 'of',\n",
       " 'at',\n",
       " 'by',\n",
       " 'for',\n",
       " 'with',\n",
       " 'about',\n",
       " 'against',\n",
       " 'between',\n",
       " 'into',\n",
       " 'through',\n",
       " 'during',\n",
       " 'before',\n",
       " 'after',\n",
       " 'above',\n",
       " 'below',\n",
       " 'to',\n",
       " 'from',\n",
       " 'up',\n",
       " 'down',\n",
       " 'in',\n",
       " 'out',\n",
       " 'on',\n",
       " 'off',\n",
       " 'over',\n",
       " 'under',\n",
       " 'again',\n",
       " 'further',\n",
       " 'then',\n",
       " 'once',\n",
       " 'here',\n",
       " 'there',\n",
       " 'when',\n",
       " 'where',\n",
       " 'why',\n",
       " 'how',\n",
       " 'all',\n",
       " 'any',\n",
       " 'both',\n",
       " 'each',\n",
       " 'few',\n",
       " 'more',\n",
       " 'most',\n",
       " 'other',\n",
       " 'some',\n",
       " 'such',\n",
       " 'no',\n",
       " 'nor',\n",
       " 'not',\n",
       " 'only',\n",
       " 'own',\n",
       " 'same',\n",
       " 'so',\n",
       " 'than',\n",
       " 'too',\n",
       " 'very',\n",
       " 's',\n",
       " 't',\n",
       " 'can',\n",
       " 'will',\n",
       " 'just',\n",
       " 'don',\n",
       " \"don't\",\n",
       " 'should',\n",
       " \"should've\",\n",
       " 'now',\n",
       " 'd',\n",
       " 'll',\n",
       " 'm',\n",
       " 'o',\n",
       " 're',\n",
       " 've',\n",
       " 'y',\n",
       " 'ain',\n",
       " 'aren',\n",
       " \"aren't\",\n",
       " 'couldn',\n",
       " \"couldn't\",\n",
       " 'didn',\n",
       " \"didn't\",\n",
       " 'doesn',\n",
       " \"doesn't\",\n",
       " 'hadn',\n",
       " \"hadn't\",\n",
       " 'hasn',\n",
       " \"hasn't\",\n",
       " 'haven',\n",
       " \"haven't\",\n",
       " 'isn',\n",
       " \"isn't\",\n",
       " 'ma',\n",
       " 'mightn',\n",
       " \"mightn't\",\n",
       " 'mustn',\n",
       " \"mustn't\",\n",
       " 'needn',\n",
       " \"needn't\",\n",
       " 'shan',\n",
       " \"shan't\",\n",
       " 'shouldn',\n",
       " \"shouldn't\",\n",
       " 'wasn',\n",
       " \"wasn't\",\n",
       " 'weren',\n",
       " \"weren't\",\n",
       " 'won',\n",
       " \"won't\",\n",
       " 'wouldn',\n",
       " \"wouldn't\"]"
      ]
     },
     "execution_count": 65,
     "metadata": {},
     "output_type": "execute_result"
    }
   ],
   "source": [
    "from nltk.corpus import stopwords\n",
    "stop_word = stopwords.words('english')\n",
    "stop_word"
   ]
  },
  {
   "cell_type": "code",
   "execution_count": 70,
   "metadata": {
    "ExecuteTime": {
     "end_time": "2020-04-04T18:40:56.436869Z",
     "start_time": "2020-04-04T18:40:56.429486Z"
    }
   },
   "outputs": [
    {
     "data": {
      "text/plain": [
       "824     25p 4 alfie Moon's Children in need song on ur...\n",
       "175     Well, i'm gonna finish my bath now. Have a goo...\n",
       "4072    I've reached home n i bathe liao... U can call...\n",
       "629     New TEXTBUDDY Chat 2 horny guys in ur area 4 j...\n",
       "907     all the lastest from Stereophonics, Marley, Di...\n",
       "                              ...                        \n",
       "1425                    Yes.. now only saw your message..\n",
       "3421    As a valued customer, I am pleased to advise y...\n",
       "1562    Dnt worry...use ice pieces in a cloth pack.als...\n",
       "4658    PRIVATE! Your 2003 Account Statement for shows...\n",
       "3203    Okay lor... Wah... like that def they wont let...\n",
       "Name: text, Length: 1120, dtype: object"
      ]
     },
     "execution_count": 70,
     "metadata": {},
     "output_type": "execute_result"
    }
   ],
   "source": [
    "X = df2['text']\n",
    "y = df2['label']\n",
    "\n",
    "X_train, X_test, y_train,y_test =train_test_split(X, y,random_state=17)\n",
    "X_train"
   ]
  },
  {
   "cell_type": "code",
   "execution_count": 66,
   "metadata": {
    "ExecuteTime": {
     "end_time": "2020-04-04T18:40:14.304158Z",
     "start_time": "2020-04-04T18:40:14.301217Z"
    }
   },
   "outputs": [],
   "source": [
    "from sklearn.feature_extraction.text import CountVectorizer\n",
    "vectorizer = CountVectorizer(stop_words=stop_word)"
   ]
  },
  {
   "cell_type": "code",
   "execution_count": 78,
   "metadata": {
    "ExecuteTime": {
     "end_time": "2020-04-04T18:43:59.756883Z",
     "start_time": "2020-04-04T18:43:59.717341Z"
    }
   },
   "outputs": [
    {
     "data": {
      "text/plain": [
       "<1120x3702 sparse matrix of type '<class 'numpy.int64'>'\n",
       "\twith 13152 stored elements in Compressed Sparse Row format>"
      ]
     },
     "execution_count": 78,
     "metadata": {},
     "output_type": "execute_result"
    }
   ],
   "source": [
    "X_train_vec = vectorizer.fit_transform(X_train)\n",
    "X_test_vec = vectorizer.transform(X_test)\n",
    "X_train_vec"
   ]
  },
  {
   "cell_type": "code",
   "execution_count": 79,
   "metadata": {
    "ExecuteTime": {
     "end_time": "2020-04-04T18:44:00.151237Z",
     "start_time": "2020-04-04T18:44:00.146944Z"
    }
   },
   "outputs": [
    {
     "data": {
      "text/plain": [
       "(1120,)"
      ]
     },
     "execution_count": 79,
     "metadata": {},
     "output_type": "execute_result"
    }
   ],
   "source": [
    "X_train.shape"
   ]
  },
  {
   "cell_type": "code",
   "execution_count": 80,
   "metadata": {
    "ExecuteTime": {
     "end_time": "2020-04-04T18:44:00.358451Z",
     "start_time": "2020-04-04T18:44:00.356354Z"
    }
   },
   "outputs": [],
   "source": [
    "# vectorizer.inverse_transform(X_train_vec[0])"
   ]
  },
  {
   "cell_type": "code",
   "execution_count": 81,
   "metadata": {
    "ExecuteTime": {
     "end_time": "2020-04-04T18:44:00.651107Z",
     "start_time": "2020-04-04T18:44:00.641402Z"
    }
   },
   "outputs": [],
   "source": [
    "from sklearn.naive_bayes import MultinomialNB\n",
    "\n",
    "model = MultinomialNB()\n",
    "model.fit(X_train_vec, y_train)\n",
    "\n",
    "y_hat_test = model.predict(X_test_vec)"
   ]
  },
  {
   "cell_type": "code",
   "execution_count": 82,
   "metadata": {
    "ExecuteTime": {
     "end_time": "2020-04-04T18:44:26.936244Z",
     "start_time": "2020-04-04T18:44:26.921288Z"
    }
   },
   "outputs": [
    {
     "name": "stdout",
     "output_type": "stream",
     "text": [
      "              precision    recall  f1-score   support\n",
      "\n",
      "         ham       0.97      0.95      0.96       194\n",
      "        spam       0.95      0.97      0.96       180\n",
      "\n",
      "    accuracy                           0.96       374\n",
      "   macro avg       0.96      0.96      0.96       374\n",
      "weighted avg       0.96      0.96      0.96       374\n",
      "\n"
     ]
    }
   ],
   "source": [
    "print(metrics.classification_report(y_test,y_hat_test))"
   ]
  },
  {
   "cell_type": "code",
   "execution_count": 84,
   "metadata": {
    "ExecuteTime": {
     "end_time": "2020-04-04T18:44:56.860325Z",
     "start_time": "2020-04-04T18:44:56.652673Z"
    }
   },
   "outputs": [
    {
     "data": {
      "text/plain": [
       "<sklearn.metrics._plot.confusion_matrix.ConfusionMatrixDisplay at 0x1c2e631f98>"
      ]
     },
     "execution_count": 84,
     "metadata": {},
     "output_type": "execute_result"
    },
    {
     "data": {
      "image/png": "[encoded data removed]",
      "text/plain": [
       "<Figure size 432x288 with 2 Axes>"
      ]
     },
     "metadata": {
      "needs_background": "light"
     },
     "output_type": "display_data"
    }
   ],
   "source": [
    "metrics.plot_confusion_matrix(model, X_test_vec, y_test, cmap='Blues',normalize='true')"
   ]
  },
  {
   "cell_type": "code",
   "execution_count": 86,
   "metadata": {
    "ExecuteTime": {
     "end_time": "2020-04-04T18:45:35.884184Z",
     "start_time": "2020-04-04T18:45:35.878186Z"
    }
   },
   "outputs": [
    {
     "data": {
      "text/plain": [
       "ham     0.518717\n",
       "spam    0.481283\n",
       "Name: label, dtype: float64"
      ]
     },
     "execution_count": 86,
     "metadata": {},
     "output_type": "execute_result"
    }
   ],
   "source": [
    "y_test.value_counts(normalize=True)"
   ]
  },
  {
   "cell_type": "code",
   "execution_count": null,
   "metadata": {},
   "outputs": [],
   "source": []
  }
 ],
 "metadata": {
  "kernelspec": {
   "display_name": "Python 3",
   "language": "python",
   "name": "python3"
  },
  "language_info": {
   "codemirror_mode": {
    "name": "ipython",
    "version": 3
   },
   "file_extension": ".py",
   "mimetype": "text/x-python",
   "name": "python",
   "nbconvert_exporter": "python",
   "pygments_lexer": "ipython3",
   "version": "3.6.9"
  },
  "toc": {
   "base_numbering": 1,
   "nav_menu": {},
   "number_sections": false,
   "sideBar": true,
   "skip_h1_title": false,
   "title_cell": "Table of Contents",
   "title_sidebar": "Contents",
   "toc_cell": false,
   "toc_position": {},
   "toc_section_display": true,
   "toc_window_display": true
  }
 },
 "nbformat": 4,
 "nbformat_minor": 2
}
