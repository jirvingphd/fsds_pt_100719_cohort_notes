{
 "cells": [
  {
   "cell_type": "markdown",
   "metadata": {},
   "source": [
    "# In Depth A/B Testing - Lab\n",
    "\n",
    "## Introduction\n",
    "\n",
    "In this lab, you'll explore a survey from Kaggle regarding budding data scientists. With this, you'll form some initial hypotheses, and test them using the tools you've acquired to date. \n",
    "\n",
    "## Objectives\n",
    "\n",
    "You will be able to:\n",
    "* Conduct t-tests and an ANOVA on a real-world dataset and interpret the results"
   ]
  },
  {
   "cell_type": "code",
   "execution_count": 1,
   "metadata": {
    "ExecuteTime": {
     "end_time": "2020-01-30T22:09:37.058605Z",
     "start_time": "2020-01-30T22:09:31.869335Z"
    }
   },
   "outputs": [
    {
     "name": "stdout",
     "output_type": "stream",
     "text": [
      "fsds_1007219  v0.7.4 loaded.  Read the docs: https://fsds.readthedocs.io/en/latest/ \n"
     ]
    },
    {
     "data": {
      "text/html": [
       "<style  type=\"text/css\" >\n",
       "</style><table id=\"T_33b020a6_43ad_11ea_a547_acde48001122\" ><caption>Loaded Packages and Handles</caption><thead>    <tr>        <th class=\"col_heading level0 col0\" >Handle</th>        <th class=\"col_heading level0 col1\" >Package</th>        <th class=\"col_heading level0 col2\" >Description</th>    </tr></thead><tbody>\n",
       "                <tr>\n",
       "                                <td id=\"T_33b020a6_43ad_11ea_a547_acde48001122row0_col0\" class=\"data row0 col0\" >dp</td>\n",
       "                        <td id=\"T_33b020a6_43ad_11ea_a547_acde48001122row0_col1\" class=\"data row0 col1\" >IPython.display</td>\n",
       "                        <td id=\"T_33b020a6_43ad_11ea_a547_acde48001122row0_col2\" class=\"data row0 col2\" >Display modules with helpful display and clearing commands.</td>\n",
       "            </tr>\n",
       "            <tr>\n",
       "                                <td id=\"T_33b020a6_43ad_11ea_a547_acde48001122row1_col0\" class=\"data row1 col0\" >fs</td>\n",
       "                        <td id=\"T_33b020a6_43ad_11ea_a547_acde48001122row1_col1\" class=\"data row1 col1\" >fsds_100719</td>\n",
       "                        <td id=\"T_33b020a6_43ad_11ea_a547_acde48001122row1_col2\" class=\"data row1 col2\" >Custom data science bootcamp student package</td>\n",
       "            </tr>\n",
       "            <tr>\n",
       "                                <td id=\"T_33b020a6_43ad_11ea_a547_acde48001122row2_col0\" class=\"data row2 col0\" >mpl</td>\n",
       "                        <td id=\"T_33b020a6_43ad_11ea_a547_acde48001122row2_col1\" class=\"data row2 col1\" >matplotlib</td>\n",
       "                        <td id=\"T_33b020a6_43ad_11ea_a547_acde48001122row2_col2\" class=\"data row2 col2\" >Matplotlib's base OOP module with formatting artists</td>\n",
       "            </tr>\n",
       "            <tr>\n",
       "                                <td id=\"T_33b020a6_43ad_11ea_a547_acde48001122row3_col0\" class=\"data row3 col0\" >plt</td>\n",
       "                        <td id=\"T_33b020a6_43ad_11ea_a547_acde48001122row3_col1\" class=\"data row3 col1\" >matplotlib.pyplot</td>\n",
       "                        <td id=\"T_33b020a6_43ad_11ea_a547_acde48001122row3_col2\" class=\"data row3 col2\" >Matplotlib's matlab-like plotting module</td>\n",
       "            </tr>\n",
       "            <tr>\n",
       "                                <td id=\"T_33b020a6_43ad_11ea_a547_acde48001122row4_col0\" class=\"data row4 col0\" >np</td>\n",
       "                        <td id=\"T_33b020a6_43ad_11ea_a547_acde48001122row4_col1\" class=\"data row4 col1\" >numpy</td>\n",
       "                        <td id=\"T_33b020a6_43ad_11ea_a547_acde48001122row4_col2\" class=\"data row4 col2\" >scientific computing with Python</td>\n",
       "            </tr>\n",
       "            <tr>\n",
       "                                <td id=\"T_33b020a6_43ad_11ea_a547_acde48001122row5_col0\" class=\"data row5 col0\" >pd</td>\n",
       "                        <td id=\"T_33b020a6_43ad_11ea_a547_acde48001122row5_col1\" class=\"data row5 col1\" >pandas</td>\n",
       "                        <td id=\"T_33b020a6_43ad_11ea_a547_acde48001122row5_col2\" class=\"data row5 col2\" >High performance data structures and tools</td>\n",
       "            </tr>\n",
       "            <tr>\n",
       "                                <td id=\"T_33b020a6_43ad_11ea_a547_acde48001122row6_col0\" class=\"data row6 col0\" >sns</td>\n",
       "                        <td id=\"T_33b020a6_43ad_11ea_a547_acde48001122row6_col1\" class=\"data row6 col1\" >seaborn</td>\n",
       "                        <td id=\"T_33b020a6_43ad_11ea_a547_acde48001122row6_col2\" class=\"data row6 col2\" >High-level data visualization library based on matplotlib</td>\n",
       "            </tr>\n",
       "    </tbody></table>"
      ],
      "text/plain": [
       "<pandas.io.formats.style.Styler at 0x1a20d75518>"
      ]
     },
     "metadata": {},
     "output_type": "display_data"
    },
    {
     "data": {
      "text/html": [
       "        <script type=\"text/javascript\">\n",
       "        window.PlotlyConfig = {MathJaxConfig: 'local'};\n",
       "        if (window.MathJax) {MathJax.Hub.Config({SVG: {font: \"STIX-Web\"}});}\n",
       "        if (typeof require !== 'undefined') {\n",
       "        require.undef(\"plotly\");\n",
       "        requirejs.config({\n",
       "            paths: {\n",
       "                'plotly': ['https://cdn.plot.ly/plotly-latest.min']\n",
       "            }\n",
       "        });\n",
       "        require(['plotly'], function(Plotly) {\n",
       "            window._Plotly = Plotly;\n",
       "        });\n",
       "        }\n",
       "        </script>\n",
       "        "
      ]
     },
     "metadata": {},
     "output_type": "display_data"
    },
    {
     "name": "stdout",
     "output_type": "stream",
     "text": [
      "['[i] Pandas .iplot() method activated.']\n"
     ]
    }
   ],
   "source": [
    "!pip install -U fsds_100719\n",
    "from fsds_100719.imports import *"
   ]
  },
  {
   "cell_type": "code",
   "execution_count": null,
   "metadata": {},
   "outputs": [],
   "source": []
  },
  {
   "cell_type": "code",
   "execution_count": 2,
   "metadata": {
    "ExecuteTime": {
     "end_time": "2020-01-30T22:09:37.064218Z",
     "start_time": "2020-01-30T22:09:37.060472Z"
    }
   },
   "outputs": [],
   "source": [
    "plt.style.use('seaborn-notebook')\n",
    "pd.set_option('max_colwidth', 10000)\n",
    "pd.set_option('display.max_rows',0)"
   ]
  },
  {
   "cell_type": "markdown",
   "metadata": {},
   "source": [
    "## Load the Dataset and Perform a Brief Exploration\n",
    "\n",
    "The data is stored in a file called **multipleChoiceResponses_cleaned.csv**. Feel free to check out the original dataset referenced at the bottom of this lab, although this cleaned version will undoubtedly be easier to work with. Additionally, meta-data regarding the questions is stored in a file name **schema.csv**. Load in the data itself as a Pandas DataFrame, and take a moment to briefly get acquainted with it.\n",
    "\n",
    "> Note: If you can't get the file to load properly, try changing the encoding format as in `encoding='latin1'`"
   ]
  },
  {
   "cell_type": "code",
   "execution_count": 3,
   "metadata": {
    "ExecuteTime": {
     "end_time": "2020-01-30T22:09:37.088281Z",
     "start_time": "2020-01-30T22:09:37.066290Z"
    }
   },
   "outputs": [
    {
     "data": {
      "text/html": [
       "<div>\n",
       "<style scoped>\n",
       "    .dataframe tbody tr th:only-of-type {\n",
       "        vertical-align: middle;\n",
       "    }\n",
       "\n",
       "    .dataframe tbody tr th {\n",
       "        vertical-align: top;\n",
       "    }\n",
       "\n",
       "    .dataframe thead th {\n",
       "        text-align: right;\n",
       "    }\n",
       "</style>\n",
       "<table border=\"1\" class=\"dataframe\">\n",
       "  <thead>\n",
       "    <tr style=\"text-align: right;\">\n",
       "      <th></th>\n",
       "      <th>Column</th>\n",
       "      <th>Question</th>\n",
       "      <th>Asked</th>\n",
       "    </tr>\n",
       "  </thead>\n",
       "  <tbody>\n",
       "    <tr>\n",
       "      <td>0</td>\n",
       "      <td>GenderSelect</td>\n",
       "      <td>Select your gender identity. - Selected Choice</td>\n",
       "      <td>All</td>\n",
       "    </tr>\n",
       "    <tr>\n",
       "      <td>1</td>\n",
       "      <td>GenderFreeForm</td>\n",
       "      <td>Select your gender identity. - A different identity - Text</td>\n",
       "      <td>All</td>\n",
       "    </tr>\n",
       "    <tr>\n",
       "      <td>2</td>\n",
       "      <td>Country</td>\n",
       "      <td>Select the country you currently live in.</td>\n",
       "      <td>All</td>\n",
       "    </tr>\n",
       "    <tr>\n",
       "      <td>3</td>\n",
       "      <td>Age</td>\n",
       "      <td>What's your age?</td>\n",
       "      <td>All</td>\n",
       "    </tr>\n",
       "    <tr>\n",
       "      <td>4</td>\n",
       "      <td>EmploymentStatus</td>\n",
       "      <td>What's your current employment status?</td>\n",
       "      <td>All</td>\n",
       "    </tr>\n",
       "    <tr>\n",
       "      <td>5</td>\n",
       "      <td>StudentStatus</td>\n",
       "      <td>Are you currently enrolled as a student at a degree granting school?</td>\n",
       "      <td>Non-worker</td>\n",
       "    </tr>\n",
       "    <tr>\n",
       "      <td>6</td>\n",
       "      <td>LearningDataScience</td>\n",
       "      <td>Are you currently focused on learning data science skills either formally or informally?</td>\n",
       "      <td>Non-worker</td>\n",
       "    </tr>\n",
       "    <tr>\n",
       "      <td>7</td>\n",
       "      <td>KaggleMotivationFreeForm</td>\n",
       "      <td>What's your motivation for being a Kaggle user?</td>\n",
       "      <td>Non-switcher</td>\n",
       "    </tr>\n",
       "    <tr>\n",
       "      <td>8</td>\n",
       "      <td>CodeWriter</td>\n",
       "      <td>Do you write code to analyze data in your current job, freelance contracts, or most recent job if retired?</td>\n",
       "      <td>Worker1</td>\n",
       "    </tr>\n",
       "    <tr>\n",
       "      <td>...</td>\n",
       "      <td>...</td>\n",
       "      <td>...</td>\n",
       "      <td>...</td>\n",
       "    </tr>\n",
       "    <tr>\n",
       "      <td>281</td>\n",
       "      <td>JobFactorDepartment</td>\n",
       "      <td>How are you assessing potential job opportunities? - The specific department or team I'd be working on</td>\n",
       "      <td>Learners</td>\n",
       "    </tr>\n",
       "    <tr>\n",
       "      <td>282</td>\n",
       "      <td>JobFactorTitle</td>\n",
       "      <td>How are you assessing potential job opportunities? - The specific role or job title I'd be applying for</td>\n",
       "      <td>Learners</td>\n",
       "    </tr>\n",
       "    <tr>\n",
       "      <td>283</td>\n",
       "      <td>JobFactorCompanyFunding</td>\n",
       "      <td>How are you assessing potential job opportunities? - The financial performance or funding status of the company or organization</td>\n",
       "      <td>Learners</td>\n",
       "    </tr>\n",
       "    <tr>\n",
       "      <td>284</td>\n",
       "      <td>JobFactorImpact</td>\n",
       "      <td>How are you assessing potential job opportunities? - How widely used or impactful the product or service I'd be working on is</td>\n",
       "      <td>Learners</td>\n",
       "    </tr>\n",
       "    <tr>\n",
       "      <td>285</td>\n",
       "      <td>JobFactorRemote</td>\n",
       "      <td>How are you assessing potential job opportunities? - The opportunity to work from home/remotely</td>\n",
       "      <td>Learners</td>\n",
       "    </tr>\n",
       "    <tr>\n",
       "      <td>286</td>\n",
       "      <td>JobFactorIndustry</td>\n",
       "      <td>How are you assessing potential job opportunities? - The industry that I'd be working in</td>\n",
       "      <td>Learners</td>\n",
       "    </tr>\n",
       "    <tr>\n",
       "      <td>287</td>\n",
       "      <td>JobFactorLeaderReputation</td>\n",
       "      <td>How are you assessing potential job opportunities? - The reputations of the company's senior leaders</td>\n",
       "      <td>Learners</td>\n",
       "    </tr>\n",
       "    <tr>\n",
       "      <td>288</td>\n",
       "      <td>JobFactorDiversity</td>\n",
       "      <td>How are you assessing potential job opportunities? - The diversity of the company or organization</td>\n",
       "      <td>Learners</td>\n",
       "    </tr>\n",
       "    <tr>\n",
       "      <td>289</td>\n",
       "      <td>JobFactorPublishingOpportunity</td>\n",
       "      <td>How are you assessing potential job opportunities? - Opportunity to publish my results</td>\n",
       "      <td>Learners</td>\n",
       "    </tr>\n",
       "  </tbody>\n",
       "</table>\n",
       "<p>290 rows × 3 columns</p>\n",
       "</div>"
      ],
      "text/plain": [
       "                             Column  \\\n",
       "0                      GenderSelect   \n",
       "1                    GenderFreeForm   \n",
       "2                           Country   \n",
       "3                               Age   \n",
       "4                  EmploymentStatus   \n",
       "5                     StudentStatus   \n",
       "6               LearningDataScience   \n",
       "7          KaggleMotivationFreeForm   \n",
       "8                        CodeWriter   \n",
       "..                              ...   \n",
       "281             JobFactorDepartment   \n",
       "282                  JobFactorTitle   \n",
       "283         JobFactorCompanyFunding   \n",
       "284                 JobFactorImpact   \n",
       "285                 JobFactorRemote   \n",
       "286               JobFactorIndustry   \n",
       "287       JobFactorLeaderReputation   \n",
       "288              JobFactorDiversity   \n",
       "289  JobFactorPublishingOpportunity   \n",
       "\n",
       "                                                                                                                            Question  \\\n",
       "0                                                                                     Select your gender identity. - Selected Choice   \n",
       "1                                                                         Select your gender identity. - A different identity - Text   \n",
       "2                                                                                          Select the country you currently live in.   \n",
       "3                                                                                                                   What's your age?   \n",
       "4                                                                                             What's your current employment status?   \n",
       "5                                                               Are you currently enrolled as a student at a degree granting school?   \n",
       "6                                           Are you currently focused on learning data science skills either formally or informally?   \n",
       "7                                                                                    What's your motivation for being a Kaggle user?   \n",
       "8                         Do you write code to analyze data in your current job, freelance contracts, or most recent job if retired?   \n",
       "..                                                                                                                               ...   \n",
       "281                           How are you assessing potential job opportunities? - The specific department or team I'd be working on   \n",
       "282                          How are you assessing potential job opportunities? - The specific role or job title I'd be applying for   \n",
       "283  How are you assessing potential job opportunities? - The financial performance or funding status of the company or organization   \n",
       "284    How are you assessing potential job opportunities? - How widely used or impactful the product or service I'd be working on is   \n",
       "285                                  How are you assessing potential job opportunities? - The opportunity to work from home/remotely   \n",
       "286                                         How are you assessing potential job opportunities? - The industry that I'd be working in   \n",
       "287                             How are you assessing potential job opportunities? - The reputations of the company's senior leaders   \n",
       "288                                How are you assessing potential job opportunities? - The diversity of the company or organization   \n",
       "289                                           How are you assessing potential job opportunities? - Opportunity to publish my results   \n",
       "\n",
       "            Asked  \n",
       "0             All  \n",
       "1             All  \n",
       "2             All  \n",
       "3             All  \n",
       "4             All  \n",
       "5      Non-worker  \n",
       "6      Non-worker  \n",
       "7    Non-switcher  \n",
       "8         Worker1  \n",
       "..            ...  \n",
       "281      Learners  \n",
       "282      Learners  \n",
       "283      Learners  \n",
       "284      Learners  \n",
       "285      Learners  \n",
       "286      Learners  \n",
       "287      Learners  \n",
       "288      Learners  \n",
       "289      Learners  \n",
       "\n",
       "[290 rows x 3 columns]"
      ]
     },
     "execution_count": 3,
     "metadata": {},
     "output_type": "execute_result"
    }
   ],
   "source": [
    "#Your code here\n",
    "question = pd.read_csv('schema.csv')\n",
    "question"
   ]
  },
  {
   "cell_type": "code",
   "execution_count": 4,
   "metadata": {
    "ExecuteTime": {
     "end_time": "2020-01-30T22:09:38.071725Z",
     "start_time": "2020-01-30T22:09:37.089834Z"
    }
   },
   "outputs": [
    {
     "name": "stderr",
     "output_type": "stream",
     "text": [
      "//anaconda3/envs/learn-env/lib/python3.6/site-packages/IPython/core/interactiveshell.py:3058: DtypeWarning:\n",
      "\n",
      "Columns (1,2,3,4,5,6,7,8,9,10,11,12,13,14,15,16,17,18,19,20,21,22,23,24,25,26,27,28,29,30,31,32,33,34,35,36,37,38,39,40,41,42,43,44,45,46,47,48,49,50,51,52,53,54,55,56,57,58,65,66,67,68,69,70,71,72,73,74,75,76,77,78,79,80,81,82,83,84,85,86,87,88,89,90,91,92,93,94,95,96,97,98,99,100,101,102,103,104,105,106,107,108,109,110,111,112,113,114,115,116,117,118,119,120,121,122,123,124,125,126,127,128,129,130,131,132,133,134,135,136,137,138,139,140,141,142,143,144,145,146,147,148,149,150,151,152,153,154,155,156,157,158,159,160,161,162,163,164,165,172,173,174,175,176,177,178,179,180,181,182,183,184,185,186,187,188,189,190,191,192,193,194,195,196,197,198,199,200,201,202,203,204,205,207,208,209,210,211,212,213,214,215,216,217,218,219,220,221,222,223,224,225,226,227) have mixed types. Specify dtype option on import or set low_memory=False.\n",
      "\n"
     ]
    },
    {
     "data": {
      "text/plain": [
       "AdjustedCompensation    0.835455\n",
       "FormalEducation         0.312647\n",
       "dtype: float64"
      ]
     },
     "execution_count": 4,
     "metadata": {},
     "output_type": "execute_result"
    }
   ],
   "source": [
    "df = pd.read_csv('multipleChoiceResponses_cleaned.csv',encoding='latin-1')\n",
    "df[['AdjustedCompensation','FormalEducation']].isna().sum().divide(len(df))"
   ]
  },
  {
   "cell_type": "markdown",
   "metadata": {},
   "source": [
    "## Wages and Education\n",
    "\n",
    "You've been asked to determine whether education is impactful to salary. Develop a hypothesis test to compare the salaries of those with Master's degrees to those with Bachelor's degrees. Are the two statistically different according to your results?\n",
    "\n",
    "> Note: The relevant features are stored in the 'FormalEducation' and 'AdjustedCompensation' features.\n",
    "\n",
    "You may import the functions stored in the `flatiron_stats.py` file to help perform your hypothesis tests. It contains the stats functions that you previously coded: `welch_t(a,b)`, `welch_df(a, b)`, and `p_value(a, b, two_sided=False)`. \n",
    "\n",
    "Note that `scipy.stats.ttest_ind(a, b, equal_var=False)` performs a two-sided Welch's t-test and that p-values derived from two-sided tests are two times the p-values derived from one-sided tests. See the [documentation](https://docs.scipy.org/doc/scipy/reference/generated/scipy.stats.ttest_ind.html) for more information.    "
   ]
  },
  {
   "cell_type": "markdown",
   "metadata": {},
   "source": [
    "## Hypothesis:\n",
    "- Q: Does level of education impact salary?\n",
    "- Metric: AdjustedEducation\n",
    "\n",
    "- $H_0$: There is no difference between Master's degree vs Bachelor's degrees in compensation. \n",
    "\n",
    "- $H_A$: People with a Master's degree have a higher adjusted compensation vs people with a Bachelors."
   ]
  },
  {
   "cell_type": "code",
   "execution_count": 6,
   "metadata": {
    "ExecuteTime": {
     "end_time": "2020-01-30T22:09:41.712196Z",
     "start_time": "2020-01-30T22:09:41.674181Z"
    }
   },
   "outputs": [
    {
     "data": {
      "text/plain": [
       "0"
      ]
     },
     "execution_count": 6,
     "metadata": {},
     "output_type": "execute_result"
    }
   ],
   "source": [
    "df = df.dropna(subset=['AdjustedCompensation'])\n",
    "df['AdjustedCompensation'].isna().sum()"
   ]
  },
  {
   "cell_type": "code",
   "execution_count": 7,
   "metadata": {
    "ExecuteTime": {
     "end_time": "2020-01-30T22:09:42.050100Z",
     "start_time": "2020-01-30T22:09:42.043277Z"
    }
   },
   "outputs": [
    {
     "data": {
      "text/plain": [
       "Master's degree                                                      1990\n",
       "Bachelor's degree                                                    1107\n",
       "Doctoral degree                                                       967\n",
       "Professional degree                                                   130\n",
       "Some college/university study without earning a bachelor's degree     111\n",
       "I did not complete any formal education past high school               30\n",
       "I prefer not to answer                                                  7\n",
       "Name: FormalEducation, dtype: int64"
      ]
     },
     "execution_count": 7,
     "metadata": {},
     "output_type": "execute_result"
    }
   ],
   "source": [
    "df['FormalEducation'].value_counts()"
   ]
  },
  {
   "cell_type": "code",
   "execution_count": 8,
   "metadata": {
    "ExecuteTime": {
     "end_time": "2020-01-30T22:09:42.354152Z",
     "start_time": "2020-01-30T22:09:42.350984Z"
    }
   },
   "outputs": [],
   "source": [
    "plt.style.use('seaborn-notebook')\n",
    "pd.set_option('max_colwidth', 10000)\n",
    "pd.set_option('display.max_rows',0)"
   ]
  },
  {
   "cell_type": "code",
   "execution_count": 9,
   "metadata": {
    "ExecuteTime": {
     "end_time": "2020-01-30T22:09:42.740700Z",
     "start_time": "2020-01-30T22:09:42.725246Z"
    }
   },
   "outputs": [],
   "source": [
    "df_b = df.groupby('FormalEducation').get_group(\"Bachelor's degree\")['AdjustedCompensation'].rename('Bachelors')\n",
    "df_m = df.groupby('FormalEducation').get_group(\"Master's degree\")['AdjustedCompensation'].rename('Masters')\n"
   ]
  },
  {
   "cell_type": "code",
   "execution_count": 10,
   "metadata": {
    "ExecuteTime": {
     "end_time": "2020-01-30T22:09:43.460783Z",
     "start_time": "2020-01-30T22:09:43.030032Z"
    }
   },
   "outputs": [
    {
     "data": {
      "text/plain": [
       "<matplotlib.axes._subplots.AxesSubplot at 0x1c24a7f3c8>"
      ]
     },
     "execution_count": 10,
     "metadata": {},
     "output_type": "execute_result"
    },
    {
     "data": {
      "image/png": "[encoded data removed]",
      "text/plain": [
       "<Figure size 576x396 with 1 Axes>"
      ]
     },
     "metadata": {
      "needs_background": "light"
     },
     "output_type": "display_data"
    }
   ],
   "source": [
    "sns.distplot(df_b)\n",
    "sns.distplot(df_m)"
   ]
  },
  {
   "cell_type": "code",
   "execution_count": 11,
   "metadata": {
    "ExecuteTime": {
     "end_time": "2020-01-30T22:09:43.464785Z",
     "start_time": "2020-01-30T22:09:43.462085Z"
    }
   },
   "outputs": [
    {
     "data": {
      "text/plain": [
       "1990"
      ]
     },
     "execution_count": 11,
     "metadata": {},
     "output_type": "execute_result"
    }
   ],
   "source": [
    "len(df_m)"
   ]
  },
  {
   "cell_type": "code",
   "execution_count": 12,
   "metadata": {
    "ExecuteTime": {
     "end_time": "2020-01-30T22:09:44.069483Z",
     "start_time": "2020-01-30T22:09:44.050581Z"
    }
   },
   "outputs": [
    {
     "name": "stdout",
     "output_type": "stream",
     "text": [
      "False    1067\n",
      "True       40\n",
      "Name: Bachelors, dtype: int64\n",
      "False    1927\n",
      "True       63\n",
      "Name: Masters, dtype: int64\n"
     ]
    }
   ],
   "source": [
    "def find_outliers_IQR(data):\n",
    "    \"\"\"Identifies outliers using Tukeys IQR method.\"\"\"\n",
    "    df_b=data\n",
    "    res= df_b.describe()\n",
    "\n",
    "    IQR = res['75%'] -  res['25%']\n",
    "    lower_limit = res['25%'] - 1.5*IQR\n",
    "    upper_limit = res['75%'] + 1.5*IQR\n",
    "\n",
    "    idx_outs = (df_b>upper_limit) | (df_b<lower_limit)\n",
    "\n",
    "    return idx_outs\n",
    "idx_outs_b = find_outliers_IQR(df_b)\n",
    "idx_outs_m = find_outliers_IQR(df_m)\n",
    "print(idx_outs_b.value_counts())\n",
    "print(idx_outs_m.value_counts())"
   ]
  },
  {
   "cell_type": "code",
   "execution_count": 33,
   "metadata": {
    "ExecuteTime": {
     "end_time": "2020-01-30T22:13:46.028201Z",
     "start_time": "2020-01-30T22:13:46.024306Z"
    }
   },
   "outputs": [],
   "source": [
    "#Your code here\n",
    "def find_outliers_Z(data):\n",
    "    \"\"\"Finds outliers using Z-scores and +/-3 cutoff.\n",
    "    \"\"\"\n",
    "    import scipy.stats as stats\n",
    "    ## Calculate z-scores\n",
    "    zs = stats.zscore(data)\n",
    "    \n",
    "    ## Find z-scores >3 awayfrom mean\n",
    "    idx_outs = np.abs(zs)>3\n",
    "    \n",
    "    ## If input was a series, make idx_outs index match\n",
    "    if isinstance(data,pd.Series):\n",
    "        return pd.Series(idx_outs,index=data.index)\n",
    "    else:\n",
    "        return pd.Series(idx_outs)"
   ]
  },
  {
   "cell_type": "code",
   "execution_count": 34,
   "metadata": {
    "ExecuteTime": {
     "end_time": "2020-01-30T22:13:47.147132Z",
     "start_time": "2020-01-30T22:13:47.141582Z"
    }
   },
   "outputs": [
    {
     "data": {
      "text/plain": [
       "(False    1984\n",
       " True        6\n",
       " dtype: int64, 1990)"
      ]
     },
     "execution_count": 34,
     "metadata": {},
     "output_type": "execute_result"
    }
   ],
   "source": [
    "idx_outs_m  = find_outliers_Z(df_m)\n",
    "idx_outs_m.value_counts(), len(df_m)"
   ]
  },
  {
   "cell_type": "code",
   "execution_count": 35,
   "metadata": {
    "ExecuteTime": {
     "end_time": "2020-01-30T22:13:48.461256Z",
     "start_time": "2020-01-30T22:13:48.456131Z"
    }
   },
   "outputs": [
    {
     "data": {
      "text/plain": [
       "(False    1104\n",
       " True        3\n",
       " dtype: int64, 1107)"
      ]
     },
     "execution_count": 35,
     "metadata": {},
     "output_type": "execute_result"
    }
   ],
   "source": [
    "idx_outs_b  = find_outliers_Z(df_b)\n",
    "idx_outs_b.value_counts(), len(df_b)"
   ]
  },
  {
   "cell_type": "code",
   "execution_count": 36,
   "metadata": {
    "ExecuteTime": {
     "end_time": "2020-01-30T22:13:50.660237Z",
     "start_time": "2020-01-30T22:13:50.655511Z"
    }
   },
   "outputs": [
    {
     "data": {
      "text/plain": [
       "1516     1000000.0\n",
       "2546      595884.6\n",
       "16941     500000.0\n",
       "22198    2500000.0\n",
       "22477    2000000.0\n",
       "25356    4498900.0\n",
       "Name: Masters, dtype: float64"
      ]
     },
     "execution_count": 36,
     "metadata": {},
     "output_type": "execute_result"
    }
   ],
   "source": [
    "df_m[idx_outs_m]"
   ]
  },
  {
   "cell_type": "code",
   "execution_count": 37,
   "metadata": {
    "ExecuteTime": {
     "end_time": "2020-01-30T22:13:52.013847Z",
     "start_time": "2020-01-30T22:13:52.008124Z"
    }
   },
   "outputs": [
    {
     "data": {
      "text/plain": [
       "3        250000.0000\n",
       "14        36634.4000\n",
       "27        53352.0000\n",
       "31        35419.1040\n",
       "37        80000.0000\n",
       "42        35874.7800\n",
       "65         1874.4000\n",
       "67       119582.6000\n",
       "80         7807.8780\n",
       "81        77728.6900\n",
       "89       115000.0000\n",
       "110       75000.0000\n",
       "            ...     \n",
       "25761         4.1040\n",
       "25789     40000.0000\n",
       "25812      7486.9632\n",
       "25820     39462.2580\n",
       "25902     19281.0000\n",
       "25959    107624.3400\n",
       "26030     20000.0000\n",
       "26148     54670.0000\n",
       "26159         1.0000\n",
       "26180     65770.4300\n",
       "26255     89686.9500\n",
       "26378     10000.0000\n",
       "Name: Masters, Length: 1984, dtype: float64"
      ]
     },
     "execution_count": 37,
     "metadata": {},
     "output_type": "execute_result"
    }
   ],
   "source": [
    "df_m[~idx_outs_m]"
   ]
  },
  {
   "cell_type": "code",
   "execution_count": null,
   "metadata": {
    "ExecuteTime": {
     "end_time": "2020-01-30T22:09:38.303041Z",
     "start_time": "2020-01-30T22:09:31.899Z"
    }
   },
   "outputs": [],
   "source": [
    "df_b = df_b[~find_outliers_IQR(df_b)]\n",
    "df_m = df_m[~find_outliers_IQR(df_m)]        \n",
    "fig, ax = plt.subplots()\n",
    "sns.distplot(df_b,ax=ax)\n",
    "sns.distplot(df_m,ax=ax)#[~find_outliers_IQR(df_m)])\n",
    "ax.axvline(df_b.mean(),label='df_b mean',color='orange')\n",
    "ax.axvline(df_m.mean(),label='df_m mean')\n",
    "ax.legend()"
   ]
  },
  {
   "cell_type": "code",
   "execution_count": null,
   "metadata": {
    "ExecuteTime": {
     "end_time": "2020-01-30T22:09:38.303989Z",
     "start_time": "2020-01-30T22:09:31.901Z"
    }
   },
   "outputs": [],
   "source": [
    "import scipy.stats as stats"
   ]
  },
  {
   "cell_type": "code",
   "execution_count": null,
   "metadata": {
    "ExecuteTime": {
     "end_time": "2020-01-30T22:09:38.304895Z",
     "start_time": "2020-01-30T22:09:31.902Z"
    }
   },
   "outputs": [],
   "source": [
    "stats"
   ]
  },
  {
   "cell_type": "code",
   "execution_count": null,
   "metadata": {
    "ExecuteTime": {
     "end_time": "2020-01-30T22:09:38.305895Z",
     "start_time": "2020-01-30T22:09:31.904Z"
    }
   },
   "outputs": [],
   "source": [
    "(stat,p) = stats.normaltest(df_b)\n",
    "print(stat,p)\n",
    "stat,p = stats.normaltest(df_m)\n",
    "print(stat,p)"
   ]
  },
  {
   "cell_type": "code",
   "execution_count": null,
   "metadata": {
    "ExecuteTime": {
     "end_time": "2020-01-30T22:09:38.306788Z",
     "start_time": "2020-01-30T22:09:31.905Z"
    }
   },
   "outputs": [],
   "source": [
    "stats.levene(df_b,df_m)"
   ]
  },
  {
   "cell_type": "code",
   "execution_count": null,
   "metadata": {
    "ExecuteTime": {
     "end_time": "2020-01-30T22:09:38.307737Z",
     "start_time": "2020-01-30T22:09:31.907Z"
    }
   },
   "outputs": [],
   "source": [
    "def test_assumptions(**kwargs):\n",
    "    import scipy.stats as stats\n",
    "    res= [['Test','Group','Stat','p','p<.05']]\n",
    "    \n",
    "    all_data = []\n",
    "    for k,v in kwargs.items():\n",
    "        try:\n",
    "            all_data.append(v)\n",
    "            stat,p =stats.normaltest(v)\n",
    "            res.append(['Normality',k,stat,p,p<.05])\n",
    "        except:\n",
    "            res.append(['Normality',k,'err','err','err'])\n",
    "        \n",
    "    stat,p = stats.levene(*all_data)\n",
    "    res.append(['Equal Variance','All',stat,p,p<.05]) \n",
    "    \n",
    "    res=pd.DataFrame(res[1:],columns=res[0]).round(3)\n",
    "    \n",
    "    return res"
   ]
  },
  {
   "cell_type": "code",
   "execution_count": null,
   "metadata": {
    "ExecuteTime": {
     "end_time": "2020-01-30T22:09:38.308657Z",
     "start_time": "2020-01-30T22:09:31.908Z"
    }
   },
   "outputs": [],
   "source": [
    "test_assumptions(bachelors=df_b, masters=df_m)"
   ]
  },
  {
   "cell_type": "code",
   "execution_count": null,
   "metadata": {
    "ExecuteTime": {
     "end_time": "2020-01-30T22:09:38.309522Z",
     "start_time": "2020-01-30T22:09:31.910Z"
    }
   },
   "outputs": [],
   "source": [
    "stat, p = stats.mannwhitneyu(df_b,df_m)\n",
    "print(np.round(p,3))\n",
    "p"
   ]
  },
  {
   "cell_type": "code",
   "execution_count": null,
   "metadata": {
    "ExecuteTime": {
     "end_time": "2020-01-30T22:09:38.310417Z",
     "start_time": "2020-01-30T22:09:31.911Z"
    }
   },
   "outputs": [],
   "source": [
    "\n",
    "def Cohen_d(group1, group2, correction = False):\n",
    "    \"\"\"Compute Cohen's d\n",
    "    d = (group1.mean()-group2.mean())/pool_variance.\n",
    "    pooled_variance= (n1 * var1 + n2 * var2) / (n1 + n2)\n",
    "\n",
    "    Args:\n",
    "        group1 (Series or NumPy array): group 1 for calculating d\n",
    "        group2 (Series or NumPy array): group 2 for calculating d\n",
    "        correction (bool): Apply equation correction if N<50. Default is False. \n",
    "            - Url with small ncorrection equation: \n",
    "                - https://www.statisticshowto.datasciencecentral.com/cohens-d/ \n",
    "    Returns:\n",
    "        d (float): calculated d value\n",
    "         \n",
    "    INTERPRETATION OF COHEN's D: \n",
    "    > Small effect = 0.2\n",
    "    > Medium Effect = 0.5\n",
    "    > Large Effect = 0.8\n",
    "    \n",
    "    \"\"\"\n",
    "    import scipy.stats as stats\n",
    "    import scipy   \n",
    "    import numpy as np\n",
    "    N = len(group1)+len(group2)\n",
    "    diff = group1.mean() - group2.mean()\n",
    "\n",
    "    n1, n2 = len(group1), len(group2)\n",
    "    var1 = group1.var()\n",
    "    var2 = group2.var()\n",
    "\n",
    "    # Calculate the pooled threshold as shown earlier\n",
    "    pooled_var = (n1 * var1 + n2 * var2) / (n1 + n2)\n",
    "    \n",
    "    # Calculate Cohen's d statistic\n",
    "    d = diff / np.sqrt(pooled_var)\n",
    "    \n",
    "    ## Apply correction if needed\n",
    "    if (N < 50) & (correction==True):\n",
    "        d=d * ((N-3)/(N-2.25))*np.sqrt((N-2)/N)\n",
    "    \n",
    "    return d"
   ]
  },
  {
   "cell_type": "code",
   "execution_count": null,
   "metadata": {
    "ExecuteTime": {
     "end_time": "2020-01-30T22:09:38.311294Z",
     "start_time": "2020-01-30T22:09:31.913Z"
    }
   },
   "outputs": [],
   "source": [
    "d = Cohen_d(df_b,df_m)\n",
    "d"
   ]
  },
  {
   "cell_type": "code",
   "execution_count": null,
   "metadata": {
    "ExecuteTime": {
     "end_time": "2020-01-30T22:09:38.312163Z",
     "start_time": "2020-01-30T22:09:31.914Z"
    }
   },
   "outputs": [],
   "source": [
    "# idx_outs_b= find_outliers_Z(df_b)\n",
    "# idx_outs_m= find_outliers_Z(df_m)\n",
    "# sns.distplot(df_b[~idx_outs_b])\n",
    "# sns.distplot(df_m[~idx_outs_m])"
   ]
  },
  {
   "cell_type": "markdown",
   "metadata": {},
   "source": [
    "## Wages and Education II\n",
    "\n",
    "Now perform a similar statistical test comparing the AdjustedCompensation of those with Bachelor's degrees and those with Doctorates. If you haven't already, be sure to explore the distribution of the AdjustedCompensation feature for any anomalies. "
   ]
  },
  {
   "cell_type": "code",
   "execution_count": null,
   "metadata": {
    "ExecuteTime": {
     "end_time": "2020-01-30T22:09:38.313022Z",
     "start_time": "2020-01-30T22:09:31.916Z"
    }
   },
   "outputs": [],
   "source": [
    "#Your code here"
   ]
  },
  {
   "cell_type": "markdown",
   "metadata": {},
   "source": [
    "## Wages and Education III\n",
    "\n",
    "Remember the multiple comparisons problem; rather than continuing on like this, perform an ANOVA test between the various 'FormalEducation' categories and their relation to 'AdjustedCompensation'."
   ]
  },
  {
   "cell_type": "markdown",
   "metadata": {},
   "source": [
    "- Q: Does level of education impact salary?\n",
    "- Metric: AdjustedEducation\n",
    "\n",
    "- $H_0$: There is no difference between education levels in compensation. \n",
    "\n",
    "- $H_A$: People with a higher degree have a higher adjusted compensation."
   ]
  },
  {
   "cell_type": "code",
   "execution_count": null,
   "metadata": {
    "ExecuteTime": {
     "end_time": "2020-01-30T22:09:38.313915Z",
     "start_time": "2020-01-30T22:09:31.917Z"
    }
   },
   "outputs": [],
   "source": [
    "df = df.dropna(subset=['FormalEducation','AdjustedCompensation'])\n",
    "df['FormalEducation'].value_counts()"
   ]
  },
  {
   "cell_type": "code",
   "execution_count": null,
   "metadata": {},
   "outputs": [],
   "source": []
  },
  {
   "cell_type": "code",
   "execution_count": null,
   "metadata": {
    "ExecuteTime": {
     "end_time": "2020-01-30T22:09:38.314784Z",
     "start_time": "2020-01-30T22:09:31.920Z"
    }
   },
   "outputs": [],
   "source": [
    "#Your code here\n",
    "data = {}\n",
    "for ed in df['FormalEducation'].unique():\n",
    "    ed_name = ed.replace('/','').replace(\"'\",'').replace(' ','_')\n",
    "    data[ed_name] = df.groupby('FormalEducation').get_group(ed)['AdjustedCompensation'].rename(ed_name)\n",
    "    \n",
    "data.keys()"
   ]
  },
  {
   "cell_type": "code",
   "execution_count": null,
   "metadata": {
    "ExecuteTime": {
     "end_time": "2020-01-30T22:09:38.315674Z",
     "start_time": "2020-01-30T22:09:31.921Z"
    }
   },
   "outputs": [],
   "source": [
    "data_clean = {}\n",
    "for grp,values in data.items():\n",
    "    \n",
    "    data_clean[grp] = values[~find_outliers_IQR(values)]\n",
    "data_clean.keys()\n"
   ]
  },
  {
   "cell_type": "code",
   "execution_count": null,
   "metadata": {},
   "outputs": [],
   "source": []
  },
  {
   "cell_type": "code",
   "execution_count": null,
   "metadata": {
    "ExecuteTime": {
     "end_time": "2020-01-30T22:09:38.316522Z",
     "start_time": "2020-01-30T22:09:31.923Z"
    }
   },
   "outputs": [],
   "source": [
    "new_keys = [key.replace('/','').replace(\"'\",'').replace(' ','_') for key in data_clean.keys() ]\n",
    "new_keys"
   ]
  },
  {
   "cell_type": "code",
   "execution_count": null,
   "metadata": {
    "ExecuteTime": {
     "end_time": "2020-01-30T22:09:38.317576Z",
     "start_time": "2020-01-30T22:09:31.926Z"
    }
   },
   "outputs": [],
   "source": [
    "test_assumptions(**data_clean)"
   ]
  },
  {
   "cell_type": "code",
   "execution_count": null,
   "metadata": {
    "ExecuteTime": {
     "end_time": "2020-01-30T22:09:38.318410Z",
     "start_time": "2020-01-30T22:09:31.928Z"
    }
   },
   "outputs": [],
   "source": [
    "# data_clean_anova = [val for val in data_cela]\n",
    "test_data = list(data_clean.values())\n",
    "stat,p = stats.f_oneway(*test_data)\n",
    "p"
   ]
  },
  {
   "cell_type": "code",
   "execution_count": null,
   "metadata": {
    "ExecuteTime": {
     "end_time": "2020-01-30T22:09:38.319387Z",
     "start_time": "2020-01-30T22:09:31.929Z"
    }
   },
   "outputs": [],
   "source": [
    "# sns.barplot(data=df,x='FormalEducation',y='AdjustedCompensation')"
   ]
  },
  {
   "cell_type": "code",
   "execution_count": null,
   "metadata": {
    "ExecuteTime": {
     "end_time": "2020-01-30T22:09:38.320280Z",
     "start_time": "2020-01-30T22:09:31.931Z"
    }
   },
   "outputs": [],
   "source": [
    "df = df[~find_outliers_IQR(df['AdjustedCompensation'])]\n",
    "df"
   ]
  },
  {
   "cell_type": "code",
   "execution_count": null,
   "metadata": {
    "ExecuteTime": {
     "end_time": "2020-01-30T22:09:38.321134Z",
     "start_time": "2020-01-30T22:09:31.932Z"
    }
   },
   "outputs": [],
   "source": [
    "sns.catplot(data=df,x='FormalEducation',y='AdjustedCompensation')"
   ]
  },
  {
   "cell_type": "code",
   "execution_count": null,
   "metadata": {
    "ExecuteTime": {
     "end_time": "2020-01-30T22:09:38.322069Z",
     "start_time": "2020-01-30T22:09:31.934Z"
    }
   },
   "outputs": [],
   "source": [
    "import statsmodels.api as sms\n",
    "\n",
    "tukey = sms.stats.multicomp.pairwise_tukeyhsd(df['AdjustedCompensation'],df['FormalEducation'])\n",
    "tukey.summary()"
   ]
  },
  {
   "cell_type": "code",
   "execution_count": null,
   "metadata": {
    "ExecuteTime": {
     "end_time": "2020-01-30T22:09:38.322939Z",
     "start_time": "2020-01-30T22:09:31.935Z"
    }
   },
   "outputs": [],
   "source": [
    "tukey.plot_simultaneous();"
   ]
  },
  {
   "cell_type": "code",
   "execution_count": null,
   "metadata": {
    "ExecuteTime": {
     "end_time": "2020-01-30T22:09:38.323827Z",
     "start_time": "2020-01-30T22:09:31.937Z"
    }
   },
   "outputs": [],
   "source": [
    "# formula = 'AdjustedCompensation ~ C(FormalEducation) +'\n",
    "# lm = ols(formula, df).fit()\n",
    "# table = sm.stats.anova_lm(lm, typ=2)\n",
    "# print(table)"
   ]
  },
  {
   "cell_type": "markdown",
   "metadata": {},
   "source": [
    "## Additional Resources\n",
    "\n",
    "Here's the original source where the data was taken from:  \n",
    "    [Kaggle Machine Learning & Data Science Survey 2017](https://www.kaggle.com/kaggle/kaggle-survey-2017)"
   ]
  },
  {
   "cell_type": "markdown",
   "metadata": {},
   "source": [
    "## Summary\n",
    "\n",
    "In this lab, you practiced conducting actual hypothesis tests on actual data. From this, you saw how dependent results can be on the initial problem formulation, including preprocessing!"
   ]
  }
 ],
 "metadata": {
  "kernelspec": {
   "display_name": "learn-env",
   "language": "python",
   "name": "learn-env"
  },
  "language_info": {
   "codemirror_mode": {
    "name": "ipython",
    "version": 3
   },
   "file_extension": ".py",
   "mimetype": "text/x-python",
   "name": "python",
   "nbconvert_exporter": "python",
   "pygments_lexer": "ipython3",
   "version": "3.6.11"
  },
  "toc": {
   "base_numbering": 1,
   "nav_menu": {},
   "number_sections": true,
   "sideBar": true,
   "skip_h1_title": false,
   "title_cell": "Table of Contents",
   "title_sidebar": "Contents",
   "toc_cell": false,
   "toc_position": {},
   "toc_section_display": true,
   "toc_window_display": false
  }
 },
 "nbformat": 4,
 "nbformat_minor": 2
}
