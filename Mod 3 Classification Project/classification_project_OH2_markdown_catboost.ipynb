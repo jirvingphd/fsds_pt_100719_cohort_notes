{
 "cells": [
  {
   "cell_type": "markdown",
   "metadata": {},
   "source": [
    "# MOD 3 PROJECT OFFICE HOURS 2\n"
   ]
  },
  {
   "cell_type": "markdown",
   "metadata": {},
   "source": [
    "- 04/21/20"
   ]
  },
  {
   "cell_type": "markdown",
   "metadata": {},
   "source": [
    "## QUESTIONS "
   ]
  },
  {
   "cell_type": "markdown",
   "metadata": {},
   "source": [
    "- Class imblanace issues and ways to improve performance \n",
    "    - `train_test_split(stratify=y)`\n",
    "- Using Stratified gridsearch:\n",
    "    - `GridSearchCV(cv = StratifiedKFold())`\n",
    "    - [Stratified KFold](thttps://scikit-learn.org/stable/modules/generated/sklearn.model_selection.StratifiedKFold.html#sklearn-model-selection-stratifiedkfold)\n",
    "    \n",
    "- Random states and when to keep them consistent\n",
    "    - can use a random with SMOTE, train_test_split\n",
    "\n",
    "- XGBoost issues (notebook split)\n",
    "- train_test_split:\n",
    "    - Don't need to do fresh for each model\n"
   ]
  },
  {
   "cell_type": "code",
   "execution_count": null,
   "metadata": {},
   "outputs": [],
   "source": []
  },
  {
   "cell_type": "markdown",
   "metadata": {},
   "source": [
    "## Learning Objectives"
   ]
  },
  {
   "cell_type": "markdown",
   "metadata": {},
   "source": [
    "- Discuss how to make professional quality Markdown cells/notes\n",
    "- Discuss how to use `catboost` for datasets that are heavy skewed towards categorical features"
   ]
  },
  {
   "cell_type": "markdown",
   "metadata": {
    "ExecuteTime": {
     "end_time": "2020-04-21T22:38:48.587092Z",
     "start_time": "2020-04-21T22:38:48.584833Z"
    }
   },
   "source": [
    "# Markdown"
   ]
  },
  {
   "cell_type": "markdown",
   "metadata": {},
   "source": [
    "- [Blog post](https://towardsdatascience.com/write-markdown-latex-in-the-jupyter-notebook-10985edb91fd)\n",
    "- [Our Cheat Sheets Folder](https://drive.google.com/open?id=1wf2cVPypyKCPHObyVjz83bMRyhXasEP8)"
   ]
  },
  {
   "cell_type": "markdown",
   "metadata": {},
   "source": [
    "## Catboost"
   ]
  },
  {
   "cell_type": "markdown",
   "metadata": {},
   "source": [
    "- https://catboost.ai/\n",
    "- https://github.com/catboost/tutorials/blob/master/python_tutorial.ipynb/\n"
   ]
  },
  {
   "cell_type": "markdown",
   "metadata": {},
   "source": [
    "# Back to Our Iowa Prisoners"
   ]
  },
  {
   "cell_type": "code",
   "execution_count": 1,
   "metadata": {
    "ExecuteTime": {
     "end_time": "2020-04-22T00:51:05.346205Z",
     "start_time": "2020-04-22T00:51:01.379472Z"
    }
   },
   "outputs": [
    {
     "name": "stdout",
     "output_type": "stream",
     "text": [
      "fsds_1007219  v0.7.20 loaded.  Read the docs: https://fsds.readthedocs.io/en/latest/ \n"
     ]
    },
    {
     "data": {
      "text/html": [
       "<style  type=\"text/css\" >\n",
       "</style><table id=\"T_585cc690_8433_11ea_9951_acde48001122\" ><caption>Loaded Packages and Handles</caption><thead>    <tr>        <th class=\"col_heading level0 col0\" >Handle</th>        <th class=\"col_heading level0 col1\" >Package</th>        <th class=\"col_heading level0 col2\" >Description</th>    </tr></thead><tbody>\n",
       "                <tr>\n",
       "                                <td id=\"T_585cc690_8433_11ea_9951_acde48001122row0_col0\" class=\"data row0 col0\" >dp</td>\n",
       "                        <td id=\"T_585cc690_8433_11ea_9951_acde48001122row0_col1\" class=\"data row0 col1\" >IPython.display</td>\n",
       "                        <td id=\"T_585cc690_8433_11ea_9951_acde48001122row0_col2\" class=\"data row0 col2\" >Display modules with helpful display and clearing commands.</td>\n",
       "            </tr>\n",
       "            <tr>\n",
       "                                <td id=\"T_585cc690_8433_11ea_9951_acde48001122row1_col0\" class=\"data row1 col0\" >fs</td>\n",
       "                        <td id=\"T_585cc690_8433_11ea_9951_acde48001122row1_col1\" class=\"data row1 col1\" >fsds_100719</td>\n",
       "                        <td id=\"T_585cc690_8433_11ea_9951_acde48001122row1_col2\" class=\"data row1 col2\" >Custom data science bootcamp student package</td>\n",
       "            </tr>\n",
       "            <tr>\n",
       "                                <td id=\"T_585cc690_8433_11ea_9951_acde48001122row2_col0\" class=\"data row2 col0\" >mpl</td>\n",
       "                        <td id=\"T_585cc690_8433_11ea_9951_acde48001122row2_col1\" class=\"data row2 col1\" >matplotlib</td>\n",
       "                        <td id=\"T_585cc690_8433_11ea_9951_acde48001122row2_col2\" class=\"data row2 col2\" >Matplotlib's base OOP module with formatting artists</td>\n",
       "            </tr>\n",
       "            <tr>\n",
       "                                <td id=\"T_585cc690_8433_11ea_9951_acde48001122row3_col0\" class=\"data row3 col0\" >plt</td>\n",
       "                        <td id=\"T_585cc690_8433_11ea_9951_acde48001122row3_col1\" class=\"data row3 col1\" >matplotlib.pyplot</td>\n",
       "                        <td id=\"T_585cc690_8433_11ea_9951_acde48001122row3_col2\" class=\"data row3 col2\" >Matplotlib's matlab-like plotting module</td>\n",
       "            </tr>\n",
       "            <tr>\n",
       "                                <td id=\"T_585cc690_8433_11ea_9951_acde48001122row4_col0\" class=\"data row4 col0\" >np</td>\n",
       "                        <td id=\"T_585cc690_8433_11ea_9951_acde48001122row4_col1\" class=\"data row4 col1\" >numpy</td>\n",
       "                        <td id=\"T_585cc690_8433_11ea_9951_acde48001122row4_col2\" class=\"data row4 col2\" >scientific computing with Python</td>\n",
       "            </tr>\n",
       "            <tr>\n",
       "                                <td id=\"T_585cc690_8433_11ea_9951_acde48001122row5_col0\" class=\"data row5 col0\" >pd</td>\n",
       "                        <td id=\"T_585cc690_8433_11ea_9951_acde48001122row5_col1\" class=\"data row5 col1\" >pandas</td>\n",
       "                        <td id=\"T_585cc690_8433_11ea_9951_acde48001122row5_col2\" class=\"data row5 col2\" >High performance data structures and tools</td>\n",
       "            </tr>\n",
       "            <tr>\n",
       "                                <td id=\"T_585cc690_8433_11ea_9951_acde48001122row6_col0\" class=\"data row6 col0\" >sns</td>\n",
       "                        <td id=\"T_585cc690_8433_11ea_9951_acde48001122row6_col1\" class=\"data row6 col1\" >seaborn</td>\n",
       "                        <td id=\"T_585cc690_8433_11ea_9951_acde48001122row6_col2\" class=\"data row6 col2\" >High-level data visualization library based on matplotlib</td>\n",
       "            </tr>\n",
       "    </tbody></table>"
      ],
      "text/plain": [
       "<pandas.io.formats.style.Styler at 0x1c268589b0>"
      ]
     },
     "metadata": {},
     "output_type": "display_data"
    },
    {
     "data": {
      "text/html": [
       "        <script type=\"text/javascript\">\n",
       "        window.PlotlyConfig = {MathJaxConfig: 'local'};\n",
       "        if (window.MathJax) {MathJax.Hub.Config({SVG: {font: \"STIX-Web\"}});}\n",
       "        if (typeof require !== 'undefined') {\n",
       "        require.undef(\"plotly\");\n",
       "        requirejs.config({\n",
       "            paths: {\n",
       "                'plotly': ['https://cdn.plot.ly/plotly-latest.min']\n",
       "            }\n",
       "        });\n",
       "        require(['plotly'], function(Plotly) {\n",
       "            window._Plotly = Plotly;\n",
       "        });\n",
       "        }\n",
       "        </script>\n",
       "        "
      ]
     },
     "metadata": {},
     "output_type": "display_data"
    },
    {
     "name": "stdout",
     "output_type": "stream",
     "text": [
      "[i] Pandas .iplot() method activated.\n"
     ]
    }
   ],
   "source": [
    "from IPython.display import clear_output\n",
    "!pip install -U fsds_100719\n",
    "clear_output()\n",
    "from fsds_100719.imports import *\n"
   ]
  },
  {
   "cell_type": "code",
   "execution_count": 2,
   "metadata": {
    "ExecuteTime": {
     "end_time": "2020-04-22T00:51:05.359356Z",
     "start_time": "2020-04-22T00:51:05.348128Z"
    }
   },
   "outputs": [],
   "source": [
    "import plotly.express as px\n",
    "import plotly.graph_objects as go\n",
    "import warnings\n",
    "warnings.filterwarnings('ignore')\n",
    "\n",
    "from fsds_100719.imports import *"
   ]
  },
  {
   "cell_type": "markdown",
   "metadata": {},
   "source": [
    "### previous functions"
   ]
  },
  {
   "cell_type": "code",
   "execution_count": 3,
   "metadata": {
    "ExecuteTime": {
     "end_time": "2020-04-22T00:51:05.363420Z",
     "start_time": "2020-04-22T00:51:05.361187Z"
    }
   },
   "outputs": [],
   "source": [
    "# fs.quick"
   ]
  },
  {
   "cell_type": "code",
   "execution_count": 4,
   "metadata": {
    "ExecuteTime": {
     "end_time": "2020-04-22T00:51:05.369680Z",
     "start_time": "2020-04-22T00:51:05.365987Z"
    }
   },
   "outputs": [
    {
     "data": {
      "text/html": [
       "\n",
       "    Formatting follows the Python datetime <strong><a href='http://strftime.org/'>strftime</a></strong> codes.<br>\n",
       "    The following examples are based on <tt>datetime.datetime(2001, 2, 3, 16, 5, 6)</tt>:\n",
       "    <br><br>\n",
       "\n",
       "    <table style=\"display: inline-block\">  \n",
       "    <tr><th>CODE</th><th>MEANING</th><th>EXAMPLE</th><tr>\n",
       "    <tr><td>%Y</td><td>Year with century as a decimal number.</td><td>2001</td></tr>\n",
       "    <tr><td>%y</td><td>Year without century as a zero-padded decimal number.</td><td>01</td></tr>\n",
       "    <tr><td>%m</td><td>Month as a zero-padded decimal number.</td><td>02</td></tr>\n",
       "    <tr><td>%B</td><td>Month as locale’s full name.</td><td>February</td></tr>\n",
       "    <tr><td>%b</td><td>Month as locale’s abbreviated name.</td><td>Feb</td></tr>\n",
       "    <tr><td>%d</td><td>Day of the month as a zero-padded decimal number.</td><td>03</td></tr>  \n",
       "    <tr><td>%A</td><td>Weekday as locale’s full name.</td><td>Saturday</td></tr>\n",
       "    <tr><td>%a</td><td>Weekday as locale’s abbreviated name.</td><td>Sat</td></tr>\n",
       "    <tr><td>%H</td><td>Hour (24-hour clock) as a zero-padded decimal number.</td><td>16</td></tr>\n",
       "    <tr><td>%I</td><td>Hour (12-hour clock) as a zero-padded decimal number.</td><td>04</td></tr>\n",
       "    <tr><td>%p</td><td>Locale’s equivalent of either AM or PM.</td><td>PM</td></tr>\n",
       "    <tr><td>%M</td><td>Minute as a zero-padded decimal number.</td><td>05</td></tr>\n",
       "    <tr><td>%S</td><td>Second as a zero-padded decimal number.</td><td>06</td></tr>\n",
       "    </table>\n",
       "    <table style=\"display: inline-block\">\n",
       "    <tr><th>CODE</th><th>MEANING</th><th>EXAMPLE</th><tr>\n",
       "    <tr><td>%#m</td><td>Month as a decimal number. (Windows)</td><td>2</td></tr>\n",
       "    <tr><td>%-m</td><td>Month as a decimal number. (Mac/Linux)</td><td>2</td></tr>\n",
       "    <tr><td>%#x</td><td>Long date</td><td>Saturday, February 03, 2001</td></tr>\n",
       "    <tr><td>%#c</td><td>Long date and time</td><td>Saturday, February 03, 2001 16:05:06</td></tr>\n",
       "    </table>  \n",
       "    "
      ],
      "text/plain": [
       "<IPython.core.display.HTML object>"
      ]
     },
     "metadata": {},
     "output_type": "display_data"
    }
   ],
   "source": [
    "fs.quick_refs.ts_date_str_formatting()"
   ]
  },
  {
   "cell_type": "code",
   "execution_count": 5,
   "metadata": {
    "ExecuteTime": {
     "end_time": "2020-04-22T00:51:05.373761Z",
     "start_time": "2020-04-22T00:51:05.371414Z"
    }
   },
   "outputs": [],
   "source": [
    "# timer.created_at.isoformat(sep=' ', timespec='milliseconds')"
   ]
  },
  {
   "cell_type": "code",
   "execution_count": 6,
   "metadata": {
    "ExecuteTime": {
     "end_time": "2020-04-22T00:51:05.388717Z",
     "start_time": "2020-04-22T00:51:05.375349Z"
    },
    "code_folding": []
   },
   "outputs": [],
   "source": [
    "## a timer to record how long a process takes\n",
    "class Timer():\n",
    "    ## def init\n",
    "    def __init__(self,format_=\"%m/%d/%y - %I:%M:%S %p\", \n",
    "                 start_timer=True,str_width=20,verbose=1):\n",
    "        import tzlocal\n",
    "        self._verbose = verbose\n",
    "\n",
    "        self.tz = tzlocal.get_localzone()\n",
    "        self.fmt = format_\n",
    "        self._str_width = str_width\n",
    "        \n",
    "        self.created_at = self.get_time()# get time'\n",
    "\n",
    "        \n",
    "        self._log = []\n",
    "#         self.log(f\"[i] Timer created at \\t{self.created_at.strftime(self.fmt):>{self._str_width}}\",\n",
    "#                 print_=False)\n",
    "       \n",
    "        if start_timer:\n",
    "            self.start()\n",
    "        \n",
    "        \n",
    "    def log(self,msg='',print_= None):\n",
    "        if print_ is None:\n",
    "            print_ = self._verbose         \n",
    "        if print_>0:\n",
    "            print(msg)\n",
    "        self._log.append(msg)\n",
    "        \n",
    "        \n",
    "    def _fmt_time(self,time_to_fmt):\n",
    "        time_str = f\"{time_to_fmt.strftime(self.fmt):>{self._str_width}}\"\n",
    "        return time_str\n",
    "        \n",
    "    ## def get time method\n",
    "    def get_time(self):\n",
    "        import datetime as dt\n",
    "        return dt.datetime.now(self.tz)\n",
    "\n",
    "    ## def start\n",
    "    def start(self):\n",
    "        time = self.get_time()\n",
    "        self.started_at = time\n",
    "        msg = f\"[i] Timer started at \\t{self._fmt_time(self.started_at)}\" #{self.started_at.strftime(self.fmt):>{self._str_width}}\"\n",
    "        self.log(msg,print_=None)#_log.append(msg)\n",
    "\n",
    "\n",
    "    \n",
    "    ## def stop\n",
    "    def stop(self):\n",
    "        time = self.get_time()\n",
    "        self.ended_at = time\n",
    "        self.duration = self.ended_at - self.started_at\n",
    "        \n",
    "    \n",
    "        msg1 = f\"[i] Timer ended at \\t{self.ended_at.strftime(self.fmt):>{self._str_width}}\"\n",
    "        msg2 = f\"\\t\\t\\t- Total time = {self.duration}\"\n",
    "\n",
    "        if self._verbose==2:\n",
    "            print_override=False\n",
    "        else:\n",
    "            print_override=True\n",
    "                \n",
    "        self.log(msg1,print_=print_override)#_log.append(msg1)\n",
    "\n",
    "#         if self._verbose>1:\n",
    "#             print('---'*20)\n",
    "            \n",
    "\n",
    "        self.log(msg2,print_=print_override)#,print_=True)\n",
    "        if self._verbose==2:\n",
    "            print(self.summary())\n",
    "#\n",
    "    def summary(self):\n",
    "        dashes= '---'*20\n",
    "#         print()\n",
    "        \n",
    "    \n",
    "        summary = self._log.copy()\n",
    "        \n",
    "        summary =['\\n',dashes,'\\tTIMER LOG',dashes,\n",
    "                  *summary,dashes]\n",
    "        \n",
    "#         summary.append()\n",
    "#         summary.append(dashes)\n",
    "        \n",
    "#         if self._verbose>1:\n",
    "#             summary.append(dashes)\n",
    "        return '\\n'.join(summary)\n",
    "    \n",
    "    \n",
    "    def __repr__(self):\n",
    "        return self.summary()"
   ]
  },
  {
   "cell_type": "code",
   "execution_count": 7,
   "metadata": {
    "ExecuteTime": {
     "end_time": "2020-04-22T00:51:06.399285Z",
     "start_time": "2020-04-22T00:51:05.390196Z"
    }
   },
   "outputs": [
    {
     "name": "stdout",
     "output_type": "stream",
     "text": [
      "[i] Timer started at \t04/21/20 - 08:51:05 PM\n",
      "[i] Timer ended at \t04/21/20 - 08:51:06 PM\n",
      "\t\t\t- Total time = 0:00:01.002512\n"
     ]
    }
   ],
   "source": [
    "import time\n",
    "timer = Timer(verbose=1)#str_width=40)\n",
    "\n",
    "time.sleep(1)\n",
    "\n",
    "timer.stop()\n",
    "# type(timer)\n",
    "# timer.log('cheese',False)\n",
    "# timer"
   ]
  },
  {
   "cell_type": "code",
   "execution_count": 8,
   "metadata": {
    "ExecuteTime": {
     "end_time": "2020-04-22T00:51:06.405411Z",
     "start_time": "2020-04-22T00:51:06.402095Z"
    }
   },
   "outputs": [
    {
     "data": {
      "text/plain": [
       "\n",
       "\n",
       "------------------------------------------------------------\n",
       "\tTIMER LOG\n",
       "------------------------------------------------------------\n",
       "[i] Timer started at \t04/21/20 - 08:51:05 PM\n",
       "[i] Timer ended at \t04/21/20 - 08:51:06 PM\n",
       "\t\t\t- Total time = 0:00:01.002512\n",
       "------------------------------------------------------------"
      ]
     },
     "execution_count": 8,
     "metadata": {},
     "output_type": "execute_result"
    }
   ],
   "source": [
    "timer"
   ]
  },
  {
   "cell_type": "code",
   "execution_count": 9,
   "metadata": {
    "ExecuteTime": {
     "end_time": "2020-04-22T00:51:06.409143Z",
     "start_time": "2020-04-22T00:51:06.407150Z"
    }
   },
   "outputs": [],
   "source": [
    "# mpl."
   ]
  },
  {
   "cell_type": "code",
   "execution_count": 10,
   "metadata": {
    "ExecuteTime": {
     "end_time": "2020-04-22T00:51:06.639087Z",
     "start_time": "2020-04-22T00:51:06.410456Z"
    }
   },
   "outputs": [
    {
     "name": "stdout",
     "output_type": "stream",
     "text": [
      "True\n"
     ]
    },
    {
     "data": {
      "image/png": "[encoded data removed]",
      "text/plain": [
       "<Figure size 432x288 with 2 Axes>"
      ]
     },
     "metadata": {
      "needs_background": "light"
     },
     "output_type": "display_data"
    }
   ],
   "source": [
    "fig,ax=plt.subplots(ncols=2)\n",
    "\n",
    "if isinstance(ax,np.ndarray):\n",
    "    print('True')"
   ]
  },
  {
   "cell_type": "code",
   "execution_count": 11,
   "metadata": {
    "ExecuteTime": {
     "end_time": "2020-04-22T00:51:06.651603Z",
     "start_time": "2020-04-22T00:51:06.640216Z"
    }
   },
   "outputs": [],
   "source": [
    "def plot_importance(tree, top_n=20,figsize=(10,10)):\n",
    "    df_importance = pd.Series(tree.feature_importances_,index=X_train.columns)\n",
    "    df_importance.sort_values(ascending=True).tail(top_n).plot(\n",
    "        kind='barh',figsize=figsize)\n",
    "    return df_importance\n",
    "\n",
    "## Write a fucntion to evalute the model\n",
    "import sklearn.metrics as metrics\n",
    "\n",
    "def evaluate_model(y_true, y_pred,X_true,clf,cm_kws=dict(cmap=\"Greens\",\n",
    "                                  normalize='true'),figsize=(10,4),plot_roc_auc=True):\n",
    "    \n",
    "    ## Classification Report / Scores \n",
    "    print(metrics.classification_report(y_true,y_pred))\n",
    "\n",
    "    if plot_roc_auc:\n",
    "        num_cols=2\n",
    "    else:\n",
    "        num_cols=1\n",
    "        \n",
    "    fig, ax = plt.subplots(figsize=figsize,ncols=num_cols)\n",
    "    \n",
    "    if not isinstance(ax,np.ndarray):\n",
    "        ax=[ax]\n",
    "    metrics.plot_confusion_matrix(clf,X_true,y_true,ax=ax[0],**cm_kws)\n",
    "    ax[0].set(title='Confusion Matrix')\n",
    "    \n",
    "    if plot_roc_auc:\n",
    "        try:\n",
    "            y_score = clf.predict_proba(X_true)[:,1]\n",
    "\n",
    "            fpr,tpr,thresh = metrics.roc_curve(y_true,y_score)\n",
    "            # print(f\"ROC-area-under-the-curve= {}\")\n",
    "            roc_auc = round(metrics.auc(fpr,tpr),3)\n",
    "            ax[1].plot(fpr,tpr,color='darkorange',label=f'ROC Curve (AUC={roc_auc})')\n",
    "            ax[1].plot([0,1],[0,1],ls=':')\n",
    "            ax[1].legend()\n",
    "            ax[1].grid()\n",
    "            ax[1].set(ylabel='True Positive Rate',xlabel='False Positive Rate',\n",
    "                  title='Receiver operating characteristic (ROC) Curve')\n",
    "            plt.tight_layout()\n",
    "            plt.show()\n",
    "        except:\n",
    "            pass\n",
    "    try: \n",
    "        df_important = plot_importance(clf)\n",
    "    except:\n",
    "        df_important = None\n",
    "    \n",
    "#     return df_important\n",
    "## visualize the decision tree\n",
    "def visualize_tree(tree,feature_names=None,class_names=['0','1'],\n",
    "                   kws={},save_filename=None,format_='png',save_and_show=False):\n",
    "    \"\"\"Visualizes a sklearn tree using sklearn.tree.export_graphviz\"\"\"\n",
    "    from sklearn.tree import export_graphviz\n",
    "    from IPython.display import SVG\n",
    "    import graphviz #import Source\n",
    "    from IPython.display import display\n",
    "    \n",
    "    if feature_names is None:\n",
    "        feature_names=X_train.columns\n",
    "\n",
    "    tree_viz_kws =  dict(out_file=None,rounded=True, rotate=False, filled = True)\n",
    "    tree_viz_kws.update(kws)\n",
    "\n",
    "    # tree.export_graphviz(dt) #if you wish to save the output to a dot file instead\n",
    "    tree_data=export_graphviz(tree,feature_names=feature_names, \n",
    "                                   class_names=class_names,**tree_viz_kws)\n",
    "    graph = graphviz.Source(tree_data,format=format_)#'png')\n",
    "    \n",
    "    if save_filename is not None:\n",
    "        graph.render(save_filename)\n",
    "        if save_and_show:\n",
    "            display(graph)\n",
    "        else:\n",
    "            print(f'[i] Tree saved as {save_filename}.{format_}')\n",
    "    else:\n",
    "        display(graph)\n",
    "\n",
    "#     display(SVG(graph.pipe(format=format_)))#'svg')))"
   ]
  },
  {
   "cell_type": "markdown",
   "metadata": {},
   "source": [
    "# Obtain"
   ]
  },
  {
   "cell_type": "code",
   "execution_count": 12,
   "metadata": {
    "ExecuteTime": {
     "end_time": "2020-04-22T00:51:07.141607Z",
     "start_time": "2020-04-22T00:51:06.652734Z"
    }
   },
   "outputs": [
    {
     "data": {
      "text/html": [
       "<div>\n",
       "<style scoped>\n",
       "    .dataframe tbody tr th:only-of-type {\n",
       "        vertical-align: middle;\n",
       "    }\n",
       "\n",
       "    .dataframe tbody tr th {\n",
       "        vertical-align: top;\n",
       "    }\n",
       "\n",
       "    .dataframe thead th {\n",
       "        text-align: right;\n",
       "    }\n",
       "</style>\n",
       "<table border=\"1\" class=\"dataframe\">\n",
       "  <thead>\n",
       "    <tr style=\"text-align: right;\">\n",
       "      <th></th>\n",
       "      <th>yr_released</th>\n",
       "      <th>report_year</th>\n",
       "      <th>race_ethnicity</th>\n",
       "      <th>age_released</th>\n",
       "      <th>crime_class</th>\n",
       "      <th>crime_type</th>\n",
       "      <th>crime_subtype</th>\n",
       "      <th>release_type</th>\n",
       "      <th>super_dist</th>\n",
       "      <th>recidivist</th>\n",
       "      <th>target_pop</th>\n",
       "      <th>sex</th>\n",
       "    </tr>\n",
       "  </thead>\n",
       "  <tbody>\n",
       "    <tr>\n",
       "      <td>0</td>\n",
       "      <td>2010</td>\n",
       "      <td>2013</td>\n",
       "      <td>Black - Non-Hispanic</td>\n",
       "      <td>25-34</td>\n",
       "      <td>C Felony</td>\n",
       "      <td>Violent</td>\n",
       "      <td>Robbery</td>\n",
       "      <td>Parole</td>\n",
       "      <td>7JD</td>\n",
       "      <td>Yes</td>\n",
       "      <td>Yes</td>\n",
       "      <td>Male</td>\n",
       "    </tr>\n",
       "    <tr>\n",
       "      <td>1</td>\n",
       "      <td>2010</td>\n",
       "      <td>2013</td>\n",
       "      <td>White - Non-Hispanic</td>\n",
       "      <td>25-34</td>\n",
       "      <td>D Felony</td>\n",
       "      <td>Property</td>\n",
       "      <td>Theft</td>\n",
       "      <td>Discharged – End of Sentence</td>\n",
       "      <td>NaN</td>\n",
       "      <td>Yes</td>\n",
       "      <td>No</td>\n",
       "      <td>Male</td>\n",
       "    </tr>\n",
       "    <tr>\n",
       "      <td>2</td>\n",
       "      <td>2010</td>\n",
       "      <td>2013</td>\n",
       "      <td>White - Non-Hispanic</td>\n",
       "      <td>35-44</td>\n",
       "      <td>B Felony</td>\n",
       "      <td>Drug</td>\n",
       "      <td>Trafficking</td>\n",
       "      <td>Parole</td>\n",
       "      <td>5JD</td>\n",
       "      <td>Yes</td>\n",
       "      <td>Yes</td>\n",
       "      <td>Male</td>\n",
       "    </tr>\n",
       "    <tr>\n",
       "      <td>3</td>\n",
       "      <td>2010</td>\n",
       "      <td>2013</td>\n",
       "      <td>White - Non-Hispanic</td>\n",
       "      <td>25-34</td>\n",
       "      <td>B Felony</td>\n",
       "      <td>Other</td>\n",
       "      <td>Other Criminal</td>\n",
       "      <td>Parole</td>\n",
       "      <td>6JD</td>\n",
       "      <td>No</td>\n",
       "      <td>Yes</td>\n",
       "      <td>Male</td>\n",
       "    </tr>\n",
       "    <tr>\n",
       "      <td>4</td>\n",
       "      <td>2010</td>\n",
       "      <td>2013</td>\n",
       "      <td>Black - Non-Hispanic</td>\n",
       "      <td>35-44</td>\n",
       "      <td>D Felony</td>\n",
       "      <td>Violent</td>\n",
       "      <td>Assault</td>\n",
       "      <td>Discharged – End of Sentence</td>\n",
       "      <td>NaN</td>\n",
       "      <td>Yes</td>\n",
       "      <td>No</td>\n",
       "      <td>Male</td>\n",
       "    </tr>\n",
       "  </tbody>\n",
       "</table>\n",
       "</div>"
      ],
      "text/plain": [
       "   yr_released  report_year        race_ethnicity age_released crime_class  \\\n",
       "0         2010         2013  Black - Non-Hispanic        25-34    C Felony   \n",
       "1         2010         2013  White - Non-Hispanic        25-34    D Felony   \n",
       "2         2010         2013  White - Non-Hispanic        35-44    B Felony   \n",
       "3         2010         2013  White - Non-Hispanic        25-34    B Felony   \n",
       "4         2010         2013  Black - Non-Hispanic        35-44    D Felony   \n",
       "\n",
       "  crime_type   crime_subtype                  release_type super_dist  \\\n",
       "0    Violent         Robbery                        Parole        7JD   \n",
       "1   Property           Theft  Discharged – End of Sentence        NaN   \n",
       "2       Drug     Trafficking                        Parole        5JD   \n",
       "3      Other  Other Criminal                        Parole        6JD   \n",
       "4    Violent         Assault  Discharged – End of Sentence        NaN   \n",
       "\n",
       "  recidivist target_pop   sex  \n",
       "0        Yes        Yes  Male  \n",
       "1        Yes         No  Male  \n",
       "2        Yes        Yes  Male  \n",
       "3         No        Yes  Male  \n",
       "4        Yes         No  Male  "
      ]
     },
     "execution_count": 12,
     "metadata": {},
     "output_type": "execute_result"
    }
   ],
   "source": [
    "df = fs.datasets.load_iowa_prisoners(vers='clean',read_csv_kwds={'index_col':0})\n",
    "df.head()"
   ]
  },
  {
   "cell_type": "code",
   "execution_count": 13,
   "metadata": {
    "ExecuteTime": {
     "end_time": "2020-04-22T00:51:07.159007Z",
     "start_time": "2020-04-22T00:51:07.143169Z"
    }
   },
   "outputs": [
    {
     "name": "stdout",
     "output_type": "stream",
     "text": [
      "<class 'pandas.core.frame.DataFrame'>\n",
      "Int64Index: 26020 entries, 0 to 26019\n",
      "Data columns (total 10 columns):\n",
      "race_ethnicity    25990 non-null object\n",
      "age_released      26017 non-null object\n",
      "crime_class       26020 non-null object\n",
      "crime_type        26020 non-null object\n",
      "crime_subtype     26020 non-null object\n",
      "release_type      24258 non-null object\n",
      "super_dist        16439 non-null object\n",
      "recidivist        26020 non-null object\n",
      "target_pop        26020 non-null object\n",
      "sex               26017 non-null object\n",
      "dtypes: object(10)\n",
      "memory usage: 2.2+ MB\n"
     ]
    }
   ],
   "source": [
    "## Drop unwanted cols\n",
    "df= df.drop(columns=['yr_released','report_year'])\n",
    "df.info()"
   ]
  },
  {
   "cell_type": "code",
   "execution_count": 14,
   "metadata": {
    "ExecuteTime": {
     "end_time": "2020-04-22T00:51:07.754281Z",
     "start_time": "2020-04-22T00:51:07.160225Z"
    }
   },
   "outputs": [
    {
     "data": {
      "text/plain": [
       "race_ethnicity      30\n",
       "age_released         3\n",
       "crime_class          0\n",
       "crime_type           0\n",
       "crime_subtype        0\n",
       "release_type      1762\n",
       "super_dist        9581\n",
       "recidivist           0\n",
       "target_pop           0\n",
       "sex                  3\n",
       "dtype: int64"
      ]
     },
     "execution_count": 14,
     "metadata": {},
     "output_type": "execute_result"
    },
    {
     "data": {
      "image/png": "[encoded data removed]",
      "text/plain": [
       "<Figure size 1800x720 with 2 Axes>"
      ]
     },
     "metadata": {
      "needs_background": "light"
     },
     "output_type": "display_data"
    }
   ],
   "source": [
    "## Check null values\n",
    "import missingno\n",
    "missingno.matrix(df)\n",
    "df.isna().sum()"
   ]
  },
  {
   "cell_type": "code",
   "execution_count": 15,
   "metadata": {
    "ExecuteTime": {
     "end_time": "2020-04-22T00:51:07.763490Z",
     "start_time": "2020-04-22T00:51:07.755603Z"
    }
   },
   "outputs": [
    {
     "data": {
      "text/plain": [
       "White - Non-Hispanic                               17584\n",
       "Black - Non-Hispanic                                6109\n",
       "White - Hispanic                                    1522\n",
       "American Indian or Alaska Native - Non-Hispanic      502\n",
       "Asian or Pacific Islander - Non-Hispanic             192\n",
       "Black - Hispanic                                      37\n",
       "NaN                                                   30\n",
       "American Indian or Alaska Native - Hispanic           20\n",
       "White -                                               12\n",
       "Asian or Pacific Islander - Hispanic                   5\n",
       "N/A -                                                  5\n",
       "Black -                                                2\n",
       "Name: race_ethnicity, dtype: int64"
      ]
     },
     "execution_count": 15,
     "metadata": {},
     "output_type": "execute_result"
    }
   ],
   "source": [
    "df['race_ethnicity'].value_counts(dropna=False)"
   ]
  },
  {
   "cell_type": "code",
   "execution_count": 16,
   "metadata": {
    "ExecuteTime": {
     "end_time": "2020-04-22T00:51:07.778149Z",
     "start_time": "2020-04-22T00:51:07.765107Z"
    }
   },
   "outputs": [
    {
     "data": {
      "text/plain": [
       "White                        17596\n",
       "Black                         6148\n",
       "Hispanic                      1522\n",
       "American Native                522\n",
       "Asian or Pacific Islander      197\n",
       "NaN                             35\n",
       "Name: race_ethnicity, dtype: int64"
      ]
     },
     "execution_count": 16,
     "metadata": {},
     "output_type": "execute_result"
    }
   ],
   "source": [
    "# Defining Dictionary Map for race_ethnicity categories\n",
    "race_ethnicity_map = {'White - Non-Hispanic':'White',\n",
    "                        'Black - Non-Hispanic': 'Black',\n",
    "                        'White - Hispanic' : 'Hispanic',\n",
    "                        'American Indian or Alaska Native - Non-Hispanic' : 'American Native',\n",
    "                        'Asian or Pacific Islander - Non-Hispanic' : 'Asian or Pacific Islander',\n",
    "                        'Black - Hispanic' : 'Black',\n",
    "                        'American Indian or Alaska Native - Hispanic':'American Native',\n",
    "                        'White -' : 'White',\n",
    "                        'Asian or Pacific Islander - Hispanic' : 'Asian or Pacific Islander',\n",
    "                        'N/A -' : np.nan,\n",
    "                        'Black -':'Black'}\n",
    "\n",
    "df['race_ethnicity'] = df['race_ethnicity'].map(race_ethnicity_map)\n",
    "df['race_ethnicity'].value_counts(dropna=False)"
   ]
  },
  {
   "cell_type": "code",
   "execution_count": 17,
   "metadata": {
    "ExecuteTime": {
     "end_time": "2020-04-22T00:51:07.787474Z",
     "start_time": "2020-04-22T00:51:07.779487Z"
    }
   },
   "outputs": [
    {
     "data": {
      "text/plain": [
       "D Felony                                    10487\n",
       "C Felony                                     6803\n",
       "Aggravated Misdemeanor                       4930\n",
       "B Felony                                     1765\n",
       "Felony - Enhancement to Original Penalty     1533\n",
       "Felony - Enhanced                             220\n",
       "Serious Misdemeanor                           155\n",
       "Special Sentence 2005                          98\n",
       "Felony - Mandatory Minimum                     11\n",
       "Other Felony                                    6\n",
       "A Felony                                        4\n",
       "Simple Misdemeanor                              3\n",
       "Other Felony (Old Code)                         2\n",
       "Sexual Predator Community Supervision           2\n",
       "Other Misdemeanor                               1\n",
       "Name: crime_class, dtype: int64"
      ]
     },
     "execution_count": 17,
     "metadata": {},
     "output_type": "execute_result"
    }
   ],
   "source": [
    "df['crime_class'].value_counts()"
   ]
  },
  {
   "cell_type": "code",
   "execution_count": 18,
   "metadata": {
    "ExecuteTime": {
     "end_time": "2020-04-22T00:51:07.802417Z",
     "start_time": "2020-04-22T00:51:07.789121Z"
    }
   },
   "outputs": [
    {
     "data": {
      "text/plain": [
       "D Felony                  10487\n",
       "C Felony                   6803\n",
       "Aggravated Misdemeanor     4930\n",
       "B Felony                   1765\n",
       "Felony - Enhanced          1753\n",
       "Serious Misdemeanor         155\n",
       "Sex Offender                100\n",
       "NaN                          20\n",
       "A Felony                      4\n",
       "Simple Misdemeanor            3\n",
       "Name: crime_class, dtype: int64"
      ]
     },
     "execution_count": 18,
     "metadata": {},
     "output_type": "execute_result"
    }
   ],
   "source": [
    "# Remapping\n",
    "crime_class_map = {'Other Felony (Old Code)': np.nan ,#or other felony\n",
    "                  'Other Misdemeanor':np.nan,\n",
    "                   'Felony - Mandatory Minimum':np.nan, # if minimum then lowest sentence ==  D Felony\n",
    "                   'Special Sentence 2005': 'Sex Offender',\n",
    "                   'Other Felony' : np.nan ,\n",
    "                   'Sexual Predator Community Supervision' : 'Sex Offender',\n",
    "                   'D Felony': 'D Felony',\n",
    "                   'C Felony' :'C Felony',\n",
    "                   'B Felony' : 'B Felony',\n",
    "                   'A Felony' : 'A Felony',\n",
    "                   'Aggravated Misdemeanor':'Aggravated Misdemeanor',\n",
    "                   'Felony - Enhancement to Original Penalty':'Felony - Enhanced',\n",
    "                   'Felony - Enhanced':'Felony - Enhanced' ,\n",
    "                   'Serious Misdemeanor':'Serious Misdemeanor',\n",
    "                   'Simple Misdemeanor':'Simple Misdemeanor'}\n",
    "\n",
    "df['crime_class'] = df['crime_class'].map(crime_class_map)\n",
    "df['crime_class'].value_counts(dropna=False)"
   ]
  },
  {
   "cell_type": "code",
   "execution_count": 19,
   "metadata": {
    "ExecuteTime": {
     "end_time": "2020-04-22T00:51:07.811607Z",
     "start_time": "2020-04-22T00:51:07.803905Z"
    }
   },
   "outputs": [
    {
     "data": {
      "text/plain": [
       "25-34           9554\n",
       "35-44           6223\n",
       "Under 25        4590\n",
       "45-54           4347\n",
       "55 and Older    1303\n",
       "NaN                3\n",
       "Name: age_released, dtype: int64"
      ]
     },
     "execution_count": 19,
     "metadata": {},
     "output_type": "execute_result"
    }
   ],
   "source": [
    "df['age_released'].value_counts(dropna=False)"
   ]
  },
  {
   "cell_type": "code",
   "execution_count": 20,
   "metadata": {
    "ExecuteTime": {
     "end_time": "2020-04-22T00:51:07.818447Z",
     "start_time": "2020-04-22T00:51:07.813160Z"
    }
   },
   "outputs": [
    {
     "data": {
      "text/plain": [
       "{'Under 25': 0, '25-34': 1, '35-44': 2, '45-54': 3, '55 and Older': 4}"
      ]
     },
     "execution_count": 20,
     "metadata": {},
     "output_type": "execute_result"
    }
   ],
   "source": [
    "# Encoding age groups as ordinal\n",
    "age_ranges = ('Under 25','25-34', '35-44','45-54','55 and Older')\n",
    "age_codes = (0,1,2,3,4) \n",
    "# Zipping into Dictionary to Map onto Column\n",
    "age_map = dict(zip(age_ranges,age_codes))\n",
    "age_map"
   ]
  },
  {
   "cell_type": "code",
   "execution_count": 21,
   "metadata": {
    "ExecuteTime": {
     "end_time": "2020-04-22T00:51:07.830739Z",
     "start_time": "2020-04-22T00:51:07.820164Z"
    }
   },
   "outputs": [
    {
     "data": {
      "text/plain": [
       "1.0    9554\n",
       "2.0    6223\n",
       "0.0    4590\n",
       "3.0    4347\n",
       "4.0    1303\n",
       "Name: age_enc, dtype: int64"
      ]
     },
     "execution_count": 21,
     "metadata": {},
     "output_type": "execute_result"
    }
   ],
   "source": [
    "df['age_enc'] = df['age_released'].map(age_map)\n",
    "df['age_enc'].value_counts()"
   ]
  },
  {
   "cell_type": "code",
   "execution_count": 22,
   "metadata": {
    "ExecuteTime": {
     "end_time": "2020-04-22T00:51:07.836920Z",
     "start_time": "2020-04-22T00:51:07.832301Z"
    }
   },
   "outputs": [
    {
     "data": {
      "text/plain": [
       "{'Under 25': 20, '25-34': 30, '35-44': 40, '45-54': 50, '55 and Older': 70}"
      ]
     },
     "execution_count": 22,
     "metadata": {},
     "output_type": "execute_result"
    }
   ],
   "source": [
    "# Mapping age_map onto 'age_released'\n",
    "# Encoding age groups as ordinal\n",
    "age_ranges = ('Under 25','25-34', '35-44','45-54','55 and Older')\n",
    "age_numbers = (20,30,40,50,70) \n",
    "age_num_map = dict(zip(age_ranges,age_numbers))\n",
    "age_num_map"
   ]
  },
  {
   "cell_type": "code",
   "execution_count": 23,
   "metadata": {
    "ExecuteTime": {
     "end_time": "2020-04-22T00:51:07.852437Z",
     "start_time": "2020-04-22T00:51:07.841615Z"
    }
   },
   "outputs": [
    {
     "data": {
      "text/plain": [
       "30.0    9554\n",
       "40.0    6223\n",
       "20.0    4590\n",
       "50.0    4347\n",
       "70.0    1303\n",
       "Name: age_number, dtype: int64"
      ]
     },
     "execution_count": 23,
     "metadata": {},
     "output_type": "execute_result"
    }
   ],
   "source": [
    "df['age_number'] = df['age_released'].map(age_num_map)\n",
    "df['age_number'].value_counts()"
   ]
  },
  {
   "cell_type": "code",
   "execution_count": 24,
   "metadata": {
    "ExecuteTime": {
     "end_time": "2020-04-22T00:51:07.876912Z",
     "start_time": "2020-04-22T00:51:07.855033Z"
    }
   },
   "outputs": [
    {
     "name": "stdout",
     "output_type": "stream",
     "text": [
      "race_ethnicity     0.134512\n",
      "age_released       0.011530\n",
      "crime_class        0.076864\n",
      "crime_type         0.000000\n",
      "crime_subtype      0.000000\n",
      "release_type       6.771714\n",
      "super_dist        36.821676\n",
      "recidivist         0.000000\n",
      "target_pop         0.000000\n",
      "sex                0.011530\n",
      "age_enc            0.011530\n",
      "age_number         0.011530\n",
      "dtype: float64\n"
     ]
    },
    {
     "data": {
      "text/plain": [
       "['race_ethnicity',\n",
       " 'age_released',\n",
       " 'crime_class',\n",
       " 'crime_type',\n",
       " 'crime_subtype',\n",
       " 'recidivist',\n",
       " 'target_pop',\n",
       " 'sex',\n",
       " 'age_enc',\n",
       " 'age_number']"
      ]
     },
     "execution_count": 24,
     "metadata": {},
     "output_type": "execute_result"
    }
   ],
   "source": [
    "## Drop Nulls \n",
    "print(df.isna().sum().divide(len(df))*100)\n",
    "drop_cols  = [col for col in df.drop(columns=['super_dist','release_type']).columns]\n",
    "drop_cols"
   ]
  },
  {
   "cell_type": "code",
   "execution_count": 25,
   "metadata": {
    "ExecuteTime": {
     "end_time": "2020-04-22T00:51:07.907892Z",
     "start_time": "2020-04-22T00:51:07.878207Z"
    }
   },
   "outputs": [
    {
     "data": {
      "text/plain": [
       "race_ethnicity       0\n",
       "age_released         0\n",
       "crime_class          0\n",
       "crime_type           0\n",
       "crime_subtype        0\n",
       "release_type      1759\n",
       "super_dist        9539\n",
       "recidivist           0\n",
       "target_pop           0\n",
       "sex                  0\n",
       "age_enc              0\n",
       "age_number           0\n",
       "dtype: int64"
      ]
     },
     "execution_count": 25,
     "metadata": {},
     "output_type": "execute_result"
    }
   ],
   "source": [
    "df.dropna(subset=drop_cols, inplace=True)\n",
    "df.isna().sum()"
   ]
  },
  {
   "cell_type": "code",
   "execution_count": 26,
   "metadata": {
    "ExecuteTime": {
     "end_time": "2020-04-22T00:51:07.928961Z",
     "start_time": "2020-04-22T00:51:07.909264Z"
    }
   },
   "outputs": [
    {
     "data": {
      "text/plain": [
       "race_ethnicity    0\n",
       "age_released      0\n",
       "crime_class       0\n",
       "crime_type        0\n",
       "crime_subtype     0\n",
       "release_type      0\n",
       "super_dist        0\n",
       "recidivist        0\n",
       "target_pop        0\n",
       "sex               0\n",
       "age_enc           0\n",
       "age_number        0\n",
       "dtype: int64"
      ]
     },
     "execution_count": 26,
     "metadata": {},
     "output_type": "execute_result"
    }
   ],
   "source": [
    "df[['super_dist','release_type']] = df[['super_dist','release_type']].fillna('Missing')\n",
    "df.isna().sum()"
   ]
  },
  {
   "cell_type": "code",
   "execution_count": 27,
   "metadata": {
    "ExecuteTime": {
     "end_time": "2020-04-22T00:51:07.935094Z",
     "start_time": "2020-04-22T00:51:07.930352Z"
    }
   },
   "outputs": [],
   "source": [
    "drop_cols = ['age_released']\n",
    "df = df.drop(columns=drop_cols)"
   ]
  },
  {
   "cell_type": "code",
   "execution_count": 28,
   "metadata": {
    "ExecuteTime": {
     "end_time": "2020-04-22T00:51:07.979303Z",
     "start_time": "2020-04-22T00:51:07.936374Z"
    }
   },
   "outputs": [
    {
     "data": {
      "text/html": [
       "<div>\n",
       "<style scoped>\n",
       "    .dataframe tbody tr th:only-of-type {\n",
       "        vertical-align: middle;\n",
       "    }\n",
       "\n",
       "    .dataframe tbody tr th {\n",
       "        vertical-align: top;\n",
       "    }\n",
       "\n",
       "    .dataframe thead th {\n",
       "        text-align: right;\n",
       "    }\n",
       "</style>\n",
       "<table border=\"1\" class=\"dataframe\">\n",
       "  <thead>\n",
       "    <tr style=\"text-align: right;\">\n",
       "      <th></th>\n",
       "      <th>age_enc</th>\n",
       "      <th>age_number</th>\n",
       "      <th>race_ethnicity_American Native</th>\n",
       "      <th>race_ethnicity_Asian or Pacific Islander</th>\n",
       "      <th>race_ethnicity_Black</th>\n",
       "      <th>race_ethnicity_Hispanic</th>\n",
       "      <th>race_ethnicity_White</th>\n",
       "      <th>crime_class_A Felony</th>\n",
       "      <th>crime_class_Aggravated Misdemeanor</th>\n",
       "      <th>crime_class_B Felony</th>\n",
       "      <th>...</th>\n",
       "      <th>super_dist_8JD</th>\n",
       "      <th>super_dist_ISC</th>\n",
       "      <th>super_dist_Interstate Compact</th>\n",
       "      <th>super_dist_Missing</th>\n",
       "      <th>recidivist_No</th>\n",
       "      <th>recidivist_Yes</th>\n",
       "      <th>target_pop_No</th>\n",
       "      <th>target_pop_Yes</th>\n",
       "      <th>sex_Female</th>\n",
       "      <th>sex_Male</th>\n",
       "    </tr>\n",
       "  </thead>\n",
       "  <tbody>\n",
       "    <tr>\n",
       "      <td>0</td>\n",
       "      <td>1.0</td>\n",
       "      <td>30.0</td>\n",
       "      <td>0</td>\n",
       "      <td>0</td>\n",
       "      <td>1</td>\n",
       "      <td>0</td>\n",
       "      <td>0</td>\n",
       "      <td>0</td>\n",
       "      <td>0</td>\n",
       "      <td>0</td>\n",
       "      <td>...</td>\n",
       "      <td>0</td>\n",
       "      <td>0</td>\n",
       "      <td>0</td>\n",
       "      <td>0</td>\n",
       "      <td>0</td>\n",
       "      <td>1</td>\n",
       "      <td>0</td>\n",
       "      <td>1</td>\n",
       "      <td>0</td>\n",
       "      <td>1</td>\n",
       "    </tr>\n",
       "    <tr>\n",
       "      <td>1</td>\n",
       "      <td>1.0</td>\n",
       "      <td>30.0</td>\n",
       "      <td>0</td>\n",
       "      <td>0</td>\n",
       "      <td>0</td>\n",
       "      <td>0</td>\n",
       "      <td>1</td>\n",
       "      <td>0</td>\n",
       "      <td>0</td>\n",
       "      <td>0</td>\n",
       "      <td>...</td>\n",
       "      <td>0</td>\n",
       "      <td>0</td>\n",
       "      <td>0</td>\n",
       "      <td>1</td>\n",
       "      <td>0</td>\n",
       "      <td>1</td>\n",
       "      <td>1</td>\n",
       "      <td>0</td>\n",
       "      <td>0</td>\n",
       "      <td>1</td>\n",
       "    </tr>\n",
       "    <tr>\n",
       "      <td>2</td>\n",
       "      <td>2.0</td>\n",
       "      <td>40.0</td>\n",
       "      <td>0</td>\n",
       "      <td>0</td>\n",
       "      <td>0</td>\n",
       "      <td>0</td>\n",
       "      <td>1</td>\n",
       "      <td>0</td>\n",
       "      <td>0</td>\n",
       "      <td>1</td>\n",
       "      <td>...</td>\n",
       "      <td>0</td>\n",
       "      <td>0</td>\n",
       "      <td>0</td>\n",
       "      <td>0</td>\n",
       "      <td>0</td>\n",
       "      <td>1</td>\n",
       "      <td>0</td>\n",
       "      <td>1</td>\n",
       "      <td>0</td>\n",
       "      <td>1</td>\n",
       "    </tr>\n",
       "    <tr>\n",
       "      <td>3</td>\n",
       "      <td>1.0</td>\n",
       "      <td>30.0</td>\n",
       "      <td>0</td>\n",
       "      <td>0</td>\n",
       "      <td>0</td>\n",
       "      <td>0</td>\n",
       "      <td>1</td>\n",
       "      <td>0</td>\n",
       "      <td>0</td>\n",
       "      <td>1</td>\n",
       "      <td>...</td>\n",
       "      <td>0</td>\n",
       "      <td>0</td>\n",
       "      <td>0</td>\n",
       "      <td>0</td>\n",
       "      <td>1</td>\n",
       "      <td>0</td>\n",
       "      <td>0</td>\n",
       "      <td>1</td>\n",
       "      <td>0</td>\n",
       "      <td>1</td>\n",
       "    </tr>\n",
       "    <tr>\n",
       "      <td>4</td>\n",
       "      <td>2.0</td>\n",
       "      <td>40.0</td>\n",
       "      <td>0</td>\n",
       "      <td>0</td>\n",
       "      <td>1</td>\n",
       "      <td>0</td>\n",
       "      <td>0</td>\n",
       "      <td>0</td>\n",
       "      <td>0</td>\n",
       "      <td>0</td>\n",
       "      <td>...</td>\n",
       "      <td>0</td>\n",
       "      <td>0</td>\n",
       "      <td>0</td>\n",
       "      <td>1</td>\n",
       "      <td>0</td>\n",
       "      <td>1</td>\n",
       "      <td>1</td>\n",
       "      <td>0</td>\n",
       "      <td>0</td>\n",
       "      <td>1</td>\n",
       "    </tr>\n",
       "  </tbody>\n",
       "</table>\n",
       "<p>5 rows × 76 columns</p>\n",
       "</div>"
      ],
      "text/plain": [
       "   age_enc  age_number  race_ethnicity_American Native  \\\n",
       "0      1.0        30.0                               0   \n",
       "1      1.0        30.0                               0   \n",
       "2      2.0        40.0                               0   \n",
       "3      1.0        30.0                               0   \n",
       "4      2.0        40.0                               0   \n",
       "\n",
       "   race_ethnicity_Asian or Pacific Islander  race_ethnicity_Black  \\\n",
       "0                                         0                     1   \n",
       "1                                         0                     0   \n",
       "2                                         0                     0   \n",
       "3                                         0                     0   \n",
       "4                                         0                     1   \n",
       "\n",
       "   race_ethnicity_Hispanic  race_ethnicity_White  crime_class_A Felony  \\\n",
       "0                        0                     0                     0   \n",
       "1                        0                     1                     0   \n",
       "2                        0                     1                     0   \n",
       "3                        0                     1                     0   \n",
       "4                        0                     0                     0   \n",
       "\n",
       "   crime_class_Aggravated Misdemeanor  crime_class_B Felony  ...  \\\n",
       "0                                   0                     0  ...   \n",
       "1                                   0                     0  ...   \n",
       "2                                   0                     1  ...   \n",
       "3                                   0                     1  ...   \n",
       "4                                   0                     0  ...   \n",
       "\n",
       "   super_dist_8JD  super_dist_ISC  super_dist_Interstate Compact  \\\n",
       "0               0               0                              0   \n",
       "1               0               0                              0   \n",
       "2               0               0                              0   \n",
       "3               0               0                              0   \n",
       "4               0               0                              0   \n",
       "\n",
       "   super_dist_Missing  recidivist_No  recidivist_Yes  target_pop_No  \\\n",
       "0                   0              0               1              0   \n",
       "1                   1              0               1              1   \n",
       "2                   0              0               1              0   \n",
       "3                   0              1               0              0   \n",
       "4                   1              0               1              1   \n",
       "\n",
       "   target_pop_Yes  sex_Female  sex_Male  \n",
       "0               1           0         1  \n",
       "1               0           0         1  \n",
       "2               1           0         1  \n",
       "3               1           0         1  \n",
       "4               0           0         1  \n",
       "\n",
       "[5 rows x 76 columns]"
      ]
     },
     "execution_count": 28,
     "metadata": {},
     "output_type": "execute_result"
    }
   ],
   "source": [
    "# one_hot_cols = ['race_ethnicity','crime_class\n",
    "df = pd.get_dummies(df)#,dummy_na=True)\n",
    "df.head()"
   ]
  },
  {
   "cell_type": "code",
   "execution_count": 29,
   "metadata": {
    "ExecuteTime": {
     "end_time": "2020-04-22T00:51:07.986153Z",
     "start_time": "2020-04-22T00:51:07.980554Z"
    }
   },
   "outputs": [],
   "source": [
    "df.drop('recidivist_No',axis=1,inplace=True)"
   ]
  },
  {
   "cell_type": "code",
   "execution_count": 30,
   "metadata": {
    "ExecuteTime": {
     "end_time": "2020-04-22T00:51:07.990688Z",
     "start_time": "2020-04-22T00:51:07.987299Z"
    }
   },
   "outputs": [],
   "source": [
    "y = df['recidivist_Yes']\n",
    "X = df.drop('recidivist_Yes',axis=1)\n"
   ]
  },
  {
   "cell_type": "markdown",
   "metadata": {},
   "source": [
    "### Train Test Split"
   ]
  },
  {
   "cell_type": "code",
   "execution_count": 31,
   "metadata": {
    "ExecuteTime": {
     "end_time": "2020-04-22T00:51:07.997406Z",
     "start_time": "2020-04-22T00:51:07.991828Z"
    }
   },
   "outputs": [
    {
     "data": {
      "text/plain": [
       "0    0.665896\n",
       "1    0.334104\n",
       "Name: recidivist_Yes, dtype: float64"
      ]
     },
     "execution_count": 31,
     "metadata": {},
     "output_type": "execute_result"
    }
   ],
   "source": [
    "y.value_counts(normalize=True)"
   ]
  },
  {
   "cell_type": "code",
   "execution_count": null,
   "metadata": {},
   "outputs": [],
   "source": []
  },
  {
   "cell_type": "markdown",
   "metadata": {},
   "source": [
    "## Effect of Stratify"
   ]
  },
  {
   "cell_type": "code",
   "execution_count": 32,
   "metadata": {
    "ExecuteTime": {
     "end_time": "2020-04-22T00:51:08.012614Z",
     "start_time": "2020-04-22T00:51:07.998548Z"
    }
   },
   "outputs": [
    {
     "data": {
      "text/plain": [
       "0    12074\n",
       "1     6101\n",
       "Name: recidivist_Yes, dtype: int64"
      ]
     },
     "metadata": {},
     "output_type": "display_data"
    },
    {
     "data": {
      "text/plain": [
       "0    5216\n",
       "1    2574\n",
       "Name: recidivist_Yes, dtype: int64"
      ]
     },
     "metadata": {},
     "output_type": "display_data"
    }
   ],
   "source": [
    "from sklearn.model_selection import train_test_split\n",
    "\n",
    "## Train test split\n",
    "X_train, X_test, y_train,y_test  = train_test_split(X,y,test_size=.3,\n",
    "                                                    random_state=42)#,stratify=y)\n",
    "display(y_train.value_counts(normalize=False),y_test.value_counts(normalize=False))"
   ]
  },
  {
   "cell_type": "code",
   "execution_count": 33,
   "metadata": {
    "ExecuteTime": {
     "end_time": "2020-04-22T00:51:08.036106Z",
     "start_time": "2020-04-22T00:51:08.013979Z"
    }
   },
   "outputs": [
    {
     "data": {
      "text/plain": [
       "0    12103\n",
       "1     6072\n",
       "Name: recidivist_Yes, dtype: int64"
      ]
     },
     "metadata": {},
     "output_type": "display_data"
    },
    {
     "data": {
      "text/plain": [
       "0    5187\n",
       "1    2603\n",
       "Name: recidivist_Yes, dtype: int64"
      ]
     },
     "metadata": {},
     "output_type": "display_data"
    }
   ],
   "source": [
    "## Train test split\n",
    "X_train, X_test, y_train,y_test  = train_test_split(X,y,test_size=.3,\n",
    "                                                    random_state=42,stratify=y)\n",
    "display(y_train.value_counts(normalize=False),y_test.value_counts(normalize=False))"
   ]
  },
  {
   "cell_type": "code",
   "execution_count": 34,
   "metadata": {
    "ExecuteTime": {
     "end_time": "2020-04-22T00:51:09.898386Z",
     "start_time": "2020-04-22T00:51:08.037509Z"
    }
   },
   "outputs": [
    {
     "name": "stderr",
     "output_type": "stream",
     "text": [
      "Using TensorFlow backend.\n"
     ]
    },
    {
     "data": {
      "text/plain": [
       "1    12103\n",
       "0    12103\n",
       "Name: recidivist_Yes, dtype: int64"
      ]
     },
     "metadata": {},
     "output_type": "display_data"
    },
    {
     "data": {
      "text/plain": [
       "0    5187\n",
       "1    2603\n",
       "Name: recidivist_Yes, dtype: int64"
      ]
     },
     "metadata": {},
     "output_type": "display_data"
    }
   ],
   "source": [
    "from imblearn.over_sampling import SMOTE\n",
    "smote = SMOTE()\n",
    "X_train, y_train = smote.fit_sample(X_train, y_train)\n",
    "display(y_train.value_counts(normalize=False),y_test.value_counts(normalize=False))"
   ]
  },
  {
   "cell_type": "code",
   "execution_count": 35,
   "metadata": {
    "ExecuteTime": {
     "end_time": "2020-04-22T00:51:09.902126Z",
     "start_time": "2020-04-22T00:51:09.900115Z"
    }
   },
   "outputs": [],
   "source": [
    "# from imblearn.over_sampling import SMOTE\n",
    "# from imblearn.under_sampling import RandomUnderSampler\n",
    "# rus = RandomUnderSampler(sampling_strategy='majority',random_state=42)\n",
    "# rus"
   ]
  },
  {
   "cell_type": "code",
   "execution_count": 36,
   "metadata": {
    "ExecuteTime": {
     "end_time": "2020-04-22T00:51:09.905717Z",
     "start_time": "2020-04-22T00:51:09.903708Z"
    }
   },
   "outputs": [],
   "source": [
    "# X_train, y_train = rus.fit_resample(X_train, y_train)\n",
    "# pd.Series(y_train).value_counts()"
   ]
  },
  {
   "cell_type": "code",
   "execution_count": 37,
   "metadata": {
    "ExecuteTime": {
     "end_time": "2020-04-22T00:51:09.909828Z",
     "start_time": "2020-04-22T00:51:09.907537Z"
    }
   },
   "outputs": [],
   "source": [
    "# px.scatter_matrix(df, color='recidivist')"
   ]
  },
  {
   "cell_type": "code",
   "execution_count": 38,
   "metadata": {
    "ExecuteTime": {
     "end_time": "2020-04-22T00:51:09.937130Z",
     "start_time": "2020-04-22T00:51:09.911558Z"
    }
   },
   "outputs": [
    {
     "data": {
      "text/html": [
       "<div>\n",
       "<style scoped>\n",
       "    .dataframe tbody tr th:only-of-type {\n",
       "        vertical-align: middle;\n",
       "    }\n",
       "\n",
       "    .dataframe tbody tr th {\n",
       "        vertical-align: top;\n",
       "    }\n",
       "\n",
       "    .dataframe thead th {\n",
       "        text-align: right;\n",
       "    }\n",
       "</style>\n",
       "<table border=\"1\" class=\"dataframe\">\n",
       "  <thead>\n",
       "    <tr style=\"text-align: right;\">\n",
       "      <th></th>\n",
       "      <th>age_enc</th>\n",
       "      <th>age_number</th>\n",
       "      <th>race_ethnicity_American Native</th>\n",
       "      <th>race_ethnicity_Asian or Pacific Islander</th>\n",
       "      <th>race_ethnicity_Black</th>\n",
       "      <th>race_ethnicity_Hispanic</th>\n",
       "      <th>race_ethnicity_White</th>\n",
       "      <th>crime_class_A Felony</th>\n",
       "      <th>crime_class_Aggravated Misdemeanor</th>\n",
       "      <th>crime_class_B Felony</th>\n",
       "      <th>...</th>\n",
       "      <th>super_dist_6JD</th>\n",
       "      <th>super_dist_7JD</th>\n",
       "      <th>super_dist_8JD</th>\n",
       "      <th>super_dist_ISC</th>\n",
       "      <th>super_dist_Interstate Compact</th>\n",
       "      <th>super_dist_Missing</th>\n",
       "      <th>target_pop_No</th>\n",
       "      <th>target_pop_Yes</th>\n",
       "      <th>sex_Female</th>\n",
       "      <th>sex_Male</th>\n",
       "    </tr>\n",
       "  </thead>\n",
       "  <tbody>\n",
       "    <tr>\n",
       "      <td>0</td>\n",
       "      <td>2.0</td>\n",
       "      <td>40.0</td>\n",
       "      <td>0</td>\n",
       "      <td>0</td>\n",
       "      <td>1</td>\n",
       "      <td>0</td>\n",
       "      <td>0</td>\n",
       "      <td>0</td>\n",
       "      <td>0</td>\n",
       "      <td>1</td>\n",
       "      <td>...</td>\n",
       "      <td>0</td>\n",
       "      <td>0</td>\n",
       "      <td>0</td>\n",
       "      <td>0</td>\n",
       "      <td>0</td>\n",
       "      <td>1</td>\n",
       "      <td>0</td>\n",
       "      <td>1</td>\n",
       "      <td>0</td>\n",
       "      <td>1</td>\n",
       "    </tr>\n",
       "    <tr>\n",
       "      <td>1</td>\n",
       "      <td>1.0</td>\n",
       "      <td>30.0</td>\n",
       "      <td>0</td>\n",
       "      <td>0</td>\n",
       "      <td>0</td>\n",
       "      <td>0</td>\n",
       "      <td>1</td>\n",
       "      <td>0</td>\n",
       "      <td>1</td>\n",
       "      <td>0</td>\n",
       "      <td>...</td>\n",
       "      <td>0</td>\n",
       "      <td>0</td>\n",
       "      <td>0</td>\n",
       "      <td>0</td>\n",
       "      <td>0</td>\n",
       "      <td>0</td>\n",
       "      <td>1</td>\n",
       "      <td>0</td>\n",
       "      <td>0</td>\n",
       "      <td>1</td>\n",
       "    </tr>\n",
       "    <tr>\n",
       "      <td>2</td>\n",
       "      <td>1.0</td>\n",
       "      <td>30.0</td>\n",
       "      <td>0</td>\n",
       "      <td>0</td>\n",
       "      <td>0</td>\n",
       "      <td>0</td>\n",
       "      <td>1</td>\n",
       "      <td>0</td>\n",
       "      <td>0</td>\n",
       "      <td>0</td>\n",
       "      <td>...</td>\n",
       "      <td>1</td>\n",
       "      <td>0</td>\n",
       "      <td>0</td>\n",
       "      <td>0</td>\n",
       "      <td>0</td>\n",
       "      <td>0</td>\n",
       "      <td>1</td>\n",
       "      <td>0</td>\n",
       "      <td>0</td>\n",
       "      <td>1</td>\n",
       "    </tr>\n",
       "    <tr>\n",
       "      <td>3</td>\n",
       "      <td>1.0</td>\n",
       "      <td>30.0</td>\n",
       "      <td>0</td>\n",
       "      <td>0</td>\n",
       "      <td>1</td>\n",
       "      <td>0</td>\n",
       "      <td>0</td>\n",
       "      <td>0</td>\n",
       "      <td>0</td>\n",
       "      <td>0</td>\n",
       "      <td>...</td>\n",
       "      <td>0</td>\n",
       "      <td>0</td>\n",
       "      <td>0</td>\n",
       "      <td>0</td>\n",
       "      <td>0</td>\n",
       "      <td>1</td>\n",
       "      <td>1</td>\n",
       "      <td>0</td>\n",
       "      <td>0</td>\n",
       "      <td>1</td>\n",
       "    </tr>\n",
       "    <tr>\n",
       "      <td>4</td>\n",
       "      <td>0.0</td>\n",
       "      <td>20.0</td>\n",
       "      <td>0</td>\n",
       "      <td>0</td>\n",
       "      <td>0</td>\n",
       "      <td>0</td>\n",
       "      <td>1</td>\n",
       "      <td>0</td>\n",
       "      <td>0</td>\n",
       "      <td>0</td>\n",
       "      <td>...</td>\n",
       "      <td>0</td>\n",
       "      <td>0</td>\n",
       "      <td>0</td>\n",
       "      <td>0</td>\n",
       "      <td>0</td>\n",
       "      <td>0</td>\n",
       "      <td>0</td>\n",
       "      <td>1</td>\n",
       "      <td>0</td>\n",
       "      <td>1</td>\n",
       "    </tr>\n",
       "    <tr>\n",
       "      <td>...</td>\n",
       "      <td>...</td>\n",
       "      <td>...</td>\n",
       "      <td>...</td>\n",
       "      <td>...</td>\n",
       "      <td>...</td>\n",
       "      <td>...</td>\n",
       "      <td>...</td>\n",
       "      <td>...</td>\n",
       "      <td>...</td>\n",
       "      <td>...</td>\n",
       "      <td>...</td>\n",
       "      <td>...</td>\n",
       "      <td>...</td>\n",
       "      <td>...</td>\n",
       "      <td>...</td>\n",
       "      <td>...</td>\n",
       "      <td>...</td>\n",
       "      <td>...</td>\n",
       "      <td>...</td>\n",
       "      <td>...</td>\n",
       "      <td>...</td>\n",
       "    </tr>\n",
       "    <tr>\n",
       "      <td>24201</td>\n",
       "      <td>3.0</td>\n",
       "      <td>50.0</td>\n",
       "      <td>0</td>\n",
       "      <td>0</td>\n",
       "      <td>0</td>\n",
       "      <td>0</td>\n",
       "      <td>1</td>\n",
       "      <td>0</td>\n",
       "      <td>0</td>\n",
       "      <td>0</td>\n",
       "      <td>...</td>\n",
       "      <td>0</td>\n",
       "      <td>0</td>\n",
       "      <td>0</td>\n",
       "      <td>0</td>\n",
       "      <td>0</td>\n",
       "      <td>1</td>\n",
       "      <td>1</td>\n",
       "      <td>0</td>\n",
       "      <td>0</td>\n",
       "      <td>1</td>\n",
       "    </tr>\n",
       "    <tr>\n",
       "      <td>24202</td>\n",
       "      <td>1.0</td>\n",
       "      <td>30.0</td>\n",
       "      <td>0</td>\n",
       "      <td>0</td>\n",
       "      <td>0</td>\n",
       "      <td>0</td>\n",
       "      <td>1</td>\n",
       "      <td>0</td>\n",
       "      <td>0</td>\n",
       "      <td>0</td>\n",
       "      <td>...</td>\n",
       "      <td>0</td>\n",
       "      <td>0</td>\n",
       "      <td>0</td>\n",
       "      <td>0</td>\n",
       "      <td>0</td>\n",
       "      <td>1</td>\n",
       "      <td>1</td>\n",
       "      <td>0</td>\n",
       "      <td>0</td>\n",
       "      <td>1</td>\n",
       "    </tr>\n",
       "    <tr>\n",
       "      <td>24203</td>\n",
       "      <td>0.0</td>\n",
       "      <td>20.0</td>\n",
       "      <td>0</td>\n",
       "      <td>0</td>\n",
       "      <td>0</td>\n",
       "      <td>0</td>\n",
       "      <td>1</td>\n",
       "      <td>0</td>\n",
       "      <td>0</td>\n",
       "      <td>0</td>\n",
       "      <td>...</td>\n",
       "      <td>0</td>\n",
       "      <td>0</td>\n",
       "      <td>0</td>\n",
       "      <td>0</td>\n",
       "      <td>0</td>\n",
       "      <td>1</td>\n",
       "      <td>1</td>\n",
       "      <td>0</td>\n",
       "      <td>0</td>\n",
       "      <td>1</td>\n",
       "    </tr>\n",
       "    <tr>\n",
       "      <td>24204</td>\n",
       "      <td>3.0</td>\n",
       "      <td>50.0</td>\n",
       "      <td>0</td>\n",
       "      <td>0</td>\n",
       "      <td>0</td>\n",
       "      <td>0</td>\n",
       "      <td>1</td>\n",
       "      <td>0</td>\n",
       "      <td>0</td>\n",
       "      <td>0</td>\n",
       "      <td>...</td>\n",
       "      <td>0</td>\n",
       "      <td>0</td>\n",
       "      <td>0</td>\n",
       "      <td>0</td>\n",
       "      <td>0</td>\n",
       "      <td>0</td>\n",
       "      <td>0</td>\n",
       "      <td>0</td>\n",
       "      <td>0</td>\n",
       "      <td>1</td>\n",
       "    </tr>\n",
       "    <tr>\n",
       "      <td>24205</td>\n",
       "      <td>1.0</td>\n",
       "      <td>30.0</td>\n",
       "      <td>0</td>\n",
       "      <td>0</td>\n",
       "      <td>0</td>\n",
       "      <td>0</td>\n",
       "      <td>1</td>\n",
       "      <td>0</td>\n",
       "      <td>0</td>\n",
       "      <td>0</td>\n",
       "      <td>...</td>\n",
       "      <td>0</td>\n",
       "      <td>0</td>\n",
       "      <td>1</td>\n",
       "      <td>0</td>\n",
       "      <td>0</td>\n",
       "      <td>0</td>\n",
       "      <td>1</td>\n",
       "      <td>0</td>\n",
       "      <td>0</td>\n",
       "      <td>1</td>\n",
       "    </tr>\n",
       "  </tbody>\n",
       "</table>\n",
       "<p>24206 rows × 74 columns</p>\n",
       "</div>"
      ],
      "text/plain": [
       "       age_enc  age_number  race_ethnicity_American Native  \\\n",
       "0          2.0        40.0                               0   \n",
       "1          1.0        30.0                               0   \n",
       "2          1.0        30.0                               0   \n",
       "3          1.0        30.0                               0   \n",
       "4          0.0        20.0                               0   \n",
       "...        ...         ...                             ...   \n",
       "24201      3.0        50.0                               0   \n",
       "24202      1.0        30.0                               0   \n",
       "24203      0.0        20.0                               0   \n",
       "24204      3.0        50.0                               0   \n",
       "24205      1.0        30.0                               0   \n",
       "\n",
       "       race_ethnicity_Asian or Pacific Islander  race_ethnicity_Black  \\\n",
       "0                                             0                     1   \n",
       "1                                             0                     0   \n",
       "2                                             0                     0   \n",
       "3                                             0                     1   \n",
       "4                                             0                     0   \n",
       "...                                         ...                   ...   \n",
       "24201                                         0                     0   \n",
       "24202                                         0                     0   \n",
       "24203                                         0                     0   \n",
       "24204                                         0                     0   \n",
       "24205                                         0                     0   \n",
       "\n",
       "       race_ethnicity_Hispanic  race_ethnicity_White  crime_class_A Felony  \\\n",
       "0                            0                     0                     0   \n",
       "1                            0                     1                     0   \n",
       "2                            0                     1                     0   \n",
       "3                            0                     0                     0   \n",
       "4                            0                     1                     0   \n",
       "...                        ...                   ...                   ...   \n",
       "24201                        0                     1                     0   \n",
       "24202                        0                     1                     0   \n",
       "24203                        0                     1                     0   \n",
       "24204                        0                     1                     0   \n",
       "24205                        0                     1                     0   \n",
       "\n",
       "       crime_class_Aggravated Misdemeanor  crime_class_B Felony  ...  \\\n",
       "0                                       0                     1  ...   \n",
       "1                                       1                     0  ...   \n",
       "2                                       0                     0  ...   \n",
       "3                                       0                     0  ...   \n",
       "4                                       0                     0  ...   \n",
       "...                                   ...                   ...  ...   \n",
       "24201                                   0                     0  ...   \n",
       "24202                                   0                     0  ...   \n",
       "24203                                   0                     0  ...   \n",
       "24204                                   0                     0  ...   \n",
       "24205                                   0                     0  ...   \n",
       "\n",
       "       super_dist_6JD  super_dist_7JD  super_dist_8JD  super_dist_ISC  \\\n",
       "0                   0               0               0               0   \n",
       "1                   0               0               0               0   \n",
       "2                   1               0               0               0   \n",
       "3                   0               0               0               0   \n",
       "4                   0               0               0               0   \n",
       "...               ...             ...             ...             ...   \n",
       "24201               0               0               0               0   \n",
       "24202               0               0               0               0   \n",
       "24203               0               0               0               0   \n",
       "24204               0               0               0               0   \n",
       "24205               0               0               1               0   \n",
       "\n",
       "       super_dist_Interstate Compact  super_dist_Missing  target_pop_No  \\\n",
       "0                                  0                   1              0   \n",
       "1                                  0                   0              1   \n",
       "2                                  0                   0              1   \n",
       "3                                  0                   1              1   \n",
       "4                                  0                   0              0   \n",
       "...                              ...                 ...            ...   \n",
       "24201                              0                   1              1   \n",
       "24202                              0                   1              1   \n",
       "24203                              0                   1              1   \n",
       "24204                              0                   0              0   \n",
       "24205                              0                   0              1   \n",
       "\n",
       "       target_pop_Yes  sex_Female  sex_Male  \n",
       "0                   1           0         1  \n",
       "1                   0           0         1  \n",
       "2                   0           0         1  \n",
       "3                   0           0         1  \n",
       "4                   1           0         1  \n",
       "...               ...         ...       ...  \n",
       "24201               0           0         1  \n",
       "24202               0           0         1  \n",
       "24203               0           0         1  \n",
       "24204               0           0         1  \n",
       "24205               0           0         1  \n",
       "\n",
       "[24206 rows x 74 columns]"
      ]
     },
     "execution_count": 38,
     "metadata": {},
     "output_type": "execute_result"
    }
   ],
   "source": [
    "X_train"
   ]
  },
  {
   "cell_type": "markdown",
   "metadata": {},
   "source": [
    "## RandomForests Revisited"
   ]
  },
  {
   "cell_type": "code",
   "execution_count": 39,
   "metadata": {
    "ExecuteTime": {
     "end_time": "2020-04-22T00:51:14.028414Z",
     "start_time": "2020-04-22T00:51:09.938672Z"
    }
   },
   "outputs": [
    {
     "name": "stdout",
     "output_type": "stream",
     "text": [
      "[i] Timer started at \t04/21/20 - 08:51:09 PM\n",
      "Training score:  0.84\n",
      "Test score:  0.62\n",
      "\n",
      "\n",
      "------------------------------------------------------------\n",
      "\tTIMER LOG\n",
      "------------------------------------------------------------\n",
      "[i] Timer started at \t04/21/20 - 08:51:09 PM\n",
      "[i] Timer ended at \t04/21/20 - 08:51:12 PM\n",
      "\t\t\t- Total time = 0:00:03.042412\n",
      "------------------------------------------------------------\n",
      "              precision    recall  f1-score   support\n",
      "\n",
      "           0       0.72      0.70      0.71      5187\n",
      "           1       0.44      0.47      0.45      2603\n",
      "\n",
      "    accuracy                           0.62      7790\n",
      "   macro avg       0.58      0.58      0.58      7790\n",
      "weighted avg       0.63      0.62      0.62      7790\n",
      "\n"
     ]
    },
    {
     "data": {
      "image/png": "[encoded data removed]",
      "text/plain": [
       "<Figure size 720x288 with 3 Axes>"
      ]
     },
     "metadata": {
      "needs_background": "light"
     },
     "output_type": "display_data"
    },
    {
     "data": {
      "image/png": "[encoded data removed]",
      "text/plain": [
       "<Figure size 720x720 with 1 Axes>"
      ]
     },
     "metadata": {
      "needs_background": "light"
     },
     "output_type": "display_data"
    }
   ],
   "source": [
    "from sklearn.ensemble import RandomForestClassifier\n",
    "## Fit and Evaluate\n",
    "timer = Timer(verbose=2)#.start()\n",
    "clf = RandomForestClassifier()\n",
    "clf.fit(X_train, y_train)\n",
    "print('Training score: ' ,round(clf.score(X_train,y_train),2))\n",
    "print('Test score: ',round(clf.score(X_test,y_test),2))\n",
    "\n",
    "y_hat_test = clf.predict(X_test)\n",
    "timer.stop()\n",
    "\n",
    "evaluate_model(y_test,y_hat_test,X_test,clf)"
   ]
  },
  {
   "cell_type": "code",
   "execution_count": 40,
   "metadata": {
    "ExecuteTime": {
     "end_time": "2020-04-22T00:51:18.636499Z",
     "start_time": "2020-04-22T00:51:14.029505Z"
    }
   },
   "outputs": [
    {
     "name": "stdout",
     "output_type": "stream",
     "text": [
      "[i] Timer started at \t04/21/20 - 08:51:14 PM\n",
      "Training score:  0.84\n",
      "Test score:  0.62\n",
      "\n",
      "\n",
      "------------------------------------------------------------\n",
      "\tTIMER LOG\n",
      "------------------------------------------------------------\n",
      "[i] Timer started at \t04/21/20 - 08:51:14 PM\n",
      "[i] Timer ended at \t04/21/20 - 08:51:17 PM\n",
      "\t\t\t- Total time = 0:00:03.695611\n",
      "------------------------------------------------------------\n",
      "              precision    recall  f1-score   support\n",
      "\n",
      "           0       0.72      0.69      0.71      5187\n",
      "           1       0.44      0.48      0.46      2603\n",
      "\n",
      "    accuracy                           0.62      7790\n",
      "   macro avg       0.58      0.58      0.58      7790\n",
      "weighted avg       0.63      0.62      0.62      7790\n",
      "\n"
     ]
    },
    {
     "data": {
      "image/png": "[encoded data removed]",
      "text/plain": [
       "<Figure size 720x288 with 3 Axes>"
      ]
     },
     "metadata": {
      "needs_background": "light"
     },
     "output_type": "display_data"
    },
    {
     "data": {
      "image/png": "[encoded data removed]",
      "text/plain": [
       "<Figure size 720x720 with 1 Axes>"
      ]
     },
     "metadata": {
      "needs_background": "light"
     },
     "output_type": "display_data"
    }
   ],
   "source": [
    "### Class_weight='balanced'\n",
    "## Fit and Evaluate\n",
    "timer = Timer(verbose=2)#.start()\n",
    "clf = RandomForestClassifier(class_weight='balanced')\n",
    "clf.fit(X_train, y_train)\n",
    "print('Training score: ' ,round(clf.score(X_train,y_train),2))\n",
    "print('Test score: ',round(clf.score(X_test,y_test),2))\n",
    "\n",
    "y_hat_test = clf.predict(X_test)\n",
    "timer.stop()\n",
    "\n",
    "evaluate_model(y_test,y_hat_test,X_test,clf)"
   ]
  },
  {
   "cell_type": "markdown",
   "metadata": {},
   "source": [
    "### catboost"
   ]
  },
  {
   "cell_type": "code",
   "execution_count": 41,
   "metadata": {
    "ExecuteTime": {
     "end_time": "2020-04-22T00:51:28.777866Z",
     "start_time": "2020-04-22T00:51:18.637639Z"
    }
   },
   "outputs": [
    {
     "name": "stdout",
     "output_type": "stream",
     "text": [
      "Training score:  0.75\n",
      "Test score:  0.65\n",
      "\n",
      "\n",
      "------------------------------------------------------------\n",
      "\tTIMER LOG\n",
      "------------------------------------------------------------\n",
      "[i] Timer started at \t04/21/20 - 08:51:14 PM\n",
      "[i] Timer ended at \t04/21/20 - 08:51:17 PM\n",
      "\t\t\t- Total time = 0:00:03.695611\n",
      "[i] Timer ended at \t04/21/20 - 08:51:28 PM\n",
      "\t\t\t- Total time = 0:00:14.166176\n",
      "------------------------------------------------------------\n",
      "              precision    recall  f1-score   support\n",
      "\n",
      "           0       0.75      0.70      0.73      5187\n",
      "           1       0.47      0.53      0.50      2603\n",
      "\n",
      "    accuracy                           0.65      7790\n",
      "   macro avg       0.61      0.62      0.61      7790\n",
      "weighted avg       0.66      0.65      0.65      7790\n",
      "\n"
     ]
    },
    {
     "data": {
      "image/png": "[encoded data removed]",
      "text/plain": [
       "<Figure size 720x288 with 3 Axes>"
      ]
     },
     "metadata": {
      "needs_background": "light"
     },
     "output_type": "display_data"
    },
    {
     "data": {
      "image/png": "[encoded data removed]",
      "text/plain": [
       "<Figure size 720x720 with 1 Axes>"
      ]
     },
     "metadata": {
      "needs_background": "light"
     },
     "output_type": "display_data"
    }
   ],
   "source": [
    "from catboost import CatBoostClassifier\n",
    "clf = CatBoostClassifier()\n",
    "clf.fit(X_train,y_train,logging_level='Silent')\n",
    "print('Training score: ' ,round(clf.score(X_train,y_train),2))\n",
    "print('Test score: ',round(clf.score(X_test,y_test),2))\n",
    "\n",
    "y_hat_test = clf.predict(X_test)\n",
    "timer.stop()\n",
    "\n",
    "evaluate_model(y_test,y_hat_test,X_test,clf)"
   ]
  },
  {
   "cell_type": "markdown",
   "metadata": {
    "heading_collapsed": true
   },
   "source": [
    "## Comparison"
   ]
  },
  {
   "cell_type": "code",
   "execution_count": 42,
   "metadata": {
    "ExecuteTime": {
     "end_time": "2020-04-22T00:51:28.781413Z",
     "start_time": "2020-04-22T00:51:28.779074Z"
    },
    "hidden": true
   },
   "outputs": [],
   "source": [
    "# from sklearn.ensemble import RandomForestClassifier\n",
    "# ## Fit and Evaluate\n",
    "# timer = Timer(verbose=2)#.start()\n",
    "\n",
    "# clf = RandomForestClassifier()#class_weight='balanced')\n",
    "# clf.fit(X_train, y_train)\n",
    "# print('Training score: ' ,round(clf.score(X_train,y_train),2))\n",
    "# print('Test score: ',round(clf.score(X_test,y_test),2))\n",
    "\n",
    "# y_hat_test = clf.predict(X_test)\n",
    "# timer.stop()\n",
    "\n",
    "# evaluate_model(y_test,y_hat_test,X_test,clf)\n"
   ]
  },
  {
   "cell_type": "code",
   "execution_count": 43,
   "metadata": {
    "ExecuteTime": {
     "end_time": "2020-04-22T00:51:28.785776Z",
     "start_time": "2020-04-22T00:51:28.783476Z"
    },
    "hidden": true
   },
   "outputs": [],
   "source": [
    "# from xgboost import XGBRFClassifier,XGBClassifier\n",
    "# ## Fit and Evaluate\n",
    "# timer = Timer(verbose=2)#.start()\n",
    "\n",
    "# xgb_rf = XGBRFClassifier()\n",
    "# xgb_rf.fit(X_train, y_train)\n",
    "# print('Training score: ' ,round(xgb_rf.score(X_train,y_train),2))\n",
    "# print('Test score: ',round(xgb_rf.score(X_test,y_test),2))\n",
    "\n",
    "# y_hat_test = xgb_rf.predict(X_test)\n",
    "# timer.stop()\n",
    "\n",
    "# evaluate_model(y_test,y_hat_test,X_test,xgb_rf)\n"
   ]
  },
  {
   "cell_type": "code",
   "execution_count": 44,
   "metadata": {
    "ExecuteTime": {
     "end_time": "2020-04-22T00:51:29.105402Z",
     "start_time": "2020-04-22T00:51:28.787631Z"
    },
    "hidden": true
   },
   "outputs": [
    {
     "ename": "NameError",
     "evalue": "name 'xgb_rf' is not defined",
     "output_type": "error",
     "traceback": [
      "\u001b[0;31m---------------------------------------------------------------------------\u001b[0m",
      "\u001b[0;31mNameError\u001b[0m                                 Traceback (most recent call last)",
      "\u001b[0;32m<ipython-input-44-3ce6bf747937>\u001b[0m in \u001b[0;36m<module>\u001b[0;34m\u001b[0m\n\u001b[0;32m----> 1\u001b[0;31m importance = pd.Series(xgb_rf.feature_importances_,\n\u001b[0m\u001b[1;32m      2\u001b[0m                        index=X_train.columns).sort_values(ascending=False)\n\u001b[1;32m      3\u001b[0m \u001b[0mdisplay\u001b[0m\u001b[0;34m(\u001b[0m\u001b[0mimportance\u001b[0m\u001b[0;34m.\u001b[0m\u001b[0mhead\u001b[0m\u001b[0;34m(\u001b[0m\u001b[0;36m20\u001b[0m\u001b[0;34m)\u001b[0m\u001b[0;34m)\u001b[0m\u001b[0;34m\u001b[0m\u001b[0;34m\u001b[0m\u001b[0m\n\u001b[1;32m      4\u001b[0m \u001b[0mtop_cols\u001b[0m \u001b[0;34m=\u001b[0m \u001b[0mlist\u001b[0m\u001b[0;34m(\u001b[0m\u001b[0mimportance\u001b[0m\u001b[0;34m.\u001b[0m\u001b[0mhead\u001b[0m\u001b[0;34m(\u001b[0m\u001b[0;36m20\u001b[0m\u001b[0;34m)\u001b[0m\u001b[0;34m.\u001b[0m\u001b[0mindex\u001b[0m\u001b[0;34m)\u001b[0m\u001b[0;34m\u001b[0m\u001b[0;34m\u001b[0m\u001b[0m\n\u001b[1;32m      5\u001b[0m \u001b[0mtop_cols\u001b[0m\u001b[0;34m\u001b[0m\u001b[0;34m\u001b[0m\u001b[0m\n",
      "\u001b[0;31mNameError\u001b[0m: name 'xgb_rf' is not defined"
     ]
    }
   ],
   "source": [
    "importance = pd.Series(xgb_rf.feature_importances_,\n",
    "                       index=X_train.columns).sort_values(ascending=False)\n",
    "display(importance.head(20))\n",
    "top_cols = list(importance.head(20).index)\n",
    "top_cols"
   ]
  },
  {
   "cell_type": "markdown",
   "metadata": {},
   "source": [
    "## Support Vector Machines"
   ]
  },
  {
   "cell_type": "code",
   "execution_count": null,
   "metadata": {
    "ExecuteTime": {
     "end_time": "2020-04-22T00:51:29.115140Z",
     "start_time": "2020-04-22T00:51:01.484Z"
    }
   },
   "outputs": [],
   "source": [
    "import os,glob,sys\n",
    "folder ='py_files/'\n",
    "sys.path.append(os.path.abspath(folder))\n",
    "import mod_5_functions as m5"
   ]
  },
  {
   "cell_type": "code",
   "execution_count": null,
   "metadata": {
    "ExecuteTime": {
     "end_time": "2020-04-22T00:51:29.115909Z",
     "start_time": "2020-04-22T00:51:01.487Z"
    }
   },
   "outputs": [],
   "source": [
    "# # X_train[top_cols]\n",
    "# X_train.shape\n",
    "# X_train = X_train[top_cols]\n",
    "# X_test = X_test[top_cols]"
   ]
  },
  {
   "cell_type": "code",
   "execution_count": null,
   "metadata": {
    "ExecuteTime": {
     "end_time": "2020-04-22T00:51:29.116611Z",
     "start_time": "2020-04-22T00:51:01.490Z"
    }
   },
   "outputs": [],
   "source": [
    "# np.logspace(0.01, 10,0.1)\n",
    "np.logspace(-1,1,3)"
   ]
  },
  {
   "cell_type": "code",
   "execution_count": null,
   "metadata": {
    "ExecuteTime": {
     "end_time": "2020-04-22T00:51:29.117790Z",
     "start_time": "2020-04-22T00:51:01.496Z"
    }
   },
   "outputs": [],
   "source": [
    "# from sklearn.pre"
   ]
  },
  {
   "cell_type": "code",
   "execution_count": null,
   "metadata": {
    "ExecuteTime": {
     "end_time": "2020-04-22T00:51:29.118526Z",
     "start_time": "2020-04-22T00:51:01.499Z"
    }
   },
   "outputs": [],
   "source": [
    "from sklearn.svm import SVC,LinearSVC,NuSVC\n",
    "clf = SVC()\n",
    "clf.fit(X_train,y_train)\n",
    "y_hat_test = clf.predict(X_test)\n",
    "evaluate_model(y_test,y_hat_test,X_test,clf)"
   ]
  },
  {
   "cell_type": "code",
   "execution_count": null,
   "metadata": {},
   "outputs": [],
   "source": []
  },
  {
   "cell_type": "markdown",
   "metadata": {},
   "source": [
    "# Using catboost"
   ]
  },
  {
   "cell_type": "markdown",
   "metadata": {},
   "source": [
    "- https://catboost.ai/\n",
    "- https://github.com/catboost/tutorials/blob/master/python_tutorial.ipynb/\n",
    "\n"
   ]
  },
  {
   "cell_type": "code",
   "execution_count": null,
   "metadata": {
    "ExecuteTime": {
     "end_time": "2020-04-22T00:51:29.119330Z",
     "start_time": "2020-04-22T00:51:01.677Z"
    }
   },
   "outputs": [],
   "source": [
    "# !pip install -U catboost\n",
    "from catboost import CatBoostClassifier, Pool,cv"
   ]
  },
  {
   "cell_type": "code",
   "execution_count": null,
   "metadata": {
    "ExecuteTime": {
     "end_time": "2020-04-22T00:51:29.120307Z",
     "start_time": "2020-04-22T00:51:01.679Z"
    }
   },
   "outputs": [],
   "source": [
    "model = CatBoostClassifier()\n",
    "model.fit(X_train,y_train)"
   ]
  },
  {
   "cell_type": "code",
   "execution_count": null,
   "metadata": {},
   "outputs": [],
   "source": []
  }
 ],
 "metadata": {
  "kernelspec": {
   "display_name": "Python [conda env:learn-env] *",
   "language": "python",
   "name": "conda-env-learn-env-py"
  },
  "language_info": {
   "codemirror_mode": {
    "name": "ipython",
    "version": 3
   },
   "file_extension": ".py",
   "mimetype": "text/x-python",
   "name": "python",
   "nbconvert_exporter": "python",
   "pygments_lexer": "ipython3",
   "version": "3.6.9"
  },
  "toc": {
   "base_numbering": 1,
   "nav_menu": {},
   "number_sections": true,
   "sideBar": true,
   "skip_h1_title": false,
   "title_cell": "Table of Contents",
   "title_sidebar": "Contents",
   "toc_cell": false,
   "toc_position": {
    "height": "calc(100% - 180px)",
    "left": "10px",
    "top": "150px",
    "width": "279px"
   },
   "toc_section_display": true,
   "toc_window_display": true
  },
  "varInspector": {
   "cols": {
    "lenName": 16,
    "lenType": 16,
    "lenVar": 40
   },
   "kernels_config": {
    "python": {
     "delete_cmd_postfix": "",
     "delete_cmd_prefix": "del ",
     "library": "var_list.py",
     "varRefreshCmd": "print(var_dic_list())"
    },
    "r": {
     "delete_cmd_postfix": ") ",
     "delete_cmd_prefix": "rm(",
     "library": "var_list.r",
     "varRefreshCmd": "cat(var_dic_list()) "
    }
   },
   "types_to_exclude": [
    "module",
    "function",
    "builtin_function_or_method",
    "instance",
    "_Feature"
   ],
   "window_display": true
  },
  "widgets": {
   "application/vnd.jupyter.widget-state+json": {
    "state": {
     "3176a925b1da4812b6b9a08eaa9a47e5": {
      "model_module": "@jupyter-widgets/controls",
      "model_module_version": "1.5.0",
      "model_name": "ProgressStyleModel",
      "state": {
       "description_width": "initial"
      }
     },
     "6cdfcbcf7d9e46788a093ca3e89884cf": {
      "model_module": "@jupyter-widgets/base",
      "model_module_version": "1.2.0",
      "model_name": "LayoutModel",
      "state": {}
     },
     "7f45943170bc4076966bdad19d1993bb": {
      "model_module": "@jupyter-widgets/base",
      "model_module_version": "1.2.0",
      "model_name": "LayoutModel",
      "state": {}
     },
     "907fbf82d8fd4b0aa4bd1e20f61cd86c": {
      "model_module": "@jupyter-widgets/controls",
      "model_module_version": "1.5.0",
      "model_name": "DescriptionStyleModel",
      "state": {
       "description_width": ""
      }
     },
     "b1e379b187b447b6a38deec60ef877de": {
      "model_module": "@jupyter-widgets/base",
      "model_module_version": "1.2.0",
      "model_name": "LayoutModel",
      "state": {}
     },
     "b2c21f049d1c447ab6bdb2eb160fc01c": {
      "model_module": "@jupyter-widgets/controls",
      "model_module_version": "1.5.0",
      "model_name": "HTMLModel",
      "state": {
       "layout": "IPY_MODEL_b1e379b187b447b6a38deec60ef877de",
       "style": "IPY_MODEL_907fbf82d8fd4b0aa4bd1e20f61cd86c",
       "value": " 0/6497 [00:00&lt;?, ?it/s]"
      }
     },
     "b83511e5360247068a26da1552bce1b5": {
      "model_module": "@jupyter-widgets/controls",
      "model_module_version": "1.5.0",
      "model_name": "HBoxModel",
      "state": {
       "children": [
        "IPY_MODEL_fca5f875a10349d59c154faa80e49698",
        "IPY_MODEL_b2c21f049d1c447ab6bdb2eb160fc01c"
       ],
       "layout": "IPY_MODEL_7f45943170bc4076966bdad19d1993bb"
      }
     },
     "fca5f875a10349d59c154faa80e49698": {
      "model_module": "@jupyter-widgets/controls",
      "model_module_version": "1.5.0",
      "model_name": "IntProgressModel",
      "state": {
       "description": "  0%",
       "layout": "IPY_MODEL_6cdfcbcf7d9e46788a093ca3e89884cf",
       "max": 6497,
       "style": "IPY_MODEL_3176a925b1da4812b6b9a08eaa9a47e5"
      }
     }
    },
    "version_major": 2,
    "version_minor": 0
   }
  }
 },
 "nbformat": 4,
 "nbformat_minor": 2
}
