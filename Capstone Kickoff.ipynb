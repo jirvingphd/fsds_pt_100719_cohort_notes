{
 "cells": [
  {
   "cell_type": "markdown",
   "metadata": {},
   "source": [
    "# Capstone Kickoff"
   ]
  },
  {
   "cell_type": "markdown",
   "metadata": {},
   "source": [
    "- online-ds-pt-100719\n",
    "- 06/23/20"
   ]
  },
  {
   "cell_type": "markdown",
   "metadata": {},
   "source": [
    "## Learning Objectives"
   ]
  },
  {
   "cell_type": "markdown",
   "metadata": {},
   "source": [
    "- [Review the learn.co capstone project README.](https://github.com/learn-co-students/dsc-capstone-project-v2-online-ds-pt-100719)\n",
    "\n",
    "- Discuss some strategies/goals for deciding what to do for your capstone.\n",
    "- Example capstone projects\n"
   ]
  },
  {
   "cell_type": "markdown",
   "metadata": {},
   "source": [
    "## Announcements"
   ]
  },
  {
   "cell_type": "markdown",
   "metadata": {},
   "source": [
    "- **Mod 4 Project Reviews:**\n",
    "    - **Turn in your project links and schedule your Mod 4 Project Reviews** with me ASAP. (if you haven't schedule one already)\n",
    "    - https://go.oncehub.com/ModProjectReviews\n",
    "    - Reminder: the **hard deadline for passing Mod 4 project is 07/06/20**\n",
    "    \n",
    "    \n",
    "- **New Instructor Taking Over for the Remainder of the Program** (starting next week)\n",
    "    - Yish Lim \n",
    "        - yish.lim@flatironschool.com\n",
    "    - Recurring 1:1 time slots will be scheduled with Yish after next week. \n",
    "    \n",
    "\n",
    "- **Upcoming Study Groups:**\n",
    "    - **[Study Group for Thursday 06/25: Big Data in PySpark](https://learn.co/study-groups/100719pt-section-35-big-data-in-pyspark)**\n",
    "    - Section 36: Recommendation Systems with PySpark \n",
    "        - Delayed until 08/04 (when my other cohort will have break week)\n",
    "    - Section 43 - Operationalizing Code and AWS \n",
    "        - Delayed until 08/06 (when my other cohort will have break week)\n",
    "\n"
   ]
  },
  {
   "cell_type": "markdown",
   "metadata": {},
   "source": [
    "# Capstone README"
   ]
  },
  {
   "cell_type": "markdown",
   "metadata": {},
   "source": [
    ">## Introduction\n",
    "In this lesson, we'll discuss the requirements for our **Capstone Project**!\n",
    ">## Objectives\n",
    "You will be able to:\n",
    "* Describe all required aspects of the final project\n",
    "* Describe what constitutes a successful project\n",
    "\n",
    ">## Introduction\n",
    "Congratulations on making it to the final project! It's been a long journey, but we can finally see the light at the end of the tunnel!\n",
    "![Actual Footage of you seeing the light at the end of the tunnel](https://raw.githubusercontent.com/learn-co-students/dsc-capstone-project-v2-online-ds-pt-100719/master/end-of-tunnel.gif)\n",
    "Now that you've learned everything we have to teach you, it's time to show off and flex your data science muscles with your own **_Capstone Project_**! This project will allow you to showcase everything you've learned as a data scientist to by completing a professional-level data science project of your choosing. **This project will be significantly larger than any project you've completed so far, and will be the crown jewel of your portfolio. A strong capstone project is the single most important thing you can do to get the attention of potential employers, so be prepared to put as much effort into this project as possible - the results will be **_worth it!_****\n",
    "\n",
    "![Your portfolio brings all the employers to your inbox](https://raw.githubusercontent.com/learn-co-students/dsc-capstone-project-v2-online-ds-pt-100719/master/milkshake.gif)"
   ]
  },
  {
   "cell_type": "markdown",
   "metadata": {},
   "source": [
    "> ## Topic Requirements\n",
    "Your project should develop a data product or analysis related to a single topic. **You are completely free to choose any topic that interests you, but keep in mind that you will need to complete this project end-to-end, including sourcing your own data.** When choosing a topic, think through these questions:  \n",
    "* What would I be motivated to work on?\n",
    "* What data could I use?\n",
    "* How could an individual or organization use my product or findings?\n",
    "* What will I be able to accomplish in the time I have available?\n",
    "* What challenges do I foresee with this project?"
   ]
  },
  {
   "cell_type": "markdown",
   "metadata": {},
   "source": [
    "> ## Technical Requirements\n",
    "Your project must meet the following technical requirements:\n",
    "1. **_No Off-The-Shelf Datasets_**. This project is a chance for you to highlight your critical thinking and data sourcing skills by finding a good dataset to answer a useful question. You _can_ use a pre-existing dataset, but you should consider combining it with other datasets and/or engineering your own features. The goal is to showcase your ability to find and work with data, so just grabbing a squeaky-clean dataset is out of the question.<br><br>\n",
    "2. **_Strong Data Exploration, with at least 4 relevant data visualizations._**  There are few skills that impress employers more than the ability to dive into a new dataset and produce engaging visualizations that communicate important information. For this project, anything worth knowing is worth visualizing. Level up your project by digging into more advanced visualization libraries like seaborn!<br><br>\n",
    "3. **_Makes use of Supervised Learning_**. It is great to use **_Unsupervised Learning_** techniques as needed in your project (for instance, segmentation with clustering algorithms), but supervised learning should play a central role in answering your question. <br><br>\n",
    "4. **_Explicitly makes use of a Data Science Process such as OSEMN or CRISP-DM_**. Select a Data Science Process to use to give structure to your project. Each step in the process should correspond to a section in your Jupyter Notebook.  <br><br>\n",
    "5. **_A well-defined goal with clearly presented results._** Your project should provide any background context needed to understand the project you are working on and why it's important. For instance, if you are trying to detect fault lines using Earthquake data, you should review the topic and your dataset so that the reader can understand your work.  Similarly, the results of your project should be clearly communicated. Do not just tell your audience the final accuracy of your models--be sure to answer \"big picture\" questions as well. For instance: Would you recommend shipping this model to production, or is more work needed? \n",
    "<br><br>\n",
    "**_NOTE:_** Inconclusive results are okay--from a purely scientific perspective, they are no more or less important or valuable than any other kinds of results. If your results are inconclusive, you should discuss what your next steps would be from there. For instance, what do you think it would take to get conclusive results--more data? Different data that was unavailable? Both? "
   ]
  },
  {
   "cell_type": "markdown",
   "metadata": {},
   "source": [
    ">## Requirements for Online Students Only\n",
    ">### Deliverables\n",
    "For online students, the deliverables for this project consist of the following three components:\n",
    "1. A Jupyter notebook for a presentation.\n",
    "  * The Jupyter notebook will have two components:\n",
    "    1. An **_Abstract_** section that briefly explains your problem, your methodology, and your findings, and business recommendations as a result of your findings. This section should be 1-2 paragraphs long.  \n",
    "    2. The technical analysis for a data science audience. This detailed technical analysis should explicitly follow a Data Science Process as outlined in the previous section. It should be well-formatted and organized, and should contain all code, visualizations, and detailed explanations/analysis.    \n",
    "2. An organized **README.md** file in the GitHub repository containing your project code that describes the contents of the repository. This file should be the source of information for navigating through all the code in your repository. \n",
    "3. A blog post showcasing your project, with a focus on your methodology and findings. A well-written blog post about your project will probably be the first thing most recruiters and hiring managers see, so really take the time to polish up this blog post and explain your project, methodology, and findings/business recommendations in a clear, concise manner. This blog post should cover everything important about your project, but remember that your audience for this blog post will largely be non-technical. Your blog post should definitely contain visualizations, code snippets, and anything else you find important, but don't get bogged down trying to explain highly technical concepts. Your blog post should provide a link to the Github repository containing your actual project, for people that want to really dive into the technical aspects of your project.\n",
    "* Refer back to the [Blogging Guidelines](https://github.com/learn-co-curriculum/dsc-welcome-blogging) for the technical requirements and blog ideas.\n",
    "\n",
    ">### Rubric \n",
    "Online students can find a PDF of the rubric for the final capstone project [here](https://github.com/learn-co-students/dsc-capstone-project-v2-online-ds-pt-100719/blob/master/online_capstone_project_rubric.pdf). "
   ]
  },
  {
   "cell_type": "markdown",
   "metadata": {},
   "source": [
    ">## Example Student Project\n",
    "Take a look at this [technical report](https://github.com/paulinaczheng/twitter_flu_tracking) from a Flatiron student that used tweet data to predict the weekly number of flu cases during flu season. Pay attention to how well structured the project is, and how much she relies on great visualizations to tell her story for her. Your explanations don't have to be wordy - a visualization is worth a thousand words!\n",
    "\n",
    "> ## Summary\n",
    "The Capstone Project is the most critical part of the program. It gives you a chance to bring together all the skills you've learned into realistic projects and to practice key \"business judgement\" and communication skills.  Most importantly, it provides employers with strong signal about your technical abilities, and allow you to show the world what an amazing Data Scientist you've become!\n",
    "\n",
    "> The projects are serious and important - they can be passed and they can be failed. Take the project seriously, put the time in, ask for help from your peers or instructors early and often if you need it, and treat the review as a job interview and you'll do great. We're rooting for you to succeed and we're only going to ask you to take a review again if we believe that you need to. We'll also provide open and honest feedback so you can improve as quickly and efficiently as possible."
   ]
  },
  {
   "cell_type": "markdown",
   "metadata": {},
   "source": [
    "# Additional Thoughts/Tips"
   ]
  },
  {
   "cell_type": "markdown",
   "metadata": {},
   "source": [
    "### Technical Requirements\n",
    "\n",
    "Your project must meet the following technical requirements:\n",
    "\n",
    "- **_No Off-The-Shelf Datasets_**. \n",
    "    - Adding additional source of data/APIs or using unsupervised learning like autoencoders or clustering can be used to turn an off-the-shelf dataset into something appropriate for the capstone. \n",
    "    \n",
    "    \n",
    "- **_Strong Data Exploration, with at least 4 relevant data visualizations._** \n",
    "\n",
    "    - If you plan to make a dashboard, experiment with using Plotly figures, which are very easy to use with Dash dashboards.\n",
    "    - Plotly Express: https://plot.ly/python/plotly-express/\n",
    "    - [Cufflinks](https://github.com/santosjorge/cufflinks) (adds plotly to dataframes as an `iplot` method.\n",
    "    - [Dash User guide](https://dash.plot.ly/?_ga=2.156178875.1650132709.1582051288-909099599.1571873348)\n",
    "\n",
    "- **_Explicitly makes use of a Data Science Process such as OSEMN or CRISP-DM_**. \n",
    "    - There is a notebook with the OSEMN process framework inside \n",
    "\n",
    "- **_A well-defined question, with a well-defined answer._** \n",
    "    - Your project should clearly state the question you are trying to answer, and provide any background context needed to understand it. \n",
    "    - Think of 2 versions of your question:\n",
    "        - One that could be answered in ~3 days. \n",
    "        - One that you're excited/motivated to tackle and would want to continue working on post-graduation.\n",
    "        "
   ]
  },
  {
   "cell_type": "markdown",
   "metadata": {},
   "source": [
    "# Timeline"
   ]
  },
  {
   "cell_type": "markdown",
   "metadata": {},
   "source": [
    "- **Data Deadline: Datasets proposed by Thursday 07/02/20**\n",
    "\n",
    "\n",
    "- **Soft Deadline: Schedule Your Review & Turn in your links by 08/15.**\n",
    "\n",
    "\n",
    "- **Hard Deadline: Pass your Capstone Project reviews by 08/29**\n",
    "\n",
    "\n",
    "- Final class is ... TBD"
   ]
  },
  {
   "cell_type": "markdown",
   "metadata": {},
   "source": [
    "# Additional Example Capstone Projects"
   ]
  },
  {
   "cell_type": "markdown",
   "metadata": {},
   "source": [
    "## Example Capstones"
   ]
  },
  {
   "cell_type": "markdown",
   "metadata": {},
   "source": [
    "- https://github.com/slieb74/NBA-Shot-Analysis\n",
    "- https://github.com/NaokoSuga/gentrification_yelp\n",
    "- https://github.com/paulinaczheng/twitter_flu_tracking\n",
    "- https://github.com/mrethana/news_bias_final\n",
    "- https://github.com/cpease00/etf_forecasting\n",
    "- https://github.com/davidmasse/freelancer-rates\n",
    "- https://github.com/lpilossoph/Capstone-Project\n",
    "- https://github.com/whitcrrd/puzzle-image-segmentation"
   ]
  },
  {
   "cell_type": "markdown",
   "metadata": {},
   "source": [
    "### My Cohort (as a Student) (online-ds-ft-021119)"
   ]
  },
  {
   "cell_type": "markdown",
   "metadata": {},
   "source": [
    "- https://github.com/whitcrrd/puzzle-image-segmentation\n",
    "- https://github.com/kpokrass/Global_Warming\n",
    "\n",
    "- https://github.com/jirvingphd/dsc-5-capstone-project-online-ds-ft-021119"
   ]
  },
  {
   "cell_type": "markdown",
   "metadata": {},
   "source": [
    "# Example Dashboards"
   ]
  },
  {
   "cell_type": "markdown",
   "metadata": {},
   "source": [
    "- From a 100719FT Student:\n",
    "    -  https://still-plateau-25734.herokuapp.com/\n",
    "    \n",
    "- From a student back when I was a student:\n",
    "    - Repo: \n",
    "        - https://github.com/calremmel/burlington-real-estate-dash\n",
    "    - Dashboard:\n",
    "        - http://burlington-app.herokuapp.com/"
   ]
  },
  {
   "cell_type": "code",
   "execution_count": null,
   "metadata": {},
   "outputs": [],
   "source": []
  }
 ],
 "metadata": {
  "kernelspec": {
   "display_name": "learn-env",
   "language": "python",
   "name": "learn-env"
  },
  "language_info": {
   "codemirror_mode": {
    "name": "ipython",
    "version": 3
   },
   "file_extension": ".py",
   "mimetype": "text/x-python",
   "name": "python",
   "nbconvert_exporter": "python",
   "pygments_lexer": "ipython3",
   "version": "3.6.9"
  },
  "toc": {
   "base_numbering": 1,
   "nav_menu": {},
   "number_sections": false,
   "sideBar": true,
   "skip_h1_title": false,
   "title_cell": "Table of Contents",
   "title_sidebar": "Contents",
   "toc_cell": false,
   "toc_position": {},
   "toc_section_display": true,
   "toc_window_display": true
  }
 },
 "nbformat": 4,
 "nbformat_minor": 2
}
