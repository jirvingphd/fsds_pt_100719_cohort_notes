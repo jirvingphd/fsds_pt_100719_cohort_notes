{
 "cells": [
  {
   "cell_type": "markdown",
   "metadata": {
    "slideshow": {
     "slide_type": "slide"
    }
   },
   "source": [
    "# Ensembles: From Decision Trees to Extra Trees"
   ]
  },
  {
   "cell_type": "markdown",
   "metadata": {},
   "source": [
    "- online-ds-pt-100719\n",
    "- 04/11/20"
   ]
  },
  {
   "cell_type": "markdown",
   "metadata": {},
   "source": [
    "## Learning Objectives"
   ]
  },
  {
   "cell_type": "markdown",
   "metadata": {},
   "source": [
    "- Discuss the various types of ensembles methods\n",
    "- Compare and contrast them and their advatnages/disadvantages\n",
    "- Apply various ensemble methods, GridSearch, RandomizedSearch to a project dataset.\n",
    "- ~~Dealing with imbalanced classes~~"
   ]
  },
  {
   "cell_type": "markdown",
   "metadata": {},
   "source": [
    "## Questions?"
   ]
  },
  {
   "cell_type": "markdown",
   "metadata": {},
   "source": [
    "- What about XGBoost makes it so special?\n",
    "- What to do with your model once its done? \n",
    "    - How to express to finding in a non-technical? \n",
    "    - What did we actually learn/discover about the features vs target?\n",
    "- Setting the random_state for:\n",
    "    - train_test_split\n",
    "    - modeling\n",
    "    - do they need to match?\n",
    "- Pipelines\n",
    "    - Does xgboost support?\n",
    "        - YES!"
   ]
  },
  {
   "cell_type": "markdown",
   "metadata": {},
   "source": [
    "# Ensemble Methods: Overview"
   ]
  },
  {
   "cell_type": "markdown",
   "metadata": {},
   "source": [
    "> ***Ensemble Methods take advantage of the delphic technique (or \"wisdom of crowds\") where the average of multiple independent estimates is usually more consistently accurate than the individual estimates.***\n",
    "\n",
    "\n",
    "\n",
    "> - Bootstrap Aggregation\n",
    "    - Bagging Classifier\n",
    "    - Random Forests\n",
    "- Gradient Boosting:\n",
    "    - Adaboost\n",
    "    - Gradient Boosted Trees\n",
    "- Model Stacking A.K.K. Meta-Ensembling\n",
    "\n",
    "\n",
    "<!---\n",
    "<img src=\"https://raw.githubusercontent.com/jirvingphd/fsds_100719_cohort_notes/master/Flashcards/Ensemble_Methods_web.png\">\n",
    "\n",
    "<img src=\"https://raw.githubusercontent.com/jirvingphd/fsds_100719_cohort_notes/master/Flashcards/Avoid_Overfitting_web.png\">--->"
   ]
  },
  {
   "cell_type": "markdown",
   "metadata": {},
   "source": [
    "## Bootstrap Aggregation (Bagging)\n"
   ]
  },
  {
   "cell_type": "markdown",
   "metadata": {},
   "source": [
    "\n",
    "The process for training an ensemble through bootstrap aggregation is as follows:\n",
    "\n",
    "1. Grab a sizable sample from your dataset, with replacement \n",
    "2. Train a classifier on this sample  \n",
    "3. Repeat until all classifiers have been trained on their own sample from the dataset  \n",
    "4. When making a prediction, have each classifier in the ensemble make a prediction \n",
    "5. Aggregate all predictions from all classifiers into a single prediction, using the method of your choice  \n",
    "\n",
    "<img src=\"https://raw.githubusercontent.com/jirvingphd/fsds_100719_cohort_notes/master/Flashcards/Bagging_web.png\">\n",
    "\n",
    "<img src=\"https://raw.githubusercontent.com/jirvingphd/dsc-ensemble-methods-online-ds-ft-100719/master/images/new_bagging.png\">"
   ]
  },
  {
   "cell_type": "markdown",
   "metadata": {},
   "source": [
    "## Random Forests"
   ]
  },
  {
   "cell_type": "markdown",
   "metadata": {},
   "source": [
    "- Because decision trees are greedy algorithms, every tree given same data would make same conclusions.\n",
    "- **In addition to bagging**, random forests use **subspace sampling**\n",
    "<img src=\"https://raw.githubusercontent.com/jirvingphd/fsds_100719_cohort_notes/master/Flashcards/Random_Forest_web.png\">\n",
    "<img src=\"https://raw.githubusercontent.com/learn-co-students/dsc-random-forests-online-ds-ft-100719/master/images/new_rf-diagram.png\" width=70%>\n",
    "\n",
    "\n",
    "\n",
    "\n",
    "### Benefits and drawbacks\n",
    "\n",
    "#### Benefits\n",
    "\n",
    "* **_Strong performance_** Because this is an ensemble algorithm, the model is naturally resistant to noise and variance in the data, and generally tends to perform quite well. \n",
    "\n",
    "* **_Interpretability_**:  each tree in the random forest is a **_Glass-Box Model_** (meaning that the model is interpretable, allowing us to see how it arrived at a certain decision), the overall random forest is, as well! \n",
    "\n",
    "#### Drawbacks\n",
    "\n",
    "* **_Computational complexity_**: On large datasets, the runtime can be quite slow compared to other algorithms.\n",
    "\n",
    "* **_Memory usage_**: Random forests tend to have a larger memory footprint that other models. It's not uncommon to see random forests that were trained on large datasets have memory footprints in the tens, or even hundreds of MB. \n"
   ]
  },
  {
   "cell_type": "markdown",
   "metadata": {},
   "source": [
    "## Boosting / Gradient Boosted Trees"
   ]
  },
  {
   "cell_type": "markdown",
   "metadata": {},
   "source": [
    "### Weak learners\n",
    "\n",
    "All the models we've learned so far are **_Strong Learners_** -- models with the goal of doing as well as possible on the classification or regression task they are given. \n",
    "\n",
    "The term **_Weak Learner_** refers to simple models that do only slightly better than random chance. \n",
    "\n",
    "Boosting algorithms start with a single weak learner (usually trees), but technically, any model will do. \n",
    "\n",
    "Boosting works as follows:\n",
    "\n",
    "1. Train a single weak learner  \n",
    "2. Figure out which examples the weak learner got wrong  \n",
    "3. Build another weak learner that focuses on the areas the first weak learner got wrong  \n",
    "4. Continue this process until a predetermined stopping condition is met, such as until a set number of weak learners have been created, or the model's performance has plateaued  \n"
   ]
  },
  {
   "cell_type": "markdown",
   "metadata": {},
   "source": [
    "### Differences between Gradient Boosting and Random Forests"
   ]
  },
  {
   "cell_type": "markdown",
   "metadata": {},
   "source": [
    "- Independent vs iterative\n",
    "    - in Random Forests one tree is unaffacted by another.\n",
    "    - in Boosting mode each tree is iteratively created to address the prior tree's weaknesses.\n",
    "    \n",
    "- Weak vs Strong\n",
    "\n",
    "    - In a random forest, each tree is a strong learner -- they would do just fine as a decision tree on their own.\n",
    "    - In boosting algorithms, trees are artificially limited to a very shallow depth (usually only 1 split) \n",
    "        - to ensure that **each model is only slightly better than random chance**. \n",
    "\n",
    "- Aggregate Predictions:\n",
    "    - in RF each tree votes\n",
    "    - in boosting models trees are given weight for being good at \"hard tasks\"\n",
    "    "
   ]
  },
  {
   "cell_type": "markdown",
   "metadata": {},
   "source": [
    "### Adaboost & Gradient Boosted Trees\n"
   ]
  },
  {
   "cell_type": "markdown",
   "metadata": {},
   "source": [
    "#### Adaboost (Adaptive Boosting)\n",
    "- **_Key Takeaway:_** Adaboost creates new classifiers by continually influencing the distribution of the data sampled to train each successive learner. \n",
    "- Uses subsampling with **weighted-probabilities for incorrect predictions to be included in subsequent weak learner**"
   ]
  },
  {
   "cell_type": "markdown",
   "metadata": {},
   "source": [
    "#### Gradient Boosted Trees\n",
    "- More advanced form - uses gradient descent.\n",
    "- Trains successive trees on the **residuals**\n",
    "\n",
    "<img src=\"https://raw.githubusercontent.com/jirvingphd/dsc-gradient-boosting-and-weak-learners-online-ds-ft-100719/master/images/new_gradient-boosting.png\">\n"
   ]
  },
  {
   "cell_type": "markdown",
   "metadata": {},
   "source": [
    "## Modeling Stacking / Meta-Ensembling"
   ]
  },
  {
   "cell_type": "markdown",
   "metadata": {},
   "source": [
    "- Model stacking is when you use the predictions of one model as the input to another model.\n",
    "<img src=\"https://burakhimmetoglu.files.wordpress.com/2016/12/workflow.png?w=1140\">"
   ]
  },
  {
   "cell_type": "markdown",
   "metadata": {},
   "source": [
    "# Predicting Prisoner Recidivism with Ensemble Methods"
   ]
  },
  {
   "cell_type": "markdown",
   "metadata": {
    "slideshow": {
     "slide_type": "slide"
    }
   },
   "source": [
    "~~To start, we'll build a decision tree classifier, before taking a look at how we can further improve this algorithm by combining multiple decision trees. As we're feeling woodsy, import and inspect the dataset stored in `mushrooms.csv`.~~\n",
    "    \n",
    "<img src=\"https://raw.githubusercontent.com/jirvingphd/dsc-3-final-project-online-ds-ft-021119/master/LSA_map_with_counties_districts_and_B54A5BBCE4156.jpg\" width=30%>\n",
    "\n",
    "- The provided dataset was too easy to predict and I was getting 100% accuracy with vanilla trees.\n",
    "- Instead using partially-processed version of the Iowa Recidivism Dataset from my Mod 3 Project.\n",
    "    - https://github.com/jirvingphd/dsc-3-final-project-online-ds-ft-021119\n",
    "    \n",
    "- **[Non-Technical Presentation with prior results](https://github.com/jirvingphd/dsc-3-final-project-online-ds-ft-021119/blob/master/Predicting%20Recidivism%20in%20Released%20Prisoner%20in%20Iowa_v2.pdf)**\n",
    "    \n"
   ]
  },
  {
   "cell_type": "markdown",
   "metadata": {},
   "source": [
    "# Plan:"
   ]
  },
  {
   "cell_type": "markdown",
   "metadata": {},
   "source": [
    "- Vanilla DecisionTreeClassifier\n",
    "    - RandomizedSearchCV best-params DTC\n",
    "- Bagging Classifier\n",
    "- RandomForest\n",
    "- ExtraTreesClassifier\n",
    "    - GridSearchCV\n",
    "- XGBoost"
   ]
  },
  {
   "cell_type": "markdown",
   "metadata": {},
   "source": [
    "# Activity: Iowa Prisoners (From Last Class)"
   ]
  },
  {
   "cell_type": "code",
   "execution_count": 1,
   "metadata": {
    "ExecuteTime": {
     "end_time": "2020-04-11T18:58:08.069901Z",
     "start_time": "2020-04-11T18:58:03.648677Z"
    }
   },
   "outputs": [
    {
     "name": "stdout",
     "output_type": "stream",
     "text": [
      "fsds_1007219  v0.7.20 loaded.  Read the docs: https://fsds.readthedocs.io/en/latest/ \n"
     ]
    },
    {
     "data": {
      "text/html": [
       "<style  type=\"text/css\" >\n",
       "</style><table id=\"T_618e3a06_7c26_11ea_b37f_acde48001122\" ><caption>Loaded Packages and Handles</caption><thead>    <tr>        <th class=\"col_heading level0 col0\" >Handle</th>        <th class=\"col_heading level0 col1\" >Package</th>        <th class=\"col_heading level0 col2\" >Description</th>    </tr></thead><tbody>\n",
       "                <tr>\n",
       "                                <td id=\"T_618e3a06_7c26_11ea_b37f_acde48001122row0_col0\" class=\"data row0 col0\" >dp</td>\n",
       "                        <td id=\"T_618e3a06_7c26_11ea_b37f_acde48001122row0_col1\" class=\"data row0 col1\" >IPython.display</td>\n",
       "                        <td id=\"T_618e3a06_7c26_11ea_b37f_acde48001122row0_col2\" class=\"data row0 col2\" >Display modules with helpful display and clearing commands.</td>\n",
       "            </tr>\n",
       "            <tr>\n",
       "                                <td id=\"T_618e3a06_7c26_11ea_b37f_acde48001122row1_col0\" class=\"data row1 col0\" >fs</td>\n",
       "                        <td id=\"T_618e3a06_7c26_11ea_b37f_acde48001122row1_col1\" class=\"data row1 col1\" >fsds_100719</td>\n",
       "                        <td id=\"T_618e3a06_7c26_11ea_b37f_acde48001122row1_col2\" class=\"data row1 col2\" >Custom data science bootcamp student package</td>\n",
       "            </tr>\n",
       "            <tr>\n",
       "                                <td id=\"T_618e3a06_7c26_11ea_b37f_acde48001122row2_col0\" class=\"data row2 col0\" >mpl</td>\n",
       "                        <td id=\"T_618e3a06_7c26_11ea_b37f_acde48001122row2_col1\" class=\"data row2 col1\" >matplotlib</td>\n",
       "                        <td id=\"T_618e3a06_7c26_11ea_b37f_acde48001122row2_col2\" class=\"data row2 col2\" >Matplotlib's base OOP module with formatting artists</td>\n",
       "            </tr>\n",
       "            <tr>\n",
       "                                <td id=\"T_618e3a06_7c26_11ea_b37f_acde48001122row3_col0\" class=\"data row3 col0\" >plt</td>\n",
       "                        <td id=\"T_618e3a06_7c26_11ea_b37f_acde48001122row3_col1\" class=\"data row3 col1\" >matplotlib.pyplot</td>\n",
       "                        <td id=\"T_618e3a06_7c26_11ea_b37f_acde48001122row3_col2\" class=\"data row3 col2\" >Matplotlib's matlab-like plotting module</td>\n",
       "            </tr>\n",
       "            <tr>\n",
       "                                <td id=\"T_618e3a06_7c26_11ea_b37f_acde48001122row4_col0\" class=\"data row4 col0\" >np</td>\n",
       "                        <td id=\"T_618e3a06_7c26_11ea_b37f_acde48001122row4_col1\" class=\"data row4 col1\" >numpy</td>\n",
       "                        <td id=\"T_618e3a06_7c26_11ea_b37f_acde48001122row4_col2\" class=\"data row4 col2\" >scientific computing with Python</td>\n",
       "            </tr>\n",
       "            <tr>\n",
       "                                <td id=\"T_618e3a06_7c26_11ea_b37f_acde48001122row5_col0\" class=\"data row5 col0\" >pd</td>\n",
       "                        <td id=\"T_618e3a06_7c26_11ea_b37f_acde48001122row5_col1\" class=\"data row5 col1\" >pandas</td>\n",
       "                        <td id=\"T_618e3a06_7c26_11ea_b37f_acde48001122row5_col2\" class=\"data row5 col2\" >High performance data structures and tools</td>\n",
       "            </tr>\n",
       "            <tr>\n",
       "                                <td id=\"T_618e3a06_7c26_11ea_b37f_acde48001122row6_col0\" class=\"data row6 col0\" >sns</td>\n",
       "                        <td id=\"T_618e3a06_7c26_11ea_b37f_acde48001122row6_col1\" class=\"data row6 col1\" >seaborn</td>\n",
       "                        <td id=\"T_618e3a06_7c26_11ea_b37f_acde48001122row6_col2\" class=\"data row6 col2\" >High-level data visualization library based on matplotlib</td>\n",
       "            </tr>\n",
       "    </tbody></table>"
      ],
      "text/plain": [
       "<pandas.io.formats.style.Styler at 0x1c26299c50>"
      ]
     },
     "metadata": {},
     "output_type": "display_data"
    },
    {
     "data": {
      "text/html": [
       "        <script type=\"text/javascript\">\n",
       "        window.PlotlyConfig = {MathJaxConfig: 'local'};\n",
       "        if (window.MathJax) {MathJax.Hub.Config({SVG: {font: \"STIX-Web\"}});}\n",
       "        if (typeof require !== 'undefined') {\n",
       "        require.undef(\"plotly\");\n",
       "        requirejs.config({\n",
       "            paths: {\n",
       "                'plotly': ['https://cdn.plot.ly/plotly-latest.min']\n",
       "            }\n",
       "        });\n",
       "        require(['plotly'], function(Plotly) {\n",
       "            window._Plotly = Plotly;\n",
       "        });\n",
       "        }\n",
       "        </script>\n",
       "        "
      ]
     },
     "metadata": {},
     "output_type": "display_data"
    },
    {
     "name": "stdout",
     "output_type": "stream",
     "text": [
      "[i] Pandas .iplot() method activated.\n"
     ]
    }
   ],
   "source": [
    "from IPython.display import clear_output\n",
    "!pip install -U fsds_100719\n",
    "clear_output()\n",
    "from fsds_100719.imports import *\n",
    "import plotly.express as px\n",
    "import plotly.graph_objects as go\n",
    "\n",
    "import warnings\n",
    "warnings.filterwarnings('ignore')\n",
    "\n",
    "plt.style.use('seaborn-notebook')"
   ]
  },
  {
   "cell_type": "code",
   "execution_count": 2,
   "metadata": {
    "ExecuteTime": {
     "end_time": "2020-04-11T18:58:08.523194Z",
     "start_time": "2020-04-11T18:58:08.071456Z"
    }
   },
   "outputs": [
    {
     "data": {
      "text/html": [
       "<div>\n",
       "<style scoped>\n",
       "    .dataframe tbody tr th:only-of-type {\n",
       "        vertical-align: middle;\n",
       "    }\n",
       "\n",
       "    .dataframe tbody tr th {\n",
       "        vertical-align: top;\n",
       "    }\n",
       "\n",
       "    .dataframe thead th {\n",
       "        text-align: right;\n",
       "    }\n",
       "</style>\n",
       "<table border=\"1\" class=\"dataframe\">\n",
       "  <thead>\n",
       "    <tr style=\"text-align: right;\">\n",
       "      <th></th>\n",
       "      <th>yr_released</th>\n",
       "      <th>report_year</th>\n",
       "      <th>race_ethnicity</th>\n",
       "      <th>age_released</th>\n",
       "      <th>crime_class</th>\n",
       "      <th>crime_type</th>\n",
       "      <th>crime_subtype</th>\n",
       "      <th>release_type</th>\n",
       "      <th>super_dist</th>\n",
       "      <th>recidivist</th>\n",
       "      <th>target_pop</th>\n",
       "      <th>sex</th>\n",
       "    </tr>\n",
       "  </thead>\n",
       "  <tbody>\n",
       "    <tr>\n",
       "      <td>0</td>\n",
       "      <td>2010</td>\n",
       "      <td>2013</td>\n",
       "      <td>Black - Non-Hispanic</td>\n",
       "      <td>25-34</td>\n",
       "      <td>C Felony</td>\n",
       "      <td>Violent</td>\n",
       "      <td>Robbery</td>\n",
       "      <td>Parole</td>\n",
       "      <td>7JD</td>\n",
       "      <td>Yes</td>\n",
       "      <td>Yes</td>\n",
       "      <td>Male</td>\n",
       "    </tr>\n",
       "    <tr>\n",
       "      <td>1</td>\n",
       "      <td>2010</td>\n",
       "      <td>2013</td>\n",
       "      <td>White - Non-Hispanic</td>\n",
       "      <td>25-34</td>\n",
       "      <td>D Felony</td>\n",
       "      <td>Property</td>\n",
       "      <td>Theft</td>\n",
       "      <td>Discharged – End of Sentence</td>\n",
       "      <td>NaN</td>\n",
       "      <td>Yes</td>\n",
       "      <td>No</td>\n",
       "      <td>Male</td>\n",
       "    </tr>\n",
       "    <tr>\n",
       "      <td>2</td>\n",
       "      <td>2010</td>\n",
       "      <td>2013</td>\n",
       "      <td>White - Non-Hispanic</td>\n",
       "      <td>35-44</td>\n",
       "      <td>B Felony</td>\n",
       "      <td>Drug</td>\n",
       "      <td>Trafficking</td>\n",
       "      <td>Parole</td>\n",
       "      <td>5JD</td>\n",
       "      <td>Yes</td>\n",
       "      <td>Yes</td>\n",
       "      <td>Male</td>\n",
       "    </tr>\n",
       "    <tr>\n",
       "      <td>3</td>\n",
       "      <td>2010</td>\n",
       "      <td>2013</td>\n",
       "      <td>White - Non-Hispanic</td>\n",
       "      <td>25-34</td>\n",
       "      <td>B Felony</td>\n",
       "      <td>Other</td>\n",
       "      <td>Other Criminal</td>\n",
       "      <td>Parole</td>\n",
       "      <td>6JD</td>\n",
       "      <td>No</td>\n",
       "      <td>Yes</td>\n",
       "      <td>Male</td>\n",
       "    </tr>\n",
       "    <tr>\n",
       "      <td>4</td>\n",
       "      <td>2010</td>\n",
       "      <td>2013</td>\n",
       "      <td>Black - Non-Hispanic</td>\n",
       "      <td>35-44</td>\n",
       "      <td>D Felony</td>\n",
       "      <td>Violent</td>\n",
       "      <td>Assault</td>\n",
       "      <td>Discharged – End of Sentence</td>\n",
       "      <td>NaN</td>\n",
       "      <td>Yes</td>\n",
       "      <td>No</td>\n",
       "      <td>Male</td>\n",
       "    </tr>\n",
       "  </tbody>\n",
       "</table>\n",
       "</div>"
      ],
      "text/plain": [
       "   yr_released  report_year        race_ethnicity age_released crime_class  \\\n",
       "0         2010         2013  Black - Non-Hispanic        25-34    C Felony   \n",
       "1         2010         2013  White - Non-Hispanic        25-34    D Felony   \n",
       "2         2010         2013  White - Non-Hispanic        35-44    B Felony   \n",
       "3         2010         2013  White - Non-Hispanic        25-34    B Felony   \n",
       "4         2010         2013  Black - Non-Hispanic        35-44    D Felony   \n",
       "\n",
       "  crime_type   crime_subtype                  release_type super_dist  \\\n",
       "0    Violent         Robbery                        Parole        7JD   \n",
       "1   Property           Theft  Discharged – End of Sentence        NaN   \n",
       "2       Drug     Trafficking                        Parole        5JD   \n",
       "3      Other  Other Criminal                        Parole        6JD   \n",
       "4    Violent         Assault  Discharged – End of Sentence        NaN   \n",
       "\n",
       "  recidivist target_pop   sex  \n",
       "0        Yes        Yes  Male  \n",
       "1        Yes         No  Male  \n",
       "2        Yes        Yes  Male  \n",
       "3         No        Yes  Male  \n",
       "4        Yes         No  Male  "
      ]
     },
     "execution_count": 2,
     "metadata": {},
     "output_type": "execute_result"
    }
   ],
   "source": [
    "df = fs.datasets.load_iowa_prisoners(vers='clean',read_csv_kwds={'index_col':0})\n",
    "df.head()"
   ]
  },
  {
   "cell_type": "code",
   "execution_count": 3,
   "metadata": {
    "ExecuteTime": {
     "end_time": "2020-04-11T18:58:08.529017Z",
     "start_time": "2020-04-11T18:58:08.524671Z"
    }
   },
   "outputs": [],
   "source": [
    "## Drop unwanted cols\n",
    "df= df.drop(columns=['yr_released','report_year'])"
   ]
  },
  {
   "cell_type": "markdown",
   "metadata": {},
   "source": [
    "### Preprocessing Data"
   ]
  },
  {
   "cell_type": "markdown",
   "metadata": {},
   "source": [
    "- Null values (fill or drop)\n",
    "- Data Types (finding categorical variables)\n",
    "- Inspect the value_counts/labels of categoricals\n",
    "- Scaling or lack-off\n",
    "- Encode Them\n",
    "    - Label Encoding\n",
    "    - One hot encoding\n"
   ]
  },
  {
   "cell_type": "code",
   "execution_count": 4,
   "metadata": {
    "ExecuteTime": {
     "end_time": "2020-04-11T18:58:09.191213Z",
     "start_time": "2020-04-11T18:58:08.530510Z"
    }
   },
   "outputs": [
    {
     "data": {
      "text/plain": [
       "race_ethnicity      30\n",
       "age_released         3\n",
       "crime_class          0\n",
       "crime_type           0\n",
       "crime_subtype        0\n",
       "release_type      1762\n",
       "super_dist        9581\n",
       "recidivist           0\n",
       "target_pop           0\n",
       "sex                  3\n",
       "dtype: int64"
      ]
     },
     "execution_count": 4,
     "metadata": {},
     "output_type": "execute_result"
    },
    {
     "data": {
      "image/png": "[encoded data removed]",
      "text/plain": [
       "<Figure size 1800x720 with 2 Axes>"
      ]
     },
     "metadata": {
      "needs_background": "light"
     },
     "output_type": "display_data"
    }
   ],
   "source": [
    "## Check null values\n",
    "import missingno\n",
    "missingno.matrix(df)\n",
    "df.isna().sum()"
   ]
  },
  {
   "cell_type": "code",
   "execution_count": 5,
   "metadata": {
    "ExecuteTime": {
     "end_time": "2020-04-11T18:58:09.196989Z",
     "start_time": "2020-04-11T18:58:09.192538Z"
    }
   },
   "outputs": [
    {
     "data": {
      "text/plain": [
       "race_ethnicity    object\n",
       "age_released      object\n",
       "crime_class       object\n",
       "crime_type        object\n",
       "crime_subtype     object\n",
       "release_type      object\n",
       "super_dist        object\n",
       "recidivist        object\n",
       "target_pop        object\n",
       "sex               object\n",
       "dtype: object"
      ]
     },
     "execution_count": 5,
     "metadata": {},
     "output_type": "execute_result"
    }
   ],
   "source": [
    "df.dtypes"
   ]
  },
  {
   "cell_type": "code",
   "execution_count": 6,
   "metadata": {
    "ExecuteTime": {
     "end_time": "2020-04-11T18:58:09.213583Z",
     "start_time": "2020-04-11T18:58:09.198400Z"
    }
   },
   "outputs": [
    {
     "name": "stdout",
     "output_type": "stream",
     "text": [
      "<class 'pandas.core.frame.DataFrame'>\n",
      "Int64Index: 26020 entries, 0 to 26019\n",
      "Data columns (total 10 columns):\n",
      "race_ethnicity    25990 non-null object\n",
      "age_released      26017 non-null object\n",
      "crime_class       26020 non-null object\n",
      "crime_type        26020 non-null object\n",
      "crime_subtype     26020 non-null object\n",
      "release_type      24258 non-null object\n",
      "super_dist        16439 non-null object\n",
      "recidivist        26020 non-null object\n",
      "target_pop        26020 non-null object\n",
      "sex               26017 non-null object\n",
      "dtypes: object(10)\n",
      "memory usage: 2.2+ MB\n"
     ]
    }
   ],
   "source": [
    "df.info()"
   ]
  },
  {
   "cell_type": "code",
   "execution_count": 7,
   "metadata": {
    "ExecuteTime": {
     "end_time": "2020-04-11T18:58:09.223067Z",
     "start_time": "2020-04-11T18:58:09.215184Z"
    }
   },
   "outputs": [
    {
     "data": {
      "text/plain": [
       "White - Non-Hispanic                               17584\n",
       "Black - Non-Hispanic                                6109\n",
       "White - Hispanic                                    1522\n",
       "American Indian or Alaska Native - Non-Hispanic      502\n",
       "Asian or Pacific Islander - Non-Hispanic             192\n",
       "Black - Hispanic                                      37\n",
       "NaN                                                   30\n",
       "American Indian or Alaska Native - Hispanic           20\n",
       "White -                                               12\n",
       "N/A -                                                  5\n",
       "Asian or Pacific Islander - Hispanic                   5\n",
       "Black -                                                2\n",
       "Name: race_ethnicity, dtype: int64"
      ]
     },
     "execution_count": 7,
     "metadata": {},
     "output_type": "execute_result"
    }
   ],
   "source": [
    "df['race_ethnicity'].value_counts(dropna=False)"
   ]
  },
  {
   "cell_type": "code",
   "execution_count": 8,
   "metadata": {
    "ExecuteTime": {
     "end_time": "2020-04-11T18:58:09.238283Z",
     "start_time": "2020-04-11T18:58:09.225390Z"
    }
   },
   "outputs": [
    {
     "data": {
      "text/plain": [
       "White                        17596\n",
       "Black                         6148\n",
       "Hispanic                      1522\n",
       "American Native                522\n",
       "Asian or Pacific Islander      197\n",
       "NaN                             35\n",
       "Name: race_ethnicity, dtype: int64"
      ]
     },
     "execution_count": 8,
     "metadata": {},
     "output_type": "execute_result"
    }
   ],
   "source": [
    "# Defining Dictionary Map for race_ethnicity categories\n",
    "race_ethnicity_map = {'White - Non-Hispanic':'White',\n",
    "                        'Black - Non-Hispanic': 'Black',\n",
    "                        'White - Hispanic' : 'Hispanic',\n",
    "                        'American Indian or Alaska Native - Non-Hispanic' : 'American Native',\n",
    "                        'Asian or Pacific Islander - Non-Hispanic' : 'Asian or Pacific Islander',\n",
    "                        'Black - Hispanic' : 'Black',\n",
    "                        'American Indian or Alaska Native - Hispanic':'American Native',\n",
    "                        'White -' : 'White',\n",
    "                        'Asian or Pacific Islander - Hispanic' : 'Asian or Pacific Islander',\n",
    "                        'N/A -' : np.nan,\n",
    "                        'Black -':'Black'}\n",
    "\n",
    "df['race_ethnicity'] = df['race_ethnicity'].map(race_ethnicity_map)\n",
    "df['race_ethnicity'].value_counts(dropna=False)"
   ]
  },
  {
   "cell_type": "code",
   "execution_count": 9,
   "metadata": {
    "ExecuteTime": {
     "end_time": "2020-04-11T18:58:09.247914Z",
     "start_time": "2020-04-11T18:58:09.240121Z"
    }
   },
   "outputs": [
    {
     "data": {
      "text/plain": [
       "D Felony                                    10487\n",
       "C Felony                                     6803\n",
       "Aggravated Misdemeanor                       4930\n",
       "B Felony                                     1765\n",
       "Felony - Enhancement to Original Penalty     1533\n",
       "Felony - Enhanced                             220\n",
       "Serious Misdemeanor                           155\n",
       "Special Sentence 2005                          98\n",
       "Felony - Mandatory Minimum                     11\n",
       "Other Felony                                    6\n",
       "A Felony                                        4\n",
       "Simple Misdemeanor                              3\n",
       "Sexual Predator Community Supervision           2\n",
       "Other Felony (Old Code)                         2\n",
       "Other Misdemeanor                               1\n",
       "Name: crime_class, dtype: int64"
      ]
     },
     "execution_count": 9,
     "metadata": {},
     "output_type": "execute_result"
    }
   ],
   "source": [
    "df['crime_class'].value_counts()"
   ]
  },
  {
   "cell_type": "code",
   "execution_count": 10,
   "metadata": {
    "ExecuteTime": {
     "end_time": "2020-04-11T18:58:09.265754Z",
     "start_time": "2020-04-11T18:58:09.249899Z"
    }
   },
   "outputs": [
    {
     "data": {
      "text/plain": [
       "D Felony                  10487\n",
       "C Felony                   6803\n",
       "Aggravated Misdemeanor     4930\n",
       "B Felony                   1765\n",
       "Felony - Enhanced          1753\n",
       "Serious Misdemeanor         155\n",
       "Sex Offender                100\n",
       "NaN                          20\n",
       "A Felony                      4\n",
       "Simple Misdemeanor            3\n",
       "Name: crime_class, dtype: int64"
      ]
     },
     "execution_count": 10,
     "metadata": {},
     "output_type": "execute_result"
    }
   ],
   "source": [
    "# Remapping\n",
    "crime_class_map = {'Other Felony (Old Code)': np.nan ,#or other felony\n",
    "                  'Other Misdemeanor':np.nan,\n",
    "                   'Felony - Mandatory Minimum':np.nan, # if minimum then lowest sentence ==  D Felony\n",
    "                   'Special Sentence 2005': 'Sex Offender',\n",
    "                   'Other Felony' : np.nan ,\n",
    "                   'Sexual Predator Community Supervision' : 'Sex Offender',\n",
    "                   'D Felony': 'D Felony',\n",
    "                   'C Felony' :'C Felony',\n",
    "                   'B Felony' : 'B Felony',\n",
    "                   'A Felony' : 'A Felony',\n",
    "                   'Aggravated Misdemeanor':'Aggravated Misdemeanor',\n",
    "                   'Felony - Enhancement to Original Penalty':'Felony - Enhanced',\n",
    "                   'Felony - Enhanced':'Felony - Enhanced' ,\n",
    "                   'Serious Misdemeanor':'Serious Misdemeanor',\n",
    "                   'Simple Misdemeanor':'Simple Misdemeanor'}\n",
    "\n",
    "df['crime_class'] = df['crime_class'].map(crime_class_map)\n",
    "df['crime_class'].value_counts(dropna=False)"
   ]
  },
  {
   "cell_type": "code",
   "execution_count": 11,
   "metadata": {
    "ExecuteTime": {
     "end_time": "2020-04-11T18:58:09.277884Z",
     "start_time": "2020-04-11T18:58:09.267862Z"
    }
   },
   "outputs": [
    {
     "data": {
      "text/plain": [
       "25-34           9554\n",
       "35-44           6223\n",
       "Under 25        4590\n",
       "45-54           4347\n",
       "55 and Older    1303\n",
       "NaN                3\n",
       "Name: age_released, dtype: int64"
      ]
     },
     "execution_count": 11,
     "metadata": {},
     "output_type": "execute_result"
    }
   ],
   "source": [
    "df['age_released'].value_counts(dropna=False)"
   ]
  },
  {
   "cell_type": "code",
   "execution_count": 12,
   "metadata": {
    "ExecuteTime": {
     "end_time": "2020-04-11T18:58:09.285160Z",
     "start_time": "2020-04-11T18:58:09.279887Z"
    }
   },
   "outputs": [
    {
     "data": {
      "text/plain": [
       "{'Under 25': 0, '25-34': 1, '35-44': 2, '45-54': 3, '55 and Older': 4}"
      ]
     },
     "execution_count": 12,
     "metadata": {},
     "output_type": "execute_result"
    }
   ],
   "source": [
    "# Encoding age groups as ordinal\n",
    "age_ranges = ('Under 25','25-34', '35-44','45-54','55 and Older')\n",
    "age_codes = (0,1,2,3,4) \n",
    "# Zipping into Dictionary to Map onto Column\n",
    "age_map = dict(zip(age_ranges,age_codes))\n",
    "age_map"
   ]
  },
  {
   "cell_type": "code",
   "execution_count": 13,
   "metadata": {
    "ExecuteTime": {
     "end_time": "2020-04-11T18:58:09.297655Z",
     "start_time": "2020-04-11T18:58:09.287227Z"
    }
   },
   "outputs": [
    {
     "data": {
      "text/plain": [
       "1.0    9554\n",
       "2.0    6223\n",
       "0.0    4590\n",
       "3.0    4347\n",
       "4.0    1303\n",
       "Name: age_enc, dtype: int64"
      ]
     },
     "execution_count": 13,
     "metadata": {},
     "output_type": "execute_result"
    }
   ],
   "source": [
    "df['age_enc'] = df['age_released'].map(age_map)\n",
    "df['age_enc'].value_counts()"
   ]
  },
  {
   "cell_type": "code",
   "execution_count": 14,
   "metadata": {
    "ExecuteTime": {
     "end_time": "2020-04-11T18:58:09.304222Z",
     "start_time": "2020-04-11T18:58:09.299508Z"
    }
   },
   "outputs": [
    {
     "data": {
      "text/plain": [
       "{'Under 25': 20, '25-34': 30, '35-44': 40, '45-54': 50, '55 and Older': 70}"
      ]
     },
     "execution_count": 14,
     "metadata": {},
     "output_type": "execute_result"
    }
   ],
   "source": [
    "# Mapping age_map onto 'age_released'\n",
    "# Encoding age groups as ordinal\n",
    "age_ranges = ('Under 25','25-34', '35-44','45-54','55 and Older')\n",
    "age_numbers = (20,30,40,50,70) \n",
    "age_num_map = dict(zip(age_ranges,age_numbers))\n",
    "age_num_map"
   ]
  },
  {
   "cell_type": "code",
   "execution_count": 15,
   "metadata": {
    "ExecuteTime": {
     "end_time": "2020-04-11T18:58:09.316867Z",
     "start_time": "2020-04-11T18:58:09.305978Z"
    }
   },
   "outputs": [
    {
     "data": {
      "text/plain": [
       "30.0    9554\n",
       "40.0    6223\n",
       "20.0    4590\n",
       "50.0    4347\n",
       "70.0    1303\n",
       "Name: age_number, dtype: int64"
      ]
     },
     "execution_count": 15,
     "metadata": {},
     "output_type": "execute_result"
    }
   ],
   "source": [
    "df['age_number'] = df['age_released'].map(age_num_map)\n",
    "df['age_number'].value_counts()"
   ]
  },
  {
   "cell_type": "code",
   "execution_count": 16,
   "metadata": {
    "ExecuteTime": {
     "end_time": "2020-04-11T18:58:09.340212Z",
     "start_time": "2020-04-11T18:58:09.318616Z"
    }
   },
   "outputs": [
    {
     "data": {
      "text/plain": [
       "['race_ethnicity',\n",
       " 'age_released',\n",
       " 'crime_class',\n",
       " 'crime_type',\n",
       " 'crime_subtype',\n",
       " 'recidivist',\n",
       " 'target_pop',\n",
       " 'sex',\n",
       " 'age_enc',\n",
       " 'age_number']"
      ]
     },
     "execution_count": 16,
     "metadata": {},
     "output_type": "execute_result"
    }
   ],
   "source": [
    "## Drop Nulls \n",
    "df.isna().sum().divide(len(df))*100\n",
    "drop_cols  = [col for col in df.drop(columns=['super_dist','release_type']).columns]\n",
    "drop_cols"
   ]
  },
  {
   "cell_type": "code",
   "execution_count": 17,
   "metadata": {
    "ExecuteTime": {
     "end_time": "2020-04-11T18:58:09.362378Z",
     "start_time": "2020-04-11T18:58:09.342085Z"
    }
   },
   "outputs": [],
   "source": [
    "df.dropna(subset=drop_cols, inplace=True)"
   ]
  },
  {
   "cell_type": "code",
   "execution_count": 18,
   "metadata": {
    "ExecuteTime": {
     "end_time": "2020-04-11T18:58:09.395855Z",
     "start_time": "2020-04-11T18:58:09.363636Z"
    }
   },
   "outputs": [
    {
     "data": {
      "text/plain": [
       "race_ethnicity    0\n",
       "age_released      0\n",
       "crime_class       0\n",
       "crime_type        0\n",
       "crime_subtype     0\n",
       "release_type      0\n",
       "super_dist        0\n",
       "recidivist        0\n",
       "target_pop        0\n",
       "sex               0\n",
       "age_enc           0\n",
       "age_number        0\n",
       "dtype: int64"
      ]
     },
     "execution_count": 18,
     "metadata": {},
     "output_type": "execute_result"
    }
   ],
   "source": [
    "df.isna().sum()\n",
    "df[['super_dist','release_type']] = df[['super_dist','release_type']].fillna('Missing')\n",
    "df.isna().sum()"
   ]
  },
  {
   "cell_type": "code",
   "execution_count": 19,
   "metadata": {
    "ExecuteTime": {
     "end_time": "2020-04-11T18:58:09.405032Z",
     "start_time": "2020-04-11T18:58:09.398109Z"
    }
   },
   "outputs": [],
   "source": [
    "df.dtypes\n",
    "drop_cols = ['age_released']\n",
    "df = df.drop(columns=drop_cols)"
   ]
  },
  {
   "cell_type": "code",
   "execution_count": 20,
   "metadata": {
    "ExecuteTime": {
     "end_time": "2020-04-11T18:58:09.413391Z",
     "start_time": "2020-04-11T18:58:09.406522Z"
    },
    "scrolled": true
   },
   "outputs": [
    {
     "data": {
      "text/plain": [
       "race_ethnicity     object\n",
       "crime_class        object\n",
       "crime_type         object\n",
       "crime_subtype      object\n",
       "release_type       object\n",
       "super_dist         object\n",
       "recidivist         object\n",
       "target_pop         object\n",
       "sex                object\n",
       "age_enc           float64\n",
       "age_number        float64\n",
       "dtype: object"
      ]
     },
     "execution_count": 20,
     "metadata": {},
     "output_type": "execute_result"
    }
   ],
   "source": [
    "df.dtypes"
   ]
  },
  {
   "cell_type": "code",
   "execution_count": 21,
   "metadata": {
    "ExecuteTime": {
     "end_time": "2020-04-11T18:58:09.473039Z",
     "start_time": "2020-04-11T18:58:09.415547Z"
    }
   },
   "outputs": [
    {
     "data": {
      "text/html": [
       "<div>\n",
       "<style scoped>\n",
       "    .dataframe tbody tr th:only-of-type {\n",
       "        vertical-align: middle;\n",
       "    }\n",
       "\n",
       "    .dataframe tbody tr th {\n",
       "        vertical-align: top;\n",
       "    }\n",
       "\n",
       "    .dataframe thead th {\n",
       "        text-align: right;\n",
       "    }\n",
       "</style>\n",
       "<table border=\"1\" class=\"dataframe\">\n",
       "  <thead>\n",
       "    <tr style=\"text-align: right;\">\n",
       "      <th></th>\n",
       "      <th>age_enc</th>\n",
       "      <th>age_number</th>\n",
       "      <th>race_ethnicity_American Native</th>\n",
       "      <th>race_ethnicity_Asian or Pacific Islander</th>\n",
       "      <th>race_ethnicity_Black</th>\n",
       "      <th>race_ethnicity_Hispanic</th>\n",
       "      <th>race_ethnicity_White</th>\n",
       "      <th>crime_class_A Felony</th>\n",
       "      <th>crime_class_Aggravated Misdemeanor</th>\n",
       "      <th>crime_class_B Felony</th>\n",
       "      <th>...</th>\n",
       "      <th>super_dist_8JD</th>\n",
       "      <th>super_dist_ISC</th>\n",
       "      <th>super_dist_Interstate Compact</th>\n",
       "      <th>super_dist_Missing</th>\n",
       "      <th>recidivist_No</th>\n",
       "      <th>recidivist_Yes</th>\n",
       "      <th>target_pop_No</th>\n",
       "      <th>target_pop_Yes</th>\n",
       "      <th>sex_Female</th>\n",
       "      <th>sex_Male</th>\n",
       "    </tr>\n",
       "  </thead>\n",
       "  <tbody>\n",
       "    <tr>\n",
       "      <td>0</td>\n",
       "      <td>1.0</td>\n",
       "      <td>30.0</td>\n",
       "      <td>0</td>\n",
       "      <td>0</td>\n",
       "      <td>1</td>\n",
       "      <td>0</td>\n",
       "      <td>0</td>\n",
       "      <td>0</td>\n",
       "      <td>0</td>\n",
       "      <td>0</td>\n",
       "      <td>...</td>\n",
       "      <td>0</td>\n",
       "      <td>0</td>\n",
       "      <td>0</td>\n",
       "      <td>0</td>\n",
       "      <td>0</td>\n",
       "      <td>1</td>\n",
       "      <td>0</td>\n",
       "      <td>1</td>\n",
       "      <td>0</td>\n",
       "      <td>1</td>\n",
       "    </tr>\n",
       "    <tr>\n",
       "      <td>1</td>\n",
       "      <td>1.0</td>\n",
       "      <td>30.0</td>\n",
       "      <td>0</td>\n",
       "      <td>0</td>\n",
       "      <td>0</td>\n",
       "      <td>0</td>\n",
       "      <td>1</td>\n",
       "      <td>0</td>\n",
       "      <td>0</td>\n",
       "      <td>0</td>\n",
       "      <td>...</td>\n",
       "      <td>0</td>\n",
       "      <td>0</td>\n",
       "      <td>0</td>\n",
       "      <td>1</td>\n",
       "      <td>0</td>\n",
       "      <td>1</td>\n",
       "      <td>1</td>\n",
       "      <td>0</td>\n",
       "      <td>0</td>\n",
       "      <td>1</td>\n",
       "    </tr>\n",
       "    <tr>\n",
       "      <td>2</td>\n",
       "      <td>2.0</td>\n",
       "      <td>40.0</td>\n",
       "      <td>0</td>\n",
       "      <td>0</td>\n",
       "      <td>0</td>\n",
       "      <td>0</td>\n",
       "      <td>1</td>\n",
       "      <td>0</td>\n",
       "      <td>0</td>\n",
       "      <td>1</td>\n",
       "      <td>...</td>\n",
       "      <td>0</td>\n",
       "      <td>0</td>\n",
       "      <td>0</td>\n",
       "      <td>0</td>\n",
       "      <td>0</td>\n",
       "      <td>1</td>\n",
       "      <td>0</td>\n",
       "      <td>1</td>\n",
       "      <td>0</td>\n",
       "      <td>1</td>\n",
       "    </tr>\n",
       "    <tr>\n",
       "      <td>3</td>\n",
       "      <td>1.0</td>\n",
       "      <td>30.0</td>\n",
       "      <td>0</td>\n",
       "      <td>0</td>\n",
       "      <td>0</td>\n",
       "      <td>0</td>\n",
       "      <td>1</td>\n",
       "      <td>0</td>\n",
       "      <td>0</td>\n",
       "      <td>1</td>\n",
       "      <td>...</td>\n",
       "      <td>0</td>\n",
       "      <td>0</td>\n",
       "      <td>0</td>\n",
       "      <td>0</td>\n",
       "      <td>1</td>\n",
       "      <td>0</td>\n",
       "      <td>0</td>\n",
       "      <td>1</td>\n",
       "      <td>0</td>\n",
       "      <td>1</td>\n",
       "    </tr>\n",
       "    <tr>\n",
       "      <td>4</td>\n",
       "      <td>2.0</td>\n",
       "      <td>40.0</td>\n",
       "      <td>0</td>\n",
       "      <td>0</td>\n",
       "      <td>1</td>\n",
       "      <td>0</td>\n",
       "      <td>0</td>\n",
       "      <td>0</td>\n",
       "      <td>0</td>\n",
       "      <td>0</td>\n",
       "      <td>...</td>\n",
       "      <td>0</td>\n",
       "      <td>0</td>\n",
       "      <td>0</td>\n",
       "      <td>1</td>\n",
       "      <td>0</td>\n",
       "      <td>1</td>\n",
       "      <td>1</td>\n",
       "      <td>0</td>\n",
       "      <td>0</td>\n",
       "      <td>1</td>\n",
       "    </tr>\n",
       "  </tbody>\n",
       "</table>\n",
       "<p>5 rows × 76 columns</p>\n",
       "</div>"
      ],
      "text/plain": [
       "   age_enc  age_number  race_ethnicity_American Native  \\\n",
       "0      1.0        30.0                               0   \n",
       "1      1.0        30.0                               0   \n",
       "2      2.0        40.0                               0   \n",
       "3      1.0        30.0                               0   \n",
       "4      2.0        40.0                               0   \n",
       "\n",
       "   race_ethnicity_Asian or Pacific Islander  race_ethnicity_Black  \\\n",
       "0                                         0                     1   \n",
       "1                                         0                     0   \n",
       "2                                         0                     0   \n",
       "3                                         0                     0   \n",
       "4                                         0                     1   \n",
       "\n",
       "   race_ethnicity_Hispanic  race_ethnicity_White  crime_class_A Felony  \\\n",
       "0                        0                     0                     0   \n",
       "1                        0                     1                     0   \n",
       "2                        0                     1                     0   \n",
       "3                        0                     1                     0   \n",
       "4                        0                     0                     0   \n",
       "\n",
       "   crime_class_Aggravated Misdemeanor  crime_class_B Felony  ...  \\\n",
       "0                                   0                     0  ...   \n",
       "1                                   0                     0  ...   \n",
       "2                                   0                     1  ...   \n",
       "3                                   0                     1  ...   \n",
       "4                                   0                     0  ...   \n",
       "\n",
       "   super_dist_8JD  super_dist_ISC  super_dist_Interstate Compact  \\\n",
       "0               0               0                              0   \n",
       "1               0               0                              0   \n",
       "2               0               0                              0   \n",
       "3               0               0                              0   \n",
       "4               0               0                              0   \n",
       "\n",
       "   super_dist_Missing  recidivist_No  recidivist_Yes  target_pop_No  \\\n",
       "0                   0              0               1              0   \n",
       "1                   1              0               1              1   \n",
       "2                   0              0               1              0   \n",
       "3                   0              1               0              0   \n",
       "4                   1              0               1              1   \n",
       "\n",
       "   target_pop_Yes  sex_Female  sex_Male  \n",
       "0               1           0         1  \n",
       "1               0           0         1  \n",
       "2               1           0         1  \n",
       "3               1           0         1  \n",
       "4               0           0         1  \n",
       "\n",
       "[5 rows x 76 columns]"
      ]
     },
     "execution_count": 21,
     "metadata": {},
     "output_type": "execute_result"
    }
   ],
   "source": [
    "# one_hot_cols = ['race_ethnicity','crime_class\n",
    "df = pd.get_dummies(df)#,dummy_na=True)\n",
    "df.head()"
   ]
  },
  {
   "cell_type": "code",
   "execution_count": 22,
   "metadata": {
    "ExecuteTime": {
     "end_time": "2020-04-11T18:58:09.482647Z",
     "start_time": "2020-04-11T18:58:09.474815Z"
    }
   },
   "outputs": [],
   "source": [
    "df.drop('recidivist_No',axis=1,inplace=True)"
   ]
  },
  {
   "cell_type": "code",
   "execution_count": 23,
   "metadata": {
    "ExecuteTime": {
     "end_time": "2020-04-11T18:58:09.505246Z",
     "start_time": "2020-04-11T18:58:09.486257Z"
    }
   },
   "outputs": [
    {
     "data": {
      "text/html": [
       "<div>\n",
       "<style scoped>\n",
       "    .dataframe tbody tr th:only-of-type {\n",
       "        vertical-align: middle;\n",
       "    }\n",
       "\n",
       "    .dataframe tbody tr th {\n",
       "        vertical-align: top;\n",
       "    }\n",
       "\n",
       "    .dataframe thead th {\n",
       "        text-align: right;\n",
       "    }\n",
       "</style>\n",
       "<table border=\"1\" class=\"dataframe\">\n",
       "  <thead>\n",
       "    <tr style=\"text-align: right;\">\n",
       "      <th></th>\n",
       "      <th>age_enc</th>\n",
       "      <th>age_number</th>\n",
       "      <th>race_ethnicity_American Native</th>\n",
       "      <th>race_ethnicity_Asian or Pacific Islander</th>\n",
       "      <th>race_ethnicity_Black</th>\n",
       "      <th>race_ethnicity_Hispanic</th>\n",
       "      <th>race_ethnicity_White</th>\n",
       "      <th>crime_class_A Felony</th>\n",
       "      <th>crime_class_Aggravated Misdemeanor</th>\n",
       "      <th>crime_class_B Felony</th>\n",
       "      <th>...</th>\n",
       "      <th>super_dist_7JD</th>\n",
       "      <th>super_dist_8JD</th>\n",
       "      <th>super_dist_ISC</th>\n",
       "      <th>super_dist_Interstate Compact</th>\n",
       "      <th>super_dist_Missing</th>\n",
       "      <th>recidivist_Yes</th>\n",
       "      <th>target_pop_No</th>\n",
       "      <th>target_pop_Yes</th>\n",
       "      <th>sex_Female</th>\n",
       "      <th>sex_Male</th>\n",
       "    </tr>\n",
       "  </thead>\n",
       "  <tbody>\n",
       "    <tr>\n",
       "      <td>0</td>\n",
       "      <td>1.0</td>\n",
       "      <td>30.0</td>\n",
       "      <td>0</td>\n",
       "      <td>0</td>\n",
       "      <td>1</td>\n",
       "      <td>0</td>\n",
       "      <td>0</td>\n",
       "      <td>0</td>\n",
       "      <td>0</td>\n",
       "      <td>0</td>\n",
       "      <td>...</td>\n",
       "      <td>1</td>\n",
       "      <td>0</td>\n",
       "      <td>0</td>\n",
       "      <td>0</td>\n",
       "      <td>0</td>\n",
       "      <td>1</td>\n",
       "      <td>0</td>\n",
       "      <td>1</td>\n",
       "      <td>0</td>\n",
       "      <td>1</td>\n",
       "    </tr>\n",
       "    <tr>\n",
       "      <td>1</td>\n",
       "      <td>1.0</td>\n",
       "      <td>30.0</td>\n",
       "      <td>0</td>\n",
       "      <td>0</td>\n",
       "      <td>0</td>\n",
       "      <td>0</td>\n",
       "      <td>1</td>\n",
       "      <td>0</td>\n",
       "      <td>0</td>\n",
       "      <td>0</td>\n",
       "      <td>...</td>\n",
       "      <td>0</td>\n",
       "      <td>0</td>\n",
       "      <td>0</td>\n",
       "      <td>0</td>\n",
       "      <td>1</td>\n",
       "      <td>1</td>\n",
       "      <td>1</td>\n",
       "      <td>0</td>\n",
       "      <td>0</td>\n",
       "      <td>1</td>\n",
       "    </tr>\n",
       "    <tr>\n",
       "      <td>2</td>\n",
       "      <td>2.0</td>\n",
       "      <td>40.0</td>\n",
       "      <td>0</td>\n",
       "      <td>0</td>\n",
       "      <td>0</td>\n",
       "      <td>0</td>\n",
       "      <td>1</td>\n",
       "      <td>0</td>\n",
       "      <td>0</td>\n",
       "      <td>1</td>\n",
       "      <td>...</td>\n",
       "      <td>0</td>\n",
       "      <td>0</td>\n",
       "      <td>0</td>\n",
       "      <td>0</td>\n",
       "      <td>0</td>\n",
       "      <td>1</td>\n",
       "      <td>0</td>\n",
       "      <td>1</td>\n",
       "      <td>0</td>\n",
       "      <td>1</td>\n",
       "    </tr>\n",
       "    <tr>\n",
       "      <td>3</td>\n",
       "      <td>1.0</td>\n",
       "      <td>30.0</td>\n",
       "      <td>0</td>\n",
       "      <td>0</td>\n",
       "      <td>0</td>\n",
       "      <td>0</td>\n",
       "      <td>1</td>\n",
       "      <td>0</td>\n",
       "      <td>0</td>\n",
       "      <td>1</td>\n",
       "      <td>...</td>\n",
       "      <td>0</td>\n",
       "      <td>0</td>\n",
       "      <td>0</td>\n",
       "      <td>0</td>\n",
       "      <td>0</td>\n",
       "      <td>0</td>\n",
       "      <td>0</td>\n",
       "      <td>1</td>\n",
       "      <td>0</td>\n",
       "      <td>1</td>\n",
       "    </tr>\n",
       "    <tr>\n",
       "      <td>4</td>\n",
       "      <td>2.0</td>\n",
       "      <td>40.0</td>\n",
       "      <td>0</td>\n",
       "      <td>0</td>\n",
       "      <td>1</td>\n",
       "      <td>0</td>\n",
       "      <td>0</td>\n",
       "      <td>0</td>\n",
       "      <td>0</td>\n",
       "      <td>0</td>\n",
       "      <td>...</td>\n",
       "      <td>0</td>\n",
       "      <td>0</td>\n",
       "      <td>0</td>\n",
       "      <td>0</td>\n",
       "      <td>1</td>\n",
       "      <td>1</td>\n",
       "      <td>1</td>\n",
       "      <td>0</td>\n",
       "      <td>0</td>\n",
       "      <td>1</td>\n",
       "    </tr>\n",
       "  </tbody>\n",
       "</table>\n",
       "<p>5 rows × 75 columns</p>\n",
       "</div>"
      ],
      "text/plain": [
       "   age_enc  age_number  race_ethnicity_American Native  \\\n",
       "0      1.0        30.0                               0   \n",
       "1      1.0        30.0                               0   \n",
       "2      2.0        40.0                               0   \n",
       "3      1.0        30.0                               0   \n",
       "4      2.0        40.0                               0   \n",
       "\n",
       "   race_ethnicity_Asian or Pacific Islander  race_ethnicity_Black  \\\n",
       "0                                         0                     1   \n",
       "1                                         0                     0   \n",
       "2                                         0                     0   \n",
       "3                                         0                     0   \n",
       "4                                         0                     1   \n",
       "\n",
       "   race_ethnicity_Hispanic  race_ethnicity_White  crime_class_A Felony  \\\n",
       "0                        0                     0                     0   \n",
       "1                        0                     1                     0   \n",
       "2                        0                     1                     0   \n",
       "3                        0                     1                     0   \n",
       "4                        0                     0                     0   \n",
       "\n",
       "   crime_class_Aggravated Misdemeanor  crime_class_B Felony  ...  \\\n",
       "0                                   0                     0  ...   \n",
       "1                                   0                     0  ...   \n",
       "2                                   0                     1  ...   \n",
       "3                                   0                     1  ...   \n",
       "4                                   0                     0  ...   \n",
       "\n",
       "   super_dist_7JD  super_dist_8JD  super_dist_ISC  \\\n",
       "0               1               0               0   \n",
       "1               0               0               0   \n",
       "2               0               0               0   \n",
       "3               0               0               0   \n",
       "4               0               0               0   \n",
       "\n",
       "   super_dist_Interstate Compact  super_dist_Missing  recidivist_Yes  \\\n",
       "0                              0                   0               1   \n",
       "1                              0                   1               1   \n",
       "2                              0                   0               1   \n",
       "3                              0                   0               0   \n",
       "4                              0                   1               1   \n",
       "\n",
       "   target_pop_No  target_pop_Yes  sex_Female  sex_Male  \n",
       "0              0               1           0         1  \n",
       "1              1               0           0         1  \n",
       "2              0               1           0         1  \n",
       "3              0               1           0         1  \n",
       "4              1               0           0         1  \n",
       "\n",
       "[5 rows x 75 columns]"
      ]
     },
     "execution_count": 23,
     "metadata": {},
     "output_type": "execute_result"
    }
   ],
   "source": [
    "df.head()"
   ]
  },
  {
   "cell_type": "code",
   "execution_count": 24,
   "metadata": {
    "ExecuteTime": {
     "end_time": "2020-04-11T18:58:09.533074Z",
     "start_time": "2020-04-11T18:58:09.507051Z"
    }
   },
   "outputs": [
    {
     "data": {
      "text/html": [
       "<div>\n",
       "<style scoped>\n",
       "    .dataframe tbody tr th:only-of-type {\n",
       "        vertical-align: middle;\n",
       "    }\n",
       "\n",
       "    .dataframe tbody tr th {\n",
       "        vertical-align: top;\n",
       "    }\n",
       "\n",
       "    .dataframe thead th {\n",
       "        text-align: right;\n",
       "    }\n",
       "</style>\n",
       "<table border=\"1\" class=\"dataframe\">\n",
       "  <thead>\n",
       "    <tr style=\"text-align: right;\">\n",
       "      <th></th>\n",
       "      <th>age_enc</th>\n",
       "      <th>age_number</th>\n",
       "      <th>race_ethnicity_American Native</th>\n",
       "      <th>race_ethnicity_Asian or Pacific Islander</th>\n",
       "      <th>race_ethnicity_Black</th>\n",
       "      <th>race_ethnicity_Hispanic</th>\n",
       "      <th>race_ethnicity_White</th>\n",
       "      <th>crime_class_A Felony</th>\n",
       "      <th>crime_class_Aggravated Misdemeanor</th>\n",
       "      <th>crime_class_B Felony</th>\n",
       "      <th>...</th>\n",
       "      <th>super_dist_6JD</th>\n",
       "      <th>super_dist_7JD</th>\n",
       "      <th>super_dist_8JD</th>\n",
       "      <th>super_dist_ISC</th>\n",
       "      <th>super_dist_Interstate Compact</th>\n",
       "      <th>super_dist_Missing</th>\n",
       "      <th>target_pop_No</th>\n",
       "      <th>target_pop_Yes</th>\n",
       "      <th>sex_Female</th>\n",
       "      <th>sex_Male</th>\n",
       "    </tr>\n",
       "  </thead>\n",
       "  <tbody>\n",
       "    <tr>\n",
       "      <td>0</td>\n",
       "      <td>1.0</td>\n",
       "      <td>30.0</td>\n",
       "      <td>0</td>\n",
       "      <td>0</td>\n",
       "      <td>1</td>\n",
       "      <td>0</td>\n",
       "      <td>0</td>\n",
       "      <td>0</td>\n",
       "      <td>0</td>\n",
       "      <td>0</td>\n",
       "      <td>...</td>\n",
       "      <td>0</td>\n",
       "      <td>1</td>\n",
       "      <td>0</td>\n",
       "      <td>0</td>\n",
       "      <td>0</td>\n",
       "      <td>0</td>\n",
       "      <td>0</td>\n",
       "      <td>1</td>\n",
       "      <td>0</td>\n",
       "      <td>1</td>\n",
       "    </tr>\n",
       "    <tr>\n",
       "      <td>1</td>\n",
       "      <td>1.0</td>\n",
       "      <td>30.0</td>\n",
       "      <td>0</td>\n",
       "      <td>0</td>\n",
       "      <td>0</td>\n",
       "      <td>0</td>\n",
       "      <td>1</td>\n",
       "      <td>0</td>\n",
       "      <td>0</td>\n",
       "      <td>0</td>\n",
       "      <td>...</td>\n",
       "      <td>0</td>\n",
       "      <td>0</td>\n",
       "      <td>0</td>\n",
       "      <td>0</td>\n",
       "      <td>0</td>\n",
       "      <td>1</td>\n",
       "      <td>1</td>\n",
       "      <td>0</td>\n",
       "      <td>0</td>\n",
       "      <td>1</td>\n",
       "    </tr>\n",
       "    <tr>\n",
       "      <td>2</td>\n",
       "      <td>2.0</td>\n",
       "      <td>40.0</td>\n",
       "      <td>0</td>\n",
       "      <td>0</td>\n",
       "      <td>0</td>\n",
       "      <td>0</td>\n",
       "      <td>1</td>\n",
       "      <td>0</td>\n",
       "      <td>0</td>\n",
       "      <td>1</td>\n",
       "      <td>...</td>\n",
       "      <td>0</td>\n",
       "      <td>0</td>\n",
       "      <td>0</td>\n",
       "      <td>0</td>\n",
       "      <td>0</td>\n",
       "      <td>0</td>\n",
       "      <td>0</td>\n",
       "      <td>1</td>\n",
       "      <td>0</td>\n",
       "      <td>1</td>\n",
       "    </tr>\n",
       "    <tr>\n",
       "      <td>3</td>\n",
       "      <td>1.0</td>\n",
       "      <td>30.0</td>\n",
       "      <td>0</td>\n",
       "      <td>0</td>\n",
       "      <td>0</td>\n",
       "      <td>0</td>\n",
       "      <td>1</td>\n",
       "      <td>0</td>\n",
       "      <td>0</td>\n",
       "      <td>1</td>\n",
       "      <td>...</td>\n",
       "      <td>1</td>\n",
       "      <td>0</td>\n",
       "      <td>0</td>\n",
       "      <td>0</td>\n",
       "      <td>0</td>\n",
       "      <td>0</td>\n",
       "      <td>0</td>\n",
       "      <td>1</td>\n",
       "      <td>0</td>\n",
       "      <td>1</td>\n",
       "    </tr>\n",
       "    <tr>\n",
       "      <td>4</td>\n",
       "      <td>2.0</td>\n",
       "      <td>40.0</td>\n",
       "      <td>0</td>\n",
       "      <td>0</td>\n",
       "      <td>1</td>\n",
       "      <td>0</td>\n",
       "      <td>0</td>\n",
       "      <td>0</td>\n",
       "      <td>0</td>\n",
       "      <td>0</td>\n",
       "      <td>...</td>\n",
       "      <td>0</td>\n",
       "      <td>0</td>\n",
       "      <td>0</td>\n",
       "      <td>0</td>\n",
       "      <td>0</td>\n",
       "      <td>1</td>\n",
       "      <td>1</td>\n",
       "      <td>0</td>\n",
       "      <td>0</td>\n",
       "      <td>1</td>\n",
       "    </tr>\n",
       "    <tr>\n",
       "      <td>...</td>\n",
       "      <td>...</td>\n",
       "      <td>...</td>\n",
       "      <td>...</td>\n",
       "      <td>...</td>\n",
       "      <td>...</td>\n",
       "      <td>...</td>\n",
       "      <td>...</td>\n",
       "      <td>...</td>\n",
       "      <td>...</td>\n",
       "      <td>...</td>\n",
       "      <td>...</td>\n",
       "      <td>...</td>\n",
       "      <td>...</td>\n",
       "      <td>...</td>\n",
       "      <td>...</td>\n",
       "      <td>...</td>\n",
       "      <td>...</td>\n",
       "      <td>...</td>\n",
       "      <td>...</td>\n",
       "      <td>...</td>\n",
       "      <td>...</td>\n",
       "    </tr>\n",
       "    <tr>\n",
       "      <td>26015</td>\n",
       "      <td>0.0</td>\n",
       "      <td>20.0</td>\n",
       "      <td>0</td>\n",
       "      <td>0</td>\n",
       "      <td>0</td>\n",
       "      <td>1</td>\n",
       "      <td>0</td>\n",
       "      <td>0</td>\n",
       "      <td>0</td>\n",
       "      <td>0</td>\n",
       "      <td>...</td>\n",
       "      <td>0</td>\n",
       "      <td>0</td>\n",
       "      <td>0</td>\n",
       "      <td>0</td>\n",
       "      <td>0</td>\n",
       "      <td>1</td>\n",
       "      <td>0</td>\n",
       "      <td>1</td>\n",
       "      <td>0</td>\n",
       "      <td>1</td>\n",
       "    </tr>\n",
       "    <tr>\n",
       "      <td>26016</td>\n",
       "      <td>2.0</td>\n",
       "      <td>40.0</td>\n",
       "      <td>0</td>\n",
       "      <td>0</td>\n",
       "      <td>0</td>\n",
       "      <td>0</td>\n",
       "      <td>1</td>\n",
       "      <td>0</td>\n",
       "      <td>0</td>\n",
       "      <td>0</td>\n",
       "      <td>...</td>\n",
       "      <td>1</td>\n",
       "      <td>0</td>\n",
       "      <td>0</td>\n",
       "      <td>0</td>\n",
       "      <td>0</td>\n",
       "      <td>0</td>\n",
       "      <td>1</td>\n",
       "      <td>0</td>\n",
       "      <td>0</td>\n",
       "      <td>1</td>\n",
       "    </tr>\n",
       "    <tr>\n",
       "      <td>26017</td>\n",
       "      <td>1.0</td>\n",
       "      <td>30.0</td>\n",
       "      <td>0</td>\n",
       "      <td>0</td>\n",
       "      <td>0</td>\n",
       "      <td>0</td>\n",
       "      <td>1</td>\n",
       "      <td>0</td>\n",
       "      <td>1</td>\n",
       "      <td>0</td>\n",
       "      <td>...</td>\n",
       "      <td>0</td>\n",
       "      <td>0</td>\n",
       "      <td>0</td>\n",
       "      <td>0</td>\n",
       "      <td>0</td>\n",
       "      <td>0</td>\n",
       "      <td>1</td>\n",
       "      <td>0</td>\n",
       "      <td>1</td>\n",
       "      <td>0</td>\n",
       "    </tr>\n",
       "    <tr>\n",
       "      <td>26018</td>\n",
       "      <td>1.0</td>\n",
       "      <td>30.0</td>\n",
       "      <td>0</td>\n",
       "      <td>0</td>\n",
       "      <td>0</td>\n",
       "      <td>0</td>\n",
       "      <td>1</td>\n",
       "      <td>0</td>\n",
       "      <td>0</td>\n",
       "      <td>0</td>\n",
       "      <td>...</td>\n",
       "      <td>0</td>\n",
       "      <td>0</td>\n",
       "      <td>0</td>\n",
       "      <td>0</td>\n",
       "      <td>0</td>\n",
       "      <td>0</td>\n",
       "      <td>0</td>\n",
       "      <td>1</td>\n",
       "      <td>0</td>\n",
       "      <td>1</td>\n",
       "    </tr>\n",
       "    <tr>\n",
       "      <td>26019</td>\n",
       "      <td>2.0</td>\n",
       "      <td>40.0</td>\n",
       "      <td>0</td>\n",
       "      <td>0</td>\n",
       "      <td>0</td>\n",
       "      <td>0</td>\n",
       "      <td>1</td>\n",
       "      <td>0</td>\n",
       "      <td>0</td>\n",
       "      <td>0</td>\n",
       "      <td>...</td>\n",
       "      <td>0</td>\n",
       "      <td>0</td>\n",
       "      <td>0</td>\n",
       "      <td>0</td>\n",
       "      <td>0</td>\n",
       "      <td>1</td>\n",
       "      <td>0</td>\n",
       "      <td>1</td>\n",
       "      <td>0</td>\n",
       "      <td>1</td>\n",
       "    </tr>\n",
       "  </tbody>\n",
       "</table>\n",
       "<p>25965 rows × 74 columns</p>\n",
       "</div>"
      ],
      "text/plain": [
       "       age_enc  age_number  race_ethnicity_American Native  \\\n",
       "0          1.0        30.0                               0   \n",
       "1          1.0        30.0                               0   \n",
       "2          2.0        40.0                               0   \n",
       "3          1.0        30.0                               0   \n",
       "4          2.0        40.0                               0   \n",
       "...        ...         ...                             ...   \n",
       "26015      0.0        20.0                               0   \n",
       "26016      2.0        40.0                               0   \n",
       "26017      1.0        30.0                               0   \n",
       "26018      1.0        30.0                               0   \n",
       "26019      2.0        40.0                               0   \n",
       "\n",
       "       race_ethnicity_Asian or Pacific Islander  race_ethnicity_Black  \\\n",
       "0                                             0                     1   \n",
       "1                                             0                     0   \n",
       "2                                             0                     0   \n",
       "3                                             0                     0   \n",
       "4                                             0                     1   \n",
       "...                                         ...                   ...   \n",
       "26015                                         0                     0   \n",
       "26016                                         0                     0   \n",
       "26017                                         0                     0   \n",
       "26018                                         0                     0   \n",
       "26019                                         0                     0   \n",
       "\n",
       "       race_ethnicity_Hispanic  race_ethnicity_White  crime_class_A Felony  \\\n",
       "0                            0                     0                     0   \n",
       "1                            0                     1                     0   \n",
       "2                            0                     1                     0   \n",
       "3                            0                     1                     0   \n",
       "4                            0                     0                     0   \n",
       "...                        ...                   ...                   ...   \n",
       "26015                        1                     0                     0   \n",
       "26016                        0                     1                     0   \n",
       "26017                        0                     1                     0   \n",
       "26018                        0                     1                     0   \n",
       "26019                        0                     1                     0   \n",
       "\n",
       "       crime_class_Aggravated Misdemeanor  crime_class_B Felony  ...  \\\n",
       "0                                       0                     0  ...   \n",
       "1                                       0                     0  ...   \n",
       "2                                       0                     1  ...   \n",
       "3                                       0                     1  ...   \n",
       "4                                       0                     0  ...   \n",
       "...                                   ...                   ...  ...   \n",
       "26015                                   0                     0  ...   \n",
       "26016                                   0                     0  ...   \n",
       "26017                                   1                     0  ...   \n",
       "26018                                   0                     0  ...   \n",
       "26019                                   0                     0  ...   \n",
       "\n",
       "       super_dist_6JD  super_dist_7JD  super_dist_8JD  super_dist_ISC  \\\n",
       "0                   0               1               0               0   \n",
       "1                   0               0               0               0   \n",
       "2                   0               0               0               0   \n",
       "3                   1               0               0               0   \n",
       "4                   0               0               0               0   \n",
       "...               ...             ...             ...             ...   \n",
       "26015               0               0               0               0   \n",
       "26016               1               0               0               0   \n",
       "26017               0               0               0               0   \n",
       "26018               0               0               0               0   \n",
       "26019               0               0               0               0   \n",
       "\n",
       "       super_dist_Interstate Compact  super_dist_Missing  target_pop_No  \\\n",
       "0                                  0                   0              0   \n",
       "1                                  0                   1              1   \n",
       "2                                  0                   0              0   \n",
       "3                                  0                   0              0   \n",
       "4                                  0                   1              1   \n",
       "...                              ...                 ...            ...   \n",
       "26015                              0                   1              0   \n",
       "26016                              0                   0              1   \n",
       "26017                              0                   0              1   \n",
       "26018                              0                   0              0   \n",
       "26019                              0                   1              0   \n",
       "\n",
       "       target_pop_Yes  sex_Female  sex_Male  \n",
       "0                   1           0         1  \n",
       "1                   0           0         1  \n",
       "2                   1           0         1  \n",
       "3                   1           0         1  \n",
       "4                   0           0         1  \n",
       "...               ...         ...       ...  \n",
       "26015               1           0         1  \n",
       "26016               0           0         1  \n",
       "26017               0           1         0  \n",
       "26018               1           0         1  \n",
       "26019               1           0         1  \n",
       "\n",
       "[25965 rows x 74 columns]"
      ]
     },
     "execution_count": 24,
     "metadata": {},
     "output_type": "execute_result"
    }
   ],
   "source": [
    "y = df.pop('recidivist_Yes')\n",
    "df"
   ]
  },
  {
   "cell_type": "code",
   "execution_count": 25,
   "metadata": {
    "ExecuteTime": {
     "end_time": "2020-04-11T18:58:09.545233Z",
     "start_time": "2020-04-11T18:58:09.534416Z"
    }
   },
   "outputs": [],
   "source": [
    "from sklearn.model_selection import train_test_split\n",
    "\n",
    "## Train test split\n",
    "X_train, X_test, y_train,y_test  = train_test_split(df,y,test_size=.3)"
   ]
  },
  {
   "cell_type": "markdown",
   "metadata": {},
   "source": [
    "## ADDRESSING IMBALANCED CLASSES\n",
    "\n",
    "- Downsample/undersampling to match minority class.\n",
    "- Synthetic Minority Over Sampling Technique (SMOTE)\n",
    "-  Adaptive Synthetic (ADASYN)\n",
    "<img src=\"https://raw.githubusercontent.com/jirvingphd/fsds_100719_cohort_notes/master/Flashcards/Downsampling_web.png\" width=10%>"
   ]
  },
  {
   "cell_type": "code",
   "execution_count": 26,
   "metadata": {
    "ExecuteTime": {
     "end_time": "2020-04-11T18:58:09.554181Z",
     "start_time": "2020-04-11T18:58:09.547241Z"
    }
   },
   "outputs": [
    {
     "data": {
      "text/plain": [
       "0    0.66608\n",
       "1    0.33392\n",
       "Name: recidivist_Yes, dtype: float64"
      ]
     },
     "execution_count": 26,
     "metadata": {},
     "output_type": "execute_result"
    }
   ],
   "source": [
    "## Check class\n",
    "y_train.value_counts(normalize=True)"
   ]
  },
  {
   "cell_type": "code",
   "execution_count": 27,
   "metadata": {
    "ExecuteTime": {
     "end_time": "2020-04-11T18:58:12.067382Z",
     "start_time": "2020-04-11T18:58:09.555802Z"
    }
   },
   "outputs": [
    {
     "name": "stderr",
     "output_type": "stream",
     "text": [
      "Using TensorFlow backend.\n"
     ]
    }
   ],
   "source": [
    "from imblearn.over_sampling import SMOTE\n",
    "smote = SMOTE()\n",
    "X_train, y_train = smote.fit_sample(X_train, y_train)"
   ]
  },
  {
   "cell_type": "code",
   "execution_count": 28,
   "metadata": {
    "ExecuteTime": {
     "end_time": "2020-04-11T18:58:12.075460Z",
     "start_time": "2020-04-11T18:58:12.068823Z"
    }
   },
   "outputs": [
    {
     "data": {
      "text/plain": [
       "1    12106\n",
       "0    12106\n",
       "Name: recidivist_Yes, dtype: int64"
      ]
     },
     "execution_count": 28,
     "metadata": {},
     "output_type": "execute_result"
    }
   ],
   "source": [
    "pd.Series(y_train).value_counts()"
   ]
  },
  {
   "cell_type": "markdown",
   "metadata": {
    "slideshow": {
     "slide_type": "slide"
    }
   },
   "source": [
    "## Defining the Problem & Fitting a Decision Tree\n",
    "\n",
    "Now, import the necessary packages and fit a decision tree to predict whether or not a mushroom is poisonous (this is stored under the 'class' feature as 'e' for edible, or 'p' for poisonous."
   ]
  },
  {
   "cell_type": "markdown",
   "metadata": {},
   "source": [
    "### Functions from Prior Classes"
   ]
  },
  {
   "cell_type": "code",
   "execution_count": 29,
   "metadata": {
    "ExecuteTime": {
     "end_time": "2020-04-11T18:58:12.084964Z",
     "start_time": "2020-04-11T18:58:12.077092Z"
    }
   },
   "outputs": [],
   "source": [
    "## Write a fucntion to evalute the model\n",
    "import sklearn.metrics as metrics\n",
    "\n",
    "def evaluate_model(y_true, y_pred,X_true,clf):\n",
    "    \n",
    "    ## Classification Report / Scores \n",
    "    print(metrics.classification_report(y_true,y_pred))\n",
    "\n",
    "    fig, ax = plt.subplots(figsize=(10,4),ncols=2)\n",
    "    metrics.plot_confusion_matrix(clf,X_true,y_true,cmap=\"Greens\",\n",
    "                                  normalize='true',ax=ax[0])\n",
    "    ax[0].set(title='Confusion Matrix')\n",
    "    y_score = clf.predict_proba(X_true)[:,1]\n",
    "\n",
    "    fpr,tpr,thresh = metrics.roc_curve(y_true,y_score)\n",
    "    # print(f\"ROC-area-under-the-curve= {}\")\n",
    "    roc_auc = round(metrics.auc(fpr,tpr),3)\n",
    "    ax[1].plot(fpr,tpr,color='darkorange',label=f'ROC Curve (AUC={roc_auc})')\n",
    "    ax[1].plot([0,1],[0,1],ls=':')\n",
    "    ax[1].legend()\n",
    "    ax[1].grid()\n",
    "    ax[1].set(ylabel='True Positive Rate',xlabel='False Positive Rate',\n",
    "          title='Receiver operating characteristic (ROC) Curve')\n",
    "    plt.tight_layout()\n",
    "    plt.show()\n",
    "    try: \n",
    "        df_important = plot_importance(clf)\n",
    "    except:\n",
    "        df_important = None\n",
    "    \n",
    "#     return df_important"
   ]
  },
  {
   "cell_type": "markdown",
   "metadata": {},
   "source": [
    "## Vanilla DecisionTree (baseline)"
   ]
  },
  {
   "cell_type": "code",
   "execution_count": 30,
   "metadata": {
    "ExecuteTime": {
     "end_time": "2020-04-11T18:58:12.089542Z",
     "start_time": "2020-04-11T18:58:12.086644Z"
    }
   },
   "outputs": [],
   "source": [
    "from sklearn.tree import DecisionTreeClassifier\n",
    "tree = DecisionTreeClassifier(max_depth=5) # setting max_depth=5 for visualization"
   ]
  },
  {
   "cell_type": "code",
   "execution_count": 31,
   "metadata": {
    "ExecuteTime": {
     "end_time": "2020-04-11T18:58:12.152060Z",
     "start_time": "2020-04-11T18:58:12.091459Z"
    }
   },
   "outputs": [
    {
     "data": {
      "text/plain": [
       "DecisionTreeClassifier(ccp_alpha=0.0, class_weight=None, criterion='gini',\n",
       "                       max_depth=5, max_features=None, max_leaf_nodes=None,\n",
       "                       min_impurity_decrease=0.0, min_impurity_split=None,\n",
       "                       min_samples_leaf=1, min_samples_split=2,\n",
       "                       min_weight_fraction_leaf=0.0, presort='deprecated',\n",
       "                       random_state=None, splitter='best')"
      ]
     },
     "execution_count": 31,
     "metadata": {},
     "output_type": "execute_result"
    }
   ],
   "source": [
    "tree.fit(X_train,y_train)"
   ]
  },
  {
   "cell_type": "code",
   "execution_count": 32,
   "metadata": {
    "ExecuteTime": {
     "end_time": "2020-04-11T18:58:12.161641Z",
     "start_time": "2020-04-11T18:58:12.154133Z"
    },
    "scrolled": true
   },
   "outputs": [
    {
     "data": {
      "text/plain": [
       "crime_subtype_Prostitution/Pimping    0.000000\n",
       "super_dist_8JD                        0.000000\n",
       "crime_subtype_Other Public Order      0.000000\n",
       "crime_subtype_Robbery                 0.000000\n",
       "crime_subtype_Sex                     0.000000\n",
       "                                        ...   \n",
       "target_pop_Yes                        0.058127\n",
       "age_enc                               0.064164\n",
       "super_dist_Interstate Compact         0.089309\n",
       "super_dist_ISC                        0.093700\n",
       "super_dist_Missing                    0.488383\n",
       "Name: Importance, Length: 74, dtype: float64"
      ]
     },
     "execution_count": 32,
     "metadata": {},
     "output_type": "execute_result"
    }
   ],
   "source": [
    "df_import = pd.Series(tree.feature_importances_, index = X_train.columns,name='Importance')\n",
    "df_import.sort_values()"
   ]
  },
  {
   "cell_type": "code",
   "execution_count": 33,
   "metadata": {
    "ExecuteTime": {
     "end_time": "2020-04-11T18:58:12.166385Z",
     "start_time": "2020-04-11T18:58:12.163868Z"
    }
   },
   "outputs": [],
   "source": [
    "# df_import.sort_values(ascending=True).tail(10).plot(kind='barh',figsize=(12,10))"
   ]
  },
  {
   "cell_type": "code",
   "execution_count": 34,
   "metadata": {
    "ExecuteTime": {
     "end_time": "2020-04-11T18:58:12.431682Z",
     "start_time": "2020-04-11T18:58:12.168312Z"
    }
   },
   "outputs": [
    {
     "data": {
      "image/png": "[encoded data removed]",
      "text/plain": [
       "<Figure size 720x720 with 1 Axes>"
      ]
     },
     "metadata": {
      "needs_background": "light"
     },
     "output_type": "display_data"
    }
   ],
   "source": [
    "def plot_importance(tree, top_n=10,figsize=(10,10)):\n",
    "    df_importance = pd.Series(tree.feature_importances_,index=X_train.columns)\n",
    "    df_importance.sort_values(ascending=True).tail(top_n).plot(\n",
    "        kind='barh',figsize=figsize)\n",
    "    return df_importance\n",
    "plot_importance(tree);"
   ]
  },
  {
   "cell_type": "markdown",
   "metadata": {},
   "source": [
    "## OFFICER HOURS: USE SHAP TO CONFRIM"
   ]
  },
  {
   "cell_type": "code",
   "execution_count": 42,
   "metadata": {
    "ExecuteTime": {
     "end_time": "2020-04-11T19:38:27.653385Z",
     "start_time": "2020-04-11T19:38:27.640240Z"
    }
   },
   "outputs": [
    {
     "data": {
      "text/html": [
       "<div>\n",
       "<style scoped>\n",
       "    .dataframe tbody tr th:only-of-type {\n",
       "        vertical-align: middle;\n",
       "    }\n",
       "\n",
       "    .dataframe tbody tr th {\n",
       "        vertical-align: top;\n",
       "    }\n",
       "\n",
       "    .dataframe thead th {\n",
       "        text-align: right;\n",
       "    }\n",
       "</style>\n",
       "<table border=\"1\" class=\"dataframe\">\n",
       "  <thead>\n",
       "    <tr style=\"text-align: right;\">\n",
       "      <th></th>\n",
       "      <th>super_dist_Missing</th>\n",
       "      <th>age_enc</th>\n",
       "      <th>recidivist_Yes</th>\n",
       "    </tr>\n",
       "  </thead>\n",
       "  <tbody>\n",
       "    <tr>\n",
       "      <td>super_dist_Missing</td>\n",
       "      <td>1.000000</td>\n",
       "      <td>-0.020473</td>\n",
       "      <td>-0.218253</td>\n",
       "    </tr>\n",
       "    <tr>\n",
       "      <td>age_enc</td>\n",
       "      <td>-0.020473</td>\n",
       "      <td>1.000000</td>\n",
       "      <td>-0.096515</td>\n",
       "    </tr>\n",
       "    <tr>\n",
       "      <td>recidivist_Yes</td>\n",
       "      <td>-0.218253</td>\n",
       "      <td>-0.096515</td>\n",
       "      <td>1.000000</td>\n",
       "    </tr>\n",
       "  </tbody>\n",
       "</table>\n",
       "</div>"
      ],
      "text/plain": [
       "                    super_dist_Missing   age_enc  recidivist_Yes\n",
       "super_dist_Missing            1.000000 -0.020473       -0.218253\n",
       "age_enc                      -0.020473  1.000000       -0.096515\n",
       "recidivist_Yes               -0.218253 -0.096515        1.000000"
      ]
     },
     "execution_count": 42,
     "metadata": {},
     "output_type": "execute_result"
    }
   ],
   "source": [
    "pd.concat([X_train,y_train],axis=1)[['super_dist_Missing','age_enc','recidivist_Yes']].corr()"
   ]
  },
  {
   "cell_type": "code",
   "execution_count": 43,
   "metadata": {
    "ExecuteTime": {
     "end_time": "2020-04-11T19:42:23.660169Z",
     "start_time": "2020-04-11T19:42:23.652976Z"
    }
   },
   "outputs": [],
   "source": [
    "## Write a fucntion to evalute the model\n",
    "import sklearn.metrics as metrics\n",
    "\n",
    "def evaluate_model(y_true, y_pred,X_true,clf):\n",
    "    \n",
    "    ## Classification Report / Scores \n",
    "    print(metrics.classification_report(y_true,y_pred))\n",
    "\n",
    "    fig, ax = plt.subplots(figsize=(12,6),ncols=2)\n",
    "    metrics.plot_confusion_matrix(clf,X_true,y_true,cmap=\"Greens\",\n",
    "                                  normalize='true',ax=ax[0])\n",
    "    ax[0].set(title='Confusion Matrix')\n",
    "    y_score = clf.predict_proba(X_true)[:,1]\n",
    "\n",
    "    fpr,tpr,thresh = metrics.roc_curve(y_true,y_score)\n",
    "    # print(f\"ROC-area-under-the-curve= {}\")\n",
    "    roc_auc = round(metrics.auc(fpr,tpr),3)\n",
    "    ax[1].plot(fpr,tpr,color='darkorange',label=f'AUC={roc_auc}')\n",
    "    ax[1].plot([0,1],[0,1],ls=':')\n",
    "    ax[1].legend()\n",
    "    ax[1].grid()\n",
    "    ax[1].set(ylabel='True Positive Rate',xlabel='False Positive Rate',\n",
    "          title='Receiver operating characteristic (ROC) Curve')\n",
    "    plt.tight_layout()\n",
    "    plt.show()\n",
    "    try: \n",
    "        df_important = plot_importance(clf)\n",
    "    except:\n",
    "        df_important = None\n",
    "    "
   ]
  },
  {
   "cell_type": "code",
   "execution_count": 36,
   "metadata": {
    "ExecuteTime": {
     "end_time": "2020-04-11T18:58:13.123222Z",
     "start_time": "2020-04-11T18:58:12.442485Z"
    }
   },
   "outputs": [
    {
     "name": "stdout",
     "output_type": "stream",
     "text": [
      "              precision    recall  f1-score   support\n",
      "\n",
      "           0       0.78      0.54      0.64      5184\n",
      "           1       0.43      0.69      0.53      2606\n",
      "\n",
      "    accuracy                           0.59      7790\n",
      "   macro avg       0.60      0.62      0.58      7790\n",
      "weighted avg       0.66      0.59      0.60      7790\n",
      "\n"
     ]
    },
    {
     "data": {
      "image/png": "[encoded data removed]",
      "text/plain": [
       "<Figure size 864x432 with 3 Axes>"
      ]
     },
     "metadata": {
      "needs_background": "light"
     },
     "output_type": "display_data"
    },
    {
     "data": {
      "image/png": "[encoded data removed]",
      "text/plain": [
       "<Figure size 720x720 with 1 Axes>"
      ]
     },
     "metadata": {
      "needs_background": "light"
     },
     "output_type": "display_data"
    }
   ],
   "source": [
    "## Get Precitions\n",
    "y_hat_test = tree.predict(X_test)\n",
    "\n",
    "\n",
    "#     return df_important\n",
    "evaluate_model(y_test,y_hat_test,X_test,tree)"
   ]
  },
  {
   "cell_type": "code",
   "execution_count": 52,
   "metadata": {
    "ExecuteTime": {
     "end_time": "2020-04-11T19:52:25.568535Z",
     "start_time": "2020-04-11T19:52:25.561533Z"
    }
   },
   "outputs": [],
   "source": [
    "## visualize the decision tree\n",
    "def visualize_tree(tree,feature_names=None,class_names=['0','1'],\n",
    "                   kws={},save_filename=None,format_='png',save_and_show=False):\n",
    "    \"\"\"Visualizes a sklearn tree using sklearn.tree.export_graphviz\"\"\"\n",
    "    from sklearn.tree import export_graphviz\n",
    "    from IPython.display import SVG\n",
    "    import graphviz #import Source\n",
    "    from IPython.display import display\n",
    "    \n",
    "    if feature_names is None:\n",
    "        feature_names=X_train.columns\n",
    "\n",
    "    tree_viz_kws =  dict(out_file=None,rounded=True, rotate=False, filled = True)\n",
    "    tree_viz_kws.update(kws)\n",
    "\n",
    "    # tree.export_graphviz(dt) #if you wish to save the output to a dot file instead\n",
    "    tree_data=export_graphviz(tree,feature_names=feature_names, \n",
    "                                   class_names=class_names,**tree_viz_kws)\n",
    "    graph = graphviz.Source(tree_data,format=format_)#'png')\n",
    "    \n",
    "    if save_filename is not None:\n",
    "        graph.render(save_filename)\n",
    "        if save_and_show:\n",
    "            display(graph)\n",
    "        else:\n",
    "            print(f'[i] Tree saved as {save_filename}.{format_}')\n",
    "    else:\n",
    "        display(graph)\n",
    "\n",
    "#     display(SVG(graph.pipe(format=format_)))#'svg')))"
   ]
  },
  {
   "cell_type": "code",
   "execution_count": 54,
   "metadata": {
    "ExecuteTime": {
     "end_time": "2020-04-11T19:52:39.710730Z",
     "start_time": "2020-04-11T19:52:39.706795Z"
    }
   },
   "outputs": [
    {
     "data": {
      "text/plain": [
       "74"
      ]
     },
     "execution_count": 54,
     "metadata": {},
     "output_type": "execute_result"
    }
   ],
   "source": [
    "len(X_train.columns)"
   ]
  },
  {
   "cell_type": "code",
   "execution_count": 45,
   "metadata": {
    "ExecuteTime": {
     "end_time": "2020-04-11T19:45:02.491154Z",
     "start_time": "2020-04-11T19:45:01.890158Z"
    },
    "scrolled": false
   },
   "outputs": [
    {
     "data": {
      "image/svg+xml": [
       "<?xml version=\"1.0\" encoding=\"UTF-8\" standalone=\"no\"?>\n",
       "<!DOCTYPE svg PUBLIC \"-//W3C//DTD SVG 1.1//EN\"\n",
       " \"http://www.w3.org/Graphics/SVG/1.1/DTD/svg11.dtd\">\n",
       "<!-- Generated by graphviz version 2.40.1 (20161225.0304)\n",
       " -->\n",
       "<!-- Title: Tree Pages: 1 -->\n",
       "<svg width=\"3845pt\" height=\"671pt\"\n",
       " viewBox=\"0.00 0.00 3844.50 671.00\" xmlns=\"http://www.w3.org/2000/svg\" xmlns:xlink=\"http://www.w3.org/1999/xlink\">\n",
       "<g id=\"graph0\" class=\"graph\" transform=\"scale(1 1) rotate(0) translate(4 667)\">\n",
       "<title>Tree</title>\n",
       "<polygon fill=\"#ffffff\" stroke=\"transparent\" points=\"-4,4 -4,-667 3840.5,-667 3840.5,4 -4,4\"/>\n",
       "<!-- 0 -->\n",
       "<g id=\"node1\" class=\"node\">\n",
       "<title>0</title>\n",
       "<path fill=\"#ffffff\" stroke=\"#000000\" d=\"M2016,-663C2016,-663 1860,-663 1860,-663 1854,-663 1848,-657 1848,-651 1848,-651 1848,-592 1848,-592 1848,-586 1854,-580 1860,-580 1860,-580 2016,-580 2016,-580 2022,-580 2028,-586 2028,-592 2028,-592 2028,-651 2028,-651 2028,-657 2022,-663 2016,-663\"/>\n",
       "<text text-anchor=\"middle\" x=\"1938\" y=\"-647.8\" font-family=\"Helvetica,sans-Serif\" font-size=\"14.00\" fill=\"#000000\">super_dist_Missing &lt;= 0.5</text>\n",
       "<text text-anchor=\"middle\" x=\"1938\" y=\"-632.8\" font-family=\"Helvetica,sans-Serif\" font-size=\"14.00\" fill=\"#000000\">gini = 0.5</text>\n",
       "<text text-anchor=\"middle\" x=\"1938\" y=\"-617.8\" font-family=\"Helvetica,sans-Serif\" font-size=\"14.00\" fill=\"#000000\">samples = 24212</text>\n",
       "<text text-anchor=\"middle\" x=\"1938\" y=\"-602.8\" font-family=\"Helvetica,sans-Serif\" font-size=\"14.00\" fill=\"#000000\">value = [12106, 12106]</text>\n",
       "<text text-anchor=\"middle\" x=\"1938\" y=\"-587.8\" font-family=\"Helvetica,sans-Serif\" font-size=\"14.00\" fill=\"#000000\">class = 0</text>\n",
       "</g>\n",
       "<!-- 1 -->\n",
       "<g id=\"node2\" class=\"node\">\n",
       "<title>1</title>\n",
       "<path fill=\"#cbe5f8\" stroke=\"#000000\" d=\"M1580,-544C1580,-544 1448,-544 1448,-544 1442,-544 1436,-538 1436,-532 1436,-532 1436,-473 1436,-473 1436,-467 1442,-461 1448,-461 1448,-461 1580,-461 1580,-461 1586,-461 1592,-467 1592,-473 1592,-473 1592,-532 1592,-532 1592,-538 1586,-544 1580,-544\"/>\n",
       "<text text-anchor=\"middle\" x=\"1514\" y=\"-528.8\" font-family=\"Helvetica,sans-Serif\" font-size=\"14.00\" fill=\"#000000\">super_dist_ISC &lt;= 0.5</text>\n",
       "<text text-anchor=\"middle\" x=\"1514\" y=\"-513.8\" font-family=\"Helvetica,sans-Serif\" font-size=\"14.00\" fill=\"#000000\">gini = 0.488</text>\n",
       "<text text-anchor=\"middle\" x=\"1514\" y=\"-498.8\" font-family=\"Helvetica,sans-Serif\" font-size=\"14.00\" fill=\"#000000\">samples = 16282</text>\n",
       "<text text-anchor=\"middle\" x=\"1514\" y=\"-483.8\" font-family=\"Helvetica,sans-Serif\" font-size=\"14.00\" fill=\"#000000\">value = [6901, 9381]</text>\n",
       "<text text-anchor=\"middle\" x=\"1514\" y=\"-468.8\" font-family=\"Helvetica,sans-Serif\" font-size=\"14.00\" fill=\"#000000\">class = 1</text>\n",
       "</g>\n",
       "<!-- 0&#45;&gt;1 -->\n",
       "<g id=\"edge1\" class=\"edge\">\n",
       "<title>0&#45;&gt;1</title>\n",
       "<path fill=\"none\" stroke=\"#000000\" d=\"M1847.8211,-596.1904C1775.3661,-575.8551 1674.1753,-547.4549 1602.2396,-527.2653\"/>\n",
       "<polygon fill=\"#000000\" stroke=\"#000000\" points=\"1602.8631,-523.8052 1592.2893,-524.4727 1600.9715,-530.5448 1602.8631,-523.8052\"/>\n",
       "<text text-anchor=\"middle\" x=\"1604.5325\" y=\"-542.5696\" font-family=\"Helvetica,sans-Serif\" font-size=\"14.00\" fill=\"#000000\">True</text>\n",
       "</g>\n",
       "<!-- 30 -->\n",
       "<g id=\"node31\" class=\"node\">\n",
       "<title>30</title>\n",
       "<path fill=\"#f3c3a1\" stroke=\"#000000\" d=\"M2335.5,-544C2335.5,-544 2200.5,-544 2200.5,-544 2194.5,-544 2188.5,-538 2188.5,-532 2188.5,-532 2188.5,-473 2188.5,-473 2188.5,-467 2194.5,-461 2200.5,-461 2200.5,-461 2335.5,-461 2335.5,-461 2341.5,-461 2347.5,-467 2347.5,-473 2347.5,-473 2347.5,-532 2347.5,-532 2347.5,-538 2341.5,-544 2335.5,-544\"/>\n",
       "<text text-anchor=\"middle\" x=\"2268\" y=\"-528.8\" font-family=\"Helvetica,sans-Serif\" font-size=\"14.00\" fill=\"#000000\">target_pop_Yes &lt;= 0.5</text>\n",
       "<text text-anchor=\"middle\" x=\"2268\" y=\"-513.8\" font-family=\"Helvetica,sans-Serif\" font-size=\"14.00\" fill=\"#000000\">gini = 0.451</text>\n",
       "<text text-anchor=\"middle\" x=\"2268\" y=\"-498.8\" font-family=\"Helvetica,sans-Serif\" font-size=\"14.00\" fill=\"#000000\">samples = 7930</text>\n",
       "<text text-anchor=\"middle\" x=\"2268\" y=\"-483.8\" font-family=\"Helvetica,sans-Serif\" font-size=\"14.00\" fill=\"#000000\">value = [5205, 2725]</text>\n",
       "<text text-anchor=\"middle\" x=\"2268\" y=\"-468.8\" font-family=\"Helvetica,sans-Serif\" font-size=\"14.00\" fill=\"#000000\">class = 0</text>\n",
       "</g>\n",
       "<!-- 0&#45;&gt;30 -->\n",
       "<g id=\"edge30\" class=\"edge\">\n",
       "<title>0&#45;&gt;30</title>\n",
       "<path fill=\"none\" stroke=\"#000000\" d=\"M2028.174,-588.9827C2075.0391,-572.0829 2132.122,-551.4984 2178.8387,-534.6521\"/>\n",
       "<polygon fill=\"#000000\" stroke=\"#000000\" points=\"2180.12,-537.9107 2188.3397,-531.226 2177.7454,-531.3258 2180.12,-537.9107\"/>\n",
       "<text text-anchor=\"middle\" x=\"2177.707\" y=\"-550.1521\" font-family=\"Helvetica,sans-Serif\" font-size=\"14.00\" fill=\"#000000\">False</text>\n",
       "</g>\n",
       "<!-- 2 -->\n",
       "<g id=\"node3\" class=\"node\">\n",
       "<title>2</title>\n",
       "<path fill=\"#c6e3f8\" stroke=\"#000000\" d=\"M931.5,-425C931.5,-425 704.5,-425 704.5,-425 698.5,-425 692.5,-419 692.5,-413 692.5,-413 692.5,-354 692.5,-354 692.5,-348 698.5,-342 704.5,-342 704.5,-342 931.5,-342 931.5,-342 937.5,-342 943.5,-348 943.5,-354 943.5,-354 943.5,-413 943.5,-413 943.5,-419 937.5,-425 931.5,-425\"/>\n",
       "<text text-anchor=\"middle\" x=\"818\" y=\"-409.8\" font-family=\"Helvetica,sans-Serif\" font-size=\"14.00\" fill=\"#000000\">super_dist_Interstate Compact &lt;= 0.5</text>\n",
       "<text text-anchor=\"middle\" x=\"818\" y=\"-394.8\" font-family=\"Helvetica,sans-Serif\" font-size=\"14.00\" fill=\"#000000\">gini = 0.486</text>\n",
       "<text text-anchor=\"middle\" x=\"818\" y=\"-379.8\" font-family=\"Helvetica,sans-Serif\" font-size=\"14.00\" fill=\"#000000\">samples = 16033</text>\n",
       "<text text-anchor=\"middle\" x=\"818\" y=\"-364.8\" font-family=\"Helvetica,sans-Serif\" font-size=\"14.00\" fill=\"#000000\">value = [6679, 9354]</text>\n",
       "<text text-anchor=\"middle\" x=\"818\" y=\"-349.8\" font-family=\"Helvetica,sans-Serif\" font-size=\"14.00\" fill=\"#000000\">class = 1</text>\n",
       "</g>\n",
       "<!-- 1&#45;&gt;2 -->\n",
       "<g id=\"edge2\" class=\"edge\">\n",
       "<title>1&#45;&gt;2</title>\n",
       "<path fill=\"none\" stroke=\"#000000\" d=\"M1435.8497,-489.1381C1319.0663,-469.1708 1097.4096,-431.2726 953.7786,-406.715\"/>\n",
       "<polygon fill=\"#000000\" stroke=\"#000000\" points=\"954.0214,-403.2058 943.5745,-404.9704 952.8416,-410.1057 954.0214,-403.2058\"/>\n",
       "</g>\n",
       "<!-- 17 -->\n",
       "<g id=\"node18\" class=\"node\">\n",
       "<title>17</title>\n",
       "<path fill=\"#e89051\" stroke=\"#000000\" d=\"M1581.5,-425C1581.5,-425 1446.5,-425 1446.5,-425 1440.5,-425 1434.5,-419 1434.5,-413 1434.5,-413 1434.5,-354 1434.5,-354 1434.5,-348 1440.5,-342 1446.5,-342 1446.5,-342 1581.5,-342 1581.5,-342 1587.5,-342 1593.5,-348 1593.5,-354 1593.5,-354 1593.5,-413 1593.5,-413 1593.5,-419 1587.5,-425 1581.5,-425\"/>\n",
       "<text text-anchor=\"middle\" x=\"1514\" y=\"-409.8\" font-family=\"Helvetica,sans-Serif\" font-size=\"14.00\" fill=\"#000000\">target_pop_Yes &lt;= 0.5</text>\n",
       "<text text-anchor=\"middle\" x=\"1514\" y=\"-394.8\" font-family=\"Helvetica,sans-Serif\" font-size=\"14.00\" fill=\"#000000\">gini = 0.193</text>\n",
       "<text text-anchor=\"middle\" x=\"1514\" y=\"-379.8\" font-family=\"Helvetica,sans-Serif\" font-size=\"14.00\" fill=\"#000000\">samples = 249</text>\n",
       "<text text-anchor=\"middle\" x=\"1514\" y=\"-364.8\" font-family=\"Helvetica,sans-Serif\" font-size=\"14.00\" fill=\"#000000\">value = [222, 27]</text>\n",
       "<text text-anchor=\"middle\" x=\"1514\" y=\"-349.8\" font-family=\"Helvetica,sans-Serif\" font-size=\"14.00\" fill=\"#000000\">class = 0</text>\n",
       "</g>\n",
       "<!-- 1&#45;&gt;17 -->\n",
       "<g id=\"edge17\" class=\"edge\">\n",
       "<title>1&#45;&gt;17</title>\n",
       "<path fill=\"none\" stroke=\"#000000\" d=\"M1514,-460.8796C1514,-452.6838 1514,-443.9891 1514,-435.5013\"/>\n",
       "<polygon fill=\"#000000\" stroke=\"#000000\" points=\"1517.5001,-435.298 1514,-425.2981 1510.5001,-435.2981 1517.5001,-435.298\"/>\n",
       "</g>\n",
       "<!-- 3 -->\n",
       "<g id=\"node4\" class=\"node\">\n",
       "<title>3</title>\n",
       "<path fill=\"#c3e1f7\" stroke=\"#000000\" d=\"M499,-306C499,-306 379,-306 379,-306 373,-306 367,-300 367,-294 367,-294 367,-235 367,-235 367,-229 373,-223 379,-223 379,-223 499,-223 499,-223 505,-223 511,-229 511,-235 511,-235 511,-294 511,-294 511,-300 505,-306 499,-306\"/>\n",
       "<text text-anchor=\"middle\" x=\"439\" y=\"-290.8\" font-family=\"Helvetica,sans-Serif\" font-size=\"14.00\" fill=\"#000000\">age_enc &lt;= 2.5</text>\n",
       "<text text-anchor=\"middle\" x=\"439\" y=\"-275.8\" font-family=\"Helvetica,sans-Serif\" font-size=\"14.00\" fill=\"#000000\">gini = 0.484</text>\n",
       "<text text-anchor=\"middle\" x=\"439\" y=\"-260.8\" font-family=\"Helvetica,sans-Serif\" font-size=\"14.00\" fill=\"#000000\">samples = 15820</text>\n",
       "<text text-anchor=\"middle\" x=\"439\" y=\"-245.8\" font-family=\"Helvetica,sans-Serif\" font-size=\"14.00\" fill=\"#000000\">value = [6485, 9335]</text>\n",
       "<text text-anchor=\"middle\" x=\"439\" y=\"-230.8\" font-family=\"Helvetica,sans-Serif\" font-size=\"14.00\" fill=\"#000000\">class = 1</text>\n",
       "</g>\n",
       "<!-- 2&#45;&gt;3 -->\n",
       "<g id=\"edge3\" class=\"edge\">\n",
       "<title>2&#45;&gt;3</title>\n",
       "<path fill=\"none\" stroke=\"#000000\" d=\"M692.3249,-344.04C635.8636,-326.3121 570.8433,-305.8967 520.8129,-290.188\"/>\n",
       "<polygon fill=\"#000000\" stroke=\"#000000\" points=\"521.603,-286.7676 511.0137,-287.1112 519.506,-293.4461 521.603,-286.7676\"/>\n",
       "</g>\n",
       "<!-- 10 -->\n",
       "<g id=\"node11\" class=\"node\">\n",
       "<title>10</title>\n",
       "<path fill=\"#e88d4c\" stroke=\"#000000\" d=\"M885.5,-306C885.5,-306 750.5,-306 750.5,-306 744.5,-306 738.5,-300 738.5,-294 738.5,-294 738.5,-235 738.5,-235 738.5,-229 744.5,-223 750.5,-223 750.5,-223 885.5,-223 885.5,-223 891.5,-223 897.5,-229 897.5,-235 897.5,-235 897.5,-294 897.5,-294 897.5,-300 891.5,-306 885.5,-306\"/>\n",
       "<text text-anchor=\"middle\" x=\"818\" y=\"-290.8\" font-family=\"Helvetica,sans-Serif\" font-size=\"14.00\" fill=\"#000000\">target_pop_Yes &lt;= 0.5</text>\n",
       "<text text-anchor=\"middle\" x=\"818\" y=\"-275.8\" font-family=\"Helvetica,sans-Serif\" font-size=\"14.00\" fill=\"#000000\">gini = 0.162</text>\n",
       "<text text-anchor=\"middle\" x=\"818\" y=\"-260.8\" font-family=\"Helvetica,sans-Serif\" font-size=\"14.00\" fill=\"#000000\">samples = 213</text>\n",
       "<text text-anchor=\"middle\" x=\"818\" y=\"-245.8\" font-family=\"Helvetica,sans-Serif\" font-size=\"14.00\" fill=\"#000000\">value = [194, 19]</text>\n",
       "<text text-anchor=\"middle\" x=\"818\" y=\"-230.8\" font-family=\"Helvetica,sans-Serif\" font-size=\"14.00\" fill=\"#000000\">class = 0</text>\n",
       "</g>\n",
       "<!-- 2&#45;&gt;10 -->\n",
       "<g id=\"edge10\" class=\"edge\">\n",
       "<title>2&#45;&gt;10</title>\n",
       "<path fill=\"none\" stroke=\"#000000\" d=\"M818,-341.8796C818,-333.6838 818,-324.9891 818,-316.5013\"/>\n",
       "<polygon fill=\"#000000\" stroke=\"#000000\" points=\"821.5001,-316.298 818,-306.2981 814.5001,-316.2981 821.5001,-316.298\"/>\n",
       "</g>\n",
       "<!-- 4 -->\n",
       "<g id=\"node5\" class=\"node\">\n",
       "<title>4</title>\n",
       "<path fill=\"#b5dbf5\" stroke=\"#000000\" d=\"M292.5,-187C292.5,-187 159.5,-187 159.5,-187 153.5,-187 147.5,-181 147.5,-175 147.5,-175 147.5,-116 147.5,-116 147.5,-110 153.5,-104 159.5,-104 159.5,-104 292.5,-104 292.5,-104 298.5,-104 304.5,-110 304.5,-116 304.5,-116 304.5,-175 304.5,-175 304.5,-181 298.5,-187 292.5,-187\"/>\n",
       "<text text-anchor=\"middle\" x=\"226\" y=\"-171.8\" font-family=\"Helvetica,sans-Serif\" font-size=\"14.00\" fill=\"#000000\">super_dist_7JD &lt;= 0.5</text>\n",
       "<text text-anchor=\"middle\" x=\"226\" y=\"-156.8\" font-family=\"Helvetica,sans-Serif\" font-size=\"14.00\" fill=\"#000000\">gini = 0.474</text>\n",
       "<text text-anchor=\"middle\" x=\"226\" y=\"-141.8\" font-family=\"Helvetica,sans-Serif\" font-size=\"14.00\" fill=\"#000000\">samples = 12638</text>\n",
       "<text text-anchor=\"middle\" x=\"226\" y=\"-126.8\" font-family=\"Helvetica,sans-Serif\" font-size=\"14.00\" fill=\"#000000\">value = [4876, 7762]</text>\n",
       "<text text-anchor=\"middle\" x=\"226\" y=\"-111.8\" font-family=\"Helvetica,sans-Serif\" font-size=\"14.00\" fill=\"#000000\">class = 1</text>\n",
       "</g>\n",
       "<!-- 3&#45;&gt;4 -->\n",
       "<g id=\"edge4\" class=\"edge\">\n",
       "<title>3&#45;&gt;4</title>\n",
       "<path fill=\"none\" stroke=\"#000000\" d=\"M366.8879,-224.212C348.4465,-213.9091 328.464,-202.7452 309.5029,-192.1518\"/>\n",
       "<polygon fill=\"#000000\" stroke=\"#000000\" points=\"311.0182,-188.9893 300.5812,-187.1674 307.6041,-195.1003 311.0182,-188.9893\"/>\n",
       "</g>\n",
       "<!-- 7 -->\n",
       "<g id=\"node8\" class=\"node\">\n",
       "<title>7</title>\n",
       "<path fill=\"#fefcfb\" stroke=\"#000000\" d=\"M499,-187C499,-187 379,-187 379,-187 373,-187 367,-181 367,-175 367,-175 367,-116 367,-116 367,-110 373,-104 379,-104 379,-104 499,-104 499,-104 505,-104 511,-110 511,-116 511,-116 511,-175 511,-175 511,-181 505,-187 499,-187\"/>\n",
       "<text text-anchor=\"middle\" x=\"439\" y=\"-171.8\" font-family=\"Helvetica,sans-Serif\" font-size=\"14.00\" fill=\"#000000\">sex_Female &lt;= 0.5</text>\n",
       "<text text-anchor=\"middle\" x=\"439\" y=\"-156.8\" font-family=\"Helvetica,sans-Serif\" font-size=\"14.00\" fill=\"#000000\">gini = 0.5</text>\n",
       "<text text-anchor=\"middle\" x=\"439\" y=\"-141.8\" font-family=\"Helvetica,sans-Serif\" font-size=\"14.00\" fill=\"#000000\">samples = 3182</text>\n",
       "<text text-anchor=\"middle\" x=\"439\" y=\"-126.8\" font-family=\"Helvetica,sans-Serif\" font-size=\"14.00\" fill=\"#000000\">value = [1609, 1573]</text>\n",
       "<text text-anchor=\"middle\" x=\"439\" y=\"-111.8\" font-family=\"Helvetica,sans-Serif\" font-size=\"14.00\" fill=\"#000000\">class = 0</text>\n",
       "</g>\n",
       "<!-- 3&#45;&gt;7 -->\n",
       "<g id=\"edge7\" class=\"edge\">\n",
       "<title>3&#45;&gt;7</title>\n",
       "<path fill=\"none\" stroke=\"#000000\" d=\"M439,-222.8796C439,-214.6838 439,-205.9891 439,-197.5013\"/>\n",
       "<polygon fill=\"#000000\" stroke=\"#000000\" points=\"442.5001,-197.298 439,-187.2981 435.5001,-197.2981 442.5001,-197.298\"/>\n",
       "</g>\n",
       "<!-- 5 -->\n",
       "<g id=\"node6\" class=\"node\">\n",
       "<title>5</title>\n",
       "<path fill=\"#afd8f5\" stroke=\"#000000\" d=\"M132,-68C132,-68 12,-68 12,-68 6,-68 0,-62 0,-56 0,-56 0,-12 0,-12 0,-6 6,0 12,0 12,0 132,0 132,0 138,0 144,-6 144,-12 144,-12 144,-56 144,-56 144,-62 138,-68 132,-68\"/>\n",
       "<text text-anchor=\"middle\" x=\"72\" y=\"-52.8\" font-family=\"Helvetica,sans-Serif\" font-size=\"14.00\" fill=\"#000000\">gini = 0.468</text>\n",
       "<text text-anchor=\"middle\" x=\"72\" y=\"-37.8\" font-family=\"Helvetica,sans-Serif\" font-size=\"14.00\" fill=\"#000000\">samples = 11636</text>\n",
       "<text text-anchor=\"middle\" x=\"72\" y=\"-22.8\" font-family=\"Helvetica,sans-Serif\" font-size=\"14.00\" fill=\"#000000\">value = [4353, 7283]</text>\n",
       "<text text-anchor=\"middle\" x=\"72\" y=\"-7.8\" font-family=\"Helvetica,sans-Serif\" font-size=\"14.00\" fill=\"#000000\">class = 1</text>\n",
       "</g>\n",
       "<!-- 4&#45;&gt;5 -->\n",
       "<g id=\"edge5\" class=\"edge\">\n",
       "<title>4&#45;&gt;5</title>\n",
       "<path fill=\"none\" stroke=\"#000000\" d=\"M168.6561,-103.9815C155.2006,-94.2394 140.8869,-83.8759 127.5133,-74.193\"/>\n",
       "<polygon fill=\"#000000\" stroke=\"#000000\" points=\"129.4763,-71.2933 119.3238,-68.2637 125.3711,-76.9632 129.4763,-71.2933\"/>\n",
       "</g>\n",
       "<!-- 6 -->\n",
       "<g id=\"node7\" class=\"node\">\n",
       "<title>6</title>\n",
       "<path fill=\"#fdf4ee\" stroke=\"#000000\" d=\"M278,-68C278,-68 174,-68 174,-68 168,-68 162,-62 162,-56 162,-56 162,-12 162,-12 162,-6 168,0 174,0 174,0 278,0 278,0 284,0 290,-6 290,-12 290,-12 290,-56 290,-56 290,-62 284,-68 278,-68\"/>\n",
       "<text text-anchor=\"middle\" x=\"226\" y=\"-52.8\" font-family=\"Helvetica,sans-Serif\" font-size=\"14.00\" fill=\"#000000\">gini = 0.499</text>\n",
       "<text text-anchor=\"middle\" x=\"226\" y=\"-37.8\" font-family=\"Helvetica,sans-Serif\" font-size=\"14.00\" fill=\"#000000\">samples = 1002</text>\n",
       "<text text-anchor=\"middle\" x=\"226\" y=\"-22.8\" font-family=\"Helvetica,sans-Serif\" font-size=\"14.00\" fill=\"#000000\">value = [523, 479]</text>\n",
       "<text text-anchor=\"middle\" x=\"226\" y=\"-7.8\" font-family=\"Helvetica,sans-Serif\" font-size=\"14.00\" fill=\"#000000\">class = 0</text>\n",
       "</g>\n",
       "<!-- 4&#45;&gt;6 -->\n",
       "<g id=\"edge6\" class=\"edge\">\n",
       "<title>4&#45;&gt;6</title>\n",
       "<path fill=\"none\" stroke=\"#000000\" d=\"M226,-103.9815C226,-95.618 226,-86.7965 226,-78.3409\"/>\n",
       "<polygon fill=\"#000000\" stroke=\"#000000\" points=\"229.5001,-78.2636 226,-68.2637 222.5001,-78.2637 229.5001,-78.2636\"/>\n",
       "</g>\n",
       "<!-- 8 -->\n",
       "<g id=\"node9\" class=\"node\">\n",
       "<title>8</title>\n",
       "<path fill=\"#f2f9fd\" stroke=\"#000000\" d=\"M440,-68C440,-68 320,-68 320,-68 314,-68 308,-62 308,-56 308,-56 308,-12 308,-12 308,-6 314,0 320,0 320,0 440,0 440,0 446,0 452,-6 452,-12 452,-12 452,-56 452,-56 452,-62 446,-68 440,-68\"/>\n",
       "<text text-anchor=\"middle\" x=\"380\" y=\"-52.8\" font-family=\"Helvetica,sans-Serif\" font-size=\"14.00\" fill=\"#000000\">gini = 0.499</text>\n",
       "<text text-anchor=\"middle\" x=\"380\" y=\"-37.8\" font-family=\"Helvetica,sans-Serif\" font-size=\"14.00\" fill=\"#000000\">samples = 2779</text>\n",
       "<text text-anchor=\"middle\" x=\"380\" y=\"-22.8\" font-family=\"Helvetica,sans-Serif\" font-size=\"14.00\" fill=\"#000000\">value = [1342, 1437]</text>\n",
       "<text text-anchor=\"middle\" x=\"380\" y=\"-7.8\" font-family=\"Helvetica,sans-Serif\" font-size=\"14.00\" fill=\"#000000\">class = 1</text>\n",
       "</g>\n",
       "<!-- 7&#45;&gt;8 -->\n",
       "<g id=\"edge8\" class=\"edge\">\n",
       "<title>7&#45;&gt;8</title>\n",
       "<path fill=\"none\" stroke=\"#000000\" d=\"M417.0306,-103.9815C412.4105,-95.2504 407.5264,-86.0202 402.874,-77.2281\"/>\n",
       "<polygon fill=\"#000000\" stroke=\"#000000\" points=\"405.9013,-75.4655 398.1306,-68.2637 399.7141,-78.7395 405.9013,-75.4655\"/>\n",
       "</g>\n",
       "<!-- 9 -->\n",
       "<g id=\"node10\" class=\"node\">\n",
       "<title>9</title>\n",
       "<path fill=\"#f2c19e\" stroke=\"#000000\" d=\"M586,-68C586,-68 482,-68 482,-68 476,-68 470,-62 470,-56 470,-56 470,-12 470,-12 470,-6 476,0 482,0 482,0 586,0 586,0 592,0 598,-6 598,-12 598,-12 598,-56 598,-56 598,-62 592,-68 586,-68\"/>\n",
       "<text text-anchor=\"middle\" x=\"534\" y=\"-52.8\" font-family=\"Helvetica,sans-Serif\" font-size=\"14.00\" fill=\"#000000\">gini = 0.447</text>\n",
       "<text text-anchor=\"middle\" x=\"534\" y=\"-37.8\" font-family=\"Helvetica,sans-Serif\" font-size=\"14.00\" fill=\"#000000\">samples = 403</text>\n",
       "<text text-anchor=\"middle\" x=\"534\" y=\"-22.8\" font-family=\"Helvetica,sans-Serif\" font-size=\"14.00\" fill=\"#000000\">value = [267, 136]</text>\n",
       "<text text-anchor=\"middle\" x=\"534\" y=\"-7.8\" font-family=\"Helvetica,sans-Serif\" font-size=\"14.00\" fill=\"#000000\">class = 0</text>\n",
       "</g>\n",
       "<!-- 7&#45;&gt;9 -->\n",
       "<g id=\"edge9\" class=\"edge\">\n",
       "<title>7&#45;&gt;9</title>\n",
       "<path fill=\"none\" stroke=\"#000000\" d=\"M474.3745,-103.9815C482.1268,-94.8828 490.3409,-85.242 498.1131,-76.1199\"/>\n",
       "<polygon fill=\"#000000\" stroke=\"#000000\" points=\"500.9854,-78.1454 504.8067,-68.2637 495.6572,-73.6056 500.9854,-78.1454\"/>\n",
       "</g>\n",
       "<!-- 11 -->\n",
       "<g id=\"node12\" class=\"node\">\n",
       "<title>11</title>\n",
       "<path fill=\"#e78845\" stroke=\"#000000\" d=\"M807.5,-187C807.5,-187 590.5,-187 590.5,-187 584.5,-187 578.5,-181 578.5,-175 578.5,-175 578.5,-116 578.5,-116 578.5,-110 584.5,-104 590.5,-104 590.5,-104 807.5,-104 807.5,-104 813.5,-104 819.5,-110 819.5,-116 819.5,-116 819.5,-175 819.5,-175 819.5,-181 813.5,-187 807.5,-187\"/>\n",
       "<text text-anchor=\"middle\" x=\"699\" y=\"-171.8\" font-family=\"Helvetica,sans-Serif\" font-size=\"14.00\" fill=\"#000000\">crime_subtype_Other Violent &lt;= 0.5</text>\n",
       "<text text-anchor=\"middle\" x=\"699\" y=\"-156.8\" font-family=\"Helvetica,sans-Serif\" font-size=\"14.00\" fill=\"#000000\">gini = 0.105</text>\n",
       "<text text-anchor=\"middle\" x=\"699\" y=\"-141.8\" font-family=\"Helvetica,sans-Serif\" font-size=\"14.00\" fill=\"#000000\">samples = 197</text>\n",
       "<text text-anchor=\"middle\" x=\"699\" y=\"-126.8\" font-family=\"Helvetica,sans-Serif\" font-size=\"14.00\" fill=\"#000000\">value = [186, 11]</text>\n",
       "<text text-anchor=\"middle\" x=\"699\" y=\"-111.8\" font-family=\"Helvetica,sans-Serif\" font-size=\"14.00\" fill=\"#000000\">class = 0</text>\n",
       "</g>\n",
       "<!-- 10&#45;&gt;11 -->\n",
       "<g id=\"edge11\" class=\"edge\">\n",
       "<title>10&#45;&gt;11</title>\n",
       "<path fill=\"none\" stroke=\"#000000\" d=\"M776.3796,-222.8796C767.1931,-213.6931 757.3798,-203.8798 747.9336,-194.4336\"/>\n",
       "<polygon fill=\"#000000\" stroke=\"#000000\" points=\"750.3441,-191.8943 740.7981,-187.2981 745.3943,-196.8441 750.3441,-191.8943\"/>\n",
       "</g>\n",
       "<!-- 14 -->\n",
       "<g id=\"node15\" class=\"node\">\n",
       "<title>14</title>\n",
       "<path fill=\"#ffffff\" stroke=\"#000000\" d=\"M1024,-187C1024,-187 850,-187 850,-187 844,-187 838,-181 838,-175 838,-175 838,-116 838,-116 838,-110 844,-104 850,-104 850,-104 1024,-104 1024,-104 1030,-104 1036,-110 1036,-116 1036,-116 1036,-175 1036,-175 1036,-181 1030,-187 1024,-187\"/>\n",
       "<text text-anchor=\"middle\" x=\"937\" y=\"-171.8\" font-family=\"Helvetica,sans-Serif\" font-size=\"14.00\" fill=\"#000000\">crime_class_C Felony &lt;= 0.5</text>\n",
       "<text text-anchor=\"middle\" x=\"937\" y=\"-156.8\" font-family=\"Helvetica,sans-Serif\" font-size=\"14.00\" fill=\"#000000\">gini = 0.5</text>\n",
       "<text text-anchor=\"middle\" x=\"937\" y=\"-141.8\" font-family=\"Helvetica,sans-Serif\" font-size=\"14.00\" fill=\"#000000\">samples = 16</text>\n",
       "<text text-anchor=\"middle\" x=\"937\" y=\"-126.8\" font-family=\"Helvetica,sans-Serif\" font-size=\"14.00\" fill=\"#000000\">value = [8, 8]</text>\n",
       "<text text-anchor=\"middle\" x=\"937\" y=\"-111.8\" font-family=\"Helvetica,sans-Serif\" font-size=\"14.00\" fill=\"#000000\">class = 0</text>\n",
       "</g>\n",
       "<!-- 10&#45;&gt;14 -->\n",
       "<g id=\"edge14\" class=\"edge\">\n",
       "<title>10&#45;&gt;14</title>\n",
       "<path fill=\"none\" stroke=\"#000000\" d=\"M859.6204,-222.8796C868.8069,-213.6931 878.6202,-203.8798 888.0664,-194.4336\"/>\n",
       "<polygon fill=\"#000000\" stroke=\"#000000\" points=\"890.6057,-196.8441 895.2019,-187.2981 885.6559,-191.8943 890.6057,-196.8441\"/>\n",
       "</g>\n",
       "<!-- 12 -->\n",
       "<g id=\"node13\" class=\"node\">\n",
       "<title>12</title>\n",
       "<path fill=\"#e68743\" stroke=\"#000000\" d=\"M717.5,-68C717.5,-68 628.5,-68 628.5,-68 622.5,-68 616.5,-62 616.5,-56 616.5,-56 616.5,-12 616.5,-12 616.5,-6 622.5,0 628.5,0 628.5,0 717.5,0 717.5,0 723.5,0 729.5,-6 729.5,-12 729.5,-12 729.5,-56 729.5,-56 729.5,-62 723.5,-68 717.5,-68\"/>\n",
       "<text text-anchor=\"middle\" x=\"673\" y=\"-52.8\" font-family=\"Helvetica,sans-Serif\" font-size=\"14.00\" fill=\"#000000\">gini = 0.089</text>\n",
       "<text text-anchor=\"middle\" x=\"673\" y=\"-37.8\" font-family=\"Helvetica,sans-Serif\" font-size=\"14.00\" fill=\"#000000\">samples = 192</text>\n",
       "<text text-anchor=\"middle\" x=\"673\" y=\"-22.8\" font-family=\"Helvetica,sans-Serif\" font-size=\"14.00\" fill=\"#000000\">value = [183, 9]</text>\n",
       "<text text-anchor=\"middle\" x=\"673\" y=\"-7.8\" font-family=\"Helvetica,sans-Serif\" font-size=\"14.00\" fill=\"#000000\">class = 0</text>\n",
       "</g>\n",
       "<!-- 11&#45;&gt;12 -->\n",
       "<g id=\"edge12\" class=\"edge\">\n",
       "<title>11&#45;&gt;12</title>\n",
       "<path fill=\"none\" stroke=\"#000000\" d=\"M689.3186,-103.9815C687.3469,-95.5261 685.2661,-86.6026 683.2746,-78.0623\"/>\n",
       "<polygon fill=\"#000000\" stroke=\"#000000\" points=\"686.6693,-77.2076 680.9897,-68.2637 679.8522,-78.7973 686.6693,-77.2076\"/>\n",
       "</g>\n",
       "<!-- 13 -->\n",
       "<g id=\"node14\" class=\"node\">\n",
       "<title>13</title>\n",
       "<path fill=\"#f6d5bd\" stroke=\"#000000\" d=\"M832.5,-68C832.5,-68 759.5,-68 759.5,-68 753.5,-68 747.5,-62 747.5,-56 747.5,-56 747.5,-12 747.5,-12 747.5,-6 753.5,0 759.5,0 759.5,0 832.5,0 832.5,0 838.5,0 844.5,-6 844.5,-12 844.5,-12 844.5,-56 844.5,-56 844.5,-62 838.5,-68 832.5,-68\"/>\n",
       "<text text-anchor=\"middle\" x=\"796\" y=\"-52.8\" font-family=\"Helvetica,sans-Serif\" font-size=\"14.00\" fill=\"#000000\">gini = 0.48</text>\n",
       "<text text-anchor=\"middle\" x=\"796\" y=\"-37.8\" font-family=\"Helvetica,sans-Serif\" font-size=\"14.00\" fill=\"#000000\">samples = 5</text>\n",
       "<text text-anchor=\"middle\" x=\"796\" y=\"-22.8\" font-family=\"Helvetica,sans-Serif\" font-size=\"14.00\" fill=\"#000000\">value = [3, 2]</text>\n",
       "<text text-anchor=\"middle\" x=\"796\" y=\"-7.8\" font-family=\"Helvetica,sans-Serif\" font-size=\"14.00\" fill=\"#000000\">class = 0</text>\n",
       "</g>\n",
       "<!-- 11&#45;&gt;13 -->\n",
       "<g id=\"edge13\" class=\"edge\">\n",
       "<title>11&#45;&gt;13</title>\n",
       "<path fill=\"none\" stroke=\"#000000\" d=\"M735.1192,-103.9815C743.1147,-94.7908 751.5913,-85.0472 759.5979,-75.8436\"/>\n",
       "<polygon fill=\"#000000\" stroke=\"#000000\" points=\"762.2693,-78.1055 766.1921,-68.2637 756.988,-73.5111 762.2693,-78.1055\"/>\n",
       "</g>\n",
       "<!-- 15 -->\n",
       "<g id=\"node16\" class=\"node\">\n",
       "<title>15</title>\n",
       "<path fill=\"#aad5f4\" stroke=\"#000000\" d=\"M951,-68C951,-68 875,-68 875,-68 869,-68 863,-62 863,-56 863,-56 863,-12 863,-12 863,-6 869,0 875,0 875,0 951,0 951,0 957,0 963,-6 963,-12 963,-12 963,-56 963,-56 963,-62 957,-68 951,-68\"/>\n",
       "<text text-anchor=\"middle\" x=\"913\" y=\"-52.8\" font-family=\"Helvetica,sans-Serif\" font-size=\"14.00\" fill=\"#000000\">gini = 0.463</text>\n",
       "<text text-anchor=\"middle\" x=\"913\" y=\"-37.8\" font-family=\"Helvetica,sans-Serif\" font-size=\"14.00\" fill=\"#000000\">samples = 11</text>\n",
       "<text text-anchor=\"middle\" x=\"913\" y=\"-22.8\" font-family=\"Helvetica,sans-Serif\" font-size=\"14.00\" fill=\"#000000\">value = [4, 7]</text>\n",
       "<text text-anchor=\"middle\" x=\"913\" y=\"-7.8\" font-family=\"Helvetica,sans-Serif\" font-size=\"14.00\" fill=\"#000000\">class = 1</text>\n",
       "</g>\n",
       "<!-- 14&#45;&gt;15 -->\n",
       "<g id=\"edge15\" class=\"edge\">\n",
       "<title>14&#45;&gt;15</title>\n",
       "<path fill=\"none\" stroke=\"#000000\" d=\"M928.0633,-103.9815C926.2433,-95.5261 924.3225,-86.6026 922.4843,-78.0623\"/>\n",
       "<polygon fill=\"#000000\" stroke=\"#000000\" points=\"925.9011,-77.3032 920.3751,-68.2637 919.0579,-78.7763 925.9011,-77.3032\"/>\n",
       "</g>\n",
       "<!-- 16 -->\n",
       "<g id=\"node17\" class=\"node\">\n",
       "<title>16</title>\n",
       "<path fill=\"#eca06a\" stroke=\"#000000\" d=\"M1066.5,-68C1066.5,-68 993.5,-68 993.5,-68 987.5,-68 981.5,-62 981.5,-56 981.5,-56 981.5,-12 981.5,-12 981.5,-6 987.5,0 993.5,0 993.5,0 1066.5,0 1066.5,0 1072.5,0 1078.5,-6 1078.5,-12 1078.5,-12 1078.5,-56 1078.5,-56 1078.5,-62 1072.5,-68 1066.5,-68\"/>\n",
       "<text text-anchor=\"middle\" x=\"1030\" y=\"-52.8\" font-family=\"Helvetica,sans-Serif\" font-size=\"14.00\" fill=\"#000000\">gini = 0.32</text>\n",
       "<text text-anchor=\"middle\" x=\"1030\" y=\"-37.8\" font-family=\"Helvetica,sans-Serif\" font-size=\"14.00\" fill=\"#000000\">samples = 5</text>\n",
       "<text text-anchor=\"middle\" x=\"1030\" y=\"-22.8\" font-family=\"Helvetica,sans-Serif\" font-size=\"14.00\" fill=\"#000000\">value = [4, 1]</text>\n",
       "<text text-anchor=\"middle\" x=\"1030\" y=\"-7.8\" font-family=\"Helvetica,sans-Serif\" font-size=\"14.00\" fill=\"#000000\">class = 0</text>\n",
       "</g>\n",
       "<!-- 14&#45;&gt;16 -->\n",
       "<g id=\"edge16\" class=\"edge\">\n",
       "<title>14&#45;&gt;16</title>\n",
       "<path fill=\"none\" stroke=\"#000000\" d=\"M971.6298,-103.9815C979.2189,-94.8828 987.26,-85.242 994.8686,-76.1199\"/>\n",
       "<polygon fill=\"#000000\" stroke=\"#000000\" points=\"997.7039,-78.1849 1001.4213,-68.2637 992.3283,-73.7012 997.7039,-78.1849\"/>\n",
       "</g>\n",
       "<!-- 18 -->\n",
       "<g id=\"node19\" class=\"node\">\n",
       "<title>18</title>\n",
       "<path fill=\"#e5833d\" stroke=\"#000000\" d=\"M1484,-306C1484,-306 1204,-306 1204,-306 1198,-306 1192,-300 1192,-294 1192,-294 1192,-235 1192,-235 1192,-229 1198,-223 1204,-223 1204,-223 1484,-223 1484,-223 1490,-223 1496,-229 1496,-235 1496,-235 1496,-294 1496,-294 1496,-300 1490,-306 1484,-306\"/>\n",
       "<text text-anchor=\"middle\" x=\"1344\" y=\"-290.8\" font-family=\"Helvetica,sans-Serif\" font-size=\"14.00\" fill=\"#000000\">race_ethnicity_Asian or Pacific Islander &lt;= 0.5</text>\n",
       "<text text-anchor=\"middle\" x=\"1344\" y=\"-275.8\" font-family=\"Helvetica,sans-Serif\" font-size=\"14.00\" fill=\"#000000\">gini = 0.035</text>\n",
       "<text text-anchor=\"middle\" x=\"1344\" y=\"-260.8\" font-family=\"Helvetica,sans-Serif\" font-size=\"14.00\" fill=\"#000000\">samples = 113</text>\n",
       "<text text-anchor=\"middle\" x=\"1344\" y=\"-245.8\" font-family=\"Helvetica,sans-Serif\" font-size=\"14.00\" fill=\"#000000\">value = [111, 2]</text>\n",
       "<text text-anchor=\"middle\" x=\"1344\" y=\"-230.8\" font-family=\"Helvetica,sans-Serif\" font-size=\"14.00\" fill=\"#000000\">class = 0</text>\n",
       "</g>\n",
       "<!-- 17&#45;&gt;18 -->\n",
       "<g id=\"edge18\" class=\"edge\">\n",
       "<title>17&#45;&gt;18</title>\n",
       "<path fill=\"none\" stroke=\"#000000\" d=\"M1454.5422,-341.8796C1440.6954,-332.1868 1425.8516,-321.7961 1411.6788,-311.8752\"/>\n",
       "<polygon fill=\"#000000\" stroke=\"#000000\" points=\"1413.6236,-308.9643 1403.4242,-306.0969 1409.6094,-314.6989 1413.6236,-308.9643\"/>\n",
       "</g>\n",
       "<!-- 25 -->\n",
       "<g id=\"node26\" class=\"node\">\n",
       "<title>25</title>\n",
       "<path fill=\"#eb9d66\" stroke=\"#000000\" d=\"M1844,-306C1844,-306 1526,-306 1526,-306 1520,-306 1514,-300 1514,-294 1514,-294 1514,-235 1514,-235 1514,-229 1520,-223 1526,-223 1526,-223 1844,-223 1844,-223 1850,-223 1856,-229 1856,-235 1856,-235 1856,-294 1856,-294 1856,-300 1850,-306 1844,-306\"/>\n",
       "<text text-anchor=\"middle\" x=\"1685\" y=\"-290.8\" font-family=\"Helvetica,sans-Serif\" font-size=\"14.00\" fill=\"#000000\">crime_subtype_Special Sentence Revocation &lt;= 0.5</text>\n",
       "<text text-anchor=\"middle\" x=\"1685\" y=\"-275.8\" font-family=\"Helvetica,sans-Serif\" font-size=\"14.00\" fill=\"#000000\">gini = 0.3</text>\n",
       "<text text-anchor=\"middle\" x=\"1685\" y=\"-260.8\" font-family=\"Helvetica,sans-Serif\" font-size=\"14.00\" fill=\"#000000\">samples = 136</text>\n",
       "<text text-anchor=\"middle\" x=\"1685\" y=\"-245.8\" font-family=\"Helvetica,sans-Serif\" font-size=\"14.00\" fill=\"#000000\">value = [111, 25]</text>\n",
       "<text text-anchor=\"middle\" x=\"1685\" y=\"-230.8\" font-family=\"Helvetica,sans-Serif\" font-size=\"14.00\" fill=\"#000000\">class = 0</text>\n",
       "</g>\n",
       "<!-- 17&#45;&gt;25 -->\n",
       "<g id=\"edge25\" class=\"edge\">\n",
       "<title>17&#45;&gt;25</title>\n",
       "<path fill=\"none\" stroke=\"#000000\" d=\"M1573.8075,-341.8796C1587.7358,-332.1868 1602.6669,-321.7961 1616.9231,-311.8752\"/>\n",
       "<polygon fill=\"#000000\" stroke=\"#000000\" points=\"1619.0174,-314.6819 1625.2263,-306.0969 1615.0189,-308.9362 1619.0174,-314.6819\"/>\n",
       "</g>\n",
       "<!-- 19 -->\n",
       "<g id=\"node20\" class=\"node\">\n",
       "<title>19</title>\n",
       "<path fill=\"#e5823b\" stroke=\"#000000\" d=\"M1267.5,-187C1267.5,-187 1080.5,-187 1080.5,-187 1074.5,-187 1068.5,-181 1068.5,-175 1068.5,-175 1068.5,-116 1068.5,-116 1068.5,-110 1074.5,-104 1080.5,-104 1080.5,-104 1267.5,-104 1267.5,-104 1273.5,-104 1279.5,-110 1279.5,-116 1279.5,-116 1279.5,-175 1279.5,-175 1279.5,-181 1273.5,-187 1267.5,-187\"/>\n",
       "<text text-anchor=\"middle\" x=\"1174\" y=\"-171.8\" font-family=\"Helvetica,sans-Serif\" font-size=\"14.00\" fill=\"#000000\">crime_subtype_Burglary &lt;= 0.5</text>\n",
       "<text text-anchor=\"middle\" x=\"1174\" y=\"-156.8\" font-family=\"Helvetica,sans-Serif\" font-size=\"14.00\" fill=\"#000000\">gini = 0.018</text>\n",
       "<text text-anchor=\"middle\" x=\"1174\" y=\"-141.8\" font-family=\"Helvetica,sans-Serif\" font-size=\"14.00\" fill=\"#000000\">samples = 109</text>\n",
       "<text text-anchor=\"middle\" x=\"1174\" y=\"-126.8\" font-family=\"Helvetica,sans-Serif\" font-size=\"14.00\" fill=\"#000000\">value = [108, 1]</text>\n",
       "<text text-anchor=\"middle\" x=\"1174\" y=\"-111.8\" font-family=\"Helvetica,sans-Serif\" font-size=\"14.00\" fill=\"#000000\">class = 0</text>\n",
       "</g>\n",
       "<!-- 18&#45;&gt;19 -->\n",
       "<g id=\"edge19\" class=\"edge\">\n",
       "<title>18&#45;&gt;19</title>\n",
       "<path fill=\"none\" stroke=\"#000000\" d=\"M1284.5422,-222.8796C1270.6954,-213.1868 1255.8516,-202.7961 1241.6788,-192.8752\"/>\n",
       "<polygon fill=\"#000000\" stroke=\"#000000\" points=\"1243.6236,-189.9643 1233.4242,-187.0969 1239.6094,-195.6989 1243.6236,-189.9643\"/>\n",
       "</g>\n",
       "<!-- 22 -->\n",
       "<g id=\"node23\" class=\"node\">\n",
       "<title>22</title>\n",
       "<path fill=\"#eeab7b\" stroke=\"#000000\" d=\"M1490.5,-187C1490.5,-187 1309.5,-187 1309.5,-187 1303.5,-187 1297.5,-181 1297.5,-175 1297.5,-175 1297.5,-116 1297.5,-116 1297.5,-110 1303.5,-104 1309.5,-104 1309.5,-104 1490.5,-104 1490.5,-104 1496.5,-104 1502.5,-110 1502.5,-116 1502.5,-116 1502.5,-175 1502.5,-175 1502.5,-181 1496.5,-187 1490.5,-187\"/>\n",
       "<text text-anchor=\"middle\" x=\"1400\" y=\"-171.8\" font-family=\"Helvetica,sans-Serif\" font-size=\"14.00\" fill=\"#000000\">crime_subtype_Assault &lt;= 0.5</text>\n",
       "<text text-anchor=\"middle\" x=\"1400\" y=\"-156.8\" font-family=\"Helvetica,sans-Serif\" font-size=\"14.00\" fill=\"#000000\">gini = 0.375</text>\n",
       "<text text-anchor=\"middle\" x=\"1400\" y=\"-141.8\" font-family=\"Helvetica,sans-Serif\" font-size=\"14.00\" fill=\"#000000\">samples = 4</text>\n",
       "<text text-anchor=\"middle\" x=\"1400\" y=\"-126.8\" font-family=\"Helvetica,sans-Serif\" font-size=\"14.00\" fill=\"#000000\">value = [3, 1]</text>\n",
       "<text text-anchor=\"middle\" x=\"1400\" y=\"-111.8\" font-family=\"Helvetica,sans-Serif\" font-size=\"14.00\" fill=\"#000000\">class = 0</text>\n",
       "</g>\n",
       "<!-- 18&#45;&gt;22 -->\n",
       "<g id=\"edge22\" class=\"edge\">\n",
       "<title>18&#45;&gt;22</title>\n",
       "<path fill=\"none\" stroke=\"#000000\" d=\"M1363.5861,-222.8796C1367.6124,-214.3236 1371.8947,-205.2238 1376.0549,-196.3833\"/>\n",
       "<polygon fill=\"#000000\" stroke=\"#000000\" points=\"1379.2392,-197.8366 1380.3303,-187.2981 1372.9054,-194.856 1379.2392,-197.8366\"/>\n",
       "</g>\n",
       "<!-- 20 -->\n",
       "<g id=\"node21\" class=\"node\">\n",
       "<title>20</title>\n",
       "<path fill=\"#e58139\" stroke=\"#000000\" d=\"M1189.5,-68C1189.5,-68 1108.5,-68 1108.5,-68 1102.5,-68 1096.5,-62 1096.5,-56 1096.5,-56 1096.5,-12 1096.5,-12 1096.5,-6 1102.5,0 1108.5,0 1108.5,0 1189.5,0 1189.5,0 1195.5,0 1201.5,-6 1201.5,-12 1201.5,-12 1201.5,-56 1201.5,-56 1201.5,-62 1195.5,-68 1189.5,-68\"/>\n",
       "<text text-anchor=\"middle\" x=\"1149\" y=\"-52.8\" font-family=\"Helvetica,sans-Serif\" font-size=\"14.00\" fill=\"#000000\">gini = 0.0</text>\n",
       "<text text-anchor=\"middle\" x=\"1149\" y=\"-37.8\" font-family=\"Helvetica,sans-Serif\" font-size=\"14.00\" fill=\"#000000\">samples = 97</text>\n",
       "<text text-anchor=\"middle\" x=\"1149\" y=\"-22.8\" font-family=\"Helvetica,sans-Serif\" font-size=\"14.00\" fill=\"#000000\">value = [97, 0]</text>\n",
       "<text text-anchor=\"middle\" x=\"1149\" y=\"-7.8\" font-family=\"Helvetica,sans-Serif\" font-size=\"14.00\" fill=\"#000000\">class = 0</text>\n",
       "</g>\n",
       "<!-- 19&#45;&gt;20 -->\n",
       "<g id=\"edge20\" class=\"edge\">\n",
       "<title>19&#45;&gt;20</title>\n",
       "<path fill=\"none\" stroke=\"#000000\" d=\"M1164.6909,-103.9815C1162.7951,-95.5261 1160.7943,-86.6026 1158.8794,-78.0623\"/>\n",
       "<polygon fill=\"#000000\" stroke=\"#000000\" points=\"1162.2856,-77.2556 1156.6824,-68.2637 1155.4551,-78.7872 1162.2856,-77.2556\"/>\n",
       "</g>\n",
       "<!-- 21 -->\n",
       "<g id=\"node22\" class=\"node\">\n",
       "<title>21</title>\n",
       "<path fill=\"#e78c4b\" stroke=\"#000000\" d=\"M1312.5,-68C1312.5,-68 1231.5,-68 1231.5,-68 1225.5,-68 1219.5,-62 1219.5,-56 1219.5,-56 1219.5,-12 1219.5,-12 1219.5,-6 1225.5,0 1231.5,0 1231.5,0 1312.5,0 1312.5,0 1318.5,0 1324.5,-6 1324.5,-12 1324.5,-12 1324.5,-56 1324.5,-56 1324.5,-62 1318.5,-68 1312.5,-68\"/>\n",
       "<text text-anchor=\"middle\" x=\"1272\" y=\"-52.8\" font-family=\"Helvetica,sans-Serif\" font-size=\"14.00\" fill=\"#000000\">gini = 0.153</text>\n",
       "<text text-anchor=\"middle\" x=\"1272\" y=\"-37.8\" font-family=\"Helvetica,sans-Serif\" font-size=\"14.00\" fill=\"#000000\">samples = 12</text>\n",
       "<text text-anchor=\"middle\" x=\"1272\" y=\"-22.8\" font-family=\"Helvetica,sans-Serif\" font-size=\"14.00\" fill=\"#000000\">value = [11, 1]</text>\n",
       "<text text-anchor=\"middle\" x=\"1272\" y=\"-7.8\" font-family=\"Helvetica,sans-Serif\" font-size=\"14.00\" fill=\"#000000\">class = 0</text>\n",
       "</g>\n",
       "<!-- 19&#45;&gt;21 -->\n",
       "<g id=\"edge21\" class=\"edge\">\n",
       "<title>19&#45;&gt;21</title>\n",
       "<path fill=\"none\" stroke=\"#000000\" d=\"M1210.4916,-103.9815C1218.5695,-94.7908 1227.1334,-85.0472 1235.2226,-75.8436\"/>\n",
       "<polygon fill=\"#000000\" stroke=\"#000000\" points=\"1237.912,-78.0855 1241.8848,-68.2637 1232.6542,-73.4642 1237.912,-78.0855\"/>\n",
       "</g>\n",
       "<!-- 23 -->\n",
       "<g id=\"node24\" class=\"node\">\n",
       "<title>23</title>\n",
       "<path fill=\"#e58139\" stroke=\"#000000\" d=\"M1427.5,-68C1427.5,-68 1354.5,-68 1354.5,-68 1348.5,-68 1342.5,-62 1342.5,-56 1342.5,-56 1342.5,-12 1342.5,-12 1342.5,-6 1348.5,0 1354.5,0 1354.5,0 1427.5,0 1427.5,0 1433.5,0 1439.5,-6 1439.5,-12 1439.5,-12 1439.5,-56 1439.5,-56 1439.5,-62 1433.5,-68 1427.5,-68\"/>\n",
       "<text text-anchor=\"middle\" x=\"1391\" y=\"-52.8\" font-family=\"Helvetica,sans-Serif\" font-size=\"14.00\" fill=\"#000000\">gini = 0.0</text>\n",
       "<text text-anchor=\"middle\" x=\"1391\" y=\"-37.8\" font-family=\"Helvetica,sans-Serif\" font-size=\"14.00\" fill=\"#000000\">samples = 3</text>\n",
       "<text text-anchor=\"middle\" x=\"1391\" y=\"-22.8\" font-family=\"Helvetica,sans-Serif\" font-size=\"14.00\" fill=\"#000000\">value = [3, 0]</text>\n",
       "<text text-anchor=\"middle\" x=\"1391\" y=\"-7.8\" font-family=\"Helvetica,sans-Serif\" font-size=\"14.00\" fill=\"#000000\">class = 0</text>\n",
       "</g>\n",
       "<!-- 22&#45;&gt;23 -->\n",
       "<g id=\"edge23\" class=\"edge\">\n",
       "<title>22&#45;&gt;23</title>\n",
       "<path fill=\"none\" stroke=\"#000000\" d=\"M1396.6487,-103.9815C1395.9737,-95.618 1395.2616,-86.7965 1394.5791,-78.3409\"/>\n",
       "<polygon fill=\"#000000\" stroke=\"#000000\" points=\"1398.059,-77.9496 1393.7657,-68.2637 1391.0817,-78.5129 1398.059,-77.9496\"/>\n",
       "</g>\n",
       "<!-- 24 -->\n",
       "<g id=\"node25\" class=\"node\">\n",
       "<title>24</title>\n",
       "<path fill=\"#399de5\" stroke=\"#000000\" d=\"M1542.5,-68C1542.5,-68 1469.5,-68 1469.5,-68 1463.5,-68 1457.5,-62 1457.5,-56 1457.5,-56 1457.5,-12 1457.5,-12 1457.5,-6 1463.5,0 1469.5,0 1469.5,0 1542.5,0 1542.5,0 1548.5,0 1554.5,-6 1554.5,-12 1554.5,-12 1554.5,-56 1554.5,-56 1554.5,-62 1548.5,-68 1542.5,-68\"/>\n",
       "<text text-anchor=\"middle\" x=\"1506\" y=\"-52.8\" font-family=\"Helvetica,sans-Serif\" font-size=\"14.00\" fill=\"#000000\">gini = 0.0</text>\n",
       "<text text-anchor=\"middle\" x=\"1506\" y=\"-37.8\" font-family=\"Helvetica,sans-Serif\" font-size=\"14.00\" fill=\"#000000\">samples = 1</text>\n",
       "<text text-anchor=\"middle\" x=\"1506\" y=\"-22.8\" font-family=\"Helvetica,sans-Serif\" font-size=\"14.00\" fill=\"#000000\">value = [0, 1]</text>\n",
       "<text text-anchor=\"middle\" x=\"1506\" y=\"-7.8\" font-family=\"Helvetica,sans-Serif\" font-size=\"14.00\" fill=\"#000000\">class = 1</text>\n",
       "</g>\n",
       "<!-- 22&#45;&gt;24 -->\n",
       "<g id=\"edge24\" class=\"edge\">\n",
       "<title>22&#45;&gt;24</title>\n",
       "<path fill=\"none\" stroke=\"#000000\" d=\"M1439.4705,-103.9815C1448.2952,-94.6989 1457.6562,-84.8522 1466.4827,-75.5677\"/>\n",
       "<polygon fill=\"#000000\" stroke=\"#000000\" points=\"1469.073,-77.9228 1473.4265,-68.2637 1463.9997,-73.0997 1469.073,-77.9228\"/>\n",
       "</g>\n",
       "<!-- 26 -->\n",
       "<g id=\"node27\" class=\"node\">\n",
       "<title>26</title>\n",
       "<path fill=\"#ea9b62\" stroke=\"#000000\" d=\"M1716,-187C1716,-187 1542,-187 1542,-187 1536,-187 1530,-181 1530,-175 1530,-175 1530,-116 1530,-116 1530,-110 1536,-104 1542,-104 1542,-104 1716,-104 1716,-104 1722,-104 1728,-110 1728,-116 1728,-116 1728,-175 1728,-175 1728,-181 1722,-187 1716,-187\"/>\n",
       "<text text-anchor=\"middle\" x=\"1629\" y=\"-171.8\" font-family=\"Helvetica,sans-Serif\" font-size=\"14.00\" fill=\"#000000\">crime_class_C Felony &lt;= 0.5</text>\n",
       "<text text-anchor=\"middle\" x=\"1629\" y=\"-156.8\" font-family=\"Helvetica,sans-Serif\" font-size=\"14.00\" fill=\"#000000\">gini = 0.284</text>\n",
       "<text text-anchor=\"middle\" x=\"1629\" y=\"-141.8\" font-family=\"Helvetica,sans-Serif\" font-size=\"14.00\" fill=\"#000000\">samples = 134</text>\n",
       "<text text-anchor=\"middle\" x=\"1629\" y=\"-126.8\" font-family=\"Helvetica,sans-Serif\" font-size=\"14.00\" fill=\"#000000\">value = [111, 23]</text>\n",
       "<text text-anchor=\"middle\" x=\"1629\" y=\"-111.8\" font-family=\"Helvetica,sans-Serif\" font-size=\"14.00\" fill=\"#000000\">class = 0</text>\n",
       "</g>\n",
       "<!-- 25&#45;&gt;26 -->\n",
       "<g id=\"edge26\" class=\"edge\">\n",
       "<title>25&#45;&gt;26</title>\n",
       "<path fill=\"none\" stroke=\"#000000\" d=\"M1665.4139,-222.8796C1661.3876,-214.3236 1657.1053,-205.2238 1652.9451,-196.3833\"/>\n",
       "<polygon fill=\"#000000\" stroke=\"#000000\" points=\"1656.0946,-194.856 1648.6697,-187.2981 1649.7608,-197.8366 1656.0946,-194.856\"/>\n",
       "</g>\n",
       "<!-- 29 -->\n",
       "<g id=\"node30\" class=\"node\">\n",
       "<title>29</title>\n",
       "<path fill=\"#399de5\" stroke=\"#000000\" d=\"M1831.5,-179.5C1831.5,-179.5 1758.5,-179.5 1758.5,-179.5 1752.5,-179.5 1746.5,-173.5 1746.5,-167.5 1746.5,-167.5 1746.5,-123.5 1746.5,-123.5 1746.5,-117.5 1752.5,-111.5 1758.5,-111.5 1758.5,-111.5 1831.5,-111.5 1831.5,-111.5 1837.5,-111.5 1843.5,-117.5 1843.5,-123.5 1843.5,-123.5 1843.5,-167.5 1843.5,-167.5 1843.5,-173.5 1837.5,-179.5 1831.5,-179.5\"/>\n",
       "<text text-anchor=\"middle\" x=\"1795\" y=\"-164.3\" font-family=\"Helvetica,sans-Serif\" font-size=\"14.00\" fill=\"#000000\">gini = 0.0</text>\n",
       "<text text-anchor=\"middle\" x=\"1795\" y=\"-149.3\" font-family=\"Helvetica,sans-Serif\" font-size=\"14.00\" fill=\"#000000\">samples = 2</text>\n",
       "<text text-anchor=\"middle\" x=\"1795\" y=\"-134.3\" font-family=\"Helvetica,sans-Serif\" font-size=\"14.00\" fill=\"#000000\">value = [0, 2]</text>\n",
       "<text text-anchor=\"middle\" x=\"1795\" y=\"-119.3\" font-family=\"Helvetica,sans-Serif\" font-size=\"14.00\" fill=\"#000000\">class = 1</text>\n",
       "</g>\n",
       "<!-- 25&#45;&gt;29 -->\n",
       "<g id=\"edge29\" class=\"edge\">\n",
       "<title>25&#45;&gt;29</title>\n",
       "<path fill=\"none\" stroke=\"#000000\" d=\"M1723.4727,-222.8796C1734.1453,-211.3337 1745.7333,-198.7976 1756.4125,-187.2446\"/>\n",
       "<polygon fill=\"#000000\" stroke=\"#000000\" points=\"1759.0625,-189.534 1763.2803,-179.8149 1753.9222,-184.7825 1759.0625,-189.534\"/>\n",
       "</g>\n",
       "<!-- 27 -->\n",
       "<g id=\"node28\" class=\"node\">\n",
       "<title>27</title>\n",
       "<path fill=\"#e99355\" stroke=\"#000000\" d=\"M1673.5,-68C1673.5,-68 1584.5,-68 1584.5,-68 1578.5,-68 1572.5,-62 1572.5,-56 1572.5,-56 1572.5,-12 1572.5,-12 1572.5,-6 1578.5,0 1584.5,0 1584.5,0 1673.5,0 1673.5,0 1679.5,0 1685.5,-6 1685.5,-12 1685.5,-12 1685.5,-56 1685.5,-56 1685.5,-62 1679.5,-68 1673.5,-68\"/>\n",
       "<text text-anchor=\"middle\" x=\"1629\" y=\"-52.8\" font-family=\"Helvetica,sans-Serif\" font-size=\"14.00\" fill=\"#000000\">gini = 0.219</text>\n",
       "<text text-anchor=\"middle\" x=\"1629\" y=\"-37.8\" font-family=\"Helvetica,sans-Serif\" font-size=\"14.00\" fill=\"#000000\">samples = 80</text>\n",
       "<text text-anchor=\"middle\" x=\"1629\" y=\"-22.8\" font-family=\"Helvetica,sans-Serif\" font-size=\"14.00\" fill=\"#000000\">value = [70, 10]</text>\n",
       "<text text-anchor=\"middle\" x=\"1629\" y=\"-7.8\" font-family=\"Helvetica,sans-Serif\" font-size=\"14.00\" fill=\"#000000\">class = 0</text>\n",
       "</g>\n",
       "<!-- 26&#45;&gt;27 -->\n",
       "<g id=\"edge27\" class=\"edge\">\n",
       "<title>26&#45;&gt;27</title>\n",
       "<path fill=\"none\" stroke=\"#000000\" d=\"M1629,-103.9815C1629,-95.618 1629,-86.7965 1629,-78.3409\"/>\n",
       "<polygon fill=\"#000000\" stroke=\"#000000\" points=\"1632.5001,-78.2636 1629,-68.2637 1625.5001,-78.2637 1632.5001,-78.2636\"/>\n",
       "</g>\n",
       "<!-- 28 -->\n",
       "<g id=\"node29\" class=\"node\">\n",
       "<title>28</title>\n",
       "<path fill=\"#eda978\" stroke=\"#000000\" d=\"M1804.5,-68C1804.5,-68 1715.5,-68 1715.5,-68 1709.5,-68 1703.5,-62 1703.5,-56 1703.5,-56 1703.5,-12 1703.5,-12 1703.5,-6 1709.5,0 1715.5,0 1715.5,0 1804.5,0 1804.5,0 1810.5,0 1816.5,-6 1816.5,-12 1816.5,-12 1816.5,-56 1816.5,-56 1816.5,-62 1810.5,-68 1804.5,-68\"/>\n",
       "<text text-anchor=\"middle\" x=\"1760\" y=\"-52.8\" font-family=\"Helvetica,sans-Serif\" font-size=\"14.00\" fill=\"#000000\">gini = 0.366</text>\n",
       "<text text-anchor=\"middle\" x=\"1760\" y=\"-37.8\" font-family=\"Helvetica,sans-Serif\" font-size=\"14.00\" fill=\"#000000\">samples = 54</text>\n",
       "<text text-anchor=\"middle\" x=\"1760\" y=\"-22.8\" font-family=\"Helvetica,sans-Serif\" font-size=\"14.00\" fill=\"#000000\">value = [41, 13]</text>\n",
       "<text text-anchor=\"middle\" x=\"1760\" y=\"-7.8\" font-family=\"Helvetica,sans-Serif\" font-size=\"14.00\" fill=\"#000000\">class = 0</text>\n",
       "</g>\n",
       "<!-- 26&#45;&gt;28 -->\n",
       "<g id=\"edge28\" class=\"edge\">\n",
       "<title>26&#45;&gt;28</title>\n",
       "<path fill=\"none\" stroke=\"#000000\" d=\"M1677.7796,-103.9815C1688.9015,-94.5151 1700.7128,-84.462 1711.8099,-75.0168\"/>\n",
       "<polygon fill=\"#000000\" stroke=\"#000000\" points=\"1714.3975,-77.4105 1719.744,-68.2637 1709.8604,-72.08 1714.3975,-77.4105\"/>\n",
       "</g>\n",
       "<!-- 31 -->\n",
       "<g id=\"node32\" class=\"node\">\n",
       "<title>31</title>\n",
       "<path fill=\"#f4cbad\" stroke=\"#000000\" d=\"M2328,-425C2328,-425 2208,-425 2208,-425 2202,-425 2196,-419 2196,-413 2196,-413 2196,-354 2196,-354 2196,-348 2202,-342 2208,-342 2208,-342 2328,-342 2328,-342 2334,-342 2340,-348 2340,-354 2340,-354 2340,-413 2340,-413 2340,-419 2334,-425 2328,-425\"/>\n",
       "<text text-anchor=\"middle\" x=\"2268\" y=\"-409.8\" font-family=\"Helvetica,sans-Serif\" font-size=\"14.00\" fill=\"#000000\">sex_Female &lt;= 0.5</text>\n",
       "<text text-anchor=\"middle\" x=\"2268\" y=\"-394.8\" font-family=\"Helvetica,sans-Serif\" font-size=\"14.00\" fill=\"#000000\">gini = 0.466</text>\n",
       "<text text-anchor=\"middle\" x=\"2268\" y=\"-379.8\" font-family=\"Helvetica,sans-Serif\" font-size=\"14.00\" fill=\"#000000\">samples = 6774</text>\n",
       "<text text-anchor=\"middle\" x=\"2268\" y=\"-364.8\" font-family=\"Helvetica,sans-Serif\" font-size=\"14.00\" fill=\"#000000\">value = [4275, 2499]</text>\n",
       "<text text-anchor=\"middle\" x=\"2268\" y=\"-349.8\" font-family=\"Helvetica,sans-Serif\" font-size=\"14.00\" fill=\"#000000\">class = 0</text>\n",
       "</g>\n",
       "<!-- 30&#45;&gt;31 -->\n",
       "<g id=\"edge31\" class=\"edge\">\n",
       "<title>30&#45;&gt;31</title>\n",
       "<path fill=\"none\" stroke=\"#000000\" d=\"M2268,-460.8796C2268,-452.6838 2268,-443.9891 2268,-435.5013\"/>\n",
       "<polygon fill=\"#000000\" stroke=\"#000000\" points=\"2271.5001,-435.298 2268,-425.2981 2264.5001,-435.2981 2271.5001,-435.298\"/>\n",
       "</g>\n",
       "<!-- 44 -->\n",
       "<g id=\"node45\" class=\"node\">\n",
       "<title>44</title>\n",
       "<path fill=\"#eba069\" stroke=\"#000000\" d=\"M3179,-425C3179,-425 3007,-425 3007,-425 3001,-425 2995,-419 2995,-413 2995,-413 2995,-354 2995,-354 2995,-348 3001,-342 3007,-342 3007,-342 3179,-342 3179,-342 3185,-342 3191,-348 3191,-354 3191,-354 3191,-413 3191,-413 3191,-419 3185,-425 3179,-425\"/>\n",
       "<text text-anchor=\"middle\" x=\"3093\" y=\"-409.8\" font-family=\"Helvetica,sans-Serif\" font-size=\"14.00\" fill=\"#000000\">release_type_Missing &lt;= 0.5</text>\n",
       "<text text-anchor=\"middle\" x=\"3093\" y=\"-394.8\" font-family=\"Helvetica,sans-Serif\" font-size=\"14.00\" fill=\"#000000\">gini = 0.315</text>\n",
       "<text text-anchor=\"middle\" x=\"3093\" y=\"-379.8\" font-family=\"Helvetica,sans-Serif\" font-size=\"14.00\" fill=\"#000000\">samples = 1156</text>\n",
       "<text text-anchor=\"middle\" x=\"3093\" y=\"-364.8\" font-family=\"Helvetica,sans-Serif\" font-size=\"14.00\" fill=\"#000000\">value = [930, 226]</text>\n",
       "<text text-anchor=\"middle\" x=\"3093\" y=\"-349.8\" font-family=\"Helvetica,sans-Serif\" font-size=\"14.00\" fill=\"#000000\">class = 0</text>\n",
       "</g>\n",
       "<!-- 30&#45;&gt;44 -->\n",
       "<g id=\"edge44\" class=\"edge\">\n",
       "<title>30&#45;&gt;44</title>\n",
       "<path fill=\"none\" stroke=\"#000000\" d=\"M2347.8541,-490.9817C2496.6595,-469.5176 2816.4745,-423.3867 2984.6185,-399.1332\"/>\n",
       "<polygon fill=\"#000000\" stroke=\"#000000\" points=\"2985.3328,-402.5665 2994.7306,-397.6746 2984.3334,-395.6382 2985.3328,-402.5665\"/>\n",
       "</g>\n",
       "<!-- 32 -->\n",
       "<g id=\"node33\" class=\"node\">\n",
       "<title>32</title>\n",
       "<path fill=\"#f5d0b5\" stroke=\"#000000\" d=\"M2196,-306C2196,-306 2076,-306 2076,-306 2070,-306 2064,-300 2064,-294 2064,-294 2064,-235 2064,-235 2064,-229 2070,-223 2076,-223 2076,-223 2196,-223 2196,-223 2202,-223 2208,-229 2208,-235 2208,-235 2208,-294 2208,-294 2208,-300 2202,-306 2196,-306\"/>\n",
       "<text text-anchor=\"middle\" x=\"2136\" y=\"-290.8\" font-family=\"Helvetica,sans-Serif\" font-size=\"14.00\" fill=\"#000000\">sex_Male &lt;= 0.5</text>\n",
       "<text text-anchor=\"middle\" x=\"2136\" y=\"-275.8\" font-family=\"Helvetica,sans-Serif\" font-size=\"14.00\" fill=\"#000000\">gini = 0.474</text>\n",
       "<text text-anchor=\"middle\" x=\"2136\" y=\"-260.8\" font-family=\"Helvetica,sans-Serif\" font-size=\"14.00\" fill=\"#000000\">samples = 6201</text>\n",
       "<text text-anchor=\"middle\" x=\"2136\" y=\"-245.8\" font-family=\"Helvetica,sans-Serif\" font-size=\"14.00\" fill=\"#000000\">value = [3808, 2393]</text>\n",
       "<text text-anchor=\"middle\" x=\"2136\" y=\"-230.8\" font-family=\"Helvetica,sans-Serif\" font-size=\"14.00\" fill=\"#000000\">class = 0</text>\n",
       "</g>\n",
       "<!-- 31&#45;&gt;32 -->\n",
       "<g id=\"edge32\" class=\"edge\">\n",
       "<title>31&#45;&gt;32</title>\n",
       "<path fill=\"none\" stroke=\"#000000\" d=\"M2221.8328,-341.8796C2211.5429,-332.6031 2200.544,-322.6874 2189.9713,-313.1559\"/>\n",
       "<polygon fill=\"#000000\" stroke=\"#000000\" points=\"2192.1352,-310.3944 2182.3642,-306.2981 2187.4481,-315.5935 2192.1352,-310.3944\"/>\n",
       "</g>\n",
       "<!-- 37 -->\n",
       "<g id=\"node38\" class=\"node\">\n",
       "<title>37</title>\n",
       "<path fill=\"#eb9e66\" stroke=\"#000000\" d=\"M2512.5,-306C2512.5,-306 2287.5,-306 2287.5,-306 2281.5,-306 2275.5,-300 2275.5,-294 2275.5,-294 2275.5,-235 2275.5,-235 2275.5,-229 2281.5,-223 2287.5,-223 2287.5,-223 2512.5,-223 2512.5,-223 2518.5,-223 2524.5,-229 2524.5,-235 2524.5,-235 2524.5,-294 2524.5,-294 2524.5,-300 2518.5,-306 2512.5,-306\"/>\n",
       "<text text-anchor=\"middle\" x=\"2400\" y=\"-290.8\" font-family=\"Helvetica,sans-Serif\" font-size=\"14.00\" fill=\"#000000\">crime_subtype_Other Criminal &lt;= 0.5</text>\n",
       "<text text-anchor=\"middle\" x=\"2400\" y=\"-275.8\" font-family=\"Helvetica,sans-Serif\" font-size=\"14.00\" fill=\"#000000\">gini = 0.302</text>\n",
       "<text text-anchor=\"middle\" x=\"2400\" y=\"-260.8\" font-family=\"Helvetica,sans-Serif\" font-size=\"14.00\" fill=\"#000000\">samples = 573</text>\n",
       "<text text-anchor=\"middle\" x=\"2400\" y=\"-245.8\" font-family=\"Helvetica,sans-Serif\" font-size=\"14.00\" fill=\"#000000\">value = [467, 106]</text>\n",
       "<text text-anchor=\"middle\" x=\"2400\" y=\"-230.8\" font-family=\"Helvetica,sans-Serif\" font-size=\"14.00\" fill=\"#000000\">class = 0</text>\n",
       "</g>\n",
       "<!-- 31&#45;&gt;37 -->\n",
       "<g id=\"edge37\" class=\"edge\">\n",
       "<title>31&#45;&gt;37</title>\n",
       "<path fill=\"none\" stroke=\"#000000\" d=\"M2314.1672,-341.8796C2324.4571,-332.6031 2335.456,-322.6874 2346.0287,-313.1559\"/>\n",
       "<polygon fill=\"#000000\" stroke=\"#000000\" points=\"2348.5519,-315.5935 2353.6358,-306.2981 2343.8648,-310.3944 2348.5519,-315.5935\"/>\n",
       "</g>\n",
       "<!-- 33 -->\n",
       "<g id=\"node34\" class=\"node\">\n",
       "<title>33</title>\n",
       "<path fill=\"#399de5\" stroke=\"#000000\" d=\"M1954.5,-179.5C1954.5,-179.5 1873.5,-179.5 1873.5,-179.5 1867.5,-179.5 1861.5,-173.5 1861.5,-167.5 1861.5,-167.5 1861.5,-123.5 1861.5,-123.5 1861.5,-117.5 1867.5,-111.5 1873.5,-111.5 1873.5,-111.5 1954.5,-111.5 1954.5,-111.5 1960.5,-111.5 1966.5,-117.5 1966.5,-123.5 1966.5,-123.5 1966.5,-167.5 1966.5,-167.5 1966.5,-173.5 1960.5,-179.5 1954.5,-179.5\"/>\n",
       "<text text-anchor=\"middle\" x=\"1914\" y=\"-164.3\" font-family=\"Helvetica,sans-Serif\" font-size=\"14.00\" fill=\"#000000\">gini = 0.0</text>\n",
       "<text text-anchor=\"middle\" x=\"1914\" y=\"-149.3\" font-family=\"Helvetica,sans-Serif\" font-size=\"14.00\" fill=\"#000000\">samples = 81</text>\n",
       "<text text-anchor=\"middle\" x=\"1914\" y=\"-134.3\" font-family=\"Helvetica,sans-Serif\" font-size=\"14.00\" fill=\"#000000\">value = [0, 81]</text>\n",
       "<text text-anchor=\"middle\" x=\"1914\" y=\"-119.3\" font-family=\"Helvetica,sans-Serif\" font-size=\"14.00\" fill=\"#000000\">class = 1</text>\n",
       "</g>\n",
       "<!-- 32&#45;&gt;33 -->\n",
       "<g id=\"edge33\" class=\"edge\">\n",
       "<title>32&#45;&gt;33</title>\n",
       "<path fill=\"none\" stroke=\"#000000\" d=\"M2063.6172,-232.0505C2035.7812,-218.8978 2003.983,-203.0393 1976,-187 1974.8622,-186.3478 1973.7174,-185.6823 1972.568,-185.0056\"/>\n",
       "<polygon fill=\"#000000\" stroke=\"#000000\" points=\"1974.0692,-181.8227 1963.7034,-179.6313 1970.4401,-187.8086 1974.0692,-181.8227\"/>\n",
       "</g>\n",
       "<!-- 34 -->\n",
       "<g id=\"node35\" class=\"node\">\n",
       "<title>34</title>\n",
       "<path fill=\"#f5ceb1\" stroke=\"#000000\" d=\"M2275,-187C2275,-187 1997,-187 1997,-187 1991,-187 1985,-181 1985,-175 1985,-175 1985,-116 1985,-116 1985,-110 1991,-104 1997,-104 1997,-104 2275,-104 2275,-104 2281,-104 2287,-110 2287,-116 2287,-116 2287,-175 2287,-175 2287,-181 2281,-187 2275,-187\"/>\n",
       "<text text-anchor=\"middle\" x=\"2136\" y=\"-171.8\" font-family=\"Helvetica,sans-Serif\" font-size=\"14.00\" fill=\"#000000\">crime_class_Aggravated Misdemeanor &lt;= 0.5</text>\n",
       "<text text-anchor=\"middle\" x=\"2136\" y=\"-156.8\" font-family=\"Helvetica,sans-Serif\" font-size=\"14.00\" fill=\"#000000\">gini = 0.47</text>\n",
       "<text text-anchor=\"middle\" x=\"2136\" y=\"-141.8\" font-family=\"Helvetica,sans-Serif\" font-size=\"14.00\" fill=\"#000000\">samples = 6120</text>\n",
       "<text text-anchor=\"middle\" x=\"2136\" y=\"-126.8\" font-family=\"Helvetica,sans-Serif\" font-size=\"14.00\" fill=\"#000000\">value = [3808, 2312]</text>\n",
       "<text text-anchor=\"middle\" x=\"2136\" y=\"-111.8\" font-family=\"Helvetica,sans-Serif\" font-size=\"14.00\" fill=\"#000000\">class = 0</text>\n",
       "</g>\n",
       "<!-- 32&#45;&gt;34 -->\n",
       "<g id=\"edge34\" class=\"edge\">\n",
       "<title>32&#45;&gt;34</title>\n",
       "<path fill=\"none\" stroke=\"#000000\" d=\"M2136,-222.8796C2136,-214.6838 2136,-205.9891 2136,-197.5013\"/>\n",
       "<polygon fill=\"#000000\" stroke=\"#000000\" points=\"2139.5001,-197.298 2136,-187.2981 2132.5001,-197.2981 2139.5001,-197.298\"/>\n",
       "</g>\n",
       "<!-- 35 -->\n",
       "<g id=\"node36\" class=\"node\">\n",
       "<title>35</title>\n",
       "<path fill=\"#f2c2a0\" stroke=\"#000000\" d=\"M2050,-68C2050,-68 1930,-68 1930,-68 1924,-68 1918,-62 1918,-56 1918,-56 1918,-12 1918,-12 1918,-6 1924,0 1930,0 1930,0 2050,0 2050,0 2056,0 2062,-6 2062,-12 2062,-12 2062,-56 2062,-56 2062,-62 2056,-68 2050,-68\"/>\n",
       "<text text-anchor=\"middle\" x=\"1990\" y=\"-52.8\" font-family=\"Helvetica,sans-Serif\" font-size=\"14.00\" fill=\"#000000\">gini = 0.45</text>\n",
       "<text text-anchor=\"middle\" x=\"1990\" y=\"-37.8\" font-family=\"Helvetica,sans-Serif\" font-size=\"14.00\" fill=\"#000000\">samples = 4145</text>\n",
       "<text text-anchor=\"middle\" x=\"1990\" y=\"-22.8\" font-family=\"Helvetica,sans-Serif\" font-size=\"14.00\" fill=\"#000000\">value = [2730, 1415]</text>\n",
       "<text text-anchor=\"middle\" x=\"1990\" y=\"-7.8\" font-family=\"Helvetica,sans-Serif\" font-size=\"14.00\" fill=\"#000000\">class = 0</text>\n",
       "</g>\n",
       "<!-- 34&#45;&gt;35 -->\n",
       "<g id=\"edge35\" class=\"edge\">\n",
       "<title>34&#45;&gt;35</title>\n",
       "<path fill=\"none\" stroke=\"#000000\" d=\"M2081.635,-103.9815C2068.9989,-94.3313 2055.5644,-84.0714 2042.9885,-74.4673\"/>\n",
       "<polygon fill=\"#000000\" stroke=\"#000000\" points=\"2044.9372,-71.5515 2034.8654,-68.2637 2040.6886,-77.1148 2044.9372,-71.5515\"/>\n",
       "</g>\n",
       "<!-- 36 -->\n",
       "<g id=\"node37\" class=\"node\">\n",
       "<title>36</title>\n",
       "<path fill=\"#fbeade\" stroke=\"#000000\" d=\"M2204,-68C2204,-68 2092,-68 2092,-68 2086,-68 2080,-62 2080,-56 2080,-56 2080,-12 2080,-12 2080,-6 2086,0 2092,0 2092,0 2204,0 2204,0 2210,0 2216,-6 2216,-12 2216,-12 2216,-56 2216,-56 2216,-62 2210,-68 2204,-68\"/>\n",
       "<text text-anchor=\"middle\" x=\"2148\" y=\"-52.8\" font-family=\"Helvetica,sans-Serif\" font-size=\"14.00\" fill=\"#000000\">gini = 0.496</text>\n",
       "<text text-anchor=\"middle\" x=\"2148\" y=\"-37.8\" font-family=\"Helvetica,sans-Serif\" font-size=\"14.00\" fill=\"#000000\">samples = 1975</text>\n",
       "<text text-anchor=\"middle\" x=\"2148\" y=\"-22.8\" font-family=\"Helvetica,sans-Serif\" font-size=\"14.00\" fill=\"#000000\">value = [1078, 897]</text>\n",
       "<text text-anchor=\"middle\" x=\"2148\" y=\"-7.8\" font-family=\"Helvetica,sans-Serif\" font-size=\"14.00\" fill=\"#000000\">class = 0</text>\n",
       "</g>\n",
       "<!-- 34&#45;&gt;36 -->\n",
       "<g id=\"edge36\" class=\"edge\">\n",
       "<title>34&#45;&gt;36</title>\n",
       "<path fill=\"none\" stroke=\"#000000\" d=\"M2140.4684,-103.9815C2141.3685,-95.618 2142.3179,-86.7965 2143.2279,-78.3409\"/>\n",
       "<polygon fill=\"#000000\" stroke=\"#000000\" points=\"2146.7222,-78.5808 2144.3124,-68.2637 2139.7624,-77.8317 2146.7222,-78.5808\"/>\n",
       "</g>\n",
       "<!-- 38 -->\n",
       "<g id=\"node39\" class=\"node\">\n",
       "<title>38</title>\n",
       "<path fill=\"#eb9d65\" stroke=\"#000000\" d=\"M2483,-187C2483,-187 2317,-187 2317,-187 2311,-187 2305,-181 2305,-175 2305,-175 2305,-116 2305,-116 2305,-110 2311,-104 2317,-104 2317,-104 2483,-104 2483,-104 2489,-104 2495,-110 2495,-116 2495,-116 2495,-175 2495,-175 2495,-181 2489,-187 2483,-187\"/>\n",
       "<text text-anchor=\"middle\" x=\"2400\" y=\"-171.8\" font-family=\"Helvetica,sans-Serif\" font-size=\"14.00\" fill=\"#000000\">race_ethnicity_White &lt;= 0.5</text>\n",
       "<text text-anchor=\"middle\" x=\"2400\" y=\"-156.8\" font-family=\"Helvetica,sans-Serif\" font-size=\"14.00\" fill=\"#000000\">gini = 0.295</text>\n",
       "<text text-anchor=\"middle\" x=\"2400\" y=\"-141.8\" font-family=\"Helvetica,sans-Serif\" font-size=\"14.00\" fill=\"#000000\">samples = 566</text>\n",
       "<text text-anchor=\"middle\" x=\"2400\" y=\"-126.8\" font-family=\"Helvetica,sans-Serif\" font-size=\"14.00\" fill=\"#000000\">value = [464, 102]</text>\n",
       "<text text-anchor=\"middle\" x=\"2400\" y=\"-111.8\" font-family=\"Helvetica,sans-Serif\" font-size=\"14.00\" fill=\"#000000\">class = 0</text>\n",
       "</g>\n",
       "<!-- 37&#45;&gt;38 -->\n",
       "<g id=\"edge38\" class=\"edge\">\n",
       "<title>37&#45;&gt;38</title>\n",
       "<path fill=\"none\" stroke=\"#000000\" d=\"M2400,-222.8796C2400,-214.6838 2400,-205.9891 2400,-197.5013\"/>\n",
       "<polygon fill=\"#000000\" stroke=\"#000000\" points=\"2403.5001,-197.298 2400,-187.2981 2396.5001,-197.2981 2403.5001,-197.298\"/>\n",
       "</g>\n",
       "<!-- 41 -->\n",
       "<g id=\"node42\" class=\"node\">\n",
       "<title>41</title>\n",
       "<path fill=\"#cee6f8\" stroke=\"#000000\" d=\"M2760.5,-187C2760.5,-187 2525.5,-187 2525.5,-187 2519.5,-187 2513.5,-181 2513.5,-175 2513.5,-175 2513.5,-116 2513.5,-116 2513.5,-110 2519.5,-104 2525.5,-104 2525.5,-104 2760.5,-104 2760.5,-104 2766.5,-104 2772.5,-110 2772.5,-116 2772.5,-116 2772.5,-175 2772.5,-175 2772.5,-181 2766.5,-187 2760.5,-187\"/>\n",
       "<text text-anchor=\"middle\" x=\"2643\" y=\"-171.8\" font-family=\"Helvetica,sans-Serif\" font-size=\"14.00\" fill=\"#000000\">crime_class_Felony &#45; Enhanced &lt;= 0.5</text>\n",
       "<text text-anchor=\"middle\" x=\"2643\" y=\"-156.8\" font-family=\"Helvetica,sans-Serif\" font-size=\"14.00\" fill=\"#000000\">gini = 0.49</text>\n",
       "<text text-anchor=\"middle\" x=\"2643\" y=\"-141.8\" font-family=\"Helvetica,sans-Serif\" font-size=\"14.00\" fill=\"#000000\">samples = 7</text>\n",
       "<text text-anchor=\"middle\" x=\"2643\" y=\"-126.8\" font-family=\"Helvetica,sans-Serif\" font-size=\"14.00\" fill=\"#000000\">value = [3, 4]</text>\n",
       "<text text-anchor=\"middle\" x=\"2643\" y=\"-111.8\" font-family=\"Helvetica,sans-Serif\" font-size=\"14.00\" fill=\"#000000\">class = 1</text>\n",
       "</g>\n",
       "<!-- 37&#45;&gt;41 -->\n",
       "<g id=\"edge41\" class=\"edge\">\n",
       "<title>37&#45;&gt;41</title>\n",
       "<path fill=\"none\" stroke=\"#000000\" d=\"M2484.9896,-222.8796C2505.6148,-212.7791 2527.7875,-201.9209 2548.8099,-191.626\"/>\n",
       "<polygon fill=\"#000000\" stroke=\"#000000\" points=\"2550.6168,-194.6384 2558.0584,-187.0969 2547.5381,-188.3517 2550.6168,-194.6384\"/>\n",
       "</g>\n",
       "<!-- 39 -->\n",
       "<g id=\"node40\" class=\"node\">\n",
       "<title>39</title>\n",
       "<path fill=\"#edaa79\" stroke=\"#000000\" d=\"M2390,-68C2390,-68 2294,-68 2294,-68 2288,-68 2282,-62 2282,-56 2282,-56 2282,-12 2282,-12 2282,-6 2288,0 2294,0 2294,0 2390,0 2390,0 2396,0 2402,-6 2402,-12 2402,-12 2402,-56 2402,-56 2402,-62 2396,-68 2390,-68\"/>\n",
       "<text text-anchor=\"middle\" x=\"2342\" y=\"-52.8\" font-family=\"Helvetica,sans-Serif\" font-size=\"14.00\" fill=\"#000000\">gini = 0.37</text>\n",
       "<text text-anchor=\"middle\" x=\"2342\" y=\"-37.8\" font-family=\"Helvetica,sans-Serif\" font-size=\"14.00\" fill=\"#000000\">samples = 188</text>\n",
       "<text text-anchor=\"middle\" x=\"2342\" y=\"-22.8\" font-family=\"Helvetica,sans-Serif\" font-size=\"14.00\" fill=\"#000000\">value = [142, 46]</text>\n",
       "<text text-anchor=\"middle\" x=\"2342\" y=\"-7.8\" font-family=\"Helvetica,sans-Serif\" font-size=\"14.00\" fill=\"#000000\">class = 0</text>\n",
       "</g>\n",
       "<!-- 38&#45;&gt;39 -->\n",
       "<g id=\"edge39\" class=\"edge\">\n",
       "<title>38&#45;&gt;39</title>\n",
       "<path fill=\"none\" stroke=\"#000000\" d=\"M2378.4029,-103.9815C2373.8612,-95.2504 2369.0598,-86.0202 2364.4863,-77.2281\"/>\n",
       "<polygon fill=\"#000000\" stroke=\"#000000\" points=\"2367.5431,-75.52 2359.8233,-68.2637 2361.3331,-78.7504 2367.5431,-75.52\"/>\n",
       "</g>\n",
       "<!-- 40 -->\n",
       "<g id=\"node41\" class=\"node\">\n",
       "<title>40</title>\n",
       "<path fill=\"#ea975b\" stroke=\"#000000\" d=\"M2528,-68C2528,-68 2432,-68 2432,-68 2426,-68 2420,-62 2420,-56 2420,-56 2420,-12 2420,-12 2420,-6 2426,0 2432,0 2432,0 2528,0 2528,0 2534,0 2540,-6 2540,-12 2540,-12 2540,-56 2540,-56 2540,-62 2534,-68 2528,-68\"/>\n",
       "<text text-anchor=\"middle\" x=\"2480\" y=\"-52.8\" font-family=\"Helvetica,sans-Serif\" font-size=\"14.00\" fill=\"#000000\">gini = 0.252</text>\n",
       "<text text-anchor=\"middle\" x=\"2480\" y=\"-37.8\" font-family=\"Helvetica,sans-Serif\" font-size=\"14.00\" fill=\"#000000\">samples = 378</text>\n",
       "<text text-anchor=\"middle\" x=\"2480\" y=\"-22.8\" font-family=\"Helvetica,sans-Serif\" font-size=\"14.00\" fill=\"#000000\">value = [322, 56]</text>\n",
       "<text text-anchor=\"middle\" x=\"2480\" y=\"-7.8\" font-family=\"Helvetica,sans-Serif\" font-size=\"14.00\" fill=\"#000000\">class = 0</text>\n",
       "</g>\n",
       "<!-- 38&#45;&gt;40 -->\n",
       "<g id=\"edge40\" class=\"edge\">\n",
       "<title>38&#45;&gt;40</title>\n",
       "<path fill=\"none\" stroke=\"#000000\" d=\"M2429.789,-103.9815C2436.2514,-94.9747 2443.0948,-85.4367 2449.581,-76.3965\"/>\n",
       "<polygon fill=\"#000000\" stroke=\"#000000\" points=\"2452.4303,-78.4291 2455.4162,-68.2637 2446.7428,-74.3483 2452.4303,-78.4291\"/>\n",
       "</g>\n",
       "<!-- 42 -->\n",
       "<g id=\"node43\" class=\"node\">\n",
       "<title>42</title>\n",
       "<path fill=\"#eeab7b\" stroke=\"#000000\" d=\"M2667.5,-68C2667.5,-68 2594.5,-68 2594.5,-68 2588.5,-68 2582.5,-62 2582.5,-56 2582.5,-56 2582.5,-12 2582.5,-12 2582.5,-6 2588.5,0 2594.5,0 2594.5,0 2667.5,0 2667.5,0 2673.5,0 2679.5,-6 2679.5,-12 2679.5,-12 2679.5,-56 2679.5,-56 2679.5,-62 2673.5,-68 2667.5,-68\"/>\n",
       "<text text-anchor=\"middle\" x=\"2631\" y=\"-52.8\" font-family=\"Helvetica,sans-Serif\" font-size=\"14.00\" fill=\"#000000\">gini = 0.375</text>\n",
       "<text text-anchor=\"middle\" x=\"2631\" y=\"-37.8\" font-family=\"Helvetica,sans-Serif\" font-size=\"14.00\" fill=\"#000000\">samples = 4</text>\n",
       "<text text-anchor=\"middle\" x=\"2631\" y=\"-22.8\" font-family=\"Helvetica,sans-Serif\" font-size=\"14.00\" fill=\"#000000\">value = [3, 1]</text>\n",
       "<text text-anchor=\"middle\" x=\"2631\" y=\"-7.8\" font-family=\"Helvetica,sans-Serif\" font-size=\"14.00\" fill=\"#000000\">class = 0</text>\n",
       "</g>\n",
       "<!-- 41&#45;&gt;42 -->\n",
       "<g id=\"edge42\" class=\"edge\">\n",
       "<title>41&#45;&gt;42</title>\n",
       "<path fill=\"none\" stroke=\"#000000\" d=\"M2638.5316,-103.9815C2637.6315,-95.618 2636.6821,-86.7965 2635.7721,-78.3409\"/>\n",
       "<polygon fill=\"#000000\" stroke=\"#000000\" points=\"2639.2376,-77.8317 2634.6876,-68.2637 2632.2778,-78.5808 2639.2376,-77.8317\"/>\n",
       "</g>\n",
       "<!-- 43 -->\n",
       "<g id=\"node44\" class=\"node\">\n",
       "<title>43</title>\n",
       "<path fill=\"#399de5\" stroke=\"#000000\" d=\"M2782.5,-68C2782.5,-68 2709.5,-68 2709.5,-68 2703.5,-68 2697.5,-62 2697.5,-56 2697.5,-56 2697.5,-12 2697.5,-12 2697.5,-6 2703.5,0 2709.5,0 2709.5,0 2782.5,0 2782.5,0 2788.5,0 2794.5,-6 2794.5,-12 2794.5,-12 2794.5,-56 2794.5,-56 2794.5,-62 2788.5,-68 2782.5,-68\"/>\n",
       "<text text-anchor=\"middle\" x=\"2746\" y=\"-52.8\" font-family=\"Helvetica,sans-Serif\" font-size=\"14.00\" fill=\"#000000\">gini = 0.0</text>\n",
       "<text text-anchor=\"middle\" x=\"2746\" y=\"-37.8\" font-family=\"Helvetica,sans-Serif\" font-size=\"14.00\" fill=\"#000000\">samples = 3</text>\n",
       "<text text-anchor=\"middle\" x=\"2746\" y=\"-22.8\" font-family=\"Helvetica,sans-Serif\" font-size=\"14.00\" fill=\"#000000\">value = [0, 3]</text>\n",
       "<text text-anchor=\"middle\" x=\"2746\" y=\"-7.8\" font-family=\"Helvetica,sans-Serif\" font-size=\"14.00\" fill=\"#000000\">class = 1</text>\n",
       "</g>\n",
       "<!-- 41&#45;&gt;43 -->\n",
       "<g id=\"edge43\" class=\"edge\">\n",
       "<title>41&#45;&gt;43</title>\n",
       "<path fill=\"none\" stroke=\"#000000\" d=\"M2681.3534,-103.9815C2689.8434,-94.7908 2698.8443,-85.0472 2707.3463,-75.8436\"/>\n",
       "<polygon fill=\"#000000\" stroke=\"#000000\" points=\"2710.1337,-77.9842 2714.3484,-68.2637 2704.9919,-73.2343 2710.1337,-77.9842\"/>\n",
       "</g>\n",
       "<!-- 45 -->\n",
       "<g id=\"node46\" class=\"node\">\n",
       "<title>45</title>\n",
       "<path fill=\"#e9975b\" stroke=\"#000000\" d=\"M3145,-306C3145,-306 3041,-306 3041,-306 3035,-306 3029,-300 3029,-294 3029,-294 3029,-235 3029,-235 3029,-229 3035,-223 3041,-223 3041,-223 3145,-223 3145,-223 3151,-223 3157,-229 3157,-235 3157,-235 3157,-294 3157,-294 3157,-300 3151,-306 3145,-306\"/>\n",
       "<text text-anchor=\"middle\" x=\"3093\" y=\"-290.8\" font-family=\"Helvetica,sans-Serif\" font-size=\"14.00\" fill=\"#000000\">age_enc &lt;= 2.5</text>\n",
       "<text text-anchor=\"middle\" x=\"3093\" y=\"-275.8\" font-family=\"Helvetica,sans-Serif\" font-size=\"14.00\" fill=\"#000000\">gini = 0.251</text>\n",
       "<text text-anchor=\"middle\" x=\"3093\" y=\"-260.8\" font-family=\"Helvetica,sans-Serif\" font-size=\"14.00\" fill=\"#000000\">samples = 802</text>\n",
       "<text text-anchor=\"middle\" x=\"3093\" y=\"-245.8\" font-family=\"Helvetica,sans-Serif\" font-size=\"14.00\" fill=\"#000000\">value = [684, 118]</text>\n",
       "<text text-anchor=\"middle\" x=\"3093\" y=\"-230.8\" font-family=\"Helvetica,sans-Serif\" font-size=\"14.00\" fill=\"#000000\">class = 0</text>\n",
       "</g>\n",
       "<!-- 44&#45;&gt;45 -->\n",
       "<g id=\"edge45\" class=\"edge\">\n",
       "<title>44&#45;&gt;45</title>\n",
       "<path fill=\"none\" stroke=\"#000000\" d=\"M3093,-341.8796C3093,-333.6838 3093,-324.9891 3093,-316.5013\"/>\n",
       "<polygon fill=\"#000000\" stroke=\"#000000\" points=\"3096.5001,-316.298 3093,-306.2981 3089.5001,-316.2981 3096.5001,-316.298\"/>\n",
       "</g>\n",
       "<!-- 52 -->\n",
       "<g id=\"node53\" class=\"node\">\n",
       "<title>52</title>\n",
       "<path fill=\"#f0b890\" stroke=\"#000000\" d=\"M3514,-306C3514,-306 3410,-306 3410,-306 3404,-306 3398,-300 3398,-294 3398,-294 3398,-235 3398,-235 3398,-229 3404,-223 3410,-223 3410,-223 3514,-223 3514,-223 3520,-223 3526,-229 3526,-235 3526,-235 3526,-294 3526,-294 3526,-300 3520,-306 3514,-306\"/>\n",
       "<text text-anchor=\"middle\" x=\"3462\" y=\"-290.8\" font-family=\"Helvetica,sans-Serif\" font-size=\"14.00\" fill=\"#000000\">sex_Male &lt;= 0.5</text>\n",
       "<text text-anchor=\"middle\" x=\"3462\" y=\"-275.8\" font-family=\"Helvetica,sans-Serif\" font-size=\"14.00\" fill=\"#000000\">gini = 0.424</text>\n",
       "<text text-anchor=\"middle\" x=\"3462\" y=\"-260.8\" font-family=\"Helvetica,sans-Serif\" font-size=\"14.00\" fill=\"#000000\">samples = 354</text>\n",
       "<text text-anchor=\"middle\" x=\"3462\" y=\"-245.8\" font-family=\"Helvetica,sans-Serif\" font-size=\"14.00\" fill=\"#000000\">value = [246, 108]</text>\n",
       "<text text-anchor=\"middle\" x=\"3462\" y=\"-230.8\" font-family=\"Helvetica,sans-Serif\" font-size=\"14.00\" fill=\"#000000\">class = 0</text>\n",
       "</g>\n",
       "<!-- 44&#45;&gt;52 -->\n",
       "<g id=\"edge52\" class=\"edge\">\n",
       "<title>44&#45;&gt;52</title>\n",
       "<path fill=\"none\" stroke=\"#000000\" d=\"M3191.4005,-351.7665C3253.259,-331.8176 3331.7627,-306.5007 3388.2633,-288.2796\"/>\n",
       "<polygon fill=\"#000000\" stroke=\"#000000\" points=\"3389.3977,-291.5913 3397.8408,-285.1909 3387.2492,-284.9292 3389.3977,-291.5913\"/>\n",
       "</g>\n",
       "<!-- 46 -->\n",
       "<g id=\"node47\" class=\"node\">\n",
       "<title>46</title>\n",
       "<path fill=\"#ea9a61\" stroke=\"#000000\" d=\"M3083,-187C3083,-187 2803,-187 2803,-187 2797,-187 2791,-181 2791,-175 2791,-175 2791,-116 2791,-116 2791,-110 2797,-104 2803,-104 2803,-104 3083,-104 3083,-104 3089,-104 3095,-110 3095,-116 3095,-116 3095,-175 3095,-175 3095,-181 3089,-187 3083,-187\"/>\n",
       "<text text-anchor=\"middle\" x=\"2943\" y=\"-171.8\" font-family=\"Helvetica,sans-Serif\" font-size=\"14.00\" fill=\"#000000\">release_type_Paroled to Detainer &#45; INS &lt;= 0.5</text>\n",
       "<text text-anchor=\"middle\" x=\"2943\" y=\"-156.8\" font-family=\"Helvetica,sans-Serif\" font-size=\"14.00\" fill=\"#000000\">gini = 0.278</text>\n",
       "<text text-anchor=\"middle\" x=\"2943\" y=\"-141.8\" font-family=\"Helvetica,sans-Serif\" font-size=\"14.00\" fill=\"#000000\">samples = 653</text>\n",
       "<text text-anchor=\"middle\" x=\"2943\" y=\"-126.8\" font-family=\"Helvetica,sans-Serif\" font-size=\"14.00\" fill=\"#000000\">value = [544, 109]</text>\n",
       "<text text-anchor=\"middle\" x=\"2943\" y=\"-111.8\" font-family=\"Helvetica,sans-Serif\" font-size=\"14.00\" fill=\"#000000\">class = 0</text>\n",
       "</g>\n",
       "<!-- 45&#45;&gt;46 -->\n",
       "<g id=\"edge46\" class=\"edge\">\n",
       "<title>45&#45;&gt;46</title>\n",
       "<path fill=\"none\" stroke=\"#000000\" d=\"M3040.5373,-222.8796C3028.5479,-213.368 3015.7113,-203.1843 3003.4184,-193.432\"/>\n",
       "<polygon fill=\"#000000\" stroke=\"#000000\" points=\"3005.4425,-190.5701 2995.4331,-187.0969 3001.0919,-196.054 3005.4425,-190.5701\"/>\n",
       "</g>\n",
       "<!-- 49 -->\n",
       "<g id=\"node50\" class=\"node\">\n",
       "<title>49</title>\n",
       "<path fill=\"#e78946\" stroke=\"#000000\" d=\"M3358.5,-187C3358.5,-187 3125.5,-187 3125.5,-187 3119.5,-187 3113.5,-181 3113.5,-175 3113.5,-175 3113.5,-116 3113.5,-116 3113.5,-110 3119.5,-104 3125.5,-104 3125.5,-104 3358.5,-104 3358.5,-104 3364.5,-104 3370.5,-110 3370.5,-116 3370.5,-116 3370.5,-175 3370.5,-175 3370.5,-181 3364.5,-187 3358.5,-187\"/>\n",
       "<text text-anchor=\"middle\" x=\"3242\" y=\"-171.8\" font-family=\"Helvetica,sans-Serif\" font-size=\"14.00\" fill=\"#000000\">release_type_Special Sentence &lt;= 0.5</text>\n",
       "<text text-anchor=\"middle\" x=\"3242\" y=\"-156.8\" font-family=\"Helvetica,sans-Serif\" font-size=\"14.00\" fill=\"#000000\">gini = 0.114</text>\n",
       "<text text-anchor=\"middle\" x=\"3242\" y=\"-141.8\" font-family=\"Helvetica,sans-Serif\" font-size=\"14.00\" fill=\"#000000\">samples = 149</text>\n",
       "<text text-anchor=\"middle\" x=\"3242\" y=\"-126.8\" font-family=\"Helvetica,sans-Serif\" font-size=\"14.00\" fill=\"#000000\">value = [140, 9]</text>\n",
       "<text text-anchor=\"middle\" x=\"3242\" y=\"-111.8\" font-family=\"Helvetica,sans-Serif\" font-size=\"14.00\" fill=\"#000000\">class = 0</text>\n",
       "</g>\n",
       "<!-- 45&#45;&gt;49 -->\n",
       "<g id=\"edge49\" class=\"edge\">\n",
       "<title>45&#45;&gt;49</title>\n",
       "<path fill=\"none\" stroke=\"#000000\" d=\"M3145.113,-222.8796C3157.0225,-213.368 3169.7734,-203.1843 3181.9844,-193.432\"/>\n",
       "<polygon fill=\"#000000\" stroke=\"#000000\" points=\"3184.2868,-196.0724 3189.9165,-187.0969 3179.9184,-190.6027 3184.2868,-196.0724\"/>\n",
       "</g>\n",
       "<!-- 47 -->\n",
       "<g id=\"node48\" class=\"node\">\n",
       "<title>47</title>\n",
       "<path fill=\"#eb9d65\" stroke=\"#000000\" d=\"M2936,-68C2936,-68 2832,-68 2832,-68 2826,-68 2820,-62 2820,-56 2820,-56 2820,-12 2820,-12 2820,-6 2826,0 2832,0 2832,0 2936,0 2936,0 2942,0 2948,-6 2948,-12 2948,-12 2948,-56 2948,-56 2948,-62 2942,-68 2936,-68\"/>\n",
       "<text text-anchor=\"middle\" x=\"2884\" y=\"-52.8\" font-family=\"Helvetica,sans-Serif\" font-size=\"14.00\" fill=\"#000000\">gini = 0.297</text>\n",
       "<text text-anchor=\"middle\" x=\"2884\" y=\"-37.8\" font-family=\"Helvetica,sans-Serif\" font-size=\"14.00\" fill=\"#000000\">samples = 601</text>\n",
       "<text text-anchor=\"middle\" x=\"2884\" y=\"-22.8\" font-family=\"Helvetica,sans-Serif\" font-size=\"14.00\" fill=\"#000000\">value = [492, 109]</text>\n",
       "<text text-anchor=\"middle\" x=\"2884\" y=\"-7.8\" font-family=\"Helvetica,sans-Serif\" font-size=\"14.00\" fill=\"#000000\">class = 0</text>\n",
       "</g>\n",
       "<!-- 46&#45;&gt;47 -->\n",
       "<g id=\"edge47\" class=\"edge\">\n",
       "<title>46&#45;&gt;47</title>\n",
       "<path fill=\"none\" stroke=\"#000000\" d=\"M2921.0306,-103.9815C2916.4105,-95.2504 2911.5264,-86.0202 2906.874,-77.2281\"/>\n",
       "<polygon fill=\"#000000\" stroke=\"#000000\" points=\"2909.9013,-75.4655 2902.1306,-68.2637 2903.7141,-78.7395 2909.9013,-75.4655\"/>\n",
       "</g>\n",
       "<!-- 48 -->\n",
       "<g id=\"node49\" class=\"node\">\n",
       "<title>48</title>\n",
       "<path fill=\"#e58139\" stroke=\"#000000\" d=\"M3059.5,-68C3059.5,-68 2978.5,-68 2978.5,-68 2972.5,-68 2966.5,-62 2966.5,-56 2966.5,-56 2966.5,-12 2966.5,-12 2966.5,-6 2972.5,0 2978.5,0 2978.5,0 3059.5,0 3059.5,0 3065.5,0 3071.5,-6 3071.5,-12 3071.5,-12 3071.5,-56 3071.5,-56 3071.5,-62 3065.5,-68 3059.5,-68\"/>\n",
       "<text text-anchor=\"middle\" x=\"3019\" y=\"-52.8\" font-family=\"Helvetica,sans-Serif\" font-size=\"14.00\" fill=\"#000000\">gini = 0.0</text>\n",
       "<text text-anchor=\"middle\" x=\"3019\" y=\"-37.8\" font-family=\"Helvetica,sans-Serif\" font-size=\"14.00\" fill=\"#000000\">samples = 52</text>\n",
       "<text text-anchor=\"middle\" x=\"3019\" y=\"-22.8\" font-family=\"Helvetica,sans-Serif\" font-size=\"14.00\" fill=\"#000000\">value = [52, 0]</text>\n",
       "<text text-anchor=\"middle\" x=\"3019\" y=\"-7.8\" font-family=\"Helvetica,sans-Serif\" font-size=\"14.00\" fill=\"#000000\">class = 0</text>\n",
       "</g>\n",
       "<!-- 46&#45;&gt;48 -->\n",
       "<g id=\"edge48\" class=\"edge\">\n",
       "<title>46&#45;&gt;48</title>\n",
       "<path fill=\"none\" stroke=\"#000000\" d=\"M2971.2996,-103.9815C2977.3762,-95.0666 2983.8074,-85.6313 2989.9132,-76.6734\"/>\n",
       "<polygon fill=\"#000000\" stroke=\"#000000\" points=\"2992.9052,-78.498 2995.6454,-68.2637 2987.1211,-74.5555 2992.9052,-78.498\"/>\n",
       "</g>\n",
       "<!-- 50 -->\n",
       "<g id=\"node51\" class=\"node\">\n",
       "<title>50</title>\n",
       "<path fill=\"#e68844\" stroke=\"#000000\" d=\"M3196.5,-68C3196.5,-68 3107.5,-68 3107.5,-68 3101.5,-68 3095.5,-62 3095.5,-56 3095.5,-56 3095.5,-12 3095.5,-12 3095.5,-6 3101.5,0 3107.5,0 3107.5,0 3196.5,0 3196.5,0 3202.5,0 3208.5,-6 3208.5,-12 3208.5,-12 3208.5,-56 3208.5,-56 3208.5,-62 3202.5,-68 3196.5,-68\"/>\n",
       "<text text-anchor=\"middle\" x=\"3152\" y=\"-52.8\" font-family=\"Helvetica,sans-Serif\" font-size=\"14.00\" fill=\"#000000\">gini = 0.103</text>\n",
       "<text text-anchor=\"middle\" x=\"3152\" y=\"-37.8\" font-family=\"Helvetica,sans-Serif\" font-size=\"14.00\" fill=\"#000000\">samples = 147</text>\n",
       "<text text-anchor=\"middle\" x=\"3152\" y=\"-22.8\" font-family=\"Helvetica,sans-Serif\" font-size=\"14.00\" fill=\"#000000\">value = [139, 8]</text>\n",
       "<text text-anchor=\"middle\" x=\"3152\" y=\"-7.8\" font-family=\"Helvetica,sans-Serif\" font-size=\"14.00\" fill=\"#000000\">class = 0</text>\n",
       "</g>\n",
       "<!-- 49&#45;&gt;50 -->\n",
       "<g id=\"edge50\" class=\"edge\">\n",
       "<title>49&#45;&gt;50</title>\n",
       "<path fill=\"none\" stroke=\"#000000\" d=\"M3208.4873,-103.9815C3201.143,-94.8828 3193.3612,-85.242 3185.9981,-76.1199\"/>\n",
       "<polygon fill=\"#000000\" stroke=\"#000000\" points=\"3188.6612,-73.8467 3179.6568,-68.2637 3183.2143,-78.2434 3188.6612,-73.8467\"/>\n",
       "</g>\n",
       "<!-- 51 -->\n",
       "<g id=\"node52\" class=\"node\">\n",
       "<title>51</title>\n",
       "<path fill=\"#ffffff\" stroke=\"#000000\" d=\"M3311.5,-68C3311.5,-68 3238.5,-68 3238.5,-68 3232.5,-68 3226.5,-62 3226.5,-56 3226.5,-56 3226.5,-12 3226.5,-12 3226.5,-6 3232.5,0 3238.5,0 3238.5,0 3311.5,0 3311.5,0 3317.5,0 3323.5,-6 3323.5,-12 3323.5,-12 3323.5,-56 3323.5,-56 3323.5,-62 3317.5,-68 3311.5,-68\"/>\n",
       "<text text-anchor=\"middle\" x=\"3275\" y=\"-52.8\" font-family=\"Helvetica,sans-Serif\" font-size=\"14.00\" fill=\"#000000\">gini = 0.5</text>\n",
       "<text text-anchor=\"middle\" x=\"3275\" y=\"-37.8\" font-family=\"Helvetica,sans-Serif\" font-size=\"14.00\" fill=\"#000000\">samples = 2</text>\n",
       "<text text-anchor=\"middle\" x=\"3275\" y=\"-22.8\" font-family=\"Helvetica,sans-Serif\" font-size=\"14.00\" fill=\"#000000\">value = [1, 1]</text>\n",
       "<text text-anchor=\"middle\" x=\"3275\" y=\"-7.8\" font-family=\"Helvetica,sans-Serif\" font-size=\"14.00\" fill=\"#000000\">class = 0</text>\n",
       "</g>\n",
       "<!-- 49&#45;&gt;51 -->\n",
       "<g id=\"edge51\" class=\"edge\">\n",
       "<title>49&#45;&gt;51</title>\n",
       "<path fill=\"none\" stroke=\"#000000\" d=\"M3254.288,-103.9815C3256.7905,-95.5261 3259.4315,-86.6026 3261.9591,-78.0623\"/>\n",
       "<polygon fill=\"#000000\" stroke=\"#000000\" points=\"3265.3773,-78.8458 3264.8592,-68.2637 3258.6651,-76.8592 3265.3773,-78.8458\"/>\n",
       "</g>\n",
       "<!-- 53 -->\n",
       "<g id=\"node54\" class=\"node\">\n",
       "<title>53</title>\n",
       "<path fill=\"#e6843e\" stroke=\"#000000\" d=\"M3523,-187C3523,-187 3401,-187 3401,-187 3395,-187 3389,-181 3389,-175 3389,-175 3389,-116 3389,-116 3389,-110 3395,-104 3401,-104 3401,-104 3523,-104 3523,-104 3529,-104 3535,-110 3535,-116 3535,-116 3535,-175 3535,-175 3535,-181 3529,-187 3523,-187\"/>\n",
       "<text text-anchor=\"middle\" x=\"3462\" y=\"-171.8\" font-family=\"Helvetica,sans-Serif\" font-size=\"14.00\" fill=\"#000000\">age_number &lt;= 25.0</text>\n",
       "<text text-anchor=\"middle\" x=\"3462\" y=\"-156.8\" font-family=\"Helvetica,sans-Serif\" font-size=\"14.00\" fill=\"#000000\">gini = 0.053</text>\n",
       "<text text-anchor=\"middle\" x=\"3462\" y=\"-141.8\" font-family=\"Helvetica,sans-Serif\" font-size=\"14.00\" fill=\"#000000\">samples = 37</text>\n",
       "<text text-anchor=\"middle\" x=\"3462\" y=\"-126.8\" font-family=\"Helvetica,sans-Serif\" font-size=\"14.00\" fill=\"#000000\">value = [36, 1]</text>\n",
       "<text text-anchor=\"middle\" x=\"3462\" y=\"-111.8\" font-family=\"Helvetica,sans-Serif\" font-size=\"14.00\" fill=\"#000000\">class = 0</text>\n",
       "</g>\n",
       "<!-- 52&#45;&gt;53 -->\n",
       "<g id=\"edge53\" class=\"edge\">\n",
       "<title>52&#45;&gt;53</title>\n",
       "<path fill=\"none\" stroke=\"#000000\" d=\"M3462,-222.8796C3462,-214.6838 3462,-205.9891 3462,-197.5013\"/>\n",
       "<polygon fill=\"#000000\" stroke=\"#000000\" points=\"3465.5001,-197.298 3462,-187.2981 3458.5001,-197.2981 3465.5001,-197.298\"/>\n",
       "</g>\n",
       "<!-- 56 -->\n",
       "<g id=\"node57\" class=\"node\">\n",
       "<title>56</title>\n",
       "<path fill=\"#f2c19e\" stroke=\"#000000\" d=\"M3739,-187C3739,-187 3565,-187 3565,-187 3559,-187 3553,-181 3553,-175 3553,-175 3553,-116 3553,-116 3553,-110 3559,-104 3565,-104 3565,-104 3739,-104 3739,-104 3745,-104 3751,-110 3751,-116 3751,-116 3751,-175 3751,-175 3751,-181 3745,-187 3739,-187\"/>\n",
       "<text text-anchor=\"middle\" x=\"3652\" y=\"-171.8\" font-family=\"Helvetica,sans-Serif\" font-size=\"14.00\" fill=\"#000000\">crime_class_D Felony &lt;= 0.5</text>\n",
       "<text text-anchor=\"middle\" x=\"3652\" y=\"-156.8\" font-family=\"Helvetica,sans-Serif\" font-size=\"14.00\" fill=\"#000000\">gini = 0.447</text>\n",
       "<text text-anchor=\"middle\" x=\"3652\" y=\"-141.8\" font-family=\"Helvetica,sans-Serif\" font-size=\"14.00\" fill=\"#000000\">samples = 317</text>\n",
       "<text text-anchor=\"middle\" x=\"3652\" y=\"-126.8\" font-family=\"Helvetica,sans-Serif\" font-size=\"14.00\" fill=\"#000000\">value = [210, 107]</text>\n",
       "<text text-anchor=\"middle\" x=\"3652\" y=\"-111.8\" font-family=\"Helvetica,sans-Serif\" font-size=\"14.00\" fill=\"#000000\">class = 0</text>\n",
       "</g>\n",
       "<!-- 52&#45;&gt;56 -->\n",
       "<g id=\"edge56\" class=\"edge\">\n",
       "<title>52&#45;&gt;56</title>\n",
       "<path fill=\"none\" stroke=\"#000000\" d=\"M3526.0604,-224.3779C3542.3903,-214.1503 3560.0894,-203.0651 3576.9157,-192.5265\"/>\n",
       "<polygon fill=\"#000000\" stroke=\"#000000\" points=\"3579.0061,-195.3471 3585.6233,-187.0728 3575.2905,-189.4146 3579.0061,-195.3471\"/>\n",
       "</g>\n",
       "<!-- 54 -->\n",
       "<g id=\"node55\" class=\"node\">\n",
       "<title>54</title>\n",
       "<path fill=\"#e9965a\" stroke=\"#000000\" d=\"M3429.5,-68C3429.5,-68 3356.5,-68 3356.5,-68 3350.5,-68 3344.5,-62 3344.5,-56 3344.5,-56 3344.5,-12 3344.5,-12 3344.5,-6 3350.5,0 3356.5,0 3356.5,0 3429.5,0 3429.5,0 3435.5,0 3441.5,-6 3441.5,-12 3441.5,-12 3441.5,-56 3441.5,-56 3441.5,-62 3435.5,-68 3429.5,-68\"/>\n",
       "<text text-anchor=\"middle\" x=\"3393\" y=\"-52.8\" font-family=\"Helvetica,sans-Serif\" font-size=\"14.00\" fill=\"#000000\">gini = 0.245</text>\n",
       "<text text-anchor=\"middle\" x=\"3393\" y=\"-37.8\" font-family=\"Helvetica,sans-Serif\" font-size=\"14.00\" fill=\"#000000\">samples = 7</text>\n",
       "<text text-anchor=\"middle\" x=\"3393\" y=\"-22.8\" font-family=\"Helvetica,sans-Serif\" font-size=\"14.00\" fill=\"#000000\">value = [6, 1]</text>\n",
       "<text text-anchor=\"middle\" x=\"3393\" y=\"-7.8\" font-family=\"Helvetica,sans-Serif\" font-size=\"14.00\" fill=\"#000000\">class = 0</text>\n",
       "</g>\n",
       "<!-- 53&#45;&gt;54 -->\n",
       "<g id=\"edge54\" class=\"edge\">\n",
       "<title>53&#45;&gt;54</title>\n",
       "<path fill=\"none\" stroke=\"#000000\" d=\"M3436.3069,-103.9815C3430.8469,-95.1585 3425.0716,-85.8258 3419.5793,-76.9506\"/>\n",
       "<polygon fill=\"#000000\" stroke=\"#000000\" points=\"3422.442,-74.9254 3414.2035,-68.2637 3416.4896,-78.609 3422.442,-74.9254\"/>\n",
       "</g>\n",
       "<!-- 55 -->\n",
       "<g id=\"node56\" class=\"node\">\n",
       "<title>55</title>\n",
       "<path fill=\"#e58139\" stroke=\"#000000\" d=\"M3552.5,-68C3552.5,-68 3471.5,-68 3471.5,-68 3465.5,-68 3459.5,-62 3459.5,-56 3459.5,-56 3459.5,-12 3459.5,-12 3459.5,-6 3465.5,0 3471.5,0 3471.5,0 3552.5,0 3552.5,0 3558.5,0 3564.5,-6 3564.5,-12 3564.5,-12 3564.5,-56 3564.5,-56 3564.5,-62 3558.5,-68 3552.5,-68\"/>\n",
       "<text text-anchor=\"middle\" x=\"3512\" y=\"-52.8\" font-family=\"Helvetica,sans-Serif\" font-size=\"14.00\" fill=\"#000000\">gini = 0.0</text>\n",
       "<text text-anchor=\"middle\" x=\"3512\" y=\"-37.8\" font-family=\"Helvetica,sans-Serif\" font-size=\"14.00\" fill=\"#000000\">samples = 30</text>\n",
       "<text text-anchor=\"middle\" x=\"3512\" y=\"-22.8\" font-family=\"Helvetica,sans-Serif\" font-size=\"14.00\" fill=\"#000000\">value = [30, 0]</text>\n",
       "<text text-anchor=\"middle\" x=\"3512\" y=\"-7.8\" font-family=\"Helvetica,sans-Serif\" font-size=\"14.00\" fill=\"#000000\">class = 0</text>\n",
       "</g>\n",
       "<!-- 53&#45;&gt;55 -->\n",
       "<g id=\"edge55\" class=\"edge\">\n",
       "<title>53&#45;&gt;55</title>\n",
       "<path fill=\"none\" stroke=\"#000000\" d=\"M3480.6182,-103.9815C3484.4922,-95.3423 3488.5855,-86.2144 3492.4906,-77.5059\"/>\n",
       "<polygon fill=\"#000000\" stroke=\"#000000\" points=\"3495.7369,-78.8204 3496.6351,-68.2637 3489.3497,-75.9561 3495.7369,-78.8204\"/>\n",
       "</g>\n",
       "<!-- 57 -->\n",
       "<g id=\"node58\" class=\"node\">\n",
       "<title>57</title>\n",
       "<path fill=\"#f7d7c0\" stroke=\"#000000\" d=\"M3693,-68C3693,-68 3597,-68 3597,-68 3591,-68 3585,-62 3585,-56 3585,-56 3585,-12 3585,-12 3585,-6 3591,0 3597,0 3597,0 3693,0 3693,0 3699,0 3705,-6 3705,-12 3705,-12 3705,-56 3705,-56 3705,-62 3699,-68 3693,-68\"/>\n",
       "<text text-anchor=\"middle\" x=\"3645\" y=\"-52.8\" font-family=\"Helvetica,sans-Serif\" font-size=\"14.00\" fill=\"#000000\">gini = 0.482</text>\n",
       "<text text-anchor=\"middle\" x=\"3645\" y=\"-37.8\" font-family=\"Helvetica,sans-Serif\" font-size=\"14.00\" fill=\"#000000\">samples = 197</text>\n",
       "<text text-anchor=\"middle\" x=\"3645\" y=\"-22.8\" font-family=\"Helvetica,sans-Serif\" font-size=\"14.00\" fill=\"#000000\">value = [117, 80]</text>\n",
       "<text text-anchor=\"middle\" x=\"3645\" y=\"-7.8\" font-family=\"Helvetica,sans-Serif\" font-size=\"14.00\" fill=\"#000000\">class = 0</text>\n",
       "</g>\n",
       "<!-- 56&#45;&gt;57 -->\n",
       "<g id=\"edge57\" class=\"edge\">\n",
       "<title>56&#45;&gt;57</title>\n",
       "<path fill=\"none\" stroke=\"#000000\" d=\"M3649.3935,-103.9815C3648.8684,-95.618 3648.3146,-86.7965 3647.7837,-78.3409\"/>\n",
       "<polygon fill=\"#000000\" stroke=\"#000000\" points=\"3651.2709,-78.0247 3647.1511,-68.2637 3644.2846,-78.4634 3651.2709,-78.0247\"/>\n",
       "</g>\n",
       "<!-- 58 -->\n",
       "<g id=\"node59\" class=\"node\">\n",
       "<title>58</title>\n",
       "<path fill=\"#eda672\" stroke=\"#000000\" d=\"M3824.5,-68C3824.5,-68 3735.5,-68 3735.5,-68 3729.5,-68 3723.5,-62 3723.5,-56 3723.5,-56 3723.5,-12 3723.5,-12 3723.5,-6 3729.5,0 3735.5,0 3735.5,0 3824.5,0 3824.5,0 3830.5,0 3836.5,-6 3836.5,-12 3836.5,-12 3836.5,-56 3836.5,-56 3836.5,-62 3830.5,-68 3824.5,-68\"/>\n",
       "<text text-anchor=\"middle\" x=\"3780\" y=\"-52.8\" font-family=\"Helvetica,sans-Serif\" font-size=\"14.00\" fill=\"#000000\">gini = 0.349</text>\n",
       "<text text-anchor=\"middle\" x=\"3780\" y=\"-37.8\" font-family=\"Helvetica,sans-Serif\" font-size=\"14.00\" fill=\"#000000\">samples = 120</text>\n",
       "<text text-anchor=\"middle\" x=\"3780\" y=\"-22.8\" font-family=\"Helvetica,sans-Serif\" font-size=\"14.00\" fill=\"#000000\">value = [93, 27]</text>\n",
       "<text text-anchor=\"middle\" x=\"3780\" y=\"-7.8\" font-family=\"Helvetica,sans-Serif\" font-size=\"14.00\" fill=\"#000000\">class = 0</text>\n",
       "</g>\n",
       "<!-- 56&#45;&gt;58 -->\n",
       "<g id=\"edge58\" class=\"edge\">\n",
       "<title>56&#45;&gt;58</title>\n",
       "<path fill=\"none\" stroke=\"#000000\" d=\"M3699.6625,-103.9815C3710.5297,-94.5151 3722.0705,-84.462 3732.9135,-75.0168\"/>\n",
       "<polygon fill=\"#000000\" stroke=\"#000000\" points=\"3735.4245,-77.4712 3740.6659,-68.2637 3730.8266,-72.1929 3735.4245,-77.4712\"/>\n",
       "</g>\n",
       "</g>\n",
       "</svg>\n"
      ],
      "text/plain": [
       "<graphviz.files.Source at 0x10f6a2080>"
      ]
     },
     "metadata": {},
     "output_type": "display_data"
    }
   ],
   "source": [
    "visualize_tree(tree,feature_names=X_train.columns)"
   ]
  },
  {
   "cell_type": "markdown",
   "metadata": {},
   "source": [
    "# Prisoners Continued.."
   ]
  },
  {
   "cell_type": "code",
   "execution_count": 46,
   "metadata": {
    "ExecuteTime": {
     "end_time": "2020-04-11T19:45:14.852018Z",
     "start_time": "2020-04-11T19:45:14.849067Z"
    }
   },
   "outputs": [],
   "source": [
    "from sklearn.model_selection import train_test_split\n",
    "import sklearn.metrics as metrics"
   ]
  },
  {
   "cell_type": "markdown",
   "metadata": {},
   "source": [
    "## GridSearchCV with DecisionTreeClassifier"
   ]
  },
  {
   "cell_type": "markdown",
   "metadata": {},
   "source": [
    "- Q: what decisions did we make last time that we want to change? \n",
    "    -  \n",
    "- Q: what columns should we exclude from our analysis?\n",
    "    - "
   ]
  },
  {
   "cell_type": "markdown",
   "metadata": {},
   "source": [
    "## Vanilla DT"
   ]
  },
  {
   "cell_type": "code",
   "execution_count": 48,
   "metadata": {
    "ExecuteTime": {
     "end_time": "2020-04-11T19:47:03.277421Z",
     "start_time": "2020-04-11T19:47:03.078071Z"
    }
   },
   "outputs": [
    {
     "data": {
      "text/plain": [
       "DecisionTreeClassifier(ccp_alpha=0.0, class_weight=None, criterion='gini',\n",
       "                       max_depth=None, max_features=None, max_leaf_nodes=None,\n",
       "                       min_impurity_decrease=0.0, min_impurity_split=None,\n",
       "                       min_samples_leaf=1, min_samples_split=2,\n",
       "                       min_weight_fraction_leaf=0.0, presort='deprecated',\n",
       "                       random_state=None, splitter='best')"
      ]
     },
     "execution_count": 48,
     "metadata": {},
     "output_type": "execute_result"
    }
   ],
   "source": [
    "## import DTC\n",
    "from sklearn.tree import DecisionTreeClassifier\n",
    "\n",
    "## Fit a vanilla DecisionTreeClassifier\n",
    "tree= DecisionTreeClassifier()\n",
    "tree.fit(X_train,y_train)"
   ]
  },
  {
   "cell_type": "code",
   "execution_count": 50,
   "metadata": {
    "ExecuteTime": {
     "end_time": "2020-04-11T19:50:43.348287Z",
     "start_time": "2020-04-11T19:50:42.544076Z"
    }
   },
   "outputs": [
    {
     "name": "stdout",
     "output_type": "stream",
     "text": [
      "Train score= 0.8407814306955229\n",
      "Test score= 0.6238767650834403\n",
      "              precision    recall  f1-score   support\n",
      "\n",
      "           0       0.71      0.72      0.72      5184\n",
      "           1       0.44      0.42      0.43      2606\n",
      "\n",
      "    accuracy                           0.62      7790\n",
      "   macro avg       0.58      0.57      0.57      7790\n",
      "weighted avg       0.62      0.62      0.62      7790\n",
      "\n"
     ]
    },
    {
     "data": {
      "image/png": "[encoded data removed]",
      "text/plain": [
       "<Figure size 864x432 with 3 Axes>"
      ]
     },
     "metadata": {
      "needs_background": "light"
     },
     "output_type": "display_data"
    },
    {
     "data": {
      "image/png": "[encoded data removed]",
      "text/plain": [
       "<Figure size 720x720 with 1 Axes>"
      ]
     },
     "metadata": {
      "needs_background": "light"
     },
     "output_type": "display_data"
    }
   ],
   "source": [
    "## Get Predictions\n",
    "y_hat_test = tree.predict(X_test)\n",
    "## evaluate model\n",
    "train_score = tree.score(X_train,y_train)\n",
    "test_score = tree.score(X_test,y_test)\n",
    "print(f\"Train score= {train_score}\")\n",
    "print(f\"Test score= {test_score}\")\n",
    "evaluate_model(y_test,y_hat_test,X_test, tree)"
   ]
  },
  {
   "cell_type": "code",
   "execution_count": 55,
   "metadata": {
    "ExecuteTime": {
     "end_time": "2020-04-11T19:54:46.209990Z",
     "start_time": "2020-04-11T19:53:50.200554Z"
    },
    "scrolled": false
   },
   "outputs": [
    {
     "name": "stderr",
     "output_type": "stream",
     "text": [
      "dot: graph is too large for cairo-renderer bitmaps. Scaling by 0.110638 to fit\n"
     ]
    },
    {
     "name": "stdout",
     "output_type": "stream",
     "text": [
      "[i] Tree saved as vanilla_tree.png\n"
     ]
    }
   ],
   "source": [
    "## visualize tree (save to file)\n",
    "visualize_tree(tree,save_filename=\"vanilla_tree\")"
   ]
  },
  {
   "cell_type": "markdown",
   "metadata": {},
   "source": [
    "### Hyperparameters\n",
    "- Useful to consider to make sure you don't overfit or underfit\n",
    "\n",
    "Check out the scikit-learn documentation: https://scikit-learn.org/stable/modules/generated/sklearn.tree.DecisionTreeClassifier.html"
   ]
  },
  {
   "cell_type": "markdown",
   "metadata": {},
   "source": [
    "- `max-depth`\n",
    "- `min_samples_leaf`: The smallest number of samples that can be in a leaf (node)\n",
    "- `min_samples_split`: The smallest number of samples in a leaf (node) before splitting it\n",
    "- `max_features`: Most features to consider when splitting"
   ]
  },
  {
   "cell_type": "code",
   "execution_count": 59,
   "metadata": {
    "ExecuteTime": {
     "end_time": "2020-04-11T19:59:08.004990Z",
     "start_time": "2020-04-11T19:59:08.001175Z"
    }
   },
   "outputs": [
    {
     "data": {
      "text/html": [
       "\n",
       "    Formatting follows the Python datetime <strong><a href='http://strftime.org/'>strftime</a></strong> codes.<br>\n",
       "    The following examples are based on <tt>datetime.datetime(2001, 2, 3, 16, 5, 6)</tt>:\n",
       "    <br><br>\n",
       "\n",
       "    <table style=\"display: inline-block\">  \n",
       "    <tr><th>CODE</th><th>MEANING</th><th>EXAMPLE</th><tr>\n",
       "    <tr><td>%Y</td><td>Year with century as a decimal number.</td><td>2001</td></tr>\n",
       "    <tr><td>%y</td><td>Year without century as a zero-padded decimal number.</td><td>01</td></tr>\n",
       "    <tr><td>%m</td><td>Month as a zero-padded decimal number.</td><td>02</td></tr>\n",
       "    <tr><td>%B</td><td>Month as locale’s full name.</td><td>February</td></tr>\n",
       "    <tr><td>%b</td><td>Month as locale’s abbreviated name.</td><td>Feb</td></tr>\n",
       "    <tr><td>%d</td><td>Day of the month as a zero-padded decimal number.</td><td>03</td></tr>  \n",
       "    <tr><td>%A</td><td>Weekday as locale’s full name.</td><td>Saturday</td></tr>\n",
       "    <tr><td>%a</td><td>Weekday as locale’s abbreviated name.</td><td>Sat</td></tr>\n",
       "    <tr><td>%H</td><td>Hour (24-hour clock) as a zero-padded decimal number.</td><td>16</td></tr>\n",
       "    <tr><td>%I</td><td>Hour (12-hour clock) as a zero-padded decimal number.</td><td>04</td></tr>\n",
       "    <tr><td>%p</td><td>Locale’s equivalent of either AM or PM.</td><td>PM</td></tr>\n",
       "    <tr><td>%M</td><td>Minute as a zero-padded decimal number.</td><td>05</td></tr>\n",
       "    <tr><td>%S</td><td>Second as a zero-padded decimal number.</td><td>06</td></tr>\n",
       "    </table>\n",
       "    <table style=\"display: inline-block\">\n",
       "    <tr><th>CODE</th><th>MEANING</th><th>EXAMPLE</th><tr>\n",
       "    <tr><td>%#m</td><td>Month as a decimal number. (Windows)</td><td>2</td></tr>\n",
       "    <tr><td>%-m</td><td>Month as a decimal number. (Mac/Linux)</td><td>2</td></tr>\n",
       "    <tr><td>%#x</td><td>Long date</td><td>Saturday, February 03, 2001</td></tr>\n",
       "    <tr><td>%#c</td><td>Long date and time</td><td>Saturday, February 03, 2001 16:05:06</td></tr>\n",
       "    </table>  \n",
       "    "
      ],
      "text/plain": [
       "<IPython.core.display.HTML object>"
      ]
     },
     "metadata": {},
     "output_type": "display_data"
    }
   ],
   "source": [
    "fs.quick_refs.ts_date_str_formatting()"
   ]
  },
  {
   "cell_type": "code",
   "execution_count": 62,
   "metadata": {
    "ExecuteTime": {
     "end_time": "2020-04-11T20:01:21.006654Z",
     "start_time": "2020-04-11T20:01:21.001411Z"
    }
   },
   "outputs": [
    {
     "name": "stdout",
     "output_type": "stream",
     "text": [
      "America/New_York\n",
      "04/11/20 - 04:01 PM\n",
      "2020-04-11 16:01:21.004365-04:00\n"
     ]
    }
   ],
   "source": [
    "import tzlocal\n",
    "import datetime as dt\n",
    "tz = tzlocal.get_localzone()\n",
    "print(tz)\n",
    "start = dt.datetime.now(tz)\n",
    "print(start.strftime(\"%m/%d/%y - %I:%M %p\"))\n",
    "print(dt.datetime.now(tz))"
   ]
  },
  {
   "cell_type": "code",
   "execution_count": 76,
   "metadata": {
    "ExecuteTime": {
     "end_time": "2020-04-11T20:09:57.916894Z",
     "start_time": "2020-04-11T20:09:57.909798Z"
    }
   },
   "outputs": [
    {
     "name": "stdout",
     "output_type": "stream",
     "text": [
      "2020-04-11 16:09:57.914259-04:00\n",
      "[i] Timer started at04/11/20 - 04:09 PM\n",
      "[i] Timer ended at 04/11/20 - 04:09 PM\n",
      "- Total time = 0:00:00.000100\n"
     ]
    }
   ],
   "source": [
    "## a timer to record how long a process takes\n",
    "class Timer():\n",
    "    ## def init\n",
    "    def __init__(self,format_=\"%m/%d/%y - %I:%M %p\"):\n",
    "        import tzlocal\n",
    "        self.tz = tzlocal.get_localzone()\n",
    "        self.fmt = format_\n",
    "        \n",
    "        self.created_at = self.get_time()# get time\n",
    "        \n",
    "\n",
    "    \n",
    "    ## def get time method\n",
    "    def get_time(self):\n",
    "        import datetime as dt\n",
    "        return dt.datetime.now(self.tz)\n",
    "\n",
    "    ## def start\n",
    "    def start(self):\n",
    "        time = self.get_time()\n",
    "        self.start = time\n",
    "        print(f\"[i] Timer started at{self.start.strftime(self.fmt)}\")\n",
    "        \n",
    "        \n",
    "\n",
    "    ## def stop\n",
    "    def stop(self):\n",
    "        time = self.get_time()\n",
    "        self.end = time\n",
    "        print(f\"[i] Timer ended at {self.end.strftime(self.fmt)}\")\n",
    "        print(f\"- Total time = {self.end-self.start}\")\n",
    "timer = Timer()\n",
    "print(timer.created_at)\n",
    "timer.start()\n",
    "timer.stop()"
   ]
  },
  {
   "cell_type": "code",
   "execution_count": 75,
   "metadata": {
    "ExecuteTime": {
     "end_time": "2020-04-11T20:09:47.135560Z",
     "start_time": "2020-04-11T20:09:47.131191Z"
    }
   },
   "outputs": [
    {
     "name": "stdout",
     "output_type": "stream",
     "text": [
      "[i] Timer ended at 04/11/20 - 04:09 PM\n",
      "- Total time = 0:00:00.216643\n"
     ]
    }
   ],
   "source": [
    "timer.stop()"
   ]
  },
  {
   "cell_type": "code",
   "execution_count": 78,
   "metadata": {
    "ExecuteTime": {
     "end_time": "2020-04-11T20:12:51.280407Z",
     "start_time": "2020-04-11T20:12:51.275903Z"
    }
   },
   "outputs": [
    {
     "data": {
      "text/plain": [
       "74"
      ]
     },
     "execution_count": 78,
     "metadata": {},
     "output_type": "execute_result"
    }
   ],
   "source": [
    "len(X_train.columns)"
   ]
  },
  {
   "cell_type": "code",
   "execution_count": 83,
   "metadata": {
    "ExecuteTime": {
     "end_time": "2020-04-11T20:16:35.810423Z",
     "start_time": "2020-04-11T20:16:35.806638Z"
    }
   },
   "outputs": [],
   "source": [
    "## Import GridSearch\n",
    "from sklearn.model_selection import GridSearchCV\n",
    "from sklearn.tree import DecisionTreeClassifier\n",
    "## Instantiate classifier\n",
    "tree = DecisionTreeClassifier()\n",
    "## Set up param grid\n",
    "param_grid = {'criterion':['gini','entropy'],\n",
    "             'max_depth':[None, 5, 3, 10],\n",
    "             'max_features':['auto','sqrt',3,5,10,30,70]}\n",
    "\n",
    "## Instantiate GridSearchCV\n",
    "grid_clf = GridSearchCV(tree,param_grid)"
   ]
  },
  {
   "cell_type": "code",
   "execution_count": 84,
   "metadata": {
    "ExecuteTime": {
     "end_time": "2020-04-11T20:16:49.014722Z",
     "start_time": "2020-04-11T20:16:36.836255Z"
    }
   },
   "outputs": [
    {
     "name": "stdout",
     "output_type": "stream",
     "text": [
      "[i] Timer started at04/11/20 - 04:16 PM\n",
      "[i] Timer ended at 04/11/20 - 04:16 PM\n",
      "- Total time = 0:00:12.173846\n"
     ]
    },
    {
     "data": {
      "text/plain": [
       "{'criterion': 'gini', 'max_depth': None, 'max_features': 70}"
      ]
     },
     "execution_count": 84,
     "metadata": {},
     "output_type": "execute_result"
    }
   ],
   "source": [
    "## Start timer and fit search\n",
    "timer = Timer()\n",
    "timer.start()\n",
    "\n",
    "grid_clf.fit(X_train,y_train)\n",
    "## Stop time and print best params\n",
    "timer.stop()\n",
    "grid_clf.best_params_"
   ]
  },
  {
   "cell_type": "code",
   "execution_count": 88,
   "metadata": {
    "ExecuteTime": {
     "end_time": "2020-04-11T20:18:52.198686Z",
     "start_time": "2020-04-11T20:18:50.917807Z"
    }
   },
   "outputs": [
    {
     "name": "stdout",
     "output_type": "stream",
     "text": [
      "              precision    recall  f1-score   support\n",
      "\n",
      "           0       0.71      0.72      0.72      5184\n",
      "           1       0.44      0.42      0.43      2606\n",
      "\n",
      "    accuracy                           0.62      7790\n",
      "   macro avg       0.57      0.57      0.57      7790\n",
      "weighted avg       0.62      0.62      0.62      7790\n",
      "\n"
     ]
    },
    {
     "data": {
      "image/png": "[encoded data removed]",
      "text/plain": [
       "<Figure size 864x432 with 3 Axes>"
      ]
     },
     "metadata": {
      "needs_background": "light"
     },
     "output_type": "display_data"
    },
    {
     "data": {
      "image/png": "[encoded data removed]",
      "text/plain": [
       "<Figure size 720x720 with 1 Axes>"
      ]
     },
     "metadata": {
      "needs_background": "light"
     },
     "output_type": "display_data"
    }
   ],
   "source": [
    "## Create a tree with the gridsearch's best params\n",
    "best_tree = DecisionTreeClassifier(**grid_clf.best_params_)\n",
    "best_tree.fit(X_train,y_train)\n",
    "\n",
    "## Get predictions for train and test\n",
    "y_hat_test = best_tree.predict(X_test)\n",
    "evaluate_model(y_test,y_hat_test,X_test,best_tree)"
   ]
  },
  {
   "cell_type": "code",
   "execution_count": 91,
   "metadata": {
    "ExecuteTime": {
     "end_time": "2020-04-11T20:19:17.800967Z",
     "start_time": "2020-04-11T20:19:17.797059Z"
    }
   },
   "outputs": [
    {
     "data": {
      "text/plain": [
       "DecisionTreeClassifier(ccp_alpha=0.0, class_weight=None, criterion='gini',\n",
       "                       max_depth=None, max_features=70, max_leaf_nodes=None,\n",
       "                       min_impurity_decrease=0.0, min_impurity_split=None,\n",
       "                       min_samples_leaf=1, min_samples_split=2,\n",
       "                       min_weight_fraction_leaf=0.0, presort='deprecated',\n",
       "                       random_state=None, splitter='best')"
      ]
     },
     "execution_count": 91,
     "metadata": {},
     "output_type": "execute_result"
    }
   ],
   "source": [
    "## Can also pull out best model as best_estimator_\n",
    "best_model = grid_clf.best_estimator_\n",
    "best_model"
   ]
  },
  {
   "cell_type": "markdown",
   "metadata": {},
   "source": [
    "### RandomizedSearchCV"
   ]
  },
  {
   "cell_type": "code",
   "execution_count": 96,
   "metadata": {
    "ExecuteTime": {
     "end_time": "2020-04-11T20:22:12.239832Z",
     "start_time": "2020-04-11T20:22:12.235541Z"
    }
   },
   "outputs": [],
   "source": [
    "from sklearn.model_selection import RandomizedSearchCV\n",
    "from sklearn.tree import DecisionTreeClassifier\n",
    "## Set up param grid ( can use same as before)\n",
    "tree = DecisionTreeClassifier()\n",
    "## Set up param grid\n",
    "param_grid = {'criterion':['gini','entropy'],\n",
    "             'max_depth':[None, 5, 3, 10],\n",
    "             'max_features':['auto','sqrt',3,5,10,30,70]}\n",
    "\n",
    "## Instantiate GridSearchCV\n",
    "random_clf = RandomizedSearchCV(tree,param_grid)#,n_iter=50)"
   ]
  },
  {
   "cell_type": "code",
   "execution_count": 97,
   "metadata": {
    "ExecuteTime": {
     "end_time": "2020-04-11T20:22:16.338700Z",
     "start_time": "2020-04-11T20:22:14.363191Z"
    }
   },
   "outputs": [
    {
     "name": "stdout",
     "output_type": "stream",
     "text": [
      "[i] Timer started at04/11/20 - 04:22 PM\n",
      "[i] Timer ended at 04/11/20 - 04:22 PM\n",
      "- Total time = 0:00:01.969961\n"
     ]
    },
    {
     "data": {
      "text/plain": [
       "{'max_features': 30, 'max_depth': None, 'criterion': 'gini'}"
      ]
     },
     "execution_count": 97,
     "metadata": {},
     "output_type": "execute_result"
    }
   ],
   "source": [
    "## Start timer and fit search\n",
    "timer = Timer()\n",
    "timer.start()\n",
    "\n",
    "random_clf.fit(X_train,y_train)\n",
    "## Stop time and print best params\n",
    "timer.stop()\n",
    "random_clf.best_params_"
   ]
  },
  {
   "cell_type": "code",
   "execution_count": 98,
   "metadata": {
    "ExecuteTime": {
     "end_time": "2020-04-11T20:22:18.671092Z",
     "start_time": "2020-04-11T20:22:17.892109Z"
    }
   },
   "outputs": [
    {
     "name": "stdout",
     "output_type": "stream",
     "text": [
      "              precision    recall  f1-score   support\n",
      "\n",
      "           0       0.72      0.73      0.72      5184\n",
      "           1       0.44      0.42      0.43      2606\n",
      "\n",
      "    accuracy                           0.63      7790\n",
      "   macro avg       0.58      0.58      0.58      7790\n",
      "weighted avg       0.62      0.63      0.62      7790\n",
      "\n"
     ]
    },
    {
     "data": {
      "image/png": "[encoded data removed]",
      "text/plain": [
       "<Figure size 864x432 with 3 Axes>"
      ]
     },
     "metadata": {
      "needs_background": "light"
     },
     "output_type": "display_data"
    },
    {
     "data": {
      "image/png": "[encoded data removed]",
      "text/plain": [
       "<Figure size 720x720 with 1 Axes>"
      ]
     },
     "metadata": {
      "needs_background": "light"
     },
     "output_type": "display_data"
    }
   ],
   "source": [
    "## Create a tree with the gridsearch's best params\n",
    "best_tree= random_clf.best_estimator_\n",
    "## Get predictions for train and test\n",
    "## Get predictions for train and test\n",
    "y_hat_test = best_tree.predict(X_test)\n",
    "evaluate_model(y_test,y_hat_test,X_test,best_tree)"
   ]
  },
  {
   "cell_type": "markdown",
   "metadata": {
    "slideshow": {
     "slide_type": "slide"
    }
   },
   "source": [
    "## Fitting a Set of Bagged Decision Trees\n",
    "\n",
    "### Bagging Algorithm\n",
    "\n",
    "- Take a sample of your X_train and fit a decision tree to it. <br/>\n",
    "- Replace the first batch of data and repeat. <br/>\n",
    "- When you've got as many trees as you like, make use of all your individual trees' predictions to come up with some holistic prediction. (Most obviously, we could take the average of our predictions, but there are other methods we might try.)\n",
    "\n",
    "<br/>\n",
    "\n",
    "- Because we're resampling our data with replacement, we're *bootstrapping*. <br/>\n",
    "- Because we're making use of our many samples' predictions, we're *aggregating*. <br/>\n",
    "- Because we're bootstrapping and aggregating all in the same algorithm, we're *bagging*."
   ]
  },
  {
   "cell_type": "code",
   "execution_count": 99,
   "metadata": {
    "ExecuteTime": {
     "end_time": "2020-04-11T20:23:48.253009Z",
     "start_time": "2020-04-11T20:23:46.376030Z"
    },
    "slideshow": {
     "slide_type": "slide"
    }
   },
   "outputs": [
    {
     "name": "stdout",
     "output_type": "stream",
     "text": [
      "              precision    recall  f1-score   support\n",
      "\n",
      "           0       0.72      0.70      0.71      5184\n",
      "           1       0.43      0.46      0.45      2606\n",
      "\n",
      "    accuracy                           0.62      7790\n",
      "   macro avg       0.58      0.58      0.58      7790\n",
      "weighted avg       0.63      0.62      0.62      7790\n",
      "\n"
     ]
    },
    {
     "data": {
      "image/png": "[encoded data removed]",
      "text/plain": [
       "<Figure size 864x432 with 3 Axes>"
      ]
     },
     "metadata": {
      "needs_background": "light"
     },
     "output_type": "display_data"
    }
   ],
   "source": [
    "## Import bagging classifier\n",
    "from sklearn.ensemble import BaggingClassifier\n",
    "## Fit Classifier and get predictions\n",
    "bag = BaggingClassifier()\n",
    "bag.fit(X_train,y_train)\n",
    "y_hat_test = bag.predict(X_test)\n",
    "\n",
    "\n",
    "## Evaluate Model\n",
    "evaluate_model(y_test,y_hat_test,X_test,bag)"
   ]
  },
  {
   "cell_type": "code",
   "execution_count": null,
   "metadata": {
    "ExecuteTime": {
     "end_time": "2020-04-11T00:38:17.137096Z",
     "start_time": "2020-04-11T00:38:15.965034Z"
    }
   },
   "outputs": [],
   "source": []
  },
  {
   "cell_type": "markdown",
   "metadata": {
    "slideshow": {
     "slide_type": "slide"
    }
   },
   "source": [
    "That's a significant improvement in accuracy! Let's see if we can do even better.\n",
    "\n",
    "## Fitting a Random Forest\n",
    "\n",
    "### Random Forest Algorithm\n",
    "\n",
    "Let's add an extra layer of randomization: Instead of using *all* the features of my model to optimize a branch at each node, I'll just choose a subset of my features."
   ]
  },
  {
   "cell_type": "code",
   "execution_count": 103,
   "metadata": {
    "ExecuteTime": {
     "end_time": "2020-04-11T20:25:48.189766Z",
     "start_time": "2020-04-11T20:25:43.433778Z"
    },
    "slideshow": {
     "slide_type": "slide"
    }
   },
   "outputs": [
    {
     "name": "stdout",
     "output_type": "stream",
     "text": [
      "              precision    recall  f1-score   support\n",
      "\n",
      "           0       0.73      0.70      0.71      5184\n",
      "           1       0.45      0.48      0.46      2606\n",
      "\n",
      "    accuracy                           0.63      7790\n",
      "   macro avg       0.59      0.59      0.59      7790\n",
      "weighted avg       0.63      0.63      0.63      7790\n",
      "\n"
     ]
    },
    {
     "data": {
      "image/png": "[encoded data removed]",
      "text/plain": [
       "<Figure size 864x432 with 3 Axes>"
      ]
     },
     "metadata": {
      "needs_background": "light"
     },
     "output_type": "display_data"
    },
    {
     "data": {
      "image/png": "[encoded data removed]",
      "text/plain": [
       "<Figure size 720x720 with 1 Axes>"
      ]
     },
     "metadata": {
      "needs_background": "light"
     },
     "output_type": "display_data"
    }
   ],
   "source": [
    "## Import Random Forest\n",
    "from sklearn.ensemble import RandomForestClassifier\n",
    "## Fit Random Forest\n",
    "rf = RandomForestClassifier( )\n",
    "rf.fit(X_train, y_train)\n",
    "y_hat_test = rf.predict(X_test)\n",
    "evaluate_model(y_test,y_hat_test,X_test, rf)\n",
    "\n",
    "## Get predictions and evaluate model\n"
   ]
  },
  {
   "cell_type": "markdown",
   "metadata": {
    "slideshow": {
     "slide_type": "slide"
    }
   },
   "source": [
    "## Fitting a Stand of Extremely Randomized Trees\n",
    "\n",
    "### Extra Trees Algorithm\n",
    "\n",
    "Sometimes we might want even one more bit of randomization. Instead of always choosing the *optimal* branching path, we might just choose a branching path at random. If we're doing that, then we've got extremely randomized trees."
   ]
  },
  {
   "cell_type": "code",
   "execution_count": null,
   "metadata": {
    "ExecuteTime": {
     "end_time": "2020-04-11T00:38:47.185690Z",
     "start_time": "2020-04-11T00:38:44.566991Z"
    },
    "slideshow": {
     "slide_type": "slide"
    }
   },
   "outputs": [],
   "source": [
    "## Import and fit an ExtraTreesClassifier\n"
   ]
  },
  {
   "cell_type": "code",
   "execution_count": null,
   "metadata": {
    "ExecuteTime": {
     "end_time": "2020-04-11T00:39:25.324471Z",
     "start_time": "2020-04-11T00:39:24.037207Z"
    }
   },
   "outputs": [],
   "source": [
    "## Get predictions and evaluate model\n"
   ]
  },
  {
   "cell_type": "markdown",
   "metadata": {
    "slideshow": {
     "slide_type": "slide"
    }
   },
   "source": [
    "## GridSearch ExtraTrees"
   ]
  },
  {
   "cell_type": "code",
   "execution_count": null,
   "metadata": {
    "ExecuteTime": {
     "end_time": "2020-04-11T00:39:36.843670Z",
     "start_time": "2020-04-11T00:39:36.840840Z"
    },
    "slideshow": {
     "slide_type": "slide"
    }
   },
   "outputs": [],
   "source": [
    "## set up grid\n"
   ]
  },
  {
   "cell_type": "code",
   "execution_count": null,
   "metadata": {
    "ExecuteTime": {
     "end_time": "2020-04-11T00:40:21.816125Z",
     "start_time": "2020-04-11T00:40:21.814058Z"
    },
    "slideshow": {
     "slide_type": "slide"
    }
   },
   "outputs": [],
   "source": [
    "## initliaze a RandomizedSearch or Grid Search\n",
    "\n",
    "## Time and fit search\n",
    "\n",
    "## Print best oarams"
   ]
  },
  {
   "cell_type": "code",
   "execution_count": null,
   "metadata": {
    "ExecuteTime": {
     "end_time": "2020-04-11T00:46:33.920354Z",
     "start_time": "2020-04-11T00:46:27.670797Z"
    }
   },
   "outputs": [],
   "source": [
    "## Create best model with params\n",
    "et = ExtraTreesClassifier(**gs.best_params_)\n",
    "## Fit and evaluate\n"
   ]
  },
  {
   "cell_type": "markdown",
   "metadata": {},
   "source": [
    "## XGBoost"
   ]
  },
  {
   "cell_type": "markdown",
   "metadata": {},
   "source": [
    "> \"`XGBoost` is a stand-alone library that implements popular gradient boosting algorithms in the fastest, most performant way possible. There are many under-the-hood optimizations that allow XGBoost to train more quickly than any other library implementations of gradient boosting algorithms:\n",
    "- For instance, XGBoost is configured in such a way that it parallelizes the construction of trees across all your computer's CPU cores during the training phase. \n",
    "- It also allows for more advanced use cases, such as distributing training across a cluster of computers, which is often a technique used to speed up computation. \n",
    "- The algorithm even automatically handles missing values!\""
   ]
  },
  {
   "cell_type": "code",
   "execution_count": 104,
   "metadata": {
    "ExecuteTime": {
     "end_time": "2020-04-11T20:29:06.286221Z",
     "start_time": "2020-04-11T20:29:01.169644Z"
    }
   },
   "outputs": [
    {
     "name": "stdout",
     "output_type": "stream",
     "text": [
      "0.6189079795142904\n",
      "0.5664955070603338\n",
      "              precision    recall  f1-score   support\n",
      "\n",
      "           0       0.79      0.47      0.59      5184\n",
      "           1       0.42      0.75      0.54      2606\n",
      "\n",
      "    accuracy                           0.57      7790\n",
      "   macro avg       0.60      0.61      0.56      7790\n",
      "weighted avg       0.67      0.57      0.57      7790\n",
      "\n"
     ]
    },
    {
     "data": {
      "image/png": "[encoded data removed]",
      "text/plain": [
       "<Figure size 864x432 with 3 Axes>"
      ]
     },
     "metadata": {
      "needs_background": "light"
     },
     "output_type": "display_data"
    },
    {
     "data": {
      "image/png": "[encoded data removed]",
      "text/plain": [
       "<Figure size 720x720 with 1 Axes>"
      ]
     },
     "metadata": {
      "needs_background": "light"
     },
     "output_type": "display_data"
    }
   ],
   "source": [
    "## import xgboost RF\n",
    "from xgboost import XGBRFClassifier,XGBClassifier\n",
    "## Fit and Evaluate\n",
    "\n",
    "xgb_rf = XGBRFClassifier()\n",
    "xgb_rf.fit(X_train, y_train)\n",
    "\n",
    "print(xgb_rf.score(X_train,y_train))\n",
    "print(xgb_rf.score(X_test,y_test))\n",
    "\n",
    "y_hat_test = xgb_rf.predict(X_test)\n",
    "\n",
    "evaluate_model(y_test,y_hat_test,X_test,xgb_rf)"
   ]
  },
  {
   "cell_type": "code",
   "execution_count": 108,
   "metadata": {
    "ExecuteTime": {
     "end_time": "2020-04-11T20:30:39.220063Z",
     "start_time": "2020-04-11T20:30:32.153350Z"
    }
   },
   "outputs": [
    {
     "data": {
      "text/plain": [
       "XGBRFClassifier(base_score=0.5, colsample_bylevel=1, colsample_bynode=0.8,\n",
       "                colsample_bytree=1, gamma=0, learning_rate=1, max_delta_step=0,\n",
       "                max_depth=5, min_child_weight=1, missing=None, n_estimators=100,\n",
       "                n_jobs=1, nthread=None, num_parallel_tree=100,\n",
       "                objective='binary:logistic', random_state=0, reg_alpha=0,\n",
       "                reg_lambda=1, scale_pos_weight=1, seed=None, silent=None,\n",
       "                subsample=0.8, verbosity=1)"
      ]
     },
     "execution_count": 108,
     "metadata": {},
     "output_type": "execute_result"
    }
   ],
   "source": [
    "## setup param grid for gridsearch\n",
    "\n",
    "xgbrf_grid = {'colsample_bynode': 0.8, 'learning_rate': 1,\n",
    "              'max_depth': 5, 'num_parallel_tree': 100, \n",
    "              'objective': 'binary:logistic', 'subsample': 0.8}\n",
    "\n",
    "xrf_clf = XGBRFClassifier(**xgbrf_grid)\n",
    "xrf_clf.fit(X_train,y_train)"
   ]
  },
  {
   "cell_type": "code",
   "execution_count": 109,
   "metadata": {
    "ExecuteTime": {
     "end_time": "2020-04-11T20:30:40.159223Z",
     "start_time": "2020-04-11T20:30:39.221400Z"
    }
   },
   "outputs": [
    {
     "name": "stdout",
     "output_type": "stream",
     "text": [
      "              precision    recall  f1-score   support\n",
      "\n",
      "           0       0.78      0.53      0.63      5184\n",
      "           1       0.43      0.71      0.54      2606\n",
      "\n",
      "    accuracy                           0.59      7790\n",
      "   macro avg       0.61      0.62      0.59      7790\n",
      "weighted avg       0.67      0.59      0.60      7790\n",
      "\n"
     ]
    },
    {
     "data": {
      "image/png": "[encoded data removed]",
      "text/plain": [
       "<Figure size 864x432 with 3 Axes>"
      ]
     },
     "metadata": {
      "needs_background": "light"
     },
     "output_type": "display_data"
    },
    {
     "data": {
      "image/png": "[encoded data removed]",
      "text/plain": [
       "<Figure size 720x720 with 1 Axes>"
      ]
     },
     "metadata": {
      "needs_background": "light"
     },
     "output_type": "display_data"
    }
   ],
   "source": [
    "y_hat_test = xrf_clf.predict(X_test)\n",
    "\n",
    "evaluate_model(y_test,y_hat_test,X_test,xrf_clf)"
   ]
  },
  {
   "cell_type": "markdown",
   "metadata": {
    "ExecuteTime": {
     "end_time": "2020-04-11T00:48:30.825731Z",
     "start_time": "2020-04-11T00:48:29.990013Z"
    }
   },
   "source": [
    "## Question"
   ]
  },
  {
   "cell_type": "markdown",
   "metadata": {},
   "source": [
    "- Exploring XGBoost's parameters and tuning them (will revisit first office hours)"
   ]
  },
  {
   "cell_type": "markdown",
   "metadata": {
    "heading_collapsed": true
   },
   "source": [
    "# APPENDIX"
   ]
  },
  {
   "cell_type": "code",
   "execution_count": null,
   "metadata": {
    "hidden": true
   },
   "outputs": [],
   "source": []
  },
  {
   "cell_type": "code",
   "execution_count": null,
   "metadata": {
    "ExecuteTime": {
     "end_time": "2020-01-21T03:25:20.067851Z",
     "start_time": "2020-01-21T03:25:20.065500Z"
    },
    "code_folding": [],
    "hidden": true
   },
   "outputs": [],
   "source": [
    "# # Create the pipeline\n",
    "# pipetree = Pipeline([('enc',LabelEncoder()),\n",
    "#                      ('ohe',OneHotEncoder()),\n",
    "#                     ('dt',DecisionTreeClassifier())])\n",
    "\n",
    "# # pipe = Pipeline([('scl', MinMaxScaler()),\n",
    "# #                 ('pca', PCA(n_components=10)),\n",
    "# #                 ('svm', svm.SVC(random_state=123))])\n",
    "\n",
    "# # Create the grid parameter\n",
    "# grid = {'dt__max_depth': [3,5,10],\n",
    "#      'dt__criterion': ['gini','entropy'],\n",
    "#      'dt__min_samples_split':[2,5,10],\n",
    "#      'dt__min_samples_leaf':[1,2,3]}\n",
    "# @timeit\n",
    "# def timed_search(pipe=pipetree, grid=grid):\n",
    "#     randomsearch = RandomizedSearchCV(estimator=pipe,param_distributions=grid,verbose=1)\n",
    "\n",
    "#     randomsearch.fit(X_train, y_train)\n",
    "#     return randomsearch\n",
    "# # # Create the grid parameter\n",
    "# # grid = [{'svm__kernel': ['poly', 'sigmoid'],\n",
    "# #          'svm__C': [0.01, 1, 100],\n",
    "# #          'svm__degree0': [2,3,4,5],\n",
    "# #          'svm__gamma': [0.001, 0.01]}]\n",
    "\n",
    "# # # Create the grid, with \"pipe\" as the estimator\n",
    "# # gridsearch = GridSearchCV(estimator=pipe,\n",
    "# #                   param_grid=grid,\n",
    "# #                   scoring='accuracy',\n",
    "# #                   cv=3)\n",
    "\n",
    "# # Fit using grid search\n",
    "# # gridsearch.fit(X_train, y_train)"
   ]
  }
 ],
 "metadata": {
  "celltoolbar": "Slideshow",
  "kernelspec": {
   "display_name": "Python [conda env:learn-env] *",
   "language": "python",
   "name": "conda-env-learn-env-py"
  },
  "language_info": {
   "codemirror_mode": {
    "name": "ipython",
    "version": 3
   },
   "file_extension": ".py",
   "mimetype": "text/x-python",
   "name": "python",
   "nbconvert_exporter": "python",
   "pygments_lexer": "ipython3",
   "version": "3.6.9"
  },
  "toc": {
   "base_numbering": 1,
   "nav_menu": {},
   "number_sections": false,
   "sideBar": true,
   "skip_h1_title": false,
   "title_cell": "Table of Contents",
   "title_sidebar": "Contents",
   "toc_cell": false,
   "toc_position": {
    "height": "calc(100% - 180px)",
    "left": "10px",
    "top": "150px",
    "width": "232.727px"
   },
   "toc_section_display": true,
   "toc_window_display": true
  }
 },
 "nbformat": 4,
 "nbformat_minor": 2
}
