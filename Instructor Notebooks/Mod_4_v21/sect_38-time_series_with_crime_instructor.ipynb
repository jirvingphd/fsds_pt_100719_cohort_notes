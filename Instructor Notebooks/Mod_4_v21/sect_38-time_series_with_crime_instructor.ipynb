{
 "cells": [
  {
   "cell_type": "markdown",
   "metadata": {},
   "source": [
    "# Sect 31-Pt2 & 32: Intro to Time Series"
   ]
  },
  {
   "cell_type": "markdown",
   "metadata": {},
   "source": [
    "- From 12/19/19  study group"
   ]
  },
  {
   "cell_type": "markdown",
   "metadata": {},
   "source": [
    "## Learning Objectives:\n",
    "- `pd.grouper`\n",
    "\n",
    "- Learn about types of time series trends and how to remove them.\n",
    "- Learn about seasonal decomposition`statsmodels.tsa.seasonal.seasonal_decompose`\n",
    "\n",
    "- Learn about PACF, ACF\n",
    "- Introduce ARIMA and SARIMA models.\n",
    "\n"
   ]
  },
  {
   "cell_type": "markdown",
   "metadata": {},
   "source": [
    " ## Questions to Revisit\n",
    " - Can you interpolate between missing datapoints?\n",
    "     - `pd.Series.interpolate` \n",
    "     - https://pandas.pydata.org/pandas-docs/stable/reference/api/pandas.Series.interpolate.html\n",
    " "
   ]
  },
  {
   "cell_type": "markdown",
   "metadata": {},
   "source": [
    "## References"
   ]
  },
  {
   "cell_type": "markdown",
   "metadata": {},
   "source": [
    "- [Pandas Timeseries Documentation](https://pandas.pydata.org/pandas-docs/stable/user_guide/timeseries.html)\n",
    "- ['Timeseries Offset Aliases'](https://pandas.pydata.org/pandas-docs/stable/user_guide/timeseries.html#timeseries-offset-aliases)\n",
    "- [Anchored Offsets](https://pandas.pydata.org/pandas-docs/stable/user_guide/timeseries.html#anchored-offsets)\n",
    "\n",
    "\n",
    "- https://pandas.pydata.org/pandas-docs/stable/reference/api/pandas.Timestamp.html"
   ]
  },
  {
   "cell_type": "markdown",
   "metadata": {},
   "source": [
    "**REFERENCE CONTENTS:**\n",
    "- Date StrFormatting\n",
    "    - Used for:\n",
    "        - Recognizing Date Formats (`pd.to_datetime`)\n",
    "        - `dt_obj.strftime()`\n",
    "        \n",
    "- Pandas Frequency Aliases\n",
    "    - Used for:\n",
    "        - `df.resample()`\n",
    "        - `df.asfreq()`\n",
    "        - ...\n",
    "        "
   ]
  },
  {
   "cell_type": "markdown",
   "metadata": {
    "heading_collapsed": true
   },
   "source": [
    "## Reference Tables"
   ]
  },
  {
   "cell_type": "markdown",
   "metadata": {
    "hidden": true
   },
   "source": [
    "### Date Str Formatting\n",
    "\n",
    "\n",
    "\n",
    "\n",
    "Formatting follows the Python datetime <strong><a href='http://strftime.org/'>strftime</a></strong> codes.<br>\n",
    "The following examples are based on <tt>datetime.datetime(2001, 2, 3, 16, 5, 6)</tt>:\n",
    "<br><br>\n",
    "\n",
    "<table style=\"display: inline-block\">  \n",
    "<tr><th>CODE</th><th>MEANING</th><th>EXAMPLE</th><tr>\n",
    "<tr><td>%Y</td><td>Year with century as a decimal number.</td><td>2001</td></tr>\n",
    "<tr><td>%y</td><td>Year without century as a zero-padded decimal number.</td><td>01</td></tr>\n",
    "<tr><td>%m</td><td>Month as a zero-padded decimal number.</td><td>02</td></tr>\n",
    "<tr><td>%B</td><td>Month as locale’s full name.</td><td>February</td></tr>\n",
    "<tr><td>%b</td><td>Month as locale’s abbreviated name.</td><td>Feb</td></tr>\n",
    "<tr><td>%d</td><td>Day of the month as a zero-padded decimal number.</td><td>03</td></tr>  \n",
    "<tr><td>%A</td><td>Weekday as locale’s full name.</td><td>Saturday</td></tr>\n",
    "<tr><td>%a</td><td>Weekday as locale’s abbreviated name.</td><td>Sat</td></tr>\n",
    "<tr><td>%H</td><td>Hour (24-hour clock) as a zero-padded decimal number.</td><td>16</td></tr>\n",
    "<tr><td>%I</td><td>Hour (12-hour clock) as a zero-padded decimal number.</td><td>04</td></tr>\n",
    "<tr><td>%p</td><td>Locale’s equivalent of either AM or PM.</td><td>PM</td></tr>\n",
    "<tr><td>%M</td><td>Minute as a zero-padded decimal number.</td><td>05</td></tr>\n",
    "<tr><td>%S</td><td>Second as a zero-padded decimal number.</td><td>06</td></tr>\n",
    "</table>\n",
    "<table style=\"display: inline-block\">\n",
    "<tr><th>CODE</th><th>MEANING</th><th>EXAMPLE</th><tr>\n",
    "<tr><td>%#m</td><td>Month as a decimal number. (Windows)</td><td>2</td></tr>\n",
    "<tr><td>%-m</td><td>Month as a decimal number. (Mac/Linux)</td><td>2</td></tr>\n",
    "<tr><td>%#x</td><td>Long date</td><td>Saturday, February 03, 2001</td></tr>\n",
    "<tr><td>%#c</td><td>Long date and time</td><td>Saturday, February 03, 2001 16:05:06</td></tr>\n",
    "</table>  \n",
    "    \n",
    "\n",
    "### Pandas Frequency Aliases\n",
    "\n",
    "\n",
    "https://pandas.pydata.org/pandas-docs/stable/user_guide/timeseries.html#timeseries-offset-aliases\n",
    "\n",
    "|Alias\t| Description|\n",
    "| --- | --- |\n",
    "|B |\tbusiness day frequency|\n",
    "|C |\tcustom business day frequency|\n",
    "|D |\tcalendar day frequency|\n",
    "|W |\tweekly frequency|\n",
    "|M |\tmonth end frequency|\n",
    "|SM |\tsemi-month end frequency (15th and end of month)|\n",
    "|BM |\tbusiness month end frequency|\n",
    "|CBM |\tcustom business month end frequency|\n",
    "|MS |\tmonth start frequency|\n",
    "|SMS |\tsemi-month start frequency (1st and 15th)|\n",
    "|BMS |\tbusiness month start frequency|\n",
    "|CBMS |\tcustom business month start frequency|\n",
    "|Q |\tquarter end frequency|\n",
    "|BQ |\tbusiness quarter end frequency|\n",
    "|QS |\tquarter start frequency|\n",
    "|BQS |\tbusiness quarter start frequency|\n",
    "|A, Y |\tyear end frequency|\n",
    "|BA, BY |\tbusiness year end frequency|\n",
    "|AS, YS |\tyear start frequency|\n",
    "|BAS, BYS |\tbusiness year start frequency|\n",
    "|BH | business hour frequency|\n",
    "|H | hourly frequency|\n",
    "|T |  min\tminutely frequency|\n",
    "|S | secondly frequency|\n",
    "|L |  ms\tmilliseconds|\n",
    "|U |  us\tmicroseconds|\n",
    "|N | nanoseconds|"
   ]
  },
  {
   "cell_type": "markdown",
   "metadata": {},
   "source": [
    "# Intro to Time Series"
   ]
  },
  {
   "cell_type": "code",
   "execution_count": 1,
   "metadata": {
    "ExecuteTime": {
     "end_time": "2020-05-05T01:16:55.549170Z",
     "start_time": "2020-05-05T01:16:52.143595Z"
    }
   },
   "outputs": [
    {
     "name": "stdout",
     "output_type": "stream",
     "text": [
      "fsds_1007219  v0.7.21 loaded.  Read the docs: https://fsds.readthedocs.io/en/latest/ \n"
     ]
    },
    {
     "data": {
      "text/html": [
       "<style  type=\"text/css\" >\n",
       "</style><table id=\"T_1b32e8e2_8e6e_11ea_a639_4865ee12e626\" ><caption>Loaded Packages and Handles</caption><thead>    <tr>        <th class=\"col_heading level0 col0\" >Handle</th>        <th class=\"col_heading level0 col1\" >Package</th>        <th class=\"col_heading level0 col2\" >Description</th>    </tr></thead><tbody>\n",
       "                <tr>\n",
       "                                <td id=\"T_1b32e8e2_8e6e_11ea_a639_4865ee12e626row0_col0\" class=\"data row0 col0\" >dp</td>\n",
       "                        <td id=\"T_1b32e8e2_8e6e_11ea_a639_4865ee12e626row0_col1\" class=\"data row0 col1\" >IPython.display</td>\n",
       "                        <td id=\"T_1b32e8e2_8e6e_11ea_a639_4865ee12e626row0_col2\" class=\"data row0 col2\" >Display modules with helpful display and clearing commands.</td>\n",
       "            </tr>\n",
       "            <tr>\n",
       "                                <td id=\"T_1b32e8e2_8e6e_11ea_a639_4865ee12e626row1_col0\" class=\"data row1 col0\" >fs</td>\n",
       "                        <td id=\"T_1b32e8e2_8e6e_11ea_a639_4865ee12e626row1_col1\" class=\"data row1 col1\" >fsds_100719</td>\n",
       "                        <td id=\"T_1b32e8e2_8e6e_11ea_a639_4865ee12e626row1_col2\" class=\"data row1 col2\" >Custom data science bootcamp student package</td>\n",
       "            </tr>\n",
       "            <tr>\n",
       "                                <td id=\"T_1b32e8e2_8e6e_11ea_a639_4865ee12e626row2_col0\" class=\"data row2 col0\" >mpl</td>\n",
       "                        <td id=\"T_1b32e8e2_8e6e_11ea_a639_4865ee12e626row2_col1\" class=\"data row2 col1\" >matplotlib</td>\n",
       "                        <td id=\"T_1b32e8e2_8e6e_11ea_a639_4865ee12e626row2_col2\" class=\"data row2 col2\" >Matplotlib's base OOP module with formatting artists</td>\n",
       "            </tr>\n",
       "            <tr>\n",
       "                                <td id=\"T_1b32e8e2_8e6e_11ea_a639_4865ee12e626row3_col0\" class=\"data row3 col0\" >plt</td>\n",
       "                        <td id=\"T_1b32e8e2_8e6e_11ea_a639_4865ee12e626row3_col1\" class=\"data row3 col1\" >matplotlib.pyplot</td>\n",
       "                        <td id=\"T_1b32e8e2_8e6e_11ea_a639_4865ee12e626row3_col2\" class=\"data row3 col2\" >Matplotlib's matlab-like plotting module</td>\n",
       "            </tr>\n",
       "            <tr>\n",
       "                                <td id=\"T_1b32e8e2_8e6e_11ea_a639_4865ee12e626row4_col0\" class=\"data row4 col0\" >np</td>\n",
       "                        <td id=\"T_1b32e8e2_8e6e_11ea_a639_4865ee12e626row4_col1\" class=\"data row4 col1\" >numpy</td>\n",
       "                        <td id=\"T_1b32e8e2_8e6e_11ea_a639_4865ee12e626row4_col2\" class=\"data row4 col2\" >scientific computing with Python</td>\n",
       "            </tr>\n",
       "            <tr>\n",
       "                                <td id=\"T_1b32e8e2_8e6e_11ea_a639_4865ee12e626row5_col0\" class=\"data row5 col0\" >pd</td>\n",
       "                        <td id=\"T_1b32e8e2_8e6e_11ea_a639_4865ee12e626row5_col1\" class=\"data row5 col1\" >pandas</td>\n",
       "                        <td id=\"T_1b32e8e2_8e6e_11ea_a639_4865ee12e626row5_col2\" class=\"data row5 col2\" >High performance data structures and tools</td>\n",
       "            </tr>\n",
       "            <tr>\n",
       "                                <td id=\"T_1b32e8e2_8e6e_11ea_a639_4865ee12e626row6_col0\" class=\"data row6 col0\" >sns</td>\n",
       "                        <td id=\"T_1b32e8e2_8e6e_11ea_a639_4865ee12e626row6_col1\" class=\"data row6 col1\" >seaborn</td>\n",
       "                        <td id=\"T_1b32e8e2_8e6e_11ea_a639_4865ee12e626row6_col2\" class=\"data row6 col2\" >High-level data visualization library based on matplotlib</td>\n",
       "            </tr>\n",
       "    </tbody></table>"
      ],
      "text/plain": [
       "<pandas.io.formats.style.Styler at 0x1c1aa1e908>"
      ]
     },
     "metadata": {},
     "output_type": "display_data"
    },
    {
     "data": {
      "text/html": [
       "        <script type=\"text/javascript\">\n",
       "        window.PlotlyConfig = {MathJaxConfig: 'local'};\n",
       "        if (window.MathJax) {MathJax.Hub.Config({SVG: {font: \"STIX-Web\"}});}\n",
       "        if (typeof require !== 'undefined') {\n",
       "        require.undef(\"plotly\");\n",
       "        requirejs.config({\n",
       "            paths: {\n",
       "                'plotly': ['https://cdn.plot.ly/plotly-latest.min']\n",
       "            }\n",
       "        });\n",
       "        require(['plotly'], function(Plotly) {\n",
       "            window._Plotly = Plotly;\n",
       "        });\n",
       "        }\n",
       "        </script>\n",
       "        "
      ]
     },
     "metadata": {},
     "output_type": "display_data"
    },
    {
     "name": "stdout",
     "output_type": "stream",
     "text": [
      "[i] Pandas .iplot() method activated.\n"
     ]
    }
   ],
   "source": [
    "## Uncomment Below to Update Packages\n",
    "# !pip install -U fsds_100719\n",
    "# %conda update matplotlib\n",
    "# %conda update scikit-learn\n",
    "# %conda update pandas\n",
    "from fsds_100719.imports import *\n",
    "\n",
    "pd.set_option('precision',3)"
   ]
  },
  {
   "cell_type": "code",
   "execution_count": 3,
   "metadata": {
    "ExecuteTime": {
     "end_time": "2020-05-05T01:16:55.558936Z",
     "start_time": "2020-05-05T01:16:55.555060Z"
    }
   },
   "outputs": [
    {
     "name": "stdout",
     "output_type": "stream",
     "text": [
      "pandas V 1.0.3\n",
      "matplotlib V 3.1.3\n",
      "sklearn V 0.22.1\n"
     ]
    }
   ],
   "source": [
    "import sklearn\n",
    "mods = [pd,mpl,sklearn]\n",
    "[print(f\"{mod.__name__} V {mod.__version__}\") for mod in mods];"
   ]
  },
  {
   "cell_type": "markdown",
   "metadata": {},
   "source": [
    "# Baltimore Crime"
   ]
  },
  {
   "cell_type": "markdown",
   "metadata": {},
   "source": [
    "## 2020 Data"
   ]
  },
  {
   "cell_type": "markdown",
   "metadata": {},
   "source": [
    "> Instructor Note: REMOVE PARSE DATES AND INDEX_COL PARAMETERS FROM READ_CSV AT FIRST FOR STUDY GROUP"
   ]
  },
  {
   "cell_type": "code",
   "execution_count": 4,
   "metadata": {
    "ExecuteTime": {
     "end_time": "2020-05-05T01:16:55.562347Z",
     "start_time": "2020-05-05T01:16:55.560413Z"
    }
   },
   "outputs": [],
   "source": [
    "# import os,sys\n",
    "# file = 'https://raw.githubusercontent.com/jirvingphd/fsds_pt_100719_cohort_notes/master/datasets/baltimore_crime_2020.csv'#'../../datasets/baltimore_crime_2020.csv'\n",
    "# df = pd.read_csv(file,low_memory=False)"
   ]
  },
  {
   "cell_type": "code",
   "execution_count": 5,
   "metadata": {
    "ExecuteTime": {
     "end_time": "2020-05-05T01:16:55.565818Z",
     "start_time": "2020-05-05T01:16:55.563805Z"
    }
   },
   "outputs": [],
   "source": [
    "## Make datetime index\n",
    "#datetime = pd.to_datetime(df['CrimeDate']+ ' - ' + df['CrimeTime'])\n",
    "#datetime "
   ]
  },
  {
   "cell_type": "code",
   "execution_count": 6,
   "metadata": {
    "ExecuteTime": {
     "end_time": "2020-05-05T01:16:55.569706Z",
     "start_time": "2020-05-05T01:16:55.567528Z"
    }
   },
   "outputs": [],
   "source": [
    "## Set datetime index\n",
    "# df.set_index('datetime',inplace=True)\n",
    "# df.index"
   ]
  },
  {
   "cell_type": "code",
   "execution_count": 7,
   "metadata": {
    "ExecuteTime": {
     "end_time": "2020-05-05T01:16:58.752592Z",
     "start_time": "2020-05-05T01:16:55.571223Z"
    },
    "scrolled": true
   },
   "outputs": [
    {
     "data": {
      "text/html": [
       "<div>\n",
       "<style scoped>\n",
       "    .dataframe tbody tr th:only-of-type {\n",
       "        vertical-align: middle;\n",
       "    }\n",
       "\n",
       "    .dataframe tbody tr th {\n",
       "        vertical-align: top;\n",
       "    }\n",
       "\n",
       "    .dataframe thead th {\n",
       "        text-align: right;\n",
       "    }\n",
       "</style>\n",
       "<table border=\"1\" class=\"dataframe\">\n",
       "  <thead>\n",
       "    <tr style=\"text-align: right;\">\n",
       "      <th></th>\n",
       "      <th>CrimeDate</th>\n",
       "      <th>CrimeTime</th>\n",
       "      <th>CrimeCode</th>\n",
       "      <th>Location</th>\n",
       "      <th>Description</th>\n",
       "      <th>Inside/Outside</th>\n",
       "      <th>Weapon</th>\n",
       "      <th>Post</th>\n",
       "      <th>District</th>\n",
       "      <th>Neighborhood</th>\n",
       "      <th>Longitude</th>\n",
       "      <th>Latitude</th>\n",
       "      <th>Location 1</th>\n",
       "      <th>Premise</th>\n",
       "      <th>vri_name1</th>\n",
       "      <th>Total Incidents</th>\n",
       "    </tr>\n",
       "    <tr>\n",
       "      <th>datetime</th>\n",
       "      <th></th>\n",
       "      <th></th>\n",
       "      <th></th>\n",
       "      <th></th>\n",
       "      <th></th>\n",
       "      <th></th>\n",
       "      <th></th>\n",
       "      <th></th>\n",
       "      <th></th>\n",
       "      <th></th>\n",
       "      <th></th>\n",
       "      <th></th>\n",
       "      <th></th>\n",
       "      <th></th>\n",
       "      <th></th>\n",
       "      <th></th>\n",
       "    </tr>\n",
       "  </thead>\n",
       "  <tbody>\n",
       "    <tr>\n",
       "      <th>2020-04-25 17:30:00</th>\n",
       "      <td>04/25/2020</td>\n",
       "      <td>17:30:00</td>\n",
       "      <td>5A</td>\n",
       "      <td>2400 SHIRLEY AVE</td>\n",
       "      <td>BURGLARY</td>\n",
       "      <td>I</td>\n",
       "      <td>NaN</td>\n",
       "      <td>533.0</td>\n",
       "      <td>NORTHERN</td>\n",
       "      <td>GREENSPRING</td>\n",
       "      <td>-76.657</td>\n",
       "      <td>39.336</td>\n",
       "      <td>NaN</td>\n",
       "      <td>ROW/TOWNHOUSE-VAC</td>\n",
       "      <td>NaN</td>\n",
       "      <td>1</td>\n",
       "    </tr>\n",
       "    <tr>\n",
       "      <th>2020-04-25 02:40:00</th>\n",
       "      <td>04/25/2020</td>\n",
       "      <td>02:40:00</td>\n",
       "      <td>5A</td>\n",
       "      <td>2900 MOUNT HOLLY ST</td>\n",
       "      <td>BURGLARY</td>\n",
       "      <td>I</td>\n",
       "      <td>NaN</td>\n",
       "      <td>624.0</td>\n",
       "      <td>NORTHWEST</td>\n",
       "      <td>WINDSOR HILLS</td>\n",
       "      <td>-76.683</td>\n",
       "      <td>39.320</td>\n",
       "      <td>NaN</td>\n",
       "      <td>ROW/TOWNHOUSE-VAC</td>\n",
       "      <td>NaN</td>\n",
       "      <td>1</td>\n",
       "    </tr>\n",
       "    <tr>\n",
       "      <th>2020-04-25 09:30:00</th>\n",
       "      <td>04/25/2020</td>\n",
       "      <td>09:30:00</td>\n",
       "      <td>5C</td>\n",
       "      <td>0 N JANNEY ST</td>\n",
       "      <td>BURGLARY</td>\n",
       "      <td>I</td>\n",
       "      <td>NaN</td>\n",
       "      <td>232.0</td>\n",
       "      <td>SOUTHEAST</td>\n",
       "      <td>KRESSON</td>\n",
       "      <td>-76.561</td>\n",
       "      <td>39.293</td>\n",
       "      <td>NaN</td>\n",
       "      <td>ROW/TOWNHOUSE-VAC</td>\n",
       "      <td>NaN</td>\n",
       "      <td>1</td>\n",
       "    </tr>\n",
       "    <tr>\n",
       "      <th>2020-04-25 02:30:00</th>\n",
       "      <td>04/25/2020</td>\n",
       "      <td>02:30:00</td>\n",
       "      <td>4E</td>\n",
       "      <td>900 W SARATOGA ST</td>\n",
       "      <td>COMMON ASSAULT</td>\n",
       "      <td>NaN</td>\n",
       "      <td>NaN</td>\n",
       "      <td>712.0</td>\n",
       "      <td>WESTERN</td>\n",
       "      <td>POPPLETON</td>\n",
       "      <td>-76.632</td>\n",
       "      <td>39.292</td>\n",
       "      <td>NaN</td>\n",
       "      <td>NaN</td>\n",
       "      <td>NaN</td>\n",
       "      <td>1</td>\n",
       "    </tr>\n",
       "    <tr>\n",
       "      <th>2020-04-25 15:30:00</th>\n",
       "      <td>04/25/2020</td>\n",
       "      <td>15:30:00</td>\n",
       "      <td>6C</td>\n",
       "      <td>3700 BOSTON ST</td>\n",
       "      <td>LARCENY</td>\n",
       "      <td>I</td>\n",
       "      <td>NaN</td>\n",
       "      <td>231.0</td>\n",
       "      <td>SOUTHEAST</td>\n",
       "      <td>CANTON INDUSTRIAL AREA</td>\n",
       "      <td>-76.565</td>\n",
       "      <td>39.277</td>\n",
       "      <td>NaN</td>\n",
       "      <td>GROCERY/CONFECTION</td>\n",
       "      <td>NaN</td>\n",
       "      <td>1</td>\n",
       "    </tr>\n",
       "  </tbody>\n",
       "</table>\n",
       "</div>"
      ],
      "text/plain": [
       "                      CrimeDate CrimeTime CrimeCode             Location  \\\n",
       "datetime                                                                   \n",
       "2020-04-25 17:30:00  04/25/2020  17:30:00        5A     2400 SHIRLEY AVE   \n",
       "2020-04-25 02:40:00  04/25/2020  02:40:00        5A  2900 MOUNT HOLLY ST   \n",
       "2020-04-25 09:30:00  04/25/2020  09:30:00        5C        0 N JANNEY ST   \n",
       "2020-04-25 02:30:00  04/25/2020  02:30:00        4E    900 W SARATOGA ST   \n",
       "2020-04-25 15:30:00  04/25/2020  15:30:00        6C       3700 BOSTON ST   \n",
       "\n",
       "                        Description Inside/Outside Weapon   Post   District  \\\n",
       "datetime                                                                      \n",
       "2020-04-25 17:30:00        BURGLARY              I    NaN  533.0   NORTHERN   \n",
       "2020-04-25 02:40:00        BURGLARY              I    NaN  624.0  NORTHWEST   \n",
       "2020-04-25 09:30:00        BURGLARY              I    NaN  232.0  SOUTHEAST   \n",
       "2020-04-25 02:30:00  COMMON ASSAULT            NaN    NaN  712.0    WESTERN   \n",
       "2020-04-25 15:30:00         LARCENY              I    NaN  231.0  SOUTHEAST   \n",
       "\n",
       "                               Neighborhood  Longitude  Latitude  Location 1  \\\n",
       "datetime                                                                       \n",
       "2020-04-25 17:30:00             GREENSPRING    -76.657    39.336         NaN   \n",
       "2020-04-25 02:40:00           WINDSOR HILLS    -76.683    39.320         NaN   \n",
       "2020-04-25 09:30:00                 KRESSON    -76.561    39.293         NaN   \n",
       "2020-04-25 02:30:00               POPPLETON    -76.632    39.292         NaN   \n",
       "2020-04-25 15:30:00  CANTON INDUSTRIAL AREA    -76.565    39.277         NaN   \n",
       "\n",
       "                                Premise vri_name1  Total Incidents  \n",
       "datetime                                                            \n",
       "2020-04-25 17:30:00   ROW/TOWNHOUSE-VAC       NaN                1  \n",
       "2020-04-25 02:40:00   ROW/TOWNHOUSE-VAC       NaN                1  \n",
       "2020-04-25 09:30:00   ROW/TOWNHOUSE-VAC       NaN                1  \n",
       "2020-04-25 02:30:00                 NaN       NaN                1  \n",
       "2020-04-25 15:30:00  GROCERY/CONFECTION       NaN                1  "
      ]
     },
     "execution_count": 7,
     "metadata": {},
     "output_type": "execute_result"
    }
   ],
   "source": [
    "import os,sys\n",
    "file = 'https://raw.githubusercontent.com/jirvingphd/fsds_pt_100719_cohort_notes/master/datasets/baltimore_crime_2020.csv'#'../../datasets/baltimore_crime_2020.csv'\n",
    "df = pd.read_csv(file,low_memory=False,parse_dates=['datetime'],index_col=['datetime'])\n",
    "df.head()"
   ]
  },
  {
   "cell_type": "code",
   "execution_count": 8,
   "metadata": {
    "ExecuteTime": {
     "end_time": "2020-05-05T01:16:58.772172Z",
     "start_time": "2020-05-05T01:16:58.754828Z"
    }
   },
   "outputs": [
    {
     "data": {
      "text/html": [
       "<div>\n",
       "<style scoped>\n",
       "    .dataframe tbody tr th:only-of-type {\n",
       "        vertical-align: middle;\n",
       "    }\n",
       "\n",
       "    .dataframe tbody tr th {\n",
       "        vertical-align: top;\n",
       "    }\n",
       "\n",
       "    .dataframe thead th {\n",
       "        text-align: right;\n",
       "    }\n",
       "</style>\n",
       "<table border=\"1\" class=\"dataframe\">\n",
       "  <thead>\n",
       "    <tr style=\"text-align: right;\">\n",
       "      <th></th>\n",
       "      <th>CrimeDate</th>\n",
       "      <th>CrimeTime</th>\n",
       "      <th>CrimeCode</th>\n",
       "      <th>Location</th>\n",
       "      <th>Description</th>\n",
       "      <th>Inside/Outside</th>\n",
       "      <th>Weapon</th>\n",
       "      <th>Post</th>\n",
       "      <th>District</th>\n",
       "      <th>Neighborhood</th>\n",
       "      <th>Longitude</th>\n",
       "      <th>Latitude</th>\n",
       "      <th>Location 1</th>\n",
       "      <th>Premise</th>\n",
       "      <th>vri_name1</th>\n",
       "      <th>Total Incidents</th>\n",
       "    </tr>\n",
       "    <tr>\n",
       "      <th>datetime</th>\n",
       "      <th></th>\n",
       "      <th></th>\n",
       "      <th></th>\n",
       "      <th></th>\n",
       "      <th></th>\n",
       "      <th></th>\n",
       "      <th></th>\n",
       "      <th></th>\n",
       "      <th></th>\n",
       "      <th></th>\n",
       "      <th></th>\n",
       "      <th></th>\n",
       "      <th></th>\n",
       "      <th></th>\n",
       "      <th></th>\n",
       "      <th></th>\n",
       "    </tr>\n",
       "  </thead>\n",
       "  <tbody>\n",
       "    <tr>\n",
       "      <th>1978-01-01 10:30:00</th>\n",
       "      <td>01/01/1978</td>\n",
       "      <td>10:30:00</td>\n",
       "      <td>2A</td>\n",
       "      <td>1900 ARGONNE DR</td>\n",
       "      <td>RAPE</td>\n",
       "      <td>I</td>\n",
       "      <td>OTHER</td>\n",
       "      <td>421.0</td>\n",
       "      <td>NORTHEAST</td>\n",
       "      <td>MORGAN STATE UNIVERS</td>\n",
       "      <td>-76.582</td>\n",
       "      <td>39.340</td>\n",
       "      <td>NaN</td>\n",
       "      <td>ROW/TOWNHOUSE-OCC</td>\n",
       "      <td>NaN</td>\n",
       "      <td>1</td>\n",
       "    </tr>\n",
       "    <tr>\n",
       "      <th>1977-05-01 00:01:00</th>\n",
       "      <td>05/01/1977</td>\n",
       "      <td>00:01:00</td>\n",
       "      <td>2A</td>\n",
       "      <td>600 W 34TH ST</td>\n",
       "      <td>RAPE</td>\n",
       "      <td>I</td>\n",
       "      <td>OTHER</td>\n",
       "      <td>531.0</td>\n",
       "      <td>NORTHERN</td>\n",
       "      <td>WYMAN PARK</td>\n",
       "      <td>-76.627</td>\n",
       "      <td>39.329</td>\n",
       "      <td>NaN</td>\n",
       "      <td>ROW/TOWNHOUSE-OCC</td>\n",
       "      <td>NaN</td>\n",
       "      <td>1</td>\n",
       "    </tr>\n",
       "    <tr>\n",
       "      <th>1975-06-01 00:00:00</th>\n",
       "      <td>06/01/1975</td>\n",
       "      <td>00:00:00</td>\n",
       "      <td>2A</td>\n",
       "      <td>4400 OLD FREDERICK RD</td>\n",
       "      <td>RAPE</td>\n",
       "      <td>I</td>\n",
       "      <td>OTHER</td>\n",
       "      <td>822.0</td>\n",
       "      <td>SOUTHWEST</td>\n",
       "      <td>UPLANDS</td>\n",
       "      <td>-76.691</td>\n",
       "      <td>39.290</td>\n",
       "      <td>NaN</td>\n",
       "      <td>OTHER - INSIDE</td>\n",
       "      <td>NaN</td>\n",
       "      <td>1</td>\n",
       "    </tr>\n",
       "    <tr>\n",
       "      <th>1969-07-20 21:00:00</th>\n",
       "      <td>07/20/1969</td>\n",
       "      <td>21:00:00</td>\n",
       "      <td>2A</td>\n",
       "      <td>5400 ROLAND AVE</td>\n",
       "      <td>RAPE</td>\n",
       "      <td>NaN</td>\n",
       "      <td>OTHER</td>\n",
       "      <td>534.0</td>\n",
       "      <td>NORTHERN</td>\n",
       "      <td>ROLAND PARK</td>\n",
       "      <td>-76.635</td>\n",
       "      <td>39.359</td>\n",
       "      <td>NaN</td>\n",
       "      <td>NaN</td>\n",
       "      <td>NaN</td>\n",
       "      <td>1</td>\n",
       "    </tr>\n",
       "    <tr>\n",
       "      <th>1963-10-30 00:00:00</th>\n",
       "      <td>10/30/1963</td>\n",
       "      <td>00:00:00</td>\n",
       "      <td>2A</td>\n",
       "      <td>3100 FERNDALE AVE</td>\n",
       "      <td>RAPE</td>\n",
       "      <td>I</td>\n",
       "      <td>OTHER</td>\n",
       "      <td>622.0</td>\n",
       "      <td>NORTHWEST</td>\n",
       "      <td>HOWARD PARK</td>\n",
       "      <td>-76.703</td>\n",
       "      <td>39.327</td>\n",
       "      <td>NaN</td>\n",
       "      <td>ROW/TOWNHOUSE-OCC</td>\n",
       "      <td>NaN</td>\n",
       "      <td>1</td>\n",
       "    </tr>\n",
       "  </tbody>\n",
       "</table>\n",
       "</div>"
      ],
      "text/plain": [
       "                      CrimeDate CrimeTime CrimeCode               Location  \\\n",
       "datetime                                                                     \n",
       "1978-01-01 10:30:00  01/01/1978  10:30:00        2A        1900 ARGONNE DR   \n",
       "1977-05-01 00:01:00  05/01/1977  00:01:00        2A          600 W 34TH ST   \n",
       "1975-06-01 00:00:00  06/01/1975  00:00:00        2A  4400 OLD FREDERICK RD   \n",
       "1969-07-20 21:00:00  07/20/1969  21:00:00        2A        5400 ROLAND AVE   \n",
       "1963-10-30 00:00:00  10/30/1963  00:00:00        2A      3100 FERNDALE AVE   \n",
       "\n",
       "                    Description Inside/Outside Weapon   Post   District  \\\n",
       "datetime                                                                  \n",
       "1978-01-01 10:30:00        RAPE              I  OTHER  421.0  NORTHEAST   \n",
       "1977-05-01 00:01:00        RAPE              I  OTHER  531.0   NORTHERN   \n",
       "1975-06-01 00:00:00        RAPE              I  OTHER  822.0  SOUTHWEST   \n",
       "1969-07-20 21:00:00        RAPE            NaN  OTHER  534.0   NORTHERN   \n",
       "1963-10-30 00:00:00        RAPE              I  OTHER  622.0  NORTHWEST   \n",
       "\n",
       "                             Neighborhood  Longitude  Latitude  Location 1  \\\n",
       "datetime                                                                     \n",
       "1978-01-01 10:30:00  MORGAN STATE UNIVERS    -76.582    39.340         NaN   \n",
       "1977-05-01 00:01:00            WYMAN PARK    -76.627    39.329         NaN   \n",
       "1975-06-01 00:00:00               UPLANDS    -76.691    39.290         NaN   \n",
       "1969-07-20 21:00:00           ROLAND PARK    -76.635    39.359         NaN   \n",
       "1963-10-30 00:00:00           HOWARD PARK    -76.703    39.327         NaN   \n",
       "\n",
       "                               Premise vri_name1  Total Incidents  \n",
       "datetime                                                           \n",
       "1978-01-01 10:30:00  ROW/TOWNHOUSE-OCC       NaN                1  \n",
       "1977-05-01 00:01:00  ROW/TOWNHOUSE-OCC       NaN                1  \n",
       "1975-06-01 00:00:00     OTHER - INSIDE       NaN                1  \n",
       "1969-07-20 21:00:00                NaN       NaN                1  \n",
       "1963-10-30 00:00:00  ROW/TOWNHOUSE-OCC       NaN                1  "
      ]
     },
     "execution_count": 8,
     "metadata": {},
     "output_type": "execute_result"
    }
   ],
   "source": [
    "df.tail()"
   ]
  },
  {
   "cell_type": "code",
   "execution_count": 9,
   "metadata": {
    "ExecuteTime": {
     "end_time": "2020-05-05T01:16:58.837053Z",
     "start_time": "2020-05-05T01:16:58.773872Z"
    }
   },
   "outputs": [
    {
     "data": {
      "text/html": [
       "<div>\n",
       "<style scoped>\n",
       "    .dataframe tbody tr th:only-of-type {\n",
       "        vertical-align: middle;\n",
       "    }\n",
       "\n",
       "    .dataframe tbody tr th {\n",
       "        vertical-align: top;\n",
       "    }\n",
       "\n",
       "    .dataframe thead th {\n",
       "        text-align: right;\n",
       "    }\n",
       "</style>\n",
       "<table border=\"1\" class=\"dataframe\">\n",
       "  <thead>\n",
       "    <tr style=\"text-align: right;\">\n",
       "      <th></th>\n",
       "      <th>CrimeDate</th>\n",
       "      <th>CrimeTime</th>\n",
       "      <th>CrimeCode</th>\n",
       "      <th>Location</th>\n",
       "      <th>Description</th>\n",
       "      <th>Inside/Outside</th>\n",
       "      <th>Weapon</th>\n",
       "      <th>Post</th>\n",
       "      <th>District</th>\n",
       "      <th>Neighborhood</th>\n",
       "      <th>Longitude</th>\n",
       "      <th>Latitude</th>\n",
       "      <th>Location 1</th>\n",
       "      <th>Premise</th>\n",
       "      <th>vri_name1</th>\n",
       "      <th>Total Incidents</th>\n",
       "    </tr>\n",
       "    <tr>\n",
       "      <th>datetime</th>\n",
       "      <th></th>\n",
       "      <th></th>\n",
       "      <th></th>\n",
       "      <th></th>\n",
       "      <th></th>\n",
       "      <th></th>\n",
       "      <th></th>\n",
       "      <th></th>\n",
       "      <th></th>\n",
       "      <th></th>\n",
       "      <th></th>\n",
       "      <th></th>\n",
       "      <th></th>\n",
       "      <th></th>\n",
       "      <th></th>\n",
       "      <th></th>\n",
       "    </tr>\n",
       "  </thead>\n",
       "  <tbody>\n",
       "    <tr>\n",
       "      <th>2020-04-25 23:55:00</th>\n",
       "      <td>04/25/2020</td>\n",
       "      <td>23:55:00</td>\n",
       "      <td>4C</td>\n",
       "      <td>5900 MORAVIA RD</td>\n",
       "      <td>AGG. ASSAULT</td>\n",
       "      <td>NaN</td>\n",
       "      <td>OTHER</td>\n",
       "      <td>443.0</td>\n",
       "      <td>NORTHEAST</td>\n",
       "      <td>FRANKFORD</td>\n",
       "      <td>-76.545</td>\n",
       "      <td>39.317</td>\n",
       "      <td>NaN</td>\n",
       "      <td>NaN</td>\n",
       "      <td>NaN</td>\n",
       "      <td>1</td>\n",
       "    </tr>\n",
       "    <tr>\n",
       "      <th>2020-04-25 23:55:00</th>\n",
       "      <td>04/25/2020</td>\n",
       "      <td>23:55:00</td>\n",
       "      <td>4C</td>\n",
       "      <td>5900 MORAVIA RD</td>\n",
       "      <td>AGG. ASSAULT</td>\n",
       "      <td>O</td>\n",
       "      <td>OTHER</td>\n",
       "      <td>443.0</td>\n",
       "      <td>NORTHEAST</td>\n",
       "      <td>FRANKFORD</td>\n",
       "      <td>-76.545</td>\n",
       "      <td>39.317</td>\n",
       "      <td>NaN</td>\n",
       "      <td>STREET</td>\n",
       "      <td>NaN</td>\n",
       "      <td>1</td>\n",
       "    </tr>\n",
       "    <tr>\n",
       "      <th>2020-04-25 23:55:00</th>\n",
       "      <td>04/25/2020</td>\n",
       "      <td>23:55:00</td>\n",
       "      <td>6J</td>\n",
       "      <td>5900 MORAVIA RD</td>\n",
       "      <td>LARCENY</td>\n",
       "      <td>NaN</td>\n",
       "      <td>NaN</td>\n",
       "      <td>443.0</td>\n",
       "      <td>NORTHEAST</td>\n",
       "      <td>FRANKFORD</td>\n",
       "      <td>-76.545</td>\n",
       "      <td>39.317</td>\n",
       "      <td>NaN</td>\n",
       "      <td>NaN</td>\n",
       "      <td>NaN</td>\n",
       "      <td>1</td>\n",
       "    </tr>\n",
       "    <tr>\n",
       "      <th>2020-04-25 23:45:00</th>\n",
       "      <td>04/25/2020</td>\n",
       "      <td>23:45:00</td>\n",
       "      <td>4E</td>\n",
       "      <td>3400 GARRISON BLVD</td>\n",
       "      <td>COMMON ASSAULT</td>\n",
       "      <td>I</td>\n",
       "      <td>NaN</td>\n",
       "      <td>621.0</td>\n",
       "      <td>NORTHWEST</td>\n",
       "      <td>DORCHESTER/GRAN-BARR</td>\n",
       "      <td>-76.683</td>\n",
       "      <td>39.328</td>\n",
       "      <td>NaN</td>\n",
       "      <td>APT/CONDO - OCCUPIED</td>\n",
       "      <td>NaN</td>\n",
       "      <td>1</td>\n",
       "    </tr>\n",
       "    <tr>\n",
       "      <th>2020-04-25 23:00:00</th>\n",
       "      <td>04/25/2020</td>\n",
       "      <td>23:00:00</td>\n",
       "      <td>6D</td>\n",
       "      <td>1600 ASHLAND AVE</td>\n",
       "      <td>LARCENY FROM AUTO</td>\n",
       "      <td>O</td>\n",
       "      <td>NaN</td>\n",
       "      <td>323.0</td>\n",
       "      <td>EASTERN</td>\n",
       "      <td>GAY STREET</td>\n",
       "      <td>-76.596</td>\n",
       "      <td>39.300</td>\n",
       "      <td>NaN</td>\n",
       "      <td>STREET</td>\n",
       "      <td>NaN</td>\n",
       "      <td>1</td>\n",
       "    </tr>\n",
       "    <tr>\n",
       "      <th>...</th>\n",
       "      <td>...</td>\n",
       "      <td>...</td>\n",
       "      <td>...</td>\n",
       "      <td>...</td>\n",
       "      <td>...</td>\n",
       "      <td>...</td>\n",
       "      <td>...</td>\n",
       "      <td>...</td>\n",
       "      <td>...</td>\n",
       "      <td>...</td>\n",
       "      <td>...</td>\n",
       "      <td>...</td>\n",
       "      <td>...</td>\n",
       "      <td>...</td>\n",
       "      <td>...</td>\n",
       "      <td>...</td>\n",
       "    </tr>\n",
       "    <tr>\n",
       "      <th>NaT</th>\n",
       "      <td>04/23/2015</td>\n",
       "      <td>NaN</td>\n",
       "      <td>9S</td>\n",
       "      <td>900 HARLEM AV</td>\n",
       "      <td>SHOOTING</td>\n",
       "      <td>Inside</td>\n",
       "      <td>FIREARM</td>\n",
       "      <td>NaN</td>\n",
       "      <td>WESTERN</td>\n",
       "      <td>NaN</td>\n",
       "      <td>-76.633</td>\n",
       "      <td>39.297</td>\n",
       "      <td>NaN</td>\n",
       "      <td>COMMON BUSINESS</td>\n",
       "      <td>Central</td>\n",
       "      <td>1</td>\n",
       "    </tr>\n",
       "    <tr>\n",
       "      <th>NaT</th>\n",
       "      <td>10/07/2014</td>\n",
       "      <td>NaN</td>\n",
       "      <td>1A</td>\n",
       "      <td>3000 N HILTON ST</td>\n",
       "      <td>HOMICIDE</td>\n",
       "      <td>Outside</td>\n",
       "      <td>FIREARM</td>\n",
       "      <td>621.0</td>\n",
       "      <td>NORTHWEST</td>\n",
       "      <td>NaN</td>\n",
       "      <td>-76.673</td>\n",
       "      <td>39.320</td>\n",
       "      <td>NaN</td>\n",
       "      <td>STREET</td>\n",
       "      <td>NaN</td>\n",
       "      <td>1</td>\n",
       "    </tr>\n",
       "    <tr>\n",
       "      <th>NaT</th>\n",
       "      <td>06/27/2014</td>\n",
       "      <td>NaN</td>\n",
       "      <td>1A</td>\n",
       "      <td>2500 LOYOLA NORTHWAY</td>\n",
       "      <td>HOMICIDE</td>\n",
       "      <td>Inside</td>\n",
       "      <td>FIREARM</td>\n",
       "      <td>531.0</td>\n",
       "      <td>NORTHERN</td>\n",
       "      <td>NaN</td>\n",
       "      <td>-76.661</td>\n",
       "      <td>39.340</td>\n",
       "      <td>NaN</td>\n",
       "      <td>DWELLING</td>\n",
       "      <td>NaN</td>\n",
       "      <td>1</td>\n",
       "    </tr>\n",
       "    <tr>\n",
       "      <th>NaT</th>\n",
       "      <td>06/02/2014</td>\n",
       "      <td>NaN</td>\n",
       "      <td>1A</td>\n",
       "      <td>3700 COTTAGE AV</td>\n",
       "      <td>HOMICIDE</td>\n",
       "      <td>Outside</td>\n",
       "      <td>FIREARM</td>\n",
       "      <td>611.0</td>\n",
       "      <td>NORTHWEST</td>\n",
       "      <td>NaN</td>\n",
       "      <td>-76.659</td>\n",
       "      <td>39.332</td>\n",
       "      <td>NaN</td>\n",
       "      <td>STREET</td>\n",
       "      <td>NaN</td>\n",
       "      <td>1</td>\n",
       "    </tr>\n",
       "    <tr>\n",
       "      <th>NaT</th>\n",
       "      <td>02/05/2014</td>\n",
       "      <td>NaN</td>\n",
       "      <td>1A</td>\n",
       "      <td>600 S PONCA ST</td>\n",
       "      <td>HOMICIDE</td>\n",
       "      <td>Inside</td>\n",
       "      <td>FIREARM</td>\n",
       "      <td>233.0</td>\n",
       "      <td>SOUTHEAST</td>\n",
       "      <td>NaN</td>\n",
       "      <td>-76.555</td>\n",
       "      <td>39.286</td>\n",
       "      <td>NaN</td>\n",
       "      <td>DWELLING</td>\n",
       "      <td>NaN</td>\n",
       "      <td>1</td>\n",
       "    </tr>\n",
       "  </tbody>\n",
       "</table>\n",
       "<p>300336 rows × 16 columns</p>\n",
       "</div>"
      ],
      "text/plain": [
       "                      CrimeDate CrimeTime CrimeCode              Location  \\\n",
       "datetime                                                                    \n",
       "2020-04-25 23:55:00  04/25/2020  23:55:00        4C       5900 MORAVIA RD   \n",
       "2020-04-25 23:55:00  04/25/2020  23:55:00        4C       5900 MORAVIA RD   \n",
       "2020-04-25 23:55:00  04/25/2020  23:55:00        6J       5900 MORAVIA RD   \n",
       "2020-04-25 23:45:00  04/25/2020  23:45:00        4E    3400 GARRISON BLVD   \n",
       "2020-04-25 23:00:00  04/25/2020  23:00:00        6D      1600 ASHLAND AVE   \n",
       "...                         ...       ...       ...                   ...   \n",
       "NaT                  04/23/2015       NaN        9S         900 HARLEM AV   \n",
       "NaT                  10/07/2014       NaN        1A      3000 N HILTON ST   \n",
       "NaT                  06/27/2014       NaN        1A  2500 LOYOLA NORTHWAY   \n",
       "NaT                  06/02/2014       NaN        1A       3700 COTTAGE AV   \n",
       "NaT                  02/05/2014       NaN        1A        600 S PONCA ST   \n",
       "\n",
       "                           Description Inside/Outside   Weapon   Post  \\\n",
       "datetime                                                                \n",
       "2020-04-25 23:55:00       AGG. ASSAULT            NaN    OTHER  443.0   \n",
       "2020-04-25 23:55:00       AGG. ASSAULT              O    OTHER  443.0   \n",
       "2020-04-25 23:55:00            LARCENY            NaN      NaN  443.0   \n",
       "2020-04-25 23:45:00     COMMON ASSAULT              I      NaN  621.0   \n",
       "2020-04-25 23:00:00  LARCENY FROM AUTO              O      NaN  323.0   \n",
       "...                                ...            ...      ...    ...   \n",
       "NaT                           SHOOTING         Inside  FIREARM    NaN   \n",
       "NaT                           HOMICIDE        Outside  FIREARM  621.0   \n",
       "NaT                           HOMICIDE         Inside  FIREARM  531.0   \n",
       "NaT                           HOMICIDE        Outside  FIREARM  611.0   \n",
       "NaT                           HOMICIDE         Inside  FIREARM  233.0   \n",
       "\n",
       "                      District          Neighborhood  Longitude  Latitude  \\\n",
       "datetime                                                                    \n",
       "2020-04-25 23:55:00  NORTHEAST             FRANKFORD    -76.545    39.317   \n",
       "2020-04-25 23:55:00  NORTHEAST             FRANKFORD    -76.545    39.317   \n",
       "2020-04-25 23:55:00  NORTHEAST             FRANKFORD    -76.545    39.317   \n",
       "2020-04-25 23:45:00  NORTHWEST  DORCHESTER/GRAN-BARR    -76.683    39.328   \n",
       "2020-04-25 23:00:00    EASTERN            GAY STREET    -76.596    39.300   \n",
       "...                        ...                   ...        ...       ...   \n",
       "NaT                    WESTERN                   NaN    -76.633    39.297   \n",
       "NaT                  NORTHWEST                   NaN    -76.673    39.320   \n",
       "NaT                   NORTHERN                   NaN    -76.661    39.340   \n",
       "NaT                  NORTHWEST                   NaN    -76.659    39.332   \n",
       "NaT                  SOUTHEAST                   NaN    -76.555    39.286   \n",
       "\n",
       "                     Location 1               Premise vri_name1  \\\n",
       "datetime                                                          \n",
       "2020-04-25 23:55:00         NaN                   NaN       NaN   \n",
       "2020-04-25 23:55:00         NaN                STREET       NaN   \n",
       "2020-04-25 23:55:00         NaN                   NaN       NaN   \n",
       "2020-04-25 23:45:00         NaN  APT/CONDO - OCCUPIED       NaN   \n",
       "2020-04-25 23:00:00         NaN                STREET       NaN   \n",
       "...                         ...                   ...       ...   \n",
       "NaT                         NaN       COMMON BUSINESS   Central   \n",
       "NaT                         NaN                STREET       NaN   \n",
       "NaT                         NaN              DWELLING       NaN   \n",
       "NaT                         NaN                STREET       NaN   \n",
       "NaT                         NaN              DWELLING       NaN   \n",
       "\n",
       "                     Total Incidents  \n",
       "datetime                              \n",
       "2020-04-25 23:55:00                1  \n",
       "2020-04-25 23:55:00                1  \n",
       "2020-04-25 23:55:00                1  \n",
       "2020-04-25 23:45:00                1  \n",
       "2020-04-25 23:00:00                1  \n",
       "...                              ...  \n",
       "NaT                                1  \n",
       "NaT                                1  \n",
       "NaT                                1  \n",
       "NaT                                1  \n",
       "NaT                                1  \n",
       "\n",
       "[300336 rows x 16 columns]"
      ]
     },
     "execution_count": 9,
     "metadata": {},
     "output_type": "execute_result"
    }
   ],
   "source": [
    "df.sort_index(ascending=False)"
   ]
  },
  {
   "cell_type": "code",
   "execution_count": 10,
   "metadata": {
    "ExecuteTime": {
     "end_time": "2020-05-05T01:16:58.882177Z",
     "start_time": "2020-05-05T01:16:58.838268Z"
    }
   },
   "outputs": [],
   "source": [
    "df = df.loc['2014':'2020']"
   ]
  },
  {
   "cell_type": "code",
   "execution_count": 11,
   "metadata": {
    "ExecuteTime": {
     "end_time": "2020-05-05T01:16:58.941012Z",
     "start_time": "2020-05-05T01:16:58.883511Z"
    }
   },
   "outputs": [
    {
     "data": {
      "text/html": [
       "<style  type=\"text/css\" >\n",
       "    #T_1e046878_8e6e_11ea_8cec_4865ee12e626row0_col1 {\n",
       "            width:  10em;\n",
       "             height:  80%;\n",
       "            background:  linear-gradient(90deg,#d65f5f 100.0%, transparent 100.0%);\n",
       "        }    #T_1e046878_8e6e_11ea_8cec_4865ee12e626row1_col1 {\n",
       "            width:  10em;\n",
       "             height:  80%;\n",
       "            background:  linear-gradient(90deg,#d65f5f 73.3%, transparent 73.3%);\n",
       "        }    #T_1e046878_8e6e_11ea_8cec_4865ee12e626row2_col1 {\n",
       "            width:  10em;\n",
       "             height:  80%;\n",
       "            background:  linear-gradient(90deg,#d65f5f 63.5%, transparent 63.5%);\n",
       "        }    #T_1e046878_8e6e_11ea_8cec_4865ee12e626row3_col1 {\n",
       "            width:  10em;\n",
       "             height:  80%;\n",
       "            background:  linear-gradient(90deg,#d65f5f 58.4%, transparent 58.4%);\n",
       "        }    #T_1e046878_8e6e_11ea_8cec_4865ee12e626row4_col1 {\n",
       "            width:  10em;\n",
       "             height:  80%;\n",
       "            background:  linear-gradient(90deg,#d65f5f 47.7%, transparent 47.7%);\n",
       "        }    #T_1e046878_8e6e_11ea_8cec_4865ee12e626row5_col1 {\n",
       "            width:  10em;\n",
       "             height:  80%;\n",
       "            background:  linear-gradient(90deg,#d65f5f 38.2%, transparent 38.2%);\n",
       "        }    #T_1e046878_8e6e_11ea_8cec_4865ee12e626row6_col1 {\n",
       "            width:  10em;\n",
       "             height:  80%;\n",
       "            background:  linear-gradient(90deg,#d65f5f 30.4%, transparent 30.4%);\n",
       "        }    #T_1e046878_8e6e_11ea_8cec_4865ee12e626row7_col1 {\n",
       "            width:  10em;\n",
       "             height:  80%;\n",
       "            background:  linear-gradient(90deg,#d65f5f 6.1%, transparent 6.1%);\n",
       "        }    #T_1e046878_8e6e_11ea_8cec_4865ee12e626row8_col1 {\n",
       "            width:  10em;\n",
       "             height:  80%;\n",
       "            background:  linear-gradient(90deg,#d65f5f 4.1%, transparent 4.1%);\n",
       "        }    #T_1e046878_8e6e_11ea_8cec_4865ee12e626row9_col1 {\n",
       "            width:  10em;\n",
       "             height:  80%;\n",
       "            background:  linear-gradient(90deg,#d65f5f 2.8%, transparent 2.8%);\n",
       "        }    #T_1e046878_8e6e_11ea_8cec_4865ee12e626row10_col1 {\n",
       "            width:  10em;\n",
       "             height:  80%;\n",
       "            background:  linear-gradient(90deg,#d65f5f 2.0%, transparent 2.0%);\n",
       "        }    #T_1e046878_8e6e_11ea_8cec_4865ee12e626row11_col1 {\n",
       "            width:  10em;\n",
       "             height:  80%;\n",
       "            background:  linear-gradient(90deg,#d65f5f 1.0%, transparent 1.0%);\n",
       "        }    #T_1e046878_8e6e_11ea_8cec_4865ee12e626row12_col1 {\n",
       "            width:  10em;\n",
       "             height:  80%;\n",
       "            background:  linear-gradient(90deg,#d65f5f 0.9%, transparent 0.9%);\n",
       "        }    #T_1e046878_8e6e_11ea_8cec_4865ee12e626row13_col1 {\n",
       "            width:  10em;\n",
       "             height:  80%;\n",
       "        }</style><table id=\"T_1e046878_8e6e_11ea_8cec_4865ee12e626\" ><thead>    <tr>        <th class=\"blank level0\" ></th>        <th class=\"col_heading level0 col0\" >Count</th>        <th class=\"col_heading level0 col1\" >% of Total</th>    </tr></thead><tbody>\n",
       "                <tr>\n",
       "                        <th id=\"T_1e046878_8e6e_11ea_8cec_4865ee12e626level0_row0\" class=\"row_heading level0 row0\" >LARCENY</th>\n",
       "                        <td id=\"T_1e046878_8e6e_11ea_8cec_4865ee12e626row0_col0\" class=\"data row0 col0\" >67150</td>\n",
       "                        <td id=\"T_1e046878_8e6e_11ea_8cec_4865ee12e626row0_col1\" class=\"data row0 col1\" >0.224</td>\n",
       "            </tr>\n",
       "            <tr>\n",
       "                        <th id=\"T_1e046878_8e6e_11ea_8cec_4865ee12e626level0_row1\" class=\"row_heading level0 row1\" >COMMON ASSAULT</th>\n",
       "                        <td id=\"T_1e046878_8e6e_11ea_8cec_4865ee12e626row1_col0\" class=\"data row1 col0\" >49600</td>\n",
       "                        <td id=\"T_1e046878_8e6e_11ea_8cec_4865ee12e626row1_col1\" class=\"data row1 col1\" >0.165</td>\n",
       "            </tr>\n",
       "            <tr>\n",
       "                        <th id=\"T_1e046878_8e6e_11ea_8cec_4865ee12e626level0_row2\" class=\"row_heading level0 row2\" >BURGLARY</th>\n",
       "                        <td id=\"T_1e046878_8e6e_11ea_8cec_4865ee12e626row2_col0\" class=\"data row2 col0\" >43110</td>\n",
       "                        <td id=\"T_1e046878_8e6e_11ea_8cec_4865ee12e626row2_col1\" class=\"data row2 col1\" >0.144</td>\n",
       "            </tr>\n",
       "            <tr>\n",
       "                        <th id=\"T_1e046878_8e6e_11ea_8cec_4865ee12e626level0_row3\" class=\"row_heading level0 row3\" >LARCENY FROM AUTO</th>\n",
       "                        <td id=\"T_1e046878_8e6e_11ea_8cec_4865ee12e626row3_col0\" class=\"data row3 col0\" >39757</td>\n",
       "                        <td id=\"T_1e046878_8e6e_11ea_8cec_4865ee12e626row3_col1\" class=\"data row3 col1\" >0.132</td>\n",
       "            </tr>\n",
       "            <tr>\n",
       "                        <th id=\"T_1e046878_8e6e_11ea_8cec_4865ee12e626level0_row4\" class=\"row_heading level0 row4\" >AGG. ASSAULT</th>\n",
       "                        <td id=\"T_1e046878_8e6e_11ea_8cec_4865ee12e626row4_col0\" class=\"data row4 col0\" >32707</td>\n",
       "                        <td id=\"T_1e046878_8e6e_11ea_8cec_4865ee12e626row4_col1\" class=\"data row4 col1\" >0.109</td>\n",
       "            </tr>\n",
       "            <tr>\n",
       "                        <th id=\"T_1e046878_8e6e_11ea_8cec_4865ee12e626level0_row5\" class=\"row_heading level0 row5\" >AUTO THEFT</th>\n",
       "                        <td id=\"T_1e046878_8e6e_11ea_8cec_4865ee12e626row5_col0\" class=\"data row5 col0\" >26456</td>\n",
       "                        <td id=\"T_1e046878_8e6e_11ea_8cec_4865ee12e626row5_col1\" class=\"data row5 col1\" >0.088</td>\n",
       "            </tr>\n",
       "            <tr>\n",
       "                        <th id=\"T_1e046878_8e6e_11ea_8cec_4865ee12e626level0_row6\" class=\"row_heading level0 row6\" >ROBBERY - STREET</th>\n",
       "                        <td id=\"T_1e046878_8e6e_11ea_8cec_4865ee12e626row6_col0\" class=\"data row6 col0\" >21294</td>\n",
       "                        <td id=\"T_1e046878_8e6e_11ea_8cec_4865ee12e626row6_col1\" class=\"data row6 col1\" >0.071</td>\n",
       "            </tr>\n",
       "            <tr>\n",
       "                        <th id=\"T_1e046878_8e6e_11ea_8cec_4865ee12e626level0_row7\" class=\"row_heading level0 row7\" >ROBBERY - COMMERCIAL</th>\n",
       "                        <td id=\"T_1e046878_8e6e_11ea_8cec_4865ee12e626row7_col0\" class=\"data row7 col0\" >5312</td>\n",
       "                        <td id=\"T_1e046878_8e6e_11ea_8cec_4865ee12e626row7_col1\" class=\"data row7 col1\" >0.018</td>\n",
       "            </tr>\n",
       "            <tr>\n",
       "                        <th id=\"T_1e046878_8e6e_11ea_8cec_4865ee12e626level0_row8\" class=\"row_heading level0 row8\" >SHOOTING</th>\n",
       "                        <td id=\"T_1e046878_8e6e_11ea_8cec_4865ee12e626row8_col0\" class=\"data row8 col0\" >3978</td>\n",
       "                        <td id=\"T_1e046878_8e6e_11ea_8cec_4865ee12e626row8_col1\" class=\"data row8 col1\" >0.013</td>\n",
       "            </tr>\n",
       "            <tr>\n",
       "                        <th id=\"T_1e046878_8e6e_11ea_8cec_4865ee12e626level0_row9\" class=\"row_heading level0 row9\" >ROBBERY - RESIDENCE</th>\n",
       "                        <td id=\"T_1e046878_8e6e_11ea_8cec_4865ee12e626row9_col0\" class=\"data row9 col0\" >3120</td>\n",
       "                        <td id=\"T_1e046878_8e6e_11ea_8cec_4865ee12e626row9_col1\" class=\"data row9 col1\" >0.010</td>\n",
       "            </tr>\n",
       "            <tr>\n",
       "                        <th id=\"T_1e046878_8e6e_11ea_8cec_4865ee12e626level0_row10\" class=\"row_heading level0 row10\" >ROBBERY - CARJACKING</th>\n",
       "                        <td id=\"T_1e046878_8e6e_11ea_8cec_4865ee12e626row10_col0\" class=\"data row10 col0\" >2633</td>\n",
       "                        <td id=\"T_1e046878_8e6e_11ea_8cec_4865ee12e626row10_col1\" class=\"data row10 col1\" >0.009</td>\n",
       "            </tr>\n",
       "            <tr>\n",
       "                        <th id=\"T_1e046878_8e6e_11ea_8cec_4865ee12e626level0_row11\" class=\"row_heading level0 row11\" >HOMICIDE</th>\n",
       "                        <td id=\"T_1e046878_8e6e_11ea_8cec_4865ee12e626row11_col0\" class=\"data row11 col0\" >1942</td>\n",
       "                        <td id=\"T_1e046878_8e6e_11ea_8cec_4865ee12e626row11_col1\" class=\"data row11 col1\" >0.006</td>\n",
       "            </tr>\n",
       "            <tr>\n",
       "                        <th id=\"T_1e046878_8e6e_11ea_8cec_4865ee12e626level0_row12\" class=\"row_heading level0 row12\" >RAPE</th>\n",
       "                        <td id=\"T_1e046878_8e6e_11ea_8cec_4865ee12e626row12_col0\" class=\"data row12 col0\" >1870</td>\n",
       "                        <td id=\"T_1e046878_8e6e_11ea_8cec_4865ee12e626row12_col1\" class=\"data row12 col1\" >0.006</td>\n",
       "            </tr>\n",
       "            <tr>\n",
       "                        <th id=\"T_1e046878_8e6e_11ea_8cec_4865ee12e626level0_row13\" class=\"row_heading level0 row13\" >ARSON</th>\n",
       "                        <td id=\"T_1e046878_8e6e_11ea_8cec_4865ee12e626row13_col0\" class=\"data row13 col0\" >1300</td>\n",
       "                        <td id=\"T_1e046878_8e6e_11ea_8cec_4865ee12e626row13_col1\" class=\"data row13 col1\" >0.004</td>\n",
       "            </tr>\n",
       "    </tbody></table>"
      ],
      "text/plain": [
       "<pandas.io.formats.style.Styler at 0x1c21e91a90>"
      ]
     },
     "execution_count": 11,
     "metadata": {},
     "output_type": "execute_result"
    }
   ],
   "source": [
    "crime_counts = pd.DataFrame({'Count':df['Description'].value_counts(),\n",
    "                             '% of Total':df['Description'].value_counts(normalize=True)})\n",
    "crime_counts.style.bar('% of Total')"
   ]
  },
  {
   "cell_type": "code",
   "execution_count": 12,
   "metadata": {
    "ExecuteTime": {
     "end_time": "2020-05-05T01:16:58.944842Z",
     "start_time": "2020-05-05T01:16:58.942076Z"
    }
   },
   "outputs": [],
   "source": [
    "## Identify columns to drop/keep\n",
    "drop_cols = ['CrimeDate','CrimeTime','CrimeCode','Location', \n",
    "             'Premise','Post','Neighborhood','Location 1',\n",
    "             'vri_name1','Total Incidents','Weapon','Inside/Outside']\n",
    "\n",
    "id_cols = ['Description','Weapon','Longitude','Latitude']"
   ]
  },
  {
   "cell_type": "code",
   "execution_count": 13,
   "metadata": {
    "ExecuteTime": {
     "end_time": "2020-05-05T01:16:58.971849Z",
     "start_time": "2020-05-05T01:16:58.945997Z"
    }
   },
   "outputs": [
    {
     "data": {
      "text/html": [
       "<div>\n",
       "<style scoped>\n",
       "    .dataframe tbody tr th:only-of-type {\n",
       "        vertical-align: middle;\n",
       "    }\n",
       "\n",
       "    .dataframe tbody tr th {\n",
       "        vertical-align: top;\n",
       "    }\n",
       "\n",
       "    .dataframe thead th {\n",
       "        text-align: right;\n",
       "    }\n",
       "</style>\n",
       "<table border=\"1\" class=\"dataframe\">\n",
       "  <thead>\n",
       "    <tr style=\"text-align: right;\">\n",
       "      <th></th>\n",
       "      <th>Description</th>\n",
       "      <th>District</th>\n",
       "      <th>Longitude</th>\n",
       "      <th>Latitude</th>\n",
       "    </tr>\n",
       "    <tr>\n",
       "      <th>datetime</th>\n",
       "      <th></th>\n",
       "      <th></th>\n",
       "      <th></th>\n",
       "      <th></th>\n",
       "    </tr>\n",
       "  </thead>\n",
       "  <tbody>\n",
       "    <tr>\n",
       "      <th>2020-04-25 17:30:00</th>\n",
       "      <td>BURGLARY</td>\n",
       "      <td>NORTHERN</td>\n",
       "      <td>-76.657</td>\n",
       "      <td>39.336</td>\n",
       "    </tr>\n",
       "    <tr>\n",
       "      <th>2020-04-25 02:40:00</th>\n",
       "      <td>BURGLARY</td>\n",
       "      <td>NORTHWEST</td>\n",
       "      <td>-76.683</td>\n",
       "      <td>39.320</td>\n",
       "    </tr>\n",
       "    <tr>\n",
       "      <th>2020-04-25 09:30:00</th>\n",
       "      <td>BURGLARY</td>\n",
       "      <td>SOUTHEAST</td>\n",
       "      <td>-76.561</td>\n",
       "      <td>39.293</td>\n",
       "    </tr>\n",
       "    <tr>\n",
       "      <th>2020-04-25 02:30:00</th>\n",
       "      <td>COMMON ASSAULT</td>\n",
       "      <td>WESTERN</td>\n",
       "      <td>-76.632</td>\n",
       "      <td>39.292</td>\n",
       "    </tr>\n",
       "    <tr>\n",
       "      <th>2020-04-25 15:30:00</th>\n",
       "      <td>LARCENY</td>\n",
       "      <td>SOUTHEAST</td>\n",
       "      <td>-76.565</td>\n",
       "      <td>39.277</td>\n",
       "    </tr>\n",
       "    <tr>\n",
       "      <th>...</th>\n",
       "      <td>...</td>\n",
       "      <td>...</td>\n",
       "      <td>...</td>\n",
       "      <td>...</td>\n",
       "    </tr>\n",
       "    <tr>\n",
       "      <th>2014-01-01 15:00:00</th>\n",
       "      <td>LARCENY</td>\n",
       "      <td>NORTHERN</td>\n",
       "      <td>-76.595</td>\n",
       "      <td>39.357</td>\n",
       "    </tr>\n",
       "    <tr>\n",
       "      <th>2014-01-01 08:35:00</th>\n",
       "      <td>ROBBERY - STREET</td>\n",
       "      <td>SOUTHEAST</td>\n",
       "      <td>-76.558</td>\n",
       "      <td>39.287</td>\n",
       "    </tr>\n",
       "    <tr>\n",
       "      <th>2014-01-01 23:30:00</th>\n",
       "      <td>ROBBERY - STREET</td>\n",
       "      <td>SOUTHEAST</td>\n",
       "      <td>-76.603</td>\n",
       "      <td>39.289</td>\n",
       "    </tr>\n",
       "    <tr>\n",
       "      <th>2014-01-01 21:15:00</th>\n",
       "      <td>AUTO THEFT</td>\n",
       "      <td>NORTHEAST</td>\n",
       "      <td>-76.584</td>\n",
       "      <td>39.350</td>\n",
       "    </tr>\n",
       "    <tr>\n",
       "      <th>2014-01-01 01:03:00</th>\n",
       "      <td>LARCENY</td>\n",
       "      <td>SOUTHEAST</td>\n",
       "      <td>-76.602</td>\n",
       "      <td>39.283</td>\n",
       "    </tr>\n",
       "  </tbody>\n",
       "</table>\n",
       "<p>300229 rows × 4 columns</p>\n",
       "</div>"
      ],
      "text/plain": [
       "                          Description   District  Longitude  Latitude\n",
       "datetime                                                             \n",
       "2020-04-25 17:30:00          BURGLARY   NORTHERN    -76.657    39.336\n",
       "2020-04-25 02:40:00          BURGLARY  NORTHWEST    -76.683    39.320\n",
       "2020-04-25 09:30:00          BURGLARY  SOUTHEAST    -76.561    39.293\n",
       "2020-04-25 02:30:00    COMMON ASSAULT    WESTERN    -76.632    39.292\n",
       "2020-04-25 15:30:00           LARCENY  SOUTHEAST    -76.565    39.277\n",
       "...                               ...        ...        ...       ...\n",
       "2014-01-01 15:00:00           LARCENY   NORTHERN    -76.595    39.357\n",
       "2014-01-01 08:35:00  ROBBERY - STREET  SOUTHEAST    -76.558    39.287\n",
       "2014-01-01 23:30:00  ROBBERY - STREET  SOUTHEAST    -76.603    39.289\n",
       "2014-01-01 21:15:00        AUTO THEFT  NORTHEAST    -76.584    39.350\n",
       "2014-01-01 01:03:00           LARCENY  SOUTHEAST    -76.602    39.283\n",
       "\n",
       "[300229 rows x 4 columns]"
      ]
     },
     "execution_count": 13,
     "metadata": {},
     "output_type": "execute_result"
    }
   ],
   "source": [
    "## \n",
    "df.drop(columns=drop_cols,inplace=True)\n",
    "df"
   ]
  },
  {
   "cell_type": "code",
   "execution_count": 14,
   "metadata": {
    "ExecuteTime": {
     "end_time": "2020-05-05T01:16:58.989544Z",
     "start_time": "2020-05-05T01:16:58.973387Z"
    }
   },
   "outputs": [
    {
     "data": {
      "text/plain": [
       "array(['BURGLARY', 'COMMON ASSAULT', 'LARCENY', 'ROBBERY - STREET',\n",
       "       'AUTO THEFT', 'AGG. ASSAULT', 'LARCENY FROM AUTO', 'SHOOTING',\n",
       "       'ROBBERY - RESIDENCE', 'ROBBERY - COMMERCIAL', 'ARSON', 'HOMICIDE',\n",
       "       'ROBBERY - CARJACKING', 'RAPE'], dtype=object)"
      ]
     },
     "execution_count": 14,
     "metadata": {},
     "output_type": "execute_result"
    }
   ],
   "source": [
    "crime_types= df['Description'].unique()\n",
    "crime_types"
   ]
  },
  {
   "cell_type": "code",
   "execution_count": 15,
   "metadata": {
    "ExecuteTime": {
     "end_time": "2020-05-05T01:16:59.277274Z",
     "start_time": "2020-05-05T01:16:58.990686Z"
    }
   },
   "outputs": [],
   "source": [
    "## make a dict of all crime types \n",
    "CRIMES = {}\n",
    "for crime in crime_types:\n",
    "    ## get crime df\n",
    "    group_df  = df.groupby('Description').get_group(crime).copy()\n",
    "    \n",
    "    ## Make a column with the crime \n",
    "    group_df[crime.lower()] = (group_df['Description'] == crime).astype(int)\n",
    "    group_df.drop(columns=['Description'],inplace=True)\n",
    "\n",
    "    CRIMES[crime.lower()] = group_df"
   ]
  },
  {
   "cell_type": "code",
   "execution_count": 16,
   "metadata": {
    "ExecuteTime": {
     "end_time": "2020-05-05T01:16:59.281344Z",
     "start_time": "2020-05-05T01:16:59.278542Z"
    }
   },
   "outputs": [
    {
     "data": {
      "text/plain": [
       "dict_keys(['burglary', 'common assault', 'larceny', 'robbery - street', 'auto theft', 'agg. assault', 'larceny from auto', 'shooting', 'robbery - residence', 'robbery - commercial', 'arson', 'homicide', 'robbery - carjacking', 'rape'])"
      ]
     },
     "execution_count": 16,
     "metadata": {},
     "output_type": "execute_result"
    }
   ],
   "source": [
    "CRIMES.keys()"
   ]
  },
  {
   "cell_type": "code",
   "execution_count": 17,
   "metadata": {
    "ExecuteTime": {
     "end_time": "2020-05-05T01:16:59.286342Z",
     "start_time": "2020-05-05T01:16:59.282381Z"
    }
   },
   "outputs": [
    {
     "data": {
      "text/plain": [
       "DatetimeIndex(['2020-04-25 16:09:00', '2020-04-24 15:59:00',\n",
       "               '2020-04-22 22:30:00', '2020-04-22 17:49:00',\n",
       "               '2020-04-22 17:55:00', '2020-04-22 00:49:00',\n",
       "               '2020-04-22 00:49:00', '2020-04-21 12:15:00',\n",
       "               '2020-04-21 19:54:00', '2020-04-21 01:58:00',\n",
       "               ...\n",
       "               '2014-01-13 18:10:00', '2014-01-12 21:29:00',\n",
       "               '2014-01-12 16:59:00', '2014-01-09 14:58:00',\n",
       "               '2014-01-08 02:37:00', '2014-01-05 16:30:00',\n",
       "               '2014-01-05 19:41:00', '2014-01-03 14:32:00',\n",
       "               '2014-01-01 17:35:00', '2014-01-01 22:31:00'],\n",
       "              dtype='datetime64[ns]', name='datetime', length=3978, freq=None)"
      ]
     },
     "execution_count": 17,
     "metadata": {},
     "output_type": "execute_result"
    }
   ],
   "source": [
    "dfc = CRIMES['shooting']\n",
    "dfc.index"
   ]
  },
  {
   "cell_type": "code",
   "execution_count": 18,
   "metadata": {
    "ExecuteTime": {
     "end_time": "2020-05-05T01:16:59.290630Z",
     "start_time": "2020-05-05T01:16:59.287557Z"
    }
   },
   "outputs": [],
   "source": [
    "TS = {}\n",
    "for crime,group_df in CRIMES.items():\n",
    "    ts = group_df[crime]#.resample('D').sum()\n",
    "    TS[crime]=ts"
   ]
  },
  {
   "cell_type": "code",
   "execution_count": 19,
   "metadata": {
    "ExecuteTime": {
     "end_time": "2020-05-05T01:16:59.446619Z",
     "start_time": "2020-05-05T01:16:59.291994Z"
    }
   },
   "outputs": [
    {
     "data": {
      "text/plain": [
       "<matplotlib.axes._subplots.AxesSubplot at 0x1c2a1a8c50>"
      ]
     },
     "execution_count": 19,
     "metadata": {},
     "output_type": "execute_result"
    },
    {
     "data": {
      "image/png": "[encoded data removed]",
      "text/plain": [
       "<Figure size 432x288 with 1 Axes>"
      ]
     },
     "metadata": {
      "needs_background": "light"
     },
     "output_type": "display_data"
    }
   ],
   "source": [
    "TS['shooting'].plot()"
   ]
  },
  {
   "cell_type": "code",
   "execution_count": 20,
   "metadata": {
    "ExecuteTime": {
     "end_time": "2020-05-05T01:16:59.450506Z",
     "start_time": "2020-05-05T01:16:59.447679Z"
    }
   },
   "outputs": [],
   "source": [
    "mpl.rcParams['figure.figsize'] = (12,4)"
   ]
  },
  {
   "cell_type": "code",
   "execution_count": 21,
   "metadata": {
    "ExecuteTime": {
     "end_time": "2020-05-05T01:16:59.641816Z",
     "start_time": "2020-05-05T01:16:59.451659Z"
    }
   },
   "outputs": [
    {
     "data": {
      "text/plain": [
       "<matplotlib.axes._subplots.AxesSubplot at 0x1c2a2e1a20>"
      ]
     },
     "execution_count": 21,
     "metadata": {},
     "output_type": "execute_result"
    },
    {
     "data": {
      "image/png": "[encoded data removed]",
      "text/plain": [
       "<Figure size 864x288 with 1 Axes>"
      ]
     },
     "metadata": {
      "needs_background": "light"
     },
     "output_type": "display_data"
    }
   ],
   "source": [
    "ts = TS['shooting'].resample('M').sum()#.asfreq('D')\n",
    "ts.plot()"
   ]
  },
  {
   "cell_type": "code",
   "execution_count": 22,
   "metadata": {
    "ExecuteTime": {
     "end_time": "2020-05-05T01:16:59.891748Z",
     "start_time": "2020-05-05T01:16:59.643558Z"
    }
   },
   "outputs": [
    {
     "data": {
      "text/plain": [
       "<matplotlib.axes._subplots.AxesSubplot at 0x1c2a25f550>"
      ]
     },
     "execution_count": 22,
     "metadata": {},
     "output_type": "execute_result"
    },
    {
     "data": {
      "image/png": "[encoded data removed]",
      "text/plain": [
       "<Figure size 864x288 with 1 Axes>"
      ]
     },
     "metadata": {
      "needs_background": "light"
     },
     "output_type": "display_data"
    }
   ],
   "source": [
    "ts = TS['shooting'].resample('D').sum().asfreq('D')\n",
    "ts.plot()"
   ]
  },
  {
   "cell_type": "code",
   "execution_count": 24,
   "metadata": {
    "ExecuteTime": {
     "end_time": "2020-05-05T01:18:51.269726Z",
     "start_time": "2020-05-05T01:18:50.816324Z"
    }
   },
   "outputs": [
    {
     "data": {
      "text/plain": [
       "<matplotlib.legend.Legend at 0x1c2b415ac8>"
      ]
     },
     "execution_count": 24,
     "metadata": {},
     "output_type": "execute_result"
    },
    {
     "data": {
      "image/png": "[encoded data removed]",
      "text/plain": [
       "<Figure size 864x288 with 1 Axes>"
      ]
     },
     "metadata": {
      "needs_background": "light"
     },
     "output_type": "display_data"
    }
   ],
   "source": [
    "fig,ax = plt.subplots()\n",
    "for crime in CRIMES:\n",
    "    ts = TS[crime].resample('M').sum()\n",
    "    ts.plot(label=crime)\n",
    "    \n",
    "ax.legend(bbox_to_anchor=(1.05, 1), loc='upper left', borderaxespad=0.)\n"
   ]
  },
  {
   "cell_type": "code",
   "execution_count": 29,
   "metadata": {
    "ExecuteTime": {
     "end_time": "2020-05-05T01:19:37.707182Z",
     "start_time": "2020-05-05T01:19:37.509896Z"
    }
   },
   "outputs": [
    {
     "data": {
      "text/plain": [
       "<matplotlib.axes._subplots.AxesSubplot at 0x1c2b4a8fd0>"
      ]
     },
     "execution_count": 29,
     "metadata": {},
     "output_type": "execute_result"
    },
    {
     "data": {
      "image/png": "[encoded data removed]",
      "text/plain": [
       "<Figure size 864x288 with 1 Axes>"
      ]
     },
     "metadata": {
      "needs_background": "light"
     },
     "output_type": "display_data"
    }
   ],
   "source": [
    "TS['shooting'].resample('W').sum().plot()"
   ]
  },
  {
   "cell_type": "code",
   "execution_count": 26,
   "metadata": {
    "ExecuteTime": {
     "end_time": "2020-05-03T22:40:49.810443Z",
     "start_time": "2020-05-03T22:40:49.517123Z"
    }
   },
   "outputs": [
    {
     "ename": "NameError",
     "evalue": "name 'stop' is not defined",
     "output_type": "error",
     "traceback": [
      "\u001b[0;31m---------------------------------------------------------------------------\u001b[0m",
      "\u001b[0;31mNameError\u001b[0m                                 Traceback (most recent call last)",
      "\u001b[0;32m<ipython-input-26-4f76a9dad686>\u001b[0m in \u001b[0;36m<module>\u001b[0;34m\u001b[0m\n\u001b[0;32m----> 1\u001b[0;31m \u001b[0mstop\u001b[0m\u001b[0;34m\u001b[0m\u001b[0;34m\u001b[0m\u001b[0m\n\u001b[0m",
      "\u001b[0;31mNameError\u001b[0m: name 'stop' is not defined"
     ]
    }
   ],
   "source": [
    "stop"
   ]
  },
  {
   "cell_type": "markdown",
   "metadata": {},
   "source": [
    "# OLD"
   ]
  },
  {
   "cell_type": "markdown",
   "metadata": {},
   "source": [
    "## Baltimore Crime - 2019 Data"
   ]
  },
  {
   "cell_type": "code",
   "execution_count": null,
   "metadata": {
    "ExecuteTime": {
     "end_time": "2020-05-03T22:40:49.813191Z",
     "start_time": "2020-05-03T22:40:40.563Z"
    }
   },
   "outputs": [],
   "source": [
    "baltimore_crime =\"https://raw.githubusercontent.com/jirvingphd/fsds_100719/master/fsds_100719/data/BPD_Part_1_Victim_Based_Crime_Data.csv\"\n",
    "df = pd.read_csv(baltimore_crime,low_memory=False,\n",
    "                 parse_dates=[\"CrimeDate\",\"CrimeTime\"])#,\n",
    "#                 index_col='CrimeDate')\n",
    "display(df.head())\n",
    "mpl.rcParams['figure.figsize']= (12,8)\n",
    "df.index"
   ]
  },
  {
   "cell_type": "code",
   "execution_count": null,
   "metadata": {
    "ExecuteTime": {
     "end_time": "2020-05-03T22:40:49.814440Z",
     "start_time": "2020-05-03T22:40:40.566Z"
    }
   },
   "outputs": [],
   "source": [
    "df['datetime'] =df['CrimeDate'] #'CrimeTime'].copy()\n",
    "df.set_index('datetime',inplace=True)\n",
    "df.sort_index(inplace=True)\n",
    "df"
   ]
  },
  {
   "cell_type": "code",
   "execution_count": null,
   "metadata": {
    "ExecuteTime": {
     "end_time": "2020-05-03T22:40:49.815493Z",
     "start_time": "2020-05-03T22:40:40.568Z"
    }
   },
   "outputs": [],
   "source": [
    "df.sort_index(inplace=True)\n",
    "df = df.loc['2014':].copy()\n",
    "df.index"
   ]
  },
  {
   "cell_type": "markdown",
   "metadata": {},
   "source": [
    "### Which crimes were the most common?"
   ]
  },
  {
   "cell_type": "code",
   "execution_count": null,
   "metadata": {
    "ExecuteTime": {
     "end_time": "2020-05-03T22:40:49.816860Z",
     "start_time": "2020-05-03T22:40:40.573Z"
    }
   },
   "outputs": [],
   "source": [
    "ax=df[\"Description\"].value_counts(ascending=True).plot(kind='barh')\n",
    "ax.set_xlabel('Number of Crimes')"
   ]
  },
  {
   "cell_type": "code",
   "execution_count": null,
   "metadata": {
    "ExecuteTime": {
     "end_time": "2020-05-03T22:40:49.818030Z",
     "start_time": "2020-05-03T22:40:40.575Z"
    }
   },
   "outputs": [],
   "source": [
    "ax=df[\"Description\"].value_counts(ascending=True, normalize=True).plot(kind='barh')\n",
    "# ax.xaxis.set_major_formatter(mpl.ticker.FormatStrFormatter(\"%d.2\\%\"))\n",
    "ax.set_xlabel('Portion of Crimes')"
   ]
  },
  {
   "cell_type": "code",
   "execution_count": null,
   "metadata": {
    "ExecuteTime": {
     "end_time": "2020-05-03T22:40:49.819268Z",
     "start_time": "2020-05-03T22:40:40.578Z"
    }
   },
   "outputs": [],
   "source": [
    "df.head()"
   ]
  },
  {
   "cell_type": "markdown",
   "metadata": {},
   "source": [
    "### Making df_crimes"
   ]
  },
  {
   "cell_type": "code",
   "execution_count": null,
   "metadata": {
    "ExecuteTime": {
     "end_time": "2020-05-03T22:40:49.820432Z",
     "start_time": "2020-05-03T22:40:40.580Z"
    }
   },
   "outputs": [],
   "source": [
    "pd.set_option('display.max_columns',0)"
   ]
  },
  {
   "cell_type": "code",
   "execution_count": null,
   "metadata": {
    "ExecuteTime": {
     "end_time": "2020-05-03T22:40:49.821826Z",
     "start_time": "2020-05-03T22:40:40.583Z"
    }
   },
   "outputs": [],
   "source": [
    "df_crimes = pd.get_dummies(df,columns=['Description'])\n",
    "df_crimes"
   ]
  },
  {
   "cell_type": "markdown",
   "metadata": {},
   "source": [
    "___"
   ]
  },
  {
   "cell_type": "code",
   "execution_count": null,
   "metadata": {
    "ExecuteTime": {
     "end_time": "2020-05-03T22:40:49.822987Z",
     "start_time": "2020-05-03T22:40:40.586Z"
    }
   },
   "outputs": [],
   "source": [
    "crime_cols = [col for col in df_crimes.columns if 'Description_' in col]\n",
    "crime_cols"
   ]
  },
  {
   "cell_type": "code",
   "execution_count": null,
   "metadata": {
    "ExecuteTime": {
     "end_time": "2020-05-03T22:40:49.824225Z",
     "start_time": "2020-05-03T22:40:40.589Z"
    }
   },
   "outputs": [],
   "source": [
    "new_names = [x.replace('Description_','') for x in crime_cols]\n",
    "new_names"
   ]
  },
  {
   "cell_type": "code",
   "execution_count": null,
   "metadata": {
    "ExecuteTime": {
     "end_time": "2020-05-03T22:40:49.825290Z",
     "start_time": "2020-05-03T22:40:40.591Z"
    }
   },
   "outputs": [],
   "source": [
    "df_crimes.columns"
   ]
  },
  {
   "cell_type": "code",
   "execution_count": null,
   "metadata": {
    "ExecuteTime": {
     "end_time": "2020-05-03T22:40:49.826329Z",
     "start_time": "2020-05-03T22:40:40.594Z"
    }
   },
   "outputs": [],
   "source": [
    "rename_dict = dict(zip(crime_cols,new_names))\n",
    "rename_dict"
   ]
  },
  {
   "cell_type": "code",
   "execution_count": null,
   "metadata": {
    "ExecuteTime": {
     "end_time": "2020-05-03T22:40:49.827499Z",
     "start_time": "2020-05-03T22:40:40.596Z"
    }
   },
   "outputs": [],
   "source": [
    "df_crimes.rename(rename_dict,axis=1,inplace=True)\n",
    "df_crimes"
   ]
  },
  {
   "cell_type": "code",
   "execution_count": null,
   "metadata": {
    "ExecuteTime": {
     "end_time": "2020-05-03T22:40:49.828705Z",
     "start_time": "2020-05-03T22:40:40.598Z"
    }
   },
   "outputs": [],
   "source": [
    "df_crimes"
   ]
  },
  {
   "cell_type": "code",
   "execution_count": null,
   "metadata": {
    "ExecuteTime": {
     "end_time": "2020-05-03T22:40:49.829825Z",
     "start_time": "2020-05-03T22:40:40.601Z"
    }
   },
   "outputs": [],
   "source": [
    "# df_crimes['datetime'] = df_crimes['CrimeDate'].copy()\n",
    "# df_crimes.set_index('datetime',inplace=True)\n",
    "# df_crimes"
   ]
  },
  {
   "cell_type": "markdown",
   "metadata": {},
   "source": [
    "### Visualize then Get Counts"
   ]
  },
  {
   "cell_type": "code",
   "execution_count": null,
   "metadata": {
    "ExecuteTime": {
     "end_time": "2020-05-03T22:40:49.830937Z",
     "start_time": "2020-05-03T22:40:40.604Z"
    }
   },
   "outputs": [],
   "source": [
    "keep_cols = ['CrimeDate','CrimeTime']\n",
    "keep_cols.extend(new_names)\n",
    "keep_cols"
   ]
  },
  {
   "cell_type": "code",
   "execution_count": null,
   "metadata": {
    "ExecuteTime": {
     "end_time": "2020-05-03T22:40:49.831859Z",
     "start_time": "2020-05-03T22:40:40.607Z"
    }
   },
   "outputs": [],
   "source": [
    "df_crimes = df_crimes[keep_cols].copy()\n",
    "df_crimes"
   ]
  },
  {
   "cell_type": "code",
   "execution_count": null,
   "metadata": {
    "ExecuteTime": {
     "end_time": "2020-05-03T22:40:49.832712Z",
     "start_time": "2020-05-03T22:40:40.610Z"
    }
   },
   "outputs": [],
   "source": [
    "df_crimes.groupby('CrimeDate')[new_names].sum().plot()"
   ]
  },
  {
   "cell_type": "markdown",
   "metadata": {},
   "source": [
    "### Using `pd.Grouper`"
   ]
  },
  {
   "cell_type": "code",
   "execution_count": null,
   "metadata": {
    "ExecuteTime": {
     "end_time": "2020-05-03T22:40:49.834068Z",
     "start_time": "2020-05-03T22:40:40.612Z"
    }
   },
   "outputs": [],
   "source": [
    "df_crimes.groupby(pd.Grouper(freq='D')).sum().plot()"
   ]
  },
  {
   "cell_type": "code",
   "execution_count": null,
   "metadata": {
    "ExecuteTime": {
     "end_time": "2020-05-03T22:40:49.834983Z",
     "start_time": "2020-05-03T22:40:40.615Z"
    }
   },
   "outputs": [],
   "source": [
    "df_counts = df_crimes.groupby(pd.Grouper(freq='D')).sum()\n",
    "df_counts.plot()"
   ]
  },
  {
   "cell_type": "code",
   "execution_count": null,
   "metadata": {
    "ExecuteTime": {
     "end_time": "2020-05-03T22:40:49.835974Z",
     "start_time": "2020-05-03T22:40:40.617Z"
    }
   },
   "outputs": [],
   "source": [
    "df_counts['SHOOTING'].plot()"
   ]
  },
  {
   "cell_type": "code",
   "execution_count": null,
   "metadata": {
    "ExecuteTime": {
     "end_time": "2020-05-03T22:40:49.837160Z",
     "start_time": "2020-05-03T22:40:40.619Z"
    }
   },
   "outputs": [],
   "source": [
    "for freq_code in ['D','W','M']:\n",
    "    ax= df_crimes.groupby(pd.Grouper(freq=freq_code)).sum().plot()\n",
    "    ax.set_title(f\"Freq Code={freq_code}\")\n",
    "#     ax.legend(None)\n",
    "    "
   ]
  },
  {
   "cell_type": "markdown",
   "metadata": {},
   "source": [
    "### Working with df_counts\n"
   ]
  },
  {
   "cell_type": "code",
   "execution_count": null,
   "metadata": {
    "ExecuteTime": {
     "end_time": "2020-05-03T22:40:49.838294Z",
     "start_time": "2020-05-03T22:40:40.623Z"
    }
   },
   "outputs": [],
   "source": [
    "df_counts.to_csv('datasets/baltimore_crime_counts_2014-2019.csv')\n",
    "df_counts = pd.read_csv('datasets/baltimore_crime_counts_2014-2019.csv',parse_dates=True, index_col='datetime')\n",
    "df_counts"
   ]
  },
  {
   "cell_type": "code",
   "execution_count": null,
   "metadata": {},
   "outputs": [],
   "source": []
  },
  {
   "cell_type": "markdown",
   "metadata": {},
   "source": [
    "# Removing Trends \n",
    "- .diff()\n",
    "- np.log\n",
    "- subtract rolling mean\n",
    "- seasonal decomposition"
   ]
  },
  {
   "cell_type": "code",
   "execution_count": null,
   "metadata": {
    "ExecuteTime": {
     "end_time": "2020-05-03T22:40:49.839324Z",
     "start_time": "2020-05-03T22:40:40.628Z"
    }
   },
   "outputs": [],
   "source": [
    "def stationarity_check(TS,plot=True,col=None):\n",
    "    \"\"\"From: https://learn.co/tracks/data-science-career-v2/module-4-a-complete-data-science-project-using-multiple-regression/working-with-time-series-data/time-series-decomposition\n",
    "    \"\"\"\n",
    "    \n",
    "    # Import adfuller\n",
    "    from statsmodels.tsa.stattools import adfuller\n",
    "\n",
    "    if col is not None:\n",
    "        # Perform the Dickey Fuller Test\n",
    "        dftest = adfuller(TS[col]) # change the passengers column as required \n",
    "    else:\n",
    "        dftest=adfuller(TS)\n",
    " \n",
    "    if plot:\n",
    "        # Calculate rolling statistics\n",
    "        rolmean = TS.rolling(window = 8, center = False).mean()\n",
    "        rolstd = TS.rolling(window = 8, center = False).std()\n",
    "\n",
    "        #Plot rolling statistics:\n",
    "        fig = plt.figure(figsize=(12,6))\n",
    "        orig = plt.plot(TS, color='blue',label='Original')\n",
    "        mean = plt.plot(rolmean, color='red', label='Rolling Mean')\n",
    "        std = plt.plot(rolstd, color='black', label = 'Rolling Std')\n",
    "        plt.legend(loc='best')\n",
    "        plt.title('Rolling Mean & Standard Deviation')\n",
    "#     plt.show(block=False)\n",
    "    \n",
    "    # Print Dickey-Fuller test results\n",
    "    print ('Results of Dickey-Fuller Test:')\n",
    "\n",
    "    dfoutput = pd.Series(dftest[0:4],\n",
    "                         index=['Test Statistic','p-value','#Lags Used','Number of Observations Used'])\n",
    "    for key,value in dftest[4].items():\n",
    "        dfoutput['Critical Value (%s)'%key] = value\n",
    "        \n",
    "    dfoutput['sig'] = dfoutput['p-value']<.05\n",
    "    print (dfoutput)\n",
    "    \n",
    "    return dfoutput"
   ]
  },
  {
   "cell_type": "code",
   "execution_count": null,
   "metadata": {
    "ExecuteTime": {
     "end_time": "2020-05-03T22:40:49.840256Z",
     "start_time": "2020-05-03T22:40:40.631Z"
    }
   },
   "outputs": [],
   "source": [
    "col = 'COMMON ASSAULT'\n",
    "ts = df_counts[col].copy()\n",
    "ts.loc['2014':'2016'].plot(figsize=(12,4))#style='.b')"
   ]
  },
  {
   "cell_type": "markdown",
   "metadata": {},
   "source": [
    "## Seasonal Decomposition"
   ]
  },
  {
   "cell_type": "code",
   "execution_count": null,
   "metadata": {
    "ExecuteTime": {
     "end_time": "2020-05-03T22:40:49.841180Z",
     "start_time": "2020-05-03T22:40:40.634Z"
    }
   },
   "outputs": [],
   "source": [
    "ts=ts.loc['2014':'2016']"
   ]
  },
  {
   "cell_type": "code",
   "execution_count": null,
   "metadata": {
    "ExecuteTime": {
     "end_time": "2020-05-03T22:40:49.842134Z",
     "start_time": "2020-05-03T22:40:40.637Z"
    }
   },
   "outputs": [],
   "source": [
    "from statsmodels.tsa.seasonal import seasonal_decompose\n",
    "decomp = seasonal_decompose(ts)#,model='mul')\n",
    "decomp.plot();"
   ]
  },
  {
   "cell_type": "code",
   "execution_count": null,
   "metadata": {
    "ExecuteTime": {
     "end_time": "2020-05-03T22:40:49.843089Z",
     "start_time": "2020-05-03T22:40:40.640Z"
    }
   },
   "outputs": [],
   "source": [
    "trend = decomp.trend\n",
    "residuals = decomp.resid\n",
    "seasonal = decomp.seasonal"
   ]
  },
  {
   "cell_type": "code",
   "execution_count": null,
   "metadata": {
    "ExecuteTime": {
     "end_time": "2020-05-03T22:40:49.843984Z",
     "start_time": "2020-05-03T22:40:40.642Z"
    }
   },
   "outputs": [],
   "source": [
    "ts.plot()\n",
    "residuals.plot(label='Residuals')\n",
    "plt.legend()"
   ]
  },
  {
   "cell_type": "code",
   "execution_count": null,
   "metadata": {
    "ExecuteTime": {
     "end_time": "2020-05-03T22:40:49.844958Z",
     "start_time": "2020-05-03T22:40:40.644Z"
    }
   },
   "outputs": [],
   "source": [
    "fs.ihelp(stationarity_check,False)"
   ]
  },
  {
   "cell_type": "code",
   "execution_count": null,
   "metadata": {
    "ExecuteTime": {
     "end_time": "2020-05-03T22:40:49.845925Z",
     "start_time": "2020-05-03T22:40:40.646Z"
    }
   },
   "outputs": [],
   "source": [
    "from statsmodels.tsa.stattools import adfuller\n",
    "adfuller()"
   ]
  },
  {
   "cell_type": "code",
   "execution_count": null,
   "metadata": {
    "ExecuteTime": {
     "end_time": "2020-05-03T22:40:49.846889Z",
     "start_time": "2020-05-03T22:40:40.649Z"
    }
   },
   "outputs": [],
   "source": [
    "stationarity_check(ts);"
   ]
  },
  {
   "cell_type": "code",
   "execution_count": null,
   "metadata": {
    "ExecuteTime": {
     "end_time": "2020-05-03T22:40:49.847820Z",
     "start_time": "2020-05-03T22:40:40.651Z"
    }
   },
   "outputs": [],
   "source": [
    "ts.interpolate(method='time',inplace=True)\n",
    "decomp = seasonal_decompose(ts)\n"
   ]
  },
  {
   "cell_type": "code",
   "execution_count": null,
   "metadata": {
    "ExecuteTime": {
     "end_time": "2020-05-03T22:40:49.848786Z",
     "start_time": "2020-05-03T22:40:40.654Z"
    }
   },
   "outputs": [],
   "source": [
    "stationarity_check(ts)"
   ]
  },
  {
   "cell_type": "code",
   "execution_count": null,
   "metadata": {
    "ExecuteTime": {
     "end_time": "2020-05-03T22:40:49.849840Z",
     "start_time": "2020-05-03T22:40:40.657Z"
    }
   },
   "outputs": [],
   "source": [
    "stationarity_check(decomp.resid.dropna());"
   ]
  },
  {
   "cell_type": "markdown",
   "metadata": {},
   "source": [
    "- .diff()\n",
    "- np.log\n",
    "- subtract rolling mean\n",
    "- seasonal decomposition"
   ]
  },
  {
   "cell_type": "code",
   "execution_count": null,
   "metadata": {
    "ExecuteTime": {
     "end_time": "2020-05-03T22:40:49.850813Z",
     "start_time": "2020-05-03T22:40:40.660Z"
    }
   },
   "outputs": [],
   "source": [
    "ts.plot()"
   ]
  },
  {
   "cell_type": "code",
   "execution_count": null,
   "metadata": {
    "ExecuteTime": {
     "end_time": "2020-05-03T22:40:49.851725Z",
     "start_time": "2020-05-03T22:40:40.662Z"
    }
   },
   "outputs": [],
   "source": [
    "\n",
    "# plt.plot(np.log(ts))"
   ]
  },
  {
   "cell_type": "markdown",
   "metadata": {},
   "source": [
    "# ACF & PACF"
   ]
  },
  {
   "cell_type": "code",
   "execution_count": null,
   "metadata": {
    "ExecuteTime": {
     "end_time": "2020-05-03T22:40:49.852671Z",
     "start_time": "2020-05-03T22:40:40.665Z"
    }
   },
   "outputs": [],
   "source": [
    "from statsmodels.graphics.tsaplots import plot_acf,plot_pacf\n",
    "mpl.rcParams['figure.figsize'] = (12,4)\n",
    "plot_acf(ts);\n",
    "plt.xlabel(\"Number Lag\")\n",
    "# fig=ax.get_figure()\n",
    "\n",
    "# fig.set_size_inches(12,4)\n",
    "# fig\n"
   ]
  },
  {
   "cell_type": "code",
   "execution_count": null,
   "metadata": {},
   "outputs": [],
   "source": []
  },
  {
   "cell_type": "code",
   "execution_count": null,
   "metadata": {
    "ExecuteTime": {
     "end_time": "2020-05-03T22:40:49.853674Z",
     "start_time": "2020-05-03T22:40:40.668Z"
    }
   },
   "outputs": [],
   "source": [
    "\n",
    "ts.plot()"
   ]
  },
  {
   "cell_type": "markdown",
   "metadata": {},
   "source": [
    "#  ARIMA/SARIMA\n",
    "- SEE `sect_32_time_series_models.ipynb`"
   ]
  },
  {
   "cell_type": "markdown",
   "metadata": {},
   "source": [
    "# HOUSING DATA FROM LAST CLASS"
   ]
  },
  {
   "cell_type": "code",
   "execution_count": null,
   "metadata": {},
   "outputs": [],
   "source": []
  },
  {
   "cell_type": "code",
   "execution_count": null,
   "metadata": {
    "ExecuteTime": {
     "end_time": "2020-05-03T22:40:49.854731Z",
     "start_time": "2020-05-03T22:40:40.673Z"
    }
   },
   "outputs": [],
   "source": [
    "df = fs.datasets.load_mod1_proj()\n",
    "df.head()"
   ]
  },
  {
   "cell_type": "code",
   "execution_count": null,
   "metadata": {
    "ExecuteTime": {
     "end_time": "2020-05-03T22:40:49.855699Z",
     "start_time": "2020-05-03T22:40:40.676Z"
    }
   },
   "outputs": [],
   "source": [
    "df.info()"
   ]
  },
  {
   "cell_type": "code",
   "execution_count": null,
   "metadata": {
    "ExecuteTime": {
     "end_time": "2020-05-03T22:40:49.856579Z",
     "start_time": "2020-05-03T22:40:40.679Z"
    }
   },
   "outputs": [],
   "source": [
    "date = pd.to_datetime(df['date'])\n",
    "date"
   ]
  },
  {
   "cell_type": "code",
   "execution_count": null,
   "metadata": {
    "ExecuteTime": {
     "end_time": "2020-05-03T22:40:49.857475Z",
     "start_time": "2020-05-03T22:40:40.682Z"
    }
   },
   "outputs": [],
   "source": [
    "df['d_date'] = pd.to_datetime(df['date'])\n",
    "display(df.head())\n",
    "df.dtypes"
   ]
  },
  {
   "cell_type": "code",
   "execution_count": null,
   "metadata": {
    "ExecuteTime": {
     "end_time": "2020-05-03T22:40:49.858363Z",
     "start_time": "2020-05-03T22:40:40.685Z"
    }
   },
   "outputs": [],
   "source": [
    "df.set_index('d_date',inplace=True)\n",
    "df.index"
   ]
  },
  {
   "cell_type": "code",
   "execution_count": null,
   "metadata": {
    "ExecuteTime": {
     "end_time": "2020-05-03T22:40:49.859193Z",
     "start_time": "2020-05-03T22:40:40.688Z"
    }
   },
   "outputs": [],
   "source": [
    "mpl.rcParams['figure.figsize'] = (12,6)"
   ]
  },
  {
   "cell_type": "code",
   "execution_count": null,
   "metadata": {
    "ExecuteTime": {
     "end_time": "2020-05-03T22:40:49.860062Z",
     "start_time": "2020-05-03T22:40:40.690Z"
    }
   },
   "outputs": [],
   "source": [
    "df['price'].plot()"
   ]
  },
  {
   "cell_type": "markdown",
   "metadata": {},
   "source": [
    "### Slicing With Time Series"
   ]
  },
  {
   "cell_type": "markdown",
   "metadata": {},
   "source": [
    "- Make sure you're index is sorted first'\n",
    "- Feed in 2 dates as strings for slicing.\n",
    "- Always use .loc when slicing dates"
   ]
  },
  {
   "cell_type": "code",
   "execution_count": null,
   "metadata": {
    "ExecuteTime": {
     "end_time": "2020-05-03T22:40:49.861065Z",
     "start_time": "2020-05-03T22:40:40.694Z"
    }
   },
   "outputs": [],
   "source": [
    "df.sort_index(inplace=True)"
   ]
  },
  {
   "cell_type": "code",
   "execution_count": null,
   "metadata": {
    "ExecuteTime": {
     "end_time": "2020-05-03T22:40:49.862232Z",
     "start_time": "2020-05-03T22:40:40.697Z"
    },
    "scrolled": false
   },
   "outputs": [],
   "source": [
    "df.loc['2014-05-01':'2015-05-01','price'].plot().autoscale(axis='x',tight=True)"
   ]
  },
  {
   "cell_type": "markdown",
   "metadata": {},
   "source": [
    "## Time series Frequencies\n"
   ]
  },
  {
   "cell_type": "code",
   "execution_count": null,
   "metadata": {
    "ExecuteTime": {
     "end_time": "2020-05-03T22:40:49.863192Z",
     "start_time": "2020-05-03T22:40:40.700Z"
    }
   },
   "outputs": [],
   "source": [
    "df.index"
   ]
  },
  {
   "cell_type": "code",
   "execution_count": null,
   "metadata": {},
   "outputs": [],
   "source": []
  },
  {
   "cell_type": "code",
   "execution_count": null,
   "metadata": {
    "ExecuteTime": {
     "end_time": "2020-05-03T22:40:49.864038Z",
     "start_time": "2020-05-03T22:40:40.705Z"
    }
   },
   "outputs": [],
   "source": [
    "df.index"
   ]
  },
  {
   "cell_type": "code",
   "execution_count": null,
   "metadata": {
    "ExecuteTime": {
     "end_time": "2020-05-03T22:40:49.865096Z",
     "start_time": "2020-05-03T22:40:40.707Z"
    }
   },
   "outputs": [],
   "source": [
    "ts = df['price']"
   ]
  },
  {
   "cell_type": "code",
   "execution_count": null,
   "metadata": {
    "ExecuteTime": {
     "end_time": "2020-05-03T22:40:49.866051Z",
     "start_time": "2020-05-03T22:40:40.710Z"
    },
    "scrolled": false
   },
   "outputs": [],
   "source": [
    "freq_codes = ['D','3D','W','M', 'Q']\n",
    "for freq in freq_codes:\n",
    "    plt.figure()\n",
    "    title=f\"Freq Code: {freq}\"\n",
    "    plt.legend()\n",
    "    ts.resample(freq).mean().plot(title=title)\n",
    "    \n",
    "ax = ts.resample('M').mean().plot(kind='bar')"
   ]
  },
  {
   "cell_type": "code",
   "execution_count": null,
   "metadata": {
    "ExecuteTime": {
     "end_time": "2020-05-03T22:40:49.866834Z",
     "start_time": "2020-05-03T22:40:40.713Z"
    }
   },
   "outputs": [],
   "source": [
    "\n",
    "ts.resample('D').mean().plot()"
   ]
  },
  {
   "cell_type": "code",
   "execution_count": null,
   "metadata": {},
   "outputs": [],
   "source": []
  },
  {
   "cell_type": "markdown",
   "metadata": {},
   "source": [
    "## Using Datetime objects and apply statemements"
   ]
  },
  {
   "cell_type": "code",
   "execution_count": null,
   "metadata": {
    "ExecuteTime": {
     "end_time": "2020-05-03T22:40:49.867866Z",
     "start_time": "2020-05-03T22:40:40.718Z"
    }
   },
   "outputs": [],
   "source": [
    "display(df.head())\n",
    "df.dtypes"
   ]
  },
  {
   "cell_type": "code",
   "execution_count": null,
   "metadata": {
    "ExecuteTime": {
     "end_time": "2020-05-03T22:40:49.868784Z",
     "start_time": "2020-05-03T22:40:40.721Z"
    }
   },
   "outputs": [],
   "source": [
    "t = df.index.to_series()[0]\n",
    "display(t)\n",
    "print(t)"
   ]
  },
  {
   "cell_type": "code",
   "execution_count": null,
   "metadata": {
    "ExecuteTime": {
     "end_time": "2020-05-03T22:40:49.869717Z",
     "start_time": "2020-05-03T22:40:40.724Z"
    }
   },
   "outputs": [],
   "source": [
    "# help(t.strptime)"
   ]
  },
  {
   "cell_type": "code",
   "execution_count": null,
   "metadata": {
    "ExecuteTime": {
     "end_time": "2020-05-03T22:40:49.870726Z",
     "start_time": "2020-05-03T22:40:40.726Z"
    },
    "scrolled": true
   },
   "outputs": [],
   "source": [
    "print(t.strftime(\"%m-%d-%Y\"))\n",
    "print(t.strftime(\"%T\"))"
   ]
  },
  {
   "cell_type": "code",
   "execution_count": null,
   "metadata": {
    "ExecuteTime": {
     "end_time": "2020-05-03T22:40:49.871594Z",
     "start_time": "2020-05-03T22:40:40.729Z"
    }
   },
   "outputs": [],
   "source": [
    "df.index"
   ]
  },
  {
   "cell_type": "code",
   "execution_count": null,
   "metadata": {
    "ExecuteTime": {
     "end_time": "2020-05-03T22:40:49.872446Z",
     "start_time": "2020-05-03T22:40:40.732Z"
    }
   },
   "outputs": [],
   "source": [
    "df['month'] = df.index.to_series().apply(lambda x: x.month)\n",
    "df.head()\n"
   ]
  },
  {
   "cell_type": "code",
   "execution_count": null,
   "metadata": {
    "ExecuteTime": {
     "end_time": "2020-05-03T22:40:49.873384Z",
     "start_time": "2020-05-03T22:40:40.735Z"
    },
    "scrolled": true
   },
   "outputs": [],
   "source": [
    "## Let's make a month column to groupby\n",
    "df['month_int'] = df.index.to_series().apply(lambda x: x.month) #x\n",
    "df['month_name'] =df.index.to_series().apply(lambda x:x.strftime(\"%B\"))\n",
    "\n",
    "for col in ['month_int','month_name']:\n",
    "    display(df[col].value_counts(normalize=True))"
   ]
  },
  {
   "cell_type": "code",
   "execution_count": null,
   "metadata": {
    "ExecuteTime": {
     "end_time": "2020-05-03T22:40:49.874320Z",
     "start_time": "2020-05-03T22:40:40.738Z"
    }
   },
   "outputs": [],
   "source": [
    "df.index.to_series().apply(lambda x: x.month)"
   ]
  },
  {
   "cell_type": "code",
   "execution_count": null,
   "metadata": {},
   "outputs": [],
   "source": []
  },
  {
   "cell_type": "code",
   "execution_count": null,
   "metadata": {
    "ExecuteTime": {
     "end_time": "2020-05-03T22:40:49.875194Z",
     "start_time": "2020-05-03T22:40:40.743Z"
    }
   },
   "outputs": [],
   "source": [
    "help(ax.xaxis.set_ticklabels)"
   ]
  },
  {
   "cell_type": "code",
   "execution_count": null,
   "metadata": {
    "ExecuteTime": {
     "end_time": "2020-05-03T22:40:49.876116Z",
     "start_time": "2020-05-03T22:40:40.745Z"
    }
   },
   "outputs": [],
   "source": [
    "fig = ax.get_figure()"
   ]
  },
  {
   "cell_type": "code",
   "execution_count": null,
   "metadata": {
    "ExecuteTime": {
     "end_time": "2020-05-03T22:40:49.877062Z",
     "start_time": "2020-05-03T22:40:40.748Z"
    }
   },
   "outputs": [],
   "source": [
    "ax.xaxis.set_ticklabels(ax.xaxis.get_ticklabels(),**{'rotation':45,\n",
    "                                                    'ha':'right'}) \n",
    "# ax.xaxis.set_major_locator(mpl.dates.AutoDateLocator())\n",
    "fig"
   ]
  }
 ],
 "metadata": {
  "kernelspec": {
   "display_name": "Python [conda env:learn-env] *",
   "language": "python",
   "name": "conda-env-learn-env-py"
  },
  "language_info": {
   "codemirror_mode": {
    "name": "ipython",
    "version": 3
   },
   "file_extension": ".py",
   "mimetype": "text/x-python",
   "name": "python",
   "nbconvert_exporter": "python",
   "pygments_lexer": "ipython3",
   "version": "3.6.9"
  },
  "toc": {
   "base_numbering": 1,
   "nav_menu": {},
   "number_sections": false,
   "sideBar": true,
   "skip_h1_title": false,
   "title_cell": "Table of Contents",
   "title_sidebar": "Contents",
   "toc_cell": false,
   "toc_position": {
    "height": "calc(100% - 180px)",
    "left": "10px",
    "top": "150px",
    "width": "284.427px"
   },
   "toc_section_display": true,
   "toc_window_display": true
  }
 },
 "nbformat": 4,
 "nbformat_minor": 2
}
