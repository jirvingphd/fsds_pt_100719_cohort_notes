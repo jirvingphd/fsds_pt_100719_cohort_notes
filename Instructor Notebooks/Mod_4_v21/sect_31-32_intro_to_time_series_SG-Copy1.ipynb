{
 "cells": [
  {
   "cell_type": "markdown",
   "metadata": {},
   "source": [
    "# Sect 31-Pt2 & 32: Intro to Time Series"
   ]
  },
  {
   "cell_type": "markdown",
   "metadata": {},
   "source": [
    "- From 12/19/19  study group"
   ]
  },
  {
   "cell_type": "markdown",
   "metadata": {},
   "source": [
    "## Learning Objectives:\n",
    "- `pd.grouper`\n",
    "\n",
    "- Learn about types of time series trends and how to remove them.\n",
    "- Learn about seasonal decomposition`statsmodels.tsa.seasonal.seasonal_decompose`\n",
    "\n",
    "- Learn about PACF, ACF\n",
    "- Introduce ARIMA and SARIMA models.\n",
    "\n"
   ]
  },
  {
   "cell_type": "markdown",
   "metadata": {},
   "source": [
    " ## Questions to Revisit\n",
    " - Can you interpolate between missing datapoints?\n",
    "     - `pd.Series.interpolate` \n",
    "     - https://pandas.pydata.org/pandas-docs/stable/reference/api/pandas.Series.interpolate.html\n",
    " "
   ]
  },
  {
   "cell_type": "markdown",
   "metadata": {},
   "source": [
    "## References"
   ]
  },
  {
   "cell_type": "markdown",
   "metadata": {},
   "source": [
    "- [Pandas Timeseries Documentation](https://pandas.pydata.org/pandas-docs/stable/user_guide/timeseries.html)\n",
    "- ['Timeseries Offset Aliases'](https://pandas.pydata.org/pandas-docs/stable/user_guide/timeseries.html#timeseries-offset-aliases)\n",
    "- [Anchored Offsets](https://pandas.pydata.org/pandas-docs/stable/user_guide/timeseries.html#anchored-offsets)\n",
    "\n",
    "\n",
    "- https://pandas.pydata.org/pandas-docs/stable/reference/api/pandas.Timestamp.html"
   ]
  },
  {
   "cell_type": "markdown",
   "metadata": {},
   "source": [
    "**REFERENCE CONTENTS:**\n",
    "- Date StrFormatting\n",
    "    - Used for:\n",
    "        - Recognizing Date Formats (`pd.to_datetime`)\n",
    "        - `dt_obj.strftime()`\n",
    "        \n",
    "- Pandas Frequency Aliases\n",
    "    - Used for:\n",
    "        - `df.resample()`\n",
    "        - `df.asfreq()`\n",
    "        - ...\n",
    "        "
   ]
  },
  {
   "cell_type": "markdown",
   "metadata": {},
   "source": [
    "### Date Str Formatting\n",
    "\n"
   ]
  },
  {
   "cell_type": "markdown",
   "metadata": {},
   "source": [
    "\n",
    "Formatting follows the Python datetime <strong><a href='http://strftime.org/'>strftime</a></strong> codes.<br>\n",
    "The following examples are based on <tt>datetime.datetime(2001, 2, 3, 16, 5, 6)</tt>:\n",
    "<br><br>\n",
    "\n",
    "<table style=\"display: inline-block\">  \n",
    "<tr><th>CODE</th><th>MEANING</th><th>EXAMPLE</th><tr>\n",
    "<tr><td>%Y</td><td>Year with century as a decimal number.</td><td>2001</td></tr>\n",
    "<tr><td>%y</td><td>Year without century as a zero-padded decimal number.</td><td>01</td></tr>\n",
    "<tr><td>%m</td><td>Month as a zero-padded decimal number.</td><td>02</td></tr>\n",
    "<tr><td>%B</td><td>Month as locale’s full name.</td><td>February</td></tr>\n",
    "<tr><td>%b</td><td>Month as locale’s abbreviated name.</td><td>Feb</td></tr>\n",
    "<tr><td>%d</td><td>Day of the month as a zero-padded decimal number.</td><td>03</td></tr>  \n",
    "<tr><td>%A</td><td>Weekday as locale’s full name.</td><td>Saturday</td></tr>\n",
    "<tr><td>%a</td><td>Weekday as locale’s abbreviated name.</td><td>Sat</td></tr>\n",
    "<tr><td>%H</td><td>Hour (24-hour clock) as a zero-padded decimal number.</td><td>16</td></tr>\n",
    "<tr><td>%I</td><td>Hour (12-hour clock) as a zero-padded decimal number.</td><td>04</td></tr>\n",
    "<tr><td>%p</td><td>Locale’s equivalent of either AM or PM.</td><td>PM</td></tr>\n",
    "<tr><td>%M</td><td>Minute as a zero-padded decimal number.</td><td>05</td></tr>\n",
    "<tr><td>%S</td><td>Second as a zero-padded decimal number.</td><td>06</td></tr>\n",
    "</table>\n",
    "<table style=\"display: inline-block\">\n",
    "<tr><th>CODE</th><th>MEANING</th><th>EXAMPLE</th><tr>\n",
    "<tr><td>%#m</td><td>Month as a decimal number. (Windows)</td><td>2</td></tr>\n",
    "<tr><td>%-m</td><td>Month as a decimal number. (Mac/Linux)</td><td>2</td></tr>\n",
    "<tr><td>%#x</td><td>Long date</td><td>Saturday, February 03, 2001</td></tr>\n",
    "<tr><td>%#c</td><td>Long date and time</td><td>Saturday, February 03, 2001 16:05:06</td></tr>\n",
    "</table>  \n",
    "    "
   ]
  },
  {
   "cell_type": "markdown",
   "metadata": {},
   "source": [
    "### Pandas Frequency Aliases\n"
   ]
  },
  {
   "cell_type": "markdown",
   "metadata": {},
   "source": [
    "https://pandas.pydata.org/pandas-docs/stable/user_guide/timeseries.html#timeseries-offset-aliases\n",
    "\n",
    "|Alias\t| Description|\n",
    "| --- | --- |\n",
    "|B |\tbusiness day frequency|\n",
    "|C |\tcustom business day frequency|\n",
    "|D |\tcalendar day frequency|\n",
    "|W |\tweekly frequency|\n",
    "|M |\tmonth end frequency|\n",
    "|SM |\tsemi-month end frequency (15th and end of month)|\n",
    "|BM |\tbusiness month end frequency|\n",
    "|CBM |\tcustom business month end frequency|\n",
    "|MS |\tmonth start frequency|\n",
    "|SMS |\tsemi-month start frequency (1st and 15th)|\n",
    "|BMS |\tbusiness month start frequency|\n",
    "|CBMS |\tcustom business month start frequency|\n",
    "|Q |\tquarter end frequency|\n",
    "|BQ |\tbusiness quarter end frequency|\n",
    "|QS |\tquarter start frequency|\n",
    "|BQS |\tbusiness quarter start frequency|\n",
    "|A, Y |\tyear end frequency|\n",
    "|BA, BY |\tbusiness year end frequency|\n",
    "|AS, YS |\tyear start frequency|\n",
    "|BAS, BYS |\tbusiness year start frequency|\n",
    "|BH | business hour frequency|\n",
    "|H | hourly frequency|\n",
    "|T |  min\tminutely frequency|\n",
    "|S | secondly frequency|\n",
    "|L |  ms\tmilliseconds|\n",
    "|U |  us\tmicroseconds|\n",
    "|N | nanoseconds|"
   ]
  },
  {
   "cell_type": "markdown",
   "metadata": {},
   "source": [
    "# Intro to Time Series"
   ]
  },
  {
   "cell_type": "code",
   "execution_count": null,
   "metadata": {
    "ExecuteTime": {
     "end_time": "2020-05-03T00:09:52.548761Z",
     "start_time": "2020-05-03T00:09:48.600027Z"
    }
   },
   "outputs": [],
   "source": [
    "!pip install -U fsds_100719\n",
    "# !pip install -U scikit-learn\n",
    "\n",
    "from fsds_100719.imports import *"
   ]
  },
  {
   "cell_type": "code",
   "execution_count": null,
   "metadata": {
    "ExecuteTime": {
     "end_time": "2020-05-03T00:09:52.556869Z",
     "start_time": "2020-05-03T00:09:52.550114Z"
    }
   },
   "outputs": [],
   "source": [
    "## Lab Function\n",
    "def stationarity_check(TS,plot=True,col=None):\n",
    "    \"\"\"From: https://learn.co/tracks/data-science-career-v2/module-4-a-complete-data-science-project-using-multiple-regression/working-with-time-series-data/time-series-decomposition\n",
    "    \"\"\"\n",
    "    \n",
    "    # Import adfuller\n",
    "    from statsmodels.tsa.stattools import adfuller\n",
    "\n",
    "    if col is not None:\n",
    "        # Perform the Dickey Fuller Test\n",
    "        dftest = adfuller(TS[col]) # change the passengers column as required \n",
    "    else:\n",
    "        dftest=adfuller(TS)\n",
    " \n",
    "    if plot:\n",
    "        # Calculate rolling statistics\n",
    "        rolmean = TS.rolling(window = 8, center = False).mean()\n",
    "        rolstd = TS.rolling(window = 8, center = False).std()\n",
    "\n",
    "        #Plot rolling statistics:\n",
    "        fig = plt.figure(figsize=(12,6))\n",
    "        orig = plt.plot(TS, color='blue',label='Original')\n",
    "        mean = plt.plot(rolmean, color='red', label='Rolling Mean')\n",
    "        std = plt.plot(rolstd, color='black', label = 'Rolling Std')\n",
    "        plt.legend(loc='best')\n",
    "        plt.title('Rolling Mean & Standard Deviation')\n",
    "#     plt.show(block=False)\n",
    "    \n",
    "    # Print Dickey-Fuller test results\n",
    "    print ('Results of Dickey-Fuller Test:')\n",
    "\n",
    "    dfoutput = pd.Series(dftest[0:4],\n",
    "                         index=['Test Statistic','p-value','#Lags Used','Number of Observations Used'])\n",
    "    for key,value in dftest[4].items():\n",
    "        dfoutput['Critical Value (%s)'%key] = value\n",
    "        \n",
    "    dfoutput['sig'] = dfoutput['p-value']<.05\n",
    "    print (dfoutput)\n",
    "    \n",
    "    return dfoutput"
   ]
  },
  {
   "cell_type": "markdown",
   "metadata": {},
   "source": [
    "# Baltimore Crime"
   ]
  },
  {
   "cell_type": "markdown",
   "metadata": {},
   "source": [
    "## 2020 Data"
   ]
  },
  {
   "cell_type": "code",
   "execution_count": 40,
   "metadata": {
    "ExecuteTime": {
     "end_time": "2020-05-03T21:46:08.334253Z",
     "start_time": "2020-05-03T21:46:08.331840Z"
    }
   },
   "outputs": [],
   "source": [
    "from fsds.imports import *"
   ]
  },
  {
   "cell_type": "code",
   "execution_count": 43,
   "metadata": {
    "ExecuteTime": {
     "end_time": "2020-05-03T21:47:03.026578Z",
     "start_time": "2020-05-03T21:46:33.406024Z"
    }
   },
   "outputs": [
    {
     "ename": "KeyboardInterrupt",
     "evalue": "",
     "output_type": "error",
     "traceback": [
      "\u001b[0;31m---------------------------------------------------------------------------\u001b[0m",
      "\u001b[0;31mKeyboardInterrupt\u001b[0m                         Traceback (most recent call last)",
      "\u001b[0;32m<ipython-input-43-caad37a3e7c1>\u001b[0m in \u001b[0;36m<module>\u001b[0;34m\u001b[0m\n\u001b[1;32m      1\u001b[0m \u001b[0mdf\u001b[0m \u001b[0;34m=\u001b[0m \u001b[0mpd\u001b[0m\u001b[0;34m.\u001b[0m\u001b[0mread_csv\u001b[0m\u001b[0;34m(\u001b[0m\u001b[0;34m'/Users/jamesirving/Downloads/BPD_Part_1_Victim_Based_Crime_Data.csv'\u001b[0m\u001b[0;34m)\u001b[0m\u001b[0;34m\u001b[0m\u001b[0;34m\u001b[0m\u001b[0m\n\u001b[0;32m----> 2\u001b[0;31m \u001b[0mdf\u001b[0m\u001b[0;34m[\u001b[0m\u001b[0;34m'datetime'\u001b[0m\u001b[0;34m]\u001b[0m  \u001b[0;34m=\u001b[0m \u001b[0mpd\u001b[0m\u001b[0;34m.\u001b[0m\u001b[0mto_datetime\u001b[0m\u001b[0;34m(\u001b[0m\u001b[0mdf\u001b[0m\u001b[0;34m[\u001b[0m\u001b[0;34m'CrimeDate'\u001b[0m\u001b[0;34m]\u001b[0m\u001b[0;34m+\u001b[0m \u001b[0;34m' - '\u001b[0m \u001b[0;34m+\u001b[0m \u001b[0mdf\u001b[0m\u001b[0;34m[\u001b[0m\u001b[0;34m'CrimeTime'\u001b[0m\u001b[0;34m]\u001b[0m\u001b[0;34m)\u001b[0m\u001b[0;34m\u001b[0m\u001b[0;34m\u001b[0m\u001b[0m\n\u001b[0m\u001b[1;32m      3\u001b[0m \u001b[0mdf\u001b[0m\u001b[0;34m\u001b[0m\u001b[0;34m\u001b[0m\u001b[0m\n",
      "\u001b[0;32m//anaconda3/envs/learn-env/lib/python3.6/site-packages/pandas/util/_decorators.py\u001b[0m in \u001b[0;36mwrapper\u001b[0;34m(*args, **kwargs)\u001b[0m\n\u001b[1;32m    206\u001b[0m                 \u001b[0;32melse\u001b[0m\u001b[0;34m:\u001b[0m\u001b[0;34m\u001b[0m\u001b[0;34m\u001b[0m\u001b[0m\n\u001b[1;32m    207\u001b[0m                     \u001b[0mkwargs\u001b[0m\u001b[0;34m[\u001b[0m\u001b[0mnew_arg_name\u001b[0m\u001b[0;34m]\u001b[0m \u001b[0;34m=\u001b[0m \u001b[0mnew_arg_value\u001b[0m\u001b[0;34m\u001b[0m\u001b[0;34m\u001b[0m\u001b[0m\n\u001b[0;32m--> 208\u001b[0;31m             \u001b[0;32mreturn\u001b[0m \u001b[0mfunc\u001b[0m\u001b[0;34m(\u001b[0m\u001b[0;34m*\u001b[0m\u001b[0margs\u001b[0m\u001b[0;34m,\u001b[0m \u001b[0;34m**\u001b[0m\u001b[0mkwargs\u001b[0m\u001b[0;34m)\u001b[0m\u001b[0;34m\u001b[0m\u001b[0;34m\u001b[0m\u001b[0m\n\u001b[0m\u001b[1;32m    209\u001b[0m \u001b[0;34m\u001b[0m\u001b[0m\n\u001b[1;32m    210\u001b[0m         \u001b[0;32mreturn\u001b[0m \u001b[0mwrapper\u001b[0m\u001b[0;34m\u001b[0m\u001b[0;34m\u001b[0m\u001b[0m\n",
      "\u001b[0;32m//anaconda3/envs/learn-env/lib/python3.6/site-packages/pandas/core/tools/datetimes.py\u001b[0m in \u001b[0;36mto_datetime\u001b[0;34m(arg, errors, dayfirst, yearfirst, utc, box, format, exact, unit, infer_datetime_format, origin, cache)\u001b[0m\n\u001b[1;32m    776\u001b[0m             \u001b[0mresult\u001b[0m \u001b[0;34m=\u001b[0m \u001b[0marg\u001b[0m\u001b[0;34m.\u001b[0m\u001b[0mmap\u001b[0m\u001b[0;34m(\u001b[0m\u001b[0mcache_array\u001b[0m\u001b[0;34m)\u001b[0m\u001b[0;34m\u001b[0m\u001b[0;34m\u001b[0m\u001b[0m\n\u001b[1;32m    777\u001b[0m         \u001b[0;32melse\u001b[0m\u001b[0;34m:\u001b[0m\u001b[0;34m\u001b[0m\u001b[0;34m\u001b[0m\u001b[0m\n\u001b[0;32m--> 778\u001b[0;31m             \u001b[0mvalues\u001b[0m \u001b[0;34m=\u001b[0m \u001b[0mconvert_listlike\u001b[0m\u001b[0;34m(\u001b[0m\u001b[0marg\u001b[0m\u001b[0;34m.\u001b[0m\u001b[0m_values\u001b[0m\u001b[0;34m,\u001b[0m \u001b[0;32mTrue\u001b[0m\u001b[0;34m,\u001b[0m \u001b[0mformat\u001b[0m\u001b[0;34m)\u001b[0m\u001b[0;34m\u001b[0m\u001b[0;34m\u001b[0m\u001b[0m\n\u001b[0m\u001b[1;32m    779\u001b[0m             \u001b[0mresult\u001b[0m \u001b[0;34m=\u001b[0m \u001b[0marg\u001b[0m\u001b[0;34m.\u001b[0m\u001b[0m_constructor\u001b[0m\u001b[0;34m(\u001b[0m\u001b[0mvalues\u001b[0m\u001b[0;34m,\u001b[0m \u001b[0mindex\u001b[0m\u001b[0;34m=\u001b[0m\u001b[0marg\u001b[0m\u001b[0;34m.\u001b[0m\u001b[0mindex\u001b[0m\u001b[0;34m,\u001b[0m \u001b[0mname\u001b[0m\u001b[0;34m=\u001b[0m\u001b[0marg\u001b[0m\u001b[0;34m.\u001b[0m\u001b[0mname\u001b[0m\u001b[0;34m)\u001b[0m\u001b[0;34m\u001b[0m\u001b[0;34m\u001b[0m\u001b[0m\n\u001b[1;32m    780\u001b[0m     \u001b[0;32melif\u001b[0m \u001b[0misinstance\u001b[0m\u001b[0;34m(\u001b[0m\u001b[0marg\u001b[0m\u001b[0;34m,\u001b[0m \u001b[0;34m(\u001b[0m\u001b[0mABCDataFrame\u001b[0m\u001b[0;34m,\u001b[0m \u001b[0mabc\u001b[0m\u001b[0;34m.\u001b[0m\u001b[0mMutableMapping\u001b[0m\u001b[0;34m)\u001b[0m\u001b[0;34m)\u001b[0m\u001b[0;34m:\u001b[0m\u001b[0;34m\u001b[0m\u001b[0;34m\u001b[0m\u001b[0m\n",
      "\u001b[0;32m//anaconda3/envs/learn-env/lib/python3.6/site-packages/pandas/core/tools/datetimes.py\u001b[0m in \u001b[0;36m_convert_listlike_datetimes\u001b[0;34m(arg, box, format, name, tz, unit, errors, infer_datetime_format, dayfirst, yearfirst, exact)\u001b[0m\n\u001b[1;32m    461\u001b[0m             \u001b[0merrors\u001b[0m\u001b[0;34m=\u001b[0m\u001b[0merrors\u001b[0m\u001b[0;34m,\u001b[0m\u001b[0;34m\u001b[0m\u001b[0;34m\u001b[0m\u001b[0m\n\u001b[1;32m    462\u001b[0m             \u001b[0mrequire_iso8601\u001b[0m\u001b[0;34m=\u001b[0m\u001b[0mrequire_iso8601\u001b[0m\u001b[0;34m,\u001b[0m\u001b[0;34m\u001b[0m\u001b[0;34m\u001b[0m\u001b[0m\n\u001b[0;32m--> 463\u001b[0;31m             \u001b[0mallow_object\u001b[0m\u001b[0;34m=\u001b[0m\u001b[0;32mTrue\u001b[0m\u001b[0;34m,\u001b[0m\u001b[0;34m\u001b[0m\u001b[0;34m\u001b[0m\u001b[0m\n\u001b[0m\u001b[1;32m    464\u001b[0m         )\n\u001b[1;32m    465\u001b[0m \u001b[0;34m\u001b[0m\u001b[0m\n",
      "\u001b[0;32m//anaconda3/envs/learn-env/lib/python3.6/site-packages/pandas/core/arrays/datetimes.py\u001b[0m in \u001b[0;36mobjects_to_datetime64ns\u001b[0;34m(data, dayfirst, yearfirst, utc, errors, require_iso8601, allow_object)\u001b[0m\n\u001b[1;32m   1973\u001b[0m             \u001b[0mdayfirst\u001b[0m\u001b[0;34m=\u001b[0m\u001b[0mdayfirst\u001b[0m\u001b[0;34m,\u001b[0m\u001b[0;34m\u001b[0m\u001b[0;34m\u001b[0m\u001b[0m\n\u001b[1;32m   1974\u001b[0m             \u001b[0myearfirst\u001b[0m\u001b[0;34m=\u001b[0m\u001b[0myearfirst\u001b[0m\u001b[0;34m,\u001b[0m\u001b[0;34m\u001b[0m\u001b[0;34m\u001b[0m\u001b[0m\n\u001b[0;32m-> 1975\u001b[0;31m             \u001b[0mrequire_iso8601\u001b[0m\u001b[0;34m=\u001b[0m\u001b[0mrequire_iso8601\u001b[0m\u001b[0;34m,\u001b[0m\u001b[0;34m\u001b[0m\u001b[0;34m\u001b[0m\u001b[0m\n\u001b[0m\u001b[1;32m   1976\u001b[0m         )\n\u001b[1;32m   1977\u001b[0m     \u001b[0;32mexcept\u001b[0m \u001b[0mValueError\u001b[0m \u001b[0;32mas\u001b[0m \u001b[0me\u001b[0m\u001b[0;34m:\u001b[0m\u001b[0;34m\u001b[0m\u001b[0;34m\u001b[0m\u001b[0m\n",
      "\u001b[0;32mpandas/_libs/tslib.pyx\u001b[0m in \u001b[0;36mpandas._libs.tslib.array_to_datetime\u001b[0;34m()\u001b[0m\n",
      "\u001b[0;32mpandas/_libs/tslib.pyx\u001b[0m in \u001b[0;36mpandas._libs.tslib.array_to_datetime\u001b[0;34m()\u001b[0m\n",
      "\u001b[0;32mpandas/_libs/tslibs/parsing.pyx\u001b[0m in \u001b[0;36mpandas._libs.tslibs.parsing.parse_datetime_string\u001b[0;34m()\u001b[0m\n",
      "\u001b[0;32m//anaconda3/envs/learn-env/lib/python3.6/site-packages/dateutil/parser/_parser.py\u001b[0m in \u001b[0;36mparse\u001b[0;34m(timestr, parserinfo, **kwargs)\u001b[0m\n\u001b[1;32m   1258\u001b[0m \u001b[0;34m\u001b[0m\u001b[0m\n\u001b[1;32m   1259\u001b[0m \u001b[0;34m\u001b[0m\u001b[0m\n\u001b[0;32m-> 1260\u001b[0;31m \u001b[0;32mdef\u001b[0m \u001b[0mparse\u001b[0m\u001b[0;34m(\u001b[0m\u001b[0mtimestr\u001b[0m\u001b[0;34m,\u001b[0m \u001b[0mparserinfo\u001b[0m\u001b[0;34m=\u001b[0m\u001b[0;32mNone\u001b[0m\u001b[0;34m,\u001b[0m \u001b[0;34m**\u001b[0m\u001b[0mkwargs\u001b[0m\u001b[0;34m)\u001b[0m\u001b[0;34m:\u001b[0m\u001b[0;34m\u001b[0m\u001b[0;34m\u001b[0m\u001b[0m\n\u001b[0m\u001b[1;32m   1261\u001b[0m     \"\"\"\n\u001b[1;32m   1262\u001b[0m \u001b[0;34m\u001b[0m\u001b[0m\n",
      "\u001b[0;31mKeyboardInterrupt\u001b[0m: "
     ]
    }
   ],
   "source": [
    "df = pd.read_csv('/Users/jamesirving/Downloads/BPD_Part_1_Victim_Based_Crime_Data.csv')\n",
    "df['datetime']  = pd.to_datetime(df['CrimeDate']+ ' - ' + df['CrimeTime'])\n",
    "df"
   ]
  },
  {
   "cell_type": "code",
   "execution_count": 44,
   "metadata": {
    "ExecuteTime": {
     "end_time": "2020-05-03T21:47:06.387117Z",
     "start_time": "2020-05-03T21:47:06.383540Z"
    }
   },
   "outputs": [
    {
     "data": {
      "text/plain": [
       "'/Users/jamesirving/Documents/GitHub/_STUDY GROUP PREP/fsds_pt_100719_cohort_notes/Instructor Notebooks/Mod_4_v21'"
      ]
     },
     "execution_count": 44,
     "metadata": {},
     "output_type": "execute_result"
    }
   ],
   "source": [
    "pwd"
   ]
  },
  {
   "cell_type": "code",
   "execution_count": null,
   "metadata": {},
   "outputs": [],
   "source": [
    "df.to_csv('../')"
   ]
  },
  {
   "cell_type": "code",
   "execution_count": 38,
   "metadata": {
    "ExecuteTime": {
     "end_time": "2020-05-03T21:45:47.374655Z",
     "start_time": "2020-05-03T21:45:16.644106Z"
    }
   },
   "outputs": [
    {
     "data": {
      "text/html": [
       "<div>\n",
       "<style scoped>\n",
       "    .dataframe tbody tr th:only-of-type {\n",
       "        vertical-align: middle;\n",
       "    }\n",
       "\n",
       "    .dataframe tbody tr th {\n",
       "        vertical-align: top;\n",
       "    }\n",
       "\n",
       "    .dataframe thead th {\n",
       "        text-align: right;\n",
       "    }\n",
       "</style>\n",
       "<table border=\"1\" class=\"dataframe\">\n",
       "  <thead>\n",
       "    <tr style=\"text-align: right;\">\n",
       "      <th></th>\n",
       "      <th>CrimeDate</th>\n",
       "      <th>CrimeTime</th>\n",
       "      <th>CrimeCode</th>\n",
       "      <th>Location</th>\n",
       "      <th>Description</th>\n",
       "      <th>Inside/Outside</th>\n",
       "      <th>Weapon</th>\n",
       "      <th>Post</th>\n",
       "      <th>District</th>\n",
       "      <th>Neighborhood</th>\n",
       "      <th>Longitude</th>\n",
       "      <th>Latitude</th>\n",
       "      <th>Location 1</th>\n",
       "      <th>Premise</th>\n",
       "      <th>vri_name1</th>\n",
       "      <th>Total Incidents</th>\n",
       "    </tr>\n",
       "  </thead>\n",
       "  <tbody>\n",
       "    <tr>\n",
       "      <td>2020-04-25 17:30:00</td>\n",
       "      <td>04/25/2020</td>\n",
       "      <td>17:30:00</td>\n",
       "      <td>5A</td>\n",
       "      <td>2400 SHIRLEY AVE</td>\n",
       "      <td>BURGLARY</td>\n",
       "      <td>I</td>\n",
       "      <td>NaN</td>\n",
       "      <td>533</td>\n",
       "      <td>NORTHERN</td>\n",
       "      <td>GREENSPRING</td>\n",
       "      <td>-76.657102</td>\n",
       "      <td>39.336238</td>\n",
       "      <td>NaN</td>\n",
       "      <td>ROW/TOWNHOUSE-VAC</td>\n",
       "      <td>NaN</td>\n",
       "      <td>1</td>\n",
       "    </tr>\n",
       "    <tr>\n",
       "      <td>2020-04-25 02:40:00</td>\n",
       "      <td>04/25/2020</td>\n",
       "      <td>02:40:00</td>\n",
       "      <td>5A</td>\n",
       "      <td>2900 MOUNT HOLLY ST</td>\n",
       "      <td>BURGLARY</td>\n",
       "      <td>I</td>\n",
       "      <td>NaN</td>\n",
       "      <td>624</td>\n",
       "      <td>NORTHWEST</td>\n",
       "      <td>WINDSOR HILLS</td>\n",
       "      <td>-76.682845</td>\n",
       "      <td>39.319594</td>\n",
       "      <td>NaN</td>\n",
       "      <td>ROW/TOWNHOUSE-VAC</td>\n",
       "      <td>NaN</td>\n",
       "      <td>1</td>\n",
       "    </tr>\n",
       "    <tr>\n",
       "      <td>2020-04-25 09:30:00</td>\n",
       "      <td>04/25/2020</td>\n",
       "      <td>09:30:00</td>\n",
       "      <td>5C</td>\n",
       "      <td>0 N JANNEY ST</td>\n",
       "      <td>BURGLARY</td>\n",
       "      <td>I</td>\n",
       "      <td>NaN</td>\n",
       "      <td>232</td>\n",
       "      <td>SOUTHEAST</td>\n",
       "      <td>KRESSON</td>\n",
       "      <td>-76.560665</td>\n",
       "      <td>39.293067</td>\n",
       "      <td>NaN</td>\n",
       "      <td>ROW/TOWNHOUSE-VAC</td>\n",
       "      <td>NaN</td>\n",
       "      <td>1</td>\n",
       "    </tr>\n",
       "    <tr>\n",
       "      <td>2020-04-25 02:30:00</td>\n",
       "      <td>04/25/2020</td>\n",
       "      <td>02:30:00</td>\n",
       "      <td>4E</td>\n",
       "      <td>900 W SARATOGA ST</td>\n",
       "      <td>COMMON ASSAULT</td>\n",
       "      <td>NaN</td>\n",
       "      <td>NaN</td>\n",
       "      <td>712</td>\n",
       "      <td>WESTERN</td>\n",
       "      <td>POPPLETON</td>\n",
       "      <td>-76.632368</td>\n",
       "      <td>39.292449</td>\n",
       "      <td>NaN</td>\n",
       "      <td>NaN</td>\n",
       "      <td>NaN</td>\n",
       "      <td>1</td>\n",
       "    </tr>\n",
       "    <tr>\n",
       "      <td>2020-04-25 15:30:00</td>\n",
       "      <td>04/25/2020</td>\n",
       "      <td>15:30:00</td>\n",
       "      <td>6C</td>\n",
       "      <td>3700 BOSTON ST</td>\n",
       "      <td>LARCENY</td>\n",
       "      <td>I</td>\n",
       "      <td>NaN</td>\n",
       "      <td>231</td>\n",
       "      <td>SOUTHEAST</td>\n",
       "      <td>CANTON INDUSTRIAL AREA</td>\n",
       "      <td>-76.565150</td>\n",
       "      <td>39.277050</td>\n",
       "      <td>NaN</td>\n",
       "      <td>GROCERY/CONFECTION</td>\n",
       "      <td>NaN</td>\n",
       "      <td>1</td>\n",
       "    </tr>\n",
       "    <tr>\n",
       "      <td>...</td>\n",
       "      <td>...</td>\n",
       "      <td>...</td>\n",
       "      <td>...</td>\n",
       "      <td>...</td>\n",
       "      <td>...</td>\n",
       "      <td>...</td>\n",
       "      <td>...</td>\n",
       "      <td>...</td>\n",
       "      <td>...</td>\n",
       "      <td>...</td>\n",
       "      <td>...</td>\n",
       "      <td>...</td>\n",
       "      <td>...</td>\n",
       "      <td>...</td>\n",
       "      <td>...</td>\n",
       "      <td>...</td>\n",
       "    </tr>\n",
       "    <tr>\n",
       "      <td>1978-01-01 10:30:00</td>\n",
       "      <td>01/01/1978</td>\n",
       "      <td>10:30:00</td>\n",
       "      <td>2A</td>\n",
       "      <td>1900 ARGONNE DR</td>\n",
       "      <td>RAPE</td>\n",
       "      <td>I</td>\n",
       "      <td>OTHER</td>\n",
       "      <td>421</td>\n",
       "      <td>NORTHEAST</td>\n",
       "      <td>MORGAN STATE UNIVERS</td>\n",
       "      <td>-76.582056</td>\n",
       "      <td>39.340492</td>\n",
       "      <td>NaN</td>\n",
       "      <td>ROW/TOWNHOUSE-OCC</td>\n",
       "      <td>NaN</td>\n",
       "      <td>1</td>\n",
       "    </tr>\n",
       "    <tr>\n",
       "      <td>1977-05-01 00:01:00</td>\n",
       "      <td>05/01/1977</td>\n",
       "      <td>00:01:00</td>\n",
       "      <td>2A</td>\n",
       "      <td>600 W 34TH ST</td>\n",
       "      <td>RAPE</td>\n",
       "      <td>I</td>\n",
       "      <td>OTHER</td>\n",
       "      <td>531</td>\n",
       "      <td>NORTHERN</td>\n",
       "      <td>WYMAN PARK</td>\n",
       "      <td>-76.626880</td>\n",
       "      <td>39.328817</td>\n",
       "      <td>NaN</td>\n",
       "      <td>ROW/TOWNHOUSE-OCC</td>\n",
       "      <td>NaN</td>\n",
       "      <td>1</td>\n",
       "    </tr>\n",
       "    <tr>\n",
       "      <td>1975-06-01 00:00:00</td>\n",
       "      <td>06/01/1975</td>\n",
       "      <td>00:00:00</td>\n",
       "      <td>2A</td>\n",
       "      <td>4400 OLD FREDERICK RD</td>\n",
       "      <td>RAPE</td>\n",
       "      <td>I</td>\n",
       "      <td>OTHER</td>\n",
       "      <td>822</td>\n",
       "      <td>SOUTHWEST</td>\n",
       "      <td>UPLANDS</td>\n",
       "      <td>-76.691297</td>\n",
       "      <td>39.289582</td>\n",
       "      <td>NaN</td>\n",
       "      <td>OTHER - INSIDE</td>\n",
       "      <td>NaN</td>\n",
       "      <td>1</td>\n",
       "    </tr>\n",
       "    <tr>\n",
       "      <td>1969-07-20 21:00:00</td>\n",
       "      <td>07/20/1969</td>\n",
       "      <td>21:00:00</td>\n",
       "      <td>2A</td>\n",
       "      <td>5400 ROLAND AVE</td>\n",
       "      <td>RAPE</td>\n",
       "      <td>NaN</td>\n",
       "      <td>OTHER</td>\n",
       "      <td>534</td>\n",
       "      <td>NORTHERN</td>\n",
       "      <td>ROLAND PARK</td>\n",
       "      <td>-76.635300</td>\n",
       "      <td>39.358898</td>\n",
       "      <td>NaN</td>\n",
       "      <td>NaN</td>\n",
       "      <td>NaN</td>\n",
       "      <td>1</td>\n",
       "    </tr>\n",
       "    <tr>\n",
       "      <td>1963-10-30 00:00:00</td>\n",
       "      <td>10/30/1963</td>\n",
       "      <td>00:00:00</td>\n",
       "      <td>2A</td>\n",
       "      <td>3100 FERNDALE AVE</td>\n",
       "      <td>RAPE</td>\n",
       "      <td>I</td>\n",
       "      <td>OTHER</td>\n",
       "      <td>622</td>\n",
       "      <td>NORTHWEST</td>\n",
       "      <td>HOWARD PARK</td>\n",
       "      <td>-76.702636</td>\n",
       "      <td>39.326875</td>\n",
       "      <td>NaN</td>\n",
       "      <td>ROW/TOWNHOUSE-OCC</td>\n",
       "      <td>NaN</td>\n",
       "      <td>1</td>\n",
       "    </tr>\n",
       "  </tbody>\n",
       "</table>\n",
       "<p>300336 rows × 16 columns</p>\n",
       "</div>"
      ],
      "text/plain": [
       "                      CrimeDate CrimeTime CrimeCode               Location  \\\n",
       "2020-04-25 17:30:00  04/25/2020  17:30:00        5A       2400 SHIRLEY AVE   \n",
       "2020-04-25 02:40:00  04/25/2020  02:40:00        5A    2900 MOUNT HOLLY ST   \n",
       "2020-04-25 09:30:00  04/25/2020  09:30:00        5C          0 N JANNEY ST   \n",
       "2020-04-25 02:30:00  04/25/2020  02:30:00        4E      900 W SARATOGA ST   \n",
       "2020-04-25 15:30:00  04/25/2020  15:30:00        6C         3700 BOSTON ST   \n",
       "...                         ...       ...       ...                    ...   \n",
       "1978-01-01 10:30:00  01/01/1978  10:30:00        2A        1900 ARGONNE DR   \n",
       "1977-05-01 00:01:00  05/01/1977  00:01:00        2A          600 W 34TH ST   \n",
       "1975-06-01 00:00:00  06/01/1975  00:00:00        2A  4400 OLD FREDERICK RD   \n",
       "1969-07-20 21:00:00  07/20/1969  21:00:00        2A        5400 ROLAND AVE   \n",
       "1963-10-30 00:00:00  10/30/1963  00:00:00        2A      3100 FERNDALE AVE   \n",
       "\n",
       "                        Description Inside/Outside Weapon Post   District  \\\n",
       "2020-04-25 17:30:00        BURGLARY              I    NaN  533   NORTHERN   \n",
       "2020-04-25 02:40:00        BURGLARY              I    NaN  624  NORTHWEST   \n",
       "2020-04-25 09:30:00        BURGLARY              I    NaN  232  SOUTHEAST   \n",
       "2020-04-25 02:30:00  COMMON ASSAULT            NaN    NaN  712    WESTERN   \n",
       "2020-04-25 15:30:00         LARCENY              I    NaN  231  SOUTHEAST   \n",
       "...                             ...            ...    ...  ...        ...   \n",
       "1978-01-01 10:30:00            RAPE              I  OTHER  421  NORTHEAST   \n",
       "1977-05-01 00:01:00            RAPE              I  OTHER  531   NORTHERN   \n",
       "1975-06-01 00:00:00            RAPE              I  OTHER  822  SOUTHWEST   \n",
       "1969-07-20 21:00:00            RAPE            NaN  OTHER  534   NORTHERN   \n",
       "1963-10-30 00:00:00            RAPE              I  OTHER  622  NORTHWEST   \n",
       "\n",
       "                               Neighborhood  Longitude   Latitude  Location 1  \\\n",
       "2020-04-25 17:30:00             GREENSPRING -76.657102  39.336238         NaN   \n",
       "2020-04-25 02:40:00           WINDSOR HILLS -76.682845  39.319594         NaN   \n",
       "2020-04-25 09:30:00                 KRESSON -76.560665  39.293067         NaN   \n",
       "2020-04-25 02:30:00               POPPLETON -76.632368  39.292449         NaN   \n",
       "2020-04-25 15:30:00  CANTON INDUSTRIAL AREA -76.565150  39.277050         NaN   \n",
       "...                                     ...        ...        ...         ...   \n",
       "1978-01-01 10:30:00    MORGAN STATE UNIVERS -76.582056  39.340492         NaN   \n",
       "1977-05-01 00:01:00              WYMAN PARK -76.626880  39.328817         NaN   \n",
       "1975-06-01 00:00:00                 UPLANDS -76.691297  39.289582         NaN   \n",
       "1969-07-20 21:00:00             ROLAND PARK -76.635300  39.358898         NaN   \n",
       "1963-10-30 00:00:00             HOWARD PARK -76.702636  39.326875         NaN   \n",
       "\n",
       "                                Premise vri_name1  Total Incidents  \n",
       "2020-04-25 17:30:00   ROW/TOWNHOUSE-VAC       NaN                1  \n",
       "2020-04-25 02:40:00   ROW/TOWNHOUSE-VAC       NaN                1  \n",
       "2020-04-25 09:30:00   ROW/TOWNHOUSE-VAC       NaN                1  \n",
       "2020-04-25 02:30:00                 NaN       NaN                1  \n",
       "2020-04-25 15:30:00  GROCERY/CONFECTION       NaN                1  \n",
       "...                                 ...       ...              ...  \n",
       "1978-01-01 10:30:00   ROW/TOWNHOUSE-OCC       NaN                1  \n",
       "1977-05-01 00:01:00   ROW/TOWNHOUSE-OCC       NaN                1  \n",
       "1975-06-01 00:00:00      OTHER - INSIDE       NaN                1  \n",
       "1969-07-20 21:00:00                 NaN       NaN                1  \n",
       "1963-10-30 00:00:00   ROW/TOWNHOUSE-OCC       NaN                1  \n",
       "\n",
       "[300336 rows x 16 columns]"
      ]
     },
     "execution_count": 38,
     "metadata": {},
     "output_type": "execute_result"
    }
   ],
   "source": [
    "df.index = pd.to_datetime(df['CrimeDate']+ ' - ' + df['CrimeTime'])\n",
    "df"
   ]
  },
  {
   "cell_type": "code",
   "execution_count": 42,
   "metadata": {
    "ExecuteTime": {
     "end_time": "2020-05-03T21:46:27.295821Z",
     "start_time": "2020-05-03T21:46:27.293068Z"
    }
   },
   "outputs": [],
   "source": [
    "# df.set_index('datetime',inplace=True)\n",
    "# df.index"
   ]
  },
  {
   "cell_type": "code",
   "execution_count": 30,
   "metadata": {
    "ExecuteTime": {
     "end_time": "2020-05-03T21:39:20.899760Z",
     "start_time": "2020-05-03T21:39:20.863041Z"
    }
   },
   "outputs": [
    {
     "data": {
      "text/plain": [
       "LARCENY                 67150\n",
       "COMMON ASSAULT          49600\n",
       "BURGLARY                43110\n",
       "LARCENY FROM AUTO       39757\n",
       "AGG. ASSAULT            32707\n",
       "AUTO THEFT              26456\n",
       "ROBBERY - STREET        21294\n",
       "ROBBERY - COMMERCIAL     5312\n",
       "SHOOTING                 3989\n",
       "ROBBERY - RESIDENCE      3120\n",
       "ROBBERY - CARJACKING     2633\n",
       "HOMICIDE                 1956\n",
       "RAPE                     1952\n",
       "ARSON                    1300\n",
       "Name: Description, dtype: int64"
      ]
     },
     "execution_count": 30,
     "metadata": {},
     "output_type": "execute_result"
    }
   ],
   "source": [
    "df['Description'].value_counts()"
   ]
  },
  {
   "cell_type": "code",
   "execution_count": 5,
   "metadata": {
    "ExecuteTime": {
     "end_time": "2020-05-03T21:10:32.277903Z",
     "start_time": "2020-05-03T21:10:32.260626Z"
    }
   },
   "outputs": [
    {
     "data": {
      "text/html": [
       "<div>\n",
       "<style scoped>\n",
       "    .dataframe tbody tr th:only-of-type {\n",
       "        vertical-align: middle;\n",
       "    }\n",
       "\n",
       "    .dataframe tbody tr th {\n",
       "        vertical-align: top;\n",
       "    }\n",
       "\n",
       "    .dataframe thead th {\n",
       "        text-align: right;\n",
       "    }\n",
       "</style>\n",
       "<table border=\"1\" class=\"dataframe\">\n",
       "  <thead>\n",
       "    <tr style=\"text-align: right;\">\n",
       "      <th></th>\n",
       "      <th>CrimeDate</th>\n",
       "      <th>CrimeTime</th>\n",
       "      <th>CrimeCode</th>\n",
       "      <th>Location</th>\n",
       "      <th>Description</th>\n",
       "      <th>Inside/Outside</th>\n",
       "      <th>Weapon</th>\n",
       "      <th>Post</th>\n",
       "      <th>District</th>\n",
       "      <th>Neighborhood</th>\n",
       "      <th>Longitude</th>\n",
       "      <th>Latitude</th>\n",
       "      <th>Location 1</th>\n",
       "      <th>Premise</th>\n",
       "      <th>vri_name1</th>\n",
       "      <th>Total Incidents</th>\n",
       "    </tr>\n",
       "    <tr>\n",
       "      <th>datetime</th>\n",
       "      <th></th>\n",
       "      <th></th>\n",
       "      <th></th>\n",
       "      <th></th>\n",
       "      <th></th>\n",
       "      <th></th>\n",
       "      <th></th>\n",
       "      <th></th>\n",
       "      <th></th>\n",
       "      <th></th>\n",
       "      <th></th>\n",
       "      <th></th>\n",
       "      <th></th>\n",
       "      <th></th>\n",
       "      <th></th>\n",
       "      <th></th>\n",
       "    </tr>\n",
       "  </thead>\n",
       "  <tbody>\n",
       "    <tr>\n",
       "      <td>04/25/2020 - 17:30:00</td>\n",
       "      <td>04/25/2020</td>\n",
       "      <td>17:30:00</td>\n",
       "      <td>5A</td>\n",
       "      <td>2400 SHIRLEY AVE</td>\n",
       "      <td>BURGLARY</td>\n",
       "      <td>I</td>\n",
       "      <td>NaN</td>\n",
       "      <td>533</td>\n",
       "      <td>NORTHERN</td>\n",
       "      <td>GREENSPRING</td>\n",
       "      <td>-76.657102</td>\n",
       "      <td>39.336238</td>\n",
       "      <td>NaN</td>\n",
       "      <td>ROW/TOWNHOUSE-VAC</td>\n",
       "      <td>NaN</td>\n",
       "      <td>1</td>\n",
       "    </tr>\n",
       "    <tr>\n",
       "      <td>04/25/2020 - 02:40:00</td>\n",
       "      <td>04/25/2020</td>\n",
       "      <td>02:40:00</td>\n",
       "      <td>5A</td>\n",
       "      <td>2900 MOUNT HOLLY ST</td>\n",
       "      <td>BURGLARY</td>\n",
       "      <td>I</td>\n",
       "      <td>NaN</td>\n",
       "      <td>624</td>\n",
       "      <td>NORTHWEST</td>\n",
       "      <td>WINDSOR HILLS</td>\n",
       "      <td>-76.682845</td>\n",
       "      <td>39.319594</td>\n",
       "      <td>NaN</td>\n",
       "      <td>ROW/TOWNHOUSE-VAC</td>\n",
       "      <td>NaN</td>\n",
       "      <td>1</td>\n",
       "    </tr>\n",
       "    <tr>\n",
       "      <td>04/25/2020 - 09:30:00</td>\n",
       "      <td>04/25/2020</td>\n",
       "      <td>09:30:00</td>\n",
       "      <td>5C</td>\n",
       "      <td>0 N JANNEY ST</td>\n",
       "      <td>BURGLARY</td>\n",
       "      <td>I</td>\n",
       "      <td>NaN</td>\n",
       "      <td>232</td>\n",
       "      <td>SOUTHEAST</td>\n",
       "      <td>KRESSON</td>\n",
       "      <td>-76.560665</td>\n",
       "      <td>39.293067</td>\n",
       "      <td>NaN</td>\n",
       "      <td>ROW/TOWNHOUSE-VAC</td>\n",
       "      <td>NaN</td>\n",
       "      <td>1</td>\n",
       "    </tr>\n",
       "    <tr>\n",
       "      <td>04/25/2020 - 02:30:00</td>\n",
       "      <td>04/25/2020</td>\n",
       "      <td>02:30:00</td>\n",
       "      <td>4E</td>\n",
       "      <td>900 W SARATOGA ST</td>\n",
       "      <td>COMMON ASSAULT</td>\n",
       "      <td>NaN</td>\n",
       "      <td>NaN</td>\n",
       "      <td>712</td>\n",
       "      <td>WESTERN</td>\n",
       "      <td>POPPLETON</td>\n",
       "      <td>-76.632368</td>\n",
       "      <td>39.292449</td>\n",
       "      <td>NaN</td>\n",
       "      <td>NaN</td>\n",
       "      <td>NaN</td>\n",
       "      <td>1</td>\n",
       "    </tr>\n",
       "    <tr>\n",
       "      <td>04/25/2020 - 15:30:00</td>\n",
       "      <td>04/25/2020</td>\n",
       "      <td>15:30:00</td>\n",
       "      <td>6C</td>\n",
       "      <td>3700 BOSTON ST</td>\n",
       "      <td>LARCENY</td>\n",
       "      <td>I</td>\n",
       "      <td>NaN</td>\n",
       "      <td>231</td>\n",
       "      <td>SOUTHEAST</td>\n",
       "      <td>CANTON INDUSTRIAL AREA</td>\n",
       "      <td>-76.565150</td>\n",
       "      <td>39.277050</td>\n",
       "      <td>NaN</td>\n",
       "      <td>GROCERY/CONFECTION</td>\n",
       "      <td>NaN</td>\n",
       "      <td>1</td>\n",
       "    </tr>\n",
       "  </tbody>\n",
       "</table>\n",
       "</div>"
      ],
      "text/plain": [
       "                        CrimeDate CrimeTime CrimeCode             Location  \\\n",
       "datetime                                                                     \n",
       "04/25/2020 - 17:30:00  04/25/2020  17:30:00        5A     2400 SHIRLEY AVE   \n",
       "04/25/2020 - 02:40:00  04/25/2020  02:40:00        5A  2900 MOUNT HOLLY ST   \n",
       "04/25/2020 - 09:30:00  04/25/2020  09:30:00        5C        0 N JANNEY ST   \n",
       "04/25/2020 - 02:30:00  04/25/2020  02:30:00        4E    900 W SARATOGA ST   \n",
       "04/25/2020 - 15:30:00  04/25/2020  15:30:00        6C       3700 BOSTON ST   \n",
       "\n",
       "                          Description Inside/Outside Weapon Post   District  \\\n",
       "datetime                                                                      \n",
       "04/25/2020 - 17:30:00        BURGLARY              I    NaN  533   NORTHERN   \n",
       "04/25/2020 - 02:40:00        BURGLARY              I    NaN  624  NORTHWEST   \n",
       "04/25/2020 - 09:30:00        BURGLARY              I    NaN  232  SOUTHEAST   \n",
       "04/25/2020 - 02:30:00  COMMON ASSAULT            NaN    NaN  712    WESTERN   \n",
       "04/25/2020 - 15:30:00         LARCENY              I    NaN  231  SOUTHEAST   \n",
       "\n",
       "                                 Neighborhood  Longitude   Latitude  \\\n",
       "datetime                                                              \n",
       "04/25/2020 - 17:30:00             GREENSPRING -76.657102  39.336238   \n",
       "04/25/2020 - 02:40:00           WINDSOR HILLS -76.682845  39.319594   \n",
       "04/25/2020 - 09:30:00                 KRESSON -76.560665  39.293067   \n",
       "04/25/2020 - 02:30:00               POPPLETON -76.632368  39.292449   \n",
       "04/25/2020 - 15:30:00  CANTON INDUSTRIAL AREA -76.565150  39.277050   \n",
       "\n",
       "                       Location 1             Premise vri_name1  \\\n",
       "datetime                                                          \n",
       "04/25/2020 - 17:30:00         NaN   ROW/TOWNHOUSE-VAC       NaN   \n",
       "04/25/2020 - 02:40:00         NaN   ROW/TOWNHOUSE-VAC       NaN   \n",
       "04/25/2020 - 09:30:00         NaN   ROW/TOWNHOUSE-VAC       NaN   \n",
       "04/25/2020 - 02:30:00         NaN                 NaN       NaN   \n",
       "04/25/2020 - 15:30:00         NaN  GROCERY/CONFECTION       NaN   \n",
       "\n",
       "                       Total Incidents  \n",
       "datetime                                \n",
       "04/25/2020 - 17:30:00                1  \n",
       "04/25/2020 - 02:40:00                1  \n",
       "04/25/2020 - 09:30:00                1  \n",
       "04/25/2020 - 02:30:00                1  \n",
       "04/25/2020 - 15:30:00                1  "
      ]
     },
     "execution_count": 5,
     "metadata": {},
     "output_type": "execute_result"
    }
   ],
   "source": [
    "df.head()"
   ]
  },
  {
   "cell_type": "code",
   "execution_count": 23,
   "metadata": {
    "ExecuteTime": {
     "end_time": "2020-05-03T21:32:39.767153Z",
     "start_time": "2020-05-03T21:32:39.763490Z"
    }
   },
   "outputs": [],
   "source": [
    "## Identify columns to drop/keep\n",
    "drop_cols = ['CrimeDate','CrimeTime','CrimeCode','Location', \n",
    "             'Premise','Post','Neighborhood','Location 1',\n",
    "             'vri_name1','Total Incidents','Weapon','Inside/Outside']\n",
    "\n",
    "id_cols = ['Description','Weapon','Longitude','Latitude']"
   ]
  },
  {
   "cell_type": "code",
   "execution_count": 27,
   "metadata": {
    "ExecuteTime": {
     "end_time": "2020-05-03T21:33:15.507395Z",
     "start_time": "2020-05-03T21:33:15.490485Z"
    }
   },
   "outputs": [
    {
     "data": {
      "text/html": [
       "<div>\n",
       "<style scoped>\n",
       "    .dataframe tbody tr th:only-of-type {\n",
       "        vertical-align: middle;\n",
       "    }\n",
       "\n",
       "    .dataframe tbody tr th {\n",
       "        vertical-align: top;\n",
       "    }\n",
       "\n",
       "    .dataframe thead th {\n",
       "        text-align: right;\n",
       "    }\n",
       "</style>\n",
       "<table border=\"1\" class=\"dataframe\">\n",
       "  <thead>\n",
       "    <tr style=\"text-align: right;\">\n",
       "      <th></th>\n",
       "      <th>Description</th>\n",
       "      <th>District</th>\n",
       "      <th>Longitude</th>\n",
       "      <th>Latitude</th>\n",
       "    </tr>\n",
       "    <tr>\n",
       "      <th>datetime</th>\n",
       "      <th></th>\n",
       "      <th></th>\n",
       "      <th></th>\n",
       "      <th></th>\n",
       "    </tr>\n",
       "  </thead>\n",
       "  <tbody>\n",
       "    <tr>\n",
       "      <td>04/25/2020 - 17:30:00</td>\n",
       "      <td>BURGLARY</td>\n",
       "      <td>NORTHERN</td>\n",
       "      <td>-76.657102</td>\n",
       "      <td>39.336238</td>\n",
       "    </tr>\n",
       "    <tr>\n",
       "      <td>04/25/2020 - 02:40:00</td>\n",
       "      <td>BURGLARY</td>\n",
       "      <td>NORTHWEST</td>\n",
       "      <td>-76.682845</td>\n",
       "      <td>39.319594</td>\n",
       "    </tr>\n",
       "    <tr>\n",
       "      <td>04/25/2020 - 09:30:00</td>\n",
       "      <td>BURGLARY</td>\n",
       "      <td>SOUTHEAST</td>\n",
       "      <td>-76.560665</td>\n",
       "      <td>39.293067</td>\n",
       "    </tr>\n",
       "    <tr>\n",
       "      <td>04/25/2020 - 02:30:00</td>\n",
       "      <td>COMMON ASSAULT</td>\n",
       "      <td>WESTERN</td>\n",
       "      <td>-76.632368</td>\n",
       "      <td>39.292449</td>\n",
       "    </tr>\n",
       "    <tr>\n",
       "      <td>04/25/2020 - 15:30:00</td>\n",
       "      <td>LARCENY</td>\n",
       "      <td>SOUTHEAST</td>\n",
       "      <td>-76.565150</td>\n",
       "      <td>39.277050</td>\n",
       "    </tr>\n",
       "    <tr>\n",
       "      <td>...</td>\n",
       "      <td>...</td>\n",
       "      <td>...</td>\n",
       "      <td>...</td>\n",
       "      <td>...</td>\n",
       "    </tr>\n",
       "    <tr>\n",
       "      <td>01/01/1978 - 10:30:00</td>\n",
       "      <td>RAPE</td>\n",
       "      <td>NORTHEAST</td>\n",
       "      <td>-76.582056</td>\n",
       "      <td>39.340492</td>\n",
       "    </tr>\n",
       "    <tr>\n",
       "      <td>05/01/1977 - 00:01:00</td>\n",
       "      <td>RAPE</td>\n",
       "      <td>NORTHERN</td>\n",
       "      <td>-76.626880</td>\n",
       "      <td>39.328817</td>\n",
       "    </tr>\n",
       "    <tr>\n",
       "      <td>06/01/1975 - 00:00:00</td>\n",
       "      <td>RAPE</td>\n",
       "      <td>SOUTHWEST</td>\n",
       "      <td>-76.691297</td>\n",
       "      <td>39.289582</td>\n",
       "    </tr>\n",
       "    <tr>\n",
       "      <td>07/20/1969 - 21:00:00</td>\n",
       "      <td>RAPE</td>\n",
       "      <td>NORTHERN</td>\n",
       "      <td>-76.635300</td>\n",
       "      <td>39.358898</td>\n",
       "    </tr>\n",
       "    <tr>\n",
       "      <td>10/30/1963 - 00:00:00</td>\n",
       "      <td>RAPE</td>\n",
       "      <td>NORTHWEST</td>\n",
       "      <td>-76.702636</td>\n",
       "      <td>39.326875</td>\n",
       "    </tr>\n",
       "  </tbody>\n",
       "</table>\n",
       "<p>300336 rows × 4 columns</p>\n",
       "</div>"
      ],
      "text/plain": [
       "                          Description   District  Longitude   Latitude\n",
       "datetime                                                              \n",
       "04/25/2020 - 17:30:00        BURGLARY   NORTHERN -76.657102  39.336238\n",
       "04/25/2020 - 02:40:00        BURGLARY  NORTHWEST -76.682845  39.319594\n",
       "04/25/2020 - 09:30:00        BURGLARY  SOUTHEAST -76.560665  39.293067\n",
       "04/25/2020 - 02:30:00  COMMON ASSAULT    WESTERN -76.632368  39.292449\n",
       "04/25/2020 - 15:30:00         LARCENY  SOUTHEAST -76.565150  39.277050\n",
       "...                               ...        ...        ...        ...\n",
       "01/01/1978 - 10:30:00            RAPE  NORTHEAST -76.582056  39.340492\n",
       "05/01/1977 - 00:01:00            RAPE   NORTHERN -76.626880  39.328817\n",
       "06/01/1975 - 00:00:00            RAPE  SOUTHWEST -76.691297  39.289582\n",
       "07/20/1969 - 21:00:00            RAPE   NORTHERN -76.635300  39.358898\n",
       "10/30/1963 - 00:00:00            RAPE  NORTHWEST -76.702636  39.326875\n",
       "\n",
       "[300336 rows x 4 columns]"
      ]
     },
     "execution_count": 27,
     "metadata": {},
     "output_type": "execute_result"
    }
   ],
   "source": [
    "## \n",
    "df.drop(columns=drop_cols,inplace=True)\n",
    "df"
   ]
  },
  {
   "cell_type": "code",
   "execution_count": 25,
   "metadata": {
    "ExecuteTime": {
     "end_time": "2020-05-03T21:32:46.640428Z",
     "start_time": "2020-05-03T21:32:46.226499Z"
    }
   },
   "outputs": [],
   "source": [
    "## make a dict of all crime types \n",
    "CRIMES = {}\n",
    "for crime in df['Description'].unique():\n",
    "    group  = df.groupby('Description').get_group(crime)\n",
    "    group[crime] = (group['Description'] == crime).astype(int)\n",
    "    CRIMES[crime] = group"
   ]
  },
  {
   "cell_type": "code",
   "execution_count": 26,
   "metadata": {
    "ExecuteTime": {
     "end_time": "2020-05-03T21:32:48.150998Z",
     "start_time": "2020-05-03T21:32:48.146754Z"
    }
   },
   "outputs": [
    {
     "data": {
      "text/plain": [
       "dict_keys(['BURGLARY', 'COMMON ASSAULT', 'LARCENY', 'ROBBERY - STREET', 'AUTO THEFT', 'AGG. ASSAULT', 'LARCENY FROM AUTO', 'SHOOTING', 'ROBBERY - RESIDENCE', 'ROBBERY - COMMERCIAL', 'ARSON', 'HOMICIDE', 'ROBBERY - CARJACKING', 'RAPE'])"
      ]
     },
     "execution_count": 26,
     "metadata": {},
     "output_type": "execute_result"
    }
   ],
   "source": [
    "CRIMES.keys()"
   ]
  },
  {
   "cell_type": "code",
   "execution_count": 22,
   "metadata": {
    "ExecuteTime": {
     "end_time": "2020-05-03T21:32:18.471969Z",
     "start_time": "2020-05-03T21:32:18.457425Z"
    }
   },
   "outputs": [
    {
     "data": {
      "text/html": [
       "<div>\n",
       "<style scoped>\n",
       "    .dataframe tbody tr th:only-of-type {\n",
       "        vertical-align: middle;\n",
       "    }\n",
       "\n",
       "    .dataframe tbody tr th {\n",
       "        vertical-align: top;\n",
       "    }\n",
       "\n",
       "    .dataframe thead th {\n",
       "        text-align: right;\n",
       "    }\n",
       "</style>\n",
       "<table border=\"1\" class=\"dataframe\">\n",
       "  <thead>\n",
       "    <tr style=\"text-align: right;\">\n",
       "      <th></th>\n",
       "      <th>Description</th>\n",
       "      <th>Inside/Outside</th>\n",
       "      <th>District</th>\n",
       "      <th>Longitude</th>\n",
       "      <th>Latitude</th>\n",
       "      <th>SHOOTING</th>\n",
       "    </tr>\n",
       "    <tr>\n",
       "      <th>datetime</th>\n",
       "      <th></th>\n",
       "      <th></th>\n",
       "      <th></th>\n",
       "      <th></th>\n",
       "      <th></th>\n",
       "      <th></th>\n",
       "    </tr>\n",
       "  </thead>\n",
       "  <tbody>\n",
       "    <tr>\n",
       "      <td>04/25/2020 - 16:09:00</td>\n",
       "      <td>SHOOTING</td>\n",
       "      <td>Outside</td>\n",
       "      <td>CENTRAL</td>\n",
       "      <td>-76.623695</td>\n",
       "      <td>39.288378</td>\n",
       "      <td>1</td>\n",
       "    </tr>\n",
       "    <tr>\n",
       "      <td>04/24/2020 - 15:59:00</td>\n",
       "      <td>SHOOTING</td>\n",
       "      <td>Outside</td>\n",
       "      <td>EASTERN</td>\n",
       "      <td>-76.584030</td>\n",
       "      <td>39.312696</td>\n",
       "      <td>1</td>\n",
       "    </tr>\n",
       "    <tr>\n",
       "      <td>04/22/2020 - 22:30:00</td>\n",
       "      <td>SHOOTING</td>\n",
       "      <td>Inside</td>\n",
       "      <td>SOUTHWEST</td>\n",
       "      <td>-76.674078</td>\n",
       "      <td>39.273023</td>\n",
       "      <td>1</td>\n",
       "    </tr>\n",
       "    <tr>\n",
       "      <td>04/22/2020 - 17:49:00</td>\n",
       "      <td>SHOOTING</td>\n",
       "      <td>Outside</td>\n",
       "      <td>EASTERN</td>\n",
       "      <td>-76.581519</td>\n",
       "      <td>39.298946</td>\n",
       "      <td>1</td>\n",
       "    </tr>\n",
       "    <tr>\n",
       "      <td>04/22/2020 - 17:55:00</td>\n",
       "      <td>SHOOTING</td>\n",
       "      <td>Outside</td>\n",
       "      <td>WESTERN</td>\n",
       "      <td>-76.639655</td>\n",
       "      <td>39.291300</td>\n",
       "      <td>1</td>\n",
       "    </tr>\n",
       "    <tr>\n",
       "      <td>...</td>\n",
       "      <td>...</td>\n",
       "      <td>...</td>\n",
       "      <td>...</td>\n",
       "      <td>...</td>\n",
       "      <td>...</td>\n",
       "      <td>...</td>\n",
       "    </tr>\n",
       "    <tr>\n",
       "      <td>01/05/2014 - 16:30:00</td>\n",
       "      <td>SHOOTING</td>\n",
       "      <td>Outside</td>\n",
       "      <td>SOUTHWEST</td>\n",
       "      <td>-76.688085</td>\n",
       "      <td>39.296987</td>\n",
       "      <td>1</td>\n",
       "    </tr>\n",
       "    <tr>\n",
       "      <td>01/05/2014 - 19:41:00</td>\n",
       "      <td>SHOOTING</td>\n",
       "      <td>Outside</td>\n",
       "      <td>CENTRAL</td>\n",
       "      <td>-76.634616</td>\n",
       "      <td>39.300554</td>\n",
       "      <td>1</td>\n",
       "    </tr>\n",
       "    <tr>\n",
       "      <td>01/03/2014 - 14:32:00</td>\n",
       "      <td>SHOOTING</td>\n",
       "      <td>Outside</td>\n",
       "      <td>WESTERN</td>\n",
       "      <td>-76.645355</td>\n",
       "      <td>39.289607</td>\n",
       "      <td>1</td>\n",
       "    </tr>\n",
       "    <tr>\n",
       "      <td>01/01/2014 - 17:35:00</td>\n",
       "      <td>SHOOTING</td>\n",
       "      <td>Outside</td>\n",
       "      <td>NORTHWEST</td>\n",
       "      <td>-76.672260</td>\n",
       "      <td>39.350624</td>\n",
       "      <td>1</td>\n",
       "    </tr>\n",
       "    <tr>\n",
       "      <td>01/01/2014 - 22:31:00</td>\n",
       "      <td>SHOOTING</td>\n",
       "      <td>Outside</td>\n",
       "      <td>NORTHEAST</td>\n",
       "      <td>-76.555139</td>\n",
       "      <td>39.354011</td>\n",
       "      <td>1</td>\n",
       "    </tr>\n",
       "  </tbody>\n",
       "</table>\n",
       "<p>3989 rows × 6 columns</p>\n",
       "</div>"
      ],
      "text/plain": [
       "                      Description Inside/Outside   District  Longitude  \\\n",
       "datetime                                                                 \n",
       "04/25/2020 - 16:09:00    SHOOTING        Outside    CENTRAL -76.623695   \n",
       "04/24/2020 - 15:59:00    SHOOTING        Outside    EASTERN -76.584030   \n",
       "04/22/2020 - 22:30:00    SHOOTING         Inside  SOUTHWEST -76.674078   \n",
       "04/22/2020 - 17:49:00    SHOOTING        Outside    EASTERN -76.581519   \n",
       "04/22/2020 - 17:55:00    SHOOTING        Outside    WESTERN -76.639655   \n",
       "...                           ...            ...        ...        ...   \n",
       "01/05/2014 - 16:30:00    SHOOTING        Outside  SOUTHWEST -76.688085   \n",
       "01/05/2014 - 19:41:00    SHOOTING        Outside    CENTRAL -76.634616   \n",
       "01/03/2014 - 14:32:00    SHOOTING        Outside    WESTERN -76.645355   \n",
       "01/01/2014 - 17:35:00    SHOOTING        Outside  NORTHWEST -76.672260   \n",
       "01/01/2014 - 22:31:00    SHOOTING        Outside  NORTHEAST -76.555139   \n",
       "\n",
       "                        Latitude  SHOOTING  \n",
       "datetime                                    \n",
       "04/25/2020 - 16:09:00  39.288378         1  \n",
       "04/24/2020 - 15:59:00  39.312696         1  \n",
       "04/22/2020 - 22:30:00  39.273023         1  \n",
       "04/22/2020 - 17:49:00  39.298946         1  \n",
       "04/22/2020 - 17:55:00  39.291300         1  \n",
       "...                          ...       ...  \n",
       "01/05/2014 - 16:30:00  39.296987         1  \n",
       "01/05/2014 - 19:41:00  39.300554         1  \n",
       "01/03/2014 - 14:32:00  39.289607         1  \n",
       "01/01/2014 - 17:35:00  39.350624         1  \n",
       "01/01/2014 - 22:31:00  39.354011         1  \n",
       "\n",
       "[3989 rows x 6 columns]"
      ]
     },
     "execution_count": 22,
     "metadata": {},
     "output_type": "execute_result"
    }
   ],
   "source": [
    "CRIMES['SHOOTING']"
   ]
  },
  {
   "cell_type": "code",
   "execution_count": null,
   "metadata": {
    "ExecuteTime": {
     "end_time": "2020-05-03T21:06:37.425647Z",
     "start_time": "2020-05-03T21:06:37.334132Z"
    }
   },
   "outputs": [],
   "source": [
    "df['SHOOTING'] = (df['Description'] == 'SHOOTING').astype(int)\n",
    "df\n"
   ]
  },
  {
   "cell_type": "markdown",
   "metadata": {},
   "source": [
    "## Baltimore Crime - 2019 Data"
   ]
  },
  {
   "cell_type": "code",
   "execution_count": null,
   "metadata": {
    "ExecuteTime": {
     "end_time": "2020-05-03T00:09:56.411901Z",
     "start_time": "2020-05-03T00:09:52.558391Z"
    }
   },
   "outputs": [],
   "source": [
    "baltimore_crime =\"https://raw.githubusercontent.com/jirvingphd/fsds_100719/master/fsds_100719/data/BPD_Part_1_Victim_Based_Crime_Data.csv\"\n",
    "df = pd.read_csv(baltimore_crime,low_memory=False,\n",
    "                 parse_dates=[\"CrimeDate\",\"CrimeTime\"])#,\n",
    "#                 index_col='CrimeDate')\n",
    "display(df.head())\n",
    "mpl.rcParams['figure.figsize']= (12,8)\n",
    "df.index"
   ]
  },
  {
   "cell_type": "code",
   "execution_count": null,
   "metadata": {
    "ExecuteTime": {
     "end_time": "2020-05-03T00:09:56.476158Z",
     "start_time": "2020-05-03T00:09:56.413402Z"
    }
   },
   "outputs": [],
   "source": [
    "df['datetime'] =df['CrimeDate'] #'CrimeTime'].copy()\n",
    "df.set_index('datetime',inplace=True)\n",
    "df.sort_index(inplace=True)\n",
    "df"
   ]
  },
  {
   "cell_type": "code",
   "execution_count": null,
   "metadata": {
    "ExecuteTime": {
     "end_time": "2020-05-03T00:09:56.536599Z",
     "start_time": "2020-05-03T00:09:56.477623Z"
    }
   },
   "outputs": [],
   "source": [
    "df.sort_index(inplace=True)\n",
    "df = df.loc['2014':].copy()\n",
    "df.index"
   ]
  },
  {
   "cell_type": "markdown",
   "metadata": {},
   "source": [
    "### Which crimes were the most common?"
   ]
  },
  {
   "cell_type": "code",
   "execution_count": null,
   "metadata": {
    "ExecuteTime": {
     "end_time": "2020-05-03T00:09:56.735603Z",
     "start_time": "2020-05-03T00:09:56.537891Z"
    }
   },
   "outputs": [],
   "source": [
    "ax=df[\"Description\"].value_counts(ascending=True).plot(kind='barh')\n",
    "ax.set_xlabel('Number of Crimes')"
   ]
  },
  {
   "cell_type": "code",
   "execution_count": null,
   "metadata": {
    "ExecuteTime": {
     "end_time": "2020-05-03T00:09:56.927723Z",
     "start_time": "2020-05-03T00:09:56.737135Z"
    }
   },
   "outputs": [],
   "source": [
    "ax=df[\"Description\"].value_counts(ascending=True, normalize=True).plot(kind='barh')\n",
    "# ax.xaxis.set_major_formatter(mpl.ticker.FormatStrFormatter(\"%d.2\\%\"))\n",
    "ax.set_xlabel('Portion of Crimes')"
   ]
  },
  {
   "cell_type": "code",
   "execution_count": null,
   "metadata": {
    "ExecuteTime": {
     "end_time": "2020-05-03T00:09:56.943236Z",
     "start_time": "2020-05-03T00:09:56.929404Z"
    }
   },
   "outputs": [],
   "source": [
    "df.head()"
   ]
  },
  {
   "cell_type": "markdown",
   "metadata": {},
   "source": [
    "### Making df_crimes"
   ]
  },
  {
   "cell_type": "code",
   "execution_count": null,
   "metadata": {
    "ExecuteTime": {
     "end_time": "2020-05-03T00:09:56.946593Z",
     "start_time": "2020-05-03T00:09:56.944621Z"
    }
   },
   "outputs": [],
   "source": [
    "pd.set_option('display.max_columns',0)"
   ]
  },
  {
   "cell_type": "code",
   "execution_count": null,
   "metadata": {
    "ExecuteTime": {
     "end_time": "2020-05-03T00:09:57.080359Z",
     "start_time": "2020-05-03T00:09:56.947726Z"
    }
   },
   "outputs": [],
   "source": [
    "df_crimes = pd.get_dummies(df,columns=['Description'])\n",
    "df_crimes"
   ]
  },
  {
   "cell_type": "markdown",
   "metadata": {},
   "source": [
    "___"
   ]
  },
  {
   "cell_type": "code",
   "execution_count": null,
   "metadata": {
    "ExecuteTime": {
     "end_time": "2020-05-03T00:09:57.085175Z",
     "start_time": "2020-05-03T00:09:57.081642Z"
    }
   },
   "outputs": [],
   "source": [
    "crime_cols = [col for col in df_crimes.columns if 'Description_' in col]\n",
    "crime_cols"
   ]
  },
  {
   "cell_type": "code",
   "execution_count": null,
   "metadata": {
    "ExecuteTime": {
     "end_time": "2020-05-03T00:09:57.090042Z",
     "start_time": "2020-05-03T00:09:57.086350Z"
    }
   },
   "outputs": [],
   "source": [
    "new_names = [x.replace('Description_','') for x in crime_cols]\n",
    "new_names"
   ]
  },
  {
   "cell_type": "code",
   "execution_count": null,
   "metadata": {
    "ExecuteTime": {
     "end_time": "2020-05-03T00:09:57.094929Z",
     "start_time": "2020-05-03T00:09:57.091463Z"
    }
   },
   "outputs": [],
   "source": [
    "df_crimes.columns"
   ]
  },
  {
   "cell_type": "code",
   "execution_count": null,
   "metadata": {
    "ExecuteTime": {
     "end_time": "2020-05-03T00:09:57.099678Z",
     "start_time": "2020-05-03T00:09:57.096220Z"
    }
   },
   "outputs": [],
   "source": [
    "rename_dict = dict(zip(crime_cols,new_names))\n",
    "rename_dict"
   ]
  },
  {
   "cell_type": "code",
   "execution_count": null,
   "metadata": {
    "ExecuteTime": {
     "end_time": "2020-05-03T00:09:57.290944Z",
     "start_time": "2020-05-03T00:09:57.100894Z"
    }
   },
   "outputs": [],
   "source": [
    "df_crimes.rename(rename_dict,axis=1,inplace=True)\n",
    "df_crimes"
   ]
  },
  {
   "cell_type": "code",
   "execution_count": null,
   "metadata": {
    "ExecuteTime": {
     "end_time": "2020-05-03T00:09:57.345795Z",
     "start_time": "2020-05-03T00:09:57.292261Z"
    }
   },
   "outputs": [],
   "source": [
    "df_crimes"
   ]
  },
  {
   "cell_type": "code",
   "execution_count": null,
   "metadata": {
    "ExecuteTime": {
     "end_time": "2020-05-03T00:09:57.348992Z",
     "start_time": "2020-05-03T00:09:57.347207Z"
    }
   },
   "outputs": [],
   "source": [
    "# df_crimes['datetime'] = df_crimes['CrimeDate'].copy()\n",
    "# df_crimes.set_index('datetime',inplace=True)\n",
    "# df_crimes"
   ]
  },
  {
   "cell_type": "markdown",
   "metadata": {},
   "source": [
    "### Visualize then Get Counts"
   ]
  },
  {
   "cell_type": "code",
   "execution_count": null,
   "metadata": {
    "ExecuteTime": {
     "end_time": "2020-05-03T00:09:57.354033Z",
     "start_time": "2020-05-03T00:09:57.350466Z"
    }
   },
   "outputs": [],
   "source": [
    "keep_cols = ['CrimeDate','CrimeTime']\n",
    "keep_cols.extend(new_names)\n",
    "keep_cols"
   ]
  },
  {
   "cell_type": "code",
   "execution_count": null,
   "metadata": {
    "ExecuteTime": {
     "end_time": "2020-05-03T00:09:57.391161Z",
     "start_time": "2020-05-03T00:09:57.355374Z"
    }
   },
   "outputs": [],
   "source": [
    "df_crimes = df_crimes[keep_cols].copy()\n",
    "df_crimes"
   ]
  },
  {
   "cell_type": "code",
   "execution_count": null,
   "metadata": {
    "ExecuteTime": {
     "end_time": "2020-05-03T00:09:57.957029Z",
     "start_time": "2020-05-03T00:09:57.392628Z"
    }
   },
   "outputs": [],
   "source": [
    "df_crimes.groupby('CrimeDate')[new_names].sum().plot()"
   ]
  },
  {
   "cell_type": "markdown",
   "metadata": {},
   "source": [
    "### Using `pd.Grouper`"
   ]
  },
  {
   "cell_type": "code",
   "execution_count": null,
   "metadata": {
    "ExecuteTime": {
     "end_time": "2020-05-03T00:09:58.477053Z",
     "start_time": "2020-05-03T00:09:57.958065Z"
    }
   },
   "outputs": [],
   "source": [
    "df_crimes.groupby(pd.Grouper(freq='D')).sum().plot()"
   ]
  },
  {
   "cell_type": "code",
   "execution_count": null,
   "metadata": {
    "ExecuteTime": {
     "end_time": "2020-05-03T00:09:58.964593Z",
     "start_time": "2020-05-03T00:09:58.477999Z"
    }
   },
   "outputs": [],
   "source": [
    "df_counts = df_crimes.groupby(pd.Grouper(freq='D')).sum()\n",
    "df_counts.plot()"
   ]
  },
  {
   "cell_type": "code",
   "execution_count": null,
   "metadata": {
    "ExecuteTime": {
     "end_time": "2020-05-03T00:09:59.279028Z",
     "start_time": "2020-05-03T00:09:58.967761Z"
    }
   },
   "outputs": [],
   "source": [
    "df_counts['SHOOTING'].plot()"
   ]
  },
  {
   "cell_type": "code",
   "execution_count": null,
   "metadata": {
    "ExecuteTime": {
     "end_time": "2020-05-03T00:10:00.468750Z",
     "start_time": "2020-05-03T00:09:59.280611Z"
    }
   },
   "outputs": [],
   "source": [
    "for freq_code in ['D','W','M']:\n",
    "    ax= df_crimes.groupby(pd.Grouper(freq=freq_code)).sum().plot()\n",
    "    ax.set_title(f\"Freq Code={freq_code}\")\n",
    "#     ax.legend(None)\n",
    "    "
   ]
  },
  {
   "cell_type": "markdown",
   "metadata": {},
   "source": [
    "### Working with df_counts\n"
   ]
  },
  {
   "cell_type": "code",
   "execution_count": null,
   "metadata": {
    "ExecuteTime": {
     "end_time": "2020-05-03T00:10:00.697045Z",
     "start_time": "2020-05-03T00:10:00.470002Z"
    }
   },
   "outputs": [],
   "source": [
    "df_counts.to_csv('datasets/baltimore_crime_counts_2014-2019.csv')\n",
    "df_counts = pd.read_csv('datasets/baltimore_crime_counts_2014-2019.csv',parse_dates=True, index_col='datetime')\n",
    "df_counts"
   ]
  },
  {
   "cell_type": "code",
   "execution_count": null,
   "metadata": {},
   "outputs": [],
   "source": []
  },
  {
   "cell_type": "markdown",
   "metadata": {},
   "source": [
    "# Removing Trends \n",
    "- .diff()\n",
    "- np.log\n",
    "- subtract rolling mean\n",
    "- seasonal decomposition"
   ]
  },
  {
   "cell_type": "code",
   "execution_count": null,
   "metadata": {
    "ExecuteTime": {
     "end_time": "2020-05-03T00:10:00.698343Z",
     "start_time": "2020-05-03T00:09:48.678Z"
    }
   },
   "outputs": [],
   "source": [
    "col = 'COMMON ASSAULT'\n",
    "ts = df_counts[col].copy()\n",
    "ts.loc['2014':'2016'].plot(figsize=(12,4))#style='.b')"
   ]
  },
  {
   "cell_type": "markdown",
   "metadata": {},
   "source": [
    "## Seasonal Decomposition"
   ]
  },
  {
   "cell_type": "code",
   "execution_count": null,
   "metadata": {
    "ExecuteTime": {
     "end_time": "2020-05-03T00:10:00.699171Z",
     "start_time": "2020-05-03T00:09:48.680Z"
    }
   },
   "outputs": [],
   "source": [
    "ts=ts.loc['2014':'2016']"
   ]
  },
  {
   "cell_type": "code",
   "execution_count": null,
   "metadata": {
    "ExecuteTime": {
     "end_time": "2020-05-03T00:10:00.699945Z",
     "start_time": "2020-05-03T00:09:48.682Z"
    }
   },
   "outputs": [],
   "source": [
    "from statsmodels.tsa.seasonal import seasonal_decompose\n",
    "decomp = seasonal_decompose(ts)#,model='mul')\n",
    "decomp.plot();"
   ]
  },
  {
   "cell_type": "code",
   "execution_count": null,
   "metadata": {
    "ExecuteTime": {
     "end_time": "2020-05-03T00:10:00.700815Z",
     "start_time": "2020-05-03T00:09:48.684Z"
    }
   },
   "outputs": [],
   "source": [
    "trend = decomp.trend\n",
    "residuals = decomp.resid\n",
    "seasonal = decomp.seasonal"
   ]
  },
  {
   "cell_type": "code",
   "execution_count": null,
   "metadata": {
    "ExecuteTime": {
     "end_time": "2020-05-03T00:10:00.701439Z",
     "start_time": "2020-05-03T00:09:48.686Z"
    }
   },
   "outputs": [],
   "source": [
    "ts.plot()\n",
    "residuals.plot(label='Residuals')\n",
    "plt.legend()"
   ]
  },
  {
   "cell_type": "code",
   "execution_count": null,
   "metadata": {
    "ExecuteTime": {
     "end_time": "2020-05-03T00:10:00.702260Z",
     "start_time": "2020-05-03T00:09:48.689Z"
    }
   },
   "outputs": [],
   "source": [
    "fs.ihelp(stationarity_check,False)"
   ]
  },
  {
   "cell_type": "code",
   "execution_count": null,
   "metadata": {
    "ExecuteTime": {
     "end_time": "2020-05-03T00:10:00.702846Z",
     "start_time": "2020-05-03T00:09:48.691Z"
    }
   },
   "outputs": [],
   "source": [
    "from statsmodels.tsa.stattools import adfuller\n",
    "adfuller()"
   ]
  },
  {
   "cell_type": "code",
   "execution_count": null,
   "metadata": {
    "ExecuteTime": {
     "end_time": "2020-05-03T00:10:00.704174Z",
     "start_time": "2020-05-03T00:09:48.693Z"
    }
   },
   "outputs": [],
   "source": [
    "stationarity_check(ts);"
   ]
  },
  {
   "cell_type": "code",
   "execution_count": null,
   "metadata": {
    "ExecuteTime": {
     "end_time": "2020-05-03T00:10:00.705099Z",
     "start_time": "2020-05-03T00:09:48.694Z"
    }
   },
   "outputs": [],
   "source": [
    "ts.interpolate(method='time',inplace=True)\n",
    "decomp = seasonal_decompose(ts)\n"
   ]
  },
  {
   "cell_type": "code",
   "execution_count": null,
   "metadata": {
    "ExecuteTime": {
     "end_time": "2020-05-03T00:10:00.705947Z",
     "start_time": "2020-05-03T00:09:48.696Z"
    }
   },
   "outputs": [],
   "source": [
    "stationarity_check(ts)"
   ]
  },
  {
   "cell_type": "code",
   "execution_count": null,
   "metadata": {
    "ExecuteTime": {
     "end_time": "2020-05-03T00:10:00.706853Z",
     "start_time": "2020-05-03T00:09:48.698Z"
    }
   },
   "outputs": [],
   "source": [
    "stationarity_check(decomp.resid.dropna());"
   ]
  },
  {
   "cell_type": "markdown",
   "metadata": {},
   "source": [
    "- .diff()\n",
    "- np.log\n",
    "- subtract rolling mean\n",
    "- seasonal decomposition"
   ]
  },
  {
   "cell_type": "code",
   "execution_count": null,
   "metadata": {
    "ExecuteTime": {
     "end_time": "2020-05-03T00:10:00.707731Z",
     "start_time": "2020-05-03T00:09:48.702Z"
    }
   },
   "outputs": [],
   "source": [
    "ts.plot()"
   ]
  },
  {
   "cell_type": "code",
   "execution_count": null,
   "metadata": {
    "ExecuteTime": {
     "end_time": "2020-05-03T00:10:00.708549Z",
     "start_time": "2020-05-03T00:09:48.704Z"
    }
   },
   "outputs": [],
   "source": [
    "\n",
    "# plt.plot(np.log(ts))"
   ]
  },
  {
   "cell_type": "markdown",
   "metadata": {},
   "source": [
    "# ACF & PACF"
   ]
  },
  {
   "cell_type": "code",
   "execution_count": null,
   "metadata": {
    "ExecuteTime": {
     "end_time": "2020-05-03T00:10:00.709482Z",
     "start_time": "2020-05-03T00:09:48.707Z"
    }
   },
   "outputs": [],
   "source": [
    "from statsmodels.graphics.tsaplots import plot_acf,plot_pacf\n",
    "mpl.rcParams['figure.figsize'] = (12,4)\n",
    "plot_acf(ts);\n",
    "plt.xlabel(\"Number Lag\")\n",
    "# fig=ax.get_figure()\n",
    "\n",
    "# fig.set_size_inches(12,4)\n",
    "# fig\n"
   ]
  },
  {
   "cell_type": "code",
   "execution_count": null,
   "metadata": {},
   "outputs": [],
   "source": []
  },
  {
   "cell_type": "code",
   "execution_count": null,
   "metadata": {
    "ExecuteTime": {
     "end_time": "2020-05-03T00:10:00.710282Z",
     "start_time": "2020-05-03T00:09:48.710Z"
    }
   },
   "outputs": [],
   "source": [
    "\n",
    "ts.plot()"
   ]
  },
  {
   "cell_type": "markdown",
   "metadata": {},
   "source": [
    "#  ARIMA/SARIMA\n",
    "- SEE `sect_32_time_series_models.ipynb`"
   ]
  },
  {
   "cell_type": "markdown",
   "metadata": {},
   "source": [
    "# HOUSING DATA FROM LAST CLASS"
   ]
  },
  {
   "cell_type": "code",
   "execution_count": null,
   "metadata": {},
   "outputs": [],
   "source": []
  },
  {
   "cell_type": "code",
   "execution_count": null,
   "metadata": {
    "ExecuteTime": {
     "end_time": "2020-05-03T00:10:00.711242Z",
     "start_time": "2020-05-03T00:09:48.713Z"
    }
   },
   "outputs": [],
   "source": [
    "df = fs.datasets.load_mod1_proj()\n",
    "df.head()"
   ]
  },
  {
   "cell_type": "code",
   "execution_count": null,
   "metadata": {
    "ExecuteTime": {
     "end_time": "2020-05-03T00:10:00.712092Z",
     "start_time": "2020-05-03T00:09:48.715Z"
    }
   },
   "outputs": [],
   "source": [
    "df.info()"
   ]
  },
  {
   "cell_type": "code",
   "execution_count": null,
   "metadata": {
    "ExecuteTime": {
     "end_time": "2020-05-03T00:10:00.712949Z",
     "start_time": "2020-05-03T00:09:48.717Z"
    }
   },
   "outputs": [],
   "source": [
    "date = pd.to_datetime(df['date'])\n",
    "date"
   ]
  },
  {
   "cell_type": "code",
   "execution_count": null,
   "metadata": {
    "ExecuteTime": {
     "end_time": "2020-05-03T00:10:00.713896Z",
     "start_time": "2020-05-03T00:09:48.719Z"
    }
   },
   "outputs": [],
   "source": [
    "df['d_date'] = pd.to_datetime(df['date'])\n",
    "display(df.head())\n",
    "df.dtypes"
   ]
  },
  {
   "cell_type": "code",
   "execution_count": null,
   "metadata": {
    "ExecuteTime": {
     "end_time": "2020-05-03T00:10:00.714747Z",
     "start_time": "2020-05-03T00:09:48.720Z"
    }
   },
   "outputs": [],
   "source": [
    "df.set_index('d_date',inplace=True)\n",
    "df.index"
   ]
  },
  {
   "cell_type": "code",
   "execution_count": null,
   "metadata": {
    "ExecuteTime": {
     "end_time": "2020-05-03T00:10:00.715662Z",
     "start_time": "2020-05-03T00:09:48.722Z"
    }
   },
   "outputs": [],
   "source": [
    "mpl.rcParams['figure.figsize'] = (12,6)"
   ]
  },
  {
   "cell_type": "code",
   "execution_count": null,
   "metadata": {
    "ExecuteTime": {
     "end_time": "2020-05-03T00:10:00.716603Z",
     "start_time": "2020-05-03T00:09:48.724Z"
    }
   },
   "outputs": [],
   "source": [
    "df['price'].plot()"
   ]
  },
  {
   "cell_type": "markdown",
   "metadata": {},
   "source": [
    "### Slicing With Time Series"
   ]
  },
  {
   "cell_type": "markdown",
   "metadata": {},
   "source": [
    "- Make sure you're index is sorted first'\n",
    "- Feed in 2 dates as strings for slicing.\n",
    "- Always use .loc when slicing dates"
   ]
  },
  {
   "cell_type": "code",
   "execution_count": null,
   "metadata": {
    "ExecuteTime": {
     "end_time": "2020-05-03T00:10:00.717409Z",
     "start_time": "2020-05-03T00:09:48.726Z"
    }
   },
   "outputs": [],
   "source": [
    "df.sort_index(inplace=True)"
   ]
  },
  {
   "cell_type": "code",
   "execution_count": null,
   "metadata": {
    "ExecuteTime": {
     "end_time": "2020-05-03T00:10:00.718341Z",
     "start_time": "2020-05-03T00:09:48.728Z"
    },
    "scrolled": false
   },
   "outputs": [],
   "source": [
    "df.loc['2014-05-01':'2015-05-01','price'].plot().autoscale(axis='x',tight=True)"
   ]
  },
  {
   "cell_type": "markdown",
   "metadata": {},
   "source": [
    "## Time series Frequencies\n"
   ]
  },
  {
   "cell_type": "code",
   "execution_count": null,
   "metadata": {
    "ExecuteTime": {
     "end_time": "2020-05-03T00:10:00.719226Z",
     "start_time": "2020-05-03T00:09:48.730Z"
    }
   },
   "outputs": [],
   "source": [
    "df.index"
   ]
  },
  {
   "cell_type": "code",
   "execution_count": null,
   "metadata": {},
   "outputs": [],
   "source": []
  },
  {
   "cell_type": "code",
   "execution_count": null,
   "metadata": {
    "ExecuteTime": {
     "end_time": "2020-05-03T00:10:00.720109Z",
     "start_time": "2020-05-03T00:09:48.733Z"
    }
   },
   "outputs": [],
   "source": [
    "df.index"
   ]
  },
  {
   "cell_type": "code",
   "execution_count": null,
   "metadata": {
    "ExecuteTime": {
     "end_time": "2020-05-03T00:10:00.720950Z",
     "start_time": "2020-05-03T00:09:48.734Z"
    }
   },
   "outputs": [],
   "source": [
    "ts = df['price']"
   ]
  },
  {
   "cell_type": "code",
   "execution_count": null,
   "metadata": {
    "ExecuteTime": {
     "end_time": "2020-05-03T00:10:00.721819Z",
     "start_time": "2020-05-03T00:09:48.736Z"
    },
    "scrolled": false
   },
   "outputs": [],
   "source": [
    "freq_codes = ['D','3D','W','M', 'Q']\n",
    "for freq in freq_codes:\n",
    "    plt.figure()\n",
    "    title=f\"Freq Code: {freq}\"\n",
    "    plt.legend()\n",
    "    ts.resample(freq).mean().plot(title=title)\n",
    "    \n",
    "ax = ts.resample('M').mean().plot(kind='bar')"
   ]
  },
  {
   "cell_type": "code",
   "execution_count": null,
   "metadata": {
    "ExecuteTime": {
     "end_time": "2020-05-03T00:10:00.722697Z",
     "start_time": "2020-05-03T00:09:48.737Z"
    }
   },
   "outputs": [],
   "source": [
    "\n",
    "ts.resample('D').mean().plot()"
   ]
  },
  {
   "cell_type": "code",
   "execution_count": null,
   "metadata": {},
   "outputs": [],
   "source": []
  },
  {
   "cell_type": "markdown",
   "metadata": {},
   "source": [
    "## Using Datetime objects and apply statemements"
   ]
  },
  {
   "cell_type": "code",
   "execution_count": null,
   "metadata": {
    "ExecuteTime": {
     "end_time": "2020-05-03T00:10:00.723555Z",
     "start_time": "2020-05-03T00:09:48.741Z"
    }
   },
   "outputs": [],
   "source": [
    "display(df.head())\n",
    "df.dtypes"
   ]
  },
  {
   "cell_type": "code",
   "execution_count": null,
   "metadata": {
    "ExecuteTime": {
     "end_time": "2020-05-03T00:10:00.724462Z",
     "start_time": "2020-05-03T00:09:48.742Z"
    }
   },
   "outputs": [],
   "source": [
    "t = df.index.to_series()[0]\n",
    "display(t)\n",
    "print(t)"
   ]
  },
  {
   "cell_type": "code",
   "execution_count": null,
   "metadata": {
    "ExecuteTime": {
     "end_time": "2020-05-03T00:10:00.725309Z",
     "start_time": "2020-05-03T00:09:48.744Z"
    }
   },
   "outputs": [],
   "source": [
    "# help(t.strptime)"
   ]
  },
  {
   "cell_type": "code",
   "execution_count": null,
   "metadata": {
    "ExecuteTime": {
     "end_time": "2020-05-03T00:10:00.726171Z",
     "start_time": "2020-05-03T00:09:48.745Z"
    },
    "scrolled": true
   },
   "outputs": [],
   "source": [
    "print(t.strftime(\"%m-%d-%Y\"))\n",
    "print(t.strftime(\"%T\"))"
   ]
  },
  {
   "cell_type": "code",
   "execution_count": null,
   "metadata": {
    "ExecuteTime": {
     "end_time": "2020-05-03T00:10:00.726989Z",
     "start_time": "2020-05-03T00:09:48.747Z"
    }
   },
   "outputs": [],
   "source": [
    "df.index"
   ]
  },
  {
   "cell_type": "code",
   "execution_count": null,
   "metadata": {
    "ExecuteTime": {
     "end_time": "2020-05-03T00:10:00.727923Z",
     "start_time": "2020-05-03T00:09:48.749Z"
    }
   },
   "outputs": [],
   "source": [
    "df['month'] = df.index.to_series().apply(lambda x: x.month)\n",
    "df.head()\n"
   ]
  },
  {
   "cell_type": "code",
   "execution_count": null,
   "metadata": {
    "ExecuteTime": {
     "end_time": "2020-05-03T00:10:00.728829Z",
     "start_time": "2020-05-03T00:09:48.751Z"
    },
    "scrolled": true
   },
   "outputs": [],
   "source": [
    "## Let's make a month column to groupby\n",
    "df['month_int'] = df.index.to_series().apply(lambda x: x.month) #x\n",
    "df['month_name'] =df.index.to_series().apply(lambda x:x.strftime(\"%B\"))\n",
    "\n",
    "for col in ['month_int','month_name']:\n",
    "    display(df[col].value_counts(normalize=True))"
   ]
  },
  {
   "cell_type": "code",
   "execution_count": null,
   "metadata": {
    "ExecuteTime": {
     "end_time": "2020-05-03T00:10:00.729637Z",
     "start_time": "2020-05-03T00:09:48.752Z"
    }
   },
   "outputs": [],
   "source": [
    "df.index.to_series().apply(lambda x: x.month)"
   ]
  },
  {
   "cell_type": "code",
   "execution_count": null,
   "metadata": {},
   "outputs": [],
   "source": []
  },
  {
   "cell_type": "code",
   "execution_count": null,
   "metadata": {
    "ExecuteTime": {
     "end_time": "2020-05-03T00:10:00.730500Z",
     "start_time": "2020-05-03T00:09:48.755Z"
    }
   },
   "outputs": [],
   "source": [
    "help(ax.xaxis.set_ticklabels)"
   ]
  },
  {
   "cell_type": "code",
   "execution_count": null,
   "metadata": {
    "ExecuteTime": {
     "end_time": "2020-05-03T00:10:00.731333Z",
     "start_time": "2020-05-03T00:09:48.756Z"
    }
   },
   "outputs": [],
   "source": [
    "fig = ax.get_figure()"
   ]
  },
  {
   "cell_type": "code",
   "execution_count": null,
   "metadata": {
    "ExecuteTime": {
     "end_time": "2020-05-03T00:10:00.732207Z",
     "start_time": "2020-05-03T00:09:48.758Z"
    }
   },
   "outputs": [],
   "source": [
    "ax.xaxis.set_ticklabels(ax.xaxis.get_ticklabels(),**{'rotation':45,\n",
    "                                                    'ha':'right'}) \n",
    "# ax.xaxis.set_major_locator(mpl.dates.AutoDateLocator())\n",
    "fig"
   ]
  }
 ],
 "metadata": {
  "kernelspec": {
   "display_name": "Python [conda env:learn-env] *",
   "language": "python",
   "name": "conda-env-learn-env-py"
  },
  "language_info": {
   "codemirror_mode": {
    "name": "ipython",
    "version": 3
   },
   "file_extension": ".py",
   "mimetype": "text/x-python",
   "name": "python",
   "nbconvert_exporter": "python",
   "pygments_lexer": "ipython3",
   "version": "3.6.9"
  },
  "toc": {
   "base_numbering": 1,
   "nav_menu": {},
   "number_sections": false,
   "sideBar": true,
   "skip_h1_title": false,
   "title_cell": "Table of Contents",
   "title_sidebar": "Contents",
   "toc_cell": false,
   "toc_position": {
    "height": "calc(100% - 180px)",
    "left": "10px",
    "top": "150px",
    "width": "284.427px"
   },
   "toc_section_display": true,
   "toc_window_display": true
  }
 },
 "nbformat": 4,
 "nbformat_minor": 2
}
