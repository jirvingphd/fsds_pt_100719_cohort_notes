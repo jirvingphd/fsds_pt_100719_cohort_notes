{
 "cells": [
  {
   "cell_type": "markdown",
   "metadata": {
    "colab_type": "text",
    "id": "GKw2nWdMDKR6"
   },
   "source": [
    "# Section 42: Tuning Neural Networks"
   ]
  },
  {
   "cell_type": "markdown",
   "metadata": {},
   "source": [
    "- Study Group: 06/01/20\n",
    "- online-ds-pt-100719"
   ]
  },
  {
   "cell_type": "markdown",
   "metadata": {},
   "source": [
    "## Learning Objectives"
   ]
  },
  {
   "cell_type": "markdown",
   "metadata": {},
   "source": [
    "- Discuss the different options available for tuning neural networks\n",
    "- Discuss some rules of thumb for tuning Neural Networks\n",
    "\n",
    "- **ACTIVITY: Use a computer vision task to walk-through hyperparameter tuning (cats vs dogs)**\n",
    "    - [Zip File on Google Drive](https://drive.google.com/open?id=1WQ0fdJrNs5qVinJ_6rmVIIinOJD3p-n4)\n",
    "\n",
    "- **Learn how to use GridSearchCV with Keras neural neural networks.**\n",
    "\n",
    "    - Learn how to examine the other parameter results from a GridSearchCV object.\n",
    "\n",
    "    - Learn how to create your own custom scorer for sklearn (and why you'd want to)\n",
    "- Learn how to set up email notifications via Python (for gridsearch results)\n"
   ]
  },
  {
   "cell_type": "markdown",
   "metadata": {},
   "source": [
    "## Questions/Comments?\n",
    "-"
   ]
  },
  {
   "cell_type": "markdown",
   "metadata": {},
   "source": [
    "## Helpful Resources"
   ]
  },
  {
   "cell_type": "markdown",
   "metadata": {},
   "source": [
    "- [Medium: Simple Guide to Hyperparameter Tuning in Neural Networks](https://towardsdatascience.com/simple-guide-to-hyperparameter-tuning-in-neural-networks-3fe03dad8594)\n",
    "- [Medium: A guide to an efficient way to build neural network architectures- Part I:](https://towardsdatascience.com/a-guide-to-an-efficient-way-to-build-neural-network-architectures-part-i-hyper-parameter-8129009f131b)\n",
    "- [Medium: Optimizers for Neural Networks](https://medium.com/@sdoshi579/optimizers-for-training-neural-network-59450d71caf6)"
   ]
  },
  {
   "cell_type": "markdown",
   "metadata": {},
   "source": [
    "# Overview  - Neural Network Tuning "
   ]
  },
  {
   "cell_type": "markdown",
   "metadata": {},
   "source": [
    "## Rules of Thumb for Training Neural Networks"
   ]
  },
  {
   "cell_type": "markdown",
   "metadata": {},
   "source": [
    "- **Always use a train-test-validation split.**\n",
    "    - **Train-test-val splits:**\n",
    "        - Training set: for training the algorithm\n",
    "        - Validation set: used during training\n",
    "        - Testing set: after choosing the final model, use the test set for an unbiased estimate of performance.\n",
    "    - **Set sizes:**\n",
    "        - With big data, your val and test sets don't necessarily need to be 20-30% of all the data. \n",
    "        - You can choose test and hold-out sets that are of size 1-5%. \n",
    "            - eg. 96% train, 2% hold-out, 2% test set.\n",
    "            \n",
    "            \n",
    "- Consider using a `np.random.seed` for reproducibility/comparing models\n",
    "\n",
    "\n",
    "- **Use cross validation of some sort to compare Networks**\n",
    "\n",
    "\n",
    "- Normalize/Standardize features\n",
    "    \n",
    "    \n",
    "- **Add EarlyStopping and ModelCheckpoint [callbacks](https://keras.io/api/callbacks/)**\n",
    "\n",
    "    "
   ]
  },
  {
   "cell_type": "markdown",
   "metadata": {
    "colab_type": "text",
    "id": "lbzweQKTDPTl"
   },
   "source": [
    "#### From Learn\n",
    "\n",
    "- **Rules of thumb re: bias/variance trade-off:**\n",
    "\n",
    "| High Bias? (training performance) | high variance? (validation performance)  |\n",
    "|---------------|-------------|\n",
    "| Use a bigger network|    More data     |\n",
    "| Train longer | Regularization   |\n",
    "| Look for other existing NN architextures |Look for other existing NN architextures |\n"
   ]
  },
  {
   "cell_type": "markdown",
   "metadata": {},
   "source": [
    "## Rules of Thumb - Hyperparameters to Tune \n"
   ]
  },
  {
   "cell_type": "markdown",
   "metadata": {},
   "source": [
    "- This section is roughly laid out in order of importance/what-to-tune-first\n",
    "    - [Blog Post](https://towardsdatascience.com/a-guide-to-an-efficient-way-to-build-neural-network-architectures-part-i-hyper-parameter-8129009f131b)"
   ]
  },
  {
   "cell_type": "markdown",
   "metadata": {},
   "source": [
    "### Hyperparameters (For Dense layers)"
   ]
  },
  {
   "cell_type": "markdown",
   "metadata": {},
   "source": [
    "1. Number of layers (depends on the size of training data)\n",
    "\n",
    "\n",
    "2. Number of neurons(depends on the size of training data)\n",
    "\n",
    "\n",
    "3. Activation functions\n",
    "    - Popular choices:\n",
    "        - relu / leaky-relu\n",
    "        - sigmoid / tanh (for shallow networks)\n",
    "        \n",
    "        \n",
    "4. Optimizer:\n",
    "    - Popular choices:\n",
    "        - SGD (works well for shallow but gets stuck in local minima/saddle-points - if so use RMSProp)\n",
    "        - RMSProp\n",
    "        - Adam (general favorite)\n",
    "        \n",
    "        \n",
    "5. Learning Rate\n",
    "    - Try in powers of 10 (0.001,0.01,.1,1.0)\n",
    "    - Which optimizer changes which l.r. is best (but try the others too).\n",
    "        - SGD: 0.1\n",
    "        - Adam: 0.001/0.01\n",
    "    - Can use the `decay` parameter to reduce learning (though it is better to use adaptive optimizer than to adjust this)/.\n",
    "    \n",
    "    \n",
    "6. Initialization\n",
    "    - Not as important as defaults (glorot-uniform) work well, but:\n",
    "        - Use He-normal/uniform initialization when using ReLu\n",
    "        - Use Glorot-normal/uniform when using Sigmoid\n",
    "    - Avoid using all zeros or any constant for all neurons\n",
    "\n",
    "\n",
    "7. Batch Size\n",
    "    - Finding the \"right\" size is important\n",
    "        - Too small = weights update too quickly and convergence is difficult\n",
    "        - Too large = weights update too slowly (plus PC RAM issues)\n",
    "    - Try batch sizes that are powers of 2 (for memory optimization)\n",
    "    - Larger is better than smaller.\n",
    "    \n",
    "    \n",
    "8. Number of Epochs:\n",
    "    - Important parameter to tune\n",
    "    - Use EarlyStopping callback to prevent overfitting\n",
    "    \n",
    "\n",
    "9. Adding Dropout\n",
    "    - Usually use dropout rate of 0.2 to 0.5\n",
    "    \n",
    "    \n",
    "\n",
    "10. Adding regularization (L1,L2)\n",
    "    - Use when the model continues to over-fit even after adding Dropout"
   ]
  },
  {
   "cell_type": "markdown",
   "metadata": {},
   "source": [
    "### Hyperparameter Details"
   ]
  },
  {
   "cell_type": "markdown",
   "metadata": {},
   "source": [
    "#### Kernel Initialization\n",
    "- Kernel Initializers\n",
    "```python\n",
    "# define the grid search parameters\n",
    "init_mode = ['uniform', 'lecun_uniform', 'normal', 'zero', \n",
    "             'glorot_normal', 'glorot_uniform', 'he_normal', 'he_uniform']```\n",
    "\n",
    "\n",
    "#### Loss Functions\n",
    "- MSE (regression)\n",
    "- categorical cross-entropy (classification with 2D labels )\n",
    "    - sparse categoricaln cross entropy (classification with 1D labels)\n",
    "- binary cross-entropy (classification)\n",
    "    - 2 categories\n",
    "- can also uses custom scoring functions"
   ]
  },
  {
   "cell_type": "markdown",
   "metadata": {},
   "source": [
    "#### L1/L2 Regularization\n",
    "\n",
    "- **CHOOSING L1 OR L2:**\n",
    "    - L1 is very useful when trying to compress a model. (since weights can decreae to 0)\n",
    "    - L2 is generally preferred otherwise.\n",
    "    \n",
    "    \n",
    "- **USING L1/L2 IN KERAS:**\n",
    "    - Add a kernel_regulaizer to a  layer.\n",
    "```python \n",
    "from keras import regularizers\n",
    "model.add(Dense(64, input_dim=64, kernel_regularizer=regularizers.l2(0.01))\n",
    "```\n",
    "    - here 0.01 = $\\lambda$"
   ]
  },
  {
   "cell_type": "markdown",
   "metadata": {},
   "source": [
    "- **CHOOSING L1 OR L2:**\n",
    "    - L1 is very useful when trying to compress a model. (since weights can decreae to 0)\n",
    "    - L2 is generally preferred otherwise.\n",
    "    \n",
    "    \n",
    "- **USING L1/L2 IN KERAS:**\n",
    "    - Add a kernel_regulaizer to a  layer.\n",
    "```python \n",
    "from keras import regularizers\n",
    "model.add(Dense(64, input_dim=64, kernel_regularizer=regularizers.l2(0.01))\n",
    "```\n",
    "    - here 0.01 = $\\lambda$"
   ]
  },
  {
   "cell_type": "markdown",
   "metadata": {
    "colab_type": "text",
    "id": "BlPs5Wd8GrNg"
   },
   "source": [
    "#### Early Stopping (not covered in class)"
   ]
  },
  {
   "cell_type": "markdown",
   "metadata": {
    "colab_type": "text",
    "id": "BlPs5Wd8GrNg"
   },
   "source": [
    "- Monitor performance for decrease or plateau in performance, terminate process when given criteria is reached.\n",
    "\n",
    "- **In Keras:**\n",
    "    - Can be applied using the [callbacks function](https://keras.io/callbacks/)\n",
    "```python    \n",
    "from keras.callbacks import EarlyStopping\n",
    "EarlyStopping(monitor='val_err', patience=5)\n",
    "```\n",
    "    - 'Monitor' denotes quanitity to check\n",
    "    - 'val_err' denotes validation error\n",
    "    - 'pateience' denotes # of epochs without improvement before stopping.\n",
    "        - Be careful, as sometimes models _will_ continue to improve after a stagnant period\n"
   ]
  },
  {
   "cell_type": "markdown",
   "metadata": {},
   "source": [
    "# Activity: Dogs vs Cats"
   ]
  },
  {
   "cell_type": "markdown",
   "metadata": {},
   "source": [
    "- Build an image classification model to detect cats vs dogs"
   ]
  },
  {
   "cell_type": "markdown",
   "metadata": {
    "colab_type": "text",
    "id": "8qbS0lSrghaO"
   },
   "source": [
    "## Installs, Imports, & Functions"
   ]
  },
  {
   "cell_type": "code",
   "execution_count": 1,
   "metadata": {
    "ExecuteTime": {
     "end_time": "2020-06-01T22:49:58.062191Z",
     "start_time": "2020-06-01T22:49:58.059607Z"
    }
   },
   "outputs": [],
   "source": [
    "# !pip install -U imageio\n",
    "# !pip install -U scikit-image\n",
    "\n",
    "# !pip install pillow\n",
    "# !pip install opencv-contrib-python\n",
    "# !pip install -U fsds\n",
    "# !pip install -U tensorflow\n",
    "\n",
    "# !pip install -U keras\n",
    "# !pip install -U pandas \n",
    "# !pip install -U pandas-profiling\n",
    "\n",
    "# %conda update matploltib\n",
    "# %conda update scikit-learn\n",
    "# !pip install -U matplotlib"
   ]
  },
  {
   "cell_type": "code",
   "execution_count": 2,
   "metadata": {
    "ExecuteTime": {
     "end_time": "2020-06-01T22:49:59.669606Z",
     "start_time": "2020-06-01T22:49:58.064881Z"
    },
    "colab": {
     "base_uri": "https://localhost:8080/",
     "height": 238
    },
    "colab_type": "code",
    "id": "KHc94KpTlbRj",
    "outputId": "f71ccce3-f23d-4b8e-d4f7-c4736cbe1e76",
    "scrolled": true
   },
   "outputs": [
    {
     "name": "stdout",
     "output_type": "stream",
     "text": [
      "fsds_1007219  v0.7.21 loaded.  Read the docs: https://fsds.readthedocs.io/en/latest/ \n"
     ]
    },
    {
     "data": {
      "text/html": [
       "<style  type=\"text/css\" >\n",
       "</style><table id=\"T_38b13618_a45a_11ea_a46f_acde48001122\" ><caption>Loaded Packages and Handles</caption><thead>    <tr>        <th class=\"col_heading level0 col0\" >Handle</th>        <th class=\"col_heading level0 col1\" >Package</th>        <th class=\"col_heading level0 col2\" >Description</th>    </tr></thead><tbody>\n",
       "                <tr>\n",
       "                                <td id=\"T_38b13618_a45a_11ea_a46f_acde48001122row0_col0\" class=\"data row0 col0\" >dp</td>\n",
       "                        <td id=\"T_38b13618_a45a_11ea_a46f_acde48001122row0_col1\" class=\"data row0 col1\" >IPython.display</td>\n",
       "                        <td id=\"T_38b13618_a45a_11ea_a46f_acde48001122row0_col2\" class=\"data row0 col2\" >Display modules with helpful display and clearing commands.</td>\n",
       "            </tr>\n",
       "            <tr>\n",
       "                                <td id=\"T_38b13618_a45a_11ea_a46f_acde48001122row1_col0\" class=\"data row1 col0\" >fs</td>\n",
       "                        <td id=\"T_38b13618_a45a_11ea_a46f_acde48001122row1_col1\" class=\"data row1 col1\" >fsds_100719</td>\n",
       "                        <td id=\"T_38b13618_a45a_11ea_a46f_acde48001122row1_col2\" class=\"data row1 col2\" >Custom data science bootcamp student package</td>\n",
       "            </tr>\n",
       "            <tr>\n",
       "                                <td id=\"T_38b13618_a45a_11ea_a46f_acde48001122row2_col0\" class=\"data row2 col0\" >mpl</td>\n",
       "                        <td id=\"T_38b13618_a45a_11ea_a46f_acde48001122row2_col1\" class=\"data row2 col1\" >matplotlib</td>\n",
       "                        <td id=\"T_38b13618_a45a_11ea_a46f_acde48001122row2_col2\" class=\"data row2 col2\" >Matplotlib's base OOP module with formatting artists</td>\n",
       "            </tr>\n",
       "            <tr>\n",
       "                                <td id=\"T_38b13618_a45a_11ea_a46f_acde48001122row3_col0\" class=\"data row3 col0\" >plt</td>\n",
       "                        <td id=\"T_38b13618_a45a_11ea_a46f_acde48001122row3_col1\" class=\"data row3 col1\" >matplotlib.pyplot</td>\n",
       "                        <td id=\"T_38b13618_a45a_11ea_a46f_acde48001122row3_col2\" class=\"data row3 col2\" >Matplotlib's matlab-like plotting module</td>\n",
       "            </tr>\n",
       "            <tr>\n",
       "                                <td id=\"T_38b13618_a45a_11ea_a46f_acde48001122row4_col0\" class=\"data row4 col0\" >np</td>\n",
       "                        <td id=\"T_38b13618_a45a_11ea_a46f_acde48001122row4_col1\" class=\"data row4 col1\" >numpy</td>\n",
       "                        <td id=\"T_38b13618_a45a_11ea_a46f_acde48001122row4_col2\" class=\"data row4 col2\" >scientific computing with Python</td>\n",
       "            </tr>\n",
       "            <tr>\n",
       "                                <td id=\"T_38b13618_a45a_11ea_a46f_acde48001122row5_col0\" class=\"data row5 col0\" >pd</td>\n",
       "                        <td id=\"T_38b13618_a45a_11ea_a46f_acde48001122row5_col1\" class=\"data row5 col1\" >pandas</td>\n",
       "                        <td id=\"T_38b13618_a45a_11ea_a46f_acde48001122row5_col2\" class=\"data row5 col2\" >High performance data structures and tools</td>\n",
       "            </tr>\n",
       "            <tr>\n",
       "                                <td id=\"T_38b13618_a45a_11ea_a46f_acde48001122row6_col0\" class=\"data row6 col0\" >sns</td>\n",
       "                        <td id=\"T_38b13618_a45a_11ea_a46f_acde48001122row6_col1\" class=\"data row6 col1\" >seaborn</td>\n",
       "                        <td id=\"T_38b13618_a45a_11ea_a46f_acde48001122row6_col2\" class=\"data row6 col2\" >High-level data visualization library based on matplotlib</td>\n",
       "            </tr>\n",
       "    </tbody></table>"
      ],
      "text/plain": [
       "<pandas.io.formats.style.Styler at 0x125e0eda0>"
      ]
     },
     "metadata": {},
     "output_type": "display_data"
    },
    {
     "data": {
      "text/html": [
       "        <script type=\"text/javascript\">\n",
       "        window.PlotlyConfig = {MathJaxConfig: 'local'};\n",
       "        if (window.MathJax) {MathJax.Hub.Config({SVG: {font: \"STIX-Web\"}});}\n",
       "        if (typeof require !== 'undefined') {\n",
       "        require.undef(\"plotly\");\n",
       "        requirejs.config({\n",
       "            paths: {\n",
       "                'plotly': ['https://cdn.plot.ly/plotly-latest.min']\n",
       "            }\n",
       "        });\n",
       "        require(['plotly'], function(Plotly) {\n",
       "            window._Plotly = Plotly;\n",
       "        });\n",
       "        }\n",
       "        </script>\n",
       "        "
      ]
     },
     "metadata": {},
     "output_type": "display_data"
    },
    {
     "name": "stdout",
     "output_type": "stream",
     "text": [
      "[i] Pandas .iplot() method activated.\n"
     ]
    }
   ],
   "source": [
    "# !pip install -U fsds_100719\n",
    "from fsds_100719.imports import *"
   ]
  },
  {
   "cell_type": "code",
   "execution_count": 3,
   "metadata": {
    "ExecuteTime": {
     "end_time": "2020-06-01T22:50:01.258139Z",
     "start_time": "2020-06-01T22:49:59.671457Z"
    },
    "colab": {
     "base_uri": "https://localhost:8080/",
     "height": 34
    },
    "colab_type": "code",
    "id": "2yML_wHNlbRn",
    "outputId": "50fed474-f35a-477d-8b5e-b448e76c97a8",
    "scrolled": true
   },
   "outputs": [
    {
     "name": "stderr",
     "output_type": "stream",
     "text": [
      "Using TensorFlow backend.\n"
     ]
    }
   ],
   "source": [
    "from PIL import Image\n",
    "from keras.preprocessing import image\n",
    "from keras.preprocessing.image import ImageDataGenerator, array_to_img, img_to_array, load_img\n",
    "from keras.utils import to_categorical\n",
    "from imageio import imread\n",
    "\n",
    "from skimage.transform import resize\n",
    "import cv2\n",
    "from tqdm import tqdm\n"
   ]
  },
  {
   "cell_type": "markdown",
   "metadata": {
    "colab_type": "text",
    "id": "E7D1Ks2mhJim"
   },
   "source": [
    "## Loading in the data"
   ]
  },
  {
   "cell_type": "markdown",
   "metadata": {},
   "source": [
    "- Download the zip file \n",
    "    - [DATASET: Zip File for Dog vs Cats](https://drive.google.com/open?id=1WQ0fdJrNs5qVinJ_6rmVIIinOJD3p-n4)\n",
    "- Extract zip file contents to the a folder on your computer.\n",
    "    - I am using my user folder > Datasets > cats-vs-dogs\n",
    "    "
   ]
  },
  {
   "cell_type": "code",
   "execution_count": 4,
   "metadata": {
    "ExecuteTime": {
     "end_time": "2020-06-01T22:50:01.263587Z",
     "start_time": "2020-06-01T22:50:01.260242Z"
    }
   },
   "outputs": [
    {
     "name": "stdout",
     "output_type": "stream",
     "text": [
      "/Users/jamesirving/Documents/GitHub/_STUDY GROUP PREP/fsds_pt_100719_cohort_notes/Instructor Notebooks/Mod_4_v21/ANNs\n"
     ]
    }
   ],
   "source": [
    "import os,glob\n",
    "print(os.path.abspath(os.curdir))"
   ]
  },
  {
   "cell_type": "code",
   "execution_count": 5,
   "metadata": {
    "ExecuteTime": {
     "end_time": "2020-06-01T22:50:01.269014Z",
     "start_time": "2020-06-01T22:50:01.265038Z"
    }
   },
   "outputs": [
    {
     "data": {
      "text/plain": [
       "['single_prediction', '.DS_Store', 'Models', 'training_set', 'test_set']"
      ]
     },
     "execution_count": 5,
     "metadata": {},
     "output_type": "execute_result"
    }
   ],
   "source": [
    "# change dataset_folder to match where you stored the files\n",
    "dataset_folder = \"/Users/jamesirving/Datasets/dogs-vs-cats-sorted/\"\n",
    "os.makedirs(dataset_folder,exist_ok=True)\n",
    "os.listdir(dataset_folder)"
   ]
  },
  {
   "cell_type": "code",
   "execution_count": 6,
   "metadata": {
    "ExecuteTime": {
     "end_time": "2020-06-01T22:50:01.273376Z",
     "start_time": "2020-06-01T22:50:01.270229Z"
    }
   },
   "outputs": [
    {
     "data": {
      "text/plain": [
       "'/Users/jamesirving/Datasets/dogs-vs-cats-sorted/'"
      ]
     },
     "execution_count": 6,
     "metadata": {},
     "output_type": "execute_result"
    }
   ],
   "source": [
    "base_folder = dataset_folder\n",
    "base_folder"
   ]
  },
  {
   "cell_type": "markdown",
   "metadata": {},
   "source": [
    "### Preparing Images Using .flow instead of flow_from_directory\n",
    "- https://discuss.analyticsvidhya.com/t/keras-image-preprocessing-using-flow-and-not-flow-from-directory/69460/2\n"
   ]
  },
  {
   "cell_type": "code",
   "execution_count": 7,
   "metadata": {
    "ExecuteTime": {
     "end_time": "2020-06-01T22:50:01.316054Z",
     "start_time": "2020-06-01T22:50:01.275308Z"
    }
   },
   "outputs": [],
   "source": [
    "import shutil,glob\n",
    "# ## DOG VS CAT\n",
    "train_base_dir = base_folder+'training_set/'\n",
    "test_base_dir =base_folder+'test_set/' \n",
    "\n",
    "train_dogs = train_base_dir+'dogs/'\n",
    "train_cats = train_base_dir+'cats/'\n",
    "\n",
    "test_dogs = test_base_dir+'dogs/'\n",
    "test_cats = test_base_dir+'cats/'\n",
    "\n",
    "\n",
    "dog_train_files = glob.glob(train_dogs+'*.jpg')\n",
    "cat_train_files = glob.glob(train_cats+'*.jpg')\n",
    "all_train_files = [*dog_train_files,*cat_train_files]\n",
    "\n",
    "dog_test_files = glob.glob(test_dogs+'*.jpg')\n",
    "cat_test_files = glob.glob(test_cats+'*.jpg')\n",
    "all_test_files = [*dog_test_files,*cat_test_files]\n",
    "\n",
    "# print(len(img_filenames))\n",
    "# img_filenames[:10]\n",
    "\n",
    "all_filename_vars = [dog_train_files, cat_train_files,\n",
    "                                             dog_test_files,cat_test_files]"
   ]
  },
  {
   "cell_type": "markdown",
   "metadata": {},
   "source": [
    "### Functions"
   ]
  },
  {
   "cell_type": "code",
   "execution_count": 8,
   "metadata": {
    "ExecuteTime": {
     "end_time": "2020-06-01T22:50:01.333616Z",
     "start_time": "2020-06-01T22:50:01.317686Z"
    }
   },
   "outputs": [],
   "source": [
    "def load_image_cv2(filename, RGB=True):\n",
    "    \"\"\"Loads image using cv2 and converts to either matplotlib-RGB (default)\n",
    "    or grayscale.\"\"\"\n",
    "    import cv2\n",
    "\n",
    "    IMG = cv2.imread(filename)\n",
    "    if RGB: cmap = cv2.COLOR_BGR2RGB\n",
    "    else: cmap=cv2.COLOR_BGR2GRAY\n",
    "    return cv2.cvtColor(IMG,cmap)\n",
    "\n",
    "\n",
    "\n",
    "# defining a function to read images\n",
    "def read_img(img_path,target_size=(32,32,3)):#(64, 64, 3)):\n",
    "    img = image.load_img(img_path, target_size=target_size)\n",
    "    img = image.img_to_array(img)\n",
    "\n",
    "    return img\n",
    "\n",
    "def load_train_test_val(dog_training_filenames, cat_training_filenames,\n",
    "                        dog_test_filenames,cat_test_filenames,\n",
    "                        img_size=(32,32,3),val_size=0.1):\n",
    "    \"\"\"Reads in training and test filenames to produce X and y data splits.\n",
    "    The validation set is intended to be used during training and is created\n",
    "    from the training images using train test split.\n",
    "\n",
    "    ylabels are encoded as 0=cat, 1=dog\n",
    "    Returns:  X_train, X_test, X_val, y_train, y_test,y_val\"\"\"\n",
    "    # \n",
    "    \n",
    "    display('[i] LOADING IMAGES')\n",
    " \n",
    "    train_img = []\n",
    "    train_label = []\n",
    "\n",
    "    for img_path in tqdm(dog_training_filenames):\n",
    "        train_img.append(read_img(img_path,target_size=img_size))\n",
    "        train_label.append(1)\n",
    "\n",
    "    for img_path in tqdm(cat_training_filenames):\n",
    "        train_img.append(read_img(img_path,target_size=img_size))\n",
    "        train_label.append(0)\n",
    "\n",
    "\n",
    "    test_img = []\n",
    "    test_label = []\n",
    "\n",
    "    for img_path in tqdm(dog_test_files):\n",
    "        test_img.append(read_img(img_path,target_size=img_size))\n",
    "        test_label.append(1)\n",
    "\n",
    "    for img_path in tqdm(dog_test_files):\n",
    "        test_img.append(read_img(img_path,target_size=img_size))\n",
    "        test_label.append(0)\n",
    "    # print('\\n',pd.Series(train_label).value_counts())\n",
    "\n",
    "\n",
    "    from sklearn.model_selection import train_test_split\n",
    "    X = np.array(train_img, np.float32)\n",
    "    y = np.array(train_label)\n",
    "    y = to_categorical(y)\n",
    "    \n",
    "    X_test = np.array(test_img, np.float32)\n",
    "    y_test = to_categorical(np.array(test_label))\n",
    "    X_train,X_val,y_train,y_val = train_test_split(X,y,test_size=0.1)\n",
    "    print('\\n[i] Length of Splits:')\n",
    "    print(f\"X_train={len(X_train)}, X_test={len(X_test)}, X_val={len(X_val)}\")\n",
    "    return X_train, X_test, X_val, y_train, y_test,y_val \n",
    "\n",
    "\n",
    "def train_test_val_datagens(X_train,X_test,X_val,y_train,y_test,y_val,\n",
    "                            BATCH_SIZE = 32, train_datagen_kws= dict(\n",
    "                                shear_range = 0.2, \n",
    "                                zoom_range = 0.2,\n",
    "                                horizontal_flip = True)):\n",
    "    \"\"\"Creates ImageDataGenerators for train,test,val data.\n",
    "    Returns: training_set,test_set,val_set\"\"\"\n",
    "    ## Create training and test data\n",
    "    from keras.preprocessing.image import ImageDataGenerator\n",
    "\n",
    "    train_datagen = ImageDataGenerator(rescale = 1./255,**train_datagen_kws)\n",
    "\n",
    "    test_datagen = ImageDataGenerator(rescale = 1./255)\n",
    "    val_datagen = ImageDataGenerator(rescale = 1./255)\n",
    "\n",
    "    training_set = train_datagen.flow(X_train,y=y_train,batch_size=BATCH_SIZE)\n",
    "    test_set = test_datagen.flow(X_test,y=y_test,batch_size=BATCH_SIZE)\n",
    "    val_set = val_datagen.flow(X_val,y=y_val,batch_size=BATCH_SIZE)\n",
    "\n",
    "    return training_set,test_set,val_set\n",
    "\n",
    "\n",
    "\n",
    "def get_shapes_dict(training_set,verbose=False):\n",
    "    shapes = [\"Batchsize\", \"img_width\",\"img_height\",\"img_dim\"]\n",
    "    SHAPES = dict(zip(shapes, training_set[0][0].shape))\n",
    "    if verbose:\n",
    "        print('SHAPES DICT:')\n",
    "        print(SHAPES)\n",
    "        print(training_set[0][0].shape)\n",
    "        print('\\n[i] Labels for batch (0=cat,1=dog)')\n",
    "        print(training_set[0][1])\n",
    "    return SHAPES\n",
    "      "
   ]
  },
  {
   "cell_type": "code",
   "execution_count": 9,
   "metadata": {
    "ExecuteTime": {
     "end_time": "2020-06-01T22:50:18.489986Z",
     "start_time": "2020-06-01T22:50:01.336151Z"
    }
   },
   "outputs": [
    {
     "data": {
      "text/plain": [
       "'[i] LOADING IMAGES'"
      ]
     },
     "metadata": {},
     "output_type": "display_data"
    },
    {
     "name": "stderr",
     "output_type": "stream",
     "text": [
      "100%|██████████| 4000/4000 [00:07<00:00, 560.05it/s]\n",
      "100%|██████████| 4000/4000 [00:06<00:00, 610.99it/s]\n",
      "100%|██████████| 1000/1000 [00:01<00:00, 601.03it/s]\n",
      "100%|██████████| 1000/1000 [00:01<00:00, 600.02it/s]\n"
     ]
    },
    {
     "name": "stdout",
     "output_type": "stream",
     "text": [
      "\n",
      "[i] Length of Splits:\n",
      "X_train=7200, X_test=2000, X_val=800\n"
     ]
    }
   ],
   "source": [
    "## USING FUNCTIONS TO LOAD IN IMAGES \n",
    "X_train,X_test,X_val,y_train,y_test,y_val = load_train_test_val(*all_filename_vars,\n",
    "                                                  val_size=0.1,img_size=(32,32,3))#(64,64,3))\n",
    "\n",
    "train_test_val_vars = [X_train,X_test,X_val,y_train,y_test,y_val ]\n"
   ]
  },
  {
   "cell_type": "code",
   "execution_count": 10,
   "metadata": {
    "ExecuteTime": {
     "end_time": "2020-06-01T22:50:18.495026Z",
     "start_time": "2020-06-01T22:50:18.491575Z"
    }
   },
   "outputs": [
    {
     "data": {
      "text/plain": [
       "array([[0., 1.],\n",
       "       [0., 1.],\n",
       "       [1., 0.],\n",
       "       ...,\n",
       "       [1., 0.],\n",
       "       [1., 0.],\n",
       "       [0., 1.]], dtype=float32)"
      ]
     },
     "execution_count": 10,
     "metadata": {},
     "output_type": "execute_result"
    }
   ],
   "source": [
    "y_train"
   ]
  },
  {
   "cell_type": "code",
   "execution_count": 11,
   "metadata": {
    "ExecuteTime": {
     "end_time": "2020-06-01T22:50:18.500015Z",
     "start_time": "2020-06-01T22:50:18.496319Z"
    }
   },
   "outputs": [
    {
     "data": {
      "text/plain": [
       "3072"
      ]
     },
     "execution_count": 11,
     "metadata": {},
     "output_type": "execute_result"
    }
   ],
   "source": [
    "## display example img/label\n",
    "ex_img = X_train[0]\n",
    "ex_img.shape\n",
    "ex_img.shape[0] *ex_img.shape[1]*ex_img.shape[2]"
   ]
  },
  {
   "cell_type": "code",
   "execution_count": 12,
   "metadata": {
    "ExecuteTime": {
     "end_time": "2020-06-01T22:50:18.505420Z",
     "start_time": "2020-06-01T22:50:18.501267Z"
    }
   },
   "outputs": [
    {
     "data": {
      "text/plain": [
       "(7200, 2000, 3072)"
      ]
     },
     "execution_count": 12,
     "metadata": {},
     "output_type": "execute_result"
    }
   ],
   "source": [
    "ex_img = X_train[0]\n",
    "num_images = X_train.shape[0]\n",
    "num_images_test = X_test.shape[0]\n",
    "len_unrowed = ex_img.shape[0] *ex_img.shape[1]*ex_img.shape[2]\n",
    "num_images,num_images_test, len_unrowed"
   ]
  },
  {
   "cell_type": "code",
   "execution_count": 13,
   "metadata": {
    "ExecuteTime": {
     "end_time": "2020-06-01T22:50:18.546134Z",
     "start_time": "2020-06-01T22:50:18.506688Z"
    }
   },
   "outputs": [
    {
     "data": {
      "text/plain": [
       "(7200, 3072)"
      ]
     },
     "execution_count": 13,
     "metadata": {},
     "output_type": "execute_result"
    }
   ],
   "source": [
    "X_train_img  = X_train.reshape(num_images,len_unrowed).astype('float32')/255\n",
    "X_train_img.shape"
   ]
  },
  {
   "cell_type": "code",
   "execution_count": 14,
   "metadata": {
    "ExecuteTime": {
     "end_time": "2020-06-01T22:50:18.560635Z",
     "start_time": "2020-06-01T22:50:18.547961Z"
    }
   },
   "outputs": [
    {
     "data": {
      "text/plain": [
       "(800, 3072)"
      ]
     },
     "execution_count": 14,
     "metadata": {},
     "output_type": "execute_result"
    }
   ],
   "source": [
    "X_val_img  = X_val.reshape(X_val.shape[0],len_unrowed).astype('float32')/255\n",
    "X_val_img.shape"
   ]
  },
  {
   "cell_type": "code",
   "execution_count": 15,
   "metadata": {
    "ExecuteTime": {
     "end_time": "2020-06-01T22:50:18.582595Z",
     "start_time": "2020-06-01T22:50:18.562608Z"
    }
   },
   "outputs": [
    {
     "data": {
      "text/plain": [
       "(2000, 3072)"
      ]
     },
     "execution_count": 15,
     "metadata": {},
     "output_type": "execute_result"
    }
   ],
   "source": [
    "X_test_img = X_test.reshape(num_images_test,len_unrowed).astype('float32')/255\n",
    "X_test_img.shape"
   ]
  },
  {
   "cell_type": "code",
   "execution_count": 16,
   "metadata": {
    "ExecuteTime": {
     "end_time": "2020-06-01T22:50:18.592837Z",
     "start_time": "2020-06-01T22:50:18.584475Z"
    }
   },
   "outputs": [
    {
     "data": {
      "text/plain": [
       "array([1., 0.], dtype=float32)"
      ]
     },
     "metadata": {},
     "output_type": "display_data"
    },
    {
     "data": {
      "image/png": "[encoded data removed]",
      "text/plain": [
       "<PIL.Image.Image image mode=RGB size=32x32 at 0x1502B75C0>"
      ]
     },
     "metadata": {},
     "output_type": "display_data"
    }
   ],
   "source": [
    "i = np.random.choice(range(len(y_train)))\n",
    "display(y_train[i])\n",
    "display(array_to_img(X_train_img[i].reshape(32,32,3)))"
   ]
  },
  {
   "cell_type": "markdown",
   "metadata": {},
   "source": [
    "## HyperParameter Tuning with GridSearchCV & Keras"
   ]
  },
  {
   "cell_type": "markdown",
   "metadata": {},
   "source": [
    "Original Source: https://chrisalbon.com/deep_learning/keras/tuning_neural_network_hyperparameters/\n",
    "<br><br>\n",
    "\n",
    "- To use `GridSearchCV` or other similar functions in scikit-learn with a Keras neural network, we need to wrap our keras model in `keras.wrappers.scikit_learn`'s `KerasClassifier` and `KerasRegressor`.\n",
    "\n",
    "1. To do this, we need to write a build function(`build_fn`) that creates our model such as `create_model`.\n",
    "    - This function must accept whatever parameters you wish to tune. \n",
    "    - It also must have a default argument for each parameter.\n",
    "    - This function must Return the model (and only the model)\n",
    "    \n",
    "\n",
    "```python\n",
    "\n",
    "## Define the build function\n",
    "def create_model(n_units=(50,25,7), activation='relu',final_activation='softmax',\n",
    "                optimizer='adam'):\n",
    "    \n",
    "    ## Pro tip:save the local variables now so you can print out the parameters used to create the model.\n",
    "    params_used = locals()\n",
    "    print('Parameters for model:\\n',params_used)\n",
    "    \n",
    "   \n",
    "    from keras.models import Sequential\n",
    "    from keras import layers\n",
    "    \n",
    "    model=Sequential()\n",
    "    model.add(layers.Dense(n_units[0], activation=activation, input_shape=(2000,)))\n",
    "    model.add(layers.Dense(n_units[1], activation=activation))\n",
    "    model.add(layers.Dense(n_units[2], activation=final_activation))\n",
    "    model.compile(optimizer=optimizer, loss='categorical_crossentropy',metrics=['accuracy'])\n",
    "    \n",
    "    display(model.summary())\n",
    "    return model \n",
    "```    \n",
    "\n",
    "2. We then create out model using the Keras wrapper:\n",
    "\n",
    "```python\n",
    "from keras.wrappers.scikit_learn import KerasClassifier\n",
    "neural_network =  KerasClassifier(build_fn=create_model,verbose=1)\n",
    "```\n",
    "\n",
    "3. Now, set up the hyperparameter space for grid search. (Remember, your `create_model` function must accept the parameter you want to tune)\n",
    "\n",
    "```python\n",
    "params_to_test = {'n_units':[(50,25,7),(100,50,7)],\n",
    "                  'optimizer':['adam','rmsprop','adadelta'],\n",
    "                  'activation':['linear','relu','tanh'],\n",
    "                  'final_activation':['softmax']}\n",
    "```\n",
    "\n",
    "4. Now instantiate your GridSearch function\n",
    "\n",
    "```python\n",
    "from sklearn.model_selection import GridSearchCV\n",
    "\n",
    "grid = GridSearchCV(estimator=neural_network,param_grid=params_to_test)\n",
    "grid_result = grid.fit(X_train, y_train)\n",
    "best_params = grid_result.best_params_\n",
    "```\n",
    "5. And thats it!"
   ]
  },
  {
   "cell_type": "code",
   "execution_count": 44,
   "metadata": {
    "ExecuteTime": {
     "end_time": "2020-06-02T00:50:16.633526Z",
     "start_time": "2020-06-02T00:50:16.608037Z"
    }
   },
   "outputs": [],
   "source": [
    "class Timer():\n",
    "    ## def init\n",
    "    def __init__(self,format_=\"%m/%d/%y - %I:%M %p\"):\n",
    "        import tzlocal\n",
    "        self.tz = tzlocal.get_localzone()\n",
    "        self.fmt = format_\n",
    "        \n",
    "        self.created_at = self.get_time()# get time\n",
    "        \n",
    "    \n",
    "    ## def get time method\n",
    "    def get_time(self):\n",
    "        import datetime as dt\n",
    "        return dt.datetime.now(self.tz)\n",
    "\n",
    "    ## def start\n",
    "    def start(self):\n",
    "        time = self.get_time()\n",
    "        self.start = time\n",
    "        print(f\"[i] Timer started at{self.start.strftime(self.fmt)}\")\n",
    "\n",
    "        \n",
    "\n",
    "    ## def stop\n",
    "    def stop(self):\n",
    "        time = self.get_time()\n",
    "        self.end = time\n",
    "        print(f\"[i] Timer ended at {self.end.strftime(self.fmt)}\")\n",
    "        print(f\"- Total time = {self.end-self.start}\")\n",
    "\n",
    "        \n",
    "        \n",
    "def plot_confusion_matrix(conf_matrix, classes = None, normalize=True,\n",
    "                          title='Confusion Matrix', cmap=\"Blues\",\n",
    "                          print_raw_matrix=False,\n",
    "                          fig_size=(4,4)):\n",
    "    \"\"\"Check if Normalization Option is Set to True. \n",
    "    If so, normalize the raw confusion matrix before visualizing\n",
    "    #Other code should be equivalent to your previous function.\n",
    "    Note: Taken from bs_ds and modified\n",
    "    - Can pass a tuple of (y_true,y_pred) instead of conf matrix.\n",
    "    \"\"\"\n",
    "    import itertools\n",
    "    import numpy as np\n",
    "    import matplotlib.pyplot as plt\n",
    "    import sklearn.metrics as metrics\n",
    "    \n",
    "    ## make confusion matrix if given tuple of y_true,y_pred\n",
    "    if isinstance(conf_matrix, tuple):\n",
    "        y_true = conf_matrix[0].copy()\n",
    "        y_pred = conf_matrix[1].copy()\n",
    "        \n",
    "        if y_true.ndim>1:\n",
    "            y_true = y_true.argmax(axis=1)\n",
    "        if y_pred.ndim>1:\n",
    "            y_pred = y_pred.argmax(axis=1)\n",
    "        cm = metrics.confusion_matrix(y_true,y_pred)\n",
    "    else:\n",
    "        cm = conf_matrix\n",
    "        \n",
    "    ## Generate integer labels for classes\n",
    "    if classes is None:\n",
    "        classes = list(range(len(cm)))  \n",
    "        \n",
    "    ## Normalize data\n",
    "    if normalize:\n",
    "        cm = cm.astype('float') / cm.sum(axis=1)[:, np.newaxis]\n",
    "        fmt='.2f'\n",
    "    else:\n",
    "        fmt= 'd'\n",
    "        \n",
    "        \n",
    "    fontDict = {\n",
    "        'title':{\n",
    "            'fontsize':16,\n",
    "            'fontweight':'semibold',\n",
    "            'ha':'center',\n",
    "            },\n",
    "        'xlabel':{\n",
    "            'fontsize':14,\n",
    "            'fontweight':'normal',\n",
    "            },\n",
    "        'ylabel':{\n",
    "            'fontsize':14,\n",
    "            'fontweight':'normal',\n",
    "            },\n",
    "        'xtick_labels':{\n",
    "            'fontsize':10,\n",
    "            'fontweight':'normal',\n",
    "    #             'rotation':45,\n",
    "            'ha':'right',\n",
    "            },\n",
    "        'ytick_labels':{\n",
    "            'fontsize':10,\n",
    "            'fontweight':'normal',\n",
    "            'rotation':0,\n",
    "            'ha':'right',\n",
    "            },\n",
    "        'data_labels':{\n",
    "            'ha':'center',\n",
    "            'fontweight':'semibold',\n",
    "\n",
    "        }\n",
    "    }\n",
    "\n",
    "    # Create plot\n",
    "    fig,ax = plt.subplots(figsize=fig_size)\n",
    "\n",
    "    plt.imshow(cm, interpolation='nearest', cmap=cmap)\n",
    "    plt.title(title,**fontDict['title'])\n",
    "    plt.colorbar()\n",
    "\n",
    "    tick_marks = classes#np.arange(len(classes))\n",
    "\n",
    "\n",
    "    plt.xticks(tick_marks, classes, **fontDict['xtick_labels'])\n",
    "    plt.yticks(tick_marks, classes,**fontDict['ytick_labels'])\n",
    "\n",
    "    # Determine threshold for b/w text\n",
    "    thresh = cm.max() / 2.\n",
    "\n",
    "    # fig,ax = plt.subplots()\n",
    "    for i, j in itertools.product(range(cm.shape[0]), range(cm.shape[1])):\n",
    "        plt.text(j, i, format(cm[i, j], fmt),\n",
    "                 color='darkgray',**fontDict['data_labels']) #color=\"white\" if cm[i, j] > thresh else \"black\"\n",
    "\n",
    "    plt.tight_layout()\n",
    "    plt.ylabel('True label',**fontDict['ylabel'])\n",
    "    plt.xlabel('Predicted label',**fontDict['xlabel'])\n",
    "\n",
    "    if print_raw_matrix:\n",
    "        print_title = 'Raw Confusion Matrix Counts:'\n",
    "        print('\\n',print_title)\n",
    "        print(conf_matrix)\n",
    "\n",
    "\n",
    "    fig = plt.gcf()\n",
    "    return fig\n",
    "\n",
    "\n",
    "\n",
    "def plot_keras_history(history,figsize_1=(6,4),\n",
    "    figsize_2=(8,6)):\n",
    "    \"\"\"Plots keras history and returns fig\"\"\"\n",
    "    ## Make a df from history\n",
    "    plot_df = pd.DataFrame(history.history)\n",
    "    plot_df['Epoch'] = range(1,len(plot_df)+1)\n",
    "    plot_df.set_index('Epoch',inplace=True)\n",
    "    ## Get cols for acc vs loss\n",
    "    acc_cols = list(filter(lambda x: 'acc' in x, plot_df.columns))\n",
    "    loss_cols = list(filter(lambda x: 'loss' in x, plot_df.columns))   \n",
    "    \n",
    "    ## Set figsizes based on number of keys\n",
    "    if len(acc_cols)>1:\n",
    "        figsize=figsize_2\n",
    "    else:\n",
    "        figsize=figsize_1\n",
    "\n",
    "    ## Make figure and axes\n",
    "    fig,ax = plt.subplots(nrows=2,figsize=figsize,sharex=True)\n",
    "    \n",
    "    ## Plot Accuracy cols in plot 1\n",
    "    plot_df[acc_cols].plot(ax=ax[0])\n",
    "    ax[0].set(ylabel='Accuracy')\n",
    "    ax[0].set_title('Training Results')\n",
    "\n",
    "    ## Plot loss cols in plot 2\n",
    "    plot_df[loss_cols].plot(ax=ax[1])\n",
    "    ax[1].set(ylabel='Loss')\n",
    "    ax[1].set_xlabel('Epoch #')\n",
    "\n",
    "\n",
    "    ## Change xaxis locators \n",
    "    [a.xaxis.set_major_locator(mpl.ticker.MaxNLocator(len(plot_df),integer=True)) for a in ax]\n",
    "    [a.set_xlim((1,len(plot_df)+1)) for a in ax]\n",
    "    plt.tight_layout()\n",
    "    \n",
    "    return fig"
   ]
  },
  {
   "cell_type": "code",
   "execution_count": 45,
   "metadata": {
    "ExecuteTime": {
     "end_time": "2020-06-02T00:50:17.048737Z",
     "start_time": "2020-06-02T00:50:17.046232Z"
    }
   },
   "outputs": [],
   "source": [
    "from keras.models import Sequential\n",
    "from keras.layers import Dense"
   ]
  },
  {
   "cell_type": "code",
   "execution_count": 46,
   "metadata": {
    "ExecuteTime": {
     "end_time": "2020-06-02T00:50:17.390107Z",
     "start_time": "2020-06-02T00:50:17.386474Z"
    }
   },
   "outputs": [
    {
     "data": {
      "text/plain": [
       "(3072,)"
      ]
     },
     "execution_count": 46,
     "metadata": {},
     "output_type": "execute_result"
    }
   ],
   "source": [
    "X_train_img[0].shape"
   ]
  },
  {
   "cell_type": "code",
   "execution_count": 47,
   "metadata": {
    "ExecuteTime": {
     "end_time": "2020-06-02T00:50:17.579462Z",
     "start_time": "2020-06-02T00:50:17.575488Z"
    }
   },
   "outputs": [
    {
     "data": {
      "text/plain": [
       "((7200, 3072), (7200, 2))"
      ]
     },
     "execution_count": 47,
     "metadata": {},
     "output_type": "execute_result"
    }
   ],
   "source": [
    "X_train_img.shape, y_train.shape"
   ]
  },
  {
   "cell_type": "code",
   "execution_count": 48,
   "metadata": {
    "ExecuteTime": {
     "end_time": "2020-06-02T00:50:17.720641Z",
     "start_time": "2020-06-02T00:50:17.718168Z"
    }
   },
   "outputs": [],
   "source": [
    "from keras.wrappers.scikit_learn import KerasClassifier"
   ]
  },
  {
   "cell_type": "code",
   "execution_count": null,
   "metadata": {},
   "outputs": [],
   "source": []
  },
  {
   "cell_type": "code",
   "execution_count": 49,
   "metadata": {
    "ExecuteTime": {
     "end_time": "2020-06-02T00:50:18.130732Z",
     "start_time": "2020-06-02T00:50:18.127114Z"
    }
   },
   "outputs": [],
   "source": [
    "def make_model():\n",
    "    model = Sequential()\n",
    "    model.add(Dense(64,activation='relu',input_shape=(X_train_img.shape[1],)))\n",
    "    model.add(Dense(2, activation='softmax'))\n",
    "    model.compile(loss='binary_crossentropy', optimizer='sgd', metrics=['accuracy'])\n",
    "    return model"
   ]
  },
  {
   "cell_type": "code",
   "execution_count": 50,
   "metadata": {
    "ExecuteTime": {
     "end_time": "2020-06-02T00:50:18.370706Z",
     "start_time": "2020-06-02T00:50:18.367274Z"
    },
    "scrolled": true
   },
   "outputs": [
    {
     "data": {
      "text/plain": [
       "<keras.wrappers.scikit_learn.KerasClassifier at 0x1627a5f60>"
      ]
     },
     "execution_count": 50,
     "metadata": {},
     "output_type": "execute_result"
    }
   ],
   "source": [
    "model = KerasClassifier(make_model)\n",
    "model"
   ]
  },
  {
   "cell_type": "code",
   "execution_count": 51,
   "metadata": {
    "ExecuteTime": {
     "end_time": "2020-06-02T00:50:35.514989Z",
     "start_time": "2020-06-02T00:50:18.666739Z"
    },
    "scrolled": true
   },
   "outputs": [
    {
     "name": "stdout",
     "output_type": "stream",
     "text": [
      "[i] Timer started at06/01/20 - 08:50 PM\n",
      "Train on 7200 samples, validate on 800 samples\n",
      "Epoch 1/100\n",
      "7200/7200 [==============================] - 0s 60us/step - loss: 0.6943 - accuracy: 0.5471 - val_loss: 0.6750 - val_accuracy: 0.5425\n",
      "Epoch 2/100\n",
      "7200/7200 [==============================] - 0s 22us/step - loss: 0.6696 - accuracy: 0.5883 - val_loss: 0.6661 - val_accuracy: 0.6037\n",
      "Epoch 3/100\n",
      "7200/7200 [==============================] - 0s 24us/step - loss: 0.6611 - accuracy: 0.6010 - val_loss: 0.6597 - val_accuracy: 0.6037\n",
      "Epoch 4/100\n",
      "7200/7200 [==============================] - 0s 24us/step - loss: 0.6520 - accuracy: 0.6110 - val_loss: 0.6597 - val_accuracy: 0.6062\n",
      "Epoch 5/100\n",
      "7200/7200 [==============================] - 0s 26us/step - loss: 0.6464 - accuracy: 0.6174 - val_loss: 0.6644 - val_accuracy: 0.6062\n",
      "Epoch 6/100\n",
      "7200/7200 [==============================] - 0s 24us/step - loss: 0.6398 - accuracy: 0.6292 - val_loss: 0.6529 - val_accuracy: 0.6062\n",
      "Epoch 7/100\n",
      "7200/7200 [==============================] - 0s 25us/step - loss: 0.6394 - accuracy: 0.6260 - val_loss: 0.6566 - val_accuracy: 0.5788\n",
      "Epoch 8/100\n",
      "7200/7200 [==============================] - 0s 21us/step - loss: 0.6325 - accuracy: 0.6356 - val_loss: 0.6989 - val_accuracy: 0.5387\n",
      "Epoch 9/100\n",
      "7200/7200 [==============================] - 0s 20us/step - loss: 0.6270 - accuracy: 0.6442 - val_loss: 0.6629 - val_accuracy: 0.5950\n",
      "Epoch 10/100\n",
      "7200/7200 [==============================] - 0s 20us/step - loss: 0.6238 - accuracy: 0.6479 - val_loss: 0.6577 - val_accuracy: 0.5888\n",
      "Epoch 11/100\n",
      "7200/7200 [==============================] - 0s 22us/step - loss: 0.6228 - accuracy: 0.6435 - val_loss: 0.6538 - val_accuracy: 0.6100\n",
      "Epoch 12/100\n",
      "7200/7200 [==============================] - 0s 19us/step - loss: 0.6188 - accuracy: 0.6525 - val_loss: 0.6521 - val_accuracy: 0.6212\n",
      "Epoch 13/100\n",
      "7200/7200 [==============================] - 0s 20us/step - loss: 0.6133 - accuracy: 0.6596 - val_loss: 0.6556 - val_accuracy: 0.6225\n",
      "Epoch 14/100\n",
      "7200/7200 [==============================] - 0s 31us/step - loss: 0.6077 - accuracy: 0.6643 - val_loss: 0.6641 - val_accuracy: 0.5850\n",
      "Epoch 15/100\n",
      "7200/7200 [==============================] - 0s 26us/step - loss: 0.6082 - accuracy: 0.6676 - val_loss: 0.6569 - val_accuracy: 0.6200\n",
      "Epoch 16/100\n",
      "7200/7200 [==============================] - 0s 25us/step - loss: 0.6009 - accuracy: 0.6719 - val_loss: 0.6781 - val_accuracy: 0.5813\n",
      "Epoch 17/100\n",
      "7200/7200 [==============================] - 0s 26us/step - loss: 0.5980 - accuracy: 0.6775 - val_loss: 0.6599 - val_accuracy: 0.5888\n",
      "Epoch 18/100\n",
      "7200/7200 [==============================] - 0s 25us/step - loss: 0.5971 - accuracy: 0.6746 - val_loss: 0.6460 - val_accuracy: 0.6150\n",
      "Epoch 19/100\n",
      "7200/7200 [==============================] - 0s 25us/step - loss: 0.5893 - accuracy: 0.6847 - val_loss: 0.6597 - val_accuracy: 0.6175\n",
      "Epoch 20/100\n",
      "7200/7200 [==============================] - 0s 26us/step - loss: 0.5865 - accuracy: 0.6856 - val_loss: 0.6585 - val_accuracy: 0.6125\n",
      "Epoch 21/100\n",
      "7200/7200 [==============================] - 0s 26us/step - loss: 0.5847 - accuracy: 0.6932 - val_loss: 0.6634 - val_accuracy: 0.5763\n",
      "Epoch 22/100\n",
      "7200/7200 [==============================] - 0s 27us/step - loss: 0.5802 - accuracy: 0.6922 - val_loss: 0.7065 - val_accuracy: 0.5700\n",
      "Epoch 23/100\n",
      "7200/7200 [==============================] - 0s 27us/step - loss: 0.5766 - accuracy: 0.6957 - val_loss: 0.6447 - val_accuracy: 0.6300\n",
      "Epoch 24/100\n",
      "7200/7200 [==============================] - 0s 27us/step - loss: 0.5751 - accuracy: 0.6953 - val_loss: 0.6606 - val_accuracy: 0.6288\n",
      "Epoch 25/100\n",
      "7200/7200 [==============================] - 0s 27us/step - loss: 0.5745 - accuracy: 0.6947 - val_loss: 0.6594 - val_accuracy: 0.5975\n",
      "Epoch 26/100\n",
      "7200/7200 [==============================] - 0s 28us/step - loss: 0.5656 - accuracy: 0.7068 - val_loss: 0.6486 - val_accuracy: 0.6288\n",
      "Epoch 27/100\n",
      "7200/7200 [==============================] - 0s 29us/step - loss: 0.5661 - accuracy: 0.7029 - val_loss: 0.7217 - val_accuracy: 0.5575\n",
      "Epoch 28/100\n",
      "7200/7200 [==============================] - 0s 28us/step - loss: 0.5636 - accuracy: 0.7050 - val_loss: 0.6674 - val_accuracy: 0.6187\n",
      "Epoch 29/100\n",
      "7200/7200 [==============================] - 0s 28us/step - loss: 0.5585 - accuracy: 0.7100 - val_loss: 0.6608 - val_accuracy: 0.6225\n",
      "Epoch 30/100\n",
      "7200/7200 [==============================] - 0s 26us/step - loss: 0.5605 - accuracy: 0.7113 - val_loss: 0.6970 - val_accuracy: 0.6150\n",
      "Epoch 31/100\n",
      "7200/7200 [==============================] - 0s 26us/step - loss: 0.5535 - accuracy: 0.7113 - val_loss: 0.7706 - val_accuracy: 0.5575\n",
      "Epoch 32/100\n",
      "7200/7200 [==============================] - 0s 26us/step - loss: 0.5495 - accuracy: 0.7183 - val_loss: 0.6638 - val_accuracy: 0.6050\n",
      "Epoch 33/100\n",
      "7200/7200 [==============================] - 0s 26us/step - loss: 0.5445 - accuracy: 0.7275 - val_loss: 0.6496 - val_accuracy: 0.6225\n",
      "Epoch 34/100\n",
      "7200/7200 [==============================] - 0s 26us/step - loss: 0.5375 - accuracy: 0.7292 - val_loss: 0.6571 - val_accuracy: 0.6150\n",
      "Epoch 35/100\n",
      "7200/7200 [==============================] - 0s 27us/step - loss: 0.5439 - accuracy: 0.7289 - val_loss: 0.6577 - val_accuracy: 0.6263\n",
      "Epoch 36/100\n",
      "7200/7200 [==============================] - 0s 25us/step - loss: 0.5363 - accuracy: 0.7267 - val_loss: 0.6575 - val_accuracy: 0.6363\n",
      "Epoch 37/100\n",
      "7200/7200 [==============================] - 0s 26us/step - loss: 0.5352 - accuracy: 0.7314 - val_loss: 0.6475 - val_accuracy: 0.6288\n",
      "Epoch 38/100\n",
      "7200/7200 [==============================] - 0s 25us/step - loss: 0.5290 - accuracy: 0.7333 - val_loss: 0.6677 - val_accuracy: 0.6275\n",
      "Epoch 39/100\n",
      "7200/7200 [==============================] - 0s 20us/step - loss: 0.5260 - accuracy: 0.7389 - val_loss: 0.6456 - val_accuracy: 0.6350\n",
      "Epoch 40/100\n",
      "7200/7200 [==============================] - 0s 21us/step - loss: 0.5226 - accuracy: 0.7399 - val_loss: 0.7182 - val_accuracy: 0.5587\n",
      "Epoch 41/100\n",
      "7200/7200 [==============================] - 0s 20us/step - loss: 0.5173 - accuracy: 0.7401 - val_loss: 0.6626 - val_accuracy: 0.6162\n",
      "Epoch 42/100\n",
      "7200/7200 [==============================] - 0s 20us/step - loss: 0.5197 - accuracy: 0.7428 - val_loss: 0.6941 - val_accuracy: 0.5962\n",
      "Epoch 43/100\n",
      "7200/7200 [==============================] - 0s 21us/step - loss: 0.5117 - accuracy: 0.7496 - val_loss: 0.6494 - val_accuracy: 0.6313\n",
      "Epoch 44/100\n",
      "7200/7200 [==============================] - 0s 20us/step - loss: 0.5160 - accuracy: 0.7349 - val_loss: 0.6672 - val_accuracy: 0.6300\n",
      "Epoch 45/100\n",
      "7200/7200 [==============================] - 0s 21us/step - loss: 0.5156 - accuracy: 0.7507 - val_loss: 0.7280 - val_accuracy: 0.5725\n",
      "Epoch 46/100\n",
      "7200/7200 [==============================] - 0s 21us/step - loss: 0.5049 - accuracy: 0.7597 - val_loss: 0.7430 - val_accuracy: 0.5900\n",
      "Epoch 47/100\n",
      "7200/7200 [==============================] - 0s 20us/step - loss: 0.5061 - accuracy: 0.7563 - val_loss: 0.6792 - val_accuracy: 0.6200\n",
      "Epoch 48/100\n",
      "7200/7200 [==============================] - 0s 19us/step - loss: 0.5092 - accuracy: 0.7486 - val_loss: 0.6801 - val_accuracy: 0.6175\n",
      "Epoch 49/100\n",
      "7200/7200 [==============================] - 0s 23us/step - loss: 0.5066 - accuracy: 0.7528 - val_loss: 0.6988 - val_accuracy: 0.6112\n",
      "Epoch 50/100\n",
      "7200/7200 [==============================] - 0s 22us/step - loss: 0.4920 - accuracy: 0.7557 - val_loss: 0.7600 - val_accuracy: 0.6062\n",
      "Epoch 51/100\n",
      "7200/7200 [==============================] - 0s 19us/step - loss: 0.4926 - accuracy: 0.7618 - val_loss: 0.7371 - val_accuracy: 0.5900\n",
      "Epoch 52/100\n",
      "7200/7200 [==============================] - 0s 20us/step - loss: 0.4971 - accuracy: 0.7554 - val_loss: 0.6639 - val_accuracy: 0.6375\n",
      "Epoch 53/100\n",
      "7200/7200 [==============================] - 0s 20us/step - loss: 0.4880 - accuracy: 0.7642 - val_loss: 0.6700 - val_accuracy: 0.6275\n",
      "Epoch 54/100\n",
      "7200/7200 [==============================] - 0s 20us/step - loss: 0.4836 - accuracy: 0.7651 - val_loss: 0.6754 - val_accuracy: 0.6050\n",
      "Epoch 55/100\n",
      "7200/7200 [==============================] - 0s 19us/step - loss: 0.4712 - accuracy: 0.7788 - val_loss: 0.6974 - val_accuracy: 0.5962\n",
      "Epoch 56/100\n"
     ]
    },
    {
     "name": "stdout",
     "output_type": "stream",
     "text": [
      "7200/7200 [==============================] - 0s 20us/step - loss: 0.4794 - accuracy: 0.7765 - val_loss: 1.0061 - val_accuracy: 0.5375\n",
      "Epoch 57/100\n",
      "7200/7200 [==============================] - 0s 25us/step - loss: 0.4787 - accuracy: 0.7760 - val_loss: 0.6771 - val_accuracy: 0.6175\n",
      "Epoch 58/100\n",
      "7200/7200 [==============================] - 0s 22us/step - loss: 0.4800 - accuracy: 0.7725 - val_loss: 0.6670 - val_accuracy: 0.6288\n",
      "Epoch 59/100\n",
      "7200/7200 [==============================] - 0s 19us/step - loss: 0.4736 - accuracy: 0.7733 - val_loss: 0.6837 - val_accuracy: 0.6150\n",
      "Epoch 60/100\n",
      "7200/7200 [==============================] - 0s 21us/step - loss: 0.4630 - accuracy: 0.7812 - val_loss: 0.6743 - val_accuracy: 0.6237\n",
      "Epoch 61/100\n",
      "7200/7200 [==============================] - 0s 21us/step - loss: 0.4737 - accuracy: 0.7782 - val_loss: 0.8066 - val_accuracy: 0.5788\n",
      "Epoch 62/100\n",
      "7200/7200 [==============================] - 0s 19us/step - loss: 0.4607 - accuracy: 0.7849 - val_loss: 0.6916 - val_accuracy: 0.6250\n",
      "Epoch 63/100\n",
      "7200/7200 [==============================] - 0s 22us/step - loss: 0.4537 - accuracy: 0.7924 - val_loss: 1.0216 - val_accuracy: 0.5688\n",
      "Epoch 64/100\n",
      "7200/7200 [==============================] - 0s 20us/step - loss: 0.4593 - accuracy: 0.7808 - val_loss: 0.8492 - val_accuracy: 0.5913\n",
      "Epoch 65/100\n",
      "7200/7200 [==============================] - 0s 25us/step - loss: 0.4517 - accuracy: 0.7983 - val_loss: 0.6919 - val_accuracy: 0.6263\n",
      "Epoch 66/100\n",
      "7200/7200 [==============================] - 0s 26us/step - loss: 0.4451 - accuracy: 0.7910 - val_loss: 0.6799 - val_accuracy: 0.6338\n",
      "Epoch 67/100\n",
      "7200/7200 [==============================] - 0s 19us/step - loss: 0.4477 - accuracy: 0.7936 - val_loss: 0.6858 - val_accuracy: 0.6175\n",
      "Epoch 68/100\n",
      "7200/7200 [==============================] - 0s 21us/step - loss: 0.4504 - accuracy: 0.7954 - val_loss: 0.6736 - val_accuracy: 0.6150\n",
      "Epoch 69/100\n",
      "7200/7200 [==============================] - 0s 21us/step - loss: 0.4389 - accuracy: 0.7990 - val_loss: 1.0080 - val_accuracy: 0.5825\n",
      "Epoch 70/100\n",
      "7200/7200 [==============================] - 0s 21us/step - loss: 0.4363 - accuracy: 0.8015 - val_loss: 0.6843 - val_accuracy: 0.6212\n",
      "Epoch 71/100\n",
      "7200/7200 [==============================] - 0s 22us/step - loss: 0.4345 - accuracy: 0.7994 - val_loss: 0.7963 - val_accuracy: 0.6012\n",
      "Epoch 72/100\n",
      "7200/7200 [==============================] - 0s 19us/step - loss: 0.4378 - accuracy: 0.7982 - val_loss: 0.6856 - val_accuracy: 0.6212\n",
      "Epoch 73/100\n",
      "7200/7200 [==============================] - 0s 21us/step - loss: 0.4427 - accuracy: 0.8012 - val_loss: 0.8494 - val_accuracy: 0.5738\n",
      "Epoch 74/100\n",
      "7200/7200 [==============================] - 0s 21us/step - loss: 0.4236 - accuracy: 0.8054 - val_loss: 0.6848 - val_accuracy: 0.6162\n",
      "Epoch 75/100\n",
      "7200/7200 [==============================] - 0s 20us/step - loss: 0.4321 - accuracy: 0.7974 - val_loss: 0.7192 - val_accuracy: 0.6263\n",
      "Epoch 76/100\n",
      "7200/7200 [==============================] - 0s 20us/step - loss: 0.4154 - accuracy: 0.8118 - val_loss: 0.7841 - val_accuracy: 0.5875\n",
      "Epoch 77/100\n",
      "7200/7200 [==============================] - 0s 19us/step - loss: 0.4245 - accuracy: 0.8126 - val_loss: 0.7923 - val_accuracy: 0.6087\n",
      "Epoch 78/100\n",
      "7200/7200 [==============================] - 0s 20us/step - loss: 0.4118 - accuracy: 0.8151 - val_loss: 0.8522 - val_accuracy: 0.5925\n",
      "Epoch 79/100\n",
      "7200/7200 [==============================] - 0s 19us/step - loss: 0.4195 - accuracy: 0.8125 - val_loss: 0.9018 - val_accuracy: 0.5487\n",
      "Epoch 80/100\n",
      "7200/7200 [==============================] - 0s 19us/step - loss: 0.4079 - accuracy: 0.8186 - val_loss: 0.7487 - val_accuracy: 0.6125\n",
      "Epoch 81/100\n",
      "7200/7200 [==============================] - 0s 19us/step - loss: 0.4055 - accuracy: 0.8235 - val_loss: 0.7197 - val_accuracy: 0.6175\n",
      "Epoch 82/100\n",
      "7200/7200 [==============================] - 0s 19us/step - loss: 0.4064 - accuracy: 0.8211 - val_loss: 0.8016 - val_accuracy: 0.5863\n",
      "Epoch 83/100\n",
      "7200/7200 [==============================] - 0s 19us/step - loss: 0.4049 - accuracy: 0.8165 - val_loss: 0.7693 - val_accuracy: 0.6062\n",
      "Epoch 84/100\n",
      "7200/7200 [==============================] - 0s 19us/step - loss: 0.4038 - accuracy: 0.8217 - val_loss: 0.7329 - val_accuracy: 0.6250\n",
      "Epoch 85/100\n",
      "7200/7200 [==============================] - 0s 21us/step - loss: 0.3894 - accuracy: 0.8336 - val_loss: 0.7036 - val_accuracy: 0.6175\n",
      "Epoch 86/100\n",
      "7200/7200 [==============================] - 0s 19us/step - loss: 0.3949 - accuracy: 0.8256 - val_loss: 0.7560 - val_accuracy: 0.6162\n",
      "Epoch 87/100\n",
      "7200/7200 [==============================] - 0s 19us/step - loss: 0.3927 - accuracy: 0.8239 - val_loss: 0.7108 - val_accuracy: 0.6012\n",
      "Epoch 88/100\n",
      "7200/7200 [==============================] - 0s 20us/step - loss: 0.3762 - accuracy: 0.8378 - val_loss: 0.7343 - val_accuracy: 0.6200\n",
      "Epoch 89/100\n",
      "7200/7200 [==============================] - 0s 19us/step - loss: 0.3821 - accuracy: 0.8282 - val_loss: 0.7102 - val_accuracy: 0.6225\n",
      "Epoch 90/100\n",
      "7200/7200 [==============================] - 0s 19us/step - loss: 0.3863 - accuracy: 0.8307 - val_loss: 0.7483 - val_accuracy: 0.5900\n",
      "Epoch 91/100\n",
      "7200/7200 [==============================] - 0s 20us/step - loss: 0.3841 - accuracy: 0.8343 - val_loss: 0.7625 - val_accuracy: 0.5987\n",
      "Epoch 92/100\n",
      "7200/7200 [==============================] - 0s 20us/step - loss: 0.3769 - accuracy: 0.8399 - val_loss: 1.0892 - val_accuracy: 0.5350\n",
      "Epoch 93/100\n",
      "7200/7200 [==============================] - 0s 19us/step - loss: 0.3852 - accuracy: 0.8360 - val_loss: 0.7180 - val_accuracy: 0.6187\n",
      "Epoch 94/100\n",
      "7200/7200 [==============================] - 0s 20us/step - loss: 0.3466 - accuracy: 0.8582 - val_loss: 0.7823 - val_accuracy: 0.6237\n",
      "Epoch 95/100\n",
      "7200/7200 [==============================] - 0s 20us/step - loss: 0.3601 - accuracy: 0.8474 - val_loss: 0.7242 - val_accuracy: 0.6050\n",
      "Epoch 96/100\n",
      "7200/7200 [==============================] - 0s 22us/step - loss: 0.3627 - accuracy: 0.8467 - val_loss: 0.7420 - val_accuracy: 0.6212\n",
      "Epoch 97/100\n",
      "7200/7200 [==============================] - 0s 20us/step - loss: 0.3790 - accuracy: 0.8329 - val_loss: 0.8083 - val_accuracy: 0.6200\n",
      "Epoch 98/100\n",
      "7200/7200 [==============================] - 0s 19us/step - loss: 0.3550 - accuracy: 0.8540 - val_loss: 0.7343 - val_accuracy: 0.6300\n",
      "Epoch 99/100\n",
      "7200/7200 [==============================] - 0s 21us/step - loss: 0.3706 - accuracy: 0.8467 - val_loss: 0.7186 - val_accuracy: 0.6338\n",
      "Epoch 100/100\n",
      "7200/7200 [==============================] - 0s 24us/step - loss: 0.3701 - accuracy: 0.8476 - val_loss: 0.9733 - val_accuracy: 0.5638\n",
      "[i] Timer ended at 06/01/20 - 08:50 PM\n",
      "- Total time = 0:00:16.844433\n"
     ]
    }
   ],
   "source": [
    "## Fit baseline model\n",
    "timer = Timer()\n",
    "\n",
    "timer.start()\n",
    "history = model.fit(X_train_img, y_train, epochs=100, batch_size=64, \n",
    "                      validation_data=(X_val_img, y_val))\n",
    "timer.stop()"
   ]
  },
  {
   "cell_type": "code",
   "execution_count": 52,
   "metadata": {
    "ExecuteTime": {
     "end_time": "2020-06-02T00:50:35.519283Z",
     "start_time": "2020-06-02T00:50:35.516311Z"
    }
   },
   "outputs": [
    {
     "data": {
      "text/plain": [
       "<keras.callbacks.callbacks.History at 0x162734be0>"
      ]
     },
     "execution_count": 52,
     "metadata": {},
     "output_type": "execute_result"
    }
   ],
   "source": [
    "history"
   ]
  },
  {
   "cell_type": "code",
   "execution_count": null,
   "metadata": {},
   "outputs": [],
   "source": []
  },
  {
   "cell_type": "code",
   "execution_count": 53,
   "metadata": {
    "ExecuteTime": {
     "end_time": "2020-06-02T00:50:35.525845Z",
     "start_time": "2020-06-02T00:50:35.520925Z"
    }
   },
   "outputs": [],
   "source": [
    "        \n",
    "def evaluate_model(y_true, y_pred,history=None):\n",
    "    \"\"\"Evaluates neural network using sklearn metrics\"\"\"\n",
    "    from sklearn import metrics\n",
    "    if y_true.ndim>1:\n",
    "        y_true = y_true.argmax(axis=1)\n",
    "    if y_pred.ndim>1:\n",
    "        y_pred = y_pred.argmax(axis=1)   \n",
    "#     try:    \n",
    "    if history is not None:\n",
    "        plot_keras_history(history)\n",
    "#     except:\n",
    "#         pass\n",
    "    \n",
    "    num_dashes=20\n",
    "    print('\\n')\n",
    "    print('---'*num_dashes)\n",
    "    print('\\tCLASSIFICATION REPORT:')\n",
    "    print('---'*num_dashes)\n",
    "    try:\n",
    "        print(metrics.classification_report(y_true,y_pred))\n",
    "        \n",
    "        fig = plot_confusion_matrix((y_true,y_pred))\n",
    "        plt.show()\n",
    "    except Exception as e:\n",
    "        print(f\"[!] Error during model evaluation:\\n\\t{e}\")\n",
    "\n",
    "        \n",
    "        "
   ]
  },
  {
   "cell_type": "code",
   "execution_count": 54,
   "metadata": {
    "ExecuteTime": {
     "end_time": "2020-06-02T00:50:37.056329Z",
     "start_time": "2020-06-02T00:50:35.527046Z"
    }
   },
   "outputs": [
    {
     "name": "stdout",
     "output_type": "stream",
     "text": [
      "\n",
      "\n",
      "------------------------------------------------------------\n",
      "\tCLASSIFICATION REPORT:\n",
      "------------------------------------------------------------\n",
      "              precision    recall  f1-score   support\n",
      "\n",
      "           0       0.50      0.72      0.59      1000\n",
      "           1       0.50      0.28      0.36      1000\n",
      "\n",
      "    accuracy                           0.50      2000\n",
      "   macro avg       0.50      0.50      0.47      2000\n",
      "weighted avg       0.50      0.50      0.47      2000\n",
      "\n"
     ]
    },
    {
     "data": {
      "image/png": "[encoded data removed]",
      "text/plain": [
       "<Figure size 576x432 with 2 Axes>"
      ]
     },
     "metadata": {
      "needs_background": "light"
     },
     "output_type": "display_data"
    },
    {
     "data": {
      "image/png": "[encoded data removed]",
      "text/plain": [
       "<Figure size 288x288 with 2 Axes>"
      ]
     },
     "metadata": {
      "needs_background": "light"
     },
     "output_type": "display_data"
    }
   ],
   "source": [
    "y_hat_test = model.predict(X_test_img)\n",
    "\n",
    "evaluate_model(y_test,y_hat_test,history)"
   ]
  },
  {
   "cell_type": "code",
   "execution_count": 55,
   "metadata": {
    "ExecuteTime": {
     "end_time": "2020-06-02T00:50:37.062082Z",
     "start_time": "2020-06-02T00:50:37.057812Z"
    }
   },
   "outputs": [],
   "source": [
    "def make_fit_evaluate_model(build_fn, fit_params = dict(epochs=100,\n",
    "                                                        batch_size=64)):\n",
    "    model = build_fn()\n",
    "    \n",
    "    timer = Timer()\n",
    "    model.summary()\n",
    "    timer.start()\n",
    "    \n",
    "    history = model.fit(X_train_img, y_train,**fit_params,\n",
    "                          validation_data=(X_val_img, y_val))\n",
    "    timer.stop()\n",
    "    \n",
    "    y_hat_test = model.predict(X_test_img)\n",
    "    evaluate_model(y_test,y_hat_test,history)\n",
    "    return model,y_hat_test"
   ]
  },
  {
   "cell_type": "code",
   "execution_count": 56,
   "metadata": {
    "ExecuteTime": {
     "end_time": "2020-06-02T00:50:58.622377Z",
     "start_time": "2020-06-02T00:50:37.063810Z"
    },
    "scrolled": true
   },
   "outputs": [
    {
     "name": "stdout",
     "output_type": "stream",
     "text": [
      "Model: \"sequential_6\"\n",
      "_________________________________________________________________\n",
      "Layer (type)                 Output Shape              Param #   \n",
      "=================================================================\n",
      "dense_11 (Dense)             (None, 64)                196672    \n",
      "_________________________________________________________________\n",
      "dense_12 (Dense)             (None, 2)                 130       \n",
      "=================================================================\n",
      "Total params: 196,802\n",
      "Trainable params: 196,802\n",
      "Non-trainable params: 0\n",
      "_________________________________________________________________\n",
      "[i] Timer started at06/01/20 - 08:50 PM\n",
      "Train on 7200 samples, validate on 800 samples\n",
      "Epoch 1/100\n",
      "7200/7200 [==============================] - 0s 46us/step - loss: 0.7018 - accuracy: 0.5468 - val_loss: 0.6799 - val_accuracy: 0.5487\n",
      "Epoch 2/100\n",
      "7200/7200 [==============================] - 0s 29us/step - loss: 0.6779 - accuracy: 0.5750 - val_loss: 0.6647 - val_accuracy: 0.5850\n",
      "Epoch 3/100\n",
      "7200/7200 [==============================] - 0s 29us/step - loss: 0.6695 - accuracy: 0.5901 - val_loss: 0.6674 - val_accuracy: 0.5987\n",
      "Epoch 4/100\n",
      "7200/7200 [==============================] - 0s 26us/step - loss: 0.6599 - accuracy: 0.6025 - val_loss: 0.6939 - val_accuracy: 0.5425\n",
      "Epoch 5/100\n",
      "7200/7200 [==============================] - 0s 26us/step - loss: 0.6538 - accuracy: 0.6092 - val_loss: 0.6542 - val_accuracy: 0.6025\n",
      "Epoch 6/100\n",
      "7200/7200 [==============================] - 0s 28us/step - loss: 0.6464 - accuracy: 0.6279 - val_loss: 0.6735 - val_accuracy: 0.6000\n",
      "Epoch 7/100\n",
      "7200/7200 [==============================] - 0s 27us/step - loss: 0.6388 - accuracy: 0.6307 - val_loss: 0.6511 - val_accuracy: 0.6125\n",
      "Epoch 8/100\n",
      "7200/7200 [==============================] - 0s 26us/step - loss: 0.6342 - accuracy: 0.6351 - val_loss: 0.6609 - val_accuracy: 0.6137\n",
      "Epoch 9/100\n",
      "7200/7200 [==============================] - 0s 26us/step - loss: 0.6356 - accuracy: 0.6347 - val_loss: 0.6572 - val_accuracy: 0.5938\n",
      "Epoch 10/100\n",
      "7200/7200 [==============================] - 0s 27us/step - loss: 0.6279 - accuracy: 0.6439 - val_loss: 0.7162 - val_accuracy: 0.5350\n",
      "Epoch 11/100\n",
      "7200/7200 [==============================] - 0s 26us/step - loss: 0.6257 - accuracy: 0.6446 - val_loss: 0.6520 - val_accuracy: 0.6137\n",
      "Epoch 12/100\n",
      "7200/7200 [==============================] - 0s 25us/step - loss: 0.6213 - accuracy: 0.6490 - val_loss: 0.6558 - val_accuracy: 0.6000\n",
      "Epoch 13/100\n",
      "7200/7200 [==============================] - 0s 25us/step - loss: 0.6190 - accuracy: 0.6546 - val_loss: 0.6440 - val_accuracy: 0.6175\n",
      "Epoch 14/100\n",
      "7200/7200 [==============================] - 0s 27us/step - loss: 0.6163 - accuracy: 0.6535 - val_loss: 0.6639 - val_accuracy: 0.5700\n",
      "Epoch 15/100\n",
      "7200/7200 [==============================] - 0s 28us/step - loss: 0.6081 - accuracy: 0.6692 - val_loss: 0.6590 - val_accuracy: 0.6187\n",
      "Epoch 16/100\n",
      "7200/7200 [==============================] - 0s 29us/step - loss: 0.6081 - accuracy: 0.6669 - val_loss: 0.6868 - val_accuracy: 0.5550\n",
      "Epoch 17/100\n",
      "7200/7200 [==============================] - 0s 33us/step - loss: 0.6060 - accuracy: 0.6669 - val_loss: 0.6776 - val_accuracy: 0.5688\n",
      "Epoch 18/100\n",
      "7200/7200 [==============================] - 0s 30us/step - loss: 0.6001 - accuracy: 0.6753 - val_loss: 0.6780 - val_accuracy: 0.6100\n",
      "Epoch 19/100\n",
      "7200/7200 [==============================] - 0s 28us/step - loss: 0.5984 - accuracy: 0.6728 - val_loss: 0.6600 - val_accuracy: 0.6012\n",
      "Epoch 20/100\n",
      "7200/7200 [==============================] - 0s 26us/step - loss: 0.5952 - accuracy: 0.6796 - val_loss: 0.6517 - val_accuracy: 0.5913\n",
      "Epoch 21/100\n",
      "7200/7200 [==============================] - 0s 28us/step - loss: 0.5886 - accuracy: 0.6910 - val_loss: 0.6493 - val_accuracy: 0.6263\n",
      "Epoch 22/100\n",
      "7200/7200 [==============================] - 0s 29us/step - loss: 0.5876 - accuracy: 0.6856 - val_loss: 0.6702 - val_accuracy: 0.5900\n",
      "Epoch 23/100\n",
      "7200/7200 [==============================] - 0s 27us/step - loss: 0.5900 - accuracy: 0.6908 - val_loss: 0.6435 - val_accuracy: 0.6338\n",
      "Epoch 24/100\n",
      "7200/7200 [==============================] - 0s 29us/step - loss: 0.5812 - accuracy: 0.6936 - val_loss: 0.6796 - val_accuracy: 0.6125\n",
      "Epoch 25/100\n",
      "7200/7200 [==============================] - 0s 29us/step - loss: 0.5772 - accuracy: 0.6981 - val_loss: 0.6489 - val_accuracy: 0.6225\n",
      "Epoch 26/100\n",
      "7200/7200 [==============================] - 0s 26us/step - loss: 0.5807 - accuracy: 0.6938 - val_loss: 0.6554 - val_accuracy: 0.6250\n",
      "Epoch 27/100\n",
      "7200/7200 [==============================] - 0s 31us/step - loss: 0.5700 - accuracy: 0.7015 - val_loss: 0.7587 - val_accuracy: 0.5425\n",
      "Epoch 28/100\n",
      "7200/7200 [==============================] - 0s 30us/step - loss: 0.5724 - accuracy: 0.7013 - val_loss: 0.6588 - val_accuracy: 0.6275\n",
      "Epoch 29/100\n",
      "7200/7200 [==============================] - 0s 27us/step - loss: 0.5671 - accuracy: 0.7038 - val_loss: 0.6542 - val_accuracy: 0.5962\n",
      "Epoch 30/100\n",
      "7200/7200 [==============================] - 0s 32us/step - loss: 0.5674 - accuracy: 0.6999 - val_loss: 0.7378 - val_accuracy: 0.5638\n",
      "Epoch 31/100\n",
      "7200/7200 [==============================] - 0s 27us/step - loss: 0.5561 - accuracy: 0.7143 - val_loss: 0.6467 - val_accuracy: 0.6288\n",
      "Epoch 32/100\n",
      "7200/7200 [==============================] - 0s 29us/step - loss: 0.5588 - accuracy: 0.7149 - val_loss: 0.6514 - val_accuracy: 0.5987\n",
      "Epoch 33/100\n",
      "7200/7200 [==============================] - 0s 27us/step - loss: 0.5569 - accuracy: 0.7118 - val_loss: 0.6496 - val_accuracy: 0.6150\n",
      "Epoch 34/100\n",
      "7200/7200 [==============================] - 0s 28us/step - loss: 0.5482 - accuracy: 0.7204 - val_loss: 0.6686 - val_accuracy: 0.5838\n",
      "Epoch 35/100\n",
      "7200/7200 [==============================] - 0s 25us/step - loss: 0.5611 - accuracy: 0.7096 - val_loss: 0.6839 - val_accuracy: 0.6250\n",
      "Epoch 36/100\n",
      "7200/7200 [==============================] - 0s 27us/step - loss: 0.5521 - accuracy: 0.7188 - val_loss: 0.6535 - val_accuracy: 0.6263\n",
      "Epoch 37/100\n",
      "7200/7200 [==============================] - 0s 27us/step - loss: 0.5433 - accuracy: 0.7260 - val_loss: 0.6542 - val_accuracy: 0.6012\n",
      "Epoch 38/100\n",
      "7200/7200 [==============================] - 0s 27us/step - loss: 0.5372 - accuracy: 0.7293 - val_loss: 0.6888 - val_accuracy: 0.5875\n",
      "Epoch 39/100\n",
      "7200/7200 [==============================] - 0s 29us/step - loss: 0.5410 - accuracy: 0.7257 - val_loss: 0.6877 - val_accuracy: 0.5825\n",
      "Epoch 40/100\n",
      "7200/7200 [==============================] - 0s 27us/step - loss: 0.5385 - accuracy: 0.7240 - val_loss: 0.6800 - val_accuracy: 0.6212\n",
      "Epoch 41/100\n",
      "7200/7200 [==============================] - 0s 27us/step - loss: 0.5416 - accuracy: 0.7199 - val_loss: 0.7388 - val_accuracy: 0.5962\n",
      "Epoch 42/100\n",
      "7200/7200 [==============================] - 0s 30us/step - loss: 0.5304 - accuracy: 0.7386 - val_loss: 0.7467 - val_accuracy: 0.5738\n",
      "Epoch 43/100\n",
      "7200/7200 [==============================] - 0s 30us/step - loss: 0.5237 - accuracy: 0.7393 - val_loss: 0.6721 - val_accuracy: 0.6162\n",
      "Epoch 44/100\n",
      "7200/7200 [==============================] - 0s 30us/step - loss: 0.5268 - accuracy: 0.7360 - val_loss: 0.7050 - val_accuracy: 0.6225\n",
      "Epoch 45/100\n",
      "7200/7200 [==============================] - 0s 30us/step - loss: 0.5228 - accuracy: 0.7343 - val_loss: 0.6631 - val_accuracy: 0.6100\n",
      "Epoch 46/100\n",
      "7200/7200 [==============================] - 0s 28us/step - loss: 0.5243 - accuracy: 0.7376 - val_loss: 1.0389 - val_accuracy: 0.5500\n",
      "Epoch 47/100\n",
      "7200/7200 [==============================] - 0s 28us/step - loss: 0.5178 - accuracy: 0.7467 - val_loss: 0.7319 - val_accuracy: 0.5875\n",
      "Epoch 48/100\n",
      "7200/7200 [==============================] - 0s 28us/step - loss: 0.5101 - accuracy: 0.7551 - val_loss: 0.6906 - val_accuracy: 0.5925\n",
      "Epoch 49/100\n",
      "7200/7200 [==============================] - 0s 27us/step - loss: 0.5023 - accuracy: 0.7522 - val_loss: 0.9474 - val_accuracy: 0.5612\n",
      "Epoch 50/100\n",
      "7200/7200 [==============================] - 0s 27us/step - loss: 0.5093 - accuracy: 0.7522 - val_loss: 0.6623 - val_accuracy: 0.6100\n",
      "Epoch 51/100\n",
      "7200/7200 [==============================] - 0s 33us/step - loss: 0.5018 - accuracy: 0.7492 - val_loss: 0.6662 - val_accuracy: 0.6087\n"
     ]
    },
    {
     "name": "stdout",
     "output_type": "stream",
     "text": [
      "Epoch 52/100\n",
      "7200/7200 [==============================] - 0s 30us/step - loss: 0.4967 - accuracy: 0.7625 - val_loss: 0.6511 - val_accuracy: 0.6313\n",
      "Epoch 53/100\n",
      "7200/7200 [==============================] - 0s 34us/step - loss: 0.4951 - accuracy: 0.7581 - val_loss: 0.6495 - val_accuracy: 0.6212\n",
      "Epoch 54/100\n",
      "7200/7200 [==============================] - 0s 32us/step - loss: 0.4934 - accuracy: 0.7594 - val_loss: 0.6596 - val_accuracy: 0.6363\n",
      "Epoch 55/100\n",
      "7200/7200 [==============================] - 0s 27us/step - loss: 0.4863 - accuracy: 0.7644 - val_loss: 0.6561 - val_accuracy: 0.6275\n",
      "Epoch 56/100\n",
      "7200/7200 [==============================] - 0s 27us/step - loss: 0.4932 - accuracy: 0.7586 - val_loss: 0.6620 - val_accuracy: 0.6300\n",
      "Epoch 57/100\n",
      "7200/7200 [==============================] - 0s 33us/step - loss: 0.4866 - accuracy: 0.7676 - val_loss: 0.7292 - val_accuracy: 0.5850\n",
      "Epoch 58/100\n",
      "7200/7200 [==============================] - 0s 24us/step - loss: 0.4895 - accuracy: 0.7693 - val_loss: 0.8228 - val_accuracy: 0.5950\n",
      "Epoch 59/100\n",
      "7200/7200 [==============================] - 0s 25us/step - loss: 0.4810 - accuracy: 0.7683 - val_loss: 0.9157 - val_accuracy: 0.5387\n",
      "Epoch 60/100\n",
      "7200/7200 [==============================] - 0s 24us/step - loss: 0.4794 - accuracy: 0.7724 - val_loss: 0.7264 - val_accuracy: 0.6288\n",
      "Epoch 61/100\n",
      "7200/7200 [==============================] - 0s 23us/step - loss: 0.4818 - accuracy: 0.7697 - val_loss: 0.6666 - val_accuracy: 0.6425\n",
      "Epoch 62/100\n",
      "7200/7200 [==============================] - 0s 25us/step - loss: 0.4682 - accuracy: 0.7747 - val_loss: 0.6855 - val_accuracy: 0.6062\n",
      "Epoch 63/100\n",
      "7200/7200 [==============================] - 0s 26us/step - loss: 0.4706 - accuracy: 0.7800 - val_loss: 0.7329 - val_accuracy: 0.5825\n",
      "Epoch 64/100\n",
      "7200/7200 [==============================] - 0s 25us/step - loss: 0.4804 - accuracy: 0.7746 - val_loss: 0.7039 - val_accuracy: 0.6275\n",
      "Epoch 65/100\n",
      "7200/7200 [==============================] - 0s 28us/step - loss: 0.4660 - accuracy: 0.7862 - val_loss: 0.6719 - val_accuracy: 0.6425\n",
      "Epoch 66/100\n",
      "7200/7200 [==============================] - 0s 27us/step - loss: 0.4609 - accuracy: 0.7778 - val_loss: 0.6938 - val_accuracy: 0.5950\n",
      "Epoch 67/100\n",
      "7200/7200 [==============================] - 0s 26us/step - loss: 0.4560 - accuracy: 0.7836 - val_loss: 0.6977 - val_accuracy: 0.5962\n",
      "Epoch 68/100\n",
      "7200/7200 [==============================] - 0s 28us/step - loss: 0.4685 - accuracy: 0.7789 - val_loss: 0.7372 - val_accuracy: 0.6237\n",
      "Epoch 69/100\n",
      "7200/7200 [==============================] - 0s 29us/step - loss: 0.4605 - accuracy: 0.7835 - val_loss: 0.6671 - val_accuracy: 0.6438\n",
      "Epoch 70/100\n",
      "7200/7200 [==============================] - 0s 27us/step - loss: 0.4379 - accuracy: 0.8029 - val_loss: 0.6986 - val_accuracy: 0.6062\n",
      "Epoch 71/100\n",
      "7200/7200 [==============================] - 0s 29us/step - loss: 0.4523 - accuracy: 0.7924 - val_loss: 0.6641 - val_accuracy: 0.6263\n",
      "Epoch 72/100\n",
      "7200/7200 [==============================] - 0s 26us/step - loss: 0.4392 - accuracy: 0.7947 - val_loss: 0.6645 - val_accuracy: 0.6162\n",
      "Epoch 73/100\n",
      "7200/7200 [==============================] - 0s 27us/step - loss: 0.4480 - accuracy: 0.7957 - val_loss: 0.6964 - val_accuracy: 0.6162\n",
      "Epoch 74/100\n",
      "7200/7200 [==============================] - 0s 30us/step - loss: 0.4316 - accuracy: 0.8042 - val_loss: 0.6793 - val_accuracy: 0.6375\n",
      "Epoch 75/100\n",
      "7200/7200 [==============================] - 0s 29us/step - loss: 0.4510 - accuracy: 0.7944 - val_loss: 0.8977 - val_accuracy: 0.5562\n",
      "Epoch 76/100\n",
      "7200/7200 [==============================] - 0s 26us/step - loss: 0.4348 - accuracy: 0.8036 - val_loss: 0.6806 - val_accuracy: 0.6400\n",
      "Epoch 77/100\n",
      "7200/7200 [==============================] - 0s 30us/step - loss: 0.4297 - accuracy: 0.8000 - val_loss: 0.6882 - val_accuracy: 0.6275\n",
      "Epoch 78/100\n",
      "7200/7200 [==============================] - 0s 25us/step - loss: 0.4207 - accuracy: 0.8093 - val_loss: 0.7733 - val_accuracy: 0.5713\n",
      "Epoch 79/100\n",
      "7200/7200 [==============================] - 0s 28us/step - loss: 0.4299 - accuracy: 0.8061 - val_loss: 0.7184 - val_accuracy: 0.6338\n",
      "Epoch 80/100\n",
      "7200/7200 [==============================] - 0s 26us/step - loss: 0.4241 - accuracy: 0.8093 - val_loss: 0.7024 - val_accuracy: 0.6162\n",
      "Epoch 81/100\n",
      "7200/7200 [==============================] - 0s 25us/step - loss: 0.4122 - accuracy: 0.8169 - val_loss: 0.7620 - val_accuracy: 0.6162\n",
      "Epoch 82/100\n",
      "7200/7200 [==============================] - 0s 34us/step - loss: 0.4128 - accuracy: 0.8149 - val_loss: 0.7307 - val_accuracy: 0.5950\n",
      "Epoch 83/100\n",
      "7200/7200 [==============================] - 0s 28us/step - loss: 0.4149 - accuracy: 0.8096 - val_loss: 0.7371 - val_accuracy: 0.6263\n",
      "Epoch 84/100\n",
      "7200/7200 [==============================] - 0s 28us/step - loss: 0.4239 - accuracy: 0.8072 - val_loss: 0.6830 - val_accuracy: 0.6375\n",
      "Epoch 85/100\n",
      "7200/7200 [==============================] - 0s 29us/step - loss: 0.4016 - accuracy: 0.8250 - val_loss: 0.7065 - val_accuracy: 0.6363\n",
      "Epoch 86/100\n",
      "7200/7200 [==============================] - 0s 30us/step - loss: 0.4052 - accuracy: 0.8249 - val_loss: 0.9096 - val_accuracy: 0.5663\n",
      "Epoch 87/100\n",
      "7200/7200 [==============================] - 0s 27us/step - loss: 0.4147 - accuracy: 0.8112 - val_loss: 0.6934 - val_accuracy: 0.6400\n",
      "Epoch 88/100\n",
      "7200/7200 [==============================] - 0s 26us/step - loss: 0.3949 - accuracy: 0.8225 - val_loss: 0.7956 - val_accuracy: 0.5813\n",
      "Epoch 89/100\n",
      "7200/7200 [==============================] - 0s 32us/step - loss: 0.3971 - accuracy: 0.8254 - val_loss: 0.7474 - val_accuracy: 0.6037\n",
      "Epoch 90/100\n",
      "7200/7200 [==============================] - 0s 26us/step - loss: 0.3833 - accuracy: 0.8342 - val_loss: 0.6900 - val_accuracy: 0.6363\n",
      "Epoch 91/100\n",
      "7200/7200 [==============================] - 0s 25us/step - loss: 0.3998 - accuracy: 0.8231 - val_loss: 0.7170 - val_accuracy: 0.6075\n",
      "Epoch 92/100\n",
      "7200/7200 [==============================] - 0s 24us/step - loss: 0.3795 - accuracy: 0.8385 - val_loss: 0.7780 - val_accuracy: 0.5962\n",
      "Epoch 93/100\n",
      "7200/7200 [==============================] - 0s 22us/step - loss: 0.3907 - accuracy: 0.8303 - val_loss: 0.7293 - val_accuracy: 0.6150\n",
      "Epoch 94/100\n",
      "7200/7200 [==============================] - 0s 21us/step - loss: 0.3917 - accuracy: 0.8301 - val_loss: 0.8354 - val_accuracy: 0.5825\n",
      "Epoch 95/100\n",
      "7200/7200 [==============================] - 0s 24us/step - loss: 0.3821 - accuracy: 0.8326 - val_loss: 0.7280 - val_accuracy: 0.6175\n",
      "Epoch 96/100\n",
      "7200/7200 [==============================] - 0s 24us/step - loss: 0.3741 - accuracy: 0.8442 - val_loss: 0.7655 - val_accuracy: 0.5975\n",
      "Epoch 97/100\n",
      "7200/7200 [==============================] - 0s 22us/step - loss: 0.3803 - accuracy: 0.8364 - val_loss: 0.8793 - val_accuracy: 0.6012\n",
      "Epoch 98/100\n",
      "7200/7200 [==============================] - 0s 26us/step - loss: 0.3776 - accuracy: 0.8371 - val_loss: 0.7256 - val_accuracy: 0.6112\n",
      "Epoch 99/100\n",
      "7200/7200 [==============================] - 0s 22us/step - loss: 0.3622 - accuracy: 0.8435 - val_loss: 0.7011 - val_accuracy: 0.6200\n",
      "Epoch 100/100\n",
      "7200/7200 [==============================] - 0s 21us/step - loss: 0.3730 - accuracy: 0.8432 - val_loss: 0.7305 - val_accuracy: 0.6225\n",
      "[i] Timer ended at 06/01/20 - 08:50 PM\n",
      "- Total time = 0:00:20.268867\n",
      "\n",
      "\n",
      "------------------------------------------------------------\n",
      "\tCLASSIFICATION REPORT:\n",
      "------------------------------------------------------------\n",
      "              precision    recall  f1-score   support\n",
      "\n",
      "           0       0.50      0.46      0.48      1000\n",
      "           1       0.50      0.54      0.52      1000\n",
      "\n",
      "    accuracy                           0.50      2000\n",
      "   macro avg       0.50      0.50      0.50      2000\n",
      "weighted avg       0.50      0.50      0.50      2000\n",
      "\n"
     ]
    },
    {
     "data": {
      "image/png": "[encoded data removed]",
      "text/plain": [
       "<Figure size 576x432 with 2 Axes>"
      ]
     },
     "metadata": {
      "needs_background": "light"
     },
     "output_type": "display_data"
    },
    {
     "ename": "KeyboardInterrupt",
     "evalue": "",
     "output_type": "error",
     "traceback": [
      "\u001b[0;31m---------------------------------------------------------------------------\u001b[0m",
      "\u001b[0;31mKeyboardInterrupt\u001b[0m                         Traceback (most recent call last)",
      "\u001b[0;32m<ipython-input-56-cbd748da32ef>\u001b[0m in \u001b[0;36m<module>\u001b[0;34m\u001b[0m\n\u001b[0;32m----> 1\u001b[0;31m \u001b[0mfit_model\u001b[0m\u001b[0;34m,\u001b[0m\u001b[0mmodel_preds\u001b[0m \u001b[0;34m=\u001b[0m \u001b[0mmake_fit_evaluate_model\u001b[0m\u001b[0;34m(\u001b[0m\u001b[0mmake_model\u001b[0m\u001b[0;34m)\u001b[0m\u001b[0;34m\u001b[0m\u001b[0;34m\u001b[0m\u001b[0m\n\u001b[0m",
      "\u001b[0;32m<ipython-input-55-a92b85b5e7c4>\u001b[0m in \u001b[0;36mmake_fit_evaluate_model\u001b[0;34m(build_fn, fit_params)\u001b[0m\n\u001b[1;32m     12\u001b[0m \u001b[0;34m\u001b[0m\u001b[0m\n\u001b[1;32m     13\u001b[0m     \u001b[0my_hat_test\u001b[0m \u001b[0;34m=\u001b[0m \u001b[0mmodel\u001b[0m\u001b[0;34m.\u001b[0m\u001b[0mpredict\u001b[0m\u001b[0;34m(\u001b[0m\u001b[0mX_test_img\u001b[0m\u001b[0;34m)\u001b[0m\u001b[0;34m\u001b[0m\u001b[0;34m\u001b[0m\u001b[0m\n\u001b[0;32m---> 14\u001b[0;31m     \u001b[0mevaluate_model\u001b[0m\u001b[0;34m(\u001b[0m\u001b[0my_test\u001b[0m\u001b[0;34m,\u001b[0m\u001b[0my_hat_test\u001b[0m\u001b[0;34m,\u001b[0m\u001b[0mhistory\u001b[0m\u001b[0;34m)\u001b[0m\u001b[0;34m\u001b[0m\u001b[0;34m\u001b[0m\u001b[0m\n\u001b[0m\u001b[1;32m     15\u001b[0m     \u001b[0;32mreturn\u001b[0m \u001b[0mmodel\u001b[0m\u001b[0;34m,\u001b[0m\u001b[0my_hat_test\u001b[0m\u001b[0;34m\u001b[0m\u001b[0;34m\u001b[0m\u001b[0m\n",
      "\u001b[0;32m<ipython-input-53-7af43c4c956a>\u001b[0m in \u001b[0;36mevaluate_model\u001b[0;34m(y_true, y_pred, history)\u001b[0m\n\u001b[1;32m     21\u001b[0m \u001b[0;34m\u001b[0m\u001b[0m\n\u001b[1;32m     22\u001b[0m         \u001b[0mfig\u001b[0m \u001b[0;34m=\u001b[0m \u001b[0mplot_confusion_matrix\u001b[0m\u001b[0;34m(\u001b[0m\u001b[0;34m(\u001b[0m\u001b[0my_true\u001b[0m\u001b[0;34m,\u001b[0m\u001b[0my_pred\u001b[0m\u001b[0;34m)\u001b[0m\u001b[0;34m)\u001b[0m\u001b[0;34m\u001b[0m\u001b[0;34m\u001b[0m\u001b[0m\n\u001b[0;32m---> 23\u001b[0;31m         \u001b[0mplt\u001b[0m\u001b[0;34m.\u001b[0m\u001b[0mshow\u001b[0m\u001b[0;34m(\u001b[0m\u001b[0;34m)\u001b[0m\u001b[0;34m\u001b[0m\u001b[0;34m\u001b[0m\u001b[0m\n\u001b[0m\u001b[1;32m     24\u001b[0m     \u001b[0;32mexcept\u001b[0m \u001b[0mException\u001b[0m \u001b[0;32mas\u001b[0m \u001b[0me\u001b[0m\u001b[0;34m:\u001b[0m\u001b[0;34m\u001b[0m\u001b[0;34m\u001b[0m\u001b[0m\n\u001b[1;32m     25\u001b[0m         \u001b[0mprint\u001b[0m\u001b[0;34m(\u001b[0m\u001b[0;34mf\"[!] Error during model evaluation:\\n\\t{e}\"\u001b[0m\u001b[0;34m)\u001b[0m\u001b[0;34m\u001b[0m\u001b[0;34m\u001b[0m\u001b[0m\n",
      "\u001b[0;32m/opt/anaconda3/envs/learn-env/lib/python3.6/site-packages/matplotlib/pyplot.py\u001b[0m in \u001b[0;36mshow\u001b[0;34m(*args, **kw)\u001b[0m\n\u001b[1;32m    267\u001b[0m     \"\"\"\n\u001b[1;32m    268\u001b[0m     \u001b[0;32mglobal\u001b[0m \u001b[0m_show\u001b[0m\u001b[0;34m\u001b[0m\u001b[0;34m\u001b[0m\u001b[0m\n\u001b[0;32m--> 269\u001b[0;31m     \u001b[0;32mreturn\u001b[0m \u001b[0m_show\u001b[0m\u001b[0;34m(\u001b[0m\u001b[0;34m*\u001b[0m\u001b[0margs\u001b[0m\u001b[0;34m,\u001b[0m \u001b[0;34m**\u001b[0m\u001b[0mkw\u001b[0m\u001b[0;34m)\u001b[0m\u001b[0;34m\u001b[0m\u001b[0;34m\u001b[0m\u001b[0m\n\u001b[0m\u001b[1;32m    270\u001b[0m \u001b[0;34m\u001b[0m\u001b[0m\n\u001b[1;32m    271\u001b[0m \u001b[0;34m\u001b[0m\u001b[0m\n",
      "\u001b[0;32m/opt/anaconda3/envs/learn-env/lib/python3.6/site-packages/ipykernel/pylab/backend_inline.py\u001b[0m in \u001b[0;36mshow\u001b[0;34m(close, block)\u001b[0m\n\u001b[1;32m     37\u001b[0m             display(\n\u001b[1;32m     38\u001b[0m                 \u001b[0mfigure_manager\u001b[0m\u001b[0;34m.\u001b[0m\u001b[0mcanvas\u001b[0m\u001b[0;34m.\u001b[0m\u001b[0mfigure\u001b[0m\u001b[0;34m,\u001b[0m\u001b[0;34m\u001b[0m\u001b[0;34m\u001b[0m\u001b[0m\n\u001b[0;32m---> 39\u001b[0;31m                 \u001b[0mmetadata\u001b[0m\u001b[0;34m=\u001b[0m\u001b[0m_fetch_figure_metadata\u001b[0m\u001b[0;34m(\u001b[0m\u001b[0mfigure_manager\u001b[0m\u001b[0;34m.\u001b[0m\u001b[0mcanvas\u001b[0m\u001b[0;34m.\u001b[0m\u001b[0mfigure\u001b[0m\u001b[0;34m)\u001b[0m\u001b[0;34m\u001b[0m\u001b[0;34m\u001b[0m\u001b[0m\n\u001b[0m\u001b[1;32m     40\u001b[0m             )\n\u001b[1;32m     41\u001b[0m     \u001b[0;32mfinally\u001b[0m\u001b[0;34m:\u001b[0m\u001b[0;34m\u001b[0m\u001b[0;34m\u001b[0m\u001b[0m\n",
      "\u001b[0;32m/opt/anaconda3/envs/learn-env/lib/python3.6/site-packages/IPython/core/display.py\u001b[0m in \u001b[0;36mdisplay\u001b[0;34m(include, exclude, metadata, transient, display_id, *objs, **kwargs)\u001b[0m\n\u001b[1;32m    304\u001b[0m             \u001b[0mpublish_display_data\u001b[0m\u001b[0;34m(\u001b[0m\u001b[0mdata\u001b[0m\u001b[0;34m=\u001b[0m\u001b[0mobj\u001b[0m\u001b[0;34m,\u001b[0m \u001b[0mmetadata\u001b[0m\u001b[0;34m=\u001b[0m\u001b[0mmetadata\u001b[0m\u001b[0;34m,\u001b[0m \u001b[0;34m**\u001b[0m\u001b[0mkwargs\u001b[0m\u001b[0;34m)\u001b[0m\u001b[0;34m\u001b[0m\u001b[0;34m\u001b[0m\u001b[0m\n\u001b[1;32m    305\u001b[0m         \u001b[0;32melse\u001b[0m\u001b[0;34m:\u001b[0m\u001b[0;34m\u001b[0m\u001b[0;34m\u001b[0m\u001b[0m\n\u001b[0;32m--> 306\u001b[0;31m             \u001b[0mformat_dict\u001b[0m\u001b[0;34m,\u001b[0m \u001b[0mmd_dict\u001b[0m \u001b[0;34m=\u001b[0m \u001b[0mformat\u001b[0m\u001b[0;34m(\u001b[0m\u001b[0mobj\u001b[0m\u001b[0;34m,\u001b[0m \u001b[0minclude\u001b[0m\u001b[0;34m=\u001b[0m\u001b[0minclude\u001b[0m\u001b[0;34m,\u001b[0m \u001b[0mexclude\u001b[0m\u001b[0;34m=\u001b[0m\u001b[0mexclude\u001b[0m\u001b[0;34m)\u001b[0m\u001b[0;34m\u001b[0m\u001b[0;34m\u001b[0m\u001b[0m\n\u001b[0m\u001b[1;32m    307\u001b[0m             \u001b[0;32mif\u001b[0m \u001b[0;32mnot\u001b[0m \u001b[0mformat_dict\u001b[0m\u001b[0;34m:\u001b[0m\u001b[0;34m\u001b[0m\u001b[0;34m\u001b[0m\u001b[0m\n\u001b[1;32m    308\u001b[0m                 \u001b[0;31m# nothing to display (e.g. _ipython_display_ took over)\u001b[0m\u001b[0;34m\u001b[0m\u001b[0;34m\u001b[0m\u001b[0;34m\u001b[0m\u001b[0m\n",
      "\u001b[0;32m/opt/anaconda3/envs/learn-env/lib/python3.6/site-packages/IPython/core/formatters.py\u001b[0m in \u001b[0;36mformat\u001b[0;34m(self, obj, include, exclude)\u001b[0m\n\u001b[1;32m    178\u001b[0m             \u001b[0mmd\u001b[0m \u001b[0;34m=\u001b[0m \u001b[0;32mNone\u001b[0m\u001b[0;34m\u001b[0m\u001b[0;34m\u001b[0m\u001b[0m\n\u001b[1;32m    179\u001b[0m             \u001b[0;32mtry\u001b[0m\u001b[0;34m:\u001b[0m\u001b[0;34m\u001b[0m\u001b[0;34m\u001b[0m\u001b[0m\n\u001b[0;32m--> 180\u001b[0;31m                 \u001b[0mdata\u001b[0m \u001b[0;34m=\u001b[0m \u001b[0mformatter\u001b[0m\u001b[0;34m(\u001b[0m\u001b[0mobj\u001b[0m\u001b[0;34m)\u001b[0m\u001b[0;34m\u001b[0m\u001b[0;34m\u001b[0m\u001b[0m\n\u001b[0m\u001b[1;32m    181\u001b[0m             \u001b[0;32mexcept\u001b[0m\u001b[0;34m:\u001b[0m\u001b[0;34m\u001b[0m\u001b[0;34m\u001b[0m\u001b[0m\n\u001b[1;32m    182\u001b[0m                 \u001b[0;31m# FIXME: log the exception\u001b[0m\u001b[0;34m\u001b[0m\u001b[0;34m\u001b[0m\u001b[0;34m\u001b[0m\u001b[0m\n",
      "\u001b[0;32m</opt/anaconda3/envs/learn-env/lib/python3.6/site-packages/decorator.py:decorator-gen-9>\u001b[0m in \u001b[0;36m__call__\u001b[0;34m(self, obj)\u001b[0m\n",
      "\u001b[0;32m/opt/anaconda3/envs/learn-env/lib/python3.6/site-packages/IPython/core/formatters.py\u001b[0m in \u001b[0;36mcatch_format_error\u001b[0;34m(method, self, *args, **kwargs)\u001b[0m\n\u001b[1;32m    222\u001b[0m     \u001b[0;34m\"\"\"show traceback on failed format call\"\"\"\u001b[0m\u001b[0;34m\u001b[0m\u001b[0;34m\u001b[0m\u001b[0m\n\u001b[1;32m    223\u001b[0m     \u001b[0;32mtry\u001b[0m\u001b[0;34m:\u001b[0m\u001b[0;34m\u001b[0m\u001b[0;34m\u001b[0m\u001b[0m\n\u001b[0;32m--> 224\u001b[0;31m         \u001b[0mr\u001b[0m \u001b[0;34m=\u001b[0m \u001b[0mmethod\u001b[0m\u001b[0;34m(\u001b[0m\u001b[0mself\u001b[0m\u001b[0;34m,\u001b[0m \u001b[0;34m*\u001b[0m\u001b[0margs\u001b[0m\u001b[0;34m,\u001b[0m \u001b[0;34m**\u001b[0m\u001b[0mkwargs\u001b[0m\u001b[0;34m)\u001b[0m\u001b[0;34m\u001b[0m\u001b[0;34m\u001b[0m\u001b[0m\n\u001b[0m\u001b[1;32m    225\u001b[0m     \u001b[0;32mexcept\u001b[0m \u001b[0mNotImplementedError\u001b[0m\u001b[0;34m:\u001b[0m\u001b[0;34m\u001b[0m\u001b[0;34m\u001b[0m\u001b[0m\n\u001b[1;32m    226\u001b[0m         \u001b[0;31m# don't warn on NotImplementedErrors\u001b[0m\u001b[0;34m\u001b[0m\u001b[0;34m\u001b[0m\u001b[0;34m\u001b[0m\u001b[0m\n",
      "\u001b[0;32m/opt/anaconda3/envs/learn-env/lib/python3.6/site-packages/IPython/core/formatters.py\u001b[0m in \u001b[0;36m__call__\u001b[0;34m(self, obj)\u001b[0m\n\u001b[1;32m    339\u001b[0m                 \u001b[0;32mpass\u001b[0m\u001b[0;34m\u001b[0m\u001b[0;34m\u001b[0m\u001b[0m\n\u001b[1;32m    340\u001b[0m             \u001b[0;32melse\u001b[0m\u001b[0;34m:\u001b[0m\u001b[0;34m\u001b[0m\u001b[0;34m\u001b[0m\u001b[0m\n\u001b[0;32m--> 341\u001b[0;31m                 \u001b[0;32mreturn\u001b[0m \u001b[0mprinter\u001b[0m\u001b[0;34m(\u001b[0m\u001b[0mobj\u001b[0m\u001b[0;34m)\u001b[0m\u001b[0;34m\u001b[0m\u001b[0;34m\u001b[0m\u001b[0m\n\u001b[0m\u001b[1;32m    342\u001b[0m             \u001b[0;31m# Finally look for special method names\u001b[0m\u001b[0;34m\u001b[0m\u001b[0;34m\u001b[0m\u001b[0;34m\u001b[0m\u001b[0m\n\u001b[1;32m    343\u001b[0m             \u001b[0mmethod\u001b[0m \u001b[0;34m=\u001b[0m \u001b[0mget_real_method\u001b[0m\u001b[0;34m(\u001b[0m\u001b[0mobj\u001b[0m\u001b[0;34m,\u001b[0m \u001b[0mself\u001b[0m\u001b[0;34m.\u001b[0m\u001b[0mprint_method\u001b[0m\u001b[0;34m)\u001b[0m\u001b[0;34m\u001b[0m\u001b[0;34m\u001b[0m\u001b[0m\n",
      "\u001b[0;32m/opt/anaconda3/envs/learn-env/lib/python3.6/site-packages/IPython/core/pylabtools.py\u001b[0m in \u001b[0;36m<lambda>\u001b[0;34m(fig)\u001b[0m\n\u001b[1;32m    242\u001b[0m \u001b[0;34m\u001b[0m\u001b[0m\n\u001b[1;32m    243\u001b[0m     \u001b[0;32mif\u001b[0m \u001b[0;34m'png'\u001b[0m \u001b[0;32min\u001b[0m \u001b[0mformats\u001b[0m\u001b[0;34m:\u001b[0m\u001b[0;34m\u001b[0m\u001b[0;34m\u001b[0m\u001b[0m\n\u001b[0;32m--> 244\u001b[0;31m         \u001b[0mpng_formatter\u001b[0m\u001b[0;34m.\u001b[0m\u001b[0mfor_type\u001b[0m\u001b[0;34m(\u001b[0m\u001b[0mFigure\u001b[0m\u001b[0;34m,\u001b[0m \u001b[0;32mlambda\u001b[0m \u001b[0mfig\u001b[0m\u001b[0;34m:\u001b[0m \u001b[0mprint_figure\u001b[0m\u001b[0;34m(\u001b[0m\u001b[0mfig\u001b[0m\u001b[0;34m,\u001b[0m \u001b[0;34m'png'\u001b[0m\u001b[0;34m,\u001b[0m \u001b[0;34m**\u001b[0m\u001b[0mkwargs\u001b[0m\u001b[0;34m)\u001b[0m\u001b[0;34m)\u001b[0m\u001b[0;34m\u001b[0m\u001b[0;34m\u001b[0m\u001b[0m\n\u001b[0m\u001b[1;32m    245\u001b[0m     \u001b[0;32mif\u001b[0m \u001b[0;34m'retina'\u001b[0m \u001b[0;32min\u001b[0m \u001b[0mformats\u001b[0m \u001b[0;32mor\u001b[0m \u001b[0;34m'png2x'\u001b[0m \u001b[0;32min\u001b[0m \u001b[0mformats\u001b[0m\u001b[0;34m:\u001b[0m\u001b[0;34m\u001b[0m\u001b[0;34m\u001b[0m\u001b[0m\n\u001b[1;32m    246\u001b[0m         \u001b[0mpng_formatter\u001b[0m\u001b[0;34m.\u001b[0m\u001b[0mfor_type\u001b[0m\u001b[0;34m(\u001b[0m\u001b[0mFigure\u001b[0m\u001b[0;34m,\u001b[0m \u001b[0;32mlambda\u001b[0m \u001b[0mfig\u001b[0m\u001b[0;34m:\u001b[0m \u001b[0mretina_figure\u001b[0m\u001b[0;34m(\u001b[0m\u001b[0mfig\u001b[0m\u001b[0;34m,\u001b[0m \u001b[0;34m**\u001b[0m\u001b[0mkwargs\u001b[0m\u001b[0;34m)\u001b[0m\u001b[0;34m)\u001b[0m\u001b[0;34m\u001b[0m\u001b[0;34m\u001b[0m\u001b[0m\n",
      "\u001b[0;32m/opt/anaconda3/envs/learn-env/lib/python3.6/site-packages/IPython/core/pylabtools.py\u001b[0m in \u001b[0;36mprint_figure\u001b[0;34m(fig, fmt, bbox_inches, **kwargs)\u001b[0m\n\u001b[1;32m    126\u001b[0m \u001b[0;34m\u001b[0m\u001b[0m\n\u001b[1;32m    127\u001b[0m     \u001b[0mbytes_io\u001b[0m \u001b[0;34m=\u001b[0m \u001b[0mBytesIO\u001b[0m\u001b[0;34m(\u001b[0m\u001b[0;34m)\u001b[0m\u001b[0;34m\u001b[0m\u001b[0;34m\u001b[0m\u001b[0m\n\u001b[0;32m--> 128\u001b[0;31m     \u001b[0mfig\u001b[0m\u001b[0;34m.\u001b[0m\u001b[0mcanvas\u001b[0m\u001b[0;34m.\u001b[0m\u001b[0mprint_figure\u001b[0m\u001b[0;34m(\u001b[0m\u001b[0mbytes_io\u001b[0m\u001b[0;34m,\u001b[0m \u001b[0;34m**\u001b[0m\u001b[0mkw\u001b[0m\u001b[0;34m)\u001b[0m\u001b[0;34m\u001b[0m\u001b[0;34m\u001b[0m\u001b[0m\n\u001b[0m\u001b[1;32m    129\u001b[0m     \u001b[0mdata\u001b[0m \u001b[0;34m=\u001b[0m \u001b[0mbytes_io\u001b[0m\u001b[0;34m.\u001b[0m\u001b[0mgetvalue\u001b[0m\u001b[0;34m(\u001b[0m\u001b[0;34m)\u001b[0m\u001b[0;34m\u001b[0m\u001b[0;34m\u001b[0m\u001b[0m\n\u001b[1;32m    130\u001b[0m     \u001b[0;32mif\u001b[0m \u001b[0mfmt\u001b[0m \u001b[0;34m==\u001b[0m \u001b[0;34m'svg'\u001b[0m\u001b[0;34m:\u001b[0m\u001b[0;34m\u001b[0m\u001b[0;34m\u001b[0m\u001b[0m\n",
      "\u001b[0;32m/opt/anaconda3/envs/learn-env/lib/python3.6/site-packages/matplotlib/backend_bases.py\u001b[0m in \u001b[0;36mprint_figure\u001b[0;34m(self, filename, dpi, facecolor, edgecolor, orientation, format, bbox_inches, **kwargs)\u001b[0m\n\u001b[1;32m   2080\u001b[0m                     \u001b[0morientation\u001b[0m\u001b[0;34m=\u001b[0m\u001b[0morientation\u001b[0m\u001b[0;34m,\u001b[0m\u001b[0;34m\u001b[0m\u001b[0;34m\u001b[0m\u001b[0m\n\u001b[1;32m   2081\u001b[0m                     \u001b[0mbbox_inches_restore\u001b[0m\u001b[0;34m=\u001b[0m\u001b[0m_bbox_inches_restore\u001b[0m\u001b[0;34m,\u001b[0m\u001b[0;34m\u001b[0m\u001b[0;34m\u001b[0m\u001b[0m\n\u001b[0;32m-> 2082\u001b[0;31m                     **kwargs)\n\u001b[0m\u001b[1;32m   2083\u001b[0m             \u001b[0;32mfinally\u001b[0m\u001b[0;34m:\u001b[0m\u001b[0;34m\u001b[0m\u001b[0;34m\u001b[0m\u001b[0m\n\u001b[1;32m   2084\u001b[0m                 \u001b[0;32mif\u001b[0m \u001b[0mbbox_inches\u001b[0m \u001b[0;32mand\u001b[0m \u001b[0mrestore_bbox\u001b[0m\u001b[0;34m:\u001b[0m\u001b[0;34m\u001b[0m\u001b[0;34m\u001b[0m\u001b[0m\n",
      "\u001b[0;32m/opt/anaconda3/envs/learn-env/lib/python3.6/site-packages/matplotlib/backends/backend_agg.py\u001b[0m in \u001b[0;36mprint_png\u001b[0;34m(self, filename_or_obj, metadata, pil_kwargs, *args, **kwargs)\u001b[0m\n\u001b[1;32m    525\u001b[0m \u001b[0;34m\u001b[0m\u001b[0m\n\u001b[1;32m    526\u001b[0m         \u001b[0;32melse\u001b[0m\u001b[0;34m:\u001b[0m\u001b[0;34m\u001b[0m\u001b[0;34m\u001b[0m\u001b[0m\n\u001b[0;32m--> 527\u001b[0;31m             \u001b[0mFigureCanvasAgg\u001b[0m\u001b[0;34m.\u001b[0m\u001b[0mdraw\u001b[0m\u001b[0;34m(\u001b[0m\u001b[0mself\u001b[0m\u001b[0;34m)\u001b[0m\u001b[0;34m\u001b[0m\u001b[0;34m\u001b[0m\u001b[0m\n\u001b[0m\u001b[1;32m    528\u001b[0m             \u001b[0mrenderer\u001b[0m \u001b[0;34m=\u001b[0m \u001b[0mself\u001b[0m\u001b[0;34m.\u001b[0m\u001b[0mget_renderer\u001b[0m\u001b[0;34m(\u001b[0m\u001b[0;34m)\u001b[0m\u001b[0;34m\u001b[0m\u001b[0;34m\u001b[0m\u001b[0m\n\u001b[1;32m    529\u001b[0m             \u001b[0;32mwith\u001b[0m \u001b[0mcbook\u001b[0m\u001b[0;34m.\u001b[0m\u001b[0m_setattr_cm\u001b[0m\u001b[0;34m(\u001b[0m\u001b[0mrenderer\u001b[0m\u001b[0;34m,\u001b[0m \u001b[0mdpi\u001b[0m\u001b[0;34m=\u001b[0m\u001b[0mself\u001b[0m\u001b[0;34m.\u001b[0m\u001b[0mfigure\u001b[0m\u001b[0;34m.\u001b[0m\u001b[0mdpi\u001b[0m\u001b[0;34m)\u001b[0m\u001b[0;34m,\u001b[0m\u001b[0;31m \u001b[0m\u001b[0;31m\\\u001b[0m\u001b[0;34m\u001b[0m\u001b[0;34m\u001b[0m\u001b[0m\n",
      "\u001b[0;32m/opt/anaconda3/envs/learn-env/lib/python3.6/site-packages/matplotlib/backends/backend_agg.py\u001b[0m in \u001b[0;36mdraw\u001b[0;34m(self)\u001b[0m\n\u001b[1;32m    386\u001b[0m         \u001b[0mself\u001b[0m\u001b[0;34m.\u001b[0m\u001b[0mrenderer\u001b[0m \u001b[0;34m=\u001b[0m \u001b[0mself\u001b[0m\u001b[0;34m.\u001b[0m\u001b[0mget_renderer\u001b[0m\u001b[0;34m(\u001b[0m\u001b[0mcleared\u001b[0m\u001b[0;34m=\u001b[0m\u001b[0;32mTrue\u001b[0m\u001b[0;34m)\u001b[0m\u001b[0;34m\u001b[0m\u001b[0;34m\u001b[0m\u001b[0m\n\u001b[1;32m    387\u001b[0m         \u001b[0;32mwith\u001b[0m \u001b[0mRendererAgg\u001b[0m\u001b[0;34m.\u001b[0m\u001b[0mlock\u001b[0m\u001b[0;34m:\u001b[0m\u001b[0;34m\u001b[0m\u001b[0;34m\u001b[0m\u001b[0m\n\u001b[0;32m--> 388\u001b[0;31m             \u001b[0mself\u001b[0m\u001b[0;34m.\u001b[0m\u001b[0mfigure\u001b[0m\u001b[0;34m.\u001b[0m\u001b[0mdraw\u001b[0m\u001b[0;34m(\u001b[0m\u001b[0mself\u001b[0m\u001b[0;34m.\u001b[0m\u001b[0mrenderer\u001b[0m\u001b[0;34m)\u001b[0m\u001b[0;34m\u001b[0m\u001b[0;34m\u001b[0m\u001b[0m\n\u001b[0m\u001b[1;32m    389\u001b[0m             \u001b[0;31m# A GUI class may be need to update a window using this draw, so\u001b[0m\u001b[0;34m\u001b[0m\u001b[0;34m\u001b[0m\u001b[0;34m\u001b[0m\u001b[0m\n\u001b[1;32m    390\u001b[0m             \u001b[0;31m# don't forget to call the superclass.\u001b[0m\u001b[0;34m\u001b[0m\u001b[0;34m\u001b[0m\u001b[0;34m\u001b[0m\u001b[0m\n",
      "\u001b[0;32m/opt/anaconda3/envs/learn-env/lib/python3.6/site-packages/matplotlib/artist.py\u001b[0m in \u001b[0;36mdraw_wrapper\u001b[0;34m(artist, renderer, *args, **kwargs)\u001b[0m\n\u001b[1;32m     36\u001b[0m                 \u001b[0mrenderer\u001b[0m\u001b[0;34m.\u001b[0m\u001b[0mstart_filter\u001b[0m\u001b[0;34m(\u001b[0m\u001b[0;34m)\u001b[0m\u001b[0;34m\u001b[0m\u001b[0;34m\u001b[0m\u001b[0m\n\u001b[1;32m     37\u001b[0m \u001b[0;34m\u001b[0m\u001b[0m\n\u001b[0;32m---> 38\u001b[0;31m             \u001b[0;32mreturn\u001b[0m \u001b[0mdraw\u001b[0m\u001b[0;34m(\u001b[0m\u001b[0martist\u001b[0m\u001b[0;34m,\u001b[0m \u001b[0mrenderer\u001b[0m\u001b[0;34m,\u001b[0m \u001b[0;34m*\u001b[0m\u001b[0margs\u001b[0m\u001b[0;34m,\u001b[0m \u001b[0;34m**\u001b[0m\u001b[0mkwargs\u001b[0m\u001b[0;34m)\u001b[0m\u001b[0;34m\u001b[0m\u001b[0;34m\u001b[0m\u001b[0m\n\u001b[0m\u001b[1;32m     39\u001b[0m         \u001b[0;32mfinally\u001b[0m\u001b[0;34m:\u001b[0m\u001b[0;34m\u001b[0m\u001b[0;34m\u001b[0m\u001b[0m\n\u001b[1;32m     40\u001b[0m             \u001b[0;32mif\u001b[0m \u001b[0martist\u001b[0m\u001b[0;34m.\u001b[0m\u001b[0mget_agg_filter\u001b[0m\u001b[0;34m(\u001b[0m\u001b[0;34m)\u001b[0m \u001b[0;32mis\u001b[0m \u001b[0;32mnot\u001b[0m \u001b[0;32mNone\u001b[0m\u001b[0;34m:\u001b[0m\u001b[0;34m\u001b[0m\u001b[0;34m\u001b[0m\u001b[0m\n",
      "\u001b[0;32m/opt/anaconda3/envs/learn-env/lib/python3.6/site-packages/matplotlib/figure.py\u001b[0m in \u001b[0;36mdraw\u001b[0;34m(self, renderer)\u001b[0m\n\u001b[1;32m   1707\u001b[0m             \u001b[0mself\u001b[0m\u001b[0;34m.\u001b[0m\u001b[0mpatch\u001b[0m\u001b[0;34m.\u001b[0m\u001b[0mdraw\u001b[0m\u001b[0;34m(\u001b[0m\u001b[0mrenderer\u001b[0m\u001b[0;34m)\u001b[0m\u001b[0;34m\u001b[0m\u001b[0;34m\u001b[0m\u001b[0m\n\u001b[1;32m   1708\u001b[0m             mimage._draw_list_compositing_images(\n\u001b[0;32m-> 1709\u001b[0;31m                 renderer, self, artists, self.suppressComposite)\n\u001b[0m\u001b[1;32m   1710\u001b[0m \u001b[0;34m\u001b[0m\u001b[0m\n\u001b[1;32m   1711\u001b[0m             \u001b[0mrenderer\u001b[0m\u001b[0;34m.\u001b[0m\u001b[0mclose_group\u001b[0m\u001b[0;34m(\u001b[0m\u001b[0;34m'figure'\u001b[0m\u001b[0;34m)\u001b[0m\u001b[0;34m\u001b[0m\u001b[0;34m\u001b[0m\u001b[0m\n",
      "\u001b[0;32m/opt/anaconda3/envs/learn-env/lib/python3.6/site-packages/matplotlib/image.py\u001b[0m in \u001b[0;36m_draw_list_compositing_images\u001b[0;34m(renderer, parent, artists, suppress_composite)\u001b[0m\n\u001b[1;32m    133\u001b[0m     \u001b[0;32mif\u001b[0m \u001b[0mnot_composite\u001b[0m \u001b[0;32mor\u001b[0m \u001b[0;32mnot\u001b[0m \u001b[0mhas_images\u001b[0m\u001b[0;34m:\u001b[0m\u001b[0;34m\u001b[0m\u001b[0;34m\u001b[0m\u001b[0m\n\u001b[1;32m    134\u001b[0m         \u001b[0;32mfor\u001b[0m \u001b[0ma\u001b[0m \u001b[0;32min\u001b[0m \u001b[0martists\u001b[0m\u001b[0;34m:\u001b[0m\u001b[0;34m\u001b[0m\u001b[0;34m\u001b[0m\u001b[0m\n\u001b[0;32m--> 135\u001b[0;31m             \u001b[0ma\u001b[0m\u001b[0;34m.\u001b[0m\u001b[0mdraw\u001b[0m\u001b[0;34m(\u001b[0m\u001b[0mrenderer\u001b[0m\u001b[0;34m)\u001b[0m\u001b[0;34m\u001b[0m\u001b[0;34m\u001b[0m\u001b[0m\n\u001b[0m\u001b[1;32m    136\u001b[0m     \u001b[0;32melse\u001b[0m\u001b[0;34m:\u001b[0m\u001b[0;34m\u001b[0m\u001b[0;34m\u001b[0m\u001b[0m\n\u001b[1;32m    137\u001b[0m         \u001b[0;31m# Composite any adjacent images together\u001b[0m\u001b[0;34m\u001b[0m\u001b[0;34m\u001b[0m\u001b[0;34m\u001b[0m\u001b[0m\n",
      "\u001b[0;32m/opt/anaconda3/envs/learn-env/lib/python3.6/site-packages/matplotlib/artist.py\u001b[0m in \u001b[0;36mdraw_wrapper\u001b[0;34m(artist, renderer, *args, **kwargs)\u001b[0m\n\u001b[1;32m     36\u001b[0m                 \u001b[0mrenderer\u001b[0m\u001b[0;34m.\u001b[0m\u001b[0mstart_filter\u001b[0m\u001b[0;34m(\u001b[0m\u001b[0;34m)\u001b[0m\u001b[0;34m\u001b[0m\u001b[0;34m\u001b[0m\u001b[0m\n\u001b[1;32m     37\u001b[0m \u001b[0;34m\u001b[0m\u001b[0m\n\u001b[0;32m---> 38\u001b[0;31m             \u001b[0;32mreturn\u001b[0m \u001b[0mdraw\u001b[0m\u001b[0;34m(\u001b[0m\u001b[0martist\u001b[0m\u001b[0;34m,\u001b[0m \u001b[0mrenderer\u001b[0m\u001b[0;34m,\u001b[0m \u001b[0;34m*\u001b[0m\u001b[0margs\u001b[0m\u001b[0;34m,\u001b[0m \u001b[0;34m**\u001b[0m\u001b[0mkwargs\u001b[0m\u001b[0;34m)\u001b[0m\u001b[0;34m\u001b[0m\u001b[0;34m\u001b[0m\u001b[0m\n\u001b[0m\u001b[1;32m     39\u001b[0m         \u001b[0;32mfinally\u001b[0m\u001b[0;34m:\u001b[0m\u001b[0;34m\u001b[0m\u001b[0;34m\u001b[0m\u001b[0m\n\u001b[1;32m     40\u001b[0m             \u001b[0;32mif\u001b[0m \u001b[0martist\u001b[0m\u001b[0;34m.\u001b[0m\u001b[0mget_agg_filter\u001b[0m\u001b[0;34m(\u001b[0m\u001b[0;34m)\u001b[0m \u001b[0;32mis\u001b[0m \u001b[0;32mnot\u001b[0m \u001b[0;32mNone\u001b[0m\u001b[0;34m:\u001b[0m\u001b[0;34m\u001b[0m\u001b[0;34m\u001b[0m\u001b[0m\n",
      "\u001b[0;32m/opt/anaconda3/envs/learn-env/lib/python3.6/site-packages/matplotlib/axes/_base.py\u001b[0m in \u001b[0;36mdraw\u001b[0;34m(self, renderer, inframe)\u001b[0m\n\u001b[1;32m   2645\u001b[0m             \u001b[0mrenderer\u001b[0m\u001b[0;34m.\u001b[0m\u001b[0mstop_rasterizing\u001b[0m\u001b[0;34m(\u001b[0m\u001b[0;34m)\u001b[0m\u001b[0;34m\u001b[0m\u001b[0;34m\u001b[0m\u001b[0m\n\u001b[1;32m   2646\u001b[0m \u001b[0;34m\u001b[0m\u001b[0m\n\u001b[0;32m-> 2647\u001b[0;31m         \u001b[0mmimage\u001b[0m\u001b[0;34m.\u001b[0m\u001b[0m_draw_list_compositing_images\u001b[0m\u001b[0;34m(\u001b[0m\u001b[0mrenderer\u001b[0m\u001b[0;34m,\u001b[0m \u001b[0mself\u001b[0m\u001b[0;34m,\u001b[0m \u001b[0martists\u001b[0m\u001b[0;34m)\u001b[0m\u001b[0;34m\u001b[0m\u001b[0;34m\u001b[0m\u001b[0m\n\u001b[0m\u001b[1;32m   2648\u001b[0m \u001b[0;34m\u001b[0m\u001b[0m\n\u001b[1;32m   2649\u001b[0m         \u001b[0mrenderer\u001b[0m\u001b[0;34m.\u001b[0m\u001b[0mclose_group\u001b[0m\u001b[0;34m(\u001b[0m\u001b[0;34m'axes'\u001b[0m\u001b[0;34m)\u001b[0m\u001b[0;34m\u001b[0m\u001b[0;34m\u001b[0m\u001b[0m\n",
      "\u001b[0;32m/opt/anaconda3/envs/learn-env/lib/python3.6/site-packages/matplotlib/image.py\u001b[0m in \u001b[0;36m_draw_list_compositing_images\u001b[0;34m(renderer, parent, artists, suppress_composite)\u001b[0m\n\u001b[1;32m    133\u001b[0m     \u001b[0;32mif\u001b[0m \u001b[0mnot_composite\u001b[0m \u001b[0;32mor\u001b[0m \u001b[0;32mnot\u001b[0m \u001b[0mhas_images\u001b[0m\u001b[0;34m:\u001b[0m\u001b[0;34m\u001b[0m\u001b[0;34m\u001b[0m\u001b[0m\n\u001b[1;32m    134\u001b[0m         \u001b[0;32mfor\u001b[0m \u001b[0ma\u001b[0m \u001b[0;32min\u001b[0m \u001b[0martists\u001b[0m\u001b[0;34m:\u001b[0m\u001b[0;34m\u001b[0m\u001b[0;34m\u001b[0m\u001b[0m\n\u001b[0;32m--> 135\u001b[0;31m             \u001b[0ma\u001b[0m\u001b[0;34m.\u001b[0m\u001b[0mdraw\u001b[0m\u001b[0;34m(\u001b[0m\u001b[0mrenderer\u001b[0m\u001b[0;34m)\u001b[0m\u001b[0;34m\u001b[0m\u001b[0;34m\u001b[0m\u001b[0m\n\u001b[0m\u001b[1;32m    136\u001b[0m     \u001b[0;32melse\u001b[0m\u001b[0;34m:\u001b[0m\u001b[0;34m\u001b[0m\u001b[0;34m\u001b[0m\u001b[0m\n\u001b[1;32m    137\u001b[0m         \u001b[0;31m# Composite any adjacent images together\u001b[0m\u001b[0;34m\u001b[0m\u001b[0;34m\u001b[0m\u001b[0;34m\u001b[0m\u001b[0m\n",
      "\u001b[0;32m/opt/anaconda3/envs/learn-env/lib/python3.6/site-packages/matplotlib/artist.py\u001b[0m in \u001b[0;36mdraw_wrapper\u001b[0;34m(artist, renderer, *args, **kwargs)\u001b[0m\n\u001b[1;32m     36\u001b[0m                 \u001b[0mrenderer\u001b[0m\u001b[0;34m.\u001b[0m\u001b[0mstart_filter\u001b[0m\u001b[0;34m(\u001b[0m\u001b[0;34m)\u001b[0m\u001b[0;34m\u001b[0m\u001b[0;34m\u001b[0m\u001b[0m\n\u001b[1;32m     37\u001b[0m \u001b[0;34m\u001b[0m\u001b[0m\n\u001b[0;32m---> 38\u001b[0;31m             \u001b[0;32mreturn\u001b[0m \u001b[0mdraw\u001b[0m\u001b[0;34m(\u001b[0m\u001b[0martist\u001b[0m\u001b[0;34m,\u001b[0m \u001b[0mrenderer\u001b[0m\u001b[0;34m,\u001b[0m \u001b[0;34m*\u001b[0m\u001b[0margs\u001b[0m\u001b[0;34m,\u001b[0m \u001b[0;34m**\u001b[0m\u001b[0mkwargs\u001b[0m\u001b[0;34m)\u001b[0m\u001b[0;34m\u001b[0m\u001b[0;34m\u001b[0m\u001b[0m\n\u001b[0m\u001b[1;32m     39\u001b[0m         \u001b[0;32mfinally\u001b[0m\u001b[0;34m:\u001b[0m\u001b[0;34m\u001b[0m\u001b[0;34m\u001b[0m\u001b[0m\n\u001b[1;32m     40\u001b[0m             \u001b[0;32mif\u001b[0m \u001b[0martist\u001b[0m\u001b[0;34m.\u001b[0m\u001b[0mget_agg_filter\u001b[0m\u001b[0;34m(\u001b[0m\u001b[0;34m)\u001b[0m \u001b[0;32mis\u001b[0m \u001b[0;32mnot\u001b[0m \u001b[0;32mNone\u001b[0m\u001b[0;34m:\u001b[0m\u001b[0;34m\u001b[0m\u001b[0;34m\u001b[0m\u001b[0m\n",
      "\u001b[0;32m/opt/anaconda3/envs/learn-env/lib/python3.6/site-packages/matplotlib/image.py\u001b[0m in \u001b[0;36mdraw\u001b[0;34m(self, renderer, *args, **kwargs)\u001b[0m\n\u001b[1;32m    617\u001b[0m         \u001b[0;32melse\u001b[0m\u001b[0;34m:\u001b[0m\u001b[0;34m\u001b[0m\u001b[0;34m\u001b[0m\u001b[0m\n\u001b[1;32m    618\u001b[0m             im, l, b, trans = self.make_image(\n\u001b[0;32m--> 619\u001b[0;31m                 renderer, renderer.get_image_magnification())\n\u001b[0m\u001b[1;32m    620\u001b[0m             \u001b[0;32mif\u001b[0m \u001b[0mim\u001b[0m \u001b[0;32mis\u001b[0m \u001b[0;32mnot\u001b[0m \u001b[0;32mNone\u001b[0m\u001b[0;34m:\u001b[0m\u001b[0;34m\u001b[0m\u001b[0;34m\u001b[0m\u001b[0m\n\u001b[1;32m    621\u001b[0m                 \u001b[0mrenderer\u001b[0m\u001b[0;34m.\u001b[0m\u001b[0mdraw_image\u001b[0m\u001b[0;34m(\u001b[0m\u001b[0mgc\u001b[0m\u001b[0;34m,\u001b[0m \u001b[0ml\u001b[0m\u001b[0;34m,\u001b[0m \u001b[0mb\u001b[0m\u001b[0;34m,\u001b[0m \u001b[0mim\u001b[0m\u001b[0;34m)\u001b[0m\u001b[0;34m\u001b[0m\u001b[0;34m\u001b[0m\u001b[0m\n",
      "\u001b[0;32m/opt/anaconda3/envs/learn-env/lib/python3.6/site-packages/matplotlib/image.py\u001b[0m in \u001b[0;36mmake_image\u001b[0;34m(self, renderer, magnification, unsampled)\u001b[0m\n\u001b[1;32m    879\u001b[0m         return self._make_image(\n\u001b[1;32m    880\u001b[0m             \u001b[0mself\u001b[0m\u001b[0;34m.\u001b[0m\u001b[0m_A\u001b[0m\u001b[0;34m,\u001b[0m \u001b[0mbbox\u001b[0m\u001b[0;34m,\u001b[0m \u001b[0mtransformed_bbox\u001b[0m\u001b[0;34m,\u001b[0m \u001b[0mself\u001b[0m\u001b[0;34m.\u001b[0m\u001b[0maxes\u001b[0m\u001b[0;34m.\u001b[0m\u001b[0mbbox\u001b[0m\u001b[0;34m,\u001b[0m \u001b[0mmagnification\u001b[0m\u001b[0;34m,\u001b[0m\u001b[0;34m\u001b[0m\u001b[0;34m\u001b[0m\u001b[0m\n\u001b[0;32m--> 881\u001b[0;31m             unsampled=unsampled)\n\u001b[0m\u001b[1;32m    882\u001b[0m \u001b[0;34m\u001b[0m\u001b[0m\n\u001b[1;32m    883\u001b[0m     \u001b[0;32mdef\u001b[0m \u001b[0m_check_unsampled_image\u001b[0m\u001b[0;34m(\u001b[0m\u001b[0mself\u001b[0m\u001b[0;34m,\u001b[0m \u001b[0mrenderer\u001b[0m\u001b[0;34m)\u001b[0m\u001b[0;34m:\u001b[0m\u001b[0;34m\u001b[0m\u001b[0;34m\u001b[0m\u001b[0m\n",
      "\u001b[0;32m/opt/anaconda3/envs/learn-env/lib/python3.6/site-packages/matplotlib/image.py\u001b[0m in \u001b[0;36m_make_image\u001b[0;34m(self, A, in_bbox, out_bbox, clip_bbox, magnification, unsampled, round_to_pixel_border)\u001b[0m\n\u001b[1;32m    529\u001b[0m                 alpha_channel[:] = np.asarray(\n\u001b[1;32m    530\u001b[0m                     \u001b[0mnp\u001b[0m\u001b[0;34m.\u001b[0m\u001b[0masarray\u001b[0m\u001b[0;34m(\u001b[0m\u001b[0malpha_channel\u001b[0m\u001b[0;34m,\u001b[0m \u001b[0mnp\u001b[0m\u001b[0;34m.\u001b[0m\u001b[0mfloat32\u001b[0m\u001b[0;34m)\u001b[0m \u001b[0;34m*\u001b[0m \u001b[0mout_alpha\u001b[0m \u001b[0;34m*\u001b[0m \u001b[0malpha\u001b[0m\u001b[0;34m,\u001b[0m\u001b[0;34m\u001b[0m\u001b[0;34m\u001b[0m\u001b[0m\n\u001b[0;32m--> 531\u001b[0;31m                     np.uint8)\n\u001b[0m\u001b[1;32m    532\u001b[0m \u001b[0;34m\u001b[0m\u001b[0m\n\u001b[1;32m    533\u001b[0m         \u001b[0;32melse\u001b[0m\u001b[0;34m:\u001b[0m\u001b[0;34m\u001b[0m\u001b[0;34m\u001b[0m\u001b[0m\n",
      "\u001b[0;31mKeyboardInterrupt\u001b[0m: "
     ]
    }
   ],
   "source": [
    "fit_model,model_preds = make_fit_evaluate_model(make_model)"
   ]
  },
  {
   "cell_type": "markdown",
   "metadata": {},
   "source": [
    "# APPENDIX/HOW-TOs:"
   ]
  },
  {
   "cell_type": "markdown",
   "metadata": {},
   "source": [
    "## How to Make a Custom Scoring Function"
   ]
  },
  {
   "cell_type": "markdown",
   "metadata": {},
   "source": [
    "1. **Why would you do this?**\n",
    "    1. You may want to use a metric that isn't available in sklearn. \n",
    "        - In the included `my_custom_scorer` function, I take the accuracy of each class's predictions from the diagonal of a normalized confusion matrix. \n",
    "        - I then calculate the mean of those 3 class accuracies, which is the `score` that is returned to the gridsearch. \n",
    "        \n",
    "    2. You may want to add a printout or display to the scoring function so you can see the results as the search is going.\n",
    "<br><br>\n",
    "2. **How do you do write your own?**\n",
    "    1. Define your custom scoring function.\n",
    "        - It must accept `y_true`,`y_pred`\n",
    "        - It must return a value to maximize. (like accuracy)\n",
    "    2. You can add print or display commands to have the scoring function report the current results as the gridsearch is still going.\n",
    "        - If you combine this with the example `create_model` function above that includes the `vars=locals(); print(vars)` command, then gridsearch will display:\n",
    "            1. the parameters of each model (each time the `create_model` function is called.\n",
    "            2. The score of each model, including a confusion matrix figure (each time it calls `my_custom_scorer`).\n",
    "        \n",
    "```python\n",
    "def my_custom_scorer(y_true,y_pred):\n",
    "    \"\"\"My custom score function to use with sklearn's GridSearchCV\n",
    "    Maximizes the average accuracy per class using a normalized confusion matrix\"\"\"\n",
    "    from sklearn.metrics import confusion_matrix\n",
    "    import numpy as np\n",
    "    import functions_combined_BEST as ji    \n",
    "\n",
    "    ## Flatten one-hot encoded target columns into 1 column for sklearn functions\n",
    "    if y_true.ndim>1 or y_pred.ndim>1:\n",
    "        \n",
    "        ## reduce dimensions of y_train and y_test\n",
    "        if y_true.ndim>1:            \n",
    "            y_true = y_true.argmax(axis=1)\n",
    "        \n",
    "        if y_pred.ndim>1:\n",
    "            y_pred = y_pred.argmax(axis=1)\n",
    "\n",
    "    \n",
    "     # Get confusion matrx\n",
    "    cm = confusion_matrix(y_true, y_pred)\n",
    "\n",
    "    # Normalize confusion matrix\n",
    "    cm_norm = cm.astype('float')/cm.sum(axis=1)[:,np.newaxis]\n",
    "\n",
    "    ## Get diagonals for class accuracy\n",
    "    diag = cm_norm.diagonal()\n",
    "    \n",
    "    # Get the mean of the diagonal values\n",
    "    score = np.mean(diag)\n",
    "    \n",
    "    ## Display Results for the User\n",
    "    print(f'Mean Class Accuracy = {score}')\n",
    "    print(f'Class Accuracy Values:')\n",
    "    print(diag)    \n",
    "\n",
    "    ## Plot the confusion matrix.\n",
    "    ji.plot_confusion_matrix(cm,normalize=True)\n",
    "\n",
    "    # return the score \n",
    "    return score\n",
    "```        \n",
    "        \n",
    "        \n",
    "3. **How do you use it?**\n",
    "    - When instantiating GridSearchCV pass your function as the `scoring=` parameter, wrapped in the  `sklearn.metrics.make_scorer` function.\n",
    "  \n",
    "\n",
    "```python\n",
    "## Using custom scoring function\n",
    "from sklearn.metrics import make_scorer\n",
    "\n",
    "grid = GridSearchCV(estimator=neural_network, \n",
    "                    param_grid=params_to_test,\n",
    "                   scoring=make_scorer(my_custom_scorer))\n",
    "                    \n",
    "grid_result = grid.fit(X_train, y_train)\n",
    "```"
   ]
  },
  {
   "cell_type": "code",
   "execution_count": null,
   "metadata": {},
   "outputs": [],
   "source": []
  }
 ],
 "metadata": {
  "colab": {
   "collapsed_sections": [],
   "name": "Copy of James' Study Group Notes - Section 41-42 (condensed version).ipynb",
   "provenance": []
  },
  "kernelspec": {
   "display_name": "Python [conda env:learn-env] *",
   "language": "python",
   "name": "conda-env-learn-env-py"
  },
  "language_info": {
   "codemirror_mode": {
    "name": "ipython",
    "version": 3
   },
   "file_extension": ".py",
   "mimetype": "text/x-python",
   "name": "python",
   "nbconvert_exporter": "python",
   "pygments_lexer": "ipython3",
   "version": "3.6.9"
  },
  "toc": {
   "base_numbering": 1,
   "nav_menu": {},
   "number_sections": false,
   "sideBar": true,
   "skip_h1_title": false,
   "title_cell": "Table of Contents",
   "title_sidebar": "Contents",
   "toc_cell": false,
   "toc_position": {
    "height": "calc(100% - 180px)",
    "left": "10px",
    "top": "150px",
    "width": "256px"
   },
   "toc_section_display": true,
   "toc_window_display": false
  }
 },
 "nbformat": 4,
 "nbformat_minor": 1
}
