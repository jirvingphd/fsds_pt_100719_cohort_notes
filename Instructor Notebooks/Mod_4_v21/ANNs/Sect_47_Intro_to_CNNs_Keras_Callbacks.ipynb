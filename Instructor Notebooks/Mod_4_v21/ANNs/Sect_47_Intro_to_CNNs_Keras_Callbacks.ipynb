{
 "cells": [
  {
   "cell_type": "markdown",
   "metadata": {
    "colab_type": "text",
    "id": "Trd6RcQwP-m8"
   },
   "source": [
    "# Convolutional Neural Networks"
   ]
  },
  {
   "cell_type": "markdown",
   "metadata": {
    "colab_type": "text",
    "id": "28h_NKJy7Yby"
   },
   "source": [
    ""
   ]
  },
  {
   "cell_type": "markdown",
   "metadata": {
    "colab_type": "text",
    "id": "9xi6_g9a7YTB"
   },
   "source": [
    "# STUDY GROUP RESOURCES"
   ]
  },
  {
   "cell_type": "markdown",
   "metadata": {
    "colab_type": "text",
    "id": "Gp_2zRYT7YAz"
   },
   "source": [
    "\n",
    "- [NOTEBOOK: This Notebook on Google Colab](https://drive.google.com/file/d/1rxkuydyd_wNdiuKh22-e6mr-zlsRVC1N/view?usp=sharing)\n",
    "- [DATASET: Zip File for Dog vs Cats](https://drive.google.com/open?id=1WQ0fdJrNs5qVinJ_6rmVIIinOJD3p-n4)\n",
    "- [POWERPOINT: of Human Visual System](https://github.com/jirvingphd/fsds_100719_cohort_notes/blob/master/bio_neural_networks.pptx)\n",
    "- [VIDEO: Study Group Video Recording]()\n"
   ]
  },
  {
   "cell_type": "markdown",
   "metadata": {
    "colab_type": "text",
    "id": "pon77kz7oL0P"
   },
   "source": [
    "## LEARNING OBJECTIVES\n",
    "\n",
    "- Learn about the retina /human visual system\n",
    "- Relate human to CNNS\n",
    "- Discuss using colab/colab pro \n",
    "- Fitting, evaluating, saving CNNs\n",
    "- Transfer Learning & Pre-trained Networks "
   ]
  },
  {
   "cell_type": "markdown",
   "metadata": {
    "colab_type": "text",
    "id": "E7D1Ks2mhJim"
   },
   "source": [
    "# Loading in the data"
   ]
  },
  {
   "cell_type": "markdown",
   "metadata": {
    "colab_type": "text",
    "id": "MqhwVmwksJmu"
   },
   "source": [
    "- [Google Drive Link to zip file](https://drive.google.com/open?id=1WQ0fdJrNs5qVinJ_6rmVIIinOJD3p-n4 \n",
    "- https://medium.com/datadriveninvestor/speed-up-your-image-training-on-google-colab-dc95ea1491cf)\n",
    "\n",
    "```python\n",
    "from google.colab import drive\n",
    "drive.mount('/gdrive',force_remount=True)\n",
    "# %cd /gdrive\n",
    "%cd ~\n",
    "%cd ..\n",
    "\n",
    "\n",
    "import os,glob\n",
    "print(os.path.abspath(os.curdir))\n",
    "\n",
    "source_folder = r'/gdrive/My Drive/Datasets/'\n",
    "target_folder = r'/content/'\n",
    "file = glob.glob(source_folder+'*.zip',recursive=True)\n",
    "file=file[0]\n",
    "```\n",
    "\n",
    "```python\n",
    "## Unzip data\n",
    "zip_path = file\n",
    "\n",
    "!cp \"{zip_path}\" .\n",
    "\n",
    "!unzip -q dogs-vs-cats-sorted.zip\n",
    "!rm dogs-vs-cats-sorted.zip\n",
    "```"
   ]
  },
  {
   "cell_type": "code",
   "execution_count": 0,
   "metadata": {
    "colab": {
     "base_uri": "https://localhost:8080/",
     "height": 156
    },
    "colab_type": "code",
    "id": "LZ5YIuJtmTsL",
    "outputId": "7142a19c-4fc2-4c9d-b934-ce7cbaf47b95"
   },
   "outputs": [
    {
     "name": "stdout",
     "output_type": "stream",
     "text": [
      "Go to this URL in a browser: https://accounts.google.com/o/oauth2/auth?client_id=947318989803-6bn6qk8qdgf4n4g3pfee6491hc0brc4i.apps.googleusercontent.com&redirect_uri=urn%3aietf%3awg%3aoauth%3a2.0%3aoob&response_type=code&scope=email%20https%3a%2f%2fwww.googleapis.com%2fauth%2fdocs.test%20https%3a%2f%2fwww.googleapis.com%2fauth%2fdrive%20https%3a%2f%2fwww.googleapis.com%2fauth%2fdrive.photos.readonly%20https%3a%2f%2fwww.googleapis.com%2fauth%2fpeopleapi.readonly\n",
      "\n",
      "Enter your authorization code:\n",
      "··········\n",
      "Mounted at /gdrive\n",
      "/root\n",
      "/\n"
     ]
    }
   ],
   "source": [
    "from google.colab import drive\n",
    "drive.mount('/gdrive',force_remount=True)\n",
    "# %cd /gdrive/My\\ Drive\n",
    "%cd ~\n",
    "%cd .."
   ]
  },
  {
   "cell_type": "code",
   "execution_count": 0,
   "metadata": {
    "colab": {
     "base_uri": "https://localhost:8080/",
     "height": 51
    },
    "colab_type": "code",
    "id": "Tzlu4rAgMI6e",
    "outputId": "3e7c6f4b-359d-49c9-ef32-cb87018f44ee"
   },
   "outputs": [
    {
     "name": "stdout",
     "output_type": "stream",
     "text": [
      "/\n"
     ]
    },
    {
     "data": {
      "text/plain": [
       "'/gdrive/My Drive/Datasets/dogs-vs-cats-sorted.zip'"
      ]
     },
     "execution_count": 2,
     "metadata": {
      "tags": []
     },
     "output_type": "execute_result"
    }
   ],
   "source": [
    "import os,glob\n",
    "\n",
    "print(os.path.abspath(os.curdir))\n",
    "\n",
    "source_folder = r'/gdrive/My Drive/Datasets/'\n",
    "# target_folder = r'/content/'\n",
    "# os.listdir(source_folder), os.listdir(target_folder)\n",
    "file = glob.glob(source_folder+'*.zip',recursive=True)[0]\n",
    "file"
   ]
  },
  {
   "cell_type": "code",
   "execution_count": 0,
   "metadata": {
    "colab": {},
    "colab_type": "code",
    "id": "MnW9nB5yJ2W3"
   },
   "outputs": [],
   "source": [
    "zip_path = file\n",
    "\n",
    "!cp \"{zip_path}\" .\n",
    "\n",
    "!unzip -q dogs-vs-cats-sorted.zip\n",
    "!rm dogs-vs-cats-sorted.zip"
   ]
  },
  {
   "cell_type": "code",
   "execution_count": 0,
   "metadata": {
    "colab": {
     "base_uri": "https://localhost:8080/",
     "height": 561
    },
    "colab_type": "code",
    "id": "U_HgT1oPKRFH",
    "outputId": "47e080ea-d32c-457f-f62f-672fb0b412ec"
   },
   "outputs": [
    {
     "name": "stdout",
     "output_type": "stream",
     "text": [
      "/\n"
     ]
    },
    {
     "data": {
      "text/plain": [
       "['root',\n",
       " 'opt',\n",
       " 'mnt',\n",
       " 'lib64',\n",
       " 'srv',\n",
       " 'var',\n",
       " 'sys',\n",
       " 'run',\n",
       " 'proc',\n",
       " 'lib',\n",
       " 'usr',\n",
       " 'home',\n",
       " 'bin',\n",
       " 'etc',\n",
       " 'dev',\n",
       " 'tmp',\n",
       " 'media',\n",
       " 'sbin',\n",
       " 'boot',\n",
       " 'dogs-vs-cats-sorted',\n",
       " '__MACOSX',\n",
       " 'gdrive',\n",
       " '.dockerenv',\n",
       " 'datalab',\n",
       " 'tools',\n",
       " 'swift',\n",
       " 'dlib-19.18.0-cp36-cp36m-linux_x86_64.whl',\n",
       " 'tensorflow-2.1.0',\n",
       " 'content',\n",
       " 'dlib-19.18.0-cp27-cp27mu-linux_x86_64.whl',\n",
       " 'lib32']"
      ]
     },
     "execution_count": 4,
     "metadata": {
      "tags": []
     },
     "output_type": "execute_result"
    }
   ],
   "source": [
    "import os,glob\n",
    "print(os.path.abspath(os.curdir))\n",
    "os.listdir()\n",
    "# os.chdir('My Drive/')"
   ]
  },
  {
   "cell_type": "markdown",
   "metadata": {
    "colab_type": "text",
    "id": "C7A_91wjihqa"
   },
   "source": [
    "# Functions from Class"
   ]
  },
  {
   "cell_type": "markdown",
   "metadata": {
    "colab_type": "text",
    "id": "CyPrYuEkecxz"
   },
   "source": [
    "- Updated plot_keras_history (works with 'acc' or 'accuracy' metric name)\n",
    "- "
   ]
  },
  {
   "cell_type": "code",
   "execution_count": 0,
   "metadata": {
    "colab": {},
    "colab_type": "code",
    "id": "9KjOLwwTqQtl"
   },
   "outputs": [],
   "source": [
    "# history"
   ]
  },
  {
   "cell_type": "code",
   "execution_count": 0,
   "metadata": {
    "colab": {},
    "colab_type": "code",
    "id": "f8RY4Nr2ihgX"
   },
   "outputs": [],
   "source": [
    "import sklearn.metrics as metrics\n",
    "import matplotlib.pyplot as plt\n",
    "import numpy as np\n",
    "import pandas as pd\n",
    "\n",
    "def plot_keras_history(history,figsize=(10,4),subplot_kws={}):\n",
    "    if hasattr(history,'history'):\n",
    "        history=history.history\n",
    "    figsize=(10,4)\n",
    "    subplot_kws={}\n",
    "\n",
    "    acc_keys = list(filter(lambda x: 'acc' in x,history.keys()))\n",
    "    loss_keys = list(filter(lambda x: 'loss' in x,history.keys()))\n",
    "\n",
    "    fig,axes=plt.subplots(ncols=2,figsize=figsize,**subplot_kws)\n",
    "    axes = axes.flatten()\n",
    "\n",
    "    y_labels= ['Accuracy','Loss']\n",
    "    for a, metric in enumerate([acc_keys,loss_keys]):\n",
    "        for i in range(len(metric)):\n",
    "            ax = pd.Series(history[metric[i]],\n",
    "                        name=metric[i]).plot(ax=axes[a],label=metric[i])\n",
    "    [ax.legend() for ax in axes]\n",
    "    [ax.xaxis.set_major_locator(mpl.ticker.MaxNLocator(integer=True)) for ax in axes]\n",
    "    [ax.set(xlabel='Epochs') for ax in axes]\n",
    "    plt.suptitle('Model Training Results',y=1.01)\n",
    "    plt.tight_layout()\n",
    "    plt.show()\n",
    "\n",
    "\n",
    "def plot_confusion_matrix(conf_matrix, classes = None, normalize=True,\n",
    "                          title='Confusion Matrix', cmap=\"Blues\",\n",
    "                          print_raw_matrix=False,\n",
    "                          fig_size=(4,4)):\n",
    "    \"\"\"Check if Normalization Option is Set to True. \n",
    "    If so, normalize the raw confusion matrix before visualizing\n",
    "    #Other code should be equivalent to your previous function.\n",
    "    Note: Taken from bs_ds and modified\n",
    "    - Can pass a tuple of (y_true,y_pred) instead of conf matrix.\n",
    "    \"\"\"\n",
    "    import itertools\n",
    "    import numpy as np\n",
    "    import matplotlib.pyplot as plt\n",
    "    import sklearn.metrics as metrics\n",
    "    \n",
    "    ## make confusion matrix if given tuple of y_true,y_pred\n",
    "    if isinstance(conf_matrix, tuple):\n",
    "        y_true = conf_matrix[0].copy()\n",
    "        y_pred = conf_matrix[1].copy()\n",
    "        \n",
    "        if y_true.ndim>1:\n",
    "            y_true = y_true.argmax(axis=1)\n",
    "        if y_pred.ndim>1:\n",
    "            y_pred = y_pred.argmax(axis=1)\n",
    "        cm = metrics.confusion_matrix(y_true,y_pred)\n",
    "    else:\n",
    "        cm = conf_matrix\n",
    "        \n",
    "    ## Generate integer labels for classes\n",
    "    if classes is None:\n",
    "        classes = list(range(len(cm)))  \n",
    "        \n",
    "    ## Normalize data\n",
    "    if normalize:\n",
    "        cm = cm.astype('float') / cm.sum(axis=1)[:, np.newaxis]\n",
    "        fmt='.2f'\n",
    "    else:\n",
    "        fmt= 'd'\n",
    "        \n",
    "        \n",
    "    fontDict = {\n",
    "        'title':{\n",
    "            'fontsize':16,\n",
    "            'fontweight':'semibold',\n",
    "            'ha':'center',\n",
    "            },\n",
    "        'xlabel':{\n",
    "            'fontsize':14,\n",
    "            'fontweight':'normal',\n",
    "            },\n",
    "        'ylabel':{\n",
    "            'fontsize':14,\n",
    "            'fontweight':'normal',\n",
    "            },\n",
    "        'xtick_labels':{\n",
    "            'fontsize':10,\n",
    "            'fontweight':'normal',\n",
    "    #             'rotation':45,\n",
    "            'ha':'right',\n",
    "            },\n",
    "        'ytick_labels':{\n",
    "            'fontsize':10,\n",
    "            'fontweight':'normal',\n",
    "            'rotation':0,\n",
    "            'ha':'right',\n",
    "            },\n",
    "        'data_labels':{\n",
    "            'ha':'center',\n",
    "            'fontweight':'semibold',\n",
    "\n",
    "        }\n",
    "    }\n",
    "\n",
    "    # Create plot\n",
    "    fig,ax = plt.subplots(figsize=fig_size)\n",
    "\n",
    "    plt.imshow(cm, interpolation='nearest', cmap=cmap)\n",
    "    plt.title(title,**fontDict['title'])\n",
    "    plt.colorbar()\n",
    "\n",
    "    tick_marks = classes#np.arange(len(classes))\n",
    "\n",
    "\n",
    "    plt.xticks(tick_marks, classes, **fontDict['xtick_labels'])\n",
    "    plt.yticks(tick_marks, classes,**fontDict['ytick_labels'])\n",
    "\n",
    "    # Determine threshold for b/w text\n",
    "    thresh = cm.max() / 2.\n",
    "\n",
    "    # fig,ax = plt.subplots()\n",
    "    for i, j in itertools.product(range(cm.shape[0]), range(cm.shape[1])):\n",
    "        plt.text(j, i, format(cm[i, j], fmt),\n",
    "                 color='darkgray',**fontDict['data_labels']) #color=\"white\" if cm[i, j] > thresh else \"black\"\n",
    "\n",
    "    plt.tight_layout()\n",
    "    plt.ylabel('True label',**fontDict['ylabel'])\n",
    "    plt.xlabel('Predicted label',**fontDict['xlabel'])\n",
    "\n",
    "    if print_raw_matrix:\n",
    "        print_title = 'Raw Confusion Matrix Counts:'\n",
    "        print('\\n',print_title)\n",
    "        print(conf_matrix)\n",
    "\n",
    "\n",
    "    fig = plt.gcf()\n",
    "    return fig\n",
    "\n",
    "\n",
    "    \n",
    "def evaluate_model(y_true, y_pred,history=None):\n",
    "    from sklearn import metrics\n",
    "    if y_true.ndim>1:\n",
    "        y_true = y_true.argmax(axis=1)\n",
    "    if y_pred.ndim>1:\n",
    "        y_pred = y_pred.argmax(axis=1)   \n",
    "    try:    \n",
    "        if history is not None:\n",
    "            plot_keras_history(history)\n",
    "    except:\n",
    "        pass\n",
    "    \n",
    "    num_dashes=20\n",
    "    print('\\n')\n",
    "    print('---'*num_dashes)\n",
    "    print('\\tCLASSIFICATION REPORT:')\n",
    "    print('---'*num_dashes)\n",
    "    try:\n",
    "        print(metrics.classification_report(y_true,y_pred))\n",
    "        \n",
    "        fig = plot_confusion_matrix((y_true,y_pred))\n",
    "        plt.show()\n",
    "    except Exception as e:\n",
    "        print(f\"[!] Error during model evaluation:\\n\\t{e}\")\n",
    "\n",
    "\n",
    "    \n",
    "class Timer():\n",
    "    def __init__(self, start=True,time_fmt='%m/%d/%y - %T'):\n",
    "        import tzlocal\n",
    "        import datetime as dt\n",
    "        \n",
    "        self.tz = tzlocal.get_localzone()\n",
    "        self.fmt= time_fmt\n",
    "        self._created = dt.datetime.now(tz=self.tz)\n",
    "        \n",
    "        if start:\n",
    "            self.start()\n",
    "            \n",
    "    def get_time(self):\n",
    "        import datetime as dt\n",
    "        return dt.datetime.now(tz=self.tz)\n",
    "\n",
    "        \n",
    "    def start(self,verbose=True):\n",
    "        self._laps_completed = 0\n",
    "        self.start = self.get_time()\n",
    "        if verbose: \n",
    "            print(f'[i] Timer started at {self.start.strftime(self.fmt)}')\n",
    "    \n",
    "    def stop(self, verbose=True):\n",
    "        self._laps_completed += 1\n",
    "        self.end = self.get_time()\n",
    "        self.elapsed = self.end -  self.start\n",
    "        if verbose: \n",
    "            print(f'[i] Timer stopped at {self.end.strftime(self.fmt)}')\n",
    "            print(f'  - Total Time: {self.elapsed}')\n",
    "    \n",
    "    \n",
    "    \n",
    "from sklearn.metrics import make_scorer\n",
    "def my_custom_scorer(y_true,y_pred,verbose=True):#,scoring='accuracy',verbose=True):\n",
    "    \"\"\"My custom score function to use with sklearn's GridSearchCV\n",
    "    Maximizes the average accuracy per class using a normalized confusion matrix\"\"\"\n",
    "\n",
    "    import sklearn.metrics as metrics\n",
    "    from sklearn.metrics import confusion_matrix\n",
    "    import numpy as np\n",
    "\n",
    "    ## reduce dimensions of y_train and y_test\n",
    "    if y_true.ndim>1:            \n",
    "        y_true = y_true.argmax(axis=1)\n",
    "\n",
    "    if y_pred.ndim>1:\n",
    "        y_pred = y_pred.argmax(axis=1)\n",
    "        \n",
    "    evaluate_model(y_true,y_pred)\n",
    "    print('\\n\\n')\n",
    "    return metrics.accuracy_score(y_true,y_pred)\n",
    "\n",
    "\n",
    "\n",
    "def get_secret_password(file='/Users/jamesirving/.secret/gmail.json'):\n",
    "    with open(file) as file:\n",
    "        import json\n",
    "        gmail = json.loads(file.read())\n",
    "    # email_notification()\n",
    "    print(gmail.keys())\n",
    "    return gmail\n",
    "\n",
    "\n",
    "def email_notification(password_obj=None,subject='GridSearch Finished',\n",
    "                       msg='The GridSearch is now complete.'):\n",
    "    \"\"\"Sends email notification from gmail account using previously encrypyted password  object (an instance\n",
    "    of EncrypytedPassword). \n",
    "    Args:\n",
    "        password_obj (dict): Login info dict with keys: username,password.\n",
    "        subject (str):Text for subject line.\n",
    "        msg (str): Text for body of email. \n",
    "\n",
    "    Returns:\n",
    "        Prints `Email sent!` if email successful. \n",
    "    \"\"\"\n",
    "    if password_obj is None:\n",
    "        gmail = get_secret_password()\n",
    "    else:\n",
    "        assert ('username' in password_obj)&('password' in password_obj)\n",
    "        gmail = password_obj\n",
    "        \n",
    "    if isinstance(msg,str)==False:\n",
    "        msg=str(msg)\n",
    "        \n",
    "    \n",
    "    # import required packages\n",
    "    import smtplib\n",
    "    from email.mime.multipart import MIMEMultipart\n",
    "    from email.mime.text import MIMEText\n",
    "    from email.mime.image import MIMEImage\n",
    "    from email import encoders\n",
    "    \n",
    "\n",
    "    ## WRITE EMAIL\n",
    "    message = MIMEMultipart()\n",
    "    message['Subject'] =subject\n",
    "    message['To'] = gmail['username']\n",
    "    message['From'] = gmail['username']\n",
    "    message.attach(MIMEText(msg,'plain'))\n",
    "    text_message = message.as_string()\n",
    "\n",
    "\n",
    "    # Send email request\n",
    "    try:\n",
    "        with  smtplib.SMTP_SSL('smtp.gmail.com',465) as server:\n",
    "            \n",
    "            server.login(gmail['username'],gmail['password'])\n",
    "            server.sendmail(gmail['username'],gmail['username'], text_message)#text_message)\n",
    "            server.close()\n",
    "            print(f\"Email sent to {gmail['username']}!\")\n",
    "        \n",
    "    except Exception as e:\n",
    "        print(e)\n",
    "        print('Something went wrong')\n",
    "       \n",
    "       \n",
    "       \n",
    "def prepare_gridsearch_report(grid_search,X_test,y_test,\n",
    "                              save_path = 'results/emails/'):\n",
    "    \"\"\"Creates a text report with grid search results \n",
    "    and saves it to disk. Text is returned and can be attached as \n",
    "    the `msg` param for email_notification'\"\"\"\n",
    "    ## Make folders for saving email contents\n",
    "    import os,sys\n",
    "    import sklearn.metrics as metrics\n",
    "    os.makedirs(save_path,exist_ok=True)\n",
    "    \n",
    "    ## Get time afor report\n",
    "    import datetime as dt\n",
    "    import tzlocal as tz\n",
    "    now = dt.datetime.now(tz.get_localzone())\n",
    "                  \n",
    "    time = now.strftime(\"%m/%d/%Y - %I:%M %p\")  \n",
    "    \n",
    "    ## filepaths for fig and report\n",
    "    fig_fpath = save_path+'confusion_matrix.png'\n",
    "    msg_text_path = save_path+'msg.txt'\n",
    "\n",
    "    \n",
    "    ## GET BEST PARAMS AND MODEL\n",
    "    best_params = str(grid_search.best_params_)\n",
    "    best_model = grid_search.best_estimator_#(grid.best_params_)\n",
    "    \n",
    "    # Get predictions\n",
    "    y_hat_test = best_model.predict(X_test)\n",
    "    \n",
    "    ## Get Classification report\n",
    "    report = metrics.classification_report(y_test.argmax(axis=1),y_hat_test)\n",
    "    \n",
    "    ## Get text confusion matrix\n",
    "    cm = np.round(metrics.confusion_matrix(y_test.argmax(axis=1),y_hat_test,normalize='true'),2)\n",
    "    cm_str = str(cm)\n",
    "\n",
    "          \n",
    "    ## Combine text for report\n",
    "    msg_text = [f'Grid Search Results from {time}:\\n']\n",
    "    msg_text = ['The best params were:\\n\\t']\n",
    "    msg_text.append(best_params)\n",
    "    msg_text.append('\\n\\n')\n",
    "    msg_text.append('Classification Report:\\n')\n",
    "    msg_text.append(report)\n",
    "    msg_text.append('\\n\\n')\n",
    "\n",
    "    msg_text.append('Confusion Matrix (normalized to true labels):\\n')\n",
    "    msg_text.append(cm_str)\n",
    "                  \n",
    "\n",
    "    \n",
    "    ## Save the text to file\n",
    "    with open(msg_text_path,'w+') as f:\n",
    "        f.writelines(msg_text)\n",
    "    print(f\"Message saved as {msg_text_path}\")\n",
    "                  \n",
    "    ## Load the (fixed) text from file\n",
    "    with open(msg_text_path,'r') as f:\n",
    "        txt = f.read()\n",
    "        \n",
    "    ## Plot and save confusion matrix\n",
    "    fig = plot_confusion_matrix((y_test,y_hat_test))\n",
    "    try:\n",
    "        fig.savefig(fig_fpath, dpi=300, facecolor='w', edgecolor='w', orientation='portrait',\n",
    "                    papertype=None, format=None, transparent=False, bbox_inches=None, pad_inches=0.1, frameon=None, metadata=None)\n",
    "        print(f\"Figure saved as {fig_fpath}\")           \n",
    "    except Exception as e:\n",
    "        print(f\"[!] ERROR saving figure:\\n\\t{e}\")\n",
    "        \n",
    "    return txt#,fig"
   ]
  },
  {
   "cell_type": "code",
   "execution_count": 0,
   "metadata": {
    "colab": {},
    "colab_type": "code",
    "id": "XX0sOBH8tKub"
   },
   "outputs": [],
   "source": [
    ""
   ]
  },
  {
   "cell_type": "markdown",
   "metadata": {
    "colab_type": "text",
    "id": "M9kJLR7pgd5I"
   },
   "source": [
    "## Using Colab Pro "
   ]
  },
  {
   "cell_type": "code",
   "execution_count": 0,
   "metadata": {
    "colab": {
     "base_uri": "https://localhost:8080/",
     "height": 306
    },
    "colab_type": "code",
    "id": "8XX6Sd5dpuOQ",
    "outputId": "9beef119-431f-4bf2-c91e-e028638c210d"
   },
   "outputs": [
    {
     "name": "stdout",
     "output_type": "stream",
     "text": [
      "Thu Mar  5 17:34:58 2020       \n",
      "+-----------------------------------------------------------------------------+\n",
      "| NVIDIA-SMI 440.59       Driver Version: 418.67       CUDA Version: 10.1     |\n",
      "|-------------------------------+----------------------+----------------------+\n",
      "| GPU  Name        Persistence-M| Bus-Id        Disp.A | Volatile Uncorr. ECC |\n",
      "| Fan  Temp  Perf  Pwr:Usage/Cap|         Memory-Usage | GPU-Util  Compute M. |\n",
      "|===============================+======================+======================|\n",
      "|   0  Tesla P100-PCIE...  Off  | 00000000:00:04.0 Off |                    0 |\n",
      "| N/A   38C    P0    26W / 250W |      0MiB / 16280MiB |      0%      Default |\n",
      "+-------------------------------+----------------------+----------------------+\n",
      "                                                                               \n",
      "+-----------------------------------------------------------------------------+\n",
      "| Processes:                                                       GPU Memory |\n",
      "|  GPU       PID   Type   Process name                             Usage      |\n",
      "|=============================================================================|\n",
      "|  No running processes found                                                 |\n",
      "+-----------------------------------------------------------------------------+\n"
     ]
    }
   ],
   "source": [
    "#https://colab.research.google.com/notebooks/pro.ipynb\n",
    "gpu_info = !nvidia-smi\n",
    "gpu_info = '\\n'.join(gpu_info)\n",
    "if gpu_info.find('failed') >= 0:\n",
    "  print('Select the Runtime → \"Change runtime type\" menu to enable a GPU accelerator, ')\n",
    "  print('and then re-execute this cell.')\n",
    "else:\n",
    "  print(gpu_info)"
   ]
  },
  {
   "cell_type": "code",
   "execution_count": 0,
   "metadata": {
    "colab": {
     "base_uri": "https://localhost:8080/",
     "height": 68
    },
    "colab_type": "code",
    "id": "CJCNXnmPqBC6",
    "outputId": "a306f738-aff7-4ca5-feef-7a38247b82e2"
   },
   "outputs": [
    {
     "name": "stdout",
     "output_type": "stream",
     "text": [
      "Your runtime has 27.4 gigabytes of available RAM\n",
      "\n",
      "You are using a high-RAM runtime!\n"
     ]
    }
   ],
   "source": [
    "from psutil import virtual_memory\n",
    "ram_gb = virtual_memory().total / 1e9\n",
    "print('Your runtime has {:.1f} gigabytes of available RAM\\n'.format(ram_gb))\n",
    "\n",
    "if ram_gb < 20:\n",
    "  print('To enable a high-RAM runtime, select the Runtime → \"Change runtime type\"')\n",
    "  print('menu, and then select High-RAM in the Runtime shape dropdown. Then, ')\n",
    "  print('re-execute this cell.')\n",
    "else:\n",
    "  print('You are using a high-RAM runtime!')"
   ]
  },
  {
   "cell_type": "markdown",
   "metadata": {
    "colab_type": "text",
    "id": "8qbS0lSrghaO"
   },
   "source": [
    "## Installs & Imports"
   ]
  },
  {
   "cell_type": "code",
   "execution_count": 0,
   "metadata": {
    "ExecuteTime": {
     "end_time": "2020-02-13T16:03:21.650842Z",
     "start_time": "2020-02-13T16:03:14.745924Z"
    },
    "colab": {
     "base_uri": "https://localhost:8080/",
     "height": 238
    },
    "colab_type": "code",
    "id": "KHc94KpTlbRj",
    "outputId": "4bd61760-6829-4868-a110-8f2a804c8059"
   },
   "outputs": [
    {
     "name": "stdout",
     "output_type": "stream",
     "text": [
      "fsds_1007219  v0.7.16 loaded.  Read the docs: https://fsds.readthedocs.io/en/latest/ \n"
     ]
    },
    {
     "data": {
      "text/html": [
       "<style  type=\"text/css\" >\n",
       "</style><table id=\"T_af59f072_5f07_11ea_9620_0242ac1c0002\" ><caption>Loaded Packages and Handles</caption><thead>    <tr>        <th class=\"col_heading level0 col0\" >Handle</th>        <th class=\"col_heading level0 col1\" >Package</th>        <th class=\"col_heading level0 col2\" >Description</th>    </tr></thead><tbody>\n",
       "                <tr>\n",
       "                                <td id=\"T_af59f072_5f07_11ea_9620_0242ac1c0002row0_col0\" class=\"data row0 col0\" >dp</td>\n",
       "                        <td id=\"T_af59f072_5f07_11ea_9620_0242ac1c0002row0_col1\" class=\"data row0 col1\" >IPython.display</td>\n",
       "                        <td id=\"T_af59f072_5f07_11ea_9620_0242ac1c0002row0_col2\" class=\"data row0 col2\" >Display modules with helpful display and clearing commands.</td>\n",
       "            </tr>\n",
       "            <tr>\n",
       "                                <td id=\"T_af59f072_5f07_11ea_9620_0242ac1c0002row1_col0\" class=\"data row1 col0\" >fs</td>\n",
       "                        <td id=\"T_af59f072_5f07_11ea_9620_0242ac1c0002row1_col1\" class=\"data row1 col1\" >fsds_100719</td>\n",
       "                        <td id=\"T_af59f072_5f07_11ea_9620_0242ac1c0002row1_col2\" class=\"data row1 col2\" >Custom data science bootcamp student package</td>\n",
       "            </tr>\n",
       "            <tr>\n",
       "                                <td id=\"T_af59f072_5f07_11ea_9620_0242ac1c0002row2_col0\" class=\"data row2 col0\" >mpl</td>\n",
       "                        <td id=\"T_af59f072_5f07_11ea_9620_0242ac1c0002row2_col1\" class=\"data row2 col1\" >matplotlib</td>\n",
       "                        <td id=\"T_af59f072_5f07_11ea_9620_0242ac1c0002row2_col2\" class=\"data row2 col2\" >Matplotlib's base OOP module with formatting artists</td>\n",
       "            </tr>\n",
       "            <tr>\n",
       "                                <td id=\"T_af59f072_5f07_11ea_9620_0242ac1c0002row3_col0\" class=\"data row3 col0\" >plt</td>\n",
       "                        <td id=\"T_af59f072_5f07_11ea_9620_0242ac1c0002row3_col1\" class=\"data row3 col1\" >matplotlib.pyplot</td>\n",
       "                        <td id=\"T_af59f072_5f07_11ea_9620_0242ac1c0002row3_col2\" class=\"data row3 col2\" >Matplotlib's matlab-like plotting module</td>\n",
       "            </tr>\n",
       "            <tr>\n",
       "                                <td id=\"T_af59f072_5f07_11ea_9620_0242ac1c0002row4_col0\" class=\"data row4 col0\" >np</td>\n",
       "                        <td id=\"T_af59f072_5f07_11ea_9620_0242ac1c0002row4_col1\" class=\"data row4 col1\" >numpy</td>\n",
       "                        <td id=\"T_af59f072_5f07_11ea_9620_0242ac1c0002row4_col2\" class=\"data row4 col2\" >scientific computing with Python</td>\n",
       "            </tr>\n",
       "            <tr>\n",
       "                                <td id=\"T_af59f072_5f07_11ea_9620_0242ac1c0002row5_col0\" class=\"data row5 col0\" >pd</td>\n",
       "                        <td id=\"T_af59f072_5f07_11ea_9620_0242ac1c0002row5_col1\" class=\"data row5 col1\" >pandas</td>\n",
       "                        <td id=\"T_af59f072_5f07_11ea_9620_0242ac1c0002row5_col2\" class=\"data row5 col2\" >High performance data structures and tools</td>\n",
       "            </tr>\n",
       "            <tr>\n",
       "                                <td id=\"T_af59f072_5f07_11ea_9620_0242ac1c0002row6_col0\" class=\"data row6 col0\" >sns</td>\n",
       "                        <td id=\"T_af59f072_5f07_11ea_9620_0242ac1c0002row6_col1\" class=\"data row6 col1\" >seaborn</td>\n",
       "                        <td id=\"T_af59f072_5f07_11ea_9620_0242ac1c0002row6_col2\" class=\"data row6 col2\" >High-level data visualization library based on matplotlib</td>\n",
       "            </tr>\n",
       "    </tbody></table>"
      ],
      "text/plain": [
       "<pandas.io.formats.style.Styler at 0x7fc59c924898>"
      ]
     },
     "metadata": {
      "tags": []
     },
     "output_type": "display_data"
    },
    {
     "data": {
      "text/html": [
       "        <script type=\"text/javascript\">\n",
       "        window.PlotlyConfig = {MathJaxConfig: 'local'};\n",
       "        if (window.MathJax) {MathJax.Hub.Config({SVG: {font: \"STIX-Web\"}});}\n",
       "        if (typeof require !== 'undefined') {\n",
       "        require.undef(\"plotly\");\n",
       "        requirejs.config({\n",
       "            paths: {\n",
       "                'plotly': ['https://cdn.plot.ly/plotly-latest.min']\n",
       "            }\n",
       "        });\n",
       "        require(['plotly'], function(Plotly) {\n",
       "            window._Plotly = Plotly;\n",
       "        });\n",
       "        }\n",
       "        </script>\n",
       "        "
      ]
     },
     "metadata": {
      "tags": []
     },
     "output_type": "display_data"
    },
    {
     "name": "stdout",
     "output_type": "stream",
     "text": [
      "[i] Pandas .iplot() method activated.\n"
     ]
    }
   ],
   "source": [
    "!pip install pillow\n",
    "!pip install opencv-contrib-python\n",
    "!pip install -U fsds_100719\n",
    "\n",
    "\n",
    "from fsds_100719.imports import *\n"
   ]
  },
  {
   "cell_type": "code",
   "execution_count": 0,
   "metadata": {
    "ExecuteTime": {
     "end_time": "2020-02-13T16:03:22.790837Z",
     "start_time": "2020-02-13T16:03:21.652166Z"
    },
    "colab": {
     "base_uri": "https://localhost:8080/",
     "height": 130
    },
    "colab_type": "code",
    "id": "2yML_wHNlbRn",
    "outputId": "7dd8f26e-d6c9-4f6d-b21b-ed9556400f86"
   },
   "outputs": [
    {
     "ename": "SyntaxError",
     "evalue": "ignored",
     "output_type": "error",
     "traceback": [
      "\u001b[0;36m  File \u001b[0;32m\"<ipython-input-9-65371b19f09a>\"\u001b[0;36m, line \u001b[0;32m1\u001b[0m\n\u001b[0;31m    |from PIL import Image\u001b[0m\n\u001b[0m    ^\u001b[0m\n\u001b[0;31mSyntaxError\u001b[0m\u001b[0;31m:\u001b[0m invalid syntax\n"
     ]
    }
   ],
   "source": [
    "|from PIL import Image\n",
    "\n",
    "from keras.preprocessing.image import ImageDataGenerator, array_to_img, img_to_array, load_img\n",
    "# import tensorflow.compat.v1 as tf\n",
    "# tf.disable_v2_behavior()\n",
    "import cv2\n"
   ]
  },
  {
   "cell_type": "markdown",
   "metadata": {
    "colab_type": "text",
    "id": "AFAlTuXB8I4U"
   },
   "source": [
    "## Defining Folder Structure"
   ]
  },
  {
   "cell_type": "code",
   "execution_count": 0,
   "metadata": {
    "ExecuteTime": {
     "end_time": "2020-02-13T16:03:22.795516Z",
     "start_time": "2020-02-13T16:03:22.792300Z"
    },
    "colab": {
     "base_uri": "https://localhost:8080/",
     "height": 34
    },
    "colab_type": "code",
    "id": "ykHe6fpjlbRq",
    "outputId": "b7c6f175-d184-457f-89ef-a7b7cac49e40"
   },
   "outputs": [
    {
     "data": {
      "text/plain": [
       "['test_set', 'training_set', 'single_prediction', '.DS_Store']"
      ]
     },
     "execution_count": 10,
     "metadata": {
      "tags": []
     },
     "output_type": "execute_result"
    }
   ],
   "source": [
    "# ## dataset\n",
    "base_folder = r'dogs-vs-cats-sorted/'#My Drive/Datasets/dogs-vs-cats-sorted/'\n",
    "os.listdir(base_folder)"
   ]
  },
  {
   "cell_type": "markdown",
   "metadata": {
    "colab_type": "text",
    "id": "L5CNHxnagDjo"
   },
   "source": [
    "## Preparing Images Using .flow instead of flow_from_directory\n",
    "- https://discuss.analyticsvidhya.com/t/keras-image-preprocessing-using-flow-and-not-flow-from-directory/69460/2\n"
   ]
  },
  {
   "cell_type": "code",
   "execution_count": 0,
   "metadata": {
    "ExecuteTime": {
     "end_time": "2020-02-13T16:03:22.799532Z",
     "start_time": "2020-02-13T16:03:22.796894Z"
    },
    "colab": {},
    "colab_type": "code",
    "id": "3vsPkzBelbRt"
   },
   "outputs": [],
   "source": [
    "# ## DOG VS CAT\n",
    "base_folder = r'dogs-vs-cats-sorted/'\n",
    "\n",
    "train_base_dir = base_folder+'training_set/'\n",
    "test_base_dir =base_folder+'test_set/' \n",
    "\n",
    "train_dogs = train_base_dir+'dogs/'\n",
    "train_cats = train_base_dir+'cats/'\n",
    "\n",
    "test_dogs = test_base_dir+'dogs/'\n",
    "test_cats = test_base_dir+'cats/'"
   ]
  },
  {
   "cell_type": "code",
   "execution_count": 0,
   "metadata": {
    "ExecuteTime": {
     "end_time": "2020-02-13T16:03:22.834047Z",
     "start_time": "2020-02-13T16:03:22.804471Z"
    },
    "colab": {},
    "colab_type": "code",
    "id": "2gdysZbGlbRy"
   },
   "outputs": [],
   "source": [
    "import cv2,glob,os\n",
    "dog_train_files = glob.glob(train_dogs+'*.jpg')\n",
    "cat_train_files = glob.glob(train_cats+'*.jpg')\n",
    "all_train_files = [*dog_train_files,*cat_train_files]\n",
    "\n",
    "dog_test_files = glob.glob(test_dogs+'*.jpg')\n",
    "cat_test_files = glob.glob(test_cats+'*.jpg')\n",
    "all_test_files = [*dog_test_files,*cat_test_files]\n",
    "\n",
    "# print(len(img_filenames))\n",
    "# img_filenames[:10]\n",
    "\n",
    "all_filename_vars = [dog_train_files, cat_train_files,\n",
    "                        dog_test_files,cat_test_files]"
   ]
  },
  {
   "cell_type": "code",
   "execution_count": 0,
   "metadata": {
    "ExecuteTime": {
     "end_time": "2020-02-13T16:03:22.838772Z",
     "start_time": "2020-02-13T16:03:22.835323Z"
    },
    "colab": {},
    "colab_type": "code",
    "id": "FliRjzJilbR1"
   },
   "outputs": [],
   "source": [
    "def load_image_cv2(filename, RGB=True):\n",
    "    \"\"\"Loads image using cv2 and converts to either matplotlib-RGB (default)\n",
    "    or grayscale.\"\"\"\n",
    "    import cv2\n",
    "\n",
    "    IMG = cv2.imread(filename)\n",
    "    if RGB: cmap = cv2.COLOR_BGR2RGB\n",
    "    else: cmap=cv2.COLOR_BGR2GRAY\n",
    "    return cv2.cvtColor(IMG,cmap)"
   ]
  },
  {
   "cell_type": "code",
   "execution_count": 0,
   "metadata": {
    "colab": {},
    "colab_type": "code",
    "id": "hMrChDEtsGZx"
   },
   "outputs": [],
   "source": [
    "from PIL import Image\n",
    "from keras.preprocessing import image\n",
    "from imageio import imread\n",
    "from skimage.transform import resize\n",
    "import cv2\n",
    "from tqdm import tqdm\n",
    "\n",
    "# defining a function to read images\n",
    "def read_img(img_path,target_size=(64, 64, 3)):\n",
    "    img = image.load_img(img_path, target_size=target_size)\n",
    "    img = image.img_to_array(img)\n",
    "\n",
    "    return img\n",
    "\n",
    "def load_train_test_val(dog_training_filenames, cat_training_filenames,\n",
    "                        dog_test_filenames,cat_test_filenames,\n",
    "                        img_size=(64,64,3),val_size=0.1):\n",
    "    \"\"\"Reads in training and test filenames to produce X and y data splits.\n",
    "    The validation set is intended to be used during training and is created\n",
    "    from the training images using train test split.\n",
    "\n",
    "    ylabels are encoded as 0=cat, 1=dog\n",
    "    Returns:  X_train, X_test, X_val, y_train, y_test,y_val\"\"\"\n",
    "    # \n",
    "    \n",
    "    display('[i] LOADING IMAGES')\n",
    " \n",
    "    train_img = []\n",
    "    train_label = []\n",
    "\n",
    "    for img_path in tqdm(dog_training_filenames):\n",
    "        train_img.append(read_img(img_path,target_size=img_size))\n",
    "        train_label.append(1)\n",
    "\n",
    "    for img_path in tqdm(cat_training_filenames):\n",
    "        train_img.append(read_img(img_path,target_size=img_size))\n",
    "        train_label.append(0)\n",
    "\n",
    "\n",
    "    test_img = []\n",
    "    test_label = []\n",
    "\n",
    "    for img_path in tqdm(dog_test_files):\n",
    "        test_img.append(read_img(img_path,target_size=img_size))\n",
    "        test_label.append(1)\n",
    "\n",
    "    for img_path in tqdm(dog_test_files):\n",
    "        test_img.append(read_img(img_path,target_size=img_size))\n",
    "        test_label.append(0)\n",
    "    # print('\\n',pd.Series(train_label).value_counts())\n",
    "\n",
    "\n",
    "    from sklearn.model_selection import train_test_split\n",
    "    X = np.array(train_img, np.float32)\n",
    "    y = np.array(train_label)\n",
    "\n",
    "    X_test = np.array(test_img, np.float32)\n",
    "    y_test = np.array(test_label)\n",
    "    X_train,X_val,y_train,y_val = train_test_split(X,y,test_size=0.1)\n",
    "    print('\\n[i] Length of Splits:')\n",
    "    print(f\"X_train={len(X_train)}, X_test={len(X_test)}, X_val={len(X_val)}\")\n",
    "    return X_train, X_test, X_val, y_train, y_test,y_val \n",
    "\n",
    "\n",
    "def train_test_val_datagens(X_train,X_test,X_val,y_train,y_test,y_val,\n",
    "                            BATCH_SIZE = 32, train_datagen_kws= dict(\n",
    "                                shear_range = 0.2, \n",
    "                                zoom_range = 0.2,\n",
    "                                horizontal_flip = True)):\n",
    "    \"\"\"Creates ImageDataGenerators for train,test,val data.\n",
    "    Returns: training_set,test_set,val_set\"\"\"\n",
    "    ## Create training and test data\n",
    "    from keras.preprocessing.image import ImageDataGenerator\n",
    "\n",
    "    train_datagen = ImageDataGenerator(rescale = 1./255,**train_datagen_kws)\n",
    "\n",
    "    test_datagen = ImageDataGenerator(rescale = 1./255)\n",
    "    val_datagen = ImageDataGenerator(rescale = 1./255)\n",
    "\n",
    "    training_set = train_datagen.flow(X_train,y=y_train,batch_size=BATCH_SIZE)\n",
    "    test_set = test_datagen.flow(X_test,y=y_test,batch_size=BATCH_SIZE)\n",
    "    val_set = val_datagen.flow(X_val,y=y_val,batch_size=BATCH_SIZE)\n",
    "\n",
    "    return training_set,test_set,val_set\n",
    "\n",
    "\n",
    "\n",
    "def get_shapes_dict(training_set,verbose=True):\n",
    "    shapes = [\"Batchsize\", \"img_width\",\"img_height\",\"img_dim\"]\n",
    "    SHAPES = dict(zip(shapes, training_set[0][0].shape))\n",
    "    if verbose:\n",
    "        print('SHAPES DICT:')\n",
    "        print(SHAPES)\n",
    "        print(training_set[0][0].shape)\n",
    "        print('\\n[i] Labels for batch (0=cat,1=dog)')\n",
    "        print(training_set[0][1])\n",
    "    return SHAPES\n",
    "      "
   ]
  },
  {
   "cell_type": "code",
   "execution_count": 0,
   "metadata": {
    "colab": {},
    "colab_type": "code",
    "id": "KZHkgQNd8hIw"
   },
   "outputs": [],
   "source": [
    ""
   ]
  },
  {
   "cell_type": "markdown",
   "metadata": {
    "colab_type": "text",
    "id": "EmAH1aUT8g8X"
   },
   "source": [
    ""
   ]
  },
  {
   "cell_type": "code",
   "execution_count": 0,
   "metadata": {
    "ExecuteTime": {
     "end_time": "2020-02-13T16:28:11.019925Z",
     "start_time": "2020-02-13T16:28:10.679367Z"
    },
    "colab": {
     "base_uri": "https://localhost:8080/",
     "height": 306
    },
    "colab_type": "code",
    "id": "EJ32Dq1HlbSS",
    "outputId": "bd9e6afa-dd40-422c-ed9a-4921abadb97c"
   },
   "outputs": [
    {
     "data": {
      "text/plain": [
       "'[i] LOADING IMAGES'"
      ]
     },
     "metadata": {
      "tags": []
     },
     "output_type": "display_data"
    },
    {
     "name": "stderr",
     "output_type": "stream",
     "text": [
      "100%|██████████| 4000/4000 [00:09<00:00, 416.51it/s]\n",
      "100%|██████████| 4000/4000 [00:09<00:00, 426.76it/s]\n",
      "100%|██████████| 1000/1000 [00:02<00:00, 407.96it/s]\n",
      "100%|██████████| 1000/1000 [00:02<00:00, 418.75it/s]\n"
     ]
    },
    {
     "name": "stdout",
     "output_type": "stream",
     "text": [
      "\n",
      "[i] Length of Splits:\n",
      "X_train=7200, X_test=2000, X_val=800\n",
      "SHAPES DICT:\n",
      "{'Batchsize': 128, 'img_width': 64, 'img_height': 64, 'img_dim': 3}\n",
      "(128, 64, 64, 3)\n",
      "\n",
      "[i] Labels for batch (0=cat,1=dog)\n",
      "[1 0 0 1 1 1 1 0 0 1 0 1 1 1 0 0 1 1 0 0 1 0 1 0 0 1 1 0 1 1 0 0 1 0 1 1 1\n",
      " 0 0 1 0 0 0 0 0 0 0 1 0 1 1 0 0 1 0 0 0 1 1 0 0 0 1 1 1 1 0 1 1 1 1 0 1 0\n",
      " 0 0 1 1 1 1 0 1 0 0 0 0 0 0 0 0 0 0 0 0 1 1 1 0 1 1 0 1 1 1 1 1 1 0 0 0 1\n",
      " 1 1 1 0 1 0 1 0 0 0 1 0 1 1 1 1 1]\n"
     ]
    }
   ],
   "source": [
    "## USING FUNCTIONS TO LOAD IN IMAGES \n",
    "X_train,X_test,X_val,y_train,y_test,y_val = load_train_test_val(*all_filename_vars,\n",
    "                                                  val_size=0.1,img_size=(64,64,3))\n",
    "\n",
    "train_test_val_vars = [X_train,X_test,X_val,y_train,y_test,y_val ]\n",
    "\n",
    "training_set,test_set,val_set = train_test_val_datagens(*train_test_val_vars,\n",
    "                                                        BATCH_SIZE=128)\n",
    "    # X_train,X_test,X_val,y_train,y_test,y_val, BATCH_SIZE=128)    \n",
    "\n",
    "SHAPES = get_shapes_dict(training_set)\n"
   ]
  },
  {
   "cell_type": "code",
   "execution_count": 0,
   "metadata": {
    "colab": {
     "base_uri": "https://localhost:8080/",
     "height": 34
    },
    "colab_type": "code",
    "id": "QLjQk_t--WUj",
    "outputId": "e0a0178a-303c-4149-f477-352cbbe32a38"
   },
   "outputs": [
    {
     "data": {
      "text/plain": [
       "False"
      ]
     },
     "execution_count": 17,
     "metadata": {
      "tags": []
     },
     "output_type": "execute_result"
    }
   ],
   "source": [
    "len(all_filename_vars) != 4"
   ]
  },
  {
   "cell_type": "code",
   "execution_count": 0,
   "metadata": {
    "colab": {
     "base_uri": "https://localhost:8080/",
     "height": 272
    },
    "colab_type": "code",
    "id": "aQWzX5XWyGhZ",
    "outputId": "04a24b5c-2dd4-486f-fb60-c789a8a62210"
   },
   "outputs": [
    {
     "data": {
      "text/plain": [
       "'[i] LOADING IMAGES'"
      ]
     },
     "metadata": {
      "tags": []
     },
     "output_type": "display_data"
    },
    {
     "name": "stderr",
     "output_type": "stream",
     "text": [
      "100%|██████████| 4000/4000 [00:09<00:00, 417.44it/s]\n",
      "100%|██████████| 4000/4000 [00:09<00:00, 419.20it/s]\n",
      "100%|██████████| 1000/1000 [00:02<00:00, 422.03it/s]\n",
      "100%|██████████| 1000/1000 [00:02<00:00, 419.26it/s]\n"
     ]
    },
    {
     "name": "stdout",
     "output_type": "stream",
     "text": [
      "\n",
      "[i] Length of Splits:\n",
      "X_train=7200, X_test=2000, X_val=800\n",
      "SHAPES DICT:\n",
      "{'Batchsize': 64, 'img_width': 64, 'img_height': 64, 'img_dim': 3}\n",
      "(64, 64, 64, 3)\n",
      "\n",
      "[i] Labels for batch (0=cat,1=dog)\n",
      "[1 1 1 1 0 1 1 0 1 0 1 1 1 1 1 1 0 0 0 1 1 1 0 0 0 0 1 1 1 1 0 1 1 0 1 1 0\n",
      " 0 0 1 1 0 0 1 0 0 1 1 1 1 1 0 0 1 1 0 0 0 0 1 0 1 1 0]\n"
     ]
    }
   ],
   "source": [
    "def complete_image_processing(*train_test_filenames,img_size=(64,64,3),val_size=0.1,\n",
    "                              BATCH_SIZE = 32, train_datagen_kws= dict(\n",
    "                                shear_range = 0.2, \n",
    "                                zoom_range = 0.2,\n",
    "                                horizontal_flip = True),verbose=True):\n",
    "    \"\"\"Calls all 3 image prep functions and returns training,test,val datagens,\n",
    "    plus SHAPES dict.\"\"\"    \n",
    "    # img_params = list(locals())\n",
    "    # print(img_params[1:])\n",
    "    # if verbose:\n",
    "        # print('\\n[i] Creating training ImageDataGenerator using:')\n",
    "        # [print(f\"{img_params[i]}\") for i in range(len(img_params))];\n",
    "\n",
    "\n",
    "    # print(len(train_test_filenames))\n",
    "    if len(train_test_filenames) != 4:\n",
    "        raise Exception('Must provide 4 filenames dog_train_files, cat_train_files,dog_test_files,cat_test_files')\n",
    "    train_test_val_vars = load_train_test_val(\n",
    "        *train_test_filenames, val_size=0.1,img_size=img_size)\n",
    "\n",
    "    training_set,test_set,val_set = train_test_val_datagens(*train_test_val_vars,\n",
    "                                                            BATCH_SIZE=BATCH_SIZE)\n",
    "\n",
    "    SHAPES = get_shapes_dict(training_set)\n",
    "\n",
    "    # print(pd.Series())\n",
    "\n",
    "    return training_set,test_set,val_set,SHAPES\n",
    "\n",
    "\n",
    "\n",
    "training_set,test_set,val_set,SHAPES = \\\n",
    "complete_image_processing(*all_filename_vars, img_size=(64,64,3),BATCH_SIZE=64)"
   ]
  },
  {
   "cell_type": "markdown",
   "metadata": {
    "colab_type": "text",
    "id": "P1-7hb_lhVdU"
   },
   "source": [
    "# Using CNNs"
   ]
  },
  {
   "cell_type": "markdown",
   "metadata": {
    "colab_type": "text",
    "id": "s3_BRyfOQ8fR"
   },
   "source": [
    "## Model 1"
   ]
  },
  {
   "cell_type": "code",
   "execution_count": 0,
   "metadata": {
    "ExecuteTime": {
     "end_time": "2020-02-13T16:28:18.120169Z",
     "start_time": "2020-02-13T16:28:17.985574Z"
    },
    "colab": {},
    "colab_type": "code",
    "id": "5ZbaFM3xlbSa"
   },
   "outputs": [],
   "source": [
    "# # Part 1 - Building the CNN\n",
    "# clock = fs.jmi.Clock()\n",
    "# clock.tic('')\n",
    "# # Importing the Keras libraries and packages\n",
    "# from keras.models import Sequential\n",
    "# from keras.layers import Conv2D\n",
    "# from keras.layers import MaxPooling2D\n",
    "# from keras.layers import Flatten\n",
    "# from keras.layers import Dense\n",
    "\n",
    "# # Initialising the CNN\n",
    "# classifier = Sequential()\n",
    "\n",
    "# # Step 1 - Convolution\n",
    "# classifier.add(Conv2D(SHAPES['Batchsize'], (3, 3),\n",
    "#                              input_shape = (SHAPES['img_width'],\n",
    "#                                             SHAPES['img_height'],\n",
    "#                                             SHAPES['img_dim']),\n",
    "#                              activation = 'relu'))\n",
    "\n",
    "# classifier.add(Conv2D(SHAPES['Batchsize'], (3, 3),\n",
    "#                       input_shape = (SHAPES['img_width'], \n",
    "#                                      SHAPES['img_height'],\n",
    "#                                      SHAPES['img_dim']),\n",
    "#                        activation = 'relu'))\n",
    "# # Step 2 - Pooling\n",
    "# classifier.add(MaxPooling2D(pool_size = (2, 2)))\n",
    "\n",
    "# # Adding a second convolutional layer\n",
    "# classifier.add(Conv2D(SHAPES['Batchsize'], (3, 3),\n",
    "#                       activation = 'relu'))\n",
    "# classifier.add(MaxPooling2D(pool_size = (2, 2)))\n",
    "\n",
    "# # Step 3 - Flattening\n",
    "# classifier.add(Flatten())\n",
    "\n",
    "# # Step 4 - Full connection\n",
    "# classifier.add(Dense(units = SHAPES['Batchsize'], activation = 'relu'))\n",
    "\n",
    "# classifier.add(Dense(units = 1, activation = 'sigmoid'))\n",
    "\n",
    "# # Compiling the CNN\n",
    "# classifier.compile(optimizer = 'adam', \n",
    "#                    loss = 'binary_crossentropy',\n",
    "#                    metrics = ['accuracy'])\n",
    "# print()\n",
    "# display(classifier.summary())\n",
    "# # Part 2 - Fitting the CNN to the images\n",
    "\n",
    "# history =classifier.fit_generator(training_set,\n",
    "#                          steps_per_epoch = 500,\n",
    "#                          epochs = 3,\n",
    "#                          validation_data = val_set,#test_set,\n",
    "#                          validation_steps =100,workers=-1)\n",
    "\n",
    "# clock.toc('')\n",
    "\n",
    "# y_hat_test = classifier.predict_classes(X_test).flatten()\n",
    "# # print(pd.Series(y_hat_test).value_counts(normalize=True))\n",
    "# evaluate_model(y_test,y_hat_test,history)"
   ]
  },
  {
   "cell_type": "markdown",
   "metadata": {
    "colab_type": "text",
    "id": "-EDI9EcwGUKl"
   },
   "source": [
    "## Adding callbacks"
   ]
  },
  {
   "cell_type": "code",
   "execution_count": 0,
   "metadata": {
    "colab": {},
    "colab_type": "code",
    "id": "ZdQvvc9kGwvD"
   },
   "outputs": [],
   "source": [
    "def cd_gdrive_mkdirs(model_subfolder='Datasets/Models/cat_vs_dog/'):\n",
    "    \"\"\"cd to /gdrive/My Drive/ to allow for saving files to google drive\n",
    "    Also makes all subfolders in 'model_subfolder'\"\"\"\n",
    "    \n",
    "    import os\n",
    "    ## To save to Gdrive, must first chdir to My Drive (so there's no spaces in fpath)\n",
    "    curdir = os.path.abspath(os.curdir)\n",
    "    gdrive_folder =r'/gdrive/My Drive/'\n",
    "\n",
    "    try:\n",
    "        os.chdir(gdrive_folder)\n",
    "    except Exception as e:\n",
    "        print(f'ERROR: {e}')\n",
    "\n",
    "    try:\n",
    "        os.makedirs(model_subfolder,exist_ok=True)\n",
    "        print('Directories created.')\n",
    "    except:\n",
    "        print('Error making directories')\n",
    "\n",
    "    return print(os.path.abspath(os.curdir))\n"
   ]
  },
  {
   "cell_type": "code",
   "execution_count": 0,
   "metadata": {
    "colab": {
     "base_uri": "https://localhost:8080/",
     "height": 459
    },
    "colab_type": "code",
    "id": "b1MAWrJWfr0F",
    "outputId": "32b1a5ab-4020-452d-fcfd-7d7e129808dc"
   },
   "outputs": [
    {
     "name": "stdout",
     "output_type": "stream",
     "text": [
      "Directories created.\n",
      "/gdrive/My Drive\n",
      "\n",
      " Datasets/Models/cat_vs_dog/\n"
     ]
    },
    {
     "data": {
      "text/plain": [
       "['CNN_cat_dog_02142020.h5',\n",
       " 'CNN_cat_dog_02142020_model.h5',\n",
       " 'CNN_cat_dog_02142020_weights=.h5',\n",
       " 'CNN_cat_dog_02142020_model.json',\n",
       " 'CNN_cat_dog_02142020_weights.h5',\n",
       " 'weights-improvement-01-0.50.hdf5',\n",
       " 'weights-improvement-02-0.52.hdf5',\n",
       " 'weights-improvement-03-0.62.hdf5',\n",
       " 'weights-improvement-01-0.51.hdf5',\n",
       " 'weights-improvement-02-0.58.hdf5',\n",
       " 'weights-improvement-03-0.67.hdf5',\n",
       " 'weights-improvement-01-0.57.hdf5',\n",
       " 'weights-improvement-03-0.66.hdf5',\n",
       " 'weights-improvement-01-0.82.hdf5',\n",
       " 'weights-improvement-02-0.83.hdf5',\n",
       " 'weights-improvement-03-0.84.hdf5',\n",
       " 'weights-improvement-01-0.79.hdf5',\n",
       " 'weights-improvement-02-0.82.hdf5',\n",
       " 'weights-improvement-02-0.79.hdf5',\n",
       " 'weights-improvement-03-0.80.hdf5',\n",
       " 'weights-improvement-01-0.72.hdf5',\n",
       " 'callback_log.csv']"
      ]
     },
     "execution_count": 21,
     "metadata": {
      "tags": []
     },
     "output_type": "execute_result"
    }
   ],
   "source": [
    "model_subfolder='Datasets/Models/cat_vs_dog/'\n",
    "cd_gdrive_mkdirs(model_subfolder=model_subfolder)\n",
    "\n",
    "print('\\n',model_subfolder)\n",
    "os.listdir(model_subfolder)"
   ]
  },
  {
   "cell_type": "markdown",
   "metadata": {
    "colab_type": "text",
    "id": "2r14qGFIVrfO"
   },
   "source": [
    "## Keras Callbacks\n",
    "\n"
   ]
  },
  {
   "cell_type": "markdown",
   "metadata": {
    "colab_type": "text",
    "id": "JtTKy31agUb6"
   },
   "source": [
    "- [Official Callback documentation](https://keras.io/callbacks/)\n",
    "- CallBacks You'll Definitely Want to Use\n",
    " - `keras.callbacks.ModelCheckpoint`\n",
    " - `keras.callbacks.EarlyStopping`\n",
    "\n",
    "- Callbacks worth further exploration\n",
    " - `keras.callbacks.callbacks.LearningRateScheduler`\n",
    " - `keras.callbacks`"
   ]
  },
  {
   "cell_type": "markdown",
   "metadata": {
    "colab_type": "text",
    "id": "6vnhHZeDgKth"
   },
   "source": [
    "def callbacks"
   ]
  },
  {
   "cell_type": "code",
   "execution_count": 0,
   "metadata": {
    "colab": {},
    "colab_type": "code",
    "id": "Fr9qe6-VGWQU"
   },
   "outputs": [],
   "source": [
    "# checkpoint\n",
    "from keras.callbacks import ModelCheckpoint, EarlyStopping, CSVLogger\n",
    "\n",
    "def create_csvlogger(filename):\n",
    "    return CSVLogger(filename, separator=',', append=False)\n",
    "\n",
    "def create_checkpoint(monitor='val_acc',model_subfolder='Datasets/Models/cat_vs_dog/'):\n",
    "    filepath=model_subfolder+\"weights-improvement-{epoch:02d}-{\"+monitor+\":.2f}.hdf5\"\n",
    "    checkpoint = ModelCheckpoint(filepath, monitor=monitor, verbose=1, save_best_only=True, mode='max')\n",
    "    return checkpoint\n",
    "\n",
    "def create_early_stopping(monitor = 'val_acc',min_delta = 0, patience = 1,\n",
    "                          verbose = 1, restore_best_weights = True):\n",
    "\n",
    "    args = locals()\n",
    "    earlystop = EarlyStopping(**args)\n",
    "    return earlystop\n"
   ]
  },
  {
   "cell_type": "code",
   "execution_count": 0,
   "metadata": {
    "colab": {
     "base_uri": "https://localhost:8080/",
     "height": 102
    },
    "colab_type": "code",
    "id": "XoL5daY7WSnJ",
    "outputId": "19e78d66-17ce-4c2b-8f11-edf866605140"
   },
   "outputs": [
    {
     "name": "stdout",
     "output_type": "stream",
     "text": [
      "Directories created.\n",
      "/gdrive/My Drive\n"
     ]
    },
    {
     "data": {
      "text/plain": [
       "[<keras.callbacks.ModelCheckpoint at 0x7ff94e98ea58>,\n",
       " <keras.callbacks.EarlyStopping at 0x7ff94e98eb70>,\n",
       " <keras.callbacks.CSVLogger at 0x7ff94e98eac8>]"
      ]
     },
     "execution_count": 23,
     "metadata": {
      "tags": []
     },
     "output_type": "execute_result"
    }
   ],
   "source": [
    "# def get_callbacks():\n",
    "model_subfolder='Datasets/Models/cat_vs_dog/'\n",
    "cd_gdrive_mkdirs(model_subfolder=model_subfolder)\n",
    "callbacks_list = [create_checkpoint('val_acc'),\n",
    "                  create_early_stopping(),\n",
    "                  create_csvlogger(model_subfolder+'callback_log.csv')]\n",
    "callbacks_list"
   ]
  },
  {
   "cell_type": "code",
   "execution_count": 0,
   "metadata": {
    "colab": {},
    "colab_type": "code",
    "id": "d6KhclYwHTMN"
   },
   "outputs": [],
   "source": [
    ""
   ]
  },
  {
   "cell_type": "markdown",
   "metadata": {
    "colab_type": "text",
    "id": "392eHJbeFPNl"
   },
   "source": [
    "## Model 2 + Callbacks\n",
    "\n"
   ]
  },
  {
   "cell_type": "code",
   "execution_count": 0,
   "metadata": {
    "colab": {},
    "colab_type": "code",
    "id": "KpDmwIx4IiFG"
   },
   "outputs": [],
   "source": [
    "# # filepath=model_subfolder+\n",
    "# monitor = 'val_accuracy'\n",
    "# filepath=model_subfolder+\"weights-improvement-{epoch:02d}-{\"+monitor+\":.2f}.hdf5\"\n",
    "# filepath\n",
    "# model_subfolder"
   ]
  },
  {
   "cell_type": "code",
   "execution_count": 0,
   "metadata": {
    "colab": {
     "base_uri": "https://localhost:8080/",
     "height": 102
    },
    "colab_type": "code",
    "id": "ENjCT-4wKqDX",
    "outputId": "004d2638-70a6-49ec-9eb4-14fbef7f46ad"
   },
   "outputs": [
    {
     "name": "stdout",
     "output_type": "stream",
     "text": [
      "Directories created.\n",
      "/gdrive/My Drive\n"
     ]
    },
    {
     "data": {
      "text/plain": [
       "[<keras.callbacks.ModelCheckpoint at 0x7ff94ea72630>,\n",
       " <keras.callbacks.EarlyStopping at 0x7ff94ea72f28>,\n",
       " <keras.callbacks.CSVLogger at 0x7ff94ea72fd0>]"
      ]
     },
     "execution_count": 25,
     "metadata": {
      "tags": []
     },
     "output_type": "execute_result"
    }
   ],
   "source": [
    "model_subfolder='Datasets/Models/cat_vs_dog/'\n",
    "cd_gdrive_mkdirs(model_subfolder=model_subfolder)\n",
    "callbacks_list = [create_checkpoint('val_acc'),\n",
    "                  create_early_stopping(),\n",
    "                  create_csvlogger(model_subfolder+'callback_log.csv')]\n",
    "callbacks_list"
   ]
  },
  {
   "cell_type": "code",
   "execution_count": 0,
   "metadata": {
    "colab": {
     "base_uri": "https://localhost:8080/",
     "height": 1000
    },
    "colab_type": "code",
    "id": "uyphhqdq4lpv",
    "outputId": "3c5650c8-d794-4600-a9f6-13e4ef72991f"
   },
   "outputs": [
    {
     "name": "stdout",
     "output_type": "stream",
     "text": [
      "--- CLOCK STARTED @:    02/17/20 - 07:34:55 PM           Label:            --- \n",
      "WARNING:tensorflow:From /usr/local/lib/python3.6/dist-packages/keras/backend/tensorflow_backend.py:66: The name tf.get_default_graph is deprecated. Please use tf.compat.v1.get_default_graph instead.\n",
      "\n",
      "WARNING:tensorflow:From /usr/local/lib/python3.6/dist-packages/keras/backend/tensorflow_backend.py:541: The name tf.placeholder is deprecated. Please use tf.compat.v1.placeholder instead.\n",
      "\n",
      "WARNING:tensorflow:From /usr/local/lib/python3.6/dist-packages/keras/backend/tensorflow_backend.py:4432: The name tf.random_uniform is deprecated. Please use tf.random.uniform instead.\n",
      "\n",
      "WARNING:tensorflow:From /usr/local/lib/python3.6/dist-packages/keras/backend/tensorflow_backend.py:4267: The name tf.nn.max_pool is deprecated. Please use tf.nn.max_pool2d instead.\n",
      "\n",
      "WARNING:tensorflow:From /usr/local/lib/python3.6/dist-packages/keras/optimizers.py:793: The name tf.train.Optimizer is deprecated. Please use tf.compat.v1.train.Optimizer instead.\n",
      "\n",
      "WARNING:tensorflow:From /usr/local/lib/python3.6/dist-packages/keras/backend/tensorflow_backend.py:3657: The name tf.log is deprecated. Please use tf.math.log instead.\n",
      "\n",
      "WARNING:tensorflow:From /usr/local/lib/python3.6/dist-packages/tensorflow_core/python/ops/nn_impl.py:183: where (from tensorflow.python.ops.array_ops) is deprecated and will be removed in a future version.\n",
      "Instructions for updating:\n",
      "Use tf.where in 2.0, which has the same broadcast rule as np.where\n",
      "\n",
      "Model: \"sequential_1\"\n",
      "_________________________________________________________________\n",
      "Layer (type)                 Output Shape              Param #   \n",
      "=================================================================\n",
      "conv2d_1 (Conv2D)            (None, 60, 60, 64)        4864      \n",
      "_________________________________________________________________\n",
      "conv2d_2 (Conv2D)            (None, 58, 58, 64)        36928     \n",
      "_________________________________________________________________\n",
      "max_pooling2d_1 (MaxPooling2 (None, 29, 29, 64)        0         \n",
      "_________________________________________________________________\n",
      "conv2d_3 (Conv2D)            (None, 27, 27, 64)        36928     \n",
      "_________________________________________________________________\n",
      "max_pooling2d_2 (MaxPooling2 (None, 13, 13, 64)        0         \n",
      "_________________________________________________________________\n",
      "flatten_1 (Flatten)          (None, 10816)             0         \n",
      "_________________________________________________________________\n",
      "dense_1 (Dense)              (None, 64)                692288    \n",
      "_________________________________________________________________\n",
      "dense_2 (Dense)              (None, 1)                 65        \n",
      "=================================================================\n",
      "Total params: 771,073\n",
      "Trainable params: 771,073\n",
      "Non-trainable params: 0\n",
      "_________________________________________________________________\n"
     ]
    },
    {
     "data": {
      "text/plain": [
       "None"
      ]
     },
     "metadata": {
      "tags": []
     },
     "output_type": "display_data"
    },
    {
     "name": "stdout",
     "output_type": "stream",
     "text": [
      "WARNING:tensorflow:From /usr/local/lib/python3.6/dist-packages/keras/backend/tensorflow_backend.py:1033: The name tf.assign_add is deprecated. Please use tf.compat.v1.assign_add instead.\n",
      "\n",
      "WARNING:tensorflow:From /usr/local/lib/python3.6/dist-packages/keras/backend/tensorflow_backend.py:1020: The name tf.assign is deprecated. Please use tf.compat.v1.assign instead.\n",
      "\n",
      "WARNING:tensorflow:From /usr/local/lib/python3.6/dist-packages/keras/backend/tensorflow_backend.py:3005: The name tf.Session is deprecated. Please use tf.compat.v1.Session instead.\n",
      "\n",
      "Epoch 1/3\n",
      "WARNING:tensorflow:From /usr/local/lib/python3.6/dist-packages/keras/backend/tensorflow_backend.py:190: The name tf.get_default_session is deprecated. Please use tf.compat.v1.get_default_session instead.\n",
      "\n",
      "WARNING:tensorflow:From /usr/local/lib/python3.6/dist-packages/keras/backend/tensorflow_backend.py:197: The name tf.ConfigProto is deprecated. Please use tf.compat.v1.ConfigProto instead.\n",
      "\n",
      "WARNING:tensorflow:From /usr/local/lib/python3.6/dist-packages/keras/backend/tensorflow_backend.py:207: The name tf.global_variables is deprecated. Please use tf.compat.v1.global_variables instead.\n",
      "\n",
      "WARNING:tensorflow:From /usr/local/lib/python3.6/dist-packages/keras/backend/tensorflow_backend.py:216: The name tf.is_variable_initialized is deprecated. Please use tf.compat.v1.is_variable_initialized instead.\n",
      "\n",
      "WARNING:tensorflow:From /usr/local/lib/python3.6/dist-packages/keras/backend/tensorflow_backend.py:223: The name tf.variables_initializer is deprecated. Please use tf.compat.v1.variables_initializer instead.\n",
      "\n",
      "1000/1000 [==============================] - 91s 91ms/step - loss: 0.5885 - acc: 0.6688 - val_loss: 0.5128 - val_acc: 0.7426\n",
      "\n",
      "Epoch 00001: val_acc improved from -inf to 0.74259, saving model to Datasets/Models/cat_vs_dog/weights-improvement-01-0.74.hdf5\n",
      "Epoch 2/3\n",
      "1000/1000 [==============================] - 79s 79ms/step - loss: 0.4343 - acc: 0.7950 - val_loss: 0.4575 - val_acc: 0.8037\n",
      "\n",
      "Epoch 00002: val_acc improved from 0.74259 to 0.80366, saving model to Datasets/Models/cat_vs_dog/weights-improvement-02-0.80.hdf5\n",
      "Epoch 3/3\n",
      "1000/1000 [==============================] - 78s 78ms/step - loss: 0.3321 - acc: 0.8521 - val_loss: 0.5758 - val_acc: 0.7622\n",
      "\n",
      "Epoch 00003: val_acc did not improve from 0.80366\n",
      "Restoring model weights from the end of the best epoch\n",
      "Epoch 00003: early stopping\n",
      "--- TOTAL DURATION   =  4 min, 9.688 sec --- \n"
     ]
    },
    {
     "data": {
      "text/html": [
       "<style  type=\"text/css\" >\n",
       "    #T_283a2f6e_51bd_11ea_b456_0242ac1c0002 table, th {\n",
       "          text-align: center;\n",
       "    }    #T_283a2f6e_51bd_11ea_b456_0242ac1c0002row0_col1 {\n",
       "            width:  140px;\n",
       "        }    #T_283a2f6e_51bd_11ea_b456_0242ac1c0002row0_col2 {\n",
       "            width:  140px;\n",
       "        }</style><table id=\"T_283a2f6e_51bd_11ea_b456_0242ac1c0002\" ><caption>Summary Table of Clocked Processes</caption><thead>    <tr>        <th class=\"col_heading level0 col0\" >Lap #</th>        <th class=\"col_heading level0 col1\" >Start Time</th>        <th class=\"col_heading level0 col2\" >Duration</th>        <th class=\"col_heading level0 col3\" >Label</th>    </tr></thead><tbody>\n",
       "                <tr>\n",
       "                                <td id=\"T_283a2f6e_51bd_11ea_b456_0242ac1c0002row0_col0\" class=\"data row0 col0\" >TOTAL</td>\n",
       "                        <td id=\"T_283a2f6e_51bd_11ea_b456_0242ac1c0002row0_col1\" class=\"data row0 col1\" >02/17/20 - 07:34:55 PM</td>\n",
       "                        <td id=\"T_283a2f6e_51bd_11ea_b456_0242ac1c0002row0_col2\" class=\"data row0 col2\" >4 min, 9.688 sec</td>\n",
       "                        <td id=\"T_283a2f6e_51bd_11ea_b456_0242ac1c0002row0_col3\" class=\"data row0 col3\" ></td>\n",
       "            </tr>\n",
       "    </tbody></table>"
      ],
      "text/plain": [
       "<pandas.io.formats.style.Styler at 0x7ff94e81b860>"
      ]
     },
     "metadata": {
      "tags": []
     },
     "output_type": "display_data"
    },
    {
     "data": {
      "image/png": "[encoded data removed]",
      "text/plain": [
       "<Figure size 720x288 with 2 Axes>"
      ]
     },
     "metadata": {
      "tags": []
     },
     "output_type": "display_data"
    },
    {
     "name": "stdout",
     "output_type": "stream",
     "text": [
      "\n",
      "\n",
      "------------------------------------------------------------\n",
      "\tCLASSIFICATION REPORT:\n",
      "------------------------------------------------------------\n",
      "              precision    recall  f1-score   support\n",
      "\n",
      "           0       0.50      0.10      0.17      1000\n",
      "           1       0.50      0.90      0.64      1000\n",
      "\n",
      "    accuracy                           0.50      2000\n",
      "   macro avg       0.50      0.50      0.41      2000\n",
      "weighted avg       0.50      0.50      0.41      2000\n",
      "\n"
     ]
    },
    {
     "data": {
      "image/png": "[encoded data removed]",
      "text/plain": [
       "<Figure size 288x288 with 2 Axes>"
      ]
     },
     "metadata": {
      "tags": []
     },
     "output_type": "display_data"
    }
   ],
   "source": [
    "# Part 1 - Building the CNN\n",
    "clock = fs.jmi.Clock()\n",
    "clock.tic('')\n",
    "# Importing the Keras libraries and packages\n",
    "from keras.models import Sequential\n",
    "from keras.layers import Conv2D\n",
    "from keras.layers import MaxPooling2D\n",
    "from keras.layers import Flatten\n",
    "from keras.layers import Dense\n",
    "\n",
    "# Initialising the CNN\n",
    "classifier = Sequential()\n",
    "\n",
    "# Step 1 - Convolution\n",
    "classifier.add(Conv2D(SHAPES['Batchsize'], (5, 5),\n",
    "                             input_shape = (SHAPES['img_width'],\n",
    "                                            SHAPES['img_height'],\n",
    "                                            SHAPES['img_dim']),\n",
    "                             activation = 'relu'))\n",
    "\n",
    "classifier.add(Conv2D(SHAPES['Batchsize'], (3, 3),\n",
    "                      input_shape = (SHAPES['img_width'], \n",
    "                                     SHAPES['img_height'],\n",
    "                                     SHAPES['img_dim']),\n",
    "                       activation = 'relu'))\n",
    "# Step 2 - Pooling\n",
    "classifier.add(MaxPooling2D(pool_size = (2, 2)))\n",
    "\n",
    "# Adding a second convolutional layer\n",
    "classifier.add(Conv2D(SHAPES['Batchsize'], (3, 3),\n",
    "                      activation = 'relu'))\n",
    "classifier.add(MaxPooling2D(pool_size = (2, 2)))\n",
    "\n",
    "# Step 3 - Flattening\n",
    "classifier.add(Flatten())\n",
    "\n",
    "# Step 4 - Full connection\n",
    "classifier.add(Dense(units = SHAPES['Batchsize'], activation = 'relu'))\n",
    "\n",
    "classifier.add(Dense(units = 1, activation = 'sigmoid'))\n",
    "\n",
    "# Compiling the CNN\n",
    "classifier.compile(optimizer = 'adam', \n",
    "                   loss = 'binary_crossentropy',\n",
    "                   metrics = ['accuracy'])\n",
    "print()\n",
    "display(classifier.summary())\n",
    "# Part 2 - Fitting the CNN to the images\n",
    "\n",
    "history =classifier.fit_generator(training_set,\n",
    "                         steps_per_epoch = 1000,\n",
    "                         epochs = 3,\n",
    "                         validation_data = val_set,#test_set,\n",
    "                         validation_steps = 500,workers=-1,\n",
    "                         callbacks=callbacks_list)\n",
    "\n",
    "clock.toc('')\n",
    "\n",
    "y_hat_test = classifier.predict_classes(X_test).flatten()\n",
    "# print(pd.Series(y_hat_test).value_counts(normalize=True))\n",
    "evaluate_model(y_test,y_hat_test,history)"
   ]
  },
  {
   "cell_type": "code",
   "execution_count": 0,
   "metadata": {
    "colab": {
     "base_uri": "https://localhost:8080/",
     "height": 187
    },
    "colab_type": "code",
    "id": "grx0mylDLaTc",
    "outputId": "6a227f53-356c-4181-b115-c6acad2cc72d"
   },
   "outputs": [
    {
     "data": {
      "text/plain": [
       "[<tf.Variable 'conv2d_1/kernel:0' shape=(5, 5, 3, 64) dtype=float32_ref>,\n",
       " <tf.Variable 'conv2d_1/bias:0' shape=(64,) dtype=float32_ref>,\n",
       " <tf.Variable 'conv2d_2/kernel:0' shape=(3, 3, 64, 64) dtype=float32_ref>,\n",
       " <tf.Variable 'conv2d_2/bias:0' shape=(64,) dtype=float32_ref>,\n",
       " <tf.Variable 'conv2d_3/kernel:0' shape=(3, 3, 64, 64) dtype=float32_ref>,\n",
       " <tf.Variable 'conv2d_3/bias:0' shape=(64,) dtype=float32_ref>,\n",
       " <tf.Variable 'dense_1/kernel:0' shape=(10816, 64) dtype=float32_ref>,\n",
       " <tf.Variable 'dense_1/bias:0' shape=(64,) dtype=float32_ref>,\n",
       " <tf.Variable 'dense_2/kernel:0' shape=(64, 1) dtype=float32_ref>,\n",
       " <tf.Variable 'dense_2/bias:0' shape=(1,) dtype=float32_ref>]"
      ]
     },
     "execution_count": 27,
     "metadata": {
      "tags": []
     },
     "output_type": "execute_result"
    }
   ],
   "source": [
    "# from keras.utils import \n",
    "model_loaded = classifier\n",
    "model_loaded.load_weights('Datasets/Models/cat_vs_dog/weights-improvement-01-0.72.hdf5')\n",
    "model_loaded.weights"
   ]
  },
  {
   "cell_type": "markdown",
   "metadata": {
    "colab_type": "text",
    "id": "VSK89u6iV1H5"
   },
   "source": [
    "### def save_model"
   ]
  },
  {
   "cell_type": "code",
   "execution_count": 0,
   "metadata": {
    "colab": {},
    "colab_type": "code",
    "id": "Cbkosi8QGibP"
   },
   "outputs": [],
   "source": [
    "def save_model(model,model_subfolder = 'Datasets/Models/cat_vs_dog/',\n",
    "               base_modelname = 'CNN_cat_dog_02142020', as_json=True,\n",
    "               return_fpaths=True,verbose=True):\n",
    "    import os\n",
    "    ## To save to Gdrive, must first chdir to My Drive (so there's no spaces in fpath)\n",
    "    curdir = os.path.abspath(os.curdir)\n",
    "\n",
    "    gdrive_folder =r'/gdrive/My Drive/'\n",
    "    model_subfolder = 'Datasets/Models/cat_vs_dog/'\n",
    "\n",
    "    try:\n",
    "        os.chdir(gdrive_folder)\n",
    "        os.makedirs(model_subfolder,exist_ok=True)\n",
    "    except Exception as e:\n",
    "        print(f'ERROR: {e}')\n",
    "\n",
    "    # os.listdir(model_subfolder)\n",
    "    # https://jovianlin.io/saving-loading-keras-models/\n",
    "    try:\n",
    "        weight_fpath = model_subfolder+base_modelname+'_weights.h5'\n",
    "        model.save_weights(weight_fpath, overwrite=True)\n",
    "\n",
    "        if as_json:\n",
    "            model_fpath = model_subfolder+base_modelname+'_model.json'\n",
    "            # Save the model architecture\n",
    "            with open(model_fpath, 'w') as f:\n",
    "                f.write(model.to_json())\n",
    "        else:\n",
    "            model_fpath = model_subfolder+base_modelname+'_model.h5'\n",
    "            model.save(model_fpath)\n",
    "        if verbose: \n",
    "            print(f\"[io] Model architecture saved as {model_fpath}\")\n",
    "            print(f\"[io] Model weights saved as {weight_fpath}\")\n",
    "        else:\n",
    "            print(f\"[io] Successfully saved model.\")\n",
    "\n",
    "    except Exception as e:\n",
    "        import warnings\n",
    "        warnings.warn(f\"ERROR SAVING: {e}\")\n",
    "    if return_fpaths:\n",
    "        return model_fpath, weight_fpath\n",
    "\n",
    "\n",
    "\n",
    "def load_model(model_fpath,weight_fpath=None,as_json=True):\n",
    "    from keras.models import model_from_json\n",
    "    if (as_json == True) & (weight_fpath is None):\n",
    "        raise Exception('If using as_json=True, must provide ')\n",
    "\n",
    "    # Model reconstruction from JSON file\n",
    "    with open(model_fpath, 'r',encoding=\"utf8\") as f:\n",
    "        model2 = model_from_json(f.read())\n",
    "\n",
    "    # Load weights into the new model\n",
    "    model2.load_weights(weight_fpath)\n",
    "    display(model2.summary())\n",
    "    return model2\n",
    "\n",
    "# model_fpath,weight_fpath = save_model(model)\n",
    "# model_loaded = load_model(model_fpath,weight_fpath)"
   ]
  },
  {
   "cell_type": "markdown",
   "metadata": {
    "colab_type": "text",
    "id": "vtZ-fSjUkHF0"
   },
   "source": [
    "# Making Modeling functions for gridsearching"
   ]
  },
  {
   "cell_type": "code",
   "execution_count": 0,
   "metadata": {
    "colab": {},
    "colab_type": "code",
    "id": "UM7sFcOukGlq"
   },
   "outputs": [],
   "source": [
    "def build_model(SHAPES,filter_size=(3,3), pool_size=(2,2),dropout=True): \n",
    "    vars_ = locals()\n",
    "    print(f'[i] MODEL BUILT USING:\\n\\t{vars_}')\n",
    "    # Part 1 - Building the CNN\n",
    "\n",
    "    # Importing the Keras libraries and packages\n",
    "    from keras.models import Sequential\n",
    "    from keras.layers import Conv2D\n",
    "    from keras.layers import MaxPooling2D\n",
    "    from keras.layers import Flatten\n",
    "    from keras.layers import Dense\n",
    "\n",
    "    # Initialising the CNN\n",
    "    classifier = Sequential()\n",
    "\n",
    "    # Step 1 - Convolution\n",
    "    classifier.add(Conv2D(SHAPES['Batchsize'], filter_size,\n",
    "                                input_shape = (SHAPES['img_width'], SHAPES['img_height'], SHAPES['img_dim']),\n",
    "                                activation = 'relu'))\n",
    "\n",
    "    classifier.add(Conv2D(SHAPES['Batchsize'], filter_size,\n",
    "                        input_shape = (SHAPES['img_width'], SHAPES['img_height'], SHAPES['img_dim']), activation = 'relu'))\n",
    "\n",
    "    # Step 2 - Pooling\n",
    "    classifier.add(MaxPooling2D(pool_size = pool_size))\n",
    "    if dropout:\n",
    "        classifier.add(Dropout(0.2))\n",
    "\n",
    "    # Adding a second convolutional layer\n",
    "    classifier.add(Conv2D(SHAPES['Batchsize'], filter_size, activation = 'relu'))\n",
    "    classifier.add(MaxPooling2D(pool_size = pool_size))\n",
    "\n",
    "    # Step 3 - Flattening\n",
    "    classifier.add(Flatten())\n",
    "\n",
    "    # Step 4 - Full connection\n",
    "    classifier.add(Dense(units = SHAPES['Batchsize'], activation = 'relu'))\n",
    "    classifier.add(Dense(units = 1, activation = 'sigmoid'))\n",
    "\n",
    "    # Compiling the CNN\n",
    "    classifier.compile(optimizer = 'adam', loss = 'binary_crossentropy',\n",
    "                       metrics = ['accuracy'])\n",
    "    display(classifier.summary())\n",
    "    return classifier\n",
    "    # Part 2 - Fitting the CNN to the images\n",
    "\n",
    "\n",
    "\n",
    "def train_model(classifier,training_set, test_set, \n",
    "                params=dict(steps_per_epoch = 2000,\n",
    "                            epochs = 3, validation_steps = 500,\n",
    "                            workers=-1)):\n",
    "    vars = locals()\n",
    "    print(f'[i] Training model using\\n\\t{vars}\\n')\n",
    "    clock = Timer()\n",
    "    \n",
    "    history_ = classifier.fit_generator(training_set,\n",
    "                                        validation_data = test_set,\n",
    "                                        validation_steps=validation_steps,\n",
    "                                        **params)\n",
    "                        # workers=workers)\n",
    "\n",
    "    clock.stop()\n",
    "    return history_\n"
   ]
  },
  {
   "cell_type": "code",
   "execution_count": 0,
   "metadata": {
    "colab": {},
    "colab_type": "code",
    "id": "w0QSQlduTX-I"
   },
   "outputs": [],
   "source": [
    "\n",
    "model_=build_model(SHAPES)\n",
    "history = train_model(model_,training_set,test_set)\n",
    "y_hat_val = model_.predict_classes(X_val).flatten()\n",
    "evaluate_model(y_val,y_hat_val,history=history)"
   ]
  },
  {
   "cell_type": "markdown",
   "metadata": {
    "colab_type": "text",
    "id": "FtnmGCYraMWd"
   },
   "source": [
    "## Saving and Loading Models/Weights"
   ]
  },
  {
   "cell_type": "code",
   "execution_count": 0,
   "metadata": {
    "colab": {},
    "colab_type": "code",
    "id": "w-w_gmXrrOFX"
   },
   "outputs": [],
   "source": [
    "## To save to Gdrive, must first chdir to My Drive (so there's no spaces in fpath)\n",
    "curdir = os.path.abspath(os.curdir)\n",
    "\n",
    "gdrive_folder =r'/gdrive/My Drive/'\n",
    "model_subfolder = 'Datasets/Models/cat_vs_dog/'\n",
    "\n",
    "try:\n",
    "    os.chdir(gdrive_folder)\n",
    "    os.makedirs(model_subfolder,exist_ok=True)\n",
    "except Exception as e:\n",
    "    print(f'ERROR: {e}')\n",
    "os.listdir(model_subfolder)"
   ]
  },
  {
   "cell_type": "code",
   "execution_count": 0,
   "metadata": {
    "colab": {},
    "colab_type": "code",
    "id": "AJmB5E5XVakv"
   },
   "outputs": [],
   "source": [
    "# def save_model(model,model_subfolder = 'Datasets/Models/cat_vs_dog/',\n",
    "#                base_modelname = 'CNN_cat_dog_02142020', as_json=True,\n",
    "#                return_fpaths=True,verbose=True):\n",
    "#     # https://jovianlin.io/saving-loading-keras-models/\n",
    "#     try:\n",
    "#         weight_fpath = model_subfolder+base_modelname+'_weights.h5'\n",
    "#         model.save_weights(weight_fpath, overwrite=True)\n",
    "\n",
    "#         if as_json:\n",
    "#             model_fpath = model_subfolder+base_modelname+'_model.json'\n",
    "#             # Save the model architecture\n",
    "#             with open(model_fpath, 'w') as f:\n",
    "#                 f.write(model.to_json())\n",
    "#         else:\n",
    "#             model_fpath = model_subfolder+base_modelname+'_model.h5'\n",
    "#             model.save(model_fpath)\n",
    "#         if verbose: \n",
    "#             print(f\"[io] Model architecture saved as {model_fpath}\")\n",
    "#             print(f\"[io] Model weights saved as {weight_fpath}\")\n",
    "#         else:\n",
    "#             print(f\"[io] Successfully saved model.\")\n",
    "\n",
    "#     except Exception as e:\n",
    "#         import warnings\n",
    "#         warnings.warn(f\"ERROR SAVING: {e}\")\n",
    "#     if return_fpaths:\n",
    "#         return model_fpath, weight_fpath\n",
    "\n",
    "# model_fpath,weight_fpath = save_model(model)"
   ]
  },
  {
   "cell_type": "code",
   "execution_count": 0,
   "metadata": {
    "colab": {},
    "colab_type": "code",
    "id": "ehR3dQfiYX13"
   },
   "outputs": [],
   "source": [
    "# def load_model(model_fpath,weight_fpath=None,as_json=True):\n",
    "#     from keras.models import model_from_json\n",
    "#     if (as_json == True) & (weight_fpath is None):\n",
    "#         raise Exception('If using as_json=True, must provide ')\n",
    "\n",
    "#     # Model reconstruction from JSON file\n",
    "#     with open(model_fpath, 'r',encoding=\"utf8\") as f:\n",
    "#         model2 = model_from_json(f.read())\n",
    "\n",
    "#     # Load weights into the new model\n",
    "#     model2.load_weights(weight_fpath)\n",
    "#     display(model2.summary())\n",
    "#     return model2\n",
    "# model_loaded = load_model(model_fpath,weight_fpath)"
   ]
  },
  {
   "cell_type": "code",
   "execution_count": 0,
   "metadata": {
    "colab": {},
    "colab_type": "code",
    "id": "_koIz3CKZ57v"
   },
   "outputs": [],
   "source": [
    "y_hat_val = model_loaded.predict_classes(X_val)\n",
    "evaluate_model(y_val,y_hat_val)"
   ]
  },
  {
   "cell_type": "markdown",
   "metadata": {
    "colab_type": "text",
    "id": "dszu4vFoS2Mp"
   },
   "source": [
    "## Transfer Learning\n",
    "\n",
    "https://www.kaggle.com/risingdeveloper/transfer-learning-in-keras-on-dogs-vs-cats"
   ]
  },
  {
   "cell_type": "code",
   "execution_count": 0,
   "metadata": {
    "ExecuteTime": {
     "end_time": "2020-02-13T16:28:41.130469Z",
     "start_time": "2020-02-13T16:28:19.339734Z"
    },
    "colab": {},
    "colab_type": "code",
    "id": "B9xAQK1SlbSe"
   },
   "outputs": [],
   "source": [
    "# from keras.applications import InceptionResNetV2\n",
    "\n",
    "# conv_base = InceptionResNetV2(weights='imagenet', include_top=False, input_shape=(150,150,3))\n",
    "# conv_base.summary()"
   ]
  },
  {
   "cell_type": "code",
   "execution_count": 0,
   "metadata": {
    "ExecuteTime": {
     "end_time": "2020-02-13T16:28:41.303392Z",
     "start_time": "2020-02-13T16:28:41.132620Z"
    },
    "colab": {},
    "colab_type": "code",
    "id": "kKag2f0OlbSh"
   },
   "outputs": [],
   "source": [
    ""
   ]
  },
  {
   "cell_type": "code",
   "execution_count": 0,
   "metadata": {
    "ExecuteTime": {
     "end_time": "2020-02-13T16:28:48.792947Z",
     "start_time": "2020-02-13T16:28:41.304826Z"
    },
    "colab": {},
    "colab_type": "code",
    "id": "TKkdHFLxlbSj"
   },
   "outputs": [],
   "source": [
    "# from keras import layers\n",
    "# from keras import models\n",
    "# model = models.Sequential()\n",
    "# model.add(conv_base)\n",
    "# model.add(layers.Flatten())\n",
    "# model.add(layers.Dense(32, activation='relu'))#256\n",
    "# model.add(layers.Dense(1, activation='sigmoid'))  #Sigmoid function at the end because we have just two classes\n",
    "# # model.summary()\n"
   ]
  },
  {
   "cell_type": "code",
   "execution_count": 0,
   "metadata": {
    "ExecuteTime": {
     "end_time": "2020-02-13T16:28:48.798283Z",
     "start_time": "2020-02-13T16:28:48.794242Z"
    },
    "colab": {},
    "colab_type": "code",
    "id": "ave6CZillbSm"
   },
   "outputs": [],
   "source": [
    "# print('Number of trainable weights before freezing the conv base:', len(model.trainable_weights))\n",
    "# conv_base.trainable = False\n",
    "# print('Number of trainable weights after freezing the conv base:', len(model.trainable_weights))"
   ]
  },
  {
   "cell_type": "code",
   "execution_count": 0,
   "metadata": {
    "colab": {},
    "colab_type": "code",
    "id": "TIyRhBr60YAa"
   },
   "outputs": [],
   "source": [
    ""
   ]
  },
  {
   "cell_type": "code",
   "execution_count": 0,
   "metadata": {
    "ExecuteTime": {
     "end_time": "2020-02-13T16:28:48.852453Z",
     "start_time": "2020-02-13T16:28:48.799636Z"
    },
    "colab": {},
    "colab_type": "code",
    "id": "5a_puKjUlbSo"
   },
   "outputs": [],
   "source": [
    "# from keras import optimizers\n",
    "\n",
    "# model.compile(loss='binary_crossentropy', optimizer=optimizers.RMSprop(lr=2e-5), metrics=['accuracy'])"
   ]
  },
  {
   "cell_type": "code",
   "execution_count": 0,
   "metadata": {
    "ExecuteTime": {
     "end_time": "2020-02-13T16:28:48.856533Z",
     "start_time": "2020-02-13T16:28:48.853517Z"
    },
    "colab": {},
    "colab_type": "code",
    "id": "piJDSJIilbSq"
   },
   "outputs": [],
   "source": [
    "# len(training_set)*32"
   ]
  },
  {
   "cell_type": "code",
   "execution_count": 0,
   "metadata": {
    "colab": {},
    "colab_type": "code",
    "id": "6lBRMvb47liA"
   },
   "outputs": [],
   "source": [
    ""
   ]
  },
  {
   "cell_type": "code",
   "execution_count": 0,
   "metadata": {
    "ExecuteTime": {
     "end_time": "2020-02-13T16:42:17.733053Z",
     "start_time": "2020-02-13T16:32:15.737807Z"
    },
    "colab": {},
    "colab_type": "code",
    "id": "r6DHGjLplbSt"
   },
   "outputs": [],
   "source": [
    "# history = model.fit_generator(training_set,\n",
    "#                               steps_per_epoch = 2000,\n",
    "#                               epochs = 2, validation_data = test_set,\n",
    "#                               validation_steps = 500,workers=-1)\n",
    "# y_hat_val = model.predict_classes(X_val)\n",
    "# evaluate_model(y_val,y_hat_val)"
   ]
  },
  {
   "cell_type": "code",
   "execution_count": 0,
   "metadata": {
    "colab": {},
    "colab_type": "code",
    "id": "BWhbeB2k3Who"
   },
   "outputs": [],
   "source": [
    "# pd.Series(y_hat_val).value_counts()"
   ]
  },
  {
   "cell_type": "code",
   "execution_count": 0,
   "metadata": {
    "colab": {},
    "colab_type": "code",
    "id": "LL9Tz-nq2GZD"
   },
   "outputs": [],
   "source": [
    "# save_model()"
   ]
  },
  {
   "cell_type": "markdown",
   "metadata": {
    "colab_type": "text",
    "id": "q9n-JX7ZoHSS"
   },
   "source": [
    "## Lime \n",
    "\n",
    "- https://github.com/expectopatronum/code-snippets-blog/blob/master/python/201808_catdog_classifier_lime/analyse-cat-dog-classifier.ipynb"
   ]
  },
  {
   "cell_type": "code",
   "execution_count": 0,
   "metadata": {
    "colab": {},
    "colab_type": "code",
    "id": "d9TQLN4voJMX"
   },
   "outputs": [],
   "source": [
    "# # !pip install lime\n",
    "# import lime\n",
    "# from lime import lime_image\n",
    "# from lime import lime_base\n",
    "# from lime.wrappers.scikit_image import SegmentationAlgorithm\n",
    "# from skimage.segmentation import mark_boundaries\n",
    "\n",
    "\n",
    "# explainer = lime_image.LimeImageExplainer()"
   ]
  },
  {
   "cell_type": "code",
   "execution_count": 0,
   "metadata": {
    "colab": {},
    "colab_type": "code",
    "id": "36ca0zaYoWsw"
   },
   "outputs": [],
   "source": [
    "# def explain_single_sample(dataset, idx):\n",
    "#     img_data = dataset[idx][0]\n",
    "#     data = img_data.reshape(IMG_SIZE,IMG_SIZE,3)\n",
    "#     model_out = model.predict([data])[0]\n",
    "#     label = 0\n",
    "#     label_name = \"cat\"\n",
    "#     if model_out[1] > 0.5:\n",
    "#         label = 1\n",
    "#         label_name = \"dog\"\n",
    "#     explanation = explainer.explain_instance(data, model.predict, top_labels=2, hide_color=None, num_samples=1000)\n",
    "#     temp, mask = explanation.get_image_and_mask(label, positive_only=True, num_features=5, hide_rest=True)\n",
    "#     fig, ax = plt.subplots(1,3)\n",
    "#     ax[0].imshow(img_data)\n",
    "#     #plt.subplot(1, 2, 1)\n",
    "#     ax[1].imshow(mark_boundaries(temp, mask))\n",
    "#     #plt.show()\n",
    "#     #plt.subplot(1, 2, 2)\n",
    "#     temp, mask = explanation.get_image_and_mask(label, positive_only=False, num_features=20, hide_rest=False)\n",
    "#     ax[2].imshow(mark_boundaries(temp, mask))\n",
    "#     plt.show()\n",
    "#     print(\"label: \", dataset[idx][1], \"prediction:\", label_name)"
   ]
  },
  {
   "cell_type": "code",
   "execution_count": 0,
   "metadata": {
    "colab": {},
    "colab_type": "code",
    "id": "YQMdYErdlbSz"
   },
   "outputs": [],
   "source": [
    ""
   ]
  },
  {
   "cell_type": "code",
   "execution_count": 0,
   "metadata": {
    "colab": {},
    "colab_type": "code",
    "id": "Z8ZNM1XglbS1"
   },
   "outputs": [],
   "source": [
    ""
   ]
  },
  {
   "cell_type": "code",
   "execution_count": 0,
   "metadata": {
    "colab": {},
    "colab_type": "code",
    "id": "jKbFWJq9lbS4"
   },
   "outputs": [],
   "source": [
    ""
   ]
  },
  {
   "cell_type": "code",
   "execution_count": 0,
   "metadata": {
    "colab": {},
    "colab_type": "code",
    "id": "TCADvLJ3lbS6"
   },
   "outputs": [],
   "source": [
    ""
   ]
  },
  {
   "cell_type": "markdown",
   "metadata": {
    "colab_type": "text",
    "id": "srbjybjqQ5m9"
   },
   "source": [
    "### Using os, shutil to create directories and copy files\n",
    "- from [Convolutional Neural Networks - Codealong](https://github.com/jirvingphd/dsc-04-43-03-convolutional-neural-networks-code-along-online-ds-ft-021119)\n",
    "\n",
    "- **first define the folders that currently contain the images get their filenames**\n",
    "\n",
    "```python\n",
    "import os, shutil\n",
    "\n",
    "# Define directories to be created:\n",
    "data_santa_dir = 'data/santa/'\n",
    "data_not_santa_dir = 'data/not_santa/'\n",
    "new_dir = 'split/'\n",
    "\n",
    "# Store the list of all the relevant training target images\n",
    "imgs_santa = [file for file in os.listdir(data_santa_dir) if file.endswith('.jpg')]\n",
    "print('There are',len(imgs_santa), 'santa images')\n",
    "\n",
    "# Store the list of all non-target images\n",
    "imgs_not_santa = [file for file in os.listdir(data_not_santa_dir) if file.endswith('.jpg')]\n",
    "print('There are', len(imgs_not_santa), 'images without santa')\n",
    "\n",
    "```\n",
    "\n",
    "- **Now create new directries and for training, testing, and validation images.**\n",
    "\n",
    "```python\n",
    "# Create the main folder for all of the new sub-folders\n",
    "os.mkdir(new_dir)\n",
    "\n",
    "# Create valid pathnames inside of the new_dir for training images\n",
    "train_folder = os.path.join(new_dir, 'train')\n",
    "train_santa = os.path.join(train_folder, 'santa')\n",
    "train_not_santa = os.path.join(train_folder, 'not_santa')\n",
    "\n",
    "# Create valid pathnames inside of the new_dir for testing images\n",
    "test_folder = os.path.join(new_dir, 'test')\n",
    "test_santa = os.path.join(test_folder, 'santa')\n",
    "test_not_santa = os.path.join(test_folder, 'not_santa')\n",
    "\n",
    "# Create valid pathnames inside of the new_dir for validation images\n",
    "val_folder = os.path.join(new_dir, 'validation')\n",
    "val_santa = os.path.join(val_folder, 'santa')\n",
    "val_not_santa = os.path.join(val_folder, 'not_santa')\n",
    "\n",
    "\n",
    "# Now create all of the folders defined above\n",
    "os.mkdir(test_folder)\n",
    "os.mkdir(test_santa)\n",
    "os.mkdir(test_not_santa)\n",
    "\n",
    "os.mkdir(train_folder)\n",
    "os.mkdir(train_santa)\n",
    "os.mkdir(train_not_santa)\n",
    "\n",
    "os.mkdir(val_folder)\n",
    "os.mkdir(val_santa)\n",
    "os.mkdir(val_not_santa)\n",
    "\n",
    "```\n",
    "\n",
    "- **Now that we have the folders, copy the desired # of images to the correct dataset folders**\n",
    "\n",
    "```python\n",
    "# The user decided to put 271 images in the training set, 100 in the validation set, and 90 in the test set\n",
    "# train santa\n",
    "imgs = imgs_santa[:271]\n",
    "for img in imgs:\n",
    "    origin = os.path.join(data_santa_dir, img)\n",
    "    destination = os.path.join(train_santa, img)\n",
    "    shutil.copyfile(origin, destination)\n",
    "    \n",
    "# validation santa\n",
    "imgs = imgs_santa[271:371]\n",
    "for img in imgs:\n",
    "    origin = os.path.join(data_santa_dir, img)\n",
    "    destination = os.path.join(val_santa, img)\n",
    "    shutil.copyfile(origin, destination)\n",
    "    \n",
    "# test santa\n",
    "imgs = imgs_santa[371:]\n",
    "for img in imgs:\n",
    "    origin = os.path.join(data_santa_dir, img)\n",
    "    destination = os.path.join(test_santa, img)\n",
    "    shutil.copyfile(origin, destination)\n",
    "    \n",
    "## REPEATED FOR FOR THE NON-SANTA IMAGES - NOT SHOWN   \n",
    "```\n",
    "\n",
    "- Now that we have images in separate directories, we can use the Kera's ImageDataGenerators .flow_from_directory() method.\n",
    "\n",
    "\n",
    "```python\n",
    "\n",
    "# get all the data in the directory split/test (180 images), and reshape them\n",
    "test_generator = ImageDataGenerator(rescale=1./255).flow_from_directory(\n",
    "        test_folder, \n",
    "        target_size=(64, 64), batch_size = 180) \n",
    "# ...do the same for train and val (not shown)\n",
    "\n",
    "\n",
    "# create the data sets\n",
    "train_images, train_labels = next(train_generator)\n",
    "\n",
    "# Make sure things worked\n",
    "print (\"Number of training samples: \" + str(m_train))\n",
    "print (\"train_images shape: \" + str(train_images.shape))\n",
    "\n",
    "\n",
    "# Reshape the training images to have one column(/row?) for each image\n",
    "train_img = train_images.reshape(train_images.shape[0], -1)\n",
    "print(train_img.shape)\n",
    "\n",
    "\n",
    "# Reshape the labels to match the data\n",
    "train_y = np.reshape(train_labels[:,0], (542,1))\n",
    "\n",
    "```"
   ]
  },
  {
   "cell_type": "markdown",
   "metadata": {
    "colab_type": "text",
    "id": "jUgyK0HRQBxT"
   },
   "source": [
    "## Building CNN From Scratch Lab\n",
    "- https://github.com/learn-co-students/dsc-04-43-04-building-a-cnn-from-scratch-online-ds-ft-021119/tree/solution\n",
    "- CNN's are great for image processing\n",
    "### Image Data\n",
    "\n",
    "```python\n",
    "import os #for listdir()\n",
    "from keras.preprocessing.image import ImageDataGenerator\n",
    "\n",
    "\n",
    "train_dir = 'chest_xray_downsampled/train'\n",
    "validation_dir = 'chest_xray_downsampled/val/'\n",
    "test_dir = 'chest_xray_downsampled/test/'\n",
    "\n",
    "# All images will be rescaled by 1./255\n",
    "train_datagen = ImageDataGenerator(rescale=1./255)\n",
    "test_datagen = ImageDataGenerator(rescale=1./255)\n",
    "\n",
    "# Train_generator example\n",
    "train_generator = train_datagen.flow_from_directory(\n",
    "        # This is the target directory\n",
    "        train_dir,\n",
    "        # All images will be resized to 150x150\n",
    "        target_size=(150, 150),\n",
    "        batch_size=20,\n",
    "        # Since we use binary_crossentropy loss, we need binary labels\n",
    "        class_mode='binary')\n",
    "\n",
    "```\n",
    "- **Images are store in ImageDataGenerators**\n",
    "    - Generally rescale to... intensity values? of 1./255\n",
    "    - load in files with ImageDataGenerator.flow_from_directory( :\n",
    "        - directory\n",
    "        - the target_size (the size to convert all images to)\n",
    "        - batch_size\n",
    "        - class_mode \n",
    "            - Note: selection of loss function determines chocie.\n",
    "                - If using 'binary_crossentropy' for binary classification, use class_mode='binary'\n",
    "                \n",
    "- ImageDataGenerators are also used for augmenting data. \n",
    "\n",
    "```python\n",
    "\n",
    "train_datagen = ImageDataGenerator(\n",
    "      rotation_range=40,\n",
    "      width_shift_range=0.2,\n",
    "      height_shift_range=0.2,\n",
    "      shear_range=0.2,\n",
    "      zoom_range=0.2,\n",
    "      horizontal_flip=True,\n",
    "      fill_mode='nearest')\n",
    "\n",
    "```\n",
    "\n",
    "### Setting Up Initial Network\n",
    "```python\n",
    "from keras import models, layers, optimizers\n",
    "# or if want to do exact layers:\n",
    "from keras.models import Sequential\n",
    "from keras.layers import Conv2D, MaxPooling2D, Flatten, Dense)\n",
    "from keras.optimizers import RMSprop\n",
    "\n",
    "# Initialize sequential model\n",
    "model = Sequential()\n",
    "```\n",
    "**1A) A CNN should start with a Conv2D later**\n",
    "\n",
    "```python\n",
    "layers.Conv2D(filters, kernel_size, strides=(1, 1), padding='valid', data_format=None, dilation_rate=(1, 1), activation=None, use_bias=True, kernel_initializer='glorot_uniform', bias_initializer='zeros', kernel_regularizer=None, bias_regularizer=None, activity_regularizer=None, kernel_constraint=None, bias_constraint=None)\n",
    "```\n",
    "\n",
    "- Conv2D layers parameters (to change):\n",
    "    - filters:  # of samples to take from each image (kind of like # of neurons?) (e.g. filters=32)\n",
    "    - kernel_size: size (in pixels) of the filters (e.g kernel_size=(3,3)\n",
    "    - activation: activation function to use (e.g. 'relu')\n",
    "        \n",
    "**1B) MaxPooling2D layers following Conv2D layers**\n",
    "```python\n",
    "layers.MaxPooling2D(pool_size=(2, 2), strides=None, padding='valid', data_format=None)\n",
    "```\n",
    "\n",
    "-  MaxPooling2D parameters:\n",
    "    -  pool_size: factor by which to downscale. \n",
    "        - e.g.pool_size=(2,2) will half information in vertical and horizational direction\n",
    "     \n",
    "**1C,optional) Add a Dropout layer to avoid overfitting:** [Udemy course suggestion]\n",
    "```python\n",
    "layers.Dropout(rate, noise_shape=None, seed=None)\n",
    "```\n",
    "- Dropout parameters:\n",
    "    - rate = 0.25 (used by udemy course)\n",
    "\n",
    "**2) Repeat: Continue layering combinations of Conv2D / MaxPooling2D layers** (Dropout too?):\n",
    "- Later layers will need larger # of filters to detect more abstract patterns.\n",
    "\n",
    "```python\n",
    "model = models.Sequential()\n",
    "model.add(layers.Conv2D(32, (3, 3), activation='relu',\n",
    "                        input_shape=(150, 150, 3)))\n",
    "model.add(layers.MaxPooling2D((2, 2)))\n",
    "model.add(layers.Conv2D(64, (3, 3), activation='relu'))\n",
    "model.add(layers.MaxPooling2D((2, 2)))\n",
    "model.add(layers.Conv2D(128, (3, 3), activation='relu'))\n",
    "model.add(layers.MaxPooling2D((2, 2)))\n",
    "model.add(layers.Conv2D(128, (3, 3), activation='relu'))\n",
    "model.add(layers.MaxPooling2D((2, 2)))\n",
    "```\n",
    "\n",
    "**3A) Flatten Data Before Passing on to Dense Layers for Classification/Learning**\n",
    "```python\n",
    "layers.Flatten(data_format =None)\n",
    "```\n",
    "**3B)  Add Dense layers at the end of the convolutional base for learning:**\n",
    "```python\n",
    "layers.Dense(units, activation=None, use_bias=True, kernel_initializer='glorot_uniform', bias_initializer='zeros', kernel_regularizer=None, bias_regularizer=None, activity_regularizer=None, kernel_constraint=None, bias_constraint=None))\n",
    "```\n",
    "- Will only need to worry about basic parameters:\n",
    "    - Units:\n",
    "        - Larger #, used for the actual learning.\n",
    "    - Activation\n",
    "        - User choice, 'relu' is always good.\n",
    "        \n",
    "**3C) Add final Dense layer to determine output classification**\n",
    "- Add  a final small Dense layer (depending on number of classes?)\n",
    "    - For binary classification:\n",
    "        - units: 1\n",
    "        - activation: 'sigmoid'\n",
    "        \n",
    "``` python\n",
    "model.add(Flatten())\n",
    "model.add(Dense(512, activation='relu'))\n",
    "model.add(Dense(1, activation='sigmoid'))\n",
    "```\n",
    "\n",
    "**4) Compile the model, selecting loss function, optimizer, and metric**\n",
    "\n",
    "- Loss Function:\n",
    "    - For binary classifications, use 'binary_crossentropy'\n",
    "- Optimizer:\n",
    "    - Use RMSProp,\n",
    "        -Specify learning rate: ```lr = 1e-4```\n",
    "- Metrics:\n",
    "    - Use 'acc' for accuracy\n",
    "```python\n",
    "keras.optimizers.RMSprop(lr=0.001, rho=0.9, epsilon=None, decay=0.0)\n",
    "```\n",
    "\n",
    "\n",
    "```python\n",
    "# Compile Model\n",
    "model.compile(loss='binary_crossentropy', \n",
    "              optimizer=optimizers.RMSProp(lr=1e-4),\n",
    "              metrics=['acc'])\n",
    "\n",
    "#Set the model to train; \n",
    "import datetime\n",
    "start=datetime.datetime.now()\n",
    "history = model.fit_generator(\n",
    "      train_generator,\n",
    "      steps_per_epoch=100,\n",
    "      epochs=30,\n",
    "      validation_data=validation_generator,\n",
    "      validation_steps=50)\n",
    "\n",
    "end=datetime.datetime.now()\n",
    "```"
   ]
  },
  {
   "cell_type": "markdown",
   "metadata": {
    "colab_type": "text",
    "id": "8rz5t0lMYCfd"
   },
   "source": [
    "# Use Pretrained CNNs\n",
    "\n",
    "## Pretrained Networks Overview\n",
    "- Pretrained networks have already been trained on large pools of data, and have their weights frozen.\n",
    "    - They enable deep learning on fairly small image datasets\n",
    "    - a 'small' dataset is less than tens of thousands or hundreds of thousands of images\n",
    "\n",
    "- Pretrained networks can be used in whole or only specific parts, depending on your need/data.\n",
    "    - The shallower the layer of neurons, the more generic its features are. \n",
    "        - Therefore even if you data is very different, you can still use the lower layers for basic feature extraction.\n",
    "    - The deeper the layer, the more abstract its features are.\n",
    "        - so you may want to unfreeze the deeper/higher order classificaiton layers and re-train the network on your images. \n",
    "<br><br>\n",
    "### Where to find the pre-trained networks\n",
    "- **Pretrained Networks are available in [Keras.applications](https://keras.io/applications/)**\n",
    "    - This list of pretained models are for image classification. \n",
    "        - DenseNet\n",
    "        - InceptionResNetV2\n",
    "        - InceptionV3\n",
    "        - MobileNet\n",
    "        - NASNet\n",
    "        - ResNet50\n",
    "        - VGG16\n",
    "        - *VGG19* - used in labs\n",
    "        - Xception\n",
    "\n",
    "    - You can import these networks and use it as a function with 2 arguments:\n",
    "        1. `weights`\n",
    "            - Determines which data source's training data weights to use.\n",
    "            - ex:  `weights='imagenet'\n",
    "        2. `include_top`\n",
    "            - determines whetehr or not to include the fully-connected layer at the top of the network\n",
    "```python\n",
    "from keras.applications import MobileNet\n",
    "conv_base = MobileNet(weights='imagenet', include_top=True)\n",
    "```\n",
    "\n",
    "### How to use pretrained networks for feature extraction or for fine-tuning\n",
    "\n",
    "**You'll learn about two ways to use pre-trained networks:**\n",
    "- **Feature extraction**: here, you use the representations learned by a previous network to extract interesting features from new samples. \n",
    "    - Method 1) Use the convolutional base layers and run your data to detect the basic features, and save the output data, which is then run a new dense classifier, which is trained from scratch.  \n",
    "        - (+) It is fast\n",
    "        - (-) but cant use data augmentation. \n",
    "        - Note:  If your images are very different from the pretraining datasets, you may want to only use _part_ of the convolutional base but a _new_ densely connected classifier\n",
    "    - Method 2) Extend the conv_base by adding dense layers on top, running everything together. \n",
    "        - (+) allows for data sugmentation\n",
    "        - (-) extremely time-consuming and requires GPU\n",
    "  \n",
    "- **Fine-tuning**: when finetuning, you'll \"unfreeze\" a few top layers from the convolutional base of the model and train them again together with the densely connected classifier layers of the model. \n",
    "    - Note that you are changing the parts of the convolutional layers here that were used to detect the more abstract features.\n",
    "    - By doing this, you can make your model more relevant for the classification problem at hand.\n",
    "\n",
    "## Additional Resources\n",
    "\n",
    "* http://cs231n.stanford.edu/syllabus.html\n",
    "* https://www.dlology.com/blog/gentle-guide-on-how-yolo-object-localization-works-with-keras/\n",
    "* https://www.dlology.com/blog/gentle-guide-on-how-yolo-object-localization-works-with-keras-part-2/\n"
   ]
  },
  {
   "cell_type": "code",
   "execution_count": 0,
   "metadata": {
    "colab": {},
    "colab_type": "code",
    "id": "VHwZgQ9mQAu3"
   },
   "outputs": [],
   "source": [
    "from keras.applications import MobileNet\n",
    "conv_base = MobileNet(weights='imagenet',\n",
    "                  include_top = True)\n",
    "conv_base.summary()"
   ]
  },
  {
   "cell_type": "markdown",
   "metadata": {
    "colab_type": "text",
    "id": "OStc-MxyrNMY"
   },
   "source": [
    "# Using  Pretrained Networks - Codealong\n",
    "## Theory/Tips\n",
    "\n",
    "## Code \n",
    "\n",
    "### Feature Extraction Method 1:\n",
    "\n",
    "```python\n",
    "from keras.applications import VGG19\n",
    "cnn_base = VGG19(weights='imagenet',\n",
    "                  include_top=False,\n",
    "                  input_shape=(64, 64, 3))\n",
    "cnn_base.summary()\n",
    "\n",
    "# ---\n",
    "\n",
    "def extract_features(directory, sample_amount):\n",
    "    features = np.zeros(shape=(sample_amount, 2, 2, 512)) \n",
    "    labels = np.zeros(shape=(sample_amount))\n",
    "    generator = datagen.flow_from_directory(\n",
    "        directory, target_size=(64, 64), \n",
    "        batch_size = 10, \n",
    "        class_mode='binary')\n",
    "    i=0\n",
    "    for inputs_batch, labels_batch in generator:\n",
    "        features_batch = cnn_base.predict(inputs_batch)\n",
    "        features[i * batch_size : (i + 1) * batch_size] = features_batch \n",
    "        labels[i * batch_size : (i + 1) * batch_size] = labels_batch\n",
    "        i = i + 1\n",
    "        if i * batch_size >= sample_amount:\n",
    "            break\n",
    "    return features, labels\n",
    "\n",
    "# ---\n",
    "\n",
    "# you should be able to divide sample_amount by batch_size!!\n",
    "train_features, train_labels = extract_features(train_folder, 540) \n",
    "validation_features, validation_labels = extract_features(val_folder, 200) \n",
    "test_features, test_labels = extract_features(test_folder, 180)\n",
    "\n",
    "train_features = np.reshape(train_features, (540, 2 * 2 * 512))\n",
    "validation_features = np.reshape(validation_features, (200, 2 * 2 * 512))\n",
    "test_features = np.reshape(test_features, (180, 2 * 2 * 512))\n",
    "\n",
    "# ---\n",
    "\n",
    "from keras import models\n",
    "from keras import layers\n",
    "from keras import optimizers\n",
    "\n",
    "model = models.Sequential()\n",
    "model.add(layers.Dense(256, activation='relu', input_dim=2 * 2 * 512))\n",
    "model.add(layers.Dense(1, activation='sigmoid'))\n",
    "\n",
    "model.compile(optimizer=optimizers.RMSprop(lr=1e-4),\n",
    "              loss='binary_crossentropy',\n",
    "              metrics=['acc'])\n",
    "history = model.fit(train_features, train_labels,\n",
    "                    epochs=20,\n",
    "                    batch_size=10,\n",
    "                    validation_data=(validation_features, validation_labels))\n",
    "\n",
    "results_test = model.evaluate(test_features, test_labels)\n",
    "\n",
    "# ---\n",
    "\n",
    "train_acc = history.history['acc']\n",
    "val_acc = history.history['val_acc']\n",
    "train_loss = history.history['loss']\n",
    "val_loss = history.history['val_loss']\n",
    "epch = range(1, len(train_acc) + 1)\n",
    "plt.plot(epch, train_acc, 'g.', label='Training Accuracy')\n",
    "plt.plot(epch, val_acc, 'g', label='Validation acc')\n",
    "plt.title('Accuracy')\n",
    "plt.legend()\n",
    "plt.figure()\n",
    "plt.plot(epch, train_loss, 'r.', label='Training loss')\n",
    "plt.plot(epch, val_loss, 'r', label='Validation loss')\n",
    "plt.title('Loss')\n",
    "plt.legend()\n",
    "plt.show()\n",
    "\n",
    "#---\n",
    "\n",
    "```\n",
    "\n",
    "## Feature Extraction Method 2\n",
    " - this method is much more costly, but allows us to use data augmentation\n",
    " \n",
    "- The process:\n",
    "    1. Add the pretrained model as the first layer\n",
    "    2. Add some dense layers as a classifier on top\n",
    "    3. Freeze the convolutional base\n",
    "        - This will prevent the weights from changing. \n",
    "        - The layer.trainable attribute indicates if a layer is frozen\n",
    "    4. Train the model. \n",
    "    \n",
    "    \n",
    "```python\n",
    "\n",
    "model = models.Sequential()\n",
    "model.add(cnn_base)\n",
    "model.add(layers.Flatten())\n",
    "model.add(layers.Dense(132, activation='relu'))\n",
    "model.add(layers.Dense(1, activation='sigmoid'))\n",
    "\n",
    "# ---\n",
    "\n",
    "#You can check whether a layer is trainable (or alter its setting) through the layer.trainable attribute:\n",
    "for layer in model.layers:\n",
    "    print(layer.name, layer.trainable)\n",
    "    \n",
    "#Similarly, we can check how many trainable weights are in the model:\n",
    "print(len(model.trainable_weights))\n",
    "\n",
    "# ---\n",
    "\n",
    "# Freeze the conv base\n",
    "cnn_base.trainable = False\n",
    "\n",
    "\n",
    "# ---\n",
    "\n",
    "# get all the data in the directory split/train (542 images), and reshape them\n",
    "train_datagen = ImageDataGenerator(\n",
    "      rescale=1./255,\n",
    "      rotation_range=40,\n",
    "      width_shift_range=0.2,\n",
    "      height_shift_range=0.2,\n",
    "      shear_range=0.2,\n",
    "      zoom_range=0.2,\n",
    "      horizontal_flip=True,\n",
    "      fill_mode='nearest')\n",
    "\n",
    "train_generator = train_datagen.flow_from_directory(\n",
    "        train_folder, \n",
    "        target_size=(64, 64), \n",
    "        batch_size= 20,\n",
    "        class_mode= 'binary') \n",
    "\n",
    "# get all the data in the directory split/validation (200 images), and reshape them\n",
    "val_generator = ImageDataGenerator(rescale=1./255).flow_from_directory(\n",
    "        val_folder, \n",
    "        target_size=(64, 64), \n",
    "        batch_size = 20,\n",
    "        class_mode= 'binary')\n",
    "\n",
    "# get all the data in the directory split/test (180 images), and reshape them\n",
    "test_generator = ImageDataGenerator(rescale=1./255).flow_from_directory(\n",
    "        test_folder, \n",
    "        target_size=(64, 64), \n",
    "        batch_size = 180,\n",
    "        class_mode= 'binary')\n",
    "\n",
    "test_images, test_labels = next(test_generator)\n",
    "\n",
    "# ---\n",
    "\n",
    "model.compile(loss='binary_crossentropy',\n",
    "              optimizer=optimizers.RMSprop(lr=2e-5),\n",
    "              metrics=['acc'])\n",
    "\n",
    "# ---\n",
    "\n",
    "history = model.fit_generator(\n",
    "              train_generator,\n",
    "              steps_per_epoch= 27,\n",
    "              epochs = 10,\n",
    "              validation_data = val_generator,\n",
    "              validation_steps = 10)\n",
    "\n",
    "```\n",
    "\n"
   ]
  },
  {
   "cell_type": "markdown",
   "metadata": {
    "colab_type": "text",
    "id": "d0sjUefMuIs0"
   },
   "source": [
    "## Fine Tuning"
   ]
  },
  {
   "cell_type": "markdown",
   "metadata": {
    "colab_type": "text",
    "id": "ey5E6in_uGHO"
   },
   "source": [
    "Up till now, we have frozen the entire convolutional base. Again, it cannot be stressed enough how important this is before fine tuning the weights of the later layers of this base. Without training a classifier on the frozen base first, there will be too much noise in the model and initial epochs will overwrite any useful representations encoded in the pretrained model. That said, now that we have tuned a classifier to the frozen base, we can now unfreeze a few of the deeper layers from this base and further fine tune them to our problem scenario. In practice, this is apt to be particularly helpful where adapted models span new domain categories. For example, if the pretrained model is on cats and dogs and this is adapted to a problem specific to cats (a very relatively similar domain) there is apt to be little performance gain from fine tuning. On the other hand, if the problem domain is more substantially different, additional gains are more likely in adjusting these more abstract layers of the convolutional base. With that, let's take a look at how to unfreeze and fine tune these later layers.\n",
    "\n",
    "\n",
    "\n",
    "```python\n",
    "\n",
    "cnn_base.trainable = True\n",
    "\n",
    "# ---\n",
    "\n",
    "cnn_base.trainable = True\n",
    "set_trainable = False\n",
    "for layer in cnn_base.layers:\n",
    "    if layer.name == 'block5_conv1':\n",
    "        set_trainable = True\n",
    "    if set_trainable:\n",
    "        layer.trainable = True\n",
    "    else:\n",
    "        layer.trainable = False\n",
    "        \n",
    "        \n",
    "# ---\n",
    "\n",
    "model.compile(loss='binary_crossentropy',\n",
    "                      optimizer=optimizers.RMSprop(lr=1e-4),\n",
    "                      metrics=['accuracy'])\n",
    "\n",
    "# ---\n",
    "history = model.fit_generator(\n",
    "              train_generator,\n",
    "              steps_per_epoch= 27,\n",
    "              epochs = 10,\n",
    "              validation_data = val_generator,\n",
    "              validation_steps = 10)\n"
   ]
  },
  {
   "cell_type": "code",
   "execution_count": 0,
   "metadata": {
    "colab": {},
    "colab_type": "code",
    "id": "mtyhyKPOrgY5"
   },
   "outputs": [],
   "source": [
    ""
   ]
  },
  {
   "cell_type": "markdown",
   "metadata": {
    "colab_type": "text",
    "id": "dkMVqngpLsKC"
   },
   "source": [
    "# NLP Content from Flation Data Science Bootcamp"
   ]
  },
  {
   "cell_type": "markdown",
   "metadata": {
    "colab_type": "text",
    "id": "lReWoVYsTbwE"
   },
   "source": [
    "## Word Embeddings Lab\n"
   ]
  },
  {
   "cell_type": "markdown",
   "metadata": {
    "colab_type": "text",
    "id": "oBEb-dY-Lweq"
   },
   "source": [
    "- [Solution on Github](https://github.com/jirvingphd/dsc-04-45-04-generating-word-embeddings-lab-online-ds-ft-021119/tree/solution)\n",
    "\n",
    "- Use `nltk.word_tokenize` to tokenize new headlines data\n",
    "    - Can use `dataframe['column'].map(word_tokenize)` to tokenize a specific column in a df.\n",
    "    - After tokenization, leave in original order. \n",
    "    \n",
    "- Use `gensim.models.Word2Vec`\n",
    "    - [gensim website](https://radimrehurek.com/gensim/)\n",
    "    \n",
    "    \n",
    "- Instantiate a Word2Vec model:<br> `model = Word2Vec(data, size=100, window=5, min_count=1, workers=4)`\n",
    "    - `data` = text\n",
    "    - `size` =size of the embedding vectors to create\n",
    "    - `window` = # of words to include in sliding window\n",
    "    - `min_count` = number of times a word must appear to be counted\n",
    "    - `wokers` = number of threads to use during training\n",
    "    \n",
    "- `model.train(data, total_examples = model.corpus_count, epochs=10)`\n",
    "\n",
    "- Now can use the model.wv dictionary for methods\n",
    "    - `wv = model.wv`\n",
    "    \n",
    "    \n",
    "- **Get Word Similarity**\n",
    "    - Return the Most Similar Words \n",
    "        - `wv.most_similar('Texas')`\n",
    "         \n",
    "    - Return the Least Similar Words (not so meaningful)\n",
    "        - `wv.most_similar(negative='Texas')`\n",
    "\n",
    "- **To Get a Word's Vector**\n",
    "    - Use wv as a dictionary\n",
    "      - `wv['Texas']`\n",
    "      \n",
    "- **To Get All Word Vectors**\n",
    "    - `wv.vectors`\n",
    "        \n",
    "- **To Perform Word *Arithmetic***\n",
    "    - i.e. 'king' - 'man' + 'woman'\n",
    "    - Words to add should be `positive=`, words to subtract are `negative=`\n",
    "    - `wv.most_similar(positive=['king','woman'], negative=['man'])`"
   ]
  },
  {
   "cell_type": "code",
   "execution_count": 0,
   "metadata": {
    "colab": {},
    "colab_type": "code",
    "id": "Hs8MNYwNL7ka"
   },
   "outputs": [],
   "source": [
    "import pandas as pd\n",
    "import numpy as np\n",
    "\n",
    "from gensim.models import Word2Vec\n",
    "from nltk import word_tokenize\n",
    "\n",
    "import nltk\n",
    "nltk.download('punkt')"
   ]
  },
  {
   "cell_type": "code",
   "execution_count": 0,
   "metadata": {
    "colab": {},
    "colab_type": "code",
    "id": "KIiiqS1hMC_x"
   },
   "outputs": [],
   "source": [
    "from google.colab import drive\n",
    "drive.mount('/content/gdrive/')\n",
    "\n",
    "file = '/content/gdrive/My Drive/Colab Notebooks/datasets/News_Category_Dataset_v2.json'\n",
    "df = pd.read_json(file, lines=True)\n",
    "df.head()"
   ]
  },
  {
   "cell_type": "code",
   "execution_count": 0,
   "metadata": {
    "colab": {},
    "colab_type": "code",
    "id": "poAr1lwHOiZK"
   },
   "outputs": [],
   "source": [
    "# Concatenate description and headline.\n",
    "df['combined_text'] = df.headline+' '+df.short_description\n",
    "\n",
    "# Tokenize the combined_text column.\n",
    "data = df['combined_text'].map(word_tokenize)\n",
    "\n",
    "# Preview first 5\n",
    "data[:5]"
   ]
  },
  {
   "cell_type": "code",
   "execution_count": 0,
   "metadata": {
    "colab": {},
    "colab_type": "code",
    "id": "XaQMDoG0Ox2y"
   },
   "outputs": [],
   "source": [
    "model = Word2Vec(data, size=100, window=5, min_count=1, workers=4)\n",
    "\n",
    "model.train(data, total_examples=model.corpus_count, epochs=10)\n",
    "\n",
    "\n",
    "wv = model.wv\n",
    "wv.most_similar('Texas')"
   ]
  },
  {
   "cell_type": "code",
   "execution_count": 0,
   "metadata": {
    "colab": {},
    "colab_type": "code",
    "id": "O1pgxlGeTK7G"
   },
   "outputs": [],
   "source": [
    "wv.most_similar(negative='Texas')"
   ]
  },
  {
   "cell_type": "code",
   "execution_count": 0,
   "metadata": {
    "colab": {},
    "colab_type": "code",
    "id": "dOCWkeEmTRai"
   },
   "outputs": [],
   "source": [
    "wv.most_similar(positive=['king','woman'], negative=['man'])"
   ]
  },
  {
   "cell_type": "markdown",
   "metadata": {
    "colab_type": "text",
    "id": "y7QKTYb9OiOK"
   },
   "source": [
    "___"
   ]
  },
  {
   "cell_type": "markdown",
   "metadata": {
    "colab_type": "text",
    "id": "5t5C_rbCTdd5"
   },
   "source": [
    "## Classification with Word Embeddings"
   ]
  },
  {
   "cell_type": "markdown",
   "metadata": {
    "colab_type": "text",
    "id": "QRaVtOWsTjVS"
   },
   "source": [
    "### Using Pretrained Word Vectors with GloVe\n",
    "- Best to load a top-tier industry-standard word mdels\n",
    "    - Most common is Global Vectors for Word Representation (GloVe) from the Stanford NLP Group.\n",
    "    - Loading in weights removes the need to instantiate a Word2Vec model. \n",
    "- **Instead, the process is:**\n",
    "    1. Get the total vocabulary of our data\n",
    "    2. Download and unzip the GloVe file needed from Standford NLP\n",
    "    3. Read the GloVe file, save only vectors for words in our dataset.\n",
    "    \n",
    "\n",
    "    \n",
    "- **File must be downloaded manually:**\n",
    "    - Must download the zip file for the Stanford Groups pretrained vectors [here.](https://nlp.stanford.edu/projects/glove/)(Lab used the smallest one (which is still 6 B words)\n",
    "    - Place the downloaded file directly into same folder as jupyter notebook.\n",
    "- **To use in python;**    \n",
    "    - First, must tokenize the words in the vocab as done above with nltk.\n",
    "    - Second, must turn the vocabulary into a `set`:\n",
    "        `total_vocabulary = set(word for headline in data for word in headline)`\n",
    "    - Third, load in the glove file, check for and keep only the words that are inside of total_vocabulary\n",
    "```python\n",
    "glove = {}\n",
    "with open('glove.6B.50d.txt', 'rb') as f:\n",
    "    for line in f:\n",
    "        parts = line.split()\n",
    "        word = parts[0].decode('utf-8')\n",
    "        if word in total_vocabulary:\n",
    "            vector = np.array(parts[1:], dtype=np.float32)\n",
    "            glove[word] = vector\n",
    "```\n",
    "- The code above has created a dictionary called `glove, which contains all of the vectors for our data's vocabulary.\n",
    "\n",
    "### Mean Word Embeddings\n",
    "\n",
    "- Just loading in vectors does not describe sentence, only individual words.\n",
    "- To classify text, we need to calculate ***Mean Word Embeddings***. \n",
    "    - Simply get the vector for every word in a sentence and take the average.\n",
    "    - Mean Word vectors will always match the size of each individual word, no matter how many words appear in a sentence. \n",
    "    - Can easily put text into a form for Supervised Learning models, such as Support Vector Machines or Gradient Boosted Trees. \n",
    "    \n",
    "    \n",
    "### Coding a Custom Vectorizer Class (compatible with sklearn)\n",
    "\n",
    "### Deep Learning & Embedding Layers\n",
    "\n",
    "- Mean word embeddings lose some of the meaning, which is why **Sequence Models** exist. \n",
    "    - Recurrent Neural Networks \n",
    "    - Long Short Term Memory Cells\n",
    "- For deep learning, add **Embedding Layers** into the network.\n",
    "\n",
    "- **Embedding Layer Requirements**\n",
    "    - Learn the word embeddings for our data 'on the fly', get the benefits of Word2Vec without needing to train a Word2Vec model separately.\n",
    "    - Embedding Layers must always be the FIRST layer, immediately below the Input() layer.\n",
    "    - All words in the text must be integer-encoded (each word its own unique integer)\n",
    "    - Size of the embedding layer MUST be greater than the total vocabulary size\n",
    "        - First parameter denotes vocab size, the second parameter denotes word vector size. \n",
    "    - The size of sequences passed must be set when creating the layer. \n",
    "    \n",
    "###  Embedding Layers in Keras\n",
    "- [Classification with Word Embeddings - Lab ](https://github.com/learn-co-students/dsc-04-45-06-classification-with-word-embeddings-lab-online-ds-ft-021119)\n",
    "- [Keras Documentation](https://keras.io/layers/embeddings/)\n",
    "\n",
    "```python\n",
    "from keras.preprocessing.sequence import pad_sequences\n",
    "from keras.layers import Input, Dense, LSTM, Embedding\n",
    "from keras.layers import Dropout, Activation, Bidirectional, GlobalMaxPool1D\n",
    "from keras.models import Model\n",
    "from keras import initializers, regularizers, constraints, optimizers, layers\n",
    "from keras.preprocessing import text, sequence\n",
    "\n",
    "y = pd.get_dummies(target).values\n",
    "```\n",
    "- **Preprocessing data for use with embedding layer:**\n",
    "    - Tokenize each example\n",
    "    - Convert to sequences\n",
    "    - Pad the sequences so same length\n",
    "\n",
    "```python\n",
    "tokenizer = text.Tokenizer(num_words=20000) # limiting to first 20000 words in vocab\n",
    "tokenizer.fit_on_texts(list(df.combined_text))\n",
    "list_tokenized_headlines = tokenizer.texts_to_sequences(df.combined_text)\n",
    "X_t = sequence.pad_sequences(list_tokenized_headlines, maxlen=100)\n",
    "\n",
    "```\n",
    "\n",
    "- **Setting up the network architecture:**\n",
    "    - Input layer first\n",
    "    - Embedding layer second\n",
    "        - pass size of vocab, embedding_size\n",
    "        - embedding_size = 128\n",
    "    - LSTM layer third\n",
    "        - Followed by a GlobalMaxPooling1D layer\n",
    "        - Followed by  Dropout layer\n",
    "    - Dense layer for classification (activation='relu')\n",
    "        - Followed by another Dropout layer\n",
    "    - Final Dense layer\n",
    "        - Number of neurons = # of possible classes.\n",
    "        - activation = 'softmax'\n",
    "\n",
    "```python\n",
    "\n",
    "embedding_size = 128\n",
    "input_ = Input(shape=(100,))\n",
    "x = Embedding(20000, embedding_size)(input_)\n",
    "x = LSTM(25, return_sequences=True)(x)\n",
    "x = GlobalMaxPool1D()(x)\n",
    "x = Dropout(0.5)(x)\n",
    "x = Dense(50, activation='relu')(x)\n",
    "x = Dropout(0.5)(x)\n",
    "# There are 41 different possible classes, so we use 41 neurons in our output layer\n",
    "x = Dense(41, activation='softmax')(x)\n",
    "\n",
    "model = Model(inputs=input_, outputs=x)\n",
    "\n",
    "model.compile(loss='categorical_crossentropy', optimizer='adam', metrics=['accuracy'])\n",
    "\n",
    "model.fit(X_t, y, epochs=2, batch_size=32, validation_split=0.1)\n",
    "\n",
    "\n",
    "```\n",
    "\n",
    "\n",
    "### Lab's W2vVectorizer Class (edited for bs_ds compatibility)\n",
    "- Original did not have import numpy statements and did not accept glove during \\_\\_init__ (but still expected it to be present)\n",
    "```python\n",
    "class W2vVectorizer(object):\n",
    "    \"\"\"From Learn.co Text Classification with Word Embeddings Lab.\n",
    "    An sklearn-comaptible class containing the vectors for the fit Word2Vec.\"\"\"\n",
    "\n",
    "    def __init__(self, w2v, glove):\n",
    "        # takes in a dictionary of words and vectors as input\n",
    "        import numpy as np\n",
    "\n",
    "        self.w2v = w2v\n",
    "        if len(w2v) == 0:\n",
    "            self.dimensions = 0\n",
    "        else:\n",
    "            self.dimensions = len(w2v[next(iter(glove))])\n",
    "\n",
    "    # Note from Mike: Even though it doesn't do anything, it's required that this object implement a fit method or else\n",
    "    # It can't be used in a sklearn Pipeline.\n",
    "    def fit(self, X, y):\n",
    "        return self\n",
    "\n",
    "    def transform(self, X):\n",
    "        import numpy as np\n",
    "        return np.array([\n",
    "            np.mean([self.w2v[w] for w in words if w in self.w2v]\n",
    "                   or [np.zeros(self.dimensions)], axis=0) for words in X])\n",
    "```\n",
    "\n",
    "#### With W2vVectorizer, can use in sklearn Pipelines:\n",
    "\n",
    "```python\n",
    "from sklearn.ensemble import RandomForestClassifier\n",
    "from sklearn.svm import SVC\n",
    "from sklearn.linear_model import LogisticRegression\n",
    "from sklearn.pipeline import Pipeline\n",
    "from sklearn.model_selection import cross_val_score\n",
    "\n",
    "rf =  Pipeline([(\"Word2Vec Vectorizer\", W2vVectorizer(glove)),\n",
    "              (\"Random Forest\", RandomForestClassifier(n_estimators=100, verbose=True))])\n",
    "svc = Pipeline([(\"Word2Vec Vectorizer\", W2vVectorizer(glove)),\n",
    "                ('Support Vector Machine', SVC())])\n",
    "lr = Pipeline([(\"Word2Vec Vectorizer\", W2vVectorizer(glove)),\n",
    "              ('Logistic Regression', LogisticRegression())])\n",
    "\n",
    "# ---\n",
    "models = [('Random Forest', rf),\n",
    "          (\"Support Vector Machine\", svc),\n",
    "          (\"Logistic Regression\", lr)]\n",
    "# ---\n",
    "scores = [(name, cross_val_score(model, data, target, cv=2).mean()) for name, model, in models]\n",
    "scores\n",
    "# ---\n",
    "```\n"
   ]
  }
 ],
 "metadata": {
  "accelerator": "GPU",
  "colab": {
   "collapsed_sections": [],
   "machine_shape": "hm",
   "name": "Sect_47_Intro_to_CNNs- Keras Callbacks.ipynb",
   "provenance": [],
   "toc_visible": true
  },
  "kernelspec": {
   "display_name": "Python 3",
   "name": "python3"
  },
  "toc": {
   "base_numbering": 1,
   "nav_menu": {},
   "number_sections": false,
   "sideBar": true,
   "skip_h1_title": false,
   "title_cell": "Table of Contents",
   "title_sidebar": "Contents",
   "toc_cell": false,
   "toc_position": {
    "height": "calc(100% - 180px)",
    "left": "10px",
    "top": "150px",
    "width": "325px"
   },
   "toc_section_display": true,
   "toc_window_display": true
  }
 },
 "nbformat": 4,
 "nbformat_minor": 0
}
