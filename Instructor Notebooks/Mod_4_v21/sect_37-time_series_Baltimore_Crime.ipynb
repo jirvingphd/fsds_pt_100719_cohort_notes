{
 "cells": [
  {
   "cell_type": "markdown",
   "metadata": {},
   "source": [
    "# Sect 31-Pt2 & 32: Intro to Time Series"
   ]
  },
  {
   "cell_type": "markdown",
   "metadata": {},
   "source": [
    "- From 12/19/19  study group"
   ]
  },
  {
   "cell_type": "markdown",
   "metadata": {},
   "source": [
    "## Learning Objectives:\n",
    "- `pd.grouper`\n",
    "\n",
    "- Learn about types of time series trends and how to remove them.\n",
    "- Learn about seasonal decomposition`statsmodels.tsa.seasonal.seasonal_decompose`\n",
    "\n",
    "- Learn about PACF, ACF\n",
    "- Introduce ARIMA and SARIMA models.\n",
    "\n"
   ]
  },
  {
   "cell_type": "markdown",
   "metadata": {},
   "source": [
    " ## Questions to Revisit\n",
    " - Can you interpolate between missing datapoints?\n",
    "     - `pd.Series.interpolate` \n",
    "     - https://pandas.pydata.org/pandas-docs/stable/reference/api/pandas.Series.interpolate.html\n",
    " "
   ]
  },
  {
   "cell_type": "markdown",
   "metadata": {},
   "source": [
    "## References"
   ]
  },
  {
   "cell_type": "markdown",
   "metadata": {},
   "source": [
    "- [Pandas Timeseries Documentation](https://pandas.pydata.org/pandas-docs/stable/user_guide/timeseries.html)\n",
    "- ['Timeseries Offset Aliases'](https://pandas.pydata.org/pandas-docs/stable/user_guide/timeseries.html#timeseries-offset-aliases)\n",
    "- [Anchored Offsets](https://pandas.pydata.org/pandas-docs/stable/user_guide/timeseries.html#anchored-offsets)\n",
    "\n",
    "\n",
    "- https://pandas.pydata.org/pandas-docs/stable/reference/api/pandas.Timestamp.html"
   ]
  },
  {
   "cell_type": "markdown",
   "metadata": {},
   "source": [
    "**REFERENCE CONTENTS:**\n",
    "- Date StrFormatting\n",
    "    - Used for:\n",
    "        - Recognizing Date Formats (`pd.to_datetime`)\n",
    "        - `dt_obj.strftime()`\n",
    "        \n",
    "- Pandas Frequency Aliases\n",
    "    - Used for:\n",
    "        - `df.resample()`\n",
    "        - `df.asfreq()`\n",
    "        - ...\n",
    "        "
   ]
  },
  {
   "cell_type": "markdown",
   "metadata": {},
   "source": [
    "### Date Str Formatting\n",
    "\n"
   ]
  },
  {
   "cell_type": "markdown",
   "metadata": {},
   "source": [
    "\n",
    "Formatting follows the Python datetime <strong><a href='http://strftime.org/'>strftime</a></strong> codes.<br>\n",
    "The following examples are based on <tt>datetime.datetime(2001, 2, 3, 16, 5, 6)</tt>:\n",
    "<br><br>\n",
    "\n",
    "<table style=\"display: inline-block\">  \n",
    "<tr><th>CODE</th><th>MEANING</th><th>EXAMPLE</th><tr>\n",
    "<tr><td>%Y</td><td>Year with century as a decimal number.</td><td>2001</td></tr>\n",
    "<tr><td>%y</td><td>Year without century as a zero-padded decimal number.</td><td>01</td></tr>\n",
    "<tr><td>%m</td><td>Month as a zero-padded decimal number.</td><td>02</td></tr>\n",
    "<tr><td>%B</td><td>Month as locale’s full name.</td><td>February</td></tr>\n",
    "<tr><td>%b</td><td>Month as locale’s abbreviated name.</td><td>Feb</td></tr>\n",
    "<tr><td>%d</td><td>Day of the month as a zero-padded decimal number.</td><td>03</td></tr>  \n",
    "<tr><td>%A</td><td>Weekday as locale’s full name.</td><td>Saturday</td></tr>\n",
    "<tr><td>%a</td><td>Weekday as locale’s abbreviated name.</td><td>Sat</td></tr>\n",
    "<tr><td>%H</td><td>Hour (24-hour clock) as a zero-padded decimal number.</td><td>16</td></tr>\n",
    "<tr><td>%I</td><td>Hour (12-hour clock) as a zero-padded decimal number.</td><td>04</td></tr>\n",
    "<tr><td>%p</td><td>Locale’s equivalent of either AM or PM.</td><td>PM</td></tr>\n",
    "<tr><td>%M</td><td>Minute as a zero-padded decimal number.</td><td>05</td></tr>\n",
    "<tr><td>%S</td><td>Second as a zero-padded decimal number.</td><td>06</td></tr>\n",
    "</table>\n",
    "<table style=\"display: inline-block\">\n",
    "<tr><th>CODE</th><th>MEANING</th><th>EXAMPLE</th><tr>\n",
    "<tr><td>%#m</td><td>Month as a decimal number. (Windows)</td><td>2</td></tr>\n",
    "<tr><td>%-m</td><td>Month as a decimal number. (Mac/Linux)</td><td>2</td></tr>\n",
    "<tr><td>%#x</td><td>Long date</td><td>Saturday, February 03, 2001</td></tr>\n",
    "<tr><td>%#c</td><td>Long date and time</td><td>Saturday, February 03, 2001 16:05:06</td></tr>\n",
    "</table>  \n",
    "    "
   ]
  },
  {
   "cell_type": "markdown",
   "metadata": {},
   "source": [
    "### Pandas Frequency Aliases\n"
   ]
  },
  {
   "cell_type": "markdown",
   "metadata": {},
   "source": [
    "https://pandas.pydata.org/pandas-docs/stable/user_guide/timeseries.html#timeseries-offset-aliases\n",
    "\n",
    "|Alias\t| Description|\n",
    "| --- | --- |\n",
    "|B |\tbusiness day frequency|\n",
    "|C |\tcustom business day frequency|\n",
    "|D |\tcalendar day frequency|\n",
    "|W |\tweekly frequency|\n",
    "|M |\tmonth end frequency|\n",
    "|SM |\tsemi-month end frequency (15th and end of month)|\n",
    "|BM |\tbusiness month end frequency|\n",
    "|CBM |\tcustom business month end frequency|\n",
    "|MS |\tmonth start frequency|\n",
    "|SMS |\tsemi-month start frequency (1st and 15th)|\n",
    "|BMS |\tbusiness month start frequency|\n",
    "|CBMS |\tcustom business month start frequency|\n",
    "|Q |\tquarter end frequency|\n",
    "|BQ |\tbusiness quarter end frequency|\n",
    "|QS |\tquarter start frequency|\n",
    "|BQS |\tbusiness quarter start frequency|\n",
    "|A, Y |\tyear end frequency|\n",
    "|BA, BY |\tbusiness year end frequency|\n",
    "|AS, YS |\tyear start frequency|\n",
    "|BAS, BYS |\tbusiness year start frequency|\n",
    "|BH | business hour frequency|\n",
    "|H | hourly frequency|\n",
    "|T |  min\tminutely frequency|\n",
    "|S | secondly frequency|\n",
    "|L |  ms\tmilliseconds|\n",
    "|U |  us\tmicroseconds|\n",
    "|N | nanoseconds|"
   ]
  },
  {
   "cell_type": "markdown",
   "metadata": {},
   "source": [
    "# Intro to Time Series"
   ]
  },
  {
   "cell_type": "code",
   "execution_count": null,
   "metadata": {
    "ExecuteTime": {
     "end_time": "2020-05-03T00:09:52.548761Z",
     "start_time": "2020-05-03T00:09:48.600027Z"
    }
   },
   "outputs": [],
   "source": [
    "!pip install -U fsds_100719\n",
    "# !pip install -U scikit-learn\n",
    "\n",
    "from fsds_100719.imports import *"
   ]
  },
  {
   "cell_type": "markdown",
   "metadata": {},
   "source": [
    "# Baltimore Crime"
   ]
  },
  {
   "cell_type": "markdown",
   "metadata": {},
   "source": [
    "## 2020 Data"
   ]
  },
  {
   "cell_type": "code",
   "execution_count": 1,
   "metadata": {
    "ExecuteTime": {
     "end_time": "2020-05-03T21:58:02.045921Z",
     "start_time": "2020-05-03T21:58:00.342225Z"
    }
   },
   "outputs": [
    {
     "name": "stderr",
     "output_type": "stream",
     "text": [
      "\n",
      "Bad key \"text.kerning_factor\" on line 4 in\n",
      "//anaconda3/envs/learn-env/lib/python3.6/site-packages/matplotlib/mpl-data/stylelib/_classic_test_patch.mplstyle.\n",
      "You probably need to get an updated matplotlibrc file from\n",
      "https://github.com/matplotlib/matplotlib/blob/v3.1.3/matplotlibrc.template\n",
      "or from the matplotlib source distribution\n"
     ]
    },
    {
     "name": "stdout",
     "output_type": "stream",
     "text": [
      "fsds v0.2.8 loaded.  Read the docs: https://fs-ds.readthedocs.io/en/latest/ \n"
     ]
    },
    {
     "data": {
      "text/html": [
       "<style  type=\"text/css\" >\n",
       "</style><table id=\"T_28a6da46_8d89_11ea_83d3_4865ee12e626\" ><caption>Loaded Packages and Handles</caption><thead>    <tr>        <th class=\"col_heading level0 col0\" >Handle</th>        <th class=\"col_heading level0 col1\" >Package</th>        <th class=\"col_heading level0 col2\" >Description</th>    </tr></thead><tbody>\n",
       "                <tr>\n",
       "                                <td id=\"T_28a6da46_8d89_11ea_83d3_4865ee12e626row0_col0\" class=\"data row0 col0\" >dp</td>\n",
       "                        <td id=\"T_28a6da46_8d89_11ea_83d3_4865ee12e626row0_col1\" class=\"data row0 col1\" >IPython.display</td>\n",
       "                        <td id=\"T_28a6da46_8d89_11ea_83d3_4865ee12e626row0_col2\" class=\"data row0 col2\" >Display modules with helpful display and clearing commands.</td>\n",
       "            </tr>\n",
       "            <tr>\n",
       "                                <td id=\"T_28a6da46_8d89_11ea_83d3_4865ee12e626row1_col0\" class=\"data row1 col0\" >fs</td>\n",
       "                        <td id=\"T_28a6da46_8d89_11ea_83d3_4865ee12e626row1_col1\" class=\"data row1 col1\" >fsds</td>\n",
       "                        <td id=\"T_28a6da46_8d89_11ea_83d3_4865ee12e626row1_col2\" class=\"data row1 col2\" >Custom data science bootcamp student package</td>\n",
       "            </tr>\n",
       "            <tr>\n",
       "                                <td id=\"T_28a6da46_8d89_11ea_83d3_4865ee12e626row2_col0\" class=\"data row2 col0\" >mpl</td>\n",
       "                        <td id=\"T_28a6da46_8d89_11ea_83d3_4865ee12e626row2_col1\" class=\"data row2 col1\" >matplotlib</td>\n",
       "                        <td id=\"T_28a6da46_8d89_11ea_83d3_4865ee12e626row2_col2\" class=\"data row2 col2\" >Matplotlib's base OOP module with formatting artists</td>\n",
       "            </tr>\n",
       "            <tr>\n",
       "                                <td id=\"T_28a6da46_8d89_11ea_83d3_4865ee12e626row3_col0\" class=\"data row3 col0\" >plt</td>\n",
       "                        <td id=\"T_28a6da46_8d89_11ea_83d3_4865ee12e626row3_col1\" class=\"data row3 col1\" >matplotlib.pyplot</td>\n",
       "                        <td id=\"T_28a6da46_8d89_11ea_83d3_4865ee12e626row3_col2\" class=\"data row3 col2\" >Matplotlib's matlab-like plotting module</td>\n",
       "            </tr>\n",
       "            <tr>\n",
       "                                <td id=\"T_28a6da46_8d89_11ea_83d3_4865ee12e626row4_col0\" class=\"data row4 col0\" >np</td>\n",
       "                        <td id=\"T_28a6da46_8d89_11ea_83d3_4865ee12e626row4_col1\" class=\"data row4 col1\" >numpy</td>\n",
       "                        <td id=\"T_28a6da46_8d89_11ea_83d3_4865ee12e626row4_col2\" class=\"data row4 col2\" >scientific computing with Python</td>\n",
       "            </tr>\n",
       "            <tr>\n",
       "                                <td id=\"T_28a6da46_8d89_11ea_83d3_4865ee12e626row5_col0\" class=\"data row5 col0\" >pd</td>\n",
       "                        <td id=\"T_28a6da46_8d89_11ea_83d3_4865ee12e626row5_col1\" class=\"data row5 col1\" >pandas</td>\n",
       "                        <td id=\"T_28a6da46_8d89_11ea_83d3_4865ee12e626row5_col2\" class=\"data row5 col2\" >High performance data structures and tools</td>\n",
       "            </tr>\n",
       "            <tr>\n",
       "                                <td id=\"T_28a6da46_8d89_11ea_83d3_4865ee12e626row6_col0\" class=\"data row6 col0\" >sns</td>\n",
       "                        <td id=\"T_28a6da46_8d89_11ea_83d3_4865ee12e626row6_col1\" class=\"data row6 col1\" >seaborn</td>\n",
       "                        <td id=\"T_28a6da46_8d89_11ea_83d3_4865ee12e626row6_col2\" class=\"data row6 col2\" >High-level data visualization library based on matplotlib</td>\n",
       "            </tr>\n",
       "    </tbody></table>"
      ],
      "text/plain": [
       "<pandas.io.formats.style.Styler at 0x1081a96a0>"
      ]
     },
     "metadata": {},
     "output_type": "display_data"
    }
   ],
   "source": [
    "from fsds.imports import *"
   ]
  },
  {
   "cell_type": "code",
   "execution_count": 2,
   "metadata": {
    "ExecuteTime": {
     "end_time": "2020-05-03T21:58:18.483443Z",
     "start_time": "2020-05-03T21:58:17.553546Z"
    }
   },
   "outputs": [
    {
     "name": "stderr",
     "output_type": "stream",
     "text": [
      "//anaconda3/envs/learn-env/lib/python3.6/site-packages/IPython/core/interactiveshell.py:3058: DtypeWarning: Columns (7) have mixed types. Specify dtype option on import or set low_memory=False.\n",
      "  interactivity=interactivity, compiler=compiler, result=result)\n"
     ]
    }
   ],
   "source": [
    "import os\n",
    "file = '../../datasets/baltimore_crime_2020.csv'\n",
    "df = pd.read_csv(file,low_memory=False)"
   ]
  },
  {
   "cell_type": "code",
   "execution_count": null,
   "metadata": {
    "ExecuteTime": {
     "end_time": "2020-05-03T21:52:16.736149Z",
     "start_time": "2020-05-03T21:51:44.727339Z"
    }
   },
   "outputs": [],
   "source": [
    "df = pd.read_csv('/Users/jamesirving/Downloads/BPD_Part_1_Victim_Based_Crime_Data.csv')\n",
    "df['datetime']  = pd.to_datetime(df['CrimeDate']+ ' - ' + df['CrimeTime'])\n",
    "df"
   ]
  },
  {
   "cell_type": "code",
   "execution_count": null,
   "metadata": {
    "ExecuteTime": {
     "end_time": "2020-05-03T21:52:16.741284Z",
     "start_time": "2020-05-03T21:52:16.737705Z"
    }
   },
   "outputs": [],
   "source": []
  },
  {
   "cell_type": "code",
   "execution_count": null,
   "metadata": {
    "ExecuteTime": {
     "end_time": "2020-05-03T00:09:52.556869Z",
     "start_time": "2020-05-03T00:09:52.550114Z"
    }
   },
   "outputs": [],
   "source": [
    "def stationarity_check(TS,plot=True,col=None):\n",
    "    \"\"\"From: https://learn.co/tracks/data-science-career-v2/module-4-a-complete-data-science-project-using-multiple-regression/working-with-time-series-data/time-series-decomposition\n",
    "    \"\"\"\n",
    "    \n",
    "    # Import adfuller\n",
    "    from statsmodels.tsa.stattools import adfuller\n",
    "\n",
    "    if col is not None:\n",
    "        # Perform the Dickey Fuller Test\n",
    "        dftest = adfuller(TS[col]) # change the passengers column as required \n",
    "    else:\n",
    "        dftest=adfuller(TS)\n",
    " \n",
    "    if plot:\n",
    "        # Calculate rolling statistics\n",
    "        rolmean = TS.rolling(window = 8, center = False).mean()\n",
    "        rolstd = TS.rolling(window = 8, center = False).std()\n",
    "\n",
    "        #Plot rolling statistics:\n",
    "        fig = plt.figure(figsize=(12,6))\n",
    "        orig = plt.plot(TS, color='blue',label='Original')\n",
    "        mean = plt.plot(rolmean, color='red', label='Rolling Mean')\n",
    "        std = plt.plot(rolstd, color='black', label = 'Rolling Std')\n",
    "        plt.legend(loc='best')\n",
    "        plt.title('Rolling Mean & Standard Deviation')\n",
    "#     plt.show(block=False)\n",
    "    \n",
    "    # Print Dickey-Fuller test results\n",
    "    print ('Results of Dickey-Fuller Test:')\n",
    "\n",
    "    dfoutput = pd.Series(dftest[0:4],\n",
    "                         index=['Test Statistic','p-value','#Lags Used','Number of Observations Used'])\n",
    "    for key,value in dftest[4].items():\n",
    "        dfoutput['Critical Value (%s)'%key] = value\n",
    "        \n",
    "    dfoutput['sig'] = dfoutput['p-value']<.05\n",
    "    print (dfoutput)\n",
    "    \n",
    "    return dfoutput"
   ]
  },
  {
   "cell_type": "code",
   "execution_count": null,
   "metadata": {
    "ExecuteTime": {
     "end_time": "2020-05-03T21:53:28.882285Z",
     "start_time": "2020-05-03T21:53:28.878403Z"
    }
   },
   "outputs": [],
   "source": [
    "import os\n",
    "os.listdir('../../datasets/')"
   ]
  },
  {
   "cell_type": "code",
   "execution_count": null,
   "metadata": {
    "ExecuteTime": {
     "end_time": "2020-05-03T21:54:45.635066Z",
     "start_time": "2020-05-03T21:54:42.362597Z"
    }
   },
   "outputs": [],
   "source": [
    "df.to_csv('../../datasets/baltimore_crime_2020.csv',index=False)"
   ]
  },
  {
   "cell_type": "code",
   "execution_count": null,
   "metadata": {
    "ExecuteTime": {
     "end_time": "2020-05-03T21:45:47.374655Z",
     "start_time": "2020-05-03T21:45:16.644106Z"
    }
   },
   "outputs": [],
   "source": [
    "df.index = pd.to_datetime(df['CrimeDate']+ ' - ' + df['CrimeTime'])\n",
    "df"
   ]
  },
  {
   "cell_type": "code",
   "execution_count": null,
   "metadata": {
    "ExecuteTime": {
     "end_time": "2020-05-03T21:46:27.295821Z",
     "start_time": "2020-05-03T21:46:27.293068Z"
    }
   },
   "outputs": [],
   "source": [
    "# df.set_index('datetime',inplace=True)\n",
    "# df.index"
   ]
  },
  {
   "cell_type": "code",
   "execution_count": null,
   "metadata": {
    "ExecuteTime": {
     "end_time": "2020-05-03T21:39:20.899760Z",
     "start_time": "2020-05-03T21:39:20.863041Z"
    }
   },
   "outputs": [],
   "source": [
    "df['Description'].value_counts()"
   ]
  },
  {
   "cell_type": "code",
   "execution_count": null,
   "metadata": {
    "ExecuteTime": {
     "end_time": "2020-05-03T21:10:32.277903Z",
     "start_time": "2020-05-03T21:10:32.260626Z"
    }
   },
   "outputs": [],
   "source": [
    "df.head()"
   ]
  },
  {
   "cell_type": "code",
   "execution_count": null,
   "metadata": {
    "ExecuteTime": {
     "end_time": "2020-05-03T21:32:39.767153Z",
     "start_time": "2020-05-03T21:32:39.763490Z"
    }
   },
   "outputs": [],
   "source": [
    "## Identify columns to drop/keep\n",
    "drop_cols = ['CrimeDate','CrimeTime','CrimeCode','Location', \n",
    "             'Premise','Post','Neighborhood','Location 1',\n",
    "             'vri_name1','Total Incidents','Weapon','Inside/Outside']\n",
    "\n",
    "id_cols = ['Description','Weapon','Longitude','Latitude']"
   ]
  },
  {
   "cell_type": "code",
   "execution_count": null,
   "metadata": {
    "ExecuteTime": {
     "end_time": "2020-05-03T21:33:15.507395Z",
     "start_time": "2020-05-03T21:33:15.490485Z"
    }
   },
   "outputs": [],
   "source": [
    "## \n",
    "df.drop(columns=drop_cols,inplace=True)\n",
    "df"
   ]
  },
  {
   "cell_type": "code",
   "execution_count": null,
   "metadata": {
    "ExecuteTime": {
     "end_time": "2020-05-03T21:32:46.640428Z",
     "start_time": "2020-05-03T21:32:46.226499Z"
    }
   },
   "outputs": [],
   "source": [
    "## make a dict of all crime types \n",
    "CRIMES = {}\n",
    "for crime in df['Description'].unique():\n",
    "    group  = df.groupby('Description').get_group(crime)\n",
    "    group[crime] = (group['Description'] == crime).astype(int)\n",
    "    CRIMES[crime] = group"
   ]
  },
  {
   "cell_type": "code",
   "execution_count": null,
   "metadata": {
    "ExecuteTime": {
     "end_time": "2020-05-03T21:32:48.150998Z",
     "start_time": "2020-05-03T21:32:48.146754Z"
    }
   },
   "outputs": [],
   "source": [
    "CRIMES.keys()"
   ]
  },
  {
   "cell_type": "code",
   "execution_count": null,
   "metadata": {
    "ExecuteTime": {
     "end_time": "2020-05-03T21:32:18.471969Z",
     "start_time": "2020-05-03T21:32:18.457425Z"
    }
   },
   "outputs": [],
   "source": [
    "CRIMES['SHOOTING']"
   ]
  },
  {
   "cell_type": "code",
   "execution_count": null,
   "metadata": {
    "ExecuteTime": {
     "end_time": "2020-05-03T21:06:37.425647Z",
     "start_time": "2020-05-03T21:06:37.334132Z"
    }
   },
   "outputs": [],
   "source": [
    "df['SHOOTING'] = (df['Description'] == 'SHOOTING').astype(int)\n",
    "df\n"
   ]
  },
  {
   "cell_type": "markdown",
   "metadata": {},
   "source": [
    "## Baltimore Crime - 2019 Data"
   ]
  },
  {
   "cell_type": "code",
   "execution_count": null,
   "metadata": {
    "ExecuteTime": {
     "end_time": "2020-05-03T00:09:56.411901Z",
     "start_time": "2020-05-03T00:09:52.558391Z"
    }
   },
   "outputs": [],
   "source": [
    "baltimore_crime =\"https://raw.githubusercontent.com/jirvingphd/fsds_100719/master/fsds_100719/data/BPD_Part_1_Victim_Based_Crime_Data.csv\"\n",
    "df = pd.read_csv(baltimore_crime,low_memory=False,\n",
    "                 parse_dates=[\"CrimeDate\",\"CrimeTime\"])#,\n",
    "#                 index_col='CrimeDate')\n",
    "display(df.head())\n",
    "mpl.rcParams['figure.figsize']= (12,8)\n",
    "df.index"
   ]
  },
  {
   "cell_type": "code",
   "execution_count": null,
   "metadata": {
    "ExecuteTime": {
     "end_time": "2020-05-03T00:09:56.476158Z",
     "start_time": "2020-05-03T00:09:56.413402Z"
    }
   },
   "outputs": [],
   "source": [
    "df['datetime'] =df['CrimeDate'] #'CrimeTime'].copy()\n",
    "df.set_index('datetime',inplace=True)\n",
    "df.sort_index(inplace=True)\n",
    "df"
   ]
  },
  {
   "cell_type": "code",
   "execution_count": null,
   "metadata": {
    "ExecuteTime": {
     "end_time": "2020-05-03T00:09:56.536599Z",
     "start_time": "2020-05-03T00:09:56.477623Z"
    }
   },
   "outputs": [],
   "source": [
    "df.sort_index(inplace=True)\n",
    "df = df.loc['2014':].copy()\n",
    "df.index"
   ]
  },
  {
   "cell_type": "markdown",
   "metadata": {},
   "source": [
    "### Which crimes were the most common?"
   ]
  },
  {
   "cell_type": "code",
   "execution_count": null,
   "metadata": {
    "ExecuteTime": {
     "end_time": "2020-05-03T00:09:56.735603Z",
     "start_time": "2020-05-03T00:09:56.537891Z"
    }
   },
   "outputs": [],
   "source": [
    "ax=df[\"Description\"].value_counts(ascending=True).plot(kind='barh')\n",
    "ax.set_xlabel('Number of Crimes')"
   ]
  },
  {
   "cell_type": "code",
   "execution_count": null,
   "metadata": {
    "ExecuteTime": {
     "end_time": "2020-05-03T00:09:56.927723Z",
     "start_time": "2020-05-03T00:09:56.737135Z"
    }
   },
   "outputs": [],
   "source": [
    "ax=df[\"Description\"].value_counts(ascending=True, normalize=True).plot(kind='barh')\n",
    "# ax.xaxis.set_major_formatter(mpl.ticker.FormatStrFormatter(\"%d.2\\%\"))\n",
    "ax.set_xlabel('Portion of Crimes')"
   ]
  },
  {
   "cell_type": "code",
   "execution_count": null,
   "metadata": {
    "ExecuteTime": {
     "end_time": "2020-05-03T00:09:56.943236Z",
     "start_time": "2020-05-03T00:09:56.929404Z"
    }
   },
   "outputs": [],
   "source": [
    "df.head()"
   ]
  },
  {
   "cell_type": "markdown",
   "metadata": {},
   "source": [
    "### Making df_crimes"
   ]
  },
  {
   "cell_type": "code",
   "execution_count": null,
   "metadata": {
    "ExecuteTime": {
     "end_time": "2020-05-03T00:09:56.946593Z",
     "start_time": "2020-05-03T00:09:56.944621Z"
    }
   },
   "outputs": [],
   "source": [
    "pd.set_option('display.max_columns',0)"
   ]
  },
  {
   "cell_type": "code",
   "execution_count": null,
   "metadata": {
    "ExecuteTime": {
     "end_time": "2020-05-03T00:09:57.080359Z",
     "start_time": "2020-05-03T00:09:56.947726Z"
    }
   },
   "outputs": [],
   "source": [
    "df_crimes = pd.get_dummies(df,columns=['Description'])\n",
    "df_crimes"
   ]
  },
  {
   "cell_type": "markdown",
   "metadata": {},
   "source": [
    "___"
   ]
  },
  {
   "cell_type": "code",
   "execution_count": null,
   "metadata": {
    "ExecuteTime": {
     "end_time": "2020-05-03T00:09:57.085175Z",
     "start_time": "2020-05-03T00:09:57.081642Z"
    }
   },
   "outputs": [],
   "source": [
    "crime_cols = [col for col in df_crimes.columns if 'Description_' in col]\n",
    "crime_cols"
   ]
  },
  {
   "cell_type": "code",
   "execution_count": null,
   "metadata": {
    "ExecuteTime": {
     "end_time": "2020-05-03T00:09:57.090042Z",
     "start_time": "2020-05-03T00:09:57.086350Z"
    }
   },
   "outputs": [],
   "source": [
    "new_names = [x.replace('Description_','') for x in crime_cols]\n",
    "new_names"
   ]
  },
  {
   "cell_type": "code",
   "execution_count": null,
   "metadata": {
    "ExecuteTime": {
     "end_time": "2020-05-03T00:09:57.094929Z",
     "start_time": "2020-05-03T00:09:57.091463Z"
    }
   },
   "outputs": [],
   "source": [
    "df_crimes.columns"
   ]
  },
  {
   "cell_type": "code",
   "execution_count": null,
   "metadata": {
    "ExecuteTime": {
     "end_time": "2020-05-03T00:09:57.099678Z",
     "start_time": "2020-05-03T00:09:57.096220Z"
    }
   },
   "outputs": [],
   "source": [
    "rename_dict = dict(zip(crime_cols,new_names))\n",
    "rename_dict"
   ]
  },
  {
   "cell_type": "code",
   "execution_count": null,
   "metadata": {
    "ExecuteTime": {
     "end_time": "2020-05-03T00:09:57.290944Z",
     "start_time": "2020-05-03T00:09:57.100894Z"
    }
   },
   "outputs": [],
   "source": [
    "df_crimes.rename(rename_dict,axis=1,inplace=True)\n",
    "df_crimes"
   ]
  },
  {
   "cell_type": "code",
   "execution_count": null,
   "metadata": {
    "ExecuteTime": {
     "end_time": "2020-05-03T00:09:57.345795Z",
     "start_time": "2020-05-03T00:09:57.292261Z"
    }
   },
   "outputs": [],
   "source": [
    "df_crimes"
   ]
  },
  {
   "cell_type": "code",
   "execution_count": null,
   "metadata": {
    "ExecuteTime": {
     "end_time": "2020-05-03T00:09:57.348992Z",
     "start_time": "2020-05-03T00:09:57.347207Z"
    }
   },
   "outputs": [],
   "source": [
    "# df_crimes['datetime'] = df_crimes['CrimeDate'].copy()\n",
    "# df_crimes.set_index('datetime',inplace=True)\n",
    "# df_crimes"
   ]
  },
  {
   "cell_type": "markdown",
   "metadata": {},
   "source": [
    "### Visualize then Get Counts"
   ]
  },
  {
   "cell_type": "code",
   "execution_count": null,
   "metadata": {
    "ExecuteTime": {
     "end_time": "2020-05-03T00:09:57.354033Z",
     "start_time": "2020-05-03T00:09:57.350466Z"
    }
   },
   "outputs": [],
   "source": [
    "keep_cols = ['CrimeDate','CrimeTime']\n",
    "keep_cols.extend(new_names)\n",
    "keep_cols"
   ]
  },
  {
   "cell_type": "code",
   "execution_count": null,
   "metadata": {
    "ExecuteTime": {
     "end_time": "2020-05-03T00:09:57.391161Z",
     "start_time": "2020-05-03T00:09:57.355374Z"
    }
   },
   "outputs": [],
   "source": [
    "df_crimes = df_crimes[keep_cols].copy()\n",
    "df_crimes"
   ]
  },
  {
   "cell_type": "code",
   "execution_count": null,
   "metadata": {
    "ExecuteTime": {
     "end_time": "2020-05-03T00:09:57.957029Z",
     "start_time": "2020-05-03T00:09:57.392628Z"
    }
   },
   "outputs": [],
   "source": [
    "df_crimes.groupby('CrimeDate')[new_names].sum().plot()"
   ]
  },
  {
   "cell_type": "markdown",
   "metadata": {},
   "source": [
    "### Using `pd.Grouper`"
   ]
  },
  {
   "cell_type": "code",
   "execution_count": null,
   "metadata": {
    "ExecuteTime": {
     "end_time": "2020-05-03T00:09:58.477053Z",
     "start_time": "2020-05-03T00:09:57.958065Z"
    }
   },
   "outputs": [],
   "source": [
    "df_crimes.groupby(pd.Grouper(freq='D')).sum().plot()"
   ]
  },
  {
   "cell_type": "code",
   "execution_count": null,
   "metadata": {
    "ExecuteTime": {
     "end_time": "2020-05-03T00:09:58.964593Z",
     "start_time": "2020-05-03T00:09:58.477999Z"
    }
   },
   "outputs": [],
   "source": [
    "df_counts = df_crimes.groupby(pd.Grouper(freq='D')).sum()\n",
    "df_counts.plot()"
   ]
  },
  {
   "cell_type": "code",
   "execution_count": null,
   "metadata": {
    "ExecuteTime": {
     "end_time": "2020-05-03T00:09:59.279028Z",
     "start_time": "2020-05-03T00:09:58.967761Z"
    }
   },
   "outputs": [],
   "source": [
    "df_counts['SHOOTING'].plot()"
   ]
  },
  {
   "cell_type": "code",
   "execution_count": null,
   "metadata": {
    "ExecuteTime": {
     "end_time": "2020-05-03T00:10:00.468750Z",
     "start_time": "2020-05-03T00:09:59.280611Z"
    }
   },
   "outputs": [],
   "source": [
    "for freq_code in ['D','W','M']:\n",
    "    ax= df_crimes.groupby(pd.Grouper(freq=freq_code)).sum().plot()\n",
    "    ax.set_title(f\"Freq Code={freq_code}\")\n",
    "#     ax.legend(None)\n",
    "    "
   ]
  },
  {
   "cell_type": "markdown",
   "metadata": {},
   "source": [
    "### Working with df_counts\n"
   ]
  },
  {
   "cell_type": "code",
   "execution_count": null,
   "metadata": {
    "ExecuteTime": {
     "end_time": "2020-05-03T00:10:00.697045Z",
     "start_time": "2020-05-03T00:10:00.470002Z"
    }
   },
   "outputs": [],
   "source": [
    "df_counts.to_csv('datasets/baltimore_crime_counts_2014-2019.csv')\n",
    "df_counts = pd.read_csv('datasets/baltimore_crime_counts_2014-2019.csv',parse_dates=True, index_col='datetime')\n",
    "df_counts"
   ]
  },
  {
   "cell_type": "code",
   "execution_count": null,
   "metadata": {},
   "outputs": [],
   "source": []
  },
  {
   "cell_type": "markdown",
   "metadata": {},
   "source": [
    "# Removing Trends \n",
    "- .diff()\n",
    "- np.log\n",
    "- subtract rolling mean\n",
    "- seasonal decomposition"
   ]
  },
  {
   "cell_type": "code",
   "execution_count": null,
   "metadata": {
    "ExecuteTime": {
     "end_time": "2020-05-03T00:10:00.698343Z",
     "start_time": "2020-05-03T00:09:48.678Z"
    }
   },
   "outputs": [],
   "source": [
    "col = 'COMMON ASSAULT'\n",
    "ts = df_counts[col].copy()\n",
    "ts.loc['2014':'2016'].plot(figsize=(12,4))#style='.b')"
   ]
  },
  {
   "cell_type": "markdown",
   "metadata": {},
   "source": [
    "## Seasonal Decomposition"
   ]
  },
  {
   "cell_type": "code",
   "execution_count": null,
   "metadata": {
    "ExecuteTime": {
     "end_time": "2020-05-03T00:10:00.699171Z",
     "start_time": "2020-05-03T00:09:48.680Z"
    }
   },
   "outputs": [],
   "source": [
    "ts=ts.loc['2014':'2016']"
   ]
  },
  {
   "cell_type": "code",
   "execution_count": null,
   "metadata": {
    "ExecuteTime": {
     "end_time": "2020-05-03T00:10:00.699945Z",
     "start_time": "2020-05-03T00:09:48.682Z"
    }
   },
   "outputs": [],
   "source": [
    "from statsmodels.tsa.seasonal import seasonal_decompose\n",
    "decomp = seasonal_decompose(ts)#,model='mul')\n",
    "decomp.plot();"
   ]
  },
  {
   "cell_type": "code",
   "execution_count": null,
   "metadata": {
    "ExecuteTime": {
     "end_time": "2020-05-03T00:10:00.700815Z",
     "start_time": "2020-05-03T00:09:48.684Z"
    }
   },
   "outputs": [],
   "source": [
    "trend = decomp.trend\n",
    "residuals = decomp.resid\n",
    "seasonal = decomp.seasonal"
   ]
  },
  {
   "cell_type": "code",
   "execution_count": null,
   "metadata": {
    "ExecuteTime": {
     "end_time": "2020-05-03T00:10:00.701439Z",
     "start_time": "2020-05-03T00:09:48.686Z"
    }
   },
   "outputs": [],
   "source": [
    "ts.plot()\n",
    "residuals.plot(label='Residuals')\n",
    "plt.legend()"
   ]
  },
  {
   "cell_type": "code",
   "execution_count": null,
   "metadata": {
    "ExecuteTime": {
     "end_time": "2020-05-03T00:10:00.702260Z",
     "start_time": "2020-05-03T00:09:48.689Z"
    }
   },
   "outputs": [],
   "source": [
    "fs.ihelp(stationarity_check,False)"
   ]
  },
  {
   "cell_type": "code",
   "execution_count": null,
   "metadata": {
    "ExecuteTime": {
     "end_time": "2020-05-03T00:10:00.702846Z",
     "start_time": "2020-05-03T00:09:48.691Z"
    }
   },
   "outputs": [],
   "source": [
    "from statsmodels.tsa.stattools import adfuller\n",
    "adfuller()"
   ]
  },
  {
   "cell_type": "code",
   "execution_count": null,
   "metadata": {
    "ExecuteTime": {
     "end_time": "2020-05-03T00:10:00.704174Z",
     "start_time": "2020-05-03T00:09:48.693Z"
    }
   },
   "outputs": [],
   "source": [
    "stationarity_check(ts);"
   ]
  },
  {
   "cell_type": "code",
   "execution_count": null,
   "metadata": {
    "ExecuteTime": {
     "end_time": "2020-05-03T00:10:00.705099Z",
     "start_time": "2020-05-03T00:09:48.694Z"
    }
   },
   "outputs": [],
   "source": [
    "ts.interpolate(method='time',inplace=True)\n",
    "decomp = seasonal_decompose(ts)\n"
   ]
  },
  {
   "cell_type": "code",
   "execution_count": null,
   "metadata": {
    "ExecuteTime": {
     "end_time": "2020-05-03T00:10:00.705947Z",
     "start_time": "2020-05-03T00:09:48.696Z"
    }
   },
   "outputs": [],
   "source": [
    "stationarity_check(ts)"
   ]
  },
  {
   "cell_type": "code",
   "execution_count": null,
   "metadata": {
    "ExecuteTime": {
     "end_time": "2020-05-03T00:10:00.706853Z",
     "start_time": "2020-05-03T00:09:48.698Z"
    }
   },
   "outputs": [],
   "source": [
    "stationarity_check(decomp.resid.dropna());"
   ]
  },
  {
   "cell_type": "markdown",
   "metadata": {},
   "source": [
    "- .diff()\n",
    "- np.log\n",
    "- subtract rolling mean\n",
    "- seasonal decomposition"
   ]
  },
  {
   "cell_type": "code",
   "execution_count": null,
   "metadata": {
    "ExecuteTime": {
     "end_time": "2020-05-03T00:10:00.707731Z",
     "start_time": "2020-05-03T00:09:48.702Z"
    }
   },
   "outputs": [],
   "source": [
    "ts.plot()"
   ]
  },
  {
   "cell_type": "code",
   "execution_count": null,
   "metadata": {
    "ExecuteTime": {
     "end_time": "2020-05-03T00:10:00.708549Z",
     "start_time": "2020-05-03T00:09:48.704Z"
    }
   },
   "outputs": [],
   "source": [
    "\n",
    "# plt.plot(np.log(ts))"
   ]
  },
  {
   "cell_type": "markdown",
   "metadata": {},
   "source": [
    "# ACF & PACF"
   ]
  },
  {
   "cell_type": "code",
   "execution_count": null,
   "metadata": {
    "ExecuteTime": {
     "end_time": "2020-05-03T00:10:00.709482Z",
     "start_time": "2020-05-03T00:09:48.707Z"
    }
   },
   "outputs": [],
   "source": [
    "from statsmodels.graphics.tsaplots import plot_acf,plot_pacf\n",
    "mpl.rcParams['figure.figsize'] = (12,4)\n",
    "plot_acf(ts);\n",
    "plt.xlabel(\"Number Lag\")\n",
    "# fig=ax.get_figure()\n",
    "\n",
    "# fig.set_size_inches(12,4)\n",
    "# fig\n"
   ]
  },
  {
   "cell_type": "code",
   "execution_count": null,
   "metadata": {},
   "outputs": [],
   "source": []
  },
  {
   "cell_type": "code",
   "execution_count": null,
   "metadata": {
    "ExecuteTime": {
     "end_time": "2020-05-03T00:10:00.710282Z",
     "start_time": "2020-05-03T00:09:48.710Z"
    }
   },
   "outputs": [],
   "source": [
    "\n",
    "ts.plot()"
   ]
  },
  {
   "cell_type": "markdown",
   "metadata": {},
   "source": [
    "#  ARIMA/SARIMA\n",
    "- SEE `sect_32_time_series_models.ipynb`"
   ]
  },
  {
   "cell_type": "markdown",
   "metadata": {},
   "source": [
    "# HOUSING DATA FROM LAST CLASS"
   ]
  },
  {
   "cell_type": "code",
   "execution_count": null,
   "metadata": {},
   "outputs": [],
   "source": []
  },
  {
   "cell_type": "code",
   "execution_count": null,
   "metadata": {
    "ExecuteTime": {
     "end_time": "2020-05-03T00:10:00.711242Z",
     "start_time": "2020-05-03T00:09:48.713Z"
    }
   },
   "outputs": [],
   "source": [
    "df = fs.datasets.load_mod1_proj()\n",
    "df.head()"
   ]
  },
  {
   "cell_type": "code",
   "execution_count": null,
   "metadata": {
    "ExecuteTime": {
     "end_time": "2020-05-03T00:10:00.712092Z",
     "start_time": "2020-05-03T00:09:48.715Z"
    }
   },
   "outputs": [],
   "source": [
    "df.info()"
   ]
  },
  {
   "cell_type": "code",
   "execution_count": null,
   "metadata": {
    "ExecuteTime": {
     "end_time": "2020-05-03T00:10:00.712949Z",
     "start_time": "2020-05-03T00:09:48.717Z"
    }
   },
   "outputs": [],
   "source": [
    "date = pd.to_datetime(df['date'])\n",
    "date"
   ]
  },
  {
   "cell_type": "code",
   "execution_count": null,
   "metadata": {
    "ExecuteTime": {
     "end_time": "2020-05-03T00:10:00.713896Z",
     "start_time": "2020-05-03T00:09:48.719Z"
    }
   },
   "outputs": [],
   "source": [
    "df['d_date'] = pd.to_datetime(df['date'])\n",
    "display(df.head())\n",
    "df.dtypes"
   ]
  },
  {
   "cell_type": "code",
   "execution_count": null,
   "metadata": {
    "ExecuteTime": {
     "end_time": "2020-05-03T00:10:00.714747Z",
     "start_time": "2020-05-03T00:09:48.720Z"
    }
   },
   "outputs": [],
   "source": [
    "df.set_index('d_date',inplace=True)\n",
    "df.index"
   ]
  },
  {
   "cell_type": "code",
   "execution_count": null,
   "metadata": {
    "ExecuteTime": {
     "end_time": "2020-05-03T00:10:00.715662Z",
     "start_time": "2020-05-03T00:09:48.722Z"
    }
   },
   "outputs": [],
   "source": [
    "mpl.rcParams['figure.figsize'] = (12,6)"
   ]
  },
  {
   "cell_type": "code",
   "execution_count": null,
   "metadata": {
    "ExecuteTime": {
     "end_time": "2020-05-03T00:10:00.716603Z",
     "start_time": "2020-05-03T00:09:48.724Z"
    }
   },
   "outputs": [],
   "source": [
    "df['price'].plot()"
   ]
  },
  {
   "cell_type": "markdown",
   "metadata": {},
   "source": [
    "### Slicing With Time Series"
   ]
  },
  {
   "cell_type": "markdown",
   "metadata": {},
   "source": [
    "- Make sure you're index is sorted first'\n",
    "- Feed in 2 dates as strings for slicing.\n",
    "- Always use .loc when slicing dates"
   ]
  },
  {
   "cell_type": "code",
   "execution_count": null,
   "metadata": {
    "ExecuteTime": {
     "end_time": "2020-05-03T00:10:00.717409Z",
     "start_time": "2020-05-03T00:09:48.726Z"
    }
   },
   "outputs": [],
   "source": [
    "df.sort_index(inplace=True)"
   ]
  },
  {
   "cell_type": "code",
   "execution_count": null,
   "metadata": {
    "ExecuteTime": {
     "end_time": "2020-05-03T00:10:00.718341Z",
     "start_time": "2020-05-03T00:09:48.728Z"
    },
    "scrolled": false
   },
   "outputs": [],
   "source": [
    "df.loc['2014-05-01':'2015-05-01','price'].plot().autoscale(axis='x',tight=True)"
   ]
  },
  {
   "cell_type": "markdown",
   "metadata": {},
   "source": [
    "## Time series Frequencies\n"
   ]
  },
  {
   "cell_type": "code",
   "execution_count": null,
   "metadata": {
    "ExecuteTime": {
     "end_time": "2020-05-03T00:10:00.719226Z",
     "start_time": "2020-05-03T00:09:48.730Z"
    }
   },
   "outputs": [],
   "source": [
    "df.index"
   ]
  },
  {
   "cell_type": "code",
   "execution_count": null,
   "metadata": {},
   "outputs": [],
   "source": []
  },
  {
   "cell_type": "code",
   "execution_count": null,
   "metadata": {
    "ExecuteTime": {
     "end_time": "2020-05-03T00:10:00.720109Z",
     "start_time": "2020-05-03T00:09:48.733Z"
    }
   },
   "outputs": [],
   "source": [
    "df.index"
   ]
  },
  {
   "cell_type": "code",
   "execution_count": null,
   "metadata": {
    "ExecuteTime": {
     "end_time": "2020-05-03T00:10:00.720950Z",
     "start_time": "2020-05-03T00:09:48.734Z"
    }
   },
   "outputs": [],
   "source": [
    "ts = df['price']"
   ]
  },
  {
   "cell_type": "code",
   "execution_count": null,
   "metadata": {
    "ExecuteTime": {
     "end_time": "2020-05-03T00:10:00.721819Z",
     "start_time": "2020-05-03T00:09:48.736Z"
    },
    "scrolled": false
   },
   "outputs": [],
   "source": [
    "freq_codes = ['D','3D','W','M', 'Q']\n",
    "for freq in freq_codes:\n",
    "    plt.figure()\n",
    "    title=f\"Freq Code: {freq}\"\n",
    "    plt.legend()\n",
    "    ts.resample(freq).mean().plot(title=title)\n",
    "    \n",
    "ax = ts.resample('M').mean().plot(kind='bar')"
   ]
  },
  {
   "cell_type": "code",
   "execution_count": null,
   "metadata": {
    "ExecuteTime": {
     "end_time": "2020-05-03T00:10:00.722697Z",
     "start_time": "2020-05-03T00:09:48.737Z"
    }
   },
   "outputs": [],
   "source": [
    "\n",
    "ts.resample('D').mean().plot()"
   ]
  },
  {
   "cell_type": "code",
   "execution_count": null,
   "metadata": {},
   "outputs": [],
   "source": []
  },
  {
   "cell_type": "markdown",
   "metadata": {},
   "source": [
    "## Using Datetime objects and apply statemements"
   ]
  },
  {
   "cell_type": "code",
   "execution_count": null,
   "metadata": {
    "ExecuteTime": {
     "end_time": "2020-05-03T00:10:00.723555Z",
     "start_time": "2020-05-03T00:09:48.741Z"
    }
   },
   "outputs": [],
   "source": [
    "display(df.head())\n",
    "df.dtypes"
   ]
  },
  {
   "cell_type": "code",
   "execution_count": null,
   "metadata": {
    "ExecuteTime": {
     "end_time": "2020-05-03T00:10:00.724462Z",
     "start_time": "2020-05-03T00:09:48.742Z"
    }
   },
   "outputs": [],
   "source": [
    "t = df.index.to_series()[0]\n",
    "display(t)\n",
    "print(t)"
   ]
  },
  {
   "cell_type": "code",
   "execution_count": null,
   "metadata": {
    "ExecuteTime": {
     "end_time": "2020-05-03T00:10:00.725309Z",
     "start_time": "2020-05-03T00:09:48.744Z"
    }
   },
   "outputs": [],
   "source": [
    "# help(t.strptime)"
   ]
  },
  {
   "cell_type": "code",
   "execution_count": null,
   "metadata": {
    "ExecuteTime": {
     "end_time": "2020-05-03T00:10:00.726171Z",
     "start_time": "2020-05-03T00:09:48.745Z"
    },
    "scrolled": true
   },
   "outputs": [],
   "source": [
    "print(t.strftime(\"%m-%d-%Y\"))\n",
    "print(t.strftime(\"%T\"))"
   ]
  },
  {
   "cell_type": "code",
   "execution_count": null,
   "metadata": {
    "ExecuteTime": {
     "end_time": "2020-05-03T00:10:00.726989Z",
     "start_time": "2020-05-03T00:09:48.747Z"
    }
   },
   "outputs": [],
   "source": [
    "df.index"
   ]
  },
  {
   "cell_type": "code",
   "execution_count": null,
   "metadata": {
    "ExecuteTime": {
     "end_time": "2020-05-03T00:10:00.727923Z",
     "start_time": "2020-05-03T00:09:48.749Z"
    }
   },
   "outputs": [],
   "source": [
    "df['month'] = df.index.to_series().apply(lambda x: x.month)\n",
    "df.head()\n"
   ]
  },
  {
   "cell_type": "code",
   "execution_count": null,
   "metadata": {
    "ExecuteTime": {
     "end_time": "2020-05-03T00:10:00.728829Z",
     "start_time": "2020-05-03T00:09:48.751Z"
    },
    "scrolled": true
   },
   "outputs": [],
   "source": [
    "## Let's make a month column to groupby\n",
    "df['month_int'] = df.index.to_series().apply(lambda x: x.month) #x\n",
    "df['month_name'] =df.index.to_series().apply(lambda x:x.strftime(\"%B\"))\n",
    "\n",
    "for col in ['month_int','month_name']:\n",
    "    display(df[col].value_counts(normalize=True))"
   ]
  },
  {
   "cell_type": "code",
   "execution_count": null,
   "metadata": {
    "ExecuteTime": {
     "end_time": "2020-05-03T00:10:00.729637Z",
     "start_time": "2020-05-03T00:09:48.752Z"
    }
   },
   "outputs": [],
   "source": [
    "df.index.to_series().apply(lambda x: x.month)"
   ]
  },
  {
   "cell_type": "code",
   "execution_count": null,
   "metadata": {},
   "outputs": [],
   "source": []
  },
  {
   "cell_type": "code",
   "execution_count": null,
   "metadata": {
    "ExecuteTime": {
     "end_time": "2020-05-03T00:10:00.730500Z",
     "start_time": "2020-05-03T00:09:48.755Z"
    }
   },
   "outputs": [],
   "source": [
    "help(ax.xaxis.set_ticklabels)"
   ]
  },
  {
   "cell_type": "code",
   "execution_count": null,
   "metadata": {
    "ExecuteTime": {
     "end_time": "2020-05-03T00:10:00.731333Z",
     "start_time": "2020-05-03T00:09:48.756Z"
    }
   },
   "outputs": [],
   "source": [
    "fig = ax.get_figure()"
   ]
  },
  {
   "cell_type": "code",
   "execution_count": null,
   "metadata": {
    "ExecuteTime": {
     "end_time": "2020-05-03T00:10:00.732207Z",
     "start_time": "2020-05-03T00:09:48.758Z"
    }
   },
   "outputs": [],
   "source": [
    "ax.xaxis.set_ticklabels(ax.xaxis.get_ticklabels(),**{'rotation':45,\n",
    "                                                    'ha':'right'}) \n",
    "# ax.xaxis.set_major_locator(mpl.dates.AutoDateLocator())\n",
    "fig"
   ]
  }
 ],
 "metadata": {
  "kernelspec": {
   "display_name": "Python [conda env:learn-env] *",
   "language": "python",
   "name": "conda-env-learn-env-py"
  },
  "language_info": {
   "codemirror_mode": {
    "name": "ipython",
    "version": 3
   },
   "file_extension": ".py",
   "mimetype": "text/x-python",
   "name": "python",
   "nbconvert_exporter": "python",
   "pygments_lexer": "ipython3",
   "version": "3.6.9"
  },
  "toc": {
   "base_numbering": 1,
   "nav_menu": {},
   "number_sections": false,
   "sideBar": true,
   "skip_h1_title": false,
   "title_cell": "Table of Contents",
   "title_sidebar": "Contents",
   "toc_cell": false,
   "toc_position": {
    "height": "calc(100% - 180px)",
    "left": "10px",
    "top": "150px",
    "width": "284.427px"
   },
   "toc_section_display": true,
   "toc_window_display": false
  }
 },
 "nbformat": 4,
 "nbformat_minor": 2
}
