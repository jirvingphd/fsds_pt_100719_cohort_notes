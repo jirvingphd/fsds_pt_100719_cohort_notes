{
 "cells": [
  {
   "cell_type": "markdown",
   "metadata": {},
   "source": [
    "# Sec 32: Time Series Models Summary"
   ]
  },
  {
   "cell_type": "markdown",
   "metadata": {},
   "source": [
    "- From 12/20/19 study group\n"
   ]
  },
  {
   "cell_type": "markdown",
   "metadata": {},
   "source": [
    "## Notes Re: Break\n",
    "- We deployed Mod 5 for break.\n",
    "- We are going to have some unofficial study groups on:\n",
    "    - Deep Dive into Python\n",
    "    - Mod 4 Project (so far)\n",
    "    - Adding Code to Cohort Package"
   ]
  },
  {
   "cell_type": "code",
   "execution_count": null,
   "metadata": {},
   "outputs": [],
   "source": []
  },
  {
   "cell_type": "markdown",
   "metadata": {},
   "source": [
    "## Fixed Function for Mod 4 Project"
   ]
  },
  {
   "cell_type": "code",
   "execution_count": null,
   "metadata": {},
   "outputs": [],
   "source": [
    "def melt_data(df): #formerly called it melt_data_student with REED\n",
    "    melted = pd.melt(df, id_vars=['RegionID','RegionName', 'City', 'State', 'Metro', 'CountyName', \n",
    "                                  'SizeRank'], var_name='Month', value_name='MeanValue')\n",
    "    melted['Month'] = pd.to_datetime(melted['Month'], format='%Y-%m')\n",
    "    melted = melted.dropna(subset=['MeanValue'])\n",
    "    return melted"
   ]
  },
  {
   "cell_type": "markdown",
   "metadata": {},
   "source": [
    "## Learning Objectives\n",
    "- Reminder of `sect_31-32_intro_to_time_series_SG.ipynb` from last class.\n",
    "- Super- quick overview of ARIMA/ SARIMAs\n",
    "- Walkthrough of SARIMA Lab\n",
    "- Intro to Mod 4 Project"
   ]
  },
  {
   "cell_type": "markdown",
   "metadata": {},
   "source": [
    "# Basic Time Series"
   ]
  },
  {
   "cell_type": "code",
   "execution_count": 1,
   "metadata": {},
   "outputs": [
    {
     "name": "stdout",
     "output_type": "stream",
     "text": [
      "fsds_1007219  v0.5.9 loaded.  Read the docs: https://fsds.readthedocs.io/en/latest/ \n"
     ]
    },
    {
     "data": {
      "text/html": [
       "<style  type=\"text/css\" >\n",
       "</style><table id=\"T_c8ea10cc_22c8_11ea_83b1_4865ee12e626\" ><caption>Loaded Packages and Handles</caption><thead>    <tr>        <th class=\"col_heading level0 col0\" >Handle</th>        <th class=\"col_heading level0 col1\" >Package</th>        <th class=\"col_heading level0 col2\" >Description</th>    </tr></thead><tbody>\n",
       "                <tr>\n",
       "                                <td id=\"T_c8ea10cc_22c8_11ea_83b1_4865ee12e626row0_col0\" class=\"data row0 col0\" >dp</td>\n",
       "                        <td id=\"T_c8ea10cc_22c8_11ea_83b1_4865ee12e626row0_col1\" class=\"data row0 col1\" >IPython.display</td>\n",
       "                        <td id=\"T_c8ea10cc_22c8_11ea_83b1_4865ee12e626row0_col2\" class=\"data row0 col2\" >Display modules with helpful display and clearing commands.</td>\n",
       "            </tr>\n",
       "            <tr>\n",
       "                                <td id=\"T_c8ea10cc_22c8_11ea_83b1_4865ee12e626row1_col0\" class=\"data row1 col0\" >fs</td>\n",
       "                        <td id=\"T_c8ea10cc_22c8_11ea_83b1_4865ee12e626row1_col1\" class=\"data row1 col1\" >fsds_100719</td>\n",
       "                        <td id=\"T_c8ea10cc_22c8_11ea_83b1_4865ee12e626row1_col2\" class=\"data row1 col2\" >Custom data science bootcamp student package</td>\n",
       "            </tr>\n",
       "            <tr>\n",
       "                                <td id=\"T_c8ea10cc_22c8_11ea_83b1_4865ee12e626row2_col0\" class=\"data row2 col0\" >mpl</td>\n",
       "                        <td id=\"T_c8ea10cc_22c8_11ea_83b1_4865ee12e626row2_col1\" class=\"data row2 col1\" >matplotlib</td>\n",
       "                        <td id=\"T_c8ea10cc_22c8_11ea_83b1_4865ee12e626row2_col2\" class=\"data row2 col2\" >Matplotlib's base OOP module with formatting artists</td>\n",
       "            </tr>\n",
       "            <tr>\n",
       "                                <td id=\"T_c8ea10cc_22c8_11ea_83b1_4865ee12e626row3_col0\" class=\"data row3 col0\" >plt</td>\n",
       "                        <td id=\"T_c8ea10cc_22c8_11ea_83b1_4865ee12e626row3_col1\" class=\"data row3 col1\" >matplotlib.pyplot</td>\n",
       "                        <td id=\"T_c8ea10cc_22c8_11ea_83b1_4865ee12e626row3_col2\" class=\"data row3 col2\" >Matplotlib's matlab-like plotting module</td>\n",
       "            </tr>\n",
       "            <tr>\n",
       "                                <td id=\"T_c8ea10cc_22c8_11ea_83b1_4865ee12e626row4_col0\" class=\"data row4 col0\" >np</td>\n",
       "                        <td id=\"T_c8ea10cc_22c8_11ea_83b1_4865ee12e626row4_col1\" class=\"data row4 col1\" >numpy</td>\n",
       "                        <td id=\"T_c8ea10cc_22c8_11ea_83b1_4865ee12e626row4_col2\" class=\"data row4 col2\" >scientific computing with Python</td>\n",
       "            </tr>\n",
       "            <tr>\n",
       "                                <td id=\"T_c8ea10cc_22c8_11ea_83b1_4865ee12e626row5_col0\" class=\"data row5 col0\" >pd</td>\n",
       "                        <td id=\"T_c8ea10cc_22c8_11ea_83b1_4865ee12e626row5_col1\" class=\"data row5 col1\" >pandas</td>\n",
       "                        <td id=\"T_c8ea10cc_22c8_11ea_83b1_4865ee12e626row5_col2\" class=\"data row5 col2\" >High performance data structures and tools</td>\n",
       "            </tr>\n",
       "            <tr>\n",
       "                                <td id=\"T_c8ea10cc_22c8_11ea_83b1_4865ee12e626row6_col0\" class=\"data row6 col0\" >sns</td>\n",
       "                        <td id=\"T_c8ea10cc_22c8_11ea_83b1_4865ee12e626row6_col1\" class=\"data row6 col1\" >seaborn</td>\n",
       "                        <td id=\"T_c8ea10cc_22c8_11ea_83b1_4865ee12e626row6_col2\" class=\"data row6 col2\" >High-level data visualization library based on matplotlib</td>\n",
       "            </tr>\n",
       "    </tbody></table>"
      ],
      "text/plain": [
       "<pandas.io.formats.style.Styler at 0x129fafcc0>"
      ]
     },
     "metadata": {},
     "output_type": "display_data"
    }
   ],
   "source": [
    "!pip install -U fsds_100719\n",
    "from fsds_100719.imports import *"
   ]
  },
  {
   "cell_type": "markdown",
   "metadata": {
    "heading_collapsed": true
   },
   "source": [
    "## White Noise"
   ]
  },
  {
   "cell_type": "markdown",
   "metadata": {
    "hidden": true
   },
   "source": [
    "The white noise model has three properties:\n",
    "\n",
    "- There is a fixed and constant mean\n",
    "- There is a fixed and constant variance\n",
    "- There is no correlation over time (we'll talk about correlation in time series later, essentially, what this means is that the pattern seems truly \"random).\n",
    "\n",
    "A special case of a White Noise model is Gaussian White Noise, where the constant mean is equal to zero, and the constant variance is equal to 1."
   ]
  },
  {
   "cell_type": "code",
   "execution_count": 7,
   "metadata": {
    "hidden": true
   },
   "outputs": [],
   "source": [
    "mpl.rcParams['figure.figsize'] = (10,3)"
   ]
  },
  {
   "cell_type": "code",
   "execution_count": 8,
   "metadata": {
    "hidden": true
   },
   "outputs": [
    {
     "data": {
      "text/plain": [
       "<matplotlib.axes._subplots.AxesSubplot at 0x12c3942e8>"
      ]
     },
     "execution_count": 8,
     "metadata": {},
     "output_type": "execute_result"
    },
    {
     "data": {
      "image/png": "[encoded data removed]",
      "text/plain": [
       "<Figure size 720x216 with 1 Axes>"
      ]
     },
     "metadata": {
      "needs_background": "light"
     },
     "output_type": "display_data"
    }
   ],
   "source": [
    "nyse = fs.datasets.load_ts_nyse_monthly(read_csv_kwds={'parse_dates':True,\n",
    "                                                     'index_col':'Month'})\n",
    "nyse.plot()"
   ]
  },
  {
   "cell_type": "markdown",
   "metadata": {
    "heading_collapsed": true
   },
   "source": [
    "## Random Walk\n",
    "\n",
    "- Has no specified mean or variance\n",
    "- Has a strong dependence over time\n",
    "\n",
    "The changes over time are basically a white noise model. Mathematically, this can be written as:\n",
    "\n",
    "$$\\large Y_t = Y_{t-1} + \\epsilon_t$$\n",
    "\n",
    "Where $\\epsilon_t$ is a *mean zero* white noise model!"
   ]
  },
  {
   "cell_type": "code",
   "execution_count": null,
   "metadata": {
    "hidden": true
   },
   "outputs": [],
   "source": [
    "xr = fs.datasets.load_ts_exch_rates()#pd.read_csv(\"exch_rates.csv\")\n",
    "xr['Euro'].plot(figsize = (14,5));\n",
    "xr['Australian Dollar'].plot(figsize = (14,5));"
   ]
  },
  {
   "cell_type": "markdown",
   "metadata": {
    "hidden": true
   },
   "source": []
  },
  {
   "cell_type": "markdown",
   "metadata": {
    "hidden": true
   },
   "source": [
    "### Random Walk with a Drift"
   ]
  },
  {
   "cell_type": "markdown",
   "metadata": {
    "hidden": true
   },
   "source": [
    "\n",
    "$$\\large Y_t = c+ Y_{t-1} + \\epsilon_t$$\n",
    "\n",
    "Here, there is a drift parameter $c$ steering in a certain direction! You'll get more insight in what a Random Walk model looks like in the lab that follows!"
   ]
  },
  {
   "cell_type": "code",
   "execution_count": null,
   "metadata": {
    "hidden": true
   },
   "outputs": [],
   "source": []
  },
  {
   "cell_type": "markdown",
   "metadata": {},
   "source": [
    "# ARMA MODELS"
   ]
  },
  {
   "cell_type": "markdown",
   "metadata": {},
   "source": [
    "## Autoregressive Model (AR)\n"
   ]
  },
  {
   "cell_type": "markdown",
   "metadata": {},
   "source": [
    "\n",
    "An autoregressive (AR) model is when a value from a time series is regressed on previous values from the same time series.\n",
    "\n",
    "In words, the mathematical idea is the following:\n",
    "\n",
    "$$ \\text{Today = constant + slope} \\times \\text{yesterday + noise} $$\n",
    "\n",
    "Or, mathematically:\n",
    "$$\\large Y_t = \\mu + \\phi * Y_{t-1}+\\epsilon_t$$\n",
    "\n",
    "Some notes based on this formula:\n",
    "- If the slope is 0, the time series is a white noise model with mean $\\mu$\n",
    "- If the slope is not 0, the time series is autocorrelated\n",
    "- Bigger slope means bigger autocorrelation\n",
    "- When there is a negative slope, the time series follows an oscillatory process\n"
   ]
  },
  {
   "cell_type": "markdown",
   "metadata": {},
   "source": [
    "## The  Moving Average Model\n"
   ]
  },
  {
   "cell_type": "markdown",
   "metadata": {},
   "source": [
    "\n",
    "\n",
    "The Moving Average model can be described as the weighted sum of today's and yesterday's noise.\n",
    "\n",
    "In words, the mathematical idea is the following:\n",
    "\n",
    "$$ \\text{Today = Mean + Noise + Slope} \\times \\text{yesterday's noise} $$\n",
    "\n",
    "Or, mathematically:\n",
    "$$\\large Y_t = \\mu +\\epsilon_t + \\theta * \\epsilon_{t-1}$$\n",
    "\n",
    "Some notes based on this formula:\n",
    "- If the slope is 0, the time series is a white noise model with mean $\\mu$\n",
    "- If the slope is not 0, the time series is autocorrelated and depends on the previous white noise process\n",
    "- Bigger slope means bigger autocorrelation\n",
    "- When there is a negative slope, the time series follow an oscillatory process\n"
   ]
  },
  {
   "cell_type": "code",
   "execution_count": null,
   "metadata": {},
   "outputs": [],
   "source": []
  },
  {
   "cell_type": "markdown",
   "metadata": {},
   "source": [
    "## Higher-order AR and MA models\n"
   ]
  },
  {
   "cell_type": "markdown",
   "metadata": {},
   "source": [
    "\n",
    "\n",
    "Let's look at the formulas of AR and MA again:\n",
    "\n",
    "- AR: $Y_t = \\mu + \\phi * Y_{t-1}+\\epsilon_t$\n",
    "- MA: $Y_t = \\mu +\\epsilon_t + \\theta * \\epsilon_{t-1}$\n",
    "\n",
    "Note that these models are constructed in a way that processes only depend directly on the previous observation in the process. These models are so-called \"1st order models\", and denoted by AR(1) and MA(1) processes respectively. Let's look at AR(2) and MA(2).\n",
    "\n",
    "- AR(2): $Y_t = \\mu + \\phi_1 * Y_{t-1}+\\phi_2 * Y_{t-2}+\\epsilon_t$\n",
    "- MA(2): $Y_t = \\mu +\\epsilon_t + \\theta_1 * \\epsilon_{t-1}+ \\theta_2 * \\epsilon_{t-2}$\n",
    "\n"
   ]
  },
  {
   "cell_type": "markdown",
   "metadata": {},
   "source": [
    "\n",
    "## ACF and PACF intuition for AR(p) and MA(q)\n",
    "\n",
    "A quick overview of how higher order models affect the ACF and PACF functions\n",
    "\n",
    "### AR(p)\n",
    "\n",
    "Considering a time series that was generated by an autoregression (AR) process with an order of p, we would expect the ACF plot for the AR(p) time series to be strong to a lag of p and remain stagnant for subsequent lag values, trailing off at some point as the effect is weakened. The PACF, on the other hand, describes the direct relationship between an observation and its lag. This generally leads to no correlation for lag values beyond p.\n",
    "\n",
    "### MA(q)\n",
    "\n",
    "With a time series generated by a moving average (MA) process with an order q, we would expect the ACF for the MA(q) process to show a strong correlation with recent values up to the lag of q, then an immediate decline to minimal or no correlation. For the PACF, we would expect the plot to show a strong relationship to the lag and then a tailing off to no correlation from the lag onwards.\n",
    "\n",
    "\n",
    "## ARMA models\n",
    "\n",
    "Now that we've seen AR and MA models, it is important to note that **there is no reason why AR and MA models would not coexist**. That's where ARMA models come in, which basically means that in this model, a regression on past values takes place (AR part) and also that the error term is modeled as a linear combination of error terms of the recent past (MA part).\n",
    "Generally, one denotes ARMA as ARMA(p,q).\n",
    "\n",
    "An ARMA(2,1) model is given by:\n",
    "\n",
    "\n",
    " $$Y_t = \\mu + \\phi_1 Y_{t-1}+\\phi_2 Y_{t-2}+ \\theta \\epsilon_{t-1}+\\epsilon_t$$\n",
    "\n",
    "\n",
    "A short table to summarize ACF and PACF for AR(p), MA(q) and ARMA(p,q):\n",
    "\n",
    "\n",
    "| Stat | AR(p)   |   MA(q)  | ARMA(p,q)|\n",
    "|------|------|------|------|\n",
    "|   ACF | Tails off   |  Cuts off after lag q |  Tails off   |\n",
    "|   PACF | Cuts off after lag p  |   Tails off  |  Tails off  |"
   ]
  },
  {
   "cell_type": "markdown",
   "metadata": {},
   "source": [
    "# ARIMA MODELS:\n",
    "___"
   ]
  },
  {
   "cell_type": "markdown",
   "metadata": {},
   "source": [
    "## The ARIMA Time Series Model\n",
    "\n",
    "One of the most common methods used in time series forecasting is known as the ARIMA model, which stands for **AutoregRessive Integrated Moving Average**. ARIMA is a model that can be fitted to time series data in order to better understand or predict future points in the series.\n",
    "\n",
    "Let's have a quick introduction to ARIMA. The ARIMA forecasting for a stationary time series is nothing but a linear (like a linear regression) equation. The predictors depend on the parameters (p,d,q) of the ARIMA model:\n",
    "\n",
    "### Number of AR (Auto-Regressive) terms (p): \n",
    "\n",
    "`p` is the auto-regressive part of the model. It allows us to incorporate the effect of past values into our model. Intuitively, this would be similar to stating that it is likely to rain tomorrow if it has been raining for past 3 days. AR terms are just lags of dependent variable. For instance if p is 5, the predictors for x(t) will be x(t-1)….x(t-5).\n",
    "\n",
    "### Number of Differences (d):\n",
    "\n",
    "`d` is the **Integrated** component of an ARIMA model. This value is concerned with the amount of differencing as it identifies the number of lag values to subtract from the current observation. Intuitively, this would be similar to stating that it is likely to rain tomorrow if the difference in amount of rain in the last *n* days is small. \n",
    "\n",
    "### Number of MA (Moving Average) terms (q): \n",
    "\n",
    "`q` is the moving average part of the model which is used to set the error of the model as a linear combination of the error values observed at previous time points in the past. MA terms form lagged forecast errors in prediction equation. For instance if q is 5, the predictors for x(t) will be e(t-1)….e(t-5) where `e(i)` is the difference between the moving average at ith instant and actual value.\n",
    "\n",
    "These three distinct integer values, (p, d, q), are used to parametrize ARIMA models. Because of that, ARIMA models are denoted with the notation `ARIMA(p, d, q)`. Together these three parameters account for seasonality, trend, and noise in datasets:\n",
    "\n",
    "* `(p, d, q)` are the non-seasonal parameters described above.\n",
    "* `(P, D, Q)` follow the same definition but are applied to the seasonal component of the time series. \n",
    "* The term `s` is the periodicity of the time series (4 for quarterly periods, 12 for yearly periods, etc.).\n",
    "\n",
    "A detailed article on these parameters is available [HERE](https://www.quantstart.com/articles/Autoregressive-Integrated-Moving-Average-ARIMA-p-d-q-Models-for-Time-Series-Analysis).\n",
    "\n",
    "The seasonal ARIMA method can appear daunting because of the multiple tuning parameters involved. In the next section, we will describe how to automate the process of identifying the optimal set of parameters for the seasonal ARIMA time series model."
   ]
  },
  {
   "cell_type": "markdown",
   "metadata": {},
   "source": [
    "### Parameter Selection for the ARIMA Time Series Model\n"
   ]
  },
  {
   "cell_type": "markdown",
   "metadata": {},
   "source": [
    "The first step towards fitting an ARIMA model is to find the values of `ARIMA(p,d,q)(P,D,Q)s` that produce the desired output. Selection of these parameters requires domain expertise and time.  We shall first generate small ranges of these parameters and use a \"grid search\" to iteratively explore different combinations of parameters. For each combination of parameters, we fit a new seasonal ARIMA model with the `SARIMAX()` function from the statsmodels module and assess its overall quality. \n",
    "\n",
    "`SARIMAX` detailed documentation can be viewed [here](https://www.statsmodels.org/dev/generated/statsmodels.tsa.statespace.sarimax.SARIMAX.html)\n",
    "\n",
    "Let's begin by generating example combination of parameters that we wish to use.\n",
    "\n",
    "1. Define p,q and d parameters to take any value from 0/1 using `range()` function. (Note: We can try larger values which can make our model computationally expensive to run, you can try this as an additional experiment)\n",
    "\n",
    "2. Generate combinations for `(p,d,q)` using `itertools.product`.\n",
    "3. Similarly, generate seasonal combinations as `(p,d,q)s`. Use s = 12 (constant)\n",
    "4. Print some example combinations for seasonal ARIMA"
   ]
  },
  {
   "cell_type": "markdown",
   "metadata": {},
   "source": [
    "## AIC (Akaike Information Criterion) as Regularization Measure\n"
   ]
  },
  {
   "cell_type": "markdown",
   "metadata": {},
   "source": [
    "For evaluating the model, we shall use the AIC (Akaike Information Criterion) value, which is provided by ARIMA models fitted using `statsmodels` library. The Akaike information criterion (AIC) is an estimator of the relative quality of statistical models for a given set of data. Given a collection of models for the data, AIC estimates the quality of each model, relative to each of the other models. Thus, AIC provides a means for model selection. \n",
    "\n",
    "A model that fits the data very well while using lots of features will be assigned a larger AIC score than a model that uses fewer features to achieve the same goodness-of-fit. Therefore, we are interested in finding the model that yields the lowest AIC value. To achieve this, perform following tasks:\n",
    "\n",
    "1. Initialize an empty list to store results\n",
    "2. iterate through all the paramaters in pdq with parameters in seasonal pdq (nested loop ) to create a grid\n",
    "3. Run `SARIMAX` from statsmodels for each iteration. Details can be found [HERE](https://www.statsmodels.org/dev/generated/statsmodels.tsa.statespace.sarimax.SARIMAX.html). Set `enforce_stationarity` and `enforce_invertibility` to False. \n",
    "4. Get the results in each iteration with `model.fit()` and store the AIC values. \n",
    "5. Find the lowest AIC and select parameters for further analysis. \n",
    "\n",
    "NOTE: \n",
    "* Integrate exception handling with `continue`. \n",
    "* An overview of Akaike Information Criterion can be viewed [HERE](http://www.statisticshowto.com/akaikes-information-criterion/)\n",
    "\n"
   ]
  },
  {
   "cell_type": "code",
   "execution_count": null,
   "metadata": {},
   "outputs": [],
   "source": []
  },
  {
   "cell_type": "code",
   "execution_count": null,
   "metadata": {},
   "outputs": [],
   "source": []
  },
  {
   "cell_type": "code",
   "execution_count": null,
   "metadata": {},
   "outputs": [],
   "source": []
  },
  {
   "cell_type": "code",
   "execution_count": null,
   "metadata": {},
   "outputs": [],
   "source": [
    "# assuming your time series are stored in an object \"series\"\n",
    "# Import the ARMA module from statsmodels\n",
    "from statsmodels.tsa.arima_model import ARMA\n",
    "import statsmodels.api as sm\n",
    "\n",
    "# Fit an MA(1) model to the first simulated data\n",
    "mod_arma = ARMA(series, order=(1,0))\n",
    "res_arma = mod_arma.fit()\n",
    "\n",
    "# Print out summary information on the fit\n",
    "print(res_arma.summary())\n",
    "\n",
    "# Print out the estimate for the constant and for theta\n",
    "print(res_arma.params)"
   ]
  }
 ],
 "metadata": {
  "kernelspec": {
   "display_name": "Python [conda env:learn-env] *",
   "language": "python",
   "name": "conda-env-learn-env-py"
  },
  "language_info": {
   "codemirror_mode": {
    "name": "ipython",
    "version": 3
   },
   "file_extension": ".py",
   "mimetype": "text/x-python",
   "name": "python",
   "nbconvert_exporter": "python",
   "pygments_lexer": "ipython3",
   "version": "3.6.9"
  },
  "toc": {
   "base_numbering": 1,
   "nav_menu": {},
   "number_sections": false,
   "sideBar": true,
   "skip_h1_title": false,
   "title_cell": "Table of Contents",
   "title_sidebar": "Contents",
   "toc_cell": false,
   "toc_position": {},
   "toc_section_display": true,
   "toc_window_display": true
  }
 },
 "nbformat": 4,
 "nbformat_minor": 2
}
