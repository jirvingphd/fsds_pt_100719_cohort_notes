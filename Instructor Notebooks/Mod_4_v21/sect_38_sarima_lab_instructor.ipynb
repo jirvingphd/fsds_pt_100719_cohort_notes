{
 "cells": [
  {
   "cell_type": "markdown",
   "metadata": {},
   "source": [
    "# SARIMA Models - Lab\n",
    "https://github.com/jirvingphd/dsc-sarima-models-lab-online-ds-pt-100719/tree/solution"
   ]
  },
  {
   "cell_type": "markdown",
   "metadata": {},
   "source": [
    "## Introduction\n",
    "\n",
    "In this lesson, we'll reiterate what you learned previously, and talk about **integrated** models (hence ARIMA, which means as much as **integrated** ARMA), and extend to models that can cope with seasonality of time series.\n",
    "\n",
    "## Objectives\n",
    "\n",
    "You will be able to: \n",
    "\n",
    "* Demonstrate a conceptual understanding of ARIMA modeling components for time-series forecasting\n",
    "* Preprocess the data to meet ARIMA based forecasting assumptions\n",
    "* Identify best model parameters using grid search for p,d,q and seasonal p,d,q parameters\n",
    "* Evaluate the ARIMA model with validation testing\n",
    "* Predict and visualize future values and calculate confidence level for the predictions \n",
    "\n",
    "## ARIMA\n",
    "\n",
    "Time series provide the opportunity to predict/forecast future values based on previous values. Such analyses can be used to forecast trends in economics, weather, and capacity planning etc. The specific properties of time-series data mean that specialized statistical methods are usually required.\n",
    "\n",
    "So far, we have seen different techniques to make time series stationary, as well as White Noise, Moving Average, AR, MA and ARMA models. Now recall that your data needs to be detrended (or made **stationary**) before you can go along and use ARMA models. This is because it is easier to add trends and seasonality back in after you modeled your data. Now there are several issues with ARMA:\n",
    "\n",
    "- ARMA models assume that the detrending already happened\n",
    "- ARMA neglects that seasonality can happen\n",
    "\n",
    "Let's summarize what we can observe when having time series in three situations:\n",
    "\n",
    "1. A strictly stationary series with no dependence among the values. This is the easy case wherein we can model the residuals as white noise. But this is very rare.\n",
    "\n",
    "2. A non-stationary series with significant dependence among values, but no seasonality. In this case we can use ARMA models after we detrended, or we can use an **integrated** ARMA model that detrends for us.\n",
    "\n",
    "3. A non-stationary series with significant dependence among values, **and** seasonality. In this case we can use a seasonal arima or SARIMA model.\n",
    "\n",
    "In this tutorial, we aim to produce reliable forecasts of a given time series by applying one of the most commonly used method for time series forecasting: ARIMA. After that we'll talk about seasonality and how to cope with it. \n",
    "\n",
    "One of the methods available in Python to model and predict future points of a time series is known as SARIMAX, which stands for **Seasonal AutoRegressive Integrated Moving Averages with eXogenous regressors**. Here, we will primarily focus on the **ARIMA** component, which is used to fit time-series data to better understand and forecast future points in the time series.\n",
    "\n",
    "## Dataset\n",
    "\n",
    "For this lab we shall use the dataset that we have seen before - \"Atmospheric CO2 from Continuous Air Samples at Mauna Loa Observatory, Hawaii, U.S.A.,\" which collected CO2 samples from March 1958 to December 2001. Let's bring in this data and plot as demonstrated earlier. You will need to perform following tasks.\n",
    "\n",
    "1. Import necessary libraries\n",
    "2. import the CO2 dataset from `statsmodels`\n",
    "3. Resample the data as monthly groups and take monthly average\n",
    "4. Fill in the missing values with `Pandas.bfill()`\n",
    "5. Plot the time series and inspect the head of data "
   ]
  },
  {
   "cell_type": "code",
   "execution_count": 2,
   "metadata": {},
   "outputs": [
    {
     "name": "stdout",
     "output_type": "stream",
     "text": [
      "fsds_1007219  v0.5.11 loaded.  Read the docs: https://fsds.readthedocs.io/en/latest/ \n"
     ]
    },
    {
     "data": {
      "text/html": [
       "<style  type=\"text/css\" >\n",
       "</style><table id=\"T_0fc79b98_2342_11ea_bd8b_acde48001122\" ><caption>Loaded Packages and Handles</caption><thead>    <tr>        <th class=\"col_heading level0 col0\" >Handle</th>        <th class=\"col_heading level0 col1\" >Package</th>        <th class=\"col_heading level0 col2\" >Description</th>    </tr></thead><tbody>\n",
       "                <tr>\n",
       "                                <td id=\"T_0fc79b98_2342_11ea_bd8b_acde48001122row0_col0\" class=\"data row0 col0\" >dp</td>\n",
       "                        <td id=\"T_0fc79b98_2342_11ea_bd8b_acde48001122row0_col1\" class=\"data row0 col1\" >IPython.display</td>\n",
       "                        <td id=\"T_0fc79b98_2342_11ea_bd8b_acde48001122row0_col2\" class=\"data row0 col2\" >Display modules with helpful display and clearing commands.</td>\n",
       "            </tr>\n",
       "            <tr>\n",
       "                                <td id=\"T_0fc79b98_2342_11ea_bd8b_acde48001122row1_col0\" class=\"data row1 col0\" >fs</td>\n",
       "                        <td id=\"T_0fc79b98_2342_11ea_bd8b_acde48001122row1_col1\" class=\"data row1 col1\" >fsds_100719</td>\n",
       "                        <td id=\"T_0fc79b98_2342_11ea_bd8b_acde48001122row1_col2\" class=\"data row1 col2\" >Custom data science bootcamp student package</td>\n",
       "            </tr>\n",
       "            <tr>\n",
       "                                <td id=\"T_0fc79b98_2342_11ea_bd8b_acde48001122row2_col0\" class=\"data row2 col0\" >mpl</td>\n",
       "                        <td id=\"T_0fc79b98_2342_11ea_bd8b_acde48001122row2_col1\" class=\"data row2 col1\" >matplotlib</td>\n",
       "                        <td id=\"T_0fc79b98_2342_11ea_bd8b_acde48001122row2_col2\" class=\"data row2 col2\" >Matplotlib's base OOP module with formatting artists</td>\n",
       "            </tr>\n",
       "            <tr>\n",
       "                                <td id=\"T_0fc79b98_2342_11ea_bd8b_acde48001122row3_col0\" class=\"data row3 col0\" >plt</td>\n",
       "                        <td id=\"T_0fc79b98_2342_11ea_bd8b_acde48001122row3_col1\" class=\"data row3 col1\" >matplotlib.pyplot</td>\n",
       "                        <td id=\"T_0fc79b98_2342_11ea_bd8b_acde48001122row3_col2\" class=\"data row3 col2\" >Matplotlib's matlab-like plotting module</td>\n",
       "            </tr>\n",
       "            <tr>\n",
       "                                <td id=\"T_0fc79b98_2342_11ea_bd8b_acde48001122row4_col0\" class=\"data row4 col0\" >np</td>\n",
       "                        <td id=\"T_0fc79b98_2342_11ea_bd8b_acde48001122row4_col1\" class=\"data row4 col1\" >numpy</td>\n",
       "                        <td id=\"T_0fc79b98_2342_11ea_bd8b_acde48001122row4_col2\" class=\"data row4 col2\" >scientific computing with Python</td>\n",
       "            </tr>\n",
       "            <tr>\n",
       "                                <td id=\"T_0fc79b98_2342_11ea_bd8b_acde48001122row5_col0\" class=\"data row5 col0\" >pd</td>\n",
       "                        <td id=\"T_0fc79b98_2342_11ea_bd8b_acde48001122row5_col1\" class=\"data row5 col1\" >pandas</td>\n",
       "                        <td id=\"T_0fc79b98_2342_11ea_bd8b_acde48001122row5_col2\" class=\"data row5 col2\" >High performance data structures and tools</td>\n",
       "            </tr>\n",
       "            <tr>\n",
       "                                <td id=\"T_0fc79b98_2342_11ea_bd8b_acde48001122row6_col0\" class=\"data row6 col0\" >sns</td>\n",
       "                        <td id=\"T_0fc79b98_2342_11ea_bd8b_acde48001122row6_col1\" class=\"data row6 col1\" >seaborn</td>\n",
       "                        <td id=\"T_0fc79b98_2342_11ea_bd8b_acde48001122row6_col2\" class=\"data row6 col2\" >High-level data visualization library based on matplotlib</td>\n",
       "            </tr>\n",
       "    </tbody></table>"
      ],
      "text/plain": [
       "<pandas.io.formats.style.Styler at 0x12a651d68>"
      ]
     },
     "metadata": {},
     "output_type": "display_data"
    }
   ],
   "source": [
    "!pip install -U fsds_100719\n",
    "from fsds_100719.imports import *"
   ]
  },
  {
   "cell_type": "code",
   "execution_count": 11,
   "metadata": {},
   "outputs": [],
   "source": [
    "# Import necessary libraries\n",
    "import statsmodels.api as sm\n",
    "import itertools\n",
    "\n",
    "## Filter waarnigns\n",
    "import warnings\n",
    "warnings.filterwarnings('ignore')\n",
    "\n",
    "## notebook visuals defaults\n",
    "from matplotlib import rcParams\n",
    "plt.style.use('dark_background')\n",
    "rcParams['figure.figsize']=(12,4)\n",
    "\n",
    "# import pandas as pd\n",
    "# import numpy as np\n",
    "# import matplotlib.pyplot as plt\n",
    "# from matplotlib.pylab import rcParams\n"
   ]
  },
  {
   "cell_type": "code",
   "execution_count": 12,
   "metadata": {},
   "outputs": [
    {
     "data": {
      "text/html": [
       "<div>\n",
       "<style scoped>\n",
       "    .dataframe tbody tr th:only-of-type {\n",
       "        vertical-align: middle;\n",
       "    }\n",
       "\n",
       "    .dataframe tbody tr th {\n",
       "        vertical-align: top;\n",
       "    }\n",
       "\n",
       "    .dataframe thead th {\n",
       "        text-align: right;\n",
       "    }\n",
       "</style>\n",
       "<table border=\"1\" class=\"dataframe\">\n",
       "  <thead>\n",
       "    <tr style=\"text-align: right;\">\n",
       "      <th></th>\n",
       "      <th>index</th>\n",
       "      <th>co2</th>\n",
       "    </tr>\n",
       "  </thead>\n",
       "  <tbody>\n",
       "    <tr>\n",
       "      <td>0</td>\n",
       "      <td>1958-03-29</td>\n",
       "      <td>316.1</td>\n",
       "    </tr>\n",
       "    <tr>\n",
       "      <td>1</td>\n",
       "      <td>1958-04-05</td>\n",
       "      <td>317.3</td>\n",
       "    </tr>\n",
       "    <tr>\n",
       "      <td>2</td>\n",
       "      <td>1958-04-12</td>\n",
       "      <td>317.6</td>\n",
       "    </tr>\n",
       "    <tr>\n",
       "      <td>3</td>\n",
       "      <td>1958-04-19</td>\n",
       "      <td>317.5</td>\n",
       "    </tr>\n",
       "    <tr>\n",
       "      <td>4</td>\n",
       "      <td>1958-04-26</td>\n",
       "      <td>316.4</td>\n",
       "    </tr>\n",
       "    <tr>\n",
       "      <td>...</td>\n",
       "      <td>...</td>\n",
       "      <td>...</td>\n",
       "    </tr>\n",
       "    <tr>\n",
       "      <td>2279</td>\n",
       "      <td>2001-12-01</td>\n",
       "      <td>370.3</td>\n",
       "    </tr>\n",
       "    <tr>\n",
       "      <td>2280</td>\n",
       "      <td>2001-12-08</td>\n",
       "      <td>370.8</td>\n",
       "    </tr>\n",
       "    <tr>\n",
       "      <td>2281</td>\n",
       "      <td>2001-12-15</td>\n",
       "      <td>371.2</td>\n",
       "    </tr>\n",
       "    <tr>\n",
       "      <td>2282</td>\n",
       "      <td>2001-12-22</td>\n",
       "      <td>371.3</td>\n",
       "    </tr>\n",
       "    <tr>\n",
       "      <td>2283</td>\n",
       "      <td>2001-12-29</td>\n",
       "      <td>371.5</td>\n",
       "    </tr>\n",
       "  </tbody>\n",
       "</table>\n",
       "<p>2284 rows × 2 columns</p>\n",
       "</div>"
      ],
      "text/plain": [
       "          index    co2\n",
       "0    1958-03-29  316.1\n",
       "1    1958-04-05  317.3\n",
       "2    1958-04-12  317.6\n",
       "3    1958-04-19  317.5\n",
       "4    1958-04-26  316.4\n",
       "...         ...    ...\n",
       "2279 2001-12-01  370.3\n",
       "2280 2001-12-08  370.8\n",
       "2281 2001-12-15  371.2\n",
       "2282 2001-12-22  371.3\n",
       "2283 2001-12-29  371.5\n",
       "\n",
       "[2284 rows x 2 columns]"
      ]
     },
     "execution_count": 12,
     "metadata": {},
     "output_type": "execute_result"
    }
   ],
   "source": [
    "dataset  = sm.datasets.co2.load().data\n",
    "df = pd.DataFrame(dataset)\n",
    "df"
   ]
  },
  {
   "cell_type": "code",
   "execution_count": 14,
   "metadata": {},
   "outputs": [
    {
     "data": {
      "text/plain": [
       "DatetimeIndex(['1958-03-29', '1958-04-05', '1958-04-12', '1958-04-19',\n",
       "               '1958-04-26', '1958-05-03', '1958-05-10', '1958-05-17',\n",
       "               '1958-05-24', '1958-05-31',\n",
       "               ...\n",
       "               '2001-10-27', '2001-11-03', '2001-11-10', '2001-11-17',\n",
       "               '2001-11-24', '2001-12-01', '2001-12-08', '2001-12-15',\n",
       "               '2001-12-22', '2001-12-29'],\n",
       "              dtype='datetime64[ns]', name='date', length=2284, freq=None)"
      ]
     },
     "execution_count": 14,
     "metadata": {},
     "output_type": "execute_result"
    }
   ],
   "source": [
    "df['date'] = pd.to_datetime(df['index'])\n",
    "df.set_index('date',inplace=True)\n",
    "df.index"
   ]
  },
  {
   "cell_type": "code",
   "execution_count": 15,
   "metadata": {},
   "outputs": [
    {
     "data": {
      "text/plain": [
       "DatetimeIndex(['1958-03-29', '1958-04-05', '1958-04-12', '1958-04-19',\n",
       "               '1958-04-26', '1958-05-03', '1958-05-10', '1958-05-17',\n",
       "               '1958-05-24', '1958-05-31',\n",
       "               ...\n",
       "               '2001-10-27', '2001-11-03', '2001-11-10', '2001-11-17',\n",
       "               '2001-11-24', '2001-12-01', '2001-12-08', '2001-12-15',\n",
       "               '2001-12-22', '2001-12-29'],\n",
       "              dtype='datetime64[ns]', name='date', length=2284, freq='W-SAT')"
      ]
     },
     "execution_count": 15,
     "metadata": {},
     "output_type": "execute_result"
    }
   ],
   "source": [
    "df = df.asfreq('W-SAT') \n",
    "df.index"
   ]
  },
  {
   "cell_type": "code",
   "execution_count": 16,
   "metadata": {},
   "outputs": [
    {
     "data": {
      "text/plain": [
       "index     0\n",
       "co2      59\n",
       "dtype: int64"
      ]
     },
     "execution_count": 16,
     "metadata": {},
     "output_type": "execute_result"
    }
   ],
   "source": [
    "df.isna().sum()"
   ]
  },
  {
   "cell_type": "code",
   "execution_count": null,
   "metadata": {},
   "outputs": [],
   "source": []
  },
  {
   "cell_type": "code",
   "execution_count": null,
   "metadata": {},
   "outputs": [],
   "source": []
  },
  {
   "cell_type": "code",
   "execution_count": 7,
   "metadata": {},
   "outputs": [
    {
     "data": {
      "text/html": [
       "<div>\n",
       "<style scoped>\n",
       "    .dataframe tbody tr th:only-of-type {\n",
       "        vertical-align: middle;\n",
       "    }\n",
       "\n",
       "    .dataframe tbody tr th {\n",
       "        vertical-align: top;\n",
       "    }\n",
       "\n",
       "    .dataframe thead th {\n",
       "        text-align: right;\n",
       "    }\n",
       "</style>\n",
       "<table border=\"1\" class=\"dataframe\">\n",
       "  <thead>\n",
       "    <tr style=\"text-align: right;\">\n",
       "      <th></th>\n",
       "      <th>co2</th>\n",
       "    </tr>\n",
       "    <tr>\n",
       "      <th>date</th>\n",
       "      <th></th>\n",
       "    </tr>\n",
       "  </thead>\n",
       "  <tbody>\n",
       "    <tr>\n",
       "      <td>1958-03-29</td>\n",
       "      <td>316.1</td>\n",
       "    </tr>\n",
       "    <tr>\n",
       "      <td>1958-04-05</td>\n",
       "      <td>317.3</td>\n",
       "    </tr>\n",
       "    <tr>\n",
       "      <td>1958-04-12</td>\n",
       "      <td>317.6</td>\n",
       "    </tr>\n",
       "    <tr>\n",
       "      <td>1958-04-19</td>\n",
       "      <td>317.5</td>\n",
       "    </tr>\n",
       "    <tr>\n",
       "      <td>1958-04-26</td>\n",
       "      <td>316.4</td>\n",
       "    </tr>\n",
       "    <tr>\n",
       "      <td>...</td>\n",
       "      <td>...</td>\n",
       "    </tr>\n",
       "    <tr>\n",
       "      <td>2001-12-01</td>\n",
       "      <td>370.3</td>\n",
       "    </tr>\n",
       "    <tr>\n",
       "      <td>2001-12-08</td>\n",
       "      <td>370.8</td>\n",
       "    </tr>\n",
       "    <tr>\n",
       "      <td>2001-12-15</td>\n",
       "      <td>371.2</td>\n",
       "    </tr>\n",
       "    <tr>\n",
       "      <td>2001-12-22</td>\n",
       "      <td>371.3</td>\n",
       "    </tr>\n",
       "    <tr>\n",
       "      <td>2001-12-29</td>\n",
       "      <td>371.5</td>\n",
       "    </tr>\n",
       "  </tbody>\n",
       "</table>\n",
       "<p>2284 rows × 1 columns</p>\n",
       "</div>"
      ],
      "text/plain": [
       "              co2\n",
       "date             \n",
       "1958-03-29  316.1\n",
       "1958-04-05  317.3\n",
       "1958-04-12  317.6\n",
       "1958-04-19  317.5\n",
       "1958-04-26  316.4\n",
       "...           ...\n",
       "2001-12-01  370.3\n",
       "2001-12-08  370.8\n",
       "2001-12-15  371.2\n",
       "2001-12-22  371.3\n",
       "2001-12-29  371.5\n",
       "\n",
       "[2284 rows x 1 columns]"
      ]
     },
     "execution_count": 7,
     "metadata": {},
     "output_type": "execute_result"
    }
   ],
   "source": [
    "#Load the CO2 dataset from sm.datasets\n",
    "dataset = sm.datasets.co2.load().data\n",
    "df = pd.DataFrame(dataset)\n",
    "df['date'] = pd.to_datetime(df['index'])\n",
    "df.set_index('date',inplace=True)\n",
    "df.drop(columns=['index'],inplace=True)\n",
    "df"
   ]
  },
  {
   "cell_type": "code",
   "execution_count": 8,
   "metadata": {},
   "outputs": [
    {
     "data": {
      "text/html": [
       "<div>\n",
       "<style scoped>\n",
       "    .dataframe tbody tr th:only-of-type {\n",
       "        vertical-align: middle;\n",
       "    }\n",
       "\n",
       "    .dataframe tbody tr th {\n",
       "        vertical-align: top;\n",
       "    }\n",
       "\n",
       "    .dataframe thead th {\n",
       "        text-align: right;\n",
       "    }\n",
       "</style>\n",
       "<table border=\"1\" class=\"dataframe\">\n",
       "  <thead>\n",
       "    <tr style=\"text-align: right;\">\n",
       "      <th></th>\n",
       "      <th>co2</th>\n",
       "    </tr>\n",
       "    <tr>\n",
       "      <th>date</th>\n",
       "      <th></th>\n",
       "    </tr>\n",
       "  </thead>\n",
       "  <tbody>\n",
       "    <tr>\n",
       "      <td>1958-03-29</td>\n",
       "      <td>316.1</td>\n",
       "    </tr>\n",
       "    <tr>\n",
       "      <td>1958-04-05</td>\n",
       "      <td>317.3</td>\n",
       "    </tr>\n",
       "    <tr>\n",
       "      <td>1958-04-12</td>\n",
       "      <td>317.6</td>\n",
       "    </tr>\n",
       "    <tr>\n",
       "      <td>1958-04-19</td>\n",
       "      <td>317.5</td>\n",
       "    </tr>\n",
       "    <tr>\n",
       "      <td>1958-04-26</td>\n",
       "      <td>316.4</td>\n",
       "    </tr>\n",
       "    <tr>\n",
       "      <td>...</td>\n",
       "      <td>...</td>\n",
       "    </tr>\n",
       "    <tr>\n",
       "      <td>2001-12-01</td>\n",
       "      <td>370.3</td>\n",
       "    </tr>\n",
       "    <tr>\n",
       "      <td>2001-12-08</td>\n",
       "      <td>370.8</td>\n",
       "    </tr>\n",
       "    <tr>\n",
       "      <td>2001-12-15</td>\n",
       "      <td>371.2</td>\n",
       "    </tr>\n",
       "    <tr>\n",
       "      <td>2001-12-22</td>\n",
       "      <td>371.3</td>\n",
       "    </tr>\n",
       "    <tr>\n",
       "      <td>2001-12-29</td>\n",
       "      <td>371.5</td>\n",
       "    </tr>\n",
       "  </tbody>\n",
       "</table>\n",
       "<p>2284 rows × 1 columns</p>\n",
       "</div>"
      ],
      "text/plain": [
       "              co2\n",
       "date             \n",
       "1958-03-29  316.1\n",
       "1958-04-05  317.3\n",
       "1958-04-12  317.6\n",
       "1958-04-19  317.5\n",
       "1958-04-26  316.4\n",
       "...           ...\n",
       "2001-12-01  370.3\n",
       "2001-12-08  370.8\n",
       "2001-12-15  371.2\n",
       "2001-12-22  371.3\n",
       "2001-12-29  371.5\n",
       "\n",
       "[2284 rows x 1 columns]"
      ]
     },
     "execution_count": 8,
     "metadata": {},
     "output_type": "execute_result"
    }
   ],
   "source": [
    "df = df.asfreq('W-SAT')\n",
    "df"
   ]
  },
  {
   "cell_type": "code",
   "execution_count": 17,
   "metadata": {},
   "outputs": [
    {
     "data": {
      "text/plain": [
       "date\n",
       "1958-03-01    316.100000\n",
       "1958-04-01    317.200000\n",
       "1958-05-01    317.433333\n",
       "1958-06-01           NaN\n",
       "1958-07-01    315.625000\n",
       "                 ...    \n",
       "2001-08-01    369.425000\n",
       "2001-09-01    367.880000\n",
       "2001-10-01    368.050000\n",
       "2001-11-01    369.375000\n",
       "2001-12-01    371.020000\n",
       "Freq: MS, Name: co2, Length: 526, dtype: float64"
      ]
     },
     "execution_count": 17,
     "metadata": {},
     "output_type": "execute_result"
    }
   ],
   "source": [
    "# Use 'MS' string to group the data in buckets by start of the month\n",
    "co2 = df['co2'].resample('MS').mean()\n",
    "co2"
   ]
  },
  {
   "cell_type": "code",
   "execution_count": 18,
   "metadata": {},
   "outputs": [
    {
     "data": {
      "text/plain": [
       "<matplotlib.axes._subplots.AxesSubplot at 0x12c0c0e10>"
      ]
     },
     "execution_count": 18,
     "metadata": {},
     "output_type": "execute_result"
    },
    {
     "data": {
      "image/png": "[encoded data removed]",
      "text/plain": [
       "<Figure size 1152x576 with 1 Axes>"
      ]
     },
     "metadata": {},
     "output_type": "display_data"
    }
   ],
   "source": [
    "# Fill in missing values\n",
    "co2.fillna(method='bfill',inplace=True)\n",
    "# Plot the time-series\n",
    "co2.plot(figsize=(16,8))\n",
    "\n",
    "\n",
    "\n",
    "\n",
    "# 1958-03-01    316.100000\n",
    "# 1958-04-01    317.200000\n",
    "# 1958-05-01    317.433333\n",
    "# 1958-06-01    315.625000\n",
    "# 1958-07-01    315.625000\n",
    "# Freq: MS, Name: co2, dtype: float64"
   ]
  },
  {
   "cell_type": "markdown",
   "metadata": {},
   "source": [
    "As noted earlier, the time series has spikes reflecting an obvious seasonality pattern, as well as an overall increasing trend."
   ]
  },
  {
   "cell_type": "markdown",
   "metadata": {},
   "source": [
    "## The ARIMA Time Series Model\n",
    "\n",
    "One of the most common methods used in time series forecasting is known as the ARIMA model, which stands for **AutoregRessive Integrated Moving Average**. ARIMA is a model that can be fitted to time series data in order to better understand or predict future points in the series.\n",
    "\n",
    "Let's have a quick introduction to ARIMA. The ARIMA forecasting for a stationary time series is nothing but a linear (like a linear regression) equation. The predictors depend on the parameters (p,d,q) of the ARIMA model:\n",
    "\n",
    "### Number of AR (Auto-Regressive) terms (p): \n",
    "\n",
    "`p` is the auto-regressive part of the model. It allows us to incorporate the effect of past values into our model. Intuitively, this would be similar to stating that it is likely to rain tomorrow if it has been raining for past 3 days. AR terms are just lags of dependent variable. For instance if p is 5, the predictors for x(t) will be x(t-1)….x(t-5).\n",
    "\n",
    "### Number of Differences (d):\n",
    "\n",
    "`d` is the **Integrated** component of an ARIMA model. This value is concerned with the amount of differencing as it identifies the number of lag values to subtract from the current observation. Intuitively, this would be similar to stating that it is likely to rain tomorrow if the difference in amount of rain in the last *n* days is small. \n",
    "\n",
    "### Number of MA (Moving Average) terms (q): \n",
    "\n",
    "`q` is the moving average part of the model which is used to set the error of the model as a linear combination of the error values observed at previous time points in the past. MA terms form lagged forecast errors in prediction equation. For instance if q is 5, the predictors for x(t) will be e(t-1)….e(t-5) where `e(i)` is the difference between the moving average at ith instant and actual value.\n",
    "\n",
    "These three distinct integer values, (p, d, q), are used to parametrize ARIMA models. Because of that, ARIMA models are denoted with the notation `ARIMA(p, d, q)`. Together these three parameters account for seasonality, trend, and noise in datasets:\n",
    "\n",
    "* `(p, d, q)` are the non-seasonal parameters described above.\n",
    "* `(P, D, Q)` follow the same definition but are applied to the seasonal component of the time series. \n",
    "* The term `s` is the periodicity of the time series (4 for quarterly periods, 12 for yearly periods, etc.).\n",
    "\n",
    "A detailed article on these parameters is available [HERE](https://www.quantstart.com/articles/Autoregressive-Integrated-Moving-Average-ARIMA-p-d-q-Models-for-Time-Series-Analysis).\n",
    "\n",
    "The seasonal ARIMA method can appear daunting because of the multiple tuning parameters involved. In the next section, we will describe how to automate the process of identifying the optimal set of parameters for the seasonal ARIMA time series model."
   ]
  },
  {
   "cell_type": "markdown",
   "metadata": {},
   "source": [
    "## Parameter Selection for the ARIMA Time Series Model\n"
   ]
  },
  {
   "cell_type": "markdown",
   "metadata": {},
   "source": [
    "The first step towards fitting an ARIMA model is to find the values of `ARIMA(p,d,q)(P,D,Q)s` that produce the desired output. Selection of these parameters requires domain expertise and time.  We shall first generate small ranges of these parameters and use a \"grid search\" to iteratively explore different combinations of parameters. For each combination of parameters, we fit a new seasonal ARIMA model with the `SARIMAX()` function from the statsmodels module and assess its overall quality. \n",
    "\n",
    "`SARIMAX` detailed documentation can be viewed [here](https://www.statsmodels.org/dev/generated/statsmodels.tsa.statespace.sarimax.SARIMAX.html)\n",
    "\n",
    "Let's begin by generating example combination of parameters that we wish to use.\n",
    "\n",
    "1. Define p,q and d parameters to take any value from 0/1 using `range()` function. (Note: We can try larger values which can make our model computationally expensive to run, you can try this as an additional experiment)\n",
    "\n",
    "2. Generate combinations for `(p,d,q)` using `itertools.product`.\n",
    "3. Similarly, generate seasonal combinations as `(p,d,q)s`. Use s = 12 (constant)\n",
    "4. Print some example combinations for seasonal ARIMA"
   ]
  },
  {
   "cell_type": "code",
   "execution_count": 22,
   "metadata": {},
   "outputs": [
    {
     "name": "stdout",
     "output_type": "stream",
     "text": [
      "range(0, 2)\n",
      "range(0, 2)\n"
     ]
    },
    {
     "data": {
      "text/plain": [
       "range(0, 2)"
      ]
     },
     "execution_count": 22,
     "metadata": {},
     "output_type": "execute_result"
    }
   ],
   "source": [
    "# Define the p, d and q parameters to take any value between 0 and 2\n",
    "p = d = q = range(0, 2)\n",
    "print(p)\n",
    "print(d)\n",
    "q"
   ]
  },
  {
   "cell_type": "markdown",
   "metadata": {},
   "source": [
    "`(p, d, q)` are the non-seasonal parameters described above.\n",
    "* `(P, D, Q)` follow the same definition but are applied to the seasonal component of the time series. "
   ]
  },
  {
   "cell_type": "code",
   "execution_count": 20,
   "metadata": {},
   "outputs": [
    {
     "data": {
      "text/plain": [
       "[(0, 0, 0),\n",
       " (0, 0, 1),\n",
       " (0, 1, 0),\n",
       " (0, 1, 1),\n",
       " (1, 0, 0),\n",
       " (1, 0, 1),\n",
       " (1, 1, 0),\n",
       " (1, 1, 1)]"
      ]
     },
     "execution_count": 20,
     "metadata": {},
     "output_type": "execute_result"
    }
   ],
   "source": [
    "# Generate all different combinations of p, q and q triplets\n",
    "pdq = list(itertools.product(p,d,q))\n",
    "pdq"
   ]
  },
  {
   "cell_type": "code",
   "execution_count": null,
   "metadata": {},
   "outputs": [],
   "source": []
  },
  {
   "cell_type": "code",
   "execution_count": 10,
   "metadata": {},
   "outputs": [
    {
     "data": {
      "text/plain": [
       "[(0, 0, 0, 12),\n",
       " (0, 0, 1, 12),\n",
       " (0, 1, 0, 12),\n",
       " (0, 1, 1, 12),\n",
       " (1, 0, 0, 12),\n",
       " (1, 0, 1, 12),\n",
       " (1, 1, 0, 12),\n",
       " (1, 1, 1, 12)]"
      ]
     },
     "execution_count": 10,
     "metadata": {},
     "output_type": "execute_result"
    }
   ],
   "source": [
    "# Generate all different combinations of seasonal p, q and q triplets (use 12 for frequency)\n",
    "pdqs = [(x[0], x[1], x[2], 12) for x in pdq]\n",
    "pdqs"
   ]
  },
  {
   "cell_type": "markdown",
   "metadata": {},
   "source": [
    "## AIC (Akaike Information Criterion) as Regularization Measure\n"
   ]
  },
  {
   "cell_type": "markdown",
   "metadata": {},
   "source": [
    "For evaluating the model, we shall use the AIC (Akaike Information Criterion) value, which is provided by ARIMA models fitted using `statsmodels` library. The Akaike information criterion (AIC) is an estimator of the relative quality of statistical models for a given set of data. Given a collection of models for the data, AIC estimates the quality of each model, relative to each of the other models. Thus, AIC provides a means for model selection. \n",
    "\n",
    "A model that fits the data very well while using lots of features will be assigned a larger AIC score than a model that uses fewer features to achieve the same goodness-of-fit. Therefore, we are interested in finding the model that yields the lowest AIC value. To achieve this, perform following tasks:\n",
    "\n",
    "1. Initialize an empty list to store results\n",
    "2. iterate through all the paramaters in pdq with parameters in seasonal pdq (nested loop ) to create a grid\n",
    "3. Run `SARIMAX` from statsmodels for each iteration. Details can be found [HERE](https://www.statsmodels.org/dev/generated/statsmodels.tsa.statespace.sarimax.SARIMAX.html). Set `enforce_stationarity` and `enforce_invertibility` to False. \n",
    "4. Get the results in each iteration with `model.fit()` and store the AIC values. \n",
    "5. Find the lowest AIC and select parameters for further analysis. \n",
    "\n",
    "NOTE: \n",
    "* Integrate exception handling with `continue`. \n",
    "* An overview of Akaike Information Criterion can be viewed [HERE](http://www.statisticshowto.com/akaikes-information-criterion/)\n",
    "\n"
   ]
  },
  {
   "cell_type": "code",
   "execution_count": 24,
   "metadata": {},
   "outputs": [
    {
     "name": "stdout",
     "output_type": "stream",
     "text": [
      "ARIMA(0, 0, 0) x(0, 0, 0, 12): AIC value = 7612.583429881011\n",
      "ARIMA(0, 0, 0) x(0, 0, 1, 12): AIC value = 6787.343624036764\n",
      "ARIMA(0, 0, 0) x(0, 1, 0, 12): AIC value = 1854.828234141261\n",
      "ARIMA(0, 0, 0) x(0, 1, 1, 12): AIC value = 1596.7111727638921\n",
      "ARIMA(0, 0, 0) x(1, 0, 0, 12): AIC value = 1058.9388921320035\n",
      "ARIMA(0, 0, 0) x(1, 0, 1, 12): AIC value = 1056.2878434903027\n",
      "ARIMA(0, 0, 0) x(1, 1, 0, 12): AIC value = 1361.6578978064144\n",
      "ARIMA(0, 0, 0) x(1, 1, 1, 12): AIC value = 1044.7647912936466\n",
      "ARIMA(0, 0, 1) x(0, 0, 0, 12): AIC value = 6881.048755618076\n",
      "ARIMA(0, 0, 1) x(0, 0, 1, 12): AIC value = 6072.662327408136\n",
      "ARIMA(0, 0, 1) x(0, 1, 0, 12): AIC value = 1379.1941067039763\n",
      "ARIMA(0, 0, 1) x(0, 1, 1, 12): AIC value = 1241.417471676795\n",
      "ARIMA(0, 0, 1) x(1, 0, 0, 12): AIC value = 1077.1834189266478\n",
      "ARIMA(0, 0, 1) x(1, 0, 1, 12): AIC value = 829.8818340100402\n",
      "ARIMA(0, 0, 1) x(1, 1, 0, 12): AIC value = 1119.5957893635752\n",
      "ARIMA(0, 0, 1) x(1, 1, 1, 12): AIC value = 807.0912988619048\n",
      "ARIMA(0, 1, 0) x(0, 0, 0, 12): AIC value = 1675.8086923024293\n",
      "ARIMA(0, 1, 0) x(0, 0, 1, 12): AIC value = 1240.2211199194066\n",
      "ARIMA(0, 1, 0) x(0, 1, 0, 12): AIC value = 633.442558698737\n",
      "ARIMA(0, 1, 0) x(0, 1, 1, 12): AIC value = 337.7938548516829\n",
      "ARIMA(0, 1, 0) x(1, 0, 0, 12): AIC value = 619.9501757829029\n",
      "ARIMA(0, 1, 0) x(1, 0, 1, 12): AIC value = 376.92837604844505\n",
      "ARIMA(0, 1, 0) x(1, 1, 0, 12): AIC value = 478.32969069805637\n",
      "ARIMA(0, 1, 0) x(1, 1, 1, 12): AIC value = 323.07764406409933\n",
      "ARIMA(0, 1, 1) x(0, 0, 0, 12): AIC value = 1371.1872602337144\n",
      "ARIMA(0, 1, 1) x(0, 0, 1, 12): AIC value = 1101.841073430282\n",
      "ARIMA(0, 1, 1) x(0, 1, 0, 12): AIC value = 587.9479710494452\n",
      "ARIMA(0, 1, 1) x(0, 1, 1, 12): AIC value = 302.4949001645541\n",
      "ARIMA(0, 1, 1) x(1, 0, 0, 12): AIC value = 584.4333533288686\n",
      "ARIMA(0, 1, 1) x(1, 0, 1, 12): AIC value = 337.19990512136013\n",
      "ARIMA(0, 1, 1) x(1, 1, 0, 12): AIC value = 433.0863608028202\n",
      "ARIMA(0, 1, 1) x(1, 1, 1, 12): AIC value = 281.51901808510854\n",
      "ARIMA(1, 0, 0) x(0, 0, 0, 12): AIC value = 1676.8881767362054\n",
      "ARIMA(1, 0, 0) x(0, 0, 1, 12): AIC value = 1241.9351683751995\n",
      "ARIMA(1, 0, 0) x(0, 1, 0, 12): AIC value = 624.2602350819175\n",
      "ARIMA(1, 0, 0) x(0, 1, 1, 12): AIC value = 341.2896611508398\n",
      "ARIMA(1, 0, 0) x(1, 0, 0, 12): AIC value = 579.3896724742635\n",
      "ARIMA(1, 0, 0) x(1, 0, 1, 12): AIC value = 370.59170466426866\n",
      "ARIMA(1, 0, 0) x(1, 1, 0, 12): AIC value = 476.05004306148237\n",
      "ARIMA(1, 0, 0) x(1, 1, 1, 12): AIC value = 329.58449912673774\n",
      "ARIMA(1, 0, 1) x(0, 0, 0, 12): AIC value = 1372.608588159442\n",
      "ARIMA(1, 0, 1) x(0, 0, 1, 12): AIC value = 1199.4888163861292\n",
      "ARIMA(1, 0, 1) x(0, 1, 0, 12): AIC value = 586.4485733334961\n",
      "ARIMA(1, 0, 1) x(0, 1, 1, 12): AIC value = 305.6273831347041\n",
      "ARIMA(1, 0, 1) x(1, 0, 0, 12): AIC value = 587.4032649501684\n",
      "ARIMA(1, 0, 1) x(1, 0, 1, 12): AIC value = 390.9673843238904\n",
      "ARIMA(1, 0, 1) x(1, 1, 0, 12): AIC value = 433.5469464490119\n",
      "ARIMA(1, 0, 1) x(1, 1, 1, 12): AIC value = 285.76517884286017\n",
      "ARIMA(1, 1, 0) x(0, 0, 0, 12): AIC value = 1324.3111127324569\n",
      "ARIMA(1, 1, 0) x(0, 0, 1, 12): AIC value = 1060.9351914426143\n",
      "ARIMA(1, 1, 0) x(0, 1, 0, 12): AIC value = 600.7412682810998\n",
      "ARIMA(1, 1, 0) x(0, 1, 1, 12): AIC value = 312.13296329928676\n",
      "ARIMA(1, 1, 0) x(1, 0, 0, 12): AIC value = 593.6637755000506\n",
      "ARIMA(1, 1, 0) x(1, 0, 1, 12): AIC value = 349.20914578024576\n",
      "ARIMA(1, 1, 0) x(1, 1, 0, 12): AIC value = 440.1375882010424\n",
      "ARIMA(1, 1, 0) x(1, 1, 1, 12): AIC value = 293.56145346313923\n",
      "ARIMA(1, 1, 1) x(0, 0, 0, 12): AIC value = 1262.654554245978\n",
      "ARIMA(1, 1, 1) x(0, 0, 1, 12): AIC value = 1052.0636724059254\n",
      "ARIMA(1, 1, 1) x(0, 1, 0, 12): AIC value = 581.3099934884956\n",
      "ARIMA(1, 1, 1) x(0, 1, 1, 12): AIC value = 295.93740591593684\n",
      "ARIMA(1, 1, 1) x(1, 0, 0, 12): AIC value = 576.8647111899079\n",
      "ARIMA(1, 1, 1) x(1, 0, 1, 12): AIC value = 327.9049126528737\n",
      "ARIMA(1, 1, 1) x(1, 1, 0, 12): AIC value = 428.60246331463645\n",
      "ARIMA(1, 1, 1) x(1, 1, 1, 12): AIC value = 277.7803874251389\n",
      "Modeling took 0:00:31.429040 secs.\n"
     ]
    }
   ],
   "source": [
    "## \n",
    "import datetime as dt\n",
    "start = dt.datetime.now()\n",
    "\n",
    "res = []\n",
    "\n",
    "## loop through pqd:\n",
    "for comb in pdq:\n",
    "    \n",
    "    ## loop through PDQs\n",
    "    for combs in pdqs:\n",
    "\n",
    "        try:\n",
    "            \n",
    "            model = sm.tsa.statespace.SARIMAX(co2,\n",
    "                                             order=comb,\n",
    "                                             seasonal_order=combs,\n",
    "                                             enforce_stationarity=False,\n",
    "                                             enforce_invertibility=False)\n",
    "            output = model.fit()\n",
    "            res.append([comb,combs,output.aic])\n",
    "            print(f\"ARIMA{comb} x{combs}: AIC value = {output.aic}\")\n",
    "            \n",
    "        except:\n",
    "            continue\n",
    "\n",
    "end = dt.datetime.now()\n",
    "print(f'Modeling took {end-start} secs.')"
   ]
  },
  {
   "cell_type": "code",
   "execution_count": 31,
   "metadata": {},
   "outputs": [
    {
     "data": {
      "text/html": [
       "<div>\n",
       "<style scoped>\n",
       "    .dataframe tbody tr th:only-of-type {\n",
       "        vertical-align: middle;\n",
       "    }\n",
       "\n",
       "    .dataframe tbody tr th {\n",
       "        vertical-align: top;\n",
       "    }\n",
       "\n",
       "    .dataframe thead th {\n",
       "        text-align: right;\n",
       "    }\n",
       "</style>\n",
       "<table border=\"1\" class=\"dataframe\">\n",
       "  <thead>\n",
       "    <tr style=\"text-align: right;\">\n",
       "      <th></th>\n",
       "      <th>pdq</th>\n",
       "      <th>PDQ</th>\n",
       "      <th>AIC</th>\n",
       "    </tr>\n",
       "  </thead>\n",
       "  <tbody>\n",
       "    <tr>\n",
       "      <td>63</td>\n",
       "      <td>(1, 1, 1)</td>\n",
       "      <td>(1, 1, 1, 12)</td>\n",
       "      <td>277.780387</td>\n",
       "    </tr>\n",
       "    <tr>\n",
       "      <td>31</td>\n",
       "      <td>(0, 1, 1)</td>\n",
       "      <td>(1, 1, 1, 12)</td>\n",
       "      <td>281.519018</td>\n",
       "    </tr>\n",
       "    <tr>\n",
       "      <td>47</td>\n",
       "      <td>(1, 0, 1)</td>\n",
       "      <td>(1, 1, 1, 12)</td>\n",
       "      <td>285.765179</td>\n",
       "    </tr>\n",
       "    <tr>\n",
       "      <td>55</td>\n",
       "      <td>(1, 1, 0)</td>\n",
       "      <td>(1, 1, 1, 12)</td>\n",
       "      <td>293.561453</td>\n",
       "    </tr>\n",
       "    <tr>\n",
       "      <td>59</td>\n",
       "      <td>(1, 1, 1)</td>\n",
       "      <td>(0, 1, 1, 12)</td>\n",
       "      <td>295.937406</td>\n",
       "    </tr>\n",
       "  </tbody>\n",
       "</table>\n",
       "</div>"
      ],
      "text/plain": [
       "          pdq            PDQ         AIC\n",
       "63  (1, 1, 1)  (1, 1, 1, 12)  277.780387\n",
       "31  (0, 1, 1)  (1, 1, 1, 12)  281.519018\n",
       "47  (1, 0, 1)  (1, 1, 1, 12)  285.765179\n",
       "55  (1, 1, 0)  (1, 1, 1, 12)  293.561453\n",
       "59  (1, 1, 1)  (0, 1, 1, 12)  295.937406"
      ]
     },
     "execution_count": 31,
     "metadata": {},
     "output_type": "execute_result"
    }
   ],
   "source": [
    "pd.DataFrame(res,columns = ['pdq','PDQ',\"AIC\"]).sort_values('AIC',ascending=True).head()"
   ]
  },
  {
   "cell_type": "code",
   "execution_count": 32,
   "metadata": {},
   "outputs": [
    {
     "data": {
      "text/html": [
       "<table class=\"simpletable\">\n",
       "<caption>Statespace Model Results</caption>\n",
       "<tr>\n",
       "  <th>Dep. Variable:</th>                 <td>co2</td>              <th>  No. Observations:  </th>    <td>526</td>  \n",
       "</tr>\n",
       "<tr>\n",
       "  <th>Model:</th>           <td>SARIMAX(1, 1, 1)x(1, 1, 1, 12)</td> <th>  Log Likelihood     </th> <td>-133.857</td>\n",
       "</tr>\n",
       "<tr>\n",
       "  <th>Date:</th>                   <td>Fri, 20 Dec 2019</td>        <th>  AIC                </th>  <td>277.714</td>\n",
       "</tr>\n",
       "<tr>\n",
       "  <th>Time:</th>                       <td>12:53:47</td>            <th>  BIC                </th>  <td>298.777</td>\n",
       "</tr>\n",
       "<tr>\n",
       "  <th>Sample:</th>                    <td>03-01-1958</td>           <th>  HQIC               </th>  <td>285.979</td>\n",
       "</tr>\n",
       "<tr>\n",
       "  <th></th>                          <td>- 12-01-2001</td>          <th>                     </th>     <td> </td>   \n",
       "</tr>\n",
       "<tr>\n",
       "  <th>Covariance Type:</th>               <td>opg</td>              <th>                     </th>     <td> </td>   \n",
       "</tr>\n",
       "</table>\n",
       "<table class=\"simpletable\">\n",
       "<tr>\n",
       "      <td></td>        <th>coef</th>     <th>std err</th>      <th>z</th>      <th>P>|z|</th>  <th>[0.025</th>    <th>0.975]</th>  \n",
       "</tr>\n",
       "<tr>\n",
       "  <th>ar.L1</th>    <td>    0.3184</td> <td>    0.092</td> <td>    3.443</td> <td> 0.001</td> <td>    0.137</td> <td>    0.500</td>\n",
       "</tr>\n",
       "<tr>\n",
       "  <th>ma.L1</th>    <td>   -0.6252</td> <td>    0.077</td> <td>   -8.143</td> <td> 0.000</td> <td>   -0.776</td> <td>   -0.475</td>\n",
       "</tr>\n",
       "<tr>\n",
       "  <th>ar.S.L12</th> <td>   -0.0009</td> <td>    0.001</td> <td>   -1.721</td> <td> 0.085</td> <td>   -0.002</td> <td>    0.000</td>\n",
       "</tr>\n",
       "<tr>\n",
       "  <th>ma.S.L12</th> <td>   -0.8767</td> <td>    0.026</td> <td>  -33.811</td> <td> 0.000</td> <td>   -0.928</td> <td>   -0.826</td>\n",
       "</tr>\n",
       "<tr>\n",
       "  <th>sigma2</th>   <td>    0.0972</td> <td>    0.004</td> <td>   22.616</td> <td> 0.000</td> <td>    0.089</td> <td>    0.106</td>\n",
       "</tr>\n",
       "</table>\n",
       "<table class=\"simpletable\">\n",
       "<tr>\n",
       "  <th>Ljung-Box (Q):</th>          <td>36.27</td> <th>  Jarque-Bera (JB):  </th> <td>189.43</td>\n",
       "</tr>\n",
       "<tr>\n",
       "  <th>Prob(Q):</th>                <td>0.64</td>  <th>  Prob(JB):          </th>  <td>0.00</td> \n",
       "</tr>\n",
       "<tr>\n",
       "  <th>Heteroskedasticity (H):</th> <td>0.65</td>  <th>  Skew:              </th>  <td>0.40</td> \n",
       "</tr>\n",
       "<tr>\n",
       "  <th>Prob(H) (two-sided):</th>    <td>0.01</td>  <th>  Kurtosis:          </th>  <td>5.91</td> \n",
       "</tr>\n",
       "</table><br/><br/>Warnings:<br/>[1] Covariance matrix calculated using the outer product of gradients (complex-step)."
      ],
      "text/plain": [
       "<class 'statsmodels.iolib.summary.Summary'>\n",
       "\"\"\"\n",
       "                                 Statespace Model Results                                 \n",
       "==========================================================================================\n",
       "Dep. Variable:                                co2   No. Observations:                  526\n",
       "Model:             SARIMAX(1, 1, 1)x(1, 1, 1, 12)   Log Likelihood                -133.857\n",
       "Date:                            Fri, 20 Dec 2019   AIC                            277.714\n",
       "Time:                                    12:53:47   BIC                            298.777\n",
       "Sample:                                03-01-1958   HQIC                           285.979\n",
       "                                     - 12-01-2001                                         \n",
       "Covariance Type:                              opg                                         \n",
       "==============================================================================\n",
       "                 coef    std err          z      P>|z|      [0.025      0.975]\n",
       "------------------------------------------------------------------------------\n",
       "ar.L1          0.3184      0.092      3.443      0.001       0.137       0.500\n",
       "ma.L1         -0.6252      0.077     -8.143      0.000      -0.776      -0.475\n",
       "ar.S.L12      -0.0009      0.001     -1.721      0.085      -0.002       0.000\n",
       "ma.S.L12      -0.8767      0.026    -33.811      0.000      -0.928      -0.826\n",
       "sigma2         0.0972      0.004     22.616      0.000       0.089       0.106\n",
       "===================================================================================\n",
       "Ljung-Box (Q):                       36.27   Jarque-Bera (JB):               189.43\n",
       "Prob(Q):                              0.64   Prob(JB):                         0.00\n",
       "Heteroskedasticity (H):               0.65   Skew:                             0.40\n",
       "Prob(H) (two-sided):                  0.01   Kurtosis:                         5.91\n",
       "===================================================================================\n",
       "\n",
       "Warnings:\n",
       "[1] Covariance matrix calculated using the outer product of gradients (complex-step).\n",
       "\"\"\""
      ]
     },
     "execution_count": 32,
     "metadata": {},
     "output_type": "execute_result"
    }
   ],
   "source": [
    "ARIMA_MODEL = sm.tsa.SARIMAX(co2,\n",
    "                            order=(1,1,1),\n",
    "                            seasonal_order=(1,1,1,12),\n",
    "                            enforce_stationarity=False,\n",
    "                            enorce_invertibliy=False)\n",
    "output = ARIMA_MODEL.fit()\n",
    "output.summary()"
   ]
  },
  {
   "cell_type": "code",
   "execution_count": 35,
   "metadata": {},
   "outputs": [
    {
     "data": {
      "image/png": "[encoded data removed]",
      "text/plain": [
       "<Figure size 864x576 with 4 Axes>"
      ]
     },
     "metadata": {},
     "output_type": "display_data"
    }
   ],
   "source": [
    "output.plot_diagnostics(figsize=(12,8))\n",
    "plt.show()"
   ]
  },
  {
   "cell_type": "code",
   "execution_count": null,
   "metadata": {},
   "outputs": [],
   "source": []
  },
  {
   "cell_type": "markdown",
   "metadata": {},
   "source": [
    "# `pmdarima`\n",
    "\n"
   ]
  },
  {
   "cell_type": "code",
   "execution_count": 36,
   "metadata": {
    "collapsed": true
   },
   "outputs": [
    {
     "name": "stdout",
     "output_type": "stream",
     "text": [
      "Requirement already up-to-date: pmdarima in /anaconda3/envs/learn-env/lib/python3.6/site-packages (1.5.2)\n",
      "Requirement already satisfied, skipping upgrade: Cython>=0.29 in /anaconda3/envs/learn-env/lib/python3.6/site-packages (from pmdarima) (0.29.13)\n",
      "Requirement already satisfied, skipping upgrade: joblib>=0.11 in /anaconda3/envs/learn-env/lib/python3.6/site-packages (from pmdarima) (0.13.2)\n",
      "Requirement already satisfied, skipping upgrade: pandas>=0.19 in /anaconda3/envs/learn-env/lib/python3.6/site-packages (from pmdarima) (0.25.1)\n",
      "Requirement already satisfied, skipping upgrade: statsmodels>=0.10.0 in /anaconda3/envs/learn-env/lib/python3.6/site-packages (from pmdarima) (0.10.1)\n",
      "Requirement already satisfied, skipping upgrade: numpy>=1.16 in /anaconda3/envs/learn-env/lib/python3.6/site-packages (from pmdarima) (1.16.5)\n",
      "Requirement already satisfied, skipping upgrade: scipy>=1.3 in /anaconda3/envs/learn-env/lib/python3.6/site-packages (from pmdarima) (1.4.0)\n",
      "Requirement already satisfied, skipping upgrade: scikit-learn>=0.19 in /anaconda3/envs/learn-env/lib/python3.6/site-packages (from pmdarima) (0.22)\n",
      "Requirement already satisfied, skipping upgrade: python-dateutil>=2.6.1 in /anaconda3/envs/learn-env/lib/python3.6/site-packages (from pandas>=0.19->pmdarima) (2.8.0)\n",
      "Requirement already satisfied, skipping upgrade: pytz>=2017.2 in /anaconda3/envs/learn-env/lib/python3.6/site-packages (from pandas>=0.19->pmdarima) (2019.3)\n",
      "Requirement already satisfied, skipping upgrade: patsy>=0.4.0 in /anaconda3/envs/learn-env/lib/python3.6/site-packages (from statsmodels>=0.10.0->pmdarima) (0.5.1)\n",
      "Requirement already satisfied, skipping upgrade: six>=1.5 in /anaconda3/envs/learn-env/lib/python3.6/site-packages (from python-dateutil>=2.6.1->pandas>=0.19->pmdarima) (1.13.0)\n"
     ]
    }
   ],
   "source": [
    "!pip install -U pmdarima"
   ]
  },
  {
   "cell_type": "code",
   "execution_count": 41,
   "metadata": {},
   "outputs": [
    {
     "name": "stdout",
     "output_type": "stream",
     "text": [
      "Fit ARIMA: order=(0, 1, 0) seasonal_order=(0, 0, 0, 1); AIC=1676.811, BIC=1685.338, Fit time=0.016 seconds\n",
      "Fit ARIMA: order=(1, 1, 0) seasonal_order=(0, 0, 0, 1); AIC=1328.472, BIC=1341.262, Fit time=0.067 seconds\n",
      "Fit ARIMA: order=(0, 1, 1) seasonal_order=(0, 0, 0, 1); AIC=1374.168, BIC=1386.958, Fit time=0.068 seconds\n",
      "Fit ARIMA: order=(0, 1, 0) seasonal_order=(0, 0, 0, 1); AIC=1678.850, BIC=1683.114, Fit time=0.013 seconds\n",
      "Fit ARIMA: order=(2, 1, 0) seasonal_order=(0, 0, 0, 1); AIC=1205.382, BIC=1222.436, Fit time=0.075 seconds\n",
      "Fit ARIMA: order=(3, 1, 0) seasonal_order=(0, 0, 0, 1); AIC=1150.521, BIC=1171.838, Fit time=0.150 seconds\n",
      "Fit ARIMA: order=(3, 1, 1) seasonal_order=(0, 0, 0, 1); AIC=1009.758, BIC=1035.339, Fit time=0.627 seconds\n",
      "Fit ARIMA: order=(2, 1, 1) seasonal_order=(0, 0, 0, 1); AIC=1010.848, BIC=1032.165, Fit time=0.264 seconds\n",
      "Fit ARIMA: order=(3, 1, 2) seasonal_order=(0, 0, 0, 1); AIC=1012.141, BIC=1041.985, Fit time=0.632 seconds\n",
      "Fit ARIMA: order=(2, 1, 2) seasonal_order=(0, 0, 0, 1); AIC=1008.413, BIC=1033.994, Fit time=0.312 seconds\n",
      "Fit ARIMA: order=(3, 1, 3) seasonal_order=(0, 0, 0, 1); AIC=1171.735, BIC=1205.843, Fit time=0.905 seconds\n",
      "Fit ARIMA: order=(1, 1, 2) seasonal_order=(0, 0, 0, 1); AIC=1223.651, BIC=1244.968, Fit time=0.123 seconds\n",
      "Fit ARIMA: order=(2, 1, 3) seasonal_order=(0, 0, 0, 1); AIC=1163.312, BIC=1193.156, Fit time=0.464 seconds\n",
      "Fit ARIMA: order=(1, 1, 1) seasonal_order=(0, 0, 0, 1); AIC=1268.116, BIC=1285.170, Fit time=0.087 seconds\n",
      "Fit ARIMA: order=(1, 1, 3) seasonal_order=(0, 0, 0, 1); AIC=1201.990, BIC=1227.570, Fit time=0.280 seconds\n",
      "Total fit time: 4.092 seconds\n"
     ]
    },
    {
     "data": {
      "text/html": [
       "<table class=\"simpletable\">\n",
       "<caption>Statespace Model Results</caption>\n",
       "<tr>\n",
       "  <th>Dep. Variable:</th>           <td>y</td>        <th>  No. Observations:  </th>    <td>526</td>  \n",
       "</tr>\n",
       "<tr>\n",
       "  <th>Model:</th>           <td>SARIMAX(2, 1, 2)</td> <th>  Log Likelihood     </th> <td>-498.207</td>\n",
       "</tr>\n",
       "<tr>\n",
       "  <th>Date:</th>            <td>Fri, 20 Dec 2019</td> <th>  AIC                </th> <td>1008.413</td>\n",
       "</tr>\n",
       "<tr>\n",
       "  <th>Time:</th>                <td>13:03:00</td>     <th>  BIC                </th> <td>1033.994</td>\n",
       "</tr>\n",
       "<tr>\n",
       "  <th>Sample:</th>                  <td>0</td>        <th>  HQIC               </th> <td>1018.430</td>\n",
       "</tr>\n",
       "<tr>\n",
       "  <th></th>                      <td> - 526</td>      <th>                     </th>     <td> </td>   \n",
       "</tr>\n",
       "<tr>\n",
       "  <th>Covariance Type:</th>        <td>opg</td>       <th>                     </th>     <td> </td>   \n",
       "</tr>\n",
       "</table>\n",
       "<table class=\"simpletable\">\n",
       "<tr>\n",
       "      <td></td>         <th>coef</th>     <th>std err</th>      <th>z</th>      <th>P>|z|</th>  <th>[0.025</th>    <th>0.975]</th>  \n",
       "</tr>\n",
       "<tr>\n",
       "  <th>intercept</th> <td>    0.0321</td> <td>    0.003</td> <td>   11.817</td> <td> 0.000</td> <td>    0.027</td> <td>    0.037</td>\n",
       "</tr>\n",
       "<tr>\n",
       "  <th>ar.L1</th>     <td>    1.5862</td> <td>    0.026</td> <td>   60.267</td> <td> 0.000</td> <td>    1.535</td> <td>    1.638</td>\n",
       "</tr>\n",
       "<tr>\n",
       "  <th>ar.L2</th>     <td>   -0.8819</td> <td>    0.026</td> <td>  -33.722</td> <td> 0.000</td> <td>   -0.933</td> <td>   -0.831</td>\n",
       "</tr>\n",
       "<tr>\n",
       "  <th>ma.L1</th>     <td>   -1.0671</td> <td>    0.059</td> <td>  -18.031</td> <td> 0.000</td> <td>   -1.183</td> <td>   -0.951</td>\n",
       "</tr>\n",
       "<tr>\n",
       "  <th>ma.L2</th>     <td>    0.1401</td> <td>    0.060</td> <td>    2.349</td> <td> 0.019</td> <td>    0.023</td> <td>    0.257</td>\n",
       "</tr>\n",
       "<tr>\n",
       "  <th>sigma2</th>    <td>    0.3881</td> <td>    0.026</td> <td>   15.201</td> <td> 0.000</td> <td>    0.338</td> <td>    0.438</td>\n",
       "</tr>\n",
       "</table>\n",
       "<table class=\"simpletable\">\n",
       "<tr>\n",
       "  <th>Ljung-Box (Q):</th>          <td>1359.37</td> <th>  Jarque-Bera (JB):  </th> <td>14.63</td>\n",
       "</tr>\n",
       "<tr>\n",
       "  <th>Prob(Q):</th>                 <td>0.00</td>   <th>  Prob(JB):          </th> <td>0.00</td> \n",
       "</tr>\n",
       "<tr>\n",
       "  <th>Heteroskedasticity (H):</th>  <td>0.94</td>   <th>  Skew:              </th> <td>0.41</td> \n",
       "</tr>\n",
       "<tr>\n",
       "  <th>Prob(H) (two-sided):</th>     <td>0.66</td>   <th>  Kurtosis:          </th> <td>3.11</td> \n",
       "</tr>\n",
       "</table><br/><br/>Warnings:<br/>[1] Covariance matrix calculated using the outer product of gradients (complex-step)."
      ],
      "text/plain": [
       "<class 'statsmodels.iolib.summary.Summary'>\n",
       "\"\"\"\n",
       "                           Statespace Model Results                           \n",
       "==============================================================================\n",
       "Dep. Variable:                      y   No. Observations:                  526\n",
       "Model:               SARIMAX(2, 1, 2)   Log Likelihood                -498.207\n",
       "Date:                Fri, 20 Dec 2019   AIC                           1008.413\n",
       "Time:                        13:03:00   BIC                           1033.994\n",
       "Sample:                             0   HQIC                          1018.430\n",
       "                                - 526                                         \n",
       "Covariance Type:                  opg                                         \n",
       "==============================================================================\n",
       "                 coef    std err          z      P>|z|      [0.025      0.975]\n",
       "------------------------------------------------------------------------------\n",
       "intercept      0.0321      0.003     11.817      0.000       0.027       0.037\n",
       "ar.L1          1.5862      0.026     60.267      0.000       1.535       1.638\n",
       "ar.L2         -0.8819      0.026    -33.722      0.000      -0.933      -0.831\n",
       "ma.L1         -1.0671      0.059    -18.031      0.000      -1.183      -0.951\n",
       "ma.L2          0.1401      0.060      2.349      0.019       0.023       0.257\n",
       "sigma2         0.3881      0.026     15.201      0.000       0.338       0.438\n",
       "===================================================================================\n",
       "Ljung-Box (Q):                     1359.37   Jarque-Bera (JB):                14.63\n",
       "Prob(Q):                              0.00   Prob(JB):                         0.00\n",
       "Heteroskedasticity (H):               0.94   Skew:                             0.41\n",
       "Prob(H) (two-sided):                  0.66   Kurtosis:                         3.11\n",
       "===================================================================================\n",
       "\n",
       "Warnings:\n",
       "[1] Covariance matrix calculated using the outer product of gradients (complex-step).\n",
       "\"\"\""
      ]
     },
     "execution_count": 41,
     "metadata": {},
     "output_type": "execute_result"
    }
   ],
   "source": [
    "import pmdarima as pm\n",
    "\n",
    "model = pm.auto_arima(y=co2,\n",
    "                     start_p=0,start_q=0,max_p=3,max_q=3,\n",
    "                      start_P=0,start_Q=0,max_P=3,max_Q=3,trace=True)\n",
    "model.summary()\n",
    "# model.fit()"
   ]
  },
  {
   "cell_type": "code",
   "execution_count": 44,
   "metadata": {},
   "outputs": [
    {
     "data": {
      "text/plain": [
       "<statsmodels.tsa.statespace.sarimax.SARIMAXResultsWrapper at 0x1442e8940>"
      ]
     },
     "execution_count": 44,
     "metadata": {},
     "output_type": "execute_result"
    }
   ],
   "source": [
    "kws = model.get_params()\n",
    "sm.tsa.statespace.SARIMAX(co2,**kws ).fit()"
   ]
  },
  {
   "cell_type": "markdown",
   "metadata": {},
   "source": [
    "# END OF STUDY GROUP\n",
    "___\n"
   ]
  },
  {
   "cell_type": "code",
   "execution_count": 23,
   "metadata": {},
   "outputs": [],
   "source": [
    "# start = dt.datetime.now()\n",
    "# print(f\"Process took {dt.datetime.now()-start} sec.\")           \n"
   ]
  },
  {
   "cell_type": "code",
   "execution_count": null,
   "metadata": {},
   "outputs": [],
   "source": [
    "import datetime as dt\n",
    "start = dt.datetime.now()\n",
    "# Run a grid with pdq and seasonal pdq parameters calculated above and get the best AIC value\n",
    "ans = []\n",
    "for comb in pdq:\n",
    "    \n",
    "    for combs in pdqs:\n",
    "        \n",
    "        try: \n",
    "            mod = sm.tsa.statespace.SARIMAX(co2,\n",
    "                                           order=comb,\n",
    "                                           seasonal_order=combs,\n",
    "                                           enforce_stationarity=False,\n",
    "                                           enforce_invertibility= False)\n",
    "            output = mod.fit()\n",
    "            ans.append([comb,combs,output.aic])\n",
    "            print('ARIMA {} x {}12 : AIC Calculated ={}'.format(comb, combs, output.aic))\n",
    "            \n",
    "\n",
    "        except:\n",
    "            continue\n",
    "print(f\"Process took {dt.datetime.now()-start} sec.\")           \n",
    "            \n",
    "# ARIMA(0, 0, 0)x(0, 0, 1, 12)12 - AIC:6787.34362403487\n",
    "# ARIMA(0, 0, 0)x(0, 1, 1, 12)12 - AIC:1596.7111727637512\n",
    "# ARIMA(0, 0, 0)x(1, 0, 0, 12)12 - AIC:1058.9388921320024\n",
    "#     .\n",
    "#     .\n",
    "#     .\n",
    "#     .\n",
    "# ARIMA(1, 1, 1)x(1, 0, 1, 12)12 - AIC:327.9049164493077\n",
    "# ARIMA(1, 1, 1)x(1, 1, 0, 12)12 - AIC:444.1243686483202\n",
    "# ARIMA(1, 1, 1)x(1, 1, 1, 12)12 - AIC:277.78021965631604    "
   ]
  },
  {
   "cell_type": "code",
   "execution_count": null,
   "metadata": {},
   "outputs": [],
   "source": [
    "# Find the parameters with minimal AIC value.\n",
    "headers = [['pdq','pqds','aic']]\n",
    "headers.extend(ans)\n",
    "res = pd.DataFrame(headers[1:],columns=headers[0])\n",
    "res.sort_values('aic',ascending=False).head(10)\n",
    "\n",
    "\n",
    "# pdq         (1, 1, 1)\n",
    "# pdqs    (1, 1, 1, 12)\n",
    "# aic            277.78\n",
    "# Name: 59, dtype: object"
   ]
  },
  {
   "cell_type": "code",
   "execution_count": null,
   "metadata": {},
   "outputs": [],
   "source": [
    "!pip install pmdarima"
   ]
  },
  {
   "cell_type": "code",
   "execution_count": null,
   "metadata": {},
   "outputs": [],
   "source": [
    "import pmdarima as pm\n",
    "stepwise_fit = pm.auto_arima(co2,\n",
    "                             start_p=0, start_q=0,\n",
    "                             max_p=3, max_q=3, m=12,\n",
    "                             start_P=0, seasonal=True,\n",
    "                             d=1, D=1, trace=True,\n",
    "                             error_action='ignore',  # don't want to know if an order does not work\n",
    "                             suppress_warnings=True)#,  # don't want convergence warnings\n",
    "#                              stepwise=True)  # set to stepwise\n",
    "stepwise_fit.summary()"
   ]
  },
  {
   "cell_type": "code",
   "execution_count": null,
   "metadata": {},
   "outputs": [],
   "source": [
    "stepwise_fit.summary()"
   ]
  },
  {
   "cell_type": "code",
   "execution_count": null,
   "metadata": {},
   "outputs": [],
   "source": [
    "model = sm.tsa.SARIMAX(co2,**stepwise_fit.get_params()).fit()\n",
    "model.summary()"
   ]
  },
  {
   "cell_type": "code",
   "execution_count": null,
   "metadata": {},
   "outputs": [],
   "source": [
    "model.plot_diagnostics(figsize=(16,12));"
   ]
  },
  {
   "cell_type": "code",
   "execution_count": null,
   "metadata": {},
   "outputs": [],
   "source": [
    "pred = model.get_prediction(start='1998-01-01',dynamic=False)\n",
    "pred_conf = pred.conf_int()"
   ]
  },
  {
   "cell_type": "code",
   "execution_count": null,
   "metadata": {},
   "outputs": [],
   "source": [
    "plt.style.use('dark_background')\n",
    "f,a=plt.subplots(figsize=(12,8))"
   ]
  },
  {
   "cell_type": "code",
   "execution_count": null,
   "metadata": {},
   "outputs": [],
   "source": []
  },
  {
   "cell_type": "code",
   "execution_count": null,
   "metadata": {},
   "outputs": [],
   "source": []
  },
  {
   "cell_type": "code",
   "execution_count": null,
   "metadata": {},
   "outputs": [],
   "source": [
    "SARIMAX(1, 1, 1)x(0, 1, 1, 12)aaaa"
   ]
  },
  {
   "cell_type": "code",
   "execution_count": null,
   "metadata": {},
   "outputs": [],
   "source": [
    "model = sm.tsa.SARIMAX()"
   ]
  },
  {
   "cell_type": "markdown",
   "metadata": {},
   "source": [
    "The output of our code suggests that `ARIMA(1, 1, 1)x(1, 1, 1, 12)` yields the lowest AIC value of `277.78`. We should therefore consider this to be optimal option out of all the models we have considered."
   ]
  },
  {
   "cell_type": "markdown",
   "metadata": {},
   "source": [
    "## Fitting an ARIMA Time Series Model\n",
    "\n",
    "Using grid search, we have identified the set of parameters that produces the best fitting model to our time series data. We can proceed to analyze this particular model in more depth.\n",
    "\n",
    "We'll start by plugging the optimal parameter values into a new SARIMAX model."
   ]
  },
  {
   "cell_type": "code",
   "execution_count": null,
   "metadata": {},
   "outputs": [],
   "source": [
    "# plug the optimal parameter values into a new SARIMAX model.\n",
    "SARIMAX(1, 1, 1)x(0, 1, 1, 12)\n",
    "# Fit the model and print results\n",
    "\n",
    "# ==============================================================================\n",
    "#                  coef    std err          z      P>|z|      [0.025      0.975]\n",
    "# ------------------------------------------------------------------------------\n",
    "# ar.L1          0.3182      0.092      3.442      0.001       0.137       0.499\n",
    "# ma.L1         -0.6254      0.077     -8.163      0.000      -0.776      -0.475\n",
    "# ar.S.L12       0.0010      0.001      1.732      0.083      -0.000       0.002\n",
    "# ma.S.L12      -0.8769      0.026    -33.812      0.000      -0.928      -0.826\n",
    "# sigma2         0.0972      0.004     22.632      0.000       0.089       0.106\n",
    "# =============================================================================="
   ]
  },
  {
   "cell_type": "markdown",
   "metadata": {},
   "source": [
    "The model returns a lot of information, but we'll focus only on the table of coefficients. The `coef` column above shows the importance of each feature and how each one impacts the time series patterns.  The $P>|z|$ provides  the significance of each feature weight. \n",
    "\n",
    "For our time-series, we see that each weight has a p-value lower or close to 0.05, so it is reasonable to retain all of them in our model.\n",
    "\n",
    "Next, we shall run model diagnostics to ensure that none of the assumptions made by the model have been violated. \n",
    "\n",
    "The `plot_diagnostics()` function on ARIMA output below:"
   ]
  },
  {
   "cell_type": "code",
   "execution_count": null,
   "metadata": {},
   "outputs": [],
   "source": [
    "# Use plot_diagnostics with results calculated above.\n"
   ]
  },
  {
   "cell_type": "markdown",
   "metadata": {},
   "source": [
    "The purpose here to ensure that residuals remain uncorrelated, normally distributed having zero mean. In the absence of these assumptions, we can not move forward and need further tweaking of the model. \n",
    "\n",
    "Let's check for these assumptions from diagnostics plots.\n",
    "\n",
    "* In the top right plot, we see that the red KDE line follows closely with the N(0,1) line (where N(0,1)) is the standard notation for a normal distribution with mean 0 and standard deviation of 1). This is a good indication that the residuals are normally distributed.\n",
    "\n",
    "* The qq-plot on the bottom left shows that the ordered distribution of residuals (blue dots) follows the linear trend of the samples taken from a standard normal distribution with N(0, 1). Again, this is a strong indication that the residuals are normally distributed.\n",
    "\n",
    "* The residuals over time (top left plot) don't display any obvious seasonality and appear to be white noise. This is confirmed by the autocorrelation (i.e. correlogram) plot on the bottom right, which shows that the time series residuals have low correlation with lagged versions of itself.\n",
    "\n",
    "Those observations lead us to conclude that our model produces has no correlations and provides a satisfactory fit to help forecast future values.\n"
   ]
  },
  {
   "cell_type": "markdown",
   "metadata": {},
   "source": [
    "## Validating the Model\n",
    "\n",
    "### One-step Ahead Forecasting\n",
    "\n",
    "In order to validate the model, we start by comparing predicted values to real values of the time series, which will help us understand the accuracy of our forecasts. \n",
    "\n",
    "The `get_prediction()` and `conf_int()` attributes allow us to obtain the values and associated confidence intervals for forecasts of the time series.\n",
    "\n",
    "\n",
    "[Documentation of `get_predictions()`](http://www.statsmodels.org/dev/generated/statsmodels.tsa.statespace.sarimax.SARIMAXResults.get_prediction.html)\n",
    "\n",
    "[Documentation for `conf_int()`](http://www.statsmodels.org/dev/generated/statsmodels.tsa.arima_model.ARIMAResults.conf_int.html)\n",
    "\n",
    "* Get the predictions from 1st January 1998 till 2002 ( end of time-series)\n",
    "\n",
    "* Get the confidence intervals for all predictions.\n",
    "\n",
    "* For `get_predictions()`, set the `dynamic` parameter to False to ensures that we produce one-step ahead forecasts, meaning that forecasts at each point are generated using the full history up to that point."
   ]
  },
  {
   "cell_type": "code",
   "execution_count": null,
   "metadata": {},
   "outputs": [],
   "source": [
    "# Get predictions starting from 01-01-1998 and calculate confidence intervals.\n",
    "\n",
    "prediction = None\n",
    "pred_conf = None"
   ]
  },
  {
   "cell_type": "markdown",
   "metadata": {},
   "source": [
    "We shall now plot the real and forecasted values of the CO2 time series to assess how well we did. \n",
    "\n",
    "* Plot the observed values from the dataset, starting at 1990.\n",
    "* Use `predicted_mean.plot()` with `prediction` to plot predictions.\n",
    "* Plot the confidence intervals overlapping the predicted values.\n"
   ]
  },
  {
   "cell_type": "code",
   "execution_count": null,
   "metadata": {},
   "outputs": [],
   "source": [
    "# Plot real vs predicted values along with confidence interval\n",
    "\n",
    "# Plot observed values\n",
    "\n",
    "# Plot predicted values\n",
    "\n",
    "# Plot the range for confidence intervals\n",
    "\n",
    "# Set axes labels\n"
   ]
  },
  {
   "cell_type": "markdown",
   "metadata": {},
   "source": [
    "The forecasts align with the true values  as seen above,with overall increase trend. We shall also check for the accuracy of our forecasts using  **MSE (Mean Squared Error)**. This will provide us with the average error of our forecasts. For each predicted value, we compute its distance to the true value and square the result. The results need to be squared so that positive/negative differences do not cancel each other out when we compute the overall mean."
   ]
  },
  {
   "cell_type": "code",
   "execution_count": null,
   "metadata": {},
   "outputs": [],
   "source": [
    "# Get the Real and predicted values\n",
    "CO2_forecasted = None\n",
    "CO2_truth = None\n",
    "\n",
    "# Compute the mean square error\n",
    "mse = None\n",
    "\n",
    "#print('The Mean Squared Error of our forecasts is {}'.format(round(mse, 2)))\n",
    "\n",
    "# The Mean Squared Error of our forecasts is 0.07"
   ]
  },
  {
   "cell_type": "markdown",
   "metadata": {},
   "source": [
    "The MSE of our one-step ahead forecasts yields a value of 0.07, which is very low as it is close to 0. An MSE of 0 would that the estimator is predicting observations of the parameter with perfect accuracy, which would be an ideal scenario but it not typically possible.\n",
    "\n",
    "### Dynamic Forecasting\n",
    "\n",
    "We can achieve a deeper insight into model's predictive power using dynamic forecasts. In this case, we only use information from the time series up to a certain point, and after that, forecasts are generated using values from previous forecasted time points.\n",
    "\n",
    "Repeat above calculation for predictions post 1998. Use Dynamic forecasting by setting `dynamic` to True."
   ]
  },
  {
   "cell_type": "code",
   "execution_count": null,
   "metadata": {},
   "outputs": [],
   "source": [
    "# Get dynamic predictions with confidence intervals as above.\n",
    "pred_dynamic = None\n",
    "pred_dynamic_conf = None"
   ]
  },
  {
   "cell_type": "markdown",
   "metadata": {},
   "source": [
    "Plotting the observed and forecasted values of the time series, we see that the overall forecasts are accurate even when using dynamic forecasts. All forecasted values (red line) match pretty closely to the ground truth (blue line), and are well within the confidence intervals of our forecast."
   ]
  },
  {
   "cell_type": "code",
   "execution_count": null,
   "metadata": {},
   "outputs": [],
   "source": [
    "# Plot the dynamic forecast with confidence intervals as above"
   ]
  },
  {
   "cell_type": "markdown",
   "metadata": {},
   "source": [
    "Once again, we quantify the predictive performance of our forecasts by computing the MSE."
   ]
  },
  {
   "cell_type": "code",
   "execution_count": null,
   "metadata": {},
   "outputs": [],
   "source": [
    "# Extract the predicted and true values of our time series\n",
    "CO2_forecasted = None\n",
    "CO2_truth = None\n",
    "\n",
    "# Compute the mean square error\n",
    "mse = None\n",
    "# print('The Mean Squared Error of our forecasts is {}'.format(round(mse, 2)))\n",
    "\n",
    "# The Mean Squared Error of our forecasts is 1.01"
   ]
  },
  {
   "cell_type": "markdown",
   "metadata": {},
   "source": [
    "The predicted values obtained from the dynamic forecasts yield an MSE of 1.01. This is slightly higher than the one-step ahead, which is to be expected given that we are relying on less historical data from the time series.\n",
    "\n",
    "Both the one-step ahead and dynamic forecasts confirm that this time series model is valid. However, much of the interest around time series forecasting is the ability to forecast future values way ahead in time.\n"
   ]
  },
  {
   "cell_type": "markdown",
   "metadata": {},
   "source": [
    "## Producing and Visualizing Forecasts\n",
    "\n",
    "We will now describe how to leverage our seasonal ARIMA time series model to forecast future values. The `get_forecast()` attribute of our time series object can compute forecasted values for a specified number of steps ahead."
   ]
  },
  {
   "cell_type": "code",
   "execution_count": null,
   "metadata": {},
   "outputs": [],
   "source": [
    "# Get forecast 500 steps ahead in future\n",
    "prediction = None\n",
    "# Get confidence intervals of forecasts\n",
    "pred_conf = None"
   ]
  },
  {
   "cell_type": "markdown",
   "metadata": {},
   "source": [
    "We can use the output of this code to plot the time series and forecasts of its future values.\n",
    "\n"
   ]
  },
  {
   "cell_type": "code",
   "execution_count": null,
   "metadata": {},
   "outputs": [],
   "source": [
    "# Plot future predictions with confidence intervals\n"
   ]
  },
  {
   "cell_type": "markdown",
   "metadata": {},
   "source": [
    "Both the forecasts and associated confidence interval that we have generated can now be used to further understand the time series and foresee what to expect. Our forecasts show that the time series is expected to continue increasing at a steady pace.\n",
    "\n",
    "As we forecast further out into the future, it is natural for us to become less confident in our values. This is reflected by the confidence intervals generated by our model, which grow larger as we move further out into the future."
   ]
  },
  {
   "cell_type": "markdown",
   "metadata": {},
   "source": [
    "## Bonus Exercises\n",
    "\n",
    "* Change the start date of your dynamic forecasts to see how this affects the overall quality of your forecasts.\n",
    "* Try more combinations of parameters to see if you can improve the goodness-of-fit of your model.\n",
    "* Select a different metric to select the best model. For example, we used the AIC measure to find the best model, but you could seek to optimize the out-of-sample mean square error instead.\n",
    "\n",
    "\n",
    "## Summary\n",
    "\n",
    "In this lab, we described how to implement a seasonal ARIMA model in Python. We made extensive use of the pandas and statsmodels libraries and showed how to run model diagnostics, as well as how to produce forecasts of the CO2 time series."
   ]
  }
 ],
 "metadata": {
  "kernelspec": {
   "display_name": "learn-env",
   "language": "python",
   "name": "learn-env"
  },
  "language_info": {
   "codemirror_mode": {
    "name": "ipython",
    "version": 3
   },
   "file_extension": ".py",
   "mimetype": "text/x-python",
   "name": "python",
   "nbconvert_exporter": "python",
   "pygments_lexer": "ipython3",
   "version": "3.6.9"
  },
  "toc": {
   "base_numbering": 1,
   "nav_menu": {},
   "number_sections": false,
   "sideBar": true,
   "skip_h1_title": false,
   "title_cell": "Table of Contents",
   "title_sidebar": "Contents",
   "toc_cell": false,
   "toc_position": {},
   "toc_section_display": true,
   "toc_window_display": true
  }
 },
 "nbformat": 4,
 "nbformat_minor": 2
}
