{
 "cells": [
  {
   "cell_type": "markdown",
   "metadata": {},
   "source": [
    "# Section 29: Decision Trees"
   ]
  },
  {
   "cell_type": "markdown",
   "metadata": {},
   "source": [
    "- online-ds-pt-100719\n",
    "- 04/08/20\n"
   ]
  },
  {
   "cell_type": "markdown",
   "metadata": {},
   "source": [
    "## ANNOUNCEMENTS"
   ]
  },
  {
   "cell_type": "markdown",
   "metadata": {
    "ExecuteTime": {
     "end_time": "2020-04-09T19:48:55.339008Z",
     "start_time": "2020-04-09T19:48:55.336764Z"
    }
   },
   "source": [
    "I apologize for how much study group times are shifting this week and next; this is only temporary to accomodate launch week of my new cohort. \n",
    "So here is the plan for our remaining Mod 3 study groups:\n",
    "> #### 1. Tonight (04/09/20) at 7 PM EST, we will cover decision trees (sect 29). https://learn.co/study-groups/section-29-decision-trees-1\n",
    "> #### 2. Tomorrow (Friday 04/10/20) at 7 PM EST we introduce the project early (so you can start hunting for datasets).https://learn.co/study-groups/intro-to-mod-3-project-how-to-pick-a-dataset\n",
    "> #### 3. Saturday (04/11/20) at 3 PM EST we will cover Sect 30 (Ensemble Methods)https://learn.co/study-groups/section-30-ensemble-methods\n",
    "\n",
    "> ### For next week:\n",
    "> We have to shift our Tuesday study group to Wednesday (for just next week) to accommodate  the new cohort's orientation.\n",
    "> #### 1. Wednesday (04/15/20) we will cover Sect 31: Support Vector Machines at 7 PM. https://learn.co/study-groups/sect-31-support-vector-machines \n",
    "> #### 2. Thursday (04/16)) we will have Mod 3 Project Office Hours at the usual time (7 PM EST) https://learn.co/study-groups/mod-3-project-office-hours-28"
   ]
  },
  {
   "cell_type": "markdown",
   "metadata": {},
   "source": [
    "## Questions/Comments?:"
   ]
  },
  {
   "cell_type": "markdown",
   "metadata": {},
   "source": [
    "- "
   ]
  },
  {
   "cell_type": "markdown",
   "metadata": {},
   "source": [
    "## Learning Objectives"
   ]
  },
  {
   "cell_type": "markdown",
   "metadata": {},
   "source": [
    "- Data Partitioning Activity\n",
    "- Decision Tree Visual Walkthrough\n",
    "- Entropy and Information Gain\n",
    "- Activity: Decision Trees to Predict Repeat Offender Criminals \n",
    "<!--- - [Hyperparamtere Tuning and Pruning Decision Trees](https://learn.co/tracks/data-science-career-v2/module-5-machine-learning-and-big-data/section-34-decision-trees/hyperparameter-tuning-and-pruning-in-decision-trees-lab)--->"
   ]
  },
  {
   "cell_type": "markdown",
   "metadata": {},
   "source": [
    "# Introduction to Decision Trees"
   ]
  },
  {
   "cell_type": "markdown",
   "metadata": {},
   "source": [
    "## Activity: Data Partitioning"
   ]
  },
  {
   "cell_type": "code",
   "execution_count": 1,
   "metadata": {
    "ExecuteTime": {
     "end_time": "2020-04-09T19:53:52.903181Z",
     "start_time": "2020-04-09T19:53:47.173537Z"
    }
   },
   "outputs": [
    {
     "name": "stdout",
     "output_type": "stream",
     "text": [
      "fsds_1007219  v0.7.20 loaded.  Read the docs: https://fsds.readthedocs.io/en/latest/ \n"
     ]
    },
    {
     "data": {
      "text/html": [
       "<style  type=\"text/css\" >\n",
       "</style><table id=\"T_d64b55d8_7a9b_11ea_8bba_acde48001122\" ><caption>Loaded Packages and Handles</caption><thead>    <tr>        <th class=\"col_heading level0 col0\" >Handle</th>        <th class=\"col_heading level0 col1\" >Package</th>        <th class=\"col_heading level0 col2\" >Description</th>    </tr></thead><tbody>\n",
       "                <tr>\n",
       "                                <td id=\"T_d64b55d8_7a9b_11ea_8bba_acde48001122row0_col0\" class=\"data row0 col0\" >dp</td>\n",
       "                        <td id=\"T_d64b55d8_7a9b_11ea_8bba_acde48001122row0_col1\" class=\"data row0 col1\" >IPython.display</td>\n",
       "                        <td id=\"T_d64b55d8_7a9b_11ea_8bba_acde48001122row0_col2\" class=\"data row0 col2\" >Display modules with helpful display and clearing commands.</td>\n",
       "            </tr>\n",
       "            <tr>\n",
       "                                <td id=\"T_d64b55d8_7a9b_11ea_8bba_acde48001122row1_col0\" class=\"data row1 col0\" >fs</td>\n",
       "                        <td id=\"T_d64b55d8_7a9b_11ea_8bba_acde48001122row1_col1\" class=\"data row1 col1\" >fsds_100719</td>\n",
       "                        <td id=\"T_d64b55d8_7a9b_11ea_8bba_acde48001122row1_col2\" class=\"data row1 col2\" >Custom data science bootcamp student package</td>\n",
       "            </tr>\n",
       "            <tr>\n",
       "                                <td id=\"T_d64b55d8_7a9b_11ea_8bba_acde48001122row2_col0\" class=\"data row2 col0\" >mpl</td>\n",
       "                        <td id=\"T_d64b55d8_7a9b_11ea_8bba_acde48001122row2_col1\" class=\"data row2 col1\" >matplotlib</td>\n",
       "                        <td id=\"T_d64b55d8_7a9b_11ea_8bba_acde48001122row2_col2\" class=\"data row2 col2\" >Matplotlib's base OOP module with formatting artists</td>\n",
       "            </tr>\n",
       "            <tr>\n",
       "                                <td id=\"T_d64b55d8_7a9b_11ea_8bba_acde48001122row3_col0\" class=\"data row3 col0\" >plt</td>\n",
       "                        <td id=\"T_d64b55d8_7a9b_11ea_8bba_acde48001122row3_col1\" class=\"data row3 col1\" >matplotlib.pyplot</td>\n",
       "                        <td id=\"T_d64b55d8_7a9b_11ea_8bba_acde48001122row3_col2\" class=\"data row3 col2\" >Matplotlib's matlab-like plotting module</td>\n",
       "            </tr>\n",
       "            <tr>\n",
       "                                <td id=\"T_d64b55d8_7a9b_11ea_8bba_acde48001122row4_col0\" class=\"data row4 col0\" >np</td>\n",
       "                        <td id=\"T_d64b55d8_7a9b_11ea_8bba_acde48001122row4_col1\" class=\"data row4 col1\" >numpy</td>\n",
       "                        <td id=\"T_d64b55d8_7a9b_11ea_8bba_acde48001122row4_col2\" class=\"data row4 col2\" >scientific computing with Python</td>\n",
       "            </tr>\n",
       "            <tr>\n",
       "                                <td id=\"T_d64b55d8_7a9b_11ea_8bba_acde48001122row5_col0\" class=\"data row5 col0\" >pd</td>\n",
       "                        <td id=\"T_d64b55d8_7a9b_11ea_8bba_acde48001122row5_col1\" class=\"data row5 col1\" >pandas</td>\n",
       "                        <td id=\"T_d64b55d8_7a9b_11ea_8bba_acde48001122row5_col2\" class=\"data row5 col2\" >High performance data structures and tools</td>\n",
       "            </tr>\n",
       "            <tr>\n",
       "                                <td id=\"T_d64b55d8_7a9b_11ea_8bba_acde48001122row6_col0\" class=\"data row6 col0\" >sns</td>\n",
       "                        <td id=\"T_d64b55d8_7a9b_11ea_8bba_acde48001122row6_col1\" class=\"data row6 col1\" >seaborn</td>\n",
       "                        <td id=\"T_d64b55d8_7a9b_11ea_8bba_acde48001122row6_col2\" class=\"data row6 col2\" >High-level data visualization library based on matplotlib</td>\n",
       "            </tr>\n",
       "    </tbody></table>"
      ],
      "text/plain": [
       "<pandas.io.formats.style.Styler at 0x1c22b756a0>"
      ]
     },
     "metadata": {},
     "output_type": "display_data"
    },
    {
     "data": {
      "text/html": [
       "        <script type=\"text/javascript\">\n",
       "        window.PlotlyConfig = {MathJaxConfig: 'local'};\n",
       "        if (window.MathJax) {MathJax.Hub.Config({SVG: {font: \"STIX-Web\"}});}\n",
       "        if (typeof require !== 'undefined') {\n",
       "        require.undef(\"plotly\");\n",
       "        requirejs.config({\n",
       "            paths: {\n",
       "                'plotly': ['https://cdn.plot.ly/plotly-latest.min']\n",
       "            }\n",
       "        });\n",
       "        require(['plotly'], function(Plotly) {\n",
       "            window._Plotly = Plotly;\n",
       "        });\n",
       "        }\n",
       "        </script>\n",
       "        "
      ]
     },
     "metadata": {},
     "output_type": "display_data"
    },
    {
     "name": "stdout",
     "output_type": "stream",
     "text": [
      "[i] Pandas .iplot() method activated.\n"
     ]
    }
   ],
   "source": [
    "!pip install -U fsds_100719\n",
    "from fsds_100719.imports import *"
   ]
  },
  {
   "cell_type": "code",
   "execution_count": 2,
   "metadata": {
    "ExecuteTime": {
     "end_time": "2020-04-09T19:53:54.251832Z",
     "start_time": "2020-04-09T19:53:54.189424Z"
    }
   },
   "outputs": [],
   "source": [
    "from sklearn.datasets import make_blobs\n",
    "np.random.seed(27)\n",
    "plt.style.use('seaborn-talk')"
   ]
  },
  {
   "cell_type": "code",
   "execution_count": 3,
   "metadata": {
    "ExecuteTime": {
     "end_time": "2020-04-09T19:53:56.256766Z",
     "start_time": "2020-04-09T19:53:56.247112Z"
    },
    "code_folding": []
   },
   "outputs": [],
   "source": [
    "def helper_create_plot(n=300):\n",
    "    '''\n",
    "    Create a plot to practice how a decision tree makes its cuts/decisions.\n",
    "    '''\n",
    "    X = []\n",
    "    y = []\n",
    "\n",
    "    for i in range(n):\n",
    "        # Generate a random number\n",
    "        nx = np.random.random()*10\n",
    "        ny = np.random.random()*10\n",
    "        X.append((nx,ny))\n",
    "\n",
    "        if nx > 5:\n",
    "            if ny > 1:\n",
    "                y.append(0)\n",
    "            else:\n",
    "                y.append(1)\n",
    "        else:\n",
    "            if ny > 7:\n",
    "                y.append(0)\n",
    "            else:\n",
    "                y.append(1)\n",
    "\n",
    "    X = np.array(X)\n",
    "\n",
    "    f, ax = plt.subplots(1)\n",
    "\n",
    "    ax.scatter(X[:,0], X[:,1], c=y, s=20, cmap='Set1');\n",
    "    plt.xticks(range(11));\n",
    "    plt.xlabel('X1');\n",
    "    plt.yticks(range(11));\n",
    "    plt.ylabel('X2');\n",
    "    \n",
    "    return f, ax\n",
    "\n",
    "def create_line(ax, direction, threshold, x_range=(0,10), y_range=(0,10), color='blue'):\n",
    "    '''\n",
    "    Creates a vertical or horizontal cut at threshold\n",
    "    '''\n",
    "    if direction == 'vertical':\n",
    "        cut = lambda t: ax.vlines(t,y_range[0], y_range[1], colors=color)\n",
    "    elif direction == 'horizontal':\n",
    "        cut = lambda t: ax.hlines(t,x_range[0], x_range[1], colors=color)\n",
    "    else:\n",
    "        print('Direction does not exist')\n",
    "        return\n",
    "    \n",
    "    cut(threshold)\n",
    "    "
   ]
  },
  {
   "cell_type": "code",
   "execution_count": 4,
   "metadata": {
    "ExecuteTime": {
     "end_time": "2020-04-09T19:53:58.447273Z",
     "start_time": "2020-04-09T19:53:58.267704Z"
    }
   },
   "outputs": [
    {
     "data": {
      "image/png": "[encoded data removed]",
      "text/plain": [
       "<Figure size 748.8x514.8 with 1 Axes>"
      ]
     },
     "metadata": {
      "needs_background": "light"
     },
     "output_type": "display_data"
    }
   ],
   "source": [
    "f,x = helper_create_plot()"
   ]
  },
  {
   "cell_type": "markdown",
   "metadata": {},
   "source": [
    "### Q1: Looking at the example above, would a **vertical** or a **horizontal** cut better split the classes?\n",
    "\n",
    "Also, what threshold should we use?"
   ]
  },
  {
   "cell_type": "code",
   "execution_count": null,
   "metadata": {
    "ExecuteTime": {
     "end_time": "2020-04-09T18:06:35.063461Z",
     "start_time": "2020-04-09T18:06:35.061116Z"
    }
   },
   "outputs": [],
   "source": [
    "# 'horizontal' or 'vertical'\n",
    "q1_direction = None\n",
    "# Between 0 and 10\n",
    "q1_threshold = None"
   ]
  },
  {
   "cell_type": "code",
   "execution_count": null,
   "metadata": {
    "ExecuteTime": {
     "end_time": "2020-04-09T18:06:35.380144Z",
     "start_time": "2020-04-09T18:06:35.065814Z"
    }
   },
   "outputs": [],
   "source": [
    "# Test your answer by running this cell\n",
    "f,ax = helper_create_plot()\n",
    "create_line(ax,q1_direction,q1_threshold)"
   ]
  },
  {
   "cell_type": "markdown",
   "metadata": {
    "heading_collapsed": true
   },
   "source": [
    "#### Solution"
   ]
  },
  {
   "cell_type": "markdown",
   "metadata": {
    "hidden": true
   },
   "source": [
    "A **vertical** cut/line would do the best to split with a threshold at about **5**"
   ]
  },
  {
   "cell_type": "code",
   "execution_count": null,
   "metadata": {
    "ExecuteTime": {
     "end_time": "2020-04-09T18:06:35.604720Z",
     "start_time": "2020-04-09T18:06:35.381425Z"
    },
    "hidden": true
   },
   "outputs": [],
   "source": [
    "q1_direction = 'vertical'\n",
    "q1_threshold = 5\n",
    "\n",
    "f,ax = helper_create_plot();\n",
    "create_line(ax,q1_direction, q1_threshold);"
   ]
  },
  {
   "cell_type": "markdown",
   "metadata": {},
   "source": [
    "### Q2: Splitting further, what would be the next line & threshold to use?"
   ]
  },
  {
   "cell_type": "code",
   "execution_count": null,
   "metadata": {
    "ExecuteTime": {
     "end_time": "2020-04-09T18:06:35.609264Z",
     "start_time": "2020-04-09T18:06:35.606990Z"
    }
   },
   "outputs": [],
   "source": [
    "# 'horizontal' or 'vertical'\n",
    "q2_direction = None\n",
    "# Between 0 and 10\n",
    "q2_threshold = None\n"
   ]
  },
  {
   "cell_type": "code",
   "execution_count": null,
   "metadata": {
    "ExecuteTime": {
     "end_time": "2020-04-09T18:06:35.818851Z",
     "start_time": "2020-04-09T18:06:35.611281Z"
    }
   },
   "outputs": [],
   "source": [
    "# Test your answer by running this cell\n",
    "f,ax = helper_create_plot()\n",
    "create_line(ax,q1_direction, q1_threshold)\n",
    "create_line(ax,q2_direction, q2_threshold, x_range=(0, q1_threshold))"
   ]
  },
  {
   "cell_type": "markdown",
   "metadata": {
    "heading_collapsed": true
   },
   "source": [
    "#### Solution:\n"
   ]
  },
  {
   "cell_type": "markdown",
   "metadata": {
    "hidden": true
   },
   "source": [
    "A **horizontal** cut/line would do the best to split with a threshold at about **7**"
   ]
  },
  {
   "cell_type": "code",
   "execution_count": null,
   "metadata": {
    "ExecuteTime": {
     "end_time": "2020-04-09T18:06:36.034249Z",
     "start_time": "2020-04-09T18:06:35.821692Z"
    },
    "hidden": true
   },
   "outputs": [],
   "source": [
    "q2_direction = 'horizontal'\n",
    "q2_threshold = 7\n",
    "\n",
    "f,ax = helper_create_plot()\n",
    "create_line(ax,q1_direction,q1_threshold)\n",
    "create_line(ax,q2_direction, q2_threshold, x_range=(0, q1_threshold))"
   ]
  },
  {
   "cell_type": "markdown",
   "metadata": {},
   "source": [
    "### Q3:  again."
   ]
  },
  {
   "cell_type": "code",
   "execution_count": null,
   "metadata": {
    "ExecuteTime": {
     "end_time": "2020-04-09T18:06:36.037674Z",
     "start_time": "2020-04-09T18:06:36.035546Z"
    }
   },
   "outputs": [],
   "source": [
    "# 'horizontal' or 'vertical'\n",
    "q3_direction = None\n",
    "# Between 0 and 10\n",
    "q3_threshold = None"
   ]
  },
  {
   "cell_type": "code",
   "execution_count": null,
   "metadata": {
    "ExecuteTime": {
     "end_time": "2020-04-09T18:06:36.255183Z",
     "start_time": "2020-04-09T18:06:36.039470Z"
    }
   },
   "outputs": [],
   "source": [
    "# Test your answer by running this cell\n",
    "f,ax = helper_create_plot()\n",
    "create_line(ax, q1_direction, q1_threshold)\n",
    "create_line(ax, q2_direction, q2_threshold, x_range=(0, q1_threshold))\n",
    "create_line(ax, q3_direction, q3_threshold, x_range=(q1_threshold, 10))"
   ]
  },
  {
   "cell_type": "markdown",
   "metadata": {},
   "source": [
    "#### Solution\n"
   ]
  },
  {
   "cell_type": "markdown",
   "metadata": {},
   "source": [
    "A **horizontal** cut/line would do the best to split with a threshold at about **1**"
   ]
  },
  {
   "cell_type": "code",
   "execution_count": null,
   "metadata": {
    "ExecuteTime": {
     "end_time": "2020-04-09T18:06:36.489913Z",
     "start_time": "2020-04-09T18:06:36.256696Z"
    }
   },
   "outputs": [],
   "source": [
    "q3_direction = 'horizontal'\n",
    "q3_threshold = 1\n",
    "\n",
    "f,ax = helper_create_plot()\n",
    "create_line(ax, q1_direction, q1_threshold)\n",
    "create_line(ax, q2_direction, q2_threshold, x_range=(0, q1_threshold))\n",
    "create_line(ax, q3_direction, q3_threshold, x_range=(q1_threshold, 10))"
   ]
  },
  {
   "cell_type": "markdown",
   "metadata": {},
   "source": [
    "<img src=\"https://raw.githubusercontent.com/jirvingphd/fsds_100719_cohort_notes/master/images/ex-decision-tree.png\" width=70%>\n",
    "\n",
    "\n"
   ]
  },
  {
   "cell_type": "markdown",
   "metadata": {},
   "source": [
    "## Decision Trees Overview"
   ]
  },
  {
   "cell_type": "markdown",
   "metadata": {},
   "source": [
    "- **DECISION TREES:**\n",
    "    - Supervised Learning\n",
    "    - Classification OR Regression\n",
    "    - **[Interactive Visual Demonstration](http://www.r2d3.us/visual-intro-to-machine-learning-part-1/)**\n",
    "\n",
    "\n",
    "- **ADVANTAGES**\n",
    "    - Interpretability \n",
    "    - Render feature importance\n",
    "    - Less data pre-processing needed\n",
    "    \n",
    "    \n",
    "- **DISADVANTAGES**\n",
    "    - \"Greedy search\" -  short sighted optimization\n",
    "    - Do not predict a continuous output (for regression)\n",
    "    - Does not predict beyond range of the training data\n",
    "    - Overfits SUPER easily\n",
    "\n",
    "<!---<img src=\"https://raw.githubusercontent.com/learn-co-students/dsc-intro-to-supervised-learning-online-ds-ft-100719/master/images/new_ml-hierarchy.png\" width=60%>--->\n"
   ]
  },
  {
   "cell_type": "markdown",
   "metadata": {},
   "source": [
    "## Direction Acyclic Graphs (DAG) Definition\n"
   ]
  },
  {
   "cell_type": "markdown",
   "metadata": {},
   "source": [
    "- **Direction Acyclic Graph**\n",
    "> A decision tree is a DAG type of classifier where each branch node represents a choice between a number of alternatives and each leaf node represents a classification. An unknown (or test) instance is routed down the tree according to the values of the attributes in the successive nodes. When the instance reaches a leaf, it is classified according to the label assigned to the corresponded leaf."
   ]
  },
  {
   "cell_type": "markdown",
   "metadata": {},
   "source": [
    "<img src='https://raw.githubusercontent.com/jirvingphd/dsc-introduction-to-decision-trees-online-ds-pt-100719/master/images/dt1.png' width=60%>"
   ]
  },
  {
   "cell_type": "markdown",
   "metadata": {},
   "source": [
    "# Entropy and Information Gain"
   ]
  },
  {
   "cell_type": "markdown",
   "metadata": {},
   "source": [
    "## Entropy and decision trees\n"
   ]
  },
  {
   "cell_type": "markdown",
   "metadata": {},
   "source": [
    "> Decision trees aim to tidy the data by separating the samples and re-grouping them in the classes they belong to.\n",
    "\n",
    "<img src=\"https://raw.githubusercontent.com/learn-co-students/dsc-entropy-and-information-gain-online-ds-ft-100719/master/images/split_fs.png\" width=400>"
   ]
  },
  {
   "cell_type": "markdown",
   "metadata": {},
   "source": [
    "\n",
    "## Shannon's Entropy\n",
    "\n",
    "> __Entropy is a measure of disorder or uncertainty.__\n",
    "> \n",
    "> The entropy of a variable is the \"amount of information\" contained in the variable. \n",
    ">\n",
    "> - We can informally describe entropy as an indicator of how messy your data is.  A high degree of entropy always reflects \"messed-up\" data with low/no information content. \n",
    "\n",
    "$$\\large H(S) = -\\sum (P_i . log_2(P_i))$$\n",
    "\n",
    "When  $H(S) = 0$, this means that the set $S$ is perfectly classified, meaning that there is no disorganization in our data because all of our data in S is the exact same class. \n",
    "\n",
    "\n",
    "\n"
   ]
  },
  {
   "cell_type": "markdown",
   "metadata": {},
   "source": [
    "## Information Gain"
   ]
  },
  {
   "cell_type": "markdown",
   "metadata": {},
   "source": [
    "\n",
    "> __Information gain is an impurity/uncertainty based criterion that uses the entropy as the measure of impurity.__ "
   ]
  },
  {
   "cell_type": "markdown",
   "metadata": {},
   "source": [
    "\n",
    "$$Information~Gain  = Entropy_{parent} - Entropy_{child}.[child ~weighted ~average]$$\n",
    "\n",
    "\n",
    "$$\\large IG(A, S) = H(S) - \\sum{}{p(t)H(t)}  $$\n",
    "\n",
    "Where:\n",
    "\n",
    "* $H(S)$ is the entropy of set $S$\n",
    "* $t$ is a subset of the attributes contained in $A$ (we represent all subsets $t$ as $T$)\n",
    "* $p(t)$ is the proportion of the number of elements in $t$ to the number of elements in $S$\n",
    "* $H(t)$ is the entropy of a given subset $t$ \n",
    "\n",
    "In the ID3 algorithm, we use entropy to calculate information gain, and then pick the attribute with the largest possible information gain to split our data on at each iteration. \n"
   ]
  },
  {
   "cell_type": "markdown",
   "metadata": {},
   "source": [
    "# Decision Tree Process"
   ]
  },
  {
   "cell_type": "markdown",
   "metadata": {},
   "source": [
    "1. There are features and a target (either class or value)\n",
    "\n",
    "\n",
    "2. Train the tree to make a *decision* (a split) about which feature best separates the data, based on some *metric* \n",
    "    - Data are split into partitions/branches\n",
    "    - Metrics include 'Gini Index', 'Information Gain'\n",
    "    \n",
    "    \n",
    "3. Continue growing each branch of the tree until a stopping criterion is reached.\n",
    "\n",
    "\n",
    "4. Keep doing that until a **stopping condition** is hit.\n",
    "    - Number of data points in a final partition\n",
    "    - Layers deep\n",
    "    \n",
    "5. Test the trees decisions using previously unseen data.\n",
    "\n",
    "<img src=\"https://raw.githubusercontent.com/learn-co-students/dsc-introduction-to-decision-trees-online-ds-ft-100719/master/images/dt3.png\" width=65%>"
   ]
  },
  {
   "cell_type": "markdown",
   "metadata": {},
   "source": [
    "# Implementation with sklearn"
   ]
  },
  {
   "cell_type": "code",
   "execution_count": 6,
   "metadata": {
    "ExecuteTime": {
     "end_time": "2020-04-09T19:56:29.022288Z",
     "start_time": "2020-04-09T19:56:28.796221Z"
    }
   },
   "outputs": [
    {
     "data": {
      "text/html": [
       "<div>\n",
       "<style scoped>\n",
       "    .dataframe tbody tr th:only-of-type {\n",
       "        vertical-align: middle;\n",
       "    }\n",
       "\n",
       "    .dataframe tbody tr th {\n",
       "        vertical-align: top;\n",
       "    }\n",
       "\n",
       "    .dataframe thead th {\n",
       "        text-align: right;\n",
       "    }\n",
       "</style>\n",
       "<table border=\"1\" class=\"dataframe\">\n",
       "  <thead>\n",
       "    <tr style=\"text-align: right;\">\n",
       "      <th></th>\n",
       "      <th>outlook</th>\n",
       "      <th>temp</th>\n",
       "      <th>humidity</th>\n",
       "      <th>windy</th>\n",
       "      <th>play</th>\n",
       "    </tr>\n",
       "  </thead>\n",
       "  <tbody>\n",
       "    <tr>\n",
       "      <td>0</td>\n",
       "      <td>sunny</td>\n",
       "      <td>hot</td>\n",
       "      <td>high</td>\n",
       "      <td>0</td>\n",
       "      <td>0</td>\n",
       "    </tr>\n",
       "    <tr>\n",
       "      <td>1</td>\n",
       "      <td>sunny</td>\n",
       "      <td>hot</td>\n",
       "      <td>high</td>\n",
       "      <td>1</td>\n",
       "      <td>0</td>\n",
       "    </tr>\n",
       "    <tr>\n",
       "      <td>2</td>\n",
       "      <td>overcast</td>\n",
       "      <td>hot</td>\n",
       "      <td>high</td>\n",
       "      <td>0</td>\n",
       "      <td>1</td>\n",
       "    </tr>\n",
       "    <tr>\n",
       "      <td>3</td>\n",
       "      <td>rainy</td>\n",
       "      <td>mild</td>\n",
       "      <td>high</td>\n",
       "      <td>0</td>\n",
       "      <td>1</td>\n",
       "    </tr>\n",
       "    <tr>\n",
       "      <td>4</td>\n",
       "      <td>rainy</td>\n",
       "      <td>cool</td>\n",
       "      <td>normal</td>\n",
       "      <td>0</td>\n",
       "      <td>1</td>\n",
       "    </tr>\n",
       "  </tbody>\n",
       "</table>\n",
       "</div>"
      ],
      "text/plain": [
       "    outlook  temp humidity  windy  play\n",
       "0     sunny   hot     high      0     0\n",
       "1     sunny   hot     high      1     0\n",
       "2  overcast   hot     high      0     1\n",
       "3     rainy  mild     high      0     1\n",
       "4     rainy  cool   normal      0     1"
      ]
     },
     "execution_count": 6,
     "metadata": {},
     "output_type": "execute_result"
    }
   ],
   "source": [
    "url=\"https://raw.githubusercontent.com/jirvingphd/dsc-decision-trees-with-sklearn-codealong-online-ds-pt-100719/master/tennis.csv\"\n",
    "df = pd.read_csv(url)\n",
    "df['windy'] = df['windy'].astype(int)\n",
    "df['play'] = df['play'].map({'no':0,'yes':1})\n",
    "df.head()"
   ]
  },
  {
   "cell_type": "code",
   "execution_count": 8,
   "metadata": {
    "ExecuteTime": {
     "end_time": "2020-04-09T19:56:36.021245Z",
     "start_time": "2020-04-09T19:56:36.010783Z"
    }
   },
   "outputs": [
    {
     "data": {
      "text/html": [
       "<div>\n",
       "<style scoped>\n",
       "    .dataframe tbody tr th:only-of-type {\n",
       "        vertical-align: middle;\n",
       "    }\n",
       "\n",
       "    .dataframe tbody tr th {\n",
       "        vertical-align: top;\n",
       "    }\n",
       "\n",
       "    .dataframe thead th {\n",
       "        text-align: right;\n",
       "    }\n",
       "</style>\n",
       "<table border=\"1\" class=\"dataframe\">\n",
       "  <thead>\n",
       "    <tr style=\"text-align: right;\">\n",
       "      <th></th>\n",
       "      <th>outlook</th>\n",
       "      <th>temp</th>\n",
       "      <th>humidity</th>\n",
       "      <th>windy</th>\n",
       "    </tr>\n",
       "  </thead>\n",
       "  <tbody>\n",
       "    <tr>\n",
       "      <td>0</td>\n",
       "      <td>sunny</td>\n",
       "      <td>hot</td>\n",
       "      <td>high</td>\n",
       "      <td>0</td>\n",
       "    </tr>\n",
       "    <tr>\n",
       "      <td>1</td>\n",
       "      <td>sunny</td>\n",
       "      <td>hot</td>\n",
       "      <td>high</td>\n",
       "      <td>1</td>\n",
       "    </tr>\n",
       "    <tr>\n",
       "      <td>2</td>\n",
       "      <td>overcast</td>\n",
       "      <td>hot</td>\n",
       "      <td>high</td>\n",
       "      <td>0</td>\n",
       "    </tr>\n",
       "    <tr>\n",
       "      <td>3</td>\n",
       "      <td>rainy</td>\n",
       "      <td>mild</td>\n",
       "      <td>high</td>\n",
       "      <td>0</td>\n",
       "    </tr>\n",
       "    <tr>\n",
       "      <td>4</td>\n",
       "      <td>rainy</td>\n",
       "      <td>cool</td>\n",
       "      <td>normal</td>\n",
       "      <td>0</td>\n",
       "    </tr>\n",
       "    <tr>\n",
       "      <td>5</td>\n",
       "      <td>rainy</td>\n",
       "      <td>cool</td>\n",
       "      <td>normal</td>\n",
       "      <td>1</td>\n",
       "    </tr>\n",
       "    <tr>\n",
       "      <td>6</td>\n",
       "      <td>overcast</td>\n",
       "      <td>cool</td>\n",
       "      <td>normal</td>\n",
       "      <td>1</td>\n",
       "    </tr>\n",
       "    <tr>\n",
       "      <td>7</td>\n",
       "      <td>sunny</td>\n",
       "      <td>mild</td>\n",
       "      <td>high</td>\n",
       "      <td>0</td>\n",
       "    </tr>\n",
       "    <tr>\n",
       "      <td>8</td>\n",
       "      <td>sunny</td>\n",
       "      <td>cool</td>\n",
       "      <td>normal</td>\n",
       "      <td>0</td>\n",
       "    </tr>\n",
       "    <tr>\n",
       "      <td>9</td>\n",
       "      <td>rainy</td>\n",
       "      <td>mild</td>\n",
       "      <td>normal</td>\n",
       "      <td>0</td>\n",
       "    </tr>\n",
       "    <tr>\n",
       "      <td>10</td>\n",
       "      <td>sunny</td>\n",
       "      <td>mild</td>\n",
       "      <td>normal</td>\n",
       "      <td>1</td>\n",
       "    </tr>\n",
       "    <tr>\n",
       "      <td>11</td>\n",
       "      <td>overcast</td>\n",
       "      <td>mild</td>\n",
       "      <td>high</td>\n",
       "      <td>1</td>\n",
       "    </tr>\n",
       "    <tr>\n",
       "      <td>12</td>\n",
       "      <td>overcast</td>\n",
       "      <td>hot</td>\n",
       "      <td>normal</td>\n",
       "      <td>0</td>\n",
       "    </tr>\n",
       "    <tr>\n",
       "      <td>13</td>\n",
       "      <td>rainy</td>\n",
       "      <td>mild</td>\n",
       "      <td>high</td>\n",
       "      <td>1</td>\n",
       "    </tr>\n",
       "  </tbody>\n",
       "</table>\n",
       "</div>"
      ],
      "text/plain": [
       "     outlook  temp humidity  windy\n",
       "0      sunny   hot     high      0\n",
       "1      sunny   hot     high      1\n",
       "2   overcast   hot     high      0\n",
       "3      rainy  mild     high      0\n",
       "4      rainy  cool   normal      0\n",
       "5      rainy  cool   normal      1\n",
       "6   overcast  cool   normal      1\n",
       "7      sunny  mild     high      0\n",
       "8      sunny  cool   normal      0\n",
       "9      rainy  mild   normal      0\n",
       "10     sunny  mild   normal      1\n",
       "11  overcast  mild     high      1\n",
       "12  overcast   hot   normal      0\n",
       "13     rainy  mild     high      1"
      ]
     },
     "execution_count": 8,
     "metadata": {},
     "output_type": "execute_result"
    }
   ],
   "source": [
    "y = df['play'].copy()\n",
    "X =  df.drop(columns=['play']).copy()\n",
    "X"
   ]
  },
  {
   "cell_type": "code",
   "execution_count": 9,
   "metadata": {
    "ExecuteTime": {
     "end_time": "2020-04-09T19:56:40.833625Z",
     "start_time": "2020-04-09T19:56:40.828884Z"
    }
   },
   "outputs": [],
   "source": [
    "from sklearn.model_selection import train_test_split\n",
    "X_train, X_test, y_train, y_test = train_test_split(X,y,test_size=0.3,random_state=42)"
   ]
  },
  {
   "cell_type": "code",
   "execution_count": 13,
   "metadata": {
    "ExecuteTime": {
     "end_time": "2020-04-09T19:57:26.605473Z",
     "start_time": "2020-04-09T19:57:26.586859Z"
    }
   },
   "outputs": [
    {
     "data": {
      "text/html": [
       "<div>\n",
       "<style scoped>\n",
       "    .dataframe tbody tr th:only-of-type {\n",
       "        vertical-align: middle;\n",
       "    }\n",
       "\n",
       "    .dataframe tbody tr th {\n",
       "        vertical-align: top;\n",
       "    }\n",
       "\n",
       "    .dataframe thead th {\n",
       "        text-align: right;\n",
       "    }\n",
       "</style>\n",
       "<table border=\"1\" class=\"dataframe\">\n",
       "  <thead>\n",
       "    <tr style=\"text-align: right;\">\n",
       "      <th></th>\n",
       "      <th>outlook_overcast</th>\n",
       "      <th>outlook_rainy</th>\n",
       "      <th>outlook_sunny</th>\n",
       "      <th>temp_cool</th>\n",
       "      <th>temp_hot</th>\n",
       "      <th>temp_mild</th>\n",
       "      <th>humidity_high</th>\n",
       "      <th>humidity_normal</th>\n",
       "      <th>windy_0</th>\n",
       "      <th>windy_1</th>\n",
       "    </tr>\n",
       "  </thead>\n",
       "  <tbody>\n",
       "    <tr>\n",
       "      <td>9</td>\n",
       "      <td>0.0</td>\n",
       "      <td>1.0</td>\n",
       "      <td>0.0</td>\n",
       "      <td>0.0</td>\n",
       "      <td>0.0</td>\n",
       "      <td>1.0</td>\n",
       "      <td>0.0</td>\n",
       "      <td>1.0</td>\n",
       "      <td>1.0</td>\n",
       "      <td>0.0</td>\n",
       "    </tr>\n",
       "    <tr>\n",
       "      <td>11</td>\n",
       "      <td>1.0</td>\n",
       "      <td>0.0</td>\n",
       "      <td>0.0</td>\n",
       "      <td>0.0</td>\n",
       "      <td>0.0</td>\n",
       "      <td>1.0</td>\n",
       "      <td>1.0</td>\n",
       "      <td>0.0</td>\n",
       "      <td>0.0</td>\n",
       "      <td>1.0</td>\n",
       "    </tr>\n",
       "    <tr>\n",
       "      <td>0</td>\n",
       "      <td>0.0</td>\n",
       "      <td>0.0</td>\n",
       "      <td>1.0</td>\n",
       "      <td>0.0</td>\n",
       "      <td>1.0</td>\n",
       "      <td>0.0</td>\n",
       "      <td>1.0</td>\n",
       "      <td>0.0</td>\n",
       "      <td>1.0</td>\n",
       "      <td>0.0</td>\n",
       "    </tr>\n",
       "    <tr>\n",
       "      <td>12</td>\n",
       "      <td>1.0</td>\n",
       "      <td>0.0</td>\n",
       "      <td>0.0</td>\n",
       "      <td>0.0</td>\n",
       "      <td>1.0</td>\n",
       "      <td>0.0</td>\n",
       "      <td>0.0</td>\n",
       "      <td>1.0</td>\n",
       "      <td>1.0</td>\n",
       "      <td>0.0</td>\n",
       "    </tr>\n",
       "    <tr>\n",
       "      <td>5</td>\n",
       "      <td>0.0</td>\n",
       "      <td>1.0</td>\n",
       "      <td>0.0</td>\n",
       "      <td>1.0</td>\n",
       "      <td>0.0</td>\n",
       "      <td>0.0</td>\n",
       "      <td>0.0</td>\n",
       "      <td>1.0</td>\n",
       "      <td>0.0</td>\n",
       "      <td>1.0</td>\n",
       "    </tr>\n",
       "  </tbody>\n",
       "</table>\n",
       "</div>"
      ],
      "text/plain": [
       "    outlook_overcast  outlook_rainy  outlook_sunny  temp_cool  temp_hot  \\\n",
       "9                0.0            1.0            0.0        0.0       0.0   \n",
       "11               1.0            0.0            0.0        0.0       0.0   \n",
       "0                0.0            0.0            1.0        0.0       1.0   \n",
       "12               1.0            0.0            0.0        0.0       1.0   \n",
       "5                0.0            1.0            0.0        1.0       0.0   \n",
       "\n",
       "    temp_mild  humidity_high  humidity_normal  windy_0  windy_1  \n",
       "9         1.0            0.0              1.0      1.0      0.0  \n",
       "11        1.0            1.0              0.0      0.0      1.0  \n",
       "0         0.0            1.0              0.0      1.0      0.0  \n",
       "12        0.0            0.0              1.0      1.0      0.0  \n",
       "5         0.0            0.0              1.0      0.0      1.0  "
      ]
     },
     "execution_count": 13,
     "metadata": {},
     "output_type": "execute_result"
    }
   ],
   "source": [
    "from sklearn.preprocessing import OneHotEncoder\n",
    "encoder = OneHotEncoder(handle_unknown='ignore')\n",
    "encoder.fit(X_train)\n",
    "\n",
    "def remake_df(X_split, X_df,encoder):\n",
    "    return pd.DataFrame(X_split, columns=encoder.get_feature_names(X_df.columns), index=X_df.index)\n",
    "\n",
    "X_train_ohe = encoder.transform(X_train).toarray()\n",
    "X_test_ohe = encoder.transform(X_test).toarray()\n",
    "\n",
    "\n",
    "X_train_ohe = remake_df(X_train_ohe,X_train,encoder)\n",
    "X_test_ohe = remake_df(X_test_ohe,X_test,encoder)\n",
    "\n",
    "X_test_ohe"
   ]
  },
  {
   "cell_type": "code",
   "execution_count": 15,
   "metadata": {
    "ExecuteTime": {
     "end_time": "2020-04-09T19:57:38.258167Z",
     "start_time": "2020-04-09T19:57:38.113334Z"
    }
   },
   "outputs": [],
   "source": [
    "from sklearn.tree import DecisionTreeClassifier \n",
    "from sklearn.tree import export_graphviz\n",
    "from IPython.display import Image  \n",
    "from sklearn.tree import export_graphviz\n",
    "from pydotplus import graph_from_dot_data"
   ]
  },
  {
   "cell_type": "code",
   "execution_count": 16,
   "metadata": {
    "ExecuteTime": {
     "end_time": "2020-04-09T19:57:44.354479Z",
     "start_time": "2020-04-09T19:57:44.143752Z"
    }
   },
   "outputs": [
    {
     "name": "stdout",
     "output_type": "stream",
     "text": [
      "              precision    recall  f1-score   support\n",
      "\n",
      "           0       0.50      0.50      0.50         2\n",
      "           1       0.67      0.67      0.67         3\n",
      "\n",
      "    accuracy                           0.60         5\n",
      "   macro avg       0.58      0.58      0.58         5\n",
      "weighted avg       0.60      0.60      0.60         5\n",
      "\n"
     ]
    },
    {
     "data": {
      "text/plain": [
       "<sklearn.metrics._plot.confusion_matrix.ConfusionMatrixDisplay at 0x1c29e347b8>"
      ]
     },
     "execution_count": 16,
     "metadata": {},
     "output_type": "execute_result"
    },
    {
     "data": {
      "image/png": "[encoded data removed]",
      "text/plain": [
       "<Figure size 748.8x514.8 with 2 Axes>"
      ]
     },
     "metadata": {
      "needs_background": "light"
     },
     "output_type": "display_data"
    }
   ],
   "source": [
    "from sklearn import metrics\n",
    "clf = DecisionTreeClassifier(criterion='entropy')\n",
    "clf.fit(X_train_ohe,y_train)\n",
    "y_hat_test = clf.predict(X_test_ohe)\n",
    "\n",
    "print(metrics.classification_report(y_test,y_hat_test))\n",
    "metrics.plot_confusion_matrix(clf,X_test_ohe,y_test,cmap='Blues',\n",
    "                              normalize='true')"
   ]
  },
  {
   "cell_type": "markdown",
   "metadata": {},
   "source": [
    "## Plot the decision tree "
   ]
  },
  {
   "cell_type": "markdown",
   "metadata": {},
   "source": [
    "You can see what rules the tree learned by plotting this decision tree. To do this, you need to use additional packages such as `pytdotplus`. \n",
    "\n",
    "> **Note:** If you are run into errors while generating the plot, you probably need to install `python-graphviz` in your machine using `conda install python-graphviz`. "
   ]
  },
  {
   "cell_type": "markdown",
   "metadata": {},
   "source": [
    "> NOTE ON INSTALLING GRAPHVIZ:\n",
    "- On windows you must [download the Graphviz installer](https://www.graphviz.org/download/)(Choose the \"stable\" release), install it, and then add the `bin` folder inside of it to your system's Path.\n",
    "- [To Edit your path on MaC](https://www.architectryan.com/2012/10/02/add-to-the-path-on-mac-os-x-mountain-lion/)\n",
    "\n",
    "- [TO Edit Your Path on Windows (10)](https://www.architectryan.com/2018/03/17/add-to-the-path-on-windows-10/)"
   ]
  },
  {
   "cell_type": "code",
   "execution_count": 17,
   "metadata": {
    "ExecuteTime": {
     "end_time": "2020-04-09T19:57:55.877462Z",
     "start_time": "2020-04-09T19:57:55.176267Z"
    }
   },
   "outputs": [
    {
     "data": {
      "image/png": "[encoded data removed]",
      "text/plain": [
       "<IPython.core.display.Image object>"
      ]
     },
     "execution_count": 17,
     "metadata": {},
     "output_type": "execute_result"
    }
   ],
   "source": [
    "# Create DOT data\n",
    "dot_data = export_graphviz(clf, out_file=None, \n",
    "                           feature_names=X_train_ohe.columns,  \n",
    "                           class_names=np.unique(y).astype('str'), \n",
    "                           filled=True, rounded=True, special_characters=True)\n",
    "\n",
    "# Draw graph\n",
    "graph = graph_from_dot_data(dot_data)  \n",
    "\n",
    "# Show graph\n",
    "Image(graph.create_png())"
   ]
  },
  {
   "cell_type": "code",
   "execution_count": null,
   "metadata": {
    "ExecuteTime": {
     "end_time": "2020-04-09T17:37:49.162213Z",
     "start_time": "2020-04-09T17:37:49.157082Z"
    }
   },
   "outputs": [],
   "source": [
    "metrics.accuracy_score(y_test,y_hat_test)"
   ]
  },
  {
   "cell_type": "markdown",
   "metadata": {},
   "source": [
    "# Activity: Iowa Prisoners"
   ]
  },
  {
   "cell_type": "code",
   "execution_count": 29,
   "metadata": {
    "ExecuteTime": {
     "end_time": "2020-04-09T20:14:24.325131Z",
     "start_time": "2020-04-09T20:14:24.323130Z"
    }
   },
   "outputs": [],
   "source": [
    "# df2 = fs.datasets.load_iowa_prisoners(vers='raw')\n",
    "# df2.head()"
   ]
  },
  {
   "cell_type": "code",
   "execution_count": 30,
   "metadata": {
    "ExecuteTime": {
     "end_time": "2020-04-09T20:14:42.371021Z",
     "start_time": "2020-04-09T20:14:41.759212Z"
    }
   },
   "outputs": [
    {
     "data": {
      "text/html": [
       "<div>\n",
       "<style scoped>\n",
       "    .dataframe tbody tr th:only-of-type {\n",
       "        vertical-align: middle;\n",
       "    }\n",
       "\n",
       "    .dataframe tbody tr th {\n",
       "        vertical-align: top;\n",
       "    }\n",
       "\n",
       "    .dataframe thead th {\n",
       "        text-align: right;\n",
       "    }\n",
       "</style>\n",
       "<table border=\"1\" class=\"dataframe\">\n",
       "  <thead>\n",
       "    <tr style=\"text-align: right;\">\n",
       "      <th></th>\n",
       "      <th>yr_released</th>\n",
       "      <th>report_year</th>\n",
       "      <th>race_ethnicity</th>\n",
       "      <th>age_released</th>\n",
       "      <th>crime_class</th>\n",
       "      <th>crime_type</th>\n",
       "      <th>crime_subtype</th>\n",
       "      <th>release_type</th>\n",
       "      <th>super_dist</th>\n",
       "      <th>recidivist</th>\n",
       "      <th>target_pop</th>\n",
       "      <th>sex</th>\n",
       "    </tr>\n",
       "  </thead>\n",
       "  <tbody>\n",
       "    <tr>\n",
       "      <td>0</td>\n",
       "      <td>2010</td>\n",
       "      <td>2013</td>\n",
       "      <td>Black - Non-Hispanic</td>\n",
       "      <td>25-34</td>\n",
       "      <td>C Felony</td>\n",
       "      <td>Violent</td>\n",
       "      <td>Robbery</td>\n",
       "      <td>Parole</td>\n",
       "      <td>7JD</td>\n",
       "      <td>Yes</td>\n",
       "      <td>Yes</td>\n",
       "      <td>Male</td>\n",
       "    </tr>\n",
       "    <tr>\n",
       "      <td>1</td>\n",
       "      <td>2010</td>\n",
       "      <td>2013</td>\n",
       "      <td>White - Non-Hispanic</td>\n",
       "      <td>25-34</td>\n",
       "      <td>D Felony</td>\n",
       "      <td>Property</td>\n",
       "      <td>Theft</td>\n",
       "      <td>Discharged – End of Sentence</td>\n",
       "      <td>NaN</td>\n",
       "      <td>Yes</td>\n",
       "      <td>No</td>\n",
       "      <td>Male</td>\n",
       "    </tr>\n",
       "    <tr>\n",
       "      <td>2</td>\n",
       "      <td>2010</td>\n",
       "      <td>2013</td>\n",
       "      <td>White - Non-Hispanic</td>\n",
       "      <td>35-44</td>\n",
       "      <td>B Felony</td>\n",
       "      <td>Drug</td>\n",
       "      <td>Trafficking</td>\n",
       "      <td>Parole</td>\n",
       "      <td>5JD</td>\n",
       "      <td>Yes</td>\n",
       "      <td>Yes</td>\n",
       "      <td>Male</td>\n",
       "    </tr>\n",
       "    <tr>\n",
       "      <td>3</td>\n",
       "      <td>2010</td>\n",
       "      <td>2013</td>\n",
       "      <td>White - Non-Hispanic</td>\n",
       "      <td>25-34</td>\n",
       "      <td>B Felony</td>\n",
       "      <td>Other</td>\n",
       "      <td>Other Criminal</td>\n",
       "      <td>Parole</td>\n",
       "      <td>6JD</td>\n",
       "      <td>No</td>\n",
       "      <td>Yes</td>\n",
       "      <td>Male</td>\n",
       "    </tr>\n",
       "    <tr>\n",
       "      <td>4</td>\n",
       "      <td>2010</td>\n",
       "      <td>2013</td>\n",
       "      <td>Black - Non-Hispanic</td>\n",
       "      <td>35-44</td>\n",
       "      <td>D Felony</td>\n",
       "      <td>Violent</td>\n",
       "      <td>Assault</td>\n",
       "      <td>Discharged – End of Sentence</td>\n",
       "      <td>NaN</td>\n",
       "      <td>Yes</td>\n",
       "      <td>No</td>\n",
       "      <td>Male</td>\n",
       "    </tr>\n",
       "  </tbody>\n",
       "</table>\n",
       "</div>"
      ],
      "text/plain": [
       "   yr_released  report_year        race_ethnicity age_released crime_class  \\\n",
       "0         2010         2013  Black - Non-Hispanic        25-34    C Felony   \n",
       "1         2010         2013  White - Non-Hispanic        25-34    D Felony   \n",
       "2         2010         2013  White - Non-Hispanic        35-44    B Felony   \n",
       "3         2010         2013  White - Non-Hispanic        25-34    B Felony   \n",
       "4         2010         2013  Black - Non-Hispanic        35-44    D Felony   \n",
       "\n",
       "  crime_type   crime_subtype                  release_type super_dist  \\\n",
       "0    Violent         Robbery                        Parole        7JD   \n",
       "1   Property           Theft  Discharged – End of Sentence        NaN   \n",
       "2       Drug     Trafficking                        Parole        5JD   \n",
       "3      Other  Other Criminal                        Parole        6JD   \n",
       "4    Violent         Assault  Discharged – End of Sentence        NaN   \n",
       "\n",
       "  recidivist target_pop   sex  \n",
       "0        Yes        Yes  Male  \n",
       "1        Yes         No  Male  \n",
       "2        Yes        Yes  Male  \n",
       "3         No        Yes  Male  \n",
       "4        Yes         No  Male  "
      ]
     },
     "execution_count": 30,
     "metadata": {},
     "output_type": "execute_result"
    }
   ],
   "source": [
    "# # prisoners = \"https://raw.githubusercontent.com/jirvingphd/dsc-3-final-project-online-ds-ft-021119/master/iowa_recidivism_renamed.csv\"\n",
    "\n",
    "df = fs.datasets.load_iowa_prisoners(vers='clean',read_csv_kwds={'index_col':0})\n",
    "df.head()"
   ]
  },
  {
   "cell_type": "code",
   "execution_count": 31,
   "metadata": {
    "ExecuteTime": {
     "end_time": "2020-04-09T20:14:44.462519Z",
     "start_time": "2020-04-09T20:14:44.456926Z"
    }
   },
   "outputs": [],
   "source": [
    "df= df.drop(columns=['yr_released'])"
   ]
  },
  {
   "cell_type": "code",
   "execution_count": 33,
   "metadata": {
    "ExecuteTime": {
     "end_time": "2020-04-09T20:15:07.661076Z",
     "start_time": "2020-04-09T20:15:07.118689Z"
    }
   },
   "outputs": [
    {
     "data": {
      "text/plain": [
       "<matplotlib.axes._subplots.AxesSubplot at 0x1c2c1f7e80>"
      ]
     },
     "execution_count": 33,
     "metadata": {},
     "output_type": "execute_result"
    },
    {
     "data": {
      "image/png": "[encoded data removed]",
      "text/plain": [
       "<Figure size 1800x720 with 2 Axes>"
      ]
     },
     "metadata": {
      "needs_background": "light"
     },
     "output_type": "display_data"
    }
   ],
   "source": [
    "import missingno\n",
    "missingno.matrix(df)"
   ]
  },
  {
   "cell_type": "code",
   "execution_count": 34,
   "metadata": {
    "ExecuteTime": {
     "end_time": "2020-04-09T20:15:10.368545Z",
     "start_time": "2020-04-09T20:15:10.352793Z"
    }
   },
   "outputs": [
    {
     "data": {
      "text/plain": [
       "report_year        0.000000\n",
       "race_ethnicity     0.115296\n",
       "age_released       0.011530\n",
       "crime_class        0.000000\n",
       "crime_type         0.000000\n",
       "crime_subtype      0.000000\n",
       "release_type       6.771714\n",
       "super_dist        36.821676\n",
       "recidivist         0.000000\n",
       "target_pop         0.000000\n",
       "sex                0.011530\n",
       "dtype: float64"
      ]
     },
     "execution_count": 34,
     "metadata": {},
     "output_type": "execute_result"
    }
   ],
   "source": [
    "df.isna().sum().divide(len(df))*100"
   ]
  },
  {
   "cell_type": "code",
   "execution_count": 35,
   "metadata": {
    "ExecuteTime": {
     "end_time": "2020-04-09T20:15:12.950682Z",
     "start_time": "2020-04-09T20:15:12.943797Z"
    }
   },
   "outputs": [
    {
     "data": {
      "text/plain": [
       "White - Non-Hispanic                               17584\n",
       "Black - Non-Hispanic                                6109\n",
       "White - Hispanic                                    1522\n",
       "American Indian or Alaska Native - Non-Hispanic      502\n",
       "Asian or Pacific Islander - Non-Hispanic             192\n",
       "Black - Hispanic                                      37\n",
       "American Indian or Alaska Native - Hispanic           20\n",
       "White -                                               12\n",
       "Asian or Pacific Islander - Hispanic                   5\n",
       "N/A -                                                  5\n",
       "Black -                                                2\n",
       "Name: race_ethnicity, dtype: int64"
      ]
     },
     "execution_count": 35,
     "metadata": {},
     "output_type": "execute_result"
    }
   ],
   "source": [
    "df['race_ethnicity'].value_counts()"
   ]
  },
  {
   "cell_type": "code",
   "execution_count": 36,
   "metadata": {
    "ExecuteTime": {
     "end_time": "2020-04-09T20:15:21.394319Z",
     "start_time": "2020-04-09T20:15:21.386316Z"
    }
   },
   "outputs": [
    {
     "data": {
      "text/plain": [
       "NaN                   9581\n",
       "5JD                   4982\n",
       "1JD                   2787\n",
       "2JD                   1988\n",
       "8JD                   1556\n",
       "7JD                   1514\n",
       "3JD                   1188\n",
       "6JD                   1098\n",
       "4JD                    667\n",
       "ISC                    350\n",
       "Interstate Compact     309\n",
       "Name: super_dist, dtype: int64"
      ]
     },
     "execution_count": 36,
     "metadata": {},
     "output_type": "execute_result"
    }
   ],
   "source": [
    "df['super_dist'].value_counts(dropna=False)"
   ]
  },
  {
   "cell_type": "code",
   "execution_count": 37,
   "metadata": {
    "ExecuteTime": {
     "end_time": "2020-04-09T20:15:31.623054Z",
     "start_time": "2020-04-09T20:15:31.600190Z"
    }
   },
   "outputs": [
    {
     "data": {
      "text/plain": [
       "report_year          0\n",
       "race_ethnicity       0\n",
       "age_released         0\n",
       "crime_class          0\n",
       "crime_type           0\n",
       "crime_subtype        0\n",
       "release_type      1762\n",
       "super_dist        9549\n",
       "recidivist           0\n",
       "target_pop           0\n",
       "sex                  0\n",
       "dtype: int64"
      ]
     },
     "execution_count": 37,
     "metadata": {},
     "output_type": "execute_result"
    }
   ],
   "source": [
    "## Check for and address null values\n",
    "drop_cols = ['race_ethnicity','age_released','sex']\n",
    "df = df.dropna(subset=drop_cols)\n",
    "df.isna().sum()"
   ]
  },
  {
   "cell_type": "code",
   "execution_count": 38,
   "metadata": {
    "ExecuteTime": {
     "end_time": "2020-04-09T20:15:32.150602Z",
     "start_time": "2020-04-09T20:15:32.119209Z"
    }
   },
   "outputs": [
    {
     "data": {
      "text/plain": [
       "report_year       0\n",
       "race_ethnicity    0\n",
       "age_released      0\n",
       "crime_class       0\n",
       "crime_type        0\n",
       "crime_subtype     0\n",
       "release_type      0\n",
       "super_dist        0\n",
       "recidivist        0\n",
       "target_pop        0\n",
       "sex               0\n",
       "dtype: int64"
      ]
     },
     "execution_count": 38,
     "metadata": {},
     "output_type": "execute_result"
    }
   ],
   "source": [
    "df =  df.fillna('missing')\n",
    "df.isna().sum()"
   ]
  },
  {
   "cell_type": "code",
   "execution_count": 39,
   "metadata": {
    "ExecuteTime": {
     "end_time": "2020-04-09T20:15:32.748714Z",
     "start_time": "2020-04-09T20:15:32.741232Z"
    }
   },
   "outputs": [
    {
     "data": {
      "text/plain": [
       "No     0.665948\n",
       "Yes    0.334052\n",
       "Name: recidivist, dtype: float64"
      ]
     },
     "execution_count": 39,
     "metadata": {},
     "output_type": "execute_result"
    }
   ],
   "source": [
    "## Inspect Value Counts for target\n",
    "df['recidivist'].value_counts(normalize=True)"
   ]
  },
  {
   "cell_type": "code",
   "execution_count": 40,
   "metadata": {
    "ExecuteTime": {
     "end_time": "2020-04-09T20:15:33.517038Z",
     "start_time": "2020-04-09T20:15:33.501192Z"
    }
   },
   "outputs": [
    {
     "name": "stdout",
     "output_type": "stream",
     "text": [
      "<class 'pandas.core.frame.DataFrame'>\n",
      "Int64Index: 25987 entries, 0 to 26019\n",
      "Data columns (total 11 columns):\n",
      "report_year       25987 non-null int64\n",
      "race_ethnicity    25987 non-null object\n",
      "age_released      25987 non-null object\n",
      "crime_class       25987 non-null object\n",
      "crime_type        25987 non-null object\n",
      "crime_subtype     25987 non-null object\n",
      "release_type      25987 non-null object\n",
      "super_dist        25987 non-null object\n",
      "recidivist        25987 non-null object\n",
      "target_pop        25987 non-null object\n",
      "sex               25987 non-null object\n",
      "dtypes: int64(1), object(10)\n",
      "memory usage: 2.4+ MB\n"
     ]
    }
   ],
   "source": [
    "df.info()"
   ]
  },
  {
   "cell_type": "code",
   "execution_count": 41,
   "metadata": {
    "ExecuteTime": {
     "end_time": "2020-04-09T20:15:34.016740Z",
     "start_time": "2020-04-09T20:15:34.009432Z"
    }
   },
   "outputs": [
    {
     "data": {
      "text/plain": [
       "25-34           9543\n",
       "35-44           6217\n",
       "Under 25        4585\n",
       "45-54           4340\n",
       "55 and Older    1302\n",
       "Name: age_released, dtype: int64"
      ]
     },
     "execution_count": 41,
     "metadata": {},
     "output_type": "execute_result"
    }
   ],
   "source": [
    "df['age_released'].value_counts()"
   ]
  },
  {
   "cell_type": "code",
   "execution_count": 42,
   "metadata": {
    "ExecuteTime": {
     "end_time": "2020-04-09T20:15:34.667566Z",
     "start_time": "2020-04-09T20:15:34.657770Z"
    }
   },
   "outputs": [
    {
     "data": {
      "text/plain": [
       "0        30\n",
       "1        30\n",
       "2        40\n",
       "3        30\n",
       "4        40\n",
       "         ..\n",
       "26015    20\n",
       "26016    40\n",
       "26017    30\n",
       "26018    30\n",
       "26019    40\n",
       "Name: age_released, Length: 25987, dtype: int64"
      ]
     },
     "execution_count": 42,
     "metadata": {},
     "output_type": "execute_result"
    }
   ],
   "source": [
    "age_map = {'25-34':30, '35-44':40,\n",
    "           'Under 25': 20,\n",
    "           '45-54':50,\n",
    "           '55 and Older': 61}\n",
    "\n",
    "df['age_released'] = df['age_released'].map(age_map)\n",
    "df['age_released']"
   ]
  },
  {
   "cell_type": "code",
   "execution_count": 43,
   "metadata": {
    "ExecuteTime": {
     "end_time": "2020-04-09T20:15:35.602908Z",
     "start_time": "2020-04-09T20:15:35.546343Z"
    }
   },
   "outputs": [
    {
     "data": {
      "text/html": [
       "<div>\n",
       "<style scoped>\n",
       "    .dataframe tbody tr th:only-of-type {\n",
       "        vertical-align: middle;\n",
       "    }\n",
       "\n",
       "    .dataframe tbody tr th {\n",
       "        vertical-align: top;\n",
       "    }\n",
       "\n",
       "    .dataframe thead th {\n",
       "        text-align: right;\n",
       "    }\n",
       "</style>\n",
       "<table border=\"1\" class=\"dataframe\">\n",
       "  <thead>\n",
       "    <tr style=\"text-align: right;\">\n",
       "      <th></th>\n",
       "      <th>age_released</th>\n",
       "      <th>report_year_2014</th>\n",
       "      <th>report_year_2015</th>\n",
       "      <th>report_year_2016</th>\n",
       "      <th>report_year_2017</th>\n",
       "      <th>report_year_2018</th>\n",
       "      <th>race_ethnicity_American Indian or Alaska Native - Non-Hispanic</th>\n",
       "      <th>race_ethnicity_Asian or Pacific Islander - Hispanic</th>\n",
       "      <th>race_ethnicity_Asian or Pacific Islander - Non-Hispanic</th>\n",
       "      <th>race_ethnicity_Black -</th>\n",
       "      <th>...</th>\n",
       "      <th>super_dist_5JD</th>\n",
       "      <th>super_dist_6JD</th>\n",
       "      <th>super_dist_7JD</th>\n",
       "      <th>super_dist_8JD</th>\n",
       "      <th>super_dist_ISC</th>\n",
       "      <th>super_dist_Interstate Compact</th>\n",
       "      <th>super_dist_missing</th>\n",
       "      <th>recidivist_Yes</th>\n",
       "      <th>target_pop_Yes</th>\n",
       "      <th>sex_Male</th>\n",
       "    </tr>\n",
       "  </thead>\n",
       "  <tbody>\n",
       "    <tr>\n",
       "      <td>0</td>\n",
       "      <td>30</td>\n",
       "      <td>0</td>\n",
       "      <td>0</td>\n",
       "      <td>0</td>\n",
       "      <td>0</td>\n",
       "      <td>0</td>\n",
       "      <td>0</td>\n",
       "      <td>0</td>\n",
       "      <td>0</td>\n",
       "      <td>0</td>\n",
       "      <td>...</td>\n",
       "      <td>0</td>\n",
       "      <td>0</td>\n",
       "      <td>1</td>\n",
       "      <td>0</td>\n",
       "      <td>0</td>\n",
       "      <td>0</td>\n",
       "      <td>0</td>\n",
       "      <td>1</td>\n",
       "      <td>1</td>\n",
       "      <td>1</td>\n",
       "    </tr>\n",
       "    <tr>\n",
       "      <td>1</td>\n",
       "      <td>30</td>\n",
       "      <td>0</td>\n",
       "      <td>0</td>\n",
       "      <td>0</td>\n",
       "      <td>0</td>\n",
       "      <td>0</td>\n",
       "      <td>0</td>\n",
       "      <td>0</td>\n",
       "      <td>0</td>\n",
       "      <td>0</td>\n",
       "      <td>...</td>\n",
       "      <td>0</td>\n",
       "      <td>0</td>\n",
       "      <td>0</td>\n",
       "      <td>0</td>\n",
       "      <td>0</td>\n",
       "      <td>0</td>\n",
       "      <td>1</td>\n",
       "      <td>1</td>\n",
       "      <td>0</td>\n",
       "      <td>1</td>\n",
       "    </tr>\n",
       "    <tr>\n",
       "      <td>2</td>\n",
       "      <td>40</td>\n",
       "      <td>0</td>\n",
       "      <td>0</td>\n",
       "      <td>0</td>\n",
       "      <td>0</td>\n",
       "      <td>0</td>\n",
       "      <td>0</td>\n",
       "      <td>0</td>\n",
       "      <td>0</td>\n",
       "      <td>0</td>\n",
       "      <td>...</td>\n",
       "      <td>1</td>\n",
       "      <td>0</td>\n",
       "      <td>0</td>\n",
       "      <td>0</td>\n",
       "      <td>0</td>\n",
       "      <td>0</td>\n",
       "      <td>0</td>\n",
       "      <td>1</td>\n",
       "      <td>1</td>\n",
       "      <td>1</td>\n",
       "    </tr>\n",
       "    <tr>\n",
       "      <td>3</td>\n",
       "      <td>30</td>\n",
       "      <td>0</td>\n",
       "      <td>0</td>\n",
       "      <td>0</td>\n",
       "      <td>0</td>\n",
       "      <td>0</td>\n",
       "      <td>0</td>\n",
       "      <td>0</td>\n",
       "      <td>0</td>\n",
       "      <td>0</td>\n",
       "      <td>...</td>\n",
       "      <td>0</td>\n",
       "      <td>1</td>\n",
       "      <td>0</td>\n",
       "      <td>0</td>\n",
       "      <td>0</td>\n",
       "      <td>0</td>\n",
       "      <td>0</td>\n",
       "      <td>0</td>\n",
       "      <td>1</td>\n",
       "      <td>1</td>\n",
       "    </tr>\n",
       "    <tr>\n",
       "      <td>4</td>\n",
       "      <td>40</td>\n",
       "      <td>0</td>\n",
       "      <td>0</td>\n",
       "      <td>0</td>\n",
       "      <td>0</td>\n",
       "      <td>0</td>\n",
       "      <td>0</td>\n",
       "      <td>0</td>\n",
       "      <td>0</td>\n",
       "      <td>0</td>\n",
       "      <td>...</td>\n",
       "      <td>0</td>\n",
       "      <td>0</td>\n",
       "      <td>0</td>\n",
       "      <td>0</td>\n",
       "      <td>0</td>\n",
       "      <td>0</td>\n",
       "      <td>1</td>\n",
       "      <td>1</td>\n",
       "      <td>0</td>\n",
       "      <td>1</td>\n",
       "    </tr>\n",
       "    <tr>\n",
       "      <td>...</td>\n",
       "      <td>...</td>\n",
       "      <td>...</td>\n",
       "      <td>...</td>\n",
       "      <td>...</td>\n",
       "      <td>...</td>\n",
       "      <td>...</td>\n",
       "      <td>...</td>\n",
       "      <td>...</td>\n",
       "      <td>...</td>\n",
       "      <td>...</td>\n",
       "      <td>...</td>\n",
       "      <td>...</td>\n",
       "      <td>...</td>\n",
       "      <td>...</td>\n",
       "      <td>...</td>\n",
       "      <td>...</td>\n",
       "      <td>...</td>\n",
       "      <td>...</td>\n",
       "      <td>...</td>\n",
       "      <td>...</td>\n",
       "      <td>...</td>\n",
       "    </tr>\n",
       "    <tr>\n",
       "      <td>26015</td>\n",
       "      <td>20</td>\n",
       "      <td>0</td>\n",
       "      <td>0</td>\n",
       "      <td>0</td>\n",
       "      <td>0</td>\n",
       "      <td>1</td>\n",
       "      <td>0</td>\n",
       "      <td>0</td>\n",
       "      <td>0</td>\n",
       "      <td>0</td>\n",
       "      <td>...</td>\n",
       "      <td>0</td>\n",
       "      <td>0</td>\n",
       "      <td>0</td>\n",
       "      <td>0</td>\n",
       "      <td>0</td>\n",
       "      <td>0</td>\n",
       "      <td>1</td>\n",
       "      <td>0</td>\n",
       "      <td>1</td>\n",
       "      <td>1</td>\n",
       "    </tr>\n",
       "    <tr>\n",
       "      <td>26016</td>\n",
       "      <td>40</td>\n",
       "      <td>0</td>\n",
       "      <td>0</td>\n",
       "      <td>0</td>\n",
       "      <td>0</td>\n",
       "      <td>1</td>\n",
       "      <td>0</td>\n",
       "      <td>0</td>\n",
       "      <td>0</td>\n",
       "      <td>0</td>\n",
       "      <td>...</td>\n",
       "      <td>0</td>\n",
       "      <td>1</td>\n",
       "      <td>0</td>\n",
       "      <td>0</td>\n",
       "      <td>0</td>\n",
       "      <td>0</td>\n",
       "      <td>0</td>\n",
       "      <td>0</td>\n",
       "      <td>0</td>\n",
       "      <td>1</td>\n",
       "    </tr>\n",
       "    <tr>\n",
       "      <td>26017</td>\n",
       "      <td>30</td>\n",
       "      <td>0</td>\n",
       "      <td>0</td>\n",
       "      <td>0</td>\n",
       "      <td>0</td>\n",
       "      <td>1</td>\n",
       "      <td>0</td>\n",
       "      <td>0</td>\n",
       "      <td>0</td>\n",
       "      <td>0</td>\n",
       "      <td>...</td>\n",
       "      <td>1</td>\n",
       "      <td>0</td>\n",
       "      <td>0</td>\n",
       "      <td>0</td>\n",
       "      <td>0</td>\n",
       "      <td>0</td>\n",
       "      <td>0</td>\n",
       "      <td>0</td>\n",
       "      <td>0</td>\n",
       "      <td>0</td>\n",
       "    </tr>\n",
       "    <tr>\n",
       "      <td>26018</td>\n",
       "      <td>30</td>\n",
       "      <td>0</td>\n",
       "      <td>0</td>\n",
       "      <td>0</td>\n",
       "      <td>0</td>\n",
       "      <td>1</td>\n",
       "      <td>0</td>\n",
       "      <td>0</td>\n",
       "      <td>0</td>\n",
       "      <td>0</td>\n",
       "      <td>...</td>\n",
       "      <td>1</td>\n",
       "      <td>0</td>\n",
       "      <td>0</td>\n",
       "      <td>0</td>\n",
       "      <td>0</td>\n",
       "      <td>0</td>\n",
       "      <td>0</td>\n",
       "      <td>0</td>\n",
       "      <td>1</td>\n",
       "      <td>1</td>\n",
       "    </tr>\n",
       "    <tr>\n",
       "      <td>26019</td>\n",
       "      <td>40</td>\n",
       "      <td>0</td>\n",
       "      <td>0</td>\n",
       "      <td>0</td>\n",
       "      <td>0</td>\n",
       "      <td>1</td>\n",
       "      <td>0</td>\n",
       "      <td>0</td>\n",
       "      <td>0</td>\n",
       "      <td>0</td>\n",
       "      <td>...</td>\n",
       "      <td>0</td>\n",
       "      <td>0</td>\n",
       "      <td>0</td>\n",
       "      <td>0</td>\n",
       "      <td>0</td>\n",
       "      <td>0</td>\n",
       "      <td>1</td>\n",
       "      <td>1</td>\n",
       "      <td>1</td>\n",
       "      <td>1</td>\n",
       "    </tr>\n",
       "  </tbody>\n",
       "</table>\n",
       "<p>25987 rows × 83 columns</p>\n",
       "</div>"
      ],
      "text/plain": [
       "       age_released  report_year_2014  report_year_2015  report_year_2016  \\\n",
       "0                30                 0                 0                 0   \n",
       "1                30                 0                 0                 0   \n",
       "2                40                 0                 0                 0   \n",
       "3                30                 0                 0                 0   \n",
       "4                40                 0                 0                 0   \n",
       "...             ...               ...               ...               ...   \n",
       "26015            20                 0                 0                 0   \n",
       "26016            40                 0                 0                 0   \n",
       "26017            30                 0                 0                 0   \n",
       "26018            30                 0                 0                 0   \n",
       "26019            40                 0                 0                 0   \n",
       "\n",
       "       report_year_2017  report_year_2018  \\\n",
       "0                     0                 0   \n",
       "1                     0                 0   \n",
       "2                     0                 0   \n",
       "3                     0                 0   \n",
       "4                     0                 0   \n",
       "...                 ...               ...   \n",
       "26015                 0                 1   \n",
       "26016                 0                 1   \n",
       "26017                 0                 1   \n",
       "26018                 0                 1   \n",
       "26019                 0                 1   \n",
       "\n",
       "       race_ethnicity_American Indian or Alaska Native - Non-Hispanic  \\\n",
       "0                                                      0                \n",
       "1                                                      0                \n",
       "2                                                      0                \n",
       "3                                                      0                \n",
       "4                                                      0                \n",
       "...                                                  ...                \n",
       "26015                                                  0                \n",
       "26016                                                  0                \n",
       "26017                                                  0                \n",
       "26018                                                  0                \n",
       "26019                                                  0                \n",
       "\n",
       "       race_ethnicity_Asian or Pacific Islander - Hispanic  \\\n",
       "0                                                      0     \n",
       "1                                                      0     \n",
       "2                                                      0     \n",
       "3                                                      0     \n",
       "4                                                      0     \n",
       "...                                                  ...     \n",
       "26015                                                  0     \n",
       "26016                                                  0     \n",
       "26017                                                  0     \n",
       "26018                                                  0     \n",
       "26019                                                  0     \n",
       "\n",
       "       race_ethnicity_Asian or Pacific Islander - Non-Hispanic  \\\n",
       "0                                                      0         \n",
       "1                                                      0         \n",
       "2                                                      0         \n",
       "3                                                      0         \n",
       "4                                                      0         \n",
       "...                                                  ...         \n",
       "26015                                                  0         \n",
       "26016                                                  0         \n",
       "26017                                                  0         \n",
       "26018                                                  0         \n",
       "26019                                                  0         \n",
       "\n",
       "       race_ethnicity_Black -  ...  super_dist_5JD  super_dist_6JD  \\\n",
       "0                           0  ...               0               0   \n",
       "1                           0  ...               0               0   \n",
       "2                           0  ...               1               0   \n",
       "3                           0  ...               0               1   \n",
       "4                           0  ...               0               0   \n",
       "...                       ...  ...             ...             ...   \n",
       "26015                       0  ...               0               0   \n",
       "26016                       0  ...               0               1   \n",
       "26017                       0  ...               1               0   \n",
       "26018                       0  ...               1               0   \n",
       "26019                       0  ...               0               0   \n",
       "\n",
       "       super_dist_7JD  super_dist_8JD  super_dist_ISC  \\\n",
       "0                   1               0               0   \n",
       "1                   0               0               0   \n",
       "2                   0               0               0   \n",
       "3                   0               0               0   \n",
       "4                   0               0               0   \n",
       "...               ...             ...             ...   \n",
       "26015               0               0               0   \n",
       "26016               0               0               0   \n",
       "26017               0               0               0   \n",
       "26018               0               0               0   \n",
       "26019               0               0               0   \n",
       "\n",
       "       super_dist_Interstate Compact  super_dist_missing  recidivist_Yes  \\\n",
       "0                                  0                   0               1   \n",
       "1                                  0                   1               1   \n",
       "2                                  0                   0               1   \n",
       "3                                  0                   0               0   \n",
       "4                                  0                   1               1   \n",
       "...                              ...                 ...             ...   \n",
       "26015                              0                   1               0   \n",
       "26016                              0                   0               0   \n",
       "26017                              0                   0               0   \n",
       "26018                              0                   0               0   \n",
       "26019                              0                   1               1   \n",
       "\n",
       "       target_pop_Yes  sex_Male  \n",
       "0                   1         1  \n",
       "1                   0         1  \n",
       "2                   1         1  \n",
       "3                   1         1  \n",
       "4                   0         1  \n",
       "...               ...       ...  \n",
       "26015               1         1  \n",
       "26016               0         1  \n",
       "26017               0         0  \n",
       "26018               1         1  \n",
       "26019               1         1  \n",
       "\n",
       "[25987 rows x 83 columns]"
      ]
     },
     "execution_count": 43,
     "metadata": {},
     "output_type": "execute_result"
    }
   ],
   "source": [
    "## Encode categorical features\n",
    "df = pd.get_dummies(df, drop_first=True,\n",
    "                    columns=df.drop(columns='age_released').columns)\n",
    "df"
   ]
  },
  {
   "cell_type": "code",
   "execution_count": 44,
   "metadata": {
    "ExecuteTime": {
     "end_time": "2020-04-09T20:15:36.465443Z",
     "start_time": "2020-04-09T20:15:36.442093Z"
    }
   },
   "outputs": [
    {
     "name": "stdout",
     "output_type": "stream",
     "text": [
      "0    0.663879\n",
      "1    0.336121\n",
      "Name: recidivist_Yes, dtype: float64\n"
     ]
    },
    {
     "data": {
      "text/plain": [
       "0    0.672156\n",
       "1    0.327844\n",
       "Name: recidivist_Yes, dtype: float64"
      ]
     },
     "execution_count": 44,
     "metadata": {},
     "output_type": "execute_result"
    }
   ],
   "source": [
    "y = df['recidivist_Yes']\n",
    "X = df.drop(columns=['recidivist_Yes'])\n",
    "\n",
    "## Train test split\n",
    "X_train, X_test, y_train, y_test = train_test_split(X,y,test_size=0.25)\n",
    "\n",
    "## Check target class counts\n",
    "print(pd.Series(y_train).value_counts(normalize=True) )\n",
    "pd.Series(y_test).value_counts(normalize=True)\n"
   ]
  },
  {
   "cell_type": "markdown",
   "metadata": {},
   "source": [
    "## ADDRESSING IMBALANCED CLASSES\n",
    "\n",
    "- Downsample/undersampling to match minority class.\n",
    "- Synthetic Minority Over Sampling Technique (SMOTE)\n",
    "-  Adaptive Synthetic (ADASYN)\n",
    "<img src=\"https://raw.githubusercontent.com/jirvingphd/fsds_100719_cohort_notes/master/Flashcards/Downsampling_web.png\" width=10%>"
   ]
  },
  {
   "cell_type": "code",
   "execution_count": 45,
   "metadata": {
    "ExecuteTime": {
     "end_time": "2020-04-09T20:15:43.453810Z",
     "start_time": "2020-04-09T20:15:38.242950Z"
    }
   },
   "outputs": [
    {
     "name": "stderr",
     "output_type": "stream",
     "text": [
      "Using TensorFlow backend.\n",
      "//anaconda3/envs/learn-env/lib/python3.6/site-packages/tensorflow/python/framework/dtypes.py:526: FutureWarning:\n",
      "\n",
      "Passing (type, 1) or '1type' as a synonym of type is deprecated; in a future version of numpy, it will be understood as (type, (1,)) / '(1,)type'.\n",
      "\n",
      "//anaconda3/envs/learn-env/lib/python3.6/site-packages/tensorflow/python/framework/dtypes.py:527: FutureWarning:\n",
      "\n",
      "Passing (type, 1) or '1type' as a synonym of type is deprecated; in a future version of numpy, it will be understood as (type, (1,)) / '(1,)type'.\n",
      "\n",
      "//anaconda3/envs/learn-env/lib/python3.6/site-packages/tensorflow/python/framework/dtypes.py:528: FutureWarning:\n",
      "\n",
      "Passing (type, 1) or '1type' as a synonym of type is deprecated; in a future version of numpy, it will be understood as (type, (1,)) / '(1,)type'.\n",
      "\n",
      "//anaconda3/envs/learn-env/lib/python3.6/site-packages/tensorflow/python/framework/dtypes.py:529: FutureWarning:\n",
      "\n",
      "Passing (type, 1) or '1type' as a synonym of type is deprecated; in a future version of numpy, it will be understood as (type, (1,)) / '(1,)type'.\n",
      "\n",
      "//anaconda3/envs/learn-env/lib/python3.6/site-packages/tensorflow/python/framework/dtypes.py:530: FutureWarning:\n",
      "\n",
      "Passing (type, 1) or '1type' as a synonym of type is deprecated; in a future version of numpy, it will be understood as (type, (1,)) / '(1,)type'.\n",
      "\n",
      "//anaconda3/envs/learn-env/lib/python3.6/site-packages/tensorflow/python/framework/dtypes.py:535: FutureWarning:\n",
      "\n",
      "Passing (type, 1) or '1type' as a synonym of type is deprecated; in a future version of numpy, it will be understood as (type, (1,)) / '(1,)type'.\n",
      "\n"
     ]
    },
    {
     "name": "stdout",
     "output_type": "stream",
     "text": [
      "1    12939\n",
      "0    12939\n",
      "Name: recidivist_Yes, dtype: int64\n"
     ]
    },
    {
     "data": {
      "text/plain": [
       "0    4367\n",
       "1    2130\n",
       "Name: recidivist_Yes, dtype: int64"
      ]
     },
     "execution_count": 45,
     "metadata": {},
     "output_type": "execute_result"
    }
   ],
   "source": [
    "from imblearn.over_sampling import ADASYN,SMOTE\n",
    "\n",
    "## Use SMOTE to resample X_train, y_train\n",
    "smote=SMOTE()\n",
    "\n",
    "X_train, y_train = smote.fit_sample(X_train, y_train)\n",
    "print(pd.Series(y_train).value_counts() )\n",
    "pd.Series(y_test).value_counts()"
   ]
  },
  {
   "cell_type": "code",
   "execution_count": null,
   "metadata": {
    "ExecuteTime": {
     "end_time": "2020-01-21T03:21:55.330120Z",
     "start_time": "2020-01-21T03:21:55.327886Z"
    },
    "code_folding": []
   },
   "outputs": [],
   "source": [
    "# ## Undersampling to match smallest class\n",
    "# df_yes = df.groupby('recidivist').get_group('Yes')\n",
    "# df_no = df.groupby('recidivist').get_group('No')\n",
    "\n",
    "# sample_size = min(len(df_yes),len(df_no))\n",
    "# sample_size\n",
    "\n",
    "# sample_state = 123\n",
    "# np.random.seed(sample_state)\n",
    "\n",
    "# df_samp = pd.concat([df_yes.sample(sample_size,random_state=sample_state),\n",
    "#                 df_no.sample(sample_size,random_state=sample_state)],axis=0)\n",
    "# df_samp['recidivist'].value_counts()"
   ]
  },
  {
   "cell_type": "code",
   "execution_count": null,
   "metadata": {
    "ExecuteTime": {
     "end_time": "2020-01-21T03:21:55.333846Z",
     "start_time": "2020-01-21T03:21:55.331731Z"
    },
    "code_folding": []
   },
   "outputs": [],
   "source": [
    "# y_resampled = df_ohe['recidivist_Yes']\n",
    "# X_resampled = df_ohe.drop(columns=['recidivist_Yes'])\n",
    "# # y = df_le['recidivist']\n",
    "# # X = df_le.drop(columns=['recidivist'])\n",
    "\n",
    "# X_train, X_test, y_train, y_test = train_test_split(X_resampled,y_resampled)\n",
    "# X_train.shape, y_test.shape\n"
   ]
  },
  {
   "cell_type": "markdown",
   "metadata": {
    "slideshow": {
     "slide_type": "slide"
    }
   },
   "source": [
    "## Defining the Problem & Fitting a Decision Tree\n",
    "\n",
    "Now, import the necessary packages and fit a decision tree to predict whether or not a mushroom is poisonous (this is stored under the 'class' feature as 'e' for edible, or 'p' for poisonous."
   ]
  },
  {
   "cell_type": "markdown",
   "metadata": {},
   "source": [
    "### Functions from Prior Classes"
   ]
  },
  {
   "cell_type": "code",
   "execution_count": 47,
   "metadata": {
    "ExecuteTime": {
     "end_time": "2020-04-09T20:15:52.343902Z",
     "start_time": "2020-04-09T20:15:52.339717Z"
    },
    "code_folding": []
   },
   "outputs": [],
   "source": [
    "# def plot_confusion_matrix(cm, classes=None, normalize=False,cmap=None,\n",
    "#                           title='Confusion Matrix',title_font={'size':14},\n",
    "#                           annot_kws={'size':10,'weight':50}, \n",
    "#                           axislabel_font={'size':14,'weight':70}, \n",
    "#                           tick_font={'size':12,'weight':50},x_rot =45, y_rot=0,\n",
    "#                          fig_kws={'figsize':(5,5)}):\n",
    "#     \"\"\" Plots a confusion matrix of either a pre-calculated cm or a tuple of (y_true,y_pred) as cm.\n",
    "    \n",
    "#     Args:\n",
    "#         cm (array or tuple): Either a confusion amtrix from sklearn or (y_true,y_pred) tuple\n",
    "#         classes (list, optional): Names of classes to use. Defaults to integers 0 to len(cm).\n",
    "#         normalize (bool, optional): Annotate class-percentages instead of counts. Defaults to False.\n",
    "#         cmap (cmap, optional): colormap to use Defaults to plt.get_cmap(\"Blues\").\n",
    "#         title (str, optional): Plot title. Defaults to 'Confusion Matrix'.\n",
    "#         title_font (dict, optional): fontdict for set_title. Defaults to {'size':14}.\n",
    "#         annot_kws (dict, optional): kws for ax.Text annotations. Defaults to {'size':10,'weight':50}.\n",
    "#         axislabel_font (dict, optional): fontdict for ylabel,xlabel. Defaults to {'size':14,'weight':70}.\n",
    "#         tick_font (dict, optional): kws for plt.xticks/yticks. Defaults to {'size':12,'weight':50}.\n",
    "#         x_rot (int, optional): Rotation of x-axis tick labels. Defaults to 45.\n",
    "#         y_rot (int, optional): Rotation of y-axis tick labels.Defaults to 0.\n",
    "#         fig_kws (dict, optional): kws for plt.subplots. Defaults to {}.\n",
    "    \n",
    "#     Returns:\n",
    "#         fig,ax: matplotlib Figure & Axes\n",
    "#     \"\"\"\n",
    "#     import itertools\n",
    "#     import numpy as np\n",
    "#     import matplotlib.pyplot as plt\n",
    "#     from mpl_toolkits.axes_grid1 import make_axes_locatable\n",
    "#     import sklearn.metrics as metrics\n",
    "    \n",
    "#     ## If (y_true,y_pred) passed as cm\n",
    "#     if isinstance(cm, tuple):\n",
    "#         cm = metrics.confusion_matrix(*cm)\n",
    "        \n",
    "#     ## if normalize:  normalize counts to class-accuracy\n",
    "#     if normalize:\n",
    "#         cm = cm.astype('float') / cm.sum(axis=1)[:, np.newaxis]\n",
    "        \n",
    "\n",
    "    \n",
    "#     ## Setting & updating default kws\n",
    "#     subplots_kws = {}\n",
    "#     subplots_kws.update(fig_kws)\n",
    "    \n",
    "#     ## Annotation kws\n",
    "#     text_kws = dict(horizontalalignment=\"center\")\n",
    "#     text_kws.update(annot_kws)    \n",
    "    \n",
    "#     ## Axis Labels\n",
    "#     axlabel_kws = dict(size=12, weight='bold')\n",
    "#     axlabel_kws.update(axislabel_font)\n",
    "    \n",
    "#     ## Tick Labels\n",
    "#     ticklabel_kws = dict(size=10)\n",
    "#     ticklabel_kws.update(tick_font)\n",
    "    \n",
    "\n",
    "#     ## Define classes if not \n",
    "#     if classes is None:\n",
    "#         classes = list(range(len(cm)))\n",
    "        \n",
    "#     ## Default cmap\n",
    "#     if cmap is None:\n",
    "#         cmap = plt.get_cmap(\"Blues\")\n",
    "\n",
    "\n",
    "\n",
    "#     ## Create fig,ax and plot iamge\n",
    "#     fig, ax = plt.subplots(**subplots_kws)\n",
    "    \n",
    "#     im = ax.imshow(cm, interpolation='nearest', cmap=cmap)\n",
    "#     ax.set_title(title,fontdict=title_font)\n",
    "\n",
    "    \n",
    "#     ## Create Ticks\n",
    "#     tick_marks = np.arange(len(classes))\n",
    "    \n",
    "#     plt.xticks(tick_marks, classes, rotation=x_rot,**ticklabel_kws)\n",
    "#     plt.yticks(tick_marks, classes, rotation=y_rot,**ticklabel_kws)\n",
    "\n",
    "#     ## Set annotation fmt and color threshold\n",
    "#     fmt = '.2f' if normalize else 'd'\n",
    "#     thresh = cm.max() / 2.\n",
    "    \n",
    "#     ## Add cm labels\n",
    "#     for i, j in itertools.product(range(cm.shape[0]), range(cm.shape[1])):\n",
    "#         # text_kws.update(color=color)\n",
    "#         ax.text(j, i, format(cm[i, j], fmt),color=\"white\" if cm[i, j] > thresh else \"black\",fontdict=text_kws)\n",
    "                \n",
    "#     ## Set axis labels\n",
    "#     ax.set_ylabel('True Label',fontdict=axislabel_font)\n",
    "#     ax.set_xlabel('Predicted Label',fontdict=axislabel_font)\n",
    "     \n",
    "#     ## Add colorbar\n",
    "#     divider = make_axes_locatable(ax)\n",
    "#     cax = divider.append_axes(\"right\", size=\"5%\", pad=0.1)\n",
    "#     fig.colorbar(im,cax=cax)     \n",
    "\n",
    "# #     plt.tight_layout()\n",
    "\n",
    "#     return fig,ax\n",
    "\n",
    "\n",
    "\n",
    "# def plot_auc_roc_curve(y_test, y_test_pred,figsize=(8,4)):\n",
    "#     \"\"\" Takes y_test and y_test_pred from a ML model and uses sklearn roc_curve to plot the AUC-ROC curve.\"\"\"\n",
    "#     from sklearn.metrics import roc_curve, auc, roc_auc_score\n",
    "#     import matplotlib.pyplot as plt\n",
    "    \n",
    "#     assert y_test.shape==y_test_pred.shape\n",
    "#     auc = roc_auc_score(y_test, y_test_pred)#[:,1])\n",
    "\n",
    "#     FPr, TPr, _  = roc_curve(y_test, y_test_pred)#[:,1])\n",
    "# #     auc()\n",
    "#     fig,ax=plt.subplots(figsize=figsize)\n",
    "#     ax.plot(FPr, TPr,label=f\"AUC for Classifier:\\n{round(auc,2)}\" )\n",
    "\n",
    "#     ax.plot([0, 1], [0, 1],  lw=2,linestyle='--')\n",
    "#     ax.set_xlim([-0.01, 1.0])\n",
    "#     ax.set_ylim([0.0, 1.05])\n",
    "\n",
    "#     ax.set_xlabel('False Positive Rate')\n",
    "#     ax.set_ylabel('True Positive Rate')\n",
    "#     ax.set_title('Receiver Operating Characteristic (ROC) Curve')\n",
    "#     ax.legend(loc=\"lower right\")\n",
    "# #     plt.show()\n",
    "#     return fig, ax"
   ]
  },
  {
   "cell_type": "markdown",
   "metadata": {},
   "source": [
    "## Vanilla DecisionTree (baseline)"
   ]
  },
  {
   "cell_type": "code",
   "execution_count": 49,
   "metadata": {
    "ExecuteTime": {
     "end_time": "2020-04-09T20:16:06.481697Z",
     "start_time": "2020-04-09T20:16:06.304920Z"
    }
   },
   "outputs": [
    {
     "data": {
      "text/plain": [
       "DecisionTreeClassifier(ccp_alpha=0.0, class_weight=None, criterion='gini',\n",
       "                       max_depth=None, max_features=None, max_leaf_nodes=None,\n",
       "                       min_impurity_decrease=0.0, min_impurity_split=None,\n",
       "                       min_samples_leaf=1, min_samples_split=2,\n",
       "                       min_weight_fraction_leaf=0.0, presort='deprecated',\n",
       "                       random_state=None, splitter='best')"
      ]
     },
     "execution_count": 49,
     "metadata": {},
     "output_type": "execute_result"
    }
   ],
   "source": [
    "## Fit a vanilla DecisionTreeClassifier\n",
    "tree = DecisionTreeClassifier()\n",
    "tree.fit(X_train, y_train)"
   ]
  },
  {
   "cell_type": "code",
   "execution_count": 50,
   "metadata": {
    "ExecuteTime": {
     "end_time": "2020-04-09T20:16:07.030517Z",
     "start_time": "2020-04-09T20:16:06.718144Z"
    }
   },
   "outputs": [
    {
     "data": {
      "image/png": "[encoded data removed]",
      "text/plain": [
       "<Figure size 720x720 with 1 Axes>"
      ]
     },
     "metadata": {
      "needs_background": "light"
     },
     "output_type": "display_data"
    }
   ],
   "source": [
    "def plot_importance(tree, top_n=20,figsize=(10,10)):\n",
    "    df_importance = pd.Series(tree.feature_importances_,index=X_train.columns)\n",
    "    df_importance.sort_values(ascending=True).tail(top_n).plot(\n",
    "        kind='barh',figsize=figsize)\n",
    "    return df_importance\n",
    "plot_importance(tree);"
   ]
  },
  {
   "cell_type": "code",
   "execution_count": 51,
   "metadata": {
    "ExecuteTime": {
     "end_time": "2020-04-09T20:16:07.545211Z",
     "start_time": "2020-04-09T20:16:07.543203Z"
    }
   },
   "outputs": [],
   "source": [
    "# ## Plot feature importance \n",
    "# def plot_importance():\n",
    "#     pass"
   ]
  },
  {
   "cell_type": "code",
   "execution_count": 52,
   "metadata": {
    "ExecuteTime": {
     "end_time": "2020-04-09T20:16:08.627722Z",
     "start_time": "2020-04-09T20:16:08.238743Z"
    }
   },
   "outputs": [
    {
     "data": {
      "text/plain": [
       "(<Figure size 576x288 with 1 Axes>,\n",
       " <matplotlib.axes._subplots.AxesSubplot at 0x1c41198358>)"
      ]
     },
     "execution_count": 52,
     "metadata": {},
     "output_type": "execute_result"
    },
    {
     "data": {
      "image/png": "[encoded data removed]",
      "text/plain": [
       "<Figure size 360x360 with 2 Axes>"
      ]
     },
     "metadata": {
      "needs_background": "light"
     },
     "output_type": "display_data"
    },
    {
     "data": {
      "image/png": "[encoded data removed]",
      "text/plain": [
       "<Figure size 576x288 with 1 Axes>"
      ]
     },
     "metadata": {
      "needs_background": "light"
     },
     "output_type": "display_data"
    }
   ],
   "source": [
    "## Get Precitions\n",
    "y_hat_test = tree.predict(X_test)\n",
    "\n",
    "plot_confusion_matrix((y_test,y_hat_test),normalize=True)\n",
    "plot_auc_roc_curve(y_test,y_hat_test)"
   ]
  },
  {
   "cell_type": "code",
   "execution_count": 61,
   "metadata": {
    "ExecuteTime": {
     "end_time": "2020-04-09T20:26:07.853000Z",
     "start_time": "2020-04-09T20:26:07.850284Z"
    }
   },
   "outputs": [],
   "source": [
    "import sys,os\n",
    "\n",
    "folder = '../'\n",
    "sys.path.append(folder+'py_files/')"
   ]
  },
  {
   "cell_type": "code",
   "execution_count": 76,
   "metadata": {
    "ExecuteTime": {
     "end_time": "2020-04-09T20:29:11.487758Z",
     "start_time": "2020-04-09T20:29:11.481956Z"
    }
   },
   "outputs": [
    {
     "name": "stdout",
     "output_type": "stream",
     "text": [
      "------------------------------------------------------------------------------------\n",
      "------ HELP ------------------------------------------------------------------------\n",
      "\n",
      "Help on function evaluate_classification in module classification:\n",
      "\n",
      "evaluate_classification(y_true, y_pred, X_true, clf)\n",
      "\n",
      "------------------------------------------------------------------------------------\n",
      "------ SOURCE ----------------------------------------------------------------------\n"
     ]
    },
    {
     "data": {
      "text/markdown": [
       "```python\n",
       "def evaluate_classification(y_true, y_pred,X_true, clf): \n",
       "    import sklearn.metrics as metrics\n",
       "     \n",
       "    ## Classification Report / Scores \n",
       "    print(metrics.classification_report(y_true,y_pred))\n",
       " \n",
       "    fig, ax = plt.subplots(figsize=(10,5),ncols=2)\n",
       "    metrics.plot_confusion_matrix(clf,X_true,y_true,cmap=\"Greens\",\n",
       "                                  normalize='true',ax=ax[0])\n",
       "    ax[0].set(title='Confusion Matrix')\n",
       "    y_score = clf.predict_proba(X_true)[:,1]\n",
       "\n",
       "    fpr,tpr,thresh = metrics.roc_curve(y_true,y_score)\n",
       "    # print(f\"ROC-area-under-the-curve= {}\")\n",
       "    roc_auc = round(metrics.auc(fpr,tpr),3)\n",
       "    ax[1].plot(fpr,tpr,color='darkorange',label=f'ROC Curve (AUC={roc_auc})')\n",
       "    ax[1].plot([0,1],[0,1],ls=':')\n",
       "    ax[1].legend()\n",
       "    ax[1].grid()\n",
       "    ax[1].set(ylabel='True Positive Rate',xlabel='False Positive Rate',\n",
       "          title='Receiver operating characteristic (ROC) Curve')\n",
       "    plt.tight_layout()\n",
       "\n",
       "```"
      ],
      "text/plain": [
       "<IPython.core.display.Markdown object>"
      ]
     },
     "metadata": {},
     "output_type": "display_data"
    }
   ],
   "source": [
    "import classification as cl\n",
    "fs.ihelp(cl.evaluate_classification)"
   ]
  },
  {
   "cell_type": "code",
   "execution_count": 77,
   "metadata": {
    "ExecuteTime": {
     "end_time": "2020-04-09T20:29:11.648652Z",
     "start_time": "2020-04-09T20:29:11.640021Z"
    }
   },
   "outputs": [],
   "source": [
    "## Write a fucntion to evalute the model\n",
    "import sklearn.metrics as metrics\n",
    "\n",
    "def evaluate_model(y_true, y_pred,X_true,tree):\n",
    "    print(metrics.classification_report(y_true, y_hat_test))\n",
    "    try: \n",
    "        df_important = plot_importance(tree)\n",
    "    except:\n",
    "        df_important = None\n",
    "    \n",
    "    fig, ax = plot_confusion_matrix((y_true,y_pred),normalize=True)\n",
    "    fig2, ax2 = plot_auc_roc_curve(y_true,y_pred)\n",
    "    \n",
    "    ## CLASS VERSION\n",
    "\n",
    "    ## Classification Report / Scores \n",
    "    print(metrics.classification_report(y_true,y_pred))\n",
    "\n",
    "    fig, ax = plt.subplots(figsize=(10,5),ncols=2)\n",
    "    metrics.plot_confusion_matrix(clf,X_true,y_true,cmap=\"Greens\",\n",
    "                                  normalize='true',ax=ax[0])\n",
    "    ax[0].set(title='Confusion Matrix')\n",
    "    y_score = clf.predict_proba(X_true)[:,1]\n",
    "\n",
    "    fpr,tpr,thresh = metrics.roc_curve(y_true,y_score)\n",
    "    # print(f\"ROC-area-under-the-curve= {}\")\n",
    "    roc_auc = round(metrics.auc(fpr,tpr),3)\n",
    "    ax[1].plot(fpr,tpr,color='darkorange',label=f'ROC Curve (AUC={roc_auc})')\n",
    "    ax[1].plot([0,1],[0,1],ls=':')\n",
    "    ax[1].legend()\n",
    "    ax[1].grid()\n",
    "    ax[1].set(ylabel='True Positive Rate',xlabel='False Positive Rate',\n",
    "          title='Receiver operating characteristic (ROC) Curve')\n",
    "    plt.tight_layout()\n",
    "#     return df_important"
   ]
  },
  {
   "cell_type": "code",
   "execution_count": 75,
   "metadata": {
    "ExecuteTime": {
     "end_time": "2020-04-09T20:28:33.663263Z",
     "start_time": "2020-04-09T20:28:32.644706Z"
    },
    "scrolled": false
   },
   "outputs": [
    {
     "name": "stdout",
     "output_type": "stream",
     "text": [
      "              precision    recall  f1-score   support\n",
      "\n",
      "           0       0.72      0.70      0.71      4367\n",
      "           1       0.42      0.45      0.43      2130\n",
      "\n",
      "    accuracy                           0.62      6497\n",
      "   macro avg       0.57      0.57      0.57      6497\n",
      "weighted avg       0.62      0.62      0.62      6497\n",
      "\n",
      "              precision    recall  f1-score   support\n",
      "\n",
      "           0       0.72      0.70      0.71      4367\n",
      "           1       0.42      0.45      0.43      2130\n",
      "\n",
      "    accuracy                           0.62      6497\n",
      "   macro avg       0.57      0.57      0.57      6497\n",
      "weighted avg       0.62      0.62      0.62      6497\n",
      "\n"
     ]
    },
    {
     "ename": "ValueError",
     "evalue": "Number of features of the model must match the input. Model n_features is 10 and input n_features is 82 ",
     "output_type": "error",
     "traceback": [
      "\u001b[0;31m---------------------------------------------------------------------------\u001b[0m",
      "\u001b[0;31mValueError\u001b[0m                                Traceback (most recent call last)",
      "\u001b[0;32m<ipython-input-75-8fca2d4e780d>\u001b[0m in \u001b[0;36m<module>\u001b[0;34m\u001b[0m\n\u001b[1;32m      1\u001b[0m \u001b[0;31m## Evaluate the model\u001b[0m\u001b[0;34m\u001b[0m\u001b[0;34m\u001b[0m\u001b[0;34m\u001b[0m\u001b[0m\n\u001b[0;32m----> 2\u001b[0;31m \u001b[0mevaluate_model\u001b[0m\u001b[0;34m(\u001b[0m\u001b[0my_test\u001b[0m\u001b[0;34m,\u001b[0m\u001b[0my_hat_test\u001b[0m\u001b[0;34m,\u001b[0m\u001b[0mX_test\u001b[0m\u001b[0;34m,\u001b[0m\u001b[0mtree\u001b[0m\u001b[0;34m)\u001b[0m\u001b[0;34m\u001b[0m\u001b[0;34m\u001b[0m\u001b[0m\n\u001b[0m",
      "\u001b[0;32m<ipython-input-74-098a6c8bda24>\u001b[0m in \u001b[0;36mevaluate_model\u001b[0;34m(y_true, y_pred, X_true, tree)\u001b[0m\n\u001b[1;32m     19\u001b[0m     \u001b[0mfig\u001b[0m\u001b[0;34m,\u001b[0m \u001b[0max\u001b[0m \u001b[0;34m=\u001b[0m \u001b[0mplt\u001b[0m\u001b[0;34m.\u001b[0m\u001b[0msubplots\u001b[0m\u001b[0;34m(\u001b[0m\u001b[0mfigsize\u001b[0m\u001b[0;34m=\u001b[0m\u001b[0;34m(\u001b[0m\u001b[0;36m10\u001b[0m\u001b[0;34m,\u001b[0m\u001b[0;36m5\u001b[0m\u001b[0;34m)\u001b[0m\u001b[0;34m,\u001b[0m\u001b[0mncols\u001b[0m\u001b[0;34m=\u001b[0m\u001b[0;36m2\u001b[0m\u001b[0;34m)\u001b[0m\u001b[0;34m\u001b[0m\u001b[0;34m\u001b[0m\u001b[0m\n\u001b[1;32m     20\u001b[0m     metrics.plot_confusion_matrix(clf,X_true,y_true,cmap=\"Greens\",\n\u001b[0;32m---> 21\u001b[0;31m                                   normalize='true',ax=ax[0])\n\u001b[0m\u001b[1;32m     22\u001b[0m     \u001b[0max\u001b[0m\u001b[0;34m[\u001b[0m\u001b[0;36m0\u001b[0m\u001b[0;34m]\u001b[0m\u001b[0;34m.\u001b[0m\u001b[0mset\u001b[0m\u001b[0;34m(\u001b[0m\u001b[0mtitle\u001b[0m\u001b[0;34m=\u001b[0m\u001b[0;34m'Confusion Matrix'\u001b[0m\u001b[0;34m)\u001b[0m\u001b[0;34m\u001b[0m\u001b[0;34m\u001b[0m\u001b[0m\n\u001b[1;32m     23\u001b[0m     \u001b[0my_score\u001b[0m \u001b[0;34m=\u001b[0m \u001b[0mclf\u001b[0m\u001b[0;34m.\u001b[0m\u001b[0mpredict_proba\u001b[0m\u001b[0;34m(\u001b[0m\u001b[0mX_true\u001b[0m\u001b[0;34m)\u001b[0m\u001b[0;34m[\u001b[0m\u001b[0;34m:\u001b[0m\u001b[0;34m,\u001b[0m\u001b[0;36m1\u001b[0m\u001b[0;34m]\u001b[0m\u001b[0;34m\u001b[0m\u001b[0;34m\u001b[0m\u001b[0m\n",
      "\u001b[0;32m//anaconda3/envs/learn-env/lib/python3.6/site-packages/sklearn/metrics/_plot/confusion_matrix.py\u001b[0m in \u001b[0;36mplot_confusion_matrix\u001b[0;34m(estimator, X, y_true, labels, sample_weight, normalize, display_labels, include_values, xticks_rotation, values_format, cmap, ax)\u001b[0m\n\u001b[1;32m    183\u001b[0m         \u001b[0;32mraise\u001b[0m \u001b[0mValueError\u001b[0m\u001b[0;34m(\u001b[0m\u001b[0;34m\"plot_confusion_matrix only supports classifiers\"\u001b[0m\u001b[0;34m)\u001b[0m\u001b[0;34m\u001b[0m\u001b[0;34m\u001b[0m\u001b[0m\n\u001b[1;32m    184\u001b[0m \u001b[0;34m\u001b[0m\u001b[0m\n\u001b[0;32m--> 185\u001b[0;31m     \u001b[0my_pred\u001b[0m \u001b[0;34m=\u001b[0m \u001b[0mestimator\u001b[0m\u001b[0;34m.\u001b[0m\u001b[0mpredict\u001b[0m\u001b[0;34m(\u001b[0m\u001b[0mX\u001b[0m\u001b[0;34m)\u001b[0m\u001b[0;34m\u001b[0m\u001b[0;34m\u001b[0m\u001b[0m\n\u001b[0m\u001b[1;32m    186\u001b[0m     cm = confusion_matrix(y_true, y_pred, sample_weight=sample_weight,\n\u001b[1;32m    187\u001b[0m                           labels=labels, normalize=normalize)\n",
      "\u001b[0;32m//anaconda3/envs/learn-env/lib/python3.6/site-packages/sklearn/tree/_classes.py\u001b[0m in \u001b[0;36mpredict\u001b[0;34m(self, X, check_input)\u001b[0m\n\u001b[1;32m    417\u001b[0m         \"\"\"\n\u001b[1;32m    418\u001b[0m         \u001b[0mcheck_is_fitted\u001b[0m\u001b[0;34m(\u001b[0m\u001b[0mself\u001b[0m\u001b[0;34m)\u001b[0m\u001b[0;34m\u001b[0m\u001b[0;34m\u001b[0m\u001b[0m\n\u001b[0;32m--> 419\u001b[0;31m         \u001b[0mX\u001b[0m \u001b[0;34m=\u001b[0m \u001b[0mself\u001b[0m\u001b[0;34m.\u001b[0m\u001b[0m_validate_X_predict\u001b[0m\u001b[0;34m(\u001b[0m\u001b[0mX\u001b[0m\u001b[0;34m,\u001b[0m \u001b[0mcheck_input\u001b[0m\u001b[0;34m)\u001b[0m\u001b[0;34m\u001b[0m\u001b[0;34m\u001b[0m\u001b[0m\n\u001b[0m\u001b[1;32m    420\u001b[0m         \u001b[0mproba\u001b[0m \u001b[0;34m=\u001b[0m \u001b[0mself\u001b[0m\u001b[0;34m.\u001b[0m\u001b[0mtree_\u001b[0m\u001b[0;34m.\u001b[0m\u001b[0mpredict\u001b[0m\u001b[0;34m(\u001b[0m\u001b[0mX\u001b[0m\u001b[0;34m)\u001b[0m\u001b[0;34m\u001b[0m\u001b[0;34m\u001b[0m\u001b[0m\n\u001b[1;32m    421\u001b[0m         \u001b[0mn_samples\u001b[0m \u001b[0;34m=\u001b[0m \u001b[0mX\u001b[0m\u001b[0;34m.\u001b[0m\u001b[0mshape\u001b[0m\u001b[0;34m[\u001b[0m\u001b[0;36m0\u001b[0m\u001b[0;34m]\u001b[0m\u001b[0;34m\u001b[0m\u001b[0;34m\u001b[0m\u001b[0m\n",
      "\u001b[0;32m//anaconda3/envs/learn-env/lib/python3.6/site-packages/sklearn/tree/_classes.py\u001b[0m in \u001b[0;36m_validate_X_predict\u001b[0;34m(self, X, check_input)\u001b[0m\n\u001b[1;32m    389\u001b[0m                              \u001b[0;34m\"match the input. Model n_features is %s and \"\u001b[0m\u001b[0;34m\u001b[0m\u001b[0;34m\u001b[0m\u001b[0m\n\u001b[1;32m    390\u001b[0m                              \u001b[0;34m\"input n_features is %s \"\u001b[0m\u001b[0;34m\u001b[0m\u001b[0;34m\u001b[0m\u001b[0m\n\u001b[0;32m--> 391\u001b[0;31m                              % (self.n_features_, n_features))\n\u001b[0m\u001b[1;32m    392\u001b[0m \u001b[0;34m\u001b[0m\u001b[0m\n\u001b[1;32m    393\u001b[0m         \u001b[0;32mreturn\u001b[0m \u001b[0mX\u001b[0m\u001b[0;34m\u001b[0m\u001b[0;34m\u001b[0m\u001b[0m\n",
      "\u001b[0;31mValueError\u001b[0m: Number of features of the model must match the input. Model n_features is 10 and input n_features is 82 "
     ]
    },
    {
     "data": {
      "image/png": "[encoded data removed]",
      "text/plain": [
       "<Figure size 720x720 with 1 Axes>"
      ]
     },
     "metadata": {
      "needs_background": "light"
     },
     "output_type": "display_data"
    },
    {
     "data": {
      "image/png": "[encoded data removed]",
      "text/plain": [
       "<Figure size 360x360 with 2 Axes>"
      ]
     },
     "metadata": {
      "needs_background": "light"
     },
     "output_type": "display_data"
    },
    {
     "data": {
      "image/png": "[encoded data removed]",
      "text/plain": [
       "<Figure size 576x288 with 1 Axes>"
      ]
     },
     "metadata": {
      "needs_background": "light"
     },
     "output_type": "display_data"
    },
    {
     "data": {
      "image/png": "[encoded data removed]",
      "text/plain": [
       "<Figure size 720x360 with 2 Axes>"
      ]
     },
     "metadata": {
      "needs_background": "light"
     },
     "output_type": "display_data"
    }
   ],
   "source": [
    "## Evaluate the model\n",
    "evaluate_model(y_test,y_hat_test,X_test,tree)"
   ]
  },
  {
   "cell_type": "markdown",
   "metadata": {
    "slideshow": {
     "slide_type": "slide"
    }
   },
   "source": [
    "## You can also visualize your Decision Trees\n",
    "\n",
    "> Note: This requires installing graphviz which can be a painful installation."
   ]
  },
  {
   "cell_type": "code",
   "execution_count": 93,
   "metadata": {
    "ExecuteTime": {
     "end_time": "2020-01-21T18:11:14.178095Z",
     "start_time": "2020-01-21T18:11:14.172523Z"
    }
   },
   "outputs": [],
   "source": [
    "## visualize the decision tree\n",
    "def visualize_tree(tree,feature_names=None,class_names=['0','1'],export_graphviz_kws={}):\n",
    "    \"\"\"Visualizes a sklearn tree using sklearn.tree.export_graphviz\"\"\"\n",
    "    from sklearn.tree import export_graphviz\n",
    "    from IPython.display import SVG\n",
    "    from graphviz import Source\n",
    "    from IPython.display import display\n",
    "    if feature_names is None:\n",
    "        feature_names=X_train.columns\n",
    "\n",
    "    tree_viz_kws =  dict(out_file=None, rotate=False, filled = True)\n",
    "    tree_viz_kws.update(export_graphviz_kws)\n",
    "\n",
    "    # tree.export_graphviz(dt) #if you wish to save the output to a dot file instead\n",
    "    graph = Source(export_graphviz(tree,feature_names=feature_names, class_names=class_names,**tree_viz_kws))\n",
    "    display(SVG(graph.pipe(format='svg')))"
   ]
  },
  {
   "cell_type": "code",
   "execution_count": 96,
   "metadata": {
    "ExecuteTime": {
     "end_time": "2020-01-21T18:14:49.193383Z",
     "start_time": "2020-01-21T18:14:49.190721Z"
    },
    "scrolled": true
   },
   "outputs": [],
   "source": [
    "# visualize_tree(tree,X.columns)"
   ]
  },
  {
   "cell_type": "markdown",
   "metadata": {},
   "source": [
    "## GridSearchCV with DecisionTreeClassifier"
   ]
  },
  {
   "cell_type": "code",
   "execution_count": 97,
   "metadata": {
    "ExecuteTime": {
     "end_time": "2020-01-21T18:14:57.464456Z",
     "start_time": "2020-01-21T18:14:57.448226Z"
    },
    "code_folding": []
   },
   "outputs": [],
   "source": [
    "class Timer():\n",
    "    def __init__(self, start=True,time_fmt='%m/%d/%y - %T'):\n",
    "        import tzlocal\n",
    "        import datetime as dt\n",
    "        \n",
    "        self.tz = tzlocal.get_localzone()\n",
    "        self.fmt= time_fmt\n",
    "        self._created = dt.datetime.now(tz=self.tz)\n",
    "        \n",
    "        if start:\n",
    "            self.start()\n",
    "            \n",
    "    def get_time(self):\n",
    "        import datetime as dt\n",
    "        return dt.datetime.now(tz=self.tz)\n",
    "\n",
    "        \n",
    "    def start(self,verbose=True):\n",
    "        self._laps_completed = 0\n",
    "        self.start = self.get_time()\n",
    "        if verbose: \n",
    "            print(f'[i] Timer started at {self.start.strftime(self.fmt)}')\n",
    "    \n",
    "    def stop(self, verbose=True):\n",
    "        self._laps_completed += 1\n",
    "        self.end = self.get_time()\n",
    "        self.elapsed = self.end -  self.start\n",
    "        if verbose: \n",
    "            print(f'[i] Timer stopped at {self.end.strftime(self.fmt)}')\n",
    "            print(f'  - Total Time: {self.elapsed}')"
   ]
  },
  {
   "cell_type": "code",
   "execution_count": 99,
   "metadata": {
    "ExecuteTime": {
     "end_time": "2020-01-21T18:15:18.256717Z",
     "start_time": "2020-01-21T18:15:18.251771Z"
    }
   },
   "outputs": [
    {
     "data": {
      "text/plain": [
       "(25878, 77)"
      ]
     },
     "execution_count": 99,
     "metadata": {},
     "output_type": "execute_result"
    }
   ],
   "source": [
    "X_train.shape"
   ]
  },
  {
   "cell_type": "code",
   "execution_count": 102,
   "metadata": {
    "ExecuteTime": {
     "end_time": "2020-01-21T18:20:27.925306Z",
     "start_time": "2020-01-21T18:18:24.161295Z"
    }
   },
   "outputs": [
    {
     "name": "stdout",
     "output_type": "stream",
     "text": [
      "[i] Timer started at 01/21/20 - 13:18:24\n",
      "[i] Timer stopped at 01/21/20 - 13:20:27\n",
      "  - Total Time: 0:02:03.758873\n",
      "{'criterion': 'gini', 'max_depth': 15, 'max_features': 77, 'min_samples_leaf': 1, 'min_samples_split': 5}\n"
     ]
    }
   ],
   "source": [
    "## Set up param grid\n",
    "grid = {'max_depth': [3,5,10,15],\n",
    "     'criterion': ['gini','entropy'],\n",
    "     'min_samples_split':[2,5,10],\n",
    "     'min_samples_leaf':[1,2,3,5,10],\n",
    "       'max_features': [3,5,10,30,77]}#10,20,50,len(X.columns)]}\n",
    "\n",
    "\n",
    "## Instantiate classifier\n",
    "dt_clf = DecisionTreeClassifier()\n",
    "\n",
    "\n",
    "## Instantiate GridSearchCV\n",
    "gridsearch = GridSearchCV(dt_clf, param_grid=grid,cv=5)\n",
    "\n",
    "## Start timer and fit search\n",
    "timer = Timer()\n",
    "\n",
    "tree_cv = gridsearch.fit(X_train, y_train)\n",
    "timer.stop()\n",
    "## Stop time and print best params\n",
    "print(tree_cv.best_params_)"
   ]
  },
  {
   "cell_type": "code",
   "execution_count": 103,
   "metadata": {
    "ExecuteTime": {
     "end_time": "2020-01-21T18:20:28.125332Z",
     "start_time": "2020-01-21T18:20:27.927191Z"
    }
   },
   "outputs": [
    {
     "name": "stdout",
     "output_type": "stream",
     "text": [
      "[i] Training Data:\n",
      "              precision    recall  f1-score   support\n",
      "\n",
      "           0       0.78      0.59      0.67     12939\n",
      "           1       0.67      0.83      0.74     12939\n",
      "\n",
      "    accuracy                           0.71     25878\n",
      "   macro avg       0.73      0.71      0.71     25878\n",
      "weighted avg       0.73      0.71      0.71     25878\n",
      "\n",
      "\n",
      "[i] Test Data:\n",
      "              precision    recall  f1-score   support\n",
      "\n",
      "           0       0.78      0.55      0.64      4367\n",
      "           1       0.42      0.67      0.52      2130\n",
      "\n",
      "    accuracy                           0.59      6497\n",
      "   macro avg       0.60      0.61      0.58      6497\n",
      "weighted avg       0.66      0.59      0.60      6497\n",
      "\n"
     ]
    }
   ],
   "source": [
    "## Create a tree with the gridsearch's best params\n",
    "tree = DecisionTreeClassifier(**tree_cv.best_params_)\n",
    "tree.fit(X_train,y_train)\n",
    "\n",
    "## Get predictions for train and test\n",
    "y_hat_test = tree.predict(X_test)\n",
    "y_hat_train = tree.predict(X_train)\n",
    "\n",
    "\n",
    "## Print classification report for train and test\n",
    "print(f\"[i] Training Data:\\n{metrics.classification_report(y_train,y_hat_train)}\",end='\\n\\n')\n",
    "print(f\"[i] Test Data:\\n{metrics.classification_report(y_test,y_hat_test)}\")\n",
    "# print(metrics.confusion_matrix(y_test,y_hat_test))\n",
    "\n",
    "## Evaluate Model using function"
   ]
  },
  {
   "cell_type": "code",
   "execution_count": 105,
   "metadata": {
    "ExecuteTime": {
     "end_time": "2020-01-21T18:20:37.726986Z",
     "start_time": "2020-01-21T18:20:36.615793Z"
    },
    "scrolled": true
   },
   "outputs": [
    {
     "name": "stdout",
     "output_type": "stream",
     "text": [
      "              precision    recall  f1-score   support\n",
      "\n",
      "           0       0.78      0.55      0.64      4367\n",
      "           1       0.42      0.67      0.52      2130\n",
      "\n",
      "    accuracy                           0.59      6497\n",
      "   macro avg       0.60      0.61      0.58      6497\n",
      "weighted avg       0.66      0.59      0.60      6497\n",
      "\n"
     ]
    },
    {
     "data": {
      "image/png": "[encoded data removed]",
      "text/plain": [
       "<Figure size 720x720 with 1 Axes>"
      ]
     },
     "metadata": {
      "needs_background": "light"
     },
     "output_type": "display_data"
    },
    {
     "data": {
      "image/png": "[encoded data removed]",
      "text/plain": [
       "<Figure size 360x360 with 2 Axes>"
      ]
     },
     "metadata": {
      "needs_background": "light"
     },
     "output_type": "display_data"
    },
    {
     "data": {
      "image/png": "[encoded data removed]",
      "text/plain": [
       "<Figure size 576x288 with 1 Axes>"
      ]
     },
     "metadata": {
      "needs_background": "light"
     },
     "output_type": "display_data"
    }
   ],
   "source": [
    "# visualize_tree(tree)\n",
    "evaluate_model(y_test,y_hat_test,tree)"
   ]
  },
  {
   "cell_type": "code",
   "execution_count": null,
   "metadata": {
    "ExecuteTime": {
     "end_time": "2020-01-21T03:25:20.067851Z",
     "start_time": "2020-01-21T03:25:20.065500Z"
    },
    "code_folding": [
     0
    ]
   },
   "outputs": [],
   "source": [
    "# # Create the pipeline\n",
    "# pipetree = Pipeline([('enc',LabelEncoder()),\n",
    "#                      ('ohe',OneHotEncoder()),\n",
    "#                     ('dt',DecisionTreeClassifier())])\n",
    "\n",
    "# # pipe = Pipeline([('scl', MinMaxScaler()),\n",
    "# #                 ('pca', PCA(n_components=10)),\n",
    "# #                 ('svm', svm.SVC(random_state=123))])\n",
    "\n",
    "# # Create the grid parameter\n",
    "# grid = {'dt__max_depth': [3,5,10],\n",
    "#      'dt__criterion': ['gini','entropy'],\n",
    "#      'dt__min_samples_split':[2,5,10],\n",
    "#      'dt__min_samples_leaf':[1,2,3]}\n",
    "# @timeit\n",
    "# def timed_search(pipe=pipetree, grid=grid):\n",
    "#     randomsearch = RandomizedSearchCV(estimator=pipe,param_distributions=grid,verbose=1)\n",
    "\n",
    "#     randomsearch.fit(X_train, y_train)\n",
    "#     return randomsearch\n",
    "# # # Create the grid parameter\n",
    "# # grid = [{'svm__kernel': ['poly', 'sigmoid'],\n",
    "# #          'svm__C': [0.01, 1, 100],\n",
    "# #          'svm__degree0': [2,3,4,5],\n",
    "# #          'svm__gamma': [0.001, 0.01]}]\n",
    "\n",
    "# # # Create the grid, with \"pipe\" as the estimator\n",
    "# # gridsearch = GridSearchCV(estimator=pipe,\n",
    "# #                   param_grid=grid,\n",
    "# #                   scoring='accuracy',\n",
    "# #                   cv=3)\n",
    "\n",
    "# # Fit using grid search\n",
    "# # gridsearch.fit(X_train, y_train)"
   ]
  },
  {
   "cell_type": "markdown",
   "metadata": {
    "slideshow": {
     "slide_type": "slide"
    }
   },
   "source": [
    "A single decision tree will often overfit your training data. There are steps one can take to help with this, like limiting the \"depth\" of the nodes. But it's often better to do something else: Plant another tree!\n",
    "\n",
    "Of course, if a second tree is going to be of any value, it has to be *different from* the first. Here's a good algorithm for achieving that:\n",
    "\n",
    "## Fitting a Set of Bagged Decision Trees\n",
    "\n",
    "### Bagging Algorithm\n",
    "\n",
    "Take a sample of your X_train and fit a decision tree to it. <br/>\n",
    "Replace the first batch of data and repeat. <br/>\n",
    "When you've got as many trees as you like, make use of all your individual trees' predictions to come up with some holistic prediction. (Most obviously, we could take the average of our predictions, but there are other methods we might try.)\n",
    "\n",
    "<br/>\n",
    "\n",
    "Because we're resampling our data with replacement, we're *bootstrapping*. <br/>\n",
    "Because we're making use of our many samples' predictions, we're *aggregating*. <br/>\n",
    "Because we're bootstrapping and aggregating all in the same algorithm, we're *bagging*."
   ]
  },
  {
   "cell_type": "code",
   "execution_count": 106,
   "metadata": {
    "ExecuteTime": {
     "end_time": "2020-01-21T18:21:36.338471Z",
     "start_time": "2020-01-21T18:21:36.335001Z"
    }
   },
   "outputs": [],
   "source": [
    "from sklearn.ensemble import AdaBoostClassifier,RandomForestClassifier,BaggingClassifier\n",
    "from sklearn.model_selection import train_test_split\n",
    "from sklearn.tree import DecisionTreeClassifier"
   ]
  },
  {
   "cell_type": "code",
   "execution_count": 107,
   "metadata": {
    "ExecuteTime": {
     "end_time": "2020-01-21T18:21:46.843965Z",
     "start_time": "2020-01-21T18:21:36.686439Z"
    },
    "slideshow": {
     "slide_type": "slide"
    }
   },
   "outputs": [
    {
     "name": "stdout",
     "output_type": "stream",
     "text": [
      "0.6178236108973373\n"
     ]
    }
   ],
   "source": [
    "bag = BaggingClassifier(n_estimators=100)\n",
    "bag.fit(X_train, y_train)\n",
    "print(bag.score(X_test, y_test))\n"
   ]
  },
  {
   "cell_type": "code",
   "execution_count": 108,
   "metadata": {
    "ExecuteTime": {
     "end_time": "2020-01-21T18:21:47.666356Z",
     "start_time": "2020-01-21T18:21:46.845337Z"
    }
   },
   "outputs": [
    {
     "name": "stdout",
     "output_type": "stream",
     "text": [
      "              precision    recall  f1-score   support\n",
      "\n",
      "           0       0.74      0.67      0.70      4367\n",
      "           1       0.43      0.51      0.47      2130\n",
      "\n",
      "    accuracy                           0.62      6497\n",
      "   macro avg       0.58      0.59      0.58      6497\n",
      "weighted avg       0.64      0.62      0.63      6497\n",
      "\n"
     ]
    },
    {
     "data": {
      "image/png": "[encoded data removed]",
      "text/plain": [
       "<Figure size 360x360 with 2 Axes>"
      ]
     },
     "metadata": {
      "needs_background": "light"
     },
     "output_type": "display_data"
    },
    {
     "data": {
      "image/png": "[encoded data removed]",
      "text/plain": [
       "<Figure size 576x288 with 1 Axes>"
      ]
     },
     "metadata": {
      "needs_background": "light"
     },
     "output_type": "display_data"
    }
   ],
   "source": [
    "y_hat_test = bag.predict(X_test)\n",
    "\n",
    "evaluate_model(y_test,y_hat_test,bag)"
   ]
  },
  {
   "cell_type": "code",
   "execution_count": null,
   "metadata": {},
   "outputs": [],
   "source": []
  },
  {
   "cell_type": "markdown",
   "metadata": {},
   "source": [
    "## Hyper Parameter Tuning with Trees\n",
    "## TO DO: \n",
    "https://learn.co/tracks/module-3-data-science-career-2-1/machine-learning/section-29-decision-trees/hyperparameter-tuning-and-pruning-in-decision-trees\n"
   ]
  },
  {
   "cell_type": "markdown",
   "metadata": {},
   "source": [
    "### Hyperparameters\n",
    "- Useful to consider to make sure you don't overfit or underfit\n",
    "\n",
    "Check out the scikit-learn documentation: https://scikit-learn.org/stable/modules/generated/sklearn.tree.DecisionTreeClassifier.html"
   ]
  },
  {
   "cell_type": "markdown",
   "metadata": {},
   "source": [
    "- `max-depth`\n",
    "- `min_samples_leaf`: The smallest number of samples that can be in a leaf (node)\n",
    "- `min_samples_split`: The smallest number of samples in a leaf (node) before splitting it\n",
    "- `max_features`: Most features to consider when splitting"
   ]
  },
  {
   "cell_type": "markdown",
   "metadata": {},
   "source": [
    "## SEE LABS FROM CLASS FOLDER FOR HYPERPARAMETER TUNING NOTEBOOK"
   ]
  },
  {
   "cell_type": "markdown",
   "metadata": {},
   "source": [
    "# Questions / Comments"
   ]
  },
  {
   "cell_type": "code",
   "execution_count": null,
   "metadata": {},
   "outputs": [],
   "source": []
  }
 ],
 "metadata": {
  "kernelspec": {
   "display_name": "Python [conda env:learn-env] *",
   "language": "python",
   "name": "conda-env-learn-env-py"
  },
  "language_info": {
   "codemirror_mode": {
    "name": "ipython",
    "version": 3
   },
   "file_extension": ".py",
   "mimetype": "text/x-python",
   "name": "python",
   "nbconvert_exporter": "python",
   "pygments_lexer": "ipython3",
   "version": "3.6.9"
  },
  "toc": {
   "base_numbering": 1,
   "nav_menu": {},
   "number_sections": false,
   "sideBar": true,
   "skip_h1_title": false,
   "title_cell": "Table of Contents",
   "title_sidebar": "Contents",
   "toc_cell": false,
   "toc_position": {},
   "toc_section_display": true,
   "toc_window_display": true
  }
 },
 "nbformat": 4,
 "nbformat_minor": 2
}
