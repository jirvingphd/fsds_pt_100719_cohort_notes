{
 "cells": [
  {
   "cell_type": "markdown",
   "metadata": {
    "slideshow": {
     "slide_type": "slide"
    }
   },
   "source": [
    "# Ensembles: From Decision Trees to Extra Trees"
   ]
  },
  {
   "cell_type": "markdown",
   "metadata": {},
   "source": [
    "## Learning Objectives"
   ]
  },
  {
   "cell_type": "markdown",
   "metadata": {},
   "source": [
    "- Discuss the various types of ensembles methods\n",
    "- Compare and contrast them and their advatnages/disadvantages\n",
    "- Apply various ensemble methods, GridSearch, RandomizedSearch to a project dataset.\n",
    "- Dealing with imbalanced classes"
   ]
  },
  {
   "cell_type": "markdown",
   "metadata": {},
   "source": [
    "## Questions?\n",
    "- "
   ]
  },
  {
   "cell_type": "markdown",
   "metadata": {},
   "source": [
    "# Ensemble Methods: Overview"
   ]
  },
  {
   "cell_type": "markdown",
   "metadata": {},
   "source": [
    "> ***Ensemble Methods take advantage of the delphic technique (or \"wisdom of crowds\") where the average of multiple independent estimates is usually more consistently accurate than the individual estimates.***\n",
    "\n",
    "\n",
    "\n",
    "> - Bootstrap Aggregation\n",
    "    - Bagging Classifier\n",
    "    - Random Forests\n",
    "- Gradient Boosting:\n",
    "    - Adaboost\n",
    "    - Gradient Boosted Trees\n",
    "- Model Stacking A.K.K. Meta-Ensembling\n",
    "\n",
    "\n",
    "<!---\n",
    "<img src=\"https://raw.githubusercontent.com/jirvingphd/fsds_100719_cohort_notes/master/Flashcards/Ensemble_Methods_web.png\">\n",
    "\n",
    "<img src=\"https://raw.githubusercontent.com/jirvingphd/fsds_100719_cohort_notes/master/Flashcards/Avoid_Overfitting_web.png\">--->"
   ]
  },
  {
   "cell_type": "markdown",
   "metadata": {},
   "source": [
    "## Bootstrap Aggregation (Bagging)\n"
   ]
  },
  {
   "cell_type": "markdown",
   "metadata": {},
   "source": [
    "\n",
    "The process for training an ensemble through bootstrap aggregation is as follows:\n",
    "\n",
    "1. Grab a sizable sample from your dataset, with replacement \n",
    "2. Train a classifier on this sample  \n",
    "3. Repeat until all classifiers have been trained on their own sample from the dataset  \n",
    "4. When making a prediction, have each classifier in the ensemble make a prediction \n",
    "5. Aggregate all predictions from all classifiers into a single prediction, using the method of your choice  \n",
    "\n",
    "<img src=\"https://raw.githubusercontent.com/jirvingphd/fsds_100719_cohort_notes/master/Flashcards/Bagging_web.png\">\n",
    "\n",
    "<img src=\"https://raw.githubusercontent.com/jirvingphd/dsc-ensemble-methods-online-ds-ft-100719/master/images/new_bagging.png\">"
   ]
  },
  {
   "cell_type": "markdown",
   "metadata": {},
   "source": [
    "## Random Forests"
   ]
  },
  {
   "cell_type": "markdown",
   "metadata": {},
   "source": [
    "- Because decision trees are greedy algorithms, every tree given same data would make same conclusions.\n",
    "- **In addition to bagging**, random forests use **subspace sampling**\n",
    "<img src=\"https://raw.githubusercontent.com/jirvingphd/fsds_100719_cohort_notes/master/Flashcards/Random_Forest_web.png\">\n",
    "<img src=\"https://raw.githubusercontent.com/learn-co-students/dsc-random-forests-online-ds-ft-100719/master/images/new_rf-diagram.png\" width=70%>\n",
    "\n",
    "\n",
    "\n",
    "\n",
    "### Benefits and drawbacks\n",
    "\n",
    "Like any algorithm, random forest comes with its own benefits and drawbacks. \n",
    "\n",
    "#### Benefits\n",
    "\n",
    "* **_Strong performance_** Because this is an ensemble algorithm, the model is naturally resistant to noise and variance in the data, and generally tends to perform quite well. \n",
    "\n",
    "* **_Interpretability_**:  each tree in the random forest is a **_Glass-Box Model_** (meaning that the model is interpretable, allowing us to see how it arrived at a certain decision), the overall random forest is, as well! \n",
    "\n",
    "#### Drawbacks\n",
    "\n",
    "* **_Computational complexity_**: On large datasets, the runtime can be quite slow compared to other algorithms.\n",
    "\n",
    "* **_Memory usage_**: Random forests tend to have a larger memory footprint that other models. It's not uncommon to see random forests that were trained on large datasets have memory footprints in the tens, or even hundreds of MB. \n"
   ]
  },
  {
   "cell_type": "markdown",
   "metadata": {},
   "source": [
    "## Boosting / Gradient Boosted Trees"
   ]
  },
  {
   "cell_type": "markdown",
   "metadata": {},
   "source": [
    "### Weak learners\n",
    "\n",
    "All the models we've learned so far are **_Strong Learners_** -- models with the goal of doing as well as possible on the classification or regression task they are given. \n",
    "\n",
    "The term **_Weak Learner_** refers to simple models that do only slightly better than random chance. \n",
    "\n",
    "Boosting algorithms start with a single weak learner (usually trees), but technically, any model will do. \n",
    "\n",
    "Boosting works as follows:\n",
    "\n",
    "1. Train a single weak learner  \n",
    "2. Figure out which examples the weak learner got wrong  \n",
    "3. Build another weak learner that focuses on the areas the first weak learner got wrong  \n",
    "4. Continue this process until a predetermined stopping condition is met, such as until a set number of weak learners have been created, or the model's performance has plateaued  \n"
   ]
  },
  {
   "cell_type": "markdown",
   "metadata": {},
   "source": [
    "### Differences between Gradient Boosting and Random Forests"
   ]
  },
  {
   "cell_type": "markdown",
   "metadata": {},
   "source": [
    "- Independent vs iterative\n",
    "    - in Random Forests one tree is unaffacted by another.\n",
    "    - in Boosting mode each tree is iteratively created to address the prior tree's weaknesses.\n",
    "    \n",
    "- Weak vs Strong\n",
    "\n",
    "    - In a random forest, each tree is a strong learner -- they would do just fine as a decision tree on their own.\n",
    "    - In boosting algorithms, trees are artificially limited to a very shallow depth (usually only 1 split) \n",
    "        - to ensure that **each model is only slightly better than random chance**. \n",
    "\n",
    "- Aggregate Predictions:\n",
    "    - in RF each tree votes\n",
    "    - in boosting models trees are given weight for being good at \"hard tasks\"\n",
    "    "
   ]
  },
  {
   "cell_type": "markdown",
   "metadata": {},
   "source": [
    "### Adaboost & Gradient Boosted Trees\n"
   ]
  },
  {
   "cell_type": "markdown",
   "metadata": {},
   "source": [
    "#### Adaboost (Adaptive Boosting)\n",
    "- **_Key Takeaway:_** Adaboost creates new classifiers by continually influencing the distribution of the data sampled to train each successive learner. \n",
    "- Uses subsampling with weighted-probabilities for incorrect predictions to be included in subsequent weak learner"
   ]
  },
  {
   "cell_type": "markdown",
   "metadata": {},
   "source": [
    "#### Gradient Boosted Trees\n",
    "- More advanced form - uses gradient descent.\n",
    "- Trains successive trees on the **residuals**\n",
    "\n",
    "<img src=\"https://raw.githubusercontent.com/jirvingphd/dsc-gradient-boosting-and-weak-learners-online-ds-ft-100719/master/images/new_gradient-boosting.png\">\n"
   ]
  },
  {
   "cell_type": "code",
   "execution_count": null,
   "metadata": {},
   "outputs": [],
   "source": []
  },
  {
   "cell_type": "markdown",
   "metadata": {},
   "source": []
  },
  {
   "cell_type": "code",
   "execution_count": null,
   "metadata": {},
   "outputs": [],
   "source": []
  },
  {
   "cell_type": "markdown",
   "metadata": {},
   "source": [
    "## Modeling Stacking / Meta-Ensembling"
   ]
  },
  {
   "cell_type": "markdown",
   "metadata": {},
   "source": [
    "- Model stacking is when you use the predictions of one model as the input to another model.\n",
    "<img src=\"https://burakhimmetoglu.files.wordpress.com/2016/12/workflow.png?w=1140\">"
   ]
  },
  {
   "cell_type": "markdown",
   "metadata": {},
   "source": [
    "# Predicting Prisoner Recidivism with Ensemble Methods"
   ]
  },
  {
   "cell_type": "markdown",
   "metadata": {
    "slideshow": {
     "slide_type": "slide"
    }
   },
   "source": [
    "~~To start, we'll build a decision tree classifier, before taking a look at how we can further improve this algorithm by combining multiple decision trees. As we're feeling woodsy, import and inspect the dataset stored in `mushrooms.csv`.~~\n",
    "    \n",
    "<img src=\"https://raw.githubusercontent.com/jirvingphd/dsc-3-final-project-online-ds-ft-021119/master/LSA_map_with_counties_districts_and_B54A5BBCE4156.jpg\" width=30%>\n",
    "\n",
    "- The provided dataset was too easy to predict and I was getting 100% accuracy with vanilla trees.\n",
    "- Instead using partially-processed version of the Iowa Recidivism Dataset from my Mod 3 Project.\n",
    "    - https://github.com/jirvingphd/dsc-3-final-project-online-ds-ft-021119\n",
    "    \n",
    "- **[Non-Technical Presentation with prior results](https://github.com/jirvingphd/dsc-3-final-project-online-ds-ft-021119/blob/master/Predicting%20Recidivism%20in%20Released%20Prisoner%20in%20Iowa_v2.pdf)**\n",
    "    \n"
   ]
  },
  {
   "cell_type": "markdown",
   "metadata": {},
   "source": [
    "# Plan:"
   ]
  },
  {
   "cell_type": "markdown",
   "metadata": {},
   "source": [
    "- Vanilla DecisionTreeClassifier\n",
    "    - RandomizedSearchCV best-params DTC\n",
    "- Bagging Classifier\n",
    "- RandomForest\n",
    "- ExtraTreesClassifier\n",
    "    - GridSearchCV\n",
    "- XGBoost"
   ]
  },
  {
   "cell_type": "markdown",
   "metadata": {},
   "source": [
    "# Activity: Iowa Prisoners (From Last Class)"
   ]
  },
  {
   "cell_type": "code",
   "execution_count": 1,
   "metadata": {
    "ExecuteTime": {
     "end_time": "2020-04-11T18:56:21.461926Z",
     "start_time": "2020-04-11T18:56:15.965233Z"
    }
   },
   "outputs": [
    {
     "name": "stdout",
     "output_type": "stream",
     "text": [
      "fsds_1007219  v0.7.20 loaded.  Read the docs: https://fsds.readthedocs.io/en/latest/ \n"
     ]
    },
    {
     "data": {
      "text/html": [
       "<style  type=\"text/css\" >\n",
       "</style><table id=\"T_21d5451c_7c26_11ea_bd27_acde48001122\" ><caption>Loaded Packages and Handles</caption><thead>    <tr>        <th class=\"col_heading level0 col0\" >Handle</th>        <th class=\"col_heading level0 col1\" >Package</th>        <th class=\"col_heading level0 col2\" >Description</th>    </tr></thead><tbody>\n",
       "                <tr>\n",
       "                                <td id=\"T_21d5451c_7c26_11ea_bd27_acde48001122row0_col0\" class=\"data row0 col0\" >dp</td>\n",
       "                        <td id=\"T_21d5451c_7c26_11ea_bd27_acde48001122row0_col1\" class=\"data row0 col1\" >IPython.display</td>\n",
       "                        <td id=\"T_21d5451c_7c26_11ea_bd27_acde48001122row0_col2\" class=\"data row0 col2\" >Display modules with helpful display and clearing commands.</td>\n",
       "            </tr>\n",
       "            <tr>\n",
       "                                <td id=\"T_21d5451c_7c26_11ea_bd27_acde48001122row1_col0\" class=\"data row1 col0\" >fs</td>\n",
       "                        <td id=\"T_21d5451c_7c26_11ea_bd27_acde48001122row1_col1\" class=\"data row1 col1\" >fsds_100719</td>\n",
       "                        <td id=\"T_21d5451c_7c26_11ea_bd27_acde48001122row1_col2\" class=\"data row1 col2\" >Custom data science bootcamp student package</td>\n",
       "            </tr>\n",
       "            <tr>\n",
       "                                <td id=\"T_21d5451c_7c26_11ea_bd27_acde48001122row2_col0\" class=\"data row2 col0\" >mpl</td>\n",
       "                        <td id=\"T_21d5451c_7c26_11ea_bd27_acde48001122row2_col1\" class=\"data row2 col1\" >matplotlib</td>\n",
       "                        <td id=\"T_21d5451c_7c26_11ea_bd27_acde48001122row2_col2\" class=\"data row2 col2\" >Matplotlib's base OOP module with formatting artists</td>\n",
       "            </tr>\n",
       "            <tr>\n",
       "                                <td id=\"T_21d5451c_7c26_11ea_bd27_acde48001122row3_col0\" class=\"data row3 col0\" >plt</td>\n",
       "                        <td id=\"T_21d5451c_7c26_11ea_bd27_acde48001122row3_col1\" class=\"data row3 col1\" >matplotlib.pyplot</td>\n",
       "                        <td id=\"T_21d5451c_7c26_11ea_bd27_acde48001122row3_col2\" class=\"data row3 col2\" >Matplotlib's matlab-like plotting module</td>\n",
       "            </tr>\n",
       "            <tr>\n",
       "                                <td id=\"T_21d5451c_7c26_11ea_bd27_acde48001122row4_col0\" class=\"data row4 col0\" >np</td>\n",
       "                        <td id=\"T_21d5451c_7c26_11ea_bd27_acde48001122row4_col1\" class=\"data row4 col1\" >numpy</td>\n",
       "                        <td id=\"T_21d5451c_7c26_11ea_bd27_acde48001122row4_col2\" class=\"data row4 col2\" >scientific computing with Python</td>\n",
       "            </tr>\n",
       "            <tr>\n",
       "                                <td id=\"T_21d5451c_7c26_11ea_bd27_acde48001122row5_col0\" class=\"data row5 col0\" >pd</td>\n",
       "                        <td id=\"T_21d5451c_7c26_11ea_bd27_acde48001122row5_col1\" class=\"data row5 col1\" >pandas</td>\n",
       "                        <td id=\"T_21d5451c_7c26_11ea_bd27_acde48001122row5_col2\" class=\"data row5 col2\" >High performance data structures and tools</td>\n",
       "            </tr>\n",
       "            <tr>\n",
       "                                <td id=\"T_21d5451c_7c26_11ea_bd27_acde48001122row6_col0\" class=\"data row6 col0\" >sns</td>\n",
       "                        <td id=\"T_21d5451c_7c26_11ea_bd27_acde48001122row6_col1\" class=\"data row6 col1\" >seaborn</td>\n",
       "                        <td id=\"T_21d5451c_7c26_11ea_bd27_acde48001122row6_col2\" class=\"data row6 col2\" >High-level data visualization library based on matplotlib</td>\n",
       "            </tr>\n",
       "    </tbody></table>"
      ],
      "text/plain": [
       "<pandas.io.formats.style.Styler at 0x1c20c95cf8>"
      ]
     },
     "metadata": {},
     "output_type": "display_data"
    },
    {
     "data": {
      "text/html": [
       "        <script type=\"text/javascript\">\n",
       "        window.PlotlyConfig = {MathJaxConfig: 'local'};\n",
       "        if (window.MathJax) {MathJax.Hub.Config({SVG: {font: \"STIX-Web\"}});}\n",
       "        if (typeof require !== 'undefined') {\n",
       "        require.undef(\"plotly\");\n",
       "        requirejs.config({\n",
       "            paths: {\n",
       "                'plotly': ['https://cdn.plot.ly/plotly-latest.min']\n",
       "            }\n",
       "        });\n",
       "        require(['plotly'], function(Plotly) {\n",
       "            window._Plotly = Plotly;\n",
       "        });\n",
       "        }\n",
       "        </script>\n",
       "        "
      ]
     },
     "metadata": {},
     "output_type": "display_data"
    },
    {
     "name": "stdout",
     "output_type": "stream",
     "text": [
      "[i] Pandas .iplot() method activated.\n"
     ]
    }
   ],
   "source": [
    "from IPython.display import clear_output\n",
    "!pip install -U fsds_100719\n",
    "clear_output()\n",
    "from fsds_100719.imports import *\n",
    "import plotly.express as px\n",
    "import plotly.graph_objects as go\n",
    "\n",
    "import warnings\n",
    "warnings.filterwarnings('ignore')\n",
    "\n",
    "plt.style.use('seaborn-notebook')"
   ]
  },
  {
   "cell_type": "code",
   "execution_count": 2,
   "metadata": {
    "ExecuteTime": {
     "end_time": "2020-04-11T18:56:21.994886Z",
     "start_time": "2020-04-11T18:56:21.463451Z"
    }
   },
   "outputs": [
    {
     "data": {
      "text/html": [
       "<div>\n",
       "<style scoped>\n",
       "    .dataframe tbody tr th:only-of-type {\n",
       "        vertical-align: middle;\n",
       "    }\n",
       "\n",
       "    .dataframe tbody tr th {\n",
       "        vertical-align: top;\n",
       "    }\n",
       "\n",
       "    .dataframe thead th {\n",
       "        text-align: right;\n",
       "    }\n",
       "</style>\n",
       "<table border=\"1\" class=\"dataframe\">\n",
       "  <thead>\n",
       "    <tr style=\"text-align: right;\">\n",
       "      <th></th>\n",
       "      <th>yr_released</th>\n",
       "      <th>report_year</th>\n",
       "      <th>race_ethnicity</th>\n",
       "      <th>age_released</th>\n",
       "      <th>crime_class</th>\n",
       "      <th>crime_type</th>\n",
       "      <th>crime_subtype</th>\n",
       "      <th>release_type</th>\n",
       "      <th>super_dist</th>\n",
       "      <th>recidivist</th>\n",
       "      <th>target_pop</th>\n",
       "      <th>sex</th>\n",
       "    </tr>\n",
       "  </thead>\n",
       "  <tbody>\n",
       "    <tr>\n",
       "      <td>0</td>\n",
       "      <td>2010</td>\n",
       "      <td>2013</td>\n",
       "      <td>Black - Non-Hispanic</td>\n",
       "      <td>25-34</td>\n",
       "      <td>C Felony</td>\n",
       "      <td>Violent</td>\n",
       "      <td>Robbery</td>\n",
       "      <td>Parole</td>\n",
       "      <td>7JD</td>\n",
       "      <td>Yes</td>\n",
       "      <td>Yes</td>\n",
       "      <td>Male</td>\n",
       "    </tr>\n",
       "    <tr>\n",
       "      <td>1</td>\n",
       "      <td>2010</td>\n",
       "      <td>2013</td>\n",
       "      <td>White - Non-Hispanic</td>\n",
       "      <td>25-34</td>\n",
       "      <td>D Felony</td>\n",
       "      <td>Property</td>\n",
       "      <td>Theft</td>\n",
       "      <td>Discharged – End of Sentence</td>\n",
       "      <td>NaN</td>\n",
       "      <td>Yes</td>\n",
       "      <td>No</td>\n",
       "      <td>Male</td>\n",
       "    </tr>\n",
       "    <tr>\n",
       "      <td>2</td>\n",
       "      <td>2010</td>\n",
       "      <td>2013</td>\n",
       "      <td>White - Non-Hispanic</td>\n",
       "      <td>35-44</td>\n",
       "      <td>B Felony</td>\n",
       "      <td>Drug</td>\n",
       "      <td>Trafficking</td>\n",
       "      <td>Parole</td>\n",
       "      <td>5JD</td>\n",
       "      <td>Yes</td>\n",
       "      <td>Yes</td>\n",
       "      <td>Male</td>\n",
       "    </tr>\n",
       "    <tr>\n",
       "      <td>3</td>\n",
       "      <td>2010</td>\n",
       "      <td>2013</td>\n",
       "      <td>White - Non-Hispanic</td>\n",
       "      <td>25-34</td>\n",
       "      <td>B Felony</td>\n",
       "      <td>Other</td>\n",
       "      <td>Other Criminal</td>\n",
       "      <td>Parole</td>\n",
       "      <td>6JD</td>\n",
       "      <td>No</td>\n",
       "      <td>Yes</td>\n",
       "      <td>Male</td>\n",
       "    </tr>\n",
       "    <tr>\n",
       "      <td>4</td>\n",
       "      <td>2010</td>\n",
       "      <td>2013</td>\n",
       "      <td>Black - Non-Hispanic</td>\n",
       "      <td>35-44</td>\n",
       "      <td>D Felony</td>\n",
       "      <td>Violent</td>\n",
       "      <td>Assault</td>\n",
       "      <td>Discharged – End of Sentence</td>\n",
       "      <td>NaN</td>\n",
       "      <td>Yes</td>\n",
       "      <td>No</td>\n",
       "      <td>Male</td>\n",
       "    </tr>\n",
       "  </tbody>\n",
       "</table>\n",
       "</div>"
      ],
      "text/plain": [
       "   yr_released  report_year        race_ethnicity age_released crime_class  \\\n",
       "0         2010         2013  Black - Non-Hispanic        25-34    C Felony   \n",
       "1         2010         2013  White - Non-Hispanic        25-34    D Felony   \n",
       "2         2010         2013  White - Non-Hispanic        35-44    B Felony   \n",
       "3         2010         2013  White - Non-Hispanic        25-34    B Felony   \n",
       "4         2010         2013  Black - Non-Hispanic        35-44    D Felony   \n",
       "\n",
       "  crime_type   crime_subtype                  release_type super_dist  \\\n",
       "0    Violent         Robbery                        Parole        7JD   \n",
       "1   Property           Theft  Discharged – End of Sentence        NaN   \n",
       "2       Drug     Trafficking                        Parole        5JD   \n",
       "3      Other  Other Criminal                        Parole        6JD   \n",
       "4    Violent         Assault  Discharged – End of Sentence        NaN   \n",
       "\n",
       "  recidivist target_pop   sex  \n",
       "0        Yes        Yes  Male  \n",
       "1        Yes         No  Male  \n",
       "2        Yes        Yes  Male  \n",
       "3         No        Yes  Male  \n",
       "4        Yes         No  Male  "
      ]
     },
     "execution_count": 2,
     "metadata": {},
     "output_type": "execute_result"
    }
   ],
   "source": [
    "df = fs.datasets.load_iowa_prisoners(vers='clean',read_csv_kwds={'index_col':0})\n",
    "df.head()"
   ]
  },
  {
   "cell_type": "code",
   "execution_count": 3,
   "metadata": {
    "ExecuteTime": {
     "end_time": "2020-04-11T18:56:22.000772Z",
     "start_time": "2020-04-11T18:56:21.996359Z"
    }
   },
   "outputs": [],
   "source": [
    "## Drop unwanted cols\n",
    "df= df.drop(columns=['yr_released','report_year'])"
   ]
  },
  {
   "cell_type": "markdown",
   "metadata": {},
   "source": [
    "### Preprocessing Data"
   ]
  },
  {
   "cell_type": "markdown",
   "metadata": {},
   "source": [
    "- Null values (fill or drop)\n",
    "- Data Types (finding categorical variables)\n",
    "- Inspect the value_counts/labels of categoricals\n",
    "- Scaling or lack-off\n",
    "- Encode Them\n",
    "    - Label Encoding\n",
    "    - One hot encoding\n"
   ]
  },
  {
   "cell_type": "code",
   "execution_count": 4,
   "metadata": {
    "ExecuteTime": {
     "end_time": "2020-04-11T18:56:22.513601Z",
     "start_time": "2020-04-11T18:56:22.002400Z"
    }
   },
   "outputs": [
    {
     "data": {
      "text/plain": [
       "race_ethnicity      30\n",
       "age_released         3\n",
       "crime_class          0\n",
       "crime_type           0\n",
       "crime_subtype        0\n",
       "release_type      1762\n",
       "super_dist        9581\n",
       "recidivist           0\n",
       "target_pop           0\n",
       "sex                  3\n",
       "dtype: int64"
      ]
     },
     "execution_count": 4,
     "metadata": {},
     "output_type": "execute_result"
    },
    {
     "data": {
      "image/png": "[encoded data removed]",
      "text/plain": [
       "<Figure size 1800x720 with 2 Axes>"
      ]
     },
     "metadata": {
      "needs_background": "light"
     },
     "output_type": "display_data"
    }
   ],
   "source": [
    "## Check null values\n",
    "import missingno\n",
    "missingno.matrix(df)\n",
    "df.isna().sum()"
   ]
  },
  {
   "cell_type": "code",
   "execution_count": 5,
   "metadata": {
    "ExecuteTime": {
     "end_time": "2020-04-11T18:56:22.518758Z",
     "start_time": "2020-04-11T18:56:22.514793Z"
    }
   },
   "outputs": [
    {
     "data": {
      "text/plain": [
       "race_ethnicity    object\n",
       "age_released      object\n",
       "crime_class       object\n",
       "crime_type        object\n",
       "crime_subtype     object\n",
       "release_type      object\n",
       "super_dist        object\n",
       "recidivist        object\n",
       "target_pop        object\n",
       "sex               object\n",
       "dtype: object"
      ]
     },
     "execution_count": 5,
     "metadata": {},
     "output_type": "execute_result"
    }
   ],
   "source": [
    "df.dtypes"
   ]
  },
  {
   "cell_type": "code",
   "execution_count": 6,
   "metadata": {
    "ExecuteTime": {
     "end_time": "2020-04-11T18:56:22.534157Z",
     "start_time": "2020-04-11T18:56:22.519945Z"
    }
   },
   "outputs": [
    {
     "name": "stdout",
     "output_type": "stream",
     "text": [
      "<class 'pandas.core.frame.DataFrame'>\n",
      "Int64Index: 26020 entries, 0 to 26019\n",
      "Data columns (total 10 columns):\n",
      "race_ethnicity    25990 non-null object\n",
      "age_released      26017 non-null object\n",
      "crime_class       26020 non-null object\n",
      "crime_type        26020 non-null object\n",
      "crime_subtype     26020 non-null object\n",
      "release_type      24258 non-null object\n",
      "super_dist        16439 non-null object\n",
      "recidivist        26020 non-null object\n",
      "target_pop        26020 non-null object\n",
      "sex               26017 non-null object\n",
      "dtypes: object(10)\n",
      "memory usage: 2.2+ MB\n"
     ]
    }
   ],
   "source": [
    "df.info()"
   ]
  },
  {
   "cell_type": "code",
   "execution_count": 7,
   "metadata": {
    "ExecuteTime": {
     "end_time": "2020-04-11T18:56:22.542539Z",
     "start_time": "2020-04-11T18:56:22.535425Z"
    }
   },
   "outputs": [
    {
     "data": {
      "text/plain": [
       "White - Non-Hispanic                               17584\n",
       "Black - Non-Hispanic                                6109\n",
       "White - Hispanic                                    1522\n",
       "American Indian or Alaska Native - Non-Hispanic      502\n",
       "Asian or Pacific Islander - Non-Hispanic             192\n",
       "Black - Hispanic                                      37\n",
       "NaN                                                   30\n",
       "American Indian or Alaska Native - Hispanic           20\n",
       "White -                                               12\n",
       "Asian or Pacific Islander - Hispanic                   5\n",
       "N/A -                                                  5\n",
       "Black -                                                2\n",
       "Name: race_ethnicity, dtype: int64"
      ]
     },
     "execution_count": 7,
     "metadata": {},
     "output_type": "execute_result"
    }
   ],
   "source": [
    "df['race_ethnicity'].value_counts(dropna=False)"
   ]
  },
  {
   "cell_type": "code",
   "execution_count": 8,
   "metadata": {
    "ExecuteTime": {
     "end_time": "2020-04-11T18:56:22.558085Z",
     "start_time": "2020-04-11T18:56:22.545112Z"
    }
   },
   "outputs": [
    {
     "data": {
      "text/plain": [
       "White                        17596\n",
       "Black                         6148\n",
       "Hispanic                      1522\n",
       "American Native                522\n",
       "Asian or Pacific Islander      197\n",
       "NaN                             35\n",
       "Name: race_ethnicity, dtype: int64"
      ]
     },
     "execution_count": 8,
     "metadata": {},
     "output_type": "execute_result"
    }
   ],
   "source": [
    "# Defining Dictionary Map for race_ethnicity categories\n",
    "race_ethnicity_map = {'White - Non-Hispanic':'White',\n",
    "                        'Black - Non-Hispanic': 'Black',\n",
    "                        'White - Hispanic' : 'Hispanic',\n",
    "                        'American Indian or Alaska Native - Non-Hispanic' : 'American Native',\n",
    "                        'Asian or Pacific Islander - Non-Hispanic' : 'Asian or Pacific Islander',\n",
    "                        'Black - Hispanic' : 'Black',\n",
    "                        'American Indian or Alaska Native - Hispanic':'American Native',\n",
    "                        'White -' : 'White',\n",
    "                        'Asian or Pacific Islander - Hispanic' : 'Asian or Pacific Islander',\n",
    "                        'N/A -' : np.nan,\n",
    "                        'Black -':'Black'}\n",
    "\n",
    "df['race_ethnicity'] = df['race_ethnicity'].map(race_ethnicity_map)\n",
    "df['race_ethnicity'].value_counts(dropna=False)"
   ]
  },
  {
   "cell_type": "code",
   "execution_count": 9,
   "metadata": {
    "ExecuteTime": {
     "end_time": "2020-04-11T18:56:22.567756Z",
     "start_time": "2020-04-11T18:56:22.560151Z"
    }
   },
   "outputs": [
    {
     "data": {
      "text/plain": [
       "D Felony                                    10487\n",
       "C Felony                                     6803\n",
       "Aggravated Misdemeanor                       4930\n",
       "B Felony                                     1765\n",
       "Felony - Enhancement to Original Penalty     1533\n",
       "Felony - Enhanced                             220\n",
       "Serious Misdemeanor                           155\n",
       "Special Sentence 2005                          98\n",
       "Felony - Mandatory Minimum                     11\n",
       "Other Felony                                    6\n",
       "A Felony                                        4\n",
       "Simple Misdemeanor                              3\n",
       "Other Felony (Old Code)                         2\n",
       "Sexual Predator Community Supervision           2\n",
       "Other Misdemeanor                               1\n",
       "Name: crime_class, dtype: int64"
      ]
     },
     "execution_count": 9,
     "metadata": {},
     "output_type": "execute_result"
    }
   ],
   "source": [
    "df['crime_class'].value_counts()"
   ]
  },
  {
   "cell_type": "code",
   "execution_count": 10,
   "metadata": {
    "ExecuteTime": {
     "end_time": "2020-04-11T18:56:22.582398Z",
     "start_time": "2020-04-11T18:56:22.569181Z"
    }
   },
   "outputs": [
    {
     "data": {
      "text/plain": [
       "D Felony                  10487\n",
       "C Felony                   6803\n",
       "Aggravated Misdemeanor     4930\n",
       "B Felony                   1765\n",
       "Felony - Enhanced          1753\n",
       "Serious Misdemeanor         155\n",
       "Sex Offender                100\n",
       "NaN                          20\n",
       "A Felony                      4\n",
       "Simple Misdemeanor            3\n",
       "Name: crime_class, dtype: int64"
      ]
     },
     "execution_count": 10,
     "metadata": {},
     "output_type": "execute_result"
    }
   ],
   "source": [
    "# Remapping\n",
    "crime_class_map = {'Other Felony (Old Code)': np.nan ,#or other felony\n",
    "                  'Other Misdemeanor':np.nan,\n",
    "                   'Felony - Mandatory Minimum':np.nan, # if minimum then lowest sentence ==  D Felony\n",
    "                   'Special Sentence 2005': 'Sex Offender',\n",
    "                   'Other Felony' : np.nan ,\n",
    "                   'Sexual Predator Community Supervision' : 'Sex Offender',\n",
    "                   'D Felony': 'D Felony',\n",
    "                   'C Felony' :'C Felony',\n",
    "                   'B Felony' : 'B Felony',\n",
    "                   'A Felony' : 'A Felony',\n",
    "                   'Aggravated Misdemeanor':'Aggravated Misdemeanor',\n",
    "                   'Felony - Enhancement to Original Penalty':'Felony - Enhanced',\n",
    "                   'Felony - Enhanced':'Felony - Enhanced' ,\n",
    "                   'Serious Misdemeanor':'Serious Misdemeanor',\n",
    "                   'Simple Misdemeanor':'Simple Misdemeanor'}\n",
    "\n",
    "df['crime_class'] = df['crime_class'].map(crime_class_map)\n",
    "df['crime_class'].value_counts(dropna=False)"
   ]
  },
  {
   "cell_type": "code",
   "execution_count": 11,
   "metadata": {
    "ExecuteTime": {
     "end_time": "2020-04-11T18:56:22.591627Z",
     "start_time": "2020-04-11T18:56:22.583982Z"
    }
   },
   "outputs": [
    {
     "data": {
      "text/plain": [
       "25-34           9554\n",
       "35-44           6223\n",
       "Under 25        4590\n",
       "45-54           4347\n",
       "55 and Older    1303\n",
       "NaN                3\n",
       "Name: age_released, dtype: int64"
      ]
     },
     "execution_count": 11,
     "metadata": {},
     "output_type": "execute_result"
    }
   ],
   "source": [
    "df['age_released'].value_counts(dropna=False)"
   ]
  },
  {
   "cell_type": "code",
   "execution_count": 12,
   "metadata": {
    "ExecuteTime": {
     "end_time": "2020-04-11T18:56:22.597087Z",
     "start_time": "2020-04-11T18:56:22.593046Z"
    }
   },
   "outputs": [
    {
     "data": {
      "text/plain": [
       "{'Under 25': 0, '25-34': 1, '35-44': 2, '45-54': 3, '55 and Older': 4}"
      ]
     },
     "execution_count": 12,
     "metadata": {},
     "output_type": "execute_result"
    }
   ],
   "source": [
    "# Encoding age groups as ordinal\n",
    "age_ranges = ('Under 25','25-34', '35-44','45-54','55 and Older')\n",
    "age_codes = (0,1,2,3,4) \n",
    "# Zipping into Dictionary to Map onto Column\n",
    "age_map = dict(zip(age_ranges,age_codes))\n",
    "age_map"
   ]
  },
  {
   "cell_type": "code",
   "execution_count": 13,
   "metadata": {
    "ExecuteTime": {
     "end_time": "2020-04-11T18:56:22.607793Z",
     "start_time": "2020-04-11T18:56:22.598417Z"
    }
   },
   "outputs": [
    {
     "data": {
      "text/plain": [
       "1.0    9554\n",
       "2.0    6223\n",
       "0.0    4590\n",
       "3.0    4347\n",
       "4.0    1303\n",
       "Name: age_enc, dtype: int64"
      ]
     },
     "execution_count": 13,
     "metadata": {},
     "output_type": "execute_result"
    }
   ],
   "source": [
    "df['age_enc'] = df['age_released'].map(age_map)\n",
    "df['age_enc'].value_counts()"
   ]
  },
  {
   "cell_type": "code",
   "execution_count": 14,
   "metadata": {
    "ExecuteTime": {
     "end_time": "2020-04-11T18:56:22.613951Z",
     "start_time": "2020-04-11T18:56:22.609197Z"
    }
   },
   "outputs": [
    {
     "data": {
      "text/plain": [
       "{'Under 25': 20, '25-34': 30, '35-44': 40, '45-54': 50, '55 and Older': 70}"
      ]
     },
     "execution_count": 14,
     "metadata": {},
     "output_type": "execute_result"
    }
   ],
   "source": [
    "# Mapping age_map onto 'age_released'\n",
    "# Encoding age groups as ordinal\n",
    "age_ranges = ('Under 25','25-34', '35-44','45-54','55 and Older')\n",
    "age_numbers = (20,30,40,50,70) \n",
    "age_num_map = dict(zip(age_ranges,age_numbers))\n",
    "age_num_map"
   ]
  },
  {
   "cell_type": "code",
   "execution_count": 15,
   "metadata": {
    "ExecuteTime": {
     "end_time": "2020-04-11T18:56:22.624631Z",
     "start_time": "2020-04-11T18:56:22.615289Z"
    }
   },
   "outputs": [
    {
     "data": {
      "text/plain": [
       "30.0    9554\n",
       "40.0    6223\n",
       "20.0    4590\n",
       "50.0    4347\n",
       "70.0    1303\n",
       "Name: age_number, dtype: int64"
      ]
     },
     "execution_count": 15,
     "metadata": {},
     "output_type": "execute_result"
    }
   ],
   "source": [
    "df['age_number'] = df['age_released'].map(age_num_map)\n",
    "df['age_number'].value_counts()"
   ]
  },
  {
   "cell_type": "code",
   "execution_count": 16,
   "metadata": {
    "ExecuteTime": {
     "end_time": "2020-04-11T18:56:22.645535Z",
     "start_time": "2020-04-11T18:56:22.626172Z"
    }
   },
   "outputs": [
    {
     "data": {
      "text/plain": [
       "['race_ethnicity',\n",
       " 'age_released',\n",
       " 'crime_class',\n",
       " 'crime_type',\n",
       " 'crime_subtype',\n",
       " 'recidivist',\n",
       " 'target_pop',\n",
       " 'sex',\n",
       " 'age_enc',\n",
       " 'age_number']"
      ]
     },
     "execution_count": 16,
     "metadata": {},
     "output_type": "execute_result"
    }
   ],
   "source": [
    "## Drop Nulls \n",
    "df.isna().sum().divide(len(df))*100\n",
    "drop_cols  = [col for col in df.drop(columns=['super_dist','release_type']).columns]\n",
    "drop_cols"
   ]
  },
  {
   "cell_type": "code",
   "execution_count": 17,
   "metadata": {
    "ExecuteTime": {
     "end_time": "2020-04-11T18:56:22.664489Z",
     "start_time": "2020-04-11T18:56:22.646861Z"
    }
   },
   "outputs": [],
   "source": [
    "df.dropna(subset=drop_cols, inplace=True)"
   ]
  },
  {
   "cell_type": "code",
   "execution_count": 18,
   "metadata": {
    "ExecuteTime": {
     "end_time": "2020-04-11T18:56:22.696358Z",
     "start_time": "2020-04-11T18:56:22.666079Z"
    }
   },
   "outputs": [
    {
     "data": {
      "text/plain": [
       "race_ethnicity    0\n",
       "age_released      0\n",
       "crime_class       0\n",
       "crime_type        0\n",
       "crime_subtype     0\n",
       "release_type      0\n",
       "super_dist        0\n",
       "recidivist        0\n",
       "target_pop        0\n",
       "sex               0\n",
       "age_enc           0\n",
       "age_number        0\n",
       "dtype: int64"
      ]
     },
     "execution_count": 18,
     "metadata": {},
     "output_type": "execute_result"
    }
   ],
   "source": [
    "df.isna().sum()\n",
    "df[['super_dist','release_type']] = df[['super_dist','release_type']].fillna('Missing')\n",
    "df.isna().sum()"
   ]
  },
  {
   "cell_type": "code",
   "execution_count": 19,
   "metadata": {
    "ExecuteTime": {
     "end_time": "2020-04-11T18:56:22.703879Z",
     "start_time": "2020-04-11T18:56:22.698003Z"
    }
   },
   "outputs": [],
   "source": [
    "df.dtypes\n",
    "drop_cols = ['age_released']\n",
    "df = df.drop(columns=drop_cols)"
   ]
  },
  {
   "cell_type": "code",
   "execution_count": 20,
   "metadata": {
    "ExecuteTime": {
     "end_time": "2020-04-11T18:56:22.709811Z",
     "start_time": "2020-04-11T18:56:22.705208Z"
    },
    "scrolled": true
   },
   "outputs": [
    {
     "data": {
      "text/plain": [
       "race_ethnicity     object\n",
       "crime_class        object\n",
       "crime_type         object\n",
       "crime_subtype      object\n",
       "release_type       object\n",
       "super_dist         object\n",
       "recidivist         object\n",
       "target_pop         object\n",
       "sex                object\n",
       "age_enc           float64\n",
       "age_number        float64\n",
       "dtype: object"
      ]
     },
     "execution_count": 20,
     "metadata": {},
     "output_type": "execute_result"
    }
   ],
   "source": [
    "df.dtypes"
   ]
  },
  {
   "cell_type": "code",
   "execution_count": 21,
   "metadata": {
    "ExecuteTime": {
     "end_time": "2020-04-11T18:56:22.756881Z",
     "start_time": "2020-04-11T18:56:22.711257Z"
    }
   },
   "outputs": [
    {
     "data": {
      "text/html": [
       "<div>\n",
       "<style scoped>\n",
       "    .dataframe tbody tr th:only-of-type {\n",
       "        vertical-align: middle;\n",
       "    }\n",
       "\n",
       "    .dataframe tbody tr th {\n",
       "        vertical-align: top;\n",
       "    }\n",
       "\n",
       "    .dataframe thead th {\n",
       "        text-align: right;\n",
       "    }\n",
       "</style>\n",
       "<table border=\"1\" class=\"dataframe\">\n",
       "  <thead>\n",
       "    <tr style=\"text-align: right;\">\n",
       "      <th></th>\n",
       "      <th>age_enc</th>\n",
       "      <th>age_number</th>\n",
       "      <th>race_ethnicity_American Native</th>\n",
       "      <th>race_ethnicity_Asian or Pacific Islander</th>\n",
       "      <th>race_ethnicity_Black</th>\n",
       "      <th>race_ethnicity_Hispanic</th>\n",
       "      <th>race_ethnicity_White</th>\n",
       "      <th>crime_class_A Felony</th>\n",
       "      <th>crime_class_Aggravated Misdemeanor</th>\n",
       "      <th>crime_class_B Felony</th>\n",
       "      <th>...</th>\n",
       "      <th>super_dist_8JD</th>\n",
       "      <th>super_dist_ISC</th>\n",
       "      <th>super_dist_Interstate Compact</th>\n",
       "      <th>super_dist_Missing</th>\n",
       "      <th>recidivist_No</th>\n",
       "      <th>recidivist_Yes</th>\n",
       "      <th>target_pop_No</th>\n",
       "      <th>target_pop_Yes</th>\n",
       "      <th>sex_Female</th>\n",
       "      <th>sex_Male</th>\n",
       "    </tr>\n",
       "  </thead>\n",
       "  <tbody>\n",
       "    <tr>\n",
       "      <td>0</td>\n",
       "      <td>1.0</td>\n",
       "      <td>30.0</td>\n",
       "      <td>0</td>\n",
       "      <td>0</td>\n",
       "      <td>1</td>\n",
       "      <td>0</td>\n",
       "      <td>0</td>\n",
       "      <td>0</td>\n",
       "      <td>0</td>\n",
       "      <td>0</td>\n",
       "      <td>...</td>\n",
       "      <td>0</td>\n",
       "      <td>0</td>\n",
       "      <td>0</td>\n",
       "      <td>0</td>\n",
       "      <td>0</td>\n",
       "      <td>1</td>\n",
       "      <td>0</td>\n",
       "      <td>1</td>\n",
       "      <td>0</td>\n",
       "      <td>1</td>\n",
       "    </tr>\n",
       "    <tr>\n",
       "      <td>1</td>\n",
       "      <td>1.0</td>\n",
       "      <td>30.0</td>\n",
       "      <td>0</td>\n",
       "      <td>0</td>\n",
       "      <td>0</td>\n",
       "      <td>0</td>\n",
       "      <td>1</td>\n",
       "      <td>0</td>\n",
       "      <td>0</td>\n",
       "      <td>0</td>\n",
       "      <td>...</td>\n",
       "      <td>0</td>\n",
       "      <td>0</td>\n",
       "      <td>0</td>\n",
       "      <td>1</td>\n",
       "      <td>0</td>\n",
       "      <td>1</td>\n",
       "      <td>1</td>\n",
       "      <td>0</td>\n",
       "      <td>0</td>\n",
       "      <td>1</td>\n",
       "    </tr>\n",
       "    <tr>\n",
       "      <td>2</td>\n",
       "      <td>2.0</td>\n",
       "      <td>40.0</td>\n",
       "      <td>0</td>\n",
       "      <td>0</td>\n",
       "      <td>0</td>\n",
       "      <td>0</td>\n",
       "      <td>1</td>\n",
       "      <td>0</td>\n",
       "      <td>0</td>\n",
       "      <td>1</td>\n",
       "      <td>...</td>\n",
       "      <td>0</td>\n",
       "      <td>0</td>\n",
       "      <td>0</td>\n",
       "      <td>0</td>\n",
       "      <td>0</td>\n",
       "      <td>1</td>\n",
       "      <td>0</td>\n",
       "      <td>1</td>\n",
       "      <td>0</td>\n",
       "      <td>1</td>\n",
       "    </tr>\n",
       "    <tr>\n",
       "      <td>3</td>\n",
       "      <td>1.0</td>\n",
       "      <td>30.0</td>\n",
       "      <td>0</td>\n",
       "      <td>0</td>\n",
       "      <td>0</td>\n",
       "      <td>0</td>\n",
       "      <td>1</td>\n",
       "      <td>0</td>\n",
       "      <td>0</td>\n",
       "      <td>1</td>\n",
       "      <td>...</td>\n",
       "      <td>0</td>\n",
       "      <td>0</td>\n",
       "      <td>0</td>\n",
       "      <td>0</td>\n",
       "      <td>1</td>\n",
       "      <td>0</td>\n",
       "      <td>0</td>\n",
       "      <td>1</td>\n",
       "      <td>0</td>\n",
       "      <td>1</td>\n",
       "    </tr>\n",
       "    <tr>\n",
       "      <td>4</td>\n",
       "      <td>2.0</td>\n",
       "      <td>40.0</td>\n",
       "      <td>0</td>\n",
       "      <td>0</td>\n",
       "      <td>1</td>\n",
       "      <td>0</td>\n",
       "      <td>0</td>\n",
       "      <td>0</td>\n",
       "      <td>0</td>\n",
       "      <td>0</td>\n",
       "      <td>...</td>\n",
       "      <td>0</td>\n",
       "      <td>0</td>\n",
       "      <td>0</td>\n",
       "      <td>1</td>\n",
       "      <td>0</td>\n",
       "      <td>1</td>\n",
       "      <td>1</td>\n",
       "      <td>0</td>\n",
       "      <td>0</td>\n",
       "      <td>1</td>\n",
       "    </tr>\n",
       "  </tbody>\n",
       "</table>\n",
       "<p>5 rows × 76 columns</p>\n",
       "</div>"
      ],
      "text/plain": [
       "   age_enc  age_number  race_ethnicity_American Native  \\\n",
       "0      1.0        30.0                               0   \n",
       "1      1.0        30.0                               0   \n",
       "2      2.0        40.0                               0   \n",
       "3      1.0        30.0                               0   \n",
       "4      2.0        40.0                               0   \n",
       "\n",
       "   race_ethnicity_Asian or Pacific Islander  race_ethnicity_Black  \\\n",
       "0                                         0                     1   \n",
       "1                                         0                     0   \n",
       "2                                         0                     0   \n",
       "3                                         0                     0   \n",
       "4                                         0                     1   \n",
       "\n",
       "   race_ethnicity_Hispanic  race_ethnicity_White  crime_class_A Felony  \\\n",
       "0                        0                     0                     0   \n",
       "1                        0                     1                     0   \n",
       "2                        0                     1                     0   \n",
       "3                        0                     1                     0   \n",
       "4                        0                     0                     0   \n",
       "\n",
       "   crime_class_Aggravated Misdemeanor  crime_class_B Felony  ...  \\\n",
       "0                                   0                     0  ...   \n",
       "1                                   0                     0  ...   \n",
       "2                                   0                     1  ...   \n",
       "3                                   0                     1  ...   \n",
       "4                                   0                     0  ...   \n",
       "\n",
       "   super_dist_8JD  super_dist_ISC  super_dist_Interstate Compact  \\\n",
       "0               0               0                              0   \n",
       "1               0               0                              0   \n",
       "2               0               0                              0   \n",
       "3               0               0                              0   \n",
       "4               0               0                              0   \n",
       "\n",
       "   super_dist_Missing  recidivist_No  recidivist_Yes  target_pop_No  \\\n",
       "0                   0              0               1              0   \n",
       "1                   1              0               1              1   \n",
       "2                   0              0               1              0   \n",
       "3                   0              1               0              0   \n",
       "4                   1              0               1              1   \n",
       "\n",
       "   target_pop_Yes  sex_Female  sex_Male  \n",
       "0               1           0         1  \n",
       "1               0           0         1  \n",
       "2               1           0         1  \n",
       "3               1           0         1  \n",
       "4               0           0         1  \n",
       "\n",
       "[5 rows x 76 columns]"
      ]
     },
     "execution_count": 21,
     "metadata": {},
     "output_type": "execute_result"
    }
   ],
   "source": [
    "# one_hot_cols = ['race_ethnicity','crime_class\n",
    "df = pd.get_dummies(df)#,dummy_na=True)\n",
    "df.head()"
   ]
  },
  {
   "cell_type": "code",
   "execution_count": 22,
   "metadata": {
    "ExecuteTime": {
     "end_time": "2020-04-11T18:56:22.764408Z",
     "start_time": "2020-04-11T18:56:22.758135Z"
    }
   },
   "outputs": [],
   "source": [
    "df.drop('recidivist_No',axis=1,inplace=True)"
   ]
  },
  {
   "cell_type": "code",
   "execution_count": 23,
   "metadata": {
    "ExecuteTime": {
     "end_time": "2020-04-11T18:56:22.785739Z",
     "start_time": "2020-04-11T18:56:22.769245Z"
    }
   },
   "outputs": [
    {
     "data": {
      "text/html": [
       "<div>\n",
       "<style scoped>\n",
       "    .dataframe tbody tr th:only-of-type {\n",
       "        vertical-align: middle;\n",
       "    }\n",
       "\n",
       "    .dataframe tbody tr th {\n",
       "        vertical-align: top;\n",
       "    }\n",
       "\n",
       "    .dataframe thead th {\n",
       "        text-align: right;\n",
       "    }\n",
       "</style>\n",
       "<table border=\"1\" class=\"dataframe\">\n",
       "  <thead>\n",
       "    <tr style=\"text-align: right;\">\n",
       "      <th></th>\n",
       "      <th>age_enc</th>\n",
       "      <th>age_number</th>\n",
       "      <th>race_ethnicity_American Native</th>\n",
       "      <th>race_ethnicity_Asian or Pacific Islander</th>\n",
       "      <th>race_ethnicity_Black</th>\n",
       "      <th>race_ethnicity_Hispanic</th>\n",
       "      <th>race_ethnicity_White</th>\n",
       "      <th>crime_class_A Felony</th>\n",
       "      <th>crime_class_Aggravated Misdemeanor</th>\n",
       "      <th>crime_class_B Felony</th>\n",
       "      <th>...</th>\n",
       "      <th>super_dist_7JD</th>\n",
       "      <th>super_dist_8JD</th>\n",
       "      <th>super_dist_ISC</th>\n",
       "      <th>super_dist_Interstate Compact</th>\n",
       "      <th>super_dist_Missing</th>\n",
       "      <th>recidivist_Yes</th>\n",
       "      <th>target_pop_No</th>\n",
       "      <th>target_pop_Yes</th>\n",
       "      <th>sex_Female</th>\n",
       "      <th>sex_Male</th>\n",
       "    </tr>\n",
       "  </thead>\n",
       "  <tbody>\n",
       "    <tr>\n",
       "      <td>0</td>\n",
       "      <td>1.0</td>\n",
       "      <td>30.0</td>\n",
       "      <td>0</td>\n",
       "      <td>0</td>\n",
       "      <td>1</td>\n",
       "      <td>0</td>\n",
       "      <td>0</td>\n",
       "      <td>0</td>\n",
       "      <td>0</td>\n",
       "      <td>0</td>\n",
       "      <td>...</td>\n",
       "      <td>1</td>\n",
       "      <td>0</td>\n",
       "      <td>0</td>\n",
       "      <td>0</td>\n",
       "      <td>0</td>\n",
       "      <td>1</td>\n",
       "      <td>0</td>\n",
       "      <td>1</td>\n",
       "      <td>0</td>\n",
       "      <td>1</td>\n",
       "    </tr>\n",
       "    <tr>\n",
       "      <td>1</td>\n",
       "      <td>1.0</td>\n",
       "      <td>30.0</td>\n",
       "      <td>0</td>\n",
       "      <td>0</td>\n",
       "      <td>0</td>\n",
       "      <td>0</td>\n",
       "      <td>1</td>\n",
       "      <td>0</td>\n",
       "      <td>0</td>\n",
       "      <td>0</td>\n",
       "      <td>...</td>\n",
       "      <td>0</td>\n",
       "      <td>0</td>\n",
       "      <td>0</td>\n",
       "      <td>0</td>\n",
       "      <td>1</td>\n",
       "      <td>1</td>\n",
       "      <td>1</td>\n",
       "      <td>0</td>\n",
       "      <td>0</td>\n",
       "      <td>1</td>\n",
       "    </tr>\n",
       "    <tr>\n",
       "      <td>2</td>\n",
       "      <td>2.0</td>\n",
       "      <td>40.0</td>\n",
       "      <td>0</td>\n",
       "      <td>0</td>\n",
       "      <td>0</td>\n",
       "      <td>0</td>\n",
       "      <td>1</td>\n",
       "      <td>0</td>\n",
       "      <td>0</td>\n",
       "      <td>1</td>\n",
       "      <td>...</td>\n",
       "      <td>0</td>\n",
       "      <td>0</td>\n",
       "      <td>0</td>\n",
       "      <td>0</td>\n",
       "      <td>0</td>\n",
       "      <td>1</td>\n",
       "      <td>0</td>\n",
       "      <td>1</td>\n",
       "      <td>0</td>\n",
       "      <td>1</td>\n",
       "    </tr>\n",
       "    <tr>\n",
       "      <td>3</td>\n",
       "      <td>1.0</td>\n",
       "      <td>30.0</td>\n",
       "      <td>0</td>\n",
       "      <td>0</td>\n",
       "      <td>0</td>\n",
       "      <td>0</td>\n",
       "      <td>1</td>\n",
       "      <td>0</td>\n",
       "      <td>0</td>\n",
       "      <td>1</td>\n",
       "      <td>...</td>\n",
       "      <td>0</td>\n",
       "      <td>0</td>\n",
       "      <td>0</td>\n",
       "      <td>0</td>\n",
       "      <td>0</td>\n",
       "      <td>0</td>\n",
       "      <td>0</td>\n",
       "      <td>1</td>\n",
       "      <td>0</td>\n",
       "      <td>1</td>\n",
       "    </tr>\n",
       "    <tr>\n",
       "      <td>4</td>\n",
       "      <td>2.0</td>\n",
       "      <td>40.0</td>\n",
       "      <td>0</td>\n",
       "      <td>0</td>\n",
       "      <td>1</td>\n",
       "      <td>0</td>\n",
       "      <td>0</td>\n",
       "      <td>0</td>\n",
       "      <td>0</td>\n",
       "      <td>0</td>\n",
       "      <td>...</td>\n",
       "      <td>0</td>\n",
       "      <td>0</td>\n",
       "      <td>0</td>\n",
       "      <td>0</td>\n",
       "      <td>1</td>\n",
       "      <td>1</td>\n",
       "      <td>1</td>\n",
       "      <td>0</td>\n",
       "      <td>0</td>\n",
       "      <td>1</td>\n",
       "    </tr>\n",
       "  </tbody>\n",
       "</table>\n",
       "<p>5 rows × 75 columns</p>\n",
       "</div>"
      ],
      "text/plain": [
       "   age_enc  age_number  race_ethnicity_American Native  \\\n",
       "0      1.0        30.0                               0   \n",
       "1      1.0        30.0                               0   \n",
       "2      2.0        40.0                               0   \n",
       "3      1.0        30.0                               0   \n",
       "4      2.0        40.0                               0   \n",
       "\n",
       "   race_ethnicity_Asian or Pacific Islander  race_ethnicity_Black  \\\n",
       "0                                         0                     1   \n",
       "1                                         0                     0   \n",
       "2                                         0                     0   \n",
       "3                                         0                     0   \n",
       "4                                         0                     1   \n",
       "\n",
       "   race_ethnicity_Hispanic  race_ethnicity_White  crime_class_A Felony  \\\n",
       "0                        0                     0                     0   \n",
       "1                        0                     1                     0   \n",
       "2                        0                     1                     0   \n",
       "3                        0                     1                     0   \n",
       "4                        0                     0                     0   \n",
       "\n",
       "   crime_class_Aggravated Misdemeanor  crime_class_B Felony  ...  \\\n",
       "0                                   0                     0  ...   \n",
       "1                                   0                     0  ...   \n",
       "2                                   0                     1  ...   \n",
       "3                                   0                     1  ...   \n",
       "4                                   0                     0  ...   \n",
       "\n",
       "   super_dist_7JD  super_dist_8JD  super_dist_ISC  \\\n",
       "0               1               0               0   \n",
       "1               0               0               0   \n",
       "2               0               0               0   \n",
       "3               0               0               0   \n",
       "4               0               0               0   \n",
       "\n",
       "   super_dist_Interstate Compact  super_dist_Missing  recidivist_Yes  \\\n",
       "0                              0                   0               1   \n",
       "1                              0                   1               1   \n",
       "2                              0                   0               1   \n",
       "3                              0                   0               0   \n",
       "4                              0                   1               1   \n",
       "\n",
       "   target_pop_No  target_pop_Yes  sex_Female  sex_Male  \n",
       "0              0               1           0         1  \n",
       "1              1               0           0         1  \n",
       "2              0               1           0         1  \n",
       "3              0               1           0         1  \n",
       "4              1               0           0         1  \n",
       "\n",
       "[5 rows x 75 columns]"
      ]
     },
     "execution_count": 23,
     "metadata": {},
     "output_type": "execute_result"
    }
   ],
   "source": [
    "df.head()"
   ]
  },
  {
   "cell_type": "code",
   "execution_count": 24,
   "metadata": {
    "ExecuteTime": {
     "end_time": "2020-04-11T18:56:22.808080Z",
     "start_time": "2020-04-11T18:56:22.787772Z"
    }
   },
   "outputs": [
    {
     "data": {
      "text/html": [
       "<div>\n",
       "<style scoped>\n",
       "    .dataframe tbody tr th:only-of-type {\n",
       "        vertical-align: middle;\n",
       "    }\n",
       "\n",
       "    .dataframe tbody tr th {\n",
       "        vertical-align: top;\n",
       "    }\n",
       "\n",
       "    .dataframe thead th {\n",
       "        text-align: right;\n",
       "    }\n",
       "</style>\n",
       "<table border=\"1\" class=\"dataframe\">\n",
       "  <thead>\n",
       "    <tr style=\"text-align: right;\">\n",
       "      <th></th>\n",
       "      <th>age_enc</th>\n",
       "      <th>age_number</th>\n",
       "      <th>race_ethnicity_American Native</th>\n",
       "      <th>race_ethnicity_Asian or Pacific Islander</th>\n",
       "      <th>race_ethnicity_Black</th>\n",
       "      <th>race_ethnicity_Hispanic</th>\n",
       "      <th>race_ethnicity_White</th>\n",
       "      <th>crime_class_A Felony</th>\n",
       "      <th>crime_class_Aggravated Misdemeanor</th>\n",
       "      <th>crime_class_B Felony</th>\n",
       "      <th>...</th>\n",
       "      <th>super_dist_6JD</th>\n",
       "      <th>super_dist_7JD</th>\n",
       "      <th>super_dist_8JD</th>\n",
       "      <th>super_dist_ISC</th>\n",
       "      <th>super_dist_Interstate Compact</th>\n",
       "      <th>super_dist_Missing</th>\n",
       "      <th>target_pop_No</th>\n",
       "      <th>target_pop_Yes</th>\n",
       "      <th>sex_Female</th>\n",
       "      <th>sex_Male</th>\n",
       "    </tr>\n",
       "  </thead>\n",
       "  <tbody>\n",
       "    <tr>\n",
       "      <td>0</td>\n",
       "      <td>1.0</td>\n",
       "      <td>30.0</td>\n",
       "      <td>0</td>\n",
       "      <td>0</td>\n",
       "      <td>1</td>\n",
       "      <td>0</td>\n",
       "      <td>0</td>\n",
       "      <td>0</td>\n",
       "      <td>0</td>\n",
       "      <td>0</td>\n",
       "      <td>...</td>\n",
       "      <td>0</td>\n",
       "      <td>1</td>\n",
       "      <td>0</td>\n",
       "      <td>0</td>\n",
       "      <td>0</td>\n",
       "      <td>0</td>\n",
       "      <td>0</td>\n",
       "      <td>1</td>\n",
       "      <td>0</td>\n",
       "      <td>1</td>\n",
       "    </tr>\n",
       "    <tr>\n",
       "      <td>1</td>\n",
       "      <td>1.0</td>\n",
       "      <td>30.0</td>\n",
       "      <td>0</td>\n",
       "      <td>0</td>\n",
       "      <td>0</td>\n",
       "      <td>0</td>\n",
       "      <td>1</td>\n",
       "      <td>0</td>\n",
       "      <td>0</td>\n",
       "      <td>0</td>\n",
       "      <td>...</td>\n",
       "      <td>0</td>\n",
       "      <td>0</td>\n",
       "      <td>0</td>\n",
       "      <td>0</td>\n",
       "      <td>0</td>\n",
       "      <td>1</td>\n",
       "      <td>1</td>\n",
       "      <td>0</td>\n",
       "      <td>0</td>\n",
       "      <td>1</td>\n",
       "    </tr>\n",
       "    <tr>\n",
       "      <td>2</td>\n",
       "      <td>2.0</td>\n",
       "      <td>40.0</td>\n",
       "      <td>0</td>\n",
       "      <td>0</td>\n",
       "      <td>0</td>\n",
       "      <td>0</td>\n",
       "      <td>1</td>\n",
       "      <td>0</td>\n",
       "      <td>0</td>\n",
       "      <td>1</td>\n",
       "      <td>...</td>\n",
       "      <td>0</td>\n",
       "      <td>0</td>\n",
       "      <td>0</td>\n",
       "      <td>0</td>\n",
       "      <td>0</td>\n",
       "      <td>0</td>\n",
       "      <td>0</td>\n",
       "      <td>1</td>\n",
       "      <td>0</td>\n",
       "      <td>1</td>\n",
       "    </tr>\n",
       "    <tr>\n",
       "      <td>3</td>\n",
       "      <td>1.0</td>\n",
       "      <td>30.0</td>\n",
       "      <td>0</td>\n",
       "      <td>0</td>\n",
       "      <td>0</td>\n",
       "      <td>0</td>\n",
       "      <td>1</td>\n",
       "      <td>0</td>\n",
       "      <td>0</td>\n",
       "      <td>1</td>\n",
       "      <td>...</td>\n",
       "      <td>1</td>\n",
       "      <td>0</td>\n",
       "      <td>0</td>\n",
       "      <td>0</td>\n",
       "      <td>0</td>\n",
       "      <td>0</td>\n",
       "      <td>0</td>\n",
       "      <td>1</td>\n",
       "      <td>0</td>\n",
       "      <td>1</td>\n",
       "    </tr>\n",
       "    <tr>\n",
       "      <td>4</td>\n",
       "      <td>2.0</td>\n",
       "      <td>40.0</td>\n",
       "      <td>0</td>\n",
       "      <td>0</td>\n",
       "      <td>1</td>\n",
       "      <td>0</td>\n",
       "      <td>0</td>\n",
       "      <td>0</td>\n",
       "      <td>0</td>\n",
       "      <td>0</td>\n",
       "      <td>...</td>\n",
       "      <td>0</td>\n",
       "      <td>0</td>\n",
       "      <td>0</td>\n",
       "      <td>0</td>\n",
       "      <td>0</td>\n",
       "      <td>1</td>\n",
       "      <td>1</td>\n",
       "      <td>0</td>\n",
       "      <td>0</td>\n",
       "      <td>1</td>\n",
       "    </tr>\n",
       "    <tr>\n",
       "      <td>...</td>\n",
       "      <td>...</td>\n",
       "      <td>...</td>\n",
       "      <td>...</td>\n",
       "      <td>...</td>\n",
       "      <td>...</td>\n",
       "      <td>...</td>\n",
       "      <td>...</td>\n",
       "      <td>...</td>\n",
       "      <td>...</td>\n",
       "      <td>...</td>\n",
       "      <td>...</td>\n",
       "      <td>...</td>\n",
       "      <td>...</td>\n",
       "      <td>...</td>\n",
       "      <td>...</td>\n",
       "      <td>...</td>\n",
       "      <td>...</td>\n",
       "      <td>...</td>\n",
       "      <td>...</td>\n",
       "      <td>...</td>\n",
       "      <td>...</td>\n",
       "    </tr>\n",
       "    <tr>\n",
       "      <td>26015</td>\n",
       "      <td>0.0</td>\n",
       "      <td>20.0</td>\n",
       "      <td>0</td>\n",
       "      <td>0</td>\n",
       "      <td>0</td>\n",
       "      <td>1</td>\n",
       "      <td>0</td>\n",
       "      <td>0</td>\n",
       "      <td>0</td>\n",
       "      <td>0</td>\n",
       "      <td>...</td>\n",
       "      <td>0</td>\n",
       "      <td>0</td>\n",
       "      <td>0</td>\n",
       "      <td>0</td>\n",
       "      <td>0</td>\n",
       "      <td>1</td>\n",
       "      <td>0</td>\n",
       "      <td>1</td>\n",
       "      <td>0</td>\n",
       "      <td>1</td>\n",
       "    </tr>\n",
       "    <tr>\n",
       "      <td>26016</td>\n",
       "      <td>2.0</td>\n",
       "      <td>40.0</td>\n",
       "      <td>0</td>\n",
       "      <td>0</td>\n",
       "      <td>0</td>\n",
       "      <td>0</td>\n",
       "      <td>1</td>\n",
       "      <td>0</td>\n",
       "      <td>0</td>\n",
       "      <td>0</td>\n",
       "      <td>...</td>\n",
       "      <td>1</td>\n",
       "      <td>0</td>\n",
       "      <td>0</td>\n",
       "      <td>0</td>\n",
       "      <td>0</td>\n",
       "      <td>0</td>\n",
       "      <td>1</td>\n",
       "      <td>0</td>\n",
       "      <td>0</td>\n",
       "      <td>1</td>\n",
       "    </tr>\n",
       "    <tr>\n",
       "      <td>26017</td>\n",
       "      <td>1.0</td>\n",
       "      <td>30.0</td>\n",
       "      <td>0</td>\n",
       "      <td>0</td>\n",
       "      <td>0</td>\n",
       "      <td>0</td>\n",
       "      <td>1</td>\n",
       "      <td>0</td>\n",
       "      <td>1</td>\n",
       "      <td>0</td>\n",
       "      <td>...</td>\n",
       "      <td>0</td>\n",
       "      <td>0</td>\n",
       "      <td>0</td>\n",
       "      <td>0</td>\n",
       "      <td>0</td>\n",
       "      <td>0</td>\n",
       "      <td>1</td>\n",
       "      <td>0</td>\n",
       "      <td>1</td>\n",
       "      <td>0</td>\n",
       "    </tr>\n",
       "    <tr>\n",
       "      <td>26018</td>\n",
       "      <td>1.0</td>\n",
       "      <td>30.0</td>\n",
       "      <td>0</td>\n",
       "      <td>0</td>\n",
       "      <td>0</td>\n",
       "      <td>0</td>\n",
       "      <td>1</td>\n",
       "      <td>0</td>\n",
       "      <td>0</td>\n",
       "      <td>0</td>\n",
       "      <td>...</td>\n",
       "      <td>0</td>\n",
       "      <td>0</td>\n",
       "      <td>0</td>\n",
       "      <td>0</td>\n",
       "      <td>0</td>\n",
       "      <td>0</td>\n",
       "      <td>0</td>\n",
       "      <td>1</td>\n",
       "      <td>0</td>\n",
       "      <td>1</td>\n",
       "    </tr>\n",
       "    <tr>\n",
       "      <td>26019</td>\n",
       "      <td>2.0</td>\n",
       "      <td>40.0</td>\n",
       "      <td>0</td>\n",
       "      <td>0</td>\n",
       "      <td>0</td>\n",
       "      <td>0</td>\n",
       "      <td>1</td>\n",
       "      <td>0</td>\n",
       "      <td>0</td>\n",
       "      <td>0</td>\n",
       "      <td>...</td>\n",
       "      <td>0</td>\n",
       "      <td>0</td>\n",
       "      <td>0</td>\n",
       "      <td>0</td>\n",
       "      <td>0</td>\n",
       "      <td>1</td>\n",
       "      <td>0</td>\n",
       "      <td>1</td>\n",
       "      <td>0</td>\n",
       "      <td>1</td>\n",
       "    </tr>\n",
       "  </tbody>\n",
       "</table>\n",
       "<p>25965 rows × 74 columns</p>\n",
       "</div>"
      ],
      "text/plain": [
       "       age_enc  age_number  race_ethnicity_American Native  \\\n",
       "0          1.0        30.0                               0   \n",
       "1          1.0        30.0                               0   \n",
       "2          2.0        40.0                               0   \n",
       "3          1.0        30.0                               0   \n",
       "4          2.0        40.0                               0   \n",
       "...        ...         ...                             ...   \n",
       "26015      0.0        20.0                               0   \n",
       "26016      2.0        40.0                               0   \n",
       "26017      1.0        30.0                               0   \n",
       "26018      1.0        30.0                               0   \n",
       "26019      2.0        40.0                               0   \n",
       "\n",
       "       race_ethnicity_Asian or Pacific Islander  race_ethnicity_Black  \\\n",
       "0                                             0                     1   \n",
       "1                                             0                     0   \n",
       "2                                             0                     0   \n",
       "3                                             0                     0   \n",
       "4                                             0                     1   \n",
       "...                                         ...                   ...   \n",
       "26015                                         0                     0   \n",
       "26016                                         0                     0   \n",
       "26017                                         0                     0   \n",
       "26018                                         0                     0   \n",
       "26019                                         0                     0   \n",
       "\n",
       "       race_ethnicity_Hispanic  race_ethnicity_White  crime_class_A Felony  \\\n",
       "0                            0                     0                     0   \n",
       "1                            0                     1                     0   \n",
       "2                            0                     1                     0   \n",
       "3                            0                     1                     0   \n",
       "4                            0                     0                     0   \n",
       "...                        ...                   ...                   ...   \n",
       "26015                        1                     0                     0   \n",
       "26016                        0                     1                     0   \n",
       "26017                        0                     1                     0   \n",
       "26018                        0                     1                     0   \n",
       "26019                        0                     1                     0   \n",
       "\n",
       "       crime_class_Aggravated Misdemeanor  crime_class_B Felony  ...  \\\n",
       "0                                       0                     0  ...   \n",
       "1                                       0                     0  ...   \n",
       "2                                       0                     1  ...   \n",
       "3                                       0                     1  ...   \n",
       "4                                       0                     0  ...   \n",
       "...                                   ...                   ...  ...   \n",
       "26015                                   0                     0  ...   \n",
       "26016                                   0                     0  ...   \n",
       "26017                                   1                     0  ...   \n",
       "26018                                   0                     0  ...   \n",
       "26019                                   0                     0  ...   \n",
       "\n",
       "       super_dist_6JD  super_dist_7JD  super_dist_8JD  super_dist_ISC  \\\n",
       "0                   0               1               0               0   \n",
       "1                   0               0               0               0   \n",
       "2                   0               0               0               0   \n",
       "3                   1               0               0               0   \n",
       "4                   0               0               0               0   \n",
       "...               ...             ...             ...             ...   \n",
       "26015               0               0               0               0   \n",
       "26016               1               0               0               0   \n",
       "26017               0               0               0               0   \n",
       "26018               0               0               0               0   \n",
       "26019               0               0               0               0   \n",
       "\n",
       "       super_dist_Interstate Compact  super_dist_Missing  target_pop_No  \\\n",
       "0                                  0                   0              0   \n",
       "1                                  0                   1              1   \n",
       "2                                  0                   0              0   \n",
       "3                                  0                   0              0   \n",
       "4                                  0                   1              1   \n",
       "...                              ...                 ...            ...   \n",
       "26015                              0                   1              0   \n",
       "26016                              0                   0              1   \n",
       "26017                              0                   0              1   \n",
       "26018                              0                   0              0   \n",
       "26019                              0                   1              0   \n",
       "\n",
       "       target_pop_Yes  sex_Female  sex_Male  \n",
       "0                   1           0         1  \n",
       "1                   0           0         1  \n",
       "2                   1           0         1  \n",
       "3                   1           0         1  \n",
       "4                   0           0         1  \n",
       "...               ...         ...       ...  \n",
       "26015               1           0         1  \n",
       "26016               0           0         1  \n",
       "26017               0           1         0  \n",
       "26018               1           0         1  \n",
       "26019               1           0         1  \n",
       "\n",
       "[25965 rows x 74 columns]"
      ]
     },
     "execution_count": 24,
     "metadata": {},
     "output_type": "execute_result"
    }
   ],
   "source": [
    "y = df.pop('recidivist_Yes')\n",
    "df"
   ]
  },
  {
   "cell_type": "code",
   "execution_count": 25,
   "metadata": {
    "ExecuteTime": {
     "end_time": "2020-04-11T18:56:22.817495Z",
     "start_time": "2020-04-11T18:56:22.809191Z"
    }
   },
   "outputs": [],
   "source": [
    "from sklearn.model_selection import train_test_split\n",
    "\n",
    "## Train test split\n",
    "X_train, X_test, y_train,y_test  = train_test_split(df,y,test_size=.3)"
   ]
  },
  {
   "cell_type": "markdown",
   "metadata": {},
   "source": [
    "## ADDRESSING IMBALANCED CLASSES\n",
    "\n",
    "- Downsample/undersampling to match minority class.\n",
    "- Synthetic Minority Over Sampling Technique (SMOTE)\n",
    "-  Adaptive Synthetic (ADASYN)\n",
    "<img src=\"https://raw.githubusercontent.com/jirvingphd/fsds_100719_cohort_notes/master/Flashcards/Downsampling_web.png\" width=10%>"
   ]
  },
  {
   "cell_type": "code",
   "execution_count": 26,
   "metadata": {
    "ExecuteTime": {
     "end_time": "2020-04-11T18:56:22.824711Z",
     "start_time": "2020-04-11T18:56:22.818698Z"
    }
   },
   "outputs": [
    {
     "data": {
      "text/plain": [
       "0    0.666355\n",
       "1    0.333645\n",
       "Name: recidivist_Yes, dtype: float64"
      ]
     },
     "execution_count": 26,
     "metadata": {},
     "output_type": "execute_result"
    }
   ],
   "source": [
    "## Check class\n",
    "y_train.value_counts(normalize=True)"
   ]
  },
  {
   "cell_type": "code",
   "execution_count": 27,
   "metadata": {
    "ExecuteTime": {
     "end_time": "2020-04-11T18:56:25.235996Z",
     "start_time": "2020-04-11T18:56:22.825983Z"
    }
   },
   "outputs": [
    {
     "name": "stderr",
     "output_type": "stream",
     "text": [
      "Using TensorFlow backend.\n"
     ]
    }
   ],
   "source": [
    "from imblearn.over_sampling import SMOTE\n",
    "smote = SMOTE()\n",
    "X_train, y_train = smote.fit_sample(X_train, y_train)"
   ]
  },
  {
   "cell_type": "code",
   "execution_count": 28,
   "metadata": {
    "ExecuteTime": {
     "end_time": "2020-04-11T18:56:25.242894Z",
     "start_time": "2020-04-11T18:56:25.237352Z"
    }
   },
   "outputs": [
    {
     "data": {
      "text/plain": [
       "1    12111\n",
       "0    12111\n",
       "Name: recidivist_Yes, dtype: int64"
      ]
     },
     "execution_count": 28,
     "metadata": {},
     "output_type": "execute_result"
    }
   ],
   "source": [
    "pd.Series(y_train).value_counts()"
   ]
  },
  {
   "cell_type": "markdown",
   "metadata": {
    "slideshow": {
     "slide_type": "slide"
    }
   },
   "source": [
    "## Defining the Problem & Fitting a Decision Tree\n",
    "\n",
    "Now, import the necessary packages and fit a decision tree to predict whether or not a mushroom is poisonous (this is stored under the 'class' feature as 'e' for edible, or 'p' for poisonous."
   ]
  },
  {
   "cell_type": "markdown",
   "metadata": {},
   "source": [
    "### Functions from Prior Classes"
   ]
  },
  {
   "cell_type": "code",
   "execution_count": 29,
   "metadata": {
    "ExecuteTime": {
     "end_time": "2020-04-11T18:56:25.250516Z",
     "start_time": "2020-04-11T18:56:25.244146Z"
    }
   },
   "outputs": [],
   "source": [
    "## Write a fucntion to evalute the model\n",
    "import sklearn.metrics as metrics\n",
    "\n",
    "def evaluate_model(y_true, y_pred,X_true,clf):\n",
    "    \n",
    "    ## Classification Report / Scores \n",
    "    print(metrics.classification_report(y_true,y_pred))\n",
    "\n",
    "    fig, ax = plt.subplots(figsize=(10,4),ncols=2)\n",
    "    metrics.plot_confusion_matrix(clf,X_true,y_true,cmap=\"Greens\",\n",
    "                                  normalize='true',ax=ax[0])\n",
    "    ax[0].set(title='Confusion Matrix')\n",
    "    y_score = clf.predict_proba(X_true)[:,1]\n",
    "\n",
    "    fpr,tpr,thresh = metrics.roc_curve(y_true,y_score)\n",
    "    # print(f\"ROC-area-under-the-curve= {}\")\n",
    "    roc_auc = round(metrics.auc(fpr,tpr),3)\n",
    "    ax[1].plot(fpr,tpr,color='darkorange',label=f'ROC Curve (AUC={roc_auc})')\n",
    "    ax[1].plot([0,1],[0,1],ls=':')\n",
    "    ax[1].legend()\n",
    "    ax[1].grid()\n",
    "    ax[1].set(ylabel='True Positive Rate',xlabel='False Positive Rate',\n",
    "          title='Receiver operating characteristic (ROC) Curve')\n",
    "    plt.tight_layout()\n",
    "    plt.show()\n",
    "    try: \n",
    "        df_important = plot_importance(clf)\n",
    "    except:\n",
    "        df_important = None\n",
    "    \n",
    "#     return df_important"
   ]
  },
  {
   "cell_type": "markdown",
   "metadata": {},
   "source": [
    "## Vanilla DecisionTree (baseline)"
   ]
  },
  {
   "cell_type": "code",
   "execution_count": 30,
   "metadata": {
    "ExecuteTime": {
     "end_time": "2020-04-11T18:56:25.255078Z",
     "start_time": "2020-04-11T18:56:25.252261Z"
    }
   },
   "outputs": [],
   "source": [
    "from sklearn.tree import DecisionTreeClassifier\n",
    "tree = DecisionTreeClassifier(max_depth=5) # setting max_depth=5 for visualization"
   ]
  },
  {
   "cell_type": "code",
   "execution_count": 31,
   "metadata": {
    "ExecuteTime": {
     "end_time": "2020-04-11T18:56:25.303722Z",
     "start_time": "2020-04-11T18:56:25.256753Z"
    }
   },
   "outputs": [
    {
     "data": {
      "text/plain": [
       "DecisionTreeClassifier(ccp_alpha=0.0, class_weight=None, criterion='gini',\n",
       "                       max_depth=5, max_features=None, max_leaf_nodes=None,\n",
       "                       min_impurity_decrease=0.0, min_impurity_split=None,\n",
       "                       min_samples_leaf=1, min_samples_split=2,\n",
       "                       min_weight_fraction_leaf=0.0, presort='deprecated',\n",
       "                       random_state=None, splitter='best')"
      ]
     },
     "execution_count": 31,
     "metadata": {},
     "output_type": "execute_result"
    }
   ],
   "source": [
    "tree.fit(X_train,y_train)"
   ]
  },
  {
   "cell_type": "code",
   "execution_count": 32,
   "metadata": {
    "ExecuteTime": {
     "end_time": "2020-04-11T18:56:25.309646Z",
     "start_time": "2020-04-11T18:56:25.304837Z"
    },
    "scrolled": true
   },
   "outputs": [
    {
     "data": {
      "text/plain": [
       "crime_subtype_Prostitution/Pimping    0.000000\n",
       "super_dist_5JD                        0.000000\n",
       "crime_subtype_Other Drug              0.000000\n",
       "crime_subtype_Other Public Order      0.000000\n",
       "crime_subtype_Other Violent           0.000000\n",
       "                                        ...   \n",
       "target_pop_Yes                        0.048614\n",
       "age_enc                               0.071592\n",
       "super_dist_Interstate Compact         0.080188\n",
       "super_dist_ISC                        0.094668\n",
       "super_dist_Missing                    0.489954\n",
       "Name: Importance, Length: 74, dtype: float64"
      ]
     },
     "execution_count": 32,
     "metadata": {},
     "output_type": "execute_result"
    }
   ],
   "source": [
    "df_import = pd.Series(tree.feature_importances_, index = X_train.columns,name='Importance')\n",
    "df_import.sort_values()"
   ]
  },
  {
   "cell_type": "code",
   "execution_count": 33,
   "metadata": {
    "ExecuteTime": {
     "end_time": "2020-04-11T18:56:25.312443Z",
     "start_time": "2020-04-11T18:56:25.310779Z"
    }
   },
   "outputs": [],
   "source": [
    "# df_import.sort_values(ascending=True).tail(10).plot(kind='barh',figsize=(12,10))"
   ]
  },
  {
   "cell_type": "code",
   "execution_count": 34,
   "metadata": {
    "ExecuteTime": {
     "end_time": "2020-04-11T18:56:25.499144Z",
     "start_time": "2020-04-11T18:56:25.313627Z"
    }
   },
   "outputs": [
    {
     "data": {
      "image/png": "[encoded data removed]",
      "text/plain": [
       "<Figure size 720x720 with 1 Axes>"
      ]
     },
     "metadata": {
      "needs_background": "light"
     },
     "output_type": "display_data"
    }
   ],
   "source": [
    "def plot_importance(tree, top_n=10,figsize=(10,10)):\n",
    "    df_importance = pd.Series(tree.feature_importances_,index=X_train.columns)\n",
    "    df_importance.sort_values(ascending=True).tail(top_n).plot(\n",
    "        kind='barh',figsize=figsize)\n",
    "    return df_importance\n",
    "plot_importance(tree);"
   ]
  },
  {
   "cell_type": "code",
   "execution_count": 35,
   "metadata": {
    "ExecuteTime": {
     "end_time": "2020-04-11T18:56:25.506123Z",
     "start_time": "2020-04-11T18:56:25.500197Z"
    }
   },
   "outputs": [],
   "source": [
    "## Write a fucntion to evalute the model\n",
    "import sklearn.metrics as metrics\n",
    "\n",
    "def evaluate_model(y_true, y_pred,X_true,clf):\n",
    "    \n",
    "    ## Classification Report / Scores \n",
    "    print(metrics.classification_report(y_true,y_pred))\n",
    "\n",
    "    fig, ax = plt.subplots(figsize=(12,6),ncols=2)\n",
    "    metrics.plot_confusion_matrix(clf,X_true,y_true,cmap=\"Greens\",\n",
    "                                  normalize='true',ax=ax[0])\n",
    "    ax[0].set(title='Confusion Matrix')\n",
    "    y_score = clf.predict_proba(X_true)[:,1]\n",
    "\n",
    "    fpr,tpr,thresh = metrics.roc_curve(y_true,y_score)\n",
    "    # print(f\"ROC-area-under-the-curve= {}\")\n",
    "    roc_auc = round(metrics.auc(fpr,tpr),3)\n",
    "    ax[1].plot(fpr,tpr,color='darkorange',label=f'AUC={roc_auc}')\n",
    "    ax[1].plot([0,1],[0,1],ls=':')\n",
    "    ax[1].legend()\n",
    "    ax[1].grid()\n",
    "    ax[1].set(ylabel='True Positive Rate',xlabel='False Positive Rate',\n",
    "          title='Receiver operating characteristic (ROC) Curve')\n",
    "    plt.tight_layout()\n",
    "    plt.show()\n",
    "    try: \n",
    "        df_important = plot_importance(clf)\n",
    "    except:\n",
    "        df_important = None\n",
    "    "
   ]
  },
  {
   "cell_type": "code",
   "execution_count": 36,
   "metadata": {
    "ExecuteTime": {
     "end_time": "2020-04-11T18:56:26.094320Z",
     "start_time": "2020-04-11T18:56:25.507428Z"
    }
   },
   "outputs": [
    {
     "name": "stdout",
     "output_type": "stream",
     "text": [
      "              precision    recall  f1-score   support\n",
      "\n",
      "           0       0.78      0.54      0.64      5179\n",
      "           1       0.43      0.69      0.53      2611\n",
      "\n",
      "    accuracy                           0.59      7790\n",
      "   macro avg       0.60      0.62      0.58      7790\n",
      "weighted avg       0.66      0.59      0.60      7790\n",
      "\n"
     ]
    },
    {
     "data": {
      "image/png": "[encoded data removed]",
      "text/plain": [
       "<Figure size 864x432 with 3 Axes>"
      ]
     },
     "metadata": {
      "needs_background": "light"
     },
     "output_type": "display_data"
    },
    {
     "data": {
      "image/png": "[encoded data removed]",
      "text/plain": [
       "<Figure size 720x720 with 1 Axes>"
      ]
     },
     "metadata": {
      "needs_background": "light"
     },
     "output_type": "display_data"
    }
   ],
   "source": [
    "## Get Precitions\n",
    "y_hat_test = tree.predict(X_test)\n",
    "\n",
    "\n",
    "#     return df_important\n",
    "evaluate_model(y_test,y_hat_test,X_test,tree)"
   ]
  },
  {
   "cell_type": "code",
   "execution_count": 37,
   "metadata": {
    "ExecuteTime": {
     "end_time": "2020-04-11T18:56:26.100577Z",
     "start_time": "2020-04-11T18:56:26.095718Z"
    }
   },
   "outputs": [],
   "source": [
    "## visualize the decision tree\n",
    "def visualize_tree(tree,feature_names=None,class_names=['0','1'],\n",
    "                   kws={},save_filename=None,format_='png',save_and_show=False):\n",
    "    \"\"\"Visualizes a sklearn tree using sklearn.tree.export_graphviz\"\"\"\n",
    "    from sklearn.tree import export_graphviz\n",
    "    from IPython.display import SVG\n",
    "    import graphviz #import Source\n",
    "    from IPython.display import display\n",
    "    \n",
    "    if feature_names is None:\n",
    "        feature_names=X_train.columns\n",
    "\n",
    "    tree_viz_kws =  dict(out_file=None,rounded=True, rotate=False, filled = True)\n",
    "    tree_viz_kws.update(kws)\n",
    "\n",
    "    # tree.export_graphviz(dt) #if you wish to save the output to a dot file instead\n",
    "    tree_data=export_graphviz(tree,feature_names=feature_names, \n",
    "                                   class_names=class_names,**tree_viz_kws)\n",
    "    graph = graphviz.Source(tree_data,format=format_)#'png')\n",
    "    \n",
    "    if save_filename is not None:\n",
    "        graph.render(save_filename)\n",
    "        if save_and_show:\n",
    "            display(graph)\n",
    "        else:\n",
    "            print(f'[i] Tree saved as {save_filename}.{format_}')\n",
    "\n",
    "#     display(SVG(graph.pipe(format=format_)))#'svg')))"
   ]
  },
  {
   "cell_type": "code",
   "execution_count": 38,
   "metadata": {
    "ExecuteTime": {
     "end_time": "2020-04-11T18:56:26.116173Z",
     "start_time": "2020-04-11T18:56:26.101948Z"
    },
    "scrolled": false
   },
   "outputs": [],
   "source": [
    "visualize_tree(tree,feature_names=X_train.columns)"
   ]
  },
  {
   "cell_type": "markdown",
   "metadata": {},
   "source": [
    "# Prisoners Continued.."
   ]
  },
  {
   "cell_type": "code",
   "execution_count": 39,
   "metadata": {
    "ExecuteTime": {
     "end_time": "2020-04-11T18:56:26.120165Z",
     "start_time": "2020-04-11T18:56:26.117310Z"
    }
   },
   "outputs": [],
   "source": [
    "from sklearn.model_selection import train_test_split, GridSearchCV, RandomizedSearchCV\n",
    "from sklearn.preprocessing import MinMaxScaler, StandardScaler,LabelEncoder, OneHotEncoder, LabelBinarizer\n",
    "from sklearn.ensemble import AdaBoostClassifier,RandomForestClassifier,BaggingClassifier\n",
    "\n",
    "import sklearn.metrics as metrics"
   ]
  },
  {
   "cell_type": "markdown",
   "metadata": {},
   "source": [
    "## GridSearchCV with DecisionTreeClassifier"
   ]
  },
  {
   "cell_type": "markdown",
   "metadata": {},
   "source": [
    "- Q: what decisions did we make last time that we want to change? \n",
    "    -  \n",
    "- Q: what columns should we exclude from our analysis?\n",
    "    -  "
   ]
  },
  {
   "cell_type": "markdown",
   "metadata": {},
   "source": [
    "## Vanilla DT"
   ]
  },
  {
   "cell_type": "code",
   "execution_count": 40,
   "metadata": {
    "ExecuteTime": {
     "end_time": "2020-04-11T18:56:26.243174Z",
     "start_time": "2020-04-11T18:56:26.121695Z"
    }
   },
   "outputs": [
    {
     "data": {
      "text/plain": [
       "DecisionTreeClassifier(ccp_alpha=0.0, class_weight=None, criterion='gini',\n",
       "                       max_depth=None, max_features=None, max_leaf_nodes=None,\n",
       "                       min_impurity_decrease=0.0, min_impurity_split=None,\n",
       "                       min_samples_leaf=1, min_samples_split=2,\n",
       "                       min_weight_fraction_leaf=0.0, presort='deprecated',\n",
       "                       random_state=None, splitter='best')"
      ]
     },
     "execution_count": 40,
     "metadata": {},
     "output_type": "execute_result"
    }
   ],
   "source": [
    "## import DTC\n",
    "from sklearn.tree import DecisionTreeClassifier\n",
    "\n",
    "## Fit a vanilla DecisionTreeClassifier\n",
    "tree = DecisionTreeClassifier()\n",
    "tree.fit(X_train, y_train)"
   ]
  },
  {
   "cell_type": "code",
   "execution_count": 41,
   "metadata": {
    "ExecuteTime": {
     "end_time": "2020-04-11T18:56:26.772993Z",
     "start_time": "2020-04-11T18:56:26.244238Z"
    }
   },
   "outputs": [
    {
     "name": "stdout",
     "output_type": "stream",
     "text": [
      "              precision    recall  f1-score   support\n",
      "\n",
      "           0       0.71      0.70      0.71      5179\n",
      "           1       0.42      0.43      0.43      2611\n",
      "\n",
      "    accuracy                           0.61      7790\n",
      "   macro avg       0.57      0.57      0.57      7790\n",
      "weighted avg       0.61      0.61      0.61      7790\n",
      "\n"
     ]
    },
    {
     "data": {
      "image/png": "[encoded data removed]",
      "text/plain": [
       "<Figure size 864x432 with 3 Axes>"
      ]
     },
     "metadata": {
      "needs_background": "light"
     },
     "output_type": "display_data"
    },
    {
     "data": {
      "image/png": "[encoded data removed]",
      "text/plain": [
       "<Figure size 720x720 with 1 Axes>"
      ]
     },
     "metadata": {
      "needs_background": "light"
     },
     "output_type": "display_data"
    }
   ],
   "source": [
    "## Get Precitions\n",
    "y_hat_test = tree.predict(X_test)\n",
    "\n",
    "## evaluate model\n",
    "evaluate_model(y_test,y_hat_test,X_test,tree)\n"
   ]
  },
  {
   "cell_type": "code",
   "execution_count": 42,
   "metadata": {
    "ExecuteTime": {
     "end_time": "2020-04-11T18:57:00.681333Z",
     "start_time": "2020-04-11T18:56:26.774468Z"
    },
    "scrolled": false
   },
   "outputs": [
    {
     "name": "stderr",
     "output_type": "stream",
     "text": [
      "dot: graph is too large for cairo-renderer bitmaps. Scaling by 0.111638 to fit\n"
     ]
    },
    {
     "name": "stdout",
     "output_type": "stream",
     "text": [
      "[i] Tree saved as vanilla_tree.png\n"
     ]
    }
   ],
   "source": [
    "## visualize tree\n",
    "visualize_tree(tree,X_train.columns,save_filename='vanilla_tree')"
   ]
  },
  {
   "cell_type": "markdown",
   "metadata": {},
   "source": [
    "### Hyperparameters\n",
    "- Useful to consider to make sure you don't overfit or underfit\n",
    "\n",
    "Check out the scikit-learn documentation: https://scikit-learn.org/stable/modules/generated/sklearn.tree.DecisionTreeClassifier.html"
   ]
  },
  {
   "cell_type": "markdown",
   "metadata": {},
   "source": [
    "- `max-depth`\n",
    "- `min_samples_leaf`: The smallest number of samples that can be in a leaf (node)\n",
    "- `min_samples_split`: The smallest number of samples in a leaf (node) before splitting it\n",
    "- `max_features`: Most features to consider when splitting"
   ]
  },
  {
   "cell_type": "code",
   "execution_count": 43,
   "metadata": {
    "ExecuteTime": {
     "end_time": "2020-04-11T18:57:00.690808Z",
     "start_time": "2020-04-11T18:57:00.683412Z"
    }
   },
   "outputs": [],
   "source": [
    "class Timer():\n",
    "    def __init__(self, start=True,time_fmt='%m/%d/%y - %T'):\n",
    "        import tzlocal\n",
    "        import datetime as dt\n",
    "        \n",
    "        self.tz = tzlocal.get_localzone()\n",
    "        self.fmt= time_fmt\n",
    "        self._created = dt.datetime.now(tz=self.tz)\n",
    "        \n",
    "        if start:\n",
    "            self.start()\n",
    "            \n",
    "    def get_time(self):\n",
    "        import datetime as dt\n",
    "        return dt.datetime.now(tz=self.tz)\n",
    "\n",
    "        \n",
    "    def start(self,verbose=True):\n",
    "        self._laps_completed = 0\n",
    "        self.start = self.get_time()\n",
    "        if verbose: \n",
    "            print(f'[i] Timer started at {self.start.strftime(self.fmt)}')\n",
    "    \n",
    "    def stop(self, verbose=True):\n",
    "        self._laps_completed += 1\n",
    "        self.end = self.get_time()\n",
    "        self.elapsed = self.end -  self.start\n",
    "        if verbose: \n",
    "            print(f'[i] Timer stopped at {self.end.strftime(self.fmt)}')\n",
    "            print(f'  - Total Time: {self.elapsed}')"
   ]
  },
  {
   "cell_type": "code",
   "execution_count": 44,
   "metadata": {
    "ExecuteTime": {
     "end_time": "2020-04-11T18:57:00.696980Z",
     "start_time": "2020-04-11T18:57:00.692304Z"
    }
   },
   "outputs": [],
   "source": [
    "from sklearn.model_selection import GridSearchCV,RandomizedSearchCV\n",
    "from sklearn.tree import DecisionTreeClassifier\n",
    "## Set up param grid\n",
    "grid = {'max_depth': [3,5,10,15,None],\n",
    "     'criterion': ['gini','entropy'],\n",
    "     'min_samples_split':[2,3,4],\n",
    "     'min_samples_leaf':[1,2,3],\n",
    "       'max_features': [3,5,10,30,70]}#10,20,50,len(X.columns)]}\n",
    "\n",
    "\n",
    "## Instantiate classifier\n",
    "dt_clf = DecisionTreeClassifier()\n",
    "\n",
    "\n",
    "## Instantiate GridSearchCV\n",
    "gridsearch = GridSearchCV(dt_clf, param_grid=grid,cv=5)"
   ]
  },
  {
   "cell_type": "code",
   "execution_count": 45,
   "metadata": {
    "ExecuteTime": {
     "end_time": "2020-04-11T18:58:21.433736Z",
     "start_time": "2020-04-11T18:57:00.698647Z"
    }
   },
   "outputs": [
    {
     "name": "stdout",
     "output_type": "stream",
     "text": [
      "[i] Timer started at 04/11/20 - 14:57:00\n",
      "[i] Timer stopped at 04/11/20 - 14:58:21\n",
      "  - Total Time: 0:01:20.728660\n",
      "{'criterion': 'gini', 'max_depth': None, 'max_features': 70, 'min_samples_leaf': 1, 'min_samples_split': 2}\n"
     ]
    }
   ],
   "source": [
    "## Start timer and fit search\n",
    "timer = Timer()\n",
    "\n",
    "tree_cv = gridsearch.fit(X_train, y_train)\n",
    "timer.stop()\n",
    "\n",
    "## Stop time and print best params\n",
    "print(tree_cv.best_params_)"
   ]
  },
  {
   "cell_type": "code",
   "execution_count": 46,
   "metadata": {
    "ExecuteTime": {
     "end_time": "2020-04-11T18:58:22.147602Z",
     "start_time": "2020-04-11T18:58:21.435135Z"
    }
   },
   "outputs": [
    {
     "name": "stdout",
     "output_type": "stream",
     "text": [
      "              precision    recall  f1-score   support\n",
      "\n",
      "           0       0.71      0.71      0.71      5179\n",
      "           1       0.43      0.43      0.43      2611\n",
      "\n",
      "    accuracy                           0.62      7790\n",
      "   macro avg       0.57      0.57      0.57      7790\n",
      "weighted avg       0.62      0.62      0.62      7790\n",
      "\n"
     ]
    },
    {
     "data": {
      "image/png": "[encoded data removed]",
      "text/plain": [
       "<Figure size 864x432 with 3 Axes>"
      ]
     },
     "metadata": {
      "needs_background": "light"
     },
     "output_type": "display_data"
    },
    {
     "data": {
      "image/png": "[encoded data removed]",
      "text/plain": [
       "<Figure size 720x720 with 1 Axes>"
      ]
     },
     "metadata": {
      "needs_background": "light"
     },
     "output_type": "display_data"
    }
   ],
   "source": [
    "## Create a tree with the gridsearch's best params\n",
    "tree = DecisionTreeClassifier(**tree_cv.best_params_)\n",
    "tree.fit(X_train,y_train)\n",
    "\n",
    "## Get predictions for train and test\n",
    "y_hat_test = tree.predict(X_test)\n",
    "y_hat_train = tree.predict(X_train)\n",
    "\n",
    "evaluate_model(y_test,y_hat_test,X_test,tree)"
   ]
  },
  {
   "cell_type": "code",
   "execution_count": 47,
   "metadata": {
    "ExecuteTime": {
     "end_time": "2020-04-11T18:58:55.357391Z",
     "start_time": "2020-04-11T18:58:22.148749Z"
    }
   },
   "outputs": [
    {
     "name": "stdout",
     "output_type": "stream",
     "text": [
      "              precision    recall  f1-score   support\n",
      "\n",
      "           0       0.71      0.70      0.71      5179\n",
      "           1       0.43      0.43      0.43      2611\n",
      "\n",
      "    accuracy                           0.61      7790\n",
      "   macro avg       0.57      0.57      0.57      7790\n",
      "weighted avg       0.62      0.61      0.61      7790\n",
      "\n"
     ]
    },
    {
     "data": {
      "image/png": "[encoded data removed]",
      "text/plain": [
       "<Figure size 864x432 with 3 Axes>"
      ]
     },
     "metadata": {
      "needs_background": "light"
     },
     "output_type": "display_data"
    },
    {
     "name": "stderr",
     "output_type": "stream",
     "text": [
      "dot: graph is too large for cairo-renderer bitmaps. Scaling by 0.108328 to fit\n"
     ]
    },
    {
     "name": "stdout",
     "output_type": "stream",
     "text": [
      "[i] Tree saved as best_tree.png\n"
     ]
    },
    {
     "data": {
      "image/png": "[encoded data removed]",
      "text/plain": [
       "<Figure size 720x720 with 1 Axes>"
      ]
     },
     "metadata": {
      "needs_background": "light"
     },
     "output_type": "display_data"
    }
   ],
   "source": [
    "## Can also pull out best model\n",
    "model = tree_cv.best_estimator_\n",
    "model.fit(X_train,y_train)\n",
    "y_hat_test = model.predict(X_test)\n",
    "evaluate_model(y_test,y_hat_test,X_test,model)\n",
    "visualize_tree(model,save_filename='best_tree')\n"
   ]
  },
  {
   "cell_type": "markdown",
   "metadata": {},
   "source": [
    "### RandomizedSearchCV"
   ]
  },
  {
   "cell_type": "code",
   "execution_count": 48,
   "metadata": {
    "ExecuteTime": {
     "end_time": "2020-04-11T18:58:55.363054Z",
     "start_time": "2020-04-11T18:58:55.358741Z"
    }
   },
   "outputs": [],
   "source": [
    "from sklearn.model_selection import GridSearchCV,RandomizedSearchCV\n",
    "from sklearn.tree import DecisionTreeClassifier\n",
    "## Set up param grid\n",
    "grid = {'max_depth': [3,5,10,15,None],\n",
    "     'criterion': ['gini','entropy'],\n",
    "     'min_samples_split':[2,3,4],\n",
    "     'min_samples_leaf':[1,2,3],\n",
    "       'max_features': [3,5,10,30,70]}#10,20,50,len(X.columns)]}\n",
    "\n",
    "\n",
    "## Instantiate classifier\n",
    "dt_clf = DecisionTreeClassifier()\n",
    "\n",
    "\n",
    "## Instantiate GridSearchCV\n",
    "randomsearch = RandomizedSearchCV(dt_clf, param_distributions=grid,n_iter=100,cv=5)"
   ]
  },
  {
   "cell_type": "code",
   "execution_count": 49,
   "metadata": {
    "ExecuteTime": {
     "end_time": "2020-04-11T18:59:11.216733Z",
     "start_time": "2020-04-11T18:58:55.364600Z"
    }
   },
   "outputs": [
    {
     "name": "stdout",
     "output_type": "stream",
     "text": [
      "[i] Timer started at 04/11/20 - 14:58:55\n",
      "[i] Timer stopped at 04/11/20 - 14:59:11\n",
      "  - Total Time: 0:00:15.849157\n",
      "{'min_samples_split': 3, 'min_samples_leaf': 1, 'max_features': 70, 'max_depth': None, 'criterion': 'gini'}\n"
     ]
    }
   ],
   "source": [
    "## Start timer and fit search\n",
    "timer = Timer()\n",
    "\n",
    "tree_cv = randomsearch.fit(X_train, y_train)\n",
    "timer.stop()\n",
    "## Stop time and print best params\n",
    "print(tree_cv.best_params_)"
   ]
  },
  {
   "cell_type": "code",
   "execution_count": 50,
   "metadata": {
    "ExecuteTime": {
     "end_time": "2020-04-11T18:59:11.882996Z",
     "start_time": "2020-04-11T18:59:11.218278Z"
    }
   },
   "outputs": [
    {
     "name": "stdout",
     "output_type": "stream",
     "text": [
      "              precision    recall  f1-score   support\n",
      "\n",
      "           0       0.71      0.71      0.71      5179\n",
      "           1       0.43      0.42      0.42      2611\n",
      "\n",
      "    accuracy                           0.62      7790\n",
      "   macro avg       0.57      0.57      0.57      7790\n",
      "weighted avg       0.61      0.62      0.61      7790\n",
      "\n"
     ]
    },
    {
     "data": {
      "image/png": "[encoded data removed]",
      "text/plain": [
       "<Figure size 864x432 with 3 Axes>"
      ]
     },
     "metadata": {
      "needs_background": "light"
     },
     "output_type": "display_data"
    },
    {
     "data": {
      "image/png": "[encoded data removed]",
      "text/plain": [
       "<Figure size 720x720 with 1 Axes>"
      ]
     },
     "metadata": {
      "needs_background": "light"
     },
     "output_type": "display_data"
    }
   ],
   "source": [
    "## Create a tree with the gridsearch's best params\n",
    "tree = DecisionTreeClassifier(**tree_cv.best_params_)\n",
    "tree.fit(X_train,y_train)\n",
    "\n",
    "## Get predictions for train and test\n",
    "y_hat_test = tree.predict(X_test)\n",
    "evaluate_model(y_test,y_hat_test,X_test,tree)"
   ]
  },
  {
   "cell_type": "markdown",
   "metadata": {
    "slideshow": {
     "slide_type": "slide"
    }
   },
   "source": [
    "## Fitting a Set of Bagged Decision Trees\n",
    "\n",
    "### Bagging Algorithm\n",
    "\n",
    "- Take a sample of your X_train and fit a decision tree to it. <br/>\n",
    "- Replace the first batch of data and repeat. <br/>\n",
    "- When you've got as many trees as you like, make use of all your individual trees' predictions to come up with some holistic prediction. (Most obviously, we could take the average of our predictions, but there are other methods we might try.)\n",
    "\n",
    "<br/>\n",
    "\n",
    "- Because we're resampling our data with replacement, we're *bootstrapping*. <br/>\n",
    "- Because we're making use of our many samples' predictions, we're *aggregating*. <br/>\n",
    "- Because we're bootstrapping and aggregating all in the same algorithm, we're *bagging*."
   ]
  },
  {
   "cell_type": "code",
   "execution_count": 51,
   "metadata": {
    "ExecuteTime": {
     "end_time": "2020-04-11T18:59:11.886533Z",
     "start_time": "2020-04-11T18:59:11.884337Z"
    }
   },
   "outputs": [],
   "source": [
    "from sklearn.model_selection import train_test_split\n",
    "from sklearn.tree import DecisionTreeClassifier"
   ]
  },
  {
   "cell_type": "code",
   "execution_count": 52,
   "metadata": {
    "ExecuteTime": {
     "end_time": "2020-04-11T18:59:20.715018Z",
     "start_time": "2020-04-11T18:59:11.887928Z"
    },
    "slideshow": {
     "slide_type": "slide"
    }
   },
   "outputs": [
    {
     "name": "stdout",
     "output_type": "stream",
     "text": [
      "              precision    recall  f1-score   support\n",
      "\n",
      "           0       0.72      0.68      0.70      5179\n",
      "           1       0.43      0.48      0.46      2611\n",
      "\n",
      "    accuracy                           0.62      7790\n",
      "   macro avg       0.58      0.58      0.58      7790\n",
      "weighted avg       0.63      0.62      0.62      7790\n",
      "\n"
     ]
    },
    {
     "data": {
      "image/png": "[encoded data removed]",
      "text/plain": [
       "<Figure size 864x432 with 3 Axes>"
      ]
     },
     "metadata": {
      "needs_background": "light"
     },
     "output_type": "display_data"
    },
    {
     "name": "stdout",
     "output_type": "stream",
     "text": [
      "0.6154043645699615\n"
     ]
    }
   ],
   "source": [
    "## Import bagging classifier\n",
    "from sklearn.ensemble import BaggingClassifier\n",
    "\n",
    "## Fit Classifier and get predictions\n",
    "bag = BaggingClassifier(n_estimators=100)\n",
    "bag.fit(X_train, y_train)\n",
    "y_hat_test = bag.predict(X_test)\n",
    "\n",
    "## Evaluate Model\n",
    "evaluate_model(y_test,y_hat_test,X_test,bag)\n",
    "print(bag.score(X_test, y_test))"
   ]
  },
  {
   "cell_type": "code",
   "execution_count": null,
   "metadata": {
    "ExecuteTime": {
     "end_time": "2020-04-11T00:38:17.137096Z",
     "start_time": "2020-04-11T00:38:15.965034Z"
    }
   },
   "outputs": [],
   "source": []
  },
  {
   "cell_type": "markdown",
   "metadata": {
    "slideshow": {
     "slide_type": "slide"
    }
   },
   "source": [
    "That's a significant improvement in accuracy! Let's see if we can do even better.\n",
    "\n",
    "## Fitting a Random Forest\n",
    "\n",
    "### Random Forest Algorithm\n",
    "\n",
    "Let's add an extra layer of randomization: Instead of using *all* the features of my model to optimize a branch at each node, I'll just choose a subset of my features."
   ]
  },
  {
   "cell_type": "code",
   "execution_count": 53,
   "metadata": {
    "ExecuteTime": {
     "end_time": "2020-04-11T18:59:24.033344Z",
     "start_time": "2020-04-11T18:59:20.716384Z"
    },
    "slideshow": {
     "slide_type": "slide"
    }
   },
   "outputs": [
    {
     "name": "stdout",
     "output_type": "stream",
     "text": [
      "0.6182284980744545\n",
      "              precision    recall  f1-score   support\n",
      "\n",
      "           0       0.73      0.68      0.70      5179\n",
      "           1       0.44      0.50      0.47      2611\n",
      "\n",
      "    accuracy                           0.62      7790\n",
      "   macro avg       0.58      0.59      0.58      7790\n",
      "weighted avg       0.63      0.62      0.62      7790\n",
      "\n"
     ]
    },
    {
     "data": {
      "image/png": "[encoded data removed]",
      "text/plain": [
       "<Figure size 864x432 with 3 Axes>"
      ]
     },
     "metadata": {
      "needs_background": "light"
     },
     "output_type": "display_data"
    },
    {
     "data": {
      "image/png": "[encoded data removed]",
      "text/plain": [
       "<Figure size 720x720 with 1 Axes>"
      ]
     },
     "metadata": {
      "needs_background": "light"
     },
     "output_type": "display_data"
    }
   ],
   "source": [
    "## Import Random Forest\n",
    "from sklearn.ensemble import RandomForestClassifier\n",
    "\n",
    "## Fit Random Forest\n",
    "rf = RandomForestClassifier(n_estimators=100)\n",
    "rf.fit(X_train, y_train)\n",
    "print(rf.score(X_test, y_test))\n",
    "\n",
    "## Get predictions and evaluate model\n",
    "y_hat_test = rf.predict(X_test)\n",
    "evaluate_model(y_test,y_hat_test,X_test,rf)"
   ]
  },
  {
   "cell_type": "markdown",
   "metadata": {
    "slideshow": {
     "slide_type": "slide"
    }
   },
   "source": [
    "## Fitting a Stand of Extremely Randomized Trees\n",
    "\n",
    "### Extra Trees Algorithm\n",
    "\n",
    "Sometimes we might want even one more bit of randomization. Instead of always choosing the *optimal* branching path, we might just choose a branching path at random. If we're doing that, then we've got extremely randomized trees."
   ]
  },
  {
   "cell_type": "code",
   "execution_count": 54,
   "metadata": {
    "ExecuteTime": {
     "end_time": "2020-04-11T18:59:26.625121Z",
     "start_time": "2020-04-11T18:59:24.034294Z"
    },
    "slideshow": {
     "slide_type": "slide"
    }
   },
   "outputs": [
    {
     "data": {
      "text/plain": [
       "ExtraTreesClassifier(bootstrap=False, ccp_alpha=0.0, class_weight=None,\n",
       "                     criterion='gini', max_depth=None, max_features='auto',\n",
       "                     max_leaf_nodes=None, max_samples=None,\n",
       "                     min_impurity_decrease=0.0, min_impurity_split=None,\n",
       "                     min_samples_leaf=1, min_samples_split=2,\n",
       "                     min_weight_fraction_leaf=0.0, n_estimators=100,\n",
       "                     n_jobs=None, oob_score=False, random_state=None, verbose=0,\n",
       "                     warm_start=False)"
      ]
     },
     "execution_count": 54,
     "metadata": {},
     "output_type": "execute_result"
    }
   ],
   "source": [
    "## Import and fit an ExtraTreesClassifier\n",
    "from sklearn.ensemble import ExtraTreesClassifier\n",
    "et = ExtraTreesClassifier(n_estimators=100)\n",
    "et.fit(X_train, y_train)"
   ]
  },
  {
   "cell_type": "code",
   "execution_count": 55,
   "metadata": {
    "ExecuteTime": {
     "end_time": "2020-04-11T18:59:26.838986Z",
     "start_time": "2020-04-11T18:59:26.626205Z"
    },
    "slideshow": {
     "slide_type": "slide"
    }
   },
   "outputs": [
    {
     "data": {
      "text/plain": [
       "0.6202824133504493"
      ]
     },
     "execution_count": 55,
     "metadata": {},
     "output_type": "execute_result"
    }
   ],
   "source": [
    "et.score(X_test, y_test)"
   ]
  },
  {
   "cell_type": "code",
   "execution_count": 56,
   "metadata": {
    "ExecuteTime": {
     "end_time": "2020-04-11T18:59:28.094759Z",
     "start_time": "2020-04-11T18:59:26.840210Z"
    }
   },
   "outputs": [
    {
     "name": "stdout",
     "output_type": "stream",
     "text": [
      "              precision    recall  f1-score   support\n",
      "\n",
      "           0       0.71      0.71      0.71      5179\n",
      "           1       0.43      0.43      0.43      2611\n",
      "\n",
      "    accuracy                           0.62      7790\n",
      "   macro avg       0.57      0.57      0.57      7790\n",
      "weighted avg       0.62      0.62      0.62      7790\n",
      "\n"
     ]
    },
    {
     "data": {
      "image/png": "[encoded data removed]",
      "text/plain": [
       "<Figure size 864x432 with 3 Axes>"
      ]
     },
     "metadata": {
      "needs_background": "light"
     },
     "output_type": "display_data"
    },
    {
     "data": {
      "image/png": "[encoded data removed]",
      "text/plain": [
       "<Figure size 720x720 with 1 Axes>"
      ]
     },
     "metadata": {
      "needs_background": "light"
     },
     "output_type": "display_data"
    }
   ],
   "source": [
    "y_hat_test = et.predict(X_test)\n",
    "evaluate_model(y_test,y_hat_test,X_test,et)"
   ]
  },
  {
   "cell_type": "markdown",
   "metadata": {
    "slideshow": {
     "slide_type": "slide"
    }
   },
   "source": [
    "## GridSearch ExtraTrees"
   ]
  },
  {
   "cell_type": "code",
   "execution_count": 57,
   "metadata": {
    "ExecuteTime": {
     "end_time": "2020-04-11T18:59:28.098830Z",
     "start_time": "2020-04-11T18:59:28.096039Z"
    },
    "slideshow": {
     "slide_type": "slide"
    }
   },
   "outputs": [],
   "source": [
    "param_grid = {\n",
    "    'n_estimators': [30, 100, 300],\n",
    "    'min_samples_split': [2, 4, 6],\n",
    "    'min_samples_leaf': [2, 4, 6]\n",
    "}"
   ]
  },
  {
   "cell_type": "code",
   "execution_count": 58,
   "metadata": {
    "ExecuteTime": {
     "end_time": "2020-04-11T18:59:28.102545Z",
     "start_time": "2020-04-11T18:59:28.100489Z"
    },
    "slideshow": {
     "slide_type": "slide"
    }
   },
   "outputs": [],
   "source": [
    "# rs =RandomizedSearchCV(et, param_grid,10)\n",
    "# rs.fit(X_train, y_train)"
   ]
  },
  {
   "cell_type": "code",
   "execution_count": 59,
   "metadata": {
    "ExecuteTime": {
     "end_time": "2020-04-11T18:59:28.434862Z",
     "start_time": "2020-04-11T18:59:28.103578Z"
    },
    "slideshow": {
     "slide_type": "slide"
    }
   },
   "outputs": [
    {
     "ename": "NameError",
     "evalue": "name 'rs' is not defined",
     "output_type": "error",
     "traceback": [
      "\u001b[0;31m---------------------------------------------------------------------------\u001b[0m",
      "\u001b[0;31mNameError\u001b[0m                                 Traceback (most recent call last)",
      "\u001b[0;32m<ipython-input-59-b509e1569e2b>\u001b[0m in \u001b[0;36m<module>\u001b[0;34m\u001b[0m\n\u001b[0;32m----> 1\u001b[0;31m \u001b[0mrs\u001b[0m\u001b[0;34m.\u001b[0m\u001b[0mscore\u001b[0m\u001b[0;34m(\u001b[0m\u001b[0mX_test\u001b[0m\u001b[0;34m,\u001b[0m \u001b[0my_test\u001b[0m\u001b[0;34m)\u001b[0m\u001b[0;34m\u001b[0m\u001b[0;34m\u001b[0m\u001b[0m\n\u001b[0m\u001b[1;32m      2\u001b[0m \u001b[0;34m\u001b[0m\u001b[0m\n\u001b[1;32m      3\u001b[0m \u001b[0mrs\u001b[0m\u001b[0;34m.\u001b[0m\u001b[0mbest_params_\u001b[0m\u001b[0;34m\u001b[0m\u001b[0;34m\u001b[0m\u001b[0m\n",
      "\u001b[0;31mNameError\u001b[0m: name 'rs' is not defined"
     ]
    }
   ],
   "source": [
    "rs.score(X_test, y_test)\n",
    "\n",
    "rs.best_params_"
   ]
  },
  {
   "cell_type": "code",
   "execution_count": null,
   "metadata": {
    "ExecuteTime": {
     "end_time": "2020-04-11T18:59:28.436060Z",
     "start_time": "2020-04-11T18:56:16.129Z"
    },
    "slideshow": {
     "slide_type": "slide"
    }
   },
   "outputs": [],
   "source": [
    "gs = GridSearchCV(et, param_grid, cv=5)\n",
    "timer = Timer()\n",
    "# timer.start()\n",
    "gs.fit(X_train,y_train)\n",
    "timer.stop()"
   ]
  },
  {
   "cell_type": "code",
   "execution_count": null,
   "metadata": {
    "ExecuteTime": {
     "end_time": "2020-04-11T18:59:28.436823Z",
     "start_time": "2020-04-11T18:56:16.132Z"
    },
    "slideshow": {
     "slide_type": "slide"
    }
   },
   "outputs": [],
   "source": [
    "gs.score(X_test, y_test)\n",
    "\n",
    "gs.best_params_"
   ]
  },
  {
   "cell_type": "code",
   "execution_count": null,
   "metadata": {
    "ExecuteTime": {
     "end_time": "2020-04-11T18:59:28.437413Z",
     "start_time": "2020-04-11T18:56:16.134Z"
    }
   },
   "outputs": [],
   "source": [
    "et = ExtraTreesClassifier(**gs.best_params_)\n",
    "et.fit(X_train,y_train)\n",
    "y_hat_test = et.predict(X_test)"
   ]
  },
  {
   "cell_type": "code",
   "execution_count": null,
   "metadata": {
    "ExecuteTime": {
     "end_time": "2020-04-11T18:59:28.438628Z",
     "start_time": "2020-04-11T18:56:16.137Z"
    }
   },
   "outputs": [],
   "source": [
    "evaluate_model(y_test,y_hat_test,X_test,et)"
   ]
  },
  {
   "cell_type": "markdown",
   "metadata": {},
   "source": [
    "## XGBoost"
   ]
  },
  {
   "cell_type": "code",
   "execution_count": null,
   "metadata": {
    "ExecuteTime": {
     "end_time": "2020-04-11T18:59:28.439351Z",
     "start_time": "2020-04-11T18:56:16.140Z"
    }
   },
   "outputs": [],
   "source": [
    "from xgboost import XGBClassifier,XGBRFClassifier\n",
    "\n",
    "xgb_rf = XGBRFClassifier()\n",
    "xgb_rf.fit(X_train, y_train)\n",
    "print(xgb_rf.score(X_test,y_test))\n",
    "\n",
    "y_hat_test = xgb_rf.predict(X_test)\n",
    "\n",
    "evaluate_model(y_test,y_hat_test,X_test,xgb_rf)"
   ]
  },
  {
   "cell_type": "code",
   "execution_count": null,
   "metadata": {
    "ExecuteTime": {
     "end_time": "2020-04-11T18:59:28.440116Z",
     "start_time": "2020-04-11T18:56:16.142Z"
    }
   },
   "outputs": [],
   "source": [
    "xgbrf_grid = {'colsample_bynode': 0.8, 'learning_rate': 1,\n",
    "              'max_depth': 5, 'num_parallel_tree': 100, \n",
    "              'objective': 'binary:logistic', 'subsample': 0.8}\n",
    "\n",
    "xrf_clf = XGBRFClassifier(**xgbrf_grid)"
   ]
  },
  {
   "cell_type": "code",
   "execution_count": null,
   "metadata": {
    "ExecuteTime": {
     "end_time": "2020-04-11T18:59:28.440952Z",
     "start_time": "2020-04-11T18:56:16.144Z"
    }
   },
   "outputs": [],
   "source": [
    "xrf_clf.fit(X_train,y_train)"
   ]
  },
  {
   "cell_type": "code",
   "execution_count": null,
   "metadata": {
    "ExecuteTime": {
     "end_time": "2020-04-11T18:59:28.442052Z",
     "start_time": "2020-04-11T18:56:16.146Z"
    }
   },
   "outputs": [],
   "source": [
    "y_hat_test = xrf_clf.predict(X_test)\n",
    "\n",
    "evaluate_model(y_test,y_hat_test,X_test,xrf_clf)"
   ]
  },
  {
   "cell_type": "markdown",
   "metadata": {},
   "source": [
    "# APPENDIX"
   ]
  },
  {
   "cell_type": "code",
   "execution_count": null,
   "metadata": {},
   "outputs": [],
   "source": []
  },
  {
   "cell_type": "code",
   "execution_count": null,
   "metadata": {
    "ExecuteTime": {
     "end_time": "2020-04-11T18:59:28.442858Z",
     "start_time": "2020-04-11T18:56:16.150Z"
    },
    "code_folding": []
   },
   "outputs": [],
   "source": [
    "# # Create the pipeline\n",
    "# pipetree = Pipeline([('enc',LabelEncoder()),\n",
    "#                      ('ohe',OneHotEncoder()),\n",
    "#                     ('dt',DecisionTreeClassifier())])\n",
    "\n",
    "# # pipe = Pipeline([('scl', MinMaxScaler()),\n",
    "# #                 ('pca', PCA(n_components=10)),\n",
    "# #                 ('svm', svm.SVC(random_state=123))])\n",
    "\n",
    "# # Create the grid parameter\n",
    "# grid = {'dt__max_depth': [3,5,10],\n",
    "#      'dt__criterion': ['gini','entropy'],\n",
    "#      'dt__min_samples_split':[2,5,10],\n",
    "#      'dt__min_samples_leaf':[1,2,3]}\n",
    "# @timeit\n",
    "# def timed_search(pipe=pipetree, grid=grid):\n",
    "#     randomsearch = RandomizedSearchCV(estimator=pipe,param_distributions=grid,verbose=1)\n",
    "\n",
    "#     randomsearch.fit(X_train, y_train)\n",
    "#     return randomsearch\n",
    "# # # Create the grid parameter\n",
    "# # grid = [{'svm__kernel': ['poly', 'sigmoid'],\n",
    "# #          'svm__C': [0.01, 1, 100],\n",
    "# #          'svm__degree0': [2,3,4,5],\n",
    "# #          'svm__gamma': [0.001, 0.01]}]\n",
    "\n",
    "# # # Create the grid, with \"pipe\" as the estimator\n",
    "# # gridsearch = GridSearchCV(estimator=pipe,\n",
    "# #                   param_grid=grid,\n",
    "# #                   scoring='accuracy',\n",
    "# #                   cv=3)\n",
    "\n",
    "# # Fit using grid search\n",
    "# # gridsearch.fit(X_train, y_train)"
   ]
  }
 ],
 "metadata": {
  "celltoolbar": "Slideshow",
  "kernelspec": {
   "display_name": "Python [conda env:learn-env] *",
   "language": "python",
   "name": "conda-env-learn-env-py"
  },
  "language_info": {
   "codemirror_mode": {
    "name": "ipython",
    "version": 3
   },
   "file_extension": ".py",
   "mimetype": "text/x-python",
   "name": "python",
   "nbconvert_exporter": "python",
   "pygments_lexer": "ipython3",
   "version": "3.6.9"
  },
  "toc": {
   "base_numbering": 1,
   "nav_menu": {},
   "number_sections": false,
   "sideBar": true,
   "skip_h1_title": false,
   "title_cell": "Table of Contents",
   "title_sidebar": "Contents",
   "toc_cell": false,
   "toc_position": {
    "height": "calc(100% - 180px)",
    "left": "10px",
    "top": "150px",
    "width": "232.727px"
   },
   "toc_section_display": true,
   "toc_window_display": true
  }
 },
 "nbformat": 4,
 "nbformat_minor": 2
}
